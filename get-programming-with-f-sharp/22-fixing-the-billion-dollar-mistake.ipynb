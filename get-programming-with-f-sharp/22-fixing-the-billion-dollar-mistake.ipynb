{
 "cells": [
  {
   "cell_type": "markdown",
   "metadata": {},
   "source": [
    "# Get Programming with F# by [Isaac Abraham](https://github.com/isaacabraham)\n",
    "\n",
    "## “Fixing the billion-dollar mistake”\n",
    "\n",
    "The post-2018 news for the handling of nulls in C# is that _null parameter checking_ (or _Parameter Null Checking_) is still [a proposal](https://github.com/dotnet/csharplang/blob/main/proposals/param-nullchecking.md): it did not make it to C# 10. This proposed feature is on top of other null-related features in C# such as:\n",
    "\n",
    "- “`!` (null-forgiving) operator” [📖 [docs](https://docs.microsoft.com/en-us/dotnet/csharp/language-reference/operators/null-forgiving)]\n",
    "- “Nullable reference types” [📖 [docs](https://docs.microsoft.com/en-us/dotnet/csharp/nullable-references)]\n",
    "- “`??` and `??=` operators” [📖 [docs](https://docs.microsoft.com/en-us/dotnet/csharp/language-reference/operators/null-coalescing-operator)]\n",
    "- “Null-conditional operators `?.` and `?[]`” [📖 [docs](https://docs.microsoft.com/en-us/dotnet/csharp/language-reference/operators/member-access-operators#null-conditional-operators--and-)]\n",
    "- “Nullable value types” [📖 [docs](https://docs.microsoft.com/en-us/dotnet/csharp/language-reference/builtin-types/nullable-value-types)]\n",
    "\n",
    ">Even members of the C# complier team have said that they regret putting null into the language. The problem is that now it’s in, it’s almost impossible to remove. …The simple truth is that the .NET type system itself isn’t geared toward allowing us to easily and consistently reason about mandatory and optional data.\n",
    "\n",
    "In the world of C#, there is a project called _Optional_ [[GitHub](https://github.com/nlkl/Optional)] [📦 [NuGet](https://www.nuget.org/packages/Optional/)] led by [Nils Lück](https://www.linkedin.com/in/nils-l%C3%BCck-a2258358/?originalSubdomain=dk). The name of this C# project is clearly a direct reference to what is built from the ground up in F#: the `Option` type [📖 [docs](https://docs.microsoft.com/en-us/dotnet/fsharp/language-reference/options)], supported by the [Option Module](https://fsharp.github.io/fsharp-core-docs/reference/fsharp-core-optionmodule.html)."
   ]
  },
  {
   "cell_type": "markdown",
   "metadata": {},
   "source": [
    "## the `Option` type is a discriminated union of `Some` and `None`\n",
    "\n",
    "Lessons [17](https://github.com/BryanWilhite/jupyter-central/blob/master/get-programming-with-f-sharp/17-maps-dictionaries-and-sets.ipynb), [18](https://github.com/BryanWilhite/jupyter-central/blob/master/get-programming-with-f-sharp/18-folding-your-way-to-success.ipynb), [19](https://github.com/BryanWilhite/jupyter-central/blob/master/get-programming-with-f-sharp/19-capstone-03.ipynb) and [20](https://github.com/BryanWilhite/jupyter-central/blob/master/get-programming-with-f-sharp/20-program-flow-in-f-sharp.ipynb) use `None` which is part of the `Option` type, a discriminated union [[GitHub](https://github.com/dotnet/fsharp/blob/main/src/fsharp/FSharp.Core/prim-types.fsi#L2381)]:\n",
    "\n",
    "```fsharp\n",
    "type Option<'T> =\n",
    "    | None: 'T option\n",
    "    | Some: Value:'T -> 'T option\n",
    "```\n",
    "\n",
    "Lessons [18](https://github.com/BryanWilhite/jupyter-central/blob/master/get-programming-with-f-sharp/18-folding-your-way-to-success.ipynb), [19](https://github.com/BryanWilhite/jupyter-central/blob/master/get-programming-with-f-sharp/19-capstone-03.ipynb) and [20](https://github.com/BryanWilhite/jupyter-central/blob/master/get-programming-with-f-sharp/20-program-flow-in-f-sharp.ipynb) use `Some`.\n",
    "\n",
    "`Option` is used to explicitly express the _opposite_ of the default in F#:\n",
    "\n",
    ">…all F# types (tuples, records, and discriminated unions) behave in the same way, in that they’re _mandatory by default_.\n",
    "\n",
    "`Option` allows us to diverge from this default, making _optional types_ (called _Maybe types_ in other languages)."
   ]
  },
  {
   "cell_type": "markdown",
   "metadata": {},
   "source": [
    "## `Option` can be used to protect against `null`\n",
    "\n",
    "Instead of implicitly formalizing a relationship with the unknown by allowing `null` to propagate throughout, we can express optionality instead with something like `toStringOption` that can be used as barrier against the outside world (the greater .NET), represented by `someFunction`:"
   ]
  },
  {
   "cell_type": "code",
   "execution_count": null,
   "metadata": {
    "dotnet_interactive": {
     "language": "fsharp"
    }
   },
   "outputs": [
    {
     "name": "stdout",
     "output_type": "stream",
     "text": [
      "None"
     ]
    }
   ],
   "source": [
    "#!fsharp\n",
    "\n",
    "open System\n",
    "\n",
    "let someFunction =\n",
    "    let strings = [ \"one\"; null; \"three\"; \"\"; \"  \" ]\n",
    "    let index = Random().Next(strings.Length)\n",
    "    strings |> List.item index\n",
    "\n",
    "let toStringOption (s: string) =\n",
    "    match String.IsNullOrWhiteSpace(s) with\n",
    "    | false -> Some s\n",
    "    | true -> None\n",
    "\n",
    "someFunction |> toStringOption |> printf \"%A\""
   ]
  },
  {
   "cell_type": "markdown",
   "metadata": {},
   "source": [
    "## the Option Module can be used to express complex rules based on optional values\n",
    "\n",
    "The Option Module [[GitHub](https://fsharp.github.io/fsharp-core-docs/reference/fsharp-core-optionmodule.html)] functions look like those for F# collections. For example, we can use `Option.count` to convert strings from `someFunction` to `1` or `0`:"
   ]
  },
  {
   "cell_type": "code",
   "execution_count": null,
   "metadata": {
    "dotnet_interactive": {
     "language": "fsharp"
    }
   },
   "outputs": [
    {
     "name": "stdout",
     "output_type": "stream",
     "text": [
      "0"
     ]
    }
   ],
   "source": [
    "#!fsharp\n",
    "\n",
    "someFunction |> toStringOption |> Option.count |> printf \"%A\""
   ]
  },
  {
   "cell_type": "markdown",
   "metadata": {},
   "source": [
    "Instead of `1` or `0`, we can get `true` or `false` with `Option.isSome`:"
   ]
  },
  {
   "cell_type": "code",
   "execution_count": null,
   "metadata": {
    "dotnet_interactive": {
     "language": "fsharp"
    }
   },
   "outputs": [
    {
     "name": "stdout",
     "output_type": "stream",
     "text": [
      "false"
     ]
    }
   ],
   "source": [
    "#!fsharp\n",
    "\n",
    "someFunction |> toStringOption |> Option.isSome |> printf \"%A\""
   ]
  },
  {
   "cell_type": "markdown",
   "metadata": {},
   "source": [
    "We can use `Option.defaultWith` to define an alternate value for `None`:"
   ]
  },
  {
   "cell_type": "code",
   "execution_count": null,
   "metadata": {
    "dotnet_interactive": {
     "language": "fsharp"
    }
   },
   "outputs": [
    {
     "name": "stdout",
     "output_type": "stream",
     "text": [
      "\"<empty>\""
     ]
    }
   ],
   "source": [
    "#!fsharp\n",
    "\n",
    "someFunction\n",
    "|> toStringOption\n",
    "|> Option.defaultWith (fun () -> \"<empty>\")\n",
    "|> printf \"%A\""
   ]
  },
  {
   "cell_type": "markdown",
   "metadata": {},
   "source": [
    "We see a technique here for removing `null` values:\n",
    "\n",
    "1. convert `null` _to_ `Option`\n",
    "2. use `Option.defaultWith` to convert _from_ `Option`\n",
    "\n",
    "Step _2_ is important because passing around `Option` means writing `Some` a whole bunch of times. Take this function, `calculateAnnualPremiumUsd`, from page 263:"
   ]
  },
  {
   "cell_type": "code",
   "execution_count": null,
   "metadata": {
    "dotnet_interactive": {
     "language": "fsharp"
    }
   },
   "outputs": [
    {
     "name": "stdout",
     "output_type": "stream",
     "text": [
      "150\n",
      "No score supplied! Using temporary premium.\n",
      "300\n"
     ]
    }
   ],
   "source": [
    "#!fsharp\n",
    "\n",
    "let calculateAnnualPremiumUsd score =\n",
    "    match score with\n",
    "    | Some 0 -> 250\n",
    "    | Some score when score < 0 -> 400\n",
    "    | Some score when score > 0 -> 150\n",
    "    | None ->\n",
    "        printfn \"No score supplied! Using temporary premium.\"\n",
    "        300\n",
    "\n",
    "[Some 250 ; None]\n",
    "    |> List.iter (fun score -> score |> calculateAnnualPremiumUsd |> printfn \"%A\")\n"
   ]
  },
  {
   "cell_type": "markdown",
   "metadata": {},
   "source": [
    "Instead of using `Some` _three_ times, we can use `Some` _once_ and nest `match`:"
   ]
  },
  {
   "cell_type": "code",
   "execution_count": null,
   "metadata": {
    "dotnet_interactive": {
     "language": "fsharp"
    }
   },
   "outputs": [
    {
     "name": "stdout",
     "output_type": "stream",
     "text": [
      "150\n",
      "No score supplied! Using temporary premium.\n",
      "300\n"
     ]
    }
   ],
   "source": [
    "#!fsharp\n",
    "\n",
    "let calculateAnnualPremiumUsd score =\n",
    "\n",
    "    match score with\n",
    "    | Some n ->\n",
    "        match n with\n",
    "        | 0 -> 250\n",
    "        | n when n < 0 -> 400\n",
    "        | n when n > 0 -> 150\n",
    "    | None ->\n",
    "        printfn \"No score supplied! Using temporary premium.\"\n",
    "        300\n",
    "\n",
    "[Some 250 ; None]\n",
    "    |> List.iter (fun score -> score |> calculateAnnualPremiumUsd |> printfn \"%A\")"
   ]
  },
  {
   "cell_type": "markdown",
   "metadata": {},
   "source": [
    "## “Option Module enables Railway Oriented Programming”\n",
    "\n",
    "The `match`-`Some`-`None` pattern in the code sample above can be regarded as an example of _Railway Oriented Programming_, according to “[Option Module enables Railway Oriented Programming](https://sodocumentation.net/fsharp/topic/3175/option-types#option-module-enables-railway-oriented-programming).” However, when we search the classic [_F# for Fun and Profit_ article by Scott Wlaschin on railway programming](https://fsharpforfunandprofit.com/rop/), `Option` is not even mentioned! (The GitHub site backing _F# for Fun and Profit_ does [prove that it is aware](https://github.com/swlaschin/fsharpforfunandprofit.com/search?l=Markdown&p=2&q=option) of the existence of `Option`.)\n",
    "\n",
    "Railway Oriented Programming is more about error handling (the equivalent of `try`-`catch` blocks in C#) which somehow leads to the subject matter of the [Kleisli category](https://en.wikipedia.org/wiki/Kleisli_category) (where category refers to _category theory_)."
   ]
  },
  {
   "cell_type": "markdown",
   "metadata": {},
   "source": [
    "## `Option.map` eliminates the need to explicitly match `Some` and `None`\n",
    "\n",
    "The opinion here is that `Option.map` is the most important function in the Options Module. When used with `Option.defaultWith`, we can make another railway where the `mapping` argument is already converted _from_ `Option` (and `Some` is completely implied/invisible):"
   ]
  },
  {
   "cell_type": "code",
   "execution_count": null,
   "metadata": {
    "dotnet_interactive": {
     "language": "fsharp"
    }
   },
   "outputs": [
    {
     "name": "stdout",
     "output_type": "stream",
     "text": [
      "150\n",
      "No score supplied! Using temporary premium.\n",
      "300\n"
     ]
    }
   ],
   "source": [
    "#!fsharp\n",
    "\n",
    "let calculateAnnualPremiumUsd score =\n",
    "    let mapping n =\n",
    "        match n with\n",
    "        | 0 -> 250\n",
    "        | n when n < 0 -> 400\n",
    "        | n when n > 0 -> 150\n",
    "\n",
    "    score\n",
    "    |> Option.map mapping\n",
    "    |> Option.defaultWith (fun () ->\n",
    "        printfn \"No score supplied! Using temporary premium.\"\n",
    "        300)\n",
    "\n",
    "[Some 250 ; None]\n",
    "    |> List.iter (fun score -> score |> calculateAnnualPremiumUsd |> printfn \"%A\")"
   ]
  },
  {
   "cell_type": "markdown",
   "metadata": {},
   "source": [
    "@[BryanWilhite](https://twitter.com/BryanWilhite)\n"
   ]
  },
  {
   "cell_type": "code",
   "execution_count": null,
   "metadata": {
    "dotnet_interactive": {
     "language": "fsharp"
    }
   },
   "outputs": [
    {
     "data": {
      "text/html": [
       "<table><tbody><tr><td><img src=\"data:image/png;base64, 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\" width=\"125em\"></img></td><td style=\"line-height:.8em\"><p style=\"font-size:1.5em\"><b>.NET Interactive</b></p><p>&#169; 2020 Microsoft Corporation</p><p><b>Version: </b>1.0.258004+3429f67626d2f15eec7d8f15a29215909284cb79</p><p><b>Build date: </b>2021-12-01T01:48:00.0000000Z</p><p><a href=\"https://github.com/dotnet/interactive\">https://github.com/dotnet/interactive</a></p></td></tr></tbody></table>"
      ]
     },
     "metadata": {},
     "output_type": "display_data"
    }
   ],
   "source": [
    "#!about"
   ]
  }
 ],
 "metadata": {
  "kernelspec": {
   "display_name": ".NET (C#)",
   "language": "C#",
   "name": ".net-csharp"
  },
  "language_info": {
   "file_extension": ".cs",
   "mimetype": "text/x-csharp",
   "name": "C#",
   "pygments_lexer": "csharp",
   "version": "9.0"
  },
  "orig_nbformat": 4
 },
 "nbformat": 4,
 "nbformat_minor": 2
}
