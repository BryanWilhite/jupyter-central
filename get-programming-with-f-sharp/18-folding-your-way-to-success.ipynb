{
 "cells": [
  {
   "cell_type": "markdown",
   "metadata": {},
   "source": [
    "# Get Programming with F# by [Isaac Abraham](https://github.com/isaacabraham)\n",
    "\n",
    "## “Folding your way to success”\n",
    "\n",
    "The collections `fold` function is as important as the `Aggregate` method in the world of LINQ. My huge [tabulation for lesson 15](https://github.com/BryanWilhite/jupyter-central/blob/master/get-programming-with-f-sharp/15-working-with-collections-in-fsharp.ipynb) shows that `Aggregate` is the equivalent of `fold`:\n"
   ]
  },
  {
   "cell_type": "code",
   "execution_count": null,
   "metadata": {
    "dotnet_interactive": {
     "language": "csharp"
    }
   },
   "outputs": [
    {
     "name": "stdout",
     "output_type": "stream",
     "text": [
      "Current state is 0, input is 1, new state value is 1\n",
      "Current state is 1, input is 2, new state value is 3\n",
      "Current state is 3, input is 3, new state value is 6\n",
      "Current state is 6, input is 4, new state value is 10\n",
      "Current state is 10, input is 5, new state value is 15\n"
     ]
    },
    {
     "data": {
      "text/html": [
       "<div class=\"dni-plaintext\">15</div>"
      ]
     },
     "metadata": {},
     "output_type": "display_data"
    }
   ],
   "source": [
    "static double Sum(IEnumerable<double> inputs) => inputs.Aggregate(0d, (state, input) =>\n",
    "{\n",
    "    var newState = state + input;\n",
    "    Console.WriteLine($\"Current state is {state}, input is {input}, new state value is {newState}\");\n",
    "    return newState;\n",
    "});\n",
    "\n",
    "Sum(Enumerable.Range(1, 5).Select(i => Convert.ToDouble(i)))"
   ]
  },
  {
   "cell_type": "code",
   "execution_count": null,
   "metadata": {
    "dotnet_interactive": {
     "language": "fsharp"
    }
   },
   "outputs": [
    {
     "name": "stdout",
     "output_type": "stream",
     "text": [
      "Current state is 0, input is 1, new state value is 1\n",
      "Current state is 1, input is 2, new state value is 3\n",
      "Current state is 3, input is 3, new state value is 6\n",
      "Current state is 6, input is 4, new state value is 10\n",
      "Current state is 10, input is 5, new state value is 15\n"
     ]
    },
    {
     "data": {
      "text/html": [
       "<div class=\"dni-plaintext\">15</div>"
      ]
     },
     "metadata": {},
     "output_type": "display_data"
    }
   ],
   "source": [
    "#!fsharp\n",
    "\n",
    "let sum inputs =\n",
    "    Seq.fold\n",
    "        (fun state input ->\n",
    "            let newState = state + input\n",
    "            printfn $\"Current state is {state}, input is {input}, new state value is {newState}\"\n",
    "            newState\n",
    "        ) // 1st argument: fold function (“folder”)\n",
    "        0 // 2nd argument: initial state\n",
    "        inputs // 3rd argument: input collection\n",
    "\n",
    "sum [1 .. 5]"
   ]
  },
  {
   "cell_type": "markdown",
   "metadata": {},
   "source": [
    "We see that `Seq.fold` [📖 [docs](https://fsharp.github.io/fsharp-core-docs/reference/fsharp-collections-seqmodule.html#fold)] takes _three_ arguments just like how `Aggregate` takes three arguments when it accepts a initial _seed_ value. We have already learned about the pipe operator, `|>`, which would handle our `inputs` argument; however Isaac Abraham can do _one_ better with the _double pipeline operator_, `||>`:\n",
    "\n",
    ">The double pipeline operator acts the same as the normal pipeline, but it takes in the last _two_ arguments and moves them tot he front _as a tuple_."
   ]
  },
  {
   "cell_type": "code",
   "execution_count": null,
   "metadata": {
    "dotnet_interactive": {
     "language": "fsharp"
    }
   },
   "outputs": [
    {
     "name": "stdout",
     "output_type": "stream",
     "text": [
      "Current state is 0, input is 1, new state value is 1\n",
      "Current state is 1, input is 2, new state value is 3\n",
      "Current state is 3, input is 3, new state value is 6\n",
      "Current state is 6, input is 4, new state value is 10\n",
      "Current state is 10, input is 5, new state value is 15\n"
     ]
    },
    {
     "data": {
      "text/html": [
       "<div class=\"dni-plaintext\">15</div>"
      ]
     },
     "metadata": {},
     "output_type": "display_data"
    }
   ],
   "source": [
    "#!fsharp\n",
    "\n",
    "let sum inputs =\n",
    "    (0, inputs) ||> Seq.fold\n",
    "        (fun state input ->\n",
    "            let newState = state + input\n",
    "            printfn $\"Current state is {state}, input is {input}, new state value is {newState}\"\n",
    "            newState\n",
    "        )\n",
    "\n",
    "sum [1 .. 5]"
   ]
  },
  {
   "cell_type": "markdown",
   "metadata": {},
   "source": [
    "## Using related fold functions\n",
    "\n",
    "We have used `Seq.fold` to implement `Seq.sum` [📖 [docs](https://fsharp.github.io/fsharp-core-docs/reference/fsharp-collections-seqmodule.html#sum)] which strongly implies that `Seq.fold` is related to `Seq.sum` and other _aggregate_ functions, like `Seq.average` [📖 [docs](https://fsharp.github.io/fsharp-core-docs/reference/fsharp-collections-seqmodule.html#average)] and:\n",
    "\n",
    "- `Seq.foldBack` [📖 [docs](https://fsharp.github.io/fsharp-core-docs/reference/fsharp-collections-seqmodule.html#foldBack)]\n",
    "- `Seq.mapFold` [📖 [docs](https://fsharp.github.io/fsharp-core-docs/reference/fsharp-collections-seqmodule.html#mapFold)]\n",
    "- `Seq.reduce` [📖 [docs](https://fsharp.github.io/fsharp-core-docs/reference/fsharp-collections-seqmodule.html#reduce)]\n",
    "- `Seq.scan` [📖 [docs](https://fsharp.github.io/fsharp-core-docs/reference/fsharp-collections-seqmodule.html#scan)]\n",
    "- `Seq.unfold` [📖 [docs](https://fsharp.github.io/fsharp-core-docs/reference/fsharp-collections-seqmodule.html#unfold)]\n",
    "\n",
    "Let’s visit all of these:"
   ]
  },
  {
   "cell_type": "code",
   "execution_count": null,
   "metadata": {
    "dotnet_interactive": {
     "language": "fsharp"
    }
   },
   "outputs": [
    {
     "data": {
      "text/html": [
       "<div class=\"dni-plaintext\">15</div>"
      ]
     },
     "metadata": {},
     "output_type": "display_data"
    }
   ],
   "source": [
    "#!fsharp\n",
    "\n",
    "[1 .. 5] |> Seq.sum"
   ]
  },
  {
   "cell_type": "code",
   "execution_count": null,
   "metadata": {
    "dotnet_interactive": {
     "language": "fsharp"
    }
   },
   "outputs": [
    {
     "data": {
      "text/html": [
       "<div class=\"dni-plaintext\">2.75</div>"
      ]
     },
     "metadata": {},
     "output_type": "display_data"
    }
   ],
   "source": [
    "#!fsharp\n",
    "\n",
    "[ 2.0; 2.0; 2.0; 5.0 ] |> Seq.average"
   ]
  },
  {
   "cell_type": "markdown",
   "metadata": {},
   "source": [
    "### `Seq.foldBack`"
   ]
  },
  {
   "cell_type": "code",
   "execution_count": null,
   "metadata": {
    "dotnet_interactive": {
     "language": "fsharp"
    }
   },
   "outputs": [
    {
     "name": "stdout",
     "output_type": "stream",
     "text": [
      "Current state is 5, input is 0, new state value is 5\n",
      "Current state is 4, input is 5, new state value is 9\n",
      "Current state is 3, input is 9, new state value is 12\n",
      "Current state is 2, input is 12, new state value is 14\n",
      "Current state is 1, input is 14, new state value is 15\n"
     ]
    },
    {
     "data": {
      "text/html": [
       "<div class=\"dni-plaintext\">15</div>"
      ]
     },
     "metadata": {},
     "output_type": "display_data"
    }
   ],
   "source": [
    "#!fsharp\n",
    "\n",
    "let sumBack inputs =\n",
    "    (inputs, 0) ||> Seq.foldBack\n",
    "        (fun state input ->\n",
    "            let newState = state + input\n",
    "            printfn $\"Current state is {state}, input is {input}, new state value is {newState}\"\n",
    "            newState\n",
    "        )\n",
    "\n",
    "sumBack [1 .. 5]"
   ]
  },
  {
   "cell_type": "markdown",
   "metadata": {},
   "source": [
    "### `Seq.mapFold`"
   ]
  },
  {
   "cell_type": "code",
   "execution_count": null,
   "metadata": {
    "dotnet_interactive": {
     "language": "fsharp"
    }
   },
   "outputs": [
    {
     "name": "stdout",
     "output_type": "stream",
     "text": [
      "Current state is 0, input is 1, new state value is 1\n",
      "Current state is 1, input is 2, new state value is 3\n",
      "Current state is 3, input is 3, new state value is 6\n",
      "Current state is 6, input is 4, new state value is 10\n",
      "Current state is 10, input is 5, new state value is 15\n"
     ]
    },
    {
     "data": {
      "text/html": [
       "<table><thead><tr><th>Item1</th><th>Item2</th></tr></thead><tbody><tr><td><div class=\"dni-plaintext\">[ 1, 3, 6, 10, 15 ]</div></td><td><div class=\"dni-plaintext\">15</div></td></tr></tbody></table>"
      ]
     },
     "metadata": {},
     "output_type": "display_data"
    }
   ],
   "source": [
    "#!fsharp\n",
    "\n",
    "let runningSumAndTotal inputs =\n",
    "    (0, inputs) ||> Seq.mapFold\n",
    "        (fun state input ->\n",
    "            let newState = state + input\n",
    "            printfn $\"Current state is {state}, input is {input}, new state value is {newState}\"\n",
    "            (newState, newState) // the first item of the tuple is the running total\n",
    "        )\n",
    "\n",
    "runningSumAndTotal [1 .. 5]"
   ]
  },
  {
   "cell_type": "markdown",
   "metadata": {},
   "source": [
    "### `Seq.reduce`"
   ]
  },
  {
   "cell_type": "code",
   "execution_count": null,
   "metadata": {
    "dotnet_interactive": {
     "language": "fsharp"
    }
   },
   "outputs": [
    {
     "name": "stdout",
     "output_type": "stream",
     "text": [
      "Current state is 1, input is 2, new state value is 3\n",
      "Current state is 3, input is 3, new state value is 6\n",
      "Current state is 6, input is 4, new state value is 10\n",
      "Current state is 10, input is 5, new state value is 15\n"
     ]
    },
    {
     "data": {
      "text/html": [
       "<div class=\"dni-plaintext\">15</div>"
      ]
     },
     "metadata": {},
     "output_type": "display_data"
    }
   ],
   "source": [
    "#!fsharp\n",
    "\n",
    "let reduce inputs =\n",
    "    inputs |> Seq.reduce\n",
    "        (fun state input ->\n",
    "            let newState = state + input\n",
    "            printfn $\"Current state is {state}, input is {input}, new state value is {newState}\"\n",
    "            newState\n",
    "        )\n",
    "\n",
    "reduce [1 .. 5]"
   ]
  },
  {
   "cell_type": "markdown",
   "metadata": {},
   "source": [
    "We see that `reduce` is a simplified version of `fold` that uses the first element in the collection as initial state and can support the old `|>` operator. This ‘simplification’ is not without unexpected nuance as this [StackOverflow answer](https://stackoverflow.com/a/9055928/22944) describes:\n",
    "\n",
    ">The fact that `fold` takes an explicit initial value for the accumulator also means that the result of the `fold` function can have a different type than the type of values in the list. …When using `reduce`, the type of accumulator is the same as the type of values in the list—this means that if you have a list of numbers, the result will have to be a number.\n",
    "\n",
    "The only way to get around this limitation (or this _simplicity_) is to use `map` with `reduce` (see “Composing functions with `fold`” below)."
   ]
  },
  {
   "cell_type": "markdown",
   "metadata": {},
   "source": [
    "### `Seq.scan`"
   ]
  },
  {
   "cell_type": "code",
   "execution_count": null,
   "metadata": {
    "dotnet_interactive": {
     "language": "fsharp"
    }
   },
   "outputs": [
    {
     "name": "stdout",
     "output_type": "stream",
     "text": [
      "Current state is 0, input is 1, new state value is 1\n",
      "Current state is 1, input is 2, new state value is 3\n",
      "Current state is 3, input is 3, new state value is 6\n",
      "Current state is 6, input is 4, new state value is 10\n",
      "Current state is 10, input is 5, new state value is 15\n"
     ]
    },
    {
     "data": {
      "text/html": [
       "<table><thead><tr><th><i>index</i></th><th>value</th></tr></thead><tbody><tr><td>0</td><td><div class=\"dni-plaintext\">0</div></td></tr><tr><td>1</td><td><div class=\"dni-plaintext\">1</div></td></tr><tr><td>2</td><td><div class=\"dni-plaintext\">3</div></td></tr><tr><td>3</td><td><div class=\"dni-plaintext\">6</div></td></tr><tr><td>4</td><td><div class=\"dni-plaintext\">10</div></td></tr><tr><td>5</td><td><div class=\"dni-plaintext\">15</div></td></tr></tbody></table>"
      ]
     },
     "metadata": {},
     "output_type": "display_data"
    }
   ],
   "source": [
    "#!fsharp\n",
    "\n",
    "let runningSum inputs =\n",
    "    (0, inputs) ||> Seq.scan\n",
    "        (fun state input ->\n",
    "            let newState = state + input\n",
    "            printfn $\"Current state is {state}, input is {input}, new state value is {newState}\"\n",
    "            newState\n",
    "        )\n",
    "\n",
    "runningSum [1 .. 5]"
   ]
  },
  {
   "cell_type": "markdown",
   "metadata": {},
   "source": [
    "### `Seq.unfold`"
   ]
  },
  {
   "cell_type": "code",
   "execution_count": null,
   "metadata": {
    "dotnet_interactive": {
     "language": "fsharp"
    }
   },
   "outputs": [
    {
     "data": {
      "text/html": [
       "<table><thead><tr><th><i>index</i></th><th>value</th></tr></thead><tbody><tr><td>0</td><td><div class=\"dni-plaintext\">0</div></td></tr><tr><td>1</td><td><div class=\"dni-plaintext\">1</div></td></tr><tr><td>2</td><td><div class=\"dni-plaintext\">2</div></td></tr><tr><td>3</td><td><div class=\"dni-plaintext\">3</div></td></tr><tr><td>4</td><td><div class=\"dni-plaintext\">4</div></td></tr><tr><td>5</td><td><div class=\"dni-plaintext\">5</div></td></tr></tbody></table>"
      ]
     },
     "metadata": {},
     "output_type": "display_data"
    }
   ],
   "source": [
    "#!fsharp\n",
    "\n",
    "let range upperLimit =\n",
    "    0 |> Seq.unfold\n",
    "        (fun state ->\n",
    "            if state > upperLimit then None\n",
    "            else Some(state, state + 1) // see https://docs.microsoft.com/en-us/dotnet/fsharp/language-reference/options\n",
    "        )\n",
    "\n",
    "range 5"
   ]
  },
  {
   "cell_type": "markdown",
   "metadata": {},
   "source": [
    "## Folding instead of while loops\n",
    "\n",
    "The “Folding instead of while loops” section of the book has at least two goals:\n",
    "\n",
    "1. replacing imperative looping with `fold`\n",
    "2. introducing sequence expressions\n",
    "\n",
    "To make things easier for myself in these notes. I will separate these two goals and try to meet them here."
   ]
  },
  {
   "cell_type": "markdown",
   "metadata": {},
   "source": [
    "### replacing imperative looping with `fold`\n",
    "\n",
    "The Blog of Reed Copsey, Jr. does a great job in “[F# Basics—From loops to folds](https://reedcopsey.com/2019/12/19/f-basics-from-loops-to-folds/),” showing how to replace imperative looping with `fold`. He leads us to this succinct-but-`mutable`-ridden `for` loop:"
   ]
  },
  {
   "cell_type": "code",
   "execution_count": null,
   "metadata": {
    "dotnet_interactive": {
     "language": "fsharp"
    }
   },
   "outputs": [
    {
     "name": "stdout",
     "output_type": "stream",
     "text": [
      "The sum is 63\n"
     ]
    }
   ],
   "source": [
    "#!fsharp\n",
    "\n",
    "let addNewConditionally last number =\n",
    "    if number % 3 = 0 then last + number else last\n",
    "\n",
    "let mutable sum = 0\n",
    "for number in { 1..20 } do\n",
    "    sum <- addNewConditionally sum number\n",
    "\n",
    "printfn \"The sum is %d\" sum"
   ]
  },
  {
   "cell_type": "markdown",
   "metadata": {},
   "source": [
    "We can use `fold` to remove the side effects of mutation:"
   ]
  },
  {
   "cell_type": "code",
   "execution_count": null,
   "metadata": {
    "dotnet_interactive": {
     "language": "fsharp"
    }
   },
   "outputs": [
    {
     "name": "stdout",
     "output_type": "stream",
     "text": [
      "The sum is 63\n"
     ]
    }
   ],
   "source": [
    "#!fsharp\n",
    "\n",
    "let addNewConditionally last number =\n",
    "    if number % 3 = 0 then last + number else last\n",
    "\n",
    "let sum = { 1 .. 20 } |> Seq.fold addNewConditionally 0\n",
    "\n",
    "printfn \"The sum is %d\" sum"
   ]
  },
  {
   "cell_type": "markdown",
   "metadata": {},
   "source": [
    "Remembering what Isaac Abraham taught us about `||>` we can make a slight change to the above:"
   ]
  },
  {
   "cell_type": "code",
   "execution_count": null,
   "metadata": {
    "dotnet_interactive": {
     "language": "fsharp"
    }
   },
   "outputs": [
    {
     "name": "stdout",
     "output_type": "stream",
     "text": [
      "The sum is 63\n"
     ]
    }
   ],
   "source": [
    "#!fsharp\n",
    "\n",
    "let addNewConditionally last number =\n",
    "    if number % 3 = 0 then last + number else last\n",
    "\n",
    "let sum = (0, { 1 .. 20 }) ||> Seq.fold addNewConditionally\n",
    "\n",
    "printfn \"The sum is %d\" sum"
   ]
  },
  {
   "cell_type": "markdown",
   "metadata": {},
   "source": [
    "### introducing sequence expressions\n",
    "\n",
    "My notes for [lesson 13](https://github.com/BryanWilhite/jupyter-central/blob/master/get-programming-with-f-sharp/13-achieving-code-reuse-in-fsharp.ipynb) introduced _computation expressions_ which is Microsoft’s current way of referring to what Isaac called around 2018 _sequence expressions_ (as well as _computation expressions_). The Microsoft docs has some interesting points, like we can omit `yield` and replace it with `->`—so can change this:"
   ]
  },
  {
   "cell_type": "code",
   "execution_count": null,
   "metadata": {
    "dotnet_interactive": {
     "language": "fsharp"
    }
   },
   "outputs": [
    {
     "name": "stdout",
     "output_type": "stream",
     "text": [
      "seq [1; 4; 9; 16; ...]"
     ]
    }
   ],
   "source": [
    "#!fsharp\n",
    "\n",
    "let squares =\n",
    "    seq {\n",
    "        for i in 1..10 do\n",
    "            yield i * i\n",
    "    }\n",
    "squares |> printf \"%A\""
   ]
  },
  {
   "cell_type": "markdown",
   "metadata": {},
   "source": [
    "To this one-liner:"
   ]
  },
  {
   "cell_type": "code",
   "execution_count": null,
   "metadata": {
    "dotnet_interactive": {
     "language": "fsharp"
    }
   },
   "outputs": [
    {
     "name": "stdout",
     "output_type": "stream",
     "text": [
      "seq [1; 4; 9; 16; ...]"
     ]
    }
   ],
   "source": [
    "#!fsharp\n",
    "\n",
    "let squares = seq { for i in 1..10 -> i * i }\n",
    "squares |> printf \"%A\""
   ]
  },
  {
   "cell_type": "markdown",
   "metadata": {},
   "source": [
    "## Composing functions with `fold`\n",
    "\n",
    "The `fold` can be used when functions are treated like data and collected in, say, a `List`:"
   ]
  },
  {
   "cell_type": "code",
   "execution_count": null,
   "metadata": {
    "dotnet_interactive": {
     "language": "fsharp"
    }
   },
   "outputs": [],
   "source": [
    "#!fsharp\n",
    "\n",
    "open System\n",
    "\n",
    "type Rule = string -> bool * string // `Rule` is type alias\n",
    "\n",
    "let rules : Rule list = // the type could also be written as `list<Rule>`\n",
    "    [\n",
    "        fun text -> ((text.Split ' ').Length = 3, \"Must be three words\")\n",
    "        fun text -> (text.Length <= 30, \"Max length is 30 characters\")\n",
    "        fun text -> (text |> Seq.filter Char.IsLetter |> Seq.forall Char.IsLetter, \"All letters must be caps\")\n",
    "    ]"
   ]
  },
  {
   "cell_type": "markdown",
   "metadata": {},
   "source": [
    "We can resort to looping to remind ourselves of how `fold` can be used here:"
   ]
  },
  {
   "cell_type": "code",
   "execution_count": null,
   "metadata": {
    "dotnet_interactive": {
     "language": "fsharp"
    }
   },
   "outputs": [
    {
     "name": "stdout",
     "output_type": "stream",
     "text": [
      "(true, \"Must be three words\")\n",
      "(true, \"Max length is 30 characters\")\n",
      "(true, \"All letters must be caps\")\n"
     ]
    }
   ],
   "source": [
    "#!fsharp\n",
    "\n",
    "let test = \"THIS, A TEST\"\n",
    "\n",
    "for rule in rules do\n",
    "    rule test |> printf \"%A\\n\"\n"
   ]
  },
  {
   "cell_type": "code",
   "execution_count": null,
   "metadata": {
    "dotnet_interactive": {
     "language": "fsharp"
    }
   },
   "outputs": [
    {
     "data": {
      "text/html": [
       "<div class=\"dni-plaintext\">True</div>"
      ]
     },
     "metadata": {},
     "output_type": "display_data"
    }
   ],
   "source": [
    "#!fsharp\n",
    "\n",
    "let myFolder (rule: Rule) text =\n",
    "    let r, m = rule text\n",
    "    if r then r else failwith m\n",
    "\n",
    "let result =\n",
    "    (true, rules) // we need `true` here for initial state 😐\n",
    "    ||> List.fold (fun previousResult rule -> previousResult && myFolder rule test)\n",
    "\n",
    "result"
   ]
  },
  {
   "cell_type": "markdown",
   "metadata": {},
   "source": [
    "Composing functions with `fold` looks a bit awkward as written above. We have this silly and confusing use of `true`, working with the `||>` operator. We do not need an initial state for this rules engine. According to the book, and seen above we can use `List.reduce` to eliminate the initial state:"
   ]
  },
  {
   "cell_type": "code",
   "execution_count": null,
   "metadata": {
    "dotnet_interactive": {
     "language": "fsharp"
    }
   },
   "outputs": [
    {
     "data": {
      "text/html": [
       "<div class=\"dni-plaintext\">True</div>"
      ]
     },
     "metadata": {},
     "output_type": "display_data"
    }
   ],
   "source": [
    "#!fsharp\n",
    "\n",
    "let result =\n",
    "    rules\n",
    "    |> List.map (fun rule -> fst (rule test)) // map `rules` to `bool` results\n",
    "    |> List.reduce (fun previousResult result -> previousResult && result) // reduce the results to a single Boolean result\n",
    "\n",
    "result"
   ]
  },
  {
   "cell_type": "markdown",
   "metadata": {},
   "source": [
    "Alternatively, we can change the above to a function that can `validate` any `text`, composing our rules into a single function:"
   ]
  },
  {
   "cell_type": "code",
   "execution_count": null,
   "metadata": {
    "dotnet_interactive": {
     "language": "fsharp"
    }
   },
   "outputs": [
    {
     "data": {
      "text/html": [
       "<div class=\"dni-plaintext\">True</div>"
      ]
     },
     "metadata": {},
     "output_type": "display_data"
    }
   ],
   "source": [
    "#!fsharp\n",
    "\n",
    "let validate text =\n",
    "    rules\n",
    "    |> List.map (fun rule -> fst (rule text))\n",
    "    |> List.reduce (fun previousResult result -> previousResult && result)\n",
    "\n",
    "validate test"
   ]
  },
  {
   "cell_type": "markdown",
   "metadata": {},
   "source": [
    "This combination of `map` and `reduce` is said to be the inspiration behind [MapReduce](https://en.wikipedia.org/wiki/MapReduce) which is a specialization of the [_split-apply-combine strategy_](https://www.jstatsoft.org/article/view/v040i01) for data analysis. In that world of data science, the `rule` functions would run in parallel on different machines."
   ]
  },
  {
   "cell_type": "markdown",
   "metadata": {},
   "source": [
    "@[BryanWilhite](https://twitter.com/BryanWilhite)\n"
   ]
  },
  {
   "cell_type": "code",
   "execution_count": null,
   "metadata": {
    "dotnet_interactive": {
     "language": "fsharp"
    }
   },
   "outputs": [
    {
     "data": {
      "text/html": [
       "<table><tbody><tr><td><img src=\"data:image/png;base64, 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\" width=\"125em\"></img></td><td style=\"line-height:.8em\"><p style=\"font-size:1.5em\"><b>.NET Interactive</b></p><p>&#169; 2020 Microsoft Corporation</p><p><b>Version: </b>1.0.246201+da749355d416da20e634e5c80073b92356b57e0e</p><p><b>Build date: </b>2021-09-12T07:21:44.0000000Z</p><p><a href=\"https://github.com/dotnet/interactive\">https://github.com/dotnet/interactive</a></p></td></tr></tbody></table>"
      ]
     },
     "metadata": {},
     "output_type": "display_data"
    }
   ],
   "source": [
    "#!about"
   ]
  }
 ],
 "metadata": {
  "kernelspec": {
   "display_name": ".NET (C#)",
   "language": "C#",
   "name": ".net-csharp"
  },
  "language_info": {
   "file_extension": ".cs",
   "mimetype": "text/x-csharp",
   "name": "C#",
   "pygments_lexer": "csharp",
   "version": "9.0"
  },
  "orig_nbformat": 4
 },
 "nbformat": 4,
 "nbformat_minor": 2
}
