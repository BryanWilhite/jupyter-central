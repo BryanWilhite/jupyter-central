{
 "cells": [
  {
   "cell_type": "markdown",
   "metadata": {},
   "source": [
    "# Get Programming with F# by [Isaac Abraham](https://github.com/isaacabraham)\n",
    "\n",
    "## “Working with collections in F#”\n",
    "\n",
    "Isaac Abraham proposes three types of C# developers working with collections:\n",
    "\n",
    "1. _The C# 2 developer:_ the one who is doggedly imperative and is well within the OS-level shadow of C++, staying firmly with `for`, `while` and `do` loops.\n",
    "2. _The LINQ developer:_ the one who is quite fond of using SQL set operations in C# with naïve disregard for expensive allocations and mutations.\n",
    "3. _The wannabe FP developer:_ the one who understands the complexity-control benefits of the functional approach and might even dabble in the [immutable collections](https://docs.microsoft.com/en-us/archive/msdn-magazine/2017/march/net-framework-immutable-collections) of C#.\n",
    "\n",
    "Two out of three of these developer types might find the following challenging:\n",
    "\n",
    ">Given a set of football results …which teams won the most away games in the season."
   ]
  },
  {
   "cell_type": "code",
   "execution_count": null,
   "metadata": {
    "dotnet_interactive": {
     "language": "fsharp"
    }
   },
   "outputs": [],
   "source": [
    "#!fsharp\n",
    "\n",
    "type FootballResult = { HomeTeam : string; AwayTeam : string; HomeGoals : int; AwayGoals : int }\n",
    "\n",
    "let create (ht, hg) (at, ag) =\n",
    "    { HomeTeam = ht; AwayTeam = at; HomeGoals = hg; AwayGoals = ag }\n"
   ]
  },
  {
   "cell_type": "markdown",
   "metadata": {},
   "source": [
    "The `create` function is a brilliant mix: a curried function taking tuple arguments! We use this function to generate a set of data such that the answer to our football question is:\n",
    "\n",
    "- Bale Town: 2 wins\n",
    "- Ronaldo City: 1 win"
   ]
  },
  {
   "cell_type": "code",
   "execution_count": null,
   "metadata": {
    "dotnet_interactive": {
     "language": "fsharp"
    }
   },
   "outputs": [],
   "source": [
    "#!fsharp\n",
    "\n",
    "let results =\n",
    "    [\n",
    "        create (\"Messiville\", 1) (\"Ronaldo City\", 2)\n",
    "        create (\"Messiville\", 1) (\"Bale Town\", 3)\n",
    "        create (\"Bale Town\", 3) (\"Ronaldo City\", 1)\n",
    "        create (\"Bale Town\", 2) (\"Messiville\", 1)\n",
    "        create (\"Ronaldo City\", 4) (\"Messiville\", 2)\n",
    "        create (\"Ronaldo City\", 1) (\"Bale Town\", 2)\n",
    "    ]"
   ]
  },
  {
   "cell_type": "markdown",
   "metadata": {},
   "source": [
    "I will resort to LINQ, approaching this challenge, reminding myself that [lesson 13](https://github.com/BryanWilhite/jupyter-central/blob/master/get-programming-with-f-sharp/13-achieving-code-reuse-in-fsharp.ipynb) introduces the use of inline functions (lambda syntax):"
   ]
  },
  {
   "cell_type": "code",
   "execution_count": null,
   "metadata": {
    "dotnet_interactive": {
     "language": "fsharp"
    }
   },
   "outputs": [
    {
     "data": {
      "text/html": [
       "<table><thead><tr><th><i>index</i></th><th>value</th></tr></thead><tbody><tr><td>0</td><td>Bale Town: 2 wins</td></tr><tr><td>1</td><td>Ronaldo City: 1 wins</td></tr><tr><td>2</td><td>Messiville: 0 wins</td></tr></tbody></table>"
      ]
     },
     "metadata": {},
     "output_type": "display_data"
    }
   ],
   "source": [
    "#!fsharp\n",
    "\n",
    "open System.Linq\n",
    "\n",
    "let win result =\n",
    "    if result.HomeGoals > result.AwayGoals then 0\n",
    "    else 1\n",
    "\n",
    "results\n",
    "    .GroupBy(fun result -> result.AwayTeam)\n",
    "    .Select(fun group -> (group.First().AwayTeam, group.Sum(fun result -> win result)))\n",
    "    .OrderByDescending(fun tuple -> snd tuple)\n",
    "    .Select(fun tuple -> $\"{fst tuple}: {snd tuple} wins\")"
   ]
  },
  {
   "cell_type": "markdown",
   "metadata": {},
   "source": [
    "In C#, I would have used [anonymous objects](https://docs.microsoft.com/en-us/dotnet/csharp/fundamentals/types/anonymous-types) instead of a tuple to get the results. The F# equivalent of C# anonymous objects are _object expressions_ [📖 [docs](https://docs.microsoft.com/en-us/dotnet/fsharp/language-reference/object-expressions)] which are not mentioned until lesson 25—using them above would be skipping ahead too far in this study!"
   ]
  },
  {
   "cell_type": "markdown",
   "metadata": {},
   "source": [
    "## the collection modules\n",
    "\n",
    "There are five collection types [📖 [docs](https://docs.microsoft.com/en-us/dotnet/fsharp/language-reference/fsharp-collection-types)] in F#:\n",
    "\n",
    "1. `List`\n",
    "2. `Array`\n",
    "3. `Seq`\n",
    "4. `Map`\n",
    "5. `Set`\n",
    "\n",
    "Isaac Abraham distinguishes the first three types because their respective modules contain “functions designed for querying (and generating) collections.” Most of the query functions in these three modules are higher-order functions optimized for currying pipelines (with `|>`).\n",
    "\n",
    "Of all of the collection types, `Seq` is is the least familiar collection name (once we see that `Map` is a kind of `Dictionary`). Here are the Microsoft remarks about `Seq`:\n",
    "\n",
    ">Sequences are particularly useful when you have a large, ordered collection of data but don’t necessarily expect to use all the elements. Individual sequence elements are computed only as required, so a sequence can perform better than a list if not all the elements are used. Sequences are represented by the `seq<'T>` type, which is an alias for `IEnumerable<T>`. Therefore, any .NET Framework type that implements `System.Collections.Generic.IEnumerable<'T>` can be used as a sequence.\n"
   ]
  },
  {
   "cell_type": "markdown",
   "metadata": {},
   "source": [
    "\n",
    "We now see that `Seq` is the _most_ familiar F# collection to a C# developer. Once we recall that extension methods over `IEnumerable<T>` is the essence of LINQ, we can [browse through the documentation](https://fsharp.github.io/fsharp-core-docs/reference/fsharp-collections-seqmodule.html) for the `Seq` module and associate its querying functions with [LINQ extension methods](https://docs.microsoft.com/en-us/dotnet/csharp/programming-guide/concepts/linq/classification-of-standard-query-operators-by-manner-of-execution):\n",
    "\n",
    "\n",
    "| LINQ query operator | `Seq` function |\n",
    "|- |-\n",
    "| `Aggregate` | `Seq.fold` |\n",
    "| `All` | `Seq.forall` |\n",
    "| `Any` | `Seq.exists` |\n",
    "| `AsEnumerable` | `Array.toSeq`, `List.toSeq`, `Map.toSeq`, `Set.toSeq` |\n",
    "| `Average` | `Seq.average` |\n",
    "| `Cast` | `Seq.cast` |\n",
    "| `Concat` | `Seq.concat` |\n",
    "| `Contains` | `Seq.contains` |\n",
    "| `Count` | `Seq.length` |\n",
    "| `DefaultIfEmpty` | no equivalent `Seq` function |\n",
    "| `Distinct` | `Seq.distinct` |\n",
    "| `ElementAt` | `Seq.item` |\n",
    "| `ElementAtOrDefault` | no equivalent `Seq` function but `Seq.tryItem` is close |\n",
    "| `Empty` | `Seq.empty` |\n",
    "| `Except` | `Seq.except` |\n",
    "| `First` | `Seq.find` |\n",
    "| `FirstOrDefault` | no equivalent `Seq` function but `Seq.tryFind` is close |\n",
    "| `GroupBy` | `Seq.groupBy` |\n",
    "| `GroupJoin` | no equivalent `Seq` function |\n",
    "| `Intersect` | no equivalent `Seq` function but `Seq.map2` can do |\n",
    "| `Join` | no equivalent `Seq` function but `Seq.map2` might do |\n",
    "| `Last` | `Seq.findBack` |\n",
    "| `LastOrDefault` | no equivalent `Seq` function but `Seq.tryFindBack` is close |\n",
    "| `LongCount` | `Seq.length` |\n",
    "| `Max` | `Seq.max` |\n",
    "| `Min` | `Seq.min` |\n",
    "| `OfType` | no equivalent `Seq` function |\n",
    "| `OrderBy` | `Seq.sortBy` |\n",
    "| `OrderByDescending` | `Seq.sortByDescending` |\n",
    "| `Range` | no equivalent `Seq` function but a [sequence expression](https://docs.microsoft.com/en-us/dotnet/fsharp/language-reference/sequences#sequence-expressions) like `seq { 1 .. 5 }` does more |\n",
    "| `Repeat` | `Seq.replicate` |\n",
    "| `Reverse` | `Seq.rev` |\n",
    "| `Select` | `Seq.map` |\n",
    "| `SelectMany` | `Seq.collect` (see <https://stackoverflow.com/a/4600047/22944>) |\n",
    "| `SequenceEqual` | no equivalent `Seq` function but the `=` operator should do |\n",
    "| `Single` | no equivalent `Seq` function (see [nine-year-old StackOverflow question](https://stackoverflow.com/questions/9850769/f-equivalent-of-linq-single)) but piping `Seq.where` and `Seq.exactlyOne` should do |\n",
    "| `SingleOrDefault` | no equivalent `Seq` function but piping `Seq.where` and `Seq.tryExactlyOne` should do |\n",
    "| `Skip` | `Seq.skip` |\n",
    "| `SkipWhile` | `Seq.skipWhile` |\n",
    "| `Sum` | `Seq.sum` |\n",
    "| `Take` | `Seq.take` |\n",
    "| `TakeWhile` | `Seq.takeWhile` |\n",
    "| `ThenBy` and `ThenByDescending` | no equivalent `Seq` function but piping sort functions should do |\n",
    "| `ToArray` | `Seq.toArray` |\n",
    "| `ToDictionary` | no equivalent `Seq` function; use the `dict` function instead (see <https://stackoverflow.com/a/9720581/22944>) |\n",
    "| `ToList` | `Seq.toList` |\n",
    "| `ToLookup` | no equivalent `Seq` function; use `Map.ofSeq` instead |\n",
    "| `Union` | `Seq.concat` |\n",
    "| `Where` | `Seq.where` |\n",
    "| `Zip` | `Seq.zip` |\n",
    "\n",
    "When we see this rather lengthy table, it is important to remember a few points:\n",
    "\n",
    "- the `Seq` functions listed above should also be available in the `List` and `Array` modules where applicable\n",
    "- the `Seq` module contains more functions than what is listed above\n",
    "- the [MoreLinq Nuget package](https://www.nuget.org/packages/morelinq) should be familiar to C# programmer and F# contains much of its functionality by default"
   ]
  },
  {
   "cell_type": "markdown",
   "metadata": {},
   "source": [
    "## using collection-module functions instead of LINQ\n",
    "\n",
    "Let’s try to translate the LINQ operations on `results` above to collection-module functions with the forward pipe operator, `|>`:"
   ]
  },
  {
   "cell_type": "code",
   "execution_count": null,
   "metadata": {
    "dotnet_interactive": {
     "language": "fsharp"
    }
   },
   "outputs": [
    {
     "data": {
      "text/html": [
       "<table><thead><tr><th><i>index</i></th><th>value</th></tr></thead><tbody><tr><td>0</td><td>Bale Town: 2 wins</td></tr><tr><td>1</td><td>Ronaldo City: 1 wins</td></tr><tr><td>2</td><td>Messiville: 0 wins</td></tr></tbody></table>"
      ]
     },
     "metadata": {},
     "output_type": "display_data"
    }
   ],
   "source": [
    "#!fsharp\n",
    "\n",
    "results\n",
    "|> List.groupBy(fun result -> result.AwayTeam)\n",
    "|> List.map(fun group -> (((snd group) |> List.head).AwayTeam, (snd group) |> List.sumBy(fun result -> win result)))\n",
    "|> List.sortByDescending(fun tuple -> snd tuple)\n",
    "|> List.map(fun tuple -> $\"{fst tuple}: {snd tuple} wins\")"
   ]
  },
  {
   "cell_type": "markdown",
   "metadata": {},
   "source": [
    "This exercise of mine makes it quite plain why Isaac Abraham went a completely different direction for this lesson in the book. The problem I have created for myself requires translating this `IGrouping<string, FootballResult>` from LINQ:\n",
    "\n",
    "```csharp\n",
    "group.First().AwayTeam\n",
    "```\n",
    "\n",
    "To this native F# `string * seq<FootballResult>`:\n",
    "\n",
    "```fsharp\n",
    "((snd group) |> Seq.head).AwayTeam\n",
    "```\n",
    "\n",
    "This F# native expression is far more complicated than what we get from `IGrouping` interface of .NET. Because of me, we have to all the back to [lesson 9](https://github.com/BryanWilhite/jupyter-central/blob/master/get-programming-with-f-sharp/09-shaping-data-with-tuples.ipynb) to remind ourselves that `group` is a tuple (the asterisks should give the game away).\n",
    "\n",
    "In the simplified example below, `g` is of type `string * seq<int>`:"
   ]
  },
  {
   "cell_type": "code",
   "execution_count": null,
   "metadata": {
    "dotnet_interactive": {
     "language": "fsharp"
    }
   },
   "outputs": [
    {
     "data": {
      "text/html": [
       "<div class=\"dni-plaintext\">1</div>"
      ]
     },
     "metadata": {},
     "output_type": "display_data"
    }
   ],
   "source": [
    "#!fsharp\n",
    "\n",
    "let g = (\"one\", seq {1; 2; 3})\n",
    "\n",
    "(snd g) |> Seq.head"
   ]
  },
  {
   "cell_type": "markdown",
   "metadata": {},
   "source": [
    "In order to access the sequence in the tuple `g` we have to use that `snd` function with which we should be familiar!"
   ]
  },
  {
   "cell_type": "markdown",
   "metadata": {},
   "source": [
    "## both of the solutions above are not efficient or correct\n",
    "\n",
    "The clue that what I have done above is wrong is this:\n",
    "\n",
    "```plaintext\n",
    "Messiville: 0 wins\n",
    "```\n",
    "\n",
    "I am scanning the entire set of results when I make the first move which is grouping.\n",
    "\n",
    "Isaac Abraham writes:\n",
    "\n",
    "> Start by thinking about _what_ it is you want to do, rather than _how_…\n",
    ">\n",
    "> 1. Find all results that had an away win.\n",
    "> 2. Group all the away wins by the away team.\n",
    "> 3. Sort the results in descending order by the by the numbers of away wins per team.\n",
    "\n",
    "You will notice from my brilliant work above I am _not_ getting to the point which is the first thing Isaac is doing:\n",
    "\n",
    "> Find all results that had an away win.\n",
    "\n",
    "Isaac Abraham does this with his `isAwayWin` function:"
   ]
  },
  {
   "cell_type": "code",
   "execution_count": null,
   "metadata": {
    "dotnet_interactive": {
     "language": "fsharp"
    }
   },
   "outputs": [],
   "source": [
    "#!fsharp\n",
    "\n",
    "let isAwayWin result = result.AwayGoals > result.HomeGoals"
   ]
  },
  {
   "cell_type": "markdown",
   "metadata": {},
   "source": [
    "Now we can `filter` the `results` down to _what_ we are looking for:\n"
   ]
  },
  {
   "cell_type": "code",
   "execution_count": null,
   "metadata": {
    "dotnet_interactive": {
     "language": "fsharp"
    }
   },
   "outputs": [
    {
     "data": {
      "text/html": [
       "<table><thead><tr><th><i>index</i></th><th>Item1</th><th>Item2</th></tr></thead><tbody><tr><td>0</td><td>Bale Town</td><td><div class=\"dni-plaintext\">2</div></td></tr><tr><td>1</td><td>Ronaldo City</td><td><div class=\"dni-plaintext\">1</div></td></tr></tbody></table>"
      ]
     },
     "metadata": {},
     "output_type": "display_data"
    }
   ],
   "source": [
    "#!fsharp\n",
    "\n",
    "results\n",
    "|> List.filter isAwayWin                                //1. Find all results that had an away win.\n",
    "|> List.countBy(fun result -> result.AwayTeam)          //2. Group all the away wins by the away team.\n",
    "|> List.sortByDescending(fun (_, awayWins) -> awayWins) //3. Sort the results in descending order…"
   ]
  },
  {
   "cell_type": "markdown",
   "metadata": {},
   "source": [
    "Putting my poor critical thinking skills aside, the C#-based problem I have is the fact there is no `CountBy` method in LINQ by default. I would have to go to MoreLinq for that [📖 [docs](https://morelinq.github.io/3.3/ref/api/html/T_MoreLinq_Extensions_CountByExtension.htm)]! It might help to think of `List.countBy` as counting by a grouping key which, in this case, is `AwayTeam`.\n",
    "\n",
    "The second problem I am aware of is my unnecessary use of `snd` on the `group` values I wrote above. Isaac is showing me that I could use a tuple with a discard to decompose `group` which is totally awesome!"
   ]
  },
  {
   "cell_type": "code",
   "execution_count": null,
   "metadata": {
    "dotnet_interactive": {
     "language": "fsharp"
    }
   },
   "outputs": [
    {
     "data": {
      "text/html": [
       "<table><thead><tr><th><i>index</i></th><th>value</th></tr></thead><tbody><tr><td>0</td><td>Bale Town: 2 wins</td></tr><tr><td>1</td><td>Ronaldo City: 1 wins</td></tr><tr><td>2</td><td>Messiville: 0 wins</td></tr></tbody></table>"
      ]
     },
     "metadata": {},
     "output_type": "display_data"
    }
   ],
   "source": [
    "#!fsharp\n",
    "\n",
    "results\n",
    "|> List.groupBy(fun result -> result.AwayTeam)\n",
    "|> List.map(fun (_, groupedResults) -> ((groupedResults |> List.head).AwayTeam, groupedResults |> List.sumBy(fun result -> win result)))\n",
    "|> List.sortByDescending(fun (_, sum) -> sum)\n",
    "|> List.map(fun (awayTeam, sum) -> $\"{awayTeam}: {sum} wins\")"
   ]
  },
  {
   "cell_type": "markdown",
   "metadata": {},
   "source": [
    "Yes, this is totally awesome but still wrong! For the sake of my bruised ego I could resort to this:\n"
   ]
  },
  {
   "cell_type": "code",
   "execution_count": null,
   "metadata": {
    "dotnet_interactive": {
     "language": "fsharp"
    }
   },
   "outputs": [
    {
     "data": {
      "text/html": [
       "<table><thead><tr><th><i>index</i></th><th>value</th></tr></thead><tbody><tr><td>0</td><td>Bale Town: 2 wins</td></tr><tr><td>1</td><td>Ronaldo City: 1 wins</td></tr></tbody></table>"
      ]
     },
     "metadata": {},
     "output_type": "display_data"
    }
   ],
   "source": [
    "#!fsharp\n",
    "\n",
    "results\n",
    "|> List.filter(fun result -> win result = 1)\n",
    "|> List.groupBy(fun result -> result.AwayTeam)\n",
    "|> List.map(fun (_, groupedResults) -> ((groupedResults |> List.head).AwayTeam, groupedResults |> List.sumBy(fun result -> win result)))\n",
    "|> List.sortByDescending(fun (_, sum) -> sum)\n",
    "|> List.map(fun (awayTeam, sum) -> $\"{awayTeam}: {sum} wins\")"
   ]
  },
  {
   "cell_type": "markdown",
   "metadata": {},
   "source": [
    "Now we can clearly see how my ignorance of the power of `countBy` is making me express _two_ function calls, `groupBy` and `map` instead of _one_:\n"
   ]
  },
  {
   "cell_type": "code",
   "execution_count": null,
   "metadata": {
    "dotnet_interactive": {
     "language": "fsharp"
    }
   },
   "outputs": [
    {
     "data": {
      "text/html": [
       "<table><thead><tr><th><i>index</i></th><th>value</th></tr></thead><tbody><tr><td>0</td><td>Bale Town: 2 wins</td></tr><tr><td>1</td><td>Ronaldo City: 1 wins</td></tr></tbody></table>"
      ]
     },
     "metadata": {},
     "output_type": "display_data"
    }
   ],
   "source": [
    "#!fsharp\n",
    "\n",
    "results\n",
    "|> List.filter(fun result -> win result = 1)\n",
    "|> List.countBy(fun result -> result.AwayTeam)\n",
    "|> List.sortByDescending(fun (_, sum) -> sum)\n",
    "|> List.map(fun (awayTeam, sum) -> $\"{awayTeam}: {sum} wins\")"
   ]
  },
  {
   "cell_type": "markdown",
   "metadata": {},
   "source": [
    "Since the self-criticism is rather thick here (for the 21<sup>st</sup> century), I would like to add my last ding about my name for the function `win` is rather poor. According to the answers of [a StackOverflow question](https://stackoverflow.com/questions/526930/f-naming-convention), there is [an F# style guide](https://docs.microsoft.com/en-us/dotnet/fsharp/style-guide/) (at Microsoft) but I am not seeing any explicit notes about _naming_ functions. One might have to dig into [OCaml lore](https://github.com/lindig/ocaml-style) or, perhaps, understand that, because of the DSL intentions behind F#, there is a reluctance to talk about style beyond formatting. The bottom line: I have yet to find any F# authority stating in writing that, say, all function names should be verbs. (On page 109, Isaac Abraham comes very close to _suggesting_ this but not explicitly _stating_ it.)\n"
   ]
  },
  {
   "cell_type": "markdown",
   "metadata": {},
   "source": [
    "## what happens when `result` is `empty` or `null`?\n",
    "\n",
    "Let us see what happens when our result is `empty`:"
   ]
  },
  {
   "cell_type": "code",
   "execution_count": null,
   "metadata": {
    "dotnet_interactive": {
     "language": "fsharp"
    }
   },
   "outputs": [
    {
     "data": {
      "text/html": [
       "<i>(empty)</i>"
      ]
     },
     "metadata": {},
     "output_type": "display_data"
    }
   ],
   "source": [
    "#!fsharp\n",
    "\n",
    "[]\n",
    "|> List.filter(fun result -> win result = 1)\n",
    "|> List.countBy(fun result -> result.AwayTeam)\n",
    "|> List.sortByDescending(fun (_, sum) -> sum)\n",
    "|> List.map(fun (awayTeam, sum) -> $\"{awayTeam}: {sum} wins\")"
   ]
  },
  {
   "cell_type": "markdown",
   "metadata": {},
   "source": [
    "We can look at [the source code](https://github.com/dotnet/fsharp/blob/main/src/fsharp/FSharp.Core/list.fs) for the F# `List` module and see that it is handling empty lists for us.\n",
    "\n",
    "Getting `null` into F# is a bit more complicated because F# recognizes `null` as an ‘outsider’ to the F# world. Microsoft [documentation](https://docs.microsoft.com/en-us/dotnet/fsharp/language-reference/values/null-values) states:\n",
    "\n",
    "> In a library intended only for F#, you do not have to check for null values in every function. If you are writing a library for interoperation with other .NET languages, you might have to add checks for null input parameters and throw an `ArgumentNullException`, just as you do in C# or Visual Basic code.\n",
    "\n",
    "We can see Microsoft following their own advice when I try to pass a null .NET `List<T>` (`nullList`) into our pipeline:"
   ]
  },
  {
   "cell_type": "code",
   "execution_count": null,
   "metadata": {
    "dotnet_interactive": {
     "language": "fsharp"
    }
   },
   "outputs": [
    {
     "ename": "Error",
     "evalue": "System.ArgumentNullException: Value cannot be null. (Parameter 'source')\n   at Microsoft.FSharp.Collections.SeqModule.ToList[T](IEnumerable`1 source)\n   at <StartupCode$FSI_0063>.$FSI_0063.main@()",
     "output_type": "error",
     "traceback": [
      "System.ArgumentNullException: Value cannot be null. (Parameter 'source')\n",
      "   at Microsoft.FSharp.Collections.SeqModule.ToList[T](IEnumerable`1 source)\n",
      "   at <StartupCode$FSI_0063>.$FSI_0063.main@()"
     ]
    }
   ],
   "source": [
    "#!fsharp\n",
    "\n",
    "let nullList: System.Collections.Generic.List<FootballResult> = null\n",
    "\n",
    "List.ofSeq(nullList)\n",
    "|> List.filter(fun result -> win result = 1)\n",
    "|> List.countBy(fun result -> result.AwayTeam)\n",
    "|> List.sortByDescending(fun (_, sum) -> sum)\n",
    "|> List.map(fun (awayTeam, sum) -> $\"{awayTeam}: {sum} wins\")"
   ]
  },
  {
   "cell_type": "markdown",
   "metadata": {},
   "source": [
    "On page 182, Isaac mentions that he does not use `Seq` that much. We can see above why: `List.ofSeq` is a way to convert `System.Collections.Generic.List<T>` into a genuine, immutable F#. `Seq` can be thought of as only existing for such a conversion. "
   ]
  },
  {
   "cell_type": "markdown",
   "metadata": {},
   "source": [
    "## F# arrays\n",
    "\n",
    "The list `three` bound above can be made into an array with `|`:"
   ]
  },
  {
   "cell_type": "markdown",
   "metadata": {},
   "source": [
    "## collection operators\n",
    "\n",
    "Isaac Abraham calls out the following operators [📖 [docs](https://docs.microsoft.com/en-us/dotnet/fsharp/language-reference/symbol-and-operator-reference/#symbols-used-in-tuple-list-array-unit-expressions-and-patterns)]:\n",
    "\n",
    "- `..` —generating a list (range operator)\n",
    "- `::` —pre-pending to a list\n",
    "- `@` —concatenating two lists"
   ]
  },
  {
   "cell_type": "code",
   "execution_count": null,
   "metadata": {
    "dotnet_interactive": {
     "language": "fsharp"
    }
   },
   "outputs": [
    {
     "name": "stdout",
     "output_type": "stream",
     "text": [
      "[0; 1; 2; 3; 4; 5; 6; 7; 8; 9; 10]"
     ]
    }
   ],
   "source": [
    "#!fsharp\n",
    "\n",
    "let three = [ 1; 2; 3 ]\n",
    "\n",
    "let four = 0 :: three\n",
    "\n",
    "let numbers = four @ [ 4 .. 10 ]\n",
    "\n",
    "printf \"%A\" numbers"
   ]
  },
  {
   "cell_type": "code",
   "execution_count": null,
   "metadata": {
    "dotnet_interactive": {
     "language": "fsharp"
    }
   },
   "outputs": [
    {
     "name": "stdout",
     "output_type": "stream",
     "text": [
      "[|1; 2; 3; 0; 4; 5; 6; 7; 8; 9; 10|]"
     ]
    }
   ],
   "source": [
    "#!fsharp\n",
    "\n",
    "let threeA = [| 1; 2; 3 |]\n",
    "\n",
    "let fourA = [| 0 |] |> Array.append threeA\n",
    "\n",
    "let numbersA = [ 4 .. 10 ] |> List.toArray |> Array.append fourA\n",
    "\n",
    "printf \"%A\" numbersA"
   ]
  },
  {
   "cell_type": "markdown",
   "metadata": {},
   "source": [
    "F# arrays [📖 [docs](https://docs.microsoft.com/en-us/dotnet/fsharp/language-reference/arrays)] do not have the operators used on lists so things above get quite complicated. Based on commentary from Isaac Abraham, F# arrays seem to be in the language for high-performance interoperability:\n",
    "\n",
    ">They’re high performance but ultimately mutable…\n"
   ]
  },
  {
   "cell_type": "markdown",
   "metadata": {},
   "source": [
    "@[BryanWilhite](https://twitter.com/BryanWilhite)\n"
   ]
  },
  {
   "cell_type": "code",
   "execution_count": null,
   "metadata": {
    "dotnet_interactive": {
     "language": "fsharp"
    }
   },
   "outputs": [
    {
     "data": {
      "text/html": [
       "<table><tbody><tr><td><img src=\"data:image/png;base64, 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\" width=\"125em\"></img></td><td style=\"line-height:.8em\"><p style=\"font-size:1.5em\"><b>.NET Interactive</b></p><p>&#169; 2020 Microsoft Corporation</p><p><b>Version: </b>1.0.246201+da749355d416da20e634e5c80073b92356b57e0e</p><p><b>Build date: </b>2021-09-12T07:21:44.0000000Z</p><p><a href=\"https://github.com/dotnet/interactive\">https://github.com/dotnet/interactive</a></p></td></tr></tbody></table>"
      ]
     },
     "metadata": {},
     "output_type": "display_data"
    }
   ],
   "source": [
    "#!about"
   ]
  }
 ],
 "metadata": {
  "kernelspec": {
   "display_name": ".NET (C#)",
   "language": "C#",
   "name": ".net-csharp"
  },
  "language_info": {
   "file_extension": ".cs",
   "mimetype": "text/x-csharp",
   "name": "C#",
   "pygments_lexer": "csharp",
   "version": "9.0"
  },
  "orig_nbformat": 4
 },
 "nbformat": 4,
 "nbformat_minor": 2
}
