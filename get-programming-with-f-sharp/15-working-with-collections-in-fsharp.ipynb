{
 "cells": [
  {
   "cell_type": "markdown",
   "source": [
    "# Get Programming with F# by [Isaac Abraham](https://github.com/isaacabraham)\r\n",
    "\r\n",
    "## “Working with collections in F#”\r\n",
    "\r\n",
    "Isaac Abraham proposes three types of C# developers working with collections:\r\n",
    "\r\n",
    "1. _The C# 2 developer:_ the one who is doggedly imperative and is well within the OS-level shadow of C++, staying firmly with `for`, `while` and `do` loops.\r\n",
    "2. _The LINQ developer:_ the one who is quite fond of using SQL set operations in C# with naïve disregard for expensive allocations and mutations.\r\n",
    "3. _The wannabe FP developer:_ the one who understands the complexity-control benefits of the functional approach and might even dabble in the [immutable collections](https://docs.microsoft.com/en-us/archive/msdn-magazine/2017/march/net-framework-immutable-collections) of C#.\r\n",
    "\r\n",
    "Two out of three of these types might find the following challenging:\r\n",
    "\r\n",
    ">Given a set of football results …which teams won the most away games in the season."
   ],
   "metadata": {}
  },
  {
   "cell_type": "code",
   "execution_count": null,
   "source": [
    "type FootballResult = { HomeTeam : string; AwayTeam : string; HomeGoals : int; AwayGoals : int }\r\n",
    "\r\n",
    "let create (ht, hg) (at, ag) =\r\n",
    "    { HomeTeam = ht; AwayTeam = at; HomeGoals = hg; AwayGoals = ag }\r\n"
   ],
   "outputs": [],
   "metadata": {
    "dotnet_interactive": {
     "language": "fsharp"
    }
   }
  },
  {
   "cell_type": "markdown",
   "source": [
    "The `create` function is a brilliant mix: a curried function taking tuple arguments! We use this function to generate a set of data such that the answer to our football question is:\r\n",
    "\r\n",
    "- Bale Town: 2 wins\r\n",
    "- Ronaldo City: 1 win"
   ],
   "metadata": {}
  },
  {
   "cell_type": "code",
   "execution_count": null,
   "source": [
    "let results =\r\n",
    "    [\r\n",
    "        create (\"Messiville\", 1) (\"Ronaldo City\", 2)\r\n",
    "        create (\"Messiville\", 1) (\"Bale Town\", 3)\r\n",
    "        create (\"Bale Town\", 3) (\"Ronaldo City\", 1)\r\n",
    "        create (\"Bale Town\", 2) (\"Messiville\", 1)\r\n",
    "        create (\"Ronaldo City\", 4) (\"Messiville\", 2)\r\n",
    "        create (\"Ronaldo City\", 1) (\"Bale Town\", 2)\r\n",
    "    ]"
   ],
   "outputs": [],
   "metadata": {
    "dotnet_interactive": {
     "language": "fsharp"
    }
   }
  },
  {
   "cell_type": "markdown",
   "source": [
    "I will resort to LINQ, approaching this challenge, reminding myself that lesson 13 introduces the use of inline functions (lambda syntax):"
   ],
   "metadata": {}
  },
  {
   "cell_type": "code",
   "execution_count": null,
   "source": [
    "open System.Linq\r\n",
    "\r\n",
    "let win result =\r\n",
    "    if result.HomeGoals > result.AwayGoals then 0\r\n",
    "    else 1\r\n",
    "\r\n",
    "results\r\n",
    "    .GroupBy(fun result -> result.AwayTeam)\r\n",
    "    .Select(fun group -> (group.First().AwayTeam, group.Sum(fun result -> win result)))\r\n",
    "    .OrderByDescending(fun tuple -> snd tuple)\r\n",
    "    .Select(fun tuple -> $\"{fst tuple}: {snd tuple} wins\")"
   ],
   "outputs": [
    {
     "data": {
      "text/html": [
       "<table><thead><tr><th><i>index</i></th><th>value</th></tr></thead><tbody><tr><td>0</td><td>Bale Town: 2 wins</td></tr><tr><td>1</td><td>Ronaldo City: 1 wins</td></tr><tr><td>2</td><td>Messiville: 0 wins</td></tr></tbody></table>"
      ]
     },
     "metadata": {},
     "output_type": "display_data"
    }
   ],
   "metadata": {
    "dotnet_interactive": {
     "language": "fsharp"
    }
   }
  },
  {
   "cell_type": "markdown",
   "source": [
    "In C#, I would have used [anonymous objects](https://docs.microsoft.com/en-us/dotnet/csharp/fundamentals/types/anonymous-types) instead of a tuple to get the results. The F# equivalent of C# anonymous objects are _object expressions_ [📖 [docs](https://docs.microsoft.com/en-us/dotnet/fsharp/language-reference/object-expressions)] which are not mentioned until lesson 25—using them above would be skipping ahead too far in this study!"
   ],
   "metadata": {}
  },
  {
   "cell_type": "markdown",
   "source": [
    "@[BryanWilhite](https://twitter.com/BryanWilhite)\r\n"
   ],
   "metadata": {}
  },
  {
   "cell_type": "code",
   "execution_count": null,
   "source": [
    "#!about"
   ],
   "outputs": [
    {
     "data": {
      "text/html": ""
     },
     "metadata": {},
     "output_type": "display_data"
    }
   ],
   "metadata": {
    "dotnet_interactive": {
     "language": "fsharp"
    }
   }
  }
 ],
 "metadata": {
  "orig_nbformat": 4,
  "language_info": {
   "file_extension": ".cs",
   "mimetype": "text/x-csharp",
   "name": "C#",
   "pygments_lexer": "csharp",
   "version": "9.0"
  },
  "kernelspec": {
   "display_name": ".NET (C#)",
   "language": "C#",
   "name": ".net-csharp"
  }
 },
 "nbformat": 4,
 "nbformat_minor": 2
}