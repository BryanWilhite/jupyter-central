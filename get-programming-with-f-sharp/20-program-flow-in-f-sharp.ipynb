{
 "cells": [
  {
   "cell_type": "markdown",
   "metadata": {},
   "source": [
    "# Get Programming with F# by [Isaac Abraham](https://github.com/isaacabraham)\n",
    "\n",
    "## “Program flow in F#”\n",
    "\n",
    "With the excellent help of Isaac Abraham, I no longer think that C# is an imperative language making a _huge_ compromise with functional reality by introducing functional -language concepts (like LINQ, `Func<>`, `Action<>`, etc.). With respect to F#, C# is doing very little: F# is a making _huge_ compromises with imperative desires/habits. The presence of the loop construct is one of these compromises:\n",
    "\n",
    ">—these looping constructs, although officially expressions, are inherently imperative, designed to work with [side effects](https://en.wikipedia.org/wiki/Side_effect_(computer_science))…\n",
    "\n",
    "So far, we have seen the `for`-`in`-`do` looping syntax. There is a `for`-`to|downto`-`do` syntax [📖 [docs](https://docs.microsoft.com/en-us/dotnet/fsharp/language-reference/loops-for-to-expression)] in F# as well but Isaac Abraham de-prioritizes its use because we will see that the use of the range operator (`..`) with decrement syntax makes looping with `for`-`to` or `for`-`downto` an optional matter of coding style."
   ]
  },
  {
   "cell_type": "markdown",
   "metadata": {},
   "source": [
    "## sequence expressions based on `for` loops\n",
    "\n",
    "We have already seen sequence expressions based on `for` loops in previous lessons. What we have here is a greatest-hits collection of looping:"
   ]
  },
  {
   "cell_type": "code",
   "execution_count": null,
   "metadata": {
    "dotnet_interactive": {
     "language": "fsharp"
    }
   },
   "outputs": [
    {
     "data": {
      "text/html": [
       "<table><thead><tr><th><i>index</i></th><th>value</th></tr></thead><tbody><tr><td>0</td><td><div class=\"dni-plaintext\">1</div></td></tr><tr><td>1</td><td><div class=\"dni-plaintext\">2</div></td></tr><tr><td>2</td><td><div class=\"dni-plaintext\">3</div></td></tr><tr><td>3</td><td><div class=\"dni-plaintext\">4</div></td></tr><tr><td>4</td><td><div class=\"dni-plaintext\">5</div></td></tr><tr><td>5</td><td><div class=\"dni-plaintext\">6</div></td></tr><tr><td>6</td><td><div class=\"dni-plaintext\">7</div></td></tr><tr><td>7</td><td><div class=\"dni-plaintext\">8</div></td></tr><tr><td>8</td><td><div class=\"dni-plaintext\">9</div></td></tr><tr><td>9</td><td><div class=\"dni-plaintext\">10</div></td></tr></tbody></table>"
      ]
     },
     "metadata": {},
     "output_type": "display_data"
    }
   ],
   "source": [
    "#!fsharp\n",
    "\n",
    "let sequence = seq { for i in 1..10 do i } // classic increment\n",
    "\n",
    "sequence"
   ]
  },
  {
   "cell_type": "code",
   "execution_count": null,
   "metadata": {
    "dotnet_interactive": {
     "language": "fsharp"
    }
   },
   "outputs": [
    {
     "data": {
      "text/html": [
       "<table><thead><tr><th><i>index</i></th><th>value</th></tr></thead><tbody><tr><td>0</td><td><div class=\"dni-plaintext\">10</div></td></tr><tr><td>1</td><td><div class=\"dni-plaintext\">9</div></td></tr><tr><td>2</td><td><div class=\"dni-plaintext\">8</div></td></tr><tr><td>3</td><td><div class=\"dni-plaintext\">7</div></td></tr><tr><td>4</td><td><div class=\"dni-plaintext\">6</div></td></tr><tr><td>5</td><td><div class=\"dni-plaintext\">5</div></td></tr><tr><td>6</td><td><div class=\"dni-plaintext\">4</div></td></tr><tr><td>7</td><td><div class=\"dni-plaintext\">3</div></td></tr><tr><td>8</td><td><div class=\"dni-plaintext\">2</div></td></tr><tr><td>9</td><td><div class=\"dni-plaintext\">1</div></td></tr></tbody></table>"
      ]
     },
     "metadata": {},
     "output_type": "display_data"
    }
   ],
   "source": [
    "#!fsharp\n",
    "\n",
    "let sequence = seq { for i in 10..-1..1 do i } //classic decrement\n",
    "\n",
    "sequence"
   ]
  },
  {
   "cell_type": "code",
   "execution_count": null,
   "metadata": {
    "dotnet_interactive": {
     "language": "fsharp"
    }
   },
   "outputs": [
    {
     "data": {
      "text/html": [
       "<table><thead><tr><th><i>index</i></th><th>value</th></tr></thead><tbody><tr><td>0</td><td><div class=\"dni-plaintext\">2</div></td></tr><tr><td>1</td><td><div class=\"dni-plaintext\">4</div></td></tr><tr><td>2</td><td><div class=\"dni-plaintext\">6</div></td></tr><tr><td>3</td><td><div class=\"dni-plaintext\">8</div></td></tr><tr><td>4</td><td><div class=\"dni-plaintext\">10</div></td></tr></tbody></table>"
      ]
     },
     "metadata": {},
     "output_type": "display_data"
    }
   ],
   "source": [
    "#!fsharp\n",
    "\n",
    "let sequence = seq { for i in 2..2..10 do i } //evens\n",
    "\n",
    "sequence"
   ]
  },
  {
   "cell_type": "code",
   "execution_count": null,
   "metadata": {
    "dotnet_interactive": {
     "language": "fsharp"
    }
   },
   "outputs": [
    {
     "data": {
      "text/html": [
       "<table><thead><tr><th><i>index</i></th><th>value</th></tr></thead><tbody><tr><td>0</td><td><div class=\"dni-plaintext\">a</div></td></tr><tr><td>1</td><td><div class=\"dni-plaintext\">b</div></td></tr><tr><td>2</td><td><div class=\"dni-plaintext\">c</div></td></tr><tr><td>3</td><td><div class=\"dni-plaintext\">d</div></td></tr><tr><td>4</td><td><div class=\"dni-plaintext\">e</div></td></tr><tr><td>5</td><td><div class=\"dni-plaintext\">f</div></td></tr><tr><td>6</td><td><div class=\"dni-plaintext\">g</div></td></tr><tr><td>7</td><td><div class=\"dni-plaintext\">h</div></td></tr><tr><td>8</td><td><div class=\"dni-plaintext\">i</div></td></tr><tr><td>9</td><td><div class=\"dni-plaintext\">j</div></td></tr><tr><td>10</td><td><div class=\"dni-plaintext\">k</div></td></tr><tr><td>11</td><td><div class=\"dni-plaintext\">l</div></td></tr><tr><td>12</td><td><div class=\"dni-plaintext\">m</div></td></tr><tr><td>13</td><td><div class=\"dni-plaintext\">n</div></td></tr><tr><td>14</td><td><div class=\"dni-plaintext\">o</div></td></tr><tr><td>15</td><td><div class=\"dni-plaintext\">p</div></td></tr><tr><td>16</td><td><div class=\"dni-plaintext\">q</div></td></tr><tr><td>17</td><td><div class=\"dni-plaintext\">r</div></td></tr><tr><td>18</td><td><div class=\"dni-plaintext\">s</div></td></tr><tr><td>19</td><td><div class=\"dni-plaintext\">t</div></td></tr><tr><td colspan=\"2\">(6 more)</td></tr></tbody></table>"
      ]
     },
     "metadata": {},
     "output_type": "display_data"
    }
   ],
   "source": [
    "#!fsharp\n",
    "\n",
    "let sequence = seq { for i in 'a'..'z' do i } //char (is this locale-aware or invariant?)\n",
    "\n",
    "sequence"
   ]
  },
  {
   "cell_type": "markdown",
   "metadata": {},
   "source": [
    "## sequence expressions based on `while` loops\n",
    "\n",
    "The `while` loop makes very loud demands for mutation because its Boolean condition _must_ see explicit change. To dial down the loudness for the sake of the student, we use mutable things from .NET to avoid an expression with `mutable`:"
   ]
  },
  {
   "cell_type": "code",
   "execution_count": null,
   "metadata": {
    "dotnet_interactive": {
     "language": "fsharp"
    }
   },
   "outputs": [
    {
     "data": {
      "text/html": [
       "<table><thead><tr><th><i>index</i></th><th>value</th></tr></thead><tbody><tr><td>0</td><td><div class=\"dni-plaintext\">47</div></td></tr><tr><td>1</td><td><div class=\"dni-plaintext\">48</div></td></tr><tr><td>2</td><td><div class=\"dni-plaintext\">49</div></td></tr><tr><td>3</td><td><div class=\"dni-plaintext\">50</div></td></tr></tbody></table>"
      ]
     },
     "metadata": {},
     "output_type": "display_data"
    }
   ],
   "source": [
    "#!fsharp\n",
    "\n",
    "open System\n",
    "\n",
    "let startTime = DateTime.Now\n",
    "\n",
    "let sequence = seq {\n",
    "        while (DateTime.Now - startTime).TotalSeconds < 3 do\n",
    "            yield DateTime.Now.Second\n",
    "    }\n",
    "\n",
    "Set.ofSeq sequence"
   ]
  },
  {
   "cell_type": "markdown",
   "metadata": {},
   "source": [
    "The `while` loop moves faster than than one second. To avoid seeing a `Seq` with duplicate second figures, it is converted to a `Set`."
   ]
  },
  {
   "cell_type": "markdown",
   "metadata": {},
   "source": [
    "## prematurely exiting a loop with `break` is too imperative\n",
    "\n",
    "There is a cost to falling in love with the world of expressions:\n",
    "\n",
    ">…in F# …there’s no concept of the `break` command, so you can’t exit out of a loop prematurely …consider replacing the loop with a sequence of values that you `filter` on (or `takeWhile`)[,] and loop over that sequence instead.\n",
    "\n",
    "In C#, `break` [📖 [docs](https://docs.microsoft.com/en-us/dotnet/csharp/language-reference/keywords/break)] is classified as a _statement_ which is a raging clue that it does not translate to the world of _expressions_ in F#. Nevertheless, I would have missed this entirely without Isaac Abraham explicitly pointing this out!"
   ]
  },
  {
   "cell_type": "markdown",
   "metadata": {},
   "source": [
    "## comprehensions\n",
    "\n",
    "As mentioned in [lesson 13](https://github.com/BryanWilhite/jupyter-central/blob/master/get-programming-with-f-sharp/13-achieving-code-reuse-in-fsharp.ipynb), Python has _list comprehensions_. But we see now that F# has:\n",
    "\n",
    "- Array comprehensions\n",
    "- List comprehensions\n",
    "- Sequence comprehensions\n",
    "\n",
    "In [lesson 13](https://github.com/BryanWilhite/jupyter-central/blob/master/get-programming-with-f-sharp/18-folding-your-way-to-success.ipynb), we saw that we can replace `do` and `yield` with `->`. This use of `for` and `->` typifies comprehensions syntax. We can do this with the `for`-loop-based sequence expressions above:"
   ]
  },
  {
   "cell_type": "code",
   "execution_count": null,
   "metadata": {
    "dotnet_interactive": {
     "language": "fsharp"
    }
   },
   "outputs": [
    {
     "name": "stdout",
     "output_type": "stream",
     "text": [
      "seq [1; 2; 3; 4; ...]\n",
      "seq [10; 9; 8; 7; ...]\n",
      "seq [2; 4; 6; 8; ...]\n",
      "seq ['a'; 'b'; 'c'; 'd'; ...]\n"
     ]
    }
   ],
   "source": [
    "#!fsharp\n",
    "\n",
    "seq { for i in 1..10 -> i } |> printf \"%A\\n\"\n",
    "\n",
    "seq { for i in 10..-1..1 -> i } |> printf \"%A\\n\"\n",
    "\n",
    "seq { for i in 2..2..10 -> i } |> printf \"%A\\n\"\n",
    "\n",
    "seq { for i in 'a'..'z' -> i } |> printf \"%A\\n\"\n"
   ]
  },
  {
   "cell_type": "markdown",
   "metadata": {},
   "source": [
    "We can translate these expressions for lists:"
   ]
  },
  {
   "cell_type": "code",
   "execution_count": null,
   "metadata": {
    "dotnet_interactive": {
     "language": "fsharp"
    }
   },
   "outputs": [
    {
     "name": "stdout",
     "output_type": "stream",
     "text": [
      "[1; 2; 3; 4; 5; 6; 7; 8; 9; 10]\n",
      "[10; 9; 8; 7; 6; 5; 4; 3; 2; 1]\n",
      "[2; 4; 6; 8; 10]\n",
      "['a'; 'b'; 'c'; 'd'; 'e'; 'f'; 'g'; 'h'; 'i'; 'j'; 'k'; 'l'; 'm'; 'n'; 'o'; 'p';\n",
      " 'q'; 'r'; 's'; 't'; 'u'; 'v'; 'w'; 'x'; 'y'; 'z']\n"
     ]
    }
   ],
   "source": [
    "#!fsharp\n",
    "\n",
    "[ for i in 1..10 -> i ] |> printf \"%A\\n\"\n",
    "\n",
    "[ for i in 10..-1..1 -> i ] |> printf \"%A\\n\"\n",
    "\n",
    "[ for i in 2..2..10 -> i ] |> printf \"%A\\n\"\n",
    "\n",
    "[ for i in 'a'..'z' -> i ] |> printf \"%A\\n\""
   ]
  },
  {
   "cell_type": "markdown",
   "metadata": {},
   "source": [
    "…and arrays:"
   ]
  },
  {
   "cell_type": "code",
   "execution_count": null,
   "metadata": {
    "dotnet_interactive": {
     "language": "fsharp"
    }
   },
   "outputs": [
    {
     "name": "stdout",
     "output_type": "stream",
     "text": [
      "[|1; 2; 3; 4; 5; 6; 7; 8; 9; 10|]\n",
      "[|10; 9; 8; 7; 6; 5; 4; 3; 2; 1|]\n",
      "[|2; 4; 6; 8; 10|]\n",
      "[|'a'; 'b'; 'c'; 'd'; 'e'; 'f'; 'g'; 'h'; 'i'; 'j'; 'k'; 'l'; 'm'; 'n'; 'o'; 'p';\n",
      "  'q'; 'r'; 's'; 't'; 'u'; 'v'; 'w'; 'x'; 'y'; 'z'|]\n"
     ]
    }
   ],
   "source": [
    "#!fsharp\n",
    "\n",
    "[| for i in 1..10 -> i |] |> printf \"%A\\n\"\n",
    "\n",
    "[| for i in 10..-1..1 -> i |] |> printf \"%A\\n\"\n",
    "\n",
    "[| for i in 2..2..10 -> i |] |> printf \"%A\\n\"\n",
    "\n",
    "[| for i in 'a'..'z' -> i |] |> printf \"%A\\n\""
   ]
  },
  {
   "cell_type": "markdown",
   "metadata": {},
   "source": [
    "## Branching logic in F#\n",
    "\n",
    "Section 20.2 on page 234 is a major turning point in the lesson plan laid out for us. Before we get to the point, it may be helpful to list bullets pointing in the general direction of Isaac Abraham’s introduction of F#:\n"
   ]
  },
  {
   "cell_type": "markdown",
   "metadata": {},
   "source": [
    "\n",
    "### F# so far…\n",
    "\n",
    "- from [lesson 0](https://github.com/BryanWilhite/jupyter-central/blob/master/get-programming-with-f-sharp/00-introduction.ipynb): F# emphasizes composition rather than inheritance to achieve reuse\n",
    "- from lesson 0: F# does not permit uninitialized variables (which helps with the type inference)\n",
    "- from lesson 0: F# “has the notion of optional values” instead of nulls\n",
    "- from [lesson 4](https://github.com/BryanWilhite/jupyter-central/blob/master/get-programming-with-f-sharp/04-saying-little-doing-a-lot.ipynb): “The `let` keyword is the single most important keyword in the F# language.”\n",
    "- from lesson 4: “F# has two ways to define function arguments, known as tupled form and curried form.”\n",
    "- from lesson 4: “Shadowing allows you to hide the previous value, so there is no danger you will accidentally use the original one.”\n",
    "- from lesson 4: “In F#, the order in which types are defined matters.”\n",
    "- from [lesson 5](https://github.com/BryanWilhite/jupyter-central/blob/master/get-programming-with-f-sharp/05-trusting-the-compiler.ipynb): “F# also automatically makes functions generic when needed.”\n",
    "- from [lesson 7](https://github.com/BryanWilhite/jupyter-central/blob/master/get-programming-with-f-sharp/07-expressions-and-statements.ipynb): In .NET we have `Task` and `Task<T>` because of the use of `void` (or `Sub`) in the statement-based languages. Because of `unit` in F#, this expression-based language only needs `Task<T>` (`Task<unit>`).\n",
    "- from [lesson 9](https://github.com/BryanWilhite/jupyter-central/blob/master/get-programming-with-f-sharp/09-shaping-data-with-tuples.ipynb): can the use of `string` ‘pollute’ F# with `null` checks?\n",
    "- from [lesson 11](https://github.com/BryanWilhite/jupyter-central/blob/master/get-programming-with-f-sharp/11-building-composable-functions.ipynb): The F# equivalent of C# method overloading is _currying_.\n",
    "- from lesson 11: The F# equivalent of C# extension methods is pipelining with the forward-pipe operator, `|>`.\n",
    "- from lesson 11: The F# way to express what C# folks might call imperative method chaining is with the compose operator, `>>`.\n",
    "- from [lesson 12](https://github.com/BryanWilhite/jupyter-central/blob/master/get-programming-with-f-sharp/12-organizing-code-without-classes.ipynb): By default, types and functions are always public in F#. If you want to use a function within a module (or a nested module) but don’t want to expose it publicly, mark it as `private`.\n",
    "- from [lesson 13](https://github.com/BryanWilhite/jupyter-central/blob/master/get-programming-with-f-sharp/13-achieving-code-reuse-in-fsharp.ipynb): Passing functions as arguments is something you’ll do extremely often when working in F# because it is the primary way of achieving reuse.\n",
    "- from [lesson 14](https://github.com/BryanWilhite/jupyter-central/blob/master/get-programming-with-f-sharp/14-capstone-02.ipynb): two different functions with the same argument signature can be passed like an interface\n",
    "- from [lesson 15](https://github.com/BryanWilhite/jupyter-central/blob/master/get-programming-with-f-sharp/15-working-with-collections-in-fsharp.ipynb): There are five collection types in F#\n",
    "- from [lesson 17](https://github.com/BryanWilhite/jupyter-central/blob/master/get-programming-with-f-sharp/17-maps-dictionaries-and-sets.ipynb): `Map` in F# is the native F# equivalent of implementations of `IDictionary` that can be interchanged across .NET languages.\n",
    "- from [lesson 18](https://github.com/BryanWilhite/jupyter-central/blob/master/get-programming-with-f-sharp/18-folding-your-way-to-success.ipynb): The collections `fold` function is as important as the `Aggregate` method in the world of LINQ.\n",
    "\n",
    "Lessons 7 and 11 contain two very important points:\n",
    "\n",
    "1. in F#, we are writing _expressions_ not statements\n",
    "2. the first F#-specific operators to care about are `|>` and `>>`\n",
    "\n",
    "This last point is important to me because when I tried to learn F#, without Isaac Abraham, I overwhelmed myself with a full page of F#-specific operators!"
   ]
  },
  {
   "cell_type": "markdown",
   "metadata": {},
   "source": [
    "### The third very important point…\n",
    "\n",
    "Now we are ready to get the point. Issac Abraham writes:\n",
    "\n",
    "> F# has an entirely different construct for handling branching logic called _pattern matching_.\n",
    "\n",
    "About one year after the publication of _Get Programming with F#_, Microsoft released a form of pattern matching in C# [📖 [docs](https://docs.microsoft.com/en-us/archive/msdn-magazine/2019/may/csharp-8-0-pattern-matching-in-csharp-8-0#the-evolution-of-pattern-matching-in-c-80)] that most resembles what we have in F#.\n"
   ]
  },
  {
   "cell_type": "markdown",
   "metadata": {},
   "source": [
    "### using pattern matching on a data ‘stream’ of business rules\n",
    "\n",
    "While the book (on page 235) shows us the old-fashioned `if`-`then` solution to expressing business rules for determining credit limits, let’s start with a collection of credit limit _data_:"
   ]
  },
  {
   "cell_type": "code",
   "execution_count": null,
   "metadata": {
    "dotnet_interactive": {
     "language": "fsharp"
    }
   },
   "outputs": [],
   "source": [
    "#!value --name creditLimits\n",
    "\n",
    "[\n",
    "    { \"score\": \"Medium\", \"years\": \"1\", \"limit\": 500 },\n",
    "    { \"score\": \"Good\", \"years\": \"0\", \"limit\": 750 },\n",
    "    { \"score\": \"Good\", \"years\": \"1\", \"limit\": 750 },\n",
    "    { \"score\": \"Good\", \"years\": \"2\", \"limit\": 1000 },\n",
    "    { \"score\": \"Good\", \"years\": \"*\", \"limit\": 2000 },\n",
    "    { \"score\": \"*\", \"years\": \"*\", \"limit\": 250 }\n",
    "]"
   ]
  },
  {
   "cell_type": "markdown",
   "metadata": {},
   "source": [
    "This is not necessarily a functional programming paradigm but my use of LINQ in C# leads me to prefer a data-‘stream’ approach to logic instead of translating each of the lines above to a hard `if`-`then` structure.\n",
    "\n",
    "I choose to represent this stream as an array of JSON elements, using the new `System.Text.Json` namespace [📖 [docs](https://docs.microsoft.com/en-us/dotnet/api/system.text.json?view=net-5.0)] that emerged in .NET about two years after Isaac Abraham’s book was published:"
   ]
  },
  {
   "cell_type": "code",
   "execution_count": null,
   "metadata": {
    "dotnet_interactive": {
     "language": "fsharp"
    }
   },
   "outputs": [
    {
     "data": {
      "text/html": [
       "<details class=\"dni-treeview\"><summary><span class=\"dni-code-hint\"><code>[\n",
       "    { &quot;score&quot;: &quot;Medium&quot;, &quot;years&quot;: &quot;1&quot;, &quot;limit&quot;: 500 },\n",
       "    { &quot;score&quot;: &quot;Good&quot;, &quot;years&quot;: &quot;0&quot;, &quot;limit&quot;: 750 },\n",
       "    { &quot;score&quot;: &quot;Good&quot;, &quot;years&quot;: &quot;1&quot;, &quot;limit&quot;: 750 },\n",
       "    { &quot;score&quot;: &quot;Good&quot;, &quot;years&quot;: &quot;2&quot;, &quot;limit&quot;: 1000 },\n",
       "    { &quot;score&quot;: &quot;Good&quot;, &quot;years&quot;: &quot;*&quot;, &quot;limit&quot;: 2000 },\n",
       "    { &quot;score&quot;: &quot;*&quot;, &quot;years&quot;: &quot;*&quot;, &quot;limit&quot;: 250 }\n",
       "]</code></span></summary><div><table><thead><tr></tr></thead><tbody><tr><td><details class=\"dni-treeview\"><summary><span class=\"dni-code-hint\"><code>{ &quot;score&quot;: &quot;Medium&quot;, &quot;years&quot;: &quot;1&quot;, &quot;limit&quot;: 500 }</code></span></summary><div><table><thead><tr></tr></thead><tbody><tr><td>score</td><td><span>&quot;Medium&quot;</span></td></tr><tr><td>years</td><td><span>&quot;1&quot;</span></td></tr><tr><td>limit</td><td><span><div class=\"dni-plaintext\">500</div></span></td></tr></tbody></table></div></details></td></tr><tr><td><details class=\"dni-treeview\"><summary><span class=\"dni-code-hint\"><code>{ &quot;score&quot;: &quot;Good&quot;, &quot;years&quot;: &quot;0&quot;, &quot;limit&quot;: 750 }</code></span></summary><div><table><thead><tr></tr></thead><tbody><tr><td>score</td><td><span>&quot;Good&quot;</span></td></tr><tr><td>years</td><td><span>&quot;0&quot;</span></td></tr><tr><td>limit</td><td><span><div class=\"dni-plaintext\">750</div></span></td></tr></tbody></table></div></details></td></tr><tr><td><details class=\"dni-treeview\"><summary><span class=\"dni-code-hint\"><code>{ &quot;score&quot;: &quot;Good&quot;, &quot;years&quot;: &quot;1&quot;, &quot;limit&quot;: 750 }</code></span></summary><div><table><thead><tr></tr></thead><tbody><tr><td>score</td><td><span>&quot;Good&quot;</span></td></tr><tr><td>years</td><td><span>&quot;1&quot;</span></td></tr><tr><td>limit</td><td><span><div class=\"dni-plaintext\">750</div></span></td></tr></tbody></table></div></details></td></tr><tr><td><details class=\"dni-treeview\"><summary><span class=\"dni-code-hint\"><code>{ &quot;score&quot;: &quot;Good&quot;, &quot;years&quot;: &quot;2&quot;, &quot;limit&quot;: 1000 }</code></span></summary><div><table><thead><tr></tr></thead><tbody><tr><td>score</td><td><span>&quot;Good&quot;</span></td></tr><tr><td>years</td><td><span>&quot;2&quot;</span></td></tr><tr><td>limit</td><td><span><div class=\"dni-plaintext\">1000</div></span></td></tr></tbody></table></div></details></td></tr><tr><td><details class=\"dni-treeview\"><summary><span class=\"dni-code-hint\"><code>{ &quot;score&quot;: &quot;Good&quot;, &quot;years&quot;: &quot;*&quot;, &quot;limit&quot;: 2000 }</code></span></summary><div><table><thead><tr></tr></thead><tbody><tr><td>score</td><td><span>&quot;Good&quot;</span></td></tr><tr><td>years</td><td><span>&quot;*&quot;</span></td></tr><tr><td>limit</td><td><span><div class=\"dni-plaintext\">2000</div></span></td></tr></tbody></table></div></details></td></tr><tr><td><details class=\"dni-treeview\"><summary><span class=\"dni-code-hint\"><code>{ &quot;score&quot;: &quot;*&quot;, &quot;years&quot;: &quot;*&quot;, &quot;limit&quot;: 250 }</code></span></summary><div><table><thead><tr></tr></thead><tbody><tr><td>score</td><td><span>&quot;*&quot;</span></td></tr><tr><td>years</td><td><span>&quot;*&quot;</span></td></tr><tr><td>limit</td><td><span><div class=\"dni-plaintext\">250</div></span></td></tr></tbody></table></div></details></td></tr></tbody></table></div></details><style id=\"dni-styles-JsonElement\">    \r\n",
       ".dni-code-hint {\r\n",
       "    font-style: italic;\r\n",
       "    overflow: hidden;\r\n",
       "    white-space: nowrap;\r\n",
       "}\r\n",
       "\r\n",
       ".dni-treeview {\r\n",
       "    white-space: nowrap;\r\n",
       "}\r\n",
       "\r\n",
       ".dni-treeview td {\r\n",
       "    vertical-align: top;\r\n",
       "}\r\n",
       "\r\n",
       "details.dni-treeview {\r\n",
       "    padding-left: 1em;\r\n",
       "}</style>"
      ]
     },
     "metadata": {},
     "output_type": "display_data"
    }
   ],
   "source": [
    "#!fsharp\n",
    "#!share creditLimits --from value\n",
    "\n",
    "open System.Text.Json\n",
    "\n",
    "let jsonDoc = creditLimits |> JsonDocument.Parse\n",
    "\n",
    "jsonDoc"
   ]
  },
  {
   "cell_type": "markdown",
   "metadata": {},
   "source": [
    "I add a function, `toTuple`, that pipes the array of `JsonElement` to tuples:"
   ]
  },
  {
   "cell_type": "code",
   "execution_count": null,
   "metadata": {
    "dotnet_interactive": {
     "language": "fsharp"
    }
   },
   "outputs": [
    {
     "data": {
      "text/html": [
       "<table><thead><tr><th><i>index</i></th><th>Item1</th><th>Item2</th><th>Item3</th></tr></thead><tbody><tr><td>0</td><td>Medium</td><td>1</td><td><div class=\"dni-plaintext\">500</div></td></tr><tr><td>1</td><td>Good</td><td>0</td><td><div class=\"dni-plaintext\">750</div></td></tr><tr><td>2</td><td>Good</td><td>1</td><td><div class=\"dni-plaintext\">750</div></td></tr><tr><td>3</td><td>Good</td><td>2</td><td><div class=\"dni-plaintext\">1000</div></td></tr><tr><td>4</td><td>Good</td><td>*</td><td><div class=\"dni-plaintext\">2000</div></td></tr><tr><td>5</td><td>*</td><td>*</td><td><div class=\"dni-plaintext\">250</div></td></tr></tbody></table>"
      ]
     },
     "metadata": {},
     "output_type": "display_data"
    }
   ],
   "source": [
    "#!fsharp\n",
    "\n",
    "let toTuple (jElement: JsonElement) =\n",
    "    let score = (jElement.GetProperty \"score\").GetString()\n",
    "    let years = (jElement.GetProperty \"years\").GetString()\n",
    "    let limit = (jElement.GetProperty \"limit\").GetInt32()\n",
    "\n",
    "    (score, years, limit)\n",
    "\n",
    "let creditLimitData = seq {\n",
    "        for i in jsonDoc.RootElement.EnumerateArray() -> i |> toTuple\n",
    "    }\n",
    "\n",
    "creditLimitData"
   ]
  },
  {
   "cell_type": "markdown",
   "metadata": {},
   "source": [
    "I know this is a lot of preparation (especially written out in book form) but we are going to need to cache two default credit limits to handle the wildcard business rules in the data:"
   ]
  },
  {
   "cell_type": "code",
   "execution_count": null,
   "metadata": {
    "dotnet_interactive": {
     "language": "fsharp"
    }
   },
   "outputs": [],
   "source": [
    "#!fsharp\n",
    "\n",
    "let extractLimit (_, _, limit) = limit\n",
    "\n",
    "let wildcard = \"*\"\n",
    "\n",
    "let defaultLimitForGoodCredit =\n",
    "    creditLimitData\n",
    "    |> Seq.where (fun (score, years, _) -> score = \"Good\" && years = wildcard)\n",
    "    |> Seq.exactlyOne\n",
    "    |> extractLimit\n",
    "\n",
    "let defaultLimit =\n",
    "    creditLimitData\n",
    "    |> Seq.where (fun (score, years, _) -> score = wildcard && years = wildcard)\n",
    "    |> Seq.exactlyOne\n",
    "    |> extractLimit\n"
   ]
  },
  {
   "cell_type": "markdown",
   "metadata": {},
   "source": [
    "Now we are ready to address the subject at hand: pattern matching.\n",
    "\n",
    "The `toLimit` function uses a `match` expression [📖 [docs](https://docs.microsoft.com/en-us/dotnet/fsharp/language-reference/match-expressions)], showing off pattern-matching features covered in the book:\n",
    "\n",
    "- implicitly matching on a tuple (in my case, using `None` and `_` is not very helpful—so read the book!)\n",
    "- using the `when` guard (or `when` clause)\n",
    "- using nested matches"
   ]
  },
  {
   "cell_type": "code",
   "execution_count": null,
   "metadata": {
    "dotnet_interactive": {
     "language": "fsharp"
    }
   },
   "outputs": [
    {
     "data": {
      "text/html": [
       "<table><thead><tr><th><i>index</i></th><th>Item1</th><th>Item2</th><th>Item3</th></tr></thead><tbody><tr><td>0</td><td>CUSTOMER001</td><td>Medium</td><td><div class=\"dni-plaintext\">500</div></td></tr><tr><td>1</td><td>CUSTOMER002</td><td>Medium</td><td><div class=\"dni-plaintext\">500</div></td></tr><tr><td>2</td><td>CUSTOMER003</td><td>Bad</td><td><div class=\"dni-plaintext\">250</div></td></tr><tr><td>3</td><td>CUSTOMER004</td><td>Good</td><td><div class=\"dni-plaintext\">750</div></td></tr><tr><td>4</td><td>CUSTOMER005</td><td>Good</td><td><div class=\"dni-plaintext\">2000</div></td></tr></tbody></table>"
      ]
     },
     "metadata": {},
     "output_type": "display_data"
    }
   ],
   "source": [
    "#!fsharp\n",
    "\n",
    "let toLimit (score, years) =\n",
    "    let searchResult =\n",
    "        creditLimitData\n",
    "        |> Seq.tryFind (fun (s, y, _) -> s = score && y = years)\n",
    "\n",
    "    match searchResult with\n",
    "    | None ->\n",
    "        match score with // nested match\n",
    "        | \"Good\" -> defaultLimitForGoodCredit\n",
    "        | \"Medium\" when Convert.ToInt32(years) > 5 -> defaultLimit * 2 // `when` guard\n",
    "        | _ -> defaultLimit // catch-all for undefined limit\n",
    "    | _ -> searchResult.Value |> extractLimit // catch-all for known limit\n",
    "\n",
    "let input = [\n",
    "    (\"CUSTOMER001\", \"Medium\", 1)\n",
    "    (\"CUSTOMER002\", \"Medium\", 10)\n",
    "    (\"CUSTOMER003\", \"Bad\", 10)\n",
    "    (\"CUSTOMER004\", \"Good\", 0)\n",
    "    (\"CUSTOMER005\", \"Good\", 10)\n",
    "]\n",
    "\n",
    "let output =\n",
    "    input\n",
    "    |> List.map\n",
    "        (fun (id, score, years) -> (id, score, (score, $\"{years}\") |> toLimit))\n",
    "\n",
    "output"
   ]
  },
  {
   "cell_type": "markdown",
   "metadata": {},
   "source": [
    "You see how we use the `when` clause to handle the weird edge case for a customer doing over _ten years_ of business with a Medium credit score?"
   ]
  },
  {
   "cell_type": "markdown",
   "metadata": {},
   "source": [
    "### using pattern matching on a data ‘stream’ of business rules (C#)\n",
    "\n",
    "Because I am not writing a book about F#, I can repeat the work done in the previous section in C#. Hey, it’s not computer science! It’s more like symmetry for the sake of novelty!\n",
    "\n",
    "Because this notebook is not made of paper, we can share our JSON ‘stream’ above with C#:"
   ]
  },
  {
   "cell_type": "code",
   "execution_count": null,
   "metadata": {
    "dotnet_interactive": {
     "language": "csharp"
    }
   },
   "outputs": [
    {
     "data": {
      "text/html": [
       "<details class=\"dni-treeview\"><summary><span class=\"dni-code-hint\"><code>[\n",
       "    { &quot;score&quot;: &quot;Medium&quot;, &quot;years&quot;: &quot;1&quot;, &quot;limit&quot;: 500 },\n",
       "    { &quot;score&quot;: &quot;Good&quot;, &quot;years&quot;: &quot;0&quot;, &quot;limit&quot;: 750 },\n",
       "    { &quot;score&quot;: &quot;Good&quot;, &quot;years&quot;: &quot;1&quot;, &quot;limit&quot;: 750 },\n",
       "    { &quot;score&quot;: &quot;Good&quot;, &quot;years&quot;: &quot;2&quot;, &quot;limit&quot;: 1000 },\n",
       "    { &quot;score&quot;: &quot;Good&quot;, &quot;years&quot;: &quot;*&quot;, &quot;limit&quot;: 2000 },\n",
       "    { &quot;score&quot;: &quot;*&quot;, &quot;years&quot;: &quot;*&quot;, &quot;limit&quot;: 250 }\n",
       "]</code></span></summary><div><table><thead><tr></tr></thead><tbody><tr><td><details class=\"dni-treeview\"><summary><span class=\"dni-code-hint\"><code>{ &quot;score&quot;: &quot;Medium&quot;, &quot;years&quot;: &quot;1&quot;, &quot;limit&quot;: 500 }</code></span></summary><div><table><thead><tr></tr></thead><tbody><tr><td>score</td><td><span>&quot;Medium&quot;</span></td></tr><tr><td>years</td><td><span>&quot;1&quot;</span></td></tr><tr><td>limit</td><td><span><div class=\"dni-plaintext\">500</div></span></td></tr></tbody></table></div></details></td></tr><tr><td><details class=\"dni-treeview\"><summary><span class=\"dni-code-hint\"><code>{ &quot;score&quot;: &quot;Good&quot;, &quot;years&quot;: &quot;0&quot;, &quot;limit&quot;: 750 }</code></span></summary><div><table><thead><tr></tr></thead><tbody><tr><td>score</td><td><span>&quot;Good&quot;</span></td></tr><tr><td>years</td><td><span>&quot;0&quot;</span></td></tr><tr><td>limit</td><td><span><div class=\"dni-plaintext\">750</div></span></td></tr></tbody></table></div></details></td></tr><tr><td><details class=\"dni-treeview\"><summary><span class=\"dni-code-hint\"><code>{ &quot;score&quot;: &quot;Good&quot;, &quot;years&quot;: &quot;1&quot;, &quot;limit&quot;: 750 }</code></span></summary><div><table><thead><tr></tr></thead><tbody><tr><td>score</td><td><span>&quot;Good&quot;</span></td></tr><tr><td>years</td><td><span>&quot;1&quot;</span></td></tr><tr><td>limit</td><td><span><div class=\"dni-plaintext\">750</div></span></td></tr></tbody></table></div></details></td></tr><tr><td><details class=\"dni-treeview\"><summary><span class=\"dni-code-hint\"><code>{ &quot;score&quot;: &quot;Good&quot;, &quot;years&quot;: &quot;2&quot;, &quot;limit&quot;: 1000 }</code></span></summary><div><table><thead><tr></tr></thead><tbody><tr><td>score</td><td><span>&quot;Good&quot;</span></td></tr><tr><td>years</td><td><span>&quot;2&quot;</span></td></tr><tr><td>limit</td><td><span><div class=\"dni-plaintext\">1000</div></span></td></tr></tbody></table></div></details></td></tr><tr><td><details class=\"dni-treeview\"><summary><span class=\"dni-code-hint\"><code>{ &quot;score&quot;: &quot;Good&quot;, &quot;years&quot;: &quot;*&quot;, &quot;limit&quot;: 2000 }</code></span></summary><div><table><thead><tr></tr></thead><tbody><tr><td>score</td><td><span>&quot;Good&quot;</span></td></tr><tr><td>years</td><td><span>&quot;*&quot;</span></td></tr><tr><td>limit</td><td><span><div class=\"dni-plaintext\">2000</div></span></td></tr></tbody></table></div></details></td></tr><tr><td><details class=\"dni-treeview\"><summary><span class=\"dni-code-hint\"><code>{ &quot;score&quot;: &quot;*&quot;, &quot;years&quot;: &quot;*&quot;, &quot;limit&quot;: 250 }</code></span></summary><div><table><thead><tr></tr></thead><tbody><tr><td>score</td><td><span>&quot;*&quot;</span></td></tr><tr><td>years</td><td><span>&quot;*&quot;</span></td></tr><tr><td>limit</td><td><span><div class=\"dni-plaintext\">250</div></span></td></tr></tbody></table></div></details></td></tr></tbody></table></div></details><style id=\"dni-styles-JsonElement\">    \r\n",
       ".dni-code-hint {\r\n",
       "    font-style: italic;\r\n",
       "    overflow: hidden;\r\n",
       "    white-space: nowrap;\r\n",
       "}\r\n",
       "\r\n",
       ".dni-treeview {\r\n",
       "    white-space: nowrap;\r\n",
       "}\r\n",
       "\r\n",
       ".dni-treeview td {\r\n",
       "    vertical-align: top;\r\n",
       "}\r\n",
       "\r\n",
       "details.dni-treeview {\r\n",
       "    padding-left: 1em;\r\n",
       "}</style>"
      ]
     },
     "metadata": {},
     "output_type": "display_data"
    }
   ],
   "source": [
    "#!share creditLimits --from value\n",
    "\n",
    "using System.Text.Json;\n",
    "\n",
    "var jsonDoc = JsonDocument.Parse(creditLimits);\n",
    "\n",
    "jsonDoc"
   ]
  },
  {
   "cell_type": "markdown",
   "metadata": {},
   "source": [
    "To obtain the C# equivalent of `toTuple`, we have to go through the ceremony of defining a static class (not done below because we are scripting) and an extension method:"
   ]
  },
  {
   "cell_type": "code",
   "execution_count": null,
   "metadata": {
    "dotnet_interactive": {
     "language": "csharp"
    }
   },
   "outputs": [
    {
     "data": {
      "text/html": [
       "<table><thead><tr><th><i>index</i></th><th>Item1</th><th>Item2</th><th>Item3</th></tr></thead><tbody><tr><td>0</td><td>Medium</td><td>1</td><td><div class=\"dni-plaintext\">500</div></td></tr><tr><td>1</td><td>Good</td><td>0</td><td><div class=\"dni-plaintext\">750</div></td></tr><tr><td>2</td><td>Good</td><td>1</td><td><div class=\"dni-plaintext\">750</div></td></tr><tr><td>3</td><td>Good</td><td>2</td><td><div class=\"dni-plaintext\">1000</div></td></tr><tr><td>4</td><td>Good</td><td>*</td><td><div class=\"dni-plaintext\">2000</div></td></tr><tr><td>5</td><td>*</td><td>*</td><td><div class=\"dni-plaintext\">250</div></td></tr></tbody></table>"
      ]
     },
     "metadata": {},
     "output_type": "display_data"
    }
   ],
   "source": [
    "public static (string score, string years, int limit) ToTuple(this JsonElement jElement)\n",
    "{\n",
    "    var score = jElement.GetProperty(\"score\").GetString();\n",
    "    var years = jElement.GetProperty(\"years\").GetString();\n",
    "    var limit = jElement.GetProperty(\"limit\").GetInt32();\n",
    "\n",
    "    return (score, years, limit);\n",
    "}\n",
    "\n",
    "var creditLimitData = jsonDoc.RootElement.EnumerateArray().Select(ToTuple);\n",
    "\n",
    "creditLimitData"
   ]
  },
  {
   "cell_type": "markdown",
   "metadata": {},
   "source": [
    "Now we are ready to address the subject at hand: pattern matching in C#."
   ]
  },
  {
   "cell_type": "code",
   "execution_count": null,
   "metadata": {
    "dotnet_interactive": {
     "language": "csharp"
    }
   },
   "outputs": [
    {
     "data": {
      "text/html": [
       "<table><thead><tr><th><i>index</i></th><th>Item1</th><th>Item2</th><th>Item3</th></tr></thead><tbody><tr><td>0</td><td>CUSTOMER001</td><td>Medium</td><td><div class=\"dni-plaintext\">500</div></td></tr><tr><td>1</td><td>CUSTOMER002</td><td>Medium</td><td><div class=\"dni-plaintext\">500</div></td></tr><tr><td>2</td><td>CUSTOMER003</td><td>Bad</td><td><div class=\"dni-plaintext\">250</div></td></tr><tr><td>3</td><td>CUSTOMER004</td><td>Good</td><td><div class=\"dni-plaintext\">750</div></td></tr><tr><td>4</td><td>CUSTOMER005</td><td>Good</td><td><div class=\"dni-plaintext\">2000</div></td></tr></tbody></table>"
      ]
     },
     "metadata": {},
     "output_type": "display_data"
    }
   ],
   "source": [
    "const string wildcard = \"*\";\n",
    "\n",
    "static int defaultLimitForGoodCredit;\n",
    "\n",
    "static int defaultLimit;\n",
    "\n",
    "public static int ToLimit(this (string score, string years) tuple,\n",
    "    IEnumerable<(string score, string years, int limit)> creditLimitData)\n",
    "{\n",
    "    if(defaultLimitForGoodCredit == default(int))\n",
    "        defaultLimitForGoodCredit =\n",
    "            creditLimitData\n",
    "            .Single(i => i.score == \"Good\" && i.years == wildcard)\n",
    "            .limit;\n",
    "\n",
    "    if(defaultLimit == default(int))\n",
    "        defaultLimit =\n",
    "            creditLimitData\n",
    "            .Single(i => i.score == wildcard && i.years == wildcard)\n",
    "            .limit;\n",
    "\n",
    "    var searchResult =\n",
    "        creditLimitData\n",
    "        .FirstOrDefault(i => i.score == tuple.score && i.years == tuple.years);\n",
    "\n",
    "    return searchResult switch\n",
    "    {\n",
    "        (null, null, 0) =>\n",
    "            tuple.score switch // nested match\n",
    "            {\n",
    "                \"Good\" => defaultLimitForGoodCredit,\n",
    "                \"Medium\" when Convert.ToInt32(tuple.years) > 5 => defaultLimit * 2,\n",
    "                _ => defaultLimit, // catch-all for undefined limit\n",
    "            },\n",
    "        _ => searchResult.limit // catch-all for known limit\n",
    "    };\n",
    "}\n",
    "\n",
    "var input = new []\n",
    "{\n",
    "    (\"CUSTOMER001\", \"Medium\", 1),\n",
    "    (\"CUSTOMER002\", \"Medium\", 10),\n",
    "    (\"CUSTOMER003\", \"Bad\", 10),\n",
    "    (\"CUSTOMER004\", \"Good\", 0),\n",
    "    (\"CUSTOMER005\", \"Good\", 10),\n",
    "};\n",
    "\n",
    "var output =\n",
    "    input\n",
    "    .Select(i => {\n",
    "        var (id, score, years) = i;\n",
    "        var limit = (score, $\"{years}\").ToLimit(creditLimitData);\n",
    "\n",
    "        return (id, score, limit);\n",
    "    });\n",
    "\n",
    "output"
   ]
  },
  {
   "cell_type": "markdown",
   "metadata": {},
   "source": [
    "Note that, in C#, we use `switch` instead of `match`."
   ]
  },
  {
   "cell_type": "markdown",
   "metadata": {},
   "source": [
    "@[BryanWilhite](https://twitter.com/BryanWilhite)\n"
   ]
  },
  {
   "cell_type": "code",
   "execution_count": null,
   "metadata": {
    "dotnet_interactive": {
     "language": "fsharp"
    }
   },
   "outputs": [
    {
     "data": {
      "text/html": [
       "<table><tbody><tr><td><img src=\"data:image/png;base64, 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\" width=\"125em\"></img></td><td style=\"line-height:.8em\"><p style=\"font-size:1.5em\"><b>.NET Interactive</b></p><p>&#169; 2020 Microsoft Corporation</p><p><b>Version: </b>1.0.252001+662171b00f676a06b8db90dd51fa910aecbcd492</p><p><b>Build date: </b>2021-10-21T10:23:34.0000000Z</p><p><a href=\"https://github.com/dotnet/interactive\">https://github.com/dotnet/interactive</a></p></td></tr></tbody></table>"
      ]
     },
     "metadata": {},
     "output_type": "display_data"
    }
   ],
   "source": [
    "#!about"
   ]
  }
 ],
 "metadata": {
  "kernelspec": {
   "display_name": ".NET (C#)",
   "language": "C#",
   "name": ".net-csharp"
  },
  "language_info": {
   "file_extension": ".cs",
   "mimetype": "text/x-csharp",
   "name": "C#",
   "pygments_lexer": "csharp",
   "version": "9.0"
  },
  "orig_nbformat": 4
 },
 "nbformat": 4,
 "nbformat_minor": 2
}
