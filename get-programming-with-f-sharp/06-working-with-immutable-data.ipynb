{
 "cells": [
  {
   "cell_type": "markdown",
   "source": [
    "# Get Programming with F# by [Isaac Abraham](https://github.com/isaacabraham)\n",
    "\n",
    "## “Working with immutable data”\n",
    "\n",
    "The `let` keyword intends to express immutability. This intent is so deep that F# assumes you are performing a Boolean operation when you think you are expressing VB.NET-like variable assignment:\n"
   ],
   "metadata": {}
  },
  {
   "cell_type": "code",
   "execution_count": null,
   "source": [
    "let name = \"Isaac\"\n",
    "\n",
    "name = \"Kate\""
   ],
   "outputs": [
    {
     "output_type": "display_data",
     "data": {
      "text/html": [
       "<div class=\"dni-plaintext\">False</div>"
      ]
     },
     "metadata": {}
    }
   ],
   "metadata": {
    "dotnet_interactive": {
     "language": "fsharp"
    }
   }
  },
  {
   "cell_type": "markdown",
   "source": [
    "Even when you realize that the assignment operator in F# is `<-` (which is not pointing the _right_ way 😁), the intent of F# is still working against that OOP mentality:\n"
   ],
   "metadata": {}
  },
  {
   "cell_type": "code",
   "execution_count": null,
   "source": [
    "name <- \"Kate\""
   ],
   "outputs": [
    {
     "output_type": "error",
     "ename": "Error",
     "evalue": "input.fsx (1,1)-(1,15) typecheck error This value is not mutable. Consider using the mutable keyword, e.g. 'let mutable name = expression'.",
     "traceback": [
      "input.fsx (1,1)-(1,15) typecheck error This value is not mutable. Consider using the mutable keyword, e.g. 'let mutable name = expression'."
     ]
    }
   ],
   "metadata": {
    "dotnet_interactive": {
     "language": "fsharp"
    }
   }
  },
  {
   "cell_type": "markdown",
   "source": [
    ">The reason that F# makes this decision is to help guide you down what I refer to as the _pit of success_; you can use mutation when needed, but you should be explicit about it and should do so in a carefully controlled manner.\n"
   ],
   "metadata": {}
  },
  {
   "cell_type": "markdown",
   "source": [
    "## Working with mutable objects\n",
    "\n",
    "Most of the objects in the .NET BCL are inherently mutable and `DataTable` is no exception:\n"
   ],
   "metadata": {
    "dotnet_interactive": {
     "language": "fsharp"
    }
   }
  },
  {
   "cell_type": "code",
   "execution_count": null,
   "source": [
    "open System.Data\n",
    "\n",
    "let dt = new DataTable()\n",
    "\n",
    "dt.Prefix <- \"myPrefix\"\n",
    "dt.TableName <- \"myDT\""
   ],
   "outputs": [],
   "metadata": {
    "dotnet_interactive": {
     "language": "fsharp"
    }
   }
  },
  {
   "cell_type": "markdown",
   "source": [
    "However, we must remind ourselves that `dt` is immutable but its members are not.\n",
    "\n",
    ">F# also has a shortcut for creating mutable data structures in a way that assigns all properties in a single action. This shortcut is somewhat similar to object initializers in C#…:\n"
   ],
   "metadata": {}
  },
  {
   "cell_type": "code",
   "execution_count": null,
   "source": [
    "let dt2 = new DataTable(Prefix = \"myPrefix2\", TableName = \"mtDT2\")"
   ],
   "outputs": [],
   "metadata": {
    "dotnet_interactive": {
     "language": "fsharp"
    }
   }
  },
  {
   "cell_type": "markdown",
   "source": [
    "## Modeling state\n",
    "\n",
    "Issac ends this lesson comparing mutable and immutable state management with two simple examples. First, the mutable manager:\n"
   ],
   "metadata": {}
  },
  {
   "cell_type": "code",
   "execution_count": null,
   "source": [
    "let mutable petrol = 100.0\n",
    "\n",
    "let drive(distance) =\n",
    "    if distance = \"far\" then petrol <- petrol / 2.0\n",
    "    elif distance = \"medium\" then petrol <- petrol - 10.0\n",
    "    else petrol <- petrol - 1.0\n",
    "\n",
    "drive \"far\"\n",
    "drive \"medium\"\n",
    "drive \"short\"\n",
    "\n",
    "petrol"
   ],
   "outputs": [
    {
     "data": {
      "text/html": [
       "<div class=\"dni-plaintext\">39</div>"
      ]
     },
     "metadata": {},
     "output_type": "display_data"
    }
   ],
   "metadata": {
    "dotnet_interactive": {
     "language": "fsharp"
    }
   }
  },
  {
   "cell_type": "markdown",
   "source": [
    "Second, the immutable manager:\n"
   ],
   "metadata": {}
  },
  {
   "cell_type": "code",
   "execution_count": null,
   "source": [
    "let drive(petrol, distance) =\n",
    "    if distance = \"far\" then petrol / 2.0\n",
    "    elif distance = \"medium\" then petrol - 10.0\n",
    "    else petrol - 1.0\n",
    "\n",
    "let petrol = 100.0\n",
    "\n",
    "let firstState = drive (petrol, \"far\")\n",
    "let secondState = drive (firstState, \"medium\")\n",
    "let finalState = drive (secondState, \"short\")\n",
    "\n",
    "finalState"
   ],
   "outputs": [
    {
     "data": {
      "text/html": [
       "<div class=\"dni-plaintext\">39</div>"
      ]
     },
     "metadata": {},
     "output_type": "display_data"
    }
   ],
   "metadata": {
    "dotnet_interactive": {
     "language": "fsharp"
    }
   }
  },
  {
   "cell_type": "markdown",
   "source": [
    "In the mutable example, _all_ of the calls to `drive` share the same state, `petrol`, which effectively serves as implicit input and output for `drive`. Moreover, calling the mutable `drive` again and again changes the state of the system _implicitly_. Finally, when we see that `petrol` can be mutated elsewhere in the system then we are no longer able to to determine the state of the system for every call to `drive`.\n",
    "\n",
    "In the immutable example, `drive` is [deterministic](https://en.wikipedia.org/wiki/Deterministic_system). Repeatedly calling `drive` with the same inputs will return the same output (which is the definition of a [_function_](https://en.wikipedia.org/wiki/Function_(mathematics))). `firstState`, `secondState` and `finalState` are taking incremental snapshots of the system (which can be resource intensive):\n",
    "\n",
    ">…you’re manually storing intermediate state and explicitly passing that to the next function call. That’s not strictly necessary, and you’ll see in future lessons how F# has language syntax to avoid having to do this explicitly.\n"
   ],
   "metadata": {}
  }
 ],
 "metadata": {
  "orig_nbformat": 4,
  "language_info": {
   "file_extension": ".cs",
   "mimetype": "text/x-csharp",
   "name": "C#",
   "pygments_lexer": "csharp",
   "version": "9.0"
  },
  "kernelspec": {
   "display_name": ".NET (C#)",
   "language": "C#",
   "name": ".net-csharp"
  }
 },
 "nbformat": 4,
 "nbformat_minor": 2
}