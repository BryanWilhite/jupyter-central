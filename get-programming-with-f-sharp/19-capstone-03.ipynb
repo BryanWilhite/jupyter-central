{
 "cells": [
  {
   "cell_type": "markdown",
   "metadata": {},
   "source": [
    "# Get Programming with F# by [Isaac Abraham](https://github.com/isaacabraham)\n",
    "\n",
    "## “CAPSTONE 3”\n",
    "\n",
    "This capstone is an opportunity to use what we have learned in the previous lessons (specifically the last four) to get rid of the `mutable` shenanigans in [Capstone 2](https://github.com/BryanWilhite/jupyter-central/blob/master/get-programming-with-f-sharp/14-capstone-02.ipynb).\n",
    "\n",
    ">There are two ways of avoiding the imperative mutable model:\n",
    ">\n",
    ">- using recursion, which I’ve deliberately avoided so far.\n",
    ">- Treating the changes to the account as a sequence of operations that are applied against the previous version of the account…\n",
    ">\n",
    "\n",
    "My notes for Capstone 2 addresses the need for “a sequence of operations” with:\n",
    "\n",
    "```fsharp\n",
    "account\n",
    "|> withdraw 50M\n",
    "|> deposit 50M \n",
    "|> deposit 100M \n",
    "|> withdraw 50M \n",
    "|> withdraw 350M\n",
    "```\n",
    "\n",
    "But Capstone 3 demands support for a ‘stream’ of commands, say:"
   ]
  },
  {
   "cell_type": "code",
   "execution_count": null,
   "metadata": {
    "dotnet_interactive": {
     "language": "fsharp"
    }
   },
   "outputs": [],
   "source": [
    "#!fsharp\n",
    "\n",
    "let commands: List<(char * Option<decimal>)> =\n",
    "    [ \n",
    "        ('w', Some 50M) // I am simplifying what we have in the text by using command-amount tuples\n",
    "        ('d', Some 50M)\n",
    "        ('d', Some 100M)\n",
    "        ('w', Some 50M)\n",
    "        ('j', Some -9M) // this implies the need to validate commands\n",
    "        ('w', Some 350M)\n",
    "        ('x', None) //exit (terminate journal)\n",
    "    ]\n"
   ]
  },
  {
   "cell_type": "markdown",
   "metadata": {},
   "source": [
    "This new demand will make this system work without “hard-coding” commands. And the use of `Some` [📖 [docs](https://fsharp.github.io/fsharp-core-docs/reference/fsharp-core-fsharpoption-1.html#Some)] in the tuples above allow an amount to be `None` which is handy for the `x` command.\n",
    "\n",
    "I will `#load` the code from Capstone 2 for the sake of my opinionated notes:"
   ]
  },
  {
   "cell_type": "code",
   "execution_count": null,
   "metadata": {
    "dotnet_interactive": {
     "language": "fsharp"
    }
   },
   "outputs": [],
   "source": [
    "#!fsharp\n",
    "\n",
    "#load \"14-capstone-02/Domain.fs\"\n",
    "#load \"14-capstone-02/Operations.fs\"\n",
    "#load \"19-capstone-03/Operations.fs\"\n",
    "#load \"14-capstone-02/Auditing.fs\"\n",
    "\n",
    "open Capstone2.Operations\n",
    "open Capstone2.Domain\n",
    "open Capstone2.Auditing\n",
    "open System\n",
    "\n",
    "let withdraw = auditAs \"withdraw\" console withdraw\n",
    "let deposit = auditAs \"deposit\" console deposit\n",
    "\n",
    "let processCommand account (command, amount) =\n",
    "    printfn \"\"\n",
    "    let account =\n",
    "        if command = 'd' then account |> deposit amount\n",
    "        else account |> withdraw amount\n",
    "    printfn \"Current balance is £%M\" account.Balance\n",
    "    account\n",
    "\n",
    "let customer = { Name = \"Isaac\" }\n",
    "let openingAccount = { AccountId = Guid.Empty; Owner = customer; Balance = 0M }"
   ]
  },
  {
   "cell_type": "markdown",
   "metadata": {},
   "source": [
    "Among the `#load` directives from Capstone 2, a new `Operations.fs` file is loaded:"
   ]
  },
  {
   "cell_type": "code",
   "execution_count": null,
   "metadata": {
    "dotnet_interactive": {
     "language": "pwsh"
    }
   },
   "outputs": [
    {
     "name": "stdout",
     "output_type": "stream",
     "text": [
      "[<AutoOpen>]\n",
      "module CommandParsing\n",
      "\n",
      "    let isValidCommand (cmd, amt) = [ 'd'; 'w'; 'x' ] |> List.contains cmd\n",
      "    let isValidAmount (cmd, amt) = Some(amt).IsSome\n",
      "    let isValidCommandAndAmount (cmd, amt) =\n",
      "        [\n",
      "            isValidCommand\n",
      "            isValidAmount\n",
      "        ]\n",
      "        |> List.map (fun f -> f (cmd, amt)) \n",
      "        |> List.reduce (fun previous current -> previous && current)\n",
      "\n",
      "    let isStopCommand (cmd, amt) = cmd = 'x'\n"
     ]
    }
   ],
   "source": [
    "Get-Content -Path ./19-capstone-03/Operations.fs"
   ]
  },
  {
   "cell_type": "markdown",
   "metadata": {},
   "source": [
    "My independent decision to use tuple pairs, `(cmd, amt)`, has caused me rewrite all of the `CommandParsing` functions [[GitHub](https://github.com/isaacabraham/get-programming-fsharp/blob/master/src/code-listings/lesson-19/sample-solution/Program.fs#L12)] Isaac Abraham provides for us which neither desired or preferred.\n",
    "\n",
    "For example, here is his `isStopCommand` with rather elegant syntax:\n",
    "\n",
    "```fsharp\n",
    "let isStopCommand = (=) 'x'\n",
    "```\n",
    "\n",
    "Mine is this unwieldy container-ship of a thing:\n",
    "\n",
    "```fsharp\n",
    "let isStopCommand (cmd, amt) = cmd = 'x'\n",
    "```\n",
    "\n",
    "I see the difference between `=` and `(=)` even though both are [structural equality](https://fsharp.github.io/fsharp-core-docs/reference/fsharp-core-operators.html#(%20=%20)) operators. Adding curved brackets around the structural equality operator allows us to treat this argument like a function that takes two arguments—so `isStopCommand` can be rewritten as:\n",
    "\n",
    "```fsharp\n",
    "let isStopCommand (cmd, amt) = (=) cmd 'x'\n",
    "```"
   ]
  },
  {
   "cell_type": "markdown",
   "metadata": {},
   "source": [
    "## pipelining to a closing account\n",
    "\n",
    "We can stream `commands` through the pipelines to return a `closingAccount`:"
   ]
  },
  {
   "cell_type": "code",
   "execution_count": null,
   "metadata": {
    "dotnet_interactive": {
     "language": "fsharp"
    }
   },
   "outputs": [
    {
     "name": "stdout",
     "output_type": "stream",
     "text": [
      "\n",
      "Account 00000000-0000-0000-0000-000000000000: 10/25/2021 2:06:17 AM: Performing a withdraw operation for £50...\n",
      "Account 00000000-0000-0000-0000-000000000000: 10/25/2021 2:06:17 AM: Transaction rejected!\n",
      "Current balance is £0\n",
      "\n",
      "Account 00000000-0000-0000-0000-000000000000: 10/25/2021 2:06:17 AM: Performing a deposit operation for £50...\n",
      "Account 00000000-0000-0000-0000-000000000000: 10/25/2021 2:06:17 AM: Transaction accepted! Balance is now £50.\n",
      "Current balance is £50\n",
      "\n",
      "Account 00000000-0000-0000-0000-000000000000: 10/25/2021 2:06:17 AM: Performing a deposit operation for £100...\n",
      "Account 00000000-0000-0000-0000-000000000000: 10/25/2021 2:06:17 AM: Transaction accepted! Balance is now £150.\n",
      "Current balance is £150\n",
      "\n",
      "Account 00000000-0000-0000-0000-000000000000: 10/25/2021 2:06:17 AM: Performing a withdraw operation for £50...\n",
      "Account 00000000-0000-0000-0000-000000000000: 10/25/2021 2:06:17 AM: Transaction accepted! Balance is now £100.\n",
      "Current balance is £100\n",
      "\n",
      "Account 00000000-0000-0000-0000-000000000000: 10/25/2021 2:06:17 AM: Performing a withdraw operation for £350...\n",
      "Account 00000000-0000-0000-0000-000000000000: 10/25/2021 2:06:17 AM: Transaction rejected!\n",
      "Current balance is £100\n"
     ]
    }
   ],
   "source": [
    "#!fsharp\n",
    "\n",
    "let closingAccount =\n",
    "    commands\n",
    "    |> List.filter isValidCommandAndAmount\n",
    "    |> List.takeWhile (not << isStopCommand) // `<<` is the backward composition operator\n",
    "    |> List.map (fun (cmd, amt) -> (cmd, amt.Value)) // get rid of `Option<decimal>` with `Some.Value`\n",
    "    |> List.fold processCommand openingAccount"
   ]
  },
  {
   "cell_type": "markdown",
   "metadata": {},
   "source": [
    "The use of `not << isStopCommand` above is our first introduction to the _backward function composition operator_ [📖 [docs](https://fsharp.github.io/fsharp-core-docs/reference/fsharp-core-operators.html#(%20%3C%3C%20))]. We saw, `>>`, the forward function composition operator in [our very first lesson](https://github.com/BryanWilhite/jupyter-central/blob/master/get-programming-with-f-sharp/00-introduction.ipynb).\n",
    "\n",
    "`<<` is backward because the rightmost function is called first and its output is passed left and, unlike pipelining with `|>` (or `<|`), the output of one function must be of the type of input for the other function. And, unlike pipelining, function composition always produces a function while pipelining can produce a scalar value. For more detail, see “[Function Composition and Pipelining](https://docs.microsoft.com/en-us/dotnet/fsharp/language-reference/functions/#function-composition-and-pipelining).”"
   ]
  },
  {
   "cell_type": "markdown",
   "metadata": {},
   "source": [
    "## some bits in the book my notes are not covering"
   ]
  },
  {
   "cell_type": "markdown",
   "metadata": {},
   "source": [
    "\n",
    "### reacting to the Console\n",
    "\n",
    "For the sake of general-audience communication, Isaac Abraham introduces this interesting use of `System.Console` to fill our `commands` binding above:\n",
    "\n",
    "```fsharp\n",
    "let commands = seq {\n",
    "    while true do\n",
    "        Console.Write \"(d)eposit, (w)ithdraw or e(x)it: \"\n",
    "        yield Console.ReadKey().KeyChar\n",
    "        Console.WriteLine() }\n",
    "```\n",
    "\n",
    "The endless `while` loop is definitely code written for a student. It is a reminder to the student that we can treat Console input as a _stream of data_ and is an introduction into the world of [reactive programming](https://en.wikipedia.org/wiki/Reactive_programming)."
   ]
  },
  {
   "cell_type": "markdown",
   "metadata": {},
   "source": [
    "### upgrading the transactions sub-system\n",
    "\n",
    "Capstone 3 upgrades the transactions sub-system from Capstone 2. My top-of-list change is essentially an introduction of serializing and deserializing data in F#, expressed as:\n",
    "\n",
    "```fsharp\n",
    "let loadAccountFromDisk = FileRepository.findTransactionsOnDisk >> Operations.loadAccount\n",
    "```\n",
    "\n",
    "where `FileRepository` leads us to the new `Capstone3.FileRepository` module [[GitHub](https://github.com/isaacabraham/get-programming-fsharp/blob/master/src/code-listings/lesson-19/sample-solution/FileRepository.fs)]. The source code shows us that `findTransactionsOnDisk` leads to `loadTransactions`:\n",
    "\n",
    "```fsharp\n",
    "let loadTransactions (folder:string) =\n",
    "    let owner, accountId =\n",
    "        let parts = folder.Split '_'\n",
    "        parts.[0], Guid.Parse parts.[1]\n",
    "    owner, accountId, buildPath(owner, accountId)\n",
    "                        |> Directory.EnumerateFiles\n",
    "                        |> Seq.map (File.ReadAllText >> Transactions.deserialize)\n",
    "```\n",
    "\n",
    "where `Transactions.deserialize` [[GitHub](https://github.com/isaacabraham/get-programming-fsharp/blob/master/src/code-listings/lesson-19/sample-solution/Domain.fs#L15)] is of my primary interest:"
   ]
  },
  {
   "cell_type": "code",
   "execution_count": null,
   "metadata": {
    "dotnet_interactive": {
     "language": "fsharp"
    }
   },
   "outputs": [],
   "source": [
    "#!fsharp\n",
    "\n",
    "open System\n",
    "\n",
    "type Transaction = { Timestamp : DateTime; Operation : string; Amount : decimal; Accepted : bool }\n",
    "\n",
    "let deserialize (fileContents:string) =\n",
    "    let parts = fileContents.Split([|\"***\"|], StringSplitOptions.None)\n",
    "    {\n",
    "        Timestamp = DateTime.Parse parts.[0]\n",
    "        Operation = parts.[1]\n",
    "        Amount = Decimal.Parse parts.[2]\n",
    "        Accepted = Boolean.Parse parts.[3]\n",
    "    }"
   ]
  },
  {
   "cell_type": "markdown",
   "metadata": {},
   "source": [
    "To generate sample data to test `deserialize`, we can go and get `deserialize` from Isaac’s [GitHub](https://github.com/isaacabraham/get-programming-fsharp/blob/master/src/code-listings/lesson-19/sample-solution/Domain.fs#L11):"
   ]
  },
  {
   "cell_type": "code",
   "execution_count": null,
   "metadata": {
    "dotnet_interactive": {
     "language": "fsharp"
    }
   },
   "outputs": [
    {
     "data": {
      "text/plain": [
       "10/25/2021 12:22:37 PM***deposit***39***false"
      ]
     },
     "metadata": {},
     "output_type": "display_data"
    }
   ],
   "source": [
    "#!fsharp\n",
    "\n",
    "let serialize transaction =\n",
    "    sprintf \"%O***%s***%M***%b\" transaction.Timestamp transaction.Operation transaction.Amount transaction.Accepted\n",
    "\n",
    "let lineInTextFile = serialize { Timestamp = DateTime.Now; Operation = \"deposit\"; Amount = 39M; Accepted = false }\n",
    "\n",
    "lineInTextFile"
   ]
  },
  {
   "cell_type": "markdown",
   "metadata": {},
   "source": [
    "Now we can run a little, _ad hoc_ unit test:"
   ]
  },
  {
   "cell_type": "code",
   "execution_count": null,
   "metadata": {
    "dotnet_interactive": {
     "language": "fsharp"
    }
   },
   "outputs": [
    {
     "name": "stdout",
     "output_type": "stream",
     "text": [
      "{ Timestamp = 10/25/2021 12:22:37 PM\n",
      "  Operation = \"deposit\"\n",
      "  Amount = 39M\n",
      "  Accepted = false }"
     ]
    }
   ],
   "source": [
    "#!fsharp\n",
    "\n",
    "let transaction = deserialize lineInTextFile\n",
    "\n",
    "transaction |> printf \"%A\""
   ]
  },
  {
   "cell_type": "markdown",
   "metadata": {},
   "source": [
    "This introduction to serializing and deserializing of data is great and I expect more advanced scenarios with JSON in, say, lesson 31 (p. 365 )."
   ]
  },
  {
   "cell_type": "markdown",
   "metadata": {},
   "source": [
    "[Bryan Wilhite is on LinkedIn](https://www.linkedin.com/in/wilhite)🇺🇸💼\n"
   ]
  },
  {
   "cell_type": "code",
   "execution_count": null,
   "metadata": {
    "dotnet_interactive": {
     "language": "fsharp"
    }
   },
   "outputs": [
    {
     "data": {
      "text/html": [
       "<table><tbody><tr><td><img src=\"data:image/png;base64, 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\" width=\"125em\"></img></td><td style=\"line-height:.8em\"><p style=\"font-size:1.5em\"><b>.NET Interactive</b></p><p>&#169; 2020 Microsoft Corporation</p><p><b>Version: </b>1.0.252001+662171b00f676a06b8db90dd51fa910aecbcd492</p><p><b>Build date: </b>2021-10-21T10:23:34.0000000Z</p><p><a href=\"https://github.com/dotnet/interactive\">https://github.com/dotnet/interactive</a></p></td></tr></tbody></table>"
      ]
     },
     "metadata": {},
     "output_type": "display_data"
    }
   ],
   "source": [
    "#!about"
   ]
  }
 ],
 "metadata": {
  "kernelspec": {
   "display_name": ".NET (C#)",
   "language": "C#",
   "name": ".net-csharp"
  },
  "language_info": {
   "file_extension": ".cs",
   "mimetype": "text/x-csharp",
   "name": "C#",
   "pygments_lexer": "csharp",
   "version": "9.0"
  },
  "orig_nbformat": 4
 },
 "nbformat": 4,
 "nbformat_minor": 2
}
