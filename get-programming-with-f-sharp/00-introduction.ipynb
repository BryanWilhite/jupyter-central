{
 "cells": [
  {
   "cell_type": "markdown",
   "source": [
    "# Get Programming with F# by [Isaac Abraham](https://github.com/isaacabraham)\n",
    "\n",
    "## Introduction\n",
    "\n",
    ">F# gives you simplicity and succinctness like Python with correctness, robustness and performance beyond C# or Java.\n",
    ">\n",
    "> — [fsharp.org](https://fsharp.org/)\n"
   ],
   "metadata": {}
  },
  {
   "cell_type": "markdown",
   "source": [
    "## Comparing and contrasting OO and FP-based languages on .NET\n",
    "\n",
    "I was aware that C# was an OOP-first language that made wise compromises by incorporating Functional features. However, F# is also governed by compromise and is considered a _hybrid_ language:\n",
    "\n",
    "> …F# makes it easy to write code in the FP style, but is a hybrid language, supporting both OO and FP features; it’s not a pure functional language [like ![Haskell](https://www.haskell.org/)]. …This mentality applies across all of F#; it’s prescriptive about making it easy to work with certain that fit in with the functional programming style, while allowing us to revert to modeling problems with objects and imperative code if we’re willing to “pay the cost” of a few extra keywords.\n",
    ">\n",
    "\n",
    "| Feature | C# / VB.NET | F# |\n",
    "|- |- |-\n",
    "| Execution model | Statements | Expressions |\n",
    "| Data structures | Mutable data | Immutable data |\n",
    "| Program flow | Imperative | Declarative |\n",
    "| Modeling behavior | Stateful classes | Functions with separate immutable state |\n",
    "| Reuse | Inheritance | Composition |\n"
   ],
   "metadata": {}
  },
  {
   "cell_type": "markdown",
   "source": [
    "## Imperative and declarative code samples in C# and F#\n",
    "\n",
    "Here is a C# method that imperatively gets even numbers:\n"
   ],
   "metadata": {}
  },
  {
   "cell_type": "code",
   "execution_count": null,
   "source": [
    "IEnumerable<int> GetEvenNumbers(IEnumerable<int> numbers)\n",
    "{\n",
    "    var output = new List<int>(); // temporary collection to store output\n",
    "    foreach (var number in numbers) // explicit statement (ceremony) of iteration\n",
    "        if(number % 2 == 0) // actual filter logic (business rule)\n",
    "            output.Add(number); // explicit statement (ceremony) of collection manipulation\n",
    "\n",
    "    return output;\n",
    "}\n",
    "\n",
    "GetEvenNumbers(Enumerable.Range(1, 10))"
   ],
   "outputs": [
    {
     "data": {
      "text/html": [
       "<table><thead><tr><th><i>index</i></th><th>value</th></tr></thead><tbody><tr><td>0</td><td><div class=\"dni-plaintext\">2</div></td></tr><tr><td>1</td><td><div class=\"dni-plaintext\">4</div></td></tr><tr><td>2</td><td><div class=\"dni-plaintext\">6</div></td></tr><tr><td>3</td><td><div class=\"dni-plaintext\">8</div></td></tr><tr><td>4</td><td><div class=\"dni-plaintext\">10</div></td></tr></tbody></table>"
      ]
     },
     "metadata": {},
     "output_type": "display_data"
    }
   ],
   "metadata": {
    "dotnet_interactive": {
     "language": "csharp"
    }
   }
  },
  {
   "cell_type": "markdown",
   "source": [
    "Now, we turn to the F# equivalent:\n"
   ],
   "metadata": {}
  },
  {
   "cell_type": "code",
   "execution_count": null,
   "source": [
    "let getEvenNumbers =\n",
    "    Seq.filter(fun number -> number % 2 = 0) // actual filter logic (business rule)\n",
    "\n",
    "getEvenNumbers [1..10] // F# is actually *inferring* the types above from here!"
   ],
   "outputs": [
    {
     "data": {
      "text/html": [
       "<table><thead><tr><th><i>index</i></th><th>value</th></tr></thead><tbody><tr><td>0</td><td><div class=\"dni-plaintext\">2</div></td></tr><tr><td>1</td><td><div class=\"dni-plaintext\">4</div></td></tr><tr><td>2</td><td><div class=\"dni-plaintext\">6</div></td></tr><tr><td>3</td><td><div class=\"dni-plaintext\">8</div></td></tr><tr><td>4</td><td><div class=\"dni-plaintext\">10</div></td></tr></tbody></table>"
      ]
     },
     "metadata": {},
     "output_type": "display_data"
    }
   ],
   "metadata": {
    "dotnet_interactive": {
     "language": "fsharp"
    }
   }
  },
  {
   "cell_type": "markdown",
   "source": [
    "We can return to C# and use one of its functional features, [LINQ](https://en.wikipedia.org/wiki/Language_Integrated_Query) and lambda expressions (in [generic delegates](https://docs.microsoft.com/en-us/dotnet/api/system.func-2?view=net-5.0#remarks)), to try to match the succinctness of F#:\n"
   ],
   "metadata": {}
  },
  {
   "cell_type": "code",
   "execution_count": null,
   "source": [
    "Func<int, bool> getEvenNumbers = number => number % 2 == 0;\n",
    "\n",
    "Enumerable.Range(1, 10).Where(getEvenNumbers)"
   ],
   "outputs": [
    {
     "data": {
      "text/html": [
       "<table><thead><tr><th><i>index</i></th><th>value</th></tr></thead><tbody><tr><td>0</td><td><div class=\"dni-plaintext\">2</div></td></tr><tr><td>1</td><td><div class=\"dni-plaintext\">4</div></td></tr><tr><td>2</td><td><div class=\"dni-plaintext\">6</div></td></tr><tr><td>3</td><td><div class=\"dni-plaintext\">8</div></td></tr><tr><td>4</td><td><div class=\"dni-plaintext\">10</div></td></tr></tbody></table>"
      ]
     },
     "metadata": {},
     "output_type": "display_data"
    }
   ],
   "metadata": {
    "dotnet_interactive": {
     "language": "csharp"
    }
   }
  },
  {
   "cell_type": "markdown",
   "source": [
    "## Composing behaviors in C# and F#\n",
    "\n",
    ">F# also emphasizes composition rather than inheritance to achieve reuse… Functions are the main component of reuse, rather than classes, so expect to write small functions that “plug together” to create powerful abstractions.\n",
    "\n",
    "Let us compose the squaring of numbers with the even numbers we are yielding above:\n"
   ],
   "metadata": {}
  },
  {
   "cell_type": "code",
   "execution_count": null,
   "source": [
    "let squareNumbers = Seq.map(fun x -> x * x)\n",
    "let getEvenNumbersThenSquare =\n",
    "    getEvenNumbers >> squareNumbers // `>>` is the function composition operator\n",
    "\n",
    "getEvenNumbersThenSquare [1..10]"
   ],
   "outputs": [
    {
     "data": {
      "text/html": [
       "<table><thead><tr><th><i>index</i></th><th>value</th></tr></thead><tbody><tr><td>0</td><td><div class=\"dni-plaintext\">4</div></td></tr><tr><td>1</td><td><div class=\"dni-plaintext\">16</div></td></tr><tr><td>2</td><td><div class=\"dni-plaintext\">36</div></td></tr><tr><td>3</td><td><div class=\"dni-plaintext\">64</div></td></tr><tr><td>4</td><td><div class=\"dni-plaintext\">100</div></td></tr></tbody></table>"
      ]
     },
     "metadata": {},
     "output_type": "display_data"
    }
   ],
   "metadata": {
    "dotnet_interactive": {
     "language": "fsharp"
    }
   }
  }
 ],
 "metadata": {
  "orig_nbformat": 4,
  "language_info": {
   "name": "F#"
  },
  "kernelspec": {
   "name": ".net-fsharp",
   "display_name": ".NET (F#)",
   "language": "F#"
  }
 },
 "nbformat": 4,
 "nbformat_minor": 2
}