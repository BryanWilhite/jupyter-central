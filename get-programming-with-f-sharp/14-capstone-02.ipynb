{
 "cells": [
  {
   "cell_type": "markdown",
   "metadata": {},
   "source": [
    "# Get Programming with F# by [Isaac Abraham](https://github.com/isaacabraham)\n",
    "\n",
    "## “CAPSTONE 2”\n",
    "\n",
    "I am seeing Capstone 2 as an opportunity to do two things:\n",
    "\n",
    "1. download, run and analyze [the source code](https://github.com/isaacabraham/get-programming-fsharp/tree/master/src/code-listings/lesson-14) designed for lesson 13 in the book\n",
    "2. use `#load` in an F# script of this notebook\n"
   ]
  },
  {
   "cell_type": "markdown",
   "metadata": {},
   "source": [
    "## downloading from GitHub\n",
    "\n",
    "One way to download our code from GitHub is via a [DownGit link](https://downgit.github.io/#/home?url=https://github.com/isaacabraham/get-programming-fsharp/tree/master/src/code-listings/lesson-14). This will allow us to save the GitHub folder as a ZIP archive on our local machine.\n",
    "\n",
    "Success with DownGit means we should see an `*.fsx` file among several `*.fs` files after extracting the ZIP archive by hand:\n"
   ]
  },
  {
   "cell_type": "code",
   "execution_count": null,
   "metadata": {
    "dotnet_interactive": {
     "language": "pwsh"
    }
   },
   "outputs": [
    {
     "name": "stdout",
     "output_type": "stream",
     "text": [
      "App.config\n",
      "Auditing.fs\n",
      "Capstone2.fsproj\n",
      "Capstone2.fsx\n",
      "Capstone2.sln\n",
      "Domain.fs\n",
      "Operations.fs\n",
      "Program.fs\n"
     ]
    }
   ],
   "source": [
    "Get-ChildItem -Path ./14-capstone-02 -Name"
   ]
  },
  {
   "cell_type": "markdown",
   "metadata": {},
   "source": [
    "Note that the `*.fsproj` and `*.sln` files shown above might not be in .NET Core formats.\n"
   ]
  },
  {
   "cell_type": "markdown",
   "metadata": {},
   "source": [
    "## `Capstone2.fsx` in this notebook\n",
    "\n",
    "The contents of `Capstone2.fsx` can be copied an pasted below with slight modifications of the `#load` paths:\n"
   ]
  },
  {
   "cell_type": "code",
   "execution_count": null,
   "metadata": {
    "dotnet_interactive": {
     "language": "fsharp"
    }
   },
   "outputs": [
    {
     "name": "stdout",
     "output_type": "stream",
     "text": [
      "Account 00000000-0000-0000-0000-000000000000: 10/21/2021 3:13:50 AM: Performing a withdraw operation for £10...\n",
      "Account 00000000-0000-0000-0000-000000000000: 10/21/2021 3:13:50 AM: Transaction accepted! Balance is now £80.\n",
      "Account 00000000-0000-0000-0000-000000000000: Testing console audit\n",
      "Account 00000000-0000-0000-0000-000000000000: 10/21/2021 3:13:50 AM: Performing a withdraw operation for £50...\n",
      "Account 00000000-0000-0000-0000-000000000000: 10/21/2021 3:13:50 AM: Transaction accepted! Balance is now £40.\n",
      "Account 00000000-0000-0000-0000-000000000000: 10/21/2021 3:13:50 AM: Performing a deposit operation for £50...\n",
      "Account 00000000-0000-0000-0000-000000000000: 10/21/2021 3:13:50 AM: Transaction accepted! Balance is now £90.\n",
      "Account 00000000-0000-0000-0000-000000000000: 10/21/2021 3:13:50 AM: Performing a deposit operation for £100...\n",
      "Account 00000000-0000-0000-0000-000000000000: 10/21/2021 3:13:50 AM: Transaction accepted! Balance is now £190.\n",
      "Account 00000000-0000-0000-0000-000000000000: 10/21/2021 3:13:50 AM: Performing a withdraw operation for £50...\n",
      "Account 00000000-0000-0000-0000-000000000000: 10/21/2021 3:13:50 AM: Transaction accepted! Balance is now £140.\n",
      "Account 00000000-0000-0000-0000-000000000000: 10/21/2021 3:13:50 AM: Performing a withdraw operation for £350...\n",
      "Account 00000000-0000-0000-0000-000000000000: 10/21/2021 3:13:50 AM: Transaction rejected!\n"
     ]
    },
    {
     "data": {
      "text/html": [
       "<table><thead><tr><th>AccountId</th><th>Owner</th><th>Balance</th></tr></thead><tbody><tr><td><div class=\"dni-plaintext\">00000000-0000-0000-0000-000000000000</div></td><td><div class=\"dni-plaintext\">{ { Name = &quot;Isaac&quot; }: Name: Isaac }</div></td><td><div class=\"dni-plaintext\">140</div></td></tr></tbody></table>"
      ]
     },
     "metadata": {},
     "output_type": "display_data"
    }
   ],
   "source": [
    "#!fsharp\n",
    "\n",
    "#load \"14-capstone-02/Domain.fs\"\n",
    "#load \"14-capstone-02/Operations.fs\"\n",
    "#load \"14-capstone-02/Auditing.fs\"\n",
    "\n",
    "open Capstone2.Operations\n",
    "open Capstone2.Domain\n",
    "open Capstone2.Auditing\n",
    "open System\n",
    "\n",
    "// Create console-auditing withdraw and deposit functions.\n",
    "// Notice that the signatures of the new \"shadowed\" functions\n",
    "// have the same signature as the original ones. This is equivalent\n",
    "// to a Decorator in OO terms.\n",
    "let withdraw = auditAs \"withdraw\" console withdraw\n",
    "let deposit = auditAs \"deposit\" console deposit\n",
    "\n",
    "let customer = { Name = \"Isaac\" }\n",
    "let account = { AccountId = Guid.Empty; Owner = customer; Balance = 90M }\n",
    "\n",
    "// Test out withdraw\n",
    "let newAccount = account |> withdraw 10M\n",
    "newAccount.Balance = 80M // should be true!\n",
    "\n",
    "// Test out console auditer\n",
    "console account \"Testing console audit\"\n",
    "// should print \"Account 00000000-0000-0000-0000-000000000000: Testing console audit\"\n",
    "\n",
    "account\n",
    "|> withdraw 50M\n",
    "|> deposit 50M \n",
    "|> deposit 100M \n",
    "|> withdraw 50M \n",
    "|> withdraw 350M"
   ]
  },
  {
   "cell_type": "markdown",
   "metadata": {},
   "source": [
    "## two different functions with the same argument signature can be passed like an interface\n",
    "\n",
    "Let us take a look at `Operations.fs`:\n"
   ]
  },
  {
   "cell_type": "code",
   "execution_count": null,
   "metadata": {
    "dotnet_interactive": {
     "language": "pwsh"
    }
   },
   "outputs": [
    {
     "name": "stdout",
     "output_type": "stream",
     "text": [
      "module Capstone2.Operations\n",
      "\n",
      "open System\n",
      "open Capstone2.Domain\n",
      "\n",
      "/// Withdraws an amount of an account (if there are sufficient funds)\n",
      "let withdraw amount account =\n",
      "    if amount > account.Balance then account\n",
      "    else { account with Balance = account.Balance - amount }\n",
      "\n",
      "/// Deposits an amount into an account\n",
      "let deposit amount account =\n",
      "    { account with Balance = account.Balance + amount }\n",
      "\n",
      "/// Runs some account operation such as withdraw or deposit with auditing.\n",
      "let auditAs operationName audit operation amount account =\n",
      "    audit account (sprintf \"%O: Performing a %s operation for £%M...\" DateTime.UtcNow operationName amount)\n",
      "    let updatedAccount = operation amount account\n",
      "    \n",
      "    let accountIsUnchanged = (updatedAccount = account)\n",
      "\n",
      "    if accountIsUnchanged then audit account (sprintf \"%O: Transaction rejected!\" DateTime.UtcNow) \n",
      "    else audit account (sprintf \"%O: Transaction accepted! Balance is now £%M.\" DateTime.UtcNow updatedAccount.Balance)\n",
      "\n",
      "    updatedAccount\n"
     ]
    }
   ],
   "source": [
    "Get-Content -Path ./14-capstone-02/Operations.fs"
   ]
  },
  {
   "cell_type": "markdown",
   "metadata": {},
   "source": [
    "The `auditAs` function takes an `operation` argument which is a function that is called like this:\n",
    "\n",
    "```fsharp\n",
    "let updatedAccount = operation amount account\n",
    "```\n",
    "\n",
    "The subtle beauty here is that `withdraw` and `deposit` functions share the signature of `operation` and can be passed into `auditAs` interchangeably! This pattern holds for `audit account` as well, making `auditAs` a [_higher order function_](https://en.wikipedia.org/wiki/Higher-order_function).\n"
   ]
  },
  {
   "cell_type": "markdown",
   "metadata": {},
   "source": [
    "### mutating with `with`\n",
    "\n",
    "Notice that the `withdraw` and `deposit` functions return a _new copy_ of `account` using `with` in an _object expressions_ [📖 [docs](https://docs.microsoft.com/en-us/dotnet/fsharp/language-reference/object-expressions)] which are not mentioned until lesson 25:"
   ]
  },
  {
   "cell_type": "code",
   "execution_count": null,
   "metadata": {
    "dotnet_interactive": {
     "language": "fsharp"
    }
   },
   "outputs": [
    {
     "data": {
      "text/html": [
       "<table><thead><tr><th>AccountId</th><th>Owner</th><th>Balance</th></tr></thead><tbody><tr><td><div class=\"dni-plaintext\">5aa1e111-426e-4061-b4a5-63a74cc9d9a0</div></td><td><div class=\"dni-plaintext\">{ { Name = &quot;Ms. One&quot; }: Name: Ms. One }</div></td><td><div class=\"dni-plaintext\">577.0</div></td></tr></tbody></table>"
      ]
     },
     "metadata": {},
     "output_type": "display_data"
    }
   ],
   "source": [
    "#!fsharp\n",
    "\n",
    "let account1: Account = { AccountId = Guid.NewGuid(); Owner = { Name = \"Ms. One\" }; Balance = 577.0m }\n",
    "let account2: Account = { account1 with Balance = 39.99m }\n",
    "\n",
    "account1"
   ]
  },
  {
   "cell_type": "code",
   "execution_count": null,
   "metadata": {
    "dotnet_interactive": {
     "language": "fsharp"
    }
   },
   "outputs": [
    {
     "data": {
      "text/html": [
       "<table><thead><tr><th>AccountId</th><th>Owner</th><th>Balance</th></tr></thead><tbody><tr><td><div class=\"dni-plaintext\">5aa1e111-426e-4061-b4a5-63a74cc9d9a0</div></td><td><div class=\"dni-plaintext\">{ { Name = &quot;Ms. One&quot; }: Name: Ms. One }</div></td><td><div class=\"dni-plaintext\">39.99</div></td></tr></tbody></table>"
      ]
     },
     "metadata": {},
     "output_type": "display_data"
    }
   ],
   "source": [
    "#!fsharp\n",
    "\n",
    "account2"
   ]
  },
  {
   "cell_type": "markdown",
   "metadata": {},
   "source": [
    "So we see that `withdraw` and `deposit` are returning copies of `account` to overwrite the `mutable` `account` in `Program.fs`."
   ]
  },
  {
   "cell_type": "markdown",
   "metadata": {},
   "source": [
    "@[BryanWilhite](https://twitter.com/BryanWilhite)\n"
   ]
  },
  {
   "cell_type": "code",
   "execution_count": null,
   "metadata": {
    "dotnet_interactive": {
     "language": "fsharp"
    }
   },
   "outputs": [
    {
     "data": {
      "text/html": [
       "<table><tbody><tr><td><img src=\"data:image/png;base64, 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\" width=\"125em\"></img></td><td style=\"line-height:.8em\"><p style=\"font-size:1.5em\"><b>.NET Interactive</b></p><p>&#169; 2020 Microsoft Corporation</p><p><b>Version: </b>1.0.250604+e99bd250539a64e828b44cb9ad9353eeda9b5bc1</p><p><b>Build date: </b>2021-10-07T01:11:06.0000000Z</p><p><a href=\"https://github.com/dotnet/interactive\">https://github.com/dotnet/interactive</a></p></td></tr></tbody></table>"
      ]
     },
     "metadata": {},
     "output_type": "display_data"
    }
   ],
   "source": [
    "#!about"
   ]
  }
 ],
 "metadata": {
  "kernelspec": {
   "display_name": ".NET (C#)",
   "language": "C#",
   "name": ".net-csharp"
  },
  "language_info": {
   "file_extension": ".cs",
   "mimetype": "text/x-csharp",
   "name": "C#",
   "pygments_lexer": "csharp",
   "version": "9.0"
  },
  "orig_nbformat": 4
 },
 "nbformat": 4,
 "nbformat_minor": 2
}
