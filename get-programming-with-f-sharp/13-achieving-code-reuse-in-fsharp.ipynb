{
 "cells": [
  {
   "cell_type": "markdown",
   "source": [
    "# Get Programming with F# by [Isaac Abraham](https://github.com/isaacabraham)\r\n",
    "\r\n",
    "## “Achieving code reuse in F#”\r\n",
    "\r\n",
    ">LINQ and C# 3 introduced a whole raft of features that were inspired by the world of functional programming. One of the biggest takeaways was the pervasive use of higher order functions (HOF) throughout the LINQ framework. Despite the somewhat technical name, a higher-order function is a function that takes another function as one of its arguments.\r\n",
    "\r\n",
    "In the world of C#, the use of `Func<>` is the most expressive and succinct way to achieve code reuse through higher-order functions:\r\n"
   ],
   "metadata": {}
  },
  {
   "cell_type": "code",
   "execution_count": null,
   "source": [
    "public class Address\r\n",
    "{\r\n",
    "    public string Street { get; set; }\r\n",
    "    public string Town { get; set; }\r\n",
    "    public string City { get; set; }\r\n",
    "}\r\n",
    "\r\n",
    "public class Customer\r\n",
    "{\r\n",
    "    public string Forename { get; set; }\r\n",
    "    public string Surname { get; set; }\r\n",
    "    public int Age { get; set; }\r\n",
    "    public Address Address { get; set; }\r\n",
    "    public string EmailAddress { get; set; }\r\n",
    "}\r\n",
    "\r\n",
    "public static IEnumerable<Customer> GetCustomersWithInValidAddress(this IEnumerable<Customer> data,\r\n",
    "    Func<Address, bool?> addressValidator)\r\n",
    "{\r\n",
    "    if(data == null) return Enumerable.Empty<Customer>();\r\n",
    "    return data.Where(i => !i.HasValidAddress(addressValidator).GetValueOrDefault());\r\n",
    "}\r\n",
    "\r\n",
    "public static bool? HasValidAddress(this Customer data,\r\n",
    "    Func<Address, bool?> addressValidator)\r\n",
    "{\r\n",
    "    return addressValidator?.Invoke(data?.Address);\r\n",
    "}\r\n"
   ],
   "outputs": [],
   "metadata": {
    "dotnet_interactive": {
     "language": "csharp"
    }
   }
  },
  {
   "cell_type": "markdown",
   "source": [
    "The `addressValidator` [strategy](https://en.wikipedia.org/wiki/Strategy_pattern) passed to the `HasValidAddress` extension method (which cannot be in a `static class` for the scripting version of C#) is effectively a function, making `HasValidAddress` act like a higher-order function. With this HOF in place, `GetCustomersWithInValidAddress` builds on it with LINQ. We can then find the Customers with an invalid Address:\r\n"
   ],
   "metadata": {
    "dotnet_interactive": {
     "language": "csharp"
    }
   }
  },
  {
   "cell_type": "code",
   "execution_count": null,
   "source": [
    "var customers = new[]\r\n",
    "{\r\n",
    "    new Customer\r\n",
    "    {\r\n",
    "        Forename = \"Abe\",\r\n",
    "        Surname = \"Sinceros\",\r\n",
    "        Age = 32,\r\n",
    "        EmailAddress = \"abe@me.com\",\r\n",
    "        Address = new Address { Street = \"invalid\", Town = null, City = null }\r\n",
    "    },\r\n",
    "    new Customer\r\n",
    "    {\r\n",
    "        Forename = \"Betsy\",\r\n",
    "        Surname = \"Roos\",\r\n",
    "        Age = 37,\r\n",
    "        EmailAddress = \"broos@microsoft.com\",\r\n",
    "        Address = new Address { Street = \"123 Elm Street\", Town = \"Elmore\", City = \"Elmore Parish\" }\r\n",
    "    },\r\n",
    "    new Customer\r\n",
    "    {\r\n",
    "        Forename = \"Gilfraxian\",\r\n",
    "        Surname = \"Stalag\",\r\n",
    "        Age = 39,\r\n",
    "        EmailAddress = \"gs@apple.com\",\r\n",
    "        Address = new Address { Street = \"4333 Forest Circle\", Town = null, City = \"Sangelos\" }\r\n",
    "    },\r\n",
    "};\r\n",
    "\r\n",
    "Func<Address, bool?> addressValidator = address =>\r\n",
    "{\r\n",
    "    if(address == null) return false;\r\n",
    "    if(string.IsNullOrWhiteSpace(address.Street)) return false;\r\n",
    "    if(string.IsNullOrWhiteSpace(address.City)) return false;\r\n",
    "\r\n",
    "    return true;\r\n",
    "};\r\n",
    "\r\n",
    "customers.GetCustomersWithInValidAddress(addressValidator)"
   ],
   "outputs": [
    {
     "data": {
      "text/html": [
       "<table><thead><tr><th><i>index</i></th><th>Forename</th><th>Surname</th><th>Age</th><th>Address</th><th>EmailAddress</th></tr></thead><tbody><tr><td>0</td><td>Abe</td><td>Sinceros</td><td><div class=\"dni-plaintext\">32</div></td><td><table><thead><tr><th>Street</th><th>Town</th><th>City</th></tr></thead><tbody><tr><td><div class=\"dni-plaintext\">invalid</div></td><td><div class=\"dni-plaintext\">&lt;null&gt;</div></td><td><div class=\"dni-plaintext\">&lt;null&gt;</div></td></tr></tbody></table></td><td>abe@me.com</td></tr></tbody></table>"
      ]
     },
     "metadata": {},
     "output_type": "display_data"
    }
   ],
   "metadata": {
    "dotnet_interactive": {
     "language": "csharp"
    }
   }
  },
  {
   "cell_type": "markdown",
   "source": [
    "Failing miserably to use F#-like, DSL naming, we can translate the C# above to F#:\r\n"
   ],
   "metadata": {}
  },
  {
   "cell_type": "code",
   "execution_count": null,
   "source": [
    "type Address = { Street : string; Town : string; City: string }\r\n",
    "\r\n",
    "type Customer =\r\n",
    "    {\r\n",
    "        Forename: string\r\n",
    "        Surname: string\r\n",
    "        Age: int\r\n",
    "        Address: Address\r\n",
    "        EmailAddress: string\r\n",
    "    }\r\n",
    "\r\n",
    "let getCustomersWithInValidAddress addressValidator customers = \r\n",
    "    seq {\r\n",
    "        for customer in customers do\r\n",
    "            if not(addressValidator customer.Address) then\r\n",
    "                yield customer\r\n",
    "    }"
   ],
   "outputs": [],
   "metadata": {
    "dotnet_interactive": {
     "language": "fsharp"
    }
   }
  },
  {
   "cell_type": "markdown",
   "source": [
    "The use of the `seq { }` block is referred to as a _computation expression_ and reminds me of [list comprehensions in Python](https://www.python.org/dev/peps/pep-0202/)."
   ],
   "metadata": {}
  },
  {
   "cell_type": "code",
   "execution_count": null,
   "source": [
    "let customers =\r\n",
    "    [\r\n",
    "        {\r\n",
    "            Forename = \"Abe\"\r\n",
    "            Surname = \"Sinceros\"\r\n",
    "            Age = 32\r\n",
    "            EmailAddress = \"abe@me.com\"\r\n",
    "            Address = { Street = \"invalid\"; Town = null; City = null }\r\n",
    "        }\r\n",
    "        {\r\n",
    "            Forename = \"Betsy\"\r\n",
    "            Surname = \"Roos\"\r\n",
    "            Age = 37\r\n",
    "            EmailAddress = \"broos@microsoft.com\"\r\n",
    "            Address = { Street = \"123 Elm Street\"; Town = \"Elmore\"; City = \"Elmore Parish\" }\r\n",
    "        }\r\n",
    "        {\r\n",
    "            Forename = \"Gilfraxian\"\r\n",
    "            Surname = \"Stalag\"\r\n",
    "            Age = 39\r\n",
    "            EmailAddress = \"gs@apple.com\"\r\n",
    "            Address = { Street = \"4333 Forest Circle\"; Town = null; City = \"Sangelos\" }\r\n",
    "        }\r\n",
    "    ]\r\n",
    "\r\n",
    "let addressValidator address =\r\n",
    "    if String.IsNullOrWhiteSpace address.Street then false\r\n",
    "    elif String.IsNullOrWhiteSpace address.City then false\r\n",
    "    else true\r\n",
    "\r\n",
    "customers |> getCustomersWithInValidAddress addressValidator"
   ],
   "outputs": [
    {
     "data": {
      "text/html": [
       "<table><thead><tr><th><i>index</i></th><th>Forename</th><th>Surname</th><th>Age</th><th>Address</th><th>EmailAddress</th></tr></thead><tbody><tr><td>0</td><td>Abe</td><td>Sinceros</td><td><div class=\"dni-plaintext\">32</div></td><td><table><thead><tr><th>Street</th><th>Town</th><th>City</th></tr></thead><tbody><tr><td><div class=\"dni-plaintext\">invalid</div></td><td><div class=\"dni-plaintext\">&lt;null&gt;</div></td><td><div class=\"dni-plaintext\">&lt;null&gt;</div></td></tr></tbody></table></td><td>abe@me.com</td></tr></tbody></table>"
      ]
     },
     "metadata": {},
     "output_type": "display_data"
    }
   ],
   "metadata": {
    "dotnet_interactive": {
     "language": "fsharp"
    }
   }
  },
  {
   "cell_type": "markdown",
   "source": [
    "@[BryanWilhite](https://twitter.com/BryanWilhite)\n"
   ],
   "metadata": {}
  },
  {
   "cell_type": "code",
   "execution_count": null,
   "source": [
    "#!about"
   ],
   "outputs": [
    {
     "data": {
      "text/html": [
       "<table><tbody><tr><td><img src=\"data:image/png;base64, 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\" width=\"125em\"></img></td><td style=\"line-height:.8em\"><p style=\"font-size:1.5em\"><b>.NET Interactive</b></p><p>&#169; 2020 Microsoft Corporation</p><p><b>Version: </b>1.0.246201+da749355d416da20e634e5c80073b92356b57e0e</p><p><b>Build date: </b>2021-09-23T03:08:00.9143628Z</p><p><a href=\"https://github.com/dotnet/interactive\">https://github.com/dotnet/interactive</a></p></td></tr></tbody></table>"
      ]
     },
     "metadata": {},
     "output_type": "display_data"
    }
   ],
   "metadata": {
    "dotnet_interactive": {
     "language": "fsharp"
    }
   }
  }
 ],
 "metadata": {
  "orig_nbformat": 4,
  "language_info": {
   "file_extension": ".cs",
   "mimetype": "text/x-csharp",
   "name": "C#",
   "pygments_lexer": "csharp",
   "version": "9.0"
  },
  "kernelspec": {
   "display_name": ".NET (C#)",
   "language": "C#",
   "name": ".net-csharp"
  }
 },
 "nbformat": 4,
 "nbformat_minor": 2
}