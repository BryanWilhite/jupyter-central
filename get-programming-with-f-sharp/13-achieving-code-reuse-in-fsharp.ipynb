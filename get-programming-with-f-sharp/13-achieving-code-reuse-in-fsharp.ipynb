{
 "cells": [
  {
   "cell_type": "markdown",
   "source": [
    "# Get Programming with F# by [Isaac Abraham](https://github.com/isaacabraham)\r\n",
    "\r\n",
    "## “Achieving code reuse in F#”\r\n",
    "\r\n",
    ">LINQ and C# 3 introduced a whole raft of features that were inspired by the world of functional programming. One of the biggest takeaways was the pervasive use of higher order functions (HOF) throughout the LINQ framework. Despite the somewhat technical name, a higher-order function is a function that takes another function as one of its arguments.\r\n",
    "\r\n",
    "In the world of C#, the use of `Func<>` is the most expressive and succinct way to achieve code reuse through higher-order functions:\r\n"
   ],
   "metadata": {}
  },
  {
   "cell_type": "code",
   "execution_count": null,
   "source": [
    "public class Address\r\n",
    "{\r\n",
    "    public string Street { get; set; }\r\n",
    "    public string Town { get; set; }\r\n",
    "    public string City { get; set; }\r\n",
    "}\r\n",
    "\r\n",
    "public class Customer\r\n",
    "{\r\n",
    "    public string Forename { get; set; }\r\n",
    "    public string Surname { get; set; }\r\n",
    "    public int Age { get; set; }\r\n",
    "    public Address Address { get; set; }\r\n",
    "    public string EmailAddress { get; set; }\r\n",
    "}\r\n",
    "\r\n",
    "public static IEnumerable<Customer> GetCustomersWithInValidAddress(this IEnumerable<Customer> data,\r\n",
    "    Func<Address, bool?> addressValidator)\r\n",
    "{\r\n",
    "    if(data == null) return Enumerable.Empty<Customer>();\r\n",
    "    return data.Where(i => !i.HasValidAddress(addressValidator).GetValueOrDefault());\r\n",
    "}\r\n",
    "\r\n",
    "public static bool? HasValidAddress(this Customer data,\r\n",
    "    Func<Address, bool?> addressValidator)\r\n",
    "{\r\n",
    "    return addressValidator?.Invoke(data?.Address);\r\n",
    "}\r\n"
   ],
   "outputs": [],
   "metadata": {
    "dotnet_interactive": {
     "language": "csharp"
    }
   }
  },
  {
   "cell_type": "markdown",
   "source": [
    "The `addressValidator` [strategy](https://en.wikipedia.org/wiki/Strategy_pattern) passed to the `HasValidAddress` extension method (which cannot be in a `static class` for the scripting version of C#) is effectively a function, making `HasValidAddress` act like a higher-order function. With this HOF in place, `GetCustomersWithInValidAddress` builds on it with LINQ. We can then find the Customers with an invalid Address:\r\n"
   ],
   "metadata": {
    "dotnet_interactive": {
     "language": "csharp"
    }
   }
  },
  {
   "cell_type": "code",
   "execution_count": null,
   "source": [
    "var customers = new[]\r\n",
    "{\r\n",
    "    new Customer\r\n",
    "    {\r\n",
    "        Forename = \"Abe\",\r\n",
    "        Surname = \"Sinceros\",\r\n",
    "        Age = 32,\r\n",
    "        EmailAddress = \"abe@me.com\",\r\n",
    "        Address = new Address { Street = \"invalid\", Town = null, City = null }\r\n",
    "    },\r\n",
    "    new Customer\r\n",
    "    {\r\n",
    "        Forename = \"Betsy\",\r\n",
    "        Surname = \"Roos\",\r\n",
    "        Age = 37,\r\n",
    "        EmailAddress = \"broos@microsoft.com\",\r\n",
    "        Address = new Address { Street = \"123 Elm Street\", Town = \"Elmore\", City = \"Elmore Parish\" }\r\n",
    "    },\r\n",
    "    new Customer\r\n",
    "    {\r\n",
    "        Forename = \"Gilfraxian\",\r\n",
    "        Surname = \"Stalag\",\r\n",
    "        Age = 39,\r\n",
    "        EmailAddress = \"gs@apple.com\",\r\n",
    "        Address = new Address { Street = \"4333 Forest Circle\", Town = null, City = \"Sangelos\" }\r\n",
    "    },\r\n",
    "};\r\n",
    "\r\n",
    "Func<Address, bool?> addressValidator = address =>\r\n",
    "{\r\n",
    "    if(address == null) return false;\r\n",
    "    if(string.IsNullOrWhiteSpace(address.Street)) return false;\r\n",
    "    if(string.IsNullOrWhiteSpace(address.City)) return false;\r\n",
    "\r\n",
    "    return true;\r\n",
    "};\r\n",
    "\r\n",
    "customers.GetCustomersWithInValidAddress(addressValidator)"
   ],
   "outputs": [
    {
     "data": {
      "text/html": [
       "<table><thead><tr><th><i>index</i></th><th>Forename</th><th>Surname</th><th>Age</th><th>Address</th><th>EmailAddress</th></tr></thead><tbody><tr><td>0</td><td>Abe</td><td>Sinceros</td><td><div class=\"dni-plaintext\">32</div></td><td><table><thead><tr><th>Street</th><th>Town</th><th>City</th></tr></thead><tbody><tr><td><div class=\"dni-plaintext\">invalid</div></td><td><div class=\"dni-plaintext\">&lt;null&gt;</div></td><td><div class=\"dni-plaintext\">&lt;null&gt;</div></td></tr></tbody></table></td><td>abe@me.com</td></tr></tbody></table>"
      ]
     },
     "metadata": {},
     "output_type": "display_data"
    }
   ],
   "metadata": {
    "dotnet_interactive": {
     "language": "csharp"
    }
   }
  },
  {
   "cell_type": "markdown",
   "source": [
    "@[BryanWilhite](https://twitter.com/BryanWilhite)\n"
   ],
   "metadata": {}
  },
  {
   "cell_type": "code",
   "execution_count": null,
   "source": [
    "#!about"
   ],
   "outputs": [
    {
     "output_type": "display_data",
     "data": {
      "text/html": ""
     },
     "metadata": {}
    }
   ],
   "metadata": {
    "dotnet_interactive": {
     "language": "fsharp"
    }
   }
  }
 ],
 "metadata": {
  "orig_nbformat": 4,
  "language_info": {
   "file_extension": ".cs",
   "mimetype": "text/x-csharp",
   "name": "C#",
   "pygments_lexer": "csharp",
   "version": "9.0"
  },
  "kernelspec": {
   "display_name": ".NET (C#)",
   "language": "C#",
   "name": ".net-csharp"
  }
 },
 "nbformat": 4,
 "nbformat_minor": 2
}