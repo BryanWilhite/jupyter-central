{
 "cells": [
  {
   "cell_type": "markdown",
   "metadata": {},
   "source": [
    "# lichess.org: `blancaslady001-game-hPKxxsNs`\n",
    "\n",
    "![logo](https://avatars.githubusercontent.com/u/16491637?s=200&v=4)\n",
    "\n",
    "- <https://github.com/lichess-org>\n",
    "- <https://github.com/niklasf/python-chess#introduction>\n",
    "\n",
    "Here we review the following game: <https://lichess.org/study/JALx740n>"
   ]
  },
  {
   "cell_type": "code",
   "execution_count": null,
   "metadata": {},
   "outputs": [],
   "source": [
    "import songhay.utilities.ipython as rxDisplay\n",
    "import songhay.utilities.python_chess as rxChess"
   ]
  },
  {
   "cell_type": "code",
   "execution_count": null,
   "metadata": {},
   "outputs": [],
   "source": [
    "pgn_str = rxChess.request_lichess_pgn('JALx740n',game_type='study')\n",
    "\n",
    "print(pgn_str)"
   ]
  },
  {
   "cell_type": "markdown",
   "metadata": {},
   "source": [
    "Save the `*.pgn` file:"
   ]
  },
  {
   "cell_type": "code",
   "execution_count": null,
   "metadata": {},
   "outputs": [],
   "source": [
    "pgn_file = open('lichess-blancaslady001-game-hPKxxsNs.pgn', 'w')\n",
    "pgn_file.write(pgn_str)\n",
    "pgn_file.close()"
   ]
  },
  {
   "cell_type": "markdown",
   "metadata": {},
   "source": [
    "Load game, set board and display summary:"
   ]
  },
  {
   "cell_type": "code",
   "execution_count": null,
   "metadata": {},
   "outputs": [],
   "source": [
    "game = rxChess.get_game_from_pgn_data(pgn_str)\n",
    "board = game.board()\n",
    "\n",
    "rxChess.set_game_moves(game)\n",
    "\n",
    "rxDisplay.display_html_from_list(rxChess.get_game_summary_html(game))"
   ]
  },
  {
   "cell_type": "markdown",
   "metadata": {},
   "source": [
    "## game, with player commentary"
   ]
  },
  {
   "cell_type": "markdown",
   "metadata": {},
   "source": [
    "## <!-- -->\n",
    "\n",
    "🐙🐱[BryanWilhite](https://github.com/BryanWilhite)"
   ]
  }
 ],
 "metadata": {
  "kernelspec": {
   "display_name": "base",
   "language": "python",
   "name": "python3"
  },
  "language_info": {
   "codemirror_mode": {
    "name": "ipython",
    "version": 3
   },
   "file_extension": ".py",
   "mimetype": "text/x-python",
   "name": "python",
   "nbconvert_exporter": "python",
   "pygments_lexer": "ipython3",
   "version": "3.9.5"
  }
 },
 "nbformat": 4,
 "nbformat_minor": 2
}
