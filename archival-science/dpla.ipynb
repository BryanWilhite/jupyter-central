{
 "metadata": {
  "language_info": {
   "codemirror_mode": {
    "name": "ipython",
    "version": 3
   },
   "file_extension": ".py",
   "mimetype": "text/x-python",
   "name": "python",
   "nbconvert_exporter": "python",
   "pygments_lexer": "ipython3",
   "version": "3.7.7-final"
  },
  "orig_nbformat": 2,
  "kernelspec": {
   "name": "python37764bitbaseconda1518913713bf42c7a462a73b43e4a288",
   "display_name": "Python 3.7.7 64-bit ('base': conda)"
  }
 },
 "nbformat": 4,
 "nbformat_minor": 2,
 "cells": [
  {
   "source": [
    "# DPLA API\n",
    "\n",
    ">The Digital Public Library of America built and maintains an open API to encourage the independent development of applications, tools, and resources that make use of data contained in the DPLA platform in new and innovative ways, from anywhere, at any time. For inspiration, consider developing an application that visualizes metadata in compelling ways, or a recommendation engine that suggests similar cultural heritage content based on user preferences or criteria, or a lightweight front-end interface for mobile devices. Or pursue something entirely different! The possibilities are endless.\n",
    ">\n",
    "> <https://pro.dp.la/developers/philosophy>\n",
    "\n",
    ">The DPLA API is built following the [DPLA Metadata Application Profile (MAP)](https://pro.dp.la/hubs/metadata-application-profile), our internal metadata application profile. Currently, the DPLA API implements DPLA MAP version 3.1. The DPLA MAP is designed to build on the experience of the [Europeana Data Model](https://pro.europeana.eu/page/edm-documentation) (EDM) and to crosswalk with commonly used metadata standards, including [Dublin Core](http://dublincore.org/) (qualified and unqualified), [MODS](http://www.loc.gov/standards/mods/), and others. It references Dublin Core Terms, the Dublin Core Metadata Element Set, [ORE](http://www.openarchives.org/ore/), and a variety of controlled vocabularies and thesauri. The MAP will continue to evolve to implement more linked-data friendly methodologies to better share, expose, and connect DPLA’s content with users across the web.\n",
    ">\n",
    "> <https://pro.dp.la/developers/field-reference>\n",
    "\n",
    "## `items` and `collections`\n",
    "\n",
    "The top-level search containers are `items` and `collections`:\n",
    "\n",
    ">A DPLA item is a reference to the digital representation of a single piece of content indexed by the DPLA. The piece of content can be, for example, a book, a photograph, a video, etc. The content is digitized from its original, physical source and uploaded to an online repository.\n",
    ">\n",
    ">…\n",
    ">\n",
    ">A `collection` is a little more abstract than an item. Where an item is a reference to the digital representation of a physical object, a `collection` is a representation of the grouping of a set of items.\n",
    ">\n",
    "> <https://pro.dp.la/developers/requests>\n"
   ],
   "cell_type": "markdown",
   "metadata": {}
  },
  {
   "source": [
    "## the API key\n",
    "\n",
    "The DPLA API key [is obtained](https://pro.dp.la/developers/policies#get-a-key) via automation, based on email address:\n",
    "\n",
    "```bash\n",
    "curl -v -XPOST https://api.dp.la/v2/api_key/YOUR_EMAIL@example.com\n",
    "```\n",
    "\n",
    "The convention in my studio is to store the key in a conventional JSON file found by a conventional environment variable:"
   ],
   "cell_type": "markdown",
   "metadata": {}
  },
  {
   "cell_type": "code",
   "execution_count": 1,
   "metadata": {},
   "outputs": [
    {
     "output_type": "execute_result",
     "data": {
      "text/plain": [
       "'https://api.dp.la/v2'"
      ]
     },
     "metadata": {},
     "execution_count": 1
    }
   ],
   "source": [
    "import os\n",
    "import json\n",
    "\n",
    "from urllib import parse\n",
    "from urllib import request\n",
    "\n",
    "json_path = os.environ.get('SONGHAY_APP_SETTINGS_PATH')\n",
    "json_file = open(json_path, 'r', encoding='utf-8')\n",
    "app_settings = json.load(json_file)\n",
    "\n",
    "dpla_set = app_settings['ProgramMetadata']['RestApiMetadataSet']['Dpla']\n",
    "\n",
    "api_base, api_key = dpla_set['ApiBase'], dpla_set['ApiKey']\n",
    "\n",
    "api_base"
   ]
  },
  {
   "cell_type": "code",
   "execution_count": 2,
   "metadata": {},
   "outputs": [],
   "source": [
    "def get_json_string(search_container, query_string_params):\n",
    "\n",
    "    query_string_params['api_key'] = api_key\n",
    "\n",
    "    url = f'{api_base}/{search_container}?{parse.urlencode(query_string_params)}'\n",
    "\n",
    "    response = request.urlopen(url)\n",
    "\n",
    "    json_default = { 'error': None }\n",
    "\n",
    "    json_string = json.dumps(json_default)\n",
    "\n",
    "    if response.code != 200:\n",
    "        json_default['error'] = { 'code': response.code }\n",
    "        json_string = json.dumps(json_default)\n",
    "    else:\n",
    "        json_string = response.read().decode('UTF-8')\n",
    "\n",
    "    return json_string\n"
   ]
  },
  {
   "source": [
    "## `items` search by exact `sourceResource.title`"
   ],
   "cell_type": "markdown",
   "metadata": {}
  },
  {
   "cell_type": "code",
   "execution_count": 3,
   "metadata": {},
   "outputs": [],
   "source": [
    "query_string_params = {\n",
    "    'exact_field_match': \"true\",\n",
    "    'sourceResource.title': 'the miseducation of the negro',\n",
    "}\n",
    "\n",
    "json_string = get_json_string('items', query_string_params)\n",
    "\n",
    "json_d = json.loads(json_string)\n",
    "\n",
    "with open('./dpla-exact-title-search.json', 'w', encoding='utf-8') as json_file:\n",
    "    json.dump(json_d,\n",
    "        json_file,\n",
    "        ensure_ascii=False,\n",
    "        indent=4,\n",
    "        sort_keys=True)"
   ]
  },
  {
   "cell_type": "code",
   "execution_count": 4,
   "metadata": {},
   "outputs": [
    {
     "output_type": "stream",
     "name": "stdout",
     "text": [
      "{\n    \"count\": 2,\n    \"docs\": [\n        {\n            \"@context\": \"http://dp.la/api/items/context\",\n            \"@id\": \"http://dp.la/api/items/047f1c45f0ec0acbc12f54e86ae99748\",\n            \"@type\": \"ore:Aggregation\",\n            \"admin\": {\n                \"object_status\": 1\n            },\n            \"aggregatedCHO\": \"#sourceResource\",\n            \"dataProvider\": \"General Research Division. The New York Public Library\",\n            \"id\": \"047f1c45f0ec0acbc12f54e86ae99748\",\n            \"ingestDate\": \"2018-10-05T00:40:17.032805Z\",\n            \"ingestType\": \"item\",\n            \"isShownAt\": \"http://digitalcollections.nypl.org/items/510d47db-d501-a3d9-e040-e00a18064a99\",\n            \"object\": \"http://images.nypl.org/index.php?id=495240&t=t\",\n            \"originalRecord\": {\n                \"collection\": {\n                    \"@id\": \"http://dp.la/api/collections/267f1bbc5ed3a20ce9e448c6e2d206a6\",\n                    \"id\": \"267f1bbc5ed3a20ce9e448c6e2d206a6\"\n                },\n                \"genre\": {\n                    \"#text\": \"Book jackets\",\n                    \"authority\": \"lctgm\",\n                    \"valueURI\": \"http://id.loc.gov/vocabulary/graphicMaterials/tgm001209\"\n                },\n                \"identifier\": [\n                    {\n                        \"#text\": \"b14969583\",\n                        \"displayLabel\": \"NYPL catalog ID (B-number)\",\n                        \"type\": \"local_bnumber\"\n                    },\n                    {\n                        \"#text\": \"157\",\n                        \"displayLabel\": \"Hades Collection Guide ID (legacy)\",\n                        \"type\": \"local_hades_collection\"\n                    },\n                    {\n                        \"#text\": \"33433000024186\",\n                        \"displayLabel\": \"Barcode\",\n                        \"type\": \"local_barcode\"\n                    },\n                    {\n                        \"#text\": \"306214\",\n                        \"displayLabel\": \"Hades struc ID (legacy)\",\n                        \"type\": \"local_hades\"\n                    },\n                    {\n                        \"#text\": \"2366b990-c5b7-012f-9ac0-58d385a7bc34\",\n                        \"type\": \"uuid\"\n                    }\n                ],\n                \"location\": [\n                    {\n                        \"physicalLocation\": [\n                            {\n                                \"#text\": \"nn\",\n                                \"authority\": \"marcorg\",\n                                \"type\": \"repository\"\n                            },\n                            {\n                                \"#text\": \"General Research Division\",\n                                \"type\": \"division\"\n                            },\n                            {\n                                \"#text\": \"General Research Division\",\n                                \"type\": \"division_short_name\"\n                            },\n                            {\n                                \"#text\": \"GRD\",\n                                \"type\": \"code\"\n                            }\n                        ],\n                        \"shelfLocator\": \"*IIA+ (New York Public Library. Collection of book jackets) Library has: 1926/27-1947\"\n                    },\n                    {\n                        \"shelfLocator\": \"*IIA+ (New York Public Library. Collection of book jackets) 1933\"\n                    },\n                    {\n                        \"physicalLocation\": [\n                            {\n                                \"#text\": \"General Research Division\",\n                                \"type\": \"division\"\n                            },\n                            {\n                                \"#text\": \"General Research Division\",\n                                \"type\": \"division_short_name\"\n                            },\n                            {\n                                \"#text\": \"GRD\",\n                                \"type\": \"code\"\n                            }\n                        ]\n                    }\n                ],\n                \"note\": {\n                    \"#text\": \"Includes also jackets of the books published in 1932, a few of other years.\",\n                    \"type\": \"content\"\n                },\n                \"originInfo\": {\n                    \"dateIssued\": {\n                        \"#text\": \"1933\",\n                        \"encoding\": \"w3cdtf\",\n                        \"keyDate\": \"yes\"\n                    }\n                },\n                \"provider\": {\n                    \"@id\": \"http://dp.la/api/contributor/nypl\",\n                    \"name\": \"The New York Public Library\"\n                },\n                \"relatedItem\": {\n                    \"identifier\": [\n                        {\n                            \"#text\": \"1fb9fbe0-c5b7-012f-dede-58d385a7bc34\",\n                            \"type\": \"uuid\"\n                        },\n                        {\n                            \"#text\": \"304489 local_barcode\",\n                            \"type\": \"local_hades\"\n                        }\n                    ],\n                    \"relatedItem\": {\n                        \"identifier\": [\n                            {\n                                \"#text\": \"274b79c0-c5b6-012f-1730-58d385a7bc34\",\n                                \"type\": \"uuid\"\n                            },\n                            {\n                                \"#text\": \"304473 oclc\",\n                                \"type\": \"local_hades\"\n                            }\n                        ],\n                        \"titleInfo\": {\n                            \"title\": \"Collection of book jackets\"\n                        },\n                        \"type\": \"host\"\n                    },\n                    \"titleInfo\": {\n                        \"title\": \"1933.\"\n                    },\n                    \"type\": \"host\"\n                },\n                \"rightsStatementURI\": \"http://rightsstatements.org/vocab/UND/1.0/\",\n                \"schemaLocation\": \"http://www.loc.gov/mods/v3 http://www.loc.gov/standards/mods/v3/mods-3-4.xsd\",\n                \"titleInfo\": {\n                    \"supplied\": \"no\",\n                    \"title\": \"The mis-education of the Negro.\",\n                    \"usage\": \"primary\"\n                },\n                \"tmp_high_res_link\": null,\n                \"tmp_image_id\": \"495240\",\n                \"tmp_item_link\": \"http://digitalcollections.nypl.org/items/510d47db-d501-a3d9-e040-e00a18064a99\",\n                \"tmp_rights_statement\": \"The copyright and related rights status of this item has been reviewed by The New York Public Library, but we were unable to make a conclusive determination as to the copyright status of the item. You are free to use this Item in any way that is permitted by the copyright and related rights legislation that applies to your use.\",\n                \"typeOfResource\": [\n                    {\n                        \"#text\": \"text\",\n                        \"collection\": \"yes\"\n                    },\n                    \"still image\"\n                ],\n                \"version\": \"3.4\"\n            },\n            \"provider\": {\n                \"@id\": \"http://dp.la/api/contributor/nypl\",\n                \"name\": \"The New York Public Library\"\n            },\n            \"rights\": \"http://rightsstatements.org/vocab/UND/1.0/\",\n            \"sourceResource\": {\n                \"@id\": \"http://dp.la/api/items/047f1c45f0ec0acbc12f54e86ae99748#sourceResource\",\n                \"collection\": {\n                    \"@id\": \"http://dp.la/api/collections/267f1bbc5ed3a20ce9e448c6e2d206a6\",\n                    \"id\": \"267f1bbc5ed3a20ce9e448c6e2d206a6\",\n                    \"title\": \"Collection of book jackets\"\n                },\n                \"date\": {\n                    \"begin\": \"1933\",\n                    \"displayDate\": \"1933\",\n                    \"end\": \"1933\"\n                },\n                \"description\": [\n                    \"Includes also jackets of the books published in 1932, a few of other years.\"\n                ],\n                \"format\": \"Book jackets\",\n                \"hasType\": \"Book jackets\",\n                \"relation\": [\n                    \"1933\",\n                    \"Collection of book jackets\"\n                ],\n                \"stateLocatedIn\": [\n                    {\n                        \"name\": \"New York\"\n                    }\n                ],\n                \"title\": \"The mis-education of the Negro\",\n                \"type\": [\n                    \"text\",\n                    \"image\"\n                ]\n            }\n        },\n        {\n            \"@context\": \"http://dp.la/api/items/context\",\n            \"@id\": \"http://dp.la/api/items/a8f0c8141304f2b3227073731831bd5a\",\n            \"@type\": \"ore:Aggregation\",\n            \"admin\": {\n                \"object_status\": 1\n            },\n            \"aggregatedCHO\": \"#sourceResource\",\n            \"dataProvider\": \"General Research Division. The New York Public Library\",\n            \"id\": \"a8f0c8141304f2b3227073731831bd5a\",\n            \"ingestDate\": \"2018-10-05T00:40:17.110428Z\",\n            \"ingestType\": \"item\",\n            \"isShownAt\": \"http://digitalcollections.nypl.org/items/510d47db-d500-a3d9-e040-e00a18064a99\",\n            \"object\": \"http://images.nypl.org/index.php?id=1103643&t=t\",\n            \"originalRecord\": {\n                \"collection\": {\n                    \"@id\": \"http://dp.la/api/collections/267f1bbc5ed3a20ce9e448c6e2d206a6\",\n                    \"id\": \"267f1bbc5ed3a20ce9e448c6e2d206a6\"\n                },\n                \"genre\": {\n                    \"#text\": \"Book jackets\",\n                    \"authority\": \"lctgm\",\n                    \"valueURI\": \"http://id.loc.gov/vocabulary/graphicMaterials/tgm001209\"\n                },\n                \"identifier\": [\n                    {\n                        \"#text\": \"b14969583\",\n                        \"displayLabel\": \"NYPL catalog ID (B-number)\",\n                        \"type\": \"local_bnumber\"\n                    },\n                    {\n                        \"#text\": \"157\",\n                        \"displayLabel\": \"Hades Collection Guide ID (legacy)\",\n                        \"type\": \"local_hades_collection\"\n                    },\n                    {\n                        \"#text\": \"33433000024186\",\n                        \"displayLabel\": \"Barcode\",\n                        \"type\": \"local_barcode\"\n                    },\n                    {\n                        \"#text\": \"306214\",\n                        \"displayLabel\": \"Hades struc ID (legacy)\",\n                        \"type\": \"local_hades\"\n                    },\n                    {\n                        \"#text\": \"2366b990-c5b7-012f-9ac0-58d385a7bc34\",\n                        \"type\": \"uuid\"\n                    }\n                ],\n                \"location\": [\n                    {\n                        \"physicalLocation\": [\n                            {\n                                \"#text\": \"nn\",\n                                \"authority\": \"marcorg\",\n                                \"type\": \"repository\"\n                            },\n                            {\n                                \"#text\": \"General Research Division\",\n                                \"type\": \"division\"\n                            },\n                            {\n                                \"#text\": \"General Research Division\",\n                                \"type\": \"division_short_name\"\n                            },\n                            {\n                                \"#text\": \"GRD\",\n                                \"type\": \"code\"\n                            }\n                        ],\n                        \"shelfLocator\": \"*IIA+ (New York Public Library. Collection of book jackets) Library has: 1926/27-1947\"\n                    },\n                    {\n                        \"shelfLocator\": \"*IIA+ (New York Public Library. Collection of book jackets) 1933\"\n                    },\n                    {\n                        \"physicalLocation\": [\n                            {\n                                \"#text\": \"General Research Division\",\n                                \"type\": \"division\"\n                            },\n                            {\n                                \"#text\": \"General Research Division\",\n                                \"type\": \"division_short_name\"\n                            },\n                            {\n                                \"#text\": \"GRD\",\n                                \"type\": \"code\"\n                            }\n                        ]\n                    }\n                ],\n                \"note\": {\n                    \"#text\": \"Includes also jackets of the books published in 1932, a few of other years.\",\n                    \"type\": \"content\"\n                },\n                \"originInfo\": {\n                    \"dateIssued\": {\n                        \"#text\": \"1933\",\n                        \"encoding\": \"w3cdtf\",\n                        \"keyDate\": \"yes\"\n                    }\n                },\n                \"provider\": {\n                    \"@id\": \"http://dp.la/api/contributor/nypl\",\n                    \"name\": \"The New York Public Library\"\n                },\n                \"relatedItem\": {\n                    \"identifier\": [\n                        {\n                            \"#text\": \"1fb9fbe0-c5b7-012f-dede-58d385a7bc34\",\n                            \"type\": \"uuid\"\n                        },\n                        {\n                            \"#text\": \"304489 local_barcode\",\n                            \"type\": \"local_hades\"\n                        }\n                    ],\n                    \"relatedItem\": {\n                        \"identifier\": [\n                            {\n                                \"#text\": \"274b79c0-c5b6-012f-1730-58d385a7bc34\",\n                                \"type\": \"uuid\"\n                            },\n                            {\n                                \"#text\": \"304473 oclc\",\n                                \"type\": \"local_hades\"\n                            }\n                        ],\n                        \"titleInfo\": {\n                            \"title\": \"Collection of book jackets\"\n                        },\n                        \"type\": \"host\"\n                    },\n                    \"titleInfo\": {\n                        \"title\": \"1933.\"\n                    },\n                    \"type\": \"host\"\n                },\n                \"rightsStatementURI\": \"http://rightsstatements.org/vocab/UND/1.0/\",\n                \"schemaLocation\": \"http://www.loc.gov/mods/v3 http://www.loc.gov/standards/mods/v3/mods-3-4.xsd\",\n                \"titleInfo\": {\n                    \"supplied\": \"no\",\n                    \"title\": \"The mis-education of the Negro.\",\n                    \"usage\": \"primary\"\n                },\n                \"tmp_high_res_link\": null,\n                \"tmp_image_id\": \"1103643\",\n                \"tmp_item_link\": \"http://digitalcollections.nypl.org/items/510d47db-d500-a3d9-e040-e00a18064a99\",\n                \"tmp_rights_statement\": \"The copyright and related rights status of this item has been reviewed by The New York Public Library, but we were unable to make a conclusive determination as to the copyright status of the item. You are free to use this Item in any way that is permitted by the copyright and related rights legislation that applies to your use.\",\n                \"typeOfResource\": [\n                    {\n                        \"#text\": \"text\",\n                        \"collection\": \"yes\"\n                    },\n                    \"still image\"\n                ],\n                \"version\": \"3.4\"\n            },\n            \"provider\": {\n                \"@id\": \"http://dp.la/api/contributor/nypl\",\n                \"name\": \"The New York Public Library\"\n            },\n            \"rights\": \"http://rightsstatements.org/vocab/UND/1.0/\",\n            \"sourceResource\": {\n                \"@id\": \"http://dp.la/api/items/a8f0c8141304f2b3227073731831bd5a#sourceResource\",\n                \"collection\": {\n                    \"@id\": \"http://dp.la/api/collections/267f1bbc5ed3a20ce9e448c6e2d206a6\",\n                    \"id\": \"267f1bbc5ed3a20ce9e448c6e2d206a6\",\n                    \"title\": \"Collection of book jackets\"\n                },\n                \"date\": {\n                    \"begin\": \"1933\",\n                    \"displayDate\": \"1933\",\n                    \"end\": \"1933\"\n                },\n                \"description\": [\n                    \"Includes also jackets of the books published in 1932, a few of other years.\"\n                ],\n                \"format\": \"Book jackets\",\n                \"hasType\": \"Book jackets\",\n                \"relation\": [\n                    \"1933\",\n                    \"Collection of book jackets\"\n                ],\n                \"stateLocatedIn\": [\n                    {\n                        \"name\": \"New York\"\n                    }\n                ],\n                \"title\": \"The mis-education of the Negro\",\n                \"type\": [\n                    \"text\",\n                    \"image\"\n                ]\n            }\n        }\n    ],\n    \"facets\": [],\n    \"limit\": 10,\n    \"start\": 1\n}"
     ]
    }
   ],
   "source": [
    "%cat ./dpla-exact-title-search.json"
   ]
  },
  {
   "source": [
    "@[BryanWilhite](https://twitter.com/BryanWilhite)"
   ],
   "cell_type": "markdown",
   "metadata": {}
  }
 ]
}