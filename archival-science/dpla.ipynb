{
 "metadata": {
  "language_info": {
   "codemirror_mode": {
    "name": "ipython",
    "version": 3
   },
   "file_extension": ".py",
   "mimetype": "text/x-python",
   "name": "python",
   "nbconvert_exporter": "python",
   "pygments_lexer": "ipython3",
   "version": "3.7.7-final"
  },
  "orig_nbformat": 2,
  "kernelspec": {
   "name": "python37764bitbaseconda1518913713bf42c7a462a73b43e4a288",
   "display_name": "Python 3.7.7 64-bit ('base': conda)"
  }
 },
 "nbformat": 4,
 "nbformat_minor": 2,
 "cells": [
  {
   "source": [
    "# DPLA API\n",
    "\n",
    ">The Digital Public Library of America built and maintains an open API to encourage the independent development of applications, tools, and resources that make use of data contained in the DPLA platform in new and innovative ways, from anywhere, at any time. For inspiration, consider developing an application that visualizes metadata in compelling ways, or a recommendation engine that suggests similar cultural heritage content based on user preferences or criteria, or a lightweight front-end interface for mobile devices. Or pursue something entirely different! The possibilities are endless.\n",
    ">\n",
    "> <https://pro.dp.la/developers/philosophy>\n",
    "\n",
    ">The DPLA API is built following the [DPLA Metadata Application Profile (MAP)](https://pro.dp.la/hubs/metadata-application-profile), our internal metadata application profile. Currently, the DPLA API implements DPLA MAP version 3.1. The DPLA MAP is designed to build on the experience of the [Europeana Data Model](https://pro.europeana.eu/page/edm-documentation) (EDM) and to crosswalk with commonly used metadata standards, including [Dublin Core](http://dublincore.org/) (qualified and unqualified), [MODS](http://www.loc.gov/standards/mods/), and others. It references Dublin Core Terms, the Dublin Core Metadata Element Set, [ORE](http://www.openarchives.org/ore/), and a variety of controlled vocabularies and thesauri. The MAP will continue to evolve to implement more linked-data friendly methodologies to better share, expose, and connect DPLA’s content with users across the web.\n",
    ">\n",
    "> <https://pro.dp.la/developers/field-reference>\n",
    "\n",
    "## `items` and `collections`\n",
    "\n",
    "The top-level search containers are `items` and `collections`:\n",
    "\n",
    ">A DPLA item is a reference to the digital representation of a single piece of content indexed by the DPLA. The piece of content can be, for example, a book, a photograph, a video, etc. The content is digitized from its original, physical source and uploaded to an online repository.\n",
    ">\n",
    ">…\n",
    ">\n",
    ">A `collection` is a little more abstract than an item. Where an item is a reference to the digital representation of a physical object, a `collection` is a representation of the grouping of a set of items.\n",
    ">\n",
    "> <https://pro.dp.la/developers/requests>\n"
   ],
   "cell_type": "markdown",
   "metadata": {}
  },
  {
   "source": [
    "## the API key\n",
    "\n",
    "The DPLA API key [is obtained](https://pro.dp.la/developers/policies#get-a-key) via automation, based on email address:\n",
    "\n",
    "```bash\n",
    "curl -v -XPOST https://api.dp.la/v2/api_key/YOUR_EMAIL@example.com\n",
    "```\n",
    "\n",
    "The convention in my studio is to store the key in a conventional JSON file found by a conventional environment variable:"
   ],
   "cell_type": "markdown",
   "metadata": {}
  },
  {
   "cell_type": "code",
   "execution_count": 1,
   "metadata": {},
   "outputs": [
    {
     "output_type": "execute_result",
     "data": {
      "text/plain": [
       "'https://api.dp.la/v2'"
      ]
     },
     "metadata": {},
     "execution_count": 1
    }
   ],
   "source": [
    "import os\n",
    "import json\n",
    "\n",
    "json_path = os.environ.get('SONGHAY_APP_SETTINGS_PATH')\n",
    "json_file = open(json_path, 'r', encoding='utf-8')\n",
    "app_settings = json.load(json_file)\n",
    "\n",
    "dpla_set = app_settings['ProgramMetadata']['RestApiMetadataSet']['Dpla']\n",
    "\n",
    "api_base, api_key = dpla_set['ApiBase'], dpla_set['ApiKey']\n",
    "\n",
    "api_base"
   ]
  },
  {
   "source": [
    "@[BryanWilhite](https://twitter.com/BryanWilhite)"
   ],
   "cell_type": "markdown",
   "metadata": {}
  }
 ]
}