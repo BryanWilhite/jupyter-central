{
 "metadata": {
  "language_info": {
   "codemirror_mode": {
    "name": "ipython",
    "version": 3
   },
   "file_extension": ".py",
   "mimetype": "text/x-python",
   "name": "python",
   "nbconvert_exporter": "python",
   "pygments_lexer": "ipython3",
   "version": "3.7.9-final"
  },
  "orig_nbformat": 2,
  "kernelspec": {
   "name": "Python 3.7.9 64-bit",
   "display_name": "Python 3.7.9 64-bit",
   "metadata": {
    "interpreter": {
     "hash": "64558d88fcf2f94a031edeabfb067f5291448f62c636f9bab7767807a169f4df"
    }
   }
  }
 },
 "nbformat": 4,
 "nbformat_minor": 2,
 "cells": [
  {
   "source": [
    "# The “hello world” of audio programming!\n",
    "\n",
    ">This script simply plays a 1000 Hz sine tone.\n",
    "\n",
    "<http://ajaxsoundstudio.com/pyodoc/examples/01-intro/02-sine-tone.html>"
   ],
   "cell_type": "markdown",
   "metadata": {}
  },
  {
   "cell_type": "code",
   "execution_count": 1,
   "metadata": {},
   "outputs": [
    {
     "output_type": "stream",
     "name": "stdout",
     "text": [
      "\nWxPython is not found for the current python version.\nPyo will use a minimal GUI toolkit written with Tkinter (if available).\nThis toolkit has limited functionnalities and is no more\nmaintained or updated. If you want to use all of pyo's\nGUI features, you should install WxPython, available here:\nhttp://www.wxpython.org/\n\n"
     ]
    }
   ],
   "source": [
    "from pyo import *\n",
    "\n",
    "# Creates and boots the server.\n",
    "# The user should send the \"start\" command from the GUI.\n",
    "s = Server().boot()\n",
    "# Drops the gain by 20 dB.\n",
    "s.amp = 0.1\n",
    "\n",
    "# Creates a sine wave player.\n",
    "# The out() method starts the processing\n",
    "# and sends the signal to the output.\n",
    "a = Sine().out()\n",
    "\n",
    "# Opens the server graphical interface.\n",
    "s.gui(locals())"
   ]
  }
 ]
}