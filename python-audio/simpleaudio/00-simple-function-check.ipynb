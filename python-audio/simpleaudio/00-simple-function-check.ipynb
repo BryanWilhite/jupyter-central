{
 "cells": [
  {
   "cell_type": "markdown",
   "metadata": {},
   "source": [
    "# `simpleaudio`\n",
    "\n",
    "<https://pypi.org/project/simpleaudio/>\n"
   ]
  },
  {
   "cell_type": "code",
   "execution_count": null,
   "metadata": {},
   "outputs": [],
   "source": [
    "!./00-install.sh"
   ]
  },
  {
   "cell_type": "code",
   "execution_count": 18,
   "metadata": {},
   "outputs": [
    {
     "name": "stdout",
     "output_type": "stream",
     "text": [
      "\n",
      "================================================================================\n",
      "-- LeftRightCheck --\n",
      "Checks stereo playback by first playing a note in the left channel only,\n",
      "then a different note in the right channel only.\n",
      "\n",
      "Starting check in ...\n",
      "3 ...\n",
      "2 ...\n",
      "1 ...\n",
      "RUNNING CHECK ...\n",
      "... DONE\n",
      "================================================================================\n"
     ]
    }
   ],
   "source": [
    "import simpleaudio.functionchecks as fc\n",
    "\n",
    "fc.LeftRightCheck.run()"
   ]
  },
  {
   "cell_type": "code",
   "execution_count": 17,
   "metadata": {},
   "outputs": [],
   "source": [
    "import simpleaudio as sa\n",
    "\n",
    "wave_obj = sa.WaveObject.from_wave_file(\"./Turn It Up.wav\")\n",
    "play_obj = wave_obj.play()\n",
    "play_obj.wait_done()\n"
   ]
  },
  {
   "cell_type": "markdown",
   "metadata": {},
   "source": [
    "Looks like `simpleaudio` only works with `*.wav` files."
   ]
  },
  {
   "cell_type": "markdown",
   "metadata": {},
   "source": [
    "@[BryanWilhite](https://twitter.com/BryanWilhite)\n"
   ]
  }
 ],
 "metadata": {
  "interpreter": {
   "hash": "2c4c8c917afab4a0c81896fd73e69efa16d8d44d4fab02a2c05079c9ce5d1121"
  },
  "kernelspec": {
   "display_name": "Python 3.9.5 64-bit ('pip-only-env': conda)",
   "language": "python",
   "name": "python3"
  },
  "language_info": {
   "codemirror_mode": {
    "name": "ipython",
    "version": 3
   },
   "file_extension": ".py",
   "mimetype": "text/x-python",
   "name": "python",
   "nbconvert_exporter": "python",
   "pygments_lexer": "ipython3",
   "version": "3.9.5"
  },
  "orig_nbformat": 4
 },
 "nbformat": 4,
 "nbformat_minor": 2
}
