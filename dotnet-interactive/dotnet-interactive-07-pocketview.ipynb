{
 "cells": [
  {
   "cell_type": "markdown",
   "source": [
    "## `PocketView`\n",
    "\n",
    ">PocketView is an API for concisely writing HTML, in the terminology of HTML, using C# code. Just like the HTML method, it returns an object that implements IHtmlContent, so the output will be assumed to be valid HTML and rendered into your notebook.\n",
    ">\n",
    "> —Jon Sequeira ([@jonsequitur](https://github.com/jonsequitur)), “[`PocketView`](https://github.com/dotnet/interactive/blob/main/docs/pocketview.md#pocketview)”\n"
   ],
   "metadata": {}
  },
  {
   "cell_type": "code",
   "execution_count": null,
   "source": [
    "using static Microsoft.DotNet.Interactive.Formatting.PocketViewTags;\r\n",
    "using Microsoft.DotNet.Interactive.Formatting;\r\n",
    "\r\n",
    "PocketView pv = span[style:\"font-style:italic\"](\"Hello!\");\r\n",
    "\r\n",
    "pv"
   ],
   "outputs": [],
   "metadata": {
    "dotnet_interactive": {
     "language": "csharp"
    }
   }
  },
  {
   "cell_type": "markdown",
   "source": [
    ">The PocketView API provides a number of top-level properties in your notebook that can be used to create various HTML tags. Here’s the list of tags that are supported by default:\n"
   ],
   "metadata": {}
  },
  {
   "cell_type": "code",
   "execution_count": null,
   "source": [
    "var pocketViewTagMethods = typeof(PocketViewTags)\r\n",
    "    .GetProperties()\r\n",
    "    .Select(m => m.Name);\r\n",
    "\r\n",
    "pocketViewTagMethods"
   ],
   "outputs": [],
   "metadata": {
    "dotnet_interactive": {
     "language": "csharp"
    }
   }
  },
  {
   "cell_type": "markdown",
   "source": [
    ">Each of these properties returns a PocketView instance that can then be filled in with some content by passing arguments to it like a method call.\n",
    ">\n",
    ">—Diego Columbo ([@colombod](https://twitter.com/colombod)), et al., “[Outputting HTML in a notebook](https://github.com/dotnet/interactive/blob/main/samples/notebooks/csharp/Docs/HTML.ipynb)”\n"
   ],
   "metadata": {}
  },
  {
   "cell_type": "markdown",
   "source": [
    "@[BryanWilhite](https://twitter.com/BryanWilhite)\n"
   ],
   "metadata": {}
  },
  {
   "cell_type": "code",
   "execution_count": null,
   "source": [
    "#!about"
   ],
   "outputs": [],
   "metadata": {
    "dotnet_interactive": {
     "language": "csharp"
    }
   }
  }
 ],
 "metadata": {
  "orig_nbformat": 4,
  "language_info": {
   "file_extension": ".cs",
   "mimetype": "text/x-csharp",
   "name": "C#",
   "pygments_lexer": "csharp",
   "version": "9.0"
  },
  "kernelspec": {
   "display_name": ".NET (C#)",
   "language": "C#",
   "name": ".net-csharp"
  }
 },
 "nbformat": 4,
 "nbformat_minor": 2
}