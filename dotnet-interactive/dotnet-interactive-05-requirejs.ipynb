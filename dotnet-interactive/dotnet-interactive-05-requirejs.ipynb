{
 "cells": [
  {
   "cell_type": "markdown",
   "source": [
    "## using RequireJS via the `interactive` object\n",
    "\n",
    "The `interactive` object has a `configureRequire` method that interoperates with [RequireJS](https://requirejs.org/).\n",
    "\n",
    ">Here is an example that configures RequireJS to load [D3.js](https://d3js.org/) from a CDN. `configureRequire` returns a function that can be used to load the module.\n",
    "\n",
    "In the following, we call this function `$rjs`:\n"
   ],
   "metadata": {}
  },
  {
   "cell_type": "code",
   "execution_count": null,
   "source": [
    "#!javascript\r\n",
    "\r\n",
    "$rjs = interactive.configureRequire({\r\n",
    "    paths: {\r\n",
    "        d3: \"https://d3js.org/d3.v5.min\"\r\n",
    "    }\r\n",
    "});"
   ],
   "outputs": [],
   "metadata": {
    "dotnet_interactive": {
     "language": "javascript"
    }
   }
  },
  {
   "cell_type": "code",
   "execution_count": null,
   "source": [
    "#!html\r\n",
    "\r\n",
    "<svg id=\"renderTarget\" width=240 height=240></svg>"
   ],
   "outputs": [],
   "metadata": {
    "dotnet_interactive": {
     "language": "html"
    }
   }
  },
  {
   "cell_type": "code",
   "execution_count": null,
   "source": [
    "#!javascript\r\n",
    "\r\n",
    "$rjs([\"d3\"], d3 => {\r\n",
    "    d3.select(\"svg#renderTarget\")\r\n",
    "    .append('circle')\r\n",
    "    .attr('cx', 100)\r\n",
    "    .attr('cy', 100)\r\n",
    "    .attr('r', 50)\r\n",
    "    .attr('stroke', 'black')\r\n",
    "    .attr('fill', '#69a3b2');\r\n",
    "});"
   ],
   "outputs": [],
   "metadata": {
    "dotnet_interactive": {
     "language": "javascript"
    }
   }
  },
  {
   "cell_type": "markdown",
   "source": [
    "Notice that the variable `$rjs` is just tacked on to the notebook (as a property of `notebook`?); it is not declared (scoped in the cell) with `let` or `const`. Currently, i assume this messy, beta-ish thing is done to share values between Javascript cells.\n"
   ],
   "metadata": {
    "dotnet_interactive": {
     "language": "javascript"
    }
   }
  },
  {
   "cell_type": "markdown",
   "source": [
    ">The `interactive` object contains the following properties, corresponding to the default dotnet-interactive subkernels:\n",
    ">\n",
    "> - `interactive.csharp`\n",
    "> - `interactive.fsharp`\n",
    "> - `interactive.pwsh`\n",
    "> - `interactive.value`\n",
    ">\n",
    ">—Diego Columbo ([@colombod](https://twitter.com/colombod)), et al., “[Using HTML and JavaScript in .NET Interactive](https://github.com/dotnet/interactive/blob/main/docs/javascript-overview.md#using-html-and-javascript-in-net-interactive)”\n"
   ],
   "metadata": {}
  },
  {
   "cell_type": "markdown",
   "source": [
    "@[BryanWilhite](https://twitter.com/BryanWilhite)\n"
   ],
   "metadata": {}
  },
  {
   "cell_type": "code",
   "execution_count": null,
   "source": [
    "#!about"
   ],
   "outputs": [],
   "metadata": {
    "dotnet_interactive": {
     "language": "csharp"
    }
   }
  }
 ],
 "metadata": {
  "orig_nbformat": 4,
  "language_info": {
   "file_extension": ".cs",
   "mimetype": "text/x-csharp",
   "name": "C#",
   "pygments_lexer": "csharp",
   "version": "9.0"
  },
  "kernelspec": {
   "display_name": ".NET (C#)",
   "language": "C#",
   "name": ".net-csharp"
  }
 },
 "nbformat": 4,
 "nbformat_minor": 2
}