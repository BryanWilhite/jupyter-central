{
 "cells": [
  {
   "cell_type": "markdown",
   "metadata": {},
   "source": [
    "# JavaScript in Polyglot Notebooks (.NET Interactive)\n",
    "\n",
    "A fundamental to remember is that the Jupyter notebook itself is built with HTML and JavaScript. Polyglot Notebooks [[GitHub](https://github.com/dotnet/interactive)] shows this quite readily:"
   ]
  },
  {
   "cell_type": "code",
   "execution_count": 1,
   "metadata": {
    "dotnet_interactive": {
     "language": "javascript"
    },
    "polyglot_notebook": {
     "kernelName": "javascript"
    },
    "vscode": {
     "languageId": "polyglot-notebook"
    }
   },
   "outputs": [
    {
     "data": {
      "text/plain": [
       "\n",
       "    Is there a window object? [true]\n",
       "\n",
       "    window.navigator.userAgent =\n",
       "    Mozilla/5.0 (X11; Linux x86_64) AppleWebKit/537.36 (KHTML, like Gecko) Code/1.83.1 Chrome/114.0.5735.289 Electron/25.8.4 Safari/537.36\n",
       "\n",
       "    window.document.location.pathname = /index.html\n",
       "    window.document.location.protocol = vscode-webview:\n"
      ]
     },
     "metadata": {},
     "output_type": "display_data"
    }
   ],
   "source": [
    "#!javascript\n",
    "\n",
    "console.log(`\n",
    "    Is there a window object? [${typeof window === 'object'}]\n",
    "\n",
    "    window.navigator.userAgent =\n",
    "    ${window.navigator.userAgent}\n",
    "\n",
    "    window.document.location.pathname = ${window.document.location.pathname}\n",
    "    window.document.location.protocol = ${window.document.location.protocol}\n",
    "`);"
   ]
  },
  {
   "cell_type": "markdown",
   "metadata": {},
   "source": [
    "We also see that `console.log` is needed to display output which is not as advanced as [the IPython magics](https://github.com/BryanWilhite/jupyter-central/blob/master/ipython/00-magic.ipynb) or the various renderers in [the Jupyter Typescript kernel](https://github.com/BryanWilhite/jupyter-central/blob/master/funkykb/typescript/README.ipynb)."
   ]
  },
  {
   "cell_type": "markdown",
   "metadata": {},
   "source": [
    "## JavaScript variables are not shared between Jupyter cells"
   ]
  },
  {
   "cell_type": "markdown",
   "metadata": {},
   "source": [
    "\n",
    "Another inconvenience is the lack of variable sharing:"
   ]
  },
  {
   "cell_type": "code",
   "execution_count": 2,
   "metadata": {
    "dotnet_interactive": {
     "language": "javascript"
    },
    "polyglot_notebook": {
     "kernelName": "javascript"
    },
    "vscode": {
     "languageId": "polyglot-notebook"
    }
   },
   "outputs": [],
   "source": [
    "#!javascript\n",
    "\n",
    "const myConstant = 'Hello!';"
   ]
  },
  {
   "cell_type": "code",
   "execution_count": 3,
   "metadata": {
    "dotnet_interactive": {
     "language": "javascript"
    },
    "polyglot_notebook": {
     "kernelName": "javascript"
    },
    "vscode": {
     "languageId": "polyglot-notebook"
    }
   },
   "outputs": [
    {
     "ename": "Error",
     "evalue": "myConstant is not defined",
     "output_type": "error",
     "traceback": [
      "myConstant is not defined"
     ]
    }
   ],
   "source": [
    "#!javascript\n",
    "\n",
    "console.log(myConstant);"
   ]
  },
  {
   "cell_type": "markdown",
   "metadata": {},
   "source": [
    "Even the `#!share` magic I introduce in “[Variable sharing](https://github.com/BryanWilhite/jupyter-central/blob/master/dotnet-interactive/dotnet-interactive-02-variable-sharing.ipynb)” does not work:"
   ]
  },
  {
   "cell_type": "code",
   "execution_count": 4,
   "metadata": {
    "dotnet_interactive": {
     "language": "javascript"
    },
    "polyglot_notebook": {
     "kernelName": "javascript"
    },
    "vscode": {
     "languageId": "polyglot-notebook"
    }
   },
   "outputs": [
    {
     "data": {
      "application/json": null
     },
     "metadata": {},
     "output_type": "display_data"
    }
   ],
   "source": [
    "#!javascript\n",
    "\n",
    "#!share --from javascript myConstant\n",
    "\n",
    "console.log(myConstant);"
   ]
  },
  {
   "cell_type": "markdown",
   "metadata": {},
   "source": [
    "It looks like `#!share` lifted `myConstant` up into the Jupyter/Polyglot notebook variables. I can verify this by adding a new JavaScript `const`:"
   ]
  },
  {
   "cell_type": "code",
   "execution_count": 5,
   "metadata": {
    "dotnet_interactive": {
     "language": "javascript"
    },
    "polyglot_notebook": {
     "kernelName": "javascript"
    },
    "vscode": {
     "languageId": "polyglot-notebook"
    }
   },
   "outputs": [],
   "source": [
    "#!javascript\n",
    "\n",
    "const myOtherConstant = 'Hello, again!';"
   ]
  },
  {
   "cell_type": "markdown",
   "metadata": {},
   "source": [
    "## can the Polyglot JavaScript `interactive` object be used to share between cells?"
   ]
  },
  {
   "cell_type": "markdown",
   "metadata": {},
   "source": [
    "Yes, the conventional `interactive` object [I introduce in another notebook](https://github.com/BryanWilhite/jupyter-central/blob/master/dotnet-interactive/dotnet-interactive-05-requirejs.ipynb) _can_ be used to share state across cells:"
   ]
  },
  {
   "cell_type": "code",
   "execution_count": 6,
   "metadata": {
    "dotnet_interactive": {
     "language": "javascript"
    },
    "polyglot_notebook": {
     "kernelName": "javascript"
    },
    "vscode": {
     "languageId": "polyglot-notebook"
    }
   },
   "outputs": [],
   "source": [
    "#!javascript\n",
    "\n",
    "window.interactive.myProperty = 'Hello?';"
   ]
  },
  {
   "cell_type": "code",
   "execution_count": 7,
   "metadata": {
    "dotnet_interactive": {
     "language": "javascript"
    },
    "polyglot_notebook": {
     "kernelName": "javascript"
    },
    "vscode": {
     "languageId": "polyglot-notebook"
    }
   },
   "outputs": [
    {
     "data": {
      "text/plain": [
       "Hello?"
      ]
     },
     "metadata": {},
     "output_type": "display_data"
    }
   ],
   "source": [
    "#!javascript\n",
    "\n",
    "console.log(interactive.myProperty);"
   ]
  },
  {
   "cell_type": "markdown",
   "metadata": {},
   "source": [
    "## does Polyglot JavaScript interact with `#!html` magics?"
   ]
  },
  {
   "cell_type": "code",
   "execution_count": 8,
   "metadata": {
    "dotnet_interactive": {
     "language": "html"
    },
    "polyglot_notebook": {
     "kernelName": "html"
    },
    "vscode": {
     "languageId": "polyglot-notebook"
    }
   },
   "outputs": [
    {
     "data": {
      "text/html": [
       "<pre id=\"my-new-element\">\n",
       "    Hello world!\n",
       "</pre>"
      ]
     },
     "metadata": {},
     "output_type": "display_data"
    }
   ],
   "source": [
    "#!html\n",
    "\n",
    "<pre id=\"my-new-element\">\n",
    "    Hello world!\n",
    "</pre>"
   ]
  },
  {
   "cell_type": "code",
   "execution_count": 9,
   "metadata": {
    "dotnet_interactive": {
     "language": "javascript"
    },
    "polyglot_notebook": {
     "kernelName": "javascript"
    },
    "vscode": {
     "languageId": "polyglot-notebook"
    }
   },
   "outputs": [
    {
     "ename": "Error",
     "evalue": "Cannot read properties of null (reading 'id')",
     "output_type": "error",
     "traceback": [
      "Cannot read properties of null (reading 'id')"
     ]
    }
   ],
   "source": [
    "#!javascript\n",
    "\n",
    "const myNewElement = document.getElementById('my-new-element');\n",
    "\n",
    "console.log(myNewElement.id);"
   ]
  },
  {
   "cell_type": "markdown",
   "metadata": {},
   "source": [
    "The short answer is _yes_."
   ]
  },
  {
   "cell_type": "markdown",
   "metadata": {},
   "source": [
    "## does Polyglot JavaScript interact with `#!value` magics?"
   ]
  },
  {
   "cell_type": "code",
   "execution_count": 10,
   "metadata": {
    "dotnet_interactive": {
     "language": "value"
    },
    "polyglot_notebook": {
     "kernelName": "value"
    },
    "vscode": {
     "languageId": "polyglot-notebook"
    }
   },
   "outputs": [],
   "source": [
    "#!value --name someJson\n",
    "\n",
    "{\n",
    "    \"what\": \"some JSON\",\n",
    "    \"why\": \"to share it with another subkernel\"\n",
    "}"
   ]
  },
  {
   "cell_type": "code",
   "execution_count": 11,
   "metadata": {
    "dotnet_interactive": {
     "language": "javascript"
    },
    "polyglot_notebook": {
     "kernelName": "javascript"
    },
    "vscode": {
     "languageId": "polyglot-notebook"
    }
   },
   "outputs": [
    {
     "data": {
      "text/plain": [
       "to share it with another subkernel"
      ]
     },
     "metadata": {},
     "output_type": "display_data"
    }
   ],
   "source": [
    "#!javascript\n",
    "\n",
    "#!share someJson --from value\n",
    "\n",
    "const o = JSON.parse(someJson);\n",
    "\n",
    "console.log(o.why);"
   ]
  },
  {
   "cell_type": "markdown",
   "metadata": {},
   "source": [
    "Yes, again!"
   ]
  },
  {
   "cell_type": "markdown",
   "metadata": {},
   "source": [
    "## <!-- -->\n",
    "\n",
    "🐙🐱[BryanWilhite](https://github.com/BryanWilhite)"
   ]
  }
 ],
 "metadata": {
  "language_info": {
   "name": "python"
  }
 },
 "nbformat": 4,
 "nbformat_minor": 2
}
