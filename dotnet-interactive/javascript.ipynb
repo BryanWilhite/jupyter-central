{
 "cells": [
  {
   "cell_type": "markdown",
   "metadata": {},
   "source": [
    "# JavaScript in .NET Interactive Notebooks\n",
    "\n",
    "A fundamental to remember is that the Jupyter notebook itself is built with HTML and JavaScript. .NET Interactive Notebooks [[GitHub](https://github.com/dotnet/interactive)] shows this quite readily:"
   ]
  },
  {
   "cell_type": "code",
   "execution_count": 1,
   "metadata": {
    "dotnet_interactive": {
     "language": "javascript"
    },
    "polyglot_notebook": {
     "kernelName": "javascript"
    },
    "vscode": {
     "languageId": "polyglot-notebook"
    }
   },
   "outputs": [
    {
     "data": {
      "text/plain": [
       "\n",
       "    Is there a window object? [true]\n",
       "\n",
       "    window.navigator.userAgent =\n",
       "    Mozilla/5.0 (X11; Linux x86_64) AppleWebKit/537.36 (KHTML, like Gecko) Code/1.83.1 Chrome/114.0.5735.289 Electron/25.8.4 Safari/537.36\n",
       "\n",
       "    window.document.location.pathname = /index.html\n",
       "    window.document.location.protocol = vscode-webview:\n"
      ]
     },
     "metadata": {},
     "output_type": "display_data"
    }
   ],
   "source": [
    "#!javascript\n",
    "\n",
    "console.log(`\n",
    "    Is there a window object? [${typeof window === 'object'}]\n",
    "\n",
    "    window.navigator.userAgent =\n",
    "    ${window.navigator.userAgent}\n",
    "\n",
    "    window.document.location.pathname = ${window.document.location.pathname}\n",
    "    window.document.location.protocol = ${window.document.location.protocol}\n",
    "`);"
   ]
  },
  {
   "cell_type": "markdown",
   "metadata": {},
   "source": [
    "We also see that `console.log` is needed to display output which is not as advanced as [the IPython magics](https://github.com/BryanWilhite/jupyter-central/blob/master/ipython/00-magic.ipynb) or the various renderers in [the Jupyter Typescript kernel](https://github.com/BryanWilhite/jupyter-central/blob/master/funkykb/typescript/README.ipynb)."
   ]
  },
  {
   "cell_type": "markdown",
   "metadata": {},
   "source": [
    "## .NET Interactive JavaScript variables are _not_ shared between Jupyter cells"
   ]
  },
  {
   "cell_type": "markdown",
   "metadata": {},
   "source": [
    "\n",
    "Another inconvenience is the lack of variable sharing:"
   ]
  },
  {
   "cell_type": "code",
   "execution_count": 2,
   "metadata": {
    "dotnet_interactive": {
     "language": "javascript"
    },
    "polyglot_notebook": {
     "kernelName": "javascript"
    },
    "vscode": {
     "languageId": "polyglot-notebook"
    }
   },
   "outputs": [],
   "source": [
    "#!javascript\n",
    "\n",
    "const myConstant = 'Hello!';"
   ]
  },
  {
   "cell_type": "code",
   "execution_count": 3,
   "metadata": {
    "dotnet_interactive": {
     "language": "javascript"
    },
    "polyglot_notebook": {
     "kernelName": "javascript"
    },
    "vscode": {
     "languageId": "polyglot-notebook"
    }
   },
   "outputs": [
    {
     "ename": "Error",
     "evalue": "myConstant is not defined",
     "output_type": "error",
     "traceback": [
      "myConstant is not defined"
     ]
    }
   ],
   "source": [
    "#!javascript\n",
    "\n",
    "console.log(myConstant);"
   ]
  },
  {
   "cell_type": "markdown",
   "metadata": {},
   "source": [
    "Even the `#!share` magic I introduce in “[Variable sharing](https://github.com/BryanWilhite/jupyter-central/blob/master/dotnet-interactive/dotnet-interactive-02-variable-sharing.ipynb)” does not work:"
   ]
  },
  {
   "cell_type": "code",
   "execution_count": 4,
   "metadata": {
    "dotnet_interactive": {
     "language": "javascript"
    },
    "polyglot_notebook": {
     "kernelName": "javascript"
    },
    "vscode": {
     "languageId": "polyglot-notebook"
    }
   },
   "outputs": [
    {
     "data": {
      "application/json": ""
     },
     "metadata": {},
     "output_type": "display_data"
    }
   ],
   "source": [
    "#!javascript\n",
    "\n",
    "#!share --from javascript myConstant\n",
    "\n",
    "console.log(myConstant);"
   ]
  },
  {
   "cell_type": "markdown",
   "metadata": {},
   "source": [
    "It looks like `#!share` lifted `myConstant` up into the Jupyter/Polyglot notebook variables. I can verify this by adding a new JavaScript `const`:"
   ]
  },
  {
   "cell_type": "code",
   "execution_count": 5,
   "metadata": {
    "dotnet_interactive": {
     "language": "javascript"
    },
    "polyglot_notebook": {
     "kernelName": "javascript"
    },
    "vscode": {
     "languageId": "polyglot-notebook"
    }
   },
   "outputs": [],
   "source": [
    "#!javascript\n",
    "\n",
    "const myOtherConstant = 'Hello, again!';"
   ]
  },
  {
   "cell_type": "markdown",
   "metadata": {},
   "source": [
    "## can the .NET Interactive JavaScript `interactive` object be used to share between cells?"
   ]
  },
  {
   "cell_type": "markdown",
   "metadata": {},
   "source": [
    "Yes, the conventional `interactive` object [I introduce in another notebook](https://github.com/BryanWilhite/jupyter-central/blob/master/dotnet-interactive/dotnet-interactive-05-requirejs.ipynb) _can_ be used to share state across cells:"
   ]
  },
  {
   "cell_type": "code",
   "execution_count": 6,
   "metadata": {
    "dotnet_interactive": {
     "language": "javascript"
    },
    "polyglot_notebook": {
     "kernelName": "javascript"
    },
    "vscode": {
     "languageId": "polyglot-notebook"
    }
   },
   "outputs": [],
   "source": [
    "#!javascript\n",
    "\n",
    "window.interactive.myProperty = 'Hello?';"
   ]
  },
  {
   "cell_type": "code",
   "execution_count": 7,
   "metadata": {
    "dotnet_interactive": {
     "language": "javascript"
    },
    "polyglot_notebook": {
     "kernelName": "javascript"
    },
    "vscode": {
     "languageId": "polyglot-notebook"
    }
   },
   "outputs": [
    {
     "data": {
      "text/plain": [
       "Hello?"
      ]
     },
     "metadata": {},
     "output_type": "display_data"
    }
   ],
   "source": [
    "#!javascript\n",
    "\n",
    "console.log(interactive.myProperty);"
   ]
  },
  {
   "cell_type": "markdown",
   "metadata": {},
   "source": [
    "See “.NET Interactive JavaScript has jQuery!” below. "
   ]
  },
  {
   "cell_type": "markdown",
   "metadata": {},
   "source": [
    "## does .NET Interactive JavaScript interact with `#!html` magics?"
   ]
  },
  {
   "cell_type": "code",
   "execution_count": 8,
   "metadata": {
    "dotnet_interactive": {
     "language": "html"
    },
    "polyglot_notebook": {
     "kernelName": "html"
    },
    "vscode": {
     "languageId": "polyglot-notebook"
    }
   },
   "outputs": [
    {
     "data": {
      "text/html": [
       "<pre id=\"my-new-element\">\n",
       "    Hello world!\n",
       "</pre>"
      ]
     },
     "metadata": {},
     "output_type": "display_data"
    }
   ],
   "source": [
    "#!html\n",
    "\n",
    "<pre id=\"my-new-element\">\n",
    "    Hello world!\n",
    "</pre>"
   ]
  },
  {
   "cell_type": "code",
   "execution_count": 9,
   "metadata": {
    "dotnet_interactive": {
     "language": "javascript"
    },
    "polyglot_notebook": {
     "kernelName": "javascript"
    },
    "vscode": {
     "languageId": "polyglot-notebook"
    }
   },
   "outputs": [
    {
     "ename": "Error",
     "evalue": "Cannot read properties of null (reading 'id')",
     "output_type": "error",
     "traceback": [
      "Cannot read properties of null (reading 'id')"
     ]
    }
   ],
   "source": [
    "#!javascript\n",
    "\n",
    "const myNewElement = document.getElementById('my-new-element');\n",
    "\n",
    "console.log(myNewElement.id);"
   ]
  },
  {
   "cell_type": "markdown",
   "metadata": {},
   "source": [
    "The short answer is _yes_."
   ]
  },
  {
   "cell_type": "markdown",
   "metadata": {},
   "source": [
    "## does .NET Interactive JavaScript interact with `#!value` magics?"
   ]
  },
  {
   "cell_type": "code",
   "execution_count": 10,
   "metadata": {
    "dotnet_interactive": {
     "language": "value"
    },
    "polyglot_notebook": {
     "kernelName": "value"
    },
    "vscode": {
     "languageId": "polyglot-notebook"
    }
   },
   "outputs": [],
   "source": [
    "#!value --name someJson\n",
    "\n",
    "{\n",
    "    \"what\": \"some JSON\",\n",
    "    \"why\": \"to share it with another subkernel\"\n",
    "}"
   ]
  },
  {
   "cell_type": "code",
   "execution_count": 11,
   "metadata": {
    "dotnet_interactive": {
     "language": "javascript"
    },
    "polyglot_notebook": {
     "kernelName": "javascript"
    },
    "vscode": {
     "languageId": "polyglot-notebook"
    }
   },
   "outputs": [
    {
     "data": {
      "text/plain": [
       "to share it with another subkernel"
      ]
     },
     "metadata": {},
     "output_type": "display_data"
    }
   ],
   "source": [
    "#!javascript\n",
    "\n",
    "#!share someJson --from value\n",
    "\n",
    "const o = JSON.parse(someJson);\n",
    "\n",
    "console.log(o.why);"
   ]
  },
  {
   "cell_type": "markdown",
   "metadata": {},
   "source": [
    "Yes, again!"
   ]
  },
  {
   "cell_type": "markdown",
   "metadata": {},
   "source": [
    "## .NET Interactive JavaScript has jQuery!"
   ]
  },
  {
   "cell_type": "markdown",
   "metadata": {},
   "source": [
    "In [another notebook](https://github.com/BryanWilhite/jupyter-central/blob/master/dotnet-interactive/dotnet-interactive-05-requirejs.ipynb), I list the members of the `window` object. This list clearly shows `$` and `jQuery`:"
   ]
  },
  {
   "cell_type": "code",
   "execution_count": 12,
   "metadata": {
    "dotnet_interactive": {
     "language": "javascript"
    },
    "polyglot_notebook": {
     "kernelName": "javascript"
    },
    "vscode": {
     "languageId": "polyglot-notebook"
    }
   },
   "outputs": [
    {
     "data": {
      "text/plain": [
       "Are `$` and `jQuery` the same? [true]"
      ]
     },
     "metadata": {},
     "output_type": "display_data"
    }
   ],
   "source": [
    "#!javascript\n",
    "\n",
    "console.log(`Are \\`$\\` and \\`jQuery\\` the same? [${$ === jQuery && ($ !== undefined) && ($ !== null)}]`);"
   ]
  },
  {
   "cell_type": "markdown",
   "metadata": {},
   "source": [
    "Through some old-school “feature detection” we can infer the version of `jQuery`:"
   ]
  },
  {
   "cell_type": "code",
   "execution_count": 13,
   "metadata": {
    "dotnet_interactive": {
     "language": "javascript"
    },
    "polyglot_notebook": {
     "kernelName": "javascript"
    },
    "vscode": {
     "languageId": "polyglot-notebook"
    }
   },
   "outputs": [
    {
     "data": {
      "text/plain": [
       "\n",
       "    Is this `jQuery` 3.7? [true]\n"
      ]
     },
     "metadata": {},
     "output_type": "display_data"
    }
   ],
   "source": [
    "#!javascript\n",
    "\n",
    "console.log(`\n",
    "    Is this \\`jQuery\\` 3.7? [${typeof $.uniqueSort === 'function'}]\n",
    "`);"
   ]
  },
  {
   "cell_type": "markdown",
   "metadata": {},
   "source": [
    "With `jQuery`, we can now be more professional about sharing data between notebook cells with `$.extend` [📖 [docs](https://api.jquery.com/jQuery.extend/#jQuery-extend-target-object1-objectN)]:"
   ]
  },
  {
   "cell_type": "code",
   "execution_count": 14,
   "metadata": {
    "dotnet_interactive": {
     "language": "javascript"
    },
    "polyglot_notebook": {
     "kernelName": "javascript"
    },
    "vscode": {
     "languageId": "polyglot-notebook"
    }
   },
   "outputs": [],
   "source": [
    "#!javascript\n",
    "\n",
    "$.rx = {};\n",
    "\n",
    "$.extend($.rx, {myProperty: 'Hello?'});"
   ]
  },
  {
   "cell_type": "code",
   "execution_count": 15,
   "metadata": {
    "dotnet_interactive": {
     "language": "javascript"
    },
    "polyglot_notebook": {
     "kernelName": "javascript"
    },
    "vscode": {
     "languageId": "polyglot-notebook"
    }
   },
   "outputs": [
    {
     "data": {
      "text/plain": [
       "Hello?"
      ]
     },
     "metadata": {},
     "output_type": "display_data"
    }
   ],
   "source": [
    "#!javascript\n",
    "\n",
    "console.log($.rx.myProperty);"
   ]
  },
  {
   "cell_type": "markdown",
   "metadata": {},
   "source": [
    "Note that `jQuery` is not an idea from Microsoft. It is part of the home world of [Project Jupyter](https://jupyter.org/) (but, as of this writing, only mentioned once in passing [in the official documentation](https://docs.jupyter.org/en/latest/contributing/ipython-dev-guide/js_events.html#javascript-events))."
   ]
  },
  {
   "cell_type": "markdown",
   "metadata": {},
   "source": [
    "## can `jQuery` load custom CSS from a CDN?"
   ]
  },
  {
   "cell_type": "markdown",
   "metadata": {},
   "source": [
    "Yes, custom CSS can be loaded inside a Jupyter notebook:"
   ]
  },
  {
   "cell_type": "code",
   "execution_count": 16,
   "metadata": {
    "dotnet_interactive": {
     "language": "javascript"
    },
    "polyglot_notebook": {
     "kernelName": "javascript"
    },
    "vscode": {
     "languageId": "polyglot-notebook"
    }
   },
   "outputs": [],
   "source": [
    "#!javascript\n",
    "\n",
    "const linkId = 'font-awesome'; // https://fontawesome.com/start\n",
    "const location = 'https://cdnjs.cloudflare.com/ajax/libs/font-awesome/6.4.2/css/all.min.css';\n",
    "\n",
    "if($(`head>link#${linkId}`).length === 0) {\n",
    "    $('<link>')\n",
    "        .appendTo('head')\n",
    "        .attr({\n",
    "            id: linkId,\n",
    "            type: 'text/css',\n",
    "            rel: 'stylesheet',\n",
    "            href: location\n",
    "        });\n",
    "}"
   ]
  },
  {
   "cell_type": "markdown",
   "metadata": {},
   "source": [
    "And even a `#!html` magic can take advantage of the external file:"
   ]
  },
  {
   "cell_type": "code",
   "execution_count": 17,
   "metadata": {
    "dotnet_interactive": {
     "language": "html"
    },
    "polyglot_notebook": {
     "kernelName": "html"
    },
    "vscode": {
     "languageId": "polyglot-notebook"
    }
   },
   "outputs": [
    {
     "data": {
      "text/html": [
       "<i class=\"fa-regular fa-heart\"></i>"
      ]
     },
     "metadata": {},
     "output_type": "display_data"
    }
   ],
   "source": [
    "#!html\n",
    "\n",
    "<i class=\"fa-regular fa-heart\"></i>"
   ]
  },
  {
   "cell_type": "markdown",
   "metadata": {},
   "source": [
    "But the longer answer includes caveats:\n",
    "\n",
    "- CSS-framework files might make the notebook unreadable as it overrides defaults.\n",
    "- The external file should not be recognized by default when the notebook is opened (unless the cell loading the file is run automatically)."
   ]
  },
  {
   "cell_type": "markdown",
   "metadata": {},
   "source": [
    "## can `#!html` magics load external HTML?"
   ]
  },
  {
   "cell_type": "code",
   "execution_count": 18,
   "metadata": {
    "dotnet_interactive": {
     "language": "html"
    },
    "polyglot_notebook": {
     "kernelName": "html"
    },
    "vscode": {
     "languageId": "polyglot-notebook"
    }
   },
   "outputs": [
    {
     "data": {
      "text/html": [
       "<iframe\n",
       "  id=\"inlineFrameExample\"\n",
       "  title=\"Inline Frame Example\"\n",
       "  width=\"300\"\n",
       "  height=\"200\"\n",
       "  src=\"https://www.openstreetmap.org/export/embed.html?bbox=-0.004017949104309083%2C51.47612752641776%2C0.00030577182769775396%2C51.478569861898606&layer=mapnik\">\n",
       "</iframe>"
      ]
     },
     "metadata": {},
     "output_type": "display_data"
    }
   ],
   "source": [
    "#!html\n",
    "\n",
    "<iframe\n",
    "  id=\"inlineFrameExample\"\n",
    "  title=\"Inline Frame Example\"\n",
    "  width=\"300\"\n",
    "  height=\"200\"\n",
    "  src=\"https://www.openstreetmap.org/export/embed.html?bbox=-0.004017949104309083%2C51.47612752641776%2C0.00030577182769775396%2C51.478569861898606&layer=mapnik\">\n",
    "</iframe>"
   ]
  },
  {
   "cell_type": "markdown",
   "metadata": {},
   "source": [
    "The short answer is _yes_.\n",
    "\n",
    "The longer answer is, It depends. For example, the output in the cell above will not render on GitHub which I think is using `nbconvert` [[GitHub](https://github.com/jupyter/nbconvert)]."
   ]
  },
  {
   "cell_type": "markdown",
   "metadata": {},
   "source": [
    "## can `#!html` magics render JavaScript HTML?"
   ]
  },
  {
   "cell_type": "markdown",
   "metadata": {},
   "source": [
    "Yes, but my `iframe`-technique here is rather cumbersome:"
   ]
  },
  {
   "cell_type": "code",
   "execution_count": 19,
   "metadata": {
    "dotnet_interactive": {
     "language": "csharp"
    },
    "polyglot_notebook": {
     "kernelName": "csharp"
    },
    "vscode": {
     "languageId": "polyglot-notebook"
    }
   },
   "outputs": [
    {
     "data": {
      "text/html": [
       "<iframe\n",
       "  id=\"my-frame\"\n",
       "  width=\"800\"\n",
       "  height=\"300\">\n",
       "</iframe>"
      ]
     },
     "metadata": {},
     "output_type": "display_data"
    }
   ],
   "source": [
    "#!html\n",
    "\n",
    "<iframe\n",
    "  id=\"my-frame\"\n",
    "  width=\"800\"\n",
    "  height=\"300\">\n",
    "</iframe>"
   ]
  },
  {
   "cell_type": "markdown",
   "metadata": {},
   "source": [
    "Breaking the conventions of the Jupyter notebook, the JavaScript below has an effect on a _previous_ cell:"
   ]
  },
  {
   "cell_type": "code",
   "execution_count": 20,
   "metadata": {
    "dotnet_interactive": {
     "language": "javascript"
    },
    "polyglot_notebook": {
     "kernelName": "javascript"
    },
    "vscode": {
     "languageId": "polyglot-notebook"
    }
   },
   "outputs": [],
   "source": [
    "#!javascript\n",
    "\n",
    "const myIframe = document.getElementById('my-frame');\n",
    "\n",
    "myIframe.srcdoc = `\n",
    "    <!DOCTYPE html>\n",
    "    <html>\n",
    "        <head>\n",
    "            <link href=\"https://cdn.jsdelivr.net/npm/bootstrap@5.2.3/dist/css/bootstrap.min.css\" type=\"text/css\" rel=\"stylesheet\" />\n",
    "            <script src=\"https://cdn.jsdelivr.net/npm/bootstrap@5.2.3/dist/js/bootstrap.min.js\" type=\"text/javascript\"></script>\n",
    "        </head>\n",
    "        <body>\n",
    "        <div class=\"list-group\">\n",
    "            <a href=\"#\" class=\"list-group-item list-group-item-action active\" aria-current=\"true\">\n",
    "                <div class=\"d-flex w-100 justify-content-between\">\n",
    "                <h5 class=\"mb-1\">This is a Bootstrap List group</h5>\n",
    "                <small>3 days ago</small>\n",
    "                </div>\n",
    "                <p class=\"mb-1\">See the documentation.</p>\n",
    "                <small><code>https://getbootstrap.com/docs/5.3/components/list-group/</code></small>\n",
    "            </a>\n",
    "            <a href=\"#\" class=\"list-group-item list-group-item-action\">\n",
    "                <div class=\"d-flex w-100 justify-content-between\">\n",
    "                <h5 class=\"mb-1\">BootstrapCDN</h5>\n",
    "                <small class=\"text-body-secondary\">3 days ago</small>\n",
    "                </div>\n",
    "                <p class=\"mb-1\">The recommended CDN for Bootstrap.</p>\n",
    "                <small class=\"text-body-secondary\"><code>https://www.bootstrapcdn.com/</code></small>\n",
    "            </a>\n",
    "            <a href=\"#\" class=\"list-group-item list-group-item-action\">\n",
    "                <div class=\"d-flex w-100 justify-content-between\">\n",
    "                <h5 class=\"mb-1\">cdnjs is the alternative</h5>\n",
    "                <small class=\"text-body-secondary\">3 days ago</small>\n",
    "                </div>\n",
    "                <p class=\"mb-1\">cdnjs is a free and open-source CDN service.</p>\n",
    "                <small class=\"text-body-secondary\"><code>https://cdnjs.com/</code></small>\n",
    "            </a>\n",
    "        </div>\n",
    "        </body>\n",
    "    </html>\n",
    "`;"
   ]
  },
  {
   "cell_type": "markdown",
   "metadata": {},
   "source": [
    "Note that the above uses the `srcdoc` property [📖 [docs](https://developer.mozilla.org/en-US/docs/Web/API/HTMLIFrameElement/srcdoc)] of `HTMLIFrameElement`."
   ]
  },
  {
   "cell_type": "markdown",
   "metadata": {},
   "source": [
    "## what about `#!html` magics and CodePen.io?"
   ]
  },
  {
   "cell_type": "markdown",
   "metadata": {},
   "source": [
    "One way to show notes, JavaScript code and output results in the expected document order is to work with [CodePen](https://codepen.io/rasx/pen/gOjGQOv):"
   ]
  },
  {
   "cell_type": "code",
   "execution_count": 1,
   "metadata": {
    "dotnet_interactive": {
     "language": "html"
    },
    "polyglot_notebook": {
     "kernelName": "html"
    },
    "vscode": {
     "languageId": "polyglot-notebook"
    }
   },
   "outputs": [
    {
     "data": {
      "text/html": [
       "<p class=\"codepen\" data-height=\"300\" data-default-tab=\"html,result\" data-slug-hash=\"gOjGQOv\" data-user=\"rasx\" style=\"height: 300px; box-sizing: border-box; display: flex; align-items: center; justify-content: center; border: 2px solid; margin: 1em 0; padding: 1em;\">\n",
       "  <span>See the Pen <a href=\"https://codepen.io/rasx/pen/gOjGQOv\">\n",
       "  YouTube:  linking to a video with a `figure`</a> by Bryan Wilhite (<a href=\"https://codepen.io/rasx\">@rasx</a>)\n",
       "  on <a href=\"https://codepen.io\">CodePen</a>.</span>\n",
       "</p>\n",
       "<script async src=\"https://cpwebassets.codepen.io/assets/embed/ei.js\"></script>"
      ]
     },
     "metadata": {},
     "output_type": "display_data"
    }
   ],
   "source": [
    "#!html\n",
    "\n",
    "<p class=\"codepen\" data-height=\"300\" data-default-tab=\"html,result\" data-slug-hash=\"gOjGQOv\" data-user=\"rasx\" style=\"height: 300px; box-sizing: border-box; display: flex; align-items: center; justify-content: center; border: 2px solid; margin: 1em 0; padding: 1em;\">\n",
    "  <span>See the Pen <a href=\"https://codepen.io/rasx/pen/gOjGQOv\">\n",
    "  YouTube:  linking to a video with a `figure`</a> by Bryan Wilhite (<a href=\"https://codepen.io/rasx\">@rasx</a>)\n",
    "  on <a href=\"https://codepen.io\">CodePen</a>.</span>\n",
    "</p>\n",
    "<script async src=\"https://cpwebassets.codepen.io/assets/embed/ei.js\"></script>"
   ]
  },
  {
   "cell_type": "markdown",
   "metadata": {},
   "source": [
    "The output above does not render when published to GitHub but this notebook can be exported to HTML and the above output will display as expected."
   ]
  },
  {
   "cell_type": "markdown",
   "metadata": {},
   "source": [
    "## <!-- -->\n",
    "\n",
    "🐙🐱[BryanWilhite](https://github.com/BryanWilhite)"
   ]
  }
 ],
 "metadata": {
  "kernelspec": {
   "display_name": "Python 3",
   "language": "python",
   "name": "python3"
  },
  "language_info": {
   "codemirror_mode": {
    "name": "ipython",
    "version": 3
   },
   "file_extension": ".py",
   "mimetype": "text/x-python",
   "name": "python",
   "nbconvert_exporter": "python",
   "pygments_lexer": "ipython3",
   "version": "3.8.13"
  }
 },
 "nbformat": 4,
 "nbformat_minor": 2
}
