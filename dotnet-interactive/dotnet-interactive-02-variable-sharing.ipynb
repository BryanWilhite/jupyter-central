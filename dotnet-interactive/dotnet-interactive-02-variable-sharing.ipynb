{
 "cells": [
  {
   "cell_type": "markdown",
   "metadata": {},
   "source": [
    "## Variable sharing\n",
    "\n",
    ">.NET Interactive enables you to write code in multiple languages within a single notebook and in order to take advantage of those languages' different strengths, you might find it useful to share data between them. …You can share variables between .NET subkernels using the `#!share` magic command.\n",
    ">\n",
    "> —Jon Sequeira ([@jonsequitur](https://github.com/jonsequitur)), “[Variable sharing](https://github.com/dotnet/interactive/blob/main/docs/variable-sharing.md#variable-sharing)”\n"
   ]
  },
  {
   "cell_type": "code",
   "execution_count": null,
   "metadata": {
    "dotnet_interactive": {
     "language": "csharp"
    }
   },
   "outputs": [
    {
     "name": "stdout",
     "output_type": "stream",
     "text": [
      "#!share\r\n",
      "  Share a .NET variable between subkernels\r\n",
      "\r\n",
      "Usage:\r\n",
      "  [options] #!share <name>\r\n",
      "\r\n",
      "Arguments:\r\n",
      "  <$|?|ConfirmPreference|DebugPreference|EnabledExperimentalFeatures|Error|ErrorActionPreference|ErrorView|ExecutionContext|false|FormatEnumerationLimit|HOME|Host|InformationPreference|InteractiveHost|IsCoreCLR|IsLinux|IsMacOS|IsWindows|MaximumHistoryCount|NestedPromptLevel|null|OutputEncoding|PID|PROFILE|ProgressPreference|PSCulture|PSDefaultParameterValues|PSEdition|PSEmailServer|PSHOME|PSSessionApplicationName|PSSessionConfigurationName|PSSessionOption|PSUICulture|PSVersionTable|PWD|ShellId|StackTrace|true|VerbosePreference|WarningPreference|WhatIfPreference|^>  The name of the variable to create in the destination kernel\r\n",
      "\r\n",
      "Options:\r\n",
      "  --from <csharp|fsharp|pwsh|value>  The name of the kernel where the variable has been previously declared\r\n",
      "  -?, -h, --help                     Show help and usage information\r\n",
      "\r\n"
     ]
    }
   ],
   "source": [
    "#!share --help"
   ]
  },
  {
   "cell_type": "code",
   "execution_count": null,
   "metadata": {
    "dotnet_interactive": {
     "language": "csharp"
    }
   },
   "outputs": [
    {
     "data": {
      "text/plain": [
       "This is from C#"
      ]
     },
     "metadata": {},
     "output_type": "display_data"
    }
   ],
   "source": [
    "var fromCSharp = \"This is from C#\";\n",
    "\n",
    "fromCSharp"
   ]
  },
  {
   "cell_type": "code",
   "execution_count": null,
   "metadata": {
    "dotnet_interactive": {
     "language": "fsharp"
    }
   },
   "outputs": [
    {
     "data": {
      "text/plain": [
       "message: This is from C#"
      ]
     },
     "metadata": {},
     "output_type": "display_data"
    }
   ],
   "source": [
    "#!share --from csharp fromCSharp\n",
    "\n",
    "let message = $\"message: {fromCSharp}\"\n",
    "\n",
    "message"
   ]
  },
  {
   "cell_type": "markdown",
   "metadata": {
    "dotnet_interactive": {
     "language": "fsharp"
    }
   },
   "source": [
    "### the `#!value` command\n",
    "\n",
    ">The `#!value` magic command is available to make it as easy as possible to get that text into a variable in your notebook. An important thing to know is that `#!value` is an alias to a subkernel designed just to hold values. This means that once you store something in it, you can access it from another subkernel using `#!share`.\n"
   ]
  },
  {
   "cell_type": "code",
   "execution_count": null,
   "metadata": {
    "dotnet_interactive": {
     "language": "csharp"
    }
   },
   "outputs": [
    {
     "name": "stdout",
     "output_type": "stream",
     "text": [
      "#!value\r\n",
      "  Stores a value that can then be shared with other subkernels.\r\n",
      "\r\n",
      "Usage:\r\n",
      "  [options] #!value\r\n",
      "\r\n",
      "Options:\r\n",
      "  --name <name> (REQUIRED)                                      The name of the value to create. You can use #!share to retrieve this value from another subkernel.\r\n",
      "  --from-file <from-file>                                       Specifies a file whose contents will be stored.\r\n",
      "  --from-url <from-url>                                         Specifies a URL whose content will be stored.\r\n",
      "  --mime-type <application/json|text/csv|text/html|text/plain>  A mime type for the value. If specified, displays the value immediately as an output using the specified mime type.\r\n",
      "  -?, -h, --help                                                Show help and usage information\r\n",
      "\r\n"
     ]
    }
   ],
   "source": [
    "#!value --help"
   ]
  },
  {
   "cell_type": "markdown",
   "metadata": {
    "dotnet_interactive": {
     "language": "fsharp"
    }
   },
   "source": [
    ">The simplest way to use `#!value` is to paste some text into the cell. The text will be stored as a string, but unlike using a string literal in C#, F#, or PowerShell, there's no need to escape anything.\n"
   ]
  },
  {
   "cell_type": "code",
   "execution_count": 2,
   "metadata": {
    "dotnet_interactive": {
     "language": "csharp"
    }
   },
   "outputs": [],
   "source": [
    "#!csharp\n",
    "#!value --name someJson\n",
    "\n",
    "{\n",
    "    \"what\": \"some JSON\",\n",
    "    \"why\": \"to share it with another subkernel\"\n",
    "}"
   ]
  },
  {
   "cell_type": "code",
   "execution_count": 3,
   "metadata": {
    "dotnet_interactive": {
     "language": "csharp"
    }
   },
   "outputs": [
    {
     "data": {
      "application/json": {
       "what": "some JSON",
       "why": "to share it with another subkernel"
      }
     },
     "metadata": {},
     "output_type": "display_data"
    }
   ],
   "source": [
    "#!csharp\n",
    "#!share someJson --from value\n",
    "\n",
    "using System.Text.Json;\n",
    "\n",
    "var jsonDoc = JsonDocument.Parse(someJson);\n",
    "\n",
    "jsonDoc.Display(\"application/json\")"
   ]
  },
  {
   "cell_type": "markdown",
   "metadata": {},
   "source": [
    "`JsonDocument` does not have a `Display()` method. The `Display()` extension method is part of the [formatting](https://github.com/dotnet/interactive/blob/82a2545a4965305f8909e9950ab6e1e1ad4516af/docs/formatting.md) features of .NET Interactive:\n",
    "\n",
    ">Formatting is invoked when values are displayed either implicitly (using a trailing expression or return statement), using the Display extension method, or using helper methods such as display.\n",
    ">\n",
    "> —Don Syme ([@dsymetweets](https://twitter.com/dsymetweets)) and Jon Sequeira ([@jonsequitur](https://github.com/jonsequitur)), “[Formatting](https://github.com/dotnet/interactive/blob/main/docs/formatting.md#formatting)”\n",
    "\n",
    "There are two other ways to set a `#!value`:\n",
    "\n",
    "1. `--from-file`\n",
    "2. `--from-url`\n"
   ]
  },
  {
   "cell_type": "code",
   "execution_count": null,
   "metadata": {
    "dotnet_interactive": {
     "language": "csharp"
    }
   },
   "outputs": [],
   "source": [
    "#!value --from-file ./dotnet-interactive-02-file.json --name fileJson"
   ]
  },
  {
   "cell_type": "code",
   "execution_count": null,
   "metadata": {
    "dotnet_interactive": {
     "language": "csharp"
    }
   },
   "outputs": [
    {
     "data": {
      "application/json": {
       "what": "some JSON",
       "where": "in a file",
       "why": "to share it with another subkernel"
      }
     },
     "metadata": {},
     "output_type": "display_data"
    }
   ],
   "source": [
    "#!share fileJson --from value\n",
    "\n",
    "jsonDoc = JsonDocument.Parse(fileJson);\n",
    "\n",
    "jsonDoc.Display(\"application/json\")"
   ]
  },
  {
   "cell_type": "code",
   "execution_count": 4,
   "metadata": {
    "dotnet_interactive": {
     "language": "csharp"
    }
   },
   "outputs": [
    {
     "data": {
      "application/json": [
       {
        "address": {
         "city": "Gwenborough",
         "geo": {
          "lat": "-37.3159",
          "lng": "81.1496"
         },
         "street": "Kulas Light",
         "suite": "Apt. 556",
         "zipcode": "92998-3874"
        },
        "company": {
         "bs": "harness real-time e-markets",
         "catchPhrase": "Multi-layered client-server neural-net",
         "name": "Romaguera-Crona"
        },
        "email": "Sincere@april.biz",
        "id": 1,
        "name": "Leanne Graham",
        "phone": "1-770-736-8031 x56442",
        "username": "Bret",
        "website": "hildegard.org"
       },
       {
        "address": {
         "city": "Wisokyburgh",
         "geo": {
          "lat": "-43.9509",
          "lng": "-34.4618"
         },
         "street": "Victor Plains",
         "suite": "Suite 879",
         "zipcode": "90566-7771"
        },
        "company": {
         "bs": "synergize scalable supply-chains",
         "catchPhrase": "Proactive didactic contingency",
         "name": "Deckow-Crist"
        },
        "email": "Shanna@melissa.tv",
        "id": 2,
        "name": "Ervin Howell",
        "phone": "010-692-6593 x09125",
        "username": "Antonette",
        "website": "anastasia.net"
       },
       {
        "address": {
         "city": "McKenziehaven",
         "geo": {
          "lat": "-68.6102",
          "lng": "-47.0653"
         },
         "street": "Douglas Extension",
         "suite": "Suite 847",
         "zipcode": "59590-4157"
        },
        "company": {
         "bs": "e-enable strategic applications",
         "catchPhrase": "Face to face bifurcated interface",
         "name": "Romaguera-Jacobson"
        },
        "email": "Nathan@yesenia.net",
        "id": 3,
        "name": "Clementine Bauch",
        "phone": "1-463-123-4447",
        "username": "Samantha",
        "website": "ramiro.info"
       },
       {
        "address": {
         "city": "South Elvis",
         "geo": {
          "lat": "29.4572",
          "lng": "-164.2990"
         },
         "street": "Hoeger Mall",
         "suite": "Apt. 692",
         "zipcode": "53919-4257"
        },
        "company": {
         "bs": "transition cutting-edge web services",
         "catchPhrase": "Multi-tiered zero tolerance productivity",
         "name": "Robel-Corkery"
        },
        "email": "Julianne.OConner@kory.org",
        "id": 4,
        "name": "Patricia Lebsack",
        "phone": "493-170-9623 x156",
        "username": "Karianne",
        "website": "kale.biz"
       },
       {
        "address": {
         "city": "Roscoeview",
         "geo": {
          "lat": "-31.8129",
          "lng": "62.5342"
         },
         "street": "Skiles Walks",
         "suite": "Suite 351",
         "zipcode": "33263"
        },
        "company": {
         "bs": "revolutionize end-to-end systems",
         "catchPhrase": "User-centric fault-tolerant solution",
         "name": "Keebler LLC"
        },
        "email": "Lucio_Hettinger@annie.ca",
        "id": 5,
        "name": "Chelsey Dietrich",
        "phone": "(254)954-1289",
        "username": "Kamren",
        "website": "demarco.info"
       },
       {
        "address": {
         "city": "South Christy",
         "geo": {
          "lat": "-71.4197",
          "lng": "71.7478"
         },
         "street": "Norberto Crossing",
         "suite": "Apt. 950",
         "zipcode": "23505-1337"
        },
        "company": {
         "bs": "e-enable innovative applications",
         "catchPhrase": "Synchronised bottom-line interface",
         "name": "Considine-Lockman"
        },
        "email": "Karley_Dach@jasper.info",
        "id": 6,
        "name": "Mrs. Dennis Schulist",
        "phone": "1-477-935-8478 x6430",
        "username": "Leopoldo_Corkery",
        "website": "ola.org"
       },
       {
        "address": {
         "city": "Howemouth",
         "geo": {
          "lat": "24.8918",
          "lng": "21.8984"
         },
         "street": "Rex Trail",
         "suite": "Suite 280",
         "zipcode": "58804-1099"
        },
        "company": {
         "bs": "generate enterprise e-tailers",
         "catchPhrase": "Configurable multimedia task-force",
         "name": "Johns Group"
        },
        "email": "Telly.Hoeger@billy.biz",
        "id": 7,
        "name": "Kurtis Weissnat",
        "phone": "210.067.6132",
        "username": "Elwyn.Skiles",
        "website": "elvis.io"
       },
       {
        "address": {
         "city": "Aliyaview",
         "geo": {
          "lat": "-14.3990",
          "lng": "-120.7677"
         },
         "street": "Ellsworth Summit",
         "suite": "Suite 729",
         "zipcode": "45169"
        },
        "company": {
         "bs": "e-enable extensible e-tailers",
         "catchPhrase": "Implemented secondary concept",
         "name": "Abernathy Group"
        },
        "email": "Sherwood@rosamond.me",
        "id": 8,
        "name": "Nicholas Runolfsdottir V",
        "phone": "586.493.6943 x140",
        "username": "Maxime_Nienow",
        "website": "jacynthe.com"
       },
       {
        "address": {
         "city": "Bartholomebury",
         "geo": {
          "lat": "24.6463",
          "lng": "-168.8889"
         },
         "street": "Dayna Park",
         "suite": "Suite 449",
         "zipcode": "76495-3109"
        },
        "company": {
         "bs": "aggregate real-time technologies",
         "catchPhrase": "Switchable contextually-based project",
         "name": "Yost and Sons"
        },
        "email": "Chaim_McDermott@dana.io",
        "id": 9,
        "name": "Glenna Reichert",
        "phone": "(775)976-6794 x41206",
        "username": "Delphine",
        "website": "conrad.com"
       },
       {
        "address": {
         "city": "Lebsackbury",
         "geo": {
          "lat": "-38.2386",
          "lng": "57.2232"
         },
         "street": "Kattie Turnpike",
         "suite": "Suite 198",
         "zipcode": "31428-2261"
        },
        "company": {
         "bs": "target end-to-end models",
         "catchPhrase": "Centralized empowering task-force",
         "name": "Hoeger LLC"
        },
        "email": "Rey.Padberg@karina.biz",
        "id": 10,
        "name": "Clementina DuBuque",
        "phone": "024-648-3804",
        "username": "Moriah.Stanton",
        "website": "ambrose.net"
       }
      ]
     },
     "metadata": {},
     "output_type": "display_data"
    }
   ],
   "source": [
    "#!csharp\n",
    "#!value --from-url http://jsonplaceholder.typicode.com/users --name wildJson --mime-type application/json"
   ]
  },
  {
   "cell_type": "markdown",
   "metadata": {},
   "source": [
    ">Regardless of which of these approaches you use, you can additionally choose to display the value in the notebook at the time of submission by using the `--mime-type` option. This accomplishes a few things. If your notebook frontend knows how to display that mime type, you can see it appropriately formatted…\n"
   ]
  },
  {
   "cell_type": "code",
   "execution_count": null,
   "metadata": {
    "dotnet_interactive": {
     "language": "csharp"
    }
   },
   "outputs": [
    {
     "data": {
      "application/json": {
       "lat": "-37.3159",
       "lng": "81.1496"
      }
     },
     "metadata": {},
     "output_type": "display_data"
    }
   ],
   "source": [
    "#!share wildJson --from value\n",
    "\n",
    "jsonDoc = JsonDocument.Parse(wildJson);\n",
    "\n",
    "jsonDoc.RootElement[0]\n",
    "    .GetProperty(\"address\")\n",
    "    .GetProperty(\"geo\")\n",
    "    .Display(\"application/json\")"
   ]
  },
  {
   "cell_type": "code",
   "execution_count": null,
   "metadata": {
    "dotnet_interactive": {
     "language": "csharp"
    }
   },
   "outputs": [],
   "source": [
    "var csharpNow = new { now = DateTime.Now };"
   ]
  },
  {
   "cell_type": "markdown",
   "metadata": {},
   "source": [
    ">Variable sharing has some limitations to be aware of. When sharing a variable with a subkernel where its compilation requirements aren't met, for example due to a missing using (C#) or open (F#) declaration, a custom type defined in the notebook, or a missing assembly reference, #!share will fail…\n"
   ]
  },
  {
   "cell_type": "code",
   "execution_count": null,
   "metadata": {
    "dotnet_interactive": {
     "language": "fsharp"
    }
   },
   "outputs": [
    {
     "ename": "Error",
     "evalue": "System.InvalidOperationException: Unable to import type, <>f__AnonymousType0#9`1[System.DateTime].\r\n ---> System.InvalidOperationException: Unable to import type, <>f__AnonymousType0#9`1[System.DateTime].\r\n   at FSharp.Compiler.Interactive.Shell.FsiDynamicCompiler.importReflectionType(FsiDynamicCompilerState istate, Type reflectionTy) in D:\\workspace\\_work\\1\\s\\src\\fsharp\\fsi\\fsi.fs:line 1363\r\n   at FSharp.Compiler.Interactive.Shell.FsiDynamicCompiler.AddBoundValue(CompilationThreadToken ctok, ErrorLogger errorLogger, FsiDynamicCompilerState istate, String name, Object value) in D:\\workspace\\_work\\1\\s\\src\\fsharp\\fsi\\fsi.fs:line 1651\r\n   --- End of inner exception stack trace ---\r\n   at FSharp.Compiler.Interactive.Shell.FsiEvaluationSession.commitResult[a,b](FSharpChoice`2 res) in D:\\workspace\\_work\\1\\s\\src\\fsharp\\fsi\\fsi.fs:line 2925\r\n   at FSharp.Compiler.Interactive.Shell.FsiEvaluationSession.AddBoundValue(String name, Object value) in D:\\workspace\\_work\\1\\s\\src\\fsharp\\fsi\\fsi.fs:line 3126\r\n   at Microsoft.DotNet.Interactive.FSharp.FSharpKernel.SetVariableAsync(String name, Object value, Type declaredType) in D:\\workspace\\_work\\1\\s\\src\\Microsoft.DotNet.Interactive.FSharp\\FSharpKernel.fs:line 389\r\n   at Microsoft.DotNet.Interactive.KernelExtensions.<>c__DisplayClass5_0`1.<<UseDotNetVariableSharing>b__2>d.MoveNext() in D:\\workspace\\_work\\1\\s\\src\\Microsoft.DotNet.Interactive\\KernelExtensions.cs:line 201\r\n--- End of stack trace from previous location ---\r\n   at System.CommandLine.Invocation.CommandHandler.GetExitCodeAsync(Object value, InvocationContext context)\r\n   at System.CommandLine.Invocation.ModelBindingCommandHandler.InvokeAsync(InvocationContext context)\r\n   at System.CommandLine.Invocation.InvocationPipeline.<>c__DisplayClass4_0.<<BuildInvocationChain>b__0>d.MoveNext()\r\n--- End of stack trace from previous location ---\r\n   at System.CommandLine.Builder.CommandLineBuilderExtensions.<>c__DisplayClass21_0.<<UseMiddleware>b__0>d.MoveNext()\r\n--- End of stack trace from previous location ---\r\n   at System.CommandLine.Builder.CommandLineBuilderExtensions.<>c__DisplayClass16_0.<<UseHelp>b__0>d.MoveNext()\r\n--- End of stack trace from previous location ---\r\n   at System.CommandLine.Builder.CommandLineBuilderExtensions.<>c__DisplayClass25_0.<<UseTypoCorrections>b__0>d.MoveNext()\r\n--- End of stack trace from previous location ---\r\n   at System.CommandLine.Invocation.InvocationPipeline.InvokeAsync(IConsole console)\r\n   at System.CommandLine.Parsing.ParseResultExtensions.InvokeAsync(ParseResult parseResult, IConsole console)\r\n   at Microsoft.DotNet.Interactive.Commands.DirectiveCommand.InvokeAsync(KernelInvocationContext context) in D:\\workspace\\_work\\1\\s\\src\\Microsoft.DotNet.Interactive\\Commands\\DirectiveCommand.cs:line 35\r\n   at Microsoft.DotNet.Interactive.Kernel.HandleAsync(KernelCommand command, KernelInvocationContext context) in D:\\workspace\\_work\\1\\s\\src\\Microsoft.DotNet.Interactive\\Kernel.cs:line 249\r\n   at Microsoft.DotNet.Interactive.KernelCommandPipeline.<BuildPipeline>b__6_0(KernelCommand command, KernelInvocationContext context, KernelPipelineContinuation _) in D:\\workspace\\_work\\1\\s\\src\\Microsoft.DotNet.Interactive\\KernelCommandPipeline.cs:line 57\r\n   at Microsoft.DotNet.Interactive.KernelCommandPipeline.<>c__DisplayClass6_1.<<BuildPipeline>b__3>d.MoveNext() in D:\\workspace\\_work\\1\\s\\src\\Microsoft.DotNet.Interactive\\KernelCommandPipeline.cs:line 72\r\n--- End of stack trace from previous location ---\r\n   at Microsoft.DotNet.Interactive.CompositeKernel.LoadExtensions(KernelCommand command, KernelInvocationContext context, KernelPipelineContinuation next) in D:\\workspace\\_work\\1\\s\\src\\Microsoft.DotNet.Interactive\\CompositeKernel.cs:line 152\r\n   at Microsoft.DotNet.Interactive.KernelCommandPipeline.<>c__DisplayClass6_0.<<BuildPipeline>g__Combine|2>d.MoveNext() in D:\\workspace\\_work\\1\\s\\src\\Microsoft.DotNet.Interactive\\KernelCommandPipeline.cs:line 70\r\n--- End of stack trace from previous location ---\r\n   at Microsoft.DotNet.Interactive.KernelCommandPipeline.SendAsync(KernelCommand command, KernelInvocationContext context) in D:\\workspace\\_work\\1\\s\\src\\Microsoft.DotNet.Interactive\\KernelCommandPipeline.cs:line 42",
     "output_type": "error",
     "traceback": [
      "System.InvalidOperationException: Unable to import type, <>f__AnonymousType0#9`1[System.DateTime].\r\n",
      " ---> System.InvalidOperationException: Unable to import type, <>f__AnonymousType0#9`1[System.DateTime].\r\n",
      "   at FSharp.Compiler.Interactive.Shell.FsiDynamicCompiler.importReflectionType(FsiDynamicCompilerState istate, Type reflectionTy) in D:\\workspace\\_work\\1\\s\\src\\fsharp\\fsi\\fsi.fs:line 1363\r\n",
      "   at FSharp.Compiler.Interactive.Shell.FsiDynamicCompiler.AddBoundValue(CompilationThreadToken ctok, ErrorLogger errorLogger, FsiDynamicCompilerState istate, String name, Object value) in D:\\workspace\\_work\\1\\s\\src\\fsharp\\fsi\\fsi.fs:line 1651\r\n",
      "   --- End of inner exception stack trace ---\r\n",
      "   at FSharp.Compiler.Interactive.Shell.FsiEvaluationSession.commitResult[a,b](FSharpChoice`2 res) in D:\\workspace\\_work\\1\\s\\src\\fsharp\\fsi\\fsi.fs:line 2925\r\n",
      "   at FSharp.Compiler.Interactive.Shell.FsiEvaluationSession.AddBoundValue(String name, Object value) in D:\\workspace\\_work\\1\\s\\src\\fsharp\\fsi\\fsi.fs:line 3126\r\n",
      "   at Microsoft.DotNet.Interactive.FSharp.FSharpKernel.SetVariableAsync(String name, Object value, Type declaredType) in D:\\workspace\\_work\\1\\s\\src\\Microsoft.DotNet.Interactive.FSharp\\FSharpKernel.fs:line 389\r\n",
      "   at Microsoft.DotNet.Interactive.KernelExtensions.<>c__DisplayClass5_0`1.<<UseDotNetVariableSharing>b__2>d.MoveNext() in D:\\workspace\\_work\\1\\s\\src\\Microsoft.DotNet.Interactive\\KernelExtensions.cs:line 201\r\n",
      "--- End of stack trace from previous location ---\r\n",
      "   at System.CommandLine.Invocation.CommandHandler.GetExitCodeAsync(Object value, InvocationContext context)\r\n",
      "   at System.CommandLine.Invocation.ModelBindingCommandHandler.InvokeAsync(InvocationContext context)\r\n",
      "   at System.CommandLine.Invocation.InvocationPipeline.<>c__DisplayClass4_0.<<BuildInvocationChain>b__0>d.MoveNext()\r\n",
      "--- End of stack trace from previous location ---\r\n",
      "   at System.CommandLine.Builder.CommandLineBuilderExtensions.<>c__DisplayClass21_0.<<UseMiddleware>b__0>d.MoveNext()\r\n",
      "--- End of stack trace from previous location ---\r\n",
      "   at System.CommandLine.Builder.CommandLineBuilderExtensions.<>c__DisplayClass16_0.<<UseHelp>b__0>d.MoveNext()\r\n",
      "--- End of stack trace from previous location ---\r\n",
      "   at System.CommandLine.Builder.CommandLineBuilderExtensions.<>c__DisplayClass25_0.<<UseTypoCorrections>b__0>d.MoveNext()\r\n",
      "--- End of stack trace from previous location ---\r\n",
      "   at System.CommandLine.Invocation.InvocationPipeline.InvokeAsync(IConsole console)\r\n",
      "   at System.CommandLine.Parsing.ParseResultExtensions.InvokeAsync(ParseResult parseResult, IConsole console)\r\n",
      "   at Microsoft.DotNet.Interactive.Commands.DirectiveCommand.InvokeAsync(KernelInvocationContext context) in D:\\workspace\\_work\\1\\s\\src\\Microsoft.DotNet.Interactive\\Commands\\DirectiveCommand.cs:line 35\r\n",
      "   at Microsoft.DotNet.Interactive.Kernel.HandleAsync(KernelCommand command, KernelInvocationContext context) in D:\\workspace\\_work\\1\\s\\src\\Microsoft.DotNet.Interactive\\Kernel.cs:line 249\r\n",
      "   at Microsoft.DotNet.Interactive.KernelCommandPipeline.<BuildPipeline>b__6_0(KernelCommand command, KernelInvocationContext context, KernelPipelineContinuation _) in D:\\workspace\\_work\\1\\s\\src\\Microsoft.DotNet.Interactive\\KernelCommandPipeline.cs:line 57\r\n",
      "   at Microsoft.DotNet.Interactive.KernelCommandPipeline.<>c__DisplayClass6_1.<<BuildPipeline>b__3>d.MoveNext() in D:\\workspace\\_work\\1\\s\\src\\Microsoft.DotNet.Interactive\\KernelCommandPipeline.cs:line 72\r\n",
      "--- End of stack trace from previous location ---\r\n",
      "   at Microsoft.DotNet.Interactive.CompositeKernel.LoadExtensions(KernelCommand command, KernelInvocationContext context, KernelPipelineContinuation next) in D:\\workspace\\_work\\1\\s\\src\\Microsoft.DotNet.Interactive\\CompositeKernel.cs:line 152\r\n",
      "   at Microsoft.DotNet.Interactive.KernelCommandPipeline.<>c__DisplayClass6_0.<<BuildPipeline>g__Combine|2>d.MoveNext() in D:\\workspace\\_work\\1\\s\\src\\Microsoft.DotNet.Interactive\\KernelCommandPipeline.cs:line 70\r\n",
      "--- End of stack trace from previous location ---\r\n",
      "   at Microsoft.DotNet.Interactive.KernelCommandPipeline.SendAsync(KernelCommand command, KernelInvocationContext context) in D:\\workspace\\_work\\1\\s\\src\\Microsoft.DotNet.Interactive\\KernelCommandPipeline.cs:line 42"
     ]
    }
   ],
   "source": [
    "#!share --from csharp csharpNow\n",
    "\n",
    "let now = csharpNow\n"
   ]
  },
  {
   "cell_type": "markdown",
   "metadata": {},
   "source": [
    "@[BryanWilhite](https://twitter.com/BryanWilhite)\n"
   ]
  },
  {
   "cell_type": "code",
   "execution_count": null,
   "metadata": {
    "dotnet_interactive": {
     "language": "csharp"
    }
   },
   "outputs": [
    {
     "data": {
      "text/html": [
       "<table><tbody><tr><td><img src=\"data:image/png;base64, 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\" width=\"125em\"></img></td><td style=\"line-height:.8em\"><p style=\"font-size:1.5em\"><b>.NET Interactive</b></p><p>&#169; 2020 Microsoft Corporation</p><p><b>Version: </b>1.0.240403+56a0e392fba305af06e72ce7dec885b2b6722c00</p><p><b>Build date: </b>2021-08-08T21:10:43.6754968Z</p><p><a href=\"https://github.com/dotnet/interactive\">https://github.com/dotnet/interactive</a></p></td></tr></tbody></table>"
      ]
     },
     "metadata": {},
     "output_type": "display_data"
    }
   ],
   "source": [
    "#!about"
   ]
  }
 ],
 "metadata": {
  "kernelspec": {
   "display_name": ".NET (C#)",
   "language": "C#",
   "name": ".net-csharp"
  },
  "language_info": {
   "file_extension": ".cs",
   "mimetype": "text/x-csharp",
   "name": "C#",
   "pygments_lexer": "csharp",
   "version": "9.0"
  }
 },
 "nbformat": 4,
 "nbformat_minor": 2
}
