{
 "cells": [
  {
   "cell_type": "markdown",
   "metadata": {},
   "source": [
    "# “Displaying Output in an F# notebook”\n",
    "\n",
    "The Microsoft document, “[Displaying Output in an F# notebook](https://github.com/dotnet/interactive/blob/e9ab62055761ae519f513fdd631bde4b4d00493d/samples/notebooks/fsharp/Docs/Displaying-output.ipynb),” details displaying HTML:\n",
    "\n",
    ">HTML can be specified using any DSL that generates ASP.NET Core IHtmlContent. The Html module contains an F# DSL for HTML specification similar to `Giraffe.ViewEngine` [[GitHub](https://github.com/giraffe-fsharp/Giraffe.ViewEngine#html-elements-and-attributes)] that does this. For example:"
   ]
  },
  {
   "cell_type": "code",
   "execution_count": null,
   "metadata": {
    "dotnet_interactive": {
     "language": "fsharp"
    }
   },
   "outputs": [
    {
     "data": {
      "text/html": [
       "<div><h4>I love F#</h4><p class=\"some-css-class\" id=\"someId\"><b>Hello</b> <i>World</i></p></div>"
      ]
     },
     "metadata": {},
     "output_type": "display_data"
    }
   ],
   "source": [
    "open Html\n",
    "\n",
    "let indexView =\n",
    "    div [] [\n",
    "      h4 [] [ str \"I love F#\" ]\n",
    "      p [ _class \"some-css-class\"; _id \"someId\" ] [\n",
    "          b  [] [str \"Hello\" ]\n",
    "          str \" \"\n",
    "          i [] [str \"World\"]\n",
    "      ]\n",
    "    ]\n",
    "\n",
    "indexView |> display"
   ]
  },
  {
   "cell_type": "markdown",
   "metadata": {},
   "source": [
    "There is a `Javascript` helper function for F# interactive:"
   ]
  },
  {
   "cell_type": "code",
   "execution_count": null,
   "metadata": {
    "dotnet_interactive": {
     "language": "fsharp"
    }
   },
   "outputs": [
    {
     "data": {
      "text/html": [
       "<script type=\"text/javascript\">\n",
       "    const h4 = document.getElemgetElementsByTagNameentById('h4')[0]\n",
       "    alert(h4.innerText)\n",
       "    h4.innerText = 'This is my new header!'\n",
       "</script>"
      ]
     },
     "metadata": {},
     "output_type": "display_data"
    }
   ],
   "source": [
    "let header = \"This is my new header!\"\n",
    "\n",
    "Javascript @$\"\n",
    "    const h4 = document.getElemgetElementsByTagNameentById('h4')[0]\n",
    "    alert(h4.innerText)\n",
    "    h4.innerText = '{header}'\n",
    "\""
   ]
  },
  {
   "cell_type": "markdown",
   "metadata": {},
   "source": [
    "There is also a `CSS` helper function:"
   ]
  },
  {
   "cell_type": "code",
   "execution_count": null,
   "metadata": {
    "dotnet_interactive": {
     "language": "fsharp"
    }
   },
   "outputs": [
    {
     "data": {
      "text/html": [
       "<script type=\"text/javascript\">\r\n",
       "            var css = 'h4 { color: darkslategrey; }',\r\n",
       "            head = document.head || document.getElementsByTagName('head')[0],\r\n",
       "            style = document.createElement('style');\r\n",
       "\r\n",
       "            head.appendChild(style);\r\n",
       "\r\n",
       "            style.type = 'text/css';\r\n",
       "            if (style.styleSheet){\r\n",
       "              // This is required for IE8 and below.\r\n",
       "              style.styleSheet.cssText = css;\r\n",
       "            } else {\r\n",
       "              style.appendChild(document.createTextNode(css));\r\n",
       "            }</script>"
      ]
     },
     "metadata": {},
     "output_type": "display_data"
    }
   ],
   "source": [
    "CSS \"h4 { color: darkslategrey; }\""
   ]
  }
 ],
 "metadata": {
  "kernelspec": {
   "display_name": ".NET (C#)",
   "language": "C#",
   "name": ".net-csharp"
  },
  "language_info": {
   "file_extension": ".cs",
   "mimetype": "text/x-csharp",
   "name": "C#",
   "pygments_lexer": "csharp",
   "version": "9.0"
  },
  "orig_nbformat": 4
 },
 "nbformat": 4,
 "nbformat_minor": 2
}
