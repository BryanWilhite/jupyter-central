{
 "cells": [
  {
   "attachments": {},
   "cell_type": "markdown",
   "metadata": {},
   "source": [
    "# “Displaying Output in an F# notebook”\n",
    "\n",
    "The Microsoft document, “[Displaying Output in an F# notebook](https://github.com/dotnet/interactive/blob/e9ab62055761ae519f513fdd631bde4b4d00493d/samples/notebooks/fsharp/Docs/Displaying-output.ipynb),” details displaying HTML:\n",
    "\n",
    ">HTML can be specified using any DSL that generates ASP.NET Core IHtmlContent. The Html module contains an F# DSL for HTML specification similar to `Giraffe.ViewEngine` [[GitHub](https://github.com/giraffe-fsharp/Giraffe.ViewEngine#html-elements-and-attributes)] that does this. For example:"
   ]
  },
  {
   "cell_type": "code",
   "execution_count": 1,
   "metadata": {
    "dotnet_interactive": {
     "language": "fsharp"
    },
    "vscode": {
     "languageId": "polyglot-notebook"
    }
   },
   "outputs": [
    {
     "data": {
      "text/html": [
       "<div><h4>I love F#</h4><p class=\"some-css-class\" id=\"someId\"><b>Hello</b> <i>World</i></p></div>"
      ]
     },
     "metadata": {},
     "output_type": "display_data"
    }
   ],
   "source": [
    "#!fsharp\n",
    "\n",
    "open Html\n",
    "\n",
    "let indexView =\n",
    "    div [] [\n",
    "      h4 [] [ str \"I love F#\" ]\n",
    "      p [ _class \"some-css-class\"; _id \"someId\" ] [\n",
    "          b [] [str \"Hello\" ]\n",
    "          str \" \"\n",
    "          i [] [str \"World\"]\n",
    "      ]\n",
    "    ]\n",
    "\n",
    "indexView |> display"
   ]
  },
  {
   "attachments": {},
   "cell_type": "markdown",
   "metadata": {},
   "source": [
    "The .NET Interactive DSL has the following limitations:\n",
    "\n",
    "- `HtmlElements` do not support the `_onclick` attribute\n",
    "- by default, JavaScript blocks can only run once; subsequent runs will throw errors about any variables already declared"
   ]
  },
  {
   "cell_type": "code",
   "execution_count": 2,
   "metadata": {
    "dotnet_interactive": {
     "language": "fsharp"
    },
    "vscode": {
     "languageId": "polyglot-notebook"
    }
   },
   "outputs": [
    {
     "data": {
      "text/html": [
       "<div><script type=\"application/javascript\">\n",
       "\n",
       "            const button = document.getElementById('script-tag-js');\n",
       "            const pre = document.getElementById('output');\n",
       "\n",
       "            button.onclick = function () {\n",
       "                pre.innerText = 'ping from the greet method';\n",
       "            }\n",
       "\n",
       "            </script><button id=\"script-tag-js\">Say Hello</button><pre id=\"output\"></pre></div>"
      ]
     },
     "metadata": {},
     "output_type": "display_data"
    }
   ],
   "source": [
    "#!fsharp\n",
    "\n",
    "let page =\n",
    "    div [] [\n",
    "        script [_type \"application/javascript\"] [\n",
    "            rawText \"\"\"\n",
    "\n",
    "            const button = document.getElementById('script-tag-js');\n",
    "            const pre = document.getElementById('output');\n",
    "\n",
    "            button.onclick = function () {\n",
    "                pre.innerText = 'ping from the greet method';\n",
    "            }\n",
    "\n",
    "            \"\"\"\n",
    "        ]\n",
    "        button [_id \"script-tag-js\"] [str \"Say Hello\"]\n",
    "        pre [_id \"output\"] []\n",
    "    ]\n",
    "\n",
    "page |> display"
   ]
  },
  {
   "attachments": {},
   "cell_type": "markdown",
   "metadata": {},
   "source": [
    "## `HTML`, `Javascript` and `CSS` F# functions\n"
   ]
  },
  {
   "cell_type": "code",
   "execution_count": 3,
   "metadata": {
    "dotnet_interactive": {
     "language": "fsharp"
    },
    "vscode": {
     "languageId": "polyglot-notebook"
    }
   },
   "outputs": [
    {
     "data": {
      "text/html": [
       "<b style=\"color:blue\">Hello!</b>"
      ]
     },
     "metadata": {},
     "output_type": "display_data"
    }
   ],
   "source": [
    "HTML( \"<b style=\\\"color:blue\\\">Hello!</b>\")"
   ]
  },
  {
   "attachments": {},
   "cell_type": "markdown",
   "metadata": {},
   "source": [
    "\n",
    "There is a `Javascript` helper function for F# interactive:"
   ]
  },
  {
   "cell_type": "code",
   "execution_count": 4,
   "metadata": {
    "dotnet_interactive": {
     "language": "fsharp"
    },
    "vscode": {
     "languageId": "polyglot-notebook"
    }
   },
   "outputs": [
    {
     "data": {
      "text/html": [
       "<script type=\"text/javascript\">\n",
       "    const h4 = document.getElementsByTagName('h4')[0];\n",
       "    h4.innerText = 'This is my new header!';\n",
       "</script>"
      ]
     },
     "metadata": {},
     "output_type": "display_data"
    }
   ],
   "source": [
    "#!fsharp\n",
    "\n",
    "let header = \"This is my new header!\"\n",
    "\n",
    "Javascript @$\"\n",
    "    const h4 = document.getElementsByTagName('h4')[0];\n",
    "    h4.innerText = '{header}';\n",
    "\""
   ]
  },
  {
   "attachments": {},
   "cell_type": "markdown",
   "metadata": {},
   "source": [
    "⚠ This not working in the browser _and_ not working in VSCode.\n",
    "\n",
    "There is also a `CSS` helper function:"
   ]
  },
  {
   "cell_type": "code",
   "execution_count": 5,
   "metadata": {
    "dotnet_interactive": {
     "language": "fsharp"
    },
    "vscode": {
     "languageId": "polyglot-notebook"
    }
   },
   "outputs": [
    {
     "data": {
      "text/html": [
       "<script type=\"text/javascript\">\r\n",
       "            var css = `h4 { color: darkslategrey; }`,\r\n",
       "            head = document.head || document.getElementsByTagName('head')[0],\r\n",
       "            style = document.createElement('style');\r\n",
       "\r\n",
       "            head.appendChild(style);\r\n",
       "\r\n",
       "            style.type = 'text/css';\r\n",
       "            if (style.styleSheet){\r\n",
       "              // This is required for IE8 and below.\r\n",
       "              style.styleSheet.cssText = css;\r\n",
       "            } else {\r\n",
       "              style.appendChild(document.createTextNode(css));\r\n",
       "            }</script>"
      ]
     },
     "metadata": {},
     "output_type": "display_data"
    }
   ],
   "source": [
    "#!fsharp\n",
    "\n",
    "CSS \"h4 { color: darkslategrey; }\""
   ]
  }
 ],
 "metadata": {
  "kernelspec": {
   "display_name": ".NET (C#)",
   "language": "C#",
   "name": ".net-csharp"
  },
  "language_info": {
   "file_extension": ".cs",
   "mimetype": "text/x-csharp",
   "name": "C#",
   "pygments_lexer": "csharp",
   "version": "9.0"
  }
 },
 "nbformat": 4,
 "nbformat_minor": 2
}
