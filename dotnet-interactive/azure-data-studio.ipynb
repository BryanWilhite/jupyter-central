{
    "metadata": {
        "kernelspec": {
            "name": "SQL",
            "display_name": "SQL",
            "language": "sql"
        },
        "language_info": {
            "name": "sql",
            "version": ""
        },
        "orig_nbformat": 4
    },
    "nbformat_minor": 2,
    "nbformat": 4,
    "cells": [
        {
            "cell_type": "markdown",
            "source": [
                "# Azure Data Studio\n",
                "\n",
                "## a data management tool that enables you to work with SQL Server, Azure SQL DB and SQL DW from Windows, macOS and Linux\n",
                "\n",
                "[GitHub](https://github.com/Microsoft/azuredatastudio) \\| [📖 docs](https://docs.microsoft.com/en-us/sql/azure-data-studio/?view=sql-server-ver15)\n",
                ""
            ],
            "metadata": {
                "azdata_cell_guid": "64345353-e484-41bf-b18a-adb5e49b0e8e"
            }
        },
        {
            "cell_type": "markdown",
            "source": [
                "## leading conveniences of Azure Data Studio\n",
                "\n",
                "- cross-platform (unlike [SSMS](https://docs.microsoft.com/en-us/sql/ssms/sql-server-management-studio-ssms))\n",
                "- supports `*.sql` files (like SSMS)\n",
                "- connects to SQL Azure as well as local SQL Server\n",
                "- [supports Jupyter Notebooks](https://docs.microsoft.com/en-us/sql/azure-data-studio/notebooks/notebooks-guidance), allowing us to write notes next to SQL code blocks and SQL output\n",
                "- built on .NET Interactive, promising even more conveniences in the notebook world\n",
                ""
            ],
            "metadata": {
                "azdata_cell_guid": "ab660559-da60-4ebc-b115-c2710ad390ac"
            }
        },
        {
            "cell_type": "markdown",
            "source": [
                "## leading inconveniences of Azure Data Studio\n",
                "\n",
                "- the .NET Interactive SQL sub-kernel is not available outside of Azure Data Studio\n",
                "- SQL sub-kernel notebook cells are self contained: each are independent scripts\n",
                "- [Azure Data Studio extensions](https://docs.microsoft.com/en-us/sql/azure-data-studio/extensions/add-extensions?view=sql-server-ver15) are severely limited\n",
                "- Jupyter Notebooks support is markedly limited (e.g.: only one kernel/sub-kernel per notebook)\n",
                "- Jupyter notebook Markdown for images only supports absolute paths\n",
                "- [SSMS Object Explorer filtering](https://docs.microsoft.com/en-us/sql/ssms/tutorials/ssms-tricks?view=sql-server-ver15#filter-objects-in-object-explorer) has no equivalent in Azure Data Studio\n",
                ""
            ],
            "metadata": {
                "azdata_cell_guid": "64618ee7-640e-4f4f-b344-d9cada849e65"
            }
        },
        {
            "cell_type": "markdown",
            "source": [
                "## notes on a local SQL Server instance\n",
                "\n",
                "Here is an example of taking advantage of Azure Data Studio Jupyter notebooks to take inventory of a local SQL Server instance:\n",
                "\n",
                ""
            ],
            "metadata": {
                "azdata_cell_guid": "5f7415a2-2e5d-41b7-bb69-753fa0e4da2c"
            }
        },
        {
            "cell_type": "code",
            "source": [
                "SELECT * FROM sys.databases"
            ],
            "metadata": {
                "azdata_cell_guid": "6f3e47b0-c189-4a97-8018-e2d4ec28ce42"
            },
            "outputs": [
                {
                    "output_type": "display_data",
                    "data": {
                        "text/html": "(6 rows affected)"
                    },
                    "metadata": {}
                },
                {
                    "output_type": "display_data",
                    "data": {
                        "text/html": "Total execution time: 00:00:00.169"
                    },
                    "metadata": {}
                },
                {
                    "output_type": "execute_result",
                    "execution_count": 1,
                    "data": {
                        "application/vnd.dataresource+json": {
                            "schema": {
                                "fields": [
                                    {
                                        "name": "name"
                                    },
                                    {
                                        "name": "database_id"
                                    },
                                    {
                                        "name": "source_database_id"
                                    },
                                    {
                                        "name": "owner_sid"
                                    },
                                    {
                                        "name": "create_date"
                                    },
                                    {
                                        "name": "compatibility_level"
                                    },
                                    {
                                        "name": "collation_name"
                                    },
                                    {
                                        "name": "user_access"
                                    },
                                    {
                                        "name": "user_access_desc"
                                    },
                                    {
                                        "name": "is_read_only"
                                    },
                                    {
                                        "name": "is_auto_close_on"
                                    },
                                    {
                                        "name": "is_auto_shrink_on"
                                    },
                                    {
                                        "name": "state"
                                    },
                                    {
                                        "name": "state_desc"
                                    },
                                    {
                                        "name": "is_in_standby"
                                    },
                                    {
                                        "name": "is_cleanly_shutdown"
                                    },
                                    {
                                        "name": "is_supplemental_logging_enabled"
                                    },
                                    {
                                        "name": "snapshot_isolation_state"
                                    },
                                    {
                                        "name": "snapshot_isolation_state_desc"
                                    },
                                    {
                                        "name": "is_read_committed_snapshot_on"
                                    },
                                    {
                                        "name": "recovery_model"
                                    },
                                    {
                                        "name": "recovery_model_desc"
                                    },
                                    {
                                        "name": "page_verify_option"
                                    },
                                    {
                                        "name": "page_verify_option_desc"
                                    },
                                    {
                                        "name": "is_auto_create_stats_on"
                                    },
                                    {
                                        "name": "is_auto_create_stats_incremental_on"
                                    },
                                    {
                                        "name": "is_auto_update_stats_on"
                                    },
                                    {
                                        "name": "is_auto_update_stats_async_on"
                                    },
                                    {
                                        "name": "is_ansi_null_default_on"
                                    },
                                    {
                                        "name": "is_ansi_nulls_on"
                                    },
                                    {
                                        "name": "is_ansi_padding_on"
                                    },
                                    {
                                        "name": "is_ansi_warnings_on"
                                    },
                                    {
                                        "name": "is_arithabort_on"
                                    },
                                    {
                                        "name": "is_concat_null_yields_null_on"
                                    },
                                    {
                                        "name": "is_numeric_roundabort_on"
                                    },
                                    {
                                        "name": "is_quoted_identifier_on"
                                    },
                                    {
                                        "name": "is_recursive_triggers_on"
                                    },
                                    {
                                        "name": "is_cursor_close_on_commit_on"
                                    },
                                    {
                                        "name": "is_local_cursor_default"
                                    },
                                    {
                                        "name": "is_fulltext_enabled"
                                    },
                                    {
                                        "name": "is_trustworthy_on"
                                    },
                                    {
                                        "name": "is_db_chaining_on"
                                    },
                                    {
                                        "name": "is_parameterization_forced"
                                    },
                                    {
                                        "name": "is_master_key_encrypted_by_server"
                                    },
                                    {
                                        "name": "is_query_store_on"
                                    },
                                    {
                                        "name": "is_published"
                                    },
                                    {
                                        "name": "is_subscribed"
                                    },
                                    {
                                        "name": "is_merge_published"
                                    },
                                    {
                                        "name": "is_distributor"
                                    },
                                    {
                                        "name": "is_sync_with_backup"
                                    },
                                    {
                                        "name": "service_broker_guid"
                                    },
                                    {
                                        "name": "is_broker_enabled"
                                    },
                                    {
                                        "name": "log_reuse_wait"
                                    },
                                    {
                                        "name": "log_reuse_wait_desc"
                                    },
                                    {
                                        "name": "is_date_correlation_on"
                                    },
                                    {
                                        "name": "is_cdc_enabled"
                                    },
                                    {
                                        "name": "is_encrypted"
                                    },
                                    {
                                        "name": "is_honor_broker_priority_on"
                                    },
                                    {
                                        "name": "replica_id"
                                    },
                                    {
                                        "name": "group_database_id"
                                    },
                                    {
                                        "name": "resource_pool_id"
                                    },
                                    {
                                        "name": "default_language_lcid"
                                    },
                                    {
                                        "name": "default_language_name"
                                    },
                                    {
                                        "name": "default_fulltext_language_lcid"
                                    },
                                    {
                                        "name": "default_fulltext_language_name"
                                    },
                                    {
                                        "name": "is_nested_triggers_on"
                                    },
                                    {
                                        "name": "is_transform_noise_words_on"
                                    },
                                    {
                                        "name": "two_digit_year_cutoff"
                                    },
                                    {
                                        "name": "containment"
                                    },
                                    {
                                        "name": "containment_desc"
                                    },
                                    {
                                        "name": "target_recovery_time_in_seconds"
                                    },
                                    {
                                        "name": "delayed_durability"
                                    },
                                    {
                                        "name": "delayed_durability_desc"
                                    },
                                    {
                                        "name": "is_memory_optimized_elevate_to_snapshot_on"
                                    },
                                    {
                                        "name": "is_federation_member"
                                    },
                                    {
                                        "name": "is_remote_data_archive_enabled"
                                    },
                                    {
                                        "name": "is_mixed_page_allocation_on"
                                    },
                                    {
                                        "name": "is_temporal_history_retention_enabled"
                                    },
                                    {
                                        "name": "catalog_collation_type"
                                    },
                                    {
                                        "name": "catalog_collation_type_desc"
                                    },
                                    {
                                        "name": "physical_database_name"
                                    },
                                    {
                                        "name": "is_result_set_caching_on"
                                    },
                                    {
                                        "name": "is_accelerated_database_recovery_on"
                                    },
                                    {
                                        "name": "is_tempdb_spill_to_remote_store"
                                    },
                                    {
                                        "name": "is_stale_page_detection_on"
                                    },
                                    {
                                        "name": "is_memory_optimized_enabled"
                                    }
                                ]
                            },
                            "data": [
                                {
                                    "0": "master",
                                    "1": "1",
                                    "2": "NULL",
                                    "3": "0x01",
                                    "4": "2003-04-08 09:13:36.390",
                                    "5": "150",
                                    "6": "SQL_Latin1_General_CP1_CI_AS",
                                    "7": "0",
                                    "8": "MULTI_USER",
                                    "9": "0",
                                    "10": "0",
                                    "11": "0",
                                    "12": "0",
                                    "13": "ONLINE",
                                    "14": "0",
                                    "15": "0",
                                    "16": "0",
                                    "17": "1",
                                    "18": "ON",
                                    "19": "0",
                                    "20": "3",
                                    "21": "SIMPLE",
                                    "22": "2",
                                    "23": "CHECKSUM",
                                    "24": "1",
                                    "25": "0",
                                    "26": "1",
                                    "27": "0",
                                    "28": "0",
                                    "29": "0",
                                    "30": "0",
                                    "31": "0",
                                    "32": "0",
                                    "33": "0",
                                    "34": "0",
                                    "35": "0",
                                    "36": "0",
                                    "37": "0",
                                    "38": "0",
                                    "39": "0",
                                    "40": "0",
                                    "41": "1",
                                    "42": "0",
                                    "43": "0",
                                    "44": "0",
                                    "45": "0",
                                    "46": "0",
                                    "47": "0",
                                    "48": "0",
                                    "49": "0",
                                    "50": "00000000-0000-0000-0000-000000000000",
                                    "51": "0",
                                    "52": "0",
                                    "53": "NOTHING",
                                    "54": "0",
                                    "55": "0",
                                    "56": "0",
                                    "57": "0",
                                    "58": "NULL",
                                    "59": "NULL",
                                    "60": "NULL",
                                    "61": "NULL",
                                    "62": "NULL",
                                    "63": "NULL",
                                    "64": "NULL",
                                    "65": "NULL",
                                    "66": "NULL",
                                    "67": "NULL",
                                    "68": "0",
                                    "69": "NONE",
                                    "70": "0",
                                    "71": "0",
                                    "72": "DISABLED",
                                    "73": "0",
                                    "74": "0",
                                    "75": "0",
                                    "76": "1",
                                    "77": "1",
                                    "78": "0",
                                    "79": "DATABASE_DEFAULT",
                                    "80": "master",
                                    "81": "0",
                                    "82": "0",
                                    "83": "0",
                                    "84": "0",
                                    "85": "1"
                                },
                                {
                                    "0": "tempdb",
                                    "1": "2",
                                    "2": "NULL",
                                    "3": "0x01",
                                    "4": "2021-08-09 07:09:50.363",
                                    "5": "150",
                                    "6": "SQL_Latin1_General_CP1_CI_AS",
                                    "7": "0",
                                    "8": "MULTI_USER",
                                    "9": "0",
                                    "10": "0",
                                    "11": "0",
                                    "12": "0",
                                    "13": "ONLINE",
                                    "14": "0",
                                    "15": "0",
                                    "16": "0",
                                    "17": "0",
                                    "18": "OFF",
                                    "19": "0",
                                    "20": "3",
                                    "21": "SIMPLE",
                                    "22": "2",
                                    "23": "CHECKSUM",
                                    "24": "1",
                                    "25": "0",
                                    "26": "1",
                                    "27": "0",
                                    "28": "0",
                                    "29": "0",
                                    "30": "0",
                                    "31": "0",
                                    "32": "0",
                                    "33": "0",
                                    "34": "0",
                                    "35": "0",
                                    "36": "0",
                                    "37": "0",
                                    "38": "0",
                                    "39": "0",
                                    "40": "0",
                                    "41": "1",
                                    "42": "0",
                                    "43": "0",
                                    "44": "0",
                                    "45": "0",
                                    "46": "0",
                                    "47": "0",
                                    "48": "0",
                                    "49": "0",
                                    "50": "0e7fa998-68e7-4c88-8637-96d75972d644",
                                    "51": "1",
                                    "52": "0",
                                    "53": "NOTHING",
                                    "54": "0",
                                    "55": "0",
                                    "56": "0",
                                    "57": "0",
                                    "58": "NULL",
                                    "59": "NULL",
                                    "60": "NULL",
                                    "61": "NULL",
                                    "62": "NULL",
                                    "63": "NULL",
                                    "64": "NULL",
                                    "65": "NULL",
                                    "66": "NULL",
                                    "67": "NULL",
                                    "68": "0",
                                    "69": "NONE",
                                    "70": "60",
                                    "71": "0",
                                    "72": "DISABLED",
                                    "73": "0",
                                    "74": "0",
                                    "75": "0",
                                    "76": "0",
                                    "77": "1",
                                    "78": "0",
                                    "79": "DATABASE_DEFAULT",
                                    "80": "tempdb",
                                    "81": "0",
                                    "82": "0",
                                    "83": "0",
                                    "84": "0",
                                    "85": "1"
                                },
                                {
                                    "0": "model",
                                    "1": "3",
                                    "2": "NULL",
                                    "3": "0x01",
                                    "4": "2003-04-08 09:13:36.390",
                                    "5": "150",
                                    "6": "SQL_Latin1_General_CP1_CI_AS",
                                    "7": "0",
                                    "8": "MULTI_USER",
                                    "9": "0",
                                    "10": "0",
                                    "11": "0",
                                    "12": "0",
                                    "13": "ONLINE",
                                    "14": "0",
                                    "15": "0",
                                    "16": "0",
                                    "17": "0",
                                    "18": "OFF",
                                    "19": "0",
                                    "20": "1",
                                    "21": "FULL",
                                    "22": "2",
                                    "23": "CHECKSUM",
                                    "24": "1",
                                    "25": "0",
                                    "26": "1",
                                    "27": "0",
                                    "28": "0",
                                    "29": "0",
                                    "30": "0",
                                    "31": "0",
                                    "32": "0",
                                    "33": "0",
                                    "34": "0",
                                    "35": "0",
                                    "36": "0",
                                    "37": "0",
                                    "38": "0",
                                    "39": "0",
                                    "40": "0",
                                    "41": "0",
                                    "42": "0",
                                    "43": "0",
                                    "44": "0",
                                    "45": "0",
                                    "46": "0",
                                    "47": "0",
                                    "48": "0",
                                    "49": "0",
                                    "50": "00000000-0000-0000-0000-000000000000",
                                    "51": "0",
                                    "52": "0",
                                    "53": "NOTHING",
                                    "54": "0",
                                    "55": "0",
                                    "56": "0",
                                    "57": "0",
                                    "58": "NULL",
                                    "59": "NULL",
                                    "60": "NULL",
                                    "61": "NULL",
                                    "62": "NULL",
                                    "63": "NULL",
                                    "64": "NULL",
                                    "65": "NULL",
                                    "66": "NULL",
                                    "67": "NULL",
                                    "68": "0",
                                    "69": "NONE",
                                    "70": "60",
                                    "71": "0",
                                    "72": "DISABLED",
                                    "73": "0",
                                    "74": "0",
                                    "75": "0",
                                    "76": "1",
                                    "77": "1",
                                    "78": "0",
                                    "79": "DATABASE_DEFAULT",
                                    "80": "model",
                                    "81": "0",
                                    "82": "0",
                                    "83": "0",
                                    "84": "0",
                                    "85": "1"
                                },
                                {
                                    "0": "msdb",
                                    "1": "4",
                                    "2": "NULL",
                                    "3": "0x01",
                                    "4": "2020-09-23 16:35:36.530",
                                    "5": "150",
                                    "6": "SQL_Latin1_General_CP1_CI_AS",
                                    "7": "0",
                                    "8": "MULTI_USER",
                                    "9": "0",
                                    "10": "0",
                                    "11": "0",
                                    "12": "0",
                                    "13": "ONLINE",
                                    "14": "0",
                                    "15": "0",
                                    "16": "0",
                                    "17": "1",
                                    "18": "ON",
                                    "19": "0",
                                    "20": "3",
                                    "21": "SIMPLE",
                                    "22": "2",
                                    "23": "CHECKSUM",
                                    "24": "1",
                                    "25": "0",
                                    "26": "1",
                                    "27": "0",
                                    "28": "0",
                                    "29": "0",
                                    "30": "0",
                                    "31": "0",
                                    "32": "0",
                                    "33": "0",
                                    "34": "0",
                                    "35": "0",
                                    "36": "0",
                                    "37": "0",
                                    "38": "0",
                                    "39": "1",
                                    "40": "1",
                                    "41": "1",
                                    "42": "0",
                                    "43": "0",
                                    "44": "0",
                                    "45": "0",
                                    "46": "0",
                                    "47": "0",
                                    "48": "0",
                                    "49": "0",
                                    "50": "ad5344be-f6b1-46b1-bc03-145b6eb339d5",
                                    "51": "1",
                                    "52": "0",
                                    "53": "NOTHING",
                                    "54": "0",
                                    "55": "0",
                                    "56": "0",
                                    "57": "0",
                                    "58": "NULL",
                                    "59": "NULL",
                                    "60": "NULL",
                                    "61": "NULL",
                                    "62": "NULL",
                                    "63": "NULL",
                                    "64": "NULL",
                                    "65": "NULL",
                                    "66": "NULL",
                                    "67": "NULL",
                                    "68": "0",
                                    "69": "NONE",
                                    "70": "60",
                                    "71": "0",
                                    "72": "DISABLED",
                                    "73": "0",
                                    "74": "0",
                                    "75": "0",
                                    "76": "1",
                                    "77": "1",
                                    "78": "0",
                                    "79": "DATABASE_DEFAULT",
                                    "80": "msdb",
                                    "81": "0",
                                    "82": "0",
                                    "83": "0",
                                    "84": "0",
                                    "85": "1"
                                },
                                {
                                    "0": "Northwind",
                                    "1": "5",
                                    "2": "NULL",
                                    "3": "0x01",
                                    "4": "2021-08-09 10:38:00.953",
                                    "5": "150",
                                    "6": "SQL_Latin1_General_CP1_CI_AS",
                                    "7": "0",
                                    "8": "MULTI_USER",
                                    "9": "0",
                                    "10": "0",
                                    "11": "0",
                                    "12": "0",
                                    "13": "ONLINE",
                                    "14": "0",
                                    "15": "0",
                                    "16": "0",
                                    "17": "0",
                                    "18": "OFF",
                                    "19": "0",
                                    "20": "2",
                                    "21": "BULK_LOGGED",
                                    "22": "2",
                                    "23": "CHECKSUM",
                                    "24": "1",
                                    "25": "0",
                                    "26": "1",
                                    "27": "0",
                                    "28": "0",
                                    "29": "0",
                                    "30": "0",
                                    "31": "0",
                                    "32": "0",
                                    "33": "0",
                                    "34": "0",
                                    "35": "0",
                                    "36": "0",
                                    "37": "0",
                                    "38": "0",
                                    "39": "1",
                                    "40": "0",
                                    "41": "0",
                                    "42": "0",
                                    "43": "0",
                                    "44": "0",
                                    "45": "0",
                                    "46": "0",
                                    "47": "0",
                                    "48": "0",
                                    "49": "0",
                                    "50": "31629db0-6c0e-4fa3-a506-12bbb533aada",
                                    "51": "1",
                                    "52": "13",
                                    "53": "OLDEST_PAGE",
                                    "54": "0",
                                    "55": "0",
                                    "56": "0",
                                    "57": "0",
                                    "58": "NULL",
                                    "59": "NULL",
                                    "60": "NULL",
                                    "61": "NULL",
                                    "62": "NULL",
                                    "63": "NULL",
                                    "64": "NULL",
                                    "65": "NULL",
                                    "66": "NULL",
                                    "67": "NULL",
                                    "68": "0",
                                    "69": "NONE",
                                    "70": "60",
                                    "71": "0",
                                    "72": "DISABLED",
                                    "73": "0",
                                    "74": "0",
                                    "75": "0",
                                    "76": "0",
                                    "77": "1",
                                    "78": "0",
                                    "79": "DATABASE_DEFAULT",
                                    "80": "Northwind",
                                    "81": "0",
                                    "82": "0",
                                    "83": "0",
                                    "84": "0",
                                    "85": "1"
                                },
                                {
                                    "0": "pubs",
                                    "1": "6",
                                    "2": "NULL",
                                    "3": "0x01",
                                    "4": "2021-08-09 14:47:31.370",
                                    "5": "150",
                                    "6": "SQL_Latin1_General_CP1_CI_AS",
                                    "7": "0",
                                    "8": "MULTI_USER",
                                    "9": "0",
                                    "10": "0",
                                    "11": "0",
                                    "12": "0",
                                    "13": "ONLINE",
                                    "14": "0",
                                    "15": "0",
                                    "16": "0",
                                    "17": "0",
                                    "18": "OFF",
                                    "19": "0",
                                    "20": "1",
                                    "21": "FULL",
                                    "22": "2",
                                    "23": "CHECKSUM",
                                    "24": "1",
                                    "25": "0",
                                    "26": "1",
                                    "27": "0",
                                    "28": "0",
                                    "29": "0",
                                    "30": "0",
                                    "31": "0",
                                    "32": "0",
                                    "33": "0",
                                    "34": "0",
                                    "35": "0",
                                    "36": "0",
                                    "37": "0",
                                    "38": "0",
                                    "39": "1",
                                    "40": "0",
                                    "41": "0",
                                    "42": "0",
                                    "43": "0",
                                    "44": "0",
                                    "45": "0",
                                    "46": "0",
                                    "47": "0",
                                    "48": "0",
                                    "49": "0",
                                    "50": "3246c624-15ba-404e-9add-f234a5b0d1c6",
                                    "51": "1",
                                    "52": "0",
                                    "53": "NOTHING",
                                    "54": "0",
                                    "55": "0",
                                    "56": "0",
                                    "57": "0",
                                    "58": "NULL",
                                    "59": "NULL",
                                    "60": "NULL",
                                    "61": "NULL",
                                    "62": "NULL",
                                    "63": "NULL",
                                    "64": "NULL",
                                    "65": "NULL",
                                    "66": "NULL",
                                    "67": "NULL",
                                    "68": "0",
                                    "69": "NONE",
                                    "70": "60",
                                    "71": "0",
                                    "72": "DISABLED",
                                    "73": "0",
                                    "74": "0",
                                    "75": "0",
                                    "76": "0",
                                    "77": "1",
                                    "78": "0",
                                    "79": "DATABASE_DEFAULT",
                                    "80": "pubs",
                                    "81": "0",
                                    "82": "0",
                                    "83": "0",
                                    "84": "0",
                                    "85": "1"
                                }
                            ]
                        },
                        "text/html": "<table><tr><th>name</th><th>database_id</th><th>source_database_id</th><th>owner_sid</th><th>create_date</th><th>compatibility_level</th><th>collation_name</th><th>user_access</th><th>user_access_desc</th><th>is_read_only</th><th>is_auto_close_on</th><th>is_auto_shrink_on</th><th>state</th><th>state_desc</th><th>is_in_standby</th><th>is_cleanly_shutdown</th><th>is_supplemental_logging_enabled</th><th>snapshot_isolation_state</th><th>snapshot_isolation_state_desc</th><th>is_read_committed_snapshot_on</th><th>recovery_model</th><th>recovery_model_desc</th><th>page_verify_option</th><th>page_verify_option_desc</th><th>is_auto_create_stats_on</th><th>is_auto_create_stats_incremental_on</th><th>is_auto_update_stats_on</th><th>is_auto_update_stats_async_on</th><th>is_ansi_null_default_on</th><th>is_ansi_nulls_on</th><th>is_ansi_padding_on</th><th>is_ansi_warnings_on</th><th>is_arithabort_on</th><th>is_concat_null_yields_null_on</th><th>is_numeric_roundabort_on</th><th>is_quoted_identifier_on</th><th>is_recursive_triggers_on</th><th>is_cursor_close_on_commit_on</th><th>is_local_cursor_default</th><th>is_fulltext_enabled</th><th>is_trustworthy_on</th><th>is_db_chaining_on</th><th>is_parameterization_forced</th><th>is_master_key_encrypted_by_server</th><th>is_query_store_on</th><th>is_published</th><th>is_subscribed</th><th>is_merge_published</th><th>is_distributor</th><th>is_sync_with_backup</th><th>service_broker_guid</th><th>is_broker_enabled</th><th>log_reuse_wait</th><th>log_reuse_wait_desc</th><th>is_date_correlation_on</th><th>is_cdc_enabled</th><th>is_encrypted</th><th>is_honor_broker_priority_on</th><th>replica_id</th><th>group_database_id</th><th>resource_pool_id</th><th>default_language_lcid</th><th>default_language_name</th><th>default_fulltext_language_lcid</th><th>default_fulltext_language_name</th><th>is_nested_triggers_on</th><th>is_transform_noise_words_on</th><th>two_digit_year_cutoff</th><th>containment</th><th>containment_desc</th><th>target_recovery_time_in_seconds</th><th>delayed_durability</th><th>delayed_durability_desc</th><th>is_memory_optimized_elevate_to_snapshot_on</th><th>is_federation_member</th><th>is_remote_data_archive_enabled</th><th>is_mixed_page_allocation_on</th><th>is_temporal_history_retention_enabled</th><th>catalog_collation_type</th><th>catalog_collation_type_desc</th><th>physical_database_name</th><th>is_result_set_caching_on</th><th>is_accelerated_database_recovery_on</th><th>is_tempdb_spill_to_remote_store</th><th>is_stale_page_detection_on</th><th>is_memory_optimized_enabled</th></tr><tr><td>master</td><td>1</td><td>NULL</td><td>0x01</td><td>2003-04-08 09:13:36.390</td><td>150</td><td>SQL_Latin1_General_CP1_CI_AS</td><td>0</td><td>MULTI_USER</td><td>0</td><td>0</td><td>0</td><td>0</td><td>ONLINE</td><td>0</td><td>0</td><td>0</td><td>1</td><td>ON</td><td>0</td><td>3</td><td>SIMPLE</td><td>2</td><td>CHECKSUM</td><td>1</td><td>0</td><td>1</td><td>0</td><td>0</td><td>0</td><td>0</td><td>0</td><td>0</td><td>0</td><td>0</td><td>0</td><td>0</td><td>0</td><td>0</td><td>0</td><td>0</td><td>1</td><td>0</td><td>0</td><td>0</td><td>0</td><td>0</td><td>0</td><td>0</td><td>0</td><td>00000000-0000-0000-0000-000000000000</td><td>0</td><td>0</td><td>NOTHING</td><td>0</td><td>0</td><td>0</td><td>0</td><td>NULL</td><td>NULL</td><td>NULL</td><td>NULL</td><td>NULL</td><td>NULL</td><td>NULL</td><td>NULL</td><td>NULL</td><td>NULL</td><td>0</td><td>NONE</td><td>0</td><td>0</td><td>DISABLED</td><td>0</td><td>0</td><td>0</td><td>1</td><td>1</td><td>0</td><td>DATABASE_DEFAULT</td><td>master</td><td>0</td><td>0</td><td>0</td><td>0</td><td>1</td></tr><tr><td>tempdb</td><td>2</td><td>NULL</td><td>0x01</td><td>2021-08-09 07:09:50.363</td><td>150</td><td>SQL_Latin1_General_CP1_CI_AS</td><td>0</td><td>MULTI_USER</td><td>0</td><td>0</td><td>0</td><td>0</td><td>ONLINE</td><td>0</td><td>0</td><td>0</td><td>0</td><td>OFF</td><td>0</td><td>3</td><td>SIMPLE</td><td>2</td><td>CHECKSUM</td><td>1</td><td>0</td><td>1</td><td>0</td><td>0</td><td>0</td><td>0</td><td>0</td><td>0</td><td>0</td><td>0</td><td>0</td><td>0</td><td>0</td><td>0</td><td>0</td><td>0</td><td>1</td><td>0</td><td>0</td><td>0</td><td>0</td><td>0</td><td>0</td><td>0</td><td>0</td><td>0e7fa998-68e7-4c88-8637-96d75972d644</td><td>1</td><td>0</td><td>NOTHING</td><td>0</td><td>0</td><td>0</td><td>0</td><td>NULL</td><td>NULL</td><td>NULL</td><td>NULL</td><td>NULL</td><td>NULL</td><td>NULL</td><td>NULL</td><td>NULL</td><td>NULL</td><td>0</td><td>NONE</td><td>60</td><td>0</td><td>DISABLED</td><td>0</td><td>0</td><td>0</td><td>0</td><td>1</td><td>0</td><td>DATABASE_DEFAULT</td><td>tempdb</td><td>0</td><td>0</td><td>0</td><td>0</td><td>1</td></tr><tr><td>model</td><td>3</td><td>NULL</td><td>0x01</td><td>2003-04-08 09:13:36.390</td><td>150</td><td>SQL_Latin1_General_CP1_CI_AS</td><td>0</td><td>MULTI_USER</td><td>0</td><td>0</td><td>0</td><td>0</td><td>ONLINE</td><td>0</td><td>0</td><td>0</td><td>0</td><td>OFF</td><td>0</td><td>1</td><td>FULL</td><td>2</td><td>CHECKSUM</td><td>1</td><td>0</td><td>1</td><td>0</td><td>0</td><td>0</td><td>0</td><td>0</td><td>0</td><td>0</td><td>0</td><td>0</td><td>0</td><td>0</td><td>0</td><td>0</td><td>0</td><td>0</td><td>0</td><td>0</td><td>0</td><td>0</td><td>0</td><td>0</td><td>0</td><td>0</td><td>00000000-0000-0000-0000-000000000000</td><td>0</td><td>0</td><td>NOTHING</td><td>0</td><td>0</td><td>0</td><td>0</td><td>NULL</td><td>NULL</td><td>NULL</td><td>NULL</td><td>NULL</td><td>NULL</td><td>NULL</td><td>NULL</td><td>NULL</td><td>NULL</td><td>0</td><td>NONE</td><td>60</td><td>0</td><td>DISABLED</td><td>0</td><td>0</td><td>0</td><td>1</td><td>1</td><td>0</td><td>DATABASE_DEFAULT</td><td>model</td><td>0</td><td>0</td><td>0</td><td>0</td><td>1</td></tr><tr><td>msdb</td><td>4</td><td>NULL</td><td>0x01</td><td>2020-09-23 16:35:36.530</td><td>150</td><td>SQL_Latin1_General_CP1_CI_AS</td><td>0</td><td>MULTI_USER</td><td>0</td><td>0</td><td>0</td><td>0</td><td>ONLINE</td><td>0</td><td>0</td><td>0</td><td>1</td><td>ON</td><td>0</td><td>3</td><td>SIMPLE</td><td>2</td><td>CHECKSUM</td><td>1</td><td>0</td><td>1</td><td>0</td><td>0</td><td>0</td><td>0</td><td>0</td><td>0</td><td>0</td><td>0</td><td>0</td><td>0</td><td>0</td><td>0</td><td>1</td><td>1</td><td>1</td><td>0</td><td>0</td><td>0</td><td>0</td><td>0</td><td>0</td><td>0</td><td>0</td><td>ad5344be-f6b1-46b1-bc03-145b6eb339d5</td><td>1</td><td>0</td><td>NOTHING</td><td>0</td><td>0</td><td>0</td><td>0</td><td>NULL</td><td>NULL</td><td>NULL</td><td>NULL</td><td>NULL</td><td>NULL</td><td>NULL</td><td>NULL</td><td>NULL</td><td>NULL</td><td>0</td><td>NONE</td><td>60</td><td>0</td><td>DISABLED</td><td>0</td><td>0</td><td>0</td><td>1</td><td>1</td><td>0</td><td>DATABASE_DEFAULT</td><td>msdb</td><td>0</td><td>0</td><td>0</td><td>0</td><td>1</td></tr><tr><td>Northwind</td><td>5</td><td>NULL</td><td>0x01</td><td>2021-08-09 10:38:00.953</td><td>150</td><td>SQL_Latin1_General_CP1_CI_AS</td><td>0</td><td>MULTI_USER</td><td>0</td><td>0</td><td>0</td><td>0</td><td>ONLINE</td><td>0</td><td>0</td><td>0</td><td>0</td><td>OFF</td><td>0</td><td>2</td><td>BULK_LOGGED</td><td>2</td><td>CHECKSUM</td><td>1</td><td>0</td><td>1</td><td>0</td><td>0</td><td>0</td><td>0</td><td>0</td><td>0</td><td>0</td><td>0</td><td>0</td><td>0</td><td>0</td><td>0</td><td>1</td><td>0</td><td>0</td><td>0</td><td>0</td><td>0</td><td>0</td><td>0</td><td>0</td><td>0</td><td>0</td><td>31629db0-6c0e-4fa3-a506-12bbb533aada</td><td>1</td><td>13</td><td>OLDEST_PAGE</td><td>0</td><td>0</td><td>0</td><td>0</td><td>NULL</td><td>NULL</td><td>NULL</td><td>NULL</td><td>NULL</td><td>NULL</td><td>NULL</td><td>NULL</td><td>NULL</td><td>NULL</td><td>0</td><td>NONE</td><td>60</td><td>0</td><td>DISABLED</td><td>0</td><td>0</td><td>0</td><td>0</td><td>1</td><td>0</td><td>DATABASE_DEFAULT</td><td>Northwind</td><td>0</td><td>0</td><td>0</td><td>0</td><td>1</td></tr><tr><td>pubs</td><td>6</td><td>NULL</td><td>0x01</td><td>2021-08-09 14:47:31.370</td><td>150</td><td>SQL_Latin1_General_CP1_CI_AS</td><td>0</td><td>MULTI_USER</td><td>0</td><td>0</td><td>0</td><td>0</td><td>ONLINE</td><td>0</td><td>0</td><td>0</td><td>0</td><td>OFF</td><td>0</td><td>1</td><td>FULL</td><td>2</td><td>CHECKSUM</td><td>1</td><td>0</td><td>1</td><td>0</td><td>0</td><td>0</td><td>0</td><td>0</td><td>0</td><td>0</td><td>0</td><td>0</td><td>0</td><td>0</td><td>0</td><td>1</td><td>0</td><td>0</td><td>0</td><td>0</td><td>0</td><td>0</td><td>0</td><td>0</td><td>0</td><td>0</td><td>3246c624-15ba-404e-9add-f234a5b0d1c6</td><td>1</td><td>0</td><td>NOTHING</td><td>0</td><td>0</td><td>0</td><td>0</td><td>NULL</td><td>NULL</td><td>NULL</td><td>NULL</td><td>NULL</td><td>NULL</td><td>NULL</td><td>NULL</td><td>NULL</td><td>NULL</td><td>0</td><td>NONE</td><td>60</td><td>0</td><td>DISABLED</td><td>0</td><td>0</td><td>0</td><td>0</td><td>1</td><td>0</td><td>DATABASE_DEFAULT</td><td>pubs</td><td>0</td><td>0</td><td>0</td><td>0</td><td>1</td></tr></table>"
                    },
                    "metadata": {}
                }
            ],
            "execution_count": 1
        },
        {
            "cell_type": "code",
            "source": [
                "SELECT\n",
                "    [DateRun]         = GETUTCDATE()\n",
                ",   [DatabaseName]    = DB_NAME()\n",
                "--,   [ServerName]      = SERVERPROPERTY('ServerName')\n",
                ",   [InstanceName]    = SERVERPROPERTY('InstanceName')\n",
                "--,   [PhysicalName]    = SERVERPROPERTY('ComputerNamePhysicalNetBIOS')\n",
                ",   [Edition]         = SERVERPROPERTY('Edition')\n",
                ",   [MajorVersion]    = SERVERPROPERTY('ProductMajorVersion')\n",
                ",   [MinorVersion]    = SERVERPROPERTY('ProductMinorVersion')"
            ],
            "metadata": {
                "azdata_cell_guid": "35effa35-4fb0-4841-a066-f47b1f9c4687"
            },
            "outputs": [
                {
                    "output_type": "display_data",
                    "data": {
                        "text/html": "(1 row affected)"
                    },
                    "metadata": {}
                },
                {
                    "output_type": "display_data",
                    "data": {
                        "text/html": "Total execution time: 00:00:00.005"
                    },
                    "metadata": {}
                },
                {
                    "output_type": "execute_result",
                    "execution_count": 2,
                    "data": {
                        "application/vnd.dataresource+json": {
                            "schema": {
                                "fields": [
                                    {
                                        "name": "DateRun"
                                    },
                                    {
                                        "name": "DatabaseName"
                                    },
                                    {
                                        "name": "InstanceName"
                                    },
                                    {
                                        "name": "Edition"
                                    },
                                    {
                                        "name": "MajorVersion"
                                    },
                                    {
                                        "name": "MinorVersion"
                                    }
                                ]
                            },
                            "data": [
                                {
                                    "0": "2021-08-10 02:10:34.790",
                                    "1": "master",
                                    "2": "NULL",
                                    "3": "Developer Edition (64-bit)",
                                    "4": "15",
                                    "5": "0"
                                }
                            ]
                        },
                        "text/html": "<table><tr><th>DateRun</th><th>DatabaseName</th><th>InstanceName</th><th>Edition</th><th>MajorVersion</th><th>MinorVersion</th></tr><tr><td>2021-08-10 02:10:34.790</td><td>master</td><td>NULL</td><td>Developer Edition (64-bit)</td><td>15</td><td>0</td></tr></table>"
                    },
                    "metadata": {}
                }
            ],
            "execution_count": 2
        },
        {
            "cell_type": "markdown",
            "source": [
                "## preferred configuration settings\n",
                "\n",
                "```json\n",
                "{\n",
                "    \"datasource.connectionsSortOrder\": \"displayName\",\n",
                "    \"editor.fontFamily\": \"Monoid, Consolas, Monaco, 'Andale Mono', 'DejaVu Sans Mono', monospace\",\n",
                "    \"editor.fontSize\": 14,\n",
                "    \"notebook.defaultTextEditMode\": \"Markdown\",\n",
                "    \"queryEditor.promptToSaveGeneratedFiles\": true,\n",
                "    \"startup.alwaysShowServersView\": false,\n",
                "    \"workbench.colorTheme\": \"Solarized Dark\",\n",
                "    \"workbench.enablePreviewFeatures\": true,\n",
                "}\n",
                "```\n",
                ""
            ],
            "metadata": {
                "azdata_cell_guid": "7b4ca4ca-3f96-49fa-974f-0d910943461c"
            }
        },
        {
            "cell_type": "markdown",
            "source": [
                "## related links\n",
                "\n",
                "- “[SQL Notebooks in Azure Data Studio](https://github.com/microsoft/azuredatastudio/blob/c2d2cf5a821a9a4415fe603b7916718b899a18fb/samples/notebookSamples/SampleTSQLNotebook.ipynb)”\n",
                "- “[What is SQL Server Language Extensions?](https://docs.microsoft.com/en-us/sql/language-extensions/language-extensions-overview?view=sql-server-ver15)”\n",
                "- “[What is SQL Server Machine Learning Services with Python and R?](https://docs.microsoft.com/en-us/sql/machine-learning/sql-server-machine-learning-services?view=sql-server-ver15)”"
            ],
            "metadata": {
                "azdata_cell_guid": "d8844961-01af-40a8-aefe-ecbb4568cc1c"
            }
        }
    ]
}