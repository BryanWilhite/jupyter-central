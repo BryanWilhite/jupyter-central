{
 "metadata": {
  "language_info": {
   "codemirror_mode": {
    "name": "ipython",
    "version": 3
   },
   "file_extension": ".py",
   "mimetype": "text/x-python",
   "name": "python",
   "nbconvert_exporter": "python",
   "pygments_lexer": "ipython3",
   "version": "3.7.7-final"
  },
  "orig_nbformat": 2,
  "kernelspec": {
   "name": "python3",
   "display_name": "Python 3"
  }
 },
 "nbformat": 4,
 "nbformat_minor": 2,
 "cells": [
  {
   "source": [
    "# Wand Binds to ImageMagick\n",
    "\n",
    "[Wand](https://docs.wand-py.org/) is a `ctypes`-based [📖 [docs](https://docs.python.org/3/library/ctypes.html#module-ctypes)] simple [ImageMagick](http://www.imagemagick.org/) binding for Python.\n",
    "\n",
    "## Drawing Text for an Image\n",
    "\n",
    "We are going to draw text for an image, following these steps:\n",
    "\n",
    "1. generate an image with a background\n",
    "2. draw a transparent background for a title\n",
    "3. draw the title text\n",
    "\n",
    "## 1. Generate an Image with a Background\n",
    "\n",
    "We are going to construct `Image` with `background` [📖 [docs](https://docs.wand-py.org/en/0.6.2/wand/image.html#wand.image.Image)]:"
   ],
   "cell_type": "markdown",
   "metadata": {}
  },
  {
   "cell_type": "code",
   "execution_count": 6,
   "metadata": {},
   "outputs": [
    {
     "output_type": "execute_result",
     "data": {
      "image/png": "[encoded data removed]",
      "text/plain": "<IPython.core.display.Image object>"
     },
     "metadata": {},
     "execution_count": 6
    }
   ],
   "source": [
    "import IPython\n",
    "from wand.color import Color\n",
    "from wand.image import Image\n",
    "\n",
    "w, h = 640, 480\n",
    "output_filename = f'wand_02_background_{w}x{h}.png'\n",
    "\n",
    "with Color('#ff0') as background_color:\n",
    "    with Image(width=w, height=h, background=background_color) as img:\n",
    "        img.save(filename=output_filename)\n",
    "\n",
    "IPython.display.Image(filename=output_filename)"
   ]
  },
  {
   "source": [
    "## 2. Draw a Transparent Background for a Title\n",
    "\n",
    "Draw with `fill_opacity` [📖 [docs](https://docs.wand-py.org/en/0.6.2/wand/drawing.html#wand.drawing.Drawing.fill_opacity)] to see a transparent background:"
   ],
   "cell_type": "markdown",
   "metadata": {}
  },
  {
   "cell_type": "code",
   "execution_count": 11,
   "metadata": {},
   "outputs": [
    {
     "output_type": "execute_result",
     "data": {
      "image/png": "[encoded data removed]",
      "text/plain": "<IPython.core.display.Image object>"
     },
     "metadata": {},
     "execution_count": 11
    }
   ],
   "source": [
    "from wand.drawing import Drawing\n",
    "\n",
    "output_filename = f'wand_02_rectangle_{w}x{h}.png'\n",
    "x, y, b = 64, 240, 360\n",
    "\n",
    "with Drawing() as draw:\n",
    "    draw.fill_color = Color('#000')\n",
    "    draw.fill_opacity = 0.6\n",
    "    draw.rectangle(left=x, top=y, right=w, bottom=b)\n",
    "\n",
    "    with Image(filename='./wand_02_background_640x480.png') as original:\n",
    "        with original.clone() as clone:\n",
    "            draw(clone)\n",
    "            clone.save(filename=output_filename)\n",
    "\n",
    "IPython.display.Image(filename=output_filename)"
   ]
  },
  {
   "source": [
    "## 3. Draw the Title Text\n",
    "\n",
    "The [Wand documentation](https://docs.wand-py.org/en/0.6.2/wand/font.html) strongly suggests that it uses TrueType or the more modern [OpenType](https://en.wikipedia.org/wiki/OpenType) fonts:\n",
    "\n",
    ">Font is an object which takes the `path` of font file, `size`, `color`, and whether to use `antialias`ing.\n",
    "\n",
    "In the example below, we will use [Landasans Font](https://www.fontspace.com/landasans-font-f46854) by Mantra Aksara:"
   ],
   "cell_type": "markdown",
   "metadata": {}
  },
  {
   "cell_type": "code",
   "execution_count": 27,
   "metadata": {},
   "outputs": [
    {
     "output_type": "execute_result",
     "data": {
      "image/png": "[encoded data removed]",
      "text/plain": "<IPython.core.display.Image object>"
     },
     "metadata": {},
     "execution_count": 27
    }
   ],
   "source": [
    "output_filename = f'wand_02_font_{w}x{h}.png'\n",
    "\n",
    "with Drawing() as draw:\n",
    "    draw.fill_color = Color('#fff')\n",
    "    draw.font = './open-type-fonts/landasans-font/LandasansMedium-ALJ6m.otf'\n",
    "    draw.font_size = 96\n",
    "    draw.text(x + 16, y + 96, 'hello wide world!')\n",
    "\n",
    "    with Image(filename='./wand_02_rectangle_640x480.png') as original:\n",
    "        with original.clone() as clone:\n",
    "            draw(clone)\n",
    "            clone.save(filename=output_filename)\n",
    "\n",
    "IPython.display.Image(filename=output_filename)"
   ]
  }
 ]
}