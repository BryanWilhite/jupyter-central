{
 "metadata": {
  "language_info": {
   "codemirror_mode": {
    "name": "ipython",
    "version": 3
   },
   "file_extension": ".py",
   "mimetype": "text/x-python",
   "name": "python",
   "nbconvert_exporter": "python",
   "pygments_lexer": "ipython3",
   "version": "3.7.7-final"
  },
  "orig_nbformat": 2,
  "kernelspec": {
   "name": "python3",
   "display_name": "Python 3"
  }
 },
 "nbformat": 4,
 "nbformat_minor": 2,
 "cells": [
  {
   "source": [
    "# Wand Binds to ImageMagick\n",
    "\n",
    "[Wand](https://docs.wand-py.org/) is a `ctypes`-based [📖 [docs](https://docs.python.org/3/library/ctypes.html#module-ctypes)] simple [ImageMagick](http://www.imagemagick.org/) binding for Python.\n",
    "\n",
    "## Cropping an Image\n",
    "\n",
    "We are going to crop an image we will generate, following these steps:\n",
    "\n",
    "1. generate a transparent image\n",
    "2. draw on the image\n",
    "3. draw a cropping rectangle\n",
    "4. crop the image\n",
    "\n",
    "### Generate a Transparent Image\n",
    "\n",
    "In accord with [the documentation](https://docs.wand-py.org/en/0.6.3/guide/read.html#open-an-empty-image):"
   ],
   "cell_type": "markdown",
   "metadata": {}
  },
  {
   "cell_type": "code",
   "execution_count": 1,
   "metadata": {},
   "outputs": [
    {
     "output_type": "execute_result",
     "data": {
      "image/png": "[encoded data removed]",
      "text/plain": "<IPython.core.display.Image object>"
     },
     "metadata": {},
     "execution_count": 1
    }
   ],
   "source": [
    "import IPython\n",
    "from wand.image import Image\n",
    "\n",
    "size = (640, 480)\n",
    "output_filename = f'wand_01_transparent_{size[0]}x{size[-1]}.png'\n",
    "\n",
    "with Image(width=size[0], height=size[-1]) as img:\n",
    "    img.save(filename=output_filename)\n",
    "\n",
    "IPython.display.Image(filename=output_filename) # transparency will display as white 😐"
   ]
  },
  {
   "source": [
    "### Draw on a Transparent Image\n",
    "\n",
    "[The documentation](https://docs.wand-py.org/en/0.6.3/guide/draw.html) shows us the nested `with`-`as` blocks making a the pattern for drawing on an image:\n",
    "\n",
    "```python\n",
    "from wand.drawing import Drawing\n",
    "from wand.image import Image\n",
    "\n",
    "with Drawing() as draw:\n",
    "    # does something with ``draw`` object,\n",
    "    # and then...\n",
    "    with Image(filename='wandtests/assets/beach.jpg') as image:\n",
    "        draw(image)\n",
    "```\n",
    "\n",
    "However, the preference here is not draw on the original image written above. We are going to `.clone()` [📖 [docs](https://docs.wand-py.org/en/0.6.3/guide/read.html#clone-an-image)] the image, making a new copy:"
   ],
   "cell_type": "markdown",
   "metadata": {}
  },
  {
   "cell_type": "code",
   "execution_count": 2,
   "metadata": {},
   "outputs": [
    {
     "output_type": "execute_result",
     "data": {
      "image/png": "[encoded data removed]",
      "text/plain": "<IPython.core.display.Image object>"
     },
     "metadata": {},
     "execution_count": 2
    }
   ],
   "source": [
    "from wand.drawing import Drawing\n",
    "from wand.color import Color\n",
    "\n",
    "output_filename = f'wand_01_drawing_{size[0]}x{size[-1]}.png'\n",
    "x, y = 320, 240\n",
    "\n",
    "with Drawing() as draw:\n",
    "    draw.fill_color = Color('yellow')\n",
    "    draw.stroke_color = Color('black')\n",
    "    draw.stroke_width = 1\n",
    "    draw.circle((x, y), # Center point\n",
    "                (128, 128)) # Perimeter point\n",
    "\n",
    "    with Image(filename='./wand_01_transparent_640x480.png') as original:\n",
    "        with original.clone() as clone:\n",
    "            draw(clone)\n",
    "            clone.save(filename=output_filename)\n",
    "\n",
    "IPython.display.Image(filename=output_filename)"
   ]
  },
  {
   "source": [
    "### Draw a Cropping Rectangle\n",
    "\n",
    "Now let us target a cropping area by drawing it out first. Let’s target a 50x50 square at the top, left:"
   ],
   "cell_type": "markdown",
   "metadata": {}
  },
  {
   "cell_type": "code",
   "execution_count": 3,
   "metadata": {},
   "outputs": [
    {
     "output_type": "execute_result",
     "data": {
      "image/png": "[encoded data removed]",
      "text/plain": "<IPython.core.display.Image object>"
     },
     "metadata": {},
     "execution_count": 3
    }
   ],
   "source": [
    "output_filename = f'wand_01_crop_target_{size[0]}x{size[-1]}.png'\n",
    "\n",
    "with Drawing() as draw:\n",
    "    draw.fill_color = Color('transparent')\n",
    "    draw.stroke_color = Color('black')\n",
    "    draw.stroke_dash_array = [2,4]\n",
    "    draw.stroke_width = 1\n",
    "    draw.rectangle(\n",
    "        left=0,\n",
    "        top=0,\n",
    "        right=x,\n",
    "        bottom=y)\n",
    "\n",
    "    with Image(filename='./wand_01_drawing_640x480.png') as original:\n",
    "        with original.clone() as clone:\n",
    "            draw(clone)\n",
    "            clone.save(filename=output_filename)\n",
    "\n",
    "IPython.display.Image(filename=output_filename)"
   ]
  },
  {
   "source": [
    "The documentation for `stroke_dash_array` provided by Wand is not explaining `stroke_dash_array` as of this writing. The underlying ImageMagick documentation is also doing [very little](https://www.imagemagick.org/Usage/draw/#stroke)."
   ],
   "cell_type": "markdown",
   "metadata": {}
  },
  {
   "source": [
    "### Cropping an Image\n",
    "\n",
    "[📖 [docs](https://docs.wand-py.org/en/0.6.3/guide/resizecrop.html#crop-images)]"
   ],
   "cell_type": "markdown",
   "metadata": {}
  },
  {
   "cell_type": "code",
   "execution_count": 4,
   "metadata": {},
   "outputs": [
    {
     "output_type": "execute_result",
     "data": {
      "image/png": "[encoded data removed]",
      "text/plain": "<IPython.core.display.Image object>"
     },
     "metadata": {},
     "execution_count": 4
    }
   ],
   "source": [
    "output_filename = f'wand_01_cropped.png'\n",
    "\n",
    "with Image(filename='./wand_01_drawing_640x480.png') as original:\n",
    "    with original.clone() as clone:\n",
    "        clone.crop(\n",
    "            left=0,\n",
    "            top=0,\n",
    "            right=x,\n",
    "            bottom=y)\n",
    "        clone.save(filename=output_filename)\n",
    "\n",
    "IPython.display.Image(filename=output_filename)"
   ]
  }
 ]
}