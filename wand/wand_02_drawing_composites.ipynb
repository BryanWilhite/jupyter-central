{
 "metadata": {
  "language_info": {
   "codemirror_mode": {
    "name": "ipython",
    "version": 3
   },
   "file_extension": ".py",
   "mimetype": "text/x-python",
   "name": "python",
   "nbconvert_exporter": "python",
   "pygments_lexer": "ipython3",
   "version": 3
  },
  "orig_nbformat": 2
 },
 "nbformat": 4,
 "nbformat_minor": 2,
 "cells": [
  {
   "source": [
    "# Wand Binds to ImageMagick\n",
    "\n",
    "[Wand](https://docs.wand-py.org/) is a `ctypes`-based [📖 [docs](https://docs.python.org/3/library/ctypes.html#module-ctypes)] simple [ImageMagick](http://www.imagemagick.org/) binding for Python.\n",
    "\n",
    "## Drawing Composites\n",
    "\n",
    "It may seem counterintuitive to “draw” composite images when one associates _drawing_ with vector-based graphics."
   ],
   "cell_type": "markdown",
   "metadata": {}
  }
 ]
}