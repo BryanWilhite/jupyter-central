{
 "metadata": {
  "language_info": {
   "codemirror_mode": {
    "name": "ipython",
    "version": 3
   },
   "file_extension": ".py",
   "mimetype": "text/x-python",
   "name": "python",
   "nbconvert_exporter": "python",
   "pygments_lexer": "ipython3",
   "version": 3
  },
  "orig_nbformat": 2
 },
 "nbformat": 4,
 "nbformat_minor": 2,
 "cells": [
  {
   "source": [
    "# Wand Binds to ImageMagick\n",
    "\n",
    "[Wand](https://docs.wand-py.org/) is a `ctypes`-based [📖 [docs](https://docs.python.org/3/library/ctypes.html#module-ctypes)] simple [ImageMagick](http://www.imagemagick.org/) binding for Python.\n",
    "\n",
    "## Drawing Composites\n",
    "\n",
    "It may seem counterintuitive to “draw” composite images when one associates _drawing_ with vector-based graphics. Wand interfaces with ImageMagick to [draw composites](https://docs.wand-py.org/en/0.6.3/guide/draw.html?highlight=composite_operators#composite) from bitmaps using one of several `COMPOSITE_OPERATORS` [📖 [docs](https://docs.wand-py.org/en/0.6.3/wand/image.html#wand.image.COMPOSITE_OPERATORS)].\n",
    "\n",
    "We will show this by:\n",
    "\n",
    "1. Saving a photo of a kitten to disk.\n",
    "2. Drawing the text _kitten_ in a new image and saving to disk.\n",
    "3. Composite the two images with a selected composite operator."
   ],
   "cell_type": "markdown",
   "metadata": {}
  }
 ]
}