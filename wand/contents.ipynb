{
 "metadata": {
  "language_info": {
   "codemirror_mode": {
    "name": "ipython",
    "version": 3
   },
   "file_extension": ".py",
   "mimetype": "text/x-python",
   "name": "python",
   "nbconvert_exporter": "python",
   "pygments_lexer": "ipython3",
   "version": "3.7.7-final"
  },
  "orig_nbformat": 2,
  "kernelspec": {
   "name": "python37764bitbaseconda1518913713bf42c7a462a73b43e4a288",
   "display_name": "Python 3.7.7 64-bit ('base': conda)"
  }
 },
 "nbformat": 4,
 "nbformat_minor": 2,
 "cells": [
  {
   "cell_type": "code",
   "execution_count": 1,
   "metadata": {},
   "outputs": [
    {
     "output_type": "stream",
     "name": "stdout",
     "text": [
      "## Debian/Ubuntu Installation (Anaconda)\n\n[[🔗 link](https://github.com/BryanWilhite/jupyter-central/tree/master/wand/wand_00_constructing.ipynb)]\n\n## Cropping an Image\n\n[[🔗 link](https://github.com/BryanWilhite/jupyter-central/tree/master/wand/wand_01_cropping.ipynb)]\n\n## Drawing Text for an Image\n\n[[🔗 link](https://github.com/BryanWilhite/jupyter-central/tree/master/wand/wand_02_drawing_text.ipynb)]\n\n## Drawing Composites\n\n[[🔗 link](https://github.com/BryanWilhite/jupyter-central/tree/master/wand/wand_03_drawing_composites.ipynb)]\n"
     ]
    }
   ],
   "source": [
    "# 📖 see https://github.com/BryanWilhite/guido-van-r-snake/blob/master/socratica/contents.ipynb\n",
    "\n",
    "\n",
    "from os import walk\n",
    "import json\n",
    "import functools\n",
    "\n",
    "file_list = [file_names for (dir_path, dir_names, file_names) in walk('./')][0]\n",
    "\n",
    "ipynb_list = [f for f in file_list if f.startswith('wand') and f.endswith('.ipynb')]\n",
    "\n",
    "ipynb_list.sort()\n",
    "\n",
    "prefix = 'https://github.com/BryanWilhite/jupyter-central/tree/master/wand/'\n",
    "\n",
    "titles = []\n",
    "\n",
    "for file_name in ipynb_list:\n",
    "    with open(f'./{file_name}', 'r', encoding='utf-8') as json_file:\n",
    "        d = json.load(json_file)\n",
    "        l = [s for s in d['cells'][0]['source'] if s.startswith('##')]\n",
    "        titles.append(f'{l[0].strip()}\\n\\n[[🔗 link]({prefix}{file_name})]')\n",
    "\n",
    "print(functools.reduce(lambda a, i: f'{a}\\n\\n{i}', titles))"
   ]
  }
 ]
}