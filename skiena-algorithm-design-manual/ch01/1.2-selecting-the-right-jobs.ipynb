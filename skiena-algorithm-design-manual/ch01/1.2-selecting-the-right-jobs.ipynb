{
 "cells": [
  {
   "cell_type": "markdown",
   "metadata": {},
   "source": [
    "## Selecting the Right Jobs\n",
    "\n",
    "Skiena introduces a highly-in-demand screen actor scheduling problem that has an efficient and correct solution which is meant to contrast with the robot tour optimization problem. Before we are presented this solution, three procedures are proposed. Two are eliminated with counter examples but the third is another exhaustive search, demonstrating, again, correctness without efficiency. However, the exhaustive scheduling solution is slow but not as astronomically slow as the one for the robot tour.\n",
    "\n",
    ">The key limitation is enumerating the _2<sup>n</sup>_ subsets of _n_ things. The good news is that this is much better than enumerating all _n!_ orders of n things, as proposed for the robot tour optimization problem.\n",
    "\n",
    "It may help to recall that _2<sup>n</sup>_ is a form of [geometric progression](https://en.wikipedia.org/wiki/Geometric_progression) likely of a [recursive relation](https://en.wikipedia.org/wiki/Recursive_relation) or some other algebraic sum (see [1.3.4](./1.3.4.md)).\n",
    "\n",
    "The efficient and correct solution is one where the item, _j_, with earliest completion date on the schedule is chosen and any overlapping/intersecting items are deleted. We then return to the set of items, _I_, and repeat this process of selection and deletion while items in _I_ are present:\n",
    "\n",
    "```plaintext\n",
    "OptimalScheduling(I)\n",
    "    While (I != 0) do\n",
    "        Accept the job j from with the earliest completion date.\n",
    "        Delete j, and any interval which intersects j from I.\n",
    "```\n",
    "\n",
    "Watch Skiena lecture on [selecting the right jobs](https://youtu.be/A2bFN3MyNDA?list=PLOtl7M3yp-DX32N0fVIyvn7ipWKNGmwpp&t=3883) at his YouTube channel. Here he states explicitly that computer scientists can prove the correctness of algorithms only by _[induction](https://en.wikipedia.org/wiki/Inductive_reasoning)_ or contradiction. Then he presents the proof for `OptimalScheduling(I)`:\n",
    "\n",
    ">Proof: Other jobs may well have started before the first to complete (say, _x_), but all must at least partially overlap both _x_ and each other.\n",
    ">\n",
    ">Thus we can select at most one from the group.\n",
    ">\n",
    ">The first [of] these jobs to complete is _x_, so selecting any job but _x_ would only block out more opportunities after _x_.\n",
    "\n",
    "Skiena regards this as a proof by contradiction.\n"
   ]
  },
  {
   "cell_type": "markdown",
   "metadata": {},
   "source": [
    "@[BryanWilhite](https://twitter.com/BryanWilhite)\n",
    "\n",
    "<!-- cSpell:disable -->\n",
    "<a href=\"https://www.amazon.com/Algorithm-Design-Manual-Steven-Skiena/dp/1848000693?SubscriptionId=1SW6D7X6ZXXR92KVX0G2&tag=thekintespacec00&linkCode=xm2&camp=2025&creative=165953&creativeASIN=1848000693\" target=\"_blank\"><img alt=\"The Algorithm Design Manual\" src=\"https://images-na.ssl-images-amazon.com/images/I/515GcxK1FFL.jpg\" width=\"256\" /></a>\n",
    "<!-- cSpell:enable -->"
   ]
  }
 ],
 "metadata": {
  "kernelspec": {
   "display_name": "Python 3",
   "language": "python",
   "name": "python3"
  },
  "language_info": {
   "codemirror_mode": {
    "name": "ipython",
    "version": 3
   },
   "file_extension": ".py",
   "mimetype": "text/x-python",
   "name": "python",
   "nbconvert_exporter": "python",
   "pygments_lexer": "ipython3",
   "version": "3.7.10"
  }
 },
 "nbformat": 4,
 "nbformat_minor": 2
}
