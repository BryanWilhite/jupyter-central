{
 "cells": [
  {
   "cell_type": "markdown",
   "source": [
    "### proofs of correctness: evaluating a polynomial\n",
    "\n",
    "Prove the correctness of the following algorithm for evaluating a polynomial.\n",
    "\n",
    "$$P(x)=a_nx^n+a_{n-1}x^{n-1}+...+a_1x+a_0$$\n",
    "\n",
    "_function_ horner($A$,$x$)<br/>\n",
    "&nbsp;&nbsp;$p=A_n$<br/>\n",
    "&nbsp;&nbsp;for $i$ from $n-1$ to $0$<br/>\n",
    "&nbsp;&nbsp;&nbsp;&nbsp;$p=p*x+A_i$<br/>\n",
    "&nbsp;&nbsp;return $p$<br/>\n",
    "\n",
    "Skiena was kind enough to give us the hint that [Horner’s method](https://en.wikipedia.org/wiki/Horner%27s_method) is used for calculating polynomials. In Python, it looks like this:\n",
    "\n",
    "```python\n",
    "def horner(x, *polynomial):\n",
    "    \"\"\"Implement the Horner Scheme for evaluating a\n",
    "    polynomial of coefficients *polynomial in x.\"\"\"\n",
    "    result = 0\n",
    "    for coefficient in reversed(polynomial):\n",
    "        result = result * x + coefficient\n",
    "    return result\n",
    "```\n",
    "\n",
    "where the [asterisk notation](https://medium.com/understand-the-python/understanding-the-asterisk-of-python-8b9daaa4a558) is used for positional parameters. Nevertheless, this is not _exactly_ what Skiena is looking for… we can see that `result = 0` is another hint that the “official” method is starting with $n=0$ for $n$ in\n",
    "\n",
    "$$\\displaystyle\\sum_{i=0}^{n}a_ix^i=a_0+a_1x+...+a_{n-1}x^{n-1}+a_nx^n$$\n",
    "\n",
    "In this excerise we have:\n",
    "\n",
    "$$P(x)=\\displaystyle\\sum_{i=n}^{0}a_ix^i$$\n",
    "\n",
    "For $x=2$ assert a base case of $n=4$ and a step down to $n=3$ for coefficients `[1,4,1,4,1]` and `[1,4,1,4]`, respectively:"
   ],
   "metadata": {}
  },
  {
   "cell_type": "code",
   "execution_count": 65,
   "source": [
    "print(\"P(2)=\", 1*2**4 + 4*2**3 + 1*2**2 + 4*2**1 + 1, \"for n=4\")\n",
    "print(\"P(2)=\", 4*2**3 + 1*2**2 + 4*2**1 + 1, \"for n=3\")\n",
    "print(\"P(2)=\", 1*2**2 + 4*2**1 + 1, \"for n=2\")\n",
    "print(\"P(2)=\", 4*2**1 + 1, \"for n=1\")"
   ],
   "outputs": [
    {
     "output_type": "stream",
     "name": "stdout",
     "text": [
      "P(2)= 61 for n=4\n",
      "P(2)= 45 for n=3\n",
      "P(2)= 13 for n=2\n",
      "P(2)= 9 for n=1\n"
     ]
    }
   ],
   "metadata": {}
  },
  {
   "cell_type": "markdown",
   "source": [
    "The proposed algorithm should produce the same results:"
   ],
   "metadata": {}
  },
  {
   "cell_type": "code",
   "execution_count": 66,
   "source": [
    "coefficients = [1,4,1,4,1]\n",
    "\n",
    "def get_coefficient(i):\n",
    "    return coefficients[i]\n",
    "\n",
    "A = get_coefficient\n",
    "\n",
    "for n in [4,3,2,1,0]:\n",
    "    x = 2\n",
    "    def horner(A,x):\n",
    "        p = A(n)\n",
    "        for i in range(n-1,-1,-1):\n",
    "            p = p*x + A(i)\n",
    "        return p\n",
    "\n",
    "    print(f\"horner(A,{x}) for n={n}:\",horner(A,x))"
   ],
   "outputs": [
    {
     "output_type": "stream",
     "name": "stdout",
     "text": [
      "horner(A,2) for n=4: 61\n",
      "horner(A,2) for n=3: 45\n",
      "horner(A,2) for n=2: 13\n",
      "horner(A,2) for n=1: 9\n",
      "horner(A,2) for n=0: 1\n"
     ]
    }
   ],
   "metadata": {
    "scrolled": true
   }
  },
  {
   "cell_type": "markdown",
   "source": [
    "It may help to notice that `horner(A,x)` is not using _any_ exponents to produce the same results."
   ],
   "metadata": {}
  },
  {
   "cell_type": "markdown",
   "source": [
    "@[BryanWilhite](https://twitter.com/BryanWilhite)\n",
    "\n",
    "<!-- cSpell:disable -->\n",
    "<a href=\"https://www.amazon.com/Algorithm-Design-Manual-Steven-Skiena/dp/1848000693?SubscriptionId=1SW6D7X6ZXXR92KVX0G2&tag=thekintespacec00&linkCode=xm2&camp=2025&creative=165953&creativeASIN=1848000693\" target=\"_blank\"><img alt=\"The Algorithm Design Manual\" src=\"https://images-na.ssl-images-amazon.com/images/I/515GcxK1FFL.jpg\" width=\"256\" /></a>\n",
    "<!-- cSpell:enable -->"
   ],
   "metadata": {}
  }
 ],
 "metadata": {
  "kernelspec": {
   "display_name": "Python 3",
   "language": "python",
   "name": "python3"
  },
  "language_info": {
   "codemirror_mode": {
    "name": "ipython",
    "version": 3
   },
   "file_extension": ".py",
   "mimetype": "text/x-python",
   "name": "python",
   "nbconvert_exporter": "python",
   "pygments_lexer": "ipython3",
   "version": "3.7.0"
  }
 },
 "nbformat": 4,
 "nbformat_minor": 2
}