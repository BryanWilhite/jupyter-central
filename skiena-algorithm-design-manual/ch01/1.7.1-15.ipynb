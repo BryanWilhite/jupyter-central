{
 "cells": [
  {
   "cell_type": "markdown",
   "source": [
    "### induction\n",
    "\n",
    "Prove by induction that for $n\\ge1$,\n",
    "\n",
    "$$\\displaystyle\\sum_{i=1}^{n}\\frac{1}{i(i+1)}=\\frac{n}{n+1}$$\n",
    "\n",
    "The basis case is for $n=1$:"
   ],
   "metadata": {}
  },
  {
   "cell_type": "code",
   "execution_count": 1,
   "source": [
    "def p(n):\n",
    "    if(n<1):\n",
    "        raise Exception('the expected value of `n` is not here')\n",
    "    return n/(n+1)\n",
    "\n",
    "print(\"p(1)=\",p(1))"
   ],
   "outputs": [
    {
     "output_type": "stream",
     "name": "stdout",
     "text": [
      "p(1)= 0.5\n"
     ]
    }
   ],
   "metadata": {
    "scrolled": true
   }
  },
  {
   "cell_type": "markdown",
   "source": [
    "where $p(n)=\\frac{n}{n+1}$ and we see above that $p(1) = 0.5$\n",
    "\n",
    "$$\\sum_{i=1}^{1}\\frac{1}{i(i+1)} = \\frac{1}{1(1+1)} = \\frac{1}{2} = 0.5$$\n",
    "$$\\therefore$$\n",
    "$$p(1) = \\sum_{i=1}^{1}\\frac{1}{i(i+1)}$$\n",
    "\n",
    "The induction step from the basis has $n=k$ and $n=k+1$ such that\n",
    "\n",
    "$$\\frac{1}{1(1+1)}+\\frac{1}{2(2+1)}+...+\\frac{1}{k(k+1)}=\\sum_{i=1}^{k}\\frac{1}{i(i+1)}=\\frac{k}{k+1}$$\n",
    "and\n",
    "$$\\frac{1}{1(1+1)}+\\frac{1}{2(2+1)}+...+\\frac{1}{k(k+1)}+\\frac{1}{(k+1)((k+1)+1)}=\\sum_{i=1}^{k+1}\\frac{1}{i(i+1)}=\\frac{(k+1)}{(k+1)+1}$$\n",
    "$$\\therefore$$\n",
    "$$\\frac{k}{k+1}+\\frac{1}{(k+1)((k+1)+1)}=\\frac{(k+1)}{(k+1)+1}$$\n",
    "\n",
    "$$\\to \\frac{k}{k+1}+\\frac{1}{(k+1)(k+2)}=\\frac{(k+1)}{(k+2)}$$\n",
    "\n",
    "$$\\to \\frac{(k+2)k+1}{(k+1)(k+2)}=\\frac{(k+1)}{(k+2)}$$\n",
    "\n",
    "$$\\to \\frac{k^2+2k+1}{(k+1)(k+2)}=\\frac{(k+1)}{(k+2)}$$\n",
    "\n",
    "according to the [binomial theorem](https://en.wikipedia.org/wiki/Binomial_theorem#Theorem_statement), $k^2+2k+1 = (k+1)^2$:\n",
    "\n",
    "$$\\to \\frac{(k+1)(k+1)}{(k+1)(k+2)}=\\frac{(k+1)}{(k+2)}$$\n",
    "\n",
    "$$\\to \\frac{(k+1)}{(k+2)}=\\frac{(k+1)}{(k+2)}$$"
   ],
   "metadata": {}
  },
  {
   "cell_type": "markdown",
   "source": [
    "@[BryanWilhite](https://twitter.com/BryanWilhite)\n",
    "\n",
    "<!-- cSpell:disable -->\n",
    "<a href=\"https://www.amazon.com/Algorithm-Design-Manual-Steven-Skiena/dp/1848000693?SubscriptionId=1SW6D7X6ZXXR92KVX0G2&tag=thekintespacec00&linkCode=xm2&camp=2025&creative=165953&creativeASIN=1848000693\" target=\"_blank\"><img alt=\"The Algorithm Design Manual\" src=\"https://images-na.ssl-images-amazon.com/images/I/515GcxK1FFL.jpg\" width=\"256\" /></a>\n",
    "<!-- cSpell:enable -->"
   ],
   "metadata": {}
  }
 ],
 "metadata": {
  "kernelspec": {
   "display_name": "Python 3",
   "language": "python",
   "name": "python3"
  },
  "language_info": {
   "codemirror_mode": {
    "name": "ipython",
    "version": 3
   },
   "file_extension": ".py",
   "mimetype": "text/x-python",
   "name": "python",
   "nbconvert_exporter": "python",
   "pygments_lexer": "ipython3",
   "version": "3.7.1"
  }
 },
 "nbformat": 4,
 "nbformat_minor": 2
}