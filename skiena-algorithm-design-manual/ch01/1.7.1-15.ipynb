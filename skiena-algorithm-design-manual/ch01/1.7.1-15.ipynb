{
 "cells": [
  {
   "cell_type": "markdown",
   "metadata": {},
   "source": [
    "### induction\n",
    "\n",
    "Prove by induction that for $n\\ge1$,\n",
    "\n",
    "$$\\displaystyle\\sum_{i=1}^{n}\\frac{1}{i(i+1)}=\\frac{n}{n+1}$$\n",
    "\n",
    "The basis case is for $n=1$:"
   ]
  },
  {
   "cell_type": "code",
   "execution_count": 1,
   "metadata": {
    "scrolled": true
   },
   "outputs": [
    {
     "name": "stdout",
     "output_type": "stream",
     "text": [
      "p(1)= 0.5\n"
     ]
    }
   ],
   "source": [
    "def p(n):\n",
    "    if(n<1):\n",
    "        raise Exception('the expected value of `n` is not here')\n",
    "    return n/(n+1)\n",
    "\n",
    "print(\"p(1)=\",p(1))"
   ]
  },
  {
   "cell_type": "markdown",
   "metadata": {},
   "source": [
    "where $p(n)=\\frac{n}{n+1}$ and we see above that $p(1) = 0.5$\n",
    "\n",
    "$$\\sum_{i=1}^{1}\\frac{1}{i(i+1)} = \\frac{1}{1(1+1)} = \\frac{1}{2} = 0.5$$\n",
    "$$\\therefore$$\n",
    "$$p(1) = \\sum_{i=1}^{1}\\frac{1}{i(i+1)}$$\n",
    "\n",
    "The induction step from the basis has $n=k$ and $n=k+1$ such that\n",
    "\n",
    "$$\\frac{1}{1(1+1)}+\\frac{1}{2(2+1)}+...+\\frac{1}{k(k+1)}=\\sum_{i=1}^{k}\\frac{1}{i(i+1)}=\\frac{k}{k+1}$$\n",
    "and\n",
    "$$\\frac{1}{1(1+1)}+\\frac{1}{2(2+1)}+...+\\frac{1}{k(k+1)}+\\frac{1}{(k+1)((k+1)+1)}=\\sum_{i=1}^{k+1}\\frac{1}{i(i+1)}=\\frac{(k+1)}{(k+1)+1}$$\n",
    "$$\\therefore$$\n",
    "$$\\frac{k}{k+1}+\\frac{1}{(k+1)((k+1)+1)}=\\frac{(k+1)}{(k+1)+1}$$\n",
    "\n",
    "$$\\to \\frac{k}{k+1}+\\frac{1}{(k+1)(k+2)}=\\frac{(k+1)}{(k+2)}$$\n",
    "\n",
    "$$\\to \\frac{(k+2)k+1}{(k+1)(k+2)}=\\frac{(k+1)}{(k+2)}$$\n",
    "\n",
    "$$\\to \\frac{k^2+2k+1}{(k+1)(k+2)}=\\frac{(k+1)}{(k+2)}$$\n",
    "\n",
    "according to the [binomial theorem](https://en.wikipedia.org/wiki/Binomial_theorem#Theorem_statement), $k^2+2k+1 = (k+1)^2$:\n",
    "\n",
    "$$\\to \\frac{(k+1)(k+1)}{(k+1)(k+2)}=\\frac{(k+1)}{(k+2)}$$\n",
    "\n",
    "$$\\to \\frac{(k+1)}{(k+2)}=\\frac{(k+1)}{(k+2)}$$"
   ]
  }
 ],
 "metadata": {
  "kernelspec": {
   "display_name": "Python 3",
   "language": "python",
   "name": "python3"
  },
  "language_info": {
   "codemirror_mode": {
    "name": "ipython",
    "version": 3
   },
   "file_extension": ".py",
   "mimetype": "text/x-python",
   "name": "python",
   "nbconvert_exporter": "python",
   "pygments_lexer": "ipython3",
   "version": "3.7.1"
  }
 },
 "nbformat": 4,
 "nbformat_minor": 2
}
