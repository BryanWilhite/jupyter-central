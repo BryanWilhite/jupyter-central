{
 "cells": [
  {
   "cell_type": "markdown",
   "metadata": {},
   "source": [
    "### proofs of correctness: bubble-sort algorithm\n",
    "\n",
    " Prove the correctness of the following sorting algorithm:\n",
    " \n",
    " _function_ bubblesort($A:list[1...n]$)<br/>\n",
    " &nbsp;&nbsp;$var\\,int\\,i,j$<br/>\n",
    " &nbsp;&nbsp;for $i$ from $n$ to $1$<br/>\n",
    " &nbsp;&nbsp;&nbsp;&nbsp;for $j$ from $i$ to $i-1$<br/>\n",
    " &nbsp;&nbsp;&nbsp;&nbsp;&nbsp;&nbsp;if($A[j]>A[j+1]$)<br/>\n",
    " &nbsp;&nbsp;&nbsp;&nbsp;&nbsp;&nbsp;&nbsp;&nbsp;swap the values of $A[j]$ and $A[j+1]$<br/>\n",
    " \n",
    " In [1.3.4](./1.3.4.md) Skiena walks us through the proof for an [insertion sort](https://en.wikipedia.org/wiki/Insertion_sort) which is [known to be more efficient](https://www.differencebetween.com/difference-between-bubble-sort-and-vs-insertion-sort/) than the bubble sort."
   ]
  }
 ],
 "metadata": {
  "kernelspec": {
   "display_name": "Python 3",
   "language": "python",
   "name": "python3"
  },
  "language_info": {
   "codemirror_mode": {
    "name": "ipython",
    "version": 3
   },
   "file_extension": ".py",
   "mimetype": "text/x-python",
   "name": "python",
   "nbconvert_exporter": "python",
   "pygments_lexer": "ipython3",
   "version": "3.7.0"
  }
 },
 "nbformat": 4,
 "nbformat_minor": 2
}
