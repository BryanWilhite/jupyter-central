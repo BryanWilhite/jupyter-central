{
 "cells": [
  {
   "cell_type": "markdown",
   "source": [
    "### proofs of correctness: bubble-sort algorithm\n",
    "\n",
    " Prove the correctness of the following sorting algorithm:\n",
    " \n",
    " _function_ bubblesort($A:list[1...n]$)<br/>\n",
    " &nbsp;&nbsp;$var\\,int\\,i,j$<br/>\n",
    " &nbsp;&nbsp;for $i$ from $n$ to $1$<br/>\n",
    " &nbsp;&nbsp;&nbsp;&nbsp;for $j$ from $i$ to $i-1$<br/>\n",
    " &nbsp;&nbsp;&nbsp;&nbsp;&nbsp;&nbsp;if($A[j]>A[j+1]$)<br/>\n",
    " &nbsp;&nbsp;&nbsp;&nbsp;&nbsp;&nbsp;&nbsp;&nbsp;swap the values of $A[j]$ and $A[j+1]$<br/>\n",
    " \n",
    " In [1.3.4](./1.3.4.md) Skiena walks us through the proof for an [insertion sort](https://en.wikipedia.org/wiki/Insertion_sort) which, by the way, is [known to be more efficient](https://www.differencebetween.com/difference-between-bubble-sort-and-vs-insertion-sort/) than the bubble sort. We are presented  with a “basis case” for our inductive reasoning:\n",
    "\n",
    ">The basis case consists of a single element, and by definition a one-element array is completely sorted… In general, we can assume that the first $n - 1$ elements of array $A$ are completely sorted after $n - 1$ iterations of insertion sort.\n",
    "\n"
   ],
   "metadata": {}
  },
  {
   "cell_type": "code",
   "execution_count": 3,
   "source": [
    "# Python program for implementation of Bubble Sort\n",
    "# https://www.geeksforgeeks.org/python-program-for-bubble-sort/\n",
    "\n",
    "def bubble_sort(arr):\n",
    "    n = len(arr)\n",
    "    for i in range(n):\n",
    "        for j in range(0, n-i-1):\n",
    "            if arr[j] > arr[j+1] :\n",
    "                arr[j], arr[j+1] = arr[j+1], arr[j]\n",
    "\n",
    "arr = [3]\n",
    "bubble_sort(arr)\n",
    "print(arr)"
   ],
   "outputs": [
    {
     "output_type": "stream",
     "name": "stdout",
     "text": [
      "[3]\n"
     ]
    }
   ],
   "metadata": {}
  },
  {
   "cell_type": "markdown",
   "source": [
    "This output, $[3]$ also shows that the procedure does not run infinitely.\n",
    "\n",
    "Then Skiena asserts that we “insert one last element $x$ to $A$”—so we can run with $A=[3,2]$:"
   ],
   "metadata": {}
  },
  {
   "cell_type": "code",
   "execution_count": 4,
   "source": [
    "arr = [3,2]\n",
    "bubble_sort(arr)\n",
    "print(arr)"
   ],
   "outputs": [
    {
     "output_type": "stream",
     "name": "stdout",
     "text": [
      "[2, 3]\n"
     ]
    }
   ],
   "metadata": {}
  },
  {
   "cell_type": "markdown",
   "source": [
    "[Bryan Wilhite is on LinkedIn](https://www.linkedin.com/in/wilhite)🇺🇸💼\n",
    "\n",
    "<!-- cSpell:disable -->\n",
    "<a href=\"https://www.amazon.com/Algorithm-Design-Manual-Steven-Skiena/dp/1848000693?SubscriptionId=1SW6D7X6ZXXR92KVX0G2&tag=thekintespacec00&linkCode=xm2&camp=2025&creative=165953&creativeASIN=1848000693\" target=\"_blank\"><img alt=\"The Algorithm Design Manual\" src=\"https://images-na.ssl-images-amazon.com/images/I/515GcxK1FFL.jpg\" width=\"256\" /></a>\n",
    "<!-- cSpell:enable -->"
   ],
   "metadata": {}
  }
 ],
 "metadata": {
  "kernelspec": {
   "display_name": "Python 3",
   "language": "python",
   "name": "python3"
  },
  "language_info": {
   "codemirror_mode": {
    "name": "ipython",
    "version": 3
   },
   "file_extension": ".py",
   "mimetype": "text/x-python",
   "name": "python",
   "nbconvert_exporter": "python",
   "pygments_lexer": "ipython3",
   "version": "3.7.0"
  }
 },
 "nbformat": 4,
 "nbformat_minor": 2
}