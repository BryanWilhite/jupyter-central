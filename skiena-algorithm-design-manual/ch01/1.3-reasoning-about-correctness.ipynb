{
 "cells": [
  {
   "cell_type": "markdown",
   "metadata": {},
   "source": [
    "## Reasoning about Correctness\n",
    "\n",
    "Here we are presented with mathematical or formal proofs and how we are _not_ going to concentrate on them. This might have been an opportunity to introduce the relatively exotic subject of _[proof theory](https://en.wikipedia.org/wiki/Proof_theory)_. [Robert Harper](https://en.wikipedia.org/wiki/Robert_Harper_(computer_scientist)) places proof theory in his “holy trinity” of computer science:\n",
    "\n",
    "* proof theory (logic)\n",
    "* type theory (programs)\n",
    "* category theory (algebra)\n",
    "\n",
    "[Watch Robert Harper lecture](https://t.co/5118rTpLJn) about this trinity on YouTube. Only Skiena could tell us (without knowing the rest of book) whether we are going to stay under programs and algebra in Harper’s trinity—but some distance away from proof theory has been explicitly established.\n"
   ]
  },
  {
   "cell_type": "markdown",
   "metadata": {},
   "source": [
    "### Expressing Algorithms\n"
   ]
  },
  {
   "cell_type": "markdown",
   "metadata": {},
   "source": [
    ">Three most common forms of algorithmic notation are (1) English, (2) pseudocode or (3) a real programing language.\n",
    ">\n",
    ">…\n",
    ">\n",
    ">I usually prefer to describe the _ideas_ of an algorithm in English, moving to a more formal, programming-language-like pseudocode or even real code to clarify sufficiently tricky details.\n",
    ">\n",
    ">…\n",
    ">\n",
    ">The heart of any algorithm is an _idea_. If your idea is not clearly revealed when you express an algorithm, then you are using too low-level a notation to describe it."
   ]
  },
  {
   "cell_type": "markdown",
   "metadata": {},
   "source": [
    "### Problems and Properties\n"
   ]
  },
  {
   "cell_type": "markdown",
   "metadata": {},
   "source": [
    "Correctness of an algorithm requires a _problem specification_:\n",
    "\n",
    ">Problem specifications have two parts: (1) the set of allowed input instances, and (2) the required properties of the algorithm’s output.\n",
    "\n",
    "Skiena also uses the term _problem statement_ at the end of this section which can make one assume that _problem specification_ and _problem statement_ are the same thing.\n",
    "\n",
    "The first part of problem specification uses the term “input instances” which can remind one of _problem instances_ mentioned earlier in this chapter. Without this reminder, there might be the temptation to fuse “input instances” with “test cases” which surely is beyond the scope of this discussion. Whatever these instances are, Skiena cautions us to not allow too many of them:\n",
    "\n",
    ">An important and honorable technique in algorithm design is to narrow the set of allowable instances until there _is_ a correct and efficient algorithm. For example, we can restrict a graph problem from general graphs down to trees, or a geometric problem from two dimensions down to one.\n",
    "\n",
    "Skiena encourages us to study problem statements from the “classic algorithm problems”; this is the first call to action to study the _history_ of algorithms.\n",
    "\n",
    ">I encourage you to check out the problem statements for each of the 75 catalog problems in the second part of this book."
   ]
  },
  {
   "cell_type": "markdown",
   "metadata": {},
   "source": [
    "### Demonstrating Incorrectness\n"
   ]
  },
  {
   "cell_type": "markdown",
   "metadata": {},
   "source": [
    "Here is where Skiena introduces the term _counter-example_. “Good counter-examples have two important properties”:\n",
    "\n",
    "* verifiability\n",
    "* simplicity\n",
    "\n",
    "“Hunting for counter-examples is a skill worth developing… Here are some techniques to aid your quest:”\n",
    "\n",
    "* Think small.\n",
    "* Think exhaustively [which is quite possible when thinking small].\n",
    "* Hunt for the weakness.\n",
    "* Go for a tie.\n",
    "* Seek extremes.\n",
    "\n",
    ">Searching for counterexamples is the best way to disprove the correctness of a heuristic.\n",
    "\n",
    "The counter-example _should_ have a relationship with a failing automated test. In other words an automated test can represent an heuristic counter-example."
   ]
  },
  {
   "cell_type": "markdown",
   "metadata": {},
   "source": [
    "### Induction and Recursion\n"
   ]
  },
  {
   "cell_type": "markdown",
   "metadata": {},
   "source": [
    "After several examples leading to this conclusion, we are presented with the direct statement, “_recursion is [mathematical induction](https://en.wikipedia.org/wiki/Mathematical_induction)_.” It follows that [recursion](https://en.wikipedia.org/wiki/Recursion_(computer_science)) is related to algebraic summations because variants of mathematical induction depend on algebraic sums.\n",
    "\n",
    "Watch [an example of mathematical induction](https://www.youtube.com/watch?v=dMn5w4_ztSw) by Learn Math Tutorials on YouTube. This video suggests (indirectly) that because recursion _is_ mathematical induction and mathematical induction can be expressed in some kind of algebraic notation (often [sigma notation](https://en.wikipedia.org/wiki/Summation#Capital-sigma_notation)) then we must be free to assert that recursion can be expressed by the same algebraic notation.\n",
    "\n",
    ">I’ve heard it said that a computer scientist is a mathematician who only knows how to prove things by induction. This is partially true because computer scientists are lousy at proving things, but primarily because so many of the algorithms we study are either recursive or incremental.\n",
    "\n",
    "Skiena then returns to our insertion sort algorithm [[1.0](./1.0.md)] and proves its correctness with mathematical induction. This algorithm is incremental or _iterative_. And there is a notable contrast between recursion and [iteration](https://en.wikipedia.org/wiki/Iteration#Computing). It might be useful to also mention that the ‘safest’ form of iteration is the _enumeration_ of a finite set because termination of the iteration is guaranteed. In the insertion sort algorithm, _s[]_, is that finite set.\n",
    "\n",
    ">Mathematical induction is usually the right way to verify the correctness of a recursive or incremental insertion algorithm.\n",
    "\n",
    "Skiena cautions us that “boundary errors” and “[cavalier] extension claims” (changing the problem instance input) are common types of inductive proof errors."
   ]
  },
  {
   "cell_type": "markdown",
   "metadata": {},
   "source": [
    "### Summations\n"
   ]
  },
  {
   "cell_type": "markdown",
   "metadata": {},
   "source": [
    "This section is refresher course on algebraic summation in general and a reintroduction to [geometric series](https://en.wikipedia.org/wiki/Geometric_series) in particular. It definitely helps to mention that geometric series express summations of _infinite_ sets while finite sets are expressed by [geometric progression](https://en.wikipedia.org/wiki/Geometric_progression), referred to in [1.2](./1.2.md).\n",
    "\n",
    "Skiena punctuates this section with geometric series G(n,a) = Θ(_a<sup>n+1</sup>_) for _a_ > 1 where Θ(_a<sup>n+1</sup>_) = (_a<sup>n+1</sup>_ - 1)/(_a_ - 1). We now see that Θ is the “big Theta notation” or, worse, _[Big O notation](https://en.wikipedia.org/wiki/Big_O_notation)_. This notation may not be necessary to express the correctness of an algorithm via mathematical induction but it is used traditionally to express the time efficiency of an algorithm (covered in Chapter 2).\n",
    "\n",
    "A more formal term for Big O notation is _asymptotic notation_, referencing the [asymptote](https://en.wikipedia.org/wiki/Asymptote) of analytic geometry and reminding us that the sum of an infinite series is the _limit_ of that series (when such a limit exists, the series is _convergent_)."
   ]
  },
  {
   "cell_type": "markdown",
   "metadata": {},
   "source": [
    "@[BryanWilhite](https://twitter.com/BryanWilhite)\n",
    "\n",
    "<!-- cSpell:disable -->\n",
    "<a href=\"https://www.amazon.com/Algorithm-Design-Manual-Steven-Skiena/dp/1848000693?SubscriptionId=1SW6D7X6ZXXR92KVX0G2&tag=thekintespacec00&linkCode=xm2&camp=2025&creative=165953&creativeASIN=1848000693\" target=\"_blank\"><img alt=\"The Algorithm Design Manual\" src=\"https://images-na.ssl-images-amazon.com/images/I/515GcxK1FFL.jpg\" width=\"256\" /></a>\n",
    "<!-- cSpell:enable -->"
   ]
  }
 ],
 "metadata": {
  "kernelspec": {
   "display_name": "Python 3",
   "language": "python",
   "name": "python3"
  },
  "language_info": {
   "codemirror_mode": {
    "name": "ipython",
    "version": 3
   },
   "file_extension": ".py",
   "mimetype": "text/x-python",
   "name": "python",
   "nbconvert_exporter": "python",
   "pygments_lexer": "ipython3",
   "version": "3.7.10"
  }
 },
 "nbformat": 4,
 "nbformat_minor": 2
}
