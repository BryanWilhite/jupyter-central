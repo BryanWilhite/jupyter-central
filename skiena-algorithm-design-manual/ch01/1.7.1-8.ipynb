{
 "cells": [
  {
   "cell_type": "markdown",
   "metadata": {},
   "source": [
    "### proofs of correctness: evaluating a polynomial\n",
    "\n",
    "Prove the correctness of the following algorithm for evaluating a polynomial.\n",
    "\n",
    "$$P(x)=a_nx^n+a_{n-1}x^{n-1}+...+a_1x+a_0$$\n",
    "\n",
    "_function_ horner($A$,$x$)<br/>\n",
    "&nbsp;&nbsp;$p=A_n$<br/>\n",
    "&nbsp;&nbsp;for $i$ from $n-1$ to $0$<br/>\n",
    "&nbsp;&nbsp;&nbsp;&nbsp;$p=p*x+A_i$<br/>\n",
    "&nbsp;&nbsp;return $p$<br/>\n",
    "\n",
    "Skiena was kind enough to give us the hint that [Horner’s method](https://en.wikipedia.org/wiki/Horner%27s_method) is used for calculating polynomials. In Python, it looks like this:\n",
    "\n",
    "```python\n",
    "def horner(x, *polynomial):\n",
    "    \"\"\"Implement the Horner Scheme for evaluating a\n",
    "    polynomial of coefficients *polynomial in x.\"\"\"\n",
    "    result = 0\n",
    "    for coefficient in reversed(polynomial):\n",
    "        result = result * x + coefficient\n",
    "    return result\n",
    "```\n",
    "\n",
    "where the [asterisk notation](https://medium.com/understand-the-python/understanding-the-asterisk-of-python-8b9daaa4a558) is used for positional parameters. Nevertheless, this is not _exactly_ what Skiena is looking for… we can see that `result = 0` is another hint that the “official” method is starting with $n=0$ for $n$ in\n",
    "\n",
    "$$\\displaystyle\\sum_{i=0}^{n}a_ix^i=a_0+a_1x+...+a_{n-1}x^{n-1}+a_nx^n$$"
   ]
  }
 ],
 "metadata": {
  "kernelspec": {
   "display_name": "Python 3",
   "language": "python",
   "name": "python3"
  },
  "language_info": {
   "codemirror_mode": {
    "name": "ipython",
    "version": 3
   },
   "file_extension": ".py",
   "mimetype": "text/x-python",
   "name": "python",
   "nbconvert_exporter": "python",
   "pygments_lexer": "ipython3",
   "version": "3.7.0"
  }
 },
 "nbformat": 4,
 "nbformat_minor": 2
}
