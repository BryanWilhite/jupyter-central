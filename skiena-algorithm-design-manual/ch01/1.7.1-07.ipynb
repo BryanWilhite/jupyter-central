{
 "cells": [
  {
   "cell_type": "markdown",
   "source": [
    "### proofs of correctness: recursive algorithms\n",
    "\n",
    "Prove the correctness of the following recursive algorithm to multiply two natural numbers, for all integer constants $c\\ge2$.\n",
    "\n",
    "_function_ $multiply(y,z)$\n",
    "    _comment_ Return the product $yz$\n",
    "1.  _if z_ = 0 then return(0) _else_\n",
    "2.  return($multiply(cy,[z/c]) + y\\cdot(z\\,mod\\,c)$)"
   ],
   "metadata": {}
  },
  {
   "cell_type": "code",
   "execution_count": 40,
   "source": [
    "from decimal import Decimal\n",
    "\n",
    "#c = 2\n",
    "c = 10**25\n",
    "\n",
    "def write_line(y,z,result):\n",
    "    print(f\"multiply({Decimal(y):.1E},{Decimal(z):.2E}):\",f\"{result:.2E}\")\n",
    "\n",
    "def can_terminate_recursion(z):\n",
    "    #return (z < 1)\n",
    "    return (z == 0)\n",
    "\n",
    "def multiply(y,z):\n",
    "    if(can_terminate_recursion(z)):\n",
    "        result = 0\n",
    "        write_line(y,z,result)\n",
    "        return result\n",
    "    else:\n",
    "        result = multiply(c*y,(z/c)) + y*(z % c)\n",
    "        write_line(y,z,result)\n",
    "        return result\n",
    "\n",
    "y,z=100,1\n",
    "write_line(y,z,multiply(y,z))"
   ],
   "outputs": [
    {
     "output_type": "stream",
     "name": "stdout",
     "text": [
      "multiply(1.0E+327,0.00E+2): 0.00E+00\n",
      "multiply(1.0E+302,1.00E-300): 1.00E+02\n",
      "multiply(1.0E+277,1.00E-275): 2.00E+02\n",
      "multiply(1.0E+252,1.00E-250): 3.00E+02\n",
      "multiply(1.0E+227,1.00E-225): 4.00E+02\n",
      "multiply(1.0E+202,1.00E-200): 5.00E+02\n",
      "multiply(1.0E+177,1.00E-175): 6.00E+02\n",
      "multiply(1.0E+152,1.00E-150): 7.00E+02\n",
      "multiply(1.0E+127,1.00E-125): 8.00E+02\n",
      "multiply(1.0E+102,1.00E-100): 9.00E+02\n",
      "multiply(1.0E+77,1.00E-75): 1.00E+03\n",
      "multiply(1.0E+52,1.00E-50): 1.10E+03\n",
      "multiply(1.0E+27,1.00E-25): 1.20E+03\n",
      "multiply(1.0E+2,1.00E+0): 1.30E+03\n",
      "multiply(1.0E+2,1.00E+0): 1.30E+03\n"
     ]
    }
   ],
   "metadata": {}
  },
  {
   "cell_type": "markdown",
   "source": [
    "Section [1.3.4](./1.3.4.md) shows how to deal with this problem, beginning with the statement “*recursion is [mathematical induction](https://en.wikipedia.org/wiki/Mathematical_induction)*.”\n",
    "\n",
    "The recursion here features a [modulo operation](https://en.wikipedia.org/wiki/Modulo_operation), accumulating by addition. This operation will not help show “correctness” when we assume that we must show the correctness of recursion. The opinion here is that the correctness of recursion means we can prove that a call to `multiply(y,z)` will not run infinitely for $c\\ge2$.\n",
    "\n",
    "The rather brute force example above *induces* `can_terminate_recursion(z)` to return `true` for a rather large $c$. When $c$ is smaller the example will throw a stack overlfow error which can suggest infinite recursive operation. However, when we take a close look at `multiply(c*y,(z/c))`, we see that $z/c$ is the only expression that guarantees `can_terminate_recursion(z)` will return `true`: $z/c$ will approach zero for $c\\ge2$."
   ],
   "metadata": {}
  },
  {
   "cell_type": "markdown",
   "source": [
    "@[BryanWilhite](https://twitter.com/BryanWilhite)\n",
    "\n",
    "<!-- cSpell:disable -->\n",
    "<a href=\"https://www.amazon.com/Algorithm-Design-Manual-Steven-Skiena/dp/1848000693?SubscriptionId=1SW6D7X6ZXXR92KVX0G2&tag=thekintespacec00&linkCode=xm2&camp=2025&creative=165953&creativeASIN=1848000693\" target=\"_blank\"><img alt=\"The Algorithm Design Manual\" src=\"https://images-na.ssl-images-amazon.com/images/I/515GcxK1FFL.jpg\" width=\"256\" /></a>\n",
    "<!-- cSpell:enable -->"
   ],
   "metadata": {}
  }
 ],
 "metadata": {
  "kernelspec": {
   "display_name": "Python 3",
   "language": "python",
   "name": "python3"
  },
  "language_info": {
   "codemirror_mode": {
    "name": "ipython",
    "version": 3
   },
   "file_extension": ".py",
   "mimetype": "text/x-python",
   "name": "python",
   "nbconvert_exporter": "python",
   "pygments_lexer": "ipython3",
   "version": "3.7.0"
  }
 },
 "nbformat": 4,
 "nbformat_minor": 2
}