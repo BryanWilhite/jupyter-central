{
 "cells": [
  {
   "cell_type": "markdown",
   "metadata": {},
   "source": [
    "### induction\n",
    "\n",
    "Prove that $\\sum_{i=1}^{n}i^2=n(n+1)(2n+1)/6$ for $n\\ge0$, by induction.\n",
    "\n",
    "The basis case is for $n=1$:"
   ]
  },
  {
   "cell_type": "code",
   "execution_count": 2,
   "metadata": {},
   "outputs": [
    {
     "name": "stdout",
     "output_type": "stream",
     "text": [
      "p(1)= 1.0\n"
     ]
    }
   ],
   "source": [
    "def p(n):\n",
    "    if(n<1):\n",
    "        raise Exception('the expected lower bound of `n` is not here')\n",
    "    return n*(n+1)*(2*n+1)/6\n",
    "\n",
    "print(\"p(1)=\",p(1))"
   ]
  },
  {
   "cell_type": "markdown",
   "metadata": {},
   "source": [
    "where $p(n)=n(n+1)(2n+1)/6$ and we see above that $p(1) = 1$\n",
    "\n",
    "$\\sum_{i=1}^{1}i^2 = 1$ $\\therefore p(1) = \\sum_{i=1}^{1}i^2$\n",
    "\n",
    "The induction step from the basis has $n=k$ and $n=k+1$ such that\n",
    "\n",
    "$$1+2+3+...+k=\\displaystyle\\sum_{i=1}^{k}i^2=\\frac{k(k+1)(2k+1)}{6}$$\n",
    "and\n",
    "$$1+2+3+...+k+k+1=\\displaystyle\\sum_{i=1}^{k+1}i^2=\\frac{(k+1)((k+1)+1)(2(k+1)+1)}{6}$$\n",
    "\n",
    "$$\\therefore$$\n",
    "\n",
    "$$\\frac{k(k+1)(2k+1)}{6}+k+1=\\frac{(k+1)((k+1)+1)(2(k+1)+1)}{6}$$"
   ]
  }
 ],
 "metadata": {
  "kernelspec": {
   "display_name": "Python 3",
   "language": "python",
   "name": "python3"
  },
  "language_info": {
   "codemirror_mode": {
    "name": "ipython",
    "version": 3
   },
   "file_extension": ".py",
   "mimetype": "text/x-python",
   "name": "python",
   "nbconvert_exporter": "python",
   "pygments_lexer": "ipython3",
   "version": "3.7.1"
  }
 },
 "nbformat": 4,
 "nbformat_minor": 2
}
