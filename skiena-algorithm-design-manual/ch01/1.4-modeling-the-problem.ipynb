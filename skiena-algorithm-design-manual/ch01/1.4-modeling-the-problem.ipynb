{
 "cells": [
  {
   "cell_type": "markdown",
   "source": [
    "## Modeling the Problem\n",
    "\n",
    "The first call to action to study the history of algorithms was in 1.3.2 in order to help us develop a vocabulary for problem statements. This section has the second call to action for respecting historical precedent to avoid reinventing the wheel.\n",
    "\n",
    ">To exploit the algorithms literature, you must learn to describe your problem abstractly, in terms of procedures on fundamental structures.\n",
    "\n",
    "The _procedures_ Skiena highlights are:\n",
    "\n",
    "* combinatorial (see “Combinatorial Objects” below)\n",
    "* recursive (see “Recursive Objects” below)\n",
    "\n",
    "These procedures led to the development of “fundamental structures” or “objects” under the umbrella of _[data structures](https://en.wikipedia.org/wiki/Data_structure)_. (Or, perhaps, this could be other way round: a data structure led to a procedure.) The [list of data structures](https://en.wikipedia.org/wiki/List_of_data_structures) is quite substantial. There is even a [Dictionary of Algorithms and Data Structures](https://xlinux.nist.gov/dads/), serving as a table of contents of sorts for “algorithms literature.” The second half of Skiena’s book has _A Catalog of Algorithmic Problems_, upwards of 300 pages of algorithms! He also has [a web page](http://algorist.com/algorist.html) with “a comprehensive collection of algorithm implementations for seventy-five of the most fundamental problems in combinatorial algorithms.”\n",
    "\n",
    "It has been said that a “good” programmer is not distinguished by rote memorization but rather how well she can look things up. We can see here that we are ultimately talking about researching “algorithms literature,” going well beyond what is usually found on [StackOverflow.com](https://stackoverflow.com/).\n",
    "\n",
    "One way to automate distinguishing among data structures is to have the notion of a _[type](https://en.wikipedia.org/wiki/List_of_data_structures#Data_types)_ which leads to the subject of _type theory_ part of the “holy trinity” of computer science (see “[Reasoning about Correctness](./1.3-reasoning-about-correctness.ipynb)”).\n"
   ],
   "metadata": {}
  },
  {
   "cell_type": "markdown",
   "source": [
    "### Combinatorial Objects\n"
   ],
   "metadata": {}
  },
  {
   "cell_type": "markdown",
   "source": [
    "\n",
    "Every “full stack” developer will _combine_ data by selecting it from some kind of database which often followed by sorting. Sorting is a kind of _permutation_ and selecting generates a _subset_ of data. These combinatorial forms are at the top of Skiena’s list:\n",
    "\n",
    "* permutations (arrangement, tour, ordering, sequence)\n",
    "* subsets (cluster, collection, committee, group, packaging, selection)\n",
    "* trees (hierarchy, dominance relationship, taxonomy)\n",
    "* graphs (network, circuit, web, relationship)\n",
    "* points (sites, positions, data records, locations)\n",
    "* polygons (shapes, regions, configurations, boundaries)\n",
    "* strings (text, characters, patterns, labels)\n",
    "\n",
    ">Modeling your application in terms of well-defined structures and algorithms is the most important single step towards a solution.\n",
    "\n",
    "It must be noted that points and polygons are not listed in the [list of data structures](https://en.wikipedia.org/wiki/List_of_data_structures) referenced in “Modeling the Problem” above. The assumption here is that these structures are confined to [computational geometry](https://en.wikipedia.org/wiki/Computational_geometry).\n",
    "\n",
    "Also, a tree can be thought of as a unidirectional graph, limiting the input instances of relevant algorithms. [This observation](https://en.wikipedia.org/wiki/Tree_(graph_theory)) is the domain of _graph theory_.\n"
   ],
   "metadata": {}
  },
  {
   "cell_type": "markdown",
   "source": [
    "### Recursive Objects\n"
   ],
   "metadata": {}
  },
  {
   "cell_type": "markdown",
   "source": [
    "\n",
    "Skiena argues that the same structures listed under combinatorial procedures apply to recursive ones:\n",
    "\n",
    "* permutations\n",
    "* subsets\n",
    "* trees\n",
    "* graphs\n",
    "* points\n",
    "* polygons\n",
    "* strings\n",
    "\n",
    "This argument can be regarded as an opportunity to think recursively.\n",
    "\n",
    ">Learning to think recursively is learning to look for big things that are made from smaller things of _exactly the same type as the big thing_.\n"
   ],
   "metadata": {}
  },
  {
   "cell_type": "markdown",
   "source": [
    "@[BryanWilhite](https://twitter.com/BryanWilhite)\n",
    "\n",
    "<!-- cSpell:disable -->\n",
    "<a href=\"https://www.amazon.com/Algorithm-Design-Manual-Steven-Skiena/dp/1848000693?SubscriptionId=1SW6D7X6ZXXR92KVX0G2&tag=thekintespacec00&linkCode=xm2&camp=2025&creative=165953&creativeASIN=1848000693\" target=\"_blank\"><img alt=\"The Algorithm Design Manual\" src=\"https://images-na.ssl-images-amazon.com/images/I/515GcxK1FFL.jpg\" width=\"256\" /></a>\n",
    "<!-- cSpell:enable -->"
   ],
   "metadata": {}
  }
 ],
 "metadata": {
  "orig_nbformat": 4,
  "language_info": {
   "name": "c"
  }
 },
 "nbformat": 4,
 "nbformat_minor": 2
}