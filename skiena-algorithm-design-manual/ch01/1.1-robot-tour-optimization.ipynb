{
 "cells": [
  {
   "cell_type": "markdown",
   "metadata": {},
   "source": [
    "## Robot Tour Optimization\n",
    "\n",
    "The robot tour optimization problem is an opportunity to exercise algorithmic thinking though visualization (using the number line or a one-dimensional graph) and introduce the term, _[heuristic](https://en.wikipedia.org/wiki/Heuristic_(computer_science))_.\n",
    "\n",
    "Three possible procedures to solve this problem are introduced. The first two are eliminated by counter examples which demonstrates that _contradiction_ plays a dominant role in algorithmic thinking. The last procedure is correct but it is astronomically slow, demonstrating correctness without efficiency. Skiena then reveals that the Robot Tour Optimization problem is a child of the [Traveling Salesman Problem](https://en.wikipedia.org/wiki/Travelling_salesman_problem).\n",
    "\n",
    ">There is a fundamental difference between _algorithms_, which always produce a correct result, and _heuristics_, which may usually do a good job but without providing any guarantee.\n",
    "\n",
    "Watch Skiena lecture on [robot tour optimization](https://youtu.be/A2bFN3MyNDA?list=PLOtl7M3yp-DX32N0fVIyvn7ipWKNGmwpp&t=2333) at his YouTube channel. In the lecture, he introduces the term _[NP-complete](https://en.wikipedia.org/wiki/NP-completeness)_ to describe correctness without efficiency or no fast solution.\n",
    "\n",
    ">I prefer to describe the ideas of an algorithm in English, moving to pseudocode to clarify sufficiently trick details of the algorithm. —Steven S. Skiena\n"
   ]
  },
  {
   "cell_type": "markdown",
   "metadata": {},
   "source": [
    "@[BryanWilhite](https://twitter.com/BryanWilhite)\n",
    "\n",
    "<!-- cSpell:disable -->\n",
    "<a href=\"https://www.amazon.com/Algorithm-Design-Manual-Steven-Skiena/dp/1848000693?SubscriptionId=1SW6D7X6ZXXR92KVX0G2&tag=thekintespacec00&linkCode=xm2&camp=2025&creative=165953&creativeASIN=1848000693\" target=\"_blank\"><img alt=\"The Algorithm Design Manual\" src=\"https://images-na.ssl-images-amazon.com/images/I/515GcxK1FFL.jpg\" width=\"256\" /></a>\n",
    "<!-- cSpell:enable -->"
   ]
  }
 ],
 "metadata": {
  "kernelspec": {
   "display_name": "C",
   "language": "c",
   "name": "c"
  },
  "language_info": {
   "file_extension": ".c",
   "mimetype": "text/x-csrc",
   "name": "text/x-csrc"
  }
 },
 "nbformat": 4,
 "nbformat_minor": 2
}
