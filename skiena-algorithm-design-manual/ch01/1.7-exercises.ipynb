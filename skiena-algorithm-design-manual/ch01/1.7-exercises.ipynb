{
 "cells": [
  {
   "cell_type": "markdown",
   "source": [
    "## Exercises"
   ],
   "metadata": {}
  },
  {
   "cell_type": "markdown",
   "source": [
    "### finding counter examples\n"
   ],
   "metadata": {}
  },
  {
   "cell_type": "markdown",
   "source": [
    "#### 1. Show that _a_ + _b_ can be less than min(_a_,_b_).\n"
   ],
   "metadata": {}
  },
  {
   "cell_type": "markdown",
   "source": [
    "\n",
    "When _a_ and _b_ are negative numbers we can show this:\n",
    "\n",
    "_a_ = -1\n",
    "\n",
    "_b_ = -2\n",
    "\n",
    "min(-1, -2) = -2\n",
    "\n",
    "(-1) + (-2) = -3\n",
    "\n",
    "&#8756; (_a_ + _b_) &lt; min(_a_,_b_) for _a_ &lt; 0 and _b_ &lt; 0\n"
   ],
   "metadata": {}
  },
  {
   "cell_type": "markdown",
   "source": [
    "#### 2. Show that _a_ × _b_ can be less than min(_a_,_b_).\n"
   ],
   "metadata": {}
  },
  {
   "cell_type": "markdown",
   "source": [
    "\n",
    "When _a_ is a negative number and _b_ is positive we can show this:\n",
    "\n",
    "_a_ = -1\n",
    "\n",
    "_b_ = 2\n",
    "\n",
    "min(-1, 2) = -1\n",
    "\n",
    "(-1) × (2) = -2\n",
    "\n",
    "(_a_ × _b_) &lt; min(_a_,_b_) for _a_ &lt; 0 and _b_ &gt; 0"
   ],
   "metadata": {}
  },
  {
   "cell_type": "markdown",
   "source": [
    "#### 3. Design/draw a road network with two points _a_ and _b_ such that the fastest route between _a_ and _b_ is not the shortest route.\n"
   ],
   "metadata": {}
  },
  {
   "cell_type": "markdown",
   "source": [
    "\n",
    "![drawing](./images/1.7.1-03.png)"
   ],
   "metadata": {}
  },
  {
   "cell_type": "markdown",
   "source": [
    "#### 4. Design/draw a road network with two points _a_ and _b_ such that the shortest route between _a_ and _b_ is not the route with the fewest turns.\n"
   ],
   "metadata": {}
  },
  {
   "cell_type": "markdown",
   "source": [
    "\n",
    "![drawing](./images/1.7.1-03.png)"
   ],
   "metadata": {}
  },
  {
   "cell_type": "markdown",
   "source": [
    "#### 5. The knapsack problem\n"
   ],
   "metadata": {}
  },
  {
   "cell_type": "markdown",
   "source": [
    "\n",
    "The knapsack problem is as follows: given a set of integers _S ≡ {s<sub>1</sub>, s<sub>2</sub>,...,s<sub>n</sub>}_, and a given target number _T_, find a subset of _S_ which adds up exactly to _T_. For example, within _S = {1,2,5,9,10}_ there is a subset which adds up to _T=22_ but not _T=23_.\n",
    "\n",
    "Find counterexamples to each of the following algorithms for the knapsack problem. That is, give an _S_ and _T_ such that the subset selected using the algorithm does not leave the knapsack completely full, even though such a solution exists.\n",
    "\n",
    "**(a)** Put the elements of _S_ in the knapsack in left to right order if they fit, i.e. the fit-first algorithm.\n",
    "\n",
    "**counterexample:** _S = {1,5}_ and _T=5_\n",
    "\n",
    "**(b)** Put the elements of _S_ in the knapsack from smallest to largest, i.e. the best-fit algorithm.\n",
    "\n",
    "**counterexample:** _S = {1,5}_ and _T=5_\n",
    "\n",
    "**(c)** Put the elements of _S_ in the knapsack from largest to smallest.\n",
    "\n",
    "**counterexample:** _S = {4,3,2}_ and _T=5_\n",
    "\n",
    "Watch Skiena lecture on [the knapsack problem](https://youtu.be/Cj73t5DGDWM?list=PLOtl7M3yp-DX32N0fVIyvn7ipWKNGmwpp&t=336) at his YouTube channel. In the lecture, Skiena makes the effort to refer to (a), (b) and (c) above as _heuristics_ instead of algorithms."
   ],
   "metadata": {}
  },
  {
   "cell_type": "markdown",
   "source": [
    "#### 6. The set cover problem\n"
   ],
   "metadata": {}
  },
  {
   "cell_type": "markdown",
   "source": [
    "\n",
    "The _[set cover problem](https://en.wikipedia.org/wiki/Set_cover_problem)_ is as follows: given a set of subsets _S<sub>1</sub>_,...,_S<sub>m</sub>_ of the universal set _U_ = {1,...,_n_}, find the smallest subset of subsets _T_ ⊂ _S_ such that ∪<sub>t<sub>1</sub>∈T</sub>_t_<sub>i</sub> = _U_. For example, there are the following subsets, _S<sub>1</sub>_ = {1,3,5}, _S<sub>2</sub>_ = {2,4}, _S<sub>3</sub>_ = {1,4}, and _S<sub>4</sub>_ = {2,5} The set cover would then be _S<sub>1</sub>_ and _S<sub>2</sub>_.\n",
    "\n",
    "Find a counterexample for the following algorithm: Select the largest subset for the cover, and then delete all its elements from the universal set. Repeat by adding the subset containing the largest number of uncovered elements until all are covered.\n",
    "\n",
    "When _U_ = {1,2,3,4,5} and\n",
    "\n",
    "_S_ = {{1,3,5}, {2,4}, {1,4}, {2,5}}\n",
    "\n",
    "_S<sub>largest</sub>_ = {1,3,5}\n",
    "\n",
    "_U_ - _S<sub>largest</sub>_ = {2,4}\n",
    "\n",
    "_S<sub>largest</sub>_ = {1,3,5} + {2,4} = {1,2,3,4,5}\n",
    "\n",
    "_U_ - _S<sub>largest</sub>_ = {}\n",
    "\n",
    "proposed counterexample:\n",
    "\n",
    "When _U_ = {1,2,3,4,5} and\n",
    "\n",
    "_S_ = {{1,3,5}, {1,2}, {1,4}, {2,5}}\n",
    "\n",
    "_S<sub>largest</sub>_ = {1,3,5}\n",
    "\n",
    "_U_ - _S<sub>largest</sub>_ = {2,4}\n",
    "\n",
    "_S<sub>largest</sub>_ = {1,3,5} + ?\n",
    "\n",
    "There is no _largest_ number of uncovered elements among {1,2}, {1,4}, {2,5} All of these would return _1_.\n",
    "\n",
    "**Assumptions:** the assumption here is that when Skiena uses the word _adding_ he is referring to set _union_ instead of a Minkowski sum [[ref](https://math.stackexchange.com/a/659134)]. Similarly, when the word _delete_ is used, a set _[difference](https://math.stackexchange.com/a/65544)_ operation (exclusion?) is assumed.\n"
   ],
   "metadata": {}
  },
  {
   "cell_type": "markdown",
   "source": [
    "@[BryanWilhite](https://twitter.com/BryanWilhite)\n",
    "\n",
    "<!-- cSpell:disable -->\n",
    "<a href=\"https://www.amazon.com/Algorithm-Design-Manual-Steven-Skiena/dp/1848000693?SubscriptionId=1SW6D7X6ZXXR92KVX0G2&tag=thekintespacec00&linkCode=xm2&camp=2025&creative=165953&creativeASIN=1848000693\" target=\"_blank\"><img alt=\"The Algorithm Design Manual\" src=\"https://images-na.ssl-images-amazon.com/images/I/515GcxK1FFL.jpg\" width=\"256\" /></a>\n",
    "<!-- cSpell:enable -->"
   ],
   "metadata": {}
  }
 ],
 "metadata": {
  "orig_nbformat": 4,
  "language_info": {
   "name": "c"
  }
 },
 "nbformat": 4,
 "nbformat_minor": 2
}