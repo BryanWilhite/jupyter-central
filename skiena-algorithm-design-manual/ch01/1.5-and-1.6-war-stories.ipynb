{
 "cells": [
  {
   "cell_type": "markdown",
   "source": [
    "## About the War Stories\n",
    "\n",
    "When Skiena uses the phrase “war stories” he is referring to personal case studies as an _algorist_.\n",
    "\n",
    ">The _Oxford English Dictionary_ defines an algorist as “one skillful in reckonings or figuring.” In these stories, I have tried to capture some of the mindset of the algorist in action as they attack a problem.\n"
   ],
   "metadata": {}
  },
  {
   "cell_type": "markdown",
   "source": [
    "## War Story: Psychic Modeling\n"
   ],
   "metadata": {}
  },
  {
   "cell_type": "markdown",
   "source": [
    "\n",
    "We are presented with a kind of _[set cover problem](https://en.wikipedia.org/wiki/Set_cover_problem)_ from the alleged needs of lottery “psychics.”\n",
    "\n",
    "* a standard lottery ticket consists of six numbers (selected out of 1 to 44)—this is the universe _U_\n",
    "* the “psychic” can visualize 15 numbers (selected out of 1 to 44)—this is the collection of sets _S_ with 15 sets of length 6\n",
    "* four of the 15 numbers will be on the winning ticket\n",
    "\n",
    ">It was indeed a special instance of set cover, completely specified by four numbers:\n",
    ">\n",
    ">1) the size _n_ of the candidate set _S_ (typically _n_ ≈ 15)\n",
    ">2) the number of slots _k_ for numbers on each ticket (typically _k_ ≈ 6)\n",
    ">3) the number of psychically-promised correct numbers _j_ from _S_ (say _j_ = 4)\n",
    ">4) and finally, the number of matching numbers _l_ necessary to a prize (say _l_ = 3)\n",
    "\n",
    "For _n_ = 5, _j_ = _k_ = 3, and _l_ = 2:\n",
    "\n",
    "_U_ = {1,2,3,4,5}\n",
    "\n",
    "_S_ = {{1,2,3},{1,4,5},{2,4,5},{3,4,5}}\n",
    "\n",
    "The Skiena algorithm for this problem involves _ranking_ a vector (which is a one-dimensional matrix) which should lead one to [ranking a matrix in linear algebra](https://en.wikipedia.org/wiki/Rank_(linear_algebra)). The MathTheBeautiful YouTube channel has [an interesting, three-minute talk](https://www.youtube.com/watch?v=R8a2HCQU7Vo) on this topic."
   ],
   "metadata": {}
  },
  {
   "cell_type": "markdown",
   "source": [
    "@[BryanWilhite](https://twitter.com/BryanWilhite)\n",
    "\n",
    "<!-- cSpell:disable -->\n",
    "<a href=\"https://www.amazon.com/Algorithm-Design-Manual-Steven-Skiena/dp/1848000693?SubscriptionId=1SW6D7X6ZXXR92KVX0G2&tag=thekintespacec00&linkCode=xm2&camp=2025&creative=165953&creativeASIN=1848000693\" target=\"_blank\"><img alt=\"The Algorithm Design Manual\" src=\"https://images-na.ssl-images-amazon.com/images/I/515GcxK1FFL.jpg\" width=\"256\" /></a>\n",
    "<!-- cSpell:enable -->"
   ],
   "metadata": {}
  }
 ],
 "metadata": {
  "orig_nbformat": 4,
  "language_info": {
   "name": "c"
  }
 },
 "nbformat": 4,
 "nbformat_minor": 2
}