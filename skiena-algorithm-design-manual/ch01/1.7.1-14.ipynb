{
 "cells": [
  {
   "cell_type": "markdown",
   "source": [
    "### induction\n",
    "\n",
    "Prove by induction on $n\\ge1$ that for every $a\\ne1$,\n",
    "\n",
    "$$\\displaystyle\\sum_{i=1}^{n}a^i=\\frac{a^{n+1}-1}{a-1}$$\n",
    "\n",
    "The basis case is for $n=1$:"
   ],
   "metadata": {}
  },
  {
   "cell_type": "code",
   "execution_count": 8,
   "source": [
    "def p(a, n):\n",
    "    if(a==1):\n",
    "        raise Exception('the expected value of `a` is not here')\n",
    "    return (a**(n+1)-1)/(a-1)\n",
    "\n",
    "for a in [-8,-7,-6,-5,-4,-3,-2,-1,0,2,3,4,5,6,7,8]:\n",
    "    print(f'p({a},1)=',p(a,1))"
   ],
   "outputs": [
    {
     "output_type": "stream",
     "name": "stdout",
     "text": [
      "p(-8,1)= -7.0\n",
      "p(-7,1)= -6.0\n",
      "p(-6,1)= -5.0\n",
      "p(-5,1)= -4.0\n",
      "p(-4,1)= -3.0\n",
      "p(-3,1)= -2.0\n",
      "p(-2,1)= -1.0\n",
      "p(-1,1)= -0.0\n",
      "p(0,1)= 1.0\n",
      "p(2,1)= 3.0\n",
      "p(3,1)= 4.0\n",
      "p(4,1)= 5.0\n",
      "p(5,1)= 6.0\n",
      "p(6,1)= 7.0\n",
      "p(7,1)= 8.0\n",
      "p(8,1)= 9.0\n"
     ]
    }
   ],
   "metadata": {}
  },
  {
   "cell_type": "markdown",
   "source": [
    "where $p(a,n)=\\frac{a^{n+1}-1}{a-1}$ and we see above that (for $a\\ne1$):\n",
    "\n",
    "* $p(0,1)=1$ and $\\sum_{i=1}^{1}a^i$ does as well\n",
    "* for $a \\lt 0$, $p(a,1)$ approaches $-\\infty$ and $\\sum_{i=1}^{1}a^i$ does as well\n",
    "* for $a \\gt 0$, $p(a,1)$ approaches $\\infty$ and $\\sum_{i=1}^{1}a^i$ does as well\n",
    "\n",
    "These imply that $p(a,1)=\\sum_{i=1}^{1}a^i$.\n",
    "\n",
    "The induction step from the basis has $n=k$ and $n=k+1$ such that\n",
    "\n",
    "$$a^{0}+a^{1}+...+a^{k}=\\sum_{i=1}^{n}a^i=\\frac{a^{k+1}-1}{a-1}$$\n",
    "\n",
    "and\n",
    "\n",
    "$$a^{0}+a^{1}+...+a^{k}+a^{k+1}=\\sum_{i=1}^{n}a^i=\\frac{a^{(k+1)+1}-1}{a-1}$$\n",
    "\n",
    "$$\\therefore$$\n",
    "\n",
    "$$\\frac{a^{k+1}-1}{a-1}+a^{k+1}=\\frac{a^{(k+1)+1}-1}{a-1}$$\n",
    "\n",
    "$$\\to\\frac{a^{k+1}-1+a^{k+1}(a^1-1)}{a-1}=\\frac{a^{k+2}-1}{a-1}$$\n",
    "\n",
    "$$\\to\\frac{a^{k+1}-1+a^{k+2}-a^{k+1}}{a-1}=\\frac{a^{k+2}-1}{a-1}$$\n",
    "\n",
    "$$\\to\\frac{-1+a^{k+2}}{a-1}=\\frac{a^{k+2}-1}{a-1}$$\n"
   ],
   "metadata": {}
  },
  {
   "cell_type": "markdown",
   "source": [
    "[Bryan Wilhite is on LinkedIn](https://www.linkedin.com/in/wilhite)🇺🇸💼\n",
    "\n",
    "<!-- cSpell:disable -->\n",
    "<a href=\"https://www.amazon.com/Algorithm-Design-Manual-Steven-Skiena/dp/1848000693?SubscriptionId=1SW6D7X6ZXXR92KVX0G2&tag=thekintespacec00&linkCode=xm2&camp=2025&creative=165953&creativeASIN=1848000693\" target=\"_blank\"><img alt=\"The Algorithm Design Manual\" src=\"https://images-na.ssl-images-amazon.com/images/I/515GcxK1FFL.jpg\" width=\"256\" /></a>\n",
    "<!-- cSpell:enable -->"
   ],
   "metadata": {}
  }
 ],
 "metadata": {
  "kernelspec": {
   "display_name": "Python 3",
   "language": "python",
   "name": "python3"
  },
  "language_info": {
   "codemirror_mode": {
    "name": "ipython",
    "version": 3
   },
   "file_extension": ".py",
   "mimetype": "text/x-python",
   "name": "python",
   "nbconvert_exporter": "python",
   "pygments_lexer": "ipython3",
   "version": "3.7.0"
  }
 },
 "nbformat": 4,
 "nbformat_minor": 2
}