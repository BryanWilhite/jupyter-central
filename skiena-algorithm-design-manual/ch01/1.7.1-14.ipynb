{
 "cells": [
  {
   "cell_type": "markdown",
   "metadata": {},
   "source": [
    "### induction\n",
    "\n",
    "Prove by induction on $n\\ge1$ that for every $a\\ne1$,\n",
    "\n",
    "$$\\displaystyle\\sum_{i=0}^{n}a^i=\\frac{a^{n+1}-1}{a-1}$$\n",
    "\n",
    "The basis case is for $n=1$:"
   ]
  },
  {
   "cell_type": "code",
   "execution_count": 8,
   "metadata": {},
   "outputs": [
    {
     "name": "stdout",
     "output_type": "stream",
     "text": [
      "p(-8,1)= -7.0\n",
      "p(-7,1)= -6.0\n",
      "p(-6,1)= -5.0\n",
      "p(-5,1)= -4.0\n",
      "p(-4,1)= -3.0\n",
      "p(-3,1)= -2.0\n",
      "p(-2,1)= -1.0\n",
      "p(-1,1)= -0.0\n",
      "p(0,1)= 1.0\n",
      "p(2,1)= 3.0\n",
      "p(3,1)= 4.0\n",
      "p(4,1)= 5.0\n",
      "p(5,1)= 6.0\n",
      "p(6,1)= 7.0\n",
      "p(7,1)= 8.0\n",
      "p(8,1)= 9.0\n"
     ]
    }
   ],
   "source": [
    "def p(a, n):\n",
    "    if(a==1):\n",
    "        raise Exception('the expected value of `a` is not here')\n",
    "    return (a**(n+1)-1)/(a-1)\n",
    "\n",
    "for a in [-8,-7,-6,-5,-4,-3,-2,-1,0,2,3,4,5,6,7,8]:\n",
    "    print(f'p({a},1)=',p(a,1))"
   ]
  },
  {
   "cell_type": "markdown",
   "metadata": {},
   "source": [
    "where $p(a,n)=\\frac{a^{n+1}-1}{a-1}$ and we see above that (for $a\\ne1$):\n",
    "\n",
    "* $p(0,1)=1$\n",
    "* for $a \\lt 0$, $p(a,1)$ approaches $-\\infty$ \n",
    "* for $a \\gt 0$, $p(a,1)$ approaches $\\infty$ \n"
   ]
  }
 ],
 "metadata": {
  "kernelspec": {
   "display_name": "Python 3",
   "language": "python",
   "name": "python3"
  },
  "language_info": {
   "codemirror_mode": {
    "name": "ipython",
    "version": 3
   },
   "file_extension": ".py",
   "mimetype": "text/x-python",
   "name": "python",
   "nbconvert_exporter": "python",
   "pygments_lexer": "ipython3",
   "version": "3.7.0"
  }
 },
 "nbformat": 4,
 "nbformat_minor": 2
}
