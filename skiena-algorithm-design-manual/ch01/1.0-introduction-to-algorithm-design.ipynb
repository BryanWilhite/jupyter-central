{
 "cells": [
  {
   "cell_type": "markdown",
   "source": [
    "# Introduction to Algorithm Design\n",
    "\n",
    "<!-- cSpell:disable -->\n",
    "<a href=\"https://www.amazon.com/Algorithm-Design-Manual-Steven-Skiena/dp/1848000693?SubscriptionId=1SW6D7X6ZXXR92KVX0G2&tag=thekintespacec00&linkCode=xm2&camp=2025&creative=165953&creativeASIN=1848000693\" target=\"_blank\"><img alt=\"The Algorithm Design Manual\" src=\"https://images-na.ssl-images-amazon.com/images/I/515GcxK1FFL.jpg\" style=\"float:right;margin:16px;\" width=\"256\" /></a>\n",
    "<!-- cSpell:enable -->\n",
    "\n",
    "“An algorithm is a procedure to accomplish a specific task.” The usefulness of the algorithm comes from an associated, well-specified _problem_—that is not an _instance_ of the problem. One of the first challenges shown to me as a developer was being able to address a problem that can be reusable instead of “hard-coding” for an _instance_ of this problem. It did not occur to me then in any systematic, historical/educational way that I was touching upon the subject of algorithms. It did not occur to me that the programmer’s “intent” should have any relationship to algorithm design.\n",
    "\n",
    "The first algorithm that Skiena introduces to us is the [insertion sort](https://en.wikipedia.org/wiki/Insertion_sort):\n"
   ],
   "metadata": {}
  },
  {
   "cell_type": "code",
   "execution_count": 13,
   "source": [
    "#include <stdio.h>\n",
    "\n",
    "void swap(int *px, int *py) /* on page 85 of Kernighan & Ritchie */\n",
    "{\n",
    "    int temp;\n",
    "    temp = *px;\n",
    "    *px = *py;\n",
    "    *py = temp;\n",
    "}\n",
    "\n",
    "void printArray(int arr[], int n)\n",
    "{\n",
    "    int i;\n",
    "\n",
    "    for (i = 0; i < n; i++)\n",
    "        printf(\"%d \", arr[i]);\n",
    "\n",
    "    printf(\"\\n\");\n",
    "}\n",
    "\n",
    "void insertion_sort(int s[], int n)\n",
    "{\n",
    "    int i,j;\n",
    "    for (i=1; i<n; i++) {\n",
    "        j=i;\n",
    "        while ((j > 0) && (s[j] < s[j-1])) {\n",
    "            swap(&s[j],&s[j-1]);\n",
    "            j = j-1;\n",
    "        }\n",
    "    }\n",
    "}\n",
    "\n",
    "int main()\n",
    "{\n",
    "    int arr[] = { 12, 11, 13, 5, 6 };\n",
    "    int n = sizeof(arr) / sizeof(arr[0]);\n",
    "\n",
    "    insertion_sort(arr, n);\n",
    "    printArray(arr, n);\n",
    "\n",
    "    return 0;\n",
    "}"
   ],
   "outputs": [
    {
     "output_type": "stream",
     "name": "stdout",
     "text": [
      "5 6 11 12 13 \n"
     ]
    }
   ],
   "metadata": {}
  },
  {
   "cell_type": "markdown",
   "source": [
    "“We seek algorithms that are _correct_ and _efficient_ while being easy to implement.” Our first algorithm above has correctness that can be “readily verified” (as long as comparison operations for `<` are “appropriate”). The issue of efficiency is reserved for Chapter 2.\n",
    "\n",
    ">Correct algorithms usually come with a proof of correctness, which is an explanation of why we know that the algorithm must take every instance of the problem to the desired result.\n",
    "\n",
    "@[BryanWilhite](https://twitter.com/BryanWilhite)\n"
   ],
   "metadata": {}
  }
 ],
 "metadata": {
  "orig_nbformat": 4,
  "language_info": {
   "name": "c",
   "mimetype": "text/x-csrc",
   "file_extension": ".c"
  },
  "kernelspec": {
   "name": "c",
   "display_name": "C",
   "language": "c"
  }
 },
 "nbformat": 4,
 "nbformat_minor": 2
}