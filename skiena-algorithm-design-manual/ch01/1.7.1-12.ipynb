{
 "cells": [
  {
   "cell_type": "markdown",
   "source": [
    "### induction\n",
    "\n",
    "Prove that $\\sum_{i=1}^{n}i^3=n^2(n+1)^2/4$ for $n\\ge0$, by induction.\n",
    "\n",
    "The basis case is for $n=1$:"
   ],
   "metadata": {}
  },
  {
   "cell_type": "code",
   "execution_count": 3,
   "source": [
    "def p(n):\n",
    "    if(n<1):\n",
    "        raise Exception('the expected lower bound of `n` is not here')\n",
    "    return (n**2*(n+1)**2)/4\n",
    "\n",
    "print(\"p(1)=\",p(1))"
   ],
   "outputs": [
    {
     "output_type": "stream",
     "name": "stdout",
     "text": [
      "p(1)= 1.0\n"
     ]
    }
   ],
   "metadata": {}
  },
  {
   "cell_type": "markdown",
   "source": [
    "where $p(n)=n^2(n+1)^2/4$ and we see above that $p(1) = 1$\n",
    "\n",
    "$\\sum_{i=1}^{1}i^3 = 1$ $\\therefore p(1) = \\sum_{i=1}^{1}i^3$\n",
    "\n",
    "The induction step from the basis has $n=k$ and $n=k+1$ such that\n",
    "\n",
    "$$1^3+2^3+3^3+...+k^3=\\displaystyle\\sum_{i=1}^{k}i^3=\\frac{k^2(k+1)^2}{4}$$\n",
    "and\n",
    "$$1^3+2^3+3^3+...+k^3+(k+1)^3=\\displaystyle\\sum_{i=1}^{k+1}i^3=\\frac{(k+1)^2((k+1)+1)^2}{4}$$\n",
    "\n",
    "$$\\therefore$$\n",
    "\n",
    "$$\\frac{k^2(k+1)^2}{4}+(k+1)^3=\\frac{(k+1)^2((k+1)+1)^2}{4}$$\n",
    "\n",
    "$$\\to \\frac{k^2(k+1)^2+4(k+1)^3}{4}=\\frac{(k+1)^2(k+2)^2}{4}$$\n",
    "\n",
    "$$\\to k^2+4(k+1)=(k+2)^2$$\n",
    "\n",
    "$$\\to k^2+4k+4=k^2+2k+2k+4$$"
   ],
   "metadata": {}
  },
  {
   "cell_type": "markdown",
   "source": [
    "@[BryanWilhite](https://twitter.com/BryanWilhite)\n",
    "\n",
    "<!-- cSpell:disable -->\n",
    "<a href=\"https://www.amazon.com/Algorithm-Design-Manual-Steven-Skiena/dp/1848000693?SubscriptionId=1SW6D7X6ZXXR92KVX0G2&tag=thekintespacec00&linkCode=xm2&camp=2025&creative=165953&creativeASIN=1848000693\" target=\"_blank\"><img alt=\"The Algorithm Design Manual\" src=\"https://images-na.ssl-images-amazon.com/images/I/515GcxK1FFL.jpg\" width=\"256\" /></a>\n",
    "<!-- cSpell:enable -->"
   ],
   "metadata": {}
  }
 ],
 "metadata": {
  "kernelspec": {
   "display_name": "Python 3",
   "language": "python",
   "name": "python3"
  },
  "language_info": {
   "codemirror_mode": {
    "name": "ipython",
    "version": 3
   },
   "file_extension": ".py",
   "mimetype": "text/x-python",
   "name": "python",
   "nbconvert_exporter": "python",
   "pygments_lexer": "ipython3",
   "version": "3.7.0"
  }
 },
 "nbformat": 4,
 "nbformat_minor": 2
}