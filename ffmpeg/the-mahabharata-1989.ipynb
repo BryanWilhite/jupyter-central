{
 "cells": [
  {
   "cell_type": "markdown",
   "source": [
    "# The Mahabharata (1989)\r\n",
    "\r\n",
    "I am transferring from the Channel Four Television Co. DVD release, distributed by [image entertainment](https://en.wikipedia.org/wiki/RLJE_Films):\r\n",
    "\r\n",
    "- there is one title split across two discs\r\n",
    "- there is one audio track\r\n",
    "\r\n",
    "It is a five hour, twenty-five minute feature with a bonus documentary, _Making the Mahabharata_, tacked on at the end.\r\n",
    "\r\n",
    "The [Wikipedia article](https://en.wikipedia.org/wiki/The_Mahabharata_(1989_film)) introduces the archival confusion around this title:\r\n",
    "\r\n",
    ">In 1989, it was reduced to under 6 hours for television (TV mini series). Later it was also reduced to about 3 hours for theatrical and DVD release.\r\n",
    "\r\n",
    "The Channel Four Television Co. DVD release is _not_ “about 3 hours” and, to make matters here in the 21<sup>st</sup> century worse, [IMDB recognizes](https://www.imdb.com/title/tt0097810/episodes/?ref_=tt_ov_epl) the Channel Four Television Co. DVD release as a three-episode television program.\r\n"
   ],
   "metadata": {}
  },
  {
   "cell_type": "code",
   "execution_count": null,
   "source": [
    "$settings = Get-Content -Path meta.json | ConvertFrom-Json"
   ],
   "outputs": [],
   "metadata": {
    "dotnet_interactive": {
     "language": "pwsh"
    }
   }
  },
  {
   "cell_type": "markdown",
   "source": [
    "## source material\r\n",
    "\r\n",
    "These are the files from the transfer:"
   ],
   "metadata": {}
  },
  {
   "cell_type": "code",
   "execution_count": null,
   "source": [
    "Get-ChildItem -Filter \"title_*\" -Name -Path $settings.rootDirectory"
   ],
   "outputs": [
    {
     "data": {
      "text/plain": [
       "title_t00.mkv\r\n"
      ]
     },
     "metadata": {},
     "output_type": "display_data"
    },
    {
     "data": {
      "text/plain": [
       "title_t01.mkv\r\n"
      ]
     },
     "metadata": {},
     "output_type": "display_data"
    }
   ],
   "metadata": {
    "dotnet_interactive": {
     "language": "pwsh"
    }
   }
  },
  {
   "cell_type": "markdown",
   "source": [
    "## `ffmpeg` goals\r\n",
    "\r\n",
    "`ffmpeg` is needed to:\r\n",
    "\r\n",
    "- [ ] split `title_t01.mkv` into the finale and _Making the Mahabharata_\r\n",
    "- [ ] join `title_t00.mkv` to the finale\r\n"
   ],
   "metadata": {}
  },
  {
   "cell_type": "markdown",
   "source": [
    "@[BryanWilhite](https://twitter.com/BryanWilhite)\r\n"
   ],
   "metadata": {}
  }
 ],
 "metadata": {
  "orig_nbformat": 4,
  "language_info": {
   "file_extension": ".cs",
   "mimetype": "text/x-csharp",
   "name": "C#",
   "pygments_lexer": "csharp",
   "version": "9.0"
  },
  "kernelspec": {
   "display_name": ".NET (C#)",
   "language": "C#",
   "name": ".net-csharp"
  }
 },
 "nbformat": 4,
 "nbformat_minor": 2
}