{
 "cells": [
  {
   "cell_type": "markdown",
   "source": [
    "# The Mahabharata (1989)\r\n",
    "\r\n",
    "I am transferring from the Channel Four Television Co. DVD release (1989), distributed by [image entertainment](https://en.wikipedia.org/wiki/RLJE_Films) and [RM Associates](https://www.imdb.com/search/title/?companies=co0103655). It is a five hour, twenty-five minute, three episode feature with a bonus documentary, _Making the Mahabharata_:\r\n",
    "\r\n",
    "- there is one title on disc 1, episodes 1 and 2\r\n",
    "- there are two titles on disc 2, episode 3 and _Making the Mahabharata_\r\n",
    "- there is only one, English-language audio track for all titles\r\n",
    "\r\n",
    "The [Wikipedia article](https://en.wikipedia.org/wiki/The_Mahabharata_1989_film) introduces the archival confusion around this title:\r\n",
    "\r\n",
    ">In 1989, it was reduced to under 6 hours for television (TV mini series). Later it was also reduced to about 3 hours for theatrical and DVD release.\r\n",
    "\r\n",
    "The Channel Four Television Co. DVD release is _not_ “about 3 hours” and [IMDB recognizes](https://www.imdb.com/title/tt0097810/episodes/?ref_=tt_ov_epl) the Channel Four Television Co. DVD release as a three-episode television program that aired in 1990.\r\n"
   ],
   "metadata": {}
  },
  {
   "cell_type": "code",
   "execution_count": null,
   "source": [
    "$settings = Get-Content -Path meta.json | ConvertFrom-Json"
   ],
   "outputs": [],
   "metadata": {
    "dotnet_interactive": {
     "language": "pwsh"
    }
   }
  },
  {
   "cell_type": "markdown",
   "source": [
    "## source material\r\n",
    "\r\n",
    "These are the files from the transfer:"
   ],
   "metadata": {}
  },
  {
   "cell_type": "code",
   "execution_count": null,
   "source": [
    "Get-ChildItem -Filter \"disc_*\" -Name -Path $settings.rootDirectory"
   ],
   "outputs": [
    {
     "data": {
      "text/plain": [
       "disc_1_title_t00.mkv\r\n"
      ]
     },
     "metadata": {},
     "output_type": "display_data"
    },
    {
     "data": {
      "text/plain": [
       "disc_2_title_t00.mkv\r\n"
      ]
     },
     "metadata": {},
     "output_type": "display_data"
    },
    {
     "data": {
      "text/plain": [
       "disc_2_title_t01.mkv\r\n"
      ]
     },
     "metadata": {},
     "output_type": "display_data"
    }
   ],
   "metadata": {
    "dotnet_interactive": {
     "language": "pwsh"
    }
   }
  },
  {
   "cell_type": "markdown",
   "source": [
    "## `ffmpeg` goals\r\n",
    "\r\n",
    "`ffmpeg` is needed to split `disc_1_title_t00.mkv` into `S1E01` and `S1E02` at `01:38:34`\r\n"
   ],
   "metadata": {}
  },
  {
   "cell_type": "markdown",
   "source": [
    "@[BryanWilhite](https://twitter.com/BryanWilhite)\r\n"
   ],
   "metadata": {}
  }
 ],
 "metadata": {
  "orig_nbformat": 4,
  "language_info": {
   "file_extension": ".cs",
   "mimetype": "text/x-csharp",
   "name": "C#",
   "pygments_lexer": "csharp",
   "version": "9.0"
  },
  "kernelspec": {
   "display_name": ".NET (C#)",
   "language": "C#",
   "name": ".net-csharp"
  }
 },
 "nbformat": 4,
 "nbformat_minor": 2
}