{
 "cells": [
  {
   "cell_type": "markdown",
   "metadata": {},
   "source": [
    "# The Mahabharata (1989)\n",
    "\n",
    "I am transferring from the [Channel Four Television Co.](https://en.wikipedia.org/wiki/Channel_Four_Television_Corporation) DVD release (1989), distributed by [image entertainment](https://en.wikipedia.org/wiki/RLJE_Films) and [RM Associates](https://www.imdb.com/search/title/?companies=co0103655). It is a five hour, twenty-five minute, three episode feature with a bonus documentary, _Making the Mahabharata_:\n",
    "\n",
    "- there is one title on disc 1, episodes 1 and 2\n",
    "- there are two titles on disc 2, episode 3 and _Making the Mahabharata_\n",
    "- there is only one, English-language audio track for all titles\n",
    "\n",
    "The [Wikipedia article](https://en.wikipedia.org/wiki/The_Mahabharata_1989_film) introduces the archival confusion around this title:\n",
    "\n",
    ">In 1989, it was reduced to under 6 hours for television (TV mini series). Later it was also reduced to about 3 hours for theatrical and DVD release.\n",
    "\n",
    "The Channel Four Television Co. DVD release is _not_ “about 3 hours” and [IMDB recognizes](https://www.imdb.com/title/tt0097810/episodes/?ref_=tt_ov_epl) this release as a three-episode television program that aired in 1990.\n"
   ]
  },
  {
   "cell_type": "code",
   "execution_count": null,
   "metadata": {
    "dotnet_interactive": {
     "language": "pwsh"
    }
   },
   "outputs": [],
   "source": [
    "$settings = Get-Content -Path meta.json | ConvertFrom-Json"
   ]
  },
  {
   "cell_type": "markdown",
   "metadata": {},
   "source": [
    "## source material\n",
    "\n",
    "These are the files from the transfer:"
   ]
  },
  {
   "cell_type": "code",
   "execution_count": null,
   "metadata": {
    "dotnet_interactive": {
     "language": "pwsh"
    }
   },
   "outputs": [
    {
     "name": "stdout",
     "output_type": "stream",
     "text": [
      "disc_1_title_t00.mkv\r\n",
      "disc_2_title_t00.mkv\r\n",
      "disc_2_title_t01.mkv\r\n"
     ]
    }
   ],
   "source": [
    "Get-ChildItem -Filter \"disc_*\" -Name -Path $settings.rootDirectory"
   ]
  },
  {
   "cell_type": "markdown",
   "metadata": {},
   "source": [
    "## `ffmpeg` goals\n",
    "\n",
    "`ffmpeg` is needed to “split” `disc_1_title_t00.mkv` into `S1E01` and `S1E02` at `01:38:37` by making two copies based on this timecode.\n",
    "\n",
    "The statements below will generate a PowerShell script to meet this goal:\n"
   ]
  },
  {
   "cell_type": "code",
   "execution_count": null,
   "metadata": {
    "dotnet_interactive": {
     "language": "pwsh"
    }
   },
   "outputs": [],
   "source": [
    "$timecode = \"01:38:37\"\n",
    "\n",
    "@\"\n",
    "ffmpeg ``\n",
    "    -y ``\n",
    "    -i \"$($settings.rootDirectory)\\disc_1_title_t00.mkv\" ``\n",
    "    -c copy ``\n",
    "    -to \"$timecode\" ``\n",
    "    \"$($settings.rootDirectory)\\disc_1_title_t00a.mkv\" ``\n",
    "    -avoid_negative_ts 1 ``\n",
    "    2> ./the-mahabharata-1989-disc_1_title_t00a.log\n",
    "\n",
    "ffmpeg ``\n",
    "    -y ``\n",
    "    -ss \"$timecode\" ``\n",
    "    -i \"$($settings.rootDirectory)\\disc_1_title_t00.mkv\" ``\n",
    "    -c copy ``\n",
    "    \"$($settings.rootDirectory)\\disc_1_title_t00b.mkv\" ``\n",
    "    -avoid_negative_ts 1 ``\n",
    "    2> ./the-mahabharata-1989-disc_1_title_t00b.log\n",
    "\"@ | Set-Content -Force ./the-mahabharata-1989-script.ps1"
   ]
  },
  {
   "cell_type": "markdown",
   "metadata": {},
   "source": [
    "Here is the final state of the transfer:\n"
   ]
  },
  {
   "cell_type": "code",
   "execution_count": null,
   "metadata": {
    "dotnet_interactive": {
     "language": "pwsh"
    }
   },
   "outputs": [
    {
     "name": "stdout",
     "output_type": "stream",
     "text": [
      "disc_1_title_t00.mkv\r\n",
      "disc_1_title_t00a.mkv\r\n",
      "disc_1_title_t00b.mkv\r\n",
      "disc_2_title_t00.mkv\r\n",
      "disc_2_title_t01.mkv\r\n"
     ]
    }
   ],
   "source": [
    "Get-ChildItem -Filter \"disc_*\" -Name -Path $settings.rootDirectory"
   ]
  },
  {
   "cell_type": "markdown",
   "metadata": {},
   "source": [
    "[Bryan Wilhite is on LinkedIn](https://www.linkedin.com/in/wilhite)🇺🇸💼\n"
   ]
  }
 ],
 "metadata": {
  "kernelspec": {
   "display_name": ".NET (C#)",
   "language": "C#",
   "name": ".net-csharp"
  },
  "language_info": {
   "file_extension": ".cs",
   "mimetype": "text/x-csharp",
   "name": "C#",
   "pygments_lexer": "csharp",
   "version": "10.0"
  }
 },
 "nbformat": 4,
 "nbformat_minor": 2
}
