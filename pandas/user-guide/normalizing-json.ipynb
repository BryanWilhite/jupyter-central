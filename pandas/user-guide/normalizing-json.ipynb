{
 "cells": [
  {
   "cell_type": "markdown",
   "metadata": {},
   "source": [
    "# pandas user guide: JSON\n",
    "\n",
    "<https://pandas.pydata.org/pandas-docs/stable/user_guide/io.html#json>"
   ]
  },
  {
   "cell_type": "code",
   "execution_count": 1,
   "metadata": {},
   "outputs": [],
   "source": [
    "import pandas as pd"
   ]
  },
  {
   "cell_type": "markdown",
   "metadata": {},
   "source": [
    "## normalization\n",
    "\n",
    ">pandas provides a utility function to take a dict or list of dicts and normalize this semi-structured data into a flat table."
   ]
  },
  {
   "cell_type": "code",
   "execution_count": 12,
   "metadata": {},
   "outputs": [
    {
     "data": {
      "text/html": [
       "<style type=\"text/css\">\n",
       "</style>\n",
       "<table id=\"T_e3457_\">\n",
       "  <thead>\n",
       "    <tr>\n",
       "      <th class=\"col_heading level0 col0\" >entry1.column1</th>\n",
       "      <th class=\"col_heading level0 col1\" >entry1.column2</th>\n",
       "      <th class=\"col_heading level0 col2\" >entry1.column3</th>\n",
       "      <th class=\"col_heading level0 col3\" >entry2.column1</th>\n",
       "      <th class=\"col_heading level0 col4\" >entry2.column2</th>\n",
       "      <th class=\"col_heading level0 col5\" >entry2.column3</th>\n",
       "      <th class=\"col_heading level0 col6\" >entry3.column1</th>\n",
       "      <th class=\"col_heading level0 col7\" >entry3.column2</th>\n",
       "      <th class=\"col_heading level0 col8\" >entry3.column3</th>\n",
       "    </tr>\n",
       "  </thead>\n",
       "  <tbody>\n",
       "    <tr>\n",
       "      <td id=\"T_e3457_row0_col0\" class=\"data row0 col0\" >True</td>\n",
       "      <td id=\"T_e3457_row0_col1\" class=\"data row0 col1\" >value one</td>\n",
       "      <td id=\"T_e3457_row0_col2\" class=\"data row0 col2\" >49</td>\n",
       "      <td id=\"T_e3457_row0_col3\" class=\"data row0 col3\" >True</td>\n",
       "      <td id=\"T_e3457_row0_col4\" class=\"data row0 col4\" >value two</td>\n",
       "      <td id=\"T_e3457_row0_col5\" class=\"data row0 col5\" >50</td>\n",
       "      <td id=\"T_e3457_row0_col6\" class=\"data row0 col6\" >True</td>\n",
       "      <td id=\"T_e3457_row0_col7\" class=\"data row0 col7\" >value three</td>\n",
       "      <td id=\"T_e3457_row0_col8\" class=\"data row0 col8\" >51</td>\n",
       "    </tr>\n",
       "  </tbody>\n",
       "</table>\n"
      ],
      "text/plain": [
       "<pandas.io.formats.style.Styler at 0x7f0adee57050>"
      ]
     },
     "execution_count": 12,
     "metadata": {},
     "output_type": "execute_result"
    }
   ],
   "source": [
    "import json\n",
    "\n",
    "index_json = \"\"\"\n",
    "{\n",
    "    \"entry1\": {\n",
    "        \"column1\": true,\n",
    "        \"column2\": \"value one\",\n",
    "        \"column3\": 49\n",
    "    },\n",
    "    \"entry2\": {\n",
    "        \"column1\": true,\n",
    "        \"column2\": \"value two\",\n",
    "        \"column3\": 50\n",
    "    },\n",
    "    \"entry3\": {\n",
    "        \"column1\": true,\n",
    "        \"column2\": \"value three\",\n",
    "        \"column3\": 51\n",
    "    }\n",
    "}\n",
    "\"\"\"\n",
    "\n",
    "dictionary = json.loads(index_json)\n",
    "\n",
    "pd.json_normalize(dictionary).style.hide_index()"
   ]
  },
  {
   "cell_type": "code",
   "execution_count": 16,
   "metadata": {},
   "outputs": [
    {
     "data": {
      "text/html": [
       "<style type=\"text/css\">\n",
       "</style>\n",
       "<table id=\"T_85935_\">\n",
       "  <thead>\n",
       "    <tr>\n",
       "      <th class=\"col_heading level0 col0\" >entry1.column1</th>\n",
       "      <th class=\"col_heading level0 col1\" >entry1.column2</th>\n",
       "      <th class=\"col_heading level0 col2\" >entry1.column3</th>\n",
       "      <th class=\"col_heading level0 col3\" >entry2.column1</th>\n",
       "      <th class=\"col_heading level0 col4\" >entry2.column2</th>\n",
       "      <th class=\"col_heading level0 col5\" >entry2.column3</th>\n",
       "      <th class=\"col_heading level0 col6\" >entry3.column1</th>\n",
       "      <th class=\"col_heading level0 col7\" >entry3.column2</th>\n",
       "      <th class=\"col_heading level0 col8\" >entry3.column3</th>\n",
       "    </tr>\n",
       "  </thead>\n",
       "  <tbody>\n",
       "    <tr>\n",
       "      <td id=\"T_85935_row0_col0\" class=\"data row0 col0\" >True</td>\n",
       "      <td id=\"T_85935_row0_col1\" class=\"data row0 col1\" >value one</td>\n",
       "      <td id=\"T_85935_row0_col2\" class=\"data row0 col2\" >49</td>\n",
       "      <td id=\"T_85935_row0_col3\" class=\"data row0 col3\" >True</td>\n",
       "      <td id=\"T_85935_row0_col4\" class=\"data row0 col4\" >value two</td>\n",
       "      <td id=\"T_85935_row0_col5\" class=\"data row0 col5\" >50</td>\n",
       "      <td id=\"T_85935_row0_col6\" class=\"data row0 col6\" >True</td>\n",
       "      <td id=\"T_85935_row0_col7\" class=\"data row0 col7\" >value three</td>\n",
       "      <td id=\"T_85935_row0_col8\" class=\"data row0 col8\" >51</td>\n",
       "    </tr>\n",
       "    <tr>\n",
       "      <td id=\"T_85935_row1_col0\" class=\"data row1 col0\" >True</td>\n",
       "      <td id=\"T_85935_row1_col1\" class=\"data row1 col1\" >value four</td>\n",
       "      <td id=\"T_85935_row1_col2\" class=\"data row1 col2\" >52</td>\n",
       "      <td id=\"T_85935_row1_col3\" class=\"data row1 col3\" >True</td>\n",
       "      <td id=\"T_85935_row1_col4\" class=\"data row1 col4\" >value five</td>\n",
       "      <td id=\"T_85935_row1_col5\" class=\"data row1 col5\" >53</td>\n",
       "      <td id=\"T_85935_row1_col6\" class=\"data row1 col6\" >False</td>\n",
       "      <td id=\"T_85935_row1_col7\" class=\"data row1 col7\" >value six</td>\n",
       "      <td id=\"T_85935_row1_col8\" class=\"data row1 col8\" >54</td>\n",
       "    </tr>\n",
       "  </tbody>\n",
       "</table>\n"
      ],
      "text/plain": [
       "<pandas.io.formats.style.Styler at 0x7f0adee68310>"
      ]
     },
     "execution_count": 16,
     "metadata": {},
     "output_type": "execute_result"
    }
   ],
   "source": [
    "index_json = \"\"\"\n",
    "[\n",
    "    {\n",
    "        \"entry1\": {\n",
    "            \"column1\": true,\n",
    "            \"column2\": \"value one\",\n",
    "            \"column3\": 49\n",
    "        },\n",
    "        \"entry2\": {\n",
    "            \"column1\": true,\n",
    "            \"column2\": \"value two\",\n",
    "            \"column3\": 50\n",
    "        },\n",
    "        \"entry3\": {\n",
    "            \"column1\": true,\n",
    "            \"column2\": \"value three\",\n",
    "            \"column3\": 51\n",
    "        }\n",
    "    },\n",
    "    {\n",
    "        \"entry1\": {\n",
    "            \"column1\": true,\n",
    "            \"column2\": \"value four\",\n",
    "            \"column3\": 52\n",
    "        },\n",
    "        \"entry2\": {\n",
    "            \"column1\": true,\n",
    "            \"column2\": \"value five\",\n",
    "            \"column3\": 53\n",
    "        },\n",
    "        \"entry3\": {\n",
    "            \"column1\": false,\n",
    "            \"column2\": \"value six\",\n",
    "            \"column3\": 54\n",
    "        }\n",
    "    }\n",
    "]\n",
    "\"\"\"\n",
    "\n",
    "dictionaries = json.loads(index_json)\n",
    "\n",
    "pd.json_normalize(dictionaries).style.hide_index()"
   ]
  }
 ],
 "metadata": {
  "interpreter": {
   "hash": "2248ed64bdf5fe1d2cc35d4639eff9d9517212412e82087913ac56aa4ab59c78"
  },
  "kernelspec": {
   "display_name": "Python 3.7.10 ('base')",
   "language": "python",
   "name": "python3"
  },
  "language_info": {
   "codemirror_mode": {
    "name": "ipython",
    "version": 3
   },
   "file_extension": ".py",
   "mimetype": "text/x-python",
   "name": "python",
   "nbconvert_exporter": "python",
   "pygments_lexer": "ipython3",
   "version": "3.7.13"
  },
  "orig_nbformat": 4
 },
 "nbformat": 4,
 "nbformat_minor": 2
}
