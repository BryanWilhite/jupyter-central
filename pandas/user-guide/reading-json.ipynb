{
 "cells": [
  {
   "cell_type": "markdown",
   "metadata": {},
   "source": [
    "# pandas user guide: JSON\n",
    "\n",
    "<https://pandas.pydata.org/pandas-docs/stable/user_guide/io.html#json>"
   ]
  },
  {
   "cell_type": "code",
   "execution_count": 1,
   "metadata": {},
   "outputs": [],
   "source": [
    "import pandas as pd"
   ]
  },
  {
   "cell_type": "markdown",
   "metadata": {},
   "source": [
    "## reading JSON\n",
    "\n",
    ">Reading a JSON string to pandas object can take a number of parameters. The parser will try to parse a `DataFrame` if `typ` is not supplied or is `None`. To explicitly force Series parsing, pass `typ=series`"
   ]
  },
  {
   "cell_type": "code",
   "execution_count": 5,
   "metadata": {},
   "outputs": [
    {
     "data": {
      "text/html": [
       "<style type=\"text/css\">\n",
       "</style>\n",
       "<table id=\"T_8df60_\">\n",
       "  <thead>\n",
       "    <tr>\n",
       "      <th class=\"col_heading level0 col0\" >column1</th>\n",
       "      <th class=\"col_heading level0 col1\" >column2</th>\n",
       "      <th class=\"col_heading level0 col2\" >column3</th>\n",
       "    </tr>\n",
       "  </thead>\n",
       "  <tbody>\n",
       "    <tr>\n",
       "      <td id=\"T_8df60_row0_col0\" class=\"data row0 col0\" >True</td>\n",
       "      <td id=\"T_8df60_row0_col1\" class=\"data row0 col1\" >value one</td>\n",
       "      <td id=\"T_8df60_row0_col2\" class=\"data row0 col2\" >49</td>\n",
       "    </tr>\n",
       "    <tr>\n",
       "      <td id=\"T_8df60_row1_col0\" class=\"data row1 col0\" >True</td>\n",
       "      <td id=\"T_8df60_row1_col1\" class=\"data row1 col1\" >value two</td>\n",
       "      <td id=\"T_8df60_row1_col2\" class=\"data row1 col2\" >50</td>\n",
       "    </tr>\n",
       "    <tr>\n",
       "      <td id=\"T_8df60_row2_col0\" class=\"data row2 col0\" >True</td>\n",
       "      <td id=\"T_8df60_row2_col1\" class=\"data row2 col1\" >value three</td>\n",
       "      <td id=\"T_8df60_row2_col2\" class=\"data row2 col2\" >51</td>\n",
       "    </tr>\n",
       "  </tbody>\n",
       "</table>\n"
      ],
      "text/plain": [
       "<pandas.io.formats.style.Styler at 0x7f9eeae88110>"
      ]
     },
     "execution_count": 5,
     "metadata": {},
     "output_type": "execute_result"
    }
   ],
   "source": [
    "records_json = \"\"\"\n",
    "[\n",
    "    {\n",
    "        \"column1\": true,\n",
    "        \"column2\": \"value one\",\n",
    "        \"column3\": 49\n",
    "    },\n",
    "    {\n",
    "        \"column1\": true,\n",
    "        \"column2\": \"value two\",\n",
    "        \"column3\": 50\n",
    "    },\n",
    "    {\n",
    "        \"column1\": true,\n",
    "        \"column2\": \"value three\",\n",
    "        \"column3\": 51\n",
    "    }\n",
    "]\n",
    "\"\"\"\n",
    "\n",
    "pd.read_json(records_json, typ='frame', orient='records').style.hide_index()"
   ]
  },
  {
   "cell_type": "code",
   "execution_count": 13,
   "metadata": {},
   "outputs": [
    {
     "data": {
      "text/html": [
       "<style type=\"text/css\">\n",
       "</style>\n",
       "<table id=\"T_774c0_\">\n",
       "  <thead>\n",
       "    <tr>\n",
       "      <th class=\"col_heading level0 col0\" >column1</th>\n",
       "      <th class=\"col_heading level0 col1\" >column2</th>\n",
       "      <th class=\"col_heading level0 col2\" >column3</th>\n",
       "    </tr>\n",
       "  </thead>\n",
       "  <tbody>\n",
       "    <tr>\n",
       "      <td id=\"T_774c0_row0_col0\" class=\"data row0 col0\" >True</td>\n",
       "      <td id=\"T_774c0_row0_col1\" class=\"data row0 col1\" >value one</td>\n",
       "      <td id=\"T_774c0_row0_col2\" class=\"data row0 col2\" >49</td>\n",
       "    </tr>\n",
       "    <tr>\n",
       "      <td id=\"T_774c0_row1_col0\" class=\"data row1 col0\" >True</td>\n",
       "      <td id=\"T_774c0_row1_col1\" class=\"data row1 col1\" >value two</td>\n",
       "      <td id=\"T_774c0_row1_col2\" class=\"data row1 col2\" >50</td>\n",
       "    </tr>\n",
       "    <tr>\n",
       "      <td id=\"T_774c0_row2_col0\" class=\"data row2 col0\" >True</td>\n",
       "      <td id=\"T_774c0_row2_col1\" class=\"data row2 col1\" >value three</td>\n",
       "      <td id=\"T_774c0_row2_col2\" class=\"data row2 col2\" >51</td>\n",
       "    </tr>\n",
       "  </tbody>\n",
       "</table>\n"
      ],
      "text/plain": [
       "<pandas.io.formats.style.Styler at 0x7f9eead20d90>"
      ]
     },
     "execution_count": 13,
     "metadata": {},
     "output_type": "execute_result"
    }
   ],
   "source": [
    "index_json = \"\"\"\n",
    "{\n",
    "    \"entry1\": {\n",
    "        \"column1\": true,\n",
    "        \"column2\": \"value one\",\n",
    "        \"column3\": 49\n",
    "    },\n",
    "    \"entry2\": {\n",
    "        \"column1\": true,\n",
    "        \"column2\": \"value two\",\n",
    "        \"column3\": 50\n",
    "    },\n",
    "    \"entry3\": {\n",
    "        \"column1\": true,\n",
    "        \"column2\": \"value three\",\n",
    "        \"column3\": 51\n",
    "    }\n",
    "}\n",
    "\"\"\"\n",
    "\n",
    "pd.read_json(index_json, typ='frame', orient='index').style.hide_index()"
   ]
  },
  {
   "cell_type": "code",
   "execution_count": 10,
   "metadata": {},
   "outputs": [
    {
     "data": {
      "text/html": [
       "<style type=\"text/css\">\n",
       "</style>\n",
       "<table id=\"T_8a8f8_\">\n",
       "  <thead>\n",
       "    <tr>\n",
       "      <th class=\"col_heading level0 col0\" >column1</th>\n",
       "      <th class=\"col_heading level0 col1\" >column2</th>\n",
       "      <th class=\"col_heading level0 col2\" >column3</th>\n",
       "    </tr>\n",
       "  </thead>\n",
       "  <tbody>\n",
       "    <tr>\n",
       "      <td id=\"T_8a8f8_row0_col0\" class=\"data row0 col0\" >True</td>\n",
       "      <td id=\"T_8a8f8_row0_col1\" class=\"data row0 col1\" >True</td>\n",
       "      <td id=\"T_8a8f8_row0_col2\" class=\"data row0 col2\" >True</td>\n",
       "    </tr>\n",
       "    <tr>\n",
       "      <td id=\"T_8a8f8_row1_col0\" class=\"data row1 col0\" >value one</td>\n",
       "      <td id=\"T_8a8f8_row1_col1\" class=\"data row1 col1\" >value two</td>\n",
       "      <td id=\"T_8a8f8_row1_col2\" class=\"data row1 col2\" >value three</td>\n",
       "    </tr>\n",
       "    <tr>\n",
       "      <td id=\"T_8a8f8_row2_col0\" class=\"data row2 col0\" >49</td>\n",
       "      <td id=\"T_8a8f8_row2_col1\" class=\"data row2 col1\" >50</td>\n",
       "      <td id=\"T_8a8f8_row2_col2\" class=\"data row2 col2\" >51</td>\n",
       "    </tr>\n",
       "  </tbody>\n",
       "</table>\n"
      ],
      "text/plain": [
       "<pandas.io.formats.style.Styler at 0x7f9eeaceb990>"
      ]
     },
     "execution_count": 10,
     "metadata": {},
     "output_type": "execute_result"
    }
   ],
   "source": [
    "columns_json = \"\"\"\n",
    "{\n",
    "    \"column1\": {\n",
    "        \"index1\": true,\n",
    "        \"index2\": \"value one\",\n",
    "        \"index3\": 49\n",
    "    },\n",
    "    \"column2\": {\n",
    "        \"index1\": true,\n",
    "        \"index2\": \"value two\",\n",
    "        \"index3\": 50\n",
    "    },\n",
    "    \"column3\": {\n",
    "        \"index1\": true,\n",
    "        \"index2\": \"value three\",\n",
    "        \"index3\": 51\n",
    "    }\n",
    "}\n",
    "\"\"\"\n",
    "\n",
    "pd.read_json(columns_json, typ='frame', orient='columns').style.hide_index()"
   ]
  },
  {
   "cell_type": "code",
   "execution_count": 8,
   "metadata": {},
   "outputs": [
    {
     "data": {
      "text/html": [
       "<div>\n",
       "<style scoped>\n",
       "    .dataframe tbody tr th:only-of-type {\n",
       "        vertical-align: middle;\n",
       "    }\n",
       "\n",
       "    .dataframe tbody tr th {\n",
       "        vertical-align: top;\n",
       "    }\n",
       "\n",
       "    .dataframe thead th {\n",
       "        text-align: right;\n",
       "    }\n",
       "</style>\n",
       "<table border=\"1\" class=\"dataframe\">\n",
       "  <thead>\n",
       "    <tr style=\"text-align: right;\">\n",
       "      <th></th>\n",
       "      <th>0</th>\n",
       "    </tr>\n",
       "  </thead>\n",
       "  <tbody>\n",
       "    <tr>\n",
       "      <th>0</th>\n",
       "      <td>value one</td>\n",
       "    </tr>\n",
       "    <tr>\n",
       "      <th>1</th>\n",
       "      <td>value two</td>\n",
       "    </tr>\n",
       "    <tr>\n",
       "      <th>2</th>\n",
       "      <td>value three</td>\n",
       "    </tr>\n",
       "  </tbody>\n",
       "</table>\n",
       "</div>"
      ],
      "text/plain": [
       "             0\n",
       "0    value one\n",
       "1    value two\n",
       "2  value three"
      ]
     },
     "execution_count": 8,
     "metadata": {},
     "output_type": "execute_result"
    }
   ],
   "source": [
    "values_json = \"\"\"\n",
    "[\n",
    "    \"value one\",\n",
    "    \"value two\",\n",
    "    \"value three\"\n",
    "]\n",
    "\"\"\"\n",
    "\n",
    "pd.read_json(values_json, typ='frame', orient='values').style.hide_index()"
   ]
  }
 ],
 "metadata": {
  "interpreter": {
   "hash": "2248ed64bdf5fe1d2cc35d4639eff9d9517212412e82087913ac56aa4ab59c78"
  },
  "kernelspec": {
   "display_name": "Python 3.7.10 ('base')",
   "language": "python",
   "name": "python3"
  },
  "language_info": {
   "codemirror_mode": {
    "name": "ipython",
    "version": 3
   },
   "file_extension": ".py",
   "mimetype": "text/x-python",
   "name": "python",
   "nbconvert_exporter": "python",
   "pygments_lexer": "ipython3",
   "version": "3.7.10"
  },
  "orig_nbformat": 4
 },
 "nbformat": 4,
 "nbformat_minor": 2
}
