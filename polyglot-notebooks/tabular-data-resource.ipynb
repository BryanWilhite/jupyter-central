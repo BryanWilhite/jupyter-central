{
 "cells": [
  {
   "cell_type": "code",
   "execution_count": 1,
   "metadata": {
    "vscode": {
     "languageId": "polyglot-notebook"
    }
   },
   "outputs": [
    {
     "data": {
      "text/html": [
       "<div><div></div><div></div><div><strong>Installed Packages</strong><ul><li><span>Microsoft.DotNet.Interactive.Sqlite, 1.0.0-beta.25110.2</span></li></ul></div></div>"
      ]
     },
     "metadata": {},
     "output_type": "display_data"
    },
    {
     "data": {
      "text/plain": [
       "Loading extension script from `/home/rasx/.nuget/packages/microsoft.dotnet.interactive.sqlite/1.0.0-beta.25110.2/interactive-extensions/dotnet/extension.dib`"
      ]
     },
     "metadata": {},
     "output_type": "display_data"
    },
    {
     "data": {
      "text/html": [
       "<details><summary>Query SQLite databases.</summary>\r\n",
       "    <p>This extension adds support for connecting to SQLite databases using the <code>#!connect sqlite</code> magic command. For more information, run a cell using the <code>#!sql</code> magic command.</p>\r\n",
       "    </details>"
      ]
     },
     "metadata": {},
     "output_type": "display_data"
    }
   ],
   "source": [
    "#r \"nuget: Microsoft.DotNet.Interactive.Sqlite, *-*\""
   ]
  },
  {
   "cell_type": "code",
   "execution_count": 2,
   "metadata": {
    "vscode": {
     "languageId": "polyglot-notebook"
    }
   },
   "outputs": [
    {
     "data": {
      "text/plain": [
       "Kernel added: #!sql-AwesomeNorthwind"
      ]
     },
     "metadata": {},
     "output_type": "display_data"
    }
   ],
   "source": [
    "#!connect sqlite --kernel-name AwesomeNorthwind \"DataSource=../sqlite/northwind.db\""
   ]
  },
  {
   "cell_type": "code",
   "execution_count": null,
   "metadata": {
    "vscode": {
     "languageId": "polyglot-notebook"
    }
   },
   "outputs": [
    {
     "data": {
      "text/csv": [
       "name\n",
       "Employees\n",
       "CustomerDemographics\n",
       "Customers\n",
       "Shippers\n",
       "Region\n",
       "Categories\n",
       "Suppliers\n",
       "CustomerCustomerDemo\n",
       "Orders\n",
       "Territories\n",
       "Products\n",
       "OrderDetails\n",
       "EmployeeTerritories\n"
      ],
      "text/html": [
       "<table><thead><tr><td><span>name</span></td></tr></thead><tbody><tr><td>Employees</td></tr><tr><td>CustomerDemographics</td></tr><tr><td>Customers</td></tr><tr><td>Shippers</td></tr><tr><td>Region</td></tr><tr><td>Categories</td></tr><tr><td>Suppliers</td></tr><tr><td>CustomerCustomerDemo</td></tr><tr><td>Orders</td></tr><tr><td>Territories</td></tr><tr><td>Products</td></tr><tr><td>OrderDetails</td></tr><tr><td>EmployeeTerritories</td></tr></tbody></table><style>\r\n",
       ".dni-code-hint {\r\n",
       "    font-style: italic;\r\n",
       "    overflow: hidden;\r\n",
       "    white-space: nowrap;\r\n",
       "}\r\n",
       ".dni-treeview {\r\n",
       "    white-space: nowrap;\r\n",
       "}\r\n",
       ".dni-treeview td {\r\n",
       "    vertical-align: top;\r\n",
       "    text-align: start;\r\n",
       "}\r\n",
       "details.dni-treeview {\r\n",
       "    padding-left: 1em;\r\n",
       "}\r\n",
       "table td {\r\n",
       "    text-align: start;\r\n",
       "}\r\n",
       "table tr { \r\n",
       "    vertical-align: top; \r\n",
       "    margin: 0em 0px;\r\n",
       "}\r\n",
       "table tr td pre \r\n",
       "{ \r\n",
       "    vertical-align: top !important; \r\n",
       "    margin: 0em 0px !important;\r\n",
       "} \r\n",
       "table th {\r\n",
       "    text-align: start;\r\n",
       "}\r\n",
       "</style>"
      ]
     },
     "metadata": {},
     "output_type": "display_data"
    }
   ],
   "source": [
    "#!sql-AwesomeNorthwind\n",
    "\n",
    "SELECT\n",
    "    name\n",
    "FROM \n",
    "    sqlite_schema\n",
    "WHERE\n",
    "    type ='table'\n",
    "AND\n",
    "    name NOT LIKE 'sqlite_%'"
   ]
  },
  {
   "cell_type": "code",
   "execution_count": 4,
   "metadata": {
    "vscode": {
     "languageId": "polyglot-notebook"
    }
   },
   "outputs": [
    {
     "data": {
      "text/csv": [
       "TerritoryID,TerritoryDescription,RegionID\n",
       "01581,\"Westboro                                          \",1\n",
       "01730,\"Bedford                                           \",1\n",
       "01833,\"Georgetow                                         \",1\n",
       "02116,\"Boston                                            \",1\n",
       "02139,\"Cambridge                                         \",1\n",
       "02184,\"Braintree                                         \",1\n",
       "02903,\"Providence                                        \",1\n",
       "03049,\"Hollis                                            \",3\n",
       "03801,\"Portsmouth                                        \",3\n",
       "06897,\"Wilton                                            \",1\n",
       "07960,\"Morristown                                        \",1\n",
       "08837,\"Edison                                            \",1\n",
       "10019,\"New York                                          \",1\n",
       "10038,\"New York                                          \",1\n",
       "11747,\"Mellvile                                          \",1\n",
       "14450,\"Fairport                                          \",1\n",
       "19428,\"Philadelphia                                      \",3\n",
       "19713,\"Neward                                            \",1\n",
       "20852,\"Rockville                                         \",1\n",
       "27403,\"Greensboro                                        \",1\n",
       "27511,\"Cary                                              \",1\n",
       "29202,\"Columbia                                          \",4\n",
       "30346,\"Atlanta                                           \",4\n",
       "31406,\"Savannah                                          \",4\n",
       "32859,\"Orlando                                           \",4\n",
       "33607,\"Tampa                                             \",4\n",
       "40222,\"Louisville                                        \",1\n",
       "44122,\"Beachwood                                         \",3\n",
       "45839,\"Findlay                                           \",3\n",
       "48075,\"Southfield                                        \",3\n",
       "48084,\"Troy                                              \",3\n",
       "48304,\"Bloomfield Hills                                  \",3\n",
       "53404,\"Racine                                            \",3\n",
       "55113,\"Roseville                                         \",3\n",
       "55439,\"Minneapolis                                       \",3\n",
       "60179,\"Hoffman Estates                                   \",2\n",
       "60601,\"Chicago                                           \",2\n",
       "72716,\"Bentonville                                       \",4\n",
       "75234,\"Dallas                                            \",4\n",
       "78759,\"Austin                                            \",4\n",
       "80202,\"Denver                                            \",2\n",
       "80909,\"Colorado Springs                                  \",2\n",
       "85014,\"Phoenix                                           \",2\n",
       "85251,\"Scottsdale                                        \",2\n",
       "90405,\"Santa Monica                                      \",2\n",
       "94025,\"Menlo Park                                        \",2\n",
       "94105,\"San Francisco                                     \",2\n",
       "95008,\"Campbell                                          \",2\n",
       "95054,\"Santa Clara                                       \",2\n",
       "95060,\"Santa Cruz                                        \",2\n",
       "98004,\"Bellevue                                          \",2\n",
       "98052,Redmond,2\n",
       "98104,Seattle,2\n"
      ],
      "text/html": [
       "<table><thead><tr><td><span>TerritoryID</span></td><td><span>TerritoryDescription</span></td><td><span>RegionID</span></td></tr></thead><tbody><tr><td>01581</td><td>Westboro                                          </td><td><div class=\"dni-plaintext\"><pre>1</pre></div></td></tr><tr><td>01730</td><td>Bedford                                           </td><td><div class=\"dni-plaintext\"><pre>1</pre></div></td></tr><tr><td>01833</td><td>Georgetow                                         </td><td><div class=\"dni-plaintext\"><pre>1</pre></div></td></tr><tr><td>02116</td><td>Boston                                            </td><td><div class=\"dni-plaintext\"><pre>1</pre></div></td></tr><tr><td>02139</td><td>Cambridge                                         </td><td><div class=\"dni-plaintext\"><pre>1</pre></div></td></tr><tr><td>02184</td><td>Braintree                                         </td><td><div class=\"dni-plaintext\"><pre>1</pre></div></td></tr><tr><td>02903</td><td>Providence                                        </td><td><div class=\"dni-plaintext\"><pre>1</pre></div></td></tr><tr><td>03049</td><td>Hollis                                            </td><td><div class=\"dni-plaintext\"><pre>3</pre></div></td></tr><tr><td>03801</td><td>Portsmouth                                        </td><td><div class=\"dni-plaintext\"><pre>3</pre></div></td></tr><tr><td>06897</td><td>Wilton                                            </td><td><div class=\"dni-plaintext\"><pre>1</pre></div></td></tr><tr><td>07960</td><td>Morristown                                        </td><td><div class=\"dni-plaintext\"><pre>1</pre></div></td></tr><tr><td>08837</td><td>Edison                                            </td><td><div class=\"dni-plaintext\"><pre>1</pre></div></td></tr><tr><td>10019</td><td>New York                                          </td><td><div class=\"dni-plaintext\"><pre>1</pre></div></td></tr><tr><td>10038</td><td>New York                                          </td><td><div class=\"dni-plaintext\"><pre>1</pre></div></td></tr><tr><td>11747</td><td>Mellvile                                          </td><td><div class=\"dni-plaintext\"><pre>1</pre></div></td></tr><tr><td>14450</td><td>Fairport                                          </td><td><div class=\"dni-plaintext\"><pre>1</pre></div></td></tr><tr><td>19428</td><td>Philadelphia                                      </td><td><div class=\"dni-plaintext\"><pre>3</pre></div></td></tr><tr><td>19713</td><td>Neward                                            </td><td><div class=\"dni-plaintext\"><pre>1</pre></div></td></tr><tr><td>20852</td><td>Rockville                                         </td><td><div class=\"dni-plaintext\"><pre>1</pre></div></td></tr><tr><td>27403</td><td>Greensboro                                        </td><td><div class=\"dni-plaintext\"><pre>1</pre></div></td></tr><tr><td colspan=\"3\"><i>(33 more)</i></td></tr></tbody></table><style>\r\n",
       ".dni-code-hint {\r\n",
       "    font-style: italic;\r\n",
       "    overflow: hidden;\r\n",
       "    white-space: nowrap;\r\n",
       "}\r\n",
       ".dni-treeview {\r\n",
       "    white-space: nowrap;\r\n",
       "}\r\n",
       ".dni-treeview td {\r\n",
       "    vertical-align: top;\r\n",
       "    text-align: start;\r\n",
       "}\r\n",
       "details.dni-treeview {\r\n",
       "    padding-left: 1em;\r\n",
       "}\r\n",
       "table td {\r\n",
       "    text-align: start;\r\n",
       "}\r\n",
       "table tr { \r\n",
       "    vertical-align: top; \r\n",
       "    margin: 0em 0px;\r\n",
       "}\r\n",
       "table tr td pre \r\n",
       "{ \r\n",
       "    vertical-align: top !important; \r\n",
       "    margin: 0em 0px !important;\r\n",
       "} \r\n",
       "table th {\r\n",
       "    text-align: start;\r\n",
       "}\r\n",
       "</style>"
      ]
     },
     "metadata": {},
     "output_type": "display_data"
    }
   ],
   "source": [
    "#!sql-AwesomeNorthwind\n",
    "\n",
    "SELECT * FROM Territories"
   ]
  }
 ],
 "metadata": {
  "kernelspec": {
   "display_name": ".NET (C#)",
   "language": "C#",
   "name": ".net-csharp"
  },
  "language_info": {
   "name": "python"
  },
  "polyglot_notebook": {
   "kernelInfo": {
    "defaultKernelName": "csharp",
    "items": [
     {
      "aliases": [],
      "name": "csharp"
     }
    ]
   }
  }
 },
 "nbformat": 4,
 "nbformat_minor": 2
}
