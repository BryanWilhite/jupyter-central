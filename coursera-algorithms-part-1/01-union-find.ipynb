{
 "cells": [
  {
   "cell_type": "markdown",
   "metadata": {
    "collapsed": true
   },
   "source": [
    "# 1.5 Union-Find\n",
    "\n",
    "These are my notes for Coursera course [Algorithms, Part I](https://www.coursera.org/learn/algorithms-part1) by [Kevin Wayne](https://www.coursera.org/instructor/~246867) and [Robert Sedgewick](https://www.coursera.org/instructor/~250165), Princeton University. Special thanks to [Tara Walker](https://www.linkedin.com/in/taraewalker/) for recommending this course to me. I have decided to take this course and learn Python and Jupyter notebooks on Azure simultaneously. Failure is an option ;)\n",
    "\n",
    "![Dynamic connectivity](./images/dynamic-connectivity.png)\n",
    "\n",
    "There exists two “operations” `union()`, representing the Union command and `connected()`, representing the Find/connected query.\n",
    "\n",
    "The order of execution of `union()` and `connected()` is important as `connected(0, 7)` returns `false` at the position 6 but returns `true` at position 12.\n",
    "\n",
    "In Pythonic terms, we can see these two “operations” defined:"
   ]
  },
  {
   "cell_type": "code",
   "execution_count": 22,
   "metadata": {},
   "outputs": [],
   "source": [
    "class DynamicConnectivity:\n",
    "\n",
    "    def union(p, q):\n",
    "        pass\n",
    "\n",
    "    def connected(p, q):\n",
    "        return false"
   ]
  },
  {
   "cell_type": "markdown",
   "metadata": {},
   "source": [
    ">**Python note:**\n",
    ">In C# or F# `DynamicConnectivity` would be an _interface_. Python does not have the concept of an interface."
   ]
  },
  {
   "cell_type": "markdown",
   "metadata": {},
   "source": [
    "## Quick-Find implmentation"
   ]
  },
  {
   "cell_type": "code",
   "execution_count": 35,
   "metadata": {},
   "outputs": [
    {
     "name": "stdout",
     "output_type": "stream",
     "text": [
      "connected(0, 7): False\n",
      "connected(8, 9): True\n",
      "connected(0, 7): True\n",
      "[1, 1, 1, 8, 8, 1, 1, 1, 8, 8]\n"
     ]
    }
   ],
   "source": [
    "class QuickFind(DynamicConnectivity):\n",
    "\n",
    "    def __init__(self, n):\n",
    "        self.id = [i for i in range(n)]\n",
    "\n",
    "    def connected(self, p, q):\n",
    "        return self.id[p] == self.id[q]\n",
    "\n",
    "    def union(self, p, q):\n",
    "        pid = self.id[p]\n",
    "        qid = self.id[q]\n",
    "        for i, x in enumerate(self.id):\n",
    "            if(x == pid):\n",
    "                self.id[i] = qid\n",
    "\n",
    "quick_find = QuickFind(10)\n",
    "quick_find.union(4, 3)\n",
    "quick_find.union(3, 8)\n",
    "quick_find.union(6, 5)\n",
    "quick_find.union(9, 4)\n",
    "quick_find.union(2, 1)\n",
    "\n",
    "print(f'connected(0, 7): {quick_find.connected(0, 7)}')\n",
    "print(f'connected(8, 9): {quick_find.connected(8, 9)}')\n",
    "\n",
    "quick_find.union(5, 0)\n",
    "quick_find.union(7, 2)\n",
    "quick_find.union(6, 1)\n",
    "quick_find.union(1, 0)\n",
    "\n",
    "print(f'connected(0, 7): {quick_find.connected(0, 7)}')\n",
    "\n",
    "print(quick_find.id)"
   ]
  },
  {
   "cell_type": "markdown",
   "metadata": {},
   "source": [
    ">**Python note:**\n",
    "> The constructor as we know it in C# is expressed as `__init__` in Python. The `this` keyword we have in C# has `self` as its equivalent in Python. For detail, see, “[Why must ‘self’ be used explicitly in method definitions and calls?](https://docs.python.org/3/faq/design.html#why-must-self-be-used-explicitly-in-method-definitions-and-calls)”"
   ]
  },
  {
   "cell_type": "markdown",
   "metadata": {},
   "source": [
    "### Quick-Find is too slow\n",
    "\n",
    "Calling `range()` and `enumerate()` accesses `self.id` $N^2$ times. This characteristic makes Quick-Find a _quadratic algorithm_ or an algorithm of Polynomial [time complexity](https://en.wikipedia.org/wiki/Time_complexity#Polynomial_time). With `%timeit` and `%matplotlib`, we can see an extremely rough quadratic graph of Quick-Find size _vs._ `union()` exectution time:"
   ]
  },
  {
   "cell_type": "code",
   "execution_count": 24,
   "metadata": {},
   "outputs": [
    {
     "name": "stdout",
     "output_type": "stream",
     "text": [
      "381 µs ± 14.7 µs per loop (mean ± std. dev. of 7 runs, 1000 loops each)\n",
      "3.9 ms ± 303 µs per loop (mean ± std. dev. of 7 runs, 100 loops each)\n",
      "41.5 ms ± 2.09 ms per loop (mean ± std. dev. of 7 runs, 10 loops each)\n",
      "430 ms ± 11.6 ms per loop (mean ± std. dev. of 7 runs, 1 loop each)\n"
     ]
    }
   ],
   "source": [
    "def quick_find_timing(factor):\n",
    "    quick_find = QuickFind(10**factor)\n",
    "    timeit_result = %timeit -o quick_find.union(420, 70)\n",
    "    return timeit_result.best\n",
    "\n",
    "quick_find_domain = range(3, 7)\n",
    "quick_find_timings = [quick_find_timing(i) for i in quick_find_domain]"
   ]
  },
  {
   "cell_type": "code",
   "execution_count": 25,
   "metadata": {},
   "outputs": [
    {
     "data": {
      "image/png": "[encoded data removed]",
      "text/plain": [
       "<matplotlib.figure.Figure at 0x7f073364cfd0>"
      ]
     },
     "metadata": {},
     "output_type": "display_data"
    }
   ],
   "source": [
    "%matplotlib inline\n",
    "import matplotlib.pyplot as plt\n",
    "\n",
    "plt.plot(quick_find_domain, quick_find_timings)\n",
    "plt.title('a very, very rough quadratic `curve`')\n",
    "plt.xlabel('size', fontsize=18)\n",
    "plt.ylabel('time', fontsize=18)\n",
    "plt.show()"
   ]
  },
  {
   "cell_type": "markdown",
   "metadata": {},
   "source": [
    "## Quick-Union implementation"
   ]
  },
  {
   "cell_type": "code",
   "execution_count": 26,
   "metadata": {},
   "outputs": [
    {
     "name": "stdout",
     "output_type": "stream",
     "text": [
      "connected(0, 7): False\n",
      "connected(8, 9): True\n",
      "connected(0, 7): True\n",
      "[1, 1, 1, 8, 3, 0, 5, 1, 8, 8]\n"
     ]
    }
   ],
   "source": [
    "class QuickUnion(DynamicConnectivity):\n",
    "\n",
    "    def __init__(self, n):\n",
    "        self.id = [i for i in range(n)]\n",
    "\n",
    "    def root(self, i):\n",
    "        while(i != self.id[i]):\n",
    "            i = self.id[i]\n",
    "        return i\n",
    "\n",
    "    def connected(self, p, q):\n",
    "        return self.root(p) == self.root(q)\n",
    "\n",
    "    def union(self, p, q):\n",
    "        i = self.root(p)\n",
    "        j = self.root(q)\n",
    "        self.id[i] = j\n",
    "\n",
    "quick_union = QuickUnion(10)\n",
    "quick_union.union(4, 3)\n",
    "quick_union.union(3, 8)\n",
    "quick_union.union(6, 5)\n",
    "quick_union.union(9, 4)\n",
    "quick_union.union(2, 1)\n",
    "\n",
    "print(f'connected(0, 7): {quick_union.connected(0, 7)}')\n",
    "print(f'connected(8, 9): {quick_union.connected(8, 9)}')\n",
    "\n",
    "quick_union.union(5, 0)\n",
    "quick_union.union(7, 2)\n",
    "quick_union.union(6, 1)\n",
    "quick_union.union(1, 0)\n",
    "\n",
    "print(f'connected(0, 7): {quick_union.connected(0, 7)}')\n",
    "\n",
    "print(quick_union.id)"
   ]
  },
  {
   "cell_type": "markdown",
   "metadata": {},
   "source": [
    "### Quick-Union is faster but also too slow\n",
    "\n",
    "Calling `range()` and `self.root()` accesses `self.id` $N$ times. This suggests that Quick-Union is an algorithm of [linear time complexity](https://en.wikipedia.org/wiki/Time_complexity#Linear_time). With `%timeit` and `%matplotlib`, we should see a linear plot:"
   ]
  },
  {
   "cell_type": "code",
   "execution_count": 34,
   "metadata": {},
   "outputs": [
    {
     "name": "stdout",
     "output_type": "stream",
     "text": [
      "4.29 µs ± 178 ns per loop (mean ± std. dev. of 7 runs, 100000 loops each)\n",
      "4.52 µs ± 297 ns per loop (mean ± std. dev. of 7 runs, 100000 loops each)\n",
      "4.45 µs ± 189 ns per loop (mean ± std. dev. of 7 runs, 100000 loops each)\n",
      "4.32 µs ± 172 ns per loop (mean ± std. dev. of 7 runs, 100000 loops each)\n",
      "4.29 µs ± 371 ns per loop (mean ± std. dev. of 7 runs, 100000 loops each)\n"
     ]
    }
   ],
   "source": [
    "def quick_union_timing(factor):\n",
    "    quick_union = QuickUnion(10**factor)\n",
    "    timeit_result = %timeit -o quick_union.union(420, 70)\n",
    "    return timeit_result.best\n",
    "\n",
    "quick_union_domain = range(3, 8)\n",
    "quick_union_timings = [quick_union_timing(i) for i in quick_union_domain]"
   ]
  },
  {
   "cell_type": "code",
   "execution_count": 32,
   "metadata": {},
   "outputs": [
    {
     "data": {
      "image/png": "[encoded data removed]",
      "text/plain": [
       "<matplotlib.figure.Figure at 0x7f07332d4e10>"
      ]
     },
     "metadata": {},
     "output_type": "display_data"
    }
   ],
   "source": [
    "import numpy as np\n",
    "\n",
    "plt.plot(quick_union_domain, quick_union_timings)\n",
    "plt.title('Quick-Union plot')\n",
    "plt.xlabel('size', fontsize=18)\n",
    "plt.ylabel('time', fontsize=18)\n",
    "\n",
    "y_median = np.median(quick_union_timings)\n",
    "y_window = 10**-6\n",
    "axes = plt.gca()\n",
    "axes.set_ylim([y_median - y_window, y_median + y_window])\n",
    "axes.yaxis.get_major_formatter().set_powerlimits((0, 1))\n",
    "\n",
    "plt.show()"
   ]
  },
  {
   "cell_type": "markdown",
   "metadata": {},
   "source": [
    "## weighted Quick-Union implementation"
   ]
  },
  {
   "cell_type": "code",
   "execution_count": 37,
   "metadata": {},
   "outputs": [
    {
     "name": "stdout",
     "output_type": "stream",
     "text": [
      "connected(0, 7): False\n",
      "connected(8, 9): True\n",
      "connected(0, 7): True\n",
      "[6, 2, 7, 4, 9, 6, 6, 6, 4, 9]\n"
     ]
    }
   ],
   "source": [
    "class WeightedQuickUnion(DynamicConnectivity):\n",
    "\n",
    "    def __init__(self, n):\n",
    "        self.id = [i for i in range(n)]\n",
    "        self.sz = [0] * n\n",
    "\n",
    "    def root(self, i):\n",
    "        while(i != self.id[i]):\n",
    "            i = self.id[i]\n",
    "        return i\n",
    "\n",
    "    def connected(self, p, q):\n",
    "        return self.root(p) == self.root(q)\n",
    "\n",
    "    def union(self, p, q):\n",
    "        i = self.root(p)\n",
    "        j = self.root(q)\n",
    "        if(i == j): return\n",
    "        if(self.sz[i] < self.sz[j]):\n",
    "            self.id[i] = j\n",
    "            self.sz[j] += self.sz[i]\n",
    "        else:\n",
    "            self.id[j] = i\n",
    "            self.sz[i] += self.sz[j]\n",
    "\n",
    "weighted_quick_union = WeightedQuickUnion(10)\n",
    "weighted_quick_union.union(4, 3)\n",
    "weighted_quick_union.union(3, 8)\n",
    "weighted_quick_union.union(6, 5)\n",
    "weighted_quick_union.union(9, 4)\n",
    "weighted_quick_union.union(2, 1)\n",
    "\n",
    "print(f'connected(0, 7): {weighted_quick_union.connected(0, 7)}')\n",
    "print(f'connected(8, 9): {weighted_quick_union.connected(8, 9)}')\n",
    "\n",
    "weighted_quick_union.union(5, 0)\n",
    "weighted_quick_union.union(7, 2)\n",
    "weighted_quick_union.union(6, 1)\n",
    "weighted_quick_union.union(1, 0)\n",
    "\n",
    "print(f'connected(0, 7): {weighted_quick_union.connected(0, 7)}')\n",
    "\n",
    "print(weighted_quick_union.id)"
   ]
  },
  {
   "cell_type": "markdown",
   "metadata": {},
   "source": [
    "### weighted Quick-Union should be the fastest of the aforementioned\n",
    "\n",
    "![Weighted quick-union analysis](./images/weighted-quick-union-analysis.png)\n"
   ]
  },
  {
   "cell_type": "code",
   "execution_count": 30,
   "metadata": {},
   "outputs": [
    {
     "name": "stdout",
     "output_type": "stream",
     "text": [
      "4.23 µs ± 211 ns per loop (mean ± std. dev. of 7 runs, 100000 loops each)\n",
      "4.23 µs ± 114 ns per loop (mean ± std. dev. of 7 runs, 100000 loops each)\n",
      "4.32 µs ± 225 ns per loop (mean ± std. dev. of 7 runs, 100000 loops each)\n",
      "4.24 µs ± 152 ns per loop (mean ± std. dev. of 7 runs, 100000 loops each)\n",
      "4.46 µs ± 165 ns per loop (mean ± std. dev. of 7 runs, 100000 loops each)\n"
     ]
    }
   ],
   "source": [
    "def weighted_quick_union_timing(factor):\n",
    "    weighted_quick_union = WeightedQuickUnion(10**factor)\n",
    "    timeit_result = %timeit -o weighted_quick_union.union(420, 70)\n",
    "    return timeit_result.best\n",
    "\n",
    "weighted_quick_union_domain = range(3, 8)\n",
    "weighted_quick_union_timings = [weighted_quick_union_timing(i) for i in weighted_quick_union_domain]"
   ]
  },
  {
   "cell_type": "code",
   "execution_count": 33,
   "metadata": {},
   "outputs": [
    {
     "data": {
      "image/png": "[encoded data removed]",
      "text/plain": [
       "<matplotlib.figure.Figure at 0x7f07333b7940>"
      ]
     },
     "metadata": {},
     "output_type": "display_data"
    }
   ],
   "source": [
    "plt.plot(weighted_quick_union_domain, weighted_quick_union_timings)\n",
    "plt.title('weighted Quick-Union plot')\n",
    "plt.xlabel('size', fontsize=18)\n",
    "plt.ylabel('time', fontsize=18)\n",
    "\n",
    "y_median = np.median(weighted_quick_union_timings)\n",
    "y_window = 10**-6\n",
    "axes = plt.gca()\n",
    "axes.set_ylim([y_median - y_window, y_median + y_window])\n",
    "axes.yaxis.get_major_formatter().set_powerlimits((0, 1))\n",
    "\n",
    "plt.show()"
   ]
  },
  {
   "cell_type": "markdown",
   "metadata": {},
   "source": [
    "@[BryanWilhite](https://twitter.com/bryanwilhite)"
   ]
  }
 ],
 "metadata": {
  "kernelspec": {
   "display_name": "Python 3.6",
   "language": "python",
   "name": "python36"
  },
  "language": "fsharp",
  "language_info": {
   "codemirror_mode": {
    "name": "ipython",
    "version": 3
   },
   "file_extension": ".py",
   "mimetype": "text/x-python",
   "name": "python",
   "nbconvert_exporter": "python",
   "pygments_lexer": "ipython3",
   "version": "3.6.3"
  }
 },
 "nbformat": 4,
 "nbformat_minor": 2
}
