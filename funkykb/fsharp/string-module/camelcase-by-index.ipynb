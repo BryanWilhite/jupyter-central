{
 "cells": [
  {
   "cell_type": "markdown",
   "metadata": {},
   "source": [
    "# camel case by index\n",
    "\n",
    "Instead of using a dictionary to determine word boundaries, we can use index data and `String.mapi`:"
   ]
  },
  {
   "cell_type": "code",
   "execution_count": null,
   "metadata": {
    "dotnet_interactive": {
     "language": "fsharp"
    }
   },
   "outputs": [
    {
     "data": {
      "text/html": [
       "<table><thead><tr><th><i>index</i></th><th>value</th></tr></thead><tbody><tr><td>0</td><td>FSharp</td></tr><tr><td>1</td><td>NativeInterop</td></tr><tr><td>2</td><td>TaskBuilderExtensions</td></tr><tr><td>3</td><td>MicrosoftWord</td></tr></tbody></table>"
      ]
     },
     "metadata": {},
     "output_type": "display_data"
    }
   ],
   "source": [
    "let toCamelCase word indexes =\n",
    "    let mapping i c =\n",
    "        match (indexes |> List.contains i) with\n",
    "        | true                      -> Char.ToUpper(c)\n",
    "        | _ when Char.IsUpper(c)    -> Char.ToLower(c)\n",
    "        | _                         -> c\n",
    "\n",
    "    word |> String.mapi mapping\n",
    "\n",
    "[\n",
    "    (\"fsharP\", [0; 1])\n",
    "    (\"nAtiveinterop\", [0; 6])\n",
    "    (\"taskbuildereXtensions\", [0; 4; 11])\n",
    "    (\"microsoftword\", [0; 9])\n",
    "]\n",
    "|> List.map (fun (word, indexes) -> (word, indexes) ||> toCamelCase)"
   ]
  },
  {
   "cell_type": "markdown",
   "metadata": {},
   "source": [
    "## let `List.map` drive function design\n",
    "\n",
    "The above use of `fun` is too verbose:\n",
    "\n",
    "```fsharp\n",
    "List.map (fun (word, indexes) -> (word, indexes) ||> toCamelCase)\n",
    "```\n",
    "\n",
    "After asking [a StackOverflow question](https://stackoverflow.com/questions/70388340/do-fun-lambda-expressions-have-shorthand-syntax), the verbosity is coming from the curry form `toCamelCase` which is not compatible with the tuple form of `List.map`:"
   ]
  },
  {
   "cell_type": "code",
   "execution_count": null,
   "metadata": {
    "dotnet_interactive": {
     "language": "fsharp"
    }
   },
   "outputs": [
    {
     "data": {
      "text/html": [
       "<table><thead><tr><th><i>index</i></th><th>value</th></tr></thead><tbody><tr><td>0</td><td>FSharp</td></tr><tr><td>1</td><td>NativeInterop</td></tr><tr><td>2</td><td>TaskBuilderExtensions</td></tr><tr><td>3</td><td>MicrosoftWord</td></tr></tbody></table>"
      ]
     },
     "metadata": {},
     "output_type": "display_data"
    }
   ],
   "source": [
    "let toCamelCase (word, indexes) =\n",
    "    let mapping i c =\n",
    "        match (indexes |> List.contains i) with\n",
    "        | true                      -> Char.ToUpper(c)\n",
    "        | _ when Char.IsUpper(c)    -> Char.ToLower(c)\n",
    "        | _                         -> c\n",
    "\n",
    "    word |> String.mapi mapping\n",
    "\n",
    "[\n",
    "    (\"fsharP\", [0; 1])\n",
    "    (\"nAtiveinterop\", [0; 6])\n",
    "    (\"taskbuildereXtensions\", [0; 4; 11])\n",
    "    (\"microsoftword\", [0; 9])\n",
    "]\n",
    "|> List.map toCamelCase"
   ]
  },
  {
   "cell_type": "markdown",
   "metadata": {},
   "source": [
    "When it is _not_ possible to change `toCamelCase` then the issue of ‘un-currying’ suddenly becomes important.\n",
    "\n",
    "In 2018, [Mark Seemann showed us](https://blog.ploeh.dk/2018/02/05/uncurry-isomorphisms/) that F# has had no built-in `curry` or `uncurry` functions (which Haskell has) but they are easy to make:\n",
    "\n",
    "```fsharp\n",
    "let curry f x y = f (x, y)\n",
    "let uncurry f (x, y) = f x y\n",
    "```"
   ]
  },
  {
   "cell_type": "markdown",
   "metadata": {},
   "source": [
    "## implied un-currying?\n",
    "\n",
    "The use of the double pipeline operator, `||>`, in the example above is effectively _decomposing_ the tuple for a curried function:\n",
    "\n",
    "```fsharp\n",
    "(word, indexes) ||>\n",
    "```\n",
    "\n",
    "This decomposition is effectively _un-currying_—which implies that what was regarded as verbosity is actually expressing un-currying:\n",
    "\n",
    "```fsharp\n",
    "List.map (fun (word, indexes) -> (word, indexes) ||> toCamelCase)\n",
    "```"
   ]
  },
  {
   "cell_type": "markdown",
   "metadata": {},
   "source": [
    "@[BryanWilhite](https://twitter.com/BryanWilhite)\n"
   ]
  }
 ],
 "metadata": {
  "kernelspec": {
   "display_name": ".NET (C#)",
   "language": "C#",
   "name": ".net-csharp"
  },
  "language_info": {
   "file_extension": ".cs",
   "mimetype": "text/x-csharp",
   "name": "C#",
   "pygments_lexer": "csharp",
   "version": "9.0"
  },
  "orig_nbformat": 4
 },
 "nbformat": 4,
 "nbformat_minor": 2
}
