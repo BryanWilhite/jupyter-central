{
 "cells": [
  {
   "cell_type": "markdown",
   "metadata": {},
   "source": [
    "# camel case by index\n",
    "\n",
    "Instead of using a dictionary to determine word boundaries, we can use index data and `String.mapi`:"
   ]
  },
  {
   "cell_type": "code",
   "execution_count": null,
   "metadata": {
    "dotnet_interactive": {
     "language": "fsharp"
    }
   },
   "outputs": [
    {
     "data": {
      "text/html": [
       "<table><thead><tr><th><i>index</i></th><th>value</th></tr></thead><tbody><tr><td>0</td><td>FSharp</td></tr><tr><td>1</td><td>NativeInterop</td></tr><tr><td>2</td><td>TaskBuilderExtensions</td></tr><tr><td>3</td><td>MicrosoftWord</td></tr></tbody></table>"
      ]
     },
     "metadata": {},
     "output_type": "display_data"
    }
   ],
   "source": [
    "let toCamelCase word indexes =\n",
    "    let mapping i c =\n",
    "        match (indexes |> List.contains i) with\n",
    "        | true                      -> Char.ToUpper(c)\n",
    "        | _ when Char.IsUpper(c)    -> Char.ToLower(c)\n",
    "        | _                         -> c\n",
    "\n",
    "    word |> String.mapi mapping\n",
    "\n",
    "[\n",
    "    (\"fsharP\", [0; 1])\n",
    "    (\"nAtiveinterop\", [0; 6])\n",
    "    (\"taskbuildereXtensions\", [0; 4; 11])\n",
    "    (\"microsoftword\", [0; 9])\n",
    "]\n",
    "|> List.map (fun (word, indexes) -> (word, indexes) ||> toCamelCase)"
   ]
  }
 ],
 "metadata": {
  "kernelspec": {
   "display_name": ".NET (C#)",
   "language": "C#",
   "name": ".net-csharp"
  },
  "language_info": {
   "file_extension": ".cs",
   "mimetype": "text/x-csharp",
   "name": "C#",
   "pygments_lexer": "csharp",
   "version": "9.0"
  },
  "orig_nbformat": 4
 },
 "nbformat": 4,
 "nbformat_minor": 2
}
