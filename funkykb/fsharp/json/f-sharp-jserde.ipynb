{
 "cells": [
  {
   "attachments": {},
   "cell_type": "markdown",
   "metadata": {
    "dotnet_interactive": {
     "language": "csharp"
    },
    "polyglot_notebook": {
     "kernelName": "csharp"
    }
   },
   "source": [
    "# `FSharp.JSerde`\n",
    "\n",
    "## <https://github.com/u1roh/FSharp.JSerde>\n",
    "\n",
    "\n",
    "It appears unfair to compare `FSharp.JSerde` to `FSharp.SystemTextJson` [[GitHub](https://github.com/Tarmil/FSharp.SystemTextJson)]. One major difference is that `FSharp.JSerde` appears to have [no way](https://github.com/search?q=repo%3Au1roh%2FFSharp.JSerde+Converters&type=code) to ‘plug in’ to `System.Text.Json` by adding a converter—this means we call `JSerde.toJsonString` and `JSerde.fromJsonString<T>` directly."
   ]
  },
  {
   "cell_type": "code",
   "execution_count": 2,
   "metadata": {
    "dotnet_interactive": {
     "language": "fsharp"
    },
    "polyglot_notebook": {
     "kernelName": "fsharp"
    },
    "vscode": {
     "languageId": "polyglot-notebook"
    }
   },
   "outputs": [
    {
     "data": {
      "text/html": [
       "<div><div></div><div></div><div><strong>Installed Packages</strong><ul><li><span>FSharp.JSerde, 0.0.5</span></li></ul></div></div>"
      ]
     },
     "metadata": {},
     "output_type": "display_data"
    }
   ],
   "source": [
    "#!fsharp\n",
    "\n",
    "#r \"nuget: FSharp.JSerde\"\n",
    "\n",
    "open FSharp.JSerde"
   ]
  },
  {
   "cell_type": "code",
   "execution_count": 3,
   "metadata": {
    "dotnet_interactive": {
     "language": "fsharp"
    },
    "polyglot_notebook": {
     "kernelName": "fsharp"
    },
    "vscode": {
     "languageId": "polyglot-notebook"
    }
   },
   "outputs": [
    {
     "data": {
      "text/plain": [
       "{\"x\":\"Hello\",\"y\":\"world!\"}"
      ]
     },
     "metadata": {},
     "output_type": "display_data"
    }
   ],
   "source": [
    "#!fsharp\n",
    "\n",
    "(JSerde.Config.Default, {| x = \"Hello\"; y = \"world!\" |}) ||> JSerde.toJsonString"
   ]
  },
  {
   "cell_type": "code",
   "execution_count": 4,
   "metadata": {
    "dotnet_interactive": {
     "language": "fsharp"
    },
    "polyglot_notebook": {
     "kernelName": "fsharp"
    },
    "vscode": {
     "languageId": "polyglot-notebook"
    }
   },
   "outputs": [
    {
     "data": {
      "text/plain": [
       "[1,\"abc\"]"
      ]
     },
     "metadata": {},
     "output_type": "display_data"
    }
   ],
   "source": [
    "#!fsharp\n",
    "\n",
    "(JSerde.Config.Default, (1, \"abc\")) ||> JSerde.toJsonString"
   ]
  },
  {
   "cell_type": "code",
   "execution_count": 5,
   "metadata": {
    "dotnet_interactive": {
     "language": "csharp"
    },
    "polyglot_notebook": {
     "kernelName": "csharp"
    },
    "vscode": {
     "languageId": "polyglot-notebook"
    }
   },
   "outputs": [
    {
     "data": {
      "text/plain": [
       "[1,\"abc\"]"
      ]
     },
     "metadata": {},
     "output_type": "display_data"
    }
   ],
   "source": [
    "#!fsharp\n",
    "\n",
    "(JSerde.Config.Default, struct (1, \"abc\")) ||> JSerde.toJsonString"
   ]
  },
  {
   "attachments": {},
   "cell_type": "markdown",
   "metadata": {
    "dotnet_interactive": {
     "language": "csharp"
    },
    "polyglot_notebook": {
     "kernelName": "csharp"
    }
   },
   "source": [
    "`FSharp.JSerde` produces the same results as my [previous study](https://github.com/BryanWilhite/jupyter-central/blob/master/funkykb/fsharp/json/f-sharp-system-text-json.ipynb) of `FSharp.SystemTextJson`. However, the handling of discriminated unions is different by default:"
   ]
  },
  {
   "cell_type": "code",
   "execution_count": 6,
   "metadata": {
    "dotnet_interactive": {
     "language": "fsharp"
    },
    "polyglot_notebook": {
     "kernelName": "fsharp"
    },
    "vscode": {
     "languageId": "polyglot-notebook"
    }
   },
   "outputs": [
    {
     "name": "stdout",
     "output_type": "stream",
     "text": [
      "\"\"NoArgs\"\"\n",
      "\"{\"WithArgs\":[123,\"Hello, world!\"]}\"\n"
     ]
    }
   ],
   "source": [
    "#!fsharp\n",
    "\n",
    "type Example =\n",
    "    | WithArgs of anInt: int * aString: string\n",
    "    | NoArgs\n",
    "\n",
    "(JSerde.Config.Default, NoArgs) ||> JSerde.toJsonString |> printfn \"%A\"\n",
    "\n",
    "(JSerde.Config.Default, WithArgs (123, \"Hello, world!\")) ||> JSerde.toJsonString |> printfn \"%A\"\n"
   ]
  },
  {
   "cell_type": "markdown",
   "metadata": {
    "dotnet_interactive": {
     "language": "csharp"
    },
    "polyglot_notebook": {
     "kernelName": "csharp"
    }
   },
   "source": [
    "[Bryan Wilhite is on LinkedIn](https://www.linkedin.com/in/wilhite)🇺🇸💼\n"
   ]
  }
 ],
 "metadata": {
  "kernelspec": {
   "display_name": ".NET (C#)",
   "language": "C#",
   "name": ".net-csharp"
  },
  "polyglot_notebook": {
   "kernelInfo": {
    "defaultKernelName": "csharp",
    "items": [
     {
      "aliases": [
       "c#",
       "C#"
      ],
      "languageName": "C#",
      "name": "csharp"
     },
     {
      "aliases": [],
      "languageName": null,
      "name": "value"
     },
     {
      "aliases": [
       "frontend"
      ],
      "languageName": null,
      "name": "vscode"
     }
    ]
   }
  }
 },
 "nbformat": 4,
 "nbformat_minor": 2
}
