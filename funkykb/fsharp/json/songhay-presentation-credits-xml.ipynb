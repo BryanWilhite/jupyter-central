{
 "cells": [
  {
   "cell_type": "markdown",
   "metadata": {},
   "source": [
    "# Are all Songhay credits in the `player-audio/` <acronym title=\"JavaScript Object Notation\">JSON</acronym> files well-formed <acronym title=\"Extensible Markup Language\">XML</acronym>?\n",
    "\n",
    "Because these <acronym title=\"JavaScript Object Notation\">JSON</acronym> files came from InfoPath <acronym title=\"Extensible Markup Language\">XML</acronym>, I think the answer is _yes_ which would be great because navigable documents can be generated to extract data from these files for a Songhay Publications future.\n",
    "\n",
    "Let us verify this assertion!"
   ]
  },
  {
   "cell_type": "code",
   "execution_count": 2,
   "metadata": {
    "dotnet_interactive": {
     "language": "fsharp"
    },
    "polyglot_notebook": {
     "kernelName": "fsharp"
    },
    "vscode": {
     "languageId": "polyglot-notebook"
    }
   },
   "outputs": [
    {
     "data": {
      "text/html": [
       "<div><div></div><div></div><div><strong>Installed Packages</strong><ul><li><span>FsToolkit.ErrorHandling, 4.9.0</span></li><li><span>Songhay.Modules, 6.3.7</span></li><li><span>Songhay.Modules.Publications, 6.2.1</span></li></ul></div></div>"
      ]
     },
     "metadata": {},
     "output_type": "display_data"
    }
   ],
   "source": [
    "#!fsharp\n",
    "#r \"nuget: FsToolkit.ErrorHandling\"\n",
    "#r \"nuget: Songhay.Modules\"\n",
    "#r \"nuget: Songhay.Modules.Publications\""
   ]
  },
  {
   "cell_type": "code",
   "execution_count": 16,
   "metadata": {
    "dotnet_interactive": {
     "language": "fsharp"
    },
    "polyglot_notebook": {
     "kernelName": "fsharp"
    },
    "vscode": {
     "languageId": "polyglot-notebook"
    }
   },
   "outputs": [],
   "source": [
    "#!fsharp\n",
    "\n",
    "open System.IO\n",
    "open System.Linq\n",
    "\n",
    "open FsToolkit.ErrorHandling\n",
    "\n",
    "open Songhay.Modules.ProgramFileUtility\n",
    "\n",
    "Formatter.ListExpansionLimit <- 50\n",
    "\n",
    "let home = Environment.GetEnvironmentVariable(\"VSCODE_CWD\")\n",
    "\n",
    "let directories =\n",
    "    result {\n",
    "        let! path = tryGetCombinedPath home \"sourceRoot/azure-storage-accounts/songhaystorage/player-audio/\"\n",
    "\n",
    "        return Directory.EnumerateDirectories(path)\n",
    "    }\n",
    "    |> Result.valueOr raiseProgramFileError\n",
    "    |> List.ofSeq"
   ]
  },
  {
   "cell_type": "code",
   "execution_count": 27,
   "metadata": {
    "dotnet_interactive": {
     "language": "fsharp"
    },
    "polyglot_notebook": {
     "kernelName": "fsharp"
    },
    "vscode": {
     "languageId": "polyglot-notebook"
    }
   },
   "outputs": [
    {
     "name": "stdout",
     "output_type": "stream",
     "text": [
      "angela_davis0, credits\n",
      "angela_davis1, credits\n",
      "arundhati_roy0, credits\n",
      "ashanti_alston0, credits\n",
      "baraka, credits\n",
      "bell_hooks, credits\n",
      "c_xavier, credits\n",
      "chomsky0, credits\n",
      "chris_abani0, credits\n",
      "cornel_west0, credits\n",
      "david_wilhite0, credits\n",
      "default, credits\n",
      "elaine_brown0, credits\n",
      "folasayo0, credits\n",
      "full_logic_reverse0, credits\n",
      "fumi_la-river, credits\n",
      "gerald_horne0, credits\n",
      "gerald_horne1, credits\n",
      "gerald_horne2, credits\n",
      "harold_pinter0, credits\n",
      "hiphoppoetryjam, credits\n",
      "holliday, credits\n",
      "john_marciano0, credits\n",
      "john_taylor_gatto0, credits\n",
      "libradio00, credits\n",
      "libradio01, credits\n",
      "libradio02, credits\n",
      "nabiyah, credits\n",
      "njoki_njehu0, credits\n",
      "rasx_blacktronic, credits\n",
      "rasx_nvisible, credits\n",
      "rasx_sci-fi, credits\n",
      "rasx_ucsb, credits\n",
      "robert_thurman0, credits\n",
      "saulwilliams0, credits\n",
      "shiva, credits\n",
      "steve_connell, credits\n",
      "sufia, credits\n",
      "telepoetics00, credits\n",
      "ward_churchill0, credits\n",
      "william_watkins0, credits\n",
      "wm3, credits\n",
      "zainabu, credits\n"
     ]
    }
   ],
   "source": [
    "open System.Xml.Linq\n",
    "\n",
    "open Songhay.Modules.JsonDocumentUtility\n",
    "open Songhay.Modules.Bolero.LegacyPresentationUtility\n",
    "\n",
    "directories\n",
    "|> List.sort\n",
    "|> List.iter\n",
    "    (\n",
    "        fun root ->\n",
    "            let fileName = root.Split(Path.DirectorySeparatorChar).Last()\n",
    "\n",
    "            match tryGetCombinedPath root $\"{fileName}.json\" with\n",
    "            | Ok path ->\n",
    "                let json = File.ReadAllText(path)\n",
    "                let presentationElementResult = json |> tryGetPresentationElementResult\n",
    "                let html =\n",
    "                    presentationElementResult\n",
    "                    |> tryGetPresentationCreditsResult\n",
    "                    |> toResultFromStringElement (fun el -> el.GetString())\n",
    "                    |> Result.valueOr raise\n",
    "\n",
    "                let xhtml = $\"<credits>{html}</credits>\"\n",
    "                let xDoc = XDocument.Parse(xhtml)\n",
    "\n",
    "                $\"{fileName}, {xDoc.Root.Name}\" |> Console.WriteLine\n",
    "\n",
    "            | _ -> ()\n",
    "    )"
   ]
  }
 ],
 "metadata": {
  "language_info": {
   "name": "python"
  },
  "orig_nbformat": 4
 },
 "nbformat": 4,
 "nbformat_minor": 2
}
