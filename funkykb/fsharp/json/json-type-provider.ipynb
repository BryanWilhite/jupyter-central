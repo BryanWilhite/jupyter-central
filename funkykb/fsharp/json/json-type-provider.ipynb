{
 "cells": [
  {
   "cell_type": "markdown",
   "metadata": {},
   "source": [
    "# `JsonProvider`\n",
    "\n",
    "The introductory JSON parser of F# is in ` FSharp.Data` [[GitHub](https://github.com/fsprojects/FSharp.Data)], the `JsonProvider` [[GitHub](https://github.com/fsprojects/FSharp.Data/blob/main/src/Json/JsonProvider.fs)]:"
   ]
  },
  {
   "cell_type": "code",
   "execution_count": null,
   "metadata": {
    "dotnet_interactive": {
     "language": "fsharp"
    }
   },
   "outputs": [
    {
     "data": {
      "text/html": [
       "<div><div></div><div></div><div><strong>Installed Packages</strong><ul><li><span>FSharp.Data, 4.2.7</span></li></ul></div></div>"
      ]
     },
     "metadata": {},
     "output_type": "display_data"
    }
   ],
   "source": [
    "#!fsharp\n",
    "\n",
    "#r \"nuget: FSharp.Data\""
   ]
  },
  {
   "cell_type": "code",
   "execution_count": null,
   "metadata": {
    "dotnet_interactive": {
     "language": "fsharp"
    }
   },
   "outputs": [],
   "source": [
    "#!fsharp\n",
    "\n",
    "open FSharp.Data\n",
    "\n",
    "type OneProvider = JsonProvider<\"\"\" { \"name\":\"John\", \"age\":94 } \"\"\">\n"
   ]
  },
  {
   "cell_type": "code",
   "execution_count": null,
   "metadata": {
    "dotnet_interactive": {
     "language": "fsharp"
    }
   },
   "outputs": [
    {
     "data": {
      "text/html": [
       "FSharp.Data.Runtime.BaseTypes.JsonDocument"
      ]
     },
     "metadata": {},
     "output_type": "display_data"
    }
   ],
   "source": [
    "#!fsharp\n",
    "\n",
    "let oneDoc = OneProvider.Parse(\"\"\" { \"name\":\"Tomas\", \"age\":4 } \"\"\")\n",
    "\n",
    "oneDoc.GetType()"
   ]
  },
  {
   "cell_type": "markdown",
   "metadata": {},
   "source": [
    "We see that `oneDoc` is of type `JsonDocument` [📖 [docs](https://fsprojects.github.io/FSharp.Data/reference/fsharp-data-runtime-basetypes-jsondocument.html)] _but_ this is different from `System.Text.Json.JsonDocument` [📖 [docs](https://docs.microsoft.com/en-us/dotnet/api/system.text.json.jsondocument?view=net-6.0)]. We can actually “dot into” `oneDoc` to see the JSON properties of our domain data:"
   ]
  },
  {
   "cell_type": "code",
   "execution_count": null,
   "metadata": {
    "dotnet_interactive": {
     "language": "fsharp"
    }
   },
   "outputs": [
    {
     "name": "stdout",
     "output_type": "stream",
     "text": [
      "Tomas\n",
      "4\n"
     ]
    }
   ],
   "source": [
    "#!fsharp\n",
    "\n",
    "oneDoc.Name |> printfn \"%s\"\n",
    "oneDoc.Age |> printfn \"%i\""
   ]
  }
 ],
 "metadata": {
  "kernelspec": {
   "display_name": ".NET (F#)",
   "language": "F#",
   "name": ".net-fsharp"
  },
  "language_info": {
   "file_extension": ".fs",
   "mimetype": "text/x-fsharp",
   "name": "F#",
   "pygments_lexer": "fsharp",
   "version": "5.0"
  },
  "orig_nbformat": 4
 },
 "nbformat": 4,
 "nbformat_minor": 2
}
