{
 "cells": [
  {
   "cell_type": "markdown",
   "metadata": {},
   "source": [
    "# `JsonProvider`\n",
    "\n",
    "The introductory JSON parser of F# is in ` FSharp.Data` [[GitHub](https://github.com/fsprojects/FSharp.Data)], the `JsonProvider` [[GitHub](https://github.com/fsprojects/FSharp.Data/blob/main/src/Json/JsonProvider.fs)]:"
   ]
  },
  {
   "cell_type": "code",
   "execution_count": null,
   "metadata": {
    "dotnet_interactive": {
     "language": "fsharp"
    }
   },
   "outputs": [
    {
     "data": {
      "text/html": [
       "<div><div></div><div></div><div><strong>Installed Packages</strong><ul><li><span>FSharp.Data, 4.2.7</span></li></ul></div></div>"
      ]
     },
     "metadata": {},
     "output_type": "display_data"
    }
   ],
   "source": [
    "#!fsharp\n",
    "\n",
    "#r \"nuget: FSharp.Data\""
   ]
  },
  {
   "cell_type": "code",
   "execution_count": null,
   "metadata": {
    "dotnet_interactive": {
     "language": "fsharp"
    }
   },
   "outputs": [],
   "source": [
    "#!fsharp\n",
    "\n",
    "open FSharp.Data\n",
    "\n",
    "type OneProvider = JsonProvider<\"\"\" { \"name\":\"John\", \"age\":94 } \"\"\">\n"
   ]
  },
  {
   "cell_type": "code",
   "execution_count": null,
   "metadata": {
    "dotnet_interactive": {
     "language": "fsharp"
    }
   },
   "outputs": [
    {
     "data": {
      "text/html": [
       "FSharp.Data.Runtime.BaseTypes.JsonDocument"
      ]
     },
     "metadata": {},
     "output_type": "display_data"
    }
   ],
   "source": [
    "#!fsharp\n",
    "\n",
    "let oneDoc = OneProvider.Parse(\"\"\" { \"name\":\"Tomas\", \"age\":4 } \"\"\")\n",
    "\n",
    "oneDoc.GetType()"
   ]
  },
  {
   "cell_type": "markdown",
   "metadata": {},
   "source": [
    "We see that `oneDoc` is of type `JsonDocument` [📖 [docs](https://fsprojects.github.io/FSharp.Data/reference/fsharp-data-runtime-basetypes-jsondocument.html)] _but_ this is different from `System.Text.Json.JsonDocument` [📖 [docs](https://docs.microsoft.com/en-us/dotnet/api/system.text.json.jsondocument?view=net-6.0)]. We can actually “dot into” `oneDoc` to see the JSON properties of our domain data:"
   ]
  },
  {
   "cell_type": "code",
   "execution_count": null,
   "metadata": {
    "dotnet_interactive": {
     "language": "fsharp"
    }
   },
   "outputs": [
    {
     "name": "stdout",
     "output_type": "stream",
     "text": [
      "Tomas\n",
      "4\n"
     ]
    }
   ],
   "source": [
    "#!fsharp\n",
    "\n",
    "oneDoc.Name |> printfn \"%s\"\n",
    "oneDoc.Age |> printfn \"%i\""
   ]
  },
  {
   "cell_type": "markdown",
   "metadata": {},
   "source": [
    "The code for these properties, `Name` and `Age`, were effectively _generated_ by the F# compiler! This technology is similar to _T4 templates_ [📖 [docs](https://docs.microsoft.com/en-us/visualstudio/modeling/code-generation-and-t4-text-templates?view=vs-2022)] but much more."
   ]
  },
  {
   "cell_type": "markdown",
   "metadata": {},
   "source": [
    "## can `JsonProvider` infer from JSON objects as properties?\n",
    "\n",
    "Can `JsonProvider` work with JSON properties that are objects?"
   ]
  },
  {
   "cell_type": "code",
   "execution_count": null,
   "metadata": {
    "dotnet_interactive": {
     "language": "fsharp"
    }
   },
   "outputs": [],
   "source": [
    "#!fsharp\n",
    "\n",
    "[<Literal>]\n",
    "let SampleJson = \"\"\"\n",
    "    {\n",
    "        \"firstName\": \"John\",\n",
    "        \"lastName\": \"Henry\",\n",
    "        \"address\": {\n",
    "            \"street\": \"One Zuck Zuck Way\",\n",
    "            \"city\": \"Siliconburg\",\n",
    "            \"state\": \"CA\",\n",
    "            \"zip\": 90045\n",
    "        }\n",
    "    }\n",
    "\"\"\"\n",
    "\n",
    "type TwoProvider = JsonProvider<SampleJson>"
   ]
  },
  {
   "cell_type": "markdown",
   "metadata": {},
   "source": [
    "We see that the answer is _yes_!"
   ]
  },
  {
   "cell_type": "code",
   "execution_count": null,
   "metadata": {
    "dotnet_interactive": {
     "language": "fsharp"
    }
   },
   "outputs": [
    {
     "data": {
      "text/html": [
       "FSharp.Data.Runtime.BaseTypes.JsonDocument"
      ]
     },
     "metadata": {},
     "output_type": "display_data"
    }
   ],
   "source": [
    "#!fsharp\n",
    "\n",
    "let twoDoc = TwoProvider.Parse(SampleJson)\n",
    "\n",
    "twoDoc.GetType()"
   ]
  },
  {
   "cell_type": "markdown",
   "metadata": {},
   "source": [
    "We also see that `twoDoc` is the same CLR type as `oneDoc` which is the first hint that working with `JsonProvider` while using types to enforce business rules could be in conflict."
   ]
  },
  {
   "cell_type": "code",
   "execution_count": null,
   "metadata": {
    "dotnet_interactive": {
     "language": "fsharp"
    }
   },
   "outputs": [
    {
     "name": "stdout",
     "output_type": "stream",
     "text": [
      "John\n",
      "Henry\n"
     ]
    }
   ],
   "source": [
    "#!fsharp\n",
    "\n",
    "twoDoc.FirstName |> printfn \"%s\"\n",
    "twoDoc.LastName |> printfn \"%s\""
   ]
  },
  {
   "cell_type": "markdown",
   "metadata": {},
   "source": [
    "We clearly see that `JsonProvider` is automatically camel-casing the properties it is auto-generating. The property `Address` is regarded as just another F# `JsonDocument`:"
   ]
  },
  {
   "cell_type": "code",
   "execution_count": null,
   "metadata": {
    "dotnet_interactive": {
     "language": "fsharp"
    }
   },
   "outputs": [
    {
     "name": "stdout",
     "output_type": "stream",
     "text": [
      "{\n",
      "  \"street\": \"One Zuck Zuck Way\",\n",
      "  \"city\": \"Siliconburg\",\n",
      "  \"state\": \"CA\",\n",
      "  \"zip\": 90045\n",
      "}\n"
     ]
    },
    {
     "data": {
      "text/html": [
       "FSharp.Data.Runtime.BaseTypes.JsonDocument"
      ]
     },
     "metadata": {},
     "output_type": "display_data"
    }
   ],
   "source": [
    "#!fsharp\n",
    "\n",
    "twoDoc.Address |> printfn \"%A\"\n",
    "twoDoc.Address.GetType()"
   ]
  },
  {
   "cell_type": "markdown",
   "metadata": {
    "dotnet_interactive": {
     "language": "fsharp"
    }
   },
   "source": [
    "`JsonProvider` automatically infers an integer type for the `Address.Zip` property:"
   ]
  },
  {
   "cell_type": "code",
   "execution_count": null,
   "metadata": {
    "dotnet_interactive": {
     "language": "fsharp"
    }
   },
   "outputs": [
    {
     "name": "stdout",
     "output_type": "stream",
     "text": [
      "90045\n"
     ]
    },
    {
     "data": {
      "text/html": [
       "<div class=\"dni-plaintext\">True</div>"
      ]
     },
     "metadata": {},
     "output_type": "display_data"
    }
   ],
   "source": [
    "#!fsharp\n",
    "\n",
    "twoDoc.Address.Zip |> printfn \"%i\"\n",
    "twoDoc.Address.Zip.GetType() = typeof<int>"
   ]
  },
  {
   "cell_type": "markdown",
   "metadata": {},
   "source": [
    "Because `Address` is just an F# `JsonDocument`, the `JsonDocument,JsonValue.Properties()` sequence can be piped into `dict`:"
   ]
  },
  {
   "cell_type": "code",
   "execution_count": null,
   "metadata": {
    "dotnet_interactive": {
     "language": "fsharp"
    }
   },
   "outputs": [
    {
     "data": {
      "text/html": [
       "<table><thead><tr><th><i>key</i></th><th><i>type</i></th><th>Item</th><th>_Print</th></tr></thead><tbody><tr><td>street</td><td>FSharp.Data.JsonValue+String</td><td>One Zuck Zuck Way</td><td>&quot;One Zuck Zuck Way&quot;</td></tr><tr><td>city</td><td>FSharp.Data.JsonValue+String</td><td>Siliconburg</td><td>&quot;Siliconburg&quot;</td></tr><tr><td>state</td><td>FSharp.Data.JsonValue+String</td><td>CA</td><td>&quot;CA&quot;</td></tr><tr><td>zip</td><td>FSharp.Data.JsonValue+Number</td><td><div class=\"dni-plaintext\">90045</div></td><td>90045</td></tr></tbody></table>"
      ]
     },
     "metadata": {},
     "output_type": "display_data"
    }
   ],
   "source": [
    "#!fsharp\n",
    "\n",
    "twoDoc.Address.JsonValue.Properties() |> dict"
   ]
  },
  {
   "cell_type": "markdown",
   "metadata": {},
   "source": [
    "Let’s zoom out and see the whole document:"
   ]
  },
  {
   "cell_type": "code",
   "execution_count": null,
   "metadata": {
    "dotnet_interactive": {
     "language": "fsharp"
    }
   },
   "outputs": [
    {
     "data": {
      "text/html": [
       "<table><thead><tr><th><i>key</i></th><th><i>type</i></th><th>Item</th><th>_Print</th><th>properties</th></tr></thead><tbody><tr><td>firstName</td><td>FSharp.Data.JsonValue+String</td><td>John</td><td>&quot;John&quot;</td><td></td></tr><tr><td>lastName</td><td>FSharp.Data.JsonValue+String</td><td>Henry</td><td>&quot;Henry&quot;</td><td></td></tr><tr><td>address</td><td>FSharp.Data.JsonValue+Record</td><td></td><td>{\n",
       "  &quot;street&quot;: &quot;One Zuck Zuck Way&quot;,\n",
       "  &quot;city&quot;: &quot;Siliconburg&quot;,\n",
       "  &quot;state&quot;: &quot;CA&quot;,\n",
       "  &quot;zip&quot;: 90045\n",
       "}</td><td><div class=\"dni-plaintext\">[ ( street, { &quot;One Zuck Zuck Way&quot;: Item: One Zuck Zuck Way, _Print: &quot;One Zuck Zuck Way&quot; } ), ( city, { &quot;Siliconburg&quot;: Item: Siliconburg, _Print: &quot;Siliconburg&quot; } ), ( state, { &quot;CA&quot;: Item: CA, _Print: &quot;CA&quot; } ), ( zip, { 90045: Item: 90045, _Print: 90045 } ) ]</div></td></tr></tbody></table>"
      ]
     },
     "metadata": {},
     "output_type": "display_data"
    }
   ],
   "source": [
    "#!fsharp\n",
    "\n",
    "twoDoc.JsonValue.Properties() |> dict"
   ]
  },
  {
   "cell_type": "markdown",
   "metadata": {},
   "source": [
    "The output above is denoting that the row with key `address` is type `FSharp.Data.JsonValue+Record`. This `+Record` type is, again, not some kind of reference to native F# records. This `+Record` type is part of the `JsonValue` discriminated union [[GitHub](https://github.com/fsprojects/FSharp.Data/blob/main/src/Json/JsonValue.fs#L38)], defined specifically for use with `JsonConverter`."
   ]
  },
  {
   "cell_type": "markdown",
   "metadata": {},
   "source": [
    "## transforming an F# record into a `JsonProvider` `JsonDocument`\n",
    "\n",
    "A [StackOverflow answer](https://stackoverflow.com/a/57054259/22944) leads us along a particular path:"
   ]
  },
  {
   "cell_type": "code",
   "execution_count": null,
   "metadata": {
    "dotnet_interactive": {
     "language": "fsharp"
    }
   },
   "outputs": [
    {
     "data": {
      "text/plain": [
       "{\n",
       "}"
      ]
     },
     "metadata": {},
     "output_type": "display_data"
    }
   ],
   "source": [
    "#!fsharp\n",
    "\n",
    "let jsonRecord = JsonValue.Record [||]\n",
    "jsonRecord.ToString()"
   ]
  },
  {
   "cell_type": "markdown",
   "metadata": {},
   "source": [
    "The binding to `jsonRecord` above defines an empty array, `[||]`, of `(string * JsonValue)` tuples. At the very least, the string output of `jsonRecord` can be used to generate sample JSON for `JsonProvider` initialization."
   ]
  },
  {
   "cell_type": "code",
   "execution_count": null,
   "metadata": {
    "dotnet_interactive": {
     "language": "fsharp"
    }
   },
   "outputs": [
    {
     "data": {
      "text/plain": [
       "{\n",
       "  \"street\": \"One Zuck Zuck Way\",\n",
       "  \"city\": \"Siliconburg\",\n",
       "  \"state\": \"CA\",\n",
       "  \"zip\": 90045\n",
       "}"
      ]
     },
     "metadata": {},
     "output_type": "display_data"
    }
   ],
   "source": [
    "#!fsharp\n",
    "\n",
    "let jsonRecord = JsonValue.Record [|\n",
    "    \"street\", JsonValue.String \"One Zuck Zuck Way\"\n",
    "    \"city\", JsonValue.String \"Siliconburg\"\n",
    "    \"state\", JsonValue.String \"CA\"\n",
    "    \"zip\", JsonValue.Number 90045m\n",
    "|]\n",
    "\n",
    "jsonRecord.ToString()"
   ]
  },
  {
   "cell_type": "markdown",
   "metadata": {},
   "source": [
    "@[BryanWilhite](https://twitter.com/BryanWilhite)\n"
   ]
  }
 ],
 "metadata": {
  "kernelspec": {
   "display_name": ".NET (F#)",
   "language": "F#",
   "name": ".net-fsharp"
  },
  "language_info": {
   "file_extension": ".fs",
   "mimetype": "text/x-fsharp",
   "name": "F#",
   "pygments_lexer": "fsharp",
   "version": "5.0"
  },
  "orig_nbformat": 4
 },
 "nbformat": 4,
 "nbformat_minor": 2
}
