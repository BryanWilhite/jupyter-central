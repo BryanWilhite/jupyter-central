{
 "cells": [
  {
   "attachments": {},
   "cell_type": "markdown",
   "metadata": {},
   "source": [
    "# `System.Text.Json` with F#\n",
    "\n",
    "The most unpopular way to deserialize types in F# is to explicitly express the intent to traverse the document looking for values. My other studies of JSON in F# in [this directory](../json) show the more popular ways to get this done.\n",
    "\n",
    "I am so devoted to expressing explicit traversal that I built [a module of functions](https://github.com/BryanWilhite/Songhay.Modules/blob/853c780e1f4aa278426d924b429f0f45c7950f9a/Songhay.Modules/JsonDocumentUtility.fs) dedicated to this miserable task:"
   ]
  },
  {
   "cell_type": "code",
   "execution_count": 1,
   "metadata": {
    "dotnet_interactive": {
     "language": "fsharp"
    },
    "polyglot_notebook": {
     "kernelName": "fsharp"
    }
   },
   "outputs": [],
   "source": [
    "#!fsharp\n",
    "\n",
    "open System.Linq\n",
    "open System.Text.Json\n",
    "\n",
    "/// <summary>\n",
    "/// Wraps <see cref=\"JsonException\" /> property\n",
    "/// in <see cref=\"Error\" />.\n",
    "/// </summary>\n",
    "/// <param name=\"elementName\">The <see cref=\"JsonElement\" /> name.</param>\n",
    "let resultError (elementName: string) =\n",
    "    Error(JsonException $\"the expected `{elementName}` element is not here.\")\n",
    "\n",
    "/// <summary>\n",
    "/// Tries to return the <see cref=\"JsonElement\" /> property\n",
    "/// of the specified <see cref=\"JsonElement\" /> object.\n",
    "/// </summary>\n",
    "/// <param name=\"elementName\">The <see cref=\"JsonElement\" /> name.</param>\n",
    "/// <param name=\"element\">The <see cref=\"JsonElement\" />.</param>\n",
    "let tryGetProperty (elementName: string) (element: JsonElement) =\n",
    "    match element.TryGetProperty elementName with\n",
    "    | false, _ -> resultError elementName\n",
    "    | true, el -> Ok el"
   ]
  },
  {
   "attachments": {},
   "cell_type": "markdown",
   "metadata": {},
   "source": [
    "## the importance of `tryGetProperty`\n",
    "\n",
    "The `tryGetProperty` function shown above is a functional wrapper around `JsonElement.TryGetProperty` [ 📖[docs](https://docs.microsoft.com/en-us/dotnet/api/system.text.json.jsonelement.trygetproperty?view=net-7.0)], formally expressing that trying to get a “child” property will always return `Result<JsonElement,JsonException>` where the exception is centralized by `resultError`.\n",
    "\n",
    "The following JSON has a single `top` “child” property:"
   ]
  },
  {
   "cell_type": "code",
   "execution_count": 2,
   "metadata": {
    "dotnet_interactive": {
     "language": "fsharp"
    },
    "polyglot_notebook": {
     "kernelName": "fsharp"
    }
   },
   "outputs": [],
   "source": [
    "#!fsharp\n",
    "\n",
    "let jDoc = JsonDocument.Parse(@\"\n",
    "    {\n",
    "        \"\"top\"\": {\n",
    "            \"\"one\"\": \"\"this is first\"\",\n",
    "            \"\"two\"\": \"\"this is second\"\",\n",
    "            \"\"three\"\": {\n",
    "                \"\"p1\"\": \"\"this is three-point-one\"\",\n",
    "                \"\"p2\"\": \"\"this is three-point-two\"\"\n",
    "            }\n",
    "        }\n",
    "    }\n",
    "\")"
   ]
  },
  {
   "attachments": {},
   "cell_type": "markdown",
   "metadata": {},
   "source": [
    "We can enumerate the objects of the `JsonDocument.RootElement` to see this lone property:"
   ]
  },
  {
   "cell_type": "code",
   "execution_count": 3,
   "metadata": {
    "dotnet_interactive": {
     "language": "fsharp"
    },
    "polyglot_notebook": {
     "kernelName": "fsharp"
    }
   },
   "outputs": [
    {
     "data": {
      "text/html": [
       "<table><thead><tr><th><i>index</i></th><th>value</th></tr></thead><tbody><tr><td>0</td><td><details class=\"dni-treeview\"><summary><span class=\"dni-code-hint\"><code>\"top\": {\\n            \"one\": \"this is first\",\\n            \"two\": \"this is second\",\\n            \"three\": {\\n                \"p1\": \"this is three-point-one\",\\n                \"p2\": \"this is three-point-two\"\\n            }\\n        }</code></span></summary><div><table><thead><tr></tr></thead><tbody><tr><td>Value</td><td><details class=\"dni-treeview\"><summary><span class=\"dni-code-hint\"><code>{\n",
       "            &quot;one&quot;: &quot;this is first&quot;,\n",
       "            &quot;two&quot;: &quot;this is second&quot;,\n",
       "            &quot;three&quot;: {\n",
       "                &quot;p1&quot;: &quot;this is three-point-one&quot;,\n",
       "                &quot;p2&quot;: &quot;this is three-point-two&quot;\n",
       "            }\n",
       "        }</code></span></summary><div><table><thead><tr></tr></thead><tbody><tr><td>one</td><td><span>&quot;this is first&quot;</span></td></tr><tr><td>two</td><td><span>&quot;this is second&quot;</span></td></tr><tr><td>three</td><td><details class=\"dni-treeview\"><summary><span class=\"dni-code-hint\"><code>{\n",
       "                &quot;p1&quot;: &quot;this is three-point-one&quot;,\n",
       "                &quot;p2&quot;: &quot;this is three-point-two&quot;\n",
       "            }</code></span></summary><div><table><thead><tr></tr></thead><tbody><tr><td>p1</td><td><span>&quot;this is three-point-one&quot;</span></td></tr><tr><td>p2</td><td><span>&quot;this is three-point-two&quot;</span></td></tr></tbody></table></div></details></td></tr></tbody></table></div></details></td></tr><tr><td>Name</td><td>top</td></tr></tbody></table></div></details></td></tr></tbody></table><style>\r\n",
       ".dni-code-hint {\r\n",
       "    font-style: italic;\r\n",
       "    overflow: hidden;\r\n",
       "    white-space: nowrap;\r\n",
       "}\r\n",
       ".dni-treeview {\r\n",
       "    white-space: nowrap;\r\n",
       "}\r\n",
       ".dni-treeview td {\r\n",
       "    vertical-align: top;\r\n",
       "    text-align: start;\r\n",
       "}\r\n",
       "details.dni-treeview {\r\n",
       "    padding-left: 1em;\r\n",
       "}\r\n",
       "table td {\r\n",
       "    text-align: start;\r\n",
       "}\r\n",
       "table tr { \r\n",
       "    vertical-align: top; \r\n",
       "    margin: 0em 0px;\r\n",
       "}\r\n",
       "table tr td pre \r\n",
       "{ \r\n",
       "    vertical-align: top !important; \r\n",
       "    margin: 0em 0px !important;\r\n",
       "} \r\n",
       "table th {\r\n",
       "    text-align: start;\r\n",
       "}\r\n",
       "</style>"
      ]
     },
     "metadata": {},
     "output_type": "display_data"
    }
   ],
   "source": [
    "#!fsharp\n",
    "\n",
    "jDoc.RootElement.EnumerateObject()"
   ]
  },
  {
   "attachments": {},
   "cell_type": "markdown",
   "metadata": {},
   "source": [
    "The name `RootElement` has been quite confusing for me because I _must_ remember (even on a rainy day) that a JSON root is not an XML root. Every XML document has _one_ root element while (of course) a JSON document can have _multiple_ child elements (or properties) like the following:"
   ]
  },
  {
   "cell_type": "code",
   "execution_count": 4,
   "metadata": {
    "dotnet_interactive": {
     "language": "fsharp"
    },
    "polyglot_notebook": {
     "kernelName": "fsharp"
    }
   },
   "outputs": [],
   "source": [
    "#!fsharp\n",
    "\n",
    "let jDoc = JsonDocument.Parse(@\"\n",
    "    {\n",
    "        \"\"top\"\": {\n",
    "            \"\"one\"\": \"\"this is first\"\",\n",
    "            \"\"two\"\": \"\"this is second\"\",\n",
    "            \"\"three\"\": {\n",
    "                \"\"p1\"\": \"\"this is three-point-one\"\",\n",
    "                \"\"p2\"\": \"\"this is three-point-two\"\"\n",
    "            }\n",
    "        },\n",
    "        \"\"bottom\"\": {\n",
    "            \"\"is-footer\"\": false\n",
    "        }\n",
    "    }\n",
    "\")"
   ]
  },
  {
   "attachments": {},
   "cell_type": "markdown",
   "metadata": {},
   "source": [
    "My `tryGetProperty` function is important because it allows me to, say, traverse `jDoc` to get the children of `three`:"
   ]
  },
  {
   "cell_type": "code",
   "execution_count": 5,
   "metadata": {
    "dotnet_interactive": {
     "language": "fsharp"
    },
    "polyglot_notebook": {
     "kernelName": "fsharp"
    }
   },
   "outputs": [
    {
     "data": {
      "text/html": [
       "<table><thead><tr><th><i>index</i></th><th>value</th></tr></thead><tbody><tr><td>0</td><td><details class=\"dni-treeview\"><summary><span class=\"dni-code-hint\"><code>\"p1\": \"this is three-point-one\"</code></span></summary><div><table><thead><tr></tr></thead><tbody><tr><td>Value</td><td><span>&quot;this is three-point-one&quot;</span></td></tr><tr><td>Name</td><td>p1</td></tr></tbody></table></div></details></td></tr><tr><td>1</td><td><details class=\"dni-treeview\"><summary><span class=\"dni-code-hint\"><code>\"p2\": \"this is three-point-two\"</code></span></summary><div><table><thead><tr></tr></thead><tbody><tr><td>Value</td><td><span>&quot;this is three-point-two&quot;</span></td></tr><tr><td>Name</td><td>p2</td></tr></tbody></table></div></details></td></tr></tbody></table><style>\r\n",
       ".dni-code-hint {\r\n",
       "    font-style: italic;\r\n",
       "    overflow: hidden;\r\n",
       "    white-space: nowrap;\r\n",
       "}\r\n",
       ".dni-treeview {\r\n",
       "    white-space: nowrap;\r\n",
       "}\r\n",
       ".dni-treeview td {\r\n",
       "    vertical-align: top;\r\n",
       "    text-align: start;\r\n",
       "}\r\n",
       "details.dni-treeview {\r\n",
       "    padding-left: 1em;\r\n",
       "}\r\n",
       "table td {\r\n",
       "    text-align: start;\r\n",
       "}\r\n",
       "table tr { \r\n",
       "    vertical-align: top; \r\n",
       "    margin: 0em 0px;\r\n",
       "}\r\n",
       "table tr td pre \r\n",
       "{ \r\n",
       "    vertical-align: top !important; \r\n",
       "    margin: 0em 0px !important;\r\n",
       "} \r\n",
       "table th {\r\n",
       "    text-align: start;\r\n",
       "}\r\n",
       "</style>"
      ]
     },
     "metadata": {},
     "output_type": "display_data"
    }
   ],
   "source": [
    "#!fsharp\n",
    "\n",
    "open System.Linq\n",
    "\n",
    "let result =\n",
    "    jDoc.RootElement\n",
    "    |> tryGetProperty \"top\"\n",
    "    |> Result.bind (tryGetProperty \"three\")\n",
    "    |> Result.map (fun element -> element.EnumerateObject().ToArray())\n",
    "\n",
    "result |> Result.defaultValue [||]"
   ]
  },
  {
   "attachments": {},
   "cell_type": "markdown",
   "metadata": {},
   "source": [
    "## why not just serialize JSON exclusively?\n",
    "\n",
    "As of this writing, I am still attracted to JSON document traversal instead of defining a type and serializing.\n",
    "\n",
    "[Ian Griffiths](https://www.linkedin.com/in/idg10/) supports my investment in two ways—first, is this quote:\n",
    "\n",
    ">You might find this a little less convenient than conventional serialization, in which we define a .NET type whose structure resembles the JSON we expect to see, and then use JsonSerializer.Deserialize to convert the JSON into an instance of that type. But if you're familiar with these APIs (or you've watched and read the video and blogs linked to above) you'll know that the approach shown here places a much lower load on the garbage collector, and that it has the potential to provide much higher throughput in high-performance systems.\n",
    ">\n",
    ">—[Ian Griffiths](https://endjin.com/blog/2024/02/dotnet-jsonelement-parse-errors)\n",
    ">\n",
    "\n",
    "Second, is his ‘up-sell’ to `Corvus.JsonSchema` \\[🔗 [GitHub](https://github.com/corvus-dotnet/Corvus.JsonSchema/#corvusjsonschema) \\]"
   ]
  },
  {
   "attachments": {},
   "cell_type": "markdown",
   "metadata": {},
   "source": [
    "@[BryanWilhite](https://twitter.com/BryanWilhite)\n"
   ]
  }
 ],
 "metadata": {
  "kernelspec": {
   "display_name": ".NET (C#)",
   "language": "C#",
   "name": ".net-csharp"
  },
  "language_info": {
   "name": "polyglot-notebook"
  },
  "polyglot_notebook": {
   "kernelInfo": {
    "defaultKernelName": "csharp",
    "items": [
     {
      "aliases": [],
      "name": ".NET"
     },
     {
      "aliases": [
       "C#",
       "c#"
      ],
      "languageName": "C#",
      "name": "csharp"
     },
     {
      "aliases": [
       "F#",
       "f#"
      ],
      "languageName": "F#",
      "name": "fsharp"
     },
     {
      "aliases": [],
      "languageName": "HTML",
      "name": "html"
     },
     {
      "aliases": [
       "js"
      ],
      "languageName": "JavaScript",
      "name": "javascript"
     },
     {
      "aliases": [],
      "languageName": "KQL",
      "name": "kql"
     },
     {
      "aliases": [],
      "languageName": "Mermaid",
      "name": "mermaid"
     },
     {
      "aliases": [
       "powershell"
      ],
      "languageName": "PowerShell",
      "name": "pwsh"
     },
     {
      "aliases": [],
      "languageName": "SQL",
      "name": "sql"
     },
     {
      "aliases": [],
      "name": "value"
     },
     {
      "aliases": [],
      "name": "webview"
     }
    ]
   }
  }
 },
 "nbformat": 4,
 "nbformat_minor": 2
}
