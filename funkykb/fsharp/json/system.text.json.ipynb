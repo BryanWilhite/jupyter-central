{
 "cells": [
  {
   "attachments": {},
   "cell_type": "markdown",
   "metadata": {
    "dotnet_interactive": {
     "language": "csharp"
    },
    "polyglot_notebook": {
     "kernelName": "csharp"
    }
   },
   "source": [
    "# `System.Text.Json` with F#\n",
    "\n",
    "The most unpopular way to deserialize types in F# is to explicitly express the intent to traverse the document looking for values. My other studies of JSON in F# in [this directory](../json) show the more popular ways to get this done.\n",
    "\n",
    "I am so devoted to expressing explicit traversal that I built [a module of functions](https://github.com/BryanWilhite/Songhay.Modules/blob/853c780e1f4aa278426d924b429f0f45c7950f9a/Songhay.Modules/JsonDocumentUtility.fs) dedicated to this miserable task:"
   ]
  },
  {
   "cell_type": "code",
   "execution_count": 1,
   "metadata": {
    "dotnet_interactive": {
     "language": "fsharp"
    },
    "polyglot_notebook": {
     "kernelName": "fsharp"
    },
    "vscode": {
     "languageId": "polyglot-notebook"
    }
   },
   "outputs": [],
   "source": [
    "#!fsharp\n",
    "\n",
    "open System.Linq\n",
    "open System.Text.Json\n",
    "\n",
    "/// <summary>\n",
    "/// Wraps <see cref=\"JsonException\" /> property\n",
    "/// in <see cref=\"Error\" />.\n",
    "/// </summary>\n",
    "/// <param name=\"elementName\">The <see cref=\"JsonElement\" /> name.</param>\n",
    "let resultError (elementName: string) =\n",
    "    Error(JsonException $\"the expected `{elementName}` element is not here.\")\n",
    "\n",
    "/// <summary>\n",
    "/// Tries to return the <see cref=\"JsonElement\" /> property\n",
    "/// of the specified <see cref=\"JsonElement\" /> object.\n",
    "/// </summary>\n",
    "/// <param name=\"elementName\">The <see cref=\"JsonElement\" /> name.</param>\n",
    "/// <param name=\"element\">The <see cref=\"JsonElement\" />.</param>\n",
    "let tryGetProperty (elementName: string) (element: JsonElement) =\n",
    "    match element.TryGetProperty elementName with\n",
    "    | false, _ -> resultError elementName\n",
    "    | true, el -> Ok el\n",
    "\n",
    "/// <summary>\n",
    "/// Converts the <see cref=\"JsonElement\" />\n",
    "/// to its property name or returns <see cref=\"None\" />.\n",
    "/// </summary>\n",
    "/// <param name=\"element\">The <see cref=\"JsonElement\" />.</param>\n",
    "let toPropertyName (element: JsonElement) =\n",
    "    if element.ValueKind <> JsonValueKind.Object then None\n",
    "    else\n",
    "        try\n",
    "            Some (element.EnumerateObject().First().Name)\n",
    "        with | _ -> None\n"
   ]
  },
  {
   "attachments": {},
   "cell_type": "markdown",
   "metadata": {
    "dotnet_interactive": {
     "language": "csharp"
    },
    "polyglot_notebook": {
     "kernelName": "csharp"
    }
   },
   "source": [
    "## the importance of `tryGetProperty`\n",
    "\n",
    "The `tryGetProperty` function shown above is a functional wrapper around `JsonElement.TryGetProperty` [ 📖[docs](https://docs.microsoft.com/en-us/dotnet/api/system.text.json.jsonelement.trygetproperty?view=net-7.0)], formally expressing that trying to get a “child” child element will always return `Result<JsonElement,JsonException>` where the exception is centralized by `resultError`.\n",
    "\n",
    "For additional safety and rich communication, we can verify that we are traversing the expected document by using the `toPropertyName` function before we even try `tryGetProperty`."
   ]
  },
  {
   "cell_type": "code",
   "execution_count": 2,
   "metadata": {
    "dotnet_interactive": {
     "language": "fsharp"
    },
    "polyglot_notebook": {
     "kernelName": "fsharp"
    },
    "vscode": {
     "languageId": "polyglot-notebook"
    }
   },
   "outputs": [],
   "source": [
    "#!fsharp\n",
    "\n",
    "let jDoc = JsonDocument.Parse(@\"\n",
    "    {\n",
    "        \"\"top\"\": {\n",
    "            \"\"one\"\": \"\"this is first\"\",\n",
    "            \"\"two\"\": \"\"this is second\"\",\n",
    "            \"\"three\"\": {\n",
    "                \"\"p1\"\": \"\"this is three-point-one\"\",\n",
    "                \"\"p2\"\": \"\"this is three-point-two\"\"\n",
    "            }\n",
    "        }\n",
    "    }\n",
    "\")"
   ]
  },
  {
   "attachments": {},
   "cell_type": "markdown",
   "metadata": {
    "dotnet_interactive": {
     "language": "csharp"
    },
    "polyglot_notebook": {
     "kernelName": "csharp"
    }
   },
   "source": [
    "For example, we can verify that the chunk of JSON above has a root element called `top`:"
   ]
  },
  {
   "cell_type": "code",
   "execution_count": 3,
   "metadata": {
    "dotnet_interactive": {
     "language": "fsharp"
    },
    "polyglot_notebook": {
     "kernelName": "fsharp"
    },
    "vscode": {
     "languageId": "polyglot-notebook"
    }
   },
   "outputs": [
    {
     "data": {
      "text/html": [
       "<details open=\"open\" class=\"dni-treeview\"><summary><span class=\"dni-code-hint\"><code>Some(top)</code></span></summary><div><table><thead><tr></tr></thead><tbody><tr><td>Value</td><td>top</td></tr></tbody></table></div></details><style>\r\n",
       ".dni-code-hint {\r\n",
       "    font-style: italic;\r\n",
       "    overflow: hidden;\r\n",
       "    white-space: nowrap;\r\n",
       "}\r\n",
       ".dni-treeview {\r\n",
       "    white-space: nowrap;\r\n",
       "}\r\n",
       ".dni-treeview td {\r\n",
       "    vertical-align: top;\r\n",
       "    text-align: start;\r\n",
       "}\r\n",
       "details.dni-treeview {\r\n",
       "    padding-left: 1em;\r\n",
       "}\r\n",
       "table td {\r\n",
       "    text-align: start;\r\n",
       "}\r\n",
       "table tr { \r\n",
       "    vertical-align: top; \r\n",
       "    margin: 0em 0px;\r\n",
       "}\r\n",
       "table tr td pre \r\n",
       "{ \r\n",
       "    vertical-align: top !important; \r\n",
       "    margin: 0em 0px !important;\r\n",
       "} \r\n",
       "table th {\r\n",
       "    text-align: start;\r\n",
       "}\r\n",
       "</style>"
      ]
     },
     "metadata": {},
     "output_type": "display_data"
    }
   ],
   "source": [
    "#!fsharp\n",
    "\n",
    "jDoc.RootElement |> toPropertyName"
   ]
  },
  {
   "attachments": {},
   "cell_type": "markdown",
   "metadata": {
    "dotnet_interactive": {
     "language": "csharp"
    },
    "polyglot_notebook": {
     "kernelName": "csharp"
    }
   },
   "source": [
    "The result above leads me to assume that `RootElement` _is_ the element `top` and this would make me express the following and not see an error:"
   ]
  },
  {
   "cell_type": "code",
   "execution_count": 4,
   "metadata": {
    "dotnet_interactive": {
     "language": "fsharp"
    },
    "polyglot_notebook": {
     "kernelName": "fsharp"
    },
    "vscode": {
     "languageId": "polyglot-notebook"
    }
   },
   "outputs": [
    {
     "data": {
      "text/html": [
       "<details open=\"open\" class=\"dni-treeview\"><summary><span class=\"dni-code-hint\"><code>Microsoft.FSharp.Core.FSharpResult`2[System.Text.Json.JsonElement,System.Text.Json.JsonException]</code></span></summary><div><table><thead><tr></tr></thead><tbody><tr><td>ResultValue</td><td><details class=\"dni-treeview\"><summary><span class=\"dni-code-hint\"><code></code></span></summary><div><table><thead><tr></tr></thead><tbody><tr><td>ValueKind</td><td><span>Undefined</span></td></tr></tbody></table></div></details></td></tr><tr><td>ErrorValue</td><td><details class=\"dni-treeview\"><summary><span class=\"dni-code-hint\"><code>System.Text.Json.JsonException: the expected `one` element is not here.</code></span></summary><div><table><thead><tr></tr></thead><tbody><tr><td>LineNumber</td><td><div class=\"dni-plaintext\"><pre>&lt;null&gt;</pre></div></td></tr><tr><td>BytePositionInLine</td><td><div class=\"dni-plaintext\"><pre>&lt;null&gt;</pre></div></td></tr><tr><td>Path</td><td><div class=\"dni-plaintext\"><pre>&lt;null&gt;</pre></div></td></tr><tr><td>Message</td><td>the expected `one` element is not here.</td></tr><tr><td>TargetSite</td><td><div class=\"dni-plaintext\"><pre>&lt;null&gt;</pre></div></td></tr><tr><td>Data</td><td><i>(empty)</i></td></tr><tr><td>InnerException</td><td><div class=\"dni-plaintext\"><pre>&lt;null&gt;</pre></div></td></tr><tr><td>HelpLink</td><td><div class=\"dni-plaintext\"><pre>&lt;null&gt;</pre></div></td></tr><tr><td>Source</td><td><div class=\"dni-plaintext\"><pre>&lt;null&gt;</pre></div></td></tr><tr><td>HResult</td><td><div class=\"dni-plaintext\"><pre>-2146233088</pre></div></td></tr><tr><td>StackTrace</td><td><div class=\"dni-plaintext\"><pre>&lt;null&gt;</pre></div></td></tr></tbody></table></div></details></td></tr></tbody></table></div></details><style>\r\n",
       ".dni-code-hint {\r\n",
       "    font-style: italic;\r\n",
       "    overflow: hidden;\r\n",
       "    white-space: nowrap;\r\n",
       "}\r\n",
       ".dni-treeview {\r\n",
       "    white-space: nowrap;\r\n",
       "}\r\n",
       ".dni-treeview td {\r\n",
       "    vertical-align: top;\r\n",
       "    text-align: start;\r\n",
       "}\r\n",
       "details.dni-treeview {\r\n",
       "    padding-left: 1em;\r\n",
       "}\r\n",
       "table td {\r\n",
       "    text-align: start;\r\n",
       "}\r\n",
       "table tr { \r\n",
       "    vertical-align: top; \r\n",
       "    margin: 0em 0px;\r\n",
       "}\r\n",
       "table tr td pre \r\n",
       "{ \r\n",
       "    vertical-align: top !important; \r\n",
       "    margin: 0em 0px !important;\r\n",
       "} \r\n",
       "table th {\r\n",
       "    text-align: start;\r\n",
       "}\r\n",
       "</style>"
      ]
     },
     "metadata": {},
     "output_type": "display_data"
    }
   ],
   "source": [
    "#!fsharp\n",
    "\n",
    "jDoc.RootElement |> tryGetProperty \"one\""
   ]
  },
  {
   "attachments": {},
   "cell_type": "markdown",
   "metadata": {
    "dotnet_interactive": {
     "language": "csharp"
    },
    "polyglot_notebook": {
     "kernelName": "csharp"
    }
   },
   "source": [
    "But the result _is_ an error! However, the following gets the expected result:"
   ]
  },
  {
   "cell_type": "code",
   "execution_count": 5,
   "metadata": {
    "dotnet_interactive": {
     "language": "fsharp"
    },
    "polyglot_notebook": {
     "kernelName": "fsharp"
    },
    "vscode": {
     "languageId": "polyglot-notebook"
    }
   },
   "outputs": [
    {
     "data": {
      "text/html": [
       "<details open=\"open\" class=\"dni-treeview\"><summary><span class=\"dni-code-hint\"><code>Microsoft.FSharp.Core.FSharpResult`2[System.Text.Json.JsonElement,System.Text.Json.JsonException]</code></span></summary><div><table><thead><tr></tr></thead><tbody><tr><td>ResultValue</td><td><span>&quot;this is first&quot;</span></td></tr><tr><td>ErrorValue</td><td><div class=\"dni-plaintext\"><pre>&lt;null&gt;</pre></div></td></tr></tbody></table></div></details><style>\r\n",
       ".dni-code-hint {\r\n",
       "    font-style: italic;\r\n",
       "    overflow: hidden;\r\n",
       "    white-space: nowrap;\r\n",
       "}\r\n",
       ".dni-treeview {\r\n",
       "    white-space: nowrap;\r\n",
       "}\r\n",
       ".dni-treeview td {\r\n",
       "    vertical-align: top;\r\n",
       "    text-align: start;\r\n",
       "}\r\n",
       "details.dni-treeview {\r\n",
       "    padding-left: 1em;\r\n",
       "}\r\n",
       "table td {\r\n",
       "    text-align: start;\r\n",
       "}\r\n",
       "table tr { \r\n",
       "    vertical-align: top; \r\n",
       "    margin: 0em 0px;\r\n",
       "}\r\n",
       "table tr td pre \r\n",
       "{ \r\n",
       "    vertical-align: top !important; \r\n",
       "    margin: 0em 0px !important;\r\n",
       "} \r\n",
       "table th {\r\n",
       "    text-align: start;\r\n",
       "}\r\n",
       "</style>"
      ]
     },
     "metadata": {},
     "output_type": "display_data"
    }
   ],
   "source": [
    "#!fsharp\n",
    "\n",
    "jDoc.RootElement |> tryGetProperty \"top\" |> Result.bind (tryGetProperty \"one\")"
   ]
  },
  {
   "attachments": {},
   "cell_type": "markdown",
   "metadata": {
    "dotnet_interactive": {
     "language": "csharp"
    },
    "polyglot_notebook": {
     "kernelName": "csharp"
    }
   },
   "source": [
    "What is going on here? Before I try to answer the question, let me take a look at the properties of `top.three`:"
   ]
  },
  {
   "cell_type": "code",
   "execution_count": 6,
   "metadata": {
    "dotnet_interactive": {
     "language": "fsharp"
    },
    "polyglot_notebook": {
     "kernelName": "fsharp"
    },
    "vscode": {
     "languageId": "polyglot-notebook"
    }
   },
   "outputs": [
    {
     "data": {
      "text/html": [
       "<table><thead><tr><th><i>index</i></th><th>value</th></tr></thead><tbody><tr><td>0</td><td><details class=\"dni-treeview\"><summary><span class=\"dni-code-hint\"><code>\"p1\": \"this is three-point-one\"</code></span></summary><div><table><thead><tr></tr></thead><tbody><tr><td>Value</td><td><span>&quot;this is three-point-one&quot;</span></td></tr><tr><td>Name</td><td>p1</td></tr></tbody></table></div></details></td></tr><tr><td>1</td><td><details class=\"dni-treeview\"><summary><span class=\"dni-code-hint\"><code>\"p2\": \"this is three-point-two\"</code></span></summary><div><table><thead><tr></tr></thead><tbody><tr><td>Value</td><td><span>&quot;this is three-point-two&quot;</span></td></tr><tr><td>Name</td><td>p2</td></tr></tbody></table></div></details></td></tr></tbody></table><style>\r\n",
       ".dni-code-hint {\r\n",
       "    font-style: italic;\r\n",
       "    overflow: hidden;\r\n",
       "    white-space: nowrap;\r\n",
       "}\r\n",
       ".dni-treeview {\r\n",
       "    white-space: nowrap;\r\n",
       "}\r\n",
       ".dni-treeview td {\r\n",
       "    vertical-align: top;\r\n",
       "    text-align: start;\r\n",
       "}\r\n",
       "details.dni-treeview {\r\n",
       "    padding-left: 1em;\r\n",
       "}\r\n",
       "table td {\r\n",
       "    text-align: start;\r\n",
       "}\r\n",
       "table tr { \r\n",
       "    vertical-align: top; \r\n",
       "    margin: 0em 0px;\r\n",
       "}\r\n",
       "table tr td pre \r\n",
       "{ \r\n",
       "    vertical-align: top !important; \r\n",
       "    margin: 0em 0px !important;\r\n",
       "} \r\n",
       "table th {\r\n",
       "    text-align: start;\r\n",
       "}\r\n",
       "</style>"
      ]
     },
     "metadata": {},
     "output_type": "display_data"
    }
   ],
   "source": [
    "#!fsharp\n",
    "\n",
    "open System.Linq\n",
    "\n",
    "let result =\n",
    "    jDoc.RootElement\n",
    "    |> tryGetProperty \"top\"\n",
    "    |> Result.bind (tryGetProperty \"three\")\n",
    "    |> Result.map (fun element -> element.EnumerateObject().ToArray())\n",
    "\n",
    "result |> Result.defaultValue [||]"
   ]
  },
  {
   "attachments": {},
   "cell_type": "markdown",
   "metadata": {
    "dotnet_interactive": {
     "language": "csharp"
    },
    "polyglot_notebook": {
     "kernelName": "csharp"
    }
   },
   "source": [
    "Notice that `EnumerateObject` [📖 [docs](https://docs.microsoft.com/en-us/dotnet/api/system.text.json.jsonelement.enumerateobject?view=net-7.0)] for `top.three` is listing its children while `RootElement.EnumerateObject` is listing itself:"
   ]
  },
  {
   "cell_type": "code",
   "execution_count": 7,
   "metadata": {
    "dotnet_interactive": {
     "language": "fsharp"
    },
    "polyglot_notebook": {
     "kernelName": "fsharp"
    },
    "vscode": {
     "languageId": "polyglot-notebook"
    }
   },
   "outputs": [
    {
     "data": {
      "text/html": [
       "<table><thead><tr><th><i>index</i></th><th>value</th></tr></thead><tbody><tr><td>0</td><td><details class=\"dni-treeview\"><summary><span class=\"dni-code-hint\"><code>\"top\": {\\n            \"one\": \"this is first\",\\n            \"two\": \"this is second\",\\n            \"three\": {\\n                \"p1\": \"this is three-point-one\",\\n                \"p2\": \"this is three-point-two\"\\n            }\\n        }</code></span></summary><div><table><thead><tr></tr></thead><tbody><tr><td>Value</td><td><details class=\"dni-treeview\"><summary><span class=\"dni-code-hint\"><code>{\n",
       "            &quot;one&quot;: &quot;this is first&quot;,\n",
       "            &quot;two&quot;: &quot;this is second&quot;,\n",
       "            &quot;three&quot;: {\n",
       "                &quot;p1&quot;: &quot;this is three-point-one&quot;,\n",
       "                &quot;p2&quot;: &quot;this is three-point-two&quot;\n",
       "            }\n",
       "        }</code></span></summary><div><table><thead><tr></tr></thead><tbody><tr><td>one</td><td><span>&quot;this is first&quot;</span></td></tr><tr><td>two</td><td><span>&quot;this is second&quot;</span></td></tr><tr><td>three</td><td><details class=\"dni-treeview\"><summary><span class=\"dni-code-hint\"><code>{\n",
       "                &quot;p1&quot;: &quot;this is three-point-one&quot;,\n",
       "                &quot;p2&quot;: &quot;this is three-point-two&quot;\n",
       "            }</code></span></summary><div><table><thead><tr></tr></thead><tbody><tr><td>p1</td><td><span>&quot;this is three-point-one&quot;</span></td></tr><tr><td>p2</td><td><span>&quot;this is three-point-two&quot;</span></td></tr></tbody></table></div></details></td></tr></tbody></table></div></details></td></tr><tr><td>Name</td><td>top</td></tr></tbody></table></div></details></td></tr></tbody></table><style>\r\n",
       ".dni-code-hint {\r\n",
       "    font-style: italic;\r\n",
       "    overflow: hidden;\r\n",
       "    white-space: nowrap;\r\n",
       "}\r\n",
       ".dni-treeview {\r\n",
       "    white-space: nowrap;\r\n",
       "}\r\n",
       ".dni-treeview td {\r\n",
       "    vertical-align: top;\r\n",
       "    text-align: start;\r\n",
       "}\r\n",
       "details.dni-treeview {\r\n",
       "    padding-left: 1em;\r\n",
       "}\r\n",
       "table td {\r\n",
       "    text-align: start;\r\n",
       "}\r\n",
       "table tr { \r\n",
       "    vertical-align: top; \r\n",
       "    margin: 0em 0px;\r\n",
       "}\r\n",
       "table tr td pre \r\n",
       "{ \r\n",
       "    vertical-align: top !important; \r\n",
       "    margin: 0em 0px !important;\r\n",
       "} \r\n",
       "table th {\r\n",
       "    text-align: start;\r\n",
       "}\r\n",
       "</style>"
      ]
     },
     "metadata": {},
     "output_type": "display_data"
    }
   ],
   "source": [
    "#!fsharp\n",
    "\n",
    "jDoc.RootElement.EnumerateObject().ToArray()"
   ]
  },
  {
   "attachments": {},
   "cell_type": "markdown",
   "metadata": {
    "dotnet_interactive": {
     "language": "csharp"
    },
    "polyglot_notebook": {
     "kernelName": "csharp"
    }
   },
   "source": [
    "\n",
    "My `tryGetProperty` function is not taking account of this difference. Now that I see how `EnumerateObject` works _differently_, I can finally see that my `toPropertyName` only works correctly for `top` as it returns `p1` for `top.three`:"
   ]
  },
  {
   "cell_type": "code",
   "execution_count": 8,
   "metadata": {
    "dotnet_interactive": {
     "language": "fsharp"
    },
    "polyglot_notebook": {
     "kernelName": "fsharp"
    },
    "vscode": {
     "languageId": "polyglot-notebook"
    }
   },
   "outputs": [
    {
     "data": {
      "text/html": [
       "<details open=\"open\" class=\"dni-treeview\"><summary><span class=\"dni-code-hint\"><code>Some(p1)</code></span></summary><div><table><thead><tr></tr></thead><tbody><tr><td>Value</td><td>p1</td></tr></tbody></table></div></details><style>\r\n",
       ".dni-code-hint {\r\n",
       "    font-style: italic;\r\n",
       "    overflow: hidden;\r\n",
       "    white-space: nowrap;\r\n",
       "}\r\n",
       ".dni-treeview {\r\n",
       "    white-space: nowrap;\r\n",
       "}\r\n",
       ".dni-treeview td {\r\n",
       "    vertical-align: top;\r\n",
       "    text-align: start;\r\n",
       "}\r\n",
       "details.dni-treeview {\r\n",
       "    padding-left: 1em;\r\n",
       "}\r\n",
       "table td {\r\n",
       "    text-align: start;\r\n",
       "}\r\n",
       "table tr { \r\n",
       "    vertical-align: top; \r\n",
       "    margin: 0em 0px;\r\n",
       "}\r\n",
       "table tr td pre \r\n",
       "{ \r\n",
       "    vertical-align: top !important; \r\n",
       "    margin: 0em 0px !important;\r\n",
       "} \r\n",
       "table th {\r\n",
       "    text-align: start;\r\n",
       "}\r\n",
       "</style>"
      ]
     },
     "metadata": {},
     "output_type": "display_data"
    }
   ],
   "source": [
    "#!fsharp\n",
    "\n",
    "jDoc.RootElement\n",
    "    |> tryGetProperty \"top\"\n",
    "    |> Result.bind (tryGetProperty \"three\")\n",
    "    |> Result.map (fun element -> element |> toPropertyName)\n",
    "    |> Result.defaultValue (Some \"nope.\")"
   ]
  },
  {
   "attachments": {},
   "cell_type": "markdown",
   "metadata": {
    "dotnet_interactive": {
     "language": "csharp"
    },
    "polyglot_notebook": {
     "kernelName": "csharp"
    }
   },
   "source": [
    "When I started writing this notebook, I did not expect to find such devastating bugs 🐛 But here we are."
   ]
  },
  {
   "attachments": {},
   "cell_type": "markdown",
   "metadata": {
    "dotnet_interactive": {
     "language": "csharp"
    },
    "polyglot_notebook": {
     "kernelName": "csharp"
    }
   },
   "source": [
    "## addressing my bugs 🐛\n",
    "\n",
    "In the time-frame before .NET 6, there is no way to determine whether an instance of `JsonElement` is `RootElement` without having a reference to `JsonDocument` hanging around. A [GitHub issue for Microsoft](https://github.com/dotnet/runtime/issues/40452) explicitly proposed that there should be some way to the find the parent of `JsonElement`. This proposal was rejected in favor of celebrating the `System.Text.Json.Nodes.JsonNode` [📖 [docs](https://docs.microsoft.com/en-us/dotnet/api/system.text.json.nodes.jsonnode?view=net-6.0)] released with .NET 6.0.\n",
    "\n",
    "I am going to address my embarrassing bugs by responding to these assertions:\n",
    "\n",
    "1. `toPropertyName` cannot work as intended with `JsonElement`.\n",
    "2. `tryGetProperty` needs to behave differently for a `JsonElement` that is a child of `JsonDocument`.\n",
    "\n",
    "My response to _1_ is to redefine `toPropertyName`, expressing the intent that this function only applies to `JsonDocument`:"
   ]
  },
  {
   "cell_type": "code",
   "execution_count": 9,
   "metadata": {
    "dotnet_interactive": {
     "language": "fsharp"
    },
    "polyglot_notebook": {
     "kernelName": "fsharp"
    },
    "vscode": {
     "languageId": "polyglot-notebook"
    }
   },
   "outputs": [],
   "source": [
    "#!fsharp\n",
    "\n",
    "let toPropertyName (document: JsonDocument) =\n",
    "    if document.RootElement.ValueKind <> JsonValueKind.Object then None\n",
    "    else\n",
    "        try\n",
    "            Some (document.RootElement.EnumerateObject().First().Name)\n",
    "        with | _ -> None\n"
   ]
  },
  {
   "attachments": {},
   "cell_type": "markdown",
   "metadata": {
    "dotnet_interactive": {
     "language": "csharp"
    },
    "polyglot_notebook": {
     "kernelName": "csharp"
    }
   },
   "source": [
    "For _2_, I define a new type, `JsonDocumentOrElement`, to clearly express that this function takes `JsonDocument` or `JsonElement`:"
   ]
  },
  {
   "cell_type": "code",
   "execution_count": 10,
   "metadata": {
    "dotnet_interactive": {
     "language": "fsharp"
    },
    "polyglot_notebook": {
     "kernelName": "fsharp"
    },
    "vscode": {
     "languageId": "polyglot-notebook"
    }
   },
   "outputs": [],
   "source": [
    "#!fsharp\n",
    "\n",
    "type JsonDocumentOrElement =\n",
    "    | JDocument of JsonDocument\n",
    "    | JElement of JsonElement\n",
    "\n",
    "let toJsonElement (documentOrElement: JsonDocumentOrElement) =\n",
    "        match documentOrElement with\n",
    "        | JDocument doc -> doc.RootElement\n",
    "        | JElement el -> el\n",
    "\n",
    "let tryGetProperty (elementName: string) (documentOrElement: JsonDocumentOrElement) =\n",
    "\n",
    "    let tryGet (name: string) (element: JsonElement) =\n",
    "        match element.TryGetProperty name with\n",
    "        | false, _ -> resultError name\n",
    "        | true, el -> Ok (JElement el)\n",
    "\n",
    "    match documentOrElement with\n",
    "    | JElement element -> element |> tryGet elementName\n",
    "    | JDocument document ->\n",
    "        match document |> toPropertyName with\n",
    "        | None _ -> resultError elementName\n",
    "        | Some rootName ->\n",
    "            match document.RootElement.TryGetProperty rootName with\n",
    "            | false, _ -> resultError elementName\n",
    "            | true, el -> el |> tryGet elementName\n"
   ]
  },
  {
   "attachments": {},
   "cell_type": "markdown",
   "metadata": {
    "dotnet_interactive": {
     "language": "csharp"
    },
    "polyglot_notebook": {
     "kernelName": "csharp"
    }
   },
   "source": [
    "This new version of `tryGetProperty` actually contains the old version of the function—the badly-named `tryGet` function. This new version of `tryGetProperty` actually produces the expected result:"
   ]
  },
  {
   "cell_type": "code",
   "execution_count": 11,
   "metadata": {
    "dotnet_interactive": {
     "language": "fsharp"
    },
    "polyglot_notebook": {
     "kernelName": "fsharp"
    },
    "vscode": {
     "languageId": "polyglot-notebook"
    }
   },
   "outputs": [
    {
     "data": {
      "text/html": [
       "<details open=\"open\" class=\"dni-treeview\"><summary><span class=\"dni-code-hint\"><code>Microsoft.FSharp.Core.FSharpResult`2[System.Text.Json.JsonElement,System.Text.Json.JsonException]</code></span></summary><div><table><thead><tr></tr></thead><tbody><tr><td>ResultValue</td><td><span>&quot;this is first&quot;</span></td></tr><tr><td>ErrorValue</td><td><div class=\"dni-plaintext\"><pre>&lt;null&gt;</pre></div></td></tr></tbody></table></div></details><style>\r\n",
       ".dni-code-hint {\r\n",
       "    font-style: italic;\r\n",
       "    overflow: hidden;\r\n",
       "    white-space: nowrap;\r\n",
       "}\r\n",
       ".dni-treeview {\r\n",
       "    white-space: nowrap;\r\n",
       "}\r\n",
       ".dni-treeview td {\r\n",
       "    vertical-align: top;\r\n",
       "    text-align: start;\r\n",
       "}\r\n",
       "details.dni-treeview {\r\n",
       "    padding-left: 1em;\r\n",
       "}\r\n",
       "table td {\r\n",
       "    text-align: start;\r\n",
       "}\r\n",
       "table tr { \r\n",
       "    vertical-align: top; \r\n",
       "    margin: 0em 0px;\r\n",
       "}\r\n",
       "table tr td pre \r\n",
       "{ \r\n",
       "    vertical-align: top !important; \r\n",
       "    margin: 0em 0px !important;\r\n",
       "} \r\n",
       "table th {\r\n",
       "    text-align: start;\r\n",
       "}\r\n",
       "</style>"
      ]
     },
     "metadata": {},
     "output_type": "display_data"
    }
   ],
   "source": [
    "#!fsharp\n",
    "\n",
    "let elementOne = JDocument jDoc |> tryGetProperty \"one\" |> Result.map (toJsonElement)\n",
    "\n",
    "elementOne"
   ]
  },
  {
   "attachments": {},
   "cell_type": "markdown",
   "metadata": {
    "dotnet_interactive": {
     "language": "csharp"
    },
    "polyglot_notebook": {
     "kernelName": "csharp"
    }
   },
   "source": [
    "I _feel_ that I can refine my new, bulky version of `tryGetProperty` by taking advantage of the recursion feature (`rec`) in F#:"
   ]
  },
  {
   "cell_type": "code",
   "execution_count": 12,
   "metadata": {
    "dotnet_interactive": {
     "language": "fsharp"
    },
    "polyglot_notebook": {
     "kernelName": "fsharp"
    },
    "vscode": {
     "languageId": "polyglot-notebook"
    }
   },
   "outputs": [],
   "source": [
    "#!fsharp\n",
    "\n",
    "let rec tryGetProperty (elementName: string) (documentOrElement: JsonDocumentOrElement) =\n",
    "    match documentOrElement with\n",
    "    | JElement element ->\n",
    "        match element.TryGetProperty elementName with\n",
    "        | false, _ -> resultError elementName\n",
    "        | true, el -> Ok (JElement el)\n",
    "    | JDocument document ->\n",
    "        match document |> toPropertyName with\n",
    "        | None _ -> resultError elementName\n",
    "        | Some rootName ->\n",
    "            match document.RootElement.TryGetProperty rootName with\n",
    "            | false, _ -> resultError elementName\n",
    "            | true, el -> JElement el |> tryGetProperty elementName"
   ]
  },
  {
   "cell_type": "code",
   "execution_count": 13,
   "metadata": {
    "dotnet_interactive": {
     "language": "fsharp"
    },
    "polyglot_notebook": {
     "kernelName": "fsharp"
    },
    "vscode": {
     "languageId": "polyglot-notebook"
    }
   },
   "outputs": [
    {
     "data": {
      "text/html": [
       "<details open=\"open\" class=\"dni-treeview\"><summary><span class=\"dni-code-hint\"><code>Microsoft.FSharp.Core.FSharpResult`2[System.Text.Json.JsonElement,System.Text.Json.JsonException]</code></span></summary><div><table><thead><tr></tr></thead><tbody><tr><td>ResultValue</td><td><span>&quot;this is first&quot;</span></td></tr><tr><td>ErrorValue</td><td><div class=\"dni-plaintext\"><pre>&lt;null&gt;</pre></div></td></tr></tbody></table></div></details><style>\r\n",
       ".dni-code-hint {\r\n",
       "    font-style: italic;\r\n",
       "    overflow: hidden;\r\n",
       "    white-space: nowrap;\r\n",
       "}\r\n",
       ".dni-treeview {\r\n",
       "    white-space: nowrap;\r\n",
       "}\r\n",
       ".dni-treeview td {\r\n",
       "    vertical-align: top;\r\n",
       "    text-align: start;\r\n",
       "}\r\n",
       "details.dni-treeview {\r\n",
       "    padding-left: 1em;\r\n",
       "}\r\n",
       "table td {\r\n",
       "    text-align: start;\r\n",
       "}\r\n",
       "table tr { \r\n",
       "    vertical-align: top; \r\n",
       "    margin: 0em 0px;\r\n",
       "}\r\n",
       "table tr td pre \r\n",
       "{ \r\n",
       "    vertical-align: top !important; \r\n",
       "    margin: 0em 0px !important;\r\n",
       "} \r\n",
       "table th {\r\n",
       "    text-align: start;\r\n",
       "}\r\n",
       "</style>"
      ]
     },
     "metadata": {},
     "output_type": "display_data"
    }
   ],
   "source": [
    "#!fsharp\n",
    "\n",
    "let elementOne = JDocument jDoc |> tryGetProperty \"one\" |> Result.map (toJsonElement)\n",
    "\n",
    "elementOne"
   ]
  },
  {
   "attachments": {},
   "cell_type": "markdown",
   "metadata": {
    "dotnet_interactive": {
     "language": "csharp"
    },
    "polyglot_notebook": {
     "kernelName": "csharp"
    }
   },
   "source": [
    "Now I can bask in triumphant misery, traversing the JSON document with expectations met:"
   ]
  },
  {
   "cell_type": "code",
   "execution_count": 14,
   "metadata": {
    "dotnet_interactive": {
     "language": "fsharp"
    },
    "polyglot_notebook": {
     "kernelName": "fsharp"
    },
    "vscode": {
     "languageId": "polyglot-notebook"
    }
   },
   "outputs": [
    {
     "data": {
      "text/html": [
       "<details open=\"open\" class=\"dni-treeview\"><summary><span class=\"dni-code-hint\"><code>Microsoft.FSharp.Core.FSharpResult`2[System.Text.Json.JsonElement,System.Text.Json.JsonException]</code></span></summary><div><table><thead><tr></tr></thead><tbody><tr><td>ResultValue</td><td><span>&quot;this is three-point-one&quot;</span></td></tr><tr><td>ErrorValue</td><td><div class=\"dni-plaintext\"><pre>&lt;null&gt;</pre></div></td></tr></tbody></table></div></details><style>\r\n",
       ".dni-code-hint {\r\n",
       "    font-style: italic;\r\n",
       "    overflow: hidden;\r\n",
       "    white-space: nowrap;\r\n",
       "}\r\n",
       ".dni-treeview {\r\n",
       "    white-space: nowrap;\r\n",
       "}\r\n",
       ".dni-treeview td {\r\n",
       "    vertical-align: top;\r\n",
       "    text-align: start;\r\n",
       "}\r\n",
       "details.dni-treeview {\r\n",
       "    padding-left: 1em;\r\n",
       "}\r\n",
       "table td {\r\n",
       "    text-align: start;\r\n",
       "}\r\n",
       "table tr { \r\n",
       "    vertical-align: top; \r\n",
       "    margin: 0em 0px;\r\n",
       "}\r\n",
       "table tr td pre \r\n",
       "{ \r\n",
       "    vertical-align: top !important; \r\n",
       "    margin: 0em 0px !important;\r\n",
       "} \r\n",
       "table th {\r\n",
       "    text-align: start;\r\n",
       "}\r\n",
       "</style>"
      ]
     },
     "metadata": {},
     "output_type": "display_data"
    }
   ],
   "source": [
    "#!fsharp\n",
    "\n",
    "let elementP1 =\n",
    "    JDocument jDoc\n",
    "    |> tryGetProperty \"three\"\n",
    "    |> Result.bind (tryGetProperty \"p1\")\n",
    "    |> Result.map (toJsonElement)\n",
    "\n",
    "elementP1"
   ]
  },
  {
   "cell_type": "markdown",
   "metadata": {
    "dotnet_interactive": {
     "language": "csharp"
    },
    "polyglot_notebook": {
     "kernelName": "csharp"
    }
   },
   "source": [
    "@[BryanWilhite](https://twitter.com/BryanWilhite)\n"
   ]
  }
 ],
 "metadata": {
  "kernelspec": {
   "display_name": ".NET (C#)",
   "language": "C#",
   "name": ".net-csharp"
  },
  "polyglot_notebook": {
   "kernelInfo": {
    "defaultKernelName": "csharp",
    "items": [
     {
      "aliases": [],
      "name": "csharp"
     }
    ]
   }
  }
 },
 "nbformat": 4,
 "nbformat_minor": 2
}
