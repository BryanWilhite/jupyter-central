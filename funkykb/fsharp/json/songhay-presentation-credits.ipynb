{
 "cells": [
  {
   "attachments": {},
   "cell_type": "markdown",
   "metadata": {},
   "source": [
    "# Songhay Presentation Credits"
   ]
  },
  {
   "cell_type": "code",
   "execution_count": 1,
   "metadata": {
    "dotnet_interactive": {
     "language": "fsharp"
    },
    "polyglot_notebook": {
     "kernelName": "fsharp"
    },
    "vscode": {
     "languageId": "polyglot-notebook"
    }
   },
   "outputs": [
    {
     "data": {
      "text/html": [
       "<div><div></div><div></div><div><strong>Installed Packages</strong><ul><li><span>FsToolkit.ErrorHandling, 4.6.0</span></li></ul></div></div>"
      ]
     },
     "metadata": {},
     "output_type": "display_data"
    }
   ],
   "source": [
    "#!fsharp\n",
    "#r \"nuget: FsToolkit.ErrorHandling\""
   ]
  },
  {
   "cell_type": "code",
   "execution_count": 2,
   "metadata": {
    "dotnet_interactive": {
     "language": "fsharp"
    },
    "polyglot_notebook": {
     "kernelName": "fsharp"
    },
    "vscode": {
     "languageId": "polyglot-notebook"
    }
   },
   "outputs": [
    {
     "data": {
      "text/html": [
       "<div><div></div><div></div><div><strong>Installed Packages</strong><ul><li><span>Songhay.Modules, 6.3.5</span></li></ul></div></div>"
      ]
     },
     "metadata": {},
     "output_type": "display_data"
    }
   ],
   "source": [
    "#!fsharp\n",
    "#r \"nuget: Songhay.Modules\""
   ]
  },
  {
   "cell_type": "code",
   "execution_count": 3,
   "metadata": {
    "dotnet_interactive": {
     "language": "fsharp"
    },
    "polyglot_notebook": {
     "kernelName": "fsharp"
    },
    "vscode": {
     "languageId": "polyglot-notebook"
    }
   },
   "outputs": [
    {
     "data": {
      "text/html": [
       "<div><div></div><div></div><div><strong>Installed Packages</strong><ul><li><span>Songhay.Modules.Publications, 6.2.0</span></li></ul></div></div>"
      ]
     },
     "metadata": {},
     "output_type": "display_data"
    }
   ],
   "source": [
    "#!fsharp\n",
    "#r \"nuget: Songhay.Modules.Publications\""
   ]
  },
  {
   "cell_type": "code",
   "execution_count": 7,
   "metadata": {
    "dotnet_interactive": {
     "language": "fsharp"
    },
    "polyglot_notebook": {
     "kernelName": "fsharp"
    },
    "vscode": {
     "languageId": "polyglot-notebook"
    }
   },
   "outputs": [],
   "source": [
    "#!fsharp\n",
    "\n",
    "open System.IO\n",
    "open System.Linq\n",
    "open System.Collections.Generic\n",
    "open FsToolkit.ErrorHandling\n",
    "open Songhay.Modules.Bolero.LegacyPresentationUtility\n",
    "open Songhay.Modules.JsonDocumentUtility\n",
    "open Songhay.Modules.ProgramFileUtility\n",
    "open Songhay.Modules.Publications\n",
    "\n",
    "let checkPresentationCredits (directories: IEnumerable<string>) =\n",
    "    directories\n",
    "    |> List.ofSeq\n",
    "    |> List.choose\n",
    "        (\n",
    "            fun root ->\n",
    "                let fileName = root.Split(Path.DirectorySeparatorChar).Last()\n",
    "                match tryGetCombinedPath root $\"{fileName}.json\" with\n",
    "                | Ok path ->\n",
    "                    let json = File.ReadAllText(path)\n",
    "                    let presentationElementResult = json |> tryGetPresentationElementResult\n",
    "                    let result =\n",
    "                        presentationElementResult\n",
    "                        |> tryGetPresentationCreditsResult\n",
    "                        |> toResultFromStringElement (fun el -> el.GetString())\n",
    "\n",
    "                    Some (fileName, result |> Result.valueOr raise)\n",
    "                | _ -> None\n",
    "        )"
   ]
  },
  {
   "cell_type": "code",
   "execution_count": 8,
   "metadata": {
    "dotnet_interactive": {
     "language": "fsharp"
    },
    "polyglot_notebook": {
     "kernelName": "fsharp"
    },
    "vscode": {
     "languageId": "polyglot-notebook"
    }
   },
   "outputs": [
    {
     "data": {
      "text/html": [
       "<details open=\"open\" class=\"dni-treeview\"><summary><span class=\"dni-code-hint\"><code>Microsoft.FSharp.Core.FSharpResult`2[Microsoft.FSharp.Collections.FSharpList`1[System.Tuple`2[System.String,System.String]],Songhay.Modules.ProgramFileUtility+ProgramFileError]</code></span></summary><div><table><thead><tr></tr></thead><tbody><tr><td>ResultValue</td><td><table><thead><tr><th><i>index</i></th><th>value</th></tr></thead><tbody><tr><td>0</td><td><details class=\"dni-treeview\"><summary><span class=\"dni-code-hint\"><code>(david_wilhite0, <div>Words, Flow and Sound Production by . . . . . . . <strong>David Wilhite</strong></div><div>Online Audio Post-production by . . . . . . . <strong>Bryan Wilhite</strong></div><div>Interface Design and Programming by . . . . . . . <strong>Bryan Wilhite</strong></div><div> </div>)</code></span></summary><div><table><thead><tr></tr></thead><tbody><tr><td>Item1</td><td>david_wilhite0</td></tr><tr><td>Item2</td><td>&lt;div&gt;Words, Flow and Sound Production by . . . . . . . &lt;strong&gt;David Wilhite&lt;/strong&gt;&lt;/div&gt;&lt;div&gt;Online Audio Post-production&#160;by . . . . . . . &lt;strong&gt;Bryan Wilhite&lt;/strong&gt;&lt;/div&gt;&lt;div&gt;Interface Design and Programming by . . . . . . . &lt;strong&gt;Bryan Wilhite&lt;/strong&gt;&lt;/div&gt;&lt;div&gt;&#160;&lt;/div&gt;</td></tr></tbody></table></div></details></td></tr><tr><td>1</td><td><details class=\"dni-treeview\"><summary><span class=\"dni-code-hint\"><code>(holliday, <div>Words and Flow by . . . . . . . <strong>Nichelle Holliday</strong></div><div>Sound Recordings Produced by . . . . . . . <strong>Nichelle Holliday, Dwight Carroll</strong></div><div>Executive Production by . . . . . . . <strong>Bettye S. Holliday</strong></div><div>Sound Mastering by ...</code></span></summary><div><table><thead><tr></tr></thead><tbody><tr><td>Item1</td><td>holliday</td></tr><tr><td>Item2</td><td>&lt;div&gt;Words and Flow by . . . . . . . &lt;strong&gt;Nichelle Holliday&lt;/strong&gt;&lt;/div&gt;&lt;div&gt;Sound Recordings Produced by . . . . . . . &lt;strong&gt;Nichelle Holliday, Dwight Carroll&lt;/strong&gt;&lt;/div&gt;&lt;div&gt;Executive Production by . . . . . . . &lt;strong&gt;Bettye S. Holliday&lt;/strong&gt;&lt;/div&gt;&lt;div&gt;Sound Mastering by . . . . . . . &lt;strong&gt;Erick Labson, MCA Music Media Studios, North Hollywood, CA&lt;/strong&gt;&lt;/div&gt;&lt;div&gt;Sound Engineering by . . . . . . . &lt;strong&gt;Dwight Carroll, Pandingo Studios, Altadena, CA&lt;/strong&gt;&lt;/div&gt;&lt;div&gt;Photography &amp;amp; Art Direction by . . . . . . . &lt;strong&gt;William Pitts, WPI&lt;/strong&gt;&lt;/div&gt;&lt;div&gt;Interface Design and Programming by . . . . . . . &lt;strong&gt;Bryan Wilhite&lt;/strong&gt;&lt;/div&gt;</td></tr></tbody></table></div></details></td></tr><tr><td>2</td><td><details class=\"dni-treeview\"><summary><span class=\"dni-code-hint\"><code>(steve_connell, <div>Words by . . . . . . . <strong>Steve Connell</strong> </div><div>Flow and Voice Characterizations by . . . . . . . <strong>Steve Connell</strong></div><div>Music Arranged and Performed by . . . . . . . <strong>Zack Mathers and Anita Coats</strong></div><div>Engineered by . . . ....</code></span></summary><div><table><thead><tr></tr></thead><tbody><tr><td>Item1</td><td>steve_connell</td></tr><tr><td>Item2</td><td>&lt;div&gt;Words&#160;by . . . . . . .&#160;&lt;strong&gt;Steve Connell&lt;/strong&gt;&#160;&lt;/div&gt;&lt;div&gt;Flow and Voice Characterizations&#160;by . . . . . . .&#160;&lt;strong&gt;Steve Connell&lt;/strong&gt;&lt;/div&gt;&lt;div&gt;Music&#160;Arranged and Performed&#160;by . . . . . . .&#160;&lt;strong&gt;Zack Mathers and Anita Coats&lt;/strong&gt;&lt;/div&gt;&lt;div&gt;Engineered&#160;by . . . . . . .&#160;&lt;strong&gt;Zack Mathers&lt;/strong&gt;&lt;/div&gt;&lt;div&gt;Mastered&#160;by . . . . . . .&#160;&lt;strong&gt;Robbin E. Broad&lt;/strong&gt;&lt;/div&gt;&lt;div&gt;Interactive and Visual&#160;Design by . . . . . . . &lt;strong&gt;Bryan Wilhite&lt;/strong&gt;&lt;/div&gt;&lt;div&gt;Streaming Audio Engineering&#160;by . . . . . . . &lt;strong&gt;Bryan Wilhite&lt;/strong&gt;&lt;/div&gt;</td></tr></tbody></table></div></details></td></tr><tr><td>3</td><td><details class=\"dni-treeview\"><summary><span class=\"dni-code-hint\"><code>(gerald_horne0, <div>Comments by . . . . . . . <strong>Gerald Horne</strong></div><div>Hosted by . . . . . . . <strong>Norman (Otis) Richmond, CKLN Toronto</strong></div><div>Hosted by . . . . . . . <strong>Omme Rahemtullah, CKLN Toronto</strong></div><div>Hosted by . . . . . . . <strong>Farid Omar,...</code></span></summary><div><table><thead><tr></tr></thead><tbody><tr><td>Item1</td><td>gerald_horne0</td></tr><tr><td>Item2</td><td>&lt;div&gt;Comments&#160;by . . . . . . . &lt;strong&gt;Gerald Horne&lt;/strong&gt;&lt;/div&gt;&lt;div&gt;Hosted&#160;by . . . . . . . &lt;strong&gt;Norman (Otis) Richmond, CKLN Toronto&lt;/strong&gt;&lt;/div&gt;&lt;div&gt;Hosted&#160;by . . . . . . . &lt;strong&gt;Omme Rahemtullah, CKLN Toronto&lt;/strong&gt;&lt;/div&gt;&lt;div&gt;Hosted&#160;by . . . . . . . &lt;strong&gt;Farid Omar, CKLN Toronto&lt;/strong&gt;&lt;/div&gt;&lt;div&gt;Original Recording&#160;by . . . . . . . &lt;strong&gt;Stuart Andrews, CKLN Toronto&lt;/strong&gt;&lt;/div&gt;&lt;div&gt;Original Recording&#160;by . . . . . . . &lt;strong&gt;Ian Brown, CKLN Toronto&lt;/strong&gt;&lt;/div&gt;&lt;div&gt;Original Recording&#160;by . . . . . . . &lt;strong&gt;Jean Hodgkinson, CKLN Toronto&lt;/strong&gt;&lt;/div&gt;&lt;div&gt;Sound&#160;Post Processing&#160;by . . . . . . . &lt;strong&gt;Bryan Wilhite&lt;/strong&gt;&lt;br /&gt;&lt;/div&gt;&lt;div&gt;Interface Design and Programming by . . . . . . . &lt;strong&gt;Bryan Wilhite&lt;/strong&gt;&lt;/div&gt;</td></tr></tbody></table></div></details></td></tr><tr><td>4</td><td><details class=\"dni-treeview\"><summary><span class=\"dni-code-hint\"><code>(folasayo0, <div>Words and Flow by  . . . . . . . <strong>Folasayo Dele-Ogunrinde</strong></div><div><strong /> </div><div>Interface Design and Programming by . . . . . . . <strong>Bryan Wilhite</strong></div><div> </div>)</code></span></summary><div><table><thead><tr></tr></thead><tbody><tr><td>Item1</td><td>folasayo0</td></tr><tr><td>Item2</td><td>&lt;div&gt;Words and Flow by&#160; . . . . . . . &lt;strong&gt;Folasayo Dele-Ogunrinde&lt;/strong&gt;&lt;/div&gt;&lt;div&gt;&lt;strong /&gt;&#160;&lt;/div&gt;&lt;div&gt;Interface Design and Programming by . . . . . . . &lt;strong&gt;Bryan Wilhite&lt;/strong&gt;&lt;/div&gt;&lt;div&gt;&#160;&lt;/div&gt;</td></tr></tbody></table></div></details></td></tr><tr><td>5</td><td><details class=\"dni-treeview\"><summary><span class=\"dni-code-hint\"><code>(chris_abani0, <div>Words and Flow by . . . . . . . <strong>Chris Abani</strong><br />Sound Post-Production by . . . . . . . <font style=\"BACKGROUND-COLOR: #dadada\"><strong>Bryan Wilhite</strong></font></div><div> </div><div>“Ode to Joy” and “Jacob’s Ladder” from the collection <a title=\"Buy this bo...</code></span></summary><div><table><thead><tr></tr></thead><tbody><tr><td>Item1</td><td>chris_abani0</td></tr><tr><td>Item2</td><td>&lt;div&gt;Words and Flow by . . . . . . . &lt;strong&gt;Chris Abani&lt;/strong&gt;&lt;br /&gt;Sound Post-Production by . . . . . . . &lt;font style=&quot;BACKGROUND-COLOR: #dadada&quot;&gt;&lt;strong&gt;Bryan Wilhite&lt;/strong&gt;&lt;/font&gt;&lt;/div&gt;&lt;div&gt;&#160;&lt;/div&gt;&lt;div&gt;“Ode to Joy” and “Jacob’s Ladder” from the collection &lt;a title=&quot;Buy this book at Amazon.com&quot; href=&quot;http://www.amazon.com/exec/obidos/ISBN=0863563228/thekintespacec00A/&quot;&gt;&lt;em&gt;Kalakuta Republic&lt;/em&gt;&lt;/a&gt; at the &lt;a href=&quot;http://poetsonline.blogspot.com/2008/05/2008-geraldine-r-dodge-poetry-festival.html&quot;&gt;2008 Geraldine R. Dodge Poetry Festival&lt;/a&gt; (&lt;a href=&quot;http://www.youtube.com/user/dominican8564u&quot;&gt;dominican8564u&lt;/a&gt;)&lt;/div&gt;&lt;div&gt;&#160;&lt;/div&gt;&lt;div&gt;“Break a Leg” and “Stabat Mater” from the film &lt;a title=&quot;Buy this movie at Amazon.com&quot; href=&quot;http://www.amazon.com/exec/obidos/ASIN/B000A345IU/thekintespacec00A/&quot;&gt;&lt;em&gt;Voices in Wartime&lt;/em&gt;&lt;/a&gt; (&lt;a href=&quot;http://www.youtube.com/user/voicesinwartime&quot;&gt;voicesinwartime&lt;/a&gt;)&lt;/div&gt;&lt;div&gt;&#160;&lt;/div&gt;&lt;div&gt;Reading of “Libation” by Lucille Clifton at his 2008 TED talk (&lt;a href=&quot;http://www.youtube.com/user/TEDtalksDirector&quot;&gt;TEDtalksDirector&lt;/a&gt;)&lt;/div&gt;&lt;div&gt;&#160;&lt;/div&gt;&lt;div&gt;Reading of “&lt;a href=&quot;http://www.english.illinois.edu/MAPS/poets/g_l/komunyakaa/onlinepoems.htm&quot;&gt;Facing It&lt;/a&gt;” by Yusef Komunyakaa at the &lt;a href=&quot;http://poetsonline.blogspot.com/2008/05/2008-geraldine-r-dodge-poetry-festival.html&quot;&gt;2008 Geraldine R. Dodge Poetry Festival&lt;/a&gt; (&lt;a href=&quot;http://www.youtube.com/user/dominican8564u&quot;&gt;dominican8564u&lt;/a&gt;)&lt;/div&gt;</td></tr></tbody></table></div></details></td></tr><tr><td>6</td><td><details class=\"dni-treeview\"><summary><span class=\"dni-code-hint\"><code>(angela_davis1, <div>Original Broadcast by . . . . . . . <strong>KZSC 88.1 FM</strong></div><div>Words and Flow by . . . . . . . <strong>Angela Davis</strong></div><div>ActionScript and PHP  by . . . . . . . <strong>Bryan Wilhite</strong></div><div>CSS, XML and XSLT by . . . . . . . <strong>Bryan Wi...</code></span></summary><div><table><thead><tr></tr></thead><tbody><tr><td>Item1</td><td>angela_davis1</td></tr><tr><td>Item2</td><td>&lt;div&gt;Original Broadcast by&#160;. . . . . . . &lt;strong&gt;KZSC 88.1 FM&lt;/strong&gt;&lt;/div&gt;&lt;div&gt;Words and Flow by . . . . . . . &lt;strong&gt;Angela Davis&lt;/strong&gt;&lt;/div&gt;&lt;div&gt;ActionScript and PHP&#160; by&#160;. . . . . . . &lt;strong&gt;Bryan Wilhite&lt;/strong&gt;&lt;/div&gt;&lt;div&gt;CSS, XML and&#160;XSLT by&#160;. . . . . . . &lt;strong&gt;Bryan Wilhite&lt;/strong&gt;&lt;/div&gt;</td></tr></tbody></table></div></details></td></tr><tr><td>7</td><td><details class=\"dni-treeview\"><summary><span class=\"dni-code-hint\"><code>(angela_davis0, <div>Sound Production by . . . . . . . <strong>David Barsamian</strong></div><div>Production by . . . . . . . <strong>Lemming and AK Press Audio </strong>(akpress.org)</div><div>Interface Design and Programming by . . . . . . . <strong>Bryan Wilhite</strong></div>)</code></span></summary><div><table><thead><tr></tr></thead><tbody><tr><td>Item1</td><td>angela_davis0</td></tr><tr><td>Item2</td><td>&lt;div&gt;Sound Production by . . . . . . . &lt;strong&gt;David Barsamian&lt;/strong&gt;&lt;/div&gt;&lt;div&gt;Production by . . . . . . . &lt;strong&gt;Lemming and AK Press Audio &lt;/strong&gt;(akpress.org)&lt;/div&gt;&lt;div&gt;Interface Design and Programming by . . . . . . . &lt;strong&gt;Bryan Wilhite&lt;/strong&gt;&lt;/div&gt;</td></tr></tbody></table></div></details></td></tr><tr><td>8</td><td><details class=\"dni-treeview\"><summary><span class=\"dni-code-hint\"><code>(bell_hooks, Words and Flow by . . . . . . . <strong>bell hooks</strong><br />Sound Production by . . . . . . . <strong>CKLN 88.1 fm</strong><br /><br />Interface Design and Programming by . . . . . . . <strong>Bryan Wilhite</strong>)</code></span></summary><div><table><thead><tr></tr></thead><tbody><tr><td>Item1</td><td>bell_hooks</td></tr><tr><td>Item2</td><td>Words and Flow by . . . . . . . &lt;strong&gt;bell hooks&lt;/strong&gt;&lt;br /&gt;Sound Production by . . . . . . . &lt;strong&gt;CKLN 88.1 fm&lt;/strong&gt;&lt;br /&gt;&lt;br /&gt;Interface Design and Programming by . . . . . . . &lt;strong&gt;Bryan Wilhite&lt;/strong&gt;</td></tr></tbody></table></div></details></td></tr><tr><td>9</td><td><details class=\"dni-treeview\"><summary><span class=\"dni-code-hint\"><code>(libradio00, Words and Flow by . . . . . . . <strong>Queen Mother N‘Ast</strong><br />Words and Flow by . . . . . . . <strong>Dr. Jacob Carruthers</strong><br />Sound Production by . . . . . . . <strong><a href=\"http://www.7mac.com/\">LIBRadio Network</a></strong><br />Interface Design and Programmin...</code></span></summary><div><table><thead><tr></tr></thead><tbody><tr><td>Item1</td><td>libradio00</td></tr><tr><td>Item2</td><td>Words and Flow by . . . . . . . &lt;strong&gt;Queen Mother N‘Ast&lt;/strong&gt;&lt;br /&gt;Words and Flow by . . . . . . . &lt;strong&gt;Dr. Jacob Carruthers&lt;/strong&gt;&lt;br /&gt;Sound Production by . . . . . . . &lt;strong&gt;&lt;a href=&quot;http://www.7mac.com/&quot;&gt;LIBRadio Network&lt;/a&gt;&lt;/strong&gt;&lt;br /&gt;Interface Design and Programming by . . . . . . . &lt;strong&gt;Bryan Wilhite&lt;/strong&gt;</td></tr></tbody></table></div></details></td></tr><tr><td>10</td><td><details class=\"dni-treeview\"><summary><span class=\"dni-code-hint\"><code>(telepoetics00, <div>Words and Flow by . . . . . . . <strong>Merilene Murphy &amp; Totem</strong></div><div>Original Sound Recording by . . . . . . . <strong>Totem, Santa Cruz</strong></div><div>Produced by . . . . . . . <strong>Tazuo Aaron Yamaguchi and Telepoetics</strong></div><div>Interface Desi...</code></span></summary><div><table><thead><tr></tr></thead><tbody><tr><td>Item1</td><td>telepoetics00</td></tr><tr><td>Item2</td><td>&lt;div&gt;Words and Flow by . . . . . . . &lt;strong&gt;Merilene Murphy &amp;amp; Totem&lt;/strong&gt;&lt;/div&gt;&lt;div&gt;Original Sound Recording&#160;by . . . . . . . &lt;strong&gt;Totem, Santa Cruz&lt;/strong&gt;&lt;/div&gt;&lt;div&gt;Produced&#160;by . . . . . . . &lt;strong&gt;Tazuo Aaron Yamaguchi and Telepoetics&lt;/strong&gt;&lt;/div&gt;&lt;div&gt;Interface Design and Programming by . . . . . . . &lt;strong&gt;Bryan Wilhite&lt;/strong&gt;&lt;/div&gt;</td></tr></tbody></table></div></details></td></tr><tr><td>11</td><td><details class=\"dni-treeview\"><summary><span class=\"dni-code-hint\"><code>(rasx_sci-fi, <div>Original Audio Production by . . . . . . . <strong>???</strong></div><div>Streaming Audio Production by . . . . . . . <strong>Bryan Wilhite</strong></div><div>Interface Design and Programming by . . . . . . . <strong>Bryan Wilhite</strong></div><div> </div>)</code></span></summary><div><table><thead><tr></tr></thead><tbody><tr><td>Item1</td><td>rasx_sci-fi</td></tr><tr><td>Item2</td><td>&lt;div&gt;Original Audio Production&#160;by . . . . . . . &lt;strong&gt;???&lt;/strong&gt;&lt;/div&gt;&lt;div&gt;Streaming Audio Production&#160;by . . . . . . . &lt;strong&gt;Bryan Wilhite&lt;/strong&gt;&lt;/div&gt;&lt;div&gt;Interface Design and Programming by . . . . . . . &lt;strong&gt;Bryan Wilhite&lt;/strong&gt;&lt;/div&gt;&lt;div&gt;&#160;&lt;/div&gt;</td></tr></tbody></table></div></details></td></tr><tr><td>12</td><td><details class=\"dni-treeview\"><summary><span class=\"dni-code-hint\"><code>(harold_pinter0, <div>Words and Flow by . . . . . . . <strong>Harold Pinter</strong><br />Audio Production by . . . . . . . <strong>Maria Gilardin</strong></div><div> </div><div>Interactive and Visual Design by . . . . . . . <strong>Bryan Wilhite</strong></div><div>Streaming Audio Engineering by . ....</code></span></summary><div><table><thead><tr></tr></thead><tbody><tr><td>Item1</td><td>harold_pinter0</td></tr><tr><td>Item2</td><td>&lt;div&gt;Words and Flow by . . . . . . . &lt;strong&gt;Harold Pinter&lt;/strong&gt;&lt;br /&gt;Audio Production by . . . . . . . &lt;strong&gt;Maria Gilardin&lt;/strong&gt;&lt;/div&gt;&lt;div&gt;&#160;&lt;/div&gt;&lt;div&gt;Interactive and Visual Design by . . . . . . . &lt;strong&gt;Bryan Wilhite&lt;/strong&gt;&lt;/div&gt;&lt;div&gt;Streaming Audio Engineering by . . . . . . . &lt;strong&gt;Bryan Wilhite&lt;/strong&gt;&#160;&lt;/div&gt;</td></tr></tbody></table></div></details></td></tr><tr><td>13</td><td><details class=\"dni-treeview\"><summary><span class=\"dni-code-hint\"><code>(ward_churchill0, <div>Production by . . . . . . . Maria Gilardin of <a href=\"http://www.tucradio.org/\">tucradio.org</a><br />Online Audio Post-production by . . . . . . . <strong>Bryan Wilhite</strong><br />Interface Design and Programming by . . . . . . . <strong>Bryan Wilhite</strong></div>)</code></span></summary><div><table><thead><tr></tr></thead><tbody><tr><td>Item1</td><td>ward_churchill0</td></tr><tr><td>Item2</td><td>&lt;div&gt;Production by . . . . . . . Maria Gilardin of &lt;a href=&quot;http://www.tucradio.org/&quot;&gt;tucradio.org&lt;/a&gt;&lt;br /&gt;Online Audio Post-production by . . . . . . . &lt;strong&gt;Bryan Wilhite&lt;/strong&gt;&lt;br /&gt;Interface Design and Programming by . . . . . . . &lt;strong&gt;Bryan Wilhite&lt;/strong&gt;&lt;/div&gt;</td></tr></tbody></table></div></details></td></tr><tr><td>14</td><td><details class=\"dni-treeview\"><summary><span class=\"dni-code-hint\"><code>(default, <div>Audio Tracks by . . . . . . . <strong>Mikey Dread</strong></div><div>ActionScript and PHP  by . . . . . . . <strong>Bryan Wilhite</strong></div><div>CSS, XML and XSLT by . . . . . . . <strong>Bryan Wilhite</strong></div>)</code></span></summary><div><table><thead><tr></tr></thead><tbody><tr><td>Item1</td><td>default</td></tr><tr><td>Item2</td><td>&lt;div&gt;Audio Tracks by&#160;. . . . . . . &lt;strong&gt;Mikey Dread&lt;/strong&gt;&lt;/div&gt;&lt;div&gt;ActionScript and PHP&#160; by&#160;. . . . . . . &lt;strong&gt;Bryan Wilhite&lt;/strong&gt;&lt;/div&gt;&lt;div&gt;CSS, XML and&#160;XSLT by&#160;. . . . . . . &lt;strong&gt;Bryan Wilhite&lt;/strong&gt;&lt;/div&gt;</td></tr></tbody></table></div></details></td></tr><tr><td>15</td><td><details class=\"dni-treeview\"><summary><span class=\"dni-code-hint\"><code>(arundhati_roy0, <div>Words and Flow by . . . . . . . <strong>Arundhati Roy</strong> and <strong>David Barsamian</strong><br />Sound Production by . . . . . . . <font style=\"BACKGROUND-COLOR: #dadada\"><strong>Jonathan Lawson</strong></font></div><div><br />Interface Design and Programming by . . . ....</code></span></summary><div><table><thead><tr></tr></thead><tbody><tr><td>Item1</td><td>arundhati_roy0</td></tr><tr><td>Item2</td><td>&lt;div&gt;Words and Flow by . . . . . . . &lt;strong&gt;Arundhati Roy&lt;/strong&gt; and &lt;strong&gt;David Barsamian&lt;/strong&gt;&lt;br /&gt;Sound Production by . . . . . . . &lt;font style=&quot;BACKGROUND-COLOR: #dadada&quot;&gt;&lt;strong&gt;Jonathan Lawson&lt;/strong&gt;&lt;/font&gt;&lt;/div&gt;&lt;div&gt;&lt;br /&gt;Interface Design and Programming by . . . . . . . &lt;strong&gt;Bryan Wilhite&lt;/strong&gt;&lt;/div&gt;&lt;div&gt;&#160;&lt;/div&gt;</td></tr></tbody></table></div></details></td></tr><tr><td>16</td><td><details class=\"dni-treeview\"><summary><span class=\"dni-code-hint\"><code>(gerald_horne1, <div>Words and Flow by . . . . . . . <strong>Gerald Horne</strong></div><div>Original Audio Production by . . . . . . . <strong>Mimi Rosenberg and Ken Nash (<a href=\"mailto:knash@igc.org\">knash@igc.org</a>)</strong></div><div>Post Production and Sound Design by . . . . . . . <strong>...</code></span></summary><div><table><thead><tr></tr></thead><tbody><tr><td>Item1</td><td>gerald_horne1</td></tr><tr><td>Item2</td><td>&lt;div&gt;Words and Flow by . . . . . . . &lt;strong&gt;Gerald Horne&lt;/strong&gt;&lt;/div&gt;&lt;div&gt;Original Audio&#160;Production by . . . . . . . &lt;strong&gt;Mimi Rosenberg and Ken Nash (&lt;a href=&quot;mailto:knash@igc.org&quot;&gt;knash@igc.org&lt;/a&gt;)&lt;/strong&gt;&lt;/div&gt;&lt;div&gt;Post Production&#160;and Sound Design by . . . . . . . &lt;strong&gt;Bryan Wilhite&lt;/strong&gt;&lt;/div&gt;&lt;div&gt;Interactive and Visual&#160;Design by . . . . . . . &lt;strong&gt;Bryan Wilhite&lt;/strong&gt;&lt;/div&gt;</td></tr></tbody></table></div></details></td></tr><tr><td>17</td><td><details class=\"dni-treeview\"><summary><span class=\"dni-code-hint\"><code>(c_xavier, <div>Guitar, vocals, composition . . . . . . . <strong>Cassendre Xavier</strong></div><div>Composer: “Four Women” . . . . . . . <strong>Nina Simone</strong></div><div>Composer: “Thrill is Gone” . . . . . . . <strong>Darnell Hawkins</strong></div><div>Composers: “Will You Love Me Tomorrow?...</code></span></summary><div><table><thead><tr></tr></thead><tbody><tr><td>Item1</td><td>c_xavier</td></tr><tr><td>Item2</td><td>&lt;div&gt;Guitar, vocals, composition&#160;. . . . . . . &lt;strong&gt;Cassendre Xavier&lt;/strong&gt;&lt;/div&gt;&lt;div&gt;Composer: “Four Women”&#160;. . . . . . . &lt;strong&gt;Nina Simone&lt;/strong&gt;&lt;/div&gt;&lt;div&gt;Composer: “Thrill is Gone”&#160;. . . . . . . &lt;strong&gt;Darnell Hawkins&lt;/strong&gt;&lt;/div&gt;&lt;div&gt;Composers: “Will You Love Me Tomorrow?”&#160;. . . . . . . &lt;strong&gt;Gerry Goffin/Carole King&lt;/strong&gt;&lt;/div&gt;&lt;div&gt;Composers: “Love Is a Battlefield”&#160;. . . . . . . &lt;strong&gt;Mike Chapman/Holly Knight&lt;/strong&gt;&lt;/div&gt;&lt;div&gt;Sound Engineer, &lt;em&gt;The Whittenberg Sessions&lt;/em&gt; . . . . . . . &lt;strong&gt;Rodney Whittenberg&lt;/strong&gt;&lt;/div&gt;&lt;div&gt;Sound Engineer,&#160;&lt;em&gt;Live at Caf&#233; Improv&lt;/em&gt; . . . . . . . &lt;strong&gt;Thomas Florek&lt;/strong&gt;&lt;/div&gt;&lt;div&gt;Interactive and Visual&#160;Design by . . . . . . . &lt;strong&gt;Bryan Wilhite&lt;/strong&gt;&lt;/div&gt;</td></tr></tbody></table></div></details></td></tr><tr><td>18</td><td><details class=\"dni-treeview\"><summary><span class=\"dni-code-hint\"><code>(gerald_horne2, <div>Words and Flow by . . . . . . . <strong>Gerald Horne and Haroon Siddiqui</strong></div><div>Original Audio Production by . . . . . . . <strong>CKLN (Stuart Andrews, Ian Brown Jean Hodgkinson)</strong></div><div>Post Production and Sound Design by . . . . . . . <strong>Bryan Wilh...</code></span></summary><div><table><thead><tr></tr></thead><tbody><tr><td>Item1</td><td>gerald_horne2</td></tr><tr><td>Item2</td><td>&lt;div&gt;Words and Flow by . . . . . . . &lt;strong&gt;Gerald Horne and&#160;Haroon Siddiqui&lt;/strong&gt;&lt;/div&gt;&lt;div&gt;Original Audio&#160;Production by . . . . . . . &lt;strong&gt;CKLN (Stuart Andrews, Ian Brown Jean Hodgkinson)&lt;/strong&gt;&lt;/div&gt;&lt;div&gt;Post Production&#160;and Sound Design by . . . . . . . &lt;strong&gt;Bryan Wilhite&lt;/strong&gt;&lt;/div&gt;&lt;div&gt;Interactive and Visual&#160;Design by . . . . . . . &lt;strong&gt;Bryan Wilhite&lt;/strong&gt;&lt;/div&gt;</td></tr></tbody></table></div></details></td></tr><tr><td>19</td><td><details class=\"dni-treeview\"><summary><span class=\"dni-code-hint\"><code>(fumi_la-river, <div>Written and Produced by . . . . . . . <strong>Fumilayo Bankole</strong></div><div>Audio Engineer/Sound Design . . . . . . . <strong>Philip Rohr</strong></div><div>Bass, Flute, Percussion . . . . . . . <strong>Leah Luna</strong></div><div>Drums  . . . . . . . <strong>Chester Whit...</code></span></summary><div><table><thead><tr></tr></thead><tbody><tr><td>Item1</td><td>fumi_la-river</td></tr><tr><td>Item2</td><td>&lt;div&gt;Written and Produced by . . . . . . .&#160;&lt;strong&gt;Fumilayo Bankole&lt;/strong&gt;&lt;/div&gt;&lt;div&gt;Audio Engineer/Sound Design&#160;. . . . . . . &lt;strong&gt;Philip Rohr&lt;/strong&gt;&lt;/div&gt;&lt;div&gt;Bass, Flute, Percussion . . . . . . . &lt;strong&gt;Leah Luna&lt;/strong&gt;&lt;/div&gt;&lt;div&gt;Drums&#160; . . . . . . . &lt;strong&gt;Chester Whitmore&lt;/strong&gt;&lt;/div&gt;&lt;div&gt;&lt;strong /&gt;&#160;&lt;/div&gt;&lt;div&gt;Online Audio Post-production&#160;by . . . . . . . &lt;strong&gt;Bryan Wilhite&lt;/strong&gt;&lt;/div&gt;&lt;div&gt;Interface Design and Programming by . . . . . . . &lt;strong&gt;Bryan Wilhite&lt;/strong&gt;&lt;/div&gt;&lt;div&gt;&#160;&lt;/div&gt;</td></tr></tbody></table></div></details></td></tr><tr><td colspan=\"2\"><i>... (more)</i></td></tr></tbody></table></td></tr><tr><td>ErrorValue</td><td><div class=\"dni-plaintext\"><pre>&lt;null&gt;</pre></div></td></tr></tbody></table></div></details><style>\r\n",
       ".dni-code-hint {\r\n",
       "    font-style: italic;\r\n",
       "    overflow: hidden;\r\n",
       "    white-space: nowrap;\r\n",
       "}\r\n",
       ".dni-treeview {\r\n",
       "    white-space: nowrap;\r\n",
       "}\r\n",
       ".dni-treeview td {\r\n",
       "    vertical-align: top;\r\n",
       "    text-align: start;\r\n",
       "}\r\n",
       "details.dni-treeview {\r\n",
       "    padding-left: 1em;\r\n",
       "}\r\n",
       "table td {\r\n",
       "    text-align: start;\r\n",
       "}\r\n",
       "table tr { \r\n",
       "    vertical-align: top; \r\n",
       "    margin: 0em 0px;\r\n",
       "}\r\n",
       "table tr td pre \r\n",
       "{ \r\n",
       "    vertical-align: top !important; \r\n",
       "    margin: 0em 0px !important;\r\n",
       "} \r\n",
       "table th {\r\n",
       "    text-align: start;\r\n",
       "}\r\n",
       "</style>"
      ]
     },
     "metadata": {},
     "output_type": "display_data"
    }
   ],
   "source": [
    "#!fsharp\n",
    "\n",
    "let home = Environment.GetEnvironmentVariable(\"VSCODE_CWD\")\n",
    "\n",
    "let pathResult = tryGetCombinedPath home \"sourceRoot/azure-storage-accounts/songhaystorage/player-audio/\"\n",
    "\n",
    "pathResult\n",
    "|> Result.map (fun path -> Directory.EnumerateDirectories(path) |> checkPresentationCredits)\n"
   ]
  }
 ],
 "metadata": {
  "language_info": {
   "name": "python"
  },
  "orig_nbformat": 4
 },
 "nbformat": 4,
 "nbformat_minor": 2
}
