{
 "cells": [
  {
   "cell_type": "markdown",
   "metadata": {},
   "source": [
    "# `FSharp.SystemTextJson` by Loïc Denuzière\n",
    "\n",
    "[Loïc Denuzière](https://twitter.com/Tarmil_) is the author of [Bolero](https://fsbolero.io/), F# in WebAssembly. He is also the author of `FSharp.SystemTextJson` [[GitHub](https://github.com/Tarmil/FSharp.SystemTextJson)] which is used in Bolero.\n",
    "\n",
    "[My study](https://github.com/BryanWilhite/jupyter-central/blob/master/funkykb/fsharp/json/json-type-provider.ipynb) of `JsonProvider` in the `FSharp.Data` project, spearheaded by [Don Syme](https://github.com/dsyme) himself, helps me understand why Loïc Denuzière would rather use `FSharp.SystemTextJson` instead. Loïc, like me, wants to convert JSON directly into F# records—even F# tuples and discriminated unions. This functionality is not available in `JsonProvider`—and it is not because of an oversight.\n",
    "\n",
    "Loïc Denuzière points out that `FSharp.SystemTextJson` [performance is not the greatest](https://github.com/Tarmil/FSharp.SystemTextJson/pull/11). Loïc is trading performance and allocation pressure for general-purpose operations on JSON and plain-old F# types. With `JsonProvider`, Don is trading plain-old F# types, scalability, automation and terseness for friendly ease of use and auto-magic, code-generation on steroids."
   ]
  },
  {
   "cell_type": "code",
   "execution_count": null,
   "metadata": {
    "dotnet_interactive": {
     "language": "fsharp"
    }
   },
   "outputs": [
    {
     "data": {
      "text/html": [
       "<div><div></div><div></div><div><strong>Installed Packages</strong><ul><li><span>FSharp.SystemTextJson, 0.17.4</span></li></ul></div></div>"
      ]
     },
     "metadata": {},
     "output_type": "display_data"
    }
   ],
   "source": [
    "#!fsharp\n",
    "\n",
    "#r \"nuget: FSharp.SystemTextJson\""
   ]
  },
  {
   "cell_type": "markdown",
   "metadata": {},
   "source": [
    "## using `JsonFSharpConverter` with `System.Text.Json`\n",
    "\n",
    "Using `JsonFSharpConverter` in `FSharp.SystemTextJson` with `System.Text.Json` [is recommended](https://github.com/Tarmil/FSharp.SystemTextJson/blob/master/docs/Using.md#using-directly):"
   ]
  },
  {
   "cell_type": "code",
   "execution_count": null,
   "metadata": {
    "dotnet_interactive": {
     "language": "fsharp"
    }
   },
   "outputs": [
    {
     "data": {
      "text/plain": [
       "{\"x\":\"Hello\",\"y\":\"world!\"}"
      ]
     },
     "metadata": {},
     "output_type": "display_data"
    }
   ],
   "source": [
    "#!fsharp\n",
    "\n",
    "open System.Text.Json\n",
    "open System.Text.Json.Serialization\n",
    "\n",
    "let options = JsonSerializerOptions()\n",
    "options.Converters.Add(JsonFSharpConverter())\n",
    "\n",
    "JsonSerializer.Serialize({| x = \"Hello\"; y = \"world!\" |}, options)"
   ]
  },
  {
   "cell_type": "markdown",
   "metadata": {},
   "source": [
    ">Tuples and struct tuples are serialized as JSON arrays.\n",
    ">\n",
    ">—[Loïc Denuzière](https://github.com/Tarmil/FSharp.SystemTextJson/blob/master/docs/Format.md#tuples-and-struct-tuples)"
   ]
  },
  {
   "cell_type": "code",
   "execution_count": null,
   "metadata": {
    "dotnet_interactive": {
     "language": "fsharp"
    }
   },
   "outputs": [
    {
     "data": {
      "text/plain": [
       "[1,\"abc\"]"
      ]
     },
     "metadata": {},
     "output_type": "display_data"
    }
   ],
   "source": [
    "#!fsharp\n",
    "\n",
    "JsonSerializer.Serialize((1, \"abc\"), options)"
   ]
  },
  {
   "cell_type": "code",
   "execution_count": null,
   "metadata": {
    "dotnet_interactive": {
     "language": "fsharp"
    }
   },
   "outputs": [
    {
     "data": {
      "text/plain": [
       "[1,\"abc\"]"
      ]
     },
     "metadata": {},
     "output_type": "display_data"
    }
   ],
   "source": [
    "#!fsharp\n",
    "\n",
    "JsonSerializer.Serialize(struct (1, \"abc\"), options)"
   ]
  },
  {
   "cell_type": "markdown",
   "metadata": {},
   "source": [
    ">By default, unions are serialized similarly to the Json.NET library [[GitHub](https://github.com/JamesNK/Newtonsoft.Json)]. A union value is serialized into a JSON object with the following fields:\n",
    ">\n",
    ">- A field `\"Case\"` whose value is a string representing the name of the union case\n",
    ">- If the case has fields, a field `\"Fields\"` whose value is an array\n",
    ">\n",
    ">—[Loïc Denuzière](https://github.com/Tarmil/FSharp.SystemTextJson/blob/master/docs/Format.md#unions-and-struct-unions)"
   ]
  },
  {
   "cell_type": "code",
   "execution_count": null,
   "metadata": {
    "dotnet_interactive": {
     "language": "fsharp"
    }
   },
   "outputs": [
    {
     "name": "stdout",
     "output_type": "stream",
     "text": [
      "\"{\"Case\":\"NoArgs\"}\"\n",
      "\"{\"Case\":\"WithArgs\",\"Fields\":[123,\"Hello, world!\"]}\"\n"
     ]
    }
   ],
   "source": [
    "#!fsharp\n",
    "\n",
    "type Example =\n",
    "    | WithArgs of anInt: int * aString: string\n",
    "    | NoArgs\n",
    "\n",
    "JsonSerializer.Serialize(NoArgs, options) |> printfn \"%A\"\n",
    "\n",
    "JsonSerializer.Serialize(WithArgs (123, \"Hello, world!\"), options) |> printfn \"%A\"\n"
   ]
  },
  {
   "cell_type": "markdown",
   "metadata": {},
   "source": [
    "@[BryanWilhite](https://twitter.com/BryanWilhite)\n"
   ]
  }
 ],
 "metadata": {
  "kernelspec": {
   "display_name": ".NET (C#)",
   "language": "C#",
   "name": ".net-csharp"
  },
  "language_info": {
   "file_extension": ".cs",
   "mimetype": "text/x-csharp",
   "name": "C#",
   "pygments_lexer": "csharp",
   "version": "9.0"
  },
  "orig_nbformat": 4
 },
 "nbformat": 4,
 "nbformat_minor": 2
}
