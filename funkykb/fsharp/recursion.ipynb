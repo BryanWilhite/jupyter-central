{
 "cells": [
  {
   "cell_type": "markdown",
   "metadata": {},
   "source": [
    "# recursion in F#\n",
    "\n",
    "The [Microsoft documentation](https://docs.microsoft.com/en-us/dotnet/fsharp/language-reference/functions/recursive-functions-the-rec-keyword) on the `rec` keyword begins with the F# rendition of the naïve Fibonacci algorithm:"
   ]
  },
  {
   "cell_type": "code",
   "execution_count": null,
   "metadata": {
    "dotnet_interactive": {
     "language": "fsharp"
    }
   },
   "outputs": [
    {
     "name": "stdout",
     "output_type": "stream",
     "text": [
      "before: n: 0\n",
      "after: n: 0\n",
      "before: n: 1\n",
      "after: n: 1\n",
      "before: n: 2\n",
      "before: n: 1\n",
      "after: n: 1\n",
      "before: n: 0\n",
      "after: n: 0\n",
      "after: n: 2\n",
      "before: n: 3\n",
      "before: n: 2\n",
      "before: n: 1\n",
      "after: n: 1\n",
      "before: n: 0\n",
      "after: n: 0\n",
      "after: n: 2\n",
      "before: n: 1\n",
      "after: n: 1\n",
      "after: n: 3\n",
      "before: n: 4\n",
      "before: n: 3\n",
      "before: n: 2\n",
      "before: n: 1\n",
      "after: n: 1\n",
      "before: n: 0\n",
      "after: n: 0\n",
      "after: n: 2\n",
      "before: n: 1\n",
      "after: n: 1\n",
      "after: n: 3\n",
      "before: n: 2\n",
      "before: n: 1\n",
      "after: n: 1\n",
      "before: n: 0\n",
      "after: n: 0\n",
      "after: n: 2\n",
      "after: n: 4\n"
     ]
    }
   ],
   "source": [
    "#!fsharp\n",
    "\n",
    "let rec fib n =\n",
    "    printfn $\"before: {nameof n}: {n}\"\n",
    "    let result =\n",
    "        match n with\n",
    "        | 0 | 1 -> n // base case\n",
    "        | n -> fib (n-1) + fib (n-2) // recursive case: this tail-call is augementing\n",
    "    printfn $\"after: {nameof n}: {n}\"\n",
    "    result\n",
    "\n",
    "[0..4] |> List.map fib |> ignore"
   ]
  },
  {
   "cell_type": "markdown",
   "metadata": {},
   "source": [
    "Notice that the naïve version takes over 5 seconds to print out the iterations over just _five_ numbers! Also notice that the `after:` numbers above are _repeated_. Microsoft chimes in:\n",
    "\n",
    ">In practice, code like the previous sample is not ideal because it unecessarily recomputes values that have already been computed. This is because it is not tail recursive…"
   ]
  },
  {
   "cell_type": "markdown",
   "metadata": {},
   "source": [
    "## tail recursion\n",
    "\n",
    "Tail recursion [[StackExchange](https://cs.stackexchange.com/a/7814)] “prevents unnecessary recomputations”:"
   ]
  },
  {
   "cell_type": "code",
   "execution_count": null,
   "metadata": {
    "dotnet_interactive": {
     "language": "fsharp"
    }
   },
   "outputs": [
    {
     "name": "stdout",
     "output_type": "stream",
     "text": [
      "before: n: 0\n",
      "after: n: 0\n",
      "before: n: 1\n",
      "after: n: 1\n",
      "before: n: 2\n",
      "after: n: 2\n",
      "before: n: 3\n",
      "after: n: 3\n",
      "before: n: 4\n",
      "after: n: 4\n",
      "before: n: 5\n",
      "after: n: 5\n",
      "before: n: 6\n",
      "after: n: 6\n",
      "before: n: 7\n",
      "after: n: 7\n",
      "before: n: 8\n",
      "after: n: 8\n"
     ]
    },
    {
     "data": {
      "text/html": [
       "<table><thead><tr><th><i>index</i></th><th>value</th></tr></thead><tbody><tr><td>0</td><td><div class=\"dni-plaintext\">0</div></td></tr><tr><td>1</td><td><div class=\"dni-plaintext\">1</div></td></tr><tr><td>2</td><td><div class=\"dni-plaintext\">1</div></td></tr><tr><td>3</td><td><div class=\"dni-plaintext\">2</div></td></tr><tr><td>4</td><td><div class=\"dni-plaintext\">3</div></td></tr><tr><td>5</td><td><div class=\"dni-plaintext\">5</div></td></tr><tr><td>6</td><td><div class=\"dni-plaintext\">8</div></td></tr><tr><td>7</td><td><div class=\"dni-plaintext\">13</div></td></tr><tr><td>8</td><td><div class=\"dni-plaintext\">21</div></td></tr></tbody></table>"
      ]
     },
     "metadata": {},
     "output_type": "display_data"
    }
   ],
   "source": [
    "#!fsharp\n",
    "\n",
    "let fib n =\n",
    "    printfn $\"before: {nameof n}: {n}\"\n",
    "\n",
    "    let rec loop acc1 acc2 n =\n",
    "        match n with\n",
    "        | 0 -> acc1\n",
    "        | 1 -> acc2\n",
    "        | _ -> loop acc2 (acc1 + acc2) (n - 1) // tail recursion\n",
    "\n",
    "    printfn $\"after: {nameof n}: {n}\"\n",
    "\n",
    "    loop 0 1 n\n",
    "\n",
    "[0..8] |> List.map fib"
   ]
  },
  {
   "cell_type": "markdown",
   "metadata": {},
   "source": [
    "We see that the inner function `loop` calls itself on its last line (hence, _tail_ recursive). What is difficult to understand is how memoization (or accumulation) is handled by the elegant arrangement between `acc1` and `acc2`."
   ]
  },
  {
   "cell_type": "markdown",
   "metadata": {},
   "source": [
    "## memoization with a mutable dictionary\n",
    "\n",
    "We can avoid the FP elegance above for the sake of understanding by sneaking in the CLR `Dictionary<K,V>` into F#:"
   ]
  },
  {
   "cell_type": "code",
   "execution_count": null,
   "metadata": {
    "dotnet_interactive": {
     "language": "fsharp"
    }
   },
   "outputs": [
    {
     "name": "stdout",
     "output_type": "stream",
     "text": [
      "before: n: 0\n",
      "after: n: 0\n",
      "before: n: 1\n",
      "after: n: 1\n",
      "before: n: 2\n",
      "after: n: 2\n",
      "before: n: 3\n",
      "after: n: 3\n",
      "before: n: 4\n",
      "after: n: 4\n",
      "before: n: 5\n",
      "after: n: 5\n",
      "before: n: 6\n",
      "after: n: 6\n",
      "before: n: 7\n",
      "after: n: 7\n",
      "before: n: 8\n",
      "after: n: 8\n"
     ]
    },
    {
     "data": {
      "text/html": [
       "<table><thead><tr><th><i>index</i></th><th>value</th></tr></thead><tbody><tr><td>0</td><td><div class=\"dni-plaintext\">0</div></td></tr><tr><td>1</td><td><div class=\"dni-plaintext\">1</div></td></tr><tr><td>2</td><td><div class=\"dni-plaintext\">1</div></td></tr><tr><td>3</td><td><div class=\"dni-plaintext\">2</div></td></tr><tr><td>4</td><td><div class=\"dni-plaintext\">4</div></td></tr><tr><td>5</td><td><div class=\"dni-plaintext\">8</div></td></tr><tr><td>6</td><td><div class=\"dni-plaintext\">16</div></td></tr><tr><td>7</td><td><div class=\"dni-plaintext\">32</div></td></tr><tr><td>8</td><td><div class=\"dni-plaintext\">64</div></td></tr></tbody></table>"
      ]
     },
     "metadata": {},
     "output_type": "display_data"
    }
   ],
   "source": [
    "#!fsharp\n",
    "\n",
    "open System.Collections.Generic\n",
    "open System.Linq\n",
    "\n",
    "let fib n =\n",
    "\n",
    "    let cache = new Dictionary<int, int>()\n",
    "\n",
    "    //mutate cache:\n",
    "    cache.Add(0, 0)\n",
    "    cache.Add(1, 1)\n",
    "    cache.Add(2, 1)\n",
    "\n",
    "    printfn $\"before: {nameof n}: {n}\"\n",
    "\n",
    "    let rec loop n =\n",
    "        if cache.Keys.Contains(n) then cache[n]\n",
    "        else\n",
    "            let v = loop(n - 1) + loop(n - 1)\n",
    "            cache.Add(n, v) //mutate cache again\n",
    "            v\n",
    "\n",
    "    printfn $\"after: {nameof n}: {n}\"\n",
    "\n",
    "    loop n\n",
    "\n",
    "[0..8] |> List.map fib"
   ]
  },
  {
   "cell_type": "markdown",
   "metadata": {},
   "source": [
    "[Bryan Wilhite is on LinkedIn](https://www.linkedin.com/in/wilhite)🇺🇸💼\n"
   ]
  }
 ],
 "metadata": {
  "kernelspec": {
   "display_name": ".NET (C#)",
   "language": "C#",
   "name": ".net-csharp"
  },
  "language_info": {
   "file_extension": ".cs",
   "mimetype": "text/x-csharp",
   "name": "C#",
   "pygments_lexer": "csharp",
   "version": "9.0"
  },
  "orig_nbformat": 4
 },
 "nbformat": 4,
 "nbformat_minor": 2
}
