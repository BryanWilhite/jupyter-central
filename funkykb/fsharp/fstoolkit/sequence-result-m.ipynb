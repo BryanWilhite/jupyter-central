{
 "cells": [
  {
   "attachments": {},
   "cell_type": "markdown",
   "metadata": {},
   "source": [
    "# my pathetic `List.sequenceResultM` trick\n",
    "\n",
    "The reasoning—yes, _reasoning_—behind my use of `List.sequenceResultM` [📖 [docs](https://demystifyfp.gitbook.io/fstoolkit-errorhandling/list/sequenceresultm)] is because I really did not understand the monadic purpose for Computation Expressions. The first clue for me was the _M_ in `List.sequenceResultM` from `FsToolkit.ErrorHandling`. To save time by not reading this, take a look at the [Fleece](https://github.com/fsprojects/Fleece) project as Fleece addresses the issues brought up here but is only subset of `FsToolkit.ErrorHandling`.\n",
    "\n",
    "Given a list of `Result<_,_>`, `List.sequenceResultM` would return the first `Result<_,_>.Error`. This list of results can be a the `OK` values of the properties of some type. I understood that I could use `FsToolkit.ErrorHandling` to check all of these values before attempting to return an `OK` instance of this type."
   ]
  },
  {
   "cell_type": "code",
   "execution_count": 1,
   "metadata": {
    "dotnet_interactive": {
     "language": "fsharp"
    },
    "polyglot_notebook": {
     "kernelName": "fsharp"
    },
    "vscode": {
     "languageId": "polyglot-notebook"
    }
   },
   "outputs": [
    {
     "data": {
      "text/html": [
       "<div><div></div><div></div><div><strong>Installed Packages</strong><ul><li><span>FsToolkit.ErrorHandling, 4.6.0</span></li></ul></div></div>"
      ]
     },
     "metadata": {},
     "output_type": "display_data"
    }
   ],
   "source": [
    "#!fsharp\n",
    "\n",
    "#r \"nuget:FsToolkit.ErrorHandling\"\n",
    "\n",
    "open System.Text.Json\n",
    "\n",
    "open FsToolkit.ErrorHandling\n",
    "open FsToolkit.ErrorHandling.Operator.Result"
   ]
  },
  {
   "attachments": {},
   "cell_type": "markdown",
   "metadata": {},
   "source": [
    "## my JSON-result functions\n",
    "\n",
    "The list of results desired would come from the values stored in JSON. Like an animal, I prefer to traverse my JSON input with functions like the ones below:"
   ]
  },
  {
   "cell_type": "code",
   "execution_count": 2,
   "metadata": {
    "dotnet_interactive": {
     "language": "fsharp"
    },
    "polyglot_notebook": {
     "kernelName": "fsharp"
    },
    "vscode": {
     "languageId": "polyglot-notebook"
    }
   },
   "outputs": [],
   "source": [
    "#!fsharp\n",
    "\n",
    "let resultError (elementName: string) =\n",
    "    Error <| JsonException $\"the expected `{elementName}` element is not here.\"\n",
    "\n",
    "let toResultFromJsonElement (isKind: JsonValueKind -> bool) doOk (result: Result<JsonElement,JsonException>) =\n",
    "    match result with\n",
    "    | Error ex -> Error ex\n",
    "    | Ok el when el.ValueKind |> isKind -> el |> doOk |> Ok\n",
    "    | Ok el -> Error <| JsonException($\"The expected {nameof(JsonValueKind)} is not here: {el.ValueKind}\")\n",
    "\n",
    "let toResultFromBooleanElement doOk (result: Result<JsonElement,JsonException>) =\n",
    "    toResultFromJsonElement (fun kind -> kind = JsonValueKind.True || kind = JsonValueKind.False) doOk result\n",
    "\n",
    "let toResultFromNumericElement doOk (result: Result<JsonElement,JsonException>) =\n",
    "    toResultFromJsonElement (fun kind -> kind = JsonValueKind.Number) doOk result\n",
    "\n",
    "let toResultFromStringElement doOk (result: Result<JsonElement,JsonException>) =\n",
    "    toResultFromJsonElement (fun kind -> kind = JsonValueKind.String) doOk result\n",
    "\n",
    "let tryGetProperty (elementName: string) (element: JsonElement) =\n",
    "    if element.ValueKind <> JsonValueKind.Object then\n",
    "        resultError elementName\n",
    "    else\n",
    "        match element.TryGetProperty elementName with\n",
    "        | false, _ -> resultError elementName\n",
    "        | true, el -> Ok el\n",
    "\n",
    "let tryGetRootElement (rawDocument: string) =\n",
    "        try\n",
    "            let document = rawDocument |> JsonDocument.Parse\n",
    "            Ok document.RootElement\n",
    "        with | exn -> Error <| JsonException(exn.Message, exn)"
   ]
  },
  {
   "attachments": {},
   "cell_type": "markdown",
   "metadata": {},
   "source": [
    "The functions above are based on the one in my dedicated utility, `JsonDocumentUtility` [[GitHub](https://github.com/BryanWilhite/Songhay.Modules/blob/main/Songhay.Modules/JsonDocumentUtility.fs)]."
   ]
  },
  {
   "attachments": {},
   "cell_type": "markdown",
   "metadata": {},
   "source": [
    "## the JSON input\n",
    "\n",
    "With the functions above we can obtain the `rootElementResult` below:"
   ]
  },
  {
   "cell_type": "code",
   "execution_count": 3,
   "metadata": {
    "dotnet_interactive": {
     "language": "fsharp"
    },
    "polyglot_notebook": {
     "kernelName": "fsharp"
    },
    "vscode": {
     "languageId": "polyglot-notebook"
    }
   },
   "outputs": [
    {
     "data": {
      "text/html": [
       "<details open=\"open\" class=\"dni-treeview\"><summary><span class=\"dni-code-hint\"><code>Microsoft.FSharp.Core.FSharpResult`2[System.Text.Json.JsonElement,System.Text.Json.JsonException]</code></span></summary><div><table><thead><tr></tr></thead><tbody><tr><td>ResultValue</td><td><details class=\"dni-treeview\"><summary><span class=\"dni-code-hint\"><code>{\n",
       "            &quot;one&quot;: 1,\n",
       "            &quot;two&quot;: true,\n",
       "            &quot;three&quot;: &quot;is third&quot;,\n",
       "            &quot;four&quot; : {\n",
       "                &quot;forty-one&quot;: 41\n",
       "            }\n",
       "        }</code></span></summary><div><table><thead><tr></tr></thead><tbody><tr><td>one</td><td><span><div class=\"dni-plaintext\"><pre>1</pre></div></span></td></tr><tr><td>two</td><td><span>true</span></td></tr><tr><td>three</td><td><span>&quot;is third&quot;</span></td></tr><tr><td>four</td><td><details class=\"dni-treeview\"><summary><span class=\"dni-code-hint\"><code>{\n",
       "                &quot;forty-one&quot;: 41\n",
       "            }</code></span></summary><div><table><thead><tr></tr></thead><tbody><tr><td>forty-one</td><td><span><div class=\"dni-plaintext\"><pre>41</pre></div></span></td></tr></tbody></table></div></details></td></tr></tbody></table></div></details></td></tr><tr><td>ErrorValue</td><td><div class=\"dni-plaintext\"><pre>&lt;null&gt;</pre></div></td></tr></tbody></table></div></details><style>\r\n",
       ".dni-code-hint {\r\n",
       "    font-style: italic;\r\n",
       "    overflow: hidden;\r\n",
       "    white-space: nowrap;\r\n",
       "}\r\n",
       ".dni-treeview {\r\n",
       "    white-space: nowrap;\r\n",
       "}\r\n",
       ".dni-treeview td {\r\n",
       "    vertical-align: top;\r\n",
       "    text-align: start;\r\n",
       "}\r\n",
       "details.dni-treeview {\r\n",
       "    padding-left: 1em;\r\n",
       "}\r\n",
       "table td {\r\n",
       "    text-align: start;\r\n",
       "}\r\n",
       "table tr { \r\n",
       "    vertical-align: top; \r\n",
       "    margin: 0em 0px;\r\n",
       "}\r\n",
       "table tr td pre \r\n",
       "{ \r\n",
       "    vertical-align: top !important; \r\n",
       "    margin: 0em 0px !important;\r\n",
       "} \r\n",
       "table th {\r\n",
       "    text-align: start;\r\n",
       "}\r\n",
       "</style>"
      ]
     },
     "metadata": {},
     "output_type": "display_data"
    }
   ],
   "source": [
    "#!fsharp\n",
    "\n",
    "let rootElementResult =\n",
    "    @\"\n",
    "        {\n",
    "            \"\"one\"\": 1,\n",
    "            \"\"two\"\": true,\n",
    "            \"\"three\"\": \"\"is third\"\",\n",
    "            \"\"four\"\" : {\n",
    "                \"\"forty-one\"\": 41\n",
    "            }\n",
    "        }\n",
    "    \"\n",
    "    |> tryGetRootElement\n",
    "\n",
    "rootElementResult"
   ]
  },
  {
   "attachments": {},
   "cell_type": "markdown",
   "metadata": {},
   "source": [
    "# the pathetic way to be `OK`\n",
    "\n",
    "Before I knew about the `result` Computation Expression in `FsToolkit.ErrorHandling`, I would try to get a domain type like this:"
   ]
  },
  {
   "cell_type": "code",
   "execution_count": 4,
   "metadata": {
    "dotnet_interactive": {
     "language": "fsharp"
    },
    "polyglot_notebook": {
     "kernelName": "fsharp"
    },
    "vscode": {
     "languageId": "polyglot-notebook"
    }
   },
   "outputs": [
    {
     "data": {
      "text/html": [
       "<details open=\"open\" class=\"dni-treeview\"><summary><span class=\"dni-code-hint\"><code>Microsoft.FSharp.Core.FSharpResult`2[<>f__AnonymousType4017644820`4[System.Int32,System.Int32,System.String,System.Boolean],System.Text.Json.JsonException]</code></span></summary><div><table><thead><tr></tr></thead><tbody><tr><td>ResultValue</td><td><details class=\"dni-treeview\"><summary><span class=\"dni-code-hint\"><code>{ fortyOne = 41\\n  one = 1\\n  three = \"is third\"\\n  two = true }</code></span></summary><div><table><thead><tr></tr></thead><tbody><tr><td>fortyOne</td><td><div class=\"dni-plaintext\"><pre>41</pre></div></td></tr><tr><td>one</td><td><div class=\"dni-plaintext\"><pre>1</pre></div></td></tr><tr><td>three</td><td>is third</td></tr><tr><td>two</td><td><div class=\"dni-plaintext\"><pre>True</pre></div></td></tr></tbody></table></div></details></td></tr><tr><td>ErrorValue</td><td><div class=\"dni-plaintext\"><pre>&lt;null&gt;</pre></div></td></tr></tbody></table></div></details><style>\r\n",
       ".dni-code-hint {\r\n",
       "    font-style: italic;\r\n",
       "    overflow: hidden;\r\n",
       "    white-space: nowrap;\r\n",
       "}\r\n",
       ".dni-treeview {\r\n",
       "    white-space: nowrap;\r\n",
       "}\r\n",
       ".dni-treeview td {\r\n",
       "    vertical-align: top;\r\n",
       "    text-align: start;\r\n",
       "}\r\n",
       "details.dni-treeview {\r\n",
       "    padding-left: 1em;\r\n",
       "}\r\n",
       "table td {\r\n",
       "    text-align: start;\r\n",
       "}\r\n",
       "table tr { \r\n",
       "    vertical-align: top; \r\n",
       "    margin: 0em 0px;\r\n",
       "}\r\n",
       "table tr td pre \r\n",
       "{ \r\n",
       "    vertical-align: top !important; \r\n",
       "    margin: 0em 0px !important;\r\n",
       "} \r\n",
       "table th {\r\n",
       "    text-align: start;\r\n",
       "}\r\n",
       "</style>"
      ]
     },
     "metadata": {},
     "output_type": "display_data"
    }
   ],
   "source": [
    "#!fsharp\n",
    "\n",
    "let oneResult = rootElementResult |> Result.bind (tryGetProperty \"one\")\n",
    "let twoResult = rootElementResult |> Result.bind (tryGetProperty \"two\")\n",
    "let threeResult = rootElementResult |> Result.bind (tryGetProperty \"three\")\n",
    "let fortyOneResult =\n",
    "    rootElementResult\n",
    "    |> Result.bind (tryGetProperty \"four\")\n",
    "    |> Result.bind (tryGetProperty \"forty-one\")\n",
    "\n",
    "[\n",
    "    oneResult\n",
    "    twoResult\n",
    "    threeResult\n",
    "    fortyOneResult\n",
    "]\n",
    "|> List.sequenceResultM\n",
    "|> Result.map (fun _ ->\n",
    "    {|\n",
    "        one = oneResult |> toResultFromNumericElement (fun el -> el.GetInt32()) |> Result.valueOr raise\n",
    "        two = twoResult |> toResultFromBooleanElement (fun el -> el.GetBoolean()) |> Result.valueOr raise\n",
    "        three = threeResult |> toResultFromStringElement (fun el -> el.GetString()) |> Result.valueOr raise\n",
    "        fortyOne = fortyOneResult |> toResultFromNumericElement (fun el -> el.GetInt32()) |> Result.valueOr raise\n",
    "    |})"
   ]
  },
  {
   "attachments": {},
   "cell_type": "markdown",
   "metadata": {},
   "source": [
    "The clarity of my ignorance is impressive. My primitive use of `List.sequenceResultM` is _exactly_ what members behind the result Computation Expression are doing."
   ]
  },
  {
   "attachments": {},
   "cell_type": "markdown",
   "metadata": {},
   "source": [
    "## the intended way to be `OK`\n",
    "\n",
    "The `let!` and `and!` bindings are doing exactly what my use of `List.sequenceResultM` is doing above. However, the clarity of the Computation Expression is far superior:"
   ]
  },
  {
   "cell_type": "code",
   "execution_count": 5,
   "metadata": {
    "dotnet_interactive": {
     "language": "fsharp"
    },
    "polyglot_notebook": {
     "kernelName": "fsharp"
    },
    "vscode": {
     "languageId": "polyglot-notebook"
    }
   },
   "outputs": [
    {
     "data": {
      "text/html": [
       "<details open=\"open\" class=\"dni-treeview\"><summary><span class=\"dni-code-hint\"><code>Microsoft.FSharp.Core.FSharpResult`2[<>f__AnonymousType4017644820`4[System.Int32,System.Int32,System.String,System.Boolean],System.Text.Json.JsonException]</code></span></summary><div><table><thead><tr></tr></thead><tbody><tr><td>ResultValue</td><td><details class=\"dni-treeview\"><summary><span class=\"dni-code-hint\"><code>{ fortyOne = 41\\n  one = 1\\n  three = \"is third\"\\n  two = true }</code></span></summary><div><table><thead><tr></tr></thead><tbody><tr><td>fortyOne</td><td><div class=\"dni-plaintext\"><pre>41</pre></div></td></tr><tr><td>one</td><td><div class=\"dni-plaintext\"><pre>1</pre></div></td></tr><tr><td>three</td><td>is third</td></tr><tr><td>two</td><td><div class=\"dni-plaintext\"><pre>True</pre></div></td></tr></tbody></table></div></details></td></tr><tr><td>ErrorValue</td><td><div class=\"dni-plaintext\"><pre>&lt;null&gt;</pre></div></td></tr></tbody></table></div></details><style>\r\n",
       ".dni-code-hint {\r\n",
       "    font-style: italic;\r\n",
       "    overflow: hidden;\r\n",
       "    white-space: nowrap;\r\n",
       "}\r\n",
       ".dni-treeview {\r\n",
       "    white-space: nowrap;\r\n",
       "}\r\n",
       ".dni-treeview td {\r\n",
       "    vertical-align: top;\r\n",
       "    text-align: start;\r\n",
       "}\r\n",
       "details.dni-treeview {\r\n",
       "    padding-left: 1em;\r\n",
       "}\r\n",
       "table td {\r\n",
       "    text-align: start;\r\n",
       "}\r\n",
       "table tr { \r\n",
       "    vertical-align: top; \r\n",
       "    margin: 0em 0px;\r\n",
       "}\r\n",
       "table tr td pre \r\n",
       "{ \r\n",
       "    vertical-align: top !important; \r\n",
       "    margin: 0em 0px !important;\r\n",
       "} \r\n",
       "table th {\r\n",
       "    text-align: start;\r\n",
       "}\r\n",
       "</style>"
      ]
     },
     "metadata": {},
     "output_type": "display_data"
    }
   ],
   "source": [
    "#!fsharp\n",
    "\n",
    "result {\n",
    "    let! one = \n",
    "        rootElementResult\n",
    "        |> Result.bind (tryGetProperty \"one\")\n",
    "        |> toResultFromNumericElement (fun el -> el.GetInt32())\n",
    "\n",
    "    and! two =\n",
    "        rootElementResult\n",
    "        |> Result.bind (tryGetProperty \"two\")\n",
    "        |> toResultFromBooleanElement (fun el -> el.GetBoolean())\n",
    "\n",
    "    and! three =\n",
    "        rootElementResult\n",
    "        |> Result.bind (tryGetProperty \"three\")\n",
    "        |> toResultFromStringElement (fun el -> el.GetString())\n",
    "\n",
    "    and! fortyOne =\n",
    "        rootElementResult\n",
    "        |> Result.bind (tryGetProperty \"four\")\n",
    "        |> Result.bind (tryGetProperty \"forty-one\")\n",
    "        |> toResultFromNumericElement (fun el -> el.GetInt32())\n",
    "\n",
    "    return\n",
    "        {|\n",
    "            one = one\n",
    "            two = two\n",
    "            three = three\n",
    "            fortyOne = fortyOne\n",
    "        |}\n",
    "}"
   ]
  },
  {
   "attachments": {},
   "cell_type": "markdown",
   "metadata": {},
   "source": [
    "## replacing `Result.bind` with the `>>=` operator\n",
    "\n",
    "To make the Computation Expression above even more readable, we can take advantage of my opening of `FsToolkit.ErrorHandling.Operator.Result` at the beginning of this notebook:"
   ]
  },
  {
   "cell_type": "code",
   "execution_count": 6,
   "metadata": {
    "dotnet_interactive": {
     "language": "fsharp"
    },
    "polyglot_notebook": {
     "kernelName": "fsharp"
    },
    "vscode": {
     "languageId": "polyglot-notebook"
    }
   },
   "outputs": [
    {
     "data": {
      "text/html": [
       "<details open=\"open\" class=\"dni-treeview\"><summary><span class=\"dni-code-hint\"><code>Microsoft.FSharp.Core.FSharpResult`2[<>f__AnonymousType4017644820`4[System.Int32,System.Int32,System.String,System.Boolean],System.Text.Json.JsonException]</code></span></summary><div><table><thead><tr></tr></thead><tbody><tr><td>ResultValue</td><td><details class=\"dni-treeview\"><summary><span class=\"dni-code-hint\"><code>{ fortyOne = 41\\n  one = 1\\n  three = \"is third\"\\n  two = true }</code></span></summary><div><table><thead><tr></tr></thead><tbody><tr><td>fortyOne</td><td><div class=\"dni-plaintext\"><pre>41</pre></div></td></tr><tr><td>one</td><td><div class=\"dni-plaintext\"><pre>1</pre></div></td></tr><tr><td>three</td><td>is third</td></tr><tr><td>two</td><td><div class=\"dni-plaintext\"><pre>True</pre></div></td></tr></tbody></table></div></details></td></tr><tr><td>ErrorValue</td><td><div class=\"dni-plaintext\"><pre>&lt;null&gt;</pre></div></td></tr></tbody></table></div></details><style>\r\n",
       ".dni-code-hint {\r\n",
       "    font-style: italic;\r\n",
       "    overflow: hidden;\r\n",
       "    white-space: nowrap;\r\n",
       "}\r\n",
       ".dni-treeview {\r\n",
       "    white-space: nowrap;\r\n",
       "}\r\n",
       ".dni-treeview td {\r\n",
       "    vertical-align: top;\r\n",
       "    text-align: start;\r\n",
       "}\r\n",
       "details.dni-treeview {\r\n",
       "    padding-left: 1em;\r\n",
       "}\r\n",
       "table td {\r\n",
       "    text-align: start;\r\n",
       "}\r\n",
       "table tr { \r\n",
       "    vertical-align: top; \r\n",
       "    margin: 0em 0px;\r\n",
       "}\r\n",
       "table tr td pre \r\n",
       "{ \r\n",
       "    vertical-align: top !important; \r\n",
       "    margin: 0em 0px !important;\r\n",
       "} \r\n",
       "table th {\r\n",
       "    text-align: start;\r\n",
       "}\r\n",
       "</style>"
      ]
     },
     "metadata": {},
     "output_type": "display_data"
    }
   ],
   "source": [
    "#!fsharp\n",
    "\n",
    "result {\n",
    "    let! one = \n",
    "        rootElementResult\n",
    "        >>= (tryGetProperty \"one\")\n",
    "        |> toResultFromNumericElement (fun el -> el.GetInt32())\n",
    "\n",
    "    and! two =\n",
    "        rootElementResult\n",
    "        >>= (tryGetProperty \"two\")\n",
    "        |> toResultFromBooleanElement (fun el -> el.GetBoolean())\n",
    "\n",
    "    and! three =\n",
    "        rootElementResult\n",
    "        >>= (tryGetProperty \"three\")\n",
    "        |> toResultFromStringElement (fun el -> el.GetString())\n",
    "\n",
    "    and! fortyOne =\n",
    "        rootElementResult\n",
    "        >>= (tryGetProperty \"four\")\n",
    "        >>= (tryGetProperty \"forty-one\")\n",
    "        |> toResultFromNumericElement (fun el -> el.GetInt32())\n",
    "\n",
    "    return\n",
    "\n",
    "        {|\n",
    "            one = one\n",
    "            two = two\n",
    "            three = three\n",
    "            fortyOne = fortyOne\n",
    "        |}\n",
    "}"
   ]
  },
  {
   "cell_type": "markdown",
   "metadata": {},
   "source": [
    "## <!-- -->\n",
    "\n",
    "@[BryanWilhite](https://twitter.com/BryanWilhite)"
   ]
  }
 ],
 "metadata": {
  "language_info": {
   "name": "python"
  },
  "orig_nbformat": 4
 },
 "nbformat": 4,
 "nbformat_minor": 2
}
