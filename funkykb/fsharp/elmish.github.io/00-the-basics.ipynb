{
 "cells": [
  {
   "cell_type": "markdown",
   "metadata": {},
   "source": [
    "# elmish\n",
    "\n",
    "## the basics\n",
    "\n",
    "<https://elmish.github.io/elmish/basics.html>\n",
    "\n",
    "These notes show that, yes, Elmish is now decoupled from React but this means it is not aware of a Web browser of any kind. The basics therefore are conventions around:\n",
    "\n",
    "- `init` — initial state of the `Model`\n",
    "- `update` — updating the `Model` based on the `Message`\n",
    "- `view` — displaying the `Model` after `update`\n",
    "\n",
    "The Elmish `Program` module functions starts the message loop and cycles."
   ]
  },
  {
   "cell_type": "code",
   "execution_count": null,
   "metadata": {
    "dotnet_interactive": {
     "language": "fsharp"
    }
   },
   "outputs": [
    {
     "data": {
      "text/html": [
       "<div><div></div><div></div><div><strong>Installed Packages</strong><ul><li><span>Fable.Elmish, 3.1.0</span></li></ul></div></div>"
      ]
     },
     "metadata": {},
     "output_type": "display_data"
    }
   ],
   "source": [
    "#r \"nuget: Fable.Elmish\""
   ]
  },
  {
   "cell_type": "code",
   "execution_count": null,
   "metadata": {
    "dotnet_interactive": {
     "language": "fsharp"
    }
   },
   "outputs": [],
   "source": [
    "#!fsharp\n",
    "\n",
    "type Message = \n",
    "    | Increment\n",
    "    | Decrement\n",
    "\n",
    "type Model = { x: int; message: Message }"
   ]
  },
  {
   "cell_type": "code",
   "execution_count": null,
   "metadata": {
    "dotnet_interactive": {
     "language": "fsharp"
    }
   },
   "outputs": [],
   "source": [
    "#!fsharp\n",
    "\n",
    "open Elmish\n",
    "\n",
    "let init () = { x = 0; message = Message.Increment }, Cmd.ofMsg Increment\n",
    "\n",
    "let update msg model =\n",
    "    match msg with\n",
    "    | Increment when model.x < 10 ->\n",
    "        { model with x = model.x + 1; message = msg }, Cmd.ofMsg msg\n",
    "    | Increment ->\n",
    "        { model with x = model.x - 1; message = Message.Decrement }, Cmd.ofMsg Decrement\n",
    "    | Decrement when model.x > 0 ->\n",
    "        { model with x = model.x - 1; message = msg }, Cmd.ofMsg msg\n",
    "    | Decrement ->\n",
    "        { model with x = model.x - 1; message = msg }, Cmd.none\n",
    "        // without `Cmd.none` the `Program` will run forever!\n",
    "\n",
    "let view model _ = printf \"%A\\n\" model"
   ]
  },
  {
   "cell_type": "code",
   "execution_count": null,
   "metadata": {
    "dotnet_interactive": {
     "language": "fsharp"
    }
   },
   "outputs": [
    {
     "name": "stdout",
     "output_type": "stream",
     "text": [
      "{ x = 0\n",
      "  message = Increment }\n",
      "{ x = 1\n",
      "  message = Increment }\n",
      "{ x = 2\n",
      "  message = Increment }\n",
      "{ x = 3\n",
      "  message = Increment }\n",
      "{ x = 4\n",
      "  message = Increment }\n",
      "{ x = 5\n",
      "  message = Increment }\n",
      "{ x = 6\n",
      "  message = Increment }\n",
      "{ x = 7\n",
      "  message = Increment }\n",
      "{ x = 8\n",
      "  message = Increment }\n",
      "{ x = 9\n",
      "  message = Increment }\n",
      "{ x = 10\n",
      "  message = Increment }\n",
      "{ x = 9\n",
      "  message = Decrement }\n",
      "{ x = 8\n",
      "  message = Decrement }\n",
      "{ x = 7\n",
      "  message = Decrement }\n",
      "{ x = 6\n",
      "  message = Decrement }\n",
      "{ x = 5\n",
      "  message = Decrement }\n",
      "{ x = 4\n",
      "  message = Decrement }\n",
      "{ x = 3\n",
      "  message = Decrement }\n",
      "{ x = 2\n",
      "  message = Decrement }\n",
      "{ x = 1\n",
      "  message = Decrement }\n",
      "{ x = 0\n",
      "  message = Decrement }\n",
      "{ x = -1\n",
      "  message = Decrement }\n"
     ]
    }
   ],
   "source": [
    "#!fsharp\n",
    "\n",
    "Program.mkProgram init update view\n",
    "|> Program.run"
   ]
  },
  {
   "cell_type": "markdown",
   "metadata": {},
   "source": [
    "[Bryan Wilhite is on LinkedIn](https://www.linkedin.com/in/wilhite)🇺🇸💼"
   ]
  }
 ],
 "metadata": {
  "kernelspec": {
   "display_name": ".NET (C#)",
   "language": "C#",
   "name": ".net-csharp"
  },
  "language_info": {
   "file_extension": ".cs",
   "mimetype": "text/x-csharp",
   "name": "C#",
   "pygments_lexer": "csharp",
   "version": "9.0"
  },
  "orig_nbformat": 4
 },
 "nbformat": 4,
 "nbformat_minor": 2
}
