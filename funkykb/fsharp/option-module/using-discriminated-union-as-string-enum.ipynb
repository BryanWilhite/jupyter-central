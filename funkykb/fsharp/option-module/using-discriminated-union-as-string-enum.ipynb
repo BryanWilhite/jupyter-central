{
 "cells": [
  {
   "cell_type": "markdown",
   "metadata": {},
   "source": [
    "# using a discriminated union as a string enum\n",
    "\n",
    "Enums in F# [📖 [docs](https://docs.microsoft.com/en-us/dotnet/fsharp/language-reference/enumerations)] do not support strings because it is not a value type.\n",
    "\n",
    "This means you cannot do this:\n",
    "\n",
    "```fsharp\n",
    "type MyNumbers =\n",
    "    | One = \"one\"\n",
    "    | Two = \"two\"\n",
    "    | Three = \"three\"\n",
    "    | Unknown = \"unknown\"\n",
    "```\n",
    "\n",
    "Instead of an `enum`, we can turn to a discriminated union:"
   ]
  },
  {
   "cell_type": "code",
   "execution_count": null,
   "metadata": {
    "dotnet_interactive": {
     "language": "fsharp"
    }
   },
   "outputs": [],
   "source": [
    "type MyNumbers =\n",
    "    | One\n",
    "    | Two\n",
    "    | Three\n",
    "    | Unknown"
   ]
  },
  {
   "cell_type": "markdown",
   "metadata": {},
   "source": [
    "When faced with converting `string` input into `MyNumbers` we can rely on the `Option` module:"
   ]
  },
  {
   "cell_type": "code",
   "execution_count": null,
   "metadata": {
    "dotnet_interactive": {
     "language": "fsharp"
    }
   },
   "outputs": [
    {
     "name": "stdout",
     "output_type": "stream",
     "text": [
      "[One; One; Unknown; Three]"
     ]
    }
   ],
   "source": [
    "let input = [\n",
    "    \"One\"\n",
    "    \"one\"\n",
    "    null\n",
    "    \"three\"\n",
    "]\n",
    "\n",
    "open System.Globalization\n",
    "\n",
    "let invariantTextInfo = CultureInfo.InvariantCulture.TextInfo\n",
    "\n",
    "let toMyNumbers sInput =\n",
    "    let mapping (s: string) =\n",
    "        match invariantTextInfo.ToTitleCase(s) with\n",
    "        | nameof MyNumbers.One -> MyNumbers.One\n",
    "        | nameof MyNumbers.Two -> MyNumbers.Two\n",
    "        | nameof MyNumbers.Three -> MyNumbers.Three\n",
    "        | _ -> MyNumbers.Unknown\n",
    "\n",
    "    sInput\n",
    "    |> Option.ofObj\n",
    "    |> Option.map mapping\n",
    "    |> Option.defaultWith (fun () -> MyNumbers.Unknown)\n",
    "\n",
    "input\n",
    "|> List.map (fun s -> s |> toMyNumbers)\n",
    "|> printf \"%A\"\n"
   ]
  },
  {
   "cell_type": "markdown",
   "metadata": {},
   "source": [
    "@[BryanWilhite](https://twitter.com/BryanWilhite)\n"
   ]
  }
 ],
 "metadata": {
  "kernelspec": {
   "display_name": ".NET (C#)",
   "language": "C#",
   "name": ".net-csharp"
  },
  "language_info": {
   "file_extension": ".cs",
   "mimetype": "text/x-csharp",
   "name": "C#",
   "pygments_lexer": "csharp",
   "version": "9.0"
  },
  "orig_nbformat": 4
 },
 "nbformat": 4,
 "nbformat_minor": 2
}
