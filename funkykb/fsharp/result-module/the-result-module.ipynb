{
 "cells": [
  {
   "cell_type": "markdown",
   "metadata": {},
   "source": [
    "# the `Result` module\n",
    "\n",
    "As of this writing, the `Result` module [📖 [docs](https://fsharp.github.io/fsharp-core-docs/reference/fsharp-core-resultmodule.html)] has three functions:\n",
    "\n",
    "1. `Result.bind`\n",
    "2. `Result.map`\n",
    "3. `Result.mapError`\n",
    "\n",
    "These functions serve to reduce the monotony of three kinds of `match` expressions around `Result<T',TError'>`, respectively:\n",
    "\n",
    "1. bind to a function that returns `Result<T',TError'>` to yield an `Ok` or pass through `Error err`\n",
    "2. yield an `Ok` or pass through `Error err` from an instance of `Result<T',TError'>`\n",
    "3. yield an `Error` or pass through `Ok value` from an instance of `Result<T',TError'>`\n",
    "\n",
    "The follwing .NET `JsonDocument` represents input that can be deconstructed into results of `Result<JsonElement, Exception>`:"
   ]
  },
  {
   "cell_type": "code",
   "execution_count": null,
   "metadata": {
    "dotnet_interactive": {
     "language": "fsharp"
    }
   },
   "outputs": [],
   "source": [
    "#!fsharp\n",
    "\n",
    "open System.Text.Json\n",
    "\n",
    "let input = JsonDocument.Parse(\"\"\"\n",
    "        {\n",
    "            \"root\": {\n",
    "                \"first\": {\n",
    "                    \"firstChild\": 2.5\n",
    "                },\n",
    "                \"second\": {\n",
    "                    \"secondChild\": true\n",
    "                },\n",
    "                \"fourth\": {\n",
    "                    \"thirdChild\": false\n",
    "                }\n",
    "            }\n",
    "        }\n",
    "    \"\"\")\n"
   ]
  },
  {
   "cell_type": "markdown",
   "metadata": {},
   "source": [
    "We can define a general-purpose utility function that can _try_ to _get_ JSON document properties as `JsonElement`:"
   ]
  },
  {
   "cell_type": "code",
   "execution_count": null,
   "metadata": {
    "dotnet_interactive": {
     "language": "fsharp"
    }
   },
   "outputs": [],
   "source": [
    "#!fsharp\n",
    "\n",
    "let tryGetProperty (elementName: string) (element: JsonElement) =\n",
    "    match element.TryGetProperty elementName with\n",
    "    | false, _ -> Error(JsonException $\"the expected `{elementName}` element is not here.\")\n",
    "    | true, el -> Ok el\n"
   ]
  },
  {
   "cell_type": "markdown",
   "metadata": {},
   "source": [
    "With naïve determination, we can take the path of the honorable novice and use `match`:"
   ]
  },
  {
   "cell_type": "code",
   "execution_count": null,
   "metadata": {
    "dotnet_interactive": {
     "language": "fsharp"
    }
   },
   "outputs": [
    {
     "data": {
      "text/html": [
       "<table><thead><tr><th>ResultValue</th><th>ErrorValue</th></tr></thead><tbody><tr><td><div class=\"dni-plaintext\">True</div></td><td><div class=\"dni-plaintext\">&lt;null&gt;</div></td></tr></tbody></table>"
      ]
     },
     "metadata": {},
     "output_type": "display_data"
    }
   ],
   "source": [
    "#!fsharp\n",
    "\n",
    "match input.RootElement |> tryGetProperty \"root\" with\n",
    "| Error err -> Error err\n",
    "| Ok rootElement ->\n",
    "    match rootElement |> tryGetProperty \"second\" with\n",
    "    | Error err -> Error err\n",
    "    | Ok secondElement ->\n",
    "        match secondElement |> tryGetProperty \"secondChild\" with\n",
    "        | Error err -> Error err\n",
    "        | Ok secondChildElement -> Ok (secondChildElement.GetBoolean())\n"
   ]
  },
  {
   "cell_type": "markdown",
   "metadata": {},
   "source": [
    "But we notice that every `match` is yielding `Error err` and `Ok (…)`. This is the `match`-yield pattern that `Result.bind` is designed for:"
   ]
  },
  {
   "cell_type": "code",
   "execution_count": null,
   "metadata": {
    "dotnet_interactive": {
     "language": "fsharp"
    }
   },
   "outputs": [
    {
     "data": {
      "text/html": [
       "<table><thead><tr><th>ResultValue</th><th>ErrorValue</th></tr></thead><tbody><tr><td><div class=\"dni-plaintext\">True</div></td><td><div class=\"dni-plaintext\">&lt;null&gt;</div></td></tr></tbody></table>"
      ]
     },
     "metadata": {},
     "output_type": "display_data"
    }
   ],
   "source": [
    "#!fsharp\n",
    "\n",
    "let secondChildResult =\n",
    "    input.RootElement\n",
    "    |> tryGetProperty \"root\"\n",
    "    |> Result.bind (tryGetProperty \"second\")\n",
    "    |> Result.bind (tryGetProperty \"secondChild\")\n",
    "\n",
    "secondChildResult"
   ]
  },
  {
   "cell_type": "markdown",
   "metadata": {},
   "source": [
    "We can see why Scott Wlaschin uses `Result.bind` this way in the context of validation as a subtopic of [Railway Oriented Programming](https://swlaschin.gitbooks.io/fsharpforfunandprofit/content/posts/recipe-part2.html). An unlimited number of `try*` functions can be used to _try_ validation rules on `input`."
   ]
  },
  {
   "cell_type": "markdown",
   "metadata": {},
   "source": [
    "## when to use `Result.map`\n",
    "\n",
    "Notice how `Result.bind` needs a `try*` function. How can we return a `Result<_,_>` without a `try*` function but still have the convenience of `Result.bind`?\n",
    "\n",
    "The answer is to use `Result.map`. But before we do, we can, again, take the path of the honorable novice and turn to `match`:"
   ]
  },
  {
   "cell_type": "code",
   "execution_count": null,
   "metadata": {
    "dotnet_interactive": {
     "language": "fsharp"
    }
   },
   "outputs": [
    {
     "data": {
      "text/html": [
       "<table><thead><tr><th>ResultValue</th><th>ErrorValue</th></tr></thead><tbody><tr><td><div class=\"dni-plaintext\">True</div></td><td><div class=\"dni-plaintext\">&lt;null&gt;</div></td></tr></tbody></table>"
      ]
     },
     "metadata": {},
     "output_type": "display_data"
    }
   ],
   "source": [
    "#!fsharp\n",
    "\n",
    "match secondChildResult with\n",
    "| Error err -> Error err\n",
    "| Ok secondChildElement -> Ok (secondChildElement.GetBoolean())"
   ]
  },
  {
   "cell_type": "markdown",
   "metadata": {},
   "source": [
    "Now compare to `Result.map`:"
   ]
  },
  {
   "cell_type": "code",
   "execution_count": null,
   "metadata": {
    "dotnet_interactive": {
     "language": "fsharp"
    }
   },
   "outputs": [
    {
     "data": {
      "text/html": [
       "<table><thead><tr><th>ResultValue</th><th>ErrorValue</th></tr></thead><tbody><tr><td><div class=\"dni-plaintext\">True</div></td><td><div class=\"dni-plaintext\">&lt;null&gt;</div></td></tr></tbody></table>"
      ]
     },
     "metadata": {},
     "output_type": "display_data"
    }
   ],
   "source": [
    "#!fsharp\n",
    "\n",
    "secondChildResult\n",
    "|> Result.map (fun secondChildElement -> secondChildElement.GetBoolean())"
   ]
  },
  {
   "cell_type": "markdown",
   "metadata": {
    "dotnet_interactive": {
     "language": "fsharp"
    }
   },
   "source": [
    "We see that `Result.map` allows us to:\n",
    "\n",
    "1. apply a function to the `Ok` `JsonElement`\n",
    "2. get rid of the `Error err -> Error err` pattern"
   ]
  },
  {
   "cell_type": "markdown",
   "metadata": {},
   "source": [
    "## when to use `Result.mapError`\n",
    "\n",
    "When we need to apply a function to `TError'` of `Result<T',TError'>`, we use `Result.mapError`."
   ]
  },
  {
   "cell_type": "code",
   "execution_count": null,
   "metadata": {
    "dotnet_interactive": {
     "language": "fsharp"
    }
   },
   "outputs": [
    {
     "data": {
      "text/html": [
       "<table><thead><tr><th>ResultValue</th><th>ErrorValue</th></tr></thead><tbody><tr><td><div class=\"dni-plaintext\">True</div></td><td><div class=\"dni-plaintext\">&lt;null&gt;</div></td></tr></tbody></table>"
      ]
     },
     "metadata": {},
     "output_type": "display_data"
    }
   ],
   "source": [
    "#!fsharp\n",
    "\n",
    "secondChildResult\n",
    "|> Result.mapError (fun r -> r |> printfn \"my-logger: %A\"; r)\n",
    "|> Result.map (fun secondChildElement -> secondChildElement.GetBoolean())"
   ]
  },
  {
   "cell_type": "markdown",
   "metadata": {},
   "source": [
    "The elegance of `Result.mapError` is in the form of its unobtrusiveness: it just lets the `Result<_,_>` pass through when there is no error.\n",
    "\n",
    "But when there _is_ an error it takes action:"
   ]
  },
  {
   "cell_type": "code",
   "execution_count": null,
   "metadata": {
    "dotnet_interactive": {
     "language": "fsharp"
    }
   },
   "outputs": [
    {
     "name": "stdout",
     "output_type": "stream",
     "text": [
      "my-logger: System.Text.Json.JsonException: the expected `frankie` element is not here.\n"
     ]
    },
    {
     "data": {
      "text/html": [
       "<table><thead><tr><th>ResultValue</th><th>ErrorValue</th></tr></thead><tbody><tr><td><div class=\"dni-plaintext\">False</div></td><td><div class=\"dni-plaintext\">{ System.Text.Json.JsonException: the expected `frankie` element is not here.: LineNumber: &lt;null&gt;, BytePositionInLine: &lt;null&gt;, Path: &lt;null&gt;, Message: the expected `frankie` element is not here., TargetSite: &lt;null&gt;, Data: [  ], InnerException: &lt;null&gt;, HelpLink: &lt;null&gt;, Source: &lt;null&gt;, HResult: -2146233088, StackTrace: &lt;null&gt; }</div></td></tr></tbody></table>"
      ]
     },
     "metadata": {},
     "output_type": "display_data"
    }
   ],
   "source": [
    "#!fsharp\n",
    "\n",
    "input.RootElement\n",
    "|> tryGetProperty \"frankie\"\n",
    "|> Result.mapError (fun ex -> ex |> printfn \"my-logger: %A\"; ex)\n",
    "|> Result.map (fun el -> el.GetBoolean())"
   ]
  },
  {
   "cell_type": "markdown",
   "metadata": {},
   "source": [
    "`Result.mapError` mapped the erroneous search for a JSON element named `\"frankie\"` to the logger and then passed it on to `Result.map` which left the Boolean value of `T'` defaulted to `false`."
   ]
  },
  {
   "cell_type": "markdown",
   "metadata": {},
   "source": [
    "## the `Result` module does not have a function for getting the `Ok` value\n",
    "\n",
    "As of this writing, the `Result` module depends on `match` expressions to yield the `Ok` value:"
   ]
  },
  {
   "cell_type": "code",
   "execution_count": null,
   "metadata": {
    "dotnet_interactive": {
     "language": "fsharp"
    }
   },
   "outputs": [
    {
     "data": {
      "text/html": [
       "<div class=\"dni-plaintext\">True</div>"
      ]
     },
     "metadata": {},
     "output_type": "display_data"
    }
   ],
   "source": [
    "#!fsharp\n",
    "\n",
    "let outputResult =\n",
    "    input.RootElement\n",
    "    |> tryGetProperty \"root\"\n",
    "    |> Result.bind (tryGetProperty \"second\")\n",
    "    |> Result.bind (tryGetProperty \"secondChild\")\n",
    "    |> Result.map (fun secondChildElement -> secondChildElement.GetBoolean())\n",
    "\n",
    "match outputResult with\n",
    "| Ok output -> output\n",
    "| _ -> false"
   ]
  },
  {
   "cell_type": "markdown",
   "metadata": {},
   "source": [
    "Without the help of third-party libraries like `FsToolKit.ErrorHandling` [[GitHub](https://github.com/demystifyfp/FsToolkit.ErrorHandling#readme)], we must resort to the honorable `match` expression 🤠"
   ]
  },
  {
   "cell_type": "markdown",
   "metadata": {},
   "source": [
    "[Bryan Wilhite is on LinkedIn](https://www.linkedin.com/in/wilhite)🇺🇸💼\n"
   ]
  }
 ],
 "metadata": {
  "kernelspec": {
   "display_name": ".NET (C#)",
   "language": "C#",
   "name": ".net-csharp"
  },
  "language_info": {
   "file_extension": ".cs",
   "mimetype": "text/x-csharp",
   "name": "C#",
   "pygments_lexer": "csharp",
   "version": "9.0"
  },
  "orig_nbformat": 4
 },
 "nbformat": 4,
 "nbformat_minor": 2
}
