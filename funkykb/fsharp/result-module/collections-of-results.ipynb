{
 "cells": [
  {
   "cell_type": "markdown",
   "metadata": {},
   "source": [
    "# collections of results\n",
    "\n",
    "My [StackOverflow question](https://stackoverflow.com/questions/70881768/avoiding-nesting-resultt-terror) about handling collections of `Result<'T,'TError>` recognizes the problem of getting “too many” F# results.\n",
    "\n",
    "Suppose we have this `input`:"
   ]
  },
  {
   "cell_type": "code",
   "execution_count": null,
   "metadata": {
    "dotnet_interactive": {
     "language": "fsharp"
    }
   },
   "outputs": [],
   "source": [
    "#!fsharp\n",
    "\n",
    "let input =\n",
    "    [\n",
    "        \"0.10\"\n",
    "        \"0.21\"\n",
    "        \"forty\"\n",
    "        \"5.32\"\n",
    "        \"q6.20\"\n",
    "    ]"
   ]
  },
  {
   "cell_type": "markdown",
   "metadata": {},
   "source": [
    "Mapping this input to F# results via `tryParseDecimal` leads to `Result<'T,'TError> list`:"
   ]
  },
  {
   "cell_type": "code",
   "execution_count": null,
   "metadata": {
    "dotnet_interactive": {
     "language": "fsharp"
    }
   },
   "outputs": [
    {
     "name": "stdout",
     "output_type": "stream",
     "text": [
      "[Ok 0.10M; Ok 0.21M; Error \"failed to parse `forty`\"; Ok 5.32M;\n",
      " Error \"failed to parse `q6.20`\"]"
     ]
    }
   ],
   "source": [
    "#!fsharp\n",
    "\n",
    "open System\n",
    "\n",
    "let tryParseDecimal (input: string) =\n",
    "    match Decimal.TryParse input with\n",
    "    | true, i -> Ok i\n",
    "    | _ -> Error $\"failed to parse `{input}`\"\n",
    "\n",
    "let output = input |> List.map tryParseDecimal\n",
    "\n",
    "output |> printf \"%A\""
   ]
  },
  {
   "cell_type": "markdown",
   "metadata": {},
   "source": [
    "Depending on the intent of the architect, this could be “too many” instances of `Result<'T,'TError>` as the error handling sub-system is built for _one_ instance of `Result<'T,'TError>` (which is classic, relatively straight-forward _railway-oriented programming_ [📖 [docs](https://swlaschin.gitbooks.io/fsharpforfunandprofit/content/posts/recipe-part2.html)])."
   ]
  },
  {
   "cell_type": "markdown",
   "metadata": {},
   "source": [
    "## enter `FsToolkit.ErrorHandling`\n",
    "\n",
    "One module-based way to address collections of F# results is with `FsToolkit.ErrorHandling` [[GitHub](https://github.com/demystifyfp/FsToolkit.ErrorHandling)]:"
   ]
  },
  {
   "cell_type": "code",
   "execution_count": null,
   "metadata": {
    "dotnet_interactive": {
     "language": "fsharp"
    }
   },
   "outputs": [
    {
     "data": {
      "text/html": [
       "<div><div></div><div></div><div><strong>Installed Packages</strong><ul><li><span>FsToolkit.ErrorHandling, 2.13.0</span></li></ul></div></div>"
      ]
     },
     "metadata": {},
     "output_type": "display_data"
    }
   ],
   "source": [
    "#r \"nuget: FsToolkit.ErrorHandling\""
   ]
  },
  {
   "cell_type": "markdown",
   "metadata": {},
   "source": [
    "`FsToolkit.ErrorHandling` is “opinionated” about handling collections of results by providing these relevant functions:\n",
    "\n",
    "| name | remarks | function signature |\n",
    "|- |- |-\n",
    "| `List.sequenceResultA` | returns an `Ok` list _or_ an `Error` list | `Result<'a, 'b> list -> Result<'a list, 'b list>` |\n",
    "| `List.sequenceResultM` | returns an `Ok` list _or_ the first `Error` | `Result<'a, 'b> list -> Result<'a list, 'b>` |\n",
    "| `List.traverseResultA` | returns an `Ok` list _or_ an `Error` list | `('a -> Result<'b,'c>) -> 'a list -> Result<'b list, 'c list>` |\n",
    "| `List.traverseResultM` | returns an `Ok` list _or_ the first `Error` | `('a -> Result<'b,'c>) -> 'a list -> Result<'b list, 'c>` |\n",
    "\n",
    "The use of the words `sequence` and `traverse` are deliberate. Scott Wlaschin, his “[Understanding traverse and sequence](https://swlaschin.gitbooks.io/fsharpforfunandprofit/content/posts/elevated-world-4.html),” details the meaning of these words:\n",
    "\n",
    ">The Traversable world can be stacked on top of the Applicative world, which produces a type such as `List<Result<a>>` …what happens if you are just handed a `List<Result>` and you need to change it to a `Result<List>` …This is where sequence is useful—that’s exactly what it does!\n",
    "\n",
    "The function signatures in the table above show that `sequence` takes `Result<'a, 'b> list` as input and `traverse` takes a function, `('a -> Result<'b,'c>)`, as input. Both `sequence` and `traverse` produce the same output with different input.\n",
    "\n",
    "For example, we can take the `output` above and _sequence_ it:"
   ]
  },
  {
   "cell_type": "code",
   "execution_count": null,
   "metadata": {
    "dotnet_interactive": {
     "language": "fsharp"
    }
   },
   "outputs": [
    {
     "name": "stdout",
     "output_type": "stream",
     "text": [
      "Error [\"failed to parse `forty`\"; \"failed to parse `q6.20`\"]\n",
      "Error \"failed to parse `forty`\""
     ]
    }
   ],
   "source": [
    "#!fsharp\n",
    "\n",
    "open FsToolkit.ErrorHandling\n",
    "\n",
    "output |> List.sequenceResultA |> printfn \"%A\"\n",
    "\n",
    "output |> List.sequenceResultM |> printf \"%A\""
   ]
  },
  {
   "cell_type": "markdown",
   "metadata": {},
   "source": [
    "When the architecture provides our `input` directly, we can _traverse_ it:"
   ]
  },
  {
   "cell_type": "code",
   "execution_count": null,
   "metadata": {
    "dotnet_interactive": {
     "language": "fsharp"
    }
   },
   "outputs": [
    {
     "name": "stdout",
     "output_type": "stream",
     "text": [
      "Error [\"failed to parse `forty`\"; \"failed to parse `q6.20`\"]\n",
      "Error \"failed to parse `forty`\""
     ]
    }
   ],
   "source": [
    "#!fsharp\n",
    "\n",
    "input |> List.traverseResultA tryParseDecimal |> printfn \"%A\"\n",
    "\n",
    "input |> List.traverseResultM tryParseDecimal |> printf \"%A\""
   ]
  },
  {
   "cell_type": "markdown",
   "metadata": {},
   "source": [
    "[Bryan Wilhite is on LinkedIn](https://www.linkedin.com/in/wilhite)🇺🇸💼\n"
   ]
  }
 ],
 "metadata": {
  "kernelspec": {
   "display_name": ".NET (C#)",
   "language": "C#",
   "name": ".net-csharp"
  },
  "language_info": {
   "file_extension": ".cs",
   "mimetype": "text/x-csharp",
   "name": "C#",
   "pygments_lexer": "csharp",
   "version": "9.0"
  },
  "orig_nbformat": 4
 },
 "nbformat": 4,
 "nbformat_minor": 2
}
