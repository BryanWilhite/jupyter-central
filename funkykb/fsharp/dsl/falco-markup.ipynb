{
 "cells": [
  {
   "attachments": {},
   "cell_type": "markdown",
   "metadata": {
    "dotnet_interactive": {
     "language": "csharp"
    },
    "polyglot_notebook": {
     "kernelName": "csharp"
    }
   },
   "source": [
    "# `Falco.Markup`\n",
    "\n",
    "## `https://github.com/pimbrouwers/Falco.Markup`\n",
    "\n",
    "`Falco.Markup` is part of `Falco` [[GitHub](https://github.com/pimbrouwers/Falco)] which is [a recommended alternative](https://safe-stack.github.io/docs/overview/#elmish) to the SAFE stack.\n",
    "\n",
    "It may not useful to compare details of, say, `Bolero.Html` [[GitHub](https://github.com/fsbolero/Bolero/blob/114fe9617a74e9ba8bbbf8309cbbe4fb44d5a2fd/src/Bolero.Html/Html.fs#L23)] or `Giraffe.ViewEngine` [[GitHub](https://github.com/giraffe-fsharp/Giraffe.ViewEngine)] with `Falco.Markup`. This is because `Falco.Markup` is closer to the intent behind `XDocument` [📖 [docs](https://learn.microsoft.com/en-us/dotnet/api/system.xml.linq.xdocument?view=net-7.0)] (without the DSL features of `Falco.Markup`):\n",
    "\n",
    ">`Falco.Markup` is an XML markup module that can be used to produce any form of angle-bracket markup (i.e. HTML, SVG, XML etc.). …`Falco.Markup` is broken down into three primary modules. `Elem`, `Attr` and `Text`, which are used to generate elements, attributes and text nodes respectively."
   ]
  },
  {
   "cell_type": "code",
   "execution_count": 1,
   "metadata": {
    "dotnet_interactive": {
     "language": "fsharp"
    },
    "polyglot_notebook": {
     "kernelName": "fsharp"
    },
    "vscode": {
     "languageId": "polyglot-notebook"
    }
   },
   "outputs": [
    {
     "data": {
      "text/html": [
       "<div><div></div><div></div><div><strong>Installed Packages</strong><ul><li><span>Falco.Markup, 1.0.2</span></li></ul></div></div>"
      ]
     },
     "metadata": {},
     "output_type": "display_data"
    }
   ],
   "source": [
    "#!fsharp\n",
    "\n",
    "#r \"nuget: Falco.Markup\"\n",
    "\n",
    "open Falco.Markup"
   ]
  },
  {
   "cell_type": "code",
   "execution_count": 5,
   "metadata": {
    "dotnet_interactive": {
     "language": "fsharp"
    },
    "polyglot_notebook": {
     "kernelName": "fsharp"
    },
    "vscode": {
     "languageId": "polyglot-notebook"
    }
   },
   "outputs": [
    {
     "data": {
      "text/plain": [
       "<!DOCTYPE html><div class=\"heading\"><h1>Hello world!</h1></div>"
      ]
     },
     "metadata": {},
     "output_type": "display_data"
    }
   ],
   "source": [
    "#!fsharp\n",
    "\n",
    "let markup =\n",
    "    Elem.div [ Attr.class' \"heading\" ] [\n",
    "        Elem.h1 [] [ Text.raw \"Hello world!\" ] ]\n",
    "\n",
    "markup |> renderHtml"
   ]
  },
  {
   "cell_type": "code",
   "execution_count": 6,
   "metadata": {
    "dotnet_interactive": {
     "language": "fsharp"
    },
    "polyglot_notebook": {
     "kernelName": "fsharp"
    },
    "vscode": {
     "languageId": "polyglot-notebook"
    }
   },
   "outputs": [
    {
     "data": {
      "text/plain": [
       "<svg viewBox=\"0 0 240 80\" xmlns=\"http://www.w3.org/2000/svg\"><style>.small { font: italic 13px sans-serif; }.heavy { font: bold 30px sans-serif; }.Rrrrr { font: italic 40px serif; fill: red; }</style><text x=\"20\" y=\"35\" class=\"small\">My</text><text x=\"40\" y=\"35\" class=\"heavy\">cat</text><text x=\"55\" y=\"55\" class=\"small\">is</text><text x=\"65\" y=\"55\" class=\"Rrrrr\">Grumpy!</text></svg>"
      ]
     },
     "metadata": {},
     "output_type": "display_data"
    }
   ],
   "source": [
    "#!fsharp\n",
    "\n",
    "open Falco.Markup.Svg\n",
    "\n",
    "// https://developer.mozilla.org/en-US/docs/Web/SVG/Element/text#example\n",
    "let svgDrawing =\n",
    "    Templates.svg (0, 0, 240, 80) [\n",
    "        Elem.style [] [\n",
    "            Text.raw \".small { font: italic 13px sans-serif; }\"\n",
    "            Text.raw \".heavy { font: bold 30px sans-serif; }\"\n",
    "            Text.raw \".Rrrrr { font: italic 40px serif; fill: red; }\"\n",
    "        ]\n",
    "        Elem.text [ Attr.x \"20\"; Attr.y \"35\"; Attr.class' \"small\" ] [ Text.raw \"My\" ]\n",
    "        Elem.text [ Attr.x \"40\"; Attr.y \"35\"; Attr.class' \"heavy\" ] [ Text.raw \"cat\" ]\n",
    "        Elem.text [ Attr.x \"55\"; Attr.y \"55\"; Attr.class' \"small\" ] [ Text.raw \"is\" ]\n",
    "        Elem.text [ Attr.x \"65\"; Attr.y \"55\"; Attr.class' \"Rrrrr\" ] [ Text.raw \"Grumpy!\" ]\n",
    "    ]\n",
    "\n",
    "svgDrawing |> renderNode"
   ]
  },
  {
   "cell_type": "markdown",
   "metadata": {
    "dotnet_interactive": {
     "language": "csharp"
    },
    "polyglot_notebook": {
     "kernelName": "csharp"
    }
   },
   "source": [
    "@[BryanWilhite](https://twitter.com/BryanWilhite)\n"
   ]
  }
 ],
 "metadata": {
  "kernelspec": {
   "display_name": ".NET (C#)",
   "language": "C#",
   "name": ".net-csharp"
  },
  "polyglot_notebook": {
   "kernelInfo": {
    "defaultKernelName": "csharp",
    "items": [
     {
      "aliases": [
       "c#",
       "C#"
      ],
      "languageName": "C#",
      "name": "csharp"
     },
     {
      "aliases": [
       "frontend"
      ],
      "languageName": null,
      "name": "vscode"
     }
    ]
   }
  }
 },
 "nbformat": 4,
 "nbformat_minor": 2
}
