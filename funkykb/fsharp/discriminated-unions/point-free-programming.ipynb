{
 "cells": [
  {
   "cell_type": "markdown",
   "metadata": {},
   "source": [
    "# DUs and point-free programming\n",
    "\n",
    "In “[chaining DUs with Option](https://github.com/BryanWilhite/jupyter-central/blob/master/funkykb/fsharp/discriminated-unions/chaining-with-option.ipynb),” I left a StackOverflow question that received [an answer](https://stackoverflow.com/a/71578086/22944) from Brian Berns. Its answer is _yes_, the `>>` operator _is_ being used to convert from discriminated union (DU) `PizzaConfigMsg` and `Message` defined below:"
   ]
  },
  {
   "cell_type": "code",
   "execution_count": null,
   "metadata": {
    "dotnet_interactive": {
     "language": "fsharp"
    }
   },
   "outputs": [],
   "source": [
    "#!fsharp\n",
    "\n",
    "type PizzaSpecial =\n",
    "    {\n",
    "        Id: int\n",
    "        Name: string\n",
    "        BasePrice: decimal\n",
    "        Description: string\n",
    "        ImageUrl: string\n",
    "    }\n",
    "    member this.FormattedBasePrice = this.BasePrice.ToString(\"0.00\")\n",
    "\n",
    "type Topping =\n",
    "    {\n",
    "        Id: int\n",
    "        Name: string\n",
    "        Price: decimal\n",
    "    }\n",
    "    member this.FormattedBasePrice = this.Price.ToString(\"0.00\")\n",
    "\n",
    "type PizzaTopping =\n",
    "    {\n",
    "        Topping: Topping\n",
    "        ToppingId: int\n",
    "        PizzaId: int\n",
    "    }\n",
    "\n",
    "type Pizza =\n",
    "    {\n",
    "        Id: int\n",
    "        Special: PizzaSpecial\n",
    "        SpecialId: int\n",
    "        Size: int\n",
    "        Toppings: PizzaTopping list\n",
    "    }\n",
    "\n",
    "type PizzaConfigMsg =\n",
    "    | PizzaConfigRequested of PizzaSpecial\n",
    "    | SizeUpdated of int\n",
    "    | ToppingsReceived of Topping list\n",
    "    | ToppingSelected of int\n",
    "    | ToppingRemoved of PizzaTopping\n",
    "    | Cancel\n",
    "    | ConfirmConfig\n",
    "    | ConfigDone of Pizza\n",
    "\n",
    "type Message =\n",
    "    | SpecialsReceived of PizzaSpecial list\n",
    "    | PizzaConfigMsg of PizzaConfigMsg\n"
   ]
  },
  {
   "cell_type": "markdown",
   "metadata": {},
   "source": [
    "The demonstration below is showing how `verbose` and `pointFree` are doing the same thing: convert `pizzaMsg` from `PizzaConfigMsg` to `Message`:"
   ]
  },
  {
   "cell_type": "code",
   "execution_count": null,
   "metadata": {
    "dotnet_interactive": {
     "language": "fsharp"
    }
   },
   "outputs": [
    {
     "name": "stdout",
     "output_type": "stream",
     "text": [
      "PizzaConfigMsg ConfirmConfig\n",
      "PizzaConfigMsg ConfirmConfig\n"
     ]
    }
   ],
   "source": [
    "#!fsharp\n",
    "\n",
    "let dispatch = fun (i: Message) -> i |> printfn \"%A\" // simulate the Elmish `dispatch` type\n",
    "\n",
    "let pizzaMsg = PizzaConfigMsg.ConfirmConfig\n",
    "\n",
    "let verbose = fun p -> p |> Message.PizzaConfigMsg |> dispatch\n",
    "\n",
    "let pointFree = Message.PizzaConfigMsg >> dispatch\n",
    "\n",
    "verbose pizzaMsg\n",
    "\n",
    "pointFree pizzaMsg"
   ]
  },
  {
   "cell_type": "markdown",
   "metadata": {},
   "source": [
    "The expression bound to `pointFree` is an example of _point-free_ or [_tacit programming_](https://en.wikipedia.org/wiki/Tacit_programming) which is an interesting name for an aesthetic I’ve noticed over the years. This point-free syntax would not compile were it not possible to pipe a binding into a type:\n",
    "\n",
    "```fsharp\n",
    "p |> Message.PizzaConfigMsg\n",
    "```\n",
    "\n",
    "This looks like a fundamental feature of F#—and it is. I remind myself how `|>` is defined:\n",
    "\n",
    "```fsharp\n",
    "let (|>) x f = f x\n",
    "```\n",
    "\n",
    "So the `verbose` expression can be rewritten as:"
   ]
  },
  {
   "cell_type": "code",
   "execution_count": null,
   "metadata": {
    "dotnet_interactive": {
     "language": "fsharp"
    }
   },
   "outputs": [
    {
     "name": "stdout",
     "output_type": "stream",
     "text": [
      "PizzaConfigMsg ConfirmConfig\n"
     ]
    }
   ],
   "source": [
    "#!fsharp\n",
    "\n",
    "let verbose = fun p -> (Message.PizzaConfigMsg p) |> dispatch\n",
    "\n",
    "verbose pizzaMsg"
   ]
  },
  {
   "cell_type": "markdown",
   "metadata": {},
   "source": [
    "[Bryan Wilhite is on LinkedIn](https://www.linkedin.com/in/wilhite)🇺🇸💼"
   ]
  }
 ],
 "metadata": {
  "kernelspec": {
   "display_name": ".NET (C#)",
   "language": "C#",
   "name": ".net-csharp"
  },
  "language_info": {
   "file_extension": ".cs",
   "mimetype": "text/x-csharp",
   "name": "C#",
   "pygments_lexer": "csharp",
   "version": "9.0"
  },
  "orig_nbformat": 4
 },
 "nbformat": 4,
 "nbformat_minor": 2
}
