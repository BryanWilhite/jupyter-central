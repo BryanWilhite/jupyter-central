{
 "cells": [
  {
   "cell_type": "markdown",
   "metadata": {
    "dotnet_interactive": {
     "language": "csharp"
    }
   },
   "source": [
    "# discriminated unions: sharing tuples or records?\n",
    "\n",
    "Suppose we have:"
   ]
  },
  {
   "cell_type": "code",
   "execution_count": null,
   "metadata": {
    "dotnet_interactive": {
     "language": "fsharp"
    }
   },
   "outputs": [],
   "source": [
    "#!fsharp\n",
    "\n",
    "type MyTuples =\n",
    "    | One of a: string * b: string * c: string\n",
    "    | Two of a: string * b: string * c: string * d: string\n",
    "    | Three of a: string * b: string * c: string * e: string * f: int\n"
   ]
  },
  {
   "cell_type": "markdown",
   "metadata": {},
   "source": [
    "Would it not be possible to share `a: string * b: string * c: string` among the cases of the DU?"
   ]
  },
  {
   "cell_type": "code",
   "execution_count": null,
   "metadata": {
    "dotnet_interactive": {
     "language": "fsharp"
    }
   },
   "outputs": [],
   "source": [
    "#!fsharp\n",
    "\n",
    "type MyOne = One of a: string * b: string * c: string // the single-case DU\n",
    "\n",
    "type MySharingTuples =\n",
    "    | One of MyOne\n",
    "    | Two of MyOne * d: string\n",
    "    | Three of MyOne * e: string * f: int\n"
   ]
  },
  {
   "cell_type": "markdown",
   "metadata": {},
   "source": [
    "It looks like the answer is _yes_ but we have made two completely different types. Trying to test the equality of `myTwo` and `mySharingTwo` will throw a compile-time `typecheck` error:"
   ]
  },
  {
   "cell_type": "code",
   "execution_count": null,
   "metadata": {
    "dotnet_interactive": {
     "language": "fsharp"
    }
   },
   "outputs": [],
   "source": [
    "#!fsharp\n",
    "\n",
    "let myTwo = MyTuples.Two (a = \"1\", b = \"2\", c = \"3\", d = \"4\")\n",
    "\n",
    "let mySharingTwo = MySharingTuples.Two (MyOne.One (a = \"1\", b = \"2\", c = \"3\"), d = \"4\")\n",
    "\n",
    "// myTwo = mySharingTwo // compile-time typecheck error\n"
   ]
  },
  {
   "cell_type": "markdown",
   "metadata": {},
   "source": [
    "In order to show any kind of equality relationship, say the one between `MyOne` and `MyTuples.One` we can launch into what looks like a fool’s errand:"
   ]
  },
  {
   "cell_type": "code",
   "execution_count": null,
   "metadata": {
    "dotnet_interactive": {
     "language": "fsharp"
    }
   },
   "outputs": [],
   "source": [
    "#!fsharp\n",
    "\n",
    "let getMyOne t =\n",
    "    match t with\n",
    "    | MySharingTuples.One myOne -> myOne\n",
    "    | MySharingTuples.Two (myOne, _) -> myOne\n",
    "    | MySharingTuples.Three (myOne, _, _) -> myOne\n",
    "\n",
    "let unwrapMyOne myOne =\n",
    "    match myOne with\n",
    "    | MyOne.One (a, b, c) -> (a, b, c)\n",
    "\n",
    "let mySharingOne = mySharingTwo |> getMyOne |> unwrapMyOne\n"
   ]
  },
  {
   "cell_type": "markdown",
   "metadata": {},
   "source": [
    "Notice that `mySharingOne` is of type `string * string * string` not of `a: string * b: string * c: string`. We can get the same type bound to `myTuplesOne`:"
   ]
  },
  {
   "cell_type": "code",
   "execution_count": null,
   "metadata": {
    "dotnet_interactive": {
     "language": "fsharp"
    }
   },
   "outputs": [],
   "source": [
    "#!fsharp\n",
    "\n",
    "let unwrapMyTuplesOne t =\n",
    "    match t with\n",
    "    | MyTuples.One (a, b, c) -> (a, b, c)\n",
    "    | MyTuples.Two (a, b, c, _) -> (a, b, c)\n",
    "    | MyTuples.Three (a, b, c, _, _) -> (a, b, c)\n",
    "\n",
    "let myTuplesOne = myTwo |> unwrapMyTuplesOne"
   ]
  },
  {
   "cell_type": "markdown",
   "metadata": {},
   "source": [
    "Now that we have laboriously _transformed_ two different types into the same type we can express equality:"
   ]
  },
  {
   "cell_type": "code",
   "execution_count": null,
   "metadata": {
    "dotnet_interactive": {
     "language": "fsharp"
    }
   },
   "outputs": [
    {
     "data": {
      "text/html": [
       "<div class=\"dni-plaintext\">True</div>"
      ]
     },
     "metadata": {},
     "output_type": "display_data"
    }
   ],
   "source": [
    "#!fsharp\n",
    "\n",
    "mySharingOne = myTuplesOne"
   ]
  },
  {
   "cell_type": "markdown",
   "metadata": {},
   "source": [
    "Alternatively, when we want something of `a: string * b: string * c: string` we can use a conversion function, `toMyOne`:"
   ]
  },
  {
   "cell_type": "code",
   "execution_count": null,
   "metadata": {
    "dotnet_interactive": {
     "language": "fsharp"
    }
   },
   "outputs": [
    {
     "data": {
      "text/html": [
       "<div class=\"dni-plaintext\">True</div>"
      ]
     },
     "metadata": {},
     "output_type": "display_data"
    }
   ],
   "source": [
    "#!fsharp\n",
    "\n",
    "let toMyOne t =\n",
    "    match t with\n",
    "    | MyTuples.One (a, b, c) -> MyOne.One(a = a, b = b, c = c)\n",
    "    | MyTuples.Two (a, b, c, _) -> MyOne.One(a = a, b = b, c = c)\n",
    "    | MyTuples.Three (a, b, c, _, _) -> MyOne.One(a = a, b = b, c = c)\n",
    "\n",
    "(myTwo |> toMyOne) = (mySharingTwo |> getMyOne)"
   ]
  },
  {
   "cell_type": "markdown",
   "metadata": {},
   "source": [
    "This is less laborious."
   ]
  },
  {
   "cell_type": "markdown",
   "metadata": {},
   "source": [
    "## what have i learned so far?\n",
    "\n",
    "- this entire investigation of mine is possibly a waste of time\n",
    "- it may not be possible to express tuples with field labels without a type qualifier (there is no such thing as an anonymous tuple with field labels in F#?)\n",
    "- complex tuple-based structures would require nightmares of `match`-`with` decomposition\n",
    "- replacing `match t with` with `function` confuses the compiler (under .NET Interactive)\n",
    "\n",
    "And I have learned to ask, Is not the concept of casting from one type to another with tuples possible in F#? Today, I assume that `toMyOne` is the equivalent of casting that we would be looking for—when sent on this fool’s errand."
   ]
  },
  {
   "cell_type": "markdown",
   "metadata": {},
   "source": [
    "## the same fool’s errand but with records\n",
    "\n",
    "What would this errand be like using anonymous records? Let’s look at `MyRecords`:"
   ]
  },
  {
   "cell_type": "code",
   "execution_count": null,
   "metadata": {
    "dotnet_interactive": {
     "language": "fsharp"
    }
   },
   "outputs": [],
   "source": [
    "#!fsharp\n",
    "\n",
    "type MyRecords =\n",
    "    | One of {| a: string; b: string; c: string |}\n",
    "    | Two of {| a: string; b: string; c: string; d: string |}\n",
    "    | Three of {| a: string; b: string; c: string; e: string; f: int |}"
   ]
  },
  {
   "cell_type": "markdown",
   "metadata": {},
   "source": [
    "`{| a: string; b: string; c: string |}` is an [anonymous record](https://docs.microsoft.com/en-us/dotnet/fsharp/language-reference/anonymous-records) that can be upcast [📖 [docs](https://docs.microsoft.com/en-us/dotnet/fsharp/language-reference/casting-and-conversions)] to `obj` but downcast to nothing, including `MyRecordOne` below:"
   ]
  },
  {
   "cell_type": "code",
   "execution_count": null,
   "metadata": {
    "dotnet_interactive": {
     "language": "fsharp"
    }
   },
   "outputs": [],
   "source": [
    "#!fsharp\n",
    "\n",
    "type MyRecordOne = { a: string; b: string; c: string }\n",
    "\n",
    "type MySharingRecords =\n",
    "    | One of MyRecordOne\n",
    "    | Two of MyRecordOne * d: string // hey! …we are mixing records with tuples here!\n",
    "    | Three of MyRecordOne * e: string * f: int"
   ]
  },
  {
   "cell_type": "markdown",
   "metadata": {},
   "source": [
    "`MySharingRecords.Two` is mixing records with tuples which looks like I am perfecting confusion. At first, we might want to find the record equivalent of this record-tuple mix. Would it not be cool to do something like this in F#:\n",
    "\n",
    "```fsharp\n",
    "type MySharingRecords =\n",
    "    | One of MyRecordOne\n",
    "    | Two of { MyRecordOne with d: string }\n",
    "    | Three of { MyRecordOne with e: string; f: int }\n",
    "```\n",
    "\n",
    "?\n",
    "\n",
    "No? Yes? A language feature like this would make records essentially similar to dictionaries (which is what is going on in JavaScript) which means the pattern matching features of F# would have to change or be useless.\n",
    "\n",
    "According to [Brian Berns](https://stackoverflow.com/users/344223/brian-berns), his StackOverflow [answer](https://stackoverflow.com/a/70544193/22944), mixing tuples with a _shared_ record is _exactly_ what we are supposed to do."
   ]
  },
  {
   "cell_type": "markdown",
   "metadata": {},
   "source": [
    "## not quite a fool’s errand: _mixing_ records and tuples\n",
    "\n",
    "Mixing records and tuples in F# can be the equivalent of extending objects in JavaScript."
   ]
  },
  {
   "cell_type": "code",
   "execution_count": null,
   "metadata": {
    "dotnet_interactive": {
     "language": "fsharp"
    }
   },
   "outputs": [],
   "source": [
    "#!fsharp\n",
    "\n",
    "type MyTupleWithSharedRecord =\n",
    "    | One of MyRecordOne\n",
    "    | Two of MyRecordOne * d: string\n",
    "    | Three of MyRecordOne * e: string * f: int\n",
    "\n",
    "    with\n",
    "    member this.UnwrapRecord =\n",
    "        match this with\n",
    "            | One record -> record\n",
    "            | Two (record, _) -> record\n",
    "            | Three (record, _, _) -> record"
   ]
  },
  {
   "cell_type": "markdown",
   "metadata": {},
   "source": [
    "This `MyTupleWithSharedRecord.UnwrapRecord` is a static member similar to the other `unwrap*` functions in this writ."
   ]
  },
  {
   "cell_type": "code",
   "execution_count": null,
   "metadata": {
    "dotnet_interactive": {
     "language": "fsharp"
    }
   },
   "outputs": [
    {
     "data": {
      "text/html": [
       "<div class=\"dni-plaintext\">True</div>"
      ]
     },
     "metadata": {},
     "output_type": "display_data"
    }
   ],
   "source": [
    "#!fsharp\n",
    "\n",
    "let toAnonTwo (data: MyRecords) =\n",
    "    match data with\n",
    "    | MyRecords.Two anon -> anon\n",
    "    | _ -> failwith \"There has be another way better than this!\"\n",
    "\n",
    "let toMyRecordOne (data: {| a: string; b: string; c: string; d: string |}) =\n",
    "    { a = data.a; b = data.b; c = data.c }\n",
    "\n",
    "let myTwo = MyRecords.Two {| a = \"1\"; b = \"2\"; c = \"3\"; d = \"4\" |}\n",
    "\n",
    "let mySharingTwo = MyTupleWithSharedRecord.Two ({ a = \"1\"; b = \"2\"; c = \"3\" }, d = \"4\")\n",
    "\n",
    "(myTwo |> toAnonTwo |> toMyRecordOne) = mySharingTwo.UnwrapRecord"
   ]
  },
  {
   "cell_type": "markdown",
   "metadata": {},
   "source": [
    "## what have i learned so far?\n",
    "\n",
    "The most important take way here is that a record multiplied by ad hoc types in a tuple can approximate the object-extending features in JavaScript. An anonymous object (usually coming from JSON) can be converted to a local F# record type but embedding that record type in a discriminated union of tuples can capture any new properties hanging off the anonymous object that the local F# record type cannot (and should not) represent.\n",
    "\n",
    "This `UnwrapRecord` member of the DU type can pass a local, formal F# record instance to some kind of storage layer. This is quite a flexible design!"
   ]
  },
  {
   "cell_type": "markdown",
   "metadata": {},
   "source": [
    "@[BryanWilhite](https://twitter.com/BryanWilhite)"
   ]
  }
 ],
 "metadata": {
  "kernelspec": {
   "display_name": ".NET (C#)",
   "language": "C#",
   "name": ".net-csharp"
  },
  "language_info": {
   "file_extension": ".cs",
   "mimetype": "text/x-csharp",
   "name": "C#",
   "pygments_lexer": "csharp",
   "version": "9.0"
  },
  "orig_nbformat": 4
 },
 "nbformat": 4,
 "nbformat_minor": 2
}
