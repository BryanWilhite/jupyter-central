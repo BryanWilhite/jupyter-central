{
 "cells": [
  {
   "cell_type": "markdown",
   "metadata": {},
   "source": [
    "# are discriminated unions like Typescript literal types?\n",
    "\n",
    "Let us see whether there is an F# equivalent to the following:\n",
    "\n",
    "```typescript\n",
    "/**\n",
    " * styling variables for this App\n",
    " */\n",
    "export type YouTubeCssVariables =\n",
    "\n",
    "    /* html anchor */\n",
    "    '--thumbs-header-link-color' |\n",
    "    '--thumbs-header-link-text-decoration' |\n",
    "\n",
    "    /* thumbs set */\n",
    "    '--thumbs-set-header-color' |\n",
    "    '--thumbs-set-background-color' |\n",
    "    '--thumbs-set-header-position' |\n",
    "    '--thumbs-set-padding-top'\n",
    "    ;\n",
    "\n",
    "/**\n",
    " * defines a name-value pair for a CSS variable\n",
    " */\n",
    "export interface YouTubeCssOption {\n",
    "    /**\n",
    "     * CSS variable name\n",
    "     */\n",
    "    variableName: YouTubeCssVariables;\n",
    "\n",
    "    /**\n",
    "     * CSS variable value\n",
    "     */\n",
    "    variableValue: string;\n",
    "}\n",
    "```"
   ]
  },
  {
   "cell_type": "markdown",
   "metadata": {},
   "source": [
    "With my current level of ignorance, I assume that the F# equivalent is the following type, a discriminated with three members:"
   ]
  },
  {
   "cell_type": "code",
   "execution_count": null,
   "metadata": {
    "dotnet_interactive": {
     "language": "fsharp"
    }
   },
   "outputs": [],
   "source": [
    "#!fsharp\n",
    "\n",
    "type YouTubeCssVariable =\n",
    "    | ThumbsHeaderLinkColor of string\n",
    "    | ThumbsHeaderLinkTextDecoration of string\n",
    "    | ThumbsSetHeaderColor of string\n",
    "    | ThumbsSetBackgroundColor of string\n",
    "    | ThumbsSetHeaderPosition of string\n",
    "    | ThumbsSetPaddingTop of string\n",
    "\n",
    "    member this.Name =\n",
    "        match this with\n",
    "        | ThumbsHeaderLinkColor _ -> \"--thumbs-header-link-color\"\n",
    "        | ThumbsHeaderLinkTextDecoration _ -> \"--thumbs-header-link-text-decoration\"\n",
    "        | ThumbsSetHeaderColor _ -> \"--thumbs-set-header-color\"\n",
    "        | ThumbsSetBackgroundColor _ -> \"--thumbs-set-background-color\"\n",
    "        | ThumbsSetHeaderPosition _ -> \"--thumbs-set-header-position\"\n",
    "        | ThumbsSetPaddingTop _ -> \"--thumbs-set-padding-top\"\n",
    "\n",
    "    member this.Value =\n",
    "        match this with\n",
    "        | ThumbsHeaderLinkColor v -> v\n",
    "        | ThumbsHeaderLinkTextDecoration v -> v\n",
    "        | ThumbsSetHeaderColor v -> v\n",
    "        | ThumbsSetBackgroundColor v -> v\n",
    "        | ThumbsSetHeaderPosition v -> v\n",
    "        | ThumbsSetPaddingTop v -> v\n",
    "\n",
    "    member this.Pair =\n",
    "        let n = this.Name\n",
    "        let v = this.Value\n",
    "        n, v\n"
   ]
  },
  {
   "cell_type": "markdown",
   "metadata": {},
   "source": [
    "This single, `YouTubeCssVariable` type is the equivalent of the [literal type](https://www.typescriptlang.org/docs/handbook/2/everyday-types.html#literal-types), `YouTubeCssVariables` _and_ the interface, `YouTubeCssOption`, we have in Typescript. This means that the equivalent assignment in Typescript:\n",
    "\n",
    "```typescript\n",
    "{\n",
    "    variableName: '--thumbs-set-background-color',\n",
    "    variableValue: 'inherit'\n",
    "}\n",
    "```\n",
    "\n",
    "…looks like this in F#:"
   ]
  },
  {
   "cell_type": "code",
   "execution_count": null,
   "metadata": {
    "dotnet_interactive": {
     "language": "fsharp"
    }
   },
   "outputs": [
    {
     "name": "stdout",
     "output_type": "stream",
     "text": [
      "(\"--thumbs-set-background-color\", \"inherit\")"
     ]
    }
   ],
   "source": [
    "#!fsharp\n",
    "\n",
    "let thumbsSetHeaderColor = ThumbsSetBackgroundColor \"inherit\"\n",
    "\n",
    "thumbsSetHeaderColor.Pair |> printf \"%A\""
   ]
  },
  {
   "cell_type": "markdown",
   "metadata": {},
   "source": [
    "@[BryanWilhite](https://twitter.com/BryanWilhite)"
   ]
  }
 ],
 "metadata": {
  "kernelspec": {
   "display_name": ".NET (C#)",
   "language": "C#",
   "name": ".net-csharp"
  },
  "language_info": {
   "file_extension": ".cs",
   "mimetype": "text/x-csharp",
   "name": "C#",
   "pygments_lexer": "csharp",
   "version": "9.0"
  },
  "orig_nbformat": 4
 },
 "nbformat": 4,
 "nbformat_minor": 2
}
