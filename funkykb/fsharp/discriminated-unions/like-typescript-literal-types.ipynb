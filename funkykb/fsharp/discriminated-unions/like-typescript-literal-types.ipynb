{
 "cells": [
  {
   "cell_type": "markdown",
   "metadata": {},
   "source": [
    "# are discriminated unions like Typescript literal types?\n",
    "\n",
    "Let us see whether there is an F# equivalent to the following:\n",
    "\n",
    "```typescript\n",
    "/**\n",
    " * styling variables for this App\n",
    " */\n",
    "export type YouTubeCssVariables =\n",
    "\n",
    "    /* html anchor */\n",
    "    '--thumbs-header-link-color' |\n",
    "    '--thumbs-header-link-text-decoration' |\n",
    "\n",
    "    /* thumbs set */\n",
    "    '--thumbs-set-header-color' |\n",
    "    '--thumbs-set-background-color' |\n",
    "    '--thumbs-set-header-position' |\n",
    "    '--thumbs-set-padding-top'\n",
    "    ;\n",
    "\n",
    "/**\n",
    " * defines a name-value pair for a CSS variable\n",
    " */\n",
    "export interface YouTubeCssOption {\n",
    "    /**\n",
    "     * CSS variable name\n",
    "     */\n",
    "    variableName: YouTubeCssVariables;\n",
    "\n",
    "    /**\n",
    "     * CSS variable value\n",
    "     */\n",
    "    variableValue: string;\n",
    "}\n",
    "```"
   ]
  },
  {
   "cell_type": "markdown",
   "metadata": {},
   "source": [
    "With my current level of ignorance, I assume that the F# equivalent is the following type, a discriminated with three members:"
   ]
  },
  {
   "cell_type": "code",
   "execution_count": null,
   "metadata": {
    "dotnet_interactive": {
     "language": "fsharp"
    }
   },
   "outputs": [],
   "source": [
    "#!fsharp\n",
    "\n",
    "type YouTubeCssVariable =\n",
    "    | ThumbsHeaderLinkColor of string\n",
    "    | ThumbsHeaderLinkTextDecoration of string\n",
    "    | ThumbsSetHeaderColor of string\n",
    "    | ThumbsSetBackgroundColor of string\n",
    "    | ThumbsSetHeaderPosition of string\n",
    "    | ThumbsSetPaddingTop of string\n",
    "\n",
    "    member this.Name =\n",
    "        match this with\n",
    "        | ThumbsHeaderLinkColor _ -> \"--thumbs-header-link-color\"\n",
    "        | ThumbsHeaderLinkTextDecoration _ -> \"--thumbs-header-link-text-decoration\"\n",
    "        | ThumbsSetHeaderColor _ -> \"--thumbs-set-header-color\"\n",
    "        | ThumbsSetBackgroundColor _ -> \"--thumbs-set-background-color\"\n",
    "        | ThumbsSetHeaderPosition _ -> \"--thumbs-set-header-position\"\n",
    "        | ThumbsSetPaddingTop _ -> \"--thumbs-set-padding-top\"\n",
    "\n",
    "    member this.Value =\n",
    "        match this with\n",
    "        | ThumbsHeaderLinkColor v -> v\n",
    "        | ThumbsHeaderLinkTextDecoration v -> v\n",
    "        | ThumbsSetHeaderColor v -> v\n",
    "        | ThumbsSetBackgroundColor v -> v\n",
    "        | ThumbsSetHeaderPosition v -> v\n",
    "        | ThumbsSetPaddingTop v -> v\n",
    "\n",
    "    member this.Pair =\n",
    "        let n = this.Name\n",
    "        let v = this.Value\n",
    "        n, v\n"
   ]
  },
  {
   "cell_type": "markdown",
   "metadata": {},
   "source": [
    "This single, `YouTubeCssVariable` type is the equivalent of the [literal type](https://www.typescriptlang.org/docs/handbook/2/everyday-types.html#literal-types), `YouTubeCssVariables` _and_ the interface, `YouTubeCssOption`, we have in Typescript. This means that the equivalent assignment in Typescript:\n",
    "\n",
    "```typescript\n",
    "{\n",
    "    variableName: '--thumbs-set-background-color',\n",
    "    variableValue: 'inherit'\n",
    "}\n",
    "```\n",
    "\n",
    "…looks like this in F#:"
   ]
  },
  {
   "cell_type": "code",
   "execution_count": null,
   "metadata": {
    "dotnet_interactive": {
     "language": "fsharp"
    }
   },
   "outputs": [
    {
     "name": "stdout",
     "output_type": "stream",
     "text": [
      "(\"--thumbs-set-background-color\", \"inherit\")"
     ]
    }
   ],
   "source": [
    "#!fsharp\n",
    "\n",
    "let thumbsSetHeaderColor = ThumbsSetBackgroundColor \"inherit\"\n",
    "\n",
    "thumbsSetHeaderColor.Pair |> printf \"%A\""
   ]
  },
  {
   "cell_type": "markdown",
   "metadata": {},
   "source": [
    "## the Tomas Petricek approach\n",
    "\n",
    "Tomas Petricek was kind enough to take my question seriously and [answer it](https://stackoverflow.com/a/71528232/22944). His approach is to resort to .NET Reflection (for the sake of maintainable code). So, with his guidance, I would start with his general-purpose format function and another rendition of `YouTubeCssVariable`:"
   ]
  },
  {
   "cell_type": "code",
   "execution_count": null,
   "metadata": {
    "dotnet_interactive": {
     "language": "fsharp"
    }
   },
   "outputs": [],
   "source": [
    "#!fsharp\n",
    "\n",
    "open System\n",
    "open Microsoft.FSharp.Reflection\n",
    "\n",
    "let formatCase<'T> () =\n",
    "  let formatName (s:string) =\n",
    "    [ yield \"-\"\n",
    "      for c in s do\n",
    "        if Char.IsUpper(c) then yield \"-\"\n",
    "        yield c.ToString().ToLower() ]\n",
    "    |> String.concat \"\"\n",
    "  let lookup = \n",
    "    FSharpType.GetUnionCases(typeof<'T>)\n",
    "    |> Seq.map (fun c -> FSharpValue.MakeUnion(c, [||]), formatName c.Name)\n",
    "    |> dict\n",
    "  fun (c:'T) -> lookup.[c]\n",
    "\n",
    "type YouTubeCssVariable =\n",
    "    | ThumbsHeaderLinkColor\n",
    "    | ThumbsHeaderLinkTextDecoration\n",
    "    | ThumbsSetHeaderColor\n",
    "    | ThumbsSetBackgroundColor\n",
    "    | ThumbsSetHeaderPosition\n",
    "    | ThumbsSetPaddingTop"
   ]
  },
  {
   "cell_type": "markdown",
   "metadata": {},
   "source": [
    "## my post-Tomas approach\n",
    "\n",
    "Tomas is basically not telling me directly that there is no direct translation from Typescript to F# as he concentrates solely on using Reflection to convert a Pascal-case string to a snake-case string:"
   ]
  },
  {
   "cell_type": "code",
   "execution_count": null,
   "metadata": {
    "dotnet_interactive": {
     "language": "fsharp"
    }
   },
   "outputs": [
    {
     "data": {
      "text/plain": [
       "--thumbs-set-background-color"
      ]
     },
     "metadata": {},
     "output_type": "display_data"
    }
   ],
   "source": [
    "#!fsharp\n",
    "\n",
    "let f = formatCase<YouTubeCssVariable>()\n",
    "\n",
    "f ThumbsSetBackgroundColor"
   ]
  },
  {
   "cell_type": "markdown",
   "metadata": {},
   "source": [
    "It seems clear to me (today) that I could use `nameof` to accomplish the same thing:"
   ]
  },
  {
   "cell_type": "code",
   "execution_count": null,
   "metadata": {
    "dotnet_interactive": {
     "language": "fsharp"
    }
   },
   "outputs": [
    {
     "data": {
      "text/plain": [
       "ThumbsSetBackgroundColor"
      ]
     },
     "metadata": {},
     "output_type": "display_data"
    }
   ],
   "source": [
    "#!fsharp\n",
    "\n",
    "nameof ThumbsSetBackgroundColor"
   ]
  },
  {
   "cell_type": "markdown",
   "metadata": {},
   "source": [
    "Now that we have a Pascal-case string we can use a utility like my `ToSnakeCase` method [[GitHub](https://github.com/BryanWilhite/SonghayCore/blob/master/SonghayCore/Extensions/StringExtensions.Fluent.cs#L212)] (in C#). In fact, the `formatName` function from Tomas is very much like my `ToSnakeCase` method—so I will appropriate it with a more general-purpose name:"
   ]
  },
  {
   "cell_type": "code",
   "execution_count": null,
   "metadata": {
    "dotnet_interactive": {
     "language": "fsharp"
    }
   },
   "outputs": [
    {
     "data": {
      "text/plain": [
       "thumbs-set-background-color"
      ]
     },
     "metadata": {},
     "output_type": "display_data"
    }
   ],
   "source": [
    "#!fsharp\n",
    "\n",
    "let toSnakeCase (s: string) =\n",
    "    let processChar i c =\n",
    "        if (i > 0) && Char.IsUpper(c) then $\"-{Char.ToLower(c)}\"\n",
    "        else $\"{Char.ToLower(c)}\"\n",
    "    let stringArray = s.ToCharArray() |> Array.mapi processChar\n",
    "    String.Join(String.Empty, stringArray)\n",
    "\n",
    "\"ThumbsSetBackgroundColor\" |> toSnakeCase"
   ]
  },
  {
   "cell_type": "markdown",
   "metadata": {},
   "source": [
    "Now I can use my `toSnakeCase` function to eliminate the magic-string smell:"
   ]
  },
  {
   "cell_type": "code",
   "execution_count": null,
   "metadata": {
    "dotnet_interactive": {
     "language": "fsharp"
    }
   },
   "outputs": [],
   "source": [
    "#!fsharp\n",
    "\n",
    "type YouTubeCssVariable =\n",
    "    | ThumbsHeaderLinkColor of string\n",
    "    | ThumbsHeaderLinkTextDecoration of string\n",
    "    | ThumbsSetHeaderColor of string\n",
    "    | ThumbsSetBackgroundColor of string\n",
    "    | ThumbsSetHeaderPosition of string\n",
    "    | ThumbsSetPaddingTop of string\n",
    "\n",
    "    member this.Name =\n",
    "        let name =\n",
    "            match this with\n",
    "            | ThumbsHeaderLinkColor _ -> nameof ThumbsHeaderLinkColor |> toSnakeCase\n",
    "            | ThumbsHeaderLinkTextDecoration _ -> nameof ThumbsHeaderLinkTextDecoration |> toSnakeCase\n",
    "            | ThumbsSetHeaderColor _ -> nameof ThumbsSetHeaderColor |> toSnakeCase\n",
    "            | ThumbsSetBackgroundColor _ -> nameof ThumbsSetBackgroundColor |> toSnakeCase\n",
    "            | ThumbsSetHeaderPosition _ -> nameof ThumbsSetHeaderPosition |> toSnakeCase\n",
    "            | ThumbsSetPaddingTop _ -> nameof ThumbsSetPaddingTop |> toSnakeCase\n",
    "        $\"--{name}\"\n",
    "\n",
    "    member this.Value =\n",
    "        match this with\n",
    "        | ThumbsHeaderLinkColor v -> v\n",
    "        | ThumbsHeaderLinkTextDecoration v -> v\n",
    "        | ThumbsSetHeaderColor v -> v\n",
    "        | ThumbsSetBackgroundColor v -> v\n",
    "        | ThumbsSetHeaderPosition v -> v\n",
    "        | ThumbsSetPaddingTop v -> v\n",
    "\n",
    "    member this.Pair =\n",
    "        let n = this.Name\n",
    "        let v = this.Value\n",
    "        n, v\n"
   ]
  },
  {
   "cell_type": "markdown",
   "metadata": {},
   "source": [
    "`YouTubeCssVariable` is now slightly better but still super verbose (but also very clear and open to change).\n",
    "\n",
    "In my ignorance, I would like to see:\n",
    "\n",
    "- F# `match` cases support generics\n",
    "- treat discriminated union members like data\n",
    "\n",
    "In the mean time, I can return to the `printf` expression from above with a slightly better `YouTubeCssVariable` type:"
   ]
  },
  {
   "cell_type": "code",
   "execution_count": null,
   "metadata": {
    "dotnet_interactive": {
     "language": "fsharp"
    }
   },
   "outputs": [
    {
     "name": "stdout",
     "output_type": "stream",
     "text": [
      "(\"--thumbs-set-background-color\", \"inherit\")"
     ]
    }
   ],
   "source": [
    "#!fsharp\n",
    "\n",
    "let thumbsSetHeaderColor = ThumbsSetBackgroundColor \"inherit\"\n",
    "\n",
    "thumbsSetHeaderColor.Pair |> printf \"%A\""
   ]
  },
  {
   "cell_type": "markdown",
   "metadata": {},
   "source": [
    "@[BryanWilhite](https://twitter.com/BryanWilhite)"
   ]
  }
 ],
 "metadata": {
  "kernelspec": {
   "display_name": ".NET (C#)",
   "language": "C#",
   "name": ".net-csharp"
  },
  "language_info": {
   "file_extension": ".cs",
   "mimetype": "text/x-csharp",
   "name": "C#",
   "pygments_lexer": "csharp",
   "version": "9.0"
  },
  "orig_nbformat": 4
 },
 "nbformat": 4,
 "nbformat_minor": 2
}
