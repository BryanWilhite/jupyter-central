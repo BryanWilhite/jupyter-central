{
 "cells": [
  {
   "cell_type": "markdown",
   "metadata": {},
   "source": [
    "# chaining DUs with `Option`\n",
    "\n",
    "In the wonderful `FBlazorShop` repo, [Onur Gumus](https://github.com/OnurGumus) is riffing off of Steve Sanderson’s [Pizza Workshop](https://github.com/dotnet-presentations/blazor-workshop) with F# flavor. On line 128 of `blob/master/FBlazorShop.Web.BlazorClient/Home/Home.fs` [[GitHub](https://github.com/OnurGumus/FBlazorShop/blob/master/FBlazorShop.Web.BlazorClient/Home/Home.fs#L120)], Onur is passing an Elmish `Message` for the parent, `HomeView`, inheriting `ElmishComponent<Model, Message>` , to a child, `PizzaConfigView`, inheriting `ElmishComponent<Model, PizzaConfigMsg>`. By convention, we can see `Message` being converted (?) to `PizzaConfigMsg` with this:\n",
    "\n",
    "```fsharp\n",
    "(PizzaConfigMsg >> dispatch)\n",
    "```\n",
    "\n",
    "where `dispatch` is of type `Message -> unit`. At the time of this writing, I have no idea how this ‘conversion’ is happening (in part because I refuse to compile this repo by [going back to .NET core 3.x](https://github.com/OnurGumus/FBlazorShop/blob/2c8739a42c726f5f39c941be8f8186fdb066f3a0/global.json#L3)). I am not familiar with this usage of the `>>` operator. Is this operation actually a conversion or is something else going on?\n",
    "\n",
    "While this [question is out there](https://stackoverflow.com/questions/71577840/passing-converting-elmish-dispatch-messages-from-a-parent-component-to-a-child), I have an alternative way to ‘chain’ discriminated union (DU) types:"
   ]
  },
  {
   "cell_type": "code",
   "execution_count": null,
   "metadata": {
    "dotnet_interactive": {
     "language": "fsharp"
    }
   },
   "outputs": [],
   "source": [
    "#!fsharp\n",
    "\n",
    "type LevelTwo =\n",
    "    | PointFour\n",
    "    | PointFive\n",
    "\n",
    "type LevelOne =\n",
    "    | PointOne\n",
    "    | PointTwo\n",
    "    | PointThree\n",
    "    | LevelTwo of LevelTwo\n",
    "\n",
    "    member this.ToLevelTwo =\n",
    "        match this with\n",
    "        | LevelTwo v -> Some v\n",
    "        | _ -> None"
   ]
  },
  {
   "cell_type": "markdown",
   "metadata": {},
   "source": [
    "Adding the `ToLevelTwo` member expresses the knowledge `LevelOne` has about `LevelTwo` (but not _vice versa_). This approach demands that the conversion be wrapped in `Option`:"
   ]
  },
  {
   "cell_type": "code",
   "execution_count": null,
   "metadata": {
    "dotnet_interactive": {
     "language": "fsharp"
    }
   },
   "outputs": [
    {
     "name": "stdout",
     "output_type": "stream",
     "text": [
      "Some PointFour"
     ]
    }
   ],
   "source": [
    "#!fsharp\n",
    "\n",
    "let input = LevelOne.LevelTwo PointFour\n",
    "\n",
    "input.ToLevelTwo |> printf \"%A\""
   ]
  },
  {
   "cell_type": "markdown",
   "metadata": {},
   "source": [
    "@[BryanWilhite](https://twitter.com/BryanWilhite)"
   ]
  }
 ],
 "metadata": {
  "kernelspec": {
   "display_name": ".NET (C#)",
   "language": "C#",
   "name": ".net-csharp"
  },
  "language_info": {
   "file_extension": ".cs",
   "mimetype": "text/x-csharp",
   "name": "C#",
   "pygments_lexer": "csharp",
   "version": "9.0"
  },
  "orig_nbformat": 4
 },
 "nbformat": 4,
 "nbformat_minor": 2
}
