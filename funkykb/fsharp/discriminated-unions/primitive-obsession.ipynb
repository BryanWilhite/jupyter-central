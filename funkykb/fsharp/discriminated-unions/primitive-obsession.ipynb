{
 "cells": [
  {
   "cell_type": "markdown",
   "metadata": {},
   "source": [
    "# primitive obsession\n",
    "\n",
    "The prominent challenge with “[primitive obsession](http://sourcemaking.com/refactoring/primitive-obsession)” in F# is _unwrapping_ the meticulously labeled scalar value. For example, we define `HexValue` and wrap it in a `string`:"
   ]
  },
  {
   "cell_type": "code",
   "execution_count": null,
   "metadata": {
    "dotnet_interactive": {
     "language": "fsharp"
    }
   },
   "outputs": [],
   "source": [
    "#!fsharp\n",
    "\n",
    "type HexValue =\n",
    "    | HexValue of string\n",
    "\n",
    "    member this.Value = let (HexValue v) = this in v\n",
    "\n",
    "let myHex = HexValue \"#701718\""
   ]
  },
  {
   "cell_type": "markdown",
   "metadata": {},
   "source": [
    "We can see that `let (HexValue v)` binding expression above and we know that this will unwrap our `string`. We can carry this unwrapping routine in a `member` of `HexValue`, follwing the guidance of [a StackOverflow answer](https://stackoverflow.com/a/51803346/22944) from Tomas Petricek:"
   ]
  },
  {
   "cell_type": "code",
   "execution_count": null,
   "metadata": {
    "dotnet_interactive": {
     "language": "fsharp"
    }
   },
   "outputs": [
    {
     "data": {
      "text/plain": [
       "#701718"
      ]
     },
     "metadata": {},
     "output_type": "display_data"
    }
   ],
   "source": [
    "#!fsharp\n",
    "\n",
    "myHex.Value"
   ]
  },
  {
   "cell_type": "markdown",
   "metadata": {},
   "source": [
    "## two levels of primitive obsession\n",
    "\n",
    "This `.Value` member is truly awesome but what happens when we have something like `ColorHexValue`?"
   ]
  },
  {
   "cell_type": "code",
   "execution_count": null,
   "metadata": {
    "dotnet_interactive": {
     "language": "fsharp"
    }
   },
   "outputs": [],
   "source": [
    "\n",
    "#!fsharp\n",
    "\n",
    "type ColorHexValue = \n",
    "    | ColorHexValue of HexValue\n",
    "\n",
    "    static member FromString s = ColorHexValue (HexValue s)\n",
    "\n",
    "    member this.Value = let (ColorHexValue v) = this in v\n",
    "\n",
    "    member this.Unwrap = this.Value.Value\n"
   ]
  },
  {
   "cell_type": "markdown",
   "metadata": {},
   "source": [
    "Two members, `FromString` and `Unwrap` are added to prevent verbosity like this:"
   ]
  },
  {
   "cell_type": "code",
   "execution_count": null,
   "metadata": {
    "dotnet_interactive": {
     "language": "fsharp"
    }
   },
   "outputs": [
    {
     "data": {
      "text/plain": [
       "#701718"
      ]
     },
     "metadata": {},
     "output_type": "display_data"
    }
   ],
   "source": [
    "#!fsharp\n",
    "\n",
    "let hex = ColorHexValue (HexValue \"#701718\")\n",
    "\n",
    "hex.Value.Value"
   ]
  },
  {
   "cell_type": "markdown",
   "metadata": {},
   "source": [
    "Instead, we can do this:"
   ]
  },
  {
   "cell_type": "code",
   "execution_count": null,
   "metadata": {
    "dotnet_interactive": {
     "language": "fsharp"
    }
   },
   "outputs": [
    {
     "data": {
      "text/plain": [
       "#701718"
      ]
     },
     "metadata": {},
     "output_type": "display_data"
    }
   ],
   "source": [
    "#!fsharp\n",
    "\n",
    "let betterHex = ColorHexValue.FromString \"#701718\"\n",
    "\n",
    "betterHex.Unwrap"
   ]
  },
  {
   "cell_type": "markdown",
   "metadata": {},
   "source": [
    "[Bryan Wilhite is on LinkedIn](https://www.linkedin.com/in/wilhite)🇺🇸💼"
   ]
  }
 ],
 "metadata": {
  "kernelspec": {
   "display_name": ".NET (C#)",
   "language": "C#",
   "name": ".net-csharp"
  },
  "language_info": {
   "file_extension": ".cs",
   "mimetype": "text/x-csharp",
   "name": "C#",
   "pygments_lexer": "csharp",
   "version": "9.0"
  },
  "orig_nbformat": 4
 },
 "nbformat": 4,
 "nbformat_minor": 2
}
