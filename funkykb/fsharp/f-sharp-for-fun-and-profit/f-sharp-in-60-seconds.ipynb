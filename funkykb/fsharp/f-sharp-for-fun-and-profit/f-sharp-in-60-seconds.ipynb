{
 "cells": [
  {
   "cell_type": "markdown",
   "metadata": {},
   "source": [
    "# F# in 60 seconds\n",
    "\n",
    "📖 <https://fsharpforfunandprofit.com/posts/fsharp-in-60-seconds/>\n",
    "\n",
    "📖 <https://fsharpforfunandprofit.com/site-contents/>\n",
    "\n",
    "binding with `let`:\n"
   ]
  },
  {
   "cell_type": "code",
   "execution_count": 1,
   "metadata": {
    "dotnet_interactive": {
     "language": "fsharp"
    },
    "tags": [],
    "vscode": {
     "languageId": "polyglot-notebook"
    }
   },
   "outputs": [
    {
     "data": {
      "text/html": [
       "<details open=\"open\" class=\"dni-treeview\"><summary><span class=\"dni-code-hint\"><code>[ 2, 3, 4, 5 ]</code></span></summary><div><table><thead><tr></tr></thead><tbody><tr><td>HeadOrDefault</td><td><div class=\"dni-plaintext\"><pre>2</pre></div></td></tr><tr><td>TailOrNull</td><td><details class=\"dni-treeview\"><summary><span class=\"dni-code-hint\"><code>[ 3, 4, 5 ]</code></span></summary><div><table><thead><tr></tr></thead><tbody><tr><td>HeadOrDefault</td><td><div class=\"dni-plaintext\"><pre>3</pre></div></td></tr><tr><td>TailOrNull</td><td><details class=\"dni-treeview\"><summary><span class=\"dni-code-hint\"><code>[ 4, 5 ]</code></span></summary><div><table><thead><tr></tr></thead><tbody><tr><td>HeadOrDefault</td><td><div class=\"dni-plaintext\"><pre>4</pre></div></td></tr><tr><td>TailOrNull</td><td><details class=\"dni-treeview\"><summary><span class=\"dni-code-hint\"><code>[ 5 ]</code></span></summary><div><table><thead><tr></tr></thead><tbody><tr><td>HeadOrDefault</td><td><div class=\"dni-plaintext\"><pre>5</pre></div></td></tr><tr><td>TailOrNull</td><td><details class=\"dni-treeview\"><summary><span class=\"dni-code-hint\"><code>[  ]</code></span></summary><div><table><thead><tr></tr></thead><tbody><tr><td>HeadOrDefault</td><td><div class=\"dni-plaintext\"><pre>0</pre></div></td></tr><tr><td>TailOrNull</td><td><div class=\"dni-plaintext\"><pre>&lt;null&gt;</pre></div></td></tr><tr><td>Head</td><td><details class=\"dni-treeview\"><summary><span class=\"dni-code-hint\"><code>System.InvalidOperationException: The input list was empty.\\n   at Microsoft.FSharp.Collections.FSharpList`1.get_Head() in D:\\a\\_work\\1\\s\\src\\FSharp.Core\\prim-types.fs:line 4086\\n   at lambda_method82(Closure, FSharpList`1)\\n   at Microsoft.DotNet.Interactive.Formatting.MemberAccessor`1.GetValueOrEx...</code></span></summary><div><table><thead><tr></tr></thead><tbody><tr><td>TargetSite</td><td>T get_Head()</td></tr><tr><td>Message</td><td>The input list was empty.</td></tr><tr><td>Data</td><td>[  ]</td></tr><tr><td>InnerException</td><td><div class=\"dni-plaintext\"><pre>&lt;null&gt;</pre></div></td></tr><tr><td>HelpLink</td><td><div class=\"dni-plaintext\"><pre>&lt;null&gt;</pre></div></td></tr><tr><td>Source</td><td>FSharp.Core</td></tr><tr><td>HResult</td><td>-2146233079</td></tr><tr><td>StackTrace</td><td>   at Microsoft.FSharp.Collections.FSharpList`1.get_Head() in D:\\a\\_work\\1\\s\\src\\FSharp.Core\\prim-types.fs:line 4086\n",
       "   at lambda_method82(Closure, FSharpList`1)\n",
       "   at Microsoft.DotNet.Interactive.Formatting.MemberAccessor`1.GetValueOrException(T instance) in D:\\a\\_work\\1\\s\\src\\Microsoft.DotNet.Interactive.Formatting\\MemberAccessor{T}.cs:line 58</td></tr></tbody></table></div></details></td></tr><tr><td>Tail</td><td><details class=\"dni-treeview\"><summary><span class=\"dni-code-hint\"><code>System.InvalidOperationException: The input list was empty.\\n   at Microsoft.FSharp.Collections.FSharpList`1.get_Tail() in D:\\a\\_work\\1\\s\\src\\FSharp.Core\\prim-types.fs:line 4091\\n   at lambda_method83(Closure, FSharpList`1)\\n   at Microsoft.DotNet.Interactive.Formatting.MemberAccessor`1.GetValueOrEx...</code></span></summary><div><table><thead><tr></tr></thead><tbody><tr><td>TargetSite</td><td>Microsoft.FSharp.Collections.FSharpList`1[T] get_Tail()</td></tr><tr><td>Message</td><td>The input list was empty.</td></tr><tr><td>Data</td><td>[  ]</td></tr><tr><td>InnerException</td><td><div class=\"dni-plaintext\"><pre>&lt;null&gt;</pre></div></td></tr><tr><td>HelpLink</td><td><div class=\"dni-plaintext\"><pre>&lt;null&gt;</pre></div></td></tr><tr><td>Source</td><td>FSharp.Core</td></tr><tr><td>HResult</td><td>-2146233079</td></tr><tr><td>StackTrace</td><td>   at Microsoft.FSharp.Collections.FSharpList`1.get_Tail() in D:\\a\\_work\\1\\s\\src\\FSharp.Core\\prim-types.fs:line 4091\n",
       "   at lambda_method83(Closure, FSharpList`1)\n",
       "   at Microsoft.DotNet.Interactive.Formatting.MemberAccessor`1.GetValueOrException(T instance) in D:\\a\\_work\\1\\s\\src\\Microsoft.DotNet.Interactive.Formatting\\MemberAccessor{T}.cs:line 58</td></tr></tbody></table></div></details></td></tr><tr><td><i>(values)</i></td><td><div class=\"dni-plaintext\"><pre>[  ]</pre></div></td></tr></tbody></table></div></details></td></tr><tr><td>Head</td><td><div class=\"dni-plaintext\"><pre>5</pre></div></td></tr><tr><td>Tail</td><td><details class=\"dni-treeview\"><summary><span class=\"dni-code-hint\"><code>[  ]</code></span></summary><div><table><thead><tr></tr></thead><tbody><tr><td>HeadOrDefault</td><td><div class=\"dni-plaintext\"><pre>0</pre></div></td></tr><tr><td>TailOrNull</td><td><div class=\"dni-plaintext\"><pre>&lt;null&gt;</pre></div></td></tr><tr><td>Head</td><td><details class=\"dni-treeview\"><summary><span class=\"dni-code-hint\"><code>System.InvalidOperationException: The input list was empty.\\n   at Microsoft.FSharp.Collections.FSharpList`1.get_Head() in D:\\a\\_work\\1\\s\\src\\FSharp.Core\\prim-types.fs:line 4086\\n   at lambda_method82(Closure, FSharpList`1)\\n   at Microsoft.DotNet.Interactive.Formatting.MemberAccessor`1.GetValueOrEx...</code></span></summary><div><table><thead><tr></tr></thead><tbody><tr><td>TargetSite</td><td>T get_Head()</td></tr><tr><td>Message</td><td>The input list was empty.</td></tr><tr><td>Data</td><td>[  ]</td></tr><tr><td>InnerException</td><td><div class=\"dni-plaintext\"><pre>&lt;null&gt;</pre></div></td></tr><tr><td>HelpLink</td><td><div class=\"dni-plaintext\"><pre>&lt;null&gt;</pre></div></td></tr><tr><td>Source</td><td>FSharp.Core</td></tr><tr><td>HResult</td><td>-2146233079</td></tr><tr><td>StackTrace</td><td>   at Microsoft.FSharp.Collections.FSharpList`1.get_Head() in D:\\a\\_work\\1\\s\\src\\FSharp.Core\\prim-types.fs:line 4086\n",
       "   at lambda_method82(Closure, FSharpList`1)\n",
       "   at Microsoft.DotNet.Interactive.Formatting.MemberAccessor`1.GetValueOrException(T instance) in D:\\a\\_work\\1\\s\\src\\Microsoft.DotNet.Interactive.Formatting\\MemberAccessor{T}.cs:line 58</td></tr></tbody></table></div></details></td></tr><tr><td>Tail</td><td><details class=\"dni-treeview\"><summary><span class=\"dni-code-hint\"><code>System.InvalidOperationException: The input list was empty.\\n   at Microsoft.FSharp.Collections.FSharpList`1.get_Tail() in D:\\a\\_work\\1\\s\\src\\FSharp.Core\\prim-types.fs:line 4091\\n   at lambda_method83(Closure, FSharpList`1)\\n   at Microsoft.DotNet.Interactive.Formatting.MemberAccessor`1.GetValueOrEx...</code></span></summary><div><table><thead><tr></tr></thead><tbody><tr><td>TargetSite</td><td>Microsoft.FSharp.Collections.FSharpList`1[T] get_Tail()</td></tr><tr><td>Message</td><td>The input list was empty.</td></tr><tr><td>Data</td><td>[  ]</td></tr><tr><td>InnerException</td><td><div class=\"dni-plaintext\"><pre>&lt;null&gt;</pre></div></td></tr><tr><td>HelpLink</td><td><div class=\"dni-plaintext\"><pre>&lt;null&gt;</pre></div></td></tr><tr><td>Source</td><td>FSharp.Core</td></tr><tr><td>HResult</td><td>-2146233079</td></tr><tr><td>StackTrace</td><td>   at Microsoft.FSharp.Collections.FSharpList`1.get_Tail() in D:\\a\\_work\\1\\s\\src\\FSharp.Core\\prim-types.fs:line 4091\n",
       "   at lambda_method83(Closure, FSharpList`1)\n",
       "   at Microsoft.DotNet.Interactive.Formatting.MemberAccessor`1.GetValueOrException(T instance) in D:\\a\\_work\\1\\s\\src\\Microsoft.DotNet.Interactive.Formatting\\MemberAccessor{T}.cs:line 58</td></tr></tbody></table></div></details></td></tr><tr><td><i>(values)</i></td><td><div class=\"dni-plaintext\"><pre>[  ]</pre></div></td></tr></tbody></table></div></details></td></tr><tr><td><i>(values)</i></td><td><div class=\"dni-plaintext\"><pre>[ 5 ]</pre></div></td></tr></tbody></table></div></details></td></tr><tr><td>Head</td><td><div class=\"dni-plaintext\"><pre>4</pre></div></td></tr><tr><td>Tail</td><td><details class=\"dni-treeview\"><summary><span class=\"dni-code-hint\"><code>[ 5 ]</code></span></summary><div><table><thead><tr></tr></thead><tbody><tr><td>HeadOrDefault</td><td><div class=\"dni-plaintext\"><pre>5</pre></div></td></tr><tr><td>TailOrNull</td><td><details class=\"dni-treeview\"><summary><span class=\"dni-code-hint\"><code>[  ]</code></span></summary><div><table><thead><tr></tr></thead><tbody><tr><td>HeadOrDefault</td><td><div class=\"dni-plaintext\"><pre>0</pre></div></td></tr><tr><td>TailOrNull</td><td><div class=\"dni-plaintext\"><pre>&lt;null&gt;</pre></div></td></tr><tr><td>Head</td><td><details class=\"dni-treeview\"><summary><span class=\"dni-code-hint\"><code>System.InvalidOperationException: The input list was empty.\\n   at Microsoft.FSharp.Collections.FSharpList`1.get_Head() in D:\\a\\_work\\1\\s\\src\\FSharp.Core\\prim-types.fs:line 4086\\n   at lambda_method82(Closure, FSharpList`1)\\n   at Microsoft.DotNet.Interactive.Formatting.MemberAccessor`1.GetValueOrEx...</code></span></summary><div><table><thead><tr></tr></thead><tbody><tr><td>TargetSite</td><td>T get_Head()</td></tr><tr><td>Message</td><td>The input list was empty.</td></tr><tr><td>Data</td><td>[  ]</td></tr><tr><td>InnerException</td><td><div class=\"dni-plaintext\"><pre>&lt;null&gt;</pre></div></td></tr><tr><td>HelpLink</td><td><div class=\"dni-plaintext\"><pre>&lt;null&gt;</pre></div></td></tr><tr><td>Source</td><td>FSharp.Core</td></tr><tr><td>HResult</td><td>-2146233079</td></tr><tr><td>StackTrace</td><td>   at Microsoft.FSharp.Collections.FSharpList`1.get_Head() in D:\\a\\_work\\1\\s\\src\\FSharp.Core\\prim-types.fs:line 4086\n",
       "   at lambda_method82(Closure, FSharpList`1)\n",
       "   at Microsoft.DotNet.Interactive.Formatting.MemberAccessor`1.GetValueOrException(T instance) in D:\\a\\_work\\1\\s\\src\\Microsoft.DotNet.Interactive.Formatting\\MemberAccessor{T}.cs:line 58</td></tr></tbody></table></div></details></td></tr><tr><td>Tail</td><td><details class=\"dni-treeview\"><summary><span class=\"dni-code-hint\"><code>System.InvalidOperationException: The input list was empty.\\n   at Microsoft.FSharp.Collections.FSharpList`1.get_Tail() in D:\\a\\_work\\1\\s\\src\\FSharp.Core\\prim-types.fs:line 4091\\n   at lambda_method83(Closure, FSharpList`1)\\n   at Microsoft.DotNet.Interactive.Formatting.MemberAccessor`1.GetValueOrEx...</code></span></summary><div><table><thead><tr></tr></thead><tbody><tr><td>TargetSite</td><td>Microsoft.FSharp.Collections.FSharpList`1[T] get_Tail()</td></tr><tr><td>Message</td><td>The input list was empty.</td></tr><tr><td>Data</td><td>[  ]</td></tr><tr><td>InnerException</td><td><div class=\"dni-plaintext\"><pre>&lt;null&gt;</pre></div></td></tr><tr><td>HelpLink</td><td><div class=\"dni-plaintext\"><pre>&lt;null&gt;</pre></div></td></tr><tr><td>Source</td><td>FSharp.Core</td></tr><tr><td>HResult</td><td>-2146233079</td></tr><tr><td>StackTrace</td><td>   at Microsoft.FSharp.Collections.FSharpList`1.get_Tail() in D:\\a\\_work\\1\\s\\src\\FSharp.Core\\prim-types.fs:line 4091\n",
       "   at lambda_method83(Closure, FSharpList`1)\n",
       "   at Microsoft.DotNet.Interactive.Formatting.MemberAccessor`1.GetValueOrException(T instance) in D:\\a\\_work\\1\\s\\src\\Microsoft.DotNet.Interactive.Formatting\\MemberAccessor{T}.cs:line 58</td></tr></tbody></table></div></details></td></tr><tr><td><i>(values)</i></td><td><div class=\"dni-plaintext\"><pre>[  ]</pre></div></td></tr></tbody></table></div></details></td></tr><tr><td>Head</td><td><div class=\"dni-plaintext\"><pre>5</pre></div></td></tr><tr><td>Tail</td><td><details class=\"dni-treeview\"><summary><span class=\"dni-code-hint\"><code>[  ]</code></span></summary><div><table><thead><tr></tr></thead><tbody><tr><td>HeadOrDefault</td><td><div class=\"dni-plaintext\"><pre>0</pre></div></td></tr><tr><td>TailOrNull</td><td><div class=\"dni-plaintext\"><pre>&lt;null&gt;</pre></div></td></tr><tr><td>Head</td><td><details class=\"dni-treeview\"><summary><span class=\"dni-code-hint\"><code>System.InvalidOperationException: The input list was empty.\\n   at Microsoft.FSharp.Collections.FSharpList`1.get_Head() in D:\\a\\_work\\1\\s\\src\\FSharp.Core\\prim-types.fs:line 4086\\n   at lambda_method82(Closure, FSharpList`1)\\n   at Microsoft.DotNet.Interactive.Formatting.MemberAccessor`1.GetValueOrEx...</code></span></summary><div><table><thead><tr></tr></thead><tbody><tr><td>TargetSite</td><td>T get_Head()</td></tr><tr><td>Message</td><td>The input list was empty.</td></tr><tr><td>Data</td><td>[  ]</td></tr><tr><td>InnerException</td><td><div class=\"dni-plaintext\"><pre>&lt;null&gt;</pre></div></td></tr><tr><td>HelpLink</td><td><div class=\"dni-plaintext\"><pre>&lt;null&gt;</pre></div></td></tr><tr><td>Source</td><td>FSharp.Core</td></tr><tr><td>HResult</td><td>-2146233079</td></tr><tr><td>StackTrace</td><td>   at Microsoft.FSharp.Collections.FSharpList`1.get_Head() in D:\\a\\_work\\1\\s\\src\\FSharp.Core\\prim-types.fs:line 4086\n",
       "   at lambda_method82(Closure, FSharpList`1)\n",
       "   at Microsoft.DotNet.Interactive.Formatting.MemberAccessor`1.GetValueOrException(T instance) in D:\\a\\_work\\1\\s\\src\\Microsoft.DotNet.Interactive.Formatting\\MemberAccessor{T}.cs:line 58</td></tr></tbody></table></div></details></td></tr><tr><td>Tail</td><td><details class=\"dni-treeview\"><summary><span class=\"dni-code-hint\"><code>System.InvalidOperationException: The input list was empty.\\n   at Microsoft.FSharp.Collections.FSharpList`1.get_Tail() in D:\\a\\_work\\1\\s\\src\\FSharp.Core\\prim-types.fs:line 4091\\n   at lambda_method83(Closure, FSharpList`1)\\n   at Microsoft.DotNet.Interactive.Formatting.MemberAccessor`1.GetValueOrEx...</code></span></summary><div><table><thead><tr></tr></thead><tbody><tr><td>TargetSite</td><td>Microsoft.FSharp.Collections.FSharpList`1[T] get_Tail()</td></tr><tr><td>Message</td><td>The input list was empty.</td></tr><tr><td>Data</td><td>[  ]</td></tr><tr><td>InnerException</td><td><div class=\"dni-plaintext\"><pre>&lt;null&gt;</pre></div></td></tr><tr><td>HelpLink</td><td><div class=\"dni-plaintext\"><pre>&lt;null&gt;</pre></div></td></tr><tr><td>Source</td><td>FSharp.Core</td></tr><tr><td>HResult</td><td>-2146233079</td></tr><tr><td>StackTrace</td><td>   at Microsoft.FSharp.Collections.FSharpList`1.get_Tail() in D:\\a\\_work\\1\\s\\src\\FSharp.Core\\prim-types.fs:line 4091\n",
       "   at lambda_method83(Closure, FSharpList`1)\n",
       "   at Microsoft.DotNet.Interactive.Formatting.MemberAccessor`1.GetValueOrException(T instance) in D:\\a\\_work\\1\\s\\src\\Microsoft.DotNet.Interactive.Formatting\\MemberAccessor{T}.cs:line 58</td></tr></tbody></table></div></details></td></tr><tr><td><i>(values)</i></td><td><div class=\"dni-plaintext\"><pre>[  ]</pre></div></td></tr></tbody></table></div></details></td></tr><tr><td><i>(values)</i></td><td><div class=\"dni-plaintext\"><pre>[ 5 ]</pre></div></td></tr></tbody></table></div></details></td></tr><tr><td><i>(values)</i></td><td><div class=\"dni-plaintext\"><pre>[ 4, 5 ]</pre></div></td></tr></tbody></table></div></details></td></tr><tr><td>Head</td><td><div class=\"dni-plaintext\"><pre>3</pre></div></td></tr><tr><td>Tail</td><td><details class=\"dni-treeview\"><summary><span class=\"dni-code-hint\"><code>[ 4, 5 ]</code></span></summary><div><table><thead><tr></tr></thead><tbody><tr><td>HeadOrDefault</td><td><div class=\"dni-plaintext\"><pre>4</pre></div></td></tr><tr><td>TailOrNull</td><td><details class=\"dni-treeview\"><summary><span class=\"dni-code-hint\"><code>[ 5 ]</code></span></summary><div><table><thead><tr></tr></thead><tbody><tr><td>HeadOrDefault</td><td><div class=\"dni-plaintext\"><pre>5</pre></div></td></tr><tr><td>TailOrNull</td><td><details class=\"dni-treeview\"><summary><span class=\"dni-code-hint\"><code>[  ]</code></span></summary><div><table><thead><tr></tr></thead><tbody><tr><td>HeadOrDefault</td><td><div class=\"dni-plaintext\"><pre>0</pre></div></td></tr><tr><td>TailOrNull</td><td><div class=\"dni-plaintext\"><pre>&lt;null&gt;</pre></div></td></tr><tr><td>Head</td><td><details class=\"dni-treeview\"><summary><span class=\"dni-code-hint\"><code>System.InvalidOperationException: The input list was empty.\\n   at Microsoft.FSharp.Collections.FSharpList`1.get_Head() in D:\\a\\_work\\1\\s\\src\\FSharp.Core\\prim-types.fs:line 4086\\n   at lambda_method82(Closure, FSharpList`1)\\n   at Microsoft.DotNet.Interactive.Formatting.MemberAccessor`1.GetValueOrEx...</code></span></summary><div><table><thead><tr></tr></thead><tbody><tr><td>TargetSite</td><td>T get_Head()</td></tr><tr><td>Message</td><td>The input list was empty.</td></tr><tr><td>Data</td><td>[  ]</td></tr><tr><td>InnerException</td><td><div class=\"dni-plaintext\"><pre>&lt;null&gt;</pre></div></td></tr><tr><td>HelpLink</td><td><div class=\"dni-plaintext\"><pre>&lt;null&gt;</pre></div></td></tr><tr><td>Source</td><td>FSharp.Core</td></tr><tr><td>HResult</td><td>-2146233079</td></tr><tr><td>StackTrace</td><td>   at Microsoft.FSharp.Collections.FSharpList`1.get_Head() in D:\\a\\_work\\1\\s\\src\\FSharp.Core\\prim-types.fs:line 4086\n",
       "   at lambda_method82(Closure, FSharpList`1)\n",
       "   at Microsoft.DotNet.Interactive.Formatting.MemberAccessor`1.GetValueOrException(T instance) in D:\\a\\_work\\1\\s\\src\\Microsoft.DotNet.Interactive.Formatting\\MemberAccessor{T}.cs:line 58</td></tr></tbody></table></div></details></td></tr><tr><td>Tail</td><td><details class=\"dni-treeview\"><summary><span class=\"dni-code-hint\"><code>System.InvalidOperationException: The input list was empty.\\n   at Microsoft.FSharp.Collections.FSharpList`1.get_Tail() in D:\\a\\_work\\1\\s\\src\\FSharp.Core\\prim-types.fs:line 4091\\n   at lambda_method83(Closure, FSharpList`1)\\n   at Microsoft.DotNet.Interactive.Formatting.MemberAccessor`1.GetValueOrEx...</code></span></summary><div><table><thead><tr></tr></thead><tbody><tr><td>TargetSite</td><td>Microsoft.FSharp.Collections.FSharpList`1[T] get_Tail()</td></tr><tr><td>Message</td><td>The input list was empty.</td></tr><tr><td>Data</td><td>[  ]</td></tr><tr><td>InnerException</td><td><div class=\"dni-plaintext\"><pre>&lt;null&gt;</pre></div></td></tr><tr><td>HelpLink</td><td><div class=\"dni-plaintext\"><pre>&lt;null&gt;</pre></div></td></tr><tr><td>Source</td><td>FSharp.Core</td></tr><tr><td>HResult</td><td>-2146233079</td></tr><tr><td>StackTrace</td><td>   at Microsoft.FSharp.Collections.FSharpList`1.get_Tail() in D:\\a\\_work\\1\\s\\src\\FSharp.Core\\prim-types.fs:line 4091\n",
       "   at lambda_method83(Closure, FSharpList`1)\n",
       "   at Microsoft.DotNet.Interactive.Formatting.MemberAccessor`1.GetValueOrException(T instance) in D:\\a\\_work\\1\\s\\src\\Microsoft.DotNet.Interactive.Formatting\\MemberAccessor{T}.cs:line 58</td></tr></tbody></table></div></details></td></tr><tr><td><i>(values)</i></td><td><div class=\"dni-plaintext\"><pre>[  ]</pre></div></td></tr></tbody></table></div></details></td></tr><tr><td>Head</td><td><div class=\"dni-plaintext\"><pre>5</pre></div></td></tr><tr><td>Tail</td><td><details class=\"dni-treeview\"><summary><span class=\"dni-code-hint\"><code>[  ]</code></span></summary><div><table><thead><tr></tr></thead><tbody><tr><td>HeadOrDefault</td><td><div class=\"dni-plaintext\"><pre>0</pre></div></td></tr><tr><td>TailOrNull</td><td><div class=\"dni-plaintext\"><pre>&lt;null&gt;</pre></div></td></tr><tr><td>Head</td><td><details class=\"dni-treeview\"><summary><span class=\"dni-code-hint\"><code>System.InvalidOperationException: The input list was empty.\\n   at Microsoft.FSharp.Collections.FSharpList`1.get_Head() in D:\\a\\_work\\1\\s\\src\\FSharp.Core\\prim-types.fs:line 4086\\n   at lambda_method82(Closure, FSharpList`1)\\n   at Microsoft.DotNet.Interactive.Formatting.MemberAccessor`1.GetValueOrEx...</code></span></summary><div><table><thead><tr></tr></thead><tbody><tr><td>TargetSite</td><td>T get_Head()</td></tr><tr><td>Message</td><td>The input list was empty.</td></tr><tr><td>Data</td><td>[  ]</td></tr><tr><td>InnerException</td><td><div class=\"dni-plaintext\"><pre>&lt;null&gt;</pre></div></td></tr><tr><td>HelpLink</td><td><div class=\"dni-plaintext\"><pre>&lt;null&gt;</pre></div></td></tr><tr><td>Source</td><td>FSharp.Core</td></tr><tr><td>HResult</td><td>-2146233079</td></tr><tr><td>StackTrace</td><td>   at Microsoft.FSharp.Collections.FSharpList`1.get_Head() in D:\\a\\_work\\1\\s\\src\\FSharp.Core\\prim-types.fs:line 4086\n",
       "   at lambda_method82(Closure, FSharpList`1)\n",
       "   at Microsoft.DotNet.Interactive.Formatting.MemberAccessor`1.GetValueOrException(T instance) in D:\\a\\_work\\1\\s\\src\\Microsoft.DotNet.Interactive.Formatting\\MemberAccessor{T}.cs:line 58</td></tr></tbody></table></div></details></td></tr><tr><td>Tail</td><td><details class=\"dni-treeview\"><summary><span class=\"dni-code-hint\"><code>System.InvalidOperationException: The input list was empty.\\n   at Microsoft.FSharp.Collections.FSharpList`1.get_Tail() in D:\\a\\_work\\1\\s\\src\\FSharp.Core\\prim-types.fs:line 4091\\n   at lambda_method83(Closure, FSharpList`1)\\n   at Microsoft.DotNet.Interactive.Formatting.MemberAccessor`1.GetValueOrEx...</code></span></summary><div><table><thead><tr></tr></thead><tbody><tr><td>TargetSite</td><td>Microsoft.FSharp.Collections.FSharpList`1[T] get_Tail()</td></tr><tr><td>Message</td><td>The input list was empty.</td></tr><tr><td>Data</td><td>[  ]</td></tr><tr><td>InnerException</td><td><div class=\"dni-plaintext\"><pre>&lt;null&gt;</pre></div></td></tr><tr><td>HelpLink</td><td><div class=\"dni-plaintext\"><pre>&lt;null&gt;</pre></div></td></tr><tr><td>Source</td><td>FSharp.Core</td></tr><tr><td>HResult</td><td>-2146233079</td></tr><tr><td>StackTrace</td><td>   at Microsoft.FSharp.Collections.FSharpList`1.get_Tail() in D:\\a\\_work\\1\\s\\src\\FSharp.Core\\prim-types.fs:line 4091\n",
       "   at lambda_method83(Closure, FSharpList`1)\n",
       "   at Microsoft.DotNet.Interactive.Formatting.MemberAccessor`1.GetValueOrException(T instance) in D:\\a\\_work\\1\\s\\src\\Microsoft.DotNet.Interactive.Formatting\\MemberAccessor{T}.cs:line 58</td></tr></tbody></table></div></details></td></tr><tr><td><i>(values)</i></td><td><div class=\"dni-plaintext\"><pre>[  ]</pre></div></td></tr></tbody></table></div></details></td></tr><tr><td><i>(values)</i></td><td><div class=\"dni-plaintext\"><pre>[ 5 ]</pre></div></td></tr></tbody></table></div></details></td></tr><tr><td>Head</td><td><div class=\"dni-plaintext\"><pre>4</pre></div></td></tr><tr><td>Tail</td><td><details class=\"dni-treeview\"><summary><span class=\"dni-code-hint\"><code>[ 5 ]</code></span></summary><div><table><thead><tr></tr></thead><tbody><tr><td>HeadOrDefault</td><td><div class=\"dni-plaintext\"><pre>5</pre></div></td></tr><tr><td>TailOrNull</td><td><details class=\"dni-treeview\"><summary><span class=\"dni-code-hint\"><code>[  ]</code></span></summary><div><table><thead><tr></tr></thead><tbody><tr><td>HeadOrDefault</td><td><div class=\"dni-plaintext\"><pre>0</pre></div></td></tr><tr><td>TailOrNull</td><td><div class=\"dni-plaintext\"><pre>&lt;null&gt;</pre></div></td></tr><tr><td>Head</td><td><details class=\"dni-treeview\"><summary><span class=\"dni-code-hint\"><code>System.InvalidOperationException: The input list was empty.\\n   at Microsoft.FSharp.Collections.FSharpList`1.get_Head() in D:\\a\\_work\\1\\s\\src\\FSharp.Core\\prim-types.fs:line 4086\\n   at lambda_method82(Closure, FSharpList`1)\\n   at Microsoft.DotNet.Interactive.Formatting.MemberAccessor`1.GetValueOrEx...</code></span></summary><div><table><thead><tr></tr></thead><tbody><tr><td>TargetSite</td><td>T get_Head()</td></tr><tr><td>Message</td><td>The input list was empty.</td></tr><tr><td>Data</td><td>[  ]</td></tr><tr><td>InnerException</td><td><div class=\"dni-plaintext\"><pre>&lt;null&gt;</pre></div></td></tr><tr><td>HelpLink</td><td><div class=\"dni-plaintext\"><pre>&lt;null&gt;</pre></div></td></tr><tr><td>Source</td><td>FSharp.Core</td></tr><tr><td>HResult</td><td>-2146233079</td></tr><tr><td>StackTrace</td><td>   at Microsoft.FSharp.Collections.FSharpList`1.get_Head() in D:\\a\\_work\\1\\s\\src\\FSharp.Core\\prim-types.fs:line 4086\n",
       "   at lambda_method82(Closure, FSharpList`1)\n",
       "   at Microsoft.DotNet.Interactive.Formatting.MemberAccessor`1.GetValueOrException(T instance) in D:\\a\\_work\\1\\s\\src\\Microsoft.DotNet.Interactive.Formatting\\MemberAccessor{T}.cs:line 58</td></tr></tbody></table></div></details></td></tr><tr><td>Tail</td><td><details class=\"dni-treeview\"><summary><span class=\"dni-code-hint\"><code>System.InvalidOperationException: The input list was empty.\\n   at Microsoft.FSharp.Collections.FSharpList`1.get_Tail() in D:\\a\\_work\\1\\s\\src\\FSharp.Core\\prim-types.fs:line 4091\\n   at lambda_method83(Closure, FSharpList`1)\\n   at Microsoft.DotNet.Interactive.Formatting.MemberAccessor`1.GetValueOrEx...</code></span></summary><div><table><thead><tr></tr></thead><tbody><tr><td>TargetSite</td><td>Microsoft.FSharp.Collections.FSharpList`1[T] get_Tail()</td></tr><tr><td>Message</td><td>The input list was empty.</td></tr><tr><td>Data</td><td>[  ]</td></tr><tr><td>InnerException</td><td><div class=\"dni-plaintext\"><pre>&lt;null&gt;</pre></div></td></tr><tr><td>HelpLink</td><td><div class=\"dni-plaintext\"><pre>&lt;null&gt;</pre></div></td></tr><tr><td>Source</td><td>FSharp.Core</td></tr><tr><td>HResult</td><td>-2146233079</td></tr><tr><td>StackTrace</td><td>   at Microsoft.FSharp.Collections.FSharpList`1.get_Tail() in D:\\a\\_work\\1\\s\\src\\FSharp.Core\\prim-types.fs:line 4091\n",
       "   at lambda_method83(Closure, FSharpList`1)\n",
       "   at Microsoft.DotNet.Interactive.Formatting.MemberAccessor`1.GetValueOrException(T instance) in D:\\a\\_work\\1\\s\\src\\Microsoft.DotNet.Interactive.Formatting\\MemberAccessor{T}.cs:line 58</td></tr></tbody></table></div></details></td></tr><tr><td><i>(values)</i></td><td><div class=\"dni-plaintext\"><pre>[  ]</pre></div></td></tr></tbody></table></div></details></td></tr><tr><td>Head</td><td><div class=\"dni-plaintext\"><pre>5</pre></div></td></tr><tr><td>Tail</td><td><details class=\"dni-treeview\"><summary><span class=\"dni-code-hint\"><code>[  ]</code></span></summary><div><table><thead><tr></tr></thead><tbody><tr><td>HeadOrDefault</td><td><div class=\"dni-plaintext\"><pre>0</pre></div></td></tr><tr><td>TailOrNull</td><td><div class=\"dni-plaintext\"><pre>&lt;null&gt;</pre></div></td></tr><tr><td>Head</td><td><details class=\"dni-treeview\"><summary><span class=\"dni-code-hint\"><code>System.InvalidOperationException: The input list was empty.\\n   at Microsoft.FSharp.Collections.FSharpList`1.get_Head() in D:\\a\\_work\\1\\s\\src\\FSharp.Core\\prim-types.fs:line 4086\\n   at lambda_method82(Closure, FSharpList`1)\\n   at Microsoft.DotNet.Interactive.Formatting.MemberAccessor`1.GetValueOrEx...</code></span></summary><div><table><thead><tr></tr></thead><tbody><tr><td>TargetSite</td><td>T get_Head()</td></tr><tr><td>Message</td><td>The input list was empty.</td></tr><tr><td>Data</td><td>[  ]</td></tr><tr><td>InnerException</td><td><div class=\"dni-plaintext\"><pre>&lt;null&gt;</pre></div></td></tr><tr><td>HelpLink</td><td><div class=\"dni-plaintext\"><pre>&lt;null&gt;</pre></div></td></tr><tr><td>Source</td><td>FSharp.Core</td></tr><tr><td>HResult</td><td>-2146233079</td></tr><tr><td>StackTrace</td><td>   at Microsoft.FSharp.Collections.FSharpList`1.get_Head() in D:\\a\\_work\\1\\s\\src\\FSharp.Core\\prim-types.fs:line 4086\n",
       "   at lambda_method82(Closure, FSharpList`1)\n",
       "   at Microsoft.DotNet.Interactive.Formatting.MemberAccessor`1.GetValueOrException(T instance) in D:\\a\\_work\\1\\s\\src\\Microsoft.DotNet.Interactive.Formatting\\MemberAccessor{T}.cs:line 58</td></tr></tbody></table></div></details></td></tr><tr><td>Tail</td><td><details class=\"dni-treeview\"><summary><span class=\"dni-code-hint\"><code>System.InvalidOperationException: The input list was empty.\\n   at Microsoft.FSharp.Collections.FSharpList`1.get_Tail() in D:\\a\\_work\\1\\s\\src\\FSharp.Core\\prim-types.fs:line 4091\\n   at lambda_method83(Closure, FSharpList`1)\\n   at Microsoft.DotNet.Interactive.Formatting.MemberAccessor`1.GetValueOrEx...</code></span></summary><div><table><thead><tr></tr></thead><tbody><tr><td>TargetSite</td><td>Microsoft.FSharp.Collections.FSharpList`1[T] get_Tail()</td></tr><tr><td>Message</td><td>The input list was empty.</td></tr><tr><td>Data</td><td>[  ]</td></tr><tr><td>InnerException</td><td><div class=\"dni-plaintext\"><pre>&lt;null&gt;</pre></div></td></tr><tr><td>HelpLink</td><td><div class=\"dni-plaintext\"><pre>&lt;null&gt;</pre></div></td></tr><tr><td>Source</td><td>FSharp.Core</td></tr><tr><td>HResult</td><td>-2146233079</td></tr><tr><td>StackTrace</td><td>   at Microsoft.FSharp.Collections.FSharpList`1.get_Tail() in D:\\a\\_work\\1\\s\\src\\FSharp.Core\\prim-types.fs:line 4091\n",
       "   at lambda_method83(Closure, FSharpList`1)\n",
       "   at Microsoft.DotNet.Interactive.Formatting.MemberAccessor`1.GetValueOrException(T instance) in D:\\a\\_work\\1\\s\\src\\Microsoft.DotNet.Interactive.Formatting\\MemberAccessor{T}.cs:line 58</td></tr></tbody></table></div></details></td></tr><tr><td><i>(values)</i></td><td><div class=\"dni-plaintext\"><pre>[  ]</pre></div></td></tr></tbody></table></div></details></td></tr><tr><td><i>(values)</i></td><td><div class=\"dni-plaintext\"><pre>[ 5 ]</pre></div></td></tr></tbody></table></div></details></td></tr><tr><td><i>(values)</i></td><td><div class=\"dni-plaintext\"><pre>[ 4, 5 ]</pre></div></td></tr></tbody></table></div></details></td></tr><tr><td><i>(values)</i></td><td><div class=\"dni-plaintext\"><pre>[ 3, 4, 5 ]</pre></div></td></tr></tbody></table></div></details></td></tr><tr><td>Head</td><td><div class=\"dni-plaintext\"><pre>2</pre></div></td></tr><tr><td>Tail</td><td><details class=\"dni-treeview\"><summary><span class=\"dni-code-hint\"><code>[ 3, 4, 5 ]</code></span></summary><div><table><thead><tr></tr></thead><tbody><tr><td>HeadOrDefault</td><td><div class=\"dni-plaintext\"><pre>3</pre></div></td></tr><tr><td>TailOrNull</td><td><details class=\"dni-treeview\"><summary><span class=\"dni-code-hint\"><code>[ 4, 5 ]</code></span></summary><div><table><thead><tr></tr></thead><tbody><tr><td>HeadOrDefault</td><td><div class=\"dni-plaintext\"><pre>4</pre></div></td></tr><tr><td>TailOrNull</td><td><details class=\"dni-treeview\"><summary><span class=\"dni-code-hint\"><code>[ 5 ]</code></span></summary><div><table><thead><tr></tr></thead><tbody><tr><td>HeadOrDefault</td><td><div class=\"dni-plaintext\"><pre>5</pre></div></td></tr><tr><td>TailOrNull</td><td><details class=\"dni-treeview\"><summary><span class=\"dni-code-hint\"><code>[  ]</code></span></summary><div><table><thead><tr></tr></thead><tbody><tr><td>HeadOrDefault</td><td><div class=\"dni-plaintext\"><pre>0</pre></div></td></tr><tr><td>TailOrNull</td><td><div class=\"dni-plaintext\"><pre>&lt;null&gt;</pre></div></td></tr><tr><td>Head</td><td><details class=\"dni-treeview\"><summary><span class=\"dni-code-hint\"><code>System.InvalidOperationException: The input list was empty.\\n   at Microsoft.FSharp.Collections.FSharpList`1.get_Head() in D:\\a\\_work\\1\\s\\src\\FSharp.Core\\prim-types.fs:line 4086\\n   at lambda_method82(Closure, FSharpList`1)\\n   at Microsoft.DotNet.Interactive.Formatting.MemberAccessor`1.GetValueOrEx...</code></span></summary><div><table><thead><tr></tr></thead><tbody><tr><td>TargetSite</td><td>T get_Head()</td></tr><tr><td>Message</td><td>The input list was empty.</td></tr><tr><td>Data</td><td>[  ]</td></tr><tr><td>InnerException</td><td><div class=\"dni-plaintext\"><pre>&lt;null&gt;</pre></div></td></tr><tr><td>HelpLink</td><td><div class=\"dni-plaintext\"><pre>&lt;null&gt;</pre></div></td></tr><tr><td>Source</td><td>FSharp.Core</td></tr><tr><td>HResult</td><td>-2146233079</td></tr><tr><td>StackTrace</td><td>   at Microsoft.FSharp.Collections.FSharpList`1.get_Head() in D:\\a\\_work\\1\\s\\src\\FSharp.Core\\prim-types.fs:line 4086\n",
       "   at lambda_method82(Closure, FSharpList`1)\n",
       "   at Microsoft.DotNet.Interactive.Formatting.MemberAccessor`1.GetValueOrException(T instance) in D:\\a\\_work\\1\\s\\src\\Microsoft.DotNet.Interactive.Formatting\\MemberAccessor{T}.cs:line 58</td></tr></tbody></table></div></details></td></tr><tr><td>Tail</td><td><details class=\"dni-treeview\"><summary><span class=\"dni-code-hint\"><code>System.InvalidOperationException: The input list was empty.\\n   at Microsoft.FSharp.Collections.FSharpList`1.get_Tail() in D:\\a\\_work\\1\\s\\src\\FSharp.Core\\prim-types.fs:line 4091\\n   at lambda_method83(Closure, FSharpList`1)\\n   at Microsoft.DotNet.Interactive.Formatting.MemberAccessor`1.GetValueOrEx...</code></span></summary><div><table><thead><tr></tr></thead><tbody><tr><td>TargetSite</td><td>Microsoft.FSharp.Collections.FSharpList`1[T] get_Tail()</td></tr><tr><td>Message</td><td>The input list was empty.</td></tr><tr><td>Data</td><td>[  ]</td></tr><tr><td>InnerException</td><td><div class=\"dni-plaintext\"><pre>&lt;null&gt;</pre></div></td></tr><tr><td>HelpLink</td><td><div class=\"dni-plaintext\"><pre>&lt;null&gt;</pre></div></td></tr><tr><td>Source</td><td>FSharp.Core</td></tr><tr><td>HResult</td><td>-2146233079</td></tr><tr><td>StackTrace</td><td>   at Microsoft.FSharp.Collections.FSharpList`1.get_Tail() in D:\\a\\_work\\1\\s\\src\\FSharp.Core\\prim-types.fs:line 4091\n",
       "   at lambda_method83(Closure, FSharpList`1)\n",
       "   at Microsoft.DotNet.Interactive.Formatting.MemberAccessor`1.GetValueOrException(T instance) in D:\\a\\_work\\1\\s\\src\\Microsoft.DotNet.Interactive.Formatting\\MemberAccessor{T}.cs:line 58</td></tr></tbody></table></div></details></td></tr><tr><td><i>(values)</i></td><td><div class=\"dni-plaintext\"><pre>[  ]</pre></div></td></tr></tbody></table></div></details></td></tr><tr><td>Head</td><td><div class=\"dni-plaintext\"><pre>5</pre></div></td></tr><tr><td>Tail</td><td><details class=\"dni-treeview\"><summary><span class=\"dni-code-hint\"><code>[  ]</code></span></summary><div><table><thead><tr></tr></thead><tbody><tr><td>HeadOrDefault</td><td><div class=\"dni-plaintext\"><pre>0</pre></div></td></tr><tr><td>TailOrNull</td><td><div class=\"dni-plaintext\"><pre>&lt;null&gt;</pre></div></td></tr><tr><td>Head</td><td><details class=\"dni-treeview\"><summary><span class=\"dni-code-hint\"><code>System.InvalidOperationException: The input list was empty.\\n   at Microsoft.FSharp.Collections.FSharpList`1.get_Head() in D:\\a\\_work\\1\\s\\src\\FSharp.Core\\prim-types.fs:line 4086\\n   at lambda_method82(Closure, FSharpList`1)\\n   at Microsoft.DotNet.Interactive.Formatting.MemberAccessor`1.GetValueOrEx...</code></span></summary><div><table><thead><tr></tr></thead><tbody><tr><td>TargetSite</td><td>T get_Head()</td></tr><tr><td>Message</td><td>The input list was empty.</td></tr><tr><td>Data</td><td>[  ]</td></tr><tr><td>InnerException</td><td><div class=\"dni-plaintext\"><pre>&lt;null&gt;</pre></div></td></tr><tr><td>HelpLink</td><td><div class=\"dni-plaintext\"><pre>&lt;null&gt;</pre></div></td></tr><tr><td>Source</td><td>FSharp.Core</td></tr><tr><td>HResult</td><td>-2146233079</td></tr><tr><td>StackTrace</td><td>   at Microsoft.FSharp.Collections.FSharpList`1.get_Head() in D:\\a\\_work\\1\\s\\src\\FSharp.Core\\prim-types.fs:line 4086\n",
       "   at lambda_method82(Closure, FSharpList`1)\n",
       "   at Microsoft.DotNet.Interactive.Formatting.MemberAccessor`1.GetValueOrException(T instance) in D:\\a\\_work\\1\\s\\src\\Microsoft.DotNet.Interactive.Formatting\\MemberAccessor{T}.cs:line 58</td></tr></tbody></table></div></details></td></tr><tr><td>Tail</td><td><details class=\"dni-treeview\"><summary><span class=\"dni-code-hint\"><code>System.InvalidOperationException: The input list was empty.\\n   at Microsoft.FSharp.Collections.FSharpList`1.get_Tail() in D:\\a\\_work\\1\\s\\src\\FSharp.Core\\prim-types.fs:line 4091\\n   at lambda_method83(Closure, FSharpList`1)\\n   at Microsoft.DotNet.Interactive.Formatting.MemberAccessor`1.GetValueOrEx...</code></span></summary><div><table><thead><tr></tr></thead><tbody><tr><td>TargetSite</td><td>Microsoft.FSharp.Collections.FSharpList`1[T] get_Tail()</td></tr><tr><td>Message</td><td>The input list was empty.</td></tr><tr><td>Data</td><td>[  ]</td></tr><tr><td>InnerException</td><td><div class=\"dni-plaintext\"><pre>&lt;null&gt;</pre></div></td></tr><tr><td>HelpLink</td><td><div class=\"dni-plaintext\"><pre>&lt;null&gt;</pre></div></td></tr><tr><td>Source</td><td>FSharp.Core</td></tr><tr><td>HResult</td><td>-2146233079</td></tr><tr><td>StackTrace</td><td>   at Microsoft.FSharp.Collections.FSharpList`1.get_Tail() in D:\\a\\_work\\1\\s\\src\\FSharp.Core\\prim-types.fs:line 4091\n",
       "   at lambda_method83(Closure, FSharpList`1)\n",
       "   at Microsoft.DotNet.Interactive.Formatting.MemberAccessor`1.GetValueOrException(T instance) in D:\\a\\_work\\1\\s\\src\\Microsoft.DotNet.Interactive.Formatting\\MemberAccessor{T}.cs:line 58</td></tr></tbody></table></div></details></td></tr><tr><td><i>(values)</i></td><td><div class=\"dni-plaintext\"><pre>[  ]</pre></div></td></tr></tbody></table></div></details></td></tr><tr><td><i>(values)</i></td><td><div class=\"dni-plaintext\"><pre>[ 5 ]</pre></div></td></tr></tbody></table></div></details></td></tr><tr><td>Head</td><td><div class=\"dni-plaintext\"><pre>4</pre></div></td></tr><tr><td>Tail</td><td><details class=\"dni-treeview\"><summary><span class=\"dni-code-hint\"><code>[ 5 ]</code></span></summary><div><table><thead><tr></tr></thead><tbody><tr><td>HeadOrDefault</td><td><div class=\"dni-plaintext\"><pre>5</pre></div></td></tr><tr><td>TailOrNull</td><td><details class=\"dni-treeview\"><summary><span class=\"dni-code-hint\"><code>[  ]</code></span></summary><div><table><thead><tr></tr></thead><tbody><tr><td>HeadOrDefault</td><td><div class=\"dni-plaintext\"><pre>0</pre></div></td></tr><tr><td>TailOrNull</td><td><div class=\"dni-plaintext\"><pre>&lt;null&gt;</pre></div></td></tr><tr><td>Head</td><td><details class=\"dni-treeview\"><summary><span class=\"dni-code-hint\"><code>System.InvalidOperationException: The input list was empty.\\n   at Microsoft.FSharp.Collections.FSharpList`1.get_Head() in D:\\a\\_work\\1\\s\\src\\FSharp.Core\\prim-types.fs:line 4086\\n   at lambda_method82(Closure, FSharpList`1)\\n   at Microsoft.DotNet.Interactive.Formatting.MemberAccessor`1.GetValueOrEx...</code></span></summary><div><table><thead><tr></tr></thead><tbody><tr><td>TargetSite</td><td>T get_Head()</td></tr><tr><td>Message</td><td>The input list was empty.</td></tr><tr><td>Data</td><td>[  ]</td></tr><tr><td>InnerException</td><td><div class=\"dni-plaintext\"><pre>&lt;null&gt;</pre></div></td></tr><tr><td>HelpLink</td><td><div class=\"dni-plaintext\"><pre>&lt;null&gt;</pre></div></td></tr><tr><td>Source</td><td>FSharp.Core</td></tr><tr><td>HResult</td><td>-2146233079</td></tr><tr><td>StackTrace</td><td>   at Microsoft.FSharp.Collections.FSharpList`1.get_Head() in D:\\a\\_work\\1\\s\\src\\FSharp.Core\\prim-types.fs:line 4086\n",
       "   at lambda_method82(Closure, FSharpList`1)\n",
       "   at Microsoft.DotNet.Interactive.Formatting.MemberAccessor`1.GetValueOrException(T instance) in D:\\a\\_work\\1\\s\\src\\Microsoft.DotNet.Interactive.Formatting\\MemberAccessor{T}.cs:line 58</td></tr></tbody></table></div></details></td></tr><tr><td>Tail</td><td><details class=\"dni-treeview\"><summary><span class=\"dni-code-hint\"><code>System.InvalidOperationException: The input list was empty.\\n   at Microsoft.FSharp.Collections.FSharpList`1.get_Tail() in D:\\a\\_work\\1\\s\\src\\FSharp.Core\\prim-types.fs:line 4091\\n   at lambda_method83(Closure, FSharpList`1)\\n   at Microsoft.DotNet.Interactive.Formatting.MemberAccessor`1.GetValueOrEx...</code></span></summary><div><table><thead><tr></tr></thead><tbody><tr><td>TargetSite</td><td>Microsoft.FSharp.Collections.FSharpList`1[T] get_Tail()</td></tr><tr><td>Message</td><td>The input list was empty.</td></tr><tr><td>Data</td><td>[  ]</td></tr><tr><td>InnerException</td><td><div class=\"dni-plaintext\"><pre>&lt;null&gt;</pre></div></td></tr><tr><td>HelpLink</td><td><div class=\"dni-plaintext\"><pre>&lt;null&gt;</pre></div></td></tr><tr><td>Source</td><td>FSharp.Core</td></tr><tr><td>HResult</td><td>-2146233079</td></tr><tr><td>StackTrace</td><td>   at Microsoft.FSharp.Collections.FSharpList`1.get_Tail() in D:\\a\\_work\\1\\s\\src\\FSharp.Core\\prim-types.fs:line 4091\n",
       "   at lambda_method83(Closure, FSharpList`1)\n",
       "   at Microsoft.DotNet.Interactive.Formatting.MemberAccessor`1.GetValueOrException(T instance) in D:\\a\\_work\\1\\s\\src\\Microsoft.DotNet.Interactive.Formatting\\MemberAccessor{T}.cs:line 58</td></tr></tbody></table></div></details></td></tr><tr><td><i>(values)</i></td><td><div class=\"dni-plaintext\"><pre>[  ]</pre></div></td></tr></tbody></table></div></details></td></tr><tr><td>Head</td><td><div class=\"dni-plaintext\"><pre>5</pre></div></td></tr><tr><td>Tail</td><td><details class=\"dni-treeview\"><summary><span class=\"dni-code-hint\"><code>[  ]</code></span></summary><div><table><thead><tr></tr></thead><tbody><tr><td>HeadOrDefault</td><td><div class=\"dni-plaintext\"><pre>0</pre></div></td></tr><tr><td>TailOrNull</td><td><div class=\"dni-plaintext\"><pre>&lt;null&gt;</pre></div></td></tr><tr><td>Head</td><td><details class=\"dni-treeview\"><summary><span class=\"dni-code-hint\"><code>System.InvalidOperationException: The input list was empty.\\n   at Microsoft.FSharp.Collections.FSharpList`1.get_Head() in D:\\a\\_work\\1\\s\\src\\FSharp.Core\\prim-types.fs:line 4086\\n   at lambda_method82(Closure, FSharpList`1)\\n   at Microsoft.DotNet.Interactive.Formatting.MemberAccessor`1.GetValueOrEx...</code></span></summary><div><table><thead><tr></tr></thead><tbody><tr><td>TargetSite</td><td>T get_Head()</td></tr><tr><td>Message</td><td>The input list was empty.</td></tr><tr><td>Data</td><td>[  ]</td></tr><tr><td>InnerException</td><td><div class=\"dni-plaintext\"><pre>&lt;null&gt;</pre></div></td></tr><tr><td>HelpLink</td><td><div class=\"dni-plaintext\"><pre>&lt;null&gt;</pre></div></td></tr><tr><td>Source</td><td>FSharp.Core</td></tr><tr><td>HResult</td><td>-2146233079</td></tr><tr><td>StackTrace</td><td>   at Microsoft.FSharp.Collections.FSharpList`1.get_Head() in D:\\a\\_work\\1\\s\\src\\FSharp.Core\\prim-types.fs:line 4086\n",
       "   at lambda_method82(Closure, FSharpList`1)\n",
       "   at Microsoft.DotNet.Interactive.Formatting.MemberAccessor`1.GetValueOrException(T instance) in D:\\a\\_work\\1\\s\\src\\Microsoft.DotNet.Interactive.Formatting\\MemberAccessor{T}.cs:line 58</td></tr></tbody></table></div></details></td></tr><tr><td>Tail</td><td><details class=\"dni-treeview\"><summary><span class=\"dni-code-hint\"><code>System.InvalidOperationException: The input list was empty.\\n   at Microsoft.FSharp.Collections.FSharpList`1.get_Tail() in D:\\a\\_work\\1\\s\\src\\FSharp.Core\\prim-types.fs:line 4091\\n   at lambda_method83(Closure, FSharpList`1)\\n   at Microsoft.DotNet.Interactive.Formatting.MemberAccessor`1.GetValueOrEx...</code></span></summary><div><table><thead><tr></tr></thead><tbody><tr><td>TargetSite</td><td>Microsoft.FSharp.Collections.FSharpList`1[T] get_Tail()</td></tr><tr><td>Message</td><td>The input list was empty.</td></tr><tr><td>Data</td><td>[  ]</td></tr><tr><td>InnerException</td><td><div class=\"dni-plaintext\"><pre>&lt;null&gt;</pre></div></td></tr><tr><td>HelpLink</td><td><div class=\"dni-plaintext\"><pre>&lt;null&gt;</pre></div></td></tr><tr><td>Source</td><td>FSharp.Core</td></tr><tr><td>HResult</td><td>-2146233079</td></tr><tr><td>StackTrace</td><td>   at Microsoft.FSharp.Collections.FSharpList`1.get_Tail() in D:\\a\\_work\\1\\s\\src\\FSharp.Core\\prim-types.fs:line 4091\n",
       "   at lambda_method83(Closure, FSharpList`1)\n",
       "   at Microsoft.DotNet.Interactive.Formatting.MemberAccessor`1.GetValueOrException(T instance) in D:\\a\\_work\\1\\s\\src\\Microsoft.DotNet.Interactive.Formatting\\MemberAccessor{T}.cs:line 58</td></tr></tbody></table></div></details></td></tr><tr><td><i>(values)</i></td><td><div class=\"dni-plaintext\"><pre>[  ]</pre></div></td></tr></tbody></table></div></details></td></tr><tr><td><i>(values)</i></td><td><div class=\"dni-plaintext\"><pre>[ 5 ]</pre></div></td></tr></tbody></table></div></details></td></tr><tr><td><i>(values)</i></td><td><div class=\"dni-plaintext\"><pre>[ 4, 5 ]</pre></div></td></tr></tbody></table></div></details></td></tr><tr><td>Head</td><td><div class=\"dni-plaintext\"><pre>3</pre></div></td></tr><tr><td>Tail</td><td><details class=\"dni-treeview\"><summary><span class=\"dni-code-hint\"><code>[ 4, 5 ]</code></span></summary><div><table><thead><tr></tr></thead><tbody><tr><td>HeadOrDefault</td><td><div class=\"dni-plaintext\"><pre>4</pre></div></td></tr><tr><td>TailOrNull</td><td><details class=\"dni-treeview\"><summary><span class=\"dni-code-hint\"><code>[ 5 ]</code></span></summary><div><table><thead><tr></tr></thead><tbody><tr><td>HeadOrDefault</td><td><div class=\"dni-plaintext\"><pre>5</pre></div></td></tr><tr><td>TailOrNull</td><td><details class=\"dni-treeview\"><summary><span class=\"dni-code-hint\"><code>[  ]</code></span></summary><div><table><thead><tr></tr></thead><tbody><tr><td>HeadOrDefault</td><td><div class=\"dni-plaintext\"><pre>0</pre></div></td></tr><tr><td>TailOrNull</td><td><div class=\"dni-plaintext\"><pre>&lt;null&gt;</pre></div></td></tr><tr><td>Head</td><td><details class=\"dni-treeview\"><summary><span class=\"dni-code-hint\"><code>System.InvalidOperationException: The input list was empty.\\n   at Microsoft.FSharp.Collections.FSharpList`1.get_Head() in D:\\a\\_work\\1\\s\\src\\FSharp.Core\\prim-types.fs:line 4086\\n   at lambda_method82(Closure, FSharpList`1)\\n   at Microsoft.DotNet.Interactive.Formatting.MemberAccessor`1.GetValueOrEx...</code></span></summary><div><table><thead><tr></tr></thead><tbody><tr><td>TargetSite</td><td>T get_Head()</td></tr><tr><td>Message</td><td>The input list was empty.</td></tr><tr><td>Data</td><td>[  ]</td></tr><tr><td>InnerException</td><td><div class=\"dni-plaintext\"><pre>&lt;null&gt;</pre></div></td></tr><tr><td>HelpLink</td><td><div class=\"dni-plaintext\"><pre>&lt;null&gt;</pre></div></td></tr><tr><td>Source</td><td>FSharp.Core</td></tr><tr><td>HResult</td><td>-2146233079</td></tr><tr><td>StackTrace</td><td>   at Microsoft.FSharp.Collections.FSharpList`1.get_Head() in D:\\a\\_work\\1\\s\\src\\FSharp.Core\\prim-types.fs:line 4086\n",
       "   at lambda_method82(Closure, FSharpList`1)\n",
       "   at Microsoft.DotNet.Interactive.Formatting.MemberAccessor`1.GetValueOrException(T instance) in D:\\a\\_work\\1\\s\\src\\Microsoft.DotNet.Interactive.Formatting\\MemberAccessor{T}.cs:line 58</td></tr></tbody></table></div></details></td></tr><tr><td>Tail</td><td><details class=\"dni-treeview\"><summary><span class=\"dni-code-hint\"><code>System.InvalidOperationException: The input list was empty.\\n   at Microsoft.FSharp.Collections.FSharpList`1.get_Tail() in D:\\a\\_work\\1\\s\\src\\FSharp.Core\\prim-types.fs:line 4091\\n   at lambda_method83(Closure, FSharpList`1)\\n   at Microsoft.DotNet.Interactive.Formatting.MemberAccessor`1.GetValueOrEx...</code></span></summary><div><table><thead><tr></tr></thead><tbody><tr><td>TargetSite</td><td>Microsoft.FSharp.Collections.FSharpList`1[T] get_Tail()</td></tr><tr><td>Message</td><td>The input list was empty.</td></tr><tr><td>Data</td><td>[  ]</td></tr><tr><td>InnerException</td><td><div class=\"dni-plaintext\"><pre>&lt;null&gt;</pre></div></td></tr><tr><td>HelpLink</td><td><div class=\"dni-plaintext\"><pre>&lt;null&gt;</pre></div></td></tr><tr><td>Source</td><td>FSharp.Core</td></tr><tr><td>HResult</td><td>-2146233079</td></tr><tr><td>StackTrace</td><td>   at Microsoft.FSharp.Collections.FSharpList`1.get_Tail() in D:\\a\\_work\\1\\s\\src\\FSharp.Core\\prim-types.fs:line 4091\n",
       "   at lambda_method83(Closure, FSharpList`1)\n",
       "   at Microsoft.DotNet.Interactive.Formatting.MemberAccessor`1.GetValueOrException(T instance) in D:\\a\\_work\\1\\s\\src\\Microsoft.DotNet.Interactive.Formatting\\MemberAccessor{T}.cs:line 58</td></tr></tbody></table></div></details></td></tr><tr><td><i>(values)</i></td><td><div class=\"dni-plaintext\"><pre>[  ]</pre></div></td></tr></tbody></table></div></details></td></tr><tr><td>Head</td><td><div class=\"dni-plaintext\"><pre>5</pre></div></td></tr><tr><td>Tail</td><td><details class=\"dni-treeview\"><summary><span class=\"dni-code-hint\"><code>[  ]</code></span></summary><div><table><thead><tr></tr></thead><tbody><tr><td>HeadOrDefault</td><td><div class=\"dni-plaintext\"><pre>0</pre></div></td></tr><tr><td>TailOrNull</td><td><div class=\"dni-plaintext\"><pre>&lt;null&gt;</pre></div></td></tr><tr><td>Head</td><td><details class=\"dni-treeview\"><summary><span class=\"dni-code-hint\"><code>System.InvalidOperationException: The input list was empty.\\n   at Microsoft.FSharp.Collections.FSharpList`1.get_Head() in D:\\a\\_work\\1\\s\\src\\FSharp.Core\\prim-types.fs:line 4086\\n   at lambda_method82(Closure, FSharpList`1)\\n   at Microsoft.DotNet.Interactive.Formatting.MemberAccessor`1.GetValueOrEx...</code></span></summary><div><table><thead><tr></tr></thead><tbody><tr><td>TargetSite</td><td>T get_Head()</td></tr><tr><td>Message</td><td>The input list was empty.</td></tr><tr><td>Data</td><td>[  ]</td></tr><tr><td>InnerException</td><td><div class=\"dni-plaintext\"><pre>&lt;null&gt;</pre></div></td></tr><tr><td>HelpLink</td><td><div class=\"dni-plaintext\"><pre>&lt;null&gt;</pre></div></td></tr><tr><td>Source</td><td>FSharp.Core</td></tr><tr><td>HResult</td><td>-2146233079</td></tr><tr><td>StackTrace</td><td>   at Microsoft.FSharp.Collections.FSharpList`1.get_Head() in D:\\a\\_work\\1\\s\\src\\FSharp.Core\\prim-types.fs:line 4086\n",
       "   at lambda_method82(Closure, FSharpList`1)\n",
       "   at Microsoft.DotNet.Interactive.Formatting.MemberAccessor`1.GetValueOrException(T instance) in D:\\a\\_work\\1\\s\\src\\Microsoft.DotNet.Interactive.Formatting\\MemberAccessor{T}.cs:line 58</td></tr></tbody></table></div></details></td></tr><tr><td>Tail</td><td><details class=\"dni-treeview\"><summary><span class=\"dni-code-hint\"><code>System.InvalidOperationException: The input list was empty.\\n   at Microsoft.FSharp.Collections.FSharpList`1.get_Tail() in D:\\a\\_work\\1\\s\\src\\FSharp.Core\\prim-types.fs:line 4091\\n   at lambda_method83(Closure, FSharpList`1)\\n   at Microsoft.DotNet.Interactive.Formatting.MemberAccessor`1.GetValueOrEx...</code></span></summary><div><table><thead><tr></tr></thead><tbody><tr><td>TargetSite</td><td>Microsoft.FSharp.Collections.FSharpList`1[T] get_Tail()</td></tr><tr><td>Message</td><td>The input list was empty.</td></tr><tr><td>Data</td><td>[  ]</td></tr><tr><td>InnerException</td><td><div class=\"dni-plaintext\"><pre>&lt;null&gt;</pre></div></td></tr><tr><td>HelpLink</td><td><div class=\"dni-plaintext\"><pre>&lt;null&gt;</pre></div></td></tr><tr><td>Source</td><td>FSharp.Core</td></tr><tr><td>HResult</td><td>-2146233079</td></tr><tr><td>StackTrace</td><td>   at Microsoft.FSharp.Collections.FSharpList`1.get_Tail() in D:\\a\\_work\\1\\s\\src\\FSharp.Core\\prim-types.fs:line 4091\n",
       "   at lambda_method83(Closure, FSharpList`1)\n",
       "   at Microsoft.DotNet.Interactive.Formatting.MemberAccessor`1.GetValueOrException(T instance) in D:\\a\\_work\\1\\s\\src\\Microsoft.DotNet.Interactive.Formatting\\MemberAccessor{T}.cs:line 58</td></tr></tbody></table></div></details></td></tr><tr><td><i>(values)</i></td><td><div class=\"dni-plaintext\"><pre>[  ]</pre></div></td></tr></tbody></table></div></details></td></tr><tr><td><i>(values)</i></td><td><div class=\"dni-plaintext\"><pre>[ 5 ]</pre></div></td></tr></tbody></table></div></details></td></tr><tr><td>Head</td><td><div class=\"dni-plaintext\"><pre>4</pre></div></td></tr><tr><td>Tail</td><td><details class=\"dni-treeview\"><summary><span class=\"dni-code-hint\"><code>[ 5 ]</code></span></summary><div><table><thead><tr></tr></thead><tbody><tr><td>HeadOrDefault</td><td><div class=\"dni-plaintext\"><pre>5</pre></div></td></tr><tr><td>TailOrNull</td><td><details class=\"dni-treeview\"><summary><span class=\"dni-code-hint\"><code>[  ]</code></span></summary><div><table><thead><tr></tr></thead><tbody><tr><td>HeadOrDefault</td><td><div class=\"dni-plaintext\"><pre>0</pre></div></td></tr><tr><td>TailOrNull</td><td><div class=\"dni-plaintext\"><pre>&lt;null&gt;</pre></div></td></tr><tr><td>Head</td><td><details class=\"dni-treeview\"><summary><span class=\"dni-code-hint\"><code>System.InvalidOperationException: The input list was empty.\\n   at Microsoft.FSharp.Collections.FSharpList`1.get_Head() in D:\\a\\_work\\1\\s\\src\\FSharp.Core\\prim-types.fs:line 4086\\n   at lambda_method82(Closure, FSharpList`1)\\n   at Microsoft.DotNet.Interactive.Formatting.MemberAccessor`1.GetValueOrEx...</code></span></summary><div><table><thead><tr></tr></thead><tbody><tr><td>TargetSite</td><td>T get_Head()</td></tr><tr><td>Message</td><td>The input list was empty.</td></tr><tr><td>Data</td><td>[  ]</td></tr><tr><td>InnerException</td><td><div class=\"dni-plaintext\"><pre>&lt;null&gt;</pre></div></td></tr><tr><td>HelpLink</td><td><div class=\"dni-plaintext\"><pre>&lt;null&gt;</pre></div></td></tr><tr><td>Source</td><td>FSharp.Core</td></tr><tr><td>HResult</td><td>-2146233079</td></tr><tr><td>StackTrace</td><td>   at Microsoft.FSharp.Collections.FSharpList`1.get_Head() in D:\\a\\_work\\1\\s\\src\\FSharp.Core\\prim-types.fs:line 4086\n",
       "   at lambda_method82(Closure, FSharpList`1)\n",
       "   at Microsoft.DotNet.Interactive.Formatting.MemberAccessor`1.GetValueOrException(T instance) in D:\\a\\_work\\1\\s\\src\\Microsoft.DotNet.Interactive.Formatting\\MemberAccessor{T}.cs:line 58</td></tr></tbody></table></div></details></td></tr><tr><td>Tail</td><td><details class=\"dni-treeview\"><summary><span class=\"dni-code-hint\"><code>System.InvalidOperationException: The input list was empty.\\n   at Microsoft.FSharp.Collections.FSharpList`1.get_Tail() in D:\\a\\_work\\1\\s\\src\\FSharp.Core\\prim-types.fs:line 4091\\n   at lambda_method83(Closure, FSharpList`1)\\n   at Microsoft.DotNet.Interactive.Formatting.MemberAccessor`1.GetValueOrEx...</code></span></summary><div><table><thead><tr></tr></thead><tbody><tr><td>TargetSite</td><td>Microsoft.FSharp.Collections.FSharpList`1[T] get_Tail()</td></tr><tr><td>Message</td><td>The input list was empty.</td></tr><tr><td>Data</td><td>[  ]</td></tr><tr><td>InnerException</td><td><div class=\"dni-plaintext\"><pre>&lt;null&gt;</pre></div></td></tr><tr><td>HelpLink</td><td><div class=\"dni-plaintext\"><pre>&lt;null&gt;</pre></div></td></tr><tr><td>Source</td><td>FSharp.Core</td></tr><tr><td>HResult</td><td>-2146233079</td></tr><tr><td>StackTrace</td><td>   at Microsoft.FSharp.Collections.FSharpList`1.get_Tail() in D:\\a\\_work\\1\\s\\src\\FSharp.Core\\prim-types.fs:line 4091\n",
       "   at lambda_method83(Closure, FSharpList`1)\n",
       "   at Microsoft.DotNet.Interactive.Formatting.MemberAccessor`1.GetValueOrException(T instance) in D:\\a\\_work\\1\\s\\src\\Microsoft.DotNet.Interactive.Formatting\\MemberAccessor{T}.cs:line 58</td></tr></tbody></table></div></details></td></tr><tr><td><i>(values)</i></td><td><div class=\"dni-plaintext\"><pre>[  ]</pre></div></td></tr></tbody></table></div></details></td></tr><tr><td>Head</td><td><div class=\"dni-plaintext\"><pre>5</pre></div></td></tr><tr><td>Tail</td><td><details class=\"dni-treeview\"><summary><span class=\"dni-code-hint\"><code>[  ]</code></span></summary><div><table><thead><tr></tr></thead><tbody><tr><td>HeadOrDefault</td><td><div class=\"dni-plaintext\"><pre>0</pre></div></td></tr><tr><td>TailOrNull</td><td><div class=\"dni-plaintext\"><pre>&lt;null&gt;</pre></div></td></tr><tr><td>Head</td><td><details class=\"dni-treeview\"><summary><span class=\"dni-code-hint\"><code>System.InvalidOperationException: The input list was empty.\\n   at Microsoft.FSharp.Collections.FSharpList`1.get_Head() in D:\\a\\_work\\1\\s\\src\\FSharp.Core\\prim-types.fs:line 4086\\n   at lambda_method82(Closure, FSharpList`1)\\n   at Microsoft.DotNet.Interactive.Formatting.MemberAccessor`1.GetValueOrEx...</code></span></summary><div><table><thead><tr></tr></thead><tbody><tr><td>TargetSite</td><td>T get_Head()</td></tr><tr><td>Message</td><td>The input list was empty.</td></tr><tr><td>Data</td><td>[  ]</td></tr><tr><td>InnerException</td><td><div class=\"dni-plaintext\"><pre>&lt;null&gt;</pre></div></td></tr><tr><td>HelpLink</td><td><div class=\"dni-plaintext\"><pre>&lt;null&gt;</pre></div></td></tr><tr><td>Source</td><td>FSharp.Core</td></tr><tr><td>HResult</td><td>-2146233079</td></tr><tr><td>StackTrace</td><td>   at Microsoft.FSharp.Collections.FSharpList`1.get_Head() in D:\\a\\_work\\1\\s\\src\\FSharp.Core\\prim-types.fs:line 4086\n",
       "   at lambda_method82(Closure, FSharpList`1)\n",
       "   at Microsoft.DotNet.Interactive.Formatting.MemberAccessor`1.GetValueOrException(T instance) in D:\\a\\_work\\1\\s\\src\\Microsoft.DotNet.Interactive.Formatting\\MemberAccessor{T}.cs:line 58</td></tr></tbody></table></div></details></td></tr><tr><td>Tail</td><td><details class=\"dni-treeview\"><summary><span class=\"dni-code-hint\"><code>System.InvalidOperationException: The input list was empty.\\n   at Microsoft.FSharp.Collections.FSharpList`1.get_Tail() in D:\\a\\_work\\1\\s\\src\\FSharp.Core\\prim-types.fs:line 4091\\n   at lambda_method83(Closure, FSharpList`1)\\n   at Microsoft.DotNet.Interactive.Formatting.MemberAccessor`1.GetValueOrEx...</code></span></summary><div><table><thead><tr></tr></thead><tbody><tr><td>TargetSite</td><td>Microsoft.FSharp.Collections.FSharpList`1[T] get_Tail()</td></tr><tr><td>Message</td><td>The input list was empty.</td></tr><tr><td>Data</td><td>[  ]</td></tr><tr><td>InnerException</td><td><div class=\"dni-plaintext\"><pre>&lt;null&gt;</pre></div></td></tr><tr><td>HelpLink</td><td><div class=\"dni-plaintext\"><pre>&lt;null&gt;</pre></div></td></tr><tr><td>Source</td><td>FSharp.Core</td></tr><tr><td>HResult</td><td>-2146233079</td></tr><tr><td>StackTrace</td><td>   at Microsoft.FSharp.Collections.FSharpList`1.get_Tail() in D:\\a\\_work\\1\\s\\src\\FSharp.Core\\prim-types.fs:line 4091\n",
       "   at lambda_method83(Closure, FSharpList`1)\n",
       "   at Microsoft.DotNet.Interactive.Formatting.MemberAccessor`1.GetValueOrException(T instance) in D:\\a\\_work\\1\\s\\src\\Microsoft.DotNet.Interactive.Formatting\\MemberAccessor{T}.cs:line 58</td></tr></tbody></table></div></details></td></tr><tr><td><i>(values)</i></td><td><div class=\"dni-plaintext\"><pre>[  ]</pre></div></td></tr></tbody></table></div></details></td></tr><tr><td><i>(values)</i></td><td><div class=\"dni-plaintext\"><pre>[ 5 ]</pre></div></td></tr></tbody></table></div></details></td></tr><tr><td><i>(values)</i></td><td><div class=\"dni-plaintext\"><pre>[ 4, 5 ]</pre></div></td></tr></tbody></table></div></details></td></tr><tr><td><i>(values)</i></td><td><div class=\"dni-plaintext\"><pre>[ 3, 4, 5 ]</pre></div></td></tr></tbody></table></div></details></td></tr><tr><td><i>(values)</i></td><td><div class=\"dni-plaintext\"><pre>[ 2, 3, 4, 5 ]</pre></div></td></tr></tbody></table></div></details><style>\r\n",
       ".dni-code-hint {\r\n",
       "    font-style: italic;\r\n",
       "    overflow: hidden;\r\n",
       "    white-space: nowrap;\r\n",
       "}\r\n",
       ".dni-treeview {\r\n",
       "    white-space: nowrap;\r\n",
       "}\r\n",
       ".dni-treeview td {\r\n",
       "    vertical-align: top;\r\n",
       "    text-align: start;\r\n",
       "}\r\n",
       "details.dni-treeview {\r\n",
       "    padding-left: 1em;\r\n",
       "}\r\n",
       "table td {\r\n",
       "    text-align: start;\r\n",
       "}\r\n",
       "table tr { \r\n",
       "    vertical-align: top; \r\n",
       "    margin: 0em 0px;\r\n",
       "}\r\n",
       "table tr td pre \r\n",
       "{ \r\n",
       "    vertical-align: top !important; \r\n",
       "    margin: 0em 0px !important;\r\n",
       "} \r\n",
       "table th {\r\n",
       "    text-align: start;\r\n",
       "}\r\n",
       "</style>"
      ]
     },
     "metadata": {},
     "output_type": "display_data"
    }
   ],
   "source": [
    "#!fsharp\n",
    "\n",
    "let myInt = 5\n",
    "let myFloat = 3.14\n",
    "let myString = \"hello\"  // note that no types needed\n",
    "\n",
    "let twoToFive = [2;3;4;5] // list\n",
    "twoToFive"
   ]
  },
  {
   "cell_type": "code",
   "execution_count": 2,
   "metadata": {
    "dotnet_interactive": {
     "language": "fsharp"
    },
    "vscode": {
     "languageId": "polyglot-notebook"
    }
   },
   "outputs": [
    {
     "data": {
      "text/html": [
       "<details open=\"open\" class=\"dni-treeview\"><summary><span class=\"dni-code-hint\"><code>[ 1, 2, 3, 4, 5 ]</code></span></summary><div><table><thead><tr></tr></thead><tbody><tr><td>HeadOrDefault</td><td><div class=\"dni-plaintext\"><pre>1</pre></div></td></tr><tr><td>TailOrNull</td><td><details class=\"dni-treeview\"><summary><span class=\"dni-code-hint\"><code>[ 2, 3, 4, 5 ]</code></span></summary><div><table><thead><tr></tr></thead><tbody><tr><td>HeadOrDefault</td><td><div class=\"dni-plaintext\"><pre>2</pre></div></td></tr><tr><td>TailOrNull</td><td><details class=\"dni-treeview\"><summary><span class=\"dni-code-hint\"><code>[ 3, 4, 5 ]</code></span></summary><div><table><thead><tr></tr></thead><tbody><tr><td>HeadOrDefault</td><td><div class=\"dni-plaintext\"><pre>3</pre></div></td></tr><tr><td>TailOrNull</td><td><details class=\"dni-treeview\"><summary><span class=\"dni-code-hint\"><code>[ 4, 5 ]</code></span></summary><div><table><thead><tr></tr></thead><tbody><tr><td>HeadOrDefault</td><td><div class=\"dni-plaintext\"><pre>4</pre></div></td></tr><tr><td>TailOrNull</td><td><details class=\"dni-treeview\"><summary><span class=\"dni-code-hint\"><code>[ 5 ]</code></span></summary><div><table><thead><tr></tr></thead><tbody><tr><td>HeadOrDefault</td><td><div class=\"dni-plaintext\"><pre>5</pre></div></td></tr><tr><td>TailOrNull</td><td><details class=\"dni-treeview\"><summary><span class=\"dni-code-hint\"><code>[  ]</code></span></summary><div><table><thead><tr></tr></thead><tbody><tr><td>HeadOrDefault</td><td>0</td></tr><tr><td>TailOrNull</td><td><div class=\"dni-plaintext\"><pre>&lt;null&gt;</pre></div></td></tr><tr><td>Head</td><td>System.InvalidOperationException: The input list was empty.\n",
       "   at Microsoft.FSharp.Collections.FSharpList`1.get_Head() in D:\\a\\_work\\1\\s\\src\\FSharp.Core\\prim-types.fs:line 4086\n",
       "   at lambda_method82(Closure, FSharpList`1)\n",
       "   at Microsoft.DotNet.Interactive.Formatting.MemberAccessor`1.GetValueOrException(T instance) in D:\\a\\_work\\1\\s\\src\\Microsoft.DotNet.Interactive.Formatting\\MemberAccessor{T}.cs:line 58</td></tr><tr><td>Tail</td><td>System.InvalidOperationException: The input list was empty.\n",
       "   at Microsoft.FSharp.Collections.FSharpList`1.get_Tail() in D:\\a\\_work\\1\\s\\src\\FSharp.Core\\prim-types.fs:line 4091\n",
       "   at lambda_method83(Closure, FSharpList`1)\n",
       "   at Microsoft.DotNet.Interactive.Formatting.MemberAccessor`1.GetValueOrException(T instance) in D:\\a\\_work\\1\\s\\src\\Microsoft.DotNet.Interactive.Formatting\\MemberAccessor{T}.cs:line 58</td></tr><tr><td><i>(values)</i></td><td><div class=\"dni-plaintext\"><pre>[  ]</pre></div></td></tr></tbody></table></div></details></td></tr><tr><td>Head</td><td><div class=\"dni-plaintext\"><pre>5</pre></div></td></tr><tr><td>Tail</td><td><details class=\"dni-treeview\"><summary><span class=\"dni-code-hint\"><code>[  ]</code></span></summary><div><table><thead><tr></tr></thead><tbody><tr><td>HeadOrDefault</td><td>0</td></tr><tr><td>TailOrNull</td><td><div class=\"dni-plaintext\"><pre>&lt;null&gt;</pre></div></td></tr><tr><td>Head</td><td>System.InvalidOperationException: The input list was empty.\n",
       "   at Microsoft.FSharp.Collections.FSharpList`1.get_Head() in D:\\a\\_work\\1\\s\\src\\FSharp.Core\\prim-types.fs:line 4086\n",
       "   at lambda_method82(Closure, FSharpList`1)\n",
       "   at Microsoft.DotNet.Interactive.Formatting.MemberAccessor`1.GetValueOrException(T instance) in D:\\a\\_work\\1\\s\\src\\Microsoft.DotNet.Interactive.Formatting\\MemberAccessor{T}.cs:line 58</td></tr><tr><td>Tail</td><td>System.InvalidOperationException: The input list was empty.\n",
       "   at Microsoft.FSharp.Collections.FSharpList`1.get_Tail() in D:\\a\\_work\\1\\s\\src\\FSharp.Core\\prim-types.fs:line 4091\n",
       "   at lambda_method83(Closure, FSharpList`1)\n",
       "   at Microsoft.DotNet.Interactive.Formatting.MemberAccessor`1.GetValueOrException(T instance) in D:\\a\\_work\\1\\s\\src\\Microsoft.DotNet.Interactive.Formatting\\MemberAccessor{T}.cs:line 58</td></tr><tr><td><i>(values)</i></td><td><div class=\"dni-plaintext\"><pre>[  ]</pre></div></td></tr></tbody></table></div></details></td></tr><tr><td><i>(values)</i></td><td><div class=\"dni-plaintext\"><pre>[ 5 ]</pre></div></td></tr></tbody></table></div></details></td></tr><tr><td>Head</td><td><div class=\"dni-plaintext\"><pre>4</pre></div></td></tr><tr><td>Tail</td><td><details class=\"dni-treeview\"><summary><span class=\"dni-code-hint\"><code>[ 5 ]</code></span></summary><div><table><thead><tr></tr></thead><tbody><tr><td>HeadOrDefault</td><td><div class=\"dni-plaintext\"><pre>5</pre></div></td></tr><tr><td>TailOrNull</td><td><details class=\"dni-treeview\"><summary><span class=\"dni-code-hint\"><code>[  ]</code></span></summary><div><table><thead><tr></tr></thead><tbody><tr><td>HeadOrDefault</td><td>0</td></tr><tr><td>TailOrNull</td><td><div class=\"dni-plaintext\"><pre>&lt;null&gt;</pre></div></td></tr><tr><td>Head</td><td>System.InvalidOperationException: The input list was empty.\n",
       "   at Microsoft.FSharp.Collections.FSharpList`1.get_Head() in D:\\a\\_work\\1\\s\\src\\FSharp.Core\\prim-types.fs:line 4086\n",
       "   at lambda_method82(Closure, FSharpList`1)\n",
       "   at Microsoft.DotNet.Interactive.Formatting.MemberAccessor`1.GetValueOrException(T instance) in D:\\a\\_work\\1\\s\\src\\Microsoft.DotNet.Interactive.Formatting\\MemberAccessor{T}.cs:line 58</td></tr><tr><td>Tail</td><td>System.InvalidOperationException: The input list was empty.\n",
       "   at Microsoft.FSharp.Collections.FSharpList`1.get_Tail() in D:\\a\\_work\\1\\s\\src\\FSharp.Core\\prim-types.fs:line 4091\n",
       "   at lambda_method83(Closure, FSharpList`1)\n",
       "   at Microsoft.DotNet.Interactive.Formatting.MemberAccessor`1.GetValueOrException(T instance) in D:\\a\\_work\\1\\s\\src\\Microsoft.DotNet.Interactive.Formatting\\MemberAccessor{T}.cs:line 58</td></tr><tr><td><i>(values)</i></td><td><div class=\"dni-plaintext\"><pre>[  ]</pre></div></td></tr></tbody></table></div></details></td></tr><tr><td>Head</td><td><div class=\"dni-plaintext\"><pre>5</pre></div></td></tr><tr><td>Tail</td><td><details class=\"dni-treeview\"><summary><span class=\"dni-code-hint\"><code>[  ]</code></span></summary><div><table><thead><tr></tr></thead><tbody><tr><td>HeadOrDefault</td><td>0</td></tr><tr><td>TailOrNull</td><td><div class=\"dni-plaintext\"><pre>&lt;null&gt;</pre></div></td></tr><tr><td>Head</td><td>System.InvalidOperationException: The input list was empty.\n",
       "   at Microsoft.FSharp.Collections.FSharpList`1.get_Head() in D:\\a\\_work\\1\\s\\src\\FSharp.Core\\prim-types.fs:line 4086\n",
       "   at lambda_method82(Closure, FSharpList`1)\n",
       "   at Microsoft.DotNet.Interactive.Formatting.MemberAccessor`1.GetValueOrException(T instance) in D:\\a\\_work\\1\\s\\src\\Microsoft.DotNet.Interactive.Formatting\\MemberAccessor{T}.cs:line 58</td></tr><tr><td>Tail</td><td>System.InvalidOperationException: The input list was empty.\n",
       "   at Microsoft.FSharp.Collections.FSharpList`1.get_Tail() in D:\\a\\_work\\1\\s\\src\\FSharp.Core\\prim-types.fs:line 4091\n",
       "   at lambda_method83(Closure, FSharpList`1)\n",
       "   at Microsoft.DotNet.Interactive.Formatting.MemberAccessor`1.GetValueOrException(T instance) in D:\\a\\_work\\1\\s\\src\\Microsoft.DotNet.Interactive.Formatting\\MemberAccessor{T}.cs:line 58</td></tr><tr><td><i>(values)</i></td><td><div class=\"dni-plaintext\"><pre>[  ]</pre></div></td></tr></tbody></table></div></details></td></tr><tr><td><i>(values)</i></td><td><div class=\"dni-plaintext\"><pre>[ 5 ]</pre></div></td></tr></tbody></table></div></details></td></tr><tr><td><i>(values)</i></td><td><div class=\"dni-plaintext\"><pre>[ 4, 5 ]</pre></div></td></tr></tbody></table></div></details></td></tr><tr><td>Head</td><td><div class=\"dni-plaintext\"><pre>3</pre></div></td></tr><tr><td>Tail</td><td><details class=\"dni-treeview\"><summary><span class=\"dni-code-hint\"><code>[ 4, 5 ]</code></span></summary><div><table><thead><tr></tr></thead><tbody><tr><td>HeadOrDefault</td><td><div class=\"dni-plaintext\"><pre>4</pre></div></td></tr><tr><td>TailOrNull</td><td><details class=\"dni-treeview\"><summary><span class=\"dni-code-hint\"><code>[ 5 ]</code></span></summary><div><table><thead><tr></tr></thead><tbody><tr><td>HeadOrDefault</td><td><div class=\"dni-plaintext\"><pre>5</pre></div></td></tr><tr><td>TailOrNull</td><td><details class=\"dni-treeview\"><summary><span class=\"dni-code-hint\"><code>[  ]</code></span></summary><div><table><thead><tr></tr></thead><tbody><tr><td>HeadOrDefault</td><td>0</td></tr><tr><td>TailOrNull</td><td><div class=\"dni-plaintext\"><pre>&lt;null&gt;</pre></div></td></tr><tr><td>Head</td><td>System.InvalidOperationException: The input list was empty.\n",
       "   at Microsoft.FSharp.Collections.FSharpList`1.get_Head() in D:\\a\\_work\\1\\s\\src\\FSharp.Core\\prim-types.fs:line 4086\n",
       "   at lambda_method82(Closure, FSharpList`1)\n",
       "   at Microsoft.DotNet.Interactive.Formatting.MemberAccessor`1.GetValueOrException(T instance) in D:\\a\\_work\\1\\s\\src\\Microsoft.DotNet.Interactive.Formatting\\MemberAccessor{T}.cs:line 58</td></tr><tr><td>Tail</td><td>System.InvalidOperationException: The input list was empty.\n",
       "   at Microsoft.FSharp.Collections.FSharpList`1.get_Tail() in D:\\a\\_work\\1\\s\\src\\FSharp.Core\\prim-types.fs:line 4091\n",
       "   at lambda_method83(Closure, FSharpList`1)\n",
       "   at Microsoft.DotNet.Interactive.Formatting.MemberAccessor`1.GetValueOrException(T instance) in D:\\a\\_work\\1\\s\\src\\Microsoft.DotNet.Interactive.Formatting\\MemberAccessor{T}.cs:line 58</td></tr><tr><td><i>(values)</i></td><td><div class=\"dni-plaintext\"><pre>[  ]</pre></div></td></tr></tbody></table></div></details></td></tr><tr><td>Head</td><td><div class=\"dni-plaintext\"><pre>5</pre></div></td></tr><tr><td>Tail</td><td><details class=\"dni-treeview\"><summary><span class=\"dni-code-hint\"><code>[  ]</code></span></summary><div><table><thead><tr></tr></thead><tbody><tr><td>HeadOrDefault</td><td>0</td></tr><tr><td>TailOrNull</td><td><div class=\"dni-plaintext\"><pre>&lt;null&gt;</pre></div></td></tr><tr><td>Head</td><td>System.InvalidOperationException: The input list was empty.\n",
       "   at Microsoft.FSharp.Collections.FSharpList`1.get_Head() in D:\\a\\_work\\1\\s\\src\\FSharp.Core\\prim-types.fs:line 4086\n",
       "   at lambda_method82(Closure, FSharpList`1)\n",
       "   at Microsoft.DotNet.Interactive.Formatting.MemberAccessor`1.GetValueOrException(T instance) in D:\\a\\_work\\1\\s\\src\\Microsoft.DotNet.Interactive.Formatting\\MemberAccessor{T}.cs:line 58</td></tr><tr><td>Tail</td><td>System.InvalidOperationException: The input list was empty.\n",
       "   at Microsoft.FSharp.Collections.FSharpList`1.get_Tail() in D:\\a\\_work\\1\\s\\src\\FSharp.Core\\prim-types.fs:line 4091\n",
       "   at lambda_method83(Closure, FSharpList`1)\n",
       "   at Microsoft.DotNet.Interactive.Formatting.MemberAccessor`1.GetValueOrException(T instance) in D:\\a\\_work\\1\\s\\src\\Microsoft.DotNet.Interactive.Formatting\\MemberAccessor{T}.cs:line 58</td></tr><tr><td><i>(values)</i></td><td><div class=\"dni-plaintext\"><pre>[  ]</pre></div></td></tr></tbody></table></div></details></td></tr><tr><td><i>(values)</i></td><td><div class=\"dni-plaintext\"><pre>[ 5 ]</pre></div></td></tr></tbody></table></div></details></td></tr><tr><td>Head</td><td><div class=\"dni-plaintext\"><pre>4</pre></div></td></tr><tr><td>Tail</td><td><details class=\"dni-treeview\"><summary><span class=\"dni-code-hint\"><code>[ 5 ]</code></span></summary><div><table><thead><tr></tr></thead><tbody><tr><td>HeadOrDefault</td><td><div class=\"dni-plaintext\"><pre>5</pre></div></td></tr><tr><td>TailOrNull</td><td><details class=\"dni-treeview\"><summary><span class=\"dni-code-hint\"><code>[  ]</code></span></summary><div><table><thead><tr></tr></thead><tbody><tr><td>HeadOrDefault</td><td>0</td></tr><tr><td>TailOrNull</td><td><div class=\"dni-plaintext\"><pre>&lt;null&gt;</pre></div></td></tr><tr><td>Head</td><td>System.InvalidOperationException: The input list was empty.\n",
       "   at Microsoft.FSharp.Collections.FSharpList`1.get_Head() in D:\\a\\_work\\1\\s\\src\\FSharp.Core\\prim-types.fs:line 4086\n",
       "   at lambda_method82(Closure, FSharpList`1)\n",
       "   at Microsoft.DotNet.Interactive.Formatting.MemberAccessor`1.GetValueOrException(T instance) in D:\\a\\_work\\1\\s\\src\\Microsoft.DotNet.Interactive.Formatting\\MemberAccessor{T}.cs:line 58</td></tr><tr><td>Tail</td><td>System.InvalidOperationException: The input list was empty.\n",
       "   at Microsoft.FSharp.Collections.FSharpList`1.get_Tail() in D:\\a\\_work\\1\\s\\src\\FSharp.Core\\prim-types.fs:line 4091\n",
       "   at lambda_method83(Closure, FSharpList`1)\n",
       "   at Microsoft.DotNet.Interactive.Formatting.MemberAccessor`1.GetValueOrException(T instance) in D:\\a\\_work\\1\\s\\src\\Microsoft.DotNet.Interactive.Formatting\\MemberAccessor{T}.cs:line 58</td></tr><tr><td><i>(values)</i></td><td><div class=\"dni-plaintext\"><pre>[  ]</pre></div></td></tr></tbody></table></div></details></td></tr><tr><td>Head</td><td><div class=\"dni-plaintext\"><pre>5</pre></div></td></tr><tr><td>Tail</td><td><details class=\"dni-treeview\"><summary><span class=\"dni-code-hint\"><code>[  ]</code></span></summary><div><table><thead><tr></tr></thead><tbody><tr><td>HeadOrDefault</td><td>0</td></tr><tr><td>TailOrNull</td><td><div class=\"dni-plaintext\"><pre>&lt;null&gt;</pre></div></td></tr><tr><td>Head</td><td>System.InvalidOperationException: The input list was empty.\n",
       "   at Microsoft.FSharp.Collections.FSharpList`1.get_Head() in D:\\a\\_work\\1\\s\\src\\FSharp.Core\\prim-types.fs:line 4086\n",
       "   at lambda_method82(Closure, FSharpList`1)\n",
       "   at Microsoft.DotNet.Interactive.Formatting.MemberAccessor`1.GetValueOrException(T instance) in D:\\a\\_work\\1\\s\\src\\Microsoft.DotNet.Interactive.Formatting\\MemberAccessor{T}.cs:line 58</td></tr><tr><td>Tail</td><td>System.InvalidOperationException: The input list was empty.\n",
       "   at Microsoft.FSharp.Collections.FSharpList`1.get_Tail() in D:\\a\\_work\\1\\s\\src\\FSharp.Core\\prim-types.fs:line 4091\n",
       "   at lambda_method83(Closure, FSharpList`1)\n",
       "   at Microsoft.DotNet.Interactive.Formatting.MemberAccessor`1.GetValueOrException(T instance) in D:\\a\\_work\\1\\s\\src\\Microsoft.DotNet.Interactive.Formatting\\MemberAccessor{T}.cs:line 58</td></tr><tr><td><i>(values)</i></td><td><div class=\"dni-plaintext\"><pre>[  ]</pre></div></td></tr></tbody></table></div></details></td></tr><tr><td><i>(values)</i></td><td><div class=\"dni-plaintext\"><pre>[ 5 ]</pre></div></td></tr></tbody></table></div></details></td></tr><tr><td><i>(values)</i></td><td><div class=\"dni-plaintext\"><pre>[ 4, 5 ]</pre></div></td></tr></tbody></table></div></details></td></tr><tr><td><i>(values)</i></td><td><div class=\"dni-plaintext\"><pre>[ 3, 4, 5 ]</pre></div></td></tr></tbody></table></div></details></td></tr><tr><td>Head</td><td><div class=\"dni-plaintext\"><pre>2</pre></div></td></tr><tr><td>Tail</td><td><details class=\"dni-treeview\"><summary><span class=\"dni-code-hint\"><code>[ 3, 4, 5 ]</code></span></summary><div><table><thead><tr></tr></thead><tbody><tr><td>HeadOrDefault</td><td><div class=\"dni-plaintext\"><pre>3</pre></div></td></tr><tr><td>TailOrNull</td><td><details class=\"dni-treeview\"><summary><span class=\"dni-code-hint\"><code>[ 4, 5 ]</code></span></summary><div><table><thead><tr></tr></thead><tbody><tr><td>HeadOrDefault</td><td><div class=\"dni-plaintext\"><pre>4</pre></div></td></tr><tr><td>TailOrNull</td><td><details class=\"dni-treeview\"><summary><span class=\"dni-code-hint\"><code>[ 5 ]</code></span></summary><div><table><thead><tr></tr></thead><tbody><tr><td>HeadOrDefault</td><td><div class=\"dni-plaintext\"><pre>5</pre></div></td></tr><tr><td>TailOrNull</td><td><details class=\"dni-treeview\"><summary><span class=\"dni-code-hint\"><code>[  ]</code></span></summary><div><table><thead><tr></tr></thead><tbody><tr><td>HeadOrDefault</td><td>0</td></tr><tr><td>TailOrNull</td><td><div class=\"dni-plaintext\"><pre>&lt;null&gt;</pre></div></td></tr><tr><td>Head</td><td>System.InvalidOperationException: The input list was empty.\n",
       "   at Microsoft.FSharp.Collections.FSharpList`1.get_Head() in D:\\a\\_work\\1\\s\\src\\FSharp.Core\\prim-types.fs:line 4086\n",
       "   at lambda_method82(Closure, FSharpList`1)\n",
       "   at Microsoft.DotNet.Interactive.Formatting.MemberAccessor`1.GetValueOrException(T instance) in D:\\a\\_work\\1\\s\\src\\Microsoft.DotNet.Interactive.Formatting\\MemberAccessor{T}.cs:line 58</td></tr><tr><td>Tail</td><td>System.InvalidOperationException: The input list was empty.\n",
       "   at Microsoft.FSharp.Collections.FSharpList`1.get_Tail() in D:\\a\\_work\\1\\s\\src\\FSharp.Core\\prim-types.fs:line 4091\n",
       "   at lambda_method83(Closure, FSharpList`1)\n",
       "   at Microsoft.DotNet.Interactive.Formatting.MemberAccessor`1.GetValueOrException(T instance) in D:\\a\\_work\\1\\s\\src\\Microsoft.DotNet.Interactive.Formatting\\MemberAccessor{T}.cs:line 58</td></tr><tr><td><i>(values)</i></td><td><div class=\"dni-plaintext\"><pre>[  ]</pre></div></td></tr></tbody></table></div></details></td></tr><tr><td>Head</td><td><div class=\"dni-plaintext\"><pre>5</pre></div></td></tr><tr><td>Tail</td><td><details class=\"dni-treeview\"><summary><span class=\"dni-code-hint\"><code>[  ]</code></span></summary><div><table><thead><tr></tr></thead><tbody><tr><td>HeadOrDefault</td><td>0</td></tr><tr><td>TailOrNull</td><td><div class=\"dni-plaintext\"><pre>&lt;null&gt;</pre></div></td></tr><tr><td>Head</td><td>System.InvalidOperationException: The input list was empty.\n",
       "   at Microsoft.FSharp.Collections.FSharpList`1.get_Head() in D:\\a\\_work\\1\\s\\src\\FSharp.Core\\prim-types.fs:line 4086\n",
       "   at lambda_method82(Closure, FSharpList`1)\n",
       "   at Microsoft.DotNet.Interactive.Formatting.MemberAccessor`1.GetValueOrException(T instance) in D:\\a\\_work\\1\\s\\src\\Microsoft.DotNet.Interactive.Formatting\\MemberAccessor{T}.cs:line 58</td></tr><tr><td>Tail</td><td>System.InvalidOperationException: The input list was empty.\n",
       "   at Microsoft.FSharp.Collections.FSharpList`1.get_Tail() in D:\\a\\_work\\1\\s\\src\\FSharp.Core\\prim-types.fs:line 4091\n",
       "   at lambda_method83(Closure, FSharpList`1)\n",
       "   at Microsoft.DotNet.Interactive.Formatting.MemberAccessor`1.GetValueOrException(T instance) in D:\\a\\_work\\1\\s\\src\\Microsoft.DotNet.Interactive.Formatting\\MemberAccessor{T}.cs:line 58</td></tr><tr><td><i>(values)</i></td><td><div class=\"dni-plaintext\"><pre>[  ]</pre></div></td></tr></tbody></table></div></details></td></tr><tr><td><i>(values)</i></td><td><div class=\"dni-plaintext\"><pre>[ 5 ]</pre></div></td></tr></tbody></table></div></details></td></tr><tr><td>Head</td><td><div class=\"dni-plaintext\"><pre>4</pre></div></td></tr><tr><td>Tail</td><td><details class=\"dni-treeview\"><summary><span class=\"dni-code-hint\"><code>[ 5 ]</code></span></summary><div><table><thead><tr></tr></thead><tbody><tr><td>HeadOrDefault</td><td><div class=\"dni-plaintext\"><pre>5</pre></div></td></tr><tr><td>TailOrNull</td><td><details class=\"dni-treeview\"><summary><span class=\"dni-code-hint\"><code>[  ]</code></span></summary><div><table><thead><tr></tr></thead><tbody><tr><td>HeadOrDefault</td><td>0</td></tr><tr><td>TailOrNull</td><td><div class=\"dni-plaintext\"><pre>&lt;null&gt;</pre></div></td></tr><tr><td>Head</td><td>System.InvalidOperationException: The input list was empty.\n",
       "   at Microsoft.FSharp.Collections.FSharpList`1.get_Head() in D:\\a\\_work\\1\\s\\src\\FSharp.Core\\prim-types.fs:line 4086\n",
       "   at lambda_method82(Closure, FSharpList`1)\n",
       "   at Microsoft.DotNet.Interactive.Formatting.MemberAccessor`1.GetValueOrException(T instance) in D:\\a\\_work\\1\\s\\src\\Microsoft.DotNet.Interactive.Formatting\\MemberAccessor{T}.cs:line 58</td></tr><tr><td>Tail</td><td>System.InvalidOperationException: The input list was empty.\n",
       "   at Microsoft.FSharp.Collections.FSharpList`1.get_Tail() in D:\\a\\_work\\1\\s\\src\\FSharp.Core\\prim-types.fs:line 4091\n",
       "   at lambda_method83(Closure, FSharpList`1)\n",
       "   at Microsoft.DotNet.Interactive.Formatting.MemberAccessor`1.GetValueOrException(T instance) in D:\\a\\_work\\1\\s\\src\\Microsoft.DotNet.Interactive.Formatting\\MemberAccessor{T}.cs:line 58</td></tr><tr><td><i>(values)</i></td><td><div class=\"dni-plaintext\"><pre>[  ]</pre></div></td></tr></tbody></table></div></details></td></tr><tr><td>Head</td><td><div class=\"dni-plaintext\"><pre>5</pre></div></td></tr><tr><td>Tail</td><td><details class=\"dni-treeview\"><summary><span class=\"dni-code-hint\"><code>[  ]</code></span></summary><div><table><thead><tr></tr></thead><tbody><tr><td>HeadOrDefault</td><td>0</td></tr><tr><td>TailOrNull</td><td><div class=\"dni-plaintext\"><pre>&lt;null&gt;</pre></div></td></tr><tr><td>Head</td><td>System.InvalidOperationException: The input list was empty.\n",
       "   at Microsoft.FSharp.Collections.FSharpList`1.get_Head() in D:\\a\\_work\\1\\s\\src\\FSharp.Core\\prim-types.fs:line 4086\n",
       "   at lambda_method82(Closure, FSharpList`1)\n",
       "   at Microsoft.DotNet.Interactive.Formatting.MemberAccessor`1.GetValueOrException(T instance) in D:\\a\\_work\\1\\s\\src\\Microsoft.DotNet.Interactive.Formatting\\MemberAccessor{T}.cs:line 58</td></tr><tr><td>Tail</td><td>System.InvalidOperationException: The input list was empty.\n",
       "   at Microsoft.FSharp.Collections.FSharpList`1.get_Tail() in D:\\a\\_work\\1\\s\\src\\FSharp.Core\\prim-types.fs:line 4091\n",
       "   at lambda_method83(Closure, FSharpList`1)\n",
       "   at Microsoft.DotNet.Interactive.Formatting.MemberAccessor`1.GetValueOrException(T instance) in D:\\a\\_work\\1\\s\\src\\Microsoft.DotNet.Interactive.Formatting\\MemberAccessor{T}.cs:line 58</td></tr><tr><td><i>(values)</i></td><td><div class=\"dni-plaintext\"><pre>[  ]</pre></div></td></tr></tbody></table></div></details></td></tr><tr><td><i>(values)</i></td><td><div class=\"dni-plaintext\"><pre>[ 5 ]</pre></div></td></tr></tbody></table></div></details></td></tr><tr><td><i>(values)</i></td><td><div class=\"dni-plaintext\"><pre>[ 4, 5 ]</pre></div></td></tr></tbody></table></div></details></td></tr><tr><td>Head</td><td><div class=\"dni-plaintext\"><pre>3</pre></div></td></tr><tr><td>Tail</td><td><details class=\"dni-treeview\"><summary><span class=\"dni-code-hint\"><code>[ 4, 5 ]</code></span></summary><div><table><thead><tr></tr></thead><tbody><tr><td>HeadOrDefault</td><td><div class=\"dni-plaintext\"><pre>4</pre></div></td></tr><tr><td>TailOrNull</td><td><details class=\"dni-treeview\"><summary><span class=\"dni-code-hint\"><code>[ 5 ]</code></span></summary><div><table><thead><tr></tr></thead><tbody><tr><td>HeadOrDefault</td><td><div class=\"dni-plaintext\"><pre>5</pre></div></td></tr><tr><td>TailOrNull</td><td><details class=\"dni-treeview\"><summary><span class=\"dni-code-hint\"><code>[  ]</code></span></summary><div><table><thead><tr></tr></thead><tbody><tr><td>HeadOrDefault</td><td>0</td></tr><tr><td>TailOrNull</td><td><div class=\"dni-plaintext\"><pre>&lt;null&gt;</pre></div></td></tr><tr><td>Head</td><td>System.InvalidOperationException: The input list was empty.\n",
       "   at Microsoft.FSharp.Collections.FSharpList`1.get_Head() in D:\\a\\_work\\1\\s\\src\\FSharp.Core\\prim-types.fs:line 4086\n",
       "   at lambda_method82(Closure, FSharpList`1)\n",
       "   at Microsoft.DotNet.Interactive.Formatting.MemberAccessor`1.GetValueOrException(T instance) in D:\\a\\_work\\1\\s\\src\\Microsoft.DotNet.Interactive.Formatting\\MemberAccessor{T}.cs:line 58</td></tr><tr><td>Tail</td><td>System.InvalidOperationException: The input list was empty.\n",
       "   at Microsoft.FSharp.Collections.FSharpList`1.get_Tail() in D:\\a\\_work\\1\\s\\src\\FSharp.Core\\prim-types.fs:line 4091\n",
       "   at lambda_method83(Closure, FSharpList`1)\n",
       "   at Microsoft.DotNet.Interactive.Formatting.MemberAccessor`1.GetValueOrException(T instance) in D:\\a\\_work\\1\\s\\src\\Microsoft.DotNet.Interactive.Formatting\\MemberAccessor{T}.cs:line 58</td></tr><tr><td><i>(values)</i></td><td><div class=\"dni-plaintext\"><pre>[  ]</pre></div></td></tr></tbody></table></div></details></td></tr><tr><td>Head</td><td><div class=\"dni-plaintext\"><pre>5</pre></div></td></tr><tr><td>Tail</td><td><details class=\"dni-treeview\"><summary><span class=\"dni-code-hint\"><code>[  ]</code></span></summary><div><table><thead><tr></tr></thead><tbody><tr><td>HeadOrDefault</td><td>0</td></tr><tr><td>TailOrNull</td><td><div class=\"dni-plaintext\"><pre>&lt;null&gt;</pre></div></td></tr><tr><td>Head</td><td>System.InvalidOperationException: The input list was empty.\n",
       "   at Microsoft.FSharp.Collections.FSharpList`1.get_Head() in D:\\a\\_work\\1\\s\\src\\FSharp.Core\\prim-types.fs:line 4086\n",
       "   at lambda_method82(Closure, FSharpList`1)\n",
       "   at Microsoft.DotNet.Interactive.Formatting.MemberAccessor`1.GetValueOrException(T instance) in D:\\a\\_work\\1\\s\\src\\Microsoft.DotNet.Interactive.Formatting\\MemberAccessor{T}.cs:line 58</td></tr><tr><td>Tail</td><td>System.InvalidOperationException: The input list was empty.\n",
       "   at Microsoft.FSharp.Collections.FSharpList`1.get_Tail() in D:\\a\\_work\\1\\s\\src\\FSharp.Core\\prim-types.fs:line 4091\n",
       "   at lambda_method83(Closure, FSharpList`1)\n",
       "   at Microsoft.DotNet.Interactive.Formatting.MemberAccessor`1.GetValueOrException(T instance) in D:\\a\\_work\\1\\s\\src\\Microsoft.DotNet.Interactive.Formatting\\MemberAccessor{T}.cs:line 58</td></tr><tr><td><i>(values)</i></td><td><div class=\"dni-plaintext\"><pre>[  ]</pre></div></td></tr></tbody></table></div></details></td></tr><tr><td><i>(values)</i></td><td><div class=\"dni-plaintext\"><pre>[ 5 ]</pre></div></td></tr></tbody></table></div></details></td></tr><tr><td>Head</td><td><div class=\"dni-plaintext\"><pre>4</pre></div></td></tr><tr><td>Tail</td><td><details class=\"dni-treeview\"><summary><span class=\"dni-code-hint\"><code>[ 5 ]</code></span></summary><div><table><thead><tr></tr></thead><tbody><tr><td>HeadOrDefault</td><td><div class=\"dni-plaintext\"><pre>5</pre></div></td></tr><tr><td>TailOrNull</td><td><details class=\"dni-treeview\"><summary><span class=\"dni-code-hint\"><code>[  ]</code></span></summary><div><table><thead><tr></tr></thead><tbody><tr><td>HeadOrDefault</td><td>0</td></tr><tr><td>TailOrNull</td><td><div class=\"dni-plaintext\"><pre>&lt;null&gt;</pre></div></td></tr><tr><td>Head</td><td>System.InvalidOperationException: The input list was empty.\n",
       "   at Microsoft.FSharp.Collections.FSharpList`1.get_Head() in D:\\a\\_work\\1\\s\\src\\FSharp.Core\\prim-types.fs:line 4086\n",
       "   at lambda_method82(Closure, FSharpList`1)\n",
       "   at Microsoft.DotNet.Interactive.Formatting.MemberAccessor`1.GetValueOrException(T instance) in D:\\a\\_work\\1\\s\\src\\Microsoft.DotNet.Interactive.Formatting\\MemberAccessor{T}.cs:line 58</td></tr><tr><td>Tail</td><td>System.InvalidOperationException: The input list was empty.\n",
       "   at Microsoft.FSharp.Collections.FSharpList`1.get_Tail() in D:\\a\\_work\\1\\s\\src\\FSharp.Core\\prim-types.fs:line 4091\n",
       "   at lambda_method83(Closure, FSharpList`1)\n",
       "   at Microsoft.DotNet.Interactive.Formatting.MemberAccessor`1.GetValueOrException(T instance) in D:\\a\\_work\\1\\s\\src\\Microsoft.DotNet.Interactive.Formatting\\MemberAccessor{T}.cs:line 58</td></tr><tr><td><i>(values)</i></td><td><div class=\"dni-plaintext\"><pre>[  ]</pre></div></td></tr></tbody></table></div></details></td></tr><tr><td>Head</td><td><div class=\"dni-plaintext\"><pre>5</pre></div></td></tr><tr><td>Tail</td><td><details class=\"dni-treeview\"><summary><span class=\"dni-code-hint\"><code>[  ]</code></span></summary><div><table><thead><tr></tr></thead><tbody><tr><td>HeadOrDefault</td><td>0</td></tr><tr><td>TailOrNull</td><td><div class=\"dni-plaintext\"><pre>&lt;null&gt;</pre></div></td></tr><tr><td>Head</td><td>System.InvalidOperationException: The input list was empty.\n",
       "   at Microsoft.FSharp.Collections.FSharpList`1.get_Head() in D:\\a\\_work\\1\\s\\src\\FSharp.Core\\prim-types.fs:line 4086\n",
       "   at lambda_method82(Closure, FSharpList`1)\n",
       "   at Microsoft.DotNet.Interactive.Formatting.MemberAccessor`1.GetValueOrException(T instance) in D:\\a\\_work\\1\\s\\src\\Microsoft.DotNet.Interactive.Formatting\\MemberAccessor{T}.cs:line 58</td></tr><tr><td>Tail</td><td>System.InvalidOperationException: The input list was empty.\n",
       "   at Microsoft.FSharp.Collections.FSharpList`1.get_Tail() in D:\\a\\_work\\1\\s\\src\\FSharp.Core\\prim-types.fs:line 4091\n",
       "   at lambda_method83(Closure, FSharpList`1)\n",
       "   at Microsoft.DotNet.Interactive.Formatting.MemberAccessor`1.GetValueOrException(T instance) in D:\\a\\_work\\1\\s\\src\\Microsoft.DotNet.Interactive.Formatting\\MemberAccessor{T}.cs:line 58</td></tr><tr><td><i>(values)</i></td><td><div class=\"dni-plaintext\"><pre>[  ]</pre></div></td></tr></tbody></table></div></details></td></tr><tr><td><i>(values)</i></td><td><div class=\"dni-plaintext\"><pre>[ 5 ]</pre></div></td></tr></tbody></table></div></details></td></tr><tr><td><i>(values)</i></td><td><div class=\"dni-plaintext\"><pre>[ 4, 5 ]</pre></div></td></tr></tbody></table></div></details></td></tr><tr><td><i>(values)</i></td><td><div class=\"dni-plaintext\"><pre>[ 3, 4, 5 ]</pre></div></td></tr></tbody></table></div></details></td></tr><tr><td><i>(values)</i></td><td><div class=\"dni-plaintext\"><pre>[ 2, 3, 4, 5 ]</pre></div></td></tr></tbody></table></div></details></td></tr><tr><td>Head</td><td><div class=\"dni-plaintext\"><pre>1</pre></div></td></tr><tr><td>Tail</td><td><details class=\"dni-treeview\"><summary><span class=\"dni-code-hint\"><code>[ 2, 3, 4, 5 ]</code></span></summary><div><table><thead><tr></tr></thead><tbody><tr><td>HeadOrDefault</td><td><div class=\"dni-plaintext\"><pre>2</pre></div></td></tr><tr><td>TailOrNull</td><td><details class=\"dni-treeview\"><summary><span class=\"dni-code-hint\"><code>[ 3, 4, 5 ]</code></span></summary><div><table><thead><tr></tr></thead><tbody><tr><td>HeadOrDefault</td><td><div class=\"dni-plaintext\"><pre>3</pre></div></td></tr><tr><td>TailOrNull</td><td><details class=\"dni-treeview\"><summary><span class=\"dni-code-hint\"><code>[ 4, 5 ]</code></span></summary><div><table><thead><tr></tr></thead><tbody><tr><td>HeadOrDefault</td><td><div class=\"dni-plaintext\"><pre>4</pre></div></td></tr><tr><td>TailOrNull</td><td><details class=\"dni-treeview\"><summary><span class=\"dni-code-hint\"><code>[ 5 ]</code></span></summary><div><table><thead><tr></tr></thead><tbody><tr><td>HeadOrDefault</td><td><div class=\"dni-plaintext\"><pre>5</pre></div></td></tr><tr><td>TailOrNull</td><td><details class=\"dni-treeview\"><summary><span class=\"dni-code-hint\"><code>[  ]</code></span></summary><div><table><thead><tr></tr></thead><tbody><tr><td>HeadOrDefault</td><td>0</td></tr><tr><td>TailOrNull</td><td><div class=\"dni-plaintext\"><pre>&lt;null&gt;</pre></div></td></tr><tr><td>Head</td><td>System.InvalidOperationException: The input list was empty.\n",
       "   at Microsoft.FSharp.Collections.FSharpList`1.get_Head() in D:\\a\\_work\\1\\s\\src\\FSharp.Core\\prim-types.fs:line 4086\n",
       "   at lambda_method82(Closure, FSharpList`1)\n",
       "   at Microsoft.DotNet.Interactive.Formatting.MemberAccessor`1.GetValueOrException(T instance) in D:\\a\\_work\\1\\s\\src\\Microsoft.DotNet.Interactive.Formatting\\MemberAccessor{T}.cs:line 58</td></tr><tr><td>Tail</td><td>System.InvalidOperationException: The input list was empty.\n",
       "   at Microsoft.FSharp.Collections.FSharpList`1.get_Tail() in D:\\a\\_work\\1\\s\\src\\FSharp.Core\\prim-types.fs:line 4091\n",
       "   at lambda_method83(Closure, FSharpList`1)\n",
       "   at Microsoft.DotNet.Interactive.Formatting.MemberAccessor`1.GetValueOrException(T instance) in D:\\a\\_work\\1\\s\\src\\Microsoft.DotNet.Interactive.Formatting\\MemberAccessor{T}.cs:line 58</td></tr><tr><td><i>(values)</i></td><td><div class=\"dni-plaintext\"><pre>[  ]</pre></div></td></tr></tbody></table></div></details></td></tr><tr><td>Head</td><td><div class=\"dni-plaintext\"><pre>5</pre></div></td></tr><tr><td>Tail</td><td><details class=\"dni-treeview\"><summary><span class=\"dni-code-hint\"><code>[  ]</code></span></summary><div><table><thead><tr></tr></thead><tbody><tr><td>HeadOrDefault</td><td>0</td></tr><tr><td>TailOrNull</td><td><div class=\"dni-plaintext\"><pre>&lt;null&gt;</pre></div></td></tr><tr><td>Head</td><td>System.InvalidOperationException: The input list was empty.\n",
       "   at Microsoft.FSharp.Collections.FSharpList`1.get_Head() in D:\\a\\_work\\1\\s\\src\\FSharp.Core\\prim-types.fs:line 4086\n",
       "   at lambda_method82(Closure, FSharpList`1)\n",
       "   at Microsoft.DotNet.Interactive.Formatting.MemberAccessor`1.GetValueOrException(T instance) in D:\\a\\_work\\1\\s\\src\\Microsoft.DotNet.Interactive.Formatting\\MemberAccessor{T}.cs:line 58</td></tr><tr><td>Tail</td><td>System.InvalidOperationException: The input list was empty.\n",
       "   at Microsoft.FSharp.Collections.FSharpList`1.get_Tail() in D:\\a\\_work\\1\\s\\src\\FSharp.Core\\prim-types.fs:line 4091\n",
       "   at lambda_method83(Closure, FSharpList`1)\n",
       "   at Microsoft.DotNet.Interactive.Formatting.MemberAccessor`1.GetValueOrException(T instance) in D:\\a\\_work\\1\\s\\src\\Microsoft.DotNet.Interactive.Formatting\\MemberAccessor{T}.cs:line 58</td></tr><tr><td><i>(values)</i></td><td><div class=\"dni-plaintext\"><pre>[  ]</pre></div></td></tr></tbody></table></div></details></td></tr><tr><td><i>(values)</i></td><td><div class=\"dni-plaintext\"><pre>[ 5 ]</pre></div></td></tr></tbody></table></div></details></td></tr><tr><td>Head</td><td><div class=\"dni-plaintext\"><pre>4</pre></div></td></tr><tr><td>Tail</td><td><details class=\"dni-treeview\"><summary><span class=\"dni-code-hint\"><code>[ 5 ]</code></span></summary><div><table><thead><tr></tr></thead><tbody><tr><td>HeadOrDefault</td><td><div class=\"dni-plaintext\"><pre>5</pre></div></td></tr><tr><td>TailOrNull</td><td><details class=\"dni-treeview\"><summary><span class=\"dni-code-hint\"><code>[  ]</code></span></summary><div><table><thead><tr></tr></thead><tbody><tr><td>HeadOrDefault</td><td>0</td></tr><tr><td>TailOrNull</td><td><div class=\"dni-plaintext\"><pre>&lt;null&gt;</pre></div></td></tr><tr><td>Head</td><td>System.InvalidOperationException: The input list was empty.\n",
       "   at Microsoft.FSharp.Collections.FSharpList`1.get_Head() in D:\\a\\_work\\1\\s\\src\\FSharp.Core\\prim-types.fs:line 4086\n",
       "   at lambda_method82(Closure, FSharpList`1)\n",
       "   at Microsoft.DotNet.Interactive.Formatting.MemberAccessor`1.GetValueOrException(T instance) in D:\\a\\_work\\1\\s\\src\\Microsoft.DotNet.Interactive.Formatting\\MemberAccessor{T}.cs:line 58</td></tr><tr><td>Tail</td><td>System.InvalidOperationException: The input list was empty.\n",
       "   at Microsoft.FSharp.Collections.FSharpList`1.get_Tail() in D:\\a\\_work\\1\\s\\src\\FSharp.Core\\prim-types.fs:line 4091\n",
       "   at lambda_method83(Closure, FSharpList`1)\n",
       "   at Microsoft.DotNet.Interactive.Formatting.MemberAccessor`1.GetValueOrException(T instance) in D:\\a\\_work\\1\\s\\src\\Microsoft.DotNet.Interactive.Formatting\\MemberAccessor{T}.cs:line 58</td></tr><tr><td><i>(values)</i></td><td><div class=\"dni-plaintext\"><pre>[  ]</pre></div></td></tr></tbody></table></div></details></td></tr><tr><td>Head</td><td><div class=\"dni-plaintext\"><pre>5</pre></div></td></tr><tr><td>Tail</td><td><details class=\"dni-treeview\"><summary><span class=\"dni-code-hint\"><code>[  ]</code></span></summary><div><table><thead><tr></tr></thead><tbody><tr><td>HeadOrDefault</td><td>0</td></tr><tr><td>TailOrNull</td><td><div class=\"dni-plaintext\"><pre>&lt;null&gt;</pre></div></td></tr><tr><td>Head</td><td>System.InvalidOperationException: The input list was empty.\n",
       "   at Microsoft.FSharp.Collections.FSharpList`1.get_Head() in D:\\a\\_work\\1\\s\\src\\FSharp.Core\\prim-types.fs:line 4086\n",
       "   at lambda_method82(Closure, FSharpList`1)\n",
       "   at Microsoft.DotNet.Interactive.Formatting.MemberAccessor`1.GetValueOrException(T instance) in D:\\a\\_work\\1\\s\\src\\Microsoft.DotNet.Interactive.Formatting\\MemberAccessor{T}.cs:line 58</td></tr><tr><td>Tail</td><td>System.InvalidOperationException: The input list was empty.\n",
       "   at Microsoft.FSharp.Collections.FSharpList`1.get_Tail() in D:\\a\\_work\\1\\s\\src\\FSharp.Core\\prim-types.fs:line 4091\n",
       "   at lambda_method83(Closure, FSharpList`1)\n",
       "   at Microsoft.DotNet.Interactive.Formatting.MemberAccessor`1.GetValueOrException(T instance) in D:\\a\\_work\\1\\s\\src\\Microsoft.DotNet.Interactive.Formatting\\MemberAccessor{T}.cs:line 58</td></tr><tr><td><i>(values)</i></td><td><div class=\"dni-plaintext\"><pre>[  ]</pre></div></td></tr></tbody></table></div></details></td></tr><tr><td><i>(values)</i></td><td><div class=\"dni-plaintext\"><pre>[ 5 ]</pre></div></td></tr></tbody></table></div></details></td></tr><tr><td><i>(values)</i></td><td><div class=\"dni-plaintext\"><pre>[ 4, 5 ]</pre></div></td></tr></tbody></table></div></details></td></tr><tr><td>Head</td><td><div class=\"dni-plaintext\"><pre>3</pre></div></td></tr><tr><td>Tail</td><td><details class=\"dni-treeview\"><summary><span class=\"dni-code-hint\"><code>[ 4, 5 ]</code></span></summary><div><table><thead><tr></tr></thead><tbody><tr><td>HeadOrDefault</td><td><div class=\"dni-plaintext\"><pre>4</pre></div></td></tr><tr><td>TailOrNull</td><td><details class=\"dni-treeview\"><summary><span class=\"dni-code-hint\"><code>[ 5 ]</code></span></summary><div><table><thead><tr></tr></thead><tbody><tr><td>HeadOrDefault</td><td><div class=\"dni-plaintext\"><pre>5</pre></div></td></tr><tr><td>TailOrNull</td><td><details class=\"dni-treeview\"><summary><span class=\"dni-code-hint\"><code>[  ]</code></span></summary><div><table><thead><tr></tr></thead><tbody><tr><td>HeadOrDefault</td><td>0</td></tr><tr><td>TailOrNull</td><td><div class=\"dni-plaintext\"><pre>&lt;null&gt;</pre></div></td></tr><tr><td>Head</td><td>System.InvalidOperationException: The input list was empty.\n",
       "   at Microsoft.FSharp.Collections.FSharpList`1.get_Head() in D:\\a\\_work\\1\\s\\src\\FSharp.Core\\prim-types.fs:line 4086\n",
       "   at lambda_method82(Closure, FSharpList`1)\n",
       "   at Microsoft.DotNet.Interactive.Formatting.MemberAccessor`1.GetValueOrException(T instance) in D:\\a\\_work\\1\\s\\src\\Microsoft.DotNet.Interactive.Formatting\\MemberAccessor{T}.cs:line 58</td></tr><tr><td>Tail</td><td>System.InvalidOperationException: The input list was empty.\n",
       "   at Microsoft.FSharp.Collections.FSharpList`1.get_Tail() in D:\\a\\_work\\1\\s\\src\\FSharp.Core\\prim-types.fs:line 4091\n",
       "   at lambda_method83(Closure, FSharpList`1)\n",
       "   at Microsoft.DotNet.Interactive.Formatting.MemberAccessor`1.GetValueOrException(T instance) in D:\\a\\_work\\1\\s\\src\\Microsoft.DotNet.Interactive.Formatting\\MemberAccessor{T}.cs:line 58</td></tr><tr><td><i>(values)</i></td><td><div class=\"dni-plaintext\"><pre>[  ]</pre></div></td></tr></tbody></table></div></details></td></tr><tr><td>Head</td><td><div class=\"dni-plaintext\"><pre>5</pre></div></td></tr><tr><td>Tail</td><td><details class=\"dni-treeview\"><summary><span class=\"dni-code-hint\"><code>[  ]</code></span></summary><div><table><thead><tr></tr></thead><tbody><tr><td>HeadOrDefault</td><td>0</td></tr><tr><td>TailOrNull</td><td><div class=\"dni-plaintext\"><pre>&lt;null&gt;</pre></div></td></tr><tr><td>Head</td><td>System.InvalidOperationException: The input list was empty.\n",
       "   at Microsoft.FSharp.Collections.FSharpList`1.get_Head() in D:\\a\\_work\\1\\s\\src\\FSharp.Core\\prim-types.fs:line 4086\n",
       "   at lambda_method82(Closure, FSharpList`1)\n",
       "   at Microsoft.DotNet.Interactive.Formatting.MemberAccessor`1.GetValueOrException(T instance) in D:\\a\\_work\\1\\s\\src\\Microsoft.DotNet.Interactive.Formatting\\MemberAccessor{T}.cs:line 58</td></tr><tr><td>Tail</td><td>System.InvalidOperationException: The input list was empty.\n",
       "   at Microsoft.FSharp.Collections.FSharpList`1.get_Tail() in D:\\a\\_work\\1\\s\\src\\FSharp.Core\\prim-types.fs:line 4091\n",
       "   at lambda_method83(Closure, FSharpList`1)\n",
       "   at Microsoft.DotNet.Interactive.Formatting.MemberAccessor`1.GetValueOrException(T instance) in D:\\a\\_work\\1\\s\\src\\Microsoft.DotNet.Interactive.Formatting\\MemberAccessor{T}.cs:line 58</td></tr><tr><td><i>(values)</i></td><td><div class=\"dni-plaintext\"><pre>[  ]</pre></div></td></tr></tbody></table></div></details></td></tr><tr><td><i>(values)</i></td><td><div class=\"dni-plaintext\"><pre>[ 5 ]</pre></div></td></tr></tbody></table></div></details></td></tr><tr><td>Head</td><td><div class=\"dni-plaintext\"><pre>4</pre></div></td></tr><tr><td>Tail</td><td><details class=\"dni-treeview\"><summary><span class=\"dni-code-hint\"><code>[ 5 ]</code></span></summary><div><table><thead><tr></tr></thead><tbody><tr><td>HeadOrDefault</td><td><div class=\"dni-plaintext\"><pre>5</pre></div></td></tr><tr><td>TailOrNull</td><td><details class=\"dni-treeview\"><summary><span class=\"dni-code-hint\"><code>[  ]</code></span></summary><div><table><thead><tr></tr></thead><tbody><tr><td>HeadOrDefault</td><td>0</td></tr><tr><td>TailOrNull</td><td><div class=\"dni-plaintext\"><pre>&lt;null&gt;</pre></div></td></tr><tr><td>Head</td><td>System.InvalidOperationException: The input list was empty.\n",
       "   at Microsoft.FSharp.Collections.FSharpList`1.get_Head() in D:\\a\\_work\\1\\s\\src\\FSharp.Core\\prim-types.fs:line 4086\n",
       "   at lambda_method82(Closure, FSharpList`1)\n",
       "   at Microsoft.DotNet.Interactive.Formatting.MemberAccessor`1.GetValueOrException(T instance) in D:\\a\\_work\\1\\s\\src\\Microsoft.DotNet.Interactive.Formatting\\MemberAccessor{T}.cs:line 58</td></tr><tr><td>Tail</td><td>System.InvalidOperationException: The input list was empty.\n",
       "   at Microsoft.FSharp.Collections.FSharpList`1.get_Tail() in D:\\a\\_work\\1\\s\\src\\FSharp.Core\\prim-types.fs:line 4091\n",
       "   at lambda_method83(Closure, FSharpList`1)\n",
       "   at Microsoft.DotNet.Interactive.Formatting.MemberAccessor`1.GetValueOrException(T instance) in D:\\a\\_work\\1\\s\\src\\Microsoft.DotNet.Interactive.Formatting\\MemberAccessor{T}.cs:line 58</td></tr><tr><td><i>(values)</i></td><td><div class=\"dni-plaintext\"><pre>[  ]</pre></div></td></tr></tbody></table></div></details></td></tr><tr><td>Head</td><td><div class=\"dni-plaintext\"><pre>5</pre></div></td></tr><tr><td>Tail</td><td><details class=\"dni-treeview\"><summary><span class=\"dni-code-hint\"><code>[  ]</code></span></summary><div><table><thead><tr></tr></thead><tbody><tr><td>HeadOrDefault</td><td>0</td></tr><tr><td>TailOrNull</td><td><div class=\"dni-plaintext\"><pre>&lt;null&gt;</pre></div></td></tr><tr><td>Head</td><td>System.InvalidOperationException: The input list was empty.\n",
       "   at Microsoft.FSharp.Collections.FSharpList`1.get_Head() in D:\\a\\_work\\1\\s\\src\\FSharp.Core\\prim-types.fs:line 4086\n",
       "   at lambda_method82(Closure, FSharpList`1)\n",
       "   at Microsoft.DotNet.Interactive.Formatting.MemberAccessor`1.GetValueOrException(T instance) in D:\\a\\_work\\1\\s\\src\\Microsoft.DotNet.Interactive.Formatting\\MemberAccessor{T}.cs:line 58</td></tr><tr><td>Tail</td><td>System.InvalidOperationException: The input list was empty.\n",
       "   at Microsoft.FSharp.Collections.FSharpList`1.get_Tail() in D:\\a\\_work\\1\\s\\src\\FSharp.Core\\prim-types.fs:line 4091\n",
       "   at lambda_method83(Closure, FSharpList`1)\n",
       "   at Microsoft.DotNet.Interactive.Formatting.MemberAccessor`1.GetValueOrException(T instance) in D:\\a\\_work\\1\\s\\src\\Microsoft.DotNet.Interactive.Formatting\\MemberAccessor{T}.cs:line 58</td></tr><tr><td><i>(values)</i></td><td><div class=\"dni-plaintext\"><pre>[  ]</pre></div></td></tr></tbody></table></div></details></td></tr><tr><td><i>(values)</i></td><td><div class=\"dni-plaintext\"><pre>[ 5 ]</pre></div></td></tr></tbody></table></div></details></td></tr><tr><td><i>(values)</i></td><td><div class=\"dni-plaintext\"><pre>[ 4, 5 ]</pre></div></td></tr></tbody></table></div></details></td></tr><tr><td><i>(values)</i></td><td><div class=\"dni-plaintext\"><pre>[ 3, 4, 5 ]</pre></div></td></tr></tbody></table></div></details></td></tr><tr><td>Head</td><td><div class=\"dni-plaintext\"><pre>2</pre></div></td></tr><tr><td>Tail</td><td><details class=\"dni-treeview\"><summary><span class=\"dni-code-hint\"><code>[ 3, 4, 5 ]</code></span></summary><div><table><thead><tr></tr></thead><tbody><tr><td>HeadOrDefault</td><td><div class=\"dni-plaintext\"><pre>3</pre></div></td></tr><tr><td>TailOrNull</td><td><details class=\"dni-treeview\"><summary><span class=\"dni-code-hint\"><code>[ 4, 5 ]</code></span></summary><div><table><thead><tr></tr></thead><tbody><tr><td>HeadOrDefault</td><td><div class=\"dni-plaintext\"><pre>4</pre></div></td></tr><tr><td>TailOrNull</td><td><details class=\"dni-treeview\"><summary><span class=\"dni-code-hint\"><code>[ 5 ]</code></span></summary><div><table><thead><tr></tr></thead><tbody><tr><td>HeadOrDefault</td><td><div class=\"dni-plaintext\"><pre>5</pre></div></td></tr><tr><td>TailOrNull</td><td><details class=\"dni-treeview\"><summary><span class=\"dni-code-hint\"><code>[  ]</code></span></summary><div><table><thead><tr></tr></thead><tbody><tr><td>HeadOrDefault</td><td>0</td></tr><tr><td>TailOrNull</td><td><div class=\"dni-plaintext\"><pre>&lt;null&gt;</pre></div></td></tr><tr><td>Head</td><td>System.InvalidOperationException: The input list was empty.\n",
       "   at Microsoft.FSharp.Collections.FSharpList`1.get_Head() in D:\\a\\_work\\1\\s\\src\\FSharp.Core\\prim-types.fs:line 4086\n",
       "   at lambda_method82(Closure, FSharpList`1)\n",
       "   at Microsoft.DotNet.Interactive.Formatting.MemberAccessor`1.GetValueOrException(T instance) in D:\\a\\_work\\1\\s\\src\\Microsoft.DotNet.Interactive.Formatting\\MemberAccessor{T}.cs:line 58</td></tr><tr><td>Tail</td><td>System.InvalidOperationException: The input list was empty.\n",
       "   at Microsoft.FSharp.Collections.FSharpList`1.get_Tail() in D:\\a\\_work\\1\\s\\src\\FSharp.Core\\prim-types.fs:line 4091\n",
       "   at lambda_method83(Closure, FSharpList`1)\n",
       "   at Microsoft.DotNet.Interactive.Formatting.MemberAccessor`1.GetValueOrException(T instance) in D:\\a\\_work\\1\\s\\src\\Microsoft.DotNet.Interactive.Formatting\\MemberAccessor{T}.cs:line 58</td></tr><tr><td><i>(values)</i></td><td><div class=\"dni-plaintext\"><pre>[  ]</pre></div></td></tr></tbody></table></div></details></td></tr><tr><td>Head</td><td><div class=\"dni-plaintext\"><pre>5</pre></div></td></tr><tr><td>Tail</td><td><details class=\"dni-treeview\"><summary><span class=\"dni-code-hint\"><code>[  ]</code></span></summary><div><table><thead><tr></tr></thead><tbody><tr><td>HeadOrDefault</td><td>0</td></tr><tr><td>TailOrNull</td><td><div class=\"dni-plaintext\"><pre>&lt;null&gt;</pre></div></td></tr><tr><td>Head</td><td>System.InvalidOperationException: The input list was empty.\n",
       "   at Microsoft.FSharp.Collections.FSharpList`1.get_Head() in D:\\a\\_work\\1\\s\\src\\FSharp.Core\\prim-types.fs:line 4086\n",
       "   at lambda_method82(Closure, FSharpList`1)\n",
       "   at Microsoft.DotNet.Interactive.Formatting.MemberAccessor`1.GetValueOrException(T instance) in D:\\a\\_work\\1\\s\\src\\Microsoft.DotNet.Interactive.Formatting\\MemberAccessor{T}.cs:line 58</td></tr><tr><td>Tail</td><td>System.InvalidOperationException: The input list was empty.\n",
       "   at Microsoft.FSharp.Collections.FSharpList`1.get_Tail() in D:\\a\\_work\\1\\s\\src\\FSharp.Core\\prim-types.fs:line 4091\n",
       "   at lambda_method83(Closure, FSharpList`1)\n",
       "   at Microsoft.DotNet.Interactive.Formatting.MemberAccessor`1.GetValueOrException(T instance) in D:\\a\\_work\\1\\s\\src\\Microsoft.DotNet.Interactive.Formatting\\MemberAccessor{T}.cs:line 58</td></tr><tr><td><i>(values)</i></td><td><div class=\"dni-plaintext\"><pre>[  ]</pre></div></td></tr></tbody></table></div></details></td></tr><tr><td><i>(values)</i></td><td><div class=\"dni-plaintext\"><pre>[ 5 ]</pre></div></td></tr></tbody></table></div></details></td></tr><tr><td>Head</td><td><div class=\"dni-plaintext\"><pre>4</pre></div></td></tr><tr><td>Tail</td><td><details class=\"dni-treeview\"><summary><span class=\"dni-code-hint\"><code>[ 5 ]</code></span></summary><div><table><thead><tr></tr></thead><tbody><tr><td>HeadOrDefault</td><td><div class=\"dni-plaintext\"><pre>5</pre></div></td></tr><tr><td>TailOrNull</td><td><details class=\"dni-treeview\"><summary><span class=\"dni-code-hint\"><code>[  ]</code></span></summary><div><table><thead><tr></tr></thead><tbody><tr><td>HeadOrDefault</td><td>0</td></tr><tr><td>TailOrNull</td><td><div class=\"dni-plaintext\"><pre>&lt;null&gt;</pre></div></td></tr><tr><td>Head</td><td>System.InvalidOperationException: The input list was empty.\n",
       "   at Microsoft.FSharp.Collections.FSharpList`1.get_Head() in D:\\a\\_work\\1\\s\\src\\FSharp.Core\\prim-types.fs:line 4086\n",
       "   at lambda_method82(Closure, FSharpList`1)\n",
       "   at Microsoft.DotNet.Interactive.Formatting.MemberAccessor`1.GetValueOrException(T instance) in D:\\a\\_work\\1\\s\\src\\Microsoft.DotNet.Interactive.Formatting\\MemberAccessor{T}.cs:line 58</td></tr><tr><td>Tail</td><td>System.InvalidOperationException: The input list was empty.\n",
       "   at Microsoft.FSharp.Collections.FSharpList`1.get_Tail() in D:\\a\\_work\\1\\s\\src\\FSharp.Core\\prim-types.fs:line 4091\n",
       "   at lambda_method83(Closure, FSharpList`1)\n",
       "   at Microsoft.DotNet.Interactive.Formatting.MemberAccessor`1.GetValueOrException(T instance) in D:\\a\\_work\\1\\s\\src\\Microsoft.DotNet.Interactive.Formatting\\MemberAccessor{T}.cs:line 58</td></tr><tr><td><i>(values)</i></td><td><div class=\"dni-plaintext\"><pre>[  ]</pre></div></td></tr></tbody></table></div></details></td></tr><tr><td>Head</td><td><div class=\"dni-plaintext\"><pre>5</pre></div></td></tr><tr><td>Tail</td><td><details class=\"dni-treeview\"><summary><span class=\"dni-code-hint\"><code>[  ]</code></span></summary><div><table><thead><tr></tr></thead><tbody><tr><td>HeadOrDefault</td><td>0</td></tr><tr><td>TailOrNull</td><td><div class=\"dni-plaintext\"><pre>&lt;null&gt;</pre></div></td></tr><tr><td>Head</td><td>System.InvalidOperationException: The input list was empty.\n",
       "   at Microsoft.FSharp.Collections.FSharpList`1.get_Head() in D:\\a\\_work\\1\\s\\src\\FSharp.Core\\prim-types.fs:line 4086\n",
       "   at lambda_method82(Closure, FSharpList`1)\n",
       "   at Microsoft.DotNet.Interactive.Formatting.MemberAccessor`1.GetValueOrException(T instance) in D:\\a\\_work\\1\\s\\src\\Microsoft.DotNet.Interactive.Formatting\\MemberAccessor{T}.cs:line 58</td></tr><tr><td>Tail</td><td>System.InvalidOperationException: The input list was empty.\n",
       "   at Microsoft.FSharp.Collections.FSharpList`1.get_Tail() in D:\\a\\_work\\1\\s\\src\\FSharp.Core\\prim-types.fs:line 4091\n",
       "   at lambda_method83(Closure, FSharpList`1)\n",
       "   at Microsoft.DotNet.Interactive.Formatting.MemberAccessor`1.GetValueOrException(T instance) in D:\\a\\_work\\1\\s\\src\\Microsoft.DotNet.Interactive.Formatting\\MemberAccessor{T}.cs:line 58</td></tr><tr><td><i>(values)</i></td><td><div class=\"dni-plaintext\"><pre>[  ]</pre></div></td></tr></tbody></table></div></details></td></tr><tr><td><i>(values)</i></td><td><div class=\"dni-plaintext\"><pre>[ 5 ]</pre></div></td></tr></tbody></table></div></details></td></tr><tr><td><i>(values)</i></td><td><div class=\"dni-plaintext\"><pre>[ 4, 5 ]</pre></div></td></tr></tbody></table></div></details></td></tr><tr><td>Head</td><td><div class=\"dni-plaintext\"><pre>3</pre></div></td></tr><tr><td>Tail</td><td><details class=\"dni-treeview\"><summary><span class=\"dni-code-hint\"><code>[ 4, 5 ]</code></span></summary><div><table><thead><tr></tr></thead><tbody><tr><td>HeadOrDefault</td><td><div class=\"dni-plaintext\"><pre>4</pre></div></td></tr><tr><td>TailOrNull</td><td><details class=\"dni-treeview\"><summary><span class=\"dni-code-hint\"><code>[ 5 ]</code></span></summary><div><table><thead><tr></tr></thead><tbody><tr><td>HeadOrDefault</td><td><div class=\"dni-plaintext\"><pre>5</pre></div></td></tr><tr><td>TailOrNull</td><td><details class=\"dni-treeview\"><summary><span class=\"dni-code-hint\"><code>[  ]</code></span></summary><div><table><thead><tr></tr></thead><tbody><tr><td>HeadOrDefault</td><td>0</td></tr><tr><td>TailOrNull</td><td><div class=\"dni-plaintext\"><pre>&lt;null&gt;</pre></div></td></tr><tr><td>Head</td><td>System.InvalidOperationException: The input list was empty.\n",
       "   at Microsoft.FSharp.Collections.FSharpList`1.get_Head() in D:\\a\\_work\\1\\s\\src\\FSharp.Core\\prim-types.fs:line 4086\n",
       "   at lambda_method82(Closure, FSharpList`1)\n",
       "   at Microsoft.DotNet.Interactive.Formatting.MemberAccessor`1.GetValueOrException(T instance) in D:\\a\\_work\\1\\s\\src\\Microsoft.DotNet.Interactive.Formatting\\MemberAccessor{T}.cs:line 58</td></tr><tr><td>Tail</td><td>System.InvalidOperationException: The input list was empty.\n",
       "   at Microsoft.FSharp.Collections.FSharpList`1.get_Tail() in D:\\a\\_work\\1\\s\\src\\FSharp.Core\\prim-types.fs:line 4091\n",
       "   at lambda_method83(Closure, FSharpList`1)\n",
       "   at Microsoft.DotNet.Interactive.Formatting.MemberAccessor`1.GetValueOrException(T instance) in D:\\a\\_work\\1\\s\\src\\Microsoft.DotNet.Interactive.Formatting\\MemberAccessor{T}.cs:line 58</td></tr><tr><td><i>(values)</i></td><td><div class=\"dni-plaintext\"><pre>[  ]</pre></div></td></tr></tbody></table></div></details></td></tr><tr><td>Head</td><td><div class=\"dni-plaintext\"><pre>5</pre></div></td></tr><tr><td>Tail</td><td><details class=\"dni-treeview\"><summary><span class=\"dni-code-hint\"><code>[  ]</code></span></summary><div><table><thead><tr></tr></thead><tbody><tr><td>HeadOrDefault</td><td>0</td></tr><tr><td>TailOrNull</td><td><div class=\"dni-plaintext\"><pre>&lt;null&gt;</pre></div></td></tr><tr><td>Head</td><td>System.InvalidOperationException: The input list was empty.\n",
       "   at Microsoft.FSharp.Collections.FSharpList`1.get_Head() in D:\\a\\_work\\1\\s\\src\\FSharp.Core\\prim-types.fs:line 4086\n",
       "   at lambda_method82(Closure, FSharpList`1)\n",
       "   at Microsoft.DotNet.Interactive.Formatting.MemberAccessor`1.GetValueOrException(T instance) in D:\\a\\_work\\1\\s\\src\\Microsoft.DotNet.Interactive.Formatting\\MemberAccessor{T}.cs:line 58</td></tr><tr><td>Tail</td><td>System.InvalidOperationException: The input list was empty.\n",
       "   at Microsoft.FSharp.Collections.FSharpList`1.get_Tail() in D:\\a\\_work\\1\\s\\src\\FSharp.Core\\prim-types.fs:line 4091\n",
       "   at lambda_method83(Closure, FSharpList`1)\n",
       "   at Microsoft.DotNet.Interactive.Formatting.MemberAccessor`1.GetValueOrException(T instance) in D:\\a\\_work\\1\\s\\src\\Microsoft.DotNet.Interactive.Formatting\\MemberAccessor{T}.cs:line 58</td></tr><tr><td><i>(values)</i></td><td><div class=\"dni-plaintext\"><pre>[  ]</pre></div></td></tr></tbody></table></div></details></td></tr><tr><td><i>(values)</i></td><td><div class=\"dni-plaintext\"><pre>[ 5 ]</pre></div></td></tr></tbody></table></div></details></td></tr><tr><td>Head</td><td><div class=\"dni-plaintext\"><pre>4</pre></div></td></tr><tr><td>Tail</td><td><details class=\"dni-treeview\"><summary><span class=\"dni-code-hint\"><code>[ 5 ]</code></span></summary><div><table><thead><tr></tr></thead><tbody><tr><td>HeadOrDefault</td><td><div class=\"dni-plaintext\"><pre>5</pre></div></td></tr><tr><td>TailOrNull</td><td><details class=\"dni-treeview\"><summary><span class=\"dni-code-hint\"><code>[  ]</code></span></summary><div><table><thead><tr></tr></thead><tbody><tr><td>HeadOrDefault</td><td>0</td></tr><tr><td>TailOrNull</td><td><div class=\"dni-plaintext\"><pre>&lt;null&gt;</pre></div></td></tr><tr><td>Head</td><td>System.InvalidOperationException: The input list was empty.\n",
       "   at Microsoft.FSharp.Collections.FSharpList`1.get_Head() in D:\\a\\_work\\1\\s\\src\\FSharp.Core\\prim-types.fs:line 4086\n",
       "   at lambda_method82(Closure, FSharpList`1)\n",
       "   at Microsoft.DotNet.Interactive.Formatting.MemberAccessor`1.GetValueOrException(T instance) in D:\\a\\_work\\1\\s\\src\\Microsoft.DotNet.Interactive.Formatting\\MemberAccessor{T}.cs:line 58</td></tr><tr><td>Tail</td><td>System.InvalidOperationException: The input list was empty.\n",
       "   at Microsoft.FSharp.Collections.FSharpList`1.get_Tail() in D:\\a\\_work\\1\\s\\src\\FSharp.Core\\prim-types.fs:line 4091\n",
       "   at lambda_method83(Closure, FSharpList`1)\n",
       "   at Microsoft.DotNet.Interactive.Formatting.MemberAccessor`1.GetValueOrException(T instance) in D:\\a\\_work\\1\\s\\src\\Microsoft.DotNet.Interactive.Formatting\\MemberAccessor{T}.cs:line 58</td></tr><tr><td><i>(values)</i></td><td><div class=\"dni-plaintext\"><pre>[  ]</pre></div></td></tr></tbody></table></div></details></td></tr><tr><td>Head</td><td><div class=\"dni-plaintext\"><pre>5</pre></div></td></tr><tr><td>Tail</td><td><details class=\"dni-treeview\"><summary><span class=\"dni-code-hint\"><code>[  ]</code></span></summary><div><table><thead><tr></tr></thead><tbody><tr><td>HeadOrDefault</td><td>0</td></tr><tr><td>TailOrNull</td><td><div class=\"dni-plaintext\"><pre>&lt;null&gt;</pre></div></td></tr><tr><td>Head</td><td>System.InvalidOperationException: The input list was empty.\n",
       "   at Microsoft.FSharp.Collections.FSharpList`1.get_Head() in D:\\a\\_work\\1\\s\\src\\FSharp.Core\\prim-types.fs:line 4086\n",
       "   at lambda_method82(Closure, FSharpList`1)\n",
       "   at Microsoft.DotNet.Interactive.Formatting.MemberAccessor`1.GetValueOrException(T instance) in D:\\a\\_work\\1\\s\\src\\Microsoft.DotNet.Interactive.Formatting\\MemberAccessor{T}.cs:line 58</td></tr><tr><td>Tail</td><td>System.InvalidOperationException: The input list was empty.\n",
       "   at Microsoft.FSharp.Collections.FSharpList`1.get_Tail() in D:\\a\\_work\\1\\s\\src\\FSharp.Core\\prim-types.fs:line 4091\n",
       "   at lambda_method83(Closure, FSharpList`1)\n",
       "   at Microsoft.DotNet.Interactive.Formatting.MemberAccessor`1.GetValueOrException(T instance) in D:\\a\\_work\\1\\s\\src\\Microsoft.DotNet.Interactive.Formatting\\MemberAccessor{T}.cs:line 58</td></tr><tr><td><i>(values)</i></td><td><div class=\"dni-plaintext\"><pre>[  ]</pre></div></td></tr></tbody></table></div></details></td></tr><tr><td><i>(values)</i></td><td><div class=\"dni-plaintext\"><pre>[ 5 ]</pre></div></td></tr></tbody></table></div></details></td></tr><tr><td><i>(values)</i></td><td><div class=\"dni-plaintext\"><pre>[ 4, 5 ]</pre></div></td></tr></tbody></table></div></details></td></tr><tr><td><i>(values)</i></td><td><div class=\"dni-plaintext\"><pre>[ 3, 4, 5 ]</pre></div></td></tr></tbody></table></div></details></td></tr><tr><td><i>(values)</i></td><td><div class=\"dni-plaintext\"><pre>[ 2, 3, 4, 5 ]</pre></div></td></tr></tbody></table></div></details></td></tr><tr><td><i>(values)</i></td><td><div class=\"dni-plaintext\"><pre>[ 1, 2, 3, 4, 5 ]</pre></div></td></tr></tbody></table></div></details><style>\r\n",
       ".dni-code-hint {\r\n",
       "    font-style: italic;\r\n",
       "    overflow: hidden;\r\n",
       "    white-space: nowrap;\r\n",
       "}\r\n",
       ".dni-treeview {\r\n",
       "    white-space: nowrap;\r\n",
       "}\r\n",
       ".dni-treeview td {\r\n",
       "    vertical-align: top;\r\n",
       "    text-align: start;\r\n",
       "}\r\n",
       "details.dni-treeview {\r\n",
       "    padding-left: 1em;\r\n",
       "}\r\n",
       "table td {\r\n",
       "    text-align: start;\r\n",
       "}\r\n",
       "table tr { \r\n",
       "    vertical-align: top; \r\n",
       "    margin: 0em 0px;\r\n",
       "}\r\n",
       "table tr td pre \r\n",
       "{ \r\n",
       "    vertical-align: top !important; \r\n",
       "    margin: 0em 0px !important;\r\n",
       "} \r\n",
       "table th {\r\n",
       "    text-align: start;\r\n",
       "}\r\n",
       "</style>"
      ]
     },
     "metadata": {},
     "output_type": "display_data"
    }
   ],
   "source": [
    "#!fsharp\n",
    "\n",
    "let oneToFive = 1 :: twoToFive // prepend element\n",
    "oneToFive"
   ]
  },
  {
   "cell_type": "code",
   "execution_count": 3,
   "metadata": {
    "dotnet_interactive": {
     "language": "fsharp"
    },
    "vscode": {
     "languageId": "polyglot-notebook"
    }
   },
   "outputs": [
    {
     "data": {
      "text/html": [
       "<details open=\"open\" class=\"dni-treeview\"><summary><span class=\"dni-code-hint\"><code>[ 0, 1, 2, 3, 4, 5 ]</code></span></summary><div><table><thead><tr></tr></thead><tbody><tr><td>HeadOrDefault</td><td><div class=\"dni-plaintext\"><pre>0</pre></div></td></tr><tr><td>TailOrNull</td><td><details class=\"dni-treeview\"><summary><span class=\"dni-code-hint\"><code>[ 1, 2, 3, 4, 5 ]</code></span></summary><div><table><thead><tr></tr></thead><tbody><tr><td>HeadOrDefault</td><td><div class=\"dni-plaintext\"><pre>1</pre></div></td></tr><tr><td>TailOrNull</td><td><details class=\"dni-treeview\"><summary><span class=\"dni-code-hint\"><code>[ 2, 3, 4, 5 ]</code></span></summary><div><table><thead><tr></tr></thead><tbody><tr><td>HeadOrDefault</td><td><div class=\"dni-plaintext\"><pre>2</pre></div></td></tr><tr><td>TailOrNull</td><td><details class=\"dni-treeview\"><summary><span class=\"dni-code-hint\"><code>[ 3, 4, 5 ]</code></span></summary><div><table><thead><tr></tr></thead><tbody><tr><td>HeadOrDefault</td><td><div class=\"dni-plaintext\"><pre>3</pre></div></td></tr><tr><td>TailOrNull</td><td><details class=\"dni-treeview\"><summary><span class=\"dni-code-hint\"><code>[ 4, 5 ]</code></span></summary><div><table><thead><tr></tr></thead><tbody><tr><td>HeadOrDefault</td><td><div class=\"dni-plaintext\"><pre>4</pre></div></td></tr><tr><td>TailOrNull</td><td><details class=\"dni-treeview\"><summary><span class=\"dni-code-hint\"><code>[ 5 ]</code></span></summary><div><table><thead><tr></tr></thead><tbody><tr><td>HeadOrDefault</td><td>5</td></tr><tr><td>TailOrNull</td><td>[  ]</td></tr><tr><td>Head</td><td>5</td></tr><tr><td>Tail</td><td>[  ]</td></tr><tr><td><i>(values)</i></td><td><div class=\"dni-plaintext\"><pre>[ 5 ]</pre></div></td></tr></tbody></table></div></details></td></tr><tr><td>Head</td><td><div class=\"dni-plaintext\"><pre>4</pre></div></td></tr><tr><td>Tail</td><td><details class=\"dni-treeview\"><summary><span class=\"dni-code-hint\"><code>[ 5 ]</code></span></summary><div><table><thead><tr></tr></thead><tbody><tr><td>HeadOrDefault</td><td>5</td></tr><tr><td>TailOrNull</td><td>[  ]</td></tr><tr><td>Head</td><td>5</td></tr><tr><td>Tail</td><td>[  ]</td></tr><tr><td><i>(values)</i></td><td><div class=\"dni-plaintext\"><pre>[ 5 ]</pre></div></td></tr></tbody></table></div></details></td></tr><tr><td><i>(values)</i></td><td><div class=\"dni-plaintext\"><pre>[ 4, 5 ]</pre></div></td></tr></tbody></table></div></details></td></tr><tr><td>Head</td><td><div class=\"dni-plaintext\"><pre>3</pre></div></td></tr><tr><td>Tail</td><td><details class=\"dni-treeview\"><summary><span class=\"dni-code-hint\"><code>[ 4, 5 ]</code></span></summary><div><table><thead><tr></tr></thead><tbody><tr><td>HeadOrDefault</td><td><div class=\"dni-plaintext\"><pre>4</pre></div></td></tr><tr><td>TailOrNull</td><td><details class=\"dni-treeview\"><summary><span class=\"dni-code-hint\"><code>[ 5 ]</code></span></summary><div><table><thead><tr></tr></thead><tbody><tr><td>HeadOrDefault</td><td>5</td></tr><tr><td>TailOrNull</td><td>[  ]</td></tr><tr><td>Head</td><td>5</td></tr><tr><td>Tail</td><td>[  ]</td></tr><tr><td><i>(values)</i></td><td><div class=\"dni-plaintext\"><pre>[ 5 ]</pre></div></td></tr></tbody></table></div></details></td></tr><tr><td>Head</td><td><div class=\"dni-plaintext\"><pre>4</pre></div></td></tr><tr><td>Tail</td><td><details class=\"dni-treeview\"><summary><span class=\"dni-code-hint\"><code>[ 5 ]</code></span></summary><div><table><thead><tr></tr></thead><tbody><tr><td>HeadOrDefault</td><td>5</td></tr><tr><td>TailOrNull</td><td>[  ]</td></tr><tr><td>Head</td><td>5</td></tr><tr><td>Tail</td><td>[  ]</td></tr><tr><td><i>(values)</i></td><td><div class=\"dni-plaintext\"><pre>[ 5 ]</pre></div></td></tr></tbody></table></div></details></td></tr><tr><td><i>(values)</i></td><td><div class=\"dni-plaintext\"><pre>[ 4, 5 ]</pre></div></td></tr></tbody></table></div></details></td></tr><tr><td><i>(values)</i></td><td><div class=\"dni-plaintext\"><pre>[ 3, 4, 5 ]</pre></div></td></tr></tbody></table></div></details></td></tr><tr><td>Head</td><td><div class=\"dni-plaintext\"><pre>2</pre></div></td></tr><tr><td>Tail</td><td><details class=\"dni-treeview\"><summary><span class=\"dni-code-hint\"><code>[ 3, 4, 5 ]</code></span></summary><div><table><thead><tr></tr></thead><tbody><tr><td>HeadOrDefault</td><td><div class=\"dni-plaintext\"><pre>3</pre></div></td></tr><tr><td>TailOrNull</td><td><details class=\"dni-treeview\"><summary><span class=\"dni-code-hint\"><code>[ 4, 5 ]</code></span></summary><div><table><thead><tr></tr></thead><tbody><tr><td>HeadOrDefault</td><td><div class=\"dni-plaintext\"><pre>4</pre></div></td></tr><tr><td>TailOrNull</td><td><details class=\"dni-treeview\"><summary><span class=\"dni-code-hint\"><code>[ 5 ]</code></span></summary><div><table><thead><tr></tr></thead><tbody><tr><td>HeadOrDefault</td><td>5</td></tr><tr><td>TailOrNull</td><td>[  ]</td></tr><tr><td>Head</td><td>5</td></tr><tr><td>Tail</td><td>[  ]</td></tr><tr><td><i>(values)</i></td><td><div class=\"dni-plaintext\"><pre>[ 5 ]</pre></div></td></tr></tbody></table></div></details></td></tr><tr><td>Head</td><td><div class=\"dni-plaintext\"><pre>4</pre></div></td></tr><tr><td>Tail</td><td><details class=\"dni-treeview\"><summary><span class=\"dni-code-hint\"><code>[ 5 ]</code></span></summary><div><table><thead><tr></tr></thead><tbody><tr><td>HeadOrDefault</td><td>5</td></tr><tr><td>TailOrNull</td><td>[  ]</td></tr><tr><td>Head</td><td>5</td></tr><tr><td>Tail</td><td>[  ]</td></tr><tr><td><i>(values)</i></td><td><div class=\"dni-plaintext\"><pre>[ 5 ]</pre></div></td></tr></tbody></table></div></details></td></tr><tr><td><i>(values)</i></td><td><div class=\"dni-plaintext\"><pre>[ 4, 5 ]</pre></div></td></tr></tbody></table></div></details></td></tr><tr><td>Head</td><td><div class=\"dni-plaintext\"><pre>3</pre></div></td></tr><tr><td>Tail</td><td><details class=\"dni-treeview\"><summary><span class=\"dni-code-hint\"><code>[ 4, 5 ]</code></span></summary><div><table><thead><tr></tr></thead><tbody><tr><td>HeadOrDefault</td><td><div class=\"dni-plaintext\"><pre>4</pre></div></td></tr><tr><td>TailOrNull</td><td><details class=\"dni-treeview\"><summary><span class=\"dni-code-hint\"><code>[ 5 ]</code></span></summary><div><table><thead><tr></tr></thead><tbody><tr><td>HeadOrDefault</td><td>5</td></tr><tr><td>TailOrNull</td><td>[  ]</td></tr><tr><td>Head</td><td>5</td></tr><tr><td>Tail</td><td>[  ]</td></tr><tr><td><i>(values)</i></td><td><div class=\"dni-plaintext\"><pre>[ 5 ]</pre></div></td></tr></tbody></table></div></details></td></tr><tr><td>Head</td><td><div class=\"dni-plaintext\"><pre>4</pre></div></td></tr><tr><td>Tail</td><td><details class=\"dni-treeview\"><summary><span class=\"dni-code-hint\"><code>[ 5 ]</code></span></summary><div><table><thead><tr></tr></thead><tbody><tr><td>HeadOrDefault</td><td>5</td></tr><tr><td>TailOrNull</td><td>[  ]</td></tr><tr><td>Head</td><td>5</td></tr><tr><td>Tail</td><td>[  ]</td></tr><tr><td><i>(values)</i></td><td><div class=\"dni-plaintext\"><pre>[ 5 ]</pre></div></td></tr></tbody></table></div></details></td></tr><tr><td><i>(values)</i></td><td><div class=\"dni-plaintext\"><pre>[ 4, 5 ]</pre></div></td></tr></tbody></table></div></details></td></tr><tr><td><i>(values)</i></td><td><div class=\"dni-plaintext\"><pre>[ 3, 4, 5 ]</pre></div></td></tr></tbody></table></div></details></td></tr><tr><td><i>(values)</i></td><td><div class=\"dni-plaintext\"><pre>[ 2, 3, 4, 5 ]</pre></div></td></tr></tbody></table></div></details></td></tr><tr><td>Head</td><td><div class=\"dni-plaintext\"><pre>1</pre></div></td></tr><tr><td>Tail</td><td><details class=\"dni-treeview\"><summary><span class=\"dni-code-hint\"><code>[ 2, 3, 4, 5 ]</code></span></summary><div><table><thead><tr></tr></thead><tbody><tr><td>HeadOrDefault</td><td><div class=\"dni-plaintext\"><pre>2</pre></div></td></tr><tr><td>TailOrNull</td><td><details class=\"dni-treeview\"><summary><span class=\"dni-code-hint\"><code>[ 3, 4, 5 ]</code></span></summary><div><table><thead><tr></tr></thead><tbody><tr><td>HeadOrDefault</td><td><div class=\"dni-plaintext\"><pre>3</pre></div></td></tr><tr><td>TailOrNull</td><td><details class=\"dni-treeview\"><summary><span class=\"dni-code-hint\"><code>[ 4, 5 ]</code></span></summary><div><table><thead><tr></tr></thead><tbody><tr><td>HeadOrDefault</td><td><div class=\"dni-plaintext\"><pre>4</pre></div></td></tr><tr><td>TailOrNull</td><td><details class=\"dni-treeview\"><summary><span class=\"dni-code-hint\"><code>[ 5 ]</code></span></summary><div><table><thead><tr></tr></thead><tbody><tr><td>HeadOrDefault</td><td>5</td></tr><tr><td>TailOrNull</td><td>[  ]</td></tr><tr><td>Head</td><td>5</td></tr><tr><td>Tail</td><td>[  ]</td></tr><tr><td><i>(values)</i></td><td><div class=\"dni-plaintext\"><pre>[ 5 ]</pre></div></td></tr></tbody></table></div></details></td></tr><tr><td>Head</td><td><div class=\"dni-plaintext\"><pre>4</pre></div></td></tr><tr><td>Tail</td><td><details class=\"dni-treeview\"><summary><span class=\"dni-code-hint\"><code>[ 5 ]</code></span></summary><div><table><thead><tr></tr></thead><tbody><tr><td>HeadOrDefault</td><td>5</td></tr><tr><td>TailOrNull</td><td>[  ]</td></tr><tr><td>Head</td><td>5</td></tr><tr><td>Tail</td><td>[  ]</td></tr><tr><td><i>(values)</i></td><td><div class=\"dni-plaintext\"><pre>[ 5 ]</pre></div></td></tr></tbody></table></div></details></td></tr><tr><td><i>(values)</i></td><td><div class=\"dni-plaintext\"><pre>[ 4, 5 ]</pre></div></td></tr></tbody></table></div></details></td></tr><tr><td>Head</td><td><div class=\"dni-plaintext\"><pre>3</pre></div></td></tr><tr><td>Tail</td><td><details class=\"dni-treeview\"><summary><span class=\"dni-code-hint\"><code>[ 4, 5 ]</code></span></summary><div><table><thead><tr></tr></thead><tbody><tr><td>HeadOrDefault</td><td><div class=\"dni-plaintext\"><pre>4</pre></div></td></tr><tr><td>TailOrNull</td><td><details class=\"dni-treeview\"><summary><span class=\"dni-code-hint\"><code>[ 5 ]</code></span></summary><div><table><thead><tr></tr></thead><tbody><tr><td>HeadOrDefault</td><td>5</td></tr><tr><td>TailOrNull</td><td>[  ]</td></tr><tr><td>Head</td><td>5</td></tr><tr><td>Tail</td><td>[  ]</td></tr><tr><td><i>(values)</i></td><td><div class=\"dni-plaintext\"><pre>[ 5 ]</pre></div></td></tr></tbody></table></div></details></td></tr><tr><td>Head</td><td><div class=\"dni-plaintext\"><pre>4</pre></div></td></tr><tr><td>Tail</td><td><details class=\"dni-treeview\"><summary><span class=\"dni-code-hint\"><code>[ 5 ]</code></span></summary><div><table><thead><tr></tr></thead><tbody><tr><td>HeadOrDefault</td><td>5</td></tr><tr><td>TailOrNull</td><td>[  ]</td></tr><tr><td>Head</td><td>5</td></tr><tr><td>Tail</td><td>[  ]</td></tr><tr><td><i>(values)</i></td><td><div class=\"dni-plaintext\"><pre>[ 5 ]</pre></div></td></tr></tbody></table></div></details></td></tr><tr><td><i>(values)</i></td><td><div class=\"dni-plaintext\"><pre>[ 4, 5 ]</pre></div></td></tr></tbody></table></div></details></td></tr><tr><td><i>(values)</i></td><td><div class=\"dni-plaintext\"><pre>[ 3, 4, 5 ]</pre></div></td></tr></tbody></table></div></details></td></tr><tr><td>Head</td><td><div class=\"dni-plaintext\"><pre>2</pre></div></td></tr><tr><td>Tail</td><td><details class=\"dni-treeview\"><summary><span class=\"dni-code-hint\"><code>[ 3, 4, 5 ]</code></span></summary><div><table><thead><tr></tr></thead><tbody><tr><td>HeadOrDefault</td><td><div class=\"dni-plaintext\"><pre>3</pre></div></td></tr><tr><td>TailOrNull</td><td><details class=\"dni-treeview\"><summary><span class=\"dni-code-hint\"><code>[ 4, 5 ]</code></span></summary><div><table><thead><tr></tr></thead><tbody><tr><td>HeadOrDefault</td><td><div class=\"dni-plaintext\"><pre>4</pre></div></td></tr><tr><td>TailOrNull</td><td><details class=\"dni-treeview\"><summary><span class=\"dni-code-hint\"><code>[ 5 ]</code></span></summary><div><table><thead><tr></tr></thead><tbody><tr><td>HeadOrDefault</td><td>5</td></tr><tr><td>TailOrNull</td><td>[  ]</td></tr><tr><td>Head</td><td>5</td></tr><tr><td>Tail</td><td>[  ]</td></tr><tr><td><i>(values)</i></td><td><div class=\"dni-plaintext\"><pre>[ 5 ]</pre></div></td></tr></tbody></table></div></details></td></tr><tr><td>Head</td><td><div class=\"dni-plaintext\"><pre>4</pre></div></td></tr><tr><td>Tail</td><td><details class=\"dni-treeview\"><summary><span class=\"dni-code-hint\"><code>[ 5 ]</code></span></summary><div><table><thead><tr></tr></thead><tbody><tr><td>HeadOrDefault</td><td>5</td></tr><tr><td>TailOrNull</td><td>[  ]</td></tr><tr><td>Head</td><td>5</td></tr><tr><td>Tail</td><td>[  ]</td></tr><tr><td><i>(values)</i></td><td><div class=\"dni-plaintext\"><pre>[ 5 ]</pre></div></td></tr></tbody></table></div></details></td></tr><tr><td><i>(values)</i></td><td><div class=\"dni-plaintext\"><pre>[ 4, 5 ]</pre></div></td></tr></tbody></table></div></details></td></tr><tr><td>Head</td><td><div class=\"dni-plaintext\"><pre>3</pre></div></td></tr><tr><td>Tail</td><td><details class=\"dni-treeview\"><summary><span class=\"dni-code-hint\"><code>[ 4, 5 ]</code></span></summary><div><table><thead><tr></tr></thead><tbody><tr><td>HeadOrDefault</td><td><div class=\"dni-plaintext\"><pre>4</pre></div></td></tr><tr><td>TailOrNull</td><td><details class=\"dni-treeview\"><summary><span class=\"dni-code-hint\"><code>[ 5 ]</code></span></summary><div><table><thead><tr></tr></thead><tbody><tr><td>HeadOrDefault</td><td>5</td></tr><tr><td>TailOrNull</td><td>[  ]</td></tr><tr><td>Head</td><td>5</td></tr><tr><td>Tail</td><td>[  ]</td></tr><tr><td><i>(values)</i></td><td><div class=\"dni-plaintext\"><pre>[ 5 ]</pre></div></td></tr></tbody></table></div></details></td></tr><tr><td>Head</td><td><div class=\"dni-plaintext\"><pre>4</pre></div></td></tr><tr><td>Tail</td><td><details class=\"dni-treeview\"><summary><span class=\"dni-code-hint\"><code>[ 5 ]</code></span></summary><div><table><thead><tr></tr></thead><tbody><tr><td>HeadOrDefault</td><td>5</td></tr><tr><td>TailOrNull</td><td>[  ]</td></tr><tr><td>Head</td><td>5</td></tr><tr><td>Tail</td><td>[  ]</td></tr><tr><td><i>(values)</i></td><td><div class=\"dni-plaintext\"><pre>[ 5 ]</pre></div></td></tr></tbody></table></div></details></td></tr><tr><td><i>(values)</i></td><td><div class=\"dni-plaintext\"><pre>[ 4, 5 ]</pre></div></td></tr></tbody></table></div></details></td></tr><tr><td><i>(values)</i></td><td><div class=\"dni-plaintext\"><pre>[ 3, 4, 5 ]</pre></div></td></tr></tbody></table></div></details></td></tr><tr><td><i>(values)</i></td><td><div class=\"dni-plaintext\"><pre>[ 2, 3, 4, 5 ]</pre></div></td></tr></tbody></table></div></details></td></tr><tr><td><i>(values)</i></td><td><div class=\"dni-plaintext\"><pre>[ 1, 2, 3, 4, 5 ]</pre></div></td></tr></tbody></table></div></details></td></tr><tr><td>Head</td><td><div class=\"dni-plaintext\"><pre>0</pre></div></td></tr><tr><td>Tail</td><td><details class=\"dni-treeview\"><summary><span class=\"dni-code-hint\"><code>[ 1, 2, 3, 4, 5 ]</code></span></summary><div><table><thead><tr></tr></thead><tbody><tr><td>HeadOrDefault</td><td><div class=\"dni-plaintext\"><pre>1</pre></div></td></tr><tr><td>TailOrNull</td><td><details class=\"dni-treeview\"><summary><span class=\"dni-code-hint\"><code>[ 2, 3, 4, 5 ]</code></span></summary><div><table><thead><tr></tr></thead><tbody><tr><td>HeadOrDefault</td><td><div class=\"dni-plaintext\"><pre>2</pre></div></td></tr><tr><td>TailOrNull</td><td><details class=\"dni-treeview\"><summary><span class=\"dni-code-hint\"><code>[ 3, 4, 5 ]</code></span></summary><div><table><thead><tr></tr></thead><tbody><tr><td>HeadOrDefault</td><td><div class=\"dni-plaintext\"><pre>3</pre></div></td></tr><tr><td>TailOrNull</td><td><details class=\"dni-treeview\"><summary><span class=\"dni-code-hint\"><code>[ 4, 5 ]</code></span></summary><div><table><thead><tr></tr></thead><tbody><tr><td>HeadOrDefault</td><td><div class=\"dni-plaintext\"><pre>4</pre></div></td></tr><tr><td>TailOrNull</td><td><details class=\"dni-treeview\"><summary><span class=\"dni-code-hint\"><code>[ 5 ]</code></span></summary><div><table><thead><tr></tr></thead><tbody><tr><td>HeadOrDefault</td><td>5</td></tr><tr><td>TailOrNull</td><td>[  ]</td></tr><tr><td>Head</td><td>5</td></tr><tr><td>Tail</td><td>[  ]</td></tr><tr><td><i>(values)</i></td><td><div class=\"dni-plaintext\"><pre>[ 5 ]</pre></div></td></tr></tbody></table></div></details></td></tr><tr><td>Head</td><td><div class=\"dni-plaintext\"><pre>4</pre></div></td></tr><tr><td>Tail</td><td><details class=\"dni-treeview\"><summary><span class=\"dni-code-hint\"><code>[ 5 ]</code></span></summary><div><table><thead><tr></tr></thead><tbody><tr><td>HeadOrDefault</td><td>5</td></tr><tr><td>TailOrNull</td><td>[  ]</td></tr><tr><td>Head</td><td>5</td></tr><tr><td>Tail</td><td>[  ]</td></tr><tr><td><i>(values)</i></td><td><div class=\"dni-plaintext\"><pre>[ 5 ]</pre></div></td></tr></tbody></table></div></details></td></tr><tr><td><i>(values)</i></td><td><div class=\"dni-plaintext\"><pre>[ 4, 5 ]</pre></div></td></tr></tbody></table></div></details></td></tr><tr><td>Head</td><td><div class=\"dni-plaintext\"><pre>3</pre></div></td></tr><tr><td>Tail</td><td><details class=\"dni-treeview\"><summary><span class=\"dni-code-hint\"><code>[ 4, 5 ]</code></span></summary><div><table><thead><tr></tr></thead><tbody><tr><td>HeadOrDefault</td><td><div class=\"dni-plaintext\"><pre>4</pre></div></td></tr><tr><td>TailOrNull</td><td><details class=\"dni-treeview\"><summary><span class=\"dni-code-hint\"><code>[ 5 ]</code></span></summary><div><table><thead><tr></tr></thead><tbody><tr><td>HeadOrDefault</td><td>5</td></tr><tr><td>TailOrNull</td><td>[  ]</td></tr><tr><td>Head</td><td>5</td></tr><tr><td>Tail</td><td>[  ]</td></tr><tr><td><i>(values)</i></td><td><div class=\"dni-plaintext\"><pre>[ 5 ]</pre></div></td></tr></tbody></table></div></details></td></tr><tr><td>Head</td><td><div class=\"dni-plaintext\"><pre>4</pre></div></td></tr><tr><td>Tail</td><td><details class=\"dni-treeview\"><summary><span class=\"dni-code-hint\"><code>[ 5 ]</code></span></summary><div><table><thead><tr></tr></thead><tbody><tr><td>HeadOrDefault</td><td>5</td></tr><tr><td>TailOrNull</td><td>[  ]</td></tr><tr><td>Head</td><td>5</td></tr><tr><td>Tail</td><td>[  ]</td></tr><tr><td><i>(values)</i></td><td><div class=\"dni-plaintext\"><pre>[ 5 ]</pre></div></td></tr></tbody></table></div></details></td></tr><tr><td><i>(values)</i></td><td><div class=\"dni-plaintext\"><pre>[ 4, 5 ]</pre></div></td></tr></tbody></table></div></details></td></tr><tr><td><i>(values)</i></td><td><div class=\"dni-plaintext\"><pre>[ 3, 4, 5 ]</pre></div></td></tr></tbody></table></div></details></td></tr><tr><td>Head</td><td><div class=\"dni-plaintext\"><pre>2</pre></div></td></tr><tr><td>Tail</td><td><details class=\"dni-treeview\"><summary><span class=\"dni-code-hint\"><code>[ 3, 4, 5 ]</code></span></summary><div><table><thead><tr></tr></thead><tbody><tr><td>HeadOrDefault</td><td><div class=\"dni-plaintext\"><pre>3</pre></div></td></tr><tr><td>TailOrNull</td><td><details class=\"dni-treeview\"><summary><span class=\"dni-code-hint\"><code>[ 4, 5 ]</code></span></summary><div><table><thead><tr></tr></thead><tbody><tr><td>HeadOrDefault</td><td><div class=\"dni-plaintext\"><pre>4</pre></div></td></tr><tr><td>TailOrNull</td><td><details class=\"dni-treeview\"><summary><span class=\"dni-code-hint\"><code>[ 5 ]</code></span></summary><div><table><thead><tr></tr></thead><tbody><tr><td>HeadOrDefault</td><td>5</td></tr><tr><td>TailOrNull</td><td>[  ]</td></tr><tr><td>Head</td><td>5</td></tr><tr><td>Tail</td><td>[  ]</td></tr><tr><td><i>(values)</i></td><td><div class=\"dni-plaintext\"><pre>[ 5 ]</pre></div></td></tr></tbody></table></div></details></td></tr><tr><td>Head</td><td><div class=\"dni-plaintext\"><pre>4</pre></div></td></tr><tr><td>Tail</td><td><details class=\"dni-treeview\"><summary><span class=\"dni-code-hint\"><code>[ 5 ]</code></span></summary><div><table><thead><tr></tr></thead><tbody><tr><td>HeadOrDefault</td><td>5</td></tr><tr><td>TailOrNull</td><td>[  ]</td></tr><tr><td>Head</td><td>5</td></tr><tr><td>Tail</td><td>[  ]</td></tr><tr><td><i>(values)</i></td><td><div class=\"dni-plaintext\"><pre>[ 5 ]</pre></div></td></tr></tbody></table></div></details></td></tr><tr><td><i>(values)</i></td><td><div class=\"dni-plaintext\"><pre>[ 4, 5 ]</pre></div></td></tr></tbody></table></div></details></td></tr><tr><td>Head</td><td><div class=\"dni-plaintext\"><pre>3</pre></div></td></tr><tr><td>Tail</td><td><details class=\"dni-treeview\"><summary><span class=\"dni-code-hint\"><code>[ 4, 5 ]</code></span></summary><div><table><thead><tr></tr></thead><tbody><tr><td>HeadOrDefault</td><td><div class=\"dni-plaintext\"><pre>4</pre></div></td></tr><tr><td>TailOrNull</td><td><details class=\"dni-treeview\"><summary><span class=\"dni-code-hint\"><code>[ 5 ]</code></span></summary><div><table><thead><tr></tr></thead><tbody><tr><td>HeadOrDefault</td><td>5</td></tr><tr><td>TailOrNull</td><td>[  ]</td></tr><tr><td>Head</td><td>5</td></tr><tr><td>Tail</td><td>[  ]</td></tr><tr><td><i>(values)</i></td><td><div class=\"dni-plaintext\"><pre>[ 5 ]</pre></div></td></tr></tbody></table></div></details></td></tr><tr><td>Head</td><td><div class=\"dni-plaintext\"><pre>4</pre></div></td></tr><tr><td>Tail</td><td><details class=\"dni-treeview\"><summary><span class=\"dni-code-hint\"><code>[ 5 ]</code></span></summary><div><table><thead><tr></tr></thead><tbody><tr><td>HeadOrDefault</td><td>5</td></tr><tr><td>TailOrNull</td><td>[  ]</td></tr><tr><td>Head</td><td>5</td></tr><tr><td>Tail</td><td>[  ]</td></tr><tr><td><i>(values)</i></td><td><div class=\"dni-plaintext\"><pre>[ 5 ]</pre></div></td></tr></tbody></table></div></details></td></tr><tr><td><i>(values)</i></td><td><div class=\"dni-plaintext\"><pre>[ 4, 5 ]</pre></div></td></tr></tbody></table></div></details></td></tr><tr><td><i>(values)</i></td><td><div class=\"dni-plaintext\"><pre>[ 3, 4, 5 ]</pre></div></td></tr></tbody></table></div></details></td></tr><tr><td><i>(values)</i></td><td><div class=\"dni-plaintext\"><pre>[ 2, 3, 4, 5 ]</pre></div></td></tr></tbody></table></div></details></td></tr><tr><td>Head</td><td><div class=\"dni-plaintext\"><pre>1</pre></div></td></tr><tr><td>Tail</td><td><details class=\"dni-treeview\"><summary><span class=\"dni-code-hint\"><code>[ 2, 3, 4, 5 ]</code></span></summary><div><table><thead><tr></tr></thead><tbody><tr><td>HeadOrDefault</td><td><div class=\"dni-plaintext\"><pre>2</pre></div></td></tr><tr><td>TailOrNull</td><td><details class=\"dni-treeview\"><summary><span class=\"dni-code-hint\"><code>[ 3, 4, 5 ]</code></span></summary><div><table><thead><tr></tr></thead><tbody><tr><td>HeadOrDefault</td><td><div class=\"dni-plaintext\"><pre>3</pre></div></td></tr><tr><td>TailOrNull</td><td><details class=\"dni-treeview\"><summary><span class=\"dni-code-hint\"><code>[ 4, 5 ]</code></span></summary><div><table><thead><tr></tr></thead><tbody><tr><td>HeadOrDefault</td><td><div class=\"dni-plaintext\"><pre>4</pre></div></td></tr><tr><td>TailOrNull</td><td><details class=\"dni-treeview\"><summary><span class=\"dni-code-hint\"><code>[ 5 ]</code></span></summary><div><table><thead><tr></tr></thead><tbody><tr><td>HeadOrDefault</td><td>5</td></tr><tr><td>TailOrNull</td><td>[  ]</td></tr><tr><td>Head</td><td>5</td></tr><tr><td>Tail</td><td>[  ]</td></tr><tr><td><i>(values)</i></td><td><div class=\"dni-plaintext\"><pre>[ 5 ]</pre></div></td></tr></tbody></table></div></details></td></tr><tr><td>Head</td><td><div class=\"dni-plaintext\"><pre>4</pre></div></td></tr><tr><td>Tail</td><td><details class=\"dni-treeview\"><summary><span class=\"dni-code-hint\"><code>[ 5 ]</code></span></summary><div><table><thead><tr></tr></thead><tbody><tr><td>HeadOrDefault</td><td>5</td></tr><tr><td>TailOrNull</td><td>[  ]</td></tr><tr><td>Head</td><td>5</td></tr><tr><td>Tail</td><td>[  ]</td></tr><tr><td><i>(values)</i></td><td><div class=\"dni-plaintext\"><pre>[ 5 ]</pre></div></td></tr></tbody></table></div></details></td></tr><tr><td><i>(values)</i></td><td><div class=\"dni-plaintext\"><pre>[ 4, 5 ]</pre></div></td></tr></tbody></table></div></details></td></tr><tr><td>Head</td><td><div class=\"dni-plaintext\"><pre>3</pre></div></td></tr><tr><td>Tail</td><td><details class=\"dni-treeview\"><summary><span class=\"dni-code-hint\"><code>[ 4, 5 ]</code></span></summary><div><table><thead><tr></tr></thead><tbody><tr><td>HeadOrDefault</td><td><div class=\"dni-plaintext\"><pre>4</pre></div></td></tr><tr><td>TailOrNull</td><td><details class=\"dni-treeview\"><summary><span class=\"dni-code-hint\"><code>[ 5 ]</code></span></summary><div><table><thead><tr></tr></thead><tbody><tr><td>HeadOrDefault</td><td>5</td></tr><tr><td>TailOrNull</td><td>[  ]</td></tr><tr><td>Head</td><td>5</td></tr><tr><td>Tail</td><td>[  ]</td></tr><tr><td><i>(values)</i></td><td><div class=\"dni-plaintext\"><pre>[ 5 ]</pre></div></td></tr></tbody></table></div></details></td></tr><tr><td>Head</td><td><div class=\"dni-plaintext\"><pre>4</pre></div></td></tr><tr><td>Tail</td><td><details class=\"dni-treeview\"><summary><span class=\"dni-code-hint\"><code>[ 5 ]</code></span></summary><div><table><thead><tr></tr></thead><tbody><tr><td>HeadOrDefault</td><td>5</td></tr><tr><td>TailOrNull</td><td>[  ]</td></tr><tr><td>Head</td><td>5</td></tr><tr><td>Tail</td><td>[  ]</td></tr><tr><td><i>(values)</i></td><td><div class=\"dni-plaintext\"><pre>[ 5 ]</pre></div></td></tr></tbody></table></div></details></td></tr><tr><td><i>(values)</i></td><td><div class=\"dni-plaintext\"><pre>[ 4, 5 ]</pre></div></td></tr></tbody></table></div></details></td></tr><tr><td><i>(values)</i></td><td><div class=\"dni-plaintext\"><pre>[ 3, 4, 5 ]</pre></div></td></tr></tbody></table></div></details></td></tr><tr><td>Head</td><td><div class=\"dni-plaintext\"><pre>2</pre></div></td></tr><tr><td>Tail</td><td><details class=\"dni-treeview\"><summary><span class=\"dni-code-hint\"><code>[ 3, 4, 5 ]</code></span></summary><div><table><thead><tr></tr></thead><tbody><tr><td>HeadOrDefault</td><td><div class=\"dni-plaintext\"><pre>3</pre></div></td></tr><tr><td>TailOrNull</td><td><details class=\"dni-treeview\"><summary><span class=\"dni-code-hint\"><code>[ 4, 5 ]</code></span></summary><div><table><thead><tr></tr></thead><tbody><tr><td>HeadOrDefault</td><td><div class=\"dni-plaintext\"><pre>4</pre></div></td></tr><tr><td>TailOrNull</td><td><details class=\"dni-treeview\"><summary><span class=\"dni-code-hint\"><code>[ 5 ]</code></span></summary><div><table><thead><tr></tr></thead><tbody><tr><td>HeadOrDefault</td><td>5</td></tr><tr><td>TailOrNull</td><td>[  ]</td></tr><tr><td>Head</td><td>5</td></tr><tr><td>Tail</td><td>[  ]</td></tr><tr><td><i>(values)</i></td><td><div class=\"dni-plaintext\"><pre>[ 5 ]</pre></div></td></tr></tbody></table></div></details></td></tr><tr><td>Head</td><td><div class=\"dni-plaintext\"><pre>4</pre></div></td></tr><tr><td>Tail</td><td><details class=\"dni-treeview\"><summary><span class=\"dni-code-hint\"><code>[ 5 ]</code></span></summary><div><table><thead><tr></tr></thead><tbody><tr><td>HeadOrDefault</td><td>5</td></tr><tr><td>TailOrNull</td><td>[  ]</td></tr><tr><td>Head</td><td>5</td></tr><tr><td>Tail</td><td>[  ]</td></tr><tr><td><i>(values)</i></td><td><div class=\"dni-plaintext\"><pre>[ 5 ]</pre></div></td></tr></tbody></table></div></details></td></tr><tr><td><i>(values)</i></td><td><div class=\"dni-plaintext\"><pre>[ 4, 5 ]</pre></div></td></tr></tbody></table></div></details></td></tr><tr><td>Head</td><td><div class=\"dni-plaintext\"><pre>3</pre></div></td></tr><tr><td>Tail</td><td><details class=\"dni-treeview\"><summary><span class=\"dni-code-hint\"><code>[ 4, 5 ]</code></span></summary><div><table><thead><tr></tr></thead><tbody><tr><td>HeadOrDefault</td><td><div class=\"dni-plaintext\"><pre>4</pre></div></td></tr><tr><td>TailOrNull</td><td><details class=\"dni-treeview\"><summary><span class=\"dni-code-hint\"><code>[ 5 ]</code></span></summary><div><table><thead><tr></tr></thead><tbody><tr><td>HeadOrDefault</td><td>5</td></tr><tr><td>TailOrNull</td><td>[  ]</td></tr><tr><td>Head</td><td>5</td></tr><tr><td>Tail</td><td>[  ]</td></tr><tr><td><i>(values)</i></td><td><div class=\"dni-plaintext\"><pre>[ 5 ]</pre></div></td></tr></tbody></table></div></details></td></tr><tr><td>Head</td><td><div class=\"dni-plaintext\"><pre>4</pre></div></td></tr><tr><td>Tail</td><td><details class=\"dni-treeview\"><summary><span class=\"dni-code-hint\"><code>[ 5 ]</code></span></summary><div><table><thead><tr></tr></thead><tbody><tr><td>HeadOrDefault</td><td>5</td></tr><tr><td>TailOrNull</td><td>[  ]</td></tr><tr><td>Head</td><td>5</td></tr><tr><td>Tail</td><td>[  ]</td></tr><tr><td><i>(values)</i></td><td><div class=\"dni-plaintext\"><pre>[ 5 ]</pre></div></td></tr></tbody></table></div></details></td></tr><tr><td><i>(values)</i></td><td><div class=\"dni-plaintext\"><pre>[ 4, 5 ]</pre></div></td></tr></tbody></table></div></details></td></tr><tr><td><i>(values)</i></td><td><div class=\"dni-plaintext\"><pre>[ 3, 4, 5 ]</pre></div></td></tr></tbody></table></div></details></td></tr><tr><td><i>(values)</i></td><td><div class=\"dni-plaintext\"><pre>[ 2, 3, 4, 5 ]</pre></div></td></tr></tbody></table></div></details></td></tr><tr><td><i>(values)</i></td><td><div class=\"dni-plaintext\"><pre>[ 1, 2, 3, 4, 5 ]</pre></div></td></tr></tbody></table></div></details></td></tr><tr><td><i>(values)</i></td><td><div class=\"dni-plaintext\"><pre>[ 0, 1, 2, 3, 4, 5 ]</pre></div></td></tr></tbody></table></div></details><style>\r\n",
       ".dni-code-hint {\r\n",
       "    font-style: italic;\r\n",
       "    overflow: hidden;\r\n",
       "    white-space: nowrap;\r\n",
       "}\r\n",
       ".dni-treeview {\r\n",
       "    white-space: nowrap;\r\n",
       "}\r\n",
       ".dni-treeview td {\r\n",
       "    vertical-align: top;\r\n",
       "    text-align: start;\r\n",
       "}\r\n",
       "details.dni-treeview {\r\n",
       "    padding-left: 1em;\r\n",
       "}\r\n",
       "table td {\r\n",
       "    text-align: start;\r\n",
       "}\r\n",
       "table tr { \r\n",
       "    vertical-align: top; \r\n",
       "    margin: 0em 0px;\r\n",
       "}\r\n",
       "table tr td pre \r\n",
       "{ \r\n",
       "    vertical-align: top !important; \r\n",
       "    margin: 0em 0px !important;\r\n",
       "} \r\n",
       "table th {\r\n",
       "    text-align: start;\r\n",
       "}\r\n",
       "</style>"
      ]
     },
     "metadata": {},
     "output_type": "display_data"
    }
   ],
   "source": [
    "#!fsharp\n",
    "\n",
    "let zeroToFive = [0;1] @ twoToFive // @ concats two lists\n",
    "zeroToFive"
   ]
  },
  {
   "cell_type": "code",
   "execution_count": 4,
   "metadata": {
    "dotnet_interactive": {
     "language": "fsharp"
    },
    "vscode": {
     "languageId": "polyglot-notebook"
    }
   },
   "outputs": [
    {
     "data": {
      "text/html": [
       "<div class=\"dni-plaintext\"><pre>9</pre></div><style>\r\n",
       ".dni-code-hint {\r\n",
       "    font-style: italic;\r\n",
       "    overflow: hidden;\r\n",
       "    white-space: nowrap;\r\n",
       "}\r\n",
       ".dni-treeview {\r\n",
       "    white-space: nowrap;\r\n",
       "}\r\n",
       ".dni-treeview td {\r\n",
       "    vertical-align: top;\r\n",
       "    text-align: start;\r\n",
       "}\r\n",
       "details.dni-treeview {\r\n",
       "    padding-left: 1em;\r\n",
       "}\r\n",
       "table td {\r\n",
       "    text-align: start;\r\n",
       "}\r\n",
       "table tr { \r\n",
       "    vertical-align: top; \r\n",
       "    margin: 0em 0px;\r\n",
       "}\r\n",
       "table tr td pre \r\n",
       "{ \r\n",
       "    vertical-align: top !important; \r\n",
       "    margin: 0em 0px !important;\r\n",
       "} \r\n",
       "table th {\r\n",
       "    text-align: start;\r\n",
       "}\r\n",
       "</style>"
      ]
     },
     "metadata": {},
     "output_type": "display_data"
    }
   ],
   "source": [
    "#!fsharp\n",
    "\n",
    "let square x = x * x\n",
    "square 3"
   ]
  },
  {
   "cell_type": "code",
   "execution_count": 5,
   "metadata": {
    "dotnet_interactive": {
     "language": "fsharp"
    },
    "vscode": {
     "languageId": "polyglot-notebook"
    }
   },
   "outputs": [
    {
     "data": {
      "text/html": [
       "<div class=\"dni-plaintext\"><pre>5</pre></div><style>\r\n",
       ".dni-code-hint {\r\n",
       "    font-style: italic;\r\n",
       "    overflow: hidden;\r\n",
       "    white-space: nowrap;\r\n",
       "}\r\n",
       ".dni-treeview {\r\n",
       "    white-space: nowrap;\r\n",
       "}\r\n",
       ".dni-treeview td {\r\n",
       "    vertical-align: top;\r\n",
       "    text-align: start;\r\n",
       "}\r\n",
       "details.dni-treeview {\r\n",
       "    padding-left: 1em;\r\n",
       "}\r\n",
       "table td {\r\n",
       "    text-align: start;\r\n",
       "}\r\n",
       "table tr { \r\n",
       "    vertical-align: top; \r\n",
       "    margin: 0em 0px;\r\n",
       "}\r\n",
       "table tr td pre \r\n",
       "{ \r\n",
       "    vertical-align: top !important; \r\n",
       "    margin: 0em 0px !important;\r\n",
       "} \r\n",
       "table th {\r\n",
       "    text-align: start;\r\n",
       "}\r\n",
       "</style>"
      ]
     },
     "metadata": {},
     "output_type": "display_data"
    }
   ],
   "source": [
    "#!fsharp\n",
    "\n",
    "let add x y = x + y // “Whitespace is used to separate parameters rather than commas.”\n",
    "add 2 3"
   ]
  },
  {
   "cell_type": "code",
   "execution_count": 6,
   "metadata": {
    "dotnet_interactive": {
     "language": "fsharp"
    },
    "vscode": {
     "languageId": "polyglot-notebook"
    }
   },
   "outputs": [
    {
     "data": {
      "text/html": [
       "<details open=\"open\" class=\"dni-treeview\"><summary><span class=\"dni-code-hint\"><code>[ 2, 4 ]</code></span></summary><div><table><thead><tr></tr></thead><tbody><tr><td>HeadOrDefault</td><td><div class=\"dni-plaintext\"><pre>2</pre></div></td></tr><tr><td>TailOrNull</td><td><details class=\"dni-treeview\"><summary><span class=\"dni-code-hint\"><code>[ 4 ]</code></span></summary><div><table><thead><tr></tr></thead><tbody><tr><td>HeadOrDefault</td><td><div class=\"dni-plaintext\"><pre>4</pre></div></td></tr><tr><td>TailOrNull</td><td><details class=\"dni-treeview\"><summary><span class=\"dni-code-hint\"><code>[  ]</code></span></summary><div><table><thead><tr></tr></thead><tbody><tr><td>HeadOrDefault</td><td><div class=\"dni-plaintext\"><pre>0</pre></div></td></tr><tr><td>TailOrNull</td><td><div class=\"dni-plaintext\"><pre>&lt;null&gt;</pre></div></td></tr><tr><td>Head</td><td><details class=\"dni-treeview\"><summary><span class=\"dni-code-hint\"><code>System.InvalidOperationException: The input list was empty.\\n   at Microsoft.FSharp.Collections.FSharpList`1.get_Head() in D:\\a\\_work\\1\\s\\src\\FSharp.Core\\prim-types.fs:line 4086\\n   at lambda_method82(Closure, FSharpList`1)\\n   at Microsoft.DotNet.Interactive.Formatting.MemberAccessor`1.GetValueOrEx...</code></span></summary><div><table><thead><tr></tr></thead><tbody><tr><td>TargetSite</td><td><details class=\"dni-treeview\"><summary><span class=\"dni-code-hint\"><code>T get_Head()</code></span></summary><div><table><thead><tr></tr></thead><tbody><tr><td>Name</td><td><div class=\"dni-plaintext\"><pre>get_Head</pre></div></td></tr><tr><td>DeclaringType</td><td><span><a href=\"https://docs.microsoft.com/dotnet/api/microsoft.fsharp.collections.fsharplist-1?view=net-7.0\">Microsoft.FSharp.Collections.FSharpList&lt;T&gt;</a></span></td></tr><tr><td>ReflectedType</td><td><span><a href=\"https://docs.microsoft.com/dotnet/api/microsoft.fsharp.collections.fsharplist-1?view=net-7.0\">Microsoft.FSharp.Collections.FSharpList&lt;T&gt;</a></span></td></tr><tr><td>MemberType</td><td><span>Method</span></td></tr><tr><td>MetadataToken</td><td><div class=\"dni-plaintext\"><pre>100663762</pre></div></td></tr><tr><td>Module</td><td><details class=\"dni-treeview\"><summary><span class=\"dni-code-hint\"><code>FSharp.Core.dll</code></span></summary><div><table><thead><tr></tr></thead><tbody><tr><td>MDStreamVersion</td><td>131072</td></tr><tr><td>FullyQualifiedName</td><td>/home/rasx/.nuget/packages/microsoft.dotnet-interactive/1.0.440301/tools/net7.0/any/FSharp.Core.dll</td></tr><tr><td>ModuleVersionId</td><td>e3fe3172-48a0-0545-d007-3b58ec61e746</td></tr><tr><td>MetadataToken</td><td>1</td></tr><tr><td>ScopeName</td><td>FSharp.Core.dll</td></tr><tr><td>Name</td><td>FSharp.Core.dll</td></tr><tr><td>Assembly</td><td>FSharp.Core, Version=7.0.0.0, Culture=neutral, PublicKeyToken=b03f5f7f11d50a3a</td></tr><tr><td>ModuleHandle</td><td>System.ModuleHandle</td></tr><tr><td>CustomAttributes</td><td>[  ]</td></tr></tbody></table></div></details></td></tr><tr><td>IsSecurityCritical</td><td><div class=\"dni-plaintext\"><pre>True</pre></div></td></tr><tr><td>IsSecuritySafeCritical</td><td><div class=\"dni-plaintext\"><pre>False</pre></div></td></tr><tr><td>IsSecurityTransparent</td><td><div class=\"dni-plaintext\"><pre>False</pre></div></td></tr><tr><td>MethodHandle</td><td><details class=\"dni-treeview\"><summary><span class=\"dni-code-hint\"><code>System.RuntimeMethodHandle</code></span></summary><div><table><thead><tr></tr></thead><tbody><tr><td>Value</td><td>139679016914744</td></tr></tbody></table></div></details></td></tr><tr><td>Attributes</td><td><span>PrivateScope, Public, HideBySig, SpecialName</span></td></tr><tr><td>CallingConvention</td><td><span>Standard, HasThis</span></td></tr><tr><td>ReturnType</td><td>T</td></tr><tr><td>ReturnTypeCustomAttributes</td><td><details class=\"dni-treeview\"><summary><span class=\"dni-code-hint\"><code>T</code></span></summary><div><table><thead><tr></tr></thead><tbody><tr><td>ParameterType</td><td>T</td></tr><tr><td>Name</td><td><div class=\"dni-plaintext\"><pre>&lt;null&gt;</pre></div></td></tr><tr><td>HasDefaultValue</td><td>True</td></tr><tr><td>DefaultValue</td><td><div class=\"dni-plaintext\"><pre>&lt;null&gt;</pre></div></td></tr><tr><td>RawDefaultValue</td><td><div class=\"dni-plaintext\"><pre>&lt;null&gt;</pre></div></td></tr><tr><td>MetadataToken</td><td>134217728</td></tr><tr><td>Attributes</td><td>None</td></tr><tr><td>Member</td><td>T get_Head()</td></tr><tr><td>Position</td><td>-1</td></tr><tr><td>IsIn</td><td>False</td></tr><tr><td>IsLcid</td><td>False</td></tr><tr><td>IsOptional</td><td>False</td></tr><tr><td>IsOut</td><td>False</td></tr><tr><td>IsRetval</td><td>False</td></tr><tr><td>CustomAttributes</td><td>[  ]</td></tr></tbody></table></div></details></td></tr><tr><td>ReturnParameter</td><td><details class=\"dni-treeview\"><summary><span class=\"dni-code-hint\"><code>T</code></span></summary><div><table><thead><tr></tr></thead><tbody><tr><td>ParameterType</td><td>T</td></tr><tr><td>Name</td><td><div class=\"dni-plaintext\"><pre>&lt;null&gt;</pre></div></td></tr><tr><td>HasDefaultValue</td><td>True</td></tr><tr><td>DefaultValue</td><td><div class=\"dni-plaintext\"><pre>&lt;null&gt;</pre></div></td></tr><tr><td>RawDefaultValue</td><td><div class=\"dni-plaintext\"><pre>&lt;null&gt;</pre></div></td></tr><tr><td>MetadataToken</td><td>134217728</td></tr><tr><td>Attributes</td><td>None</td></tr><tr><td>Member</td><td>T get_Head()</td></tr><tr><td>Position</td><td>-1</td></tr><tr><td>IsIn</td><td>False</td></tr><tr><td>IsLcid</td><td>False</td></tr><tr><td>IsOptional</td><td>False</td></tr><tr><td>IsOut</td><td>False</td></tr><tr><td>IsRetval</td><td>False</td></tr><tr><td>CustomAttributes</td><td>[  ]</td></tr></tbody></table></div></details></td></tr><tr><td>IsCollectible</td><td><div class=\"dni-plaintext\"><pre>False</pre></div></td></tr><tr><td>IsGenericMethod</td><td><div class=\"dni-plaintext\"><pre>False</pre></div></td></tr><tr><td>IsGenericMethodDefinition</td><td><div class=\"dni-plaintext\"><pre>False</pre></div></td></tr><tr><td>ContainsGenericParameters</td><td><div class=\"dni-plaintext\"><pre>True</pre></div></td></tr><tr><td>MethodImplementationFlags</td><td><span>IL</span></td></tr><tr><td>IsAbstract</td><td><div class=\"dni-plaintext\"><pre>False</pre></div></td></tr><tr><td>IsConstructor</td><td><div class=\"dni-plaintext\"><pre>False</pre></div></td></tr><tr><td>IsFinal</td><td><div class=\"dni-plaintext\"><pre>False</pre></div></td></tr><tr><td>IsHideBySig</td><td><div class=\"dni-plaintext\"><pre>True</pre></div></td></tr><tr><td>IsSpecialName</td><td><div class=\"dni-plaintext\"><pre>True</pre></div></td></tr><tr><td>IsStatic</td><td><div class=\"dni-plaintext\"><pre>False</pre></div></td></tr><tr><td>IsVirtual</td><td><div class=\"dni-plaintext\"><pre>False</pre></div></td></tr><tr><td>IsAssembly</td><td><div class=\"dni-plaintext\"><pre>False</pre></div></td></tr><tr><td>IsFamily</td><td><div class=\"dni-plaintext\"><pre>False</pre></div></td></tr><tr><td>IsFamilyAndAssembly</td><td><div class=\"dni-plaintext\"><pre>False</pre></div></td></tr><tr><td>IsFamilyOrAssembly</td><td><div class=\"dni-plaintext\"><pre>False</pre></div></td></tr><tr><td>IsPrivate</td><td><div class=\"dni-plaintext\"><pre>False</pre></div></td></tr><tr><td>IsPublic</td><td><div class=\"dni-plaintext\"><pre>True</pre></div></td></tr><tr><td>IsConstructedGenericMethod</td><td><div class=\"dni-plaintext\"><pre>False</pre></div></td></tr><tr><td>CustomAttributes</td><td><i>(empty)</i></td></tr></tbody></table></div></details></td></tr><tr><td>Message</td><td><div class=\"dni-plaintext\"><pre>The input list was empty.</pre></div></td></tr><tr><td>Data</td><td><i>(empty)</i></td></tr><tr><td>InnerException</td><td><div class=\"dni-plaintext\"><pre>&lt;null&gt;</pre></div></td></tr><tr><td>HelpLink</td><td><div class=\"dni-plaintext\"><pre>&lt;null&gt;</pre></div></td></tr><tr><td>Source</td><td><div class=\"dni-plaintext\"><pre>FSharp.Core</pre></div></td></tr><tr><td>HResult</td><td><div class=\"dni-plaintext\"><pre>-2146233079</pre></div></td></tr><tr><td>StackTrace</td><td><div class=\"dni-plaintext\"><pre>   at Microsoft.FSharp.Collections.FSharpList`1.get_Head() in D:\\a\\_work\\1\\s\\src\\FSharp.Core\\prim-types.fs:line 4086\n",
       "   at lambda_method82(Closure, FSharpList`1)\n",
       "   at Microsoft.DotNet.Interactive.Formatting.MemberAccessor`1.GetValueOrException(T instance) in D:\\a\\_work\\1\\s\\src\\Microsoft.DotNet.Interactive.Formatting\\MemberAccessor{T}.cs:line 58</pre></div></td></tr></tbody></table></div></details></td></tr><tr><td>Tail</td><td><details class=\"dni-treeview\"><summary><span class=\"dni-code-hint\"><code>System.InvalidOperationException: The input list was empty.\\n   at Microsoft.FSharp.Collections.FSharpList`1.get_Tail() in D:\\a\\_work\\1\\s\\src\\FSharp.Core\\prim-types.fs:line 4091\\n   at lambda_method83(Closure, FSharpList`1)\\n   at Microsoft.DotNet.Interactive.Formatting.MemberAccessor`1.GetValueOrEx...</code></span></summary><div><table><thead><tr></tr></thead><tbody><tr><td>TargetSite</td><td><details class=\"dni-treeview\"><summary><span class=\"dni-code-hint\"><code>Microsoft.FSharp.Collections.FSharpList`1[T] get_Tail()</code></span></summary><div><table><thead><tr></tr></thead><tbody><tr><td>Name</td><td><div class=\"dni-plaintext\"><pre>get_Tail</pre></div></td></tr><tr><td>DeclaringType</td><td><span><a href=\"https://docs.microsoft.com/dotnet/api/microsoft.fsharp.collections.fsharplist-1?view=net-7.0\">Microsoft.FSharp.Collections.FSharpList&lt;T&gt;</a></span></td></tr><tr><td>ReflectedType</td><td><span><a href=\"https://docs.microsoft.com/dotnet/api/microsoft.fsharp.collections.fsharplist-1?view=net-7.0\">Microsoft.FSharp.Collections.FSharpList&lt;T&gt;</a></span></td></tr><tr><td>MemberType</td><td><span>Method</span></td></tr><tr><td>MetadataToken</td><td><div class=\"dni-plaintext\"><pre>100663763</pre></div></td></tr><tr><td>Module</td><td><details class=\"dni-treeview\"><summary><span class=\"dni-code-hint\"><code>FSharp.Core.dll</code></span></summary><div><table><thead><tr></tr></thead><tbody><tr><td>MDStreamVersion</td><td>131072</td></tr><tr><td>FullyQualifiedName</td><td>/home/rasx/.nuget/packages/microsoft.dotnet-interactive/1.0.440301/tools/net7.0/any/FSharp.Core.dll</td></tr><tr><td>ModuleVersionId</td><td>e3fe3172-48a0-0545-d007-3b58ec61e746</td></tr><tr><td>MetadataToken</td><td>1</td></tr><tr><td>ScopeName</td><td>FSharp.Core.dll</td></tr><tr><td>Name</td><td>FSharp.Core.dll</td></tr><tr><td>Assembly</td><td>FSharp.Core, Version=7.0.0.0, Culture=neutral, PublicKeyToken=b03f5f7f11d50a3a</td></tr><tr><td>ModuleHandle</td><td>System.ModuleHandle</td></tr><tr><td>CustomAttributes</td><td>[  ]</td></tr></tbody></table></div></details></td></tr><tr><td>IsSecurityCritical</td><td><div class=\"dni-plaintext\"><pre>True</pre></div></td></tr><tr><td>IsSecuritySafeCritical</td><td><div class=\"dni-plaintext\"><pre>False</pre></div></td></tr><tr><td>IsSecurityTransparent</td><td><div class=\"dni-plaintext\"><pre>False</pre></div></td></tr><tr><td>MethodHandle</td><td><details class=\"dni-treeview\"><summary><span class=\"dni-code-hint\"><code>System.RuntimeMethodHandle</code></span></summary><div><table><thead><tr></tr></thead><tbody><tr><td>Value</td><td>139679016914760</td></tr></tbody></table></div></details></td></tr><tr><td>Attributes</td><td><span>PrivateScope, Public, HideBySig, SpecialName</span></td></tr><tr><td>CallingConvention</td><td><span>Standard, HasThis</span></td></tr><tr><td>ReturnType</td><td><span><a href=\"https://docs.microsoft.com/dotnet/api/microsoft.fsharp.collections.fsharplist-1?view=net-7.0\">Microsoft.FSharp.Collections.FSharpList&lt;T&gt;</a></span></td></tr><tr><td>ReturnTypeCustomAttributes</td><td><details class=\"dni-treeview\"><summary><span class=\"dni-code-hint\"><code>Microsoft.FSharp.Collections.FSharpList`1[T]</code></span></summary><div><table><thead><tr></tr></thead><tbody><tr><td>ParameterType</td><td>Microsoft.FSharp.Collections.FSharpList`1[T]</td></tr><tr><td>Name</td><td><div class=\"dni-plaintext\"><pre>&lt;null&gt;</pre></div></td></tr><tr><td>HasDefaultValue</td><td>True</td></tr><tr><td>DefaultValue</td><td><div class=\"dni-plaintext\"><pre>&lt;null&gt;</pre></div></td></tr><tr><td>RawDefaultValue</td><td><div class=\"dni-plaintext\"><pre>&lt;null&gt;</pre></div></td></tr><tr><td>MetadataToken</td><td>134217728</td></tr><tr><td>Attributes</td><td>None</td></tr><tr><td>Member</td><td>Microsoft.FSharp.Collections.FSharpList`1[T] get_Tail()</td></tr><tr><td>Position</td><td>-1</td></tr><tr><td>IsIn</td><td>False</td></tr><tr><td>IsLcid</td><td>False</td></tr><tr><td>IsOptional</td><td>False</td></tr><tr><td>IsOut</td><td>False</td></tr><tr><td>IsRetval</td><td>False</td></tr><tr><td>CustomAttributes</td><td>[  ]</td></tr></tbody></table></div></details></td></tr><tr><td>ReturnParameter</td><td><details class=\"dni-treeview\"><summary><span class=\"dni-code-hint\"><code>Microsoft.FSharp.Collections.FSharpList`1[T]</code></span></summary><div><table><thead><tr></tr></thead><tbody><tr><td>ParameterType</td><td>Microsoft.FSharp.Collections.FSharpList`1[T]</td></tr><tr><td>Name</td><td><div class=\"dni-plaintext\"><pre>&lt;null&gt;</pre></div></td></tr><tr><td>HasDefaultValue</td><td>True</td></tr><tr><td>DefaultValue</td><td><div class=\"dni-plaintext\"><pre>&lt;null&gt;</pre></div></td></tr><tr><td>RawDefaultValue</td><td><div class=\"dni-plaintext\"><pre>&lt;null&gt;</pre></div></td></tr><tr><td>MetadataToken</td><td>134217728</td></tr><tr><td>Attributes</td><td>None</td></tr><tr><td>Member</td><td>Microsoft.FSharp.Collections.FSharpList`1[T] get_Tail()</td></tr><tr><td>Position</td><td>-1</td></tr><tr><td>IsIn</td><td>False</td></tr><tr><td>IsLcid</td><td>False</td></tr><tr><td>IsOptional</td><td>False</td></tr><tr><td>IsOut</td><td>False</td></tr><tr><td>IsRetval</td><td>False</td></tr><tr><td>CustomAttributes</td><td>[  ]</td></tr></tbody></table></div></details></td></tr><tr><td>IsCollectible</td><td><div class=\"dni-plaintext\"><pre>False</pre></div></td></tr><tr><td>IsGenericMethod</td><td><div class=\"dni-plaintext\"><pre>False</pre></div></td></tr><tr><td>IsGenericMethodDefinition</td><td><div class=\"dni-plaintext\"><pre>False</pre></div></td></tr><tr><td>ContainsGenericParameters</td><td><div class=\"dni-plaintext\"><pre>True</pre></div></td></tr><tr><td>MethodImplementationFlags</td><td><span>IL</span></td></tr><tr><td>IsAbstract</td><td><div class=\"dni-plaintext\"><pre>False</pre></div></td></tr><tr><td>IsConstructor</td><td><div class=\"dni-plaintext\"><pre>False</pre></div></td></tr><tr><td>IsFinal</td><td><div class=\"dni-plaintext\"><pre>False</pre></div></td></tr><tr><td>IsHideBySig</td><td><div class=\"dni-plaintext\"><pre>True</pre></div></td></tr><tr><td>IsSpecialName</td><td><div class=\"dni-plaintext\"><pre>True</pre></div></td></tr><tr><td>IsStatic</td><td><div class=\"dni-plaintext\"><pre>False</pre></div></td></tr><tr><td>IsVirtual</td><td><div class=\"dni-plaintext\"><pre>False</pre></div></td></tr><tr><td>IsAssembly</td><td><div class=\"dni-plaintext\"><pre>False</pre></div></td></tr><tr><td>IsFamily</td><td><div class=\"dni-plaintext\"><pre>False</pre></div></td></tr><tr><td>IsFamilyAndAssembly</td><td><div class=\"dni-plaintext\"><pre>False</pre></div></td></tr><tr><td>IsFamilyOrAssembly</td><td><div class=\"dni-plaintext\"><pre>False</pre></div></td></tr><tr><td>IsPrivate</td><td><div class=\"dni-plaintext\"><pre>False</pre></div></td></tr><tr><td>IsPublic</td><td><div class=\"dni-plaintext\"><pre>True</pre></div></td></tr><tr><td>IsConstructedGenericMethod</td><td><div class=\"dni-plaintext\"><pre>False</pre></div></td></tr><tr><td>CustomAttributes</td><td><i>(empty)</i></td></tr></tbody></table></div></details></td></tr><tr><td>Message</td><td><div class=\"dni-plaintext\"><pre>The input list was empty.</pre></div></td></tr><tr><td>Data</td><td><i>(empty)</i></td></tr><tr><td>InnerException</td><td><div class=\"dni-plaintext\"><pre>&lt;null&gt;</pre></div></td></tr><tr><td>HelpLink</td><td><div class=\"dni-plaintext\"><pre>&lt;null&gt;</pre></div></td></tr><tr><td>Source</td><td><div class=\"dni-plaintext\"><pre>FSharp.Core</pre></div></td></tr><tr><td>HResult</td><td><div class=\"dni-plaintext\"><pre>-2146233079</pre></div></td></tr><tr><td>StackTrace</td><td><div class=\"dni-plaintext\"><pre>   at Microsoft.FSharp.Collections.FSharpList`1.get_Tail() in D:\\a\\_work\\1\\s\\src\\FSharp.Core\\prim-types.fs:line 4091\n",
       "   at lambda_method83(Closure, FSharpList`1)\n",
       "   at Microsoft.DotNet.Interactive.Formatting.MemberAccessor`1.GetValueOrException(T instance) in D:\\a\\_work\\1\\s\\src\\Microsoft.DotNet.Interactive.Formatting\\MemberAccessor{T}.cs:line 58</pre></div></td></tr></tbody></table></div></details></td></tr><tr><td><i>(values)</i></td><td><div class=\"dni-plaintext\"><pre>[  ]</pre></div></td></tr></tbody></table></div></details></td></tr><tr><td>Head</td><td><div class=\"dni-plaintext\"><pre>4</pre></div></td></tr><tr><td>Tail</td><td><details class=\"dni-treeview\"><summary><span class=\"dni-code-hint\"><code>[  ]</code></span></summary><div><table><thead><tr></tr></thead><tbody><tr><td>HeadOrDefault</td><td><div class=\"dni-plaintext\"><pre>0</pre></div></td></tr><tr><td>TailOrNull</td><td><div class=\"dni-plaintext\"><pre>&lt;null&gt;</pre></div></td></tr><tr><td>Head</td><td><details class=\"dni-treeview\"><summary><span class=\"dni-code-hint\"><code>System.InvalidOperationException: The input list was empty.\\n   at Microsoft.FSharp.Collections.FSharpList`1.get_Head() in D:\\a\\_work\\1\\s\\src\\FSharp.Core\\prim-types.fs:line 4086\\n   at lambda_method82(Closure, FSharpList`1)\\n   at Microsoft.DotNet.Interactive.Formatting.MemberAccessor`1.GetValueOrEx...</code></span></summary><div><table><thead><tr></tr></thead><tbody><tr><td>TargetSite</td><td><details class=\"dni-treeview\"><summary><span class=\"dni-code-hint\"><code>T get_Head()</code></span></summary><div><table><thead><tr></tr></thead><tbody><tr><td>Name</td><td><div class=\"dni-plaintext\"><pre>get_Head</pre></div></td></tr><tr><td>DeclaringType</td><td><span><a href=\"https://docs.microsoft.com/dotnet/api/microsoft.fsharp.collections.fsharplist-1?view=net-7.0\">Microsoft.FSharp.Collections.FSharpList&lt;T&gt;</a></span></td></tr><tr><td>ReflectedType</td><td><span><a href=\"https://docs.microsoft.com/dotnet/api/microsoft.fsharp.collections.fsharplist-1?view=net-7.0\">Microsoft.FSharp.Collections.FSharpList&lt;T&gt;</a></span></td></tr><tr><td>MemberType</td><td><span>Method</span></td></tr><tr><td>MetadataToken</td><td><div class=\"dni-plaintext\"><pre>100663762</pre></div></td></tr><tr><td>Module</td><td><details class=\"dni-treeview\"><summary><span class=\"dni-code-hint\"><code>FSharp.Core.dll</code></span></summary><div><table><thead><tr></tr></thead><tbody><tr><td>MDStreamVersion</td><td>131072</td></tr><tr><td>FullyQualifiedName</td><td>/home/rasx/.nuget/packages/microsoft.dotnet-interactive/1.0.440301/tools/net7.0/any/FSharp.Core.dll</td></tr><tr><td>ModuleVersionId</td><td>e3fe3172-48a0-0545-d007-3b58ec61e746</td></tr><tr><td>MetadataToken</td><td>1</td></tr><tr><td>ScopeName</td><td>FSharp.Core.dll</td></tr><tr><td>Name</td><td>FSharp.Core.dll</td></tr><tr><td>Assembly</td><td>FSharp.Core, Version=7.0.0.0, Culture=neutral, PublicKeyToken=b03f5f7f11d50a3a</td></tr><tr><td>ModuleHandle</td><td>System.ModuleHandle</td></tr><tr><td>CustomAttributes</td><td>[  ]</td></tr></tbody></table></div></details></td></tr><tr><td>IsSecurityCritical</td><td><div class=\"dni-plaintext\"><pre>True</pre></div></td></tr><tr><td>IsSecuritySafeCritical</td><td><div class=\"dni-plaintext\"><pre>False</pre></div></td></tr><tr><td>IsSecurityTransparent</td><td><div class=\"dni-plaintext\"><pre>False</pre></div></td></tr><tr><td>MethodHandle</td><td><details class=\"dni-treeview\"><summary><span class=\"dni-code-hint\"><code>System.RuntimeMethodHandle</code></span></summary><div><table><thead><tr></tr></thead><tbody><tr><td>Value</td><td>139679016914744</td></tr></tbody></table></div></details></td></tr><tr><td>Attributes</td><td><span>PrivateScope, Public, HideBySig, SpecialName</span></td></tr><tr><td>CallingConvention</td><td><span>Standard, HasThis</span></td></tr><tr><td>ReturnType</td><td>T</td></tr><tr><td>ReturnTypeCustomAttributes</td><td><details class=\"dni-treeview\"><summary><span class=\"dni-code-hint\"><code>T</code></span></summary><div><table><thead><tr></tr></thead><tbody><tr><td>ParameterType</td><td>T</td></tr><tr><td>Name</td><td><div class=\"dni-plaintext\"><pre>&lt;null&gt;</pre></div></td></tr><tr><td>HasDefaultValue</td><td>True</td></tr><tr><td>DefaultValue</td><td><div class=\"dni-plaintext\"><pre>&lt;null&gt;</pre></div></td></tr><tr><td>RawDefaultValue</td><td><div class=\"dni-plaintext\"><pre>&lt;null&gt;</pre></div></td></tr><tr><td>MetadataToken</td><td>134217728</td></tr><tr><td>Attributes</td><td>None</td></tr><tr><td>Member</td><td>T get_Head()</td></tr><tr><td>Position</td><td>-1</td></tr><tr><td>IsIn</td><td>False</td></tr><tr><td>IsLcid</td><td>False</td></tr><tr><td>IsOptional</td><td>False</td></tr><tr><td>IsOut</td><td>False</td></tr><tr><td>IsRetval</td><td>False</td></tr><tr><td>CustomAttributes</td><td>[  ]</td></tr></tbody></table></div></details></td></tr><tr><td>ReturnParameter</td><td><details class=\"dni-treeview\"><summary><span class=\"dni-code-hint\"><code>T</code></span></summary><div><table><thead><tr></tr></thead><tbody><tr><td>ParameterType</td><td>T</td></tr><tr><td>Name</td><td><div class=\"dni-plaintext\"><pre>&lt;null&gt;</pre></div></td></tr><tr><td>HasDefaultValue</td><td>True</td></tr><tr><td>DefaultValue</td><td><div class=\"dni-plaintext\"><pre>&lt;null&gt;</pre></div></td></tr><tr><td>RawDefaultValue</td><td><div class=\"dni-plaintext\"><pre>&lt;null&gt;</pre></div></td></tr><tr><td>MetadataToken</td><td>134217728</td></tr><tr><td>Attributes</td><td>None</td></tr><tr><td>Member</td><td>T get_Head()</td></tr><tr><td>Position</td><td>-1</td></tr><tr><td>IsIn</td><td>False</td></tr><tr><td>IsLcid</td><td>False</td></tr><tr><td>IsOptional</td><td>False</td></tr><tr><td>IsOut</td><td>False</td></tr><tr><td>IsRetval</td><td>False</td></tr><tr><td>CustomAttributes</td><td>[  ]</td></tr></tbody></table></div></details></td></tr><tr><td>IsCollectible</td><td><div class=\"dni-plaintext\"><pre>False</pre></div></td></tr><tr><td>IsGenericMethod</td><td><div class=\"dni-plaintext\"><pre>False</pre></div></td></tr><tr><td>IsGenericMethodDefinition</td><td><div class=\"dni-plaintext\"><pre>False</pre></div></td></tr><tr><td>ContainsGenericParameters</td><td><div class=\"dni-plaintext\"><pre>True</pre></div></td></tr><tr><td>MethodImplementationFlags</td><td><span>IL</span></td></tr><tr><td>IsAbstract</td><td><div class=\"dni-plaintext\"><pre>False</pre></div></td></tr><tr><td>IsConstructor</td><td><div class=\"dni-plaintext\"><pre>False</pre></div></td></tr><tr><td>IsFinal</td><td><div class=\"dni-plaintext\"><pre>False</pre></div></td></tr><tr><td>IsHideBySig</td><td><div class=\"dni-plaintext\"><pre>True</pre></div></td></tr><tr><td>IsSpecialName</td><td><div class=\"dni-plaintext\"><pre>True</pre></div></td></tr><tr><td>IsStatic</td><td><div class=\"dni-plaintext\"><pre>False</pre></div></td></tr><tr><td>IsVirtual</td><td><div class=\"dni-plaintext\"><pre>False</pre></div></td></tr><tr><td>IsAssembly</td><td><div class=\"dni-plaintext\"><pre>False</pre></div></td></tr><tr><td>IsFamily</td><td><div class=\"dni-plaintext\"><pre>False</pre></div></td></tr><tr><td>IsFamilyAndAssembly</td><td><div class=\"dni-plaintext\"><pre>False</pre></div></td></tr><tr><td>IsFamilyOrAssembly</td><td><div class=\"dni-plaintext\"><pre>False</pre></div></td></tr><tr><td>IsPrivate</td><td><div class=\"dni-plaintext\"><pre>False</pre></div></td></tr><tr><td>IsPublic</td><td><div class=\"dni-plaintext\"><pre>True</pre></div></td></tr><tr><td>IsConstructedGenericMethod</td><td><div class=\"dni-plaintext\"><pre>False</pre></div></td></tr><tr><td>CustomAttributes</td><td><i>(empty)</i></td></tr></tbody></table></div></details></td></tr><tr><td>Message</td><td><div class=\"dni-plaintext\"><pre>The input list was empty.</pre></div></td></tr><tr><td>Data</td><td><i>(empty)</i></td></tr><tr><td>InnerException</td><td><div class=\"dni-plaintext\"><pre>&lt;null&gt;</pre></div></td></tr><tr><td>HelpLink</td><td><div class=\"dni-plaintext\"><pre>&lt;null&gt;</pre></div></td></tr><tr><td>Source</td><td><div class=\"dni-plaintext\"><pre>FSharp.Core</pre></div></td></tr><tr><td>HResult</td><td><div class=\"dni-plaintext\"><pre>-2146233079</pre></div></td></tr><tr><td>StackTrace</td><td><div class=\"dni-plaintext\"><pre>   at Microsoft.FSharp.Collections.FSharpList`1.get_Head() in D:\\a\\_work\\1\\s\\src\\FSharp.Core\\prim-types.fs:line 4086\n",
       "   at lambda_method82(Closure, FSharpList`1)\n",
       "   at Microsoft.DotNet.Interactive.Formatting.MemberAccessor`1.GetValueOrException(T instance) in D:\\a\\_work\\1\\s\\src\\Microsoft.DotNet.Interactive.Formatting\\MemberAccessor{T}.cs:line 58</pre></div></td></tr></tbody></table></div></details></td></tr><tr><td>Tail</td><td><details class=\"dni-treeview\"><summary><span class=\"dni-code-hint\"><code>System.InvalidOperationException: The input list was empty.\\n   at Microsoft.FSharp.Collections.FSharpList`1.get_Tail() in D:\\a\\_work\\1\\s\\src\\FSharp.Core\\prim-types.fs:line 4091\\n   at lambda_method83(Closure, FSharpList`1)\\n   at Microsoft.DotNet.Interactive.Formatting.MemberAccessor`1.GetValueOrEx...</code></span></summary><div><table><thead><tr></tr></thead><tbody><tr><td>TargetSite</td><td><details class=\"dni-treeview\"><summary><span class=\"dni-code-hint\"><code>Microsoft.FSharp.Collections.FSharpList`1[T] get_Tail()</code></span></summary><div><table><thead><tr></tr></thead><tbody><tr><td>Name</td><td><div class=\"dni-plaintext\"><pre>get_Tail</pre></div></td></tr><tr><td>DeclaringType</td><td><span><a href=\"https://docs.microsoft.com/dotnet/api/microsoft.fsharp.collections.fsharplist-1?view=net-7.0\">Microsoft.FSharp.Collections.FSharpList&lt;T&gt;</a></span></td></tr><tr><td>ReflectedType</td><td><span><a href=\"https://docs.microsoft.com/dotnet/api/microsoft.fsharp.collections.fsharplist-1?view=net-7.0\">Microsoft.FSharp.Collections.FSharpList&lt;T&gt;</a></span></td></tr><tr><td>MemberType</td><td><span>Method</span></td></tr><tr><td>MetadataToken</td><td><div class=\"dni-plaintext\"><pre>100663763</pre></div></td></tr><tr><td>Module</td><td><details class=\"dni-treeview\"><summary><span class=\"dni-code-hint\"><code>FSharp.Core.dll</code></span></summary><div><table><thead><tr></tr></thead><tbody><tr><td>MDStreamVersion</td><td>131072</td></tr><tr><td>FullyQualifiedName</td><td>/home/rasx/.nuget/packages/microsoft.dotnet-interactive/1.0.440301/tools/net7.0/any/FSharp.Core.dll</td></tr><tr><td>ModuleVersionId</td><td>e3fe3172-48a0-0545-d007-3b58ec61e746</td></tr><tr><td>MetadataToken</td><td>1</td></tr><tr><td>ScopeName</td><td>FSharp.Core.dll</td></tr><tr><td>Name</td><td>FSharp.Core.dll</td></tr><tr><td>Assembly</td><td>FSharp.Core, Version=7.0.0.0, Culture=neutral, PublicKeyToken=b03f5f7f11d50a3a</td></tr><tr><td>ModuleHandle</td><td>System.ModuleHandle</td></tr><tr><td>CustomAttributes</td><td>[  ]</td></tr></tbody></table></div></details></td></tr><tr><td>IsSecurityCritical</td><td><div class=\"dni-plaintext\"><pre>True</pre></div></td></tr><tr><td>IsSecuritySafeCritical</td><td><div class=\"dni-plaintext\"><pre>False</pre></div></td></tr><tr><td>IsSecurityTransparent</td><td><div class=\"dni-plaintext\"><pre>False</pre></div></td></tr><tr><td>MethodHandle</td><td><details class=\"dni-treeview\"><summary><span class=\"dni-code-hint\"><code>System.RuntimeMethodHandle</code></span></summary><div><table><thead><tr></tr></thead><tbody><tr><td>Value</td><td>139679016914760</td></tr></tbody></table></div></details></td></tr><tr><td>Attributes</td><td><span>PrivateScope, Public, HideBySig, SpecialName</span></td></tr><tr><td>CallingConvention</td><td><span>Standard, HasThis</span></td></tr><tr><td>ReturnType</td><td><span><a href=\"https://docs.microsoft.com/dotnet/api/microsoft.fsharp.collections.fsharplist-1?view=net-7.0\">Microsoft.FSharp.Collections.FSharpList&lt;T&gt;</a></span></td></tr><tr><td>ReturnTypeCustomAttributes</td><td><details class=\"dni-treeview\"><summary><span class=\"dni-code-hint\"><code>Microsoft.FSharp.Collections.FSharpList`1[T]</code></span></summary><div><table><thead><tr></tr></thead><tbody><tr><td>ParameterType</td><td>Microsoft.FSharp.Collections.FSharpList`1[T]</td></tr><tr><td>Name</td><td><div class=\"dni-plaintext\"><pre>&lt;null&gt;</pre></div></td></tr><tr><td>HasDefaultValue</td><td>True</td></tr><tr><td>DefaultValue</td><td><div class=\"dni-plaintext\"><pre>&lt;null&gt;</pre></div></td></tr><tr><td>RawDefaultValue</td><td><div class=\"dni-plaintext\"><pre>&lt;null&gt;</pre></div></td></tr><tr><td>MetadataToken</td><td>134217728</td></tr><tr><td>Attributes</td><td>None</td></tr><tr><td>Member</td><td>Microsoft.FSharp.Collections.FSharpList`1[T] get_Tail()</td></tr><tr><td>Position</td><td>-1</td></tr><tr><td>IsIn</td><td>False</td></tr><tr><td>IsLcid</td><td>False</td></tr><tr><td>IsOptional</td><td>False</td></tr><tr><td>IsOut</td><td>False</td></tr><tr><td>IsRetval</td><td>False</td></tr><tr><td>CustomAttributes</td><td>[  ]</td></tr></tbody></table></div></details></td></tr><tr><td>ReturnParameter</td><td><details class=\"dni-treeview\"><summary><span class=\"dni-code-hint\"><code>Microsoft.FSharp.Collections.FSharpList`1[T]</code></span></summary><div><table><thead><tr></tr></thead><tbody><tr><td>ParameterType</td><td>Microsoft.FSharp.Collections.FSharpList`1[T]</td></tr><tr><td>Name</td><td><div class=\"dni-plaintext\"><pre>&lt;null&gt;</pre></div></td></tr><tr><td>HasDefaultValue</td><td>True</td></tr><tr><td>DefaultValue</td><td><div class=\"dni-plaintext\"><pre>&lt;null&gt;</pre></div></td></tr><tr><td>RawDefaultValue</td><td><div class=\"dni-plaintext\"><pre>&lt;null&gt;</pre></div></td></tr><tr><td>MetadataToken</td><td>134217728</td></tr><tr><td>Attributes</td><td>None</td></tr><tr><td>Member</td><td>Microsoft.FSharp.Collections.FSharpList`1[T] get_Tail()</td></tr><tr><td>Position</td><td>-1</td></tr><tr><td>IsIn</td><td>False</td></tr><tr><td>IsLcid</td><td>False</td></tr><tr><td>IsOptional</td><td>False</td></tr><tr><td>IsOut</td><td>False</td></tr><tr><td>IsRetval</td><td>False</td></tr><tr><td>CustomAttributes</td><td>[  ]</td></tr></tbody></table></div></details></td></tr><tr><td>IsCollectible</td><td><div class=\"dni-plaintext\"><pre>False</pre></div></td></tr><tr><td>IsGenericMethod</td><td><div class=\"dni-plaintext\"><pre>False</pre></div></td></tr><tr><td>IsGenericMethodDefinition</td><td><div class=\"dni-plaintext\"><pre>False</pre></div></td></tr><tr><td>ContainsGenericParameters</td><td><div class=\"dni-plaintext\"><pre>True</pre></div></td></tr><tr><td>MethodImplementationFlags</td><td><span>IL</span></td></tr><tr><td>IsAbstract</td><td><div class=\"dni-plaintext\"><pre>False</pre></div></td></tr><tr><td>IsConstructor</td><td><div class=\"dni-plaintext\"><pre>False</pre></div></td></tr><tr><td>IsFinal</td><td><div class=\"dni-plaintext\"><pre>False</pre></div></td></tr><tr><td>IsHideBySig</td><td><div class=\"dni-plaintext\"><pre>True</pre></div></td></tr><tr><td>IsSpecialName</td><td><div class=\"dni-plaintext\"><pre>True</pre></div></td></tr><tr><td>IsStatic</td><td><div class=\"dni-plaintext\"><pre>False</pre></div></td></tr><tr><td>IsVirtual</td><td><div class=\"dni-plaintext\"><pre>False</pre></div></td></tr><tr><td>IsAssembly</td><td><div class=\"dni-plaintext\"><pre>False</pre></div></td></tr><tr><td>IsFamily</td><td><div class=\"dni-plaintext\"><pre>False</pre></div></td></tr><tr><td>IsFamilyAndAssembly</td><td><div class=\"dni-plaintext\"><pre>False</pre></div></td></tr><tr><td>IsFamilyOrAssembly</td><td><div class=\"dni-plaintext\"><pre>False</pre></div></td></tr><tr><td>IsPrivate</td><td><div class=\"dni-plaintext\"><pre>False</pre></div></td></tr><tr><td>IsPublic</td><td><div class=\"dni-plaintext\"><pre>True</pre></div></td></tr><tr><td>IsConstructedGenericMethod</td><td><div class=\"dni-plaintext\"><pre>False</pre></div></td></tr><tr><td>CustomAttributes</td><td><i>(empty)</i></td></tr></tbody></table></div></details></td></tr><tr><td>Message</td><td><div class=\"dni-plaintext\"><pre>The input list was empty.</pre></div></td></tr><tr><td>Data</td><td><i>(empty)</i></td></tr><tr><td>InnerException</td><td><div class=\"dni-plaintext\"><pre>&lt;null&gt;</pre></div></td></tr><tr><td>HelpLink</td><td><div class=\"dni-plaintext\"><pre>&lt;null&gt;</pre></div></td></tr><tr><td>Source</td><td><div class=\"dni-plaintext\"><pre>FSharp.Core</pre></div></td></tr><tr><td>HResult</td><td><div class=\"dni-plaintext\"><pre>-2146233079</pre></div></td></tr><tr><td>StackTrace</td><td><div class=\"dni-plaintext\"><pre>   at Microsoft.FSharp.Collections.FSharpList`1.get_Tail() in D:\\a\\_work\\1\\s\\src\\FSharp.Core\\prim-types.fs:line 4091\n",
       "   at lambda_method83(Closure, FSharpList`1)\n",
       "   at Microsoft.DotNet.Interactive.Formatting.MemberAccessor`1.GetValueOrException(T instance) in D:\\a\\_work\\1\\s\\src\\Microsoft.DotNet.Interactive.Formatting\\MemberAccessor{T}.cs:line 58</pre></div></td></tr></tbody></table></div></details></td></tr><tr><td><i>(values)</i></td><td><div class=\"dni-plaintext\"><pre>[  ]</pre></div></td></tr></tbody></table></div></details></td></tr><tr><td><i>(values)</i></td><td><div class=\"dni-plaintext\"><pre>[ 4 ]</pre></div></td></tr></tbody></table></div></details></td></tr><tr><td>Head</td><td><div class=\"dni-plaintext\"><pre>2</pre></div></td></tr><tr><td>Tail</td><td><details class=\"dni-treeview\"><summary><span class=\"dni-code-hint\"><code>[ 4 ]</code></span></summary><div><table><thead><tr></tr></thead><tbody><tr><td>HeadOrDefault</td><td><div class=\"dni-plaintext\"><pre>4</pre></div></td></tr><tr><td>TailOrNull</td><td><details class=\"dni-treeview\"><summary><span class=\"dni-code-hint\"><code>[  ]</code></span></summary><div><table><thead><tr></tr></thead><tbody><tr><td>HeadOrDefault</td><td><div class=\"dni-plaintext\"><pre>0</pre></div></td></tr><tr><td>TailOrNull</td><td><div class=\"dni-plaintext\"><pre>&lt;null&gt;</pre></div></td></tr><tr><td>Head</td><td><details class=\"dni-treeview\"><summary><span class=\"dni-code-hint\"><code>System.InvalidOperationException: The input list was empty.\\n   at Microsoft.FSharp.Collections.FSharpList`1.get_Head() in D:\\a\\_work\\1\\s\\src\\FSharp.Core\\prim-types.fs:line 4086\\n   at lambda_method82(Closure, FSharpList`1)\\n   at Microsoft.DotNet.Interactive.Formatting.MemberAccessor`1.GetValueOrEx...</code></span></summary><div><table><thead><tr></tr></thead><tbody><tr><td>TargetSite</td><td><details class=\"dni-treeview\"><summary><span class=\"dni-code-hint\"><code>T get_Head()</code></span></summary><div><table><thead><tr></tr></thead><tbody><tr><td>Name</td><td><div class=\"dni-plaintext\"><pre>get_Head</pre></div></td></tr><tr><td>DeclaringType</td><td><span><a href=\"https://docs.microsoft.com/dotnet/api/microsoft.fsharp.collections.fsharplist-1?view=net-7.0\">Microsoft.FSharp.Collections.FSharpList&lt;T&gt;</a></span></td></tr><tr><td>ReflectedType</td><td><span><a href=\"https://docs.microsoft.com/dotnet/api/microsoft.fsharp.collections.fsharplist-1?view=net-7.0\">Microsoft.FSharp.Collections.FSharpList&lt;T&gt;</a></span></td></tr><tr><td>MemberType</td><td><span>Method</span></td></tr><tr><td>MetadataToken</td><td><div class=\"dni-plaintext\"><pre>100663762</pre></div></td></tr><tr><td>Module</td><td><details class=\"dni-treeview\"><summary><span class=\"dni-code-hint\"><code>FSharp.Core.dll</code></span></summary><div><table><thead><tr></tr></thead><tbody><tr><td>MDStreamVersion</td><td>131072</td></tr><tr><td>FullyQualifiedName</td><td>/home/rasx/.nuget/packages/microsoft.dotnet-interactive/1.0.440301/tools/net7.0/any/FSharp.Core.dll</td></tr><tr><td>ModuleVersionId</td><td>e3fe3172-48a0-0545-d007-3b58ec61e746</td></tr><tr><td>MetadataToken</td><td>1</td></tr><tr><td>ScopeName</td><td>FSharp.Core.dll</td></tr><tr><td>Name</td><td>FSharp.Core.dll</td></tr><tr><td>Assembly</td><td>FSharp.Core, Version=7.0.0.0, Culture=neutral, PublicKeyToken=b03f5f7f11d50a3a</td></tr><tr><td>ModuleHandle</td><td>System.ModuleHandle</td></tr><tr><td>CustomAttributes</td><td>[  ]</td></tr></tbody></table></div></details></td></tr><tr><td>IsSecurityCritical</td><td><div class=\"dni-plaintext\"><pre>True</pre></div></td></tr><tr><td>IsSecuritySafeCritical</td><td><div class=\"dni-plaintext\"><pre>False</pre></div></td></tr><tr><td>IsSecurityTransparent</td><td><div class=\"dni-plaintext\"><pre>False</pre></div></td></tr><tr><td>MethodHandle</td><td><details class=\"dni-treeview\"><summary><span class=\"dni-code-hint\"><code>System.RuntimeMethodHandle</code></span></summary><div><table><thead><tr></tr></thead><tbody><tr><td>Value</td><td>139679016914744</td></tr></tbody></table></div></details></td></tr><tr><td>Attributes</td><td><span>PrivateScope, Public, HideBySig, SpecialName</span></td></tr><tr><td>CallingConvention</td><td><span>Standard, HasThis</span></td></tr><tr><td>ReturnType</td><td>T</td></tr><tr><td>ReturnTypeCustomAttributes</td><td><details class=\"dni-treeview\"><summary><span class=\"dni-code-hint\"><code>T</code></span></summary><div><table><thead><tr></tr></thead><tbody><tr><td>ParameterType</td><td>T</td></tr><tr><td>Name</td><td><div class=\"dni-plaintext\"><pre>&lt;null&gt;</pre></div></td></tr><tr><td>HasDefaultValue</td><td>True</td></tr><tr><td>DefaultValue</td><td><div class=\"dni-plaintext\"><pre>&lt;null&gt;</pre></div></td></tr><tr><td>RawDefaultValue</td><td><div class=\"dni-plaintext\"><pre>&lt;null&gt;</pre></div></td></tr><tr><td>MetadataToken</td><td>134217728</td></tr><tr><td>Attributes</td><td>None</td></tr><tr><td>Member</td><td>T get_Head()</td></tr><tr><td>Position</td><td>-1</td></tr><tr><td>IsIn</td><td>False</td></tr><tr><td>IsLcid</td><td>False</td></tr><tr><td>IsOptional</td><td>False</td></tr><tr><td>IsOut</td><td>False</td></tr><tr><td>IsRetval</td><td>False</td></tr><tr><td>CustomAttributes</td><td>[  ]</td></tr></tbody></table></div></details></td></tr><tr><td>ReturnParameter</td><td><details class=\"dni-treeview\"><summary><span class=\"dni-code-hint\"><code>T</code></span></summary><div><table><thead><tr></tr></thead><tbody><tr><td>ParameterType</td><td>T</td></tr><tr><td>Name</td><td><div class=\"dni-plaintext\"><pre>&lt;null&gt;</pre></div></td></tr><tr><td>HasDefaultValue</td><td>True</td></tr><tr><td>DefaultValue</td><td><div class=\"dni-plaintext\"><pre>&lt;null&gt;</pre></div></td></tr><tr><td>RawDefaultValue</td><td><div class=\"dni-plaintext\"><pre>&lt;null&gt;</pre></div></td></tr><tr><td>MetadataToken</td><td>134217728</td></tr><tr><td>Attributes</td><td>None</td></tr><tr><td>Member</td><td>T get_Head()</td></tr><tr><td>Position</td><td>-1</td></tr><tr><td>IsIn</td><td>False</td></tr><tr><td>IsLcid</td><td>False</td></tr><tr><td>IsOptional</td><td>False</td></tr><tr><td>IsOut</td><td>False</td></tr><tr><td>IsRetval</td><td>False</td></tr><tr><td>CustomAttributes</td><td>[  ]</td></tr></tbody></table></div></details></td></tr><tr><td>IsCollectible</td><td><div class=\"dni-plaintext\"><pre>False</pre></div></td></tr><tr><td>IsGenericMethod</td><td><div class=\"dni-plaintext\"><pre>False</pre></div></td></tr><tr><td>IsGenericMethodDefinition</td><td><div class=\"dni-plaintext\"><pre>False</pre></div></td></tr><tr><td>ContainsGenericParameters</td><td><div class=\"dni-plaintext\"><pre>True</pre></div></td></tr><tr><td>MethodImplementationFlags</td><td><span>IL</span></td></tr><tr><td>IsAbstract</td><td><div class=\"dni-plaintext\"><pre>False</pre></div></td></tr><tr><td>IsConstructor</td><td><div class=\"dni-plaintext\"><pre>False</pre></div></td></tr><tr><td>IsFinal</td><td><div class=\"dni-plaintext\"><pre>False</pre></div></td></tr><tr><td>IsHideBySig</td><td><div class=\"dni-plaintext\"><pre>True</pre></div></td></tr><tr><td>IsSpecialName</td><td><div class=\"dni-plaintext\"><pre>True</pre></div></td></tr><tr><td>IsStatic</td><td><div class=\"dni-plaintext\"><pre>False</pre></div></td></tr><tr><td>IsVirtual</td><td><div class=\"dni-plaintext\"><pre>False</pre></div></td></tr><tr><td>IsAssembly</td><td><div class=\"dni-plaintext\"><pre>False</pre></div></td></tr><tr><td>IsFamily</td><td><div class=\"dni-plaintext\"><pre>False</pre></div></td></tr><tr><td>IsFamilyAndAssembly</td><td><div class=\"dni-plaintext\"><pre>False</pre></div></td></tr><tr><td>IsFamilyOrAssembly</td><td><div class=\"dni-plaintext\"><pre>False</pre></div></td></tr><tr><td>IsPrivate</td><td><div class=\"dni-plaintext\"><pre>False</pre></div></td></tr><tr><td>IsPublic</td><td><div class=\"dni-plaintext\"><pre>True</pre></div></td></tr><tr><td>IsConstructedGenericMethod</td><td><div class=\"dni-plaintext\"><pre>False</pre></div></td></tr><tr><td>CustomAttributes</td><td><i>(empty)</i></td></tr></tbody></table></div></details></td></tr><tr><td>Message</td><td><div class=\"dni-plaintext\"><pre>The input list was empty.</pre></div></td></tr><tr><td>Data</td><td><i>(empty)</i></td></tr><tr><td>InnerException</td><td><div class=\"dni-plaintext\"><pre>&lt;null&gt;</pre></div></td></tr><tr><td>HelpLink</td><td><div class=\"dni-plaintext\"><pre>&lt;null&gt;</pre></div></td></tr><tr><td>Source</td><td><div class=\"dni-plaintext\"><pre>FSharp.Core</pre></div></td></tr><tr><td>HResult</td><td><div class=\"dni-plaintext\"><pre>-2146233079</pre></div></td></tr><tr><td>StackTrace</td><td><div class=\"dni-plaintext\"><pre>   at Microsoft.FSharp.Collections.FSharpList`1.get_Head() in D:\\a\\_work\\1\\s\\src\\FSharp.Core\\prim-types.fs:line 4086\n",
       "   at lambda_method82(Closure, FSharpList`1)\n",
       "   at Microsoft.DotNet.Interactive.Formatting.MemberAccessor`1.GetValueOrException(T instance) in D:\\a\\_work\\1\\s\\src\\Microsoft.DotNet.Interactive.Formatting\\MemberAccessor{T}.cs:line 58</pre></div></td></tr></tbody></table></div></details></td></tr><tr><td>Tail</td><td><details class=\"dni-treeview\"><summary><span class=\"dni-code-hint\"><code>System.InvalidOperationException: The input list was empty.\\n   at Microsoft.FSharp.Collections.FSharpList`1.get_Tail() in D:\\a\\_work\\1\\s\\src\\FSharp.Core\\prim-types.fs:line 4091\\n   at lambda_method83(Closure, FSharpList`1)\\n   at Microsoft.DotNet.Interactive.Formatting.MemberAccessor`1.GetValueOrEx...</code></span></summary><div><table><thead><tr></tr></thead><tbody><tr><td>TargetSite</td><td><details class=\"dni-treeview\"><summary><span class=\"dni-code-hint\"><code>Microsoft.FSharp.Collections.FSharpList`1[T] get_Tail()</code></span></summary><div><table><thead><tr></tr></thead><tbody><tr><td>Name</td><td><div class=\"dni-plaintext\"><pre>get_Tail</pre></div></td></tr><tr><td>DeclaringType</td><td><span><a href=\"https://docs.microsoft.com/dotnet/api/microsoft.fsharp.collections.fsharplist-1?view=net-7.0\">Microsoft.FSharp.Collections.FSharpList&lt;T&gt;</a></span></td></tr><tr><td>ReflectedType</td><td><span><a href=\"https://docs.microsoft.com/dotnet/api/microsoft.fsharp.collections.fsharplist-1?view=net-7.0\">Microsoft.FSharp.Collections.FSharpList&lt;T&gt;</a></span></td></tr><tr><td>MemberType</td><td><span>Method</span></td></tr><tr><td>MetadataToken</td><td><div class=\"dni-plaintext\"><pre>100663763</pre></div></td></tr><tr><td>Module</td><td><details class=\"dni-treeview\"><summary><span class=\"dni-code-hint\"><code>FSharp.Core.dll</code></span></summary><div><table><thead><tr></tr></thead><tbody><tr><td>MDStreamVersion</td><td>131072</td></tr><tr><td>FullyQualifiedName</td><td>/home/rasx/.nuget/packages/microsoft.dotnet-interactive/1.0.440301/tools/net7.0/any/FSharp.Core.dll</td></tr><tr><td>ModuleVersionId</td><td>e3fe3172-48a0-0545-d007-3b58ec61e746</td></tr><tr><td>MetadataToken</td><td>1</td></tr><tr><td>ScopeName</td><td>FSharp.Core.dll</td></tr><tr><td>Name</td><td>FSharp.Core.dll</td></tr><tr><td>Assembly</td><td>FSharp.Core, Version=7.0.0.0, Culture=neutral, PublicKeyToken=b03f5f7f11d50a3a</td></tr><tr><td>ModuleHandle</td><td>System.ModuleHandle</td></tr><tr><td>CustomAttributes</td><td>[  ]</td></tr></tbody></table></div></details></td></tr><tr><td>IsSecurityCritical</td><td><div class=\"dni-plaintext\"><pre>True</pre></div></td></tr><tr><td>IsSecuritySafeCritical</td><td><div class=\"dni-plaintext\"><pre>False</pre></div></td></tr><tr><td>IsSecurityTransparent</td><td><div class=\"dni-plaintext\"><pre>False</pre></div></td></tr><tr><td>MethodHandle</td><td><details class=\"dni-treeview\"><summary><span class=\"dni-code-hint\"><code>System.RuntimeMethodHandle</code></span></summary><div><table><thead><tr></tr></thead><tbody><tr><td>Value</td><td>139679016914760</td></tr></tbody></table></div></details></td></tr><tr><td>Attributes</td><td><span>PrivateScope, Public, HideBySig, SpecialName</span></td></tr><tr><td>CallingConvention</td><td><span>Standard, HasThis</span></td></tr><tr><td>ReturnType</td><td><span><a href=\"https://docs.microsoft.com/dotnet/api/microsoft.fsharp.collections.fsharplist-1?view=net-7.0\">Microsoft.FSharp.Collections.FSharpList&lt;T&gt;</a></span></td></tr><tr><td>ReturnTypeCustomAttributes</td><td><details class=\"dni-treeview\"><summary><span class=\"dni-code-hint\"><code>Microsoft.FSharp.Collections.FSharpList`1[T]</code></span></summary><div><table><thead><tr></tr></thead><tbody><tr><td>ParameterType</td><td>Microsoft.FSharp.Collections.FSharpList`1[T]</td></tr><tr><td>Name</td><td><div class=\"dni-plaintext\"><pre>&lt;null&gt;</pre></div></td></tr><tr><td>HasDefaultValue</td><td>True</td></tr><tr><td>DefaultValue</td><td><div class=\"dni-plaintext\"><pre>&lt;null&gt;</pre></div></td></tr><tr><td>RawDefaultValue</td><td><div class=\"dni-plaintext\"><pre>&lt;null&gt;</pre></div></td></tr><tr><td>MetadataToken</td><td>134217728</td></tr><tr><td>Attributes</td><td>None</td></tr><tr><td>Member</td><td>Microsoft.FSharp.Collections.FSharpList`1[T] get_Tail()</td></tr><tr><td>Position</td><td>-1</td></tr><tr><td>IsIn</td><td>False</td></tr><tr><td>IsLcid</td><td>False</td></tr><tr><td>IsOptional</td><td>False</td></tr><tr><td>IsOut</td><td>False</td></tr><tr><td>IsRetval</td><td>False</td></tr><tr><td>CustomAttributes</td><td>[  ]</td></tr></tbody></table></div></details></td></tr><tr><td>ReturnParameter</td><td><details class=\"dni-treeview\"><summary><span class=\"dni-code-hint\"><code>Microsoft.FSharp.Collections.FSharpList`1[T]</code></span></summary><div><table><thead><tr></tr></thead><tbody><tr><td>ParameterType</td><td>Microsoft.FSharp.Collections.FSharpList`1[T]</td></tr><tr><td>Name</td><td><div class=\"dni-plaintext\"><pre>&lt;null&gt;</pre></div></td></tr><tr><td>HasDefaultValue</td><td>True</td></tr><tr><td>DefaultValue</td><td><div class=\"dni-plaintext\"><pre>&lt;null&gt;</pre></div></td></tr><tr><td>RawDefaultValue</td><td><div class=\"dni-plaintext\"><pre>&lt;null&gt;</pre></div></td></tr><tr><td>MetadataToken</td><td>134217728</td></tr><tr><td>Attributes</td><td>None</td></tr><tr><td>Member</td><td>Microsoft.FSharp.Collections.FSharpList`1[T] get_Tail()</td></tr><tr><td>Position</td><td>-1</td></tr><tr><td>IsIn</td><td>False</td></tr><tr><td>IsLcid</td><td>False</td></tr><tr><td>IsOptional</td><td>False</td></tr><tr><td>IsOut</td><td>False</td></tr><tr><td>IsRetval</td><td>False</td></tr><tr><td>CustomAttributes</td><td>[  ]</td></tr></tbody></table></div></details></td></tr><tr><td>IsCollectible</td><td><div class=\"dni-plaintext\"><pre>False</pre></div></td></tr><tr><td>IsGenericMethod</td><td><div class=\"dni-plaintext\"><pre>False</pre></div></td></tr><tr><td>IsGenericMethodDefinition</td><td><div class=\"dni-plaintext\"><pre>False</pre></div></td></tr><tr><td>ContainsGenericParameters</td><td><div class=\"dni-plaintext\"><pre>True</pre></div></td></tr><tr><td>MethodImplementationFlags</td><td><span>IL</span></td></tr><tr><td>IsAbstract</td><td><div class=\"dni-plaintext\"><pre>False</pre></div></td></tr><tr><td>IsConstructor</td><td><div class=\"dni-plaintext\"><pre>False</pre></div></td></tr><tr><td>IsFinal</td><td><div class=\"dni-plaintext\"><pre>False</pre></div></td></tr><tr><td>IsHideBySig</td><td><div class=\"dni-plaintext\"><pre>True</pre></div></td></tr><tr><td>IsSpecialName</td><td><div class=\"dni-plaintext\"><pre>True</pre></div></td></tr><tr><td>IsStatic</td><td><div class=\"dni-plaintext\"><pre>False</pre></div></td></tr><tr><td>IsVirtual</td><td><div class=\"dni-plaintext\"><pre>False</pre></div></td></tr><tr><td>IsAssembly</td><td><div class=\"dni-plaintext\"><pre>False</pre></div></td></tr><tr><td>IsFamily</td><td><div class=\"dni-plaintext\"><pre>False</pre></div></td></tr><tr><td>IsFamilyAndAssembly</td><td><div class=\"dni-plaintext\"><pre>False</pre></div></td></tr><tr><td>IsFamilyOrAssembly</td><td><div class=\"dni-plaintext\"><pre>False</pre></div></td></tr><tr><td>IsPrivate</td><td><div class=\"dni-plaintext\"><pre>False</pre></div></td></tr><tr><td>IsPublic</td><td><div class=\"dni-plaintext\"><pre>True</pre></div></td></tr><tr><td>IsConstructedGenericMethod</td><td><div class=\"dni-plaintext\"><pre>False</pre></div></td></tr><tr><td>CustomAttributes</td><td><i>(empty)</i></td></tr></tbody></table></div></details></td></tr><tr><td>Message</td><td><div class=\"dni-plaintext\"><pre>The input list was empty.</pre></div></td></tr><tr><td>Data</td><td><i>(empty)</i></td></tr><tr><td>InnerException</td><td><div class=\"dni-plaintext\"><pre>&lt;null&gt;</pre></div></td></tr><tr><td>HelpLink</td><td><div class=\"dni-plaintext\"><pre>&lt;null&gt;</pre></div></td></tr><tr><td>Source</td><td><div class=\"dni-plaintext\"><pre>FSharp.Core</pre></div></td></tr><tr><td>HResult</td><td><div class=\"dni-plaintext\"><pre>-2146233079</pre></div></td></tr><tr><td>StackTrace</td><td><div class=\"dni-plaintext\"><pre>   at Microsoft.FSharp.Collections.FSharpList`1.get_Tail() in D:\\a\\_work\\1\\s\\src\\FSharp.Core\\prim-types.fs:line 4091\n",
       "   at lambda_method83(Closure, FSharpList`1)\n",
       "   at Microsoft.DotNet.Interactive.Formatting.MemberAccessor`1.GetValueOrException(T instance) in D:\\a\\_work\\1\\s\\src\\Microsoft.DotNet.Interactive.Formatting\\MemberAccessor{T}.cs:line 58</pre></div></td></tr></tbody></table></div></details></td></tr><tr><td><i>(values)</i></td><td><div class=\"dni-plaintext\"><pre>[  ]</pre></div></td></tr></tbody></table></div></details></td></tr><tr><td>Head</td><td><div class=\"dni-plaintext\"><pre>4</pre></div></td></tr><tr><td>Tail</td><td><details class=\"dni-treeview\"><summary><span class=\"dni-code-hint\"><code>[  ]</code></span></summary><div><table><thead><tr></tr></thead><tbody><tr><td>HeadOrDefault</td><td><div class=\"dni-plaintext\"><pre>0</pre></div></td></tr><tr><td>TailOrNull</td><td><div class=\"dni-plaintext\"><pre>&lt;null&gt;</pre></div></td></tr><tr><td>Head</td><td><details class=\"dni-treeview\"><summary><span class=\"dni-code-hint\"><code>System.InvalidOperationException: The input list was empty.\\n   at Microsoft.FSharp.Collections.FSharpList`1.get_Head() in D:\\a\\_work\\1\\s\\src\\FSharp.Core\\prim-types.fs:line 4086\\n   at lambda_method82(Closure, FSharpList`1)\\n   at Microsoft.DotNet.Interactive.Formatting.MemberAccessor`1.GetValueOrEx...</code></span></summary><div><table><thead><tr></tr></thead><tbody><tr><td>TargetSite</td><td><details class=\"dni-treeview\"><summary><span class=\"dni-code-hint\"><code>T get_Head()</code></span></summary><div><table><thead><tr></tr></thead><tbody><tr><td>Name</td><td><div class=\"dni-plaintext\"><pre>get_Head</pre></div></td></tr><tr><td>DeclaringType</td><td><span><a href=\"https://docs.microsoft.com/dotnet/api/microsoft.fsharp.collections.fsharplist-1?view=net-7.0\">Microsoft.FSharp.Collections.FSharpList&lt;T&gt;</a></span></td></tr><tr><td>ReflectedType</td><td><span><a href=\"https://docs.microsoft.com/dotnet/api/microsoft.fsharp.collections.fsharplist-1?view=net-7.0\">Microsoft.FSharp.Collections.FSharpList&lt;T&gt;</a></span></td></tr><tr><td>MemberType</td><td><span>Method</span></td></tr><tr><td>MetadataToken</td><td><div class=\"dni-plaintext\"><pre>100663762</pre></div></td></tr><tr><td>Module</td><td><details class=\"dni-treeview\"><summary><span class=\"dni-code-hint\"><code>FSharp.Core.dll</code></span></summary><div><table><thead><tr></tr></thead><tbody><tr><td>MDStreamVersion</td><td>131072</td></tr><tr><td>FullyQualifiedName</td><td>/home/rasx/.nuget/packages/microsoft.dotnet-interactive/1.0.440301/tools/net7.0/any/FSharp.Core.dll</td></tr><tr><td>ModuleVersionId</td><td>e3fe3172-48a0-0545-d007-3b58ec61e746</td></tr><tr><td>MetadataToken</td><td>1</td></tr><tr><td>ScopeName</td><td>FSharp.Core.dll</td></tr><tr><td>Name</td><td>FSharp.Core.dll</td></tr><tr><td>Assembly</td><td>FSharp.Core, Version=7.0.0.0, Culture=neutral, PublicKeyToken=b03f5f7f11d50a3a</td></tr><tr><td>ModuleHandle</td><td>System.ModuleHandle</td></tr><tr><td>CustomAttributes</td><td>[  ]</td></tr></tbody></table></div></details></td></tr><tr><td>IsSecurityCritical</td><td><div class=\"dni-plaintext\"><pre>True</pre></div></td></tr><tr><td>IsSecuritySafeCritical</td><td><div class=\"dni-plaintext\"><pre>False</pre></div></td></tr><tr><td>IsSecurityTransparent</td><td><div class=\"dni-plaintext\"><pre>False</pre></div></td></tr><tr><td>MethodHandle</td><td><details class=\"dni-treeview\"><summary><span class=\"dni-code-hint\"><code>System.RuntimeMethodHandle</code></span></summary><div><table><thead><tr></tr></thead><tbody><tr><td>Value</td><td>139679016914744</td></tr></tbody></table></div></details></td></tr><tr><td>Attributes</td><td><span>PrivateScope, Public, HideBySig, SpecialName</span></td></tr><tr><td>CallingConvention</td><td><span>Standard, HasThis</span></td></tr><tr><td>ReturnType</td><td>T</td></tr><tr><td>ReturnTypeCustomAttributes</td><td><details class=\"dni-treeview\"><summary><span class=\"dni-code-hint\"><code>T</code></span></summary><div><table><thead><tr></tr></thead><tbody><tr><td>ParameterType</td><td>T</td></tr><tr><td>Name</td><td><div class=\"dni-plaintext\"><pre>&lt;null&gt;</pre></div></td></tr><tr><td>HasDefaultValue</td><td>True</td></tr><tr><td>DefaultValue</td><td><div class=\"dni-plaintext\"><pre>&lt;null&gt;</pre></div></td></tr><tr><td>RawDefaultValue</td><td><div class=\"dni-plaintext\"><pre>&lt;null&gt;</pre></div></td></tr><tr><td>MetadataToken</td><td>134217728</td></tr><tr><td>Attributes</td><td>None</td></tr><tr><td>Member</td><td>T get_Head()</td></tr><tr><td>Position</td><td>-1</td></tr><tr><td>IsIn</td><td>False</td></tr><tr><td>IsLcid</td><td>False</td></tr><tr><td>IsOptional</td><td>False</td></tr><tr><td>IsOut</td><td>False</td></tr><tr><td>IsRetval</td><td>False</td></tr><tr><td>CustomAttributes</td><td>[  ]</td></tr></tbody></table></div></details></td></tr><tr><td>ReturnParameter</td><td><details class=\"dni-treeview\"><summary><span class=\"dni-code-hint\"><code>T</code></span></summary><div><table><thead><tr></tr></thead><tbody><tr><td>ParameterType</td><td>T</td></tr><tr><td>Name</td><td><div class=\"dni-plaintext\"><pre>&lt;null&gt;</pre></div></td></tr><tr><td>HasDefaultValue</td><td>True</td></tr><tr><td>DefaultValue</td><td><div class=\"dni-plaintext\"><pre>&lt;null&gt;</pre></div></td></tr><tr><td>RawDefaultValue</td><td><div class=\"dni-plaintext\"><pre>&lt;null&gt;</pre></div></td></tr><tr><td>MetadataToken</td><td>134217728</td></tr><tr><td>Attributes</td><td>None</td></tr><tr><td>Member</td><td>T get_Head()</td></tr><tr><td>Position</td><td>-1</td></tr><tr><td>IsIn</td><td>False</td></tr><tr><td>IsLcid</td><td>False</td></tr><tr><td>IsOptional</td><td>False</td></tr><tr><td>IsOut</td><td>False</td></tr><tr><td>IsRetval</td><td>False</td></tr><tr><td>CustomAttributes</td><td>[  ]</td></tr></tbody></table></div></details></td></tr><tr><td>IsCollectible</td><td><div class=\"dni-plaintext\"><pre>False</pre></div></td></tr><tr><td>IsGenericMethod</td><td><div class=\"dni-plaintext\"><pre>False</pre></div></td></tr><tr><td>IsGenericMethodDefinition</td><td><div class=\"dni-plaintext\"><pre>False</pre></div></td></tr><tr><td>ContainsGenericParameters</td><td><div class=\"dni-plaintext\"><pre>True</pre></div></td></tr><tr><td>MethodImplementationFlags</td><td><span>IL</span></td></tr><tr><td>IsAbstract</td><td><div class=\"dni-plaintext\"><pre>False</pre></div></td></tr><tr><td>IsConstructor</td><td><div class=\"dni-plaintext\"><pre>False</pre></div></td></tr><tr><td>IsFinal</td><td><div class=\"dni-plaintext\"><pre>False</pre></div></td></tr><tr><td>IsHideBySig</td><td><div class=\"dni-plaintext\"><pre>True</pre></div></td></tr><tr><td>IsSpecialName</td><td><div class=\"dni-plaintext\"><pre>True</pre></div></td></tr><tr><td>IsStatic</td><td><div class=\"dni-plaintext\"><pre>False</pre></div></td></tr><tr><td>IsVirtual</td><td><div class=\"dni-plaintext\"><pre>False</pre></div></td></tr><tr><td>IsAssembly</td><td><div class=\"dni-plaintext\"><pre>False</pre></div></td></tr><tr><td>IsFamily</td><td><div class=\"dni-plaintext\"><pre>False</pre></div></td></tr><tr><td>IsFamilyAndAssembly</td><td><div class=\"dni-plaintext\"><pre>False</pre></div></td></tr><tr><td>IsFamilyOrAssembly</td><td><div class=\"dni-plaintext\"><pre>False</pre></div></td></tr><tr><td>IsPrivate</td><td><div class=\"dni-plaintext\"><pre>False</pre></div></td></tr><tr><td>IsPublic</td><td><div class=\"dni-plaintext\"><pre>True</pre></div></td></tr><tr><td>IsConstructedGenericMethod</td><td><div class=\"dni-plaintext\"><pre>False</pre></div></td></tr><tr><td>CustomAttributes</td><td><i>(empty)</i></td></tr></tbody></table></div></details></td></tr><tr><td>Message</td><td><div class=\"dni-plaintext\"><pre>The input list was empty.</pre></div></td></tr><tr><td>Data</td><td><i>(empty)</i></td></tr><tr><td>InnerException</td><td><div class=\"dni-plaintext\"><pre>&lt;null&gt;</pre></div></td></tr><tr><td>HelpLink</td><td><div class=\"dni-plaintext\"><pre>&lt;null&gt;</pre></div></td></tr><tr><td>Source</td><td><div class=\"dni-plaintext\"><pre>FSharp.Core</pre></div></td></tr><tr><td>HResult</td><td><div class=\"dni-plaintext\"><pre>-2146233079</pre></div></td></tr><tr><td>StackTrace</td><td><div class=\"dni-plaintext\"><pre>   at Microsoft.FSharp.Collections.FSharpList`1.get_Head() in D:\\a\\_work\\1\\s\\src\\FSharp.Core\\prim-types.fs:line 4086\n",
       "   at lambda_method82(Closure, FSharpList`1)\n",
       "   at Microsoft.DotNet.Interactive.Formatting.MemberAccessor`1.GetValueOrException(T instance) in D:\\a\\_work\\1\\s\\src\\Microsoft.DotNet.Interactive.Formatting\\MemberAccessor{T}.cs:line 58</pre></div></td></tr></tbody></table></div></details></td></tr><tr><td>Tail</td><td><details class=\"dni-treeview\"><summary><span class=\"dni-code-hint\"><code>System.InvalidOperationException: The input list was empty.\\n   at Microsoft.FSharp.Collections.FSharpList`1.get_Tail() in D:\\a\\_work\\1\\s\\src\\FSharp.Core\\prim-types.fs:line 4091\\n   at lambda_method83(Closure, FSharpList`1)\\n   at Microsoft.DotNet.Interactive.Formatting.MemberAccessor`1.GetValueOrEx...</code></span></summary><div><table><thead><tr></tr></thead><tbody><tr><td>TargetSite</td><td><details class=\"dni-treeview\"><summary><span class=\"dni-code-hint\"><code>Microsoft.FSharp.Collections.FSharpList`1[T] get_Tail()</code></span></summary><div><table><thead><tr></tr></thead><tbody><tr><td>Name</td><td><div class=\"dni-plaintext\"><pre>get_Tail</pre></div></td></tr><tr><td>DeclaringType</td><td><span><a href=\"https://docs.microsoft.com/dotnet/api/microsoft.fsharp.collections.fsharplist-1?view=net-7.0\">Microsoft.FSharp.Collections.FSharpList&lt;T&gt;</a></span></td></tr><tr><td>ReflectedType</td><td><span><a href=\"https://docs.microsoft.com/dotnet/api/microsoft.fsharp.collections.fsharplist-1?view=net-7.0\">Microsoft.FSharp.Collections.FSharpList&lt;T&gt;</a></span></td></tr><tr><td>MemberType</td><td><span>Method</span></td></tr><tr><td>MetadataToken</td><td><div class=\"dni-plaintext\"><pre>100663763</pre></div></td></tr><tr><td>Module</td><td><details class=\"dni-treeview\"><summary><span class=\"dni-code-hint\"><code>FSharp.Core.dll</code></span></summary><div><table><thead><tr></tr></thead><tbody><tr><td>MDStreamVersion</td><td>131072</td></tr><tr><td>FullyQualifiedName</td><td>/home/rasx/.nuget/packages/microsoft.dotnet-interactive/1.0.440301/tools/net7.0/any/FSharp.Core.dll</td></tr><tr><td>ModuleVersionId</td><td>e3fe3172-48a0-0545-d007-3b58ec61e746</td></tr><tr><td>MetadataToken</td><td>1</td></tr><tr><td>ScopeName</td><td>FSharp.Core.dll</td></tr><tr><td>Name</td><td>FSharp.Core.dll</td></tr><tr><td>Assembly</td><td>FSharp.Core, Version=7.0.0.0, Culture=neutral, PublicKeyToken=b03f5f7f11d50a3a</td></tr><tr><td>ModuleHandle</td><td>System.ModuleHandle</td></tr><tr><td>CustomAttributes</td><td>[  ]</td></tr></tbody></table></div></details></td></tr><tr><td>IsSecurityCritical</td><td><div class=\"dni-plaintext\"><pre>True</pre></div></td></tr><tr><td>IsSecuritySafeCritical</td><td><div class=\"dni-plaintext\"><pre>False</pre></div></td></tr><tr><td>IsSecurityTransparent</td><td><div class=\"dni-plaintext\"><pre>False</pre></div></td></tr><tr><td>MethodHandle</td><td><details class=\"dni-treeview\"><summary><span class=\"dni-code-hint\"><code>System.RuntimeMethodHandle</code></span></summary><div><table><thead><tr></tr></thead><tbody><tr><td>Value</td><td>139679016914760</td></tr></tbody></table></div></details></td></tr><tr><td>Attributes</td><td><span>PrivateScope, Public, HideBySig, SpecialName</span></td></tr><tr><td>CallingConvention</td><td><span>Standard, HasThis</span></td></tr><tr><td>ReturnType</td><td><span><a href=\"https://docs.microsoft.com/dotnet/api/microsoft.fsharp.collections.fsharplist-1?view=net-7.0\">Microsoft.FSharp.Collections.FSharpList&lt;T&gt;</a></span></td></tr><tr><td>ReturnTypeCustomAttributes</td><td><details class=\"dni-treeview\"><summary><span class=\"dni-code-hint\"><code>Microsoft.FSharp.Collections.FSharpList`1[T]</code></span></summary><div><table><thead><tr></tr></thead><tbody><tr><td>ParameterType</td><td>Microsoft.FSharp.Collections.FSharpList`1[T]</td></tr><tr><td>Name</td><td><div class=\"dni-plaintext\"><pre>&lt;null&gt;</pre></div></td></tr><tr><td>HasDefaultValue</td><td>True</td></tr><tr><td>DefaultValue</td><td><div class=\"dni-plaintext\"><pre>&lt;null&gt;</pre></div></td></tr><tr><td>RawDefaultValue</td><td><div class=\"dni-plaintext\"><pre>&lt;null&gt;</pre></div></td></tr><tr><td>MetadataToken</td><td>134217728</td></tr><tr><td>Attributes</td><td>None</td></tr><tr><td>Member</td><td>Microsoft.FSharp.Collections.FSharpList`1[T] get_Tail()</td></tr><tr><td>Position</td><td>-1</td></tr><tr><td>IsIn</td><td>False</td></tr><tr><td>IsLcid</td><td>False</td></tr><tr><td>IsOptional</td><td>False</td></tr><tr><td>IsOut</td><td>False</td></tr><tr><td>IsRetval</td><td>False</td></tr><tr><td>CustomAttributes</td><td>[  ]</td></tr></tbody></table></div></details></td></tr><tr><td>ReturnParameter</td><td><details class=\"dni-treeview\"><summary><span class=\"dni-code-hint\"><code>Microsoft.FSharp.Collections.FSharpList`1[T]</code></span></summary><div><table><thead><tr></tr></thead><tbody><tr><td>ParameterType</td><td>Microsoft.FSharp.Collections.FSharpList`1[T]</td></tr><tr><td>Name</td><td><div class=\"dni-plaintext\"><pre>&lt;null&gt;</pre></div></td></tr><tr><td>HasDefaultValue</td><td>True</td></tr><tr><td>DefaultValue</td><td><div class=\"dni-plaintext\"><pre>&lt;null&gt;</pre></div></td></tr><tr><td>RawDefaultValue</td><td><div class=\"dni-plaintext\"><pre>&lt;null&gt;</pre></div></td></tr><tr><td>MetadataToken</td><td>134217728</td></tr><tr><td>Attributes</td><td>None</td></tr><tr><td>Member</td><td>Microsoft.FSharp.Collections.FSharpList`1[T] get_Tail()</td></tr><tr><td>Position</td><td>-1</td></tr><tr><td>IsIn</td><td>False</td></tr><tr><td>IsLcid</td><td>False</td></tr><tr><td>IsOptional</td><td>False</td></tr><tr><td>IsOut</td><td>False</td></tr><tr><td>IsRetval</td><td>False</td></tr><tr><td>CustomAttributes</td><td>[  ]</td></tr></tbody></table></div></details></td></tr><tr><td>IsCollectible</td><td><div class=\"dni-plaintext\"><pre>False</pre></div></td></tr><tr><td>IsGenericMethod</td><td><div class=\"dni-plaintext\"><pre>False</pre></div></td></tr><tr><td>IsGenericMethodDefinition</td><td><div class=\"dni-plaintext\"><pre>False</pre></div></td></tr><tr><td>ContainsGenericParameters</td><td><div class=\"dni-plaintext\"><pre>True</pre></div></td></tr><tr><td>MethodImplementationFlags</td><td><span>IL</span></td></tr><tr><td>IsAbstract</td><td><div class=\"dni-plaintext\"><pre>False</pre></div></td></tr><tr><td>IsConstructor</td><td><div class=\"dni-plaintext\"><pre>False</pre></div></td></tr><tr><td>IsFinal</td><td><div class=\"dni-plaintext\"><pre>False</pre></div></td></tr><tr><td>IsHideBySig</td><td><div class=\"dni-plaintext\"><pre>True</pre></div></td></tr><tr><td>IsSpecialName</td><td><div class=\"dni-plaintext\"><pre>True</pre></div></td></tr><tr><td>IsStatic</td><td><div class=\"dni-plaintext\"><pre>False</pre></div></td></tr><tr><td>IsVirtual</td><td><div class=\"dni-plaintext\"><pre>False</pre></div></td></tr><tr><td>IsAssembly</td><td><div class=\"dni-plaintext\"><pre>False</pre></div></td></tr><tr><td>IsFamily</td><td><div class=\"dni-plaintext\"><pre>False</pre></div></td></tr><tr><td>IsFamilyAndAssembly</td><td><div class=\"dni-plaintext\"><pre>False</pre></div></td></tr><tr><td>IsFamilyOrAssembly</td><td><div class=\"dni-plaintext\"><pre>False</pre></div></td></tr><tr><td>IsPrivate</td><td><div class=\"dni-plaintext\"><pre>False</pre></div></td></tr><tr><td>IsPublic</td><td><div class=\"dni-plaintext\"><pre>True</pre></div></td></tr><tr><td>IsConstructedGenericMethod</td><td><div class=\"dni-plaintext\"><pre>False</pre></div></td></tr><tr><td>CustomAttributes</td><td><i>(empty)</i></td></tr></tbody></table></div></details></td></tr><tr><td>Message</td><td><div class=\"dni-plaintext\"><pre>The input list was empty.</pre></div></td></tr><tr><td>Data</td><td><i>(empty)</i></td></tr><tr><td>InnerException</td><td><div class=\"dni-plaintext\"><pre>&lt;null&gt;</pre></div></td></tr><tr><td>HelpLink</td><td><div class=\"dni-plaintext\"><pre>&lt;null&gt;</pre></div></td></tr><tr><td>Source</td><td><div class=\"dni-plaintext\"><pre>FSharp.Core</pre></div></td></tr><tr><td>HResult</td><td><div class=\"dni-plaintext\"><pre>-2146233079</pre></div></td></tr><tr><td>StackTrace</td><td><div class=\"dni-plaintext\"><pre>   at Microsoft.FSharp.Collections.FSharpList`1.get_Tail() in D:\\a\\_work\\1\\s\\src\\FSharp.Core\\prim-types.fs:line 4091\n",
       "   at lambda_method83(Closure, FSharpList`1)\n",
       "   at Microsoft.DotNet.Interactive.Formatting.MemberAccessor`1.GetValueOrException(T instance) in D:\\a\\_work\\1\\s\\src\\Microsoft.DotNet.Interactive.Formatting\\MemberAccessor{T}.cs:line 58</pre></div></td></tr></tbody></table></div></details></td></tr><tr><td><i>(values)</i></td><td><div class=\"dni-plaintext\"><pre>[  ]</pre></div></td></tr></tbody></table></div></details></td></tr><tr><td><i>(values)</i></td><td><div class=\"dni-plaintext\"><pre>[ 4 ]</pre></div></td></tr></tbody></table></div></details></td></tr><tr><td><i>(values)</i></td><td><div class=\"dni-plaintext\"><pre>[ 2, 4 ]</pre></div></td></tr></tbody></table></div></details><style>\r\n",
       ".dni-code-hint {\r\n",
       "    font-style: italic;\r\n",
       "    overflow: hidden;\r\n",
       "    white-space: nowrap;\r\n",
       "}\r\n",
       ".dni-treeview {\r\n",
       "    white-space: nowrap;\r\n",
       "}\r\n",
       ".dni-treeview td {\r\n",
       "    vertical-align: top;\r\n",
       "    text-align: start;\r\n",
       "}\r\n",
       "details.dni-treeview {\r\n",
       "    padding-left: 1em;\r\n",
       "}\r\n",
       "table td {\r\n",
       "    text-align: start;\r\n",
       "}\r\n",
       "table tr { \r\n",
       "    vertical-align: top; \r\n",
       "    margin: 0em 0px;\r\n",
       "}\r\n",
       "table tr td pre \r\n",
       "{ \r\n",
       "    vertical-align: top !important; \r\n",
       "    margin: 0em 0px !important;\r\n",
       "} \r\n",
       "table th {\r\n",
       "    text-align: start;\r\n",
       "}\r\n",
       "</style>"
      ]
     },
     "metadata": {},
     "output_type": "display_data"
    }
   ],
   "source": [
    "#!fsharp\n",
    "\n",
    "let evens list =\n",
    "    let isEven x = x%2 = 0  //an inner (“nested”) function\n",
    "    List.filter isEven list // `List.filter` is a library function\n",
    "\n",
    "evens oneToFive"
   ]
  },
  {
   "cell_type": "markdown",
   "metadata": {},
   "source": [
    ">In F# returns are implicit—no `return` needed. A function always returns the value of the last expression used."
   ]
  },
  {
   "cell_type": "code",
   "execution_count": 7,
   "metadata": {
    "dotnet_interactive": {
     "language": "fsharp"
    },
    "vscode": {
     "languageId": "polyglot-notebook"
    }
   },
   "outputs": [
    {
     "data": {
      "text/html": [
       "<div class=\"dni-plaintext\"><pre>338350</pre></div><style>\r\n",
       ".dni-code-hint {\r\n",
       "    font-style: italic;\r\n",
       "    overflow: hidden;\r\n",
       "    white-space: nowrap;\r\n",
       "}\r\n",
       ".dni-treeview {\r\n",
       "    white-space: nowrap;\r\n",
       "}\r\n",
       ".dni-treeview td {\r\n",
       "    vertical-align: top;\r\n",
       "    text-align: start;\r\n",
       "}\r\n",
       "details.dni-treeview {\r\n",
       "    padding-left: 1em;\r\n",
       "}\r\n",
       "table td {\r\n",
       "    text-align: start;\r\n",
       "}\r\n",
       "table tr { \r\n",
       "    vertical-align: top; \r\n",
       "    margin: 0em 0px;\r\n",
       "}\r\n",
       "table tr td pre \r\n",
       "{ \r\n",
       "    vertical-align: top !important; \r\n",
       "    margin: 0em 0px !important;\r\n",
       "} \r\n",
       "table th {\r\n",
       "    text-align: start;\r\n",
       "}\r\n",
       "</style>"
      ]
     },
     "metadata": {},
     "output_type": "display_data"
    }
   ],
   "source": [
    "#!fsharp\n",
    "\n",
    "let sumOfSquaresTo100 =\n",
    "    List.sum ( List.map square [1..100] ) // use parens to clarify precedence\n",
    "\n",
    "sumOfSquaresTo100"
   ]
  },
  {
   "cell_type": "code",
   "execution_count": 8,
   "metadata": {
    "dotnet_interactive": {
     "language": "fsharp"
    },
    "vscode": {
     "languageId": "polyglot-notebook"
    }
   },
   "outputs": [
    {
     "data": {
      "text/html": [
       "<div class=\"dni-plaintext\"><pre>338350</pre></div><style>\r\n",
       ".dni-code-hint {\r\n",
       "    font-style: italic;\r\n",
       "    overflow: hidden;\r\n",
       "    white-space: nowrap;\r\n",
       "}\r\n",
       ".dni-treeview {\r\n",
       "    white-space: nowrap;\r\n",
       "}\r\n",
       ".dni-treeview td {\r\n",
       "    vertical-align: top;\r\n",
       "    text-align: start;\r\n",
       "}\r\n",
       "details.dni-treeview {\r\n",
       "    padding-left: 1em;\r\n",
       "}\r\n",
       "table td {\r\n",
       "    text-align: start;\r\n",
       "}\r\n",
       "table tr { \r\n",
       "    vertical-align: top; \r\n",
       "    margin: 0em 0px;\r\n",
       "}\r\n",
       "table tr td pre \r\n",
       "{ \r\n",
       "    vertical-align: top !important; \r\n",
       "    margin: 0em 0px !important;\r\n",
       "} \r\n",
       "table th {\r\n",
       "    text-align: start;\r\n",
       "}\r\n",
       "</style>"
      ]
     },
     "metadata": {},
     "output_type": "display_data"
    }
   ],
   "source": [
    "#!fsharp\n",
    "\n",
    "let sumOfSquaresTo100piped =\n",
    "   [1..100] |> List.map square |> List.sum // use `|>` to state precedence\n",
    "\n",
    "sumOfSquaresTo100piped"
   ]
  },
  {
   "cell_type": "code",
   "execution_count": 9,
   "metadata": {
    "dotnet_interactive": {
     "language": "fsharp"
    },
    "tags": [],
    "vscode": {
     "languageId": "polyglot-notebook"
    }
   },
   "outputs": [
    {
     "data": {
      "text/html": [
       "<div class=\"dni-plaintext\"><pre>338350</pre></div><style>\r\n",
       ".dni-code-hint {\r\n",
       "    font-style: italic;\r\n",
       "    overflow: hidden;\r\n",
       "    white-space: nowrap;\r\n",
       "}\r\n",
       ".dni-treeview {\r\n",
       "    white-space: nowrap;\r\n",
       "}\r\n",
       ".dni-treeview td {\r\n",
       "    vertical-align: top;\r\n",
       "    text-align: start;\r\n",
       "}\r\n",
       "details.dni-treeview {\r\n",
       "    padding-left: 1em;\r\n",
       "}\r\n",
       "table td {\r\n",
       "    text-align: start;\r\n",
       "}\r\n",
       "table tr { \r\n",
       "    vertical-align: top; \r\n",
       "    margin: 0em 0px;\r\n",
       "}\r\n",
       "table tr td pre \r\n",
       "{ \r\n",
       "    vertical-align: top !important; \r\n",
       "    margin: 0em 0px !important;\r\n",
       "} \r\n",
       "table th {\r\n",
       "    text-align: start;\r\n",
       "}\r\n",
       "</style>"
      ]
     },
     "metadata": {},
     "output_type": "display_data"
    }
   ],
   "source": [
    "#!fsharp\n",
    "\n",
    "let sumOfSquaresTo100withFun =\n",
    "   [1..100] |> List.map (fun x->x*x) |> List.sum // use `fun` to define lambda functions inline\n",
    "\n",
    "sumOfSquaresTo100withFun"
   ]
  },
  {
   "cell_type": "code",
   "execution_count": 10,
   "metadata": {
    "dotnet_interactive": {
     "language": "fsharp"
    },
    "tags": [],
    "vscode": {
     "languageId": "polyglot-notebook"
    }
   },
   "outputs": [
    {
     "name": "stdout",
     "output_type": "stream",
     "text": [
      "x is a\n",
      "x is b\n",
      "x is something else\n",
      "\n"
     ]
    }
   ],
   "source": [
    "#!fsharp\n",
    "\n",
    "let simplePatternMatch x =\n",
    "   match x with\n",
    "    | \"a\" -> printfn \"x is a\"\n",
    "    | \"b\" -> printfn \"x is b\"\n",
    "    | _ -> printfn \"x is something else\\n\" // underscore matches anything\n",
    "\n",
    "simplePatternMatch \"a\"\n",
    "simplePatternMatch \"b\"\n",
    "\"g (piped in)\" |> simplePatternMatch"
   ]
  },
  {
   "cell_type": "code",
   "execution_count": 11,
   "metadata": {
    "dotnet_interactive": {
     "language": "fsharp"
    },
    "tags": [],
    "vscode": {
     "languageId": "polyglot-notebook"
    }
   },
   "outputs": [
    {
     "name": "stdout",
     "output_type": "stream",
     "text": [
      "x is a (shorter)\n",
      "x is b (shorter)\n",
      "x is something else (shorter)\n",
      "\n"
     ]
    }
   ],
   "source": [
    "#!fsharp\n",
    "\n",
    "let simplePatternMatchShorter = function\n",
    "    | \"a\" -> printfn \"x is a (shorter)\"\n",
    "    | \"b\" -> printfn \"x is b (shorter)\"\n",
    "    | _ -> printfn \"x is something else (shorter)\\n\"\n",
    "\n",
    "simplePatternMatchShorter \"a\"\n",
    "simplePatternMatchShorter \"b\"\n",
    "simplePatternMatchShorter \"g\""
   ]
  },
  {
   "cell_type": "markdown",
   "metadata": {},
   "source": [
    "`function` is used as “a match expression in a lambda expression that has pattern matching on a single argument.”\n",
    "\n",
    "[ 📖 https://docs.microsoft.com/en-us/dotnet/fsharp/language-reference/keyword-reference ]\n"
   ]
  },
  {
   "cell_type": "code",
   "execution_count": 12,
   "metadata": {
    "dotnet_interactive": {
     "language": "fsharp"
    },
    "tags": [],
    "vscode": {
     "languageId": "polyglot-notebook"
    }
   },
   "outputs": [
    {
     "name": "stdout",
     "output_type": "stream",
     "text": [
      "input is an int=99\n",
      "input is missing\n"
     ]
    }
   ],
   "source": [
    "#!fsharp\n",
    "\n",
    "// Some(..) and None are roughly analogous to Nullable wrappers\n",
    "let validValue = Some(99)\n",
    "let invalidValue = None\n",
    "\n",
    "let optionPatternMatch input = // `input` is an option type\n",
    "   match input with\n",
    "    | Some i -> printfn \"input is an int=%d\" i\n",
    "    | None -> printfn \"input is missing\"\n",
    "\n",
    "optionPatternMatch validValue\n",
    "optionPatternMatch invalidValue"
   ]
  },
  {
   "cell_type": "code",
   "execution_count": 13,
   "metadata": {
    "dotnet_interactive": {
     "language": "fsharp"
    },
    "vscode": {
     "languageId": "polyglot-notebook"
    }
   },
   "outputs": [
    {
     "data": {
      "text/html": [
       "<details open=\"open\" class=\"dni-treeview\"><summary><span class=\"dni-code-hint\"><code>(1, 2)</code></span></summary><div><table><thead><tr></tr></thead><tbody><tr><td>Item1</td><td><div class=\"dni-plaintext\"><pre>1</pre></div></td></tr><tr><td>Item2</td><td><div class=\"dni-plaintext\"><pre>2</pre></div></td></tr></tbody></table></div></details><style>\r\n",
       ".dni-code-hint {\r\n",
       "    font-style: italic;\r\n",
       "    overflow: hidden;\r\n",
       "    white-space: nowrap;\r\n",
       "}\r\n",
       ".dni-treeview {\r\n",
       "    white-space: nowrap;\r\n",
       "}\r\n",
       ".dni-treeview td {\r\n",
       "    vertical-align: top;\r\n",
       "    text-align: start;\r\n",
       "}\r\n",
       "details.dni-treeview {\r\n",
       "    padding-left: 1em;\r\n",
       "}\r\n",
       "table td {\r\n",
       "    text-align: start;\r\n",
       "}\r\n",
       "table tr { \r\n",
       "    vertical-align: top; \r\n",
       "    margin: 0em 0px;\r\n",
       "}\r\n",
       "table tr td pre \r\n",
       "{ \r\n",
       "    vertical-align: top !important; \r\n",
       "    margin: 0em 0px !important;\r\n",
       "} \r\n",
       "table th {\r\n",
       "    text-align: start;\r\n",
       "}\r\n",
       "</style>"
      ]
     },
     "metadata": {},
     "output_type": "display_data"
    }
   ],
   "source": [
    "#!fsharp\n",
    "\n",
    "let twoTuple = 1,2 // Tuples use commas.\n",
    "twoTuple           // Tuple"
   ]
  },
  {
   "cell_type": "code",
   "execution_count": 14,
   "metadata": {
    "dotnet_interactive": {
     "language": "fsharp"
    },
    "vscode": {
     "languageId": "polyglot-notebook"
    }
   },
   "outputs": [
    {
     "data": {
      "text/html": [
       "<details open=\"open\" class=\"dni-treeview\"><summary><span class=\"dni-code-hint\"><code>(a, 2, True)</code></span></summary><div><table><thead><tr></tr></thead><tbody><tr><td>Item1</td><td><div class=\"dni-plaintext\"><pre>a</pre></div></td></tr><tr><td>Item2</td><td><div class=\"dni-plaintext\"><pre>2</pre></div></td></tr><tr><td>Item3</td><td><div class=\"dni-plaintext\"><pre>True</pre></div></td></tr></tbody></table></div></details><style>\r\n",
       ".dni-code-hint {\r\n",
       "    font-style: italic;\r\n",
       "    overflow: hidden;\r\n",
       "    white-space: nowrap;\r\n",
       "}\r\n",
       ".dni-treeview {\r\n",
       "    white-space: nowrap;\r\n",
       "}\r\n",
       ".dni-treeview td {\r\n",
       "    vertical-align: top;\r\n",
       "    text-align: start;\r\n",
       "}\r\n",
       "details.dni-treeview {\r\n",
       "    padding-left: 1em;\r\n",
       "}\r\n",
       "table td {\r\n",
       "    text-align: start;\r\n",
       "}\r\n",
       "table tr { \r\n",
       "    vertical-align: top; \r\n",
       "    margin: 0em 0px;\r\n",
       "}\r\n",
       "table tr td pre \r\n",
       "{ \r\n",
       "    vertical-align: top !important; \r\n",
       "    margin: 0em 0px !important;\r\n",
       "} \r\n",
       "table th {\r\n",
       "    text-align: start;\r\n",
       "}\r\n",
       "</style>"
      ]
     },
     "metadata": {},
     "output_type": "display_data"
    }
   ],
   "source": [
    "#!fsharp\n",
    "\n",
    "let threeTuple = \"a\",2,true\n",
    "threeTuple // Tuple of multiple types"
   ]
  },
  {
   "cell_type": "code",
   "execution_count": 15,
   "metadata": {
    "dotnet_interactive": {
     "language": "fsharp"
    },
    "vscode": {
     "languageId": "polyglot-notebook"
    }
   },
   "outputs": [
    {
     "data": {
      "text/html": [
       "<details open=\"open\" class=\"dni-treeview\"><summary><span class=\"dni-code-hint\"><code>((1, 2), (a, 2, True))</code></span></summary><div><table><thead><tr></tr></thead><tbody><tr><td>Item1</td><td><details class=\"dni-treeview\"><summary><span class=\"dni-code-hint\"><code>(1, 2)</code></span></summary><div><table><thead><tr></tr></thead><tbody><tr><td>Item1</td><td><div class=\"dni-plaintext\"><pre>1</pre></div></td></tr><tr><td>Item2</td><td><div class=\"dni-plaintext\"><pre>2</pre></div></td></tr></tbody></table></div></details></td></tr><tr><td>Item2</td><td><details class=\"dni-treeview\"><summary><span class=\"dni-code-hint\"><code>(a, 2, True)</code></span></summary><div><table><thead><tr></tr></thead><tbody><tr><td>Item1</td><td><div class=\"dni-plaintext\"><pre>a</pre></div></td></tr><tr><td>Item2</td><td><div class=\"dni-plaintext\"><pre>2</pre></div></td></tr><tr><td>Item3</td><td><div class=\"dni-plaintext\"><pre>True</pre></div></td></tr></tbody></table></div></details></td></tr></tbody></table></div></details><style>\r\n",
       ".dni-code-hint {\r\n",
       "    font-style: italic;\r\n",
       "    overflow: hidden;\r\n",
       "    white-space: nowrap;\r\n",
       "}\r\n",
       ".dni-treeview {\r\n",
       "    white-space: nowrap;\r\n",
       "}\r\n",
       ".dni-treeview td {\r\n",
       "    vertical-align: top;\r\n",
       "    text-align: start;\r\n",
       "}\r\n",
       "details.dni-treeview {\r\n",
       "    padding-left: 1em;\r\n",
       "}\r\n",
       "table td {\r\n",
       "    text-align: start;\r\n",
       "}\r\n",
       "table tr { \r\n",
       "    vertical-align: top; \r\n",
       "    margin: 0em 0px;\r\n",
       "}\r\n",
       "table tr td pre \r\n",
       "{ \r\n",
       "    vertical-align: top !important; \r\n",
       "    margin: 0em 0px !important;\r\n",
       "} \r\n",
       "table th {\r\n",
       "    text-align: start;\r\n",
       "}\r\n",
       "</style>"
      ]
     },
     "metadata": {},
     "output_type": "display_data"
    }
   ],
   "source": [
    "#!fsharp\n",
    "\n",
    "(twoTuple, threeTuple) // Tuple of Tuples"
   ]
  },
  {
   "cell_type": "code",
   "execution_count": 16,
   "metadata": {
    "dotnet_interactive": {
     "language": "fsharp"
    },
    "tags": [],
    "vscode": {
     "languageId": "polyglot-notebook"
    }
   },
   "outputs": [
    {
     "data": {
      "text/html": [
       "<details open=\"open\" class=\"dni-treeview\"><summary><span class=\"dni-code-hint\"><code>DegreesF 98.6</code></span></summary><div><table><thead><tr></tr></thead><tbody><tr><td>Item</td><td><div class=\"dni-plaintext\"><pre>98.6</pre></div></td></tr></tbody></table></div></details><style>\r\n",
       ".dni-code-hint {\r\n",
       "    font-style: italic;\r\n",
       "    overflow: hidden;\r\n",
       "    white-space: nowrap;\r\n",
       "}\r\n",
       ".dni-treeview {\r\n",
       "    white-space: nowrap;\r\n",
       "}\r\n",
       ".dni-treeview td {\r\n",
       "    vertical-align: top;\r\n",
       "    text-align: start;\r\n",
       "}\r\n",
       "details.dni-treeview {\r\n",
       "    padding-left: 1em;\r\n",
       "}\r\n",
       "table td {\r\n",
       "    text-align: start;\r\n",
       "}\r\n",
       "table tr { \r\n",
       "    vertical-align: top; \r\n",
       "    margin: 0em 0px;\r\n",
       "}\r\n",
       "table tr td pre \r\n",
       "{ \r\n",
       "    vertical-align: top !important; \r\n",
       "    margin: 0em 0px !important;\r\n",
       "} \r\n",
       "table th {\r\n",
       "    text-align: start;\r\n",
       "}\r\n",
       "</style>"
      ]
     },
     "metadata": {},
     "output_type": "display_data"
    }
   ],
   "source": [
    "#!fsharp\n",
    "\n",
    "type Person = {First:string; Last:string}\n",
    "let person1 = {First=\"John\"; Last=\"Doe\"}\n",
    "person1 // Record type\n",
    "\n",
    "type Temp = \n",
    "    | DegreesC of float\n",
    "    | DegreesF of float\n",
    "\n",
    "let temp1 =  98.6 |> DegreesF // looks like units with pipe syntax?\n",
    "temp1 // discriminated union (union type) output"
   ]
  },
  {
   "cell_type": "code",
   "execution_count": 17,
   "metadata": {
    "dotnet_interactive": {
     "language": "fsharp"
    },
    "vscode": {
     "languageId": "polyglot-notebook"
    }
   },
   "outputs": [
    {
     "data": {
      "text/html": [
       "<div class=\"dni-plaintext\"><pre>True</pre></div><style>\r\n",
       ".dni-code-hint {\r\n",
       "    font-style: italic;\r\n",
       "    overflow: hidden;\r\n",
       "    white-space: nowrap;\r\n",
       "}\r\n",
       ".dni-treeview {\r\n",
       "    white-space: nowrap;\r\n",
       "}\r\n",
       ".dni-treeview td {\r\n",
       "    vertical-align: top;\r\n",
       "    text-align: start;\r\n",
       "}\r\n",
       "details.dni-treeview {\r\n",
       "    padding-left: 1em;\r\n",
       "}\r\n",
       "table td {\r\n",
       "    text-align: start;\r\n",
       "}\r\n",
       "table tr { \r\n",
       "    vertical-align: top; \r\n",
       "    margin: 0em 0px;\r\n",
       "}\r\n",
       "table tr td pre \r\n",
       "{ \r\n",
       "    vertical-align: top !important; \r\n",
       "    margin: 0em 0px !important;\r\n",
       "} \r\n",
       "table th {\r\n",
       "    text-align: start;\r\n",
       "}\r\n",
       "</style>"
      ]
     },
     "metadata": {},
     "output_type": "display_data"
    }
   ],
   "source": [
    "#!fsharp\n",
    "\n",
    "let temp2 =  DegreesF 98.6\n",
    "\n",
    "let areEqual = temp1 = temp2\n",
    "areEqual"
   ]
  },
  {
   "cell_type": "code",
   "execution_count": 18,
   "metadata": {
    "dotnet_interactive": {
     "language": "fsharp"
    },
    "vscode": {
     "languageId": "polyglot-notebook"
    }
   },
   "outputs": [
    {
     "data": {
      "text/html": [
       "<div class=\"dni-plaintext\"><pre>True</pre></div><style>\r\n",
       ".dni-code-hint {\r\n",
       "    font-style: italic;\r\n",
       "    overflow: hidden;\r\n",
       "    white-space: nowrap;\r\n",
       "}\r\n",
       ".dni-treeview {\r\n",
       "    white-space: nowrap;\r\n",
       "}\r\n",
       ".dni-treeview td {\r\n",
       "    vertical-align: top;\r\n",
       "    text-align: start;\r\n",
       "}\r\n",
       "details.dni-treeview {\r\n",
       "    padding-left: 1em;\r\n",
       "}\r\n",
       "table td {\r\n",
       "    text-align: start;\r\n",
       "}\r\n",
       "table tr { \r\n",
       "    vertical-align: top; \r\n",
       "    margin: 0em 0px;\r\n",
       "}\r\n",
       "table tr td pre \r\n",
       "{ \r\n",
       "    vertical-align: top !important; \r\n",
       "    margin: 0em 0px !important;\r\n",
       "} \r\n",
       "table th {\r\n",
       "    text-align: start;\r\n",
       "}\r\n",
       "</style>"
      ]
     },
     "metadata": {},
     "output_type": "display_data"
    }
   ],
   "source": [
    "#!fsharp\n",
    "\n",
    "let areNotEqual = not (temp1 <> temp2)\n",
    "areNotEqual"
   ]
  },
  {
   "cell_type": "code",
   "execution_count": 19,
   "metadata": {
    "dotnet_interactive": {
     "language": "fsharp"
    },
    "vscode": {
     "languageId": "polyglot-notebook"
    }
   },
   "outputs": [
    {
     "data": {
      "text/html": [
       "<details open=\"open\" class=\"dni-treeview\"><summary><span class=\"dni-code-hint\"><code>Worker { First = &quot;John&quot;\\n         Last = &quot;Doe&quot; }</code></span></summary><div><table><thead><tr></tr></thead><tbody><tr><td>Item</td><td><details class=\"dni-treeview\"><summary><span class=\"dni-code-hint\"><code>{ First = &quot;John&quot;\\n  Last = &quot;Doe&quot; }</code></span></summary><div><table><thead><tr></tr></thead><tbody><tr><td>First</td><td><div class=\"dni-plaintext\"><pre>John</pre></div></td></tr><tr><td>Last</td><td><div class=\"dni-plaintext\"><pre>Doe</pre></div></td></tr></tbody></table></div></details></td></tr></tbody></table></div></details><style>\r\n",
       ".dni-code-hint {\r\n",
       "    font-style: italic;\r\n",
       "    overflow: hidden;\r\n",
       "    white-space: nowrap;\r\n",
       "}\r\n",
       ".dni-treeview {\r\n",
       "    white-space: nowrap;\r\n",
       "}\r\n",
       ".dni-treeview td {\r\n",
       "    vertical-align: top;\r\n",
       "    text-align: start;\r\n",
       "}\r\n",
       "details.dni-treeview {\r\n",
       "    padding-left: 1em;\r\n",
       "}\r\n",
       "table td {\r\n",
       "    text-align: start;\r\n",
       "}\r\n",
       "table tr { \r\n",
       "    vertical-align: top; \r\n",
       "    margin: 0em 0px;\r\n",
       "}\r\n",
       "table tr td pre \r\n",
       "{ \r\n",
       "    vertical-align: top !important; \r\n",
       "    margin: 0em 0px !important;\r\n",
       "} \r\n",
       "table th {\r\n",
       "    text-align: start;\r\n",
       "}\r\n",
       "</style>"
      ]
     },
     "metadata": {},
     "output_type": "display_data"
    }
   ],
   "source": [
    "#!fsharp\n",
    "\n",
    "type Employee = \n",
    "    | Worker of Person\n",
    "    | Manager of Employee list\n",
    "\n",
    "let jdoe = {First=\"John\";Last=\"Doe\"}\n",
    "let worker = Worker jdoe\n",
    "worker // recursive discriminated union"
   ]
  },
  {
   "cell_type": "code",
   "execution_count": 20,
   "metadata": {
    "dotnet_interactive": {
     "language": "fsharp"
    },
    "tags": [],
    "vscode": {
     "languageId": "polyglot-notebook"
    }
   },
   "outputs": [
    {
     "data": {
      "text/html": [
       "<details open=\"open\" class=\"dni-treeview\"><summary><span class=\"dni-code-hint\"><code>Manager [Worker { First = &quot;Bloke&quot;\\n                  Last = &quot;One&quot; }; Worker { First = &quot;Bloke&quot;\\n                                           Last = &quot;Two&quot; }]</code></span></summary><div><table><thead><tr></tr></thead><tbody><tr><td>Item</td><td><details class=\"dni-treeview\"><summary><span class=\"dni-code-hint\"><code>[ Worker { First = &quot;Bloke&quot;\n",
       "         Last = &quot;One&quot; }, Worker { First = &quot;Bloke&quot;\n",
       "         Last = &quot;Two&quot; } ]</code></span></summary><div><table><thead><tr></tr></thead><tbody><tr><td>HeadOrDefault</td><td><details class=\"dni-treeview\"><summary><span class=\"dni-code-hint\"><code>Worker { First = &quot;Bloke&quot;\\n         Last = &quot;One&quot; }</code></span></summary><div><table><thead><tr></tr></thead><tbody><tr><td>Item</td><td><details class=\"dni-treeview\"><summary><span class=\"dni-code-hint\"><code>{ First = &quot;Bloke&quot;\\n  Last = &quot;One&quot; }</code></span></summary><div><table><thead><tr></tr></thead><tbody><tr><td>First</td><td><div class=\"dni-plaintext\"><pre>Bloke</pre></div></td></tr><tr><td>Last</td><td><div class=\"dni-plaintext\"><pre>One</pre></div></td></tr></tbody></table></div></details></td></tr></tbody></table></div></details></td></tr><tr><td>TailOrNull</td><td><details class=\"dni-treeview\"><summary><span class=\"dni-code-hint\"><code>[ Worker { First = &quot;Bloke&quot;\n",
       "         Last = &quot;Two&quot; } ]</code></span></summary><div><table><thead><tr></tr></thead><tbody><tr><td>HeadOrDefault</td><td><details class=\"dni-treeview\"><summary><span class=\"dni-code-hint\"><code>Worker { First = &quot;Bloke&quot;\\n         Last = &quot;Two&quot; }</code></span></summary><div><table><thead><tr></tr></thead><tbody><tr><td>Item</td><td><details class=\"dni-treeview\"><summary><span class=\"dni-code-hint\"><code>{ First = &quot;Bloke&quot;\\n  Last = &quot;Two&quot; }</code></span></summary><div><table><thead><tr></tr></thead><tbody><tr><td>First</td><td><div class=\"dni-plaintext\"><pre>Bloke</pre></div></td></tr><tr><td>Last</td><td><div class=\"dni-plaintext\"><pre>Two</pre></div></td></tr></tbody></table></div></details></td></tr></tbody></table></div></details></td></tr><tr><td>TailOrNull</td><td><details class=\"dni-treeview\"><summary><span class=\"dni-code-hint\"><code>[  ]</code></span></summary><div><table><thead><tr></tr></thead><tbody><tr><td>HeadOrDefault</td><td><div class=\"dni-plaintext\"><pre>&lt;null&gt;</pre></div></td></tr><tr><td>TailOrNull</td><td><div class=\"dni-plaintext\"><pre>&lt;null&gt;</pre></div></td></tr><tr><td>Head</td><td><details class=\"dni-treeview\"><summary><span class=\"dni-code-hint\"><code>System.InvalidOperationException: The input list was empty.\\n   at Microsoft.FSharp.Collections.FSharpList`1.get_Head() in D:\\a\\_work\\1\\s\\src\\FSharp.Core\\prim-types.fs:line 4086\\n   at lambda_method353(Closure, FSharpList`1)\\n   at Microsoft.DotNet.Interactive.Formatting.MemberAccessor`1.GetValueOrE...</code></span></summary><div><table><thead><tr></tr></thead><tbody><tr><td>TargetSite</td><td><details class=\"dni-treeview\"><summary><span class=\"dni-code-hint\"><code>T get_Head()</code></span></summary><div><table><thead><tr></tr></thead><tbody><tr><td>Name</td><td>get_Head</td></tr><tr><td>DeclaringType</td><td>Microsoft.FSharp.Collections.FSharpList`1[T]</td></tr><tr><td>ReflectedType</td><td>Microsoft.FSharp.Collections.FSharpList`1[T]</td></tr><tr><td>MemberType</td><td>Method</td></tr><tr><td>MetadataToken</td><td>100663762</td></tr><tr><td>Module</td><td>FSharp.Core.dll</td></tr><tr><td>IsSecurityCritical</td><td>True</td></tr><tr><td>IsSecuritySafeCritical</td><td>False</td></tr><tr><td>IsSecurityTransparent</td><td>False</td></tr><tr><td>MethodHandle</td><td>System.RuntimeMethodHandle</td></tr><tr><td>Attributes</td><td>PrivateScope, Public, HideBySig, SpecialName</td></tr><tr><td>CallingConvention</td><td>Standard, HasThis</td></tr><tr><td>ReturnType</td><td>T</td></tr><tr><td>ReturnTypeCustomAttributes</td><td>T</td></tr><tr><td>ReturnParameter</td><td>T</td></tr><tr><td>IsCollectible</td><td>False</td></tr><tr><td>IsGenericMethod</td><td>False</td></tr><tr><td>IsGenericMethodDefinition</td><td>False</td></tr><tr><td>ContainsGenericParameters</td><td>True</td></tr><tr><td>MethodImplementationFlags</td><td>IL</td></tr><tr><td>IsAbstract</td><td>False</td></tr><tr><td>IsConstructor</td><td>False</td></tr><tr><td>IsFinal</td><td>False</td></tr><tr><td>IsHideBySig</td><td>True</td></tr><tr><td>IsSpecialName</td><td>True</td></tr><tr><td>IsStatic</td><td>False</td></tr><tr><td>IsVirtual</td><td>False</td></tr><tr><td>IsAssembly</td><td>False</td></tr><tr><td>IsFamily</td><td>False</td></tr><tr><td>IsFamilyAndAssembly</td><td>False</td></tr><tr><td>IsFamilyOrAssembly</td><td>False</td></tr><tr><td>IsPrivate</td><td>False</td></tr><tr><td>IsPublic</td><td>True</td></tr><tr><td>IsConstructedGenericMethod</td><td>False</td></tr><tr><td>CustomAttributes</td><td>[  ]</td></tr></tbody></table></div></details></td></tr><tr><td>Message</td><td><div class=\"dni-plaintext\"><pre>The input list was empty.</pre></div></td></tr><tr><td>Data</td><td><i>(empty)</i></td></tr><tr><td>InnerException</td><td><div class=\"dni-plaintext\"><pre>&lt;null&gt;</pre></div></td></tr><tr><td>HelpLink</td><td><div class=\"dni-plaintext\"><pre>&lt;null&gt;</pre></div></td></tr><tr><td>Source</td><td><div class=\"dni-plaintext\"><pre>FSharp.Core</pre></div></td></tr><tr><td>HResult</td><td><div class=\"dni-plaintext\"><pre>-2146233079</pre></div></td></tr><tr><td>StackTrace</td><td><div class=\"dni-plaintext\"><pre>   at Microsoft.FSharp.Collections.FSharpList`1.get_Head() in D:\\a\\_work\\1\\s\\src\\FSharp.Core\\prim-types.fs:line 4086\n",
       "   at lambda_method353(Closure, FSharpList`1)\n",
       "   at Microsoft.DotNet.Interactive.Formatting.MemberAccessor`1.GetValueOrException(T instance) in D:\\a\\_work\\1\\s\\src\\Microsoft.DotNet.Interactive.Formatting\\MemberAccessor{T}.cs:line 58</pre></div></td></tr></tbody></table></div></details></td></tr><tr><td>Tail</td><td><details class=\"dni-treeview\"><summary><span class=\"dni-code-hint\"><code>System.InvalidOperationException: The input list was empty.\\n   at Microsoft.FSharp.Collections.FSharpList`1.get_Tail() in D:\\a\\_work\\1\\s\\src\\FSharp.Core\\prim-types.fs:line 4091\\n   at lambda_method354(Closure, FSharpList`1)\\n   at Microsoft.DotNet.Interactive.Formatting.MemberAccessor`1.GetValueOrE...</code></span></summary><div><table><thead><tr></tr></thead><tbody><tr><td>TargetSite</td><td><details class=\"dni-treeview\"><summary><span class=\"dni-code-hint\"><code>Microsoft.FSharp.Collections.FSharpList`1[T] get_Tail()</code></span></summary><div><table><thead><tr></tr></thead><tbody><tr><td>Name</td><td>get_Tail</td></tr><tr><td>DeclaringType</td><td>Microsoft.FSharp.Collections.FSharpList`1[T]</td></tr><tr><td>ReflectedType</td><td>Microsoft.FSharp.Collections.FSharpList`1[T]</td></tr><tr><td>MemberType</td><td>Method</td></tr><tr><td>MetadataToken</td><td>100663763</td></tr><tr><td>Module</td><td>FSharp.Core.dll</td></tr><tr><td>IsSecurityCritical</td><td>True</td></tr><tr><td>IsSecuritySafeCritical</td><td>False</td></tr><tr><td>IsSecurityTransparent</td><td>False</td></tr><tr><td>MethodHandle</td><td>System.RuntimeMethodHandle</td></tr><tr><td>Attributes</td><td>PrivateScope, Public, HideBySig, SpecialName</td></tr><tr><td>CallingConvention</td><td>Standard, HasThis</td></tr><tr><td>ReturnType</td><td>Microsoft.FSharp.Collections.FSharpList`1[T]</td></tr><tr><td>ReturnTypeCustomAttributes</td><td>Microsoft.FSharp.Collections.FSharpList`1[T]</td></tr><tr><td>ReturnParameter</td><td>Microsoft.FSharp.Collections.FSharpList`1[T]</td></tr><tr><td>IsCollectible</td><td>False</td></tr><tr><td>IsGenericMethod</td><td>False</td></tr><tr><td>IsGenericMethodDefinition</td><td>False</td></tr><tr><td>ContainsGenericParameters</td><td>True</td></tr><tr><td>MethodImplementationFlags</td><td>IL</td></tr><tr><td>IsAbstract</td><td>False</td></tr><tr><td>IsConstructor</td><td>False</td></tr><tr><td>IsFinal</td><td>False</td></tr><tr><td>IsHideBySig</td><td>True</td></tr><tr><td>IsSpecialName</td><td>True</td></tr><tr><td>IsStatic</td><td>False</td></tr><tr><td>IsVirtual</td><td>False</td></tr><tr><td>IsAssembly</td><td>False</td></tr><tr><td>IsFamily</td><td>False</td></tr><tr><td>IsFamilyAndAssembly</td><td>False</td></tr><tr><td>IsFamilyOrAssembly</td><td>False</td></tr><tr><td>IsPrivate</td><td>False</td></tr><tr><td>IsPublic</td><td>True</td></tr><tr><td>IsConstructedGenericMethod</td><td>False</td></tr><tr><td>CustomAttributes</td><td>[  ]</td></tr></tbody></table></div></details></td></tr><tr><td>Message</td><td><div class=\"dni-plaintext\"><pre>The input list was empty.</pre></div></td></tr><tr><td>Data</td><td><i>(empty)</i></td></tr><tr><td>InnerException</td><td><div class=\"dni-plaintext\"><pre>&lt;null&gt;</pre></div></td></tr><tr><td>HelpLink</td><td><div class=\"dni-plaintext\"><pre>&lt;null&gt;</pre></div></td></tr><tr><td>Source</td><td><div class=\"dni-plaintext\"><pre>FSharp.Core</pre></div></td></tr><tr><td>HResult</td><td><div class=\"dni-plaintext\"><pre>-2146233079</pre></div></td></tr><tr><td>StackTrace</td><td><div class=\"dni-plaintext\"><pre>   at Microsoft.FSharp.Collections.FSharpList`1.get_Tail() in D:\\a\\_work\\1\\s\\src\\FSharp.Core\\prim-types.fs:line 4091\n",
       "   at lambda_method354(Closure, FSharpList`1)\n",
       "   at Microsoft.DotNet.Interactive.Formatting.MemberAccessor`1.GetValueOrException(T instance) in D:\\a\\_work\\1\\s\\src\\Microsoft.DotNet.Interactive.Formatting\\MemberAccessor{T}.cs:line 58</pre></div></td></tr></tbody></table></div></details></td></tr><tr><td><i>(values)</i></td><td><i>(empty)</i></td></tr></tbody></table></div></details></td></tr><tr><td>Head</td><td><details class=\"dni-treeview\"><summary><span class=\"dni-code-hint\"><code>Worker { First = &quot;Bloke&quot;\\n         Last = &quot;Two&quot; }</code></span></summary><div><table><thead><tr></tr></thead><tbody><tr><td>Item</td><td><details class=\"dni-treeview\"><summary><span class=\"dni-code-hint\"><code>{ First = &quot;Bloke&quot;\\n  Last = &quot;Two&quot; }</code></span></summary><div><table><thead><tr></tr></thead><tbody><tr><td>First</td><td><div class=\"dni-plaintext\"><pre>Bloke</pre></div></td></tr><tr><td>Last</td><td><div class=\"dni-plaintext\"><pre>Two</pre></div></td></tr></tbody></table></div></details></td></tr></tbody></table></div></details></td></tr><tr><td>Tail</td><td><details class=\"dni-treeview\"><summary><span class=\"dni-code-hint\"><code>[  ]</code></span></summary><div><table><thead><tr></tr></thead><tbody><tr><td>HeadOrDefault</td><td><div class=\"dni-plaintext\"><pre>&lt;null&gt;</pre></div></td></tr><tr><td>TailOrNull</td><td><div class=\"dni-plaintext\"><pre>&lt;null&gt;</pre></div></td></tr><tr><td>Head</td><td><details class=\"dni-treeview\"><summary><span class=\"dni-code-hint\"><code>System.InvalidOperationException: The input list was empty.\\n   at Microsoft.FSharp.Collections.FSharpList`1.get_Head() in D:\\a\\_work\\1\\s\\src\\FSharp.Core\\prim-types.fs:line 4086\\n   at lambda_method353(Closure, FSharpList`1)\\n   at Microsoft.DotNet.Interactive.Formatting.MemberAccessor`1.GetValueOrE...</code></span></summary><div><table><thead><tr></tr></thead><tbody><tr><td>TargetSite</td><td><details class=\"dni-treeview\"><summary><span class=\"dni-code-hint\"><code>T get_Head()</code></span></summary><div><table><thead><tr></tr></thead><tbody><tr><td>Name</td><td>get_Head</td></tr><tr><td>DeclaringType</td><td>Microsoft.FSharp.Collections.FSharpList`1[T]</td></tr><tr><td>ReflectedType</td><td>Microsoft.FSharp.Collections.FSharpList`1[T]</td></tr><tr><td>MemberType</td><td>Method</td></tr><tr><td>MetadataToken</td><td>100663762</td></tr><tr><td>Module</td><td>FSharp.Core.dll</td></tr><tr><td>IsSecurityCritical</td><td>True</td></tr><tr><td>IsSecuritySafeCritical</td><td>False</td></tr><tr><td>IsSecurityTransparent</td><td>False</td></tr><tr><td>MethodHandle</td><td>System.RuntimeMethodHandle</td></tr><tr><td>Attributes</td><td>PrivateScope, Public, HideBySig, SpecialName</td></tr><tr><td>CallingConvention</td><td>Standard, HasThis</td></tr><tr><td>ReturnType</td><td>T</td></tr><tr><td>ReturnTypeCustomAttributes</td><td>T</td></tr><tr><td>ReturnParameter</td><td>T</td></tr><tr><td>IsCollectible</td><td>False</td></tr><tr><td>IsGenericMethod</td><td>False</td></tr><tr><td>IsGenericMethodDefinition</td><td>False</td></tr><tr><td>ContainsGenericParameters</td><td>True</td></tr><tr><td>MethodImplementationFlags</td><td>IL</td></tr><tr><td>IsAbstract</td><td>False</td></tr><tr><td>IsConstructor</td><td>False</td></tr><tr><td>IsFinal</td><td>False</td></tr><tr><td>IsHideBySig</td><td>True</td></tr><tr><td>IsSpecialName</td><td>True</td></tr><tr><td>IsStatic</td><td>False</td></tr><tr><td>IsVirtual</td><td>False</td></tr><tr><td>IsAssembly</td><td>False</td></tr><tr><td>IsFamily</td><td>False</td></tr><tr><td>IsFamilyAndAssembly</td><td>False</td></tr><tr><td>IsFamilyOrAssembly</td><td>False</td></tr><tr><td>IsPrivate</td><td>False</td></tr><tr><td>IsPublic</td><td>True</td></tr><tr><td>IsConstructedGenericMethod</td><td>False</td></tr><tr><td>CustomAttributes</td><td>[  ]</td></tr></tbody></table></div></details></td></tr><tr><td>Message</td><td><div class=\"dni-plaintext\"><pre>The input list was empty.</pre></div></td></tr><tr><td>Data</td><td><i>(empty)</i></td></tr><tr><td>InnerException</td><td><div class=\"dni-plaintext\"><pre>&lt;null&gt;</pre></div></td></tr><tr><td>HelpLink</td><td><div class=\"dni-plaintext\"><pre>&lt;null&gt;</pre></div></td></tr><tr><td>Source</td><td><div class=\"dni-plaintext\"><pre>FSharp.Core</pre></div></td></tr><tr><td>HResult</td><td><div class=\"dni-plaintext\"><pre>-2146233079</pre></div></td></tr><tr><td>StackTrace</td><td><div class=\"dni-plaintext\"><pre>   at Microsoft.FSharp.Collections.FSharpList`1.get_Head() in D:\\a\\_work\\1\\s\\src\\FSharp.Core\\prim-types.fs:line 4086\n",
       "   at lambda_method353(Closure, FSharpList`1)\n",
       "   at Microsoft.DotNet.Interactive.Formatting.MemberAccessor`1.GetValueOrException(T instance) in D:\\a\\_work\\1\\s\\src\\Microsoft.DotNet.Interactive.Formatting\\MemberAccessor{T}.cs:line 58</pre></div></td></tr></tbody></table></div></details></td></tr><tr><td>Tail</td><td><details class=\"dni-treeview\"><summary><span class=\"dni-code-hint\"><code>System.InvalidOperationException: The input list was empty.\\n   at Microsoft.FSharp.Collections.FSharpList`1.get_Tail() in D:\\a\\_work\\1\\s\\src\\FSharp.Core\\prim-types.fs:line 4091\\n   at lambda_method354(Closure, FSharpList`1)\\n   at Microsoft.DotNet.Interactive.Formatting.MemberAccessor`1.GetValueOrE...</code></span></summary><div><table><thead><tr></tr></thead><tbody><tr><td>TargetSite</td><td><details class=\"dni-treeview\"><summary><span class=\"dni-code-hint\"><code>Microsoft.FSharp.Collections.FSharpList`1[T] get_Tail()</code></span></summary><div><table><thead><tr></tr></thead><tbody><tr><td>Name</td><td>get_Tail</td></tr><tr><td>DeclaringType</td><td>Microsoft.FSharp.Collections.FSharpList`1[T]</td></tr><tr><td>ReflectedType</td><td>Microsoft.FSharp.Collections.FSharpList`1[T]</td></tr><tr><td>MemberType</td><td>Method</td></tr><tr><td>MetadataToken</td><td>100663763</td></tr><tr><td>Module</td><td>FSharp.Core.dll</td></tr><tr><td>IsSecurityCritical</td><td>True</td></tr><tr><td>IsSecuritySafeCritical</td><td>False</td></tr><tr><td>IsSecurityTransparent</td><td>False</td></tr><tr><td>MethodHandle</td><td>System.RuntimeMethodHandle</td></tr><tr><td>Attributes</td><td>PrivateScope, Public, HideBySig, SpecialName</td></tr><tr><td>CallingConvention</td><td>Standard, HasThis</td></tr><tr><td>ReturnType</td><td>Microsoft.FSharp.Collections.FSharpList`1[T]</td></tr><tr><td>ReturnTypeCustomAttributes</td><td>Microsoft.FSharp.Collections.FSharpList`1[T]</td></tr><tr><td>ReturnParameter</td><td>Microsoft.FSharp.Collections.FSharpList`1[T]</td></tr><tr><td>IsCollectible</td><td>False</td></tr><tr><td>IsGenericMethod</td><td>False</td></tr><tr><td>IsGenericMethodDefinition</td><td>False</td></tr><tr><td>ContainsGenericParameters</td><td>True</td></tr><tr><td>MethodImplementationFlags</td><td>IL</td></tr><tr><td>IsAbstract</td><td>False</td></tr><tr><td>IsConstructor</td><td>False</td></tr><tr><td>IsFinal</td><td>False</td></tr><tr><td>IsHideBySig</td><td>True</td></tr><tr><td>IsSpecialName</td><td>True</td></tr><tr><td>IsStatic</td><td>False</td></tr><tr><td>IsVirtual</td><td>False</td></tr><tr><td>IsAssembly</td><td>False</td></tr><tr><td>IsFamily</td><td>False</td></tr><tr><td>IsFamilyAndAssembly</td><td>False</td></tr><tr><td>IsFamilyOrAssembly</td><td>False</td></tr><tr><td>IsPrivate</td><td>False</td></tr><tr><td>IsPublic</td><td>True</td></tr><tr><td>IsConstructedGenericMethod</td><td>False</td></tr><tr><td>CustomAttributes</td><td>[  ]</td></tr></tbody></table></div></details></td></tr><tr><td>Message</td><td><div class=\"dni-plaintext\"><pre>The input list was empty.</pre></div></td></tr><tr><td>Data</td><td><i>(empty)</i></td></tr><tr><td>InnerException</td><td><div class=\"dni-plaintext\"><pre>&lt;null&gt;</pre></div></td></tr><tr><td>HelpLink</td><td><div class=\"dni-plaintext\"><pre>&lt;null&gt;</pre></div></td></tr><tr><td>Source</td><td><div class=\"dni-plaintext\"><pre>FSharp.Core</pre></div></td></tr><tr><td>HResult</td><td><div class=\"dni-plaintext\"><pre>-2146233079</pre></div></td></tr><tr><td>StackTrace</td><td><div class=\"dni-plaintext\"><pre>   at Microsoft.FSharp.Collections.FSharpList`1.get_Tail() in D:\\a\\_work\\1\\s\\src\\FSharp.Core\\prim-types.fs:line 4091\n",
       "   at lambda_method354(Closure, FSharpList`1)\n",
       "   at Microsoft.DotNet.Interactive.Formatting.MemberAccessor`1.GetValueOrException(T instance) in D:\\a\\_work\\1\\s\\src\\Microsoft.DotNet.Interactive.Formatting\\MemberAccessor{T}.cs:line 58</pre></div></td></tr></tbody></table></div></details></td></tr><tr><td><i>(values)</i></td><td><i>(empty)</i></td></tr></tbody></table></div></details></td></tr><tr><td><i>(values)</i></td><td><table><thead><tr><th><i>index</i></th><th>value</th></tr></thead><tbody><tr><td>0</td><td><details class=\"dni-treeview\"><summary><span class=\"dni-code-hint\"><code>Worker { First = &quot;Bloke&quot;\\n         Last = &quot;Two&quot; }</code></span></summary><div><table><thead><tr></tr></thead><tbody><tr><td>Item</td><td><details class=\"dni-treeview\"><summary><span class=\"dni-code-hint\"><code>{ First = &quot;Bloke&quot;\\n  Last = &quot;Two&quot; }</code></span></summary><div><table><thead><tr></tr></thead><tbody><tr><td>First</td><td><div class=\"dni-plaintext\"><pre>Bloke</pre></div></td></tr><tr><td>Last</td><td><div class=\"dni-plaintext\"><pre>Two</pre></div></td></tr></tbody></table></div></details></td></tr></tbody></table></div></details></td></tr></tbody></table></td></tr></tbody></table></div></details></td></tr><tr><td>Head</td><td><details class=\"dni-treeview\"><summary><span class=\"dni-code-hint\"><code>Worker { First = &quot;Bloke&quot;\\n         Last = &quot;One&quot; }</code></span></summary><div><table><thead><tr></tr></thead><tbody><tr><td>Item</td><td><details class=\"dni-treeview\"><summary><span class=\"dni-code-hint\"><code>{ First = &quot;Bloke&quot;\\n  Last = &quot;One&quot; }</code></span></summary><div><table><thead><tr></tr></thead><tbody><tr><td>First</td><td><div class=\"dni-plaintext\"><pre>Bloke</pre></div></td></tr><tr><td>Last</td><td><div class=\"dni-plaintext\"><pre>One</pre></div></td></tr></tbody></table></div></details></td></tr></tbody></table></div></details></td></tr><tr><td>Tail</td><td><details class=\"dni-treeview\"><summary><span class=\"dni-code-hint\"><code>[ Worker { First = &quot;Bloke&quot;\n",
       "         Last = &quot;Two&quot; } ]</code></span></summary><div><table><thead><tr></tr></thead><tbody><tr><td>HeadOrDefault</td><td><details class=\"dni-treeview\"><summary><span class=\"dni-code-hint\"><code>Worker { First = &quot;Bloke&quot;\\n         Last = &quot;Two&quot; }</code></span></summary><div><table><thead><tr></tr></thead><tbody><tr><td>Item</td><td><details class=\"dni-treeview\"><summary><span class=\"dni-code-hint\"><code>{ First = &quot;Bloke&quot;\\n  Last = &quot;Two&quot; }</code></span></summary><div><table><thead><tr></tr></thead><tbody><tr><td>First</td><td><div class=\"dni-plaintext\"><pre>Bloke</pre></div></td></tr><tr><td>Last</td><td><div class=\"dni-plaintext\"><pre>Two</pre></div></td></tr></tbody></table></div></details></td></tr></tbody></table></div></details></td></tr><tr><td>TailOrNull</td><td><details class=\"dni-treeview\"><summary><span class=\"dni-code-hint\"><code>[  ]</code></span></summary><div><table><thead><tr></tr></thead><tbody><tr><td>HeadOrDefault</td><td><div class=\"dni-plaintext\"><pre>&lt;null&gt;</pre></div></td></tr><tr><td>TailOrNull</td><td><div class=\"dni-plaintext\"><pre>&lt;null&gt;</pre></div></td></tr><tr><td>Head</td><td><details class=\"dni-treeview\"><summary><span class=\"dni-code-hint\"><code>System.InvalidOperationException: The input list was empty.\\n   at Microsoft.FSharp.Collections.FSharpList`1.get_Head() in D:\\a\\_work\\1\\s\\src\\FSharp.Core\\prim-types.fs:line 4086\\n   at lambda_method353(Closure, FSharpList`1)\\n   at Microsoft.DotNet.Interactive.Formatting.MemberAccessor`1.GetValueOrE...</code></span></summary><div><table><thead><tr></tr></thead><tbody><tr><td>TargetSite</td><td><details class=\"dni-treeview\"><summary><span class=\"dni-code-hint\"><code>T get_Head()</code></span></summary><div><table><thead><tr></tr></thead><tbody><tr><td>Name</td><td>get_Head</td></tr><tr><td>DeclaringType</td><td>Microsoft.FSharp.Collections.FSharpList`1[T]</td></tr><tr><td>ReflectedType</td><td>Microsoft.FSharp.Collections.FSharpList`1[T]</td></tr><tr><td>MemberType</td><td>Method</td></tr><tr><td>MetadataToken</td><td>100663762</td></tr><tr><td>Module</td><td>FSharp.Core.dll</td></tr><tr><td>IsSecurityCritical</td><td>True</td></tr><tr><td>IsSecuritySafeCritical</td><td>False</td></tr><tr><td>IsSecurityTransparent</td><td>False</td></tr><tr><td>MethodHandle</td><td>System.RuntimeMethodHandle</td></tr><tr><td>Attributes</td><td>PrivateScope, Public, HideBySig, SpecialName</td></tr><tr><td>CallingConvention</td><td>Standard, HasThis</td></tr><tr><td>ReturnType</td><td>T</td></tr><tr><td>ReturnTypeCustomAttributes</td><td>T</td></tr><tr><td>ReturnParameter</td><td>T</td></tr><tr><td>IsCollectible</td><td>False</td></tr><tr><td>IsGenericMethod</td><td>False</td></tr><tr><td>IsGenericMethodDefinition</td><td>False</td></tr><tr><td>ContainsGenericParameters</td><td>True</td></tr><tr><td>MethodImplementationFlags</td><td>IL</td></tr><tr><td>IsAbstract</td><td>False</td></tr><tr><td>IsConstructor</td><td>False</td></tr><tr><td>IsFinal</td><td>False</td></tr><tr><td>IsHideBySig</td><td>True</td></tr><tr><td>IsSpecialName</td><td>True</td></tr><tr><td>IsStatic</td><td>False</td></tr><tr><td>IsVirtual</td><td>False</td></tr><tr><td>IsAssembly</td><td>False</td></tr><tr><td>IsFamily</td><td>False</td></tr><tr><td>IsFamilyAndAssembly</td><td>False</td></tr><tr><td>IsFamilyOrAssembly</td><td>False</td></tr><tr><td>IsPrivate</td><td>False</td></tr><tr><td>IsPublic</td><td>True</td></tr><tr><td>IsConstructedGenericMethod</td><td>False</td></tr><tr><td>CustomAttributes</td><td>[  ]</td></tr></tbody></table></div></details></td></tr><tr><td>Message</td><td><div class=\"dni-plaintext\"><pre>The input list was empty.</pre></div></td></tr><tr><td>Data</td><td><i>(empty)</i></td></tr><tr><td>InnerException</td><td><div class=\"dni-plaintext\"><pre>&lt;null&gt;</pre></div></td></tr><tr><td>HelpLink</td><td><div class=\"dni-plaintext\"><pre>&lt;null&gt;</pre></div></td></tr><tr><td>Source</td><td><div class=\"dni-plaintext\"><pre>FSharp.Core</pre></div></td></tr><tr><td>HResult</td><td><div class=\"dni-plaintext\"><pre>-2146233079</pre></div></td></tr><tr><td>StackTrace</td><td><div class=\"dni-plaintext\"><pre>   at Microsoft.FSharp.Collections.FSharpList`1.get_Head() in D:\\a\\_work\\1\\s\\src\\FSharp.Core\\prim-types.fs:line 4086\n",
       "   at lambda_method353(Closure, FSharpList`1)\n",
       "   at Microsoft.DotNet.Interactive.Formatting.MemberAccessor`1.GetValueOrException(T instance) in D:\\a\\_work\\1\\s\\src\\Microsoft.DotNet.Interactive.Formatting\\MemberAccessor{T}.cs:line 58</pre></div></td></tr></tbody></table></div></details></td></tr><tr><td>Tail</td><td><details class=\"dni-treeview\"><summary><span class=\"dni-code-hint\"><code>System.InvalidOperationException: The input list was empty.\\n   at Microsoft.FSharp.Collections.FSharpList`1.get_Tail() in D:\\a\\_work\\1\\s\\src\\FSharp.Core\\prim-types.fs:line 4091\\n   at lambda_method354(Closure, FSharpList`1)\\n   at Microsoft.DotNet.Interactive.Formatting.MemberAccessor`1.GetValueOrE...</code></span></summary><div><table><thead><tr></tr></thead><tbody><tr><td>TargetSite</td><td><details class=\"dni-treeview\"><summary><span class=\"dni-code-hint\"><code>Microsoft.FSharp.Collections.FSharpList`1[T] get_Tail()</code></span></summary><div><table><thead><tr></tr></thead><tbody><tr><td>Name</td><td>get_Tail</td></tr><tr><td>DeclaringType</td><td>Microsoft.FSharp.Collections.FSharpList`1[T]</td></tr><tr><td>ReflectedType</td><td>Microsoft.FSharp.Collections.FSharpList`1[T]</td></tr><tr><td>MemberType</td><td>Method</td></tr><tr><td>MetadataToken</td><td>100663763</td></tr><tr><td>Module</td><td>FSharp.Core.dll</td></tr><tr><td>IsSecurityCritical</td><td>True</td></tr><tr><td>IsSecuritySafeCritical</td><td>False</td></tr><tr><td>IsSecurityTransparent</td><td>False</td></tr><tr><td>MethodHandle</td><td>System.RuntimeMethodHandle</td></tr><tr><td>Attributes</td><td>PrivateScope, Public, HideBySig, SpecialName</td></tr><tr><td>CallingConvention</td><td>Standard, HasThis</td></tr><tr><td>ReturnType</td><td>Microsoft.FSharp.Collections.FSharpList`1[T]</td></tr><tr><td>ReturnTypeCustomAttributes</td><td>Microsoft.FSharp.Collections.FSharpList`1[T]</td></tr><tr><td>ReturnParameter</td><td>Microsoft.FSharp.Collections.FSharpList`1[T]</td></tr><tr><td>IsCollectible</td><td>False</td></tr><tr><td>IsGenericMethod</td><td>False</td></tr><tr><td>IsGenericMethodDefinition</td><td>False</td></tr><tr><td>ContainsGenericParameters</td><td>True</td></tr><tr><td>MethodImplementationFlags</td><td>IL</td></tr><tr><td>IsAbstract</td><td>False</td></tr><tr><td>IsConstructor</td><td>False</td></tr><tr><td>IsFinal</td><td>False</td></tr><tr><td>IsHideBySig</td><td>True</td></tr><tr><td>IsSpecialName</td><td>True</td></tr><tr><td>IsStatic</td><td>False</td></tr><tr><td>IsVirtual</td><td>False</td></tr><tr><td>IsAssembly</td><td>False</td></tr><tr><td>IsFamily</td><td>False</td></tr><tr><td>IsFamilyAndAssembly</td><td>False</td></tr><tr><td>IsFamilyOrAssembly</td><td>False</td></tr><tr><td>IsPrivate</td><td>False</td></tr><tr><td>IsPublic</td><td>True</td></tr><tr><td>IsConstructedGenericMethod</td><td>False</td></tr><tr><td>CustomAttributes</td><td>[  ]</td></tr></tbody></table></div></details></td></tr><tr><td>Message</td><td><div class=\"dni-plaintext\"><pre>The input list was empty.</pre></div></td></tr><tr><td>Data</td><td><i>(empty)</i></td></tr><tr><td>InnerException</td><td><div class=\"dni-plaintext\"><pre>&lt;null&gt;</pre></div></td></tr><tr><td>HelpLink</td><td><div class=\"dni-plaintext\"><pre>&lt;null&gt;</pre></div></td></tr><tr><td>Source</td><td><div class=\"dni-plaintext\"><pre>FSharp.Core</pre></div></td></tr><tr><td>HResult</td><td><div class=\"dni-plaintext\"><pre>-2146233079</pre></div></td></tr><tr><td>StackTrace</td><td><div class=\"dni-plaintext\"><pre>   at Microsoft.FSharp.Collections.FSharpList`1.get_Tail() in D:\\a\\_work\\1\\s\\src\\FSharp.Core\\prim-types.fs:line 4091\n",
       "   at lambda_method354(Closure, FSharpList`1)\n",
       "   at Microsoft.DotNet.Interactive.Formatting.MemberAccessor`1.GetValueOrException(T instance) in D:\\a\\_work\\1\\s\\src\\Microsoft.DotNet.Interactive.Formatting\\MemberAccessor{T}.cs:line 58</pre></div></td></tr></tbody></table></div></details></td></tr><tr><td><i>(values)</i></td><td><i>(empty)</i></td></tr></tbody></table></div></details></td></tr><tr><td>Head</td><td><details class=\"dni-treeview\"><summary><span class=\"dni-code-hint\"><code>Worker { First = &quot;Bloke&quot;\\n         Last = &quot;Two&quot; }</code></span></summary><div><table><thead><tr></tr></thead><tbody><tr><td>Item</td><td><details class=\"dni-treeview\"><summary><span class=\"dni-code-hint\"><code>{ First = &quot;Bloke&quot;\\n  Last = &quot;Two&quot; }</code></span></summary><div><table><thead><tr></tr></thead><tbody><tr><td>First</td><td><div class=\"dni-plaintext\"><pre>Bloke</pre></div></td></tr><tr><td>Last</td><td><div class=\"dni-plaintext\"><pre>Two</pre></div></td></tr></tbody></table></div></details></td></tr></tbody></table></div></details></td></tr><tr><td>Tail</td><td><details class=\"dni-treeview\"><summary><span class=\"dni-code-hint\"><code>[  ]</code></span></summary><div><table><thead><tr></tr></thead><tbody><tr><td>HeadOrDefault</td><td><div class=\"dni-plaintext\"><pre>&lt;null&gt;</pre></div></td></tr><tr><td>TailOrNull</td><td><div class=\"dni-plaintext\"><pre>&lt;null&gt;</pre></div></td></tr><tr><td>Head</td><td><details class=\"dni-treeview\"><summary><span class=\"dni-code-hint\"><code>System.InvalidOperationException: The input list was empty.\\n   at Microsoft.FSharp.Collections.FSharpList`1.get_Head() in D:\\a\\_work\\1\\s\\src\\FSharp.Core\\prim-types.fs:line 4086\\n   at lambda_method353(Closure, FSharpList`1)\\n   at Microsoft.DotNet.Interactive.Formatting.MemberAccessor`1.GetValueOrE...</code></span></summary><div><table><thead><tr></tr></thead><tbody><tr><td>TargetSite</td><td><details class=\"dni-treeview\"><summary><span class=\"dni-code-hint\"><code>T get_Head()</code></span></summary><div><table><thead><tr></tr></thead><tbody><tr><td>Name</td><td>get_Head</td></tr><tr><td>DeclaringType</td><td>Microsoft.FSharp.Collections.FSharpList`1[T]</td></tr><tr><td>ReflectedType</td><td>Microsoft.FSharp.Collections.FSharpList`1[T]</td></tr><tr><td>MemberType</td><td>Method</td></tr><tr><td>MetadataToken</td><td>100663762</td></tr><tr><td>Module</td><td>FSharp.Core.dll</td></tr><tr><td>IsSecurityCritical</td><td>True</td></tr><tr><td>IsSecuritySafeCritical</td><td>False</td></tr><tr><td>IsSecurityTransparent</td><td>False</td></tr><tr><td>MethodHandle</td><td>System.RuntimeMethodHandle</td></tr><tr><td>Attributes</td><td>PrivateScope, Public, HideBySig, SpecialName</td></tr><tr><td>CallingConvention</td><td>Standard, HasThis</td></tr><tr><td>ReturnType</td><td>T</td></tr><tr><td>ReturnTypeCustomAttributes</td><td>T</td></tr><tr><td>ReturnParameter</td><td>T</td></tr><tr><td>IsCollectible</td><td>False</td></tr><tr><td>IsGenericMethod</td><td>False</td></tr><tr><td>IsGenericMethodDefinition</td><td>False</td></tr><tr><td>ContainsGenericParameters</td><td>True</td></tr><tr><td>MethodImplementationFlags</td><td>IL</td></tr><tr><td>IsAbstract</td><td>False</td></tr><tr><td>IsConstructor</td><td>False</td></tr><tr><td>IsFinal</td><td>False</td></tr><tr><td>IsHideBySig</td><td>True</td></tr><tr><td>IsSpecialName</td><td>True</td></tr><tr><td>IsStatic</td><td>False</td></tr><tr><td>IsVirtual</td><td>False</td></tr><tr><td>IsAssembly</td><td>False</td></tr><tr><td>IsFamily</td><td>False</td></tr><tr><td>IsFamilyAndAssembly</td><td>False</td></tr><tr><td>IsFamilyOrAssembly</td><td>False</td></tr><tr><td>IsPrivate</td><td>False</td></tr><tr><td>IsPublic</td><td>True</td></tr><tr><td>IsConstructedGenericMethod</td><td>False</td></tr><tr><td>CustomAttributes</td><td>[  ]</td></tr></tbody></table></div></details></td></tr><tr><td>Message</td><td><div class=\"dni-plaintext\"><pre>The input list was empty.</pre></div></td></tr><tr><td>Data</td><td><i>(empty)</i></td></tr><tr><td>InnerException</td><td><div class=\"dni-plaintext\"><pre>&lt;null&gt;</pre></div></td></tr><tr><td>HelpLink</td><td><div class=\"dni-plaintext\"><pre>&lt;null&gt;</pre></div></td></tr><tr><td>Source</td><td><div class=\"dni-plaintext\"><pre>FSharp.Core</pre></div></td></tr><tr><td>HResult</td><td><div class=\"dni-plaintext\"><pre>-2146233079</pre></div></td></tr><tr><td>StackTrace</td><td><div class=\"dni-plaintext\"><pre>   at Microsoft.FSharp.Collections.FSharpList`1.get_Head() in D:\\a\\_work\\1\\s\\src\\FSharp.Core\\prim-types.fs:line 4086\n",
       "   at lambda_method353(Closure, FSharpList`1)\n",
       "   at Microsoft.DotNet.Interactive.Formatting.MemberAccessor`1.GetValueOrException(T instance) in D:\\a\\_work\\1\\s\\src\\Microsoft.DotNet.Interactive.Formatting\\MemberAccessor{T}.cs:line 58</pre></div></td></tr></tbody></table></div></details></td></tr><tr><td>Tail</td><td><details class=\"dni-treeview\"><summary><span class=\"dni-code-hint\"><code>System.InvalidOperationException: The input list was empty.\\n   at Microsoft.FSharp.Collections.FSharpList`1.get_Tail() in D:\\a\\_work\\1\\s\\src\\FSharp.Core\\prim-types.fs:line 4091\\n   at lambda_method354(Closure, FSharpList`1)\\n   at Microsoft.DotNet.Interactive.Formatting.MemberAccessor`1.GetValueOrE...</code></span></summary><div><table><thead><tr></tr></thead><tbody><tr><td>TargetSite</td><td><details class=\"dni-treeview\"><summary><span class=\"dni-code-hint\"><code>Microsoft.FSharp.Collections.FSharpList`1[T] get_Tail()</code></span></summary><div><table><thead><tr></tr></thead><tbody><tr><td>Name</td><td>get_Tail</td></tr><tr><td>DeclaringType</td><td>Microsoft.FSharp.Collections.FSharpList`1[T]</td></tr><tr><td>ReflectedType</td><td>Microsoft.FSharp.Collections.FSharpList`1[T]</td></tr><tr><td>MemberType</td><td>Method</td></tr><tr><td>MetadataToken</td><td>100663763</td></tr><tr><td>Module</td><td>FSharp.Core.dll</td></tr><tr><td>IsSecurityCritical</td><td>True</td></tr><tr><td>IsSecuritySafeCritical</td><td>False</td></tr><tr><td>IsSecurityTransparent</td><td>False</td></tr><tr><td>MethodHandle</td><td>System.RuntimeMethodHandle</td></tr><tr><td>Attributes</td><td>PrivateScope, Public, HideBySig, SpecialName</td></tr><tr><td>CallingConvention</td><td>Standard, HasThis</td></tr><tr><td>ReturnType</td><td>Microsoft.FSharp.Collections.FSharpList`1[T]</td></tr><tr><td>ReturnTypeCustomAttributes</td><td>Microsoft.FSharp.Collections.FSharpList`1[T]</td></tr><tr><td>ReturnParameter</td><td>Microsoft.FSharp.Collections.FSharpList`1[T]</td></tr><tr><td>IsCollectible</td><td>False</td></tr><tr><td>IsGenericMethod</td><td>False</td></tr><tr><td>IsGenericMethodDefinition</td><td>False</td></tr><tr><td>ContainsGenericParameters</td><td>True</td></tr><tr><td>MethodImplementationFlags</td><td>IL</td></tr><tr><td>IsAbstract</td><td>False</td></tr><tr><td>IsConstructor</td><td>False</td></tr><tr><td>IsFinal</td><td>False</td></tr><tr><td>IsHideBySig</td><td>True</td></tr><tr><td>IsSpecialName</td><td>True</td></tr><tr><td>IsStatic</td><td>False</td></tr><tr><td>IsVirtual</td><td>False</td></tr><tr><td>IsAssembly</td><td>False</td></tr><tr><td>IsFamily</td><td>False</td></tr><tr><td>IsFamilyAndAssembly</td><td>False</td></tr><tr><td>IsFamilyOrAssembly</td><td>False</td></tr><tr><td>IsPrivate</td><td>False</td></tr><tr><td>IsPublic</td><td>True</td></tr><tr><td>IsConstructedGenericMethod</td><td>False</td></tr><tr><td>CustomAttributes</td><td>[  ]</td></tr></tbody></table></div></details></td></tr><tr><td>Message</td><td><div class=\"dni-plaintext\"><pre>The input list was empty.</pre></div></td></tr><tr><td>Data</td><td><i>(empty)</i></td></tr><tr><td>InnerException</td><td><div class=\"dni-plaintext\"><pre>&lt;null&gt;</pre></div></td></tr><tr><td>HelpLink</td><td><div class=\"dni-plaintext\"><pre>&lt;null&gt;</pre></div></td></tr><tr><td>Source</td><td><div class=\"dni-plaintext\"><pre>FSharp.Core</pre></div></td></tr><tr><td>HResult</td><td><div class=\"dni-plaintext\"><pre>-2146233079</pre></div></td></tr><tr><td>StackTrace</td><td><div class=\"dni-plaintext\"><pre>   at Microsoft.FSharp.Collections.FSharpList`1.get_Tail() in D:\\a\\_work\\1\\s\\src\\FSharp.Core\\prim-types.fs:line 4091\n",
       "   at lambda_method354(Closure, FSharpList`1)\n",
       "   at Microsoft.DotNet.Interactive.Formatting.MemberAccessor`1.GetValueOrException(T instance) in D:\\a\\_work\\1\\s\\src\\Microsoft.DotNet.Interactive.Formatting\\MemberAccessor{T}.cs:line 58</pre></div></td></tr></tbody></table></div></details></td></tr><tr><td><i>(values)</i></td><td><i>(empty)</i></td></tr></tbody></table></div></details></td></tr><tr><td><i>(values)</i></td><td><table><thead><tr><th><i>index</i></th><th>value</th></tr></thead><tbody><tr><td>0</td><td><details class=\"dni-treeview\"><summary><span class=\"dni-code-hint\"><code>Worker { First = &quot;Bloke&quot;\\n         Last = &quot;Two&quot; }</code></span></summary><div><table><thead><tr></tr></thead><tbody><tr><td>Item</td><td><details class=\"dni-treeview\"><summary><span class=\"dni-code-hint\"><code>{ First = &quot;Bloke&quot;\\n  Last = &quot;Two&quot; }</code></span></summary><div><table><thead><tr></tr></thead><tbody><tr><td>First</td><td><div class=\"dni-plaintext\"><pre>Bloke</pre></div></td></tr><tr><td>Last</td><td><div class=\"dni-plaintext\"><pre>Two</pre></div></td></tr></tbody></table></div></details></td></tr></tbody></table></div></details></td></tr></tbody></table></td></tr></tbody></table></div></details></td></tr><tr><td><i>(values)</i></td><td><table><thead><tr><th><i>index</i></th><th>value</th></tr></thead><tbody><tr><td>0</td><td><details class=\"dni-treeview\"><summary><span class=\"dni-code-hint\"><code>Worker { First = &quot;Bloke&quot;\\n         Last = &quot;One&quot; }</code></span></summary><div><table><thead><tr></tr></thead><tbody><tr><td>Item</td><td><details class=\"dni-treeview\"><summary><span class=\"dni-code-hint\"><code>{ First = &quot;Bloke&quot;\\n  Last = &quot;One&quot; }</code></span></summary><div><table><thead><tr></tr></thead><tbody><tr><td>First</td><td><div class=\"dni-plaintext\"><pre>Bloke</pre></div></td></tr><tr><td>Last</td><td><div class=\"dni-plaintext\"><pre>One</pre></div></td></tr></tbody></table></div></details></td></tr></tbody></table></div></details></td></tr><tr><td>1</td><td><details class=\"dni-treeview\"><summary><span class=\"dni-code-hint\"><code>Worker { First = &quot;Bloke&quot;\\n         Last = &quot;Two&quot; }</code></span></summary><div><table><thead><tr></tr></thead><tbody><tr><td>Item</td><td><details class=\"dni-treeview\"><summary><span class=\"dni-code-hint\"><code>{ First = &quot;Bloke&quot;\\n  Last = &quot;Two&quot; }</code></span></summary><div><table><thead><tr></tr></thead><tbody><tr><td>First</td><td><div class=\"dni-plaintext\"><pre>Bloke</pre></div></td></tr><tr><td>Last</td><td><div class=\"dni-plaintext\"><pre>Two</pre></div></td></tr></tbody></table></div></details></td></tr></tbody></table></div></details></td></tr></tbody></table></td></tr></tbody></table></div></details></td></tr></tbody></table></div></details><style>\r\n",
       ".dni-code-hint {\r\n",
       "    font-style: italic;\r\n",
       "    overflow: hidden;\r\n",
       "    white-space: nowrap;\r\n",
       "}\r\n",
       ".dni-treeview {\r\n",
       "    white-space: nowrap;\r\n",
       "}\r\n",
       ".dni-treeview td {\r\n",
       "    vertical-align: top;\r\n",
       "    text-align: start;\r\n",
       "}\r\n",
       "details.dni-treeview {\r\n",
       "    padding-left: 1em;\r\n",
       "}\r\n",
       "table td {\r\n",
       "    text-align: start;\r\n",
       "}\r\n",
       "table tr { \r\n",
       "    vertical-align: top; \r\n",
       "    margin: 0em 0px;\r\n",
       "}\r\n",
       "table tr td pre \r\n",
       "{ \r\n",
       "    vertical-align: top !important; \r\n",
       "    margin: 0em 0px !important;\r\n",
       "} \r\n",
       "table th {\r\n",
       "    text-align: start;\r\n",
       "}\r\n",
       "</style>"
      ]
     },
     "metadata": {},
     "output_type": "display_data"
    }
   ],
   "source": [
    "#!fsharp\n",
    "\n",
    "let manager = Manager [ Worker{First=\"Bloke\";Last=\"One\"}; Worker{First=\"Bloke\";Last=\"Two\"} ]\n",
    "manager"
   ]
  },
  {
   "cell_type": "code",
   "execution_count": 21,
   "metadata": {
    "dotnet_interactive": {
     "language": "fsharp"
    },
    "tags": [],
    "vscode": {
     "languageId": "polyglot-notebook"
    }
   },
   "outputs": [
    {
     "name": "stdout",
     "output_type": "stream",
     "text": [
      "Printing an int 1, a float 2.000000, a bool true\n",
      "\n",
      "A string hello, and something generic [1; 2; 3; 4]\n",
      "\n",
      "twoTuple=(1, 2),\n",
      "Person={ First = \"John\"\n",
      "  Last = \"Doe\" },\n",
      "Temp=DegreesF 98.6,\n",
      "Employee=Worker { First = \"John\"\n",
      "         Last = \"Doe\" }\n"
     ]
    }
   ],
   "source": [
    "#!fsharp\n",
    "\n",
    "printfn \"Printing an int %i, a float %f, a bool %b\\n\" 1 2.0 true\n",
    "printfn \"A string %s, and something generic %A\\n\" \"hello\" [1;2;3;4]\n",
    "\n",
    "// all complex types have pretty printing built in\n",
    "printfn \"twoTuple=%A,\\nPerson=%A,\\nTemp=%A,\\nEmployee=%A\" \n",
    "         twoTuple person1 temp1 worker\n",
    "\n",
    "// There are also sprintf/sprintfn functions for formatting data\n",
    "// into a string, similar to String.Format."
   ]
  }
 ],
 "metadata": {
  "kernelspec": {
   "display_name": ".NET (F#)",
   "name": ".net-fsharp"
  },
  "language_info": {
   "codemirror_mode": {
    "name": "ipython",
    "version": 3
   },
   "file_extension": ".py",
   "mimetype": "text/x-python",
   "name": "python",
   "nbconvert_exporter": "python",
   "pygments_lexer": "ipython3",
   "version": "3.7.6-final"
  },
  "orig_nbformat": 2
 },
 "nbformat": 4,
 "nbformat_minor": 2
}
