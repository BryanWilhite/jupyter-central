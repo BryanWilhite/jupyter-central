{
 "cells": [
  {
   "attachments": {},
   "cell_type": "markdown",
   "metadata": {},
   "source": [
    "# CEs without `_.Bind`\n",
    "\n",
    "“Combine” without bind [📖 [docs](https://fsharpforfunandprofit.com/posts/computation-expressions-builder-part2/#combine-without-bind)]:\n",
    "\n",
    ">As with all the builder methods, if you don’t need them, you don’t need to implement them. So for a workflow that is strongly sequential, you could easily create a builder class with Combine, Zero, and Yield, say, without having to implement Bind and Return at all.\n",
    ">\n",
    ">Here’s an example of a minimal implementation that works:\n"
   ]
  },
  {
   "cell_type": "code",
   "execution_count": 1,
   "metadata": {
    "dotnet_interactive": {
     "language": "fsharp"
    },
    "polyglot_notebook": {
     "kernelName": "fsharp"
    },
    "vscode": {
     "languageId": "polyglot-notebook"
    }
   },
   "outputs": [],
   "source": [
    "#!fsharp\n",
    "\n",
    "type TraceBuilder() =\n",
    "\n",
    "    member this.Combine (a: unit option, b: unit option) =\n",
    "        a\n",
    "        |> Option.bind (\n",
    "            fun () ->\n",
    "\n",
    "                a |> printfn \"a: %A\"\n",
    "                b |> printfn \"b: %A\"\n",
    "\n",
    "                b\n",
    "            )\n",
    "\n",
    "    member this.Delay(f) = f()\n",
    "\n",
    "    member this.Zero() = Some ()\n",
    "\n",
    "let trace = new TraceBuilder()"
   ]
  },
  {
   "cell_type": "code",
   "execution_count": 2,
   "metadata": {
    "dotnet_interactive": {
     "language": "fsharp"
    },
    "polyglot_notebook": {
     "kernelName": "fsharp"
    },
    "vscode": {
     "languageId": "polyglot-notebook"
    }
   },
   "outputs": [
    {
     "name": "stdout",
     "output_type": "stream",
     "text": [
      "hello.......\n",
      "a: Some ()\n",
      "b: Some ()\n",
      "Result for minimal combine: Some ()\n"
     ]
    }
   ],
   "source": [
    "#!fsharp\n",
    "\n",
    "trace {\n",
    "    if true then printfn \"hello.......\"\n",
    "    if false then printfn \".......world\"\n",
    "}\n",
    "|> printfn \"Result for minimal combine: %A\"\n"
   ]
  }
 ],
 "metadata": {
  "language_info": {
   "name": "python"
  },
  "orig_nbformat": 4
 },
 "nbformat": 4,
 "nbformat_minor": 2
}
