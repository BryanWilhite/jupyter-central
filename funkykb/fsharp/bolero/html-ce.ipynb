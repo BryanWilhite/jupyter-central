{
 "cells": [
  {
   "cell_type": "code",
   "execution_count": 1,
   "metadata": {
    "dotnet_interactive": {
     "language": "fsharp"
    },
    "polyglot_notebook": {
     "kernelName": "fsharp"
    },
    "vscode": {
     "languageId": "polyglot-notebook"
    }
   },
   "outputs": [
    {
     "data": {
      "text/html": [
       "<div><div></div><div></div><div><strong>Installed Packages</strong><ul><li><span>Bolero, 0.22.43</span></li></ul></div></div>"
      ]
     },
     "metadata": {},
     "output_type": "display_data"
    }
   ],
   "source": [
    "#r \"nuget: Bolero\""
   ]
  },
  {
   "cell_type": "code",
   "execution_count": 11,
   "metadata": {
    "dotnet_interactive": {
     "language": "fsharp"
    },
    "polyglot_notebook": {
     "kernelName": "fsharp"
    },
    "vscode": {
     "languageId": "polyglot-notebook"
    }
   },
   "outputs": [],
   "source": [
    "#!fsharp\n",
    "\n",
    "open Bolero\n",
    "open Bolero.Builders\n",
    "open Bolero.Html\n",
    "\n",
    "type ElementBuilder with\n",
    "    member this.Yield(c) =\n",
    "        this.Yield(Node(fun _ b i ->\n",
    "            b.AddContent(i, \"hey!\")\n",
    "            i + 1))\n",
    "    [<CustomOperation \"foo\">]\n",
    "    member this.Foo(c) =\n",
    "        printfn \"%A\" c\n",
    "        div {\n",
    "            c\n",
    "        }\n"
   ]
  },
  {
   "cell_type": "code",
   "execution_count": 12,
   "metadata": {
    "dotnet_interactive": {
     "language": "fsharp"
    },
    "polyglot_notebook": {
     "kernelName": "fsharp"
    },
    "vscode": {
     "languageId": "polyglot-notebook"
    }
   },
   "outputs": [
    {
     "ename": "Error",
     "evalue": "input.fsx (2,5)-(2,8) typecheck error 'foo' is used with an incorrect number of arguments. This is a custom operation in this query or computation expression. Expected 0 argument(s), but given 1.",
     "output_type": "error",
     "traceback": [
      "input.fsx (2,5)-(2,8) typecheck error 'foo' is used with an incorrect number of arguments. This is a custom operation in this query or computation expression. Expected 0 argument(s), but given 1."
     ]
    }
   ],
   "source": [
    "#!fsharp\n",
    "\n",
    "section {\n",
    "    foo (empty())\n",
    "}"
   ]
  }
 ],
 "metadata": {
  "language_info": {
   "name": "python"
  },
  "orig_nbformat": 4
 },
 "nbformat": 4,
 "nbformat_minor": 2
}
