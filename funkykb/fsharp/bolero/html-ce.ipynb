{
 "cells": [
  {
   "cell_type": "code",
   "execution_count": 1,
   "metadata": {
    "dotnet_interactive": {
     "language": "fsharp"
    },
    "polyglot_notebook": {
     "kernelName": "fsharp"
    },
    "vscode": {
     "languageId": "polyglot-notebook"
    }
   },
   "outputs": [
    {
     "data": {
      "text/html": [
       "<div><div></div><div></div><div><strong>Installed Packages</strong><ul><li><span>Bolero, 0.22.43</span></li></ul></div></div>"
      ]
     },
     "metadata": {},
     "output_type": "display_data"
    }
   ],
   "source": [
    "#r \"nuget: Bolero\""
   ]
  },
  {
   "cell_type": "code",
   "execution_count": 4,
   "metadata": {
    "dotnet_interactive": {
     "language": "fsharp"
    },
    "polyglot_notebook": {
     "kernelName": "fsharp"
    },
    "vscode": {
     "languageId": "polyglot-notebook"
    }
   },
   "outputs": [],
   "source": [
    "#!fsharp\n",
    "\n",
    "open Bolero\n",
    "open Bolero.Builders\n",
    "open Bolero.Html\n",
    "\n",
    "type ElementBuilder with\n",
    "    [<CustomOperation \"bulmaStuff\">]\n",
    "    member this.BulmaStuff(n:Node) =\n",
    "        div {\n",
    "            attr.``class`` [\"custom\"]\n",
    "            n\n",
    "        }\n"
   ]
  },
  {
   "cell_type": "code",
   "execution_count": 3,
   "metadata": {
    "dotnet_interactive": {
     "language": "fsharp"
    },
    "polyglot_notebook": {
     "kernelName": "fsharp"
    },
    "vscode": {
     "languageId": "polyglot-notebook"
    }
   },
   "outputs": [
    {
     "ename": "Error",
     "evalue": "input.fsx (2,5)-(2,15) typecheck error 'bulmaStuff' is used with an incorrect number of arguments. This is a custom operation in this query or computation expression. Expected 0 argument(s), but given 2.\ninput.fsx (2,5)-(2,39) typecheck error No overloads match for method 'Yield'.\n\nKnown type of argument: unit\n\nAvailable overloads:\n - member ElementBuilder.Yield: _comp: ComponentBuilder<#AspNetCore.Components.IComponent> -> Node // Argument '_comp' doesn't match\n - member ElementBuilder.Yield: attr: Attr -> Attr // Argument 'attr' doesn't match\n - member ElementBuilder.Yield: comp: ComponentBuilder -> Node // Argument 'comp' doesn't match\n - member ElementBuilder.Yield: comp: ComponentWithAttrsAndNoChildrenBuilder<#AspNetCore.Components.IComponent> -> Node // Argument 'comp' doesn't match\n - member ElementBuilder.Yield: comp: ComponentWithAttrsBuilder<#AspNetCore.Components.IComponent> -> Node // Argument 'comp' doesn't match\n - member ElementBuilder.Yield: eb: ElementBuilder -> Node // Argument 'eb' doesn't match\n - member ElementBuilder.Yield: fragment: AspNetCore.Components.RenderFragment -> Node // Argument 'fragment' doesn't match\n - member ElementBuilder.Yield: node: Node -> Node // Argument 'node' doesn't match\n - member ElementBuilder.Yield: ref: HtmlRef -> RefContent // Argument 'ref' doesn't match\n - member ElementBuilder.Yield: ref: RefContent -> RefContent // Argument 'ref' doesn't match\n - member ElementBuilder.Yield: text: string -> Node // Argument 'text' doesn't match",
     "output_type": "error",
     "traceback": [
      "input.fsx (2,5)-(2,15) typecheck error 'bulmaStuff' is used with an incorrect number of arguments. This is a custom operation in this query or computation expression. Expected 0 argument(s), but given 2.\n",
      "input.fsx (2,5)-(2,39) typecheck error No overloads match for method 'Yield'.\n",
      "\n",
      "Known type of argument: unit\n",
      "\n",
      "Available overloads:\n",
      " - member ElementBuilder.Yield: _comp: ComponentBuilder<#AspNetCore.Components.IComponent> -> Node // Argument '_comp' doesn't match\n",
      " - member ElementBuilder.Yield: attr: Attr -> Attr // Argument 'attr' doesn't match\n",
      " - member ElementBuilder.Yield: comp: ComponentBuilder -> Node // Argument 'comp' doesn't match\n",
      " - member ElementBuilder.Yield: comp: ComponentWithAttrsAndNoChildrenBuilder<#AspNetCore.Components.IComponent> -> Node // Argument 'comp' doesn't match\n",
      " - member ElementBuilder.Yield: comp: ComponentWithAttrsBuilder<#AspNetCore.Components.IComponent> -> Node // Argument 'comp' doesn't match\n",
      " - member ElementBuilder.Yield: eb: ElementBuilder -> Node // Argument 'eb' doesn't match\n",
      " - member ElementBuilder.Yield: fragment: AspNetCore.Components.RenderFragment -> Node // Argument 'fragment' doesn't match\n",
      " - member ElementBuilder.Yield: node: Node -> Node // Argument 'node' doesn't match\n",
      " - member ElementBuilder.Yield: ref: HtmlRef -> RefContent // Argument 'ref' doesn't match\n",
      " - member ElementBuilder.Yield: ref: RefContent -> RefContent // Argument 'ref' doesn't match\n",
      " - member ElementBuilder.Yield: text: string -> Node // Argument 'text' doesn't match"
     ]
    }
   ],
   "source": [
    "#!fsharp\n",
    "\n",
    "section {\n",
    "    bulmaStuff span { text \"wrap me\" }\n",
    "}"
   ]
  }
 ],
 "metadata": {
  "language_info": {
   "name": "python"
  },
  "orig_nbformat": 4
 },
 "nbformat": 4,
 "nbformat_minor": 2
}
