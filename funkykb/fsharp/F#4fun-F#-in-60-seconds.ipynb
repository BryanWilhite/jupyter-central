{
 "cells": [
  {
   "cell_type": "markdown",
   "metadata": {},
   "source": [
    "# F# in 60 seconds\n",
    "\n",
    "📖 https://fsharpforfunandprofit.com/posts/fsharp-in-60-seconds/\n",
    "\n",
    "📖 https://fsharpforfunandprofit.com/site-contents/\n",
    "\n",
    "binding with `let`:\n"
   ]
  },
  {
   "cell_type": "code",
   "execution_count": 1,
   "metadata": {
    "tags": []
   },
   "outputs": [
    {
     "data": {
      "text/html": "\r\n<div>\r\n    <div id='dotnet-interactive-this-cell-159219.Microsoft.DotNet.Interactive.Http.HttpPort' style='display: none'>\r\n        The below script needs to be able to find the current output cell; this is an easy method to get it.\r\n    </div>\r\n    <script type='text/javascript'>\r\nasync function probeAddresses(probingAddresses) {\r\n    function timeout(ms, promise) {\r\n        return new Promise(function (resolve, reject) {\r\n            setTimeout(function () {\r\n                reject(new Error('timeout'))\r\n            }, ms)\r\n            promise.then(resolve, reject)\r\n        })\r\n    }\r\n\r\n    if (Array.isArray(probingAddresses)) {\r\n        for (let i = 0; i < probingAddresses.length; i++) {\r\n\r\n            let rootUrl = probingAddresses[i];\r\n\r\n            if (!rootUrl.endsWith('/')) {\r\n                rootUrl = `${rootUrl}/`;\r\n            }\r\n\r\n            try {\r\n                let response = await timeout(1000, fetch(`${rootUrl}discovery`, {\r\n                    method: 'POST',\r\n                    cache: 'no-cache',\r\n                    mode: 'cors',\r\n                    timeout: 1000,\r\n                    headers: {\r\n                        'Content-Type': 'text/plain'\r\n                    },\r\n                    body: probingAddresses[i]\r\n                }));\r\n\r\n                if (response.status == 200) {\r\n                    return rootUrl;\r\n                }\r\n            }\r\n            catch (e) { }\r\n        }\r\n    }\r\n}\r\n\r\nfunction loadDotnetInteractiveApi() {\r\n    probeAddresses([\"http://192.168.1.20:1025/\", \"http://127.0.0.1:1025/\"])\r\n        .then((root) => {\r\n        // use probing to find host url and api resources\r\n        // load interactive helpers and language services\r\n        let dotnetInteractiveRequire = require.config({\r\n        context: '159219.Microsoft.DotNet.Interactive.Http.HttpPort',\r\n                paths:\r\n            {\r\n                'dotnet-interactive': `${root}resources`\r\n                }\r\n        }) || require;\r\n\r\n            window.dotnetInteractiveRequire = dotnetInteractiveRequire;\r\n\r\n            window.configureRequireFromExtension = function(extensionName, extensionCacheBuster) {\r\n                let paths = {};\r\n                paths[extensionName] = `${root}extensions/${extensionName}/resources/`;\r\n                \r\n                let internalRequire = require.config({\r\n                    context: extensionCacheBuster,\r\n                    paths: paths,\r\n                    urlArgs: `cacheBuster=${extensionCacheBuster}`\r\n                    }) || require;\r\n\r\n                return internalRequire\r\n            };\r\n        \r\n            dotnetInteractiveRequire([\r\n                    'dotnet-interactive/dotnet-interactive'\r\n                ],\r\n                function (dotnet) {\r\n                    dotnet.init(window);\r\n                },\r\n                function (error) {\r\n                    console.log(error);\r\n                }\r\n            );\r\n        })\r\n        .catch(error => {console.log(error);});\r\n    }\r\n\r\n// ensure `require` is available globally\r\nif ((typeof(require) !==  typeof(Function)) || (typeof(require.config) !== typeof(Function))) {\r\n    let require_script = document.createElement('script');\r\n    require_script.setAttribute('src', 'https://cdnjs.cloudflare.com/ajax/libs/require.js/2.3.6/require.min.js');\r\n    require_script.setAttribute('type', 'text/javascript');\r\n    \r\n    \r\n    require_script.onload = function() {\r\n        loadDotnetInteractiveApi();\r\n    };\r\n\r\n    document.getElementsByTagName('head')[0].appendChild(require_script);\r\n}\r\nelse {\r\n    loadDotnetInteractiveApi();\r\n}\r\n\r\n    </script>\r\n</div>"
     },
     "metadata": {},
     "output_type": "display_data"
    },
    {
     "data": {
      "text/html": "<table><thead><tr><th><i>index</i></th><th>value</th></tr></thead><tbody><tr><td>0</td><td><div class=\"dni-plaintext\">2</div></td></tr><tr><td>1</td><td><div class=\"dni-plaintext\">3</div></td></tr><tr><td>2</td><td><div class=\"dni-plaintext\">4</div></td></tr><tr><td>3</td><td><div class=\"dni-plaintext\">5</div></td></tr></tbody></table>"
     },
     "execution_count": 1,
     "metadata": {},
     "output_type": "execute_result"
    }
   ],
   "source": [
    "let myInt = 5\n",
    "let myFloat = 3.14\n",
    "let myString = \"hello\"  // note that no types needed\n",
    "\n",
    "let twoToFive = [2;3;4;5] // list\n",
    "twoToFive"
   ]
  },
  {
   "cell_type": "code",
   "execution_count": 2,
   "metadata": {},
   "outputs": [
    {
     "data": {
      "text/html": "<table><thead><tr><th><i>index</i></th><th>value</th></tr></thead><tbody><tr><td>0</td><td><div class=\"dni-plaintext\">1</div></td></tr><tr><td>1</td><td><div class=\"dni-plaintext\">2</div></td></tr><tr><td>2</td><td><div class=\"dni-plaintext\">3</div></td></tr><tr><td>3</td><td><div class=\"dni-plaintext\">4</div></td></tr><tr><td>4</td><td><div class=\"dni-plaintext\">5</div></td></tr></tbody></table>"
     },
     "execution_count": 2,
     "metadata": {},
     "output_type": "execute_result"
    }
   ],
   "source": [
    "let oneToFive = 1 :: twoToFive // prepend element\n",
    "oneToFive"
   ]
  },
  {
   "cell_type": "code",
   "execution_count": 3,
   "metadata": {},
   "outputs": [
    {
     "data": {
      "text/html": "<table><thead><tr><th><i>index</i></th><th>value</th></tr></thead><tbody><tr><td>0</td><td><div class=\"dni-plaintext\">0</div></td></tr><tr><td>1</td><td><div class=\"dni-plaintext\">1</div></td></tr><tr><td>2</td><td><div class=\"dni-plaintext\">2</div></td></tr><tr><td>3</td><td><div class=\"dni-plaintext\">3</div></td></tr><tr><td>4</td><td><div class=\"dni-plaintext\">4</div></td></tr><tr><td>5</td><td><div class=\"dni-plaintext\">5</div></td></tr></tbody></table>"
     },
     "execution_count": 3,
     "metadata": {},
     "output_type": "execute_result"
    }
   ],
   "source": [
    "let zeroToFive = [0;1] @ twoToFive // @ concats two lists\n",
    "zeroToFive"
   ]
  },
  {
   "cell_type": "code",
   "execution_count": 4,
   "metadata": {},
   "outputs": [
    {
     "data": {
      "text/html": "<div class=\"dni-plaintext\">9</div>"
     },
     "execution_count": 4,
     "metadata": {},
     "output_type": "execute_result"
    }
   ],
   "source": [
    "let square x = x * x\n",
    "square 3"
   ]
  },
  {
   "cell_type": "code",
   "execution_count": 5,
   "metadata": {},
   "outputs": [
    {
     "data": {
      "text/html": "<div class=\"dni-plaintext\">5</div>"
     },
     "execution_count": 5,
     "metadata": {},
     "output_type": "execute_result"
    }
   ],
   "source": [
    "let add x y = x + y // “Whitespace is used to separate parameters rather than commas.”\n",
    "add 2 3"
   ]
  },
  {
   "cell_type": "code",
   "execution_count": 6,
   "metadata": {},
   "outputs": [
    {
     "data": {
      "text/html": "<table><thead><tr><th><i>index</i></th><th>value</th></tr></thead><tbody><tr><td>0</td><td><div class=\"dni-plaintext\">2</div></td></tr><tr><td>1</td><td><div class=\"dni-plaintext\">4</div></td></tr></tbody></table>"
     },
     "execution_count": 6,
     "metadata": {},
     "output_type": "execute_result"
    }
   ],
   "source": [
    "let evens list =\n",
    "    let isEven x = x%2 = 0  //an inner (“nested”) function\n",
    "    List.filter isEven list // `List.filter` is a library function\n",
    "\n",
    "evens oneToFive"
   ]
  },
  {
   "cell_type": "markdown",
   "metadata": {},
   "source": [
    ">In F# returns are implicit—no `return` needed. A function always returns the value of the last expression used."
   ]
  },
  {
   "cell_type": "code",
   "execution_count": 7,
   "metadata": {},
   "outputs": [
    {
     "data": {
      "text/html": "<div class=\"dni-plaintext\">338350</div>"
     },
     "execution_count": 7,
     "metadata": {},
     "output_type": "execute_result"
    }
   ],
   "source": [
    "let sumOfSquaresTo100 =\n",
    "    List.sum ( List.map square [1..100] ) // use parens to clarify precedence\n",
    "\n",
    "sumOfSquaresTo100"
   ]
  },
  {
   "cell_type": "code",
   "execution_count": 8,
   "metadata": {},
   "outputs": [
    {
     "data": {
      "text/html": "<div class=\"dni-plaintext\">338350</div>"
     },
     "execution_count": 8,
     "metadata": {},
     "output_type": "execute_result"
    }
   ],
   "source": [
    "let sumOfSquaresTo100piped =\n",
    "   [1..100] |> List.map square |> List.sum // use `|>` to state precedence\n",
    "\n",
    "sumOfSquaresTo100piped"
   ]
  },
  {
   "cell_type": "code",
   "execution_count": 9,
   "metadata": {
    "tags": []
   },
   "outputs": [
    {
     "data": {
      "text/html": "<div class=\"dni-plaintext\">338350</div>"
     },
     "execution_count": 9,
     "metadata": {},
     "output_type": "execute_result"
    }
   ],
   "source": [
    "let sumOfSquaresTo100withFun =\n",
    "   [1..100] |> List.map (fun x->x*x) |> List.sum // use `fun` to define lambda functions inline\n",
    "\n",
    "sumOfSquaresTo100withFun"
   ]
  },
  {
   "cell_type": "code",
   "execution_count": 10,
   "metadata": {
    "tags": []
   },
   "outputs": [
    {
     "name": "stdout",
     "output_type": "stream",
     "text": [
      "x is a\n",
      "x is b\n",
      "x is something else\n",
      "\n"
     ]
    }
   ],
   "source": [
    "let simplePatternMatch x =\n",
    "   match x with\n",
    "    | \"a\" -> printfn \"x is a\"\n",
    "    | \"b\" -> printfn \"x is b\"\n",
    "    | _ -> printfn \"x is something else\\n\" // underscore matches anything\n",
    "\n",
    "simplePatternMatch \"a\"\n",
    "simplePatternMatch \"b\"\n",
    "\"g (piped in)\" |> simplePatternMatch"
   ]
  },
  {
   "cell_type": "code",
   "execution_count": 11,
   "metadata": {
    "tags": []
   },
   "outputs": [
    {
     "name": "stdout",
     "output_type": "stream",
     "text": [
      "x is a (shorter)\n",
      "x is b (shorter)\n",
      "x is something else (shorter)\n",
      "\n"
     ]
    }
   ],
   "source": [
    "let simplePatternMatchShorter = function\n",
    "    | \"a\" -> printfn \"x is a (shorter)\"\n",
    "    | \"b\" -> printfn \"x is b (shorter)\"\n",
    "    | _ -> printfn \"x is something else (shorter)\\n\"\n",
    "\n",
    "simplePatternMatchShorter \"a\"\n",
    "simplePatternMatchShorter \"b\"\n",
    "simplePatternMatchShorter \"g\""
   ]
  },
  {
   "cell_type": "markdown",
   "metadata": {},
   "source": [
    "`function` is used as “a match expression in a lambda expression that has pattern matching on a single argument.”\n",
    "\n",
    "[ 📖 https://docs.microsoft.com/en-us/dotnet/fsharp/language-reference/keyword-reference ]\n"
   ]
  },
  {
   "cell_type": "code",
   "execution_count": 12,
   "metadata": {
    "tags": []
   },
   "outputs": [
    {
     "name": "stdout",
     "output_type": "stream",
     "text": [
      "input is an int=99\n",
      "input is missing\n"
     ]
    }
   ],
   "source": [
    "// Some(..) and None are roughly analogous to Nullable wrappers\n",
    "let validValue = Some(99)\n",
    "let invalidValue = None\n",
    "\n",
    "let optionPatternMatch input = // `input` is an option type\n",
    "   match input with\n",
    "    | Some i -> printfn \"input is an int=%d\" i\n",
    "    | None -> printfn \"input is missing\"\n",
    "\n",
    "optionPatternMatch validValue\n",
    "optionPatternMatch invalidValue"
   ]
  },
  {
   "cell_type": "code",
   "execution_count": 13,
   "metadata": {},
   "outputs": [
    {
     "data": {
      "text/html": "<table><thead><tr><th>Item1</th><th>Item2</th></tr></thead><tbody><tr><td><div class=\"dni-plaintext\">1</div></td><td><div class=\"dni-plaintext\">2</div></td></tr></tbody></table>"
     },
     "execution_count": 13,
     "metadata": {},
     "output_type": "execute_result"
    }
   ],
   "source": [
    "let twoTuple = 1,2 // Tuples use commas.\n",
    "twoTuple           // Tuple"
   ]
  },
  {
   "cell_type": "code",
   "execution_count": 14,
   "metadata": {},
   "outputs": [
    {
     "data": {
      "text/html": "<table><thead><tr><th>Item1</th><th>Item2</th><th>Item3</th></tr></thead><tbody><tr><td><div class=\"dni-plaintext\">a</div></td><td><div class=\"dni-plaintext\">2</div></td><td><div class=\"dni-plaintext\">True</div></td></tr></tbody></table>"
     },
     "execution_count": 14,
     "metadata": {},
     "output_type": "execute_result"
    }
   ],
   "source": [
    "let threeTuple = \"a\",2,true\n",
    "threeTuple // Tuple of multiple types"
   ]
  },
  {
   "cell_type": "code",
   "execution_count": 15,
   "metadata": {},
   "outputs": [
    {
     "data": {
      "text/html": "<table><thead><tr><th>Item1</th><th>Item2</th></tr></thead><tbody><tr><td><div class=\"dni-plaintext\">( 1, 2 )</div></td><td><div class=\"dni-plaintext\">( a, 2, True )</div></td></tr></tbody></table>"
     },
     "execution_count": 15,
     "metadata": {},
     "output_type": "execute_result"
    }
   ],
   "source": [
    "(twoTuple, threeTuple) // Tuple of Tuples"
   ]
  },
  {
   "cell_type": "code",
   "execution_count": 16,
   "metadata": {
    "tags": []
   },
   "outputs": [
    {
     "data": {
      "text/html": "<table><thead><tr><th>Item</th></tr></thead><tbody><tr><td><div class=\"dni-plaintext\">98.6</div></td></tr></tbody></table>"
     },
     "execution_count": 16,
     "metadata": {},
     "output_type": "execute_result"
    }
   ],
   "source": [
    "type Person = {First:string; Last:string}\n",
    "let person1 = {First=\"John\"; Last=\"Doe\"}\n",
    "person1 // Record type\n",
    "\n",
    "type Temp = \n",
    "    | DegreesC of float\n",
    "    | DegreesF of float\n",
    "\n",
    "let temp1 =  98.6 |> DegreesF // looks like units with pipe syntax?\n",
    "temp1 // discriminated union (union type) output"
   ]
  },
  {
   "cell_type": "code",
   "execution_count": 17,
   "metadata": {},
   "outputs": [
    {
     "data": {
      "text/html": "<div class=\"dni-plaintext\">True</div>"
     },
     "execution_count": 17,
     "metadata": {},
     "output_type": "execute_result"
    }
   ],
   "source": [
    "let temp2 =  DegreesF 98.6\n",
    "\n",
    "let areEqual = temp1 = temp2\n",
    "areEqual"
   ]
  },
  {
   "cell_type": "code",
   "execution_count": 18,
   "metadata": {},
   "outputs": [
    {
     "data": {
      "text/html": "<div class=\"dni-plaintext\">True</div>"
     },
     "execution_count": 18,
     "metadata": {},
     "output_type": "execute_result"
    }
   ],
   "source": [
    "let areNotEqual = not (temp1 <> temp2)\n",
    "areNotEqual"
   ]
  },
  {
   "cell_type": "code",
   "execution_count": 19,
   "metadata": {},
   "outputs": [
    {
     "data": {
      "text/html": "<table><thead><tr><th>Item</th></tr></thead><tbody><tr><td><div class=\"dni-plaintext\">{ First = &quot;John&quot;\n  Last = &quot;Doe&quot; }</div></td></tr></tbody></table>"
     },
     "execution_count": 19,
     "metadata": {},
     "output_type": "execute_result"
    }
   ],
   "source": [
    "type Employee = \n",
    "    | Worker of Person\n",
    "    | Manager of Employee list\n",
    "\n",
    "let jdoe = {First=\"John\";Last=\"Doe\"}\n",
    "let worker = Worker jdoe\n",
    "worker // recursive discriminated union"
   ]
  },
  {
   "cell_type": "code",
   "execution_count": 20,
   "metadata": {
    "tags": []
   },
   "outputs": [
    {
     "data": {
      "text/html": "<table><thead><tr><th>Item</th></tr></thead><tbody><tr><td><div class=\"dni-plaintext\">[ Worker { First = &quot;Bloke&quot;\n         Last = &quot;One&quot; }, Worker { First = &quot;Bloke&quot;\n         Last = &quot;Two&quot; } ]</div></td></tr></tbody></table>"
     },
     "execution_count": 20,
     "metadata": {},
     "output_type": "execute_result"
    }
   ],
   "source": [
    "let manager = Manager [ Worker{First=\"Bloke\";Last=\"One\"}; Worker{First=\"Bloke\";Last=\"Two\"} ]\n",
    "manager"
   ]
  },
  {
   "cell_type": "code",
   "execution_count": 21,
   "metadata": {
    "tags": []
   },
   "outputs": [
    {
     "name": "stdout",
     "output_type": "stream",
     "text": [
      "Printing an int 1, a float 2.000000, a bool true\n",
      "\n",
      "A string hello, and something generic [1; 2; 3; 4]\n",
      "\n",
      "twoTuple=(1, 2),\n",
      "Person={ First = \"John\"\n",
      "  Last = \"Doe\" },\n",
      "Temp=DegreesF 98.6,\n",
      "Employee=Worker { First = \"John\"\n",
      "         Last = \"Doe\" }\n"
     ]
    }
   ],
   "source": [
    "printfn \"Printing an int %i, a float %f, a bool %b\\n\" 1 2.0 true\n",
    "printfn \"A string %s, and something generic %A\\n\" \"hello\" [1;2;3;4]\n",
    "\n",
    "// all complex types have pretty printing built in\n",
    "printfn \"twoTuple=%A,\\nPerson=%A,\\nTemp=%A,\\nEmployee=%A\" \n",
    "         twoTuple person1 temp1 worker\n",
    "\n",
    "// There are also sprintf/sprintfn functions for formatting data\n",
    "// into a string, similar to String.Format."
   ]
  }
 ],
 "metadata": {
  "kernelspec": {
   "display_name": ".NET (F#)",
   "name": ".net-fsharp"
  },
  "language_info": {
   "codemirror_mode": {
    "name": "ipython",
    "version": 3
   },
   "file_extension": ".py",
   "mimetype": "text/x-python",
   "name": "python",
   "nbconvert_exporter": "python",
   "pygments_lexer": "ipython3",
   "version": "3.7.6-final"
  },
  "orig_nbformat": 2
 },
 "nbformat": 4,
 "nbformat_minor": 2
}