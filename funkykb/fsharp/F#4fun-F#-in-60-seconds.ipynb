{
 "cells": [
  {
   "cell_type": "markdown",
   "source": [
    "# F# in 60 seconds\n",
    "\n",
    "📖 <https://fsharpforfunandprofit.com/posts/fsharp-in-60-seconds/>\n",
    "\n",
    "📖 <https://fsharpforfunandprofit.com/site-contents/>\n",
    "\n",
    "binding with `let`:\n"
   ],
   "metadata": {}
  },
  {
   "cell_type": "code",
   "execution_count": null,
   "source": [
    "let myInt = 5\n",
    "let myFloat = 3.14\n",
    "let myString = \"hello\"  // note that no types needed\n",
    "\n",
    "let twoToFive = [2;3;4;5] // list\n",
    "twoToFive"
   ],
   "outputs": [
    {
     "output_type": "display_data",
     "data": {
      "text/html": [
       "<table><thead><tr><th><i>index</i></th><th>value</th></tr></thead><tbody><tr><td>0</td><td><div class=\"dni-plaintext\">2</div></td></tr><tr><td>1</td><td><div class=\"dni-plaintext\">3</div></td></tr><tr><td>2</td><td><div class=\"dni-plaintext\">4</div></td></tr><tr><td>3</td><td><div class=\"dni-plaintext\">5</div></td></tr></tbody></table>"
      ]
     },
     "metadata": {}
    }
   ],
   "metadata": {
    "tags": [],
    "dotnet_interactive": {
     "language": "fsharp"
    }
   }
  },
  {
   "cell_type": "code",
   "execution_count": null,
   "source": [
    "let oneToFive = 1 :: twoToFive // prepend element\n",
    "oneToFive"
   ],
   "outputs": [
    {
     "output_type": "display_data",
     "data": {
      "text/html": [
       "<table><thead><tr><th><i>index</i></th><th>value</th></tr></thead><tbody><tr><td>0</td><td><div class=\"dni-plaintext\">1</div></td></tr><tr><td>1</td><td><div class=\"dni-plaintext\">2</div></td></tr><tr><td>2</td><td><div class=\"dni-plaintext\">3</div></td></tr><tr><td>3</td><td><div class=\"dni-plaintext\">4</div></td></tr><tr><td>4</td><td><div class=\"dni-plaintext\">5</div></td></tr></tbody></table>"
      ]
     },
     "metadata": {}
    }
   ],
   "metadata": {
    "dotnet_interactive": {
     "language": "fsharp"
    }
   }
  },
  {
   "cell_type": "code",
   "execution_count": null,
   "source": [
    "let zeroToFive = [0;1] @ twoToFive // @ concats two lists\n",
    "zeroToFive"
   ],
   "outputs": [
    {
     "output_type": "display_data",
     "data": {
      "text/html": [
       "<table><thead><tr><th><i>index</i></th><th>value</th></tr></thead><tbody><tr><td>0</td><td><div class=\"dni-plaintext\">0</div></td></tr><tr><td>1</td><td><div class=\"dni-plaintext\">1</div></td></tr><tr><td>2</td><td><div class=\"dni-plaintext\">2</div></td></tr><tr><td>3</td><td><div class=\"dni-plaintext\">3</div></td></tr><tr><td>4</td><td><div class=\"dni-plaintext\">4</div></td></tr><tr><td>5</td><td><div class=\"dni-plaintext\">5</div></td></tr></tbody></table>"
      ]
     },
     "metadata": {}
    }
   ],
   "metadata": {
    "dotnet_interactive": {
     "language": "fsharp"
    }
   }
  },
  {
   "cell_type": "code",
   "execution_count": null,
   "source": [
    "let square x = x * x\n",
    "square 3"
   ],
   "outputs": [
    {
     "output_type": "display_data",
     "data": {
      "text/html": [
       "<div class=\"dni-plaintext\">9</div>"
      ]
     },
     "metadata": {}
    }
   ],
   "metadata": {
    "dotnet_interactive": {
     "language": "fsharp"
    }
   }
  },
  {
   "cell_type": "code",
   "execution_count": null,
   "source": [
    "let add x y = x + y // “Whitespace is used to separate parameters rather than commas.”\n",
    "add 2 3"
   ],
   "outputs": [
    {
     "output_type": "display_data",
     "data": {
      "text/html": [
       "<div class=\"dni-plaintext\">5</div>"
      ]
     },
     "metadata": {}
    }
   ],
   "metadata": {
    "dotnet_interactive": {
     "language": "fsharp"
    }
   }
  },
  {
   "cell_type": "code",
   "execution_count": null,
   "source": [
    "let evens list =\n",
    "    let isEven x = x%2 = 0  //an inner (“nested”) function\n",
    "    List.filter isEven list // `List.filter` is a library function\n",
    "\n",
    "evens oneToFive"
   ],
   "outputs": [
    {
     "output_type": "display_data",
     "data": {
      "text/html": [
       "<table><thead><tr><th><i>index</i></th><th>value</th></tr></thead><tbody><tr><td>0</td><td><div class=\"dni-plaintext\">2</div></td></tr><tr><td>1</td><td><div class=\"dni-plaintext\">4</div></td></tr></tbody></table>"
      ]
     },
     "metadata": {}
    }
   ],
   "metadata": {
    "dotnet_interactive": {
     "language": "fsharp"
    }
   }
  },
  {
   "cell_type": "markdown",
   "source": [
    ">In F# returns are implicit—no `return` needed. A function always returns the value of the last expression used."
   ],
   "metadata": {}
  },
  {
   "cell_type": "code",
   "execution_count": null,
   "source": [
    "let sumOfSquaresTo100 =\n",
    "    List.sum ( List.map square [1..100] ) // use parens to clarify precedence\n",
    "\n",
    "sumOfSquaresTo100"
   ],
   "outputs": [
    {
     "output_type": "display_data",
     "data": {
      "text/html": [
       "<div class=\"dni-plaintext\">338350</div>"
      ]
     },
     "metadata": {}
    }
   ],
   "metadata": {
    "dotnet_interactive": {
     "language": "fsharp"
    }
   }
  },
  {
   "cell_type": "code",
   "execution_count": null,
   "source": [
    "let sumOfSquaresTo100piped =\n",
    "   [1..100] |> List.map square |> List.sum // use `|>` to state precedence\n",
    "\n",
    "sumOfSquaresTo100piped"
   ],
   "outputs": [
    {
     "output_type": "display_data",
     "data": {
      "text/html": [
       "<div class=\"dni-plaintext\">338350</div>"
      ]
     },
     "metadata": {}
    }
   ],
   "metadata": {
    "dotnet_interactive": {
     "language": "fsharp"
    }
   }
  },
  {
   "cell_type": "code",
   "execution_count": null,
   "source": [
    "let sumOfSquaresTo100withFun =\n",
    "   [1..100] |> List.map (fun x->x*x) |> List.sum // use `fun` to define lambda functions inline\n",
    "\n",
    "sumOfSquaresTo100withFun"
   ],
   "outputs": [
    {
     "output_type": "display_data",
     "data": {
      "text/html": [
       "<div class=\"dni-plaintext\">338350</div>"
      ]
     },
     "metadata": {}
    }
   ],
   "metadata": {
    "tags": [],
    "dotnet_interactive": {
     "language": "fsharp"
    }
   }
  },
  {
   "cell_type": "code",
   "execution_count": null,
   "source": [
    "let simplePatternMatch x =\n",
    "   match x with\n",
    "    | \"a\" -> printfn \"x is a\"\n",
    "    | \"b\" -> printfn \"x is b\"\n",
    "    | _ -> printfn \"x is something else\\n\" // underscore matches anything\n",
    "\n",
    "simplePatternMatch \"a\"\n",
    "simplePatternMatch \"b\"\n",
    "\"g (piped in)\" |> simplePatternMatch"
   ],
   "outputs": [
    {
     "output_type": "display_data",
     "data": {
      "text/plain": [
       "x is a"
      ]
     },
     "metadata": {}
    },
    {
     "output_type": "display_data",
     "data": {
      "text/plain": [
       "\n"
      ]
     },
     "metadata": {}
    },
    {
     "output_type": "display_data",
     "data": {
      "text/plain": [
       "x is b"
      ]
     },
     "metadata": {}
    },
    {
     "output_type": "display_data",
     "data": {
      "text/plain": [
       "\n"
      ]
     },
     "metadata": {}
    },
    {
     "output_type": "display_data",
     "data": {
      "text/plain": [
       "x is something else\n"
      ]
     },
     "metadata": {}
    },
    {
     "output_type": "display_data",
     "data": {
      "text/plain": [
       "\n"
      ]
     },
     "metadata": {}
    }
   ],
   "metadata": {
    "tags": [],
    "dotnet_interactive": {
     "language": "fsharp"
    }
   }
  },
  {
   "cell_type": "code",
   "execution_count": null,
   "source": [
    "let simplePatternMatchShorter = function\n",
    "    | \"a\" -> printfn \"x is a (shorter)\"\n",
    "    | \"b\" -> printfn \"x is b (shorter)\"\n",
    "    | _ -> printfn \"x is something else (shorter)\\n\"\n",
    "\n",
    "simplePatternMatchShorter \"a\"\n",
    "simplePatternMatchShorter \"b\"\n",
    "simplePatternMatchShorter \"g\""
   ],
   "outputs": [
    {
     "output_type": "display_data",
     "data": {
      "text/plain": [
       "x is a (shorter)"
      ]
     },
     "metadata": {}
    },
    {
     "output_type": "display_data",
     "data": {
      "text/plain": [
       "\n"
      ]
     },
     "metadata": {}
    },
    {
     "output_type": "display_data",
     "data": {
      "text/plain": [
       "x is b (shorter)"
      ]
     },
     "metadata": {}
    },
    {
     "output_type": "display_data",
     "data": {
      "text/plain": [
       "\n"
      ]
     },
     "metadata": {}
    },
    {
     "output_type": "display_data",
     "data": {
      "text/plain": [
       "x is something else (shorter)\n"
      ]
     },
     "metadata": {}
    },
    {
     "output_type": "display_data",
     "data": {
      "text/plain": [
       "\n"
      ]
     },
     "metadata": {}
    }
   ],
   "metadata": {
    "tags": [],
    "dotnet_interactive": {
     "language": "fsharp"
    }
   }
  },
  {
   "cell_type": "markdown",
   "source": [
    "`function` is used as “a match expression in a lambda expression that has pattern matching on a single argument.”\n",
    "\n",
    "[ 📖 https://docs.microsoft.com/en-us/dotnet/fsharp/language-reference/keyword-reference ]\n"
   ],
   "metadata": {}
  },
  {
   "cell_type": "code",
   "execution_count": null,
   "source": [
    "// Some(..) and None are roughly analogous to Nullable wrappers\n",
    "let validValue = Some(99)\n",
    "let invalidValue = None\n",
    "\n",
    "let optionPatternMatch input = // `input` is an option type\n",
    "   match input with\n",
    "    | Some i -> printfn \"input is an int=%d\" i\n",
    "    | None -> printfn \"input is missing\"\n",
    "\n",
    "optionPatternMatch validValue\n",
    "optionPatternMatch invalidValue"
   ],
   "outputs": [
    {
     "output_type": "display_data",
     "data": {
      "text/plain": [
       "input is an int="
      ]
     },
     "metadata": {}
    },
    {
     "output_type": "display_data",
     "data": {
      "text/plain": [
       "99"
      ]
     },
     "metadata": {}
    },
    {
     "output_type": "display_data",
     "data": {
      "text/plain": [
       "\n"
      ]
     },
     "metadata": {}
    },
    {
     "output_type": "display_data",
     "data": {
      "text/plain": [
       "input is missing"
      ]
     },
     "metadata": {}
    },
    {
     "output_type": "display_data",
     "data": {
      "text/plain": [
       "\n"
      ]
     },
     "metadata": {}
    }
   ],
   "metadata": {
    "tags": [],
    "dotnet_interactive": {
     "language": "fsharp"
    }
   }
  },
  {
   "cell_type": "code",
   "execution_count": null,
   "source": [
    "let twoTuple = 1,2 // Tuples use commas.\n",
    "twoTuple           // Tuple"
   ],
   "outputs": [
    {
     "output_type": "display_data",
     "data": {
      "text/html": [
       "<table><thead><tr><th>Item1</th><th>Item2</th></tr></thead><tbody><tr><td><div class=\"dni-plaintext\">1</div></td><td><div class=\"dni-plaintext\">2</div></td></tr></tbody></table>"
      ]
     },
     "metadata": {}
    }
   ],
   "metadata": {
    "dotnet_interactive": {
     "language": "fsharp"
    }
   }
  },
  {
   "cell_type": "code",
   "execution_count": null,
   "source": [
    "let threeTuple = \"a\",2,true\n",
    "threeTuple // Tuple of multiple types"
   ],
   "outputs": [
    {
     "output_type": "display_data",
     "data": {
      "text/html": [
       "<table><thead><tr><th>Item1</th><th>Item2</th><th>Item3</th></tr></thead><tbody><tr><td><div class=\"dni-plaintext\">a</div></td><td><div class=\"dni-plaintext\">2</div></td><td><div class=\"dni-plaintext\">True</div></td></tr></tbody></table>"
      ]
     },
     "metadata": {}
    }
   ],
   "metadata": {
    "dotnet_interactive": {
     "language": "fsharp"
    }
   }
  },
  {
   "cell_type": "code",
   "execution_count": null,
   "source": [
    "(twoTuple, threeTuple) // Tuple of Tuples"
   ],
   "outputs": [
    {
     "output_type": "display_data",
     "data": {
      "text/html": [
       "<table><thead><tr><th>Item1</th><th>Item2</th></tr></thead><tbody><tr><td><div class=\"dni-plaintext\">( 1, 2 )</div></td><td><div class=\"dni-plaintext\">( a, 2, True )</div></td></tr></tbody></table>"
      ]
     },
     "metadata": {}
    }
   ],
   "metadata": {
    "dotnet_interactive": {
     "language": "fsharp"
    }
   }
  },
  {
   "cell_type": "code",
   "execution_count": null,
   "source": [
    "type Person = {First:string; Last:string}\n",
    "let person1 = {First=\"John\"; Last=\"Doe\"}\n",
    "person1 // Record type\n",
    "\n",
    "type Temp = \n",
    "    | DegreesC of float\n",
    "    | DegreesF of float\n",
    "\n",
    "let temp1 =  98.6 |> DegreesF // looks like units with pipe syntax?\n",
    "temp1 // discriminated union (union type) output"
   ],
   "outputs": [
    {
     "output_type": "display_data",
     "data": {
      "text/html": [
       "<table><thead><tr><th>Item</th></tr></thead><tbody><tr><td><div class=\"dni-plaintext\">98.6</div></td></tr></tbody></table>"
      ]
     },
     "metadata": {}
    }
   ],
   "metadata": {
    "tags": [],
    "dotnet_interactive": {
     "language": "fsharp"
    }
   }
  },
  {
   "cell_type": "code",
   "execution_count": null,
   "source": [
    "let temp2 =  DegreesF 98.6\n",
    "\n",
    "let areEqual = temp1 = temp2\n",
    "areEqual"
   ],
   "outputs": [
    {
     "output_type": "display_data",
     "data": {
      "text/html": [
       "<div class=\"dni-plaintext\">True</div>"
      ]
     },
     "metadata": {}
    }
   ],
   "metadata": {
    "dotnet_interactive": {
     "language": "fsharp"
    }
   }
  },
  {
   "cell_type": "code",
   "execution_count": null,
   "source": [
    "let areNotEqual = not (temp1 <> temp2)\n",
    "areNotEqual"
   ],
   "outputs": [
    {
     "output_type": "display_data",
     "data": {
      "text/html": [
       "<div class=\"dni-plaintext\">True</div>"
      ]
     },
     "metadata": {}
    }
   ],
   "metadata": {
    "dotnet_interactive": {
     "language": "fsharp"
    }
   }
  },
  {
   "cell_type": "code",
   "execution_count": null,
   "source": [
    "type Employee = \n",
    "    | Worker of Person\n",
    "    | Manager of Employee list\n",
    "\n",
    "let jdoe = {First=\"John\";Last=\"Doe\"}\n",
    "let worker = Worker jdoe\n",
    "worker // recursive discriminated union"
   ],
   "outputs": [
    {
     "output_type": "display_data",
     "data": {
      "text/html": [
       "<table><thead><tr><th>Item</th></tr></thead><tbody><tr><td><div class=\"dni-plaintext\">{ { First = &quot;John&quot;\n",
       "  Last = &quot;Doe&quot; }: First: John, Last: Doe }</div></td></tr></tbody></table>"
      ]
     },
     "metadata": {}
    }
   ],
   "metadata": {
    "dotnet_interactive": {
     "language": "fsharp"
    }
   }
  },
  {
   "cell_type": "code",
   "execution_count": null,
   "source": [
    "let manager = Manager [ Worker{First=\"Bloke\";Last=\"One\"}; Worker{First=\"Bloke\";Last=\"Two\"} ]\n",
    "manager"
   ],
   "outputs": [
    {
     "output_type": "display_data",
     "data": {
      "text/html": [
       "<table><thead><tr><th>Item</th></tr></thead><tbody><tr><td><div class=\"dni-plaintext\">[ { Worker { First = &quot;Bloke&quot;\n",
       "         Last = &quot;One&quot; }: Item: { { First = &quot;Bloke&quot;\n",
       "  Last = &quot;One&quot; }: First: Bloke, Last: One } }, { Worker { First = &quot;Bloke&quot;\n",
       "         Last = &quot;Two&quot; }: Item: { { First = &quot;Bloke&quot;\n",
       "  Last = &quot;Two&quot; }: First: Bloke, Last: Two } } ]</div></td></tr></tbody></table>"
      ]
     },
     "metadata": {}
    }
   ],
   "metadata": {
    "tags": [],
    "dotnet_interactive": {
     "language": "fsharp"
    }
   }
  },
  {
   "cell_type": "code",
   "execution_count": null,
   "source": [
    "printfn \"Printing an int %i, a float %f, a bool %b\\n\" 1 2.0 true\n",
    "printfn \"A string %s, and something generic %A\\n\" \"hello\" [1;2;3;4]\n",
    "\n",
    "// all complex types have pretty printing built in\n",
    "printfn \"twoTuple=%A,\\nPerson=%A,\\nTemp=%A,\\nEmployee=%A\" \n",
    "         twoTuple person1 temp1 worker\n",
    "\n",
    "// There are also sprintf/sprintfn functions for formatting data\n",
    "// into a string, similar to String.Format."
   ],
   "outputs": [
    {
     "output_type": "display_data",
     "data": {
      "text/plain": [
       "Printing an int "
      ]
     },
     "metadata": {}
    },
    {
     "output_type": "display_data",
     "data": {
      "text/plain": [
       "1"
      ]
     },
     "metadata": {}
    },
    {
     "output_type": "display_data",
     "data": {
      "text/plain": [
       ", a float "
      ]
     },
     "metadata": {}
    },
    {
     "output_type": "display_data",
     "data": {
      "text/plain": [
       "2.000000"
      ]
     },
     "metadata": {}
    },
    {
     "output_type": "display_data",
     "data": {
      "text/plain": [
       ", a bool "
      ]
     },
     "metadata": {}
    },
    {
     "output_type": "display_data",
     "data": {
      "text/plain": [
       "true"
      ]
     },
     "metadata": {}
    },
    {
     "output_type": "display_data",
     "data": {
      "text/plain": [
       "\n"
      ]
     },
     "metadata": {}
    },
    {
     "output_type": "display_data",
     "data": {
      "text/plain": [
       "\n"
      ]
     },
     "metadata": {}
    },
    {
     "output_type": "display_data",
     "data": {
      "text/plain": [
       "A string "
      ]
     },
     "metadata": {}
    },
    {
     "output_type": "display_data",
     "data": {
      "text/plain": [
       "hello"
      ]
     },
     "metadata": {}
    },
    {
     "output_type": "display_data",
     "data": {
      "text/plain": [
       ", and something generic "
      ]
     },
     "metadata": {}
    },
    {
     "output_type": "display_data",
     "data": {
      "text/plain": [
       "[1; 2; 3; 4]"
      ]
     },
     "metadata": {}
    },
    {
     "output_type": "display_data",
     "data": {
      "text/plain": [
       "\n"
      ]
     },
     "metadata": {}
    },
    {
     "output_type": "display_data",
     "data": {
      "text/plain": [
       "\n"
      ]
     },
     "metadata": {}
    },
    {
     "output_type": "display_data",
     "data": {
      "text/plain": [
       "twoTuple="
      ]
     },
     "metadata": {}
    },
    {
     "output_type": "display_data",
     "data": {
      "text/plain": [
       "(1, 2)"
      ]
     },
     "metadata": {}
    },
    {
     "output_type": "display_data",
     "data": {
      "text/plain": [
       ",\n",
       "Person="
      ]
     },
     "metadata": {}
    },
    {
     "output_type": "display_data",
     "data": {
      "text/plain": [
       "{ First = \"John\"\n",
       "  Last = \"Doe\" }"
      ]
     },
     "metadata": {}
    },
    {
     "output_type": "display_data",
     "data": {
      "text/plain": [
       ",\n",
       "Temp="
      ]
     },
     "metadata": {}
    },
    {
     "output_type": "display_data",
     "data": {
      "text/plain": [
       "DegreesF 98.6"
      ]
     },
     "metadata": {}
    },
    {
     "output_type": "display_data",
     "data": {
      "text/plain": [
       ",\n",
       "Employee="
      ]
     },
     "metadata": {}
    },
    {
     "output_type": "display_data",
     "data": {
      "text/plain": [
       "Worker { First = \"John\"\n",
       "         Last = \"Doe\" }"
      ]
     },
     "metadata": {}
    },
    {
     "output_type": "display_data",
     "data": {
      "text/plain": [
       "\n"
      ]
     },
     "metadata": {}
    }
   ],
   "metadata": {
    "tags": [],
    "dotnet_interactive": {
     "language": "fsharp"
    }
   }
  }
 ],
 "metadata": {
  "kernelspec": {
   "display_name": ".NET (F#)",
   "name": ".net-fsharp"
  },
  "language_info": {
   "codemirror_mode": {
    "name": "ipython",
    "version": 3
   },
   "file_extension": ".py",
   "mimetype": "text/x-python",
   "name": "python",
   "nbconvert_exporter": "python",
   "pygments_lexer": "ipython3",
   "version": "3.7.6-final"
  },
  "orig_nbformat": 2
 },
 "nbformat": 4,
 "nbformat_minor": 2
}