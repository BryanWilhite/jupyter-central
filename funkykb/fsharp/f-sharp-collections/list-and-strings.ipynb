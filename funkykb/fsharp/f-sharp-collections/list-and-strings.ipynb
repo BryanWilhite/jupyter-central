{
 "cells": [
  {
   "cell_type": "markdown",
   "metadata": {},
   "source": [
    "# F# Collections: `List` and strings\n",
    "\n",
    "Is `string` just a `List` of `char`? No, but .NET supports converting an array of `char` to `string`:"
   ]
  },
  {
   "cell_type": "code",
   "execution_count": null,
   "metadata": {
    "dotnet_interactive": {
     "language": "fsharp"
    }
   },
   "outputs": [
    {
     "data": {
      "text/plain": [
       "abc"
      ]
     },
     "metadata": {},
     "output_type": "display_data"
    }
   ],
   "source": [
    "#!fsharp\n",
    "\n",
    "let charList = ['a'; 'b'; 'c']\n",
    "\n",
    "let charArray = charList |> Array.ofList\n",
    "\n",
    "let s = new System.String(charArray) // the F# `string` will not work here\n",
    "\n",
    "s // this is of type `String` not `string` and can be set to `null`"
   ]
  },
  {
   "cell_type": "markdown",
   "metadata": {},
   "source": [
    "You can also use .NET to yield an array of `char`:"
   ]
  },
  {
   "cell_type": "code",
   "execution_count": null,
   "metadata": {
    "dotnet_interactive": {
     "language": "fsharp"
    }
   },
   "outputs": [
    {
     "name": "stdout",
     "output_type": "stream",
     "text": [
      "[|'a'; 'b'; 'c'|]"
     ]
    }
   ],
   "source": [
    "#!fsharp\n",
    "\n",
    "let charArray = s.ToCharArray()\n",
    "\n",
    "charArray |> printf \"%A\""
   ]
  },
  {
   "cell_type": "code",
   "execution_count": null,
   "metadata": {
    "dotnet_interactive": {
     "language": "fsharp"
    }
   },
   "outputs": [
    {
     "name": "stdout",
     "output_type": "stream",
     "text": [
      "\n",
      "test\n",
      "    test\n",
      "        test"
     ]
    }
   ],
   "source": [
    "#!fsharp\n",
    "\n",
    "open System\n",
    "\n",
    "let wrapn indentLevel text =\n",
    "    let numberOfSpaces = 4\n",
    "    let spaceChar = ' '\n",
    "    let charArray =\n",
    "        spaceChar\n",
    "        |> Array.replicate (numberOfSpaces * indentLevel)\n",
    "    let indent = String(charArray)\n",
    "\n",
    "    $\"{Environment.NewLine}{indent}{text}\"\n",
    "\n",
    "\"test\" |> wrapn 0 |> printf \"%s\"\n",
    "\"test\" |> wrapn 1 |> printf \"%s\"\n",
    "\"test\" |> wrapn 2 |> printf \"%s\""
   ]
  }
 ],
 "metadata": {
  "kernelspec": {
   "display_name": ".NET (C#)",
   "language": "C#",
   "name": ".net-csharp"
  },
  "language_info": {
   "file_extension": ".cs",
   "mimetype": "text/x-csharp",
   "name": "C#",
   "pygments_lexer": "csharp",
   "version": "9.0"
  },
  "orig_nbformat": 4
 },
 "nbformat": 4,
 "nbformat_minor": 2
}
