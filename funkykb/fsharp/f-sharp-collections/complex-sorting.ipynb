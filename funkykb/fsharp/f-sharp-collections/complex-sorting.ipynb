{
 "cells": [
  {
   "cell_type": "markdown",
   "metadata": {},
   "source": [
    "# complex sorting\n",
    "\n",
    "We will sort these tuples:"
   ]
  },
  {
   "cell_type": "code",
   "execution_count": null,
   "metadata": {
    "dotnet_interactive": {
     "language": "fsharp"
    }
   },
   "outputs": [],
   "source": [
    "#!fsharp\n",
    "\n",
    "let input =\n",
    "    [\n",
    "        (1, \"one.1\")\n",
    "        (1, \"one.2\")\n",
    "        (6, \"six.1\")\n",
    "        (6, \"six.2\")\n",
    "        (7, \"seven.1\")\n",
    "        (7, \"seven.2\")\n",
    "        (7, \"seven.3\")\n",
    "        (7, \"seven.7\")\n",
    "        (7, \"seven.3.1\")\n",
    "        (7, \"seven.5\")\n",
    "        (3, \"three.1\")\n",
    "        (2, \"two.1\")\n",
    "        (4, \"four.1\")\n",
    "    ]"
   ]
  },
  {
   "cell_type": "markdown",
   "metadata": {},
   "source": [
    "We will sort the first element in the tuple in _descending_ order and then the second, ascending:"
   ]
  },
  {
   "cell_type": "code",
   "execution_count": null,
   "metadata": {
    "dotnet_interactive": {
     "language": "fsharp"
    }
   },
   "outputs": [
    {
     "data": {
      "text/html": [
       "<table><thead><tr><th><i>index</i></th><th>Item1</th><th>Item2</th></tr></thead><tbody><tr><td>0</td><td><div class=\"dni-plaintext\">7</div></td><td><div class=\"dni-plaintext\">[ ( 7, seven.1 ), ( 7, seven.2 ), ( 7, seven.3 ), ( 7, seven.7 ), ( 7, seven.3.1 ), ( 7, seven.5 ) ]</div></td></tr><tr><td>1</td><td><div class=\"dni-plaintext\">6</div></td><td><div class=\"dni-plaintext\">[ ( 6, six.1 ), ( 6, six.2 ) ]</div></td></tr><tr><td>2</td><td><div class=\"dni-plaintext\">4</div></td><td><div class=\"dni-plaintext\">[ ( 4, four.1 ) ]</div></td></tr><tr><td>3</td><td><div class=\"dni-plaintext\">3</div></td><td><div class=\"dni-plaintext\">[ ( 3, three.1 ) ]</div></td></tr><tr><td>4</td><td><div class=\"dni-plaintext\">2</div></td><td><div class=\"dni-plaintext\">[ ( 2, two.1 ) ]</div></td></tr><tr><td>5</td><td><div class=\"dni-plaintext\">1</div></td><td><div class=\"dni-plaintext\">[ ( 1, one.1 ), ( 1, one.2 ) ]</div></td></tr></tbody></table>"
      ]
     },
     "metadata": {},
     "output_type": "display_data"
    }
   ],
   "source": [
    "#!fsharp\n",
    "\n",
    "let groups =\n",
    "    input\n",
    "    |> List.groupBy (fun (i, _) -> i)\n",
    "    |> List.sortByDescending fst\n",
    "\n",
    "groups"
   ]
  },
  {
   "cell_type": "code",
   "execution_count": null,
   "metadata": {
    "dotnet_interactive": {
     "language": "fsharp"
    }
   },
   "outputs": [
    {
     "data": {
      "text/html": [
       "<table><thead><tr><th><i>index</i></th><th>Item1</th><th>Item2</th></tr></thead><tbody><tr><td>0</td><td><div class=\"dni-plaintext\">7</div></td><td>seven.1</td></tr><tr><td>1</td><td><div class=\"dni-plaintext\">7</div></td><td>seven.2</td></tr><tr><td>2</td><td><div class=\"dni-plaintext\">7</div></td><td>seven.3</td></tr><tr><td>3</td><td><div class=\"dni-plaintext\">7</div></td><td>seven.3.1</td></tr><tr><td>4</td><td><div class=\"dni-plaintext\">7</div></td><td>seven.5</td></tr><tr><td>5</td><td><div class=\"dni-plaintext\">7</div></td><td>seven.7</td></tr><tr><td>6</td><td><div class=\"dni-plaintext\">6</div></td><td>six.1</td></tr><tr><td>7</td><td><div class=\"dni-plaintext\">6</div></td><td>six.2</td></tr><tr><td>8</td><td><div class=\"dni-plaintext\">4</div></td><td>four.1</td></tr><tr><td>9</td><td><div class=\"dni-plaintext\">3</div></td><td>three.1</td></tr><tr><td>10</td><td><div class=\"dni-plaintext\">2</div></td><td>two.1</td></tr><tr><td>11</td><td><div class=\"dni-plaintext\">1</div></td><td>one.1</td></tr><tr><td>12</td><td><div class=\"dni-plaintext\">1</div></td><td>one.2</td></tr></tbody></table>"
      ]
     },
     "metadata": {},
     "output_type": "display_data"
    }
   ],
   "source": [
    "#!fsharp\n",
    "\n",
    "groups\n",
    "|> List.collect (fun (_,g) -> g |> List.sort)"
   ]
  },
  {
   "cell_type": "markdown",
   "metadata": {},
   "source": [
    "`List.collect` seems made for this kind of sorting!"
   ]
  },
  {
   "cell_type": "markdown",
   "metadata": {},
   "source": [
    "@[BryanWilhite](https://twitter.com/BryanWilhite)\n"
   ]
  }
 ],
 "metadata": {
  "kernelspec": {
   "display_name": ".NET (C#)",
   "language": "C#",
   "name": ".net-csharp"
  },
  "language_info": {
   "file_extension": ".cs",
   "mimetype": "text/x-csharp",
   "name": "C#",
   "pygments_lexer": "csharp",
   "version": "9.0"
  },
  "orig_nbformat": 4
 },
 "nbformat": 4,
 "nbformat_minor": 2
}
