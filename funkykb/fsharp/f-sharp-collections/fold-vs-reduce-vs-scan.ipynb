{
 "cells": [
  {
   "cell_type": "markdown",
   "id": "1df2500e",
   "metadata": {},
   "source": [
    "# `List.fold` vs. `List.reduce` vs. `List.scan`"
   ]
  },
  {
   "cell_type": "code",
   "execution_count": 1,
   "id": "6d58cb30",
   "metadata": {
    "language_info": {
     "name": "polyglot-notebook"
    },
    "polyglot_notebook": {
     "kernelName": "fsharp"
    }
   },
   "outputs": [],
   "source": [
    "#!fsharp\n",
    "\n",
    "let myList = [ \"one\"; \"two\"; \"three\" ]"
   ]
  },
  {
   "cell_type": "code",
   "execution_count": 2,
   "id": "796302fc",
   "metadata": {
    "language_info": {
     "name": "polyglot-notebook"
    },
    "polyglot_notebook": {
     "kernelName": "fsharp"
    }
   },
   "outputs": [
    {
     "data": {
      "text/plain": [
       "start\n",
       "one\n",
       "two\n",
       "three"
      ]
     },
     "metadata": {},
     "output_type": "display_data"
    }
   ],
   "source": [
    "#!fsharp\n",
    "\n",
    "(\"start\", myList) ||> List.fold (fun a i -> $\"{a}\\n{i}\")"
   ]
  },
  {
   "cell_type": "code",
   "execution_count": 3,
   "id": "7ff3eb82",
   "metadata": {},
   "outputs": [
    {
     "data": {
      "text/plain": [
       "one\n",
       "two\n",
       "three"
      ]
     },
     "metadata": {},
     "output_type": "display_data"
    }
   ],
   "source": [
    "#!fsharp\n",
    "\n",
    "myList |> List.reduce (fun a i -> $\"{a}\\n{i}\")"
   ]
  },
  {
   "cell_type": "code",
   "execution_count": 5,
   "id": "5b26a72a",
   "metadata": {},
   "outputs": [
    {
     "data": {
      "text/plain": [
       "start\n",
       "start\n",
       "one\n",
       "start\n",
       "one\n",
       "two\n",
       "start\n",
       "one\n",
       "two\n",
       "three"
      ]
     },
     "metadata": {},
     "output_type": "display_data"
    }
   ],
   "source": [
    "#!fsharp\n",
    "\n",
    "(\"start\", myList) ||> List.scan (fun a i -> $\"{a}\\n{i}\") |> List.reduce (fun a i -> $\"{a}\\n{i}\")"
   ]
  }
 ],
 "metadata": {
  "kernelspec": {
   "display_name": ".NET (C#)",
   "language": "C#",
   "name": ".net-csharp"
  },
  "language_info": {
   "name": "polyglot-notebook"
  },
  "polyglot_notebook": {
   "kernelInfo": {
    "defaultKernelName": "csharp",
    "items": [
     {
      "aliases": [],
      "name": "csharp"
     }
    ]
   }
  }
 },
 "nbformat": 4,
 "nbformat_minor": 5
}
