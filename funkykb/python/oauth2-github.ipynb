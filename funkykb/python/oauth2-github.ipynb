{
 "cells": [
  {
   "cell_type": "code",
   "execution_count": 1,
   "metadata": {},
   "outputs": [],
   "source": [
    "import json, os, requests\n",
    "\n",
    "path = os.environ.get('SONGHAY_APP_SETTINGS_PATH')\n",
    "\n",
    "github_claims = dict()\n",
    "\n",
    "with open(path, 'r') as f:\n",
    "  data = json.load(f)\n",
    "  github_claims = data['ProgramMetadata']['RestApiMetadataSet']['GitHub']['ClaimsSet']"
   ]
  },
  {
   "cell_type": "code",
   "execution_count": 2,
   "metadata": {},
   "outputs": [],
   "source": [
    "\n",
    "client_id = github_claims['SonghayOauth2ClientId']\n",
    "device_code_uri = 'https://github.com/login/device/code'\n",
    "basic_uri = f'https://api.github.com/applications/{client_id}/token'\n"
   ]
  },
  {
   "cell_type": "code",
   "execution_count": 3,
   "metadata": {},
   "outputs": [
    {
     "data": {
      "text/plain": [
       "<Response [404]>"
      ]
     },
     "execution_count": 3,
     "metadata": {},
     "output_type": "execute_result"
    }
   ],
   "source": [
    "data = {'client_id': client_id, 'scope': 'public_repo notifications'}\n",
    "\n",
    "requests.post(url=device_code_uri, data=data)"
   ]
  },
  {
   "cell_type": "code",
   "execution_count": 3,
   "metadata": {},
   "outputs": [
    {
     "data": {
      "text/plain": [
       "<Response [404]>"
      ]
     },
     "execution_count": 3,
     "metadata": {},
     "output_type": "execute_result"
    }
   ],
   "source": [
    "data = {'user': f'{client_id}:{github_claims[\"SonghayOauth2ClientSecret\"]}',\n",
    "        'header': 'Accept: application/vnd.github+json',\n",
    "        'header': 'X-GitHub-Api-Version: 2022-11-28'}\n",
    "\n",
    "requests.post(url=basic_uri, data=data)"
   ]
  },
  {
   "cell_type": "code",
   "execution_count": 2,
   "metadata": {},
   "outputs": [],
   "source": [
    "from oauthlib.oauth2 import WebApplicationClient\n",
    "\n",
    "client = WebApplicationClient(client_id)\n",
    "app_uri = client.prepare_request_uri(basic_uri)"
   ]
  }
 ],
 "metadata": {
  "kernelspec": {
   "display_name": "base",
   "language": "python",
   "name": "python3"
  },
  "language_info": {
   "codemirror_mode": {
    "name": "ipython",
    "version": 3
   },
   "file_extension": ".py",
   "mimetype": "text/x-python",
   "name": "python",
   "nbconvert_exporter": "python",
   "pygments_lexer": "ipython3",
   "version": "3.8.13"
  }
 },
 "nbformat": 4,
 "nbformat_minor": 2
}
