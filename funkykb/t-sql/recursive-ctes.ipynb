{
    "cells": [
        {
            "attachments": {},
            "cell_type": "markdown",
            "metadata": {
                "azdata_cell_guid": "5c1f4e3d-ff69-4fad-90a5-09d047b68a89"
            },
            "source": [
                "# recursive <acronym title=\"Common Table Expression\">CTE</acronym>s\n",
                "\n",
                "When you are  tempted to open a `CURSOR` 👴, consider <acronym title=\"Common Table Expression\">CTE</acronym>s instead [📖 [docs](https://learn.microsoft.com/en-us/sql/t-sql/queries/with-common-table-expression-transact-sql?view=sql-server-ver16)]. The imperative way to search through Microsoft SQL Server data ultimately depends on `CURSOR` \\[📖 [docs](https://learn.microsoft.com/en-us/sql/relational-databases/cursors?view=sql-server-ver16) \\] and probably a bunch of temp tables.\n",
                "\n",
                "The modern, set-based way to consider is a design featuring <acronym title=\"Common Table Expression\">CTE</acronym>s. See “[SQL SERVER – Replacing a Cursor with a Common Table Expression](https://blog.sqlauthority.com/2023/07/03/sql-server-replacing-a-cursor-with-a-common-table-expression/).”\n",
                "\n",
                "The most compelling reason to move to <acronym title=\"Common Table Expression\">CTE</acronym>s is for elegance around recursion. Consider the following set of employees:"
            ]
        },
        {
            "cell_type": "code",
            "execution_count": 1,
            "metadata": {
                "azdata_cell_guid": "4ae61c71-a0ed-4d76-9165-780aaf31da5b",
                "language": "sql"
            },
            "outputs": [
                {
                    "data": {
                        "text/html": [
                            "(14 rows affected)"
                        ]
                    },
                    "metadata": {},
                    "output_type": "display_data"
                },
                {
                    "data": {
                        "text/html": [
                            "(14 rows affected)"
                        ]
                    },
                    "metadata": {},
                    "output_type": "display_data"
                },
                {
                    "data": {
                        "text/html": [
                            "Total execution time: 00:00:00.035"
                        ]
                    },
                    "metadata": {},
                    "output_type": "display_data"
                },
                {
                    "data": {
                        "application/vnd.dataresource+json": {
                            "data": [
                                {
                                    "ID": "7369",
                                    "MANAGER_ID": "7902",
                                    "NAME": "SMITH",
                                    "ROLE": "CLERK"
                                },
                                {
                                    "ID": "7499",
                                    "MANAGER_ID": "7698",
                                    "NAME": "ALLEN",
                                    "ROLE": "SALESMAN"
                                },
                                {
                                    "ID": "7521",
                                    "MANAGER_ID": "7698",
                                    "NAME": "WARD",
                                    "ROLE": "SALESMAN"
                                },
                                {
                                    "ID": "7566",
                                    "MANAGER_ID": "7839",
                                    "NAME": "JONES",
                                    "ROLE": "MANAGER"
                                },
                                {
                                    "ID": "7654",
                                    "MANAGER_ID": "7698",
                                    "NAME": "MARTIN",
                                    "ROLE": "SALESMAN"
                                },
                                {
                                    "ID": "7698",
                                    "MANAGER_ID": "7839",
                                    "NAME": "BLAKE",
                                    "ROLE": "MANAGER"
                                },
                                {
                                    "ID": "7782",
                                    "MANAGER_ID": "7839",
                                    "NAME": "CLARK",
                                    "ROLE": "MANAGER"
                                },
                                {
                                    "ID": "7788",
                                    "MANAGER_ID": "7566",
                                    "NAME": "SCOTT",
                                    "ROLE": "ANALYST"
                                },
                                {
                                    "ID": "7839",
                                    "MANAGER_ID": "NULL",
                                    "NAME": "KING",
                                    "ROLE": "PRESIDENT"
                                },
                                {
                                    "ID": "7844",
                                    "MANAGER_ID": "7698",
                                    "NAME": "TURNER",
                                    "ROLE": "SALESMAN"
                                },
                                {
                                    "ID": "7876",
                                    "MANAGER_ID": "7788",
                                    "NAME": "ADAMS",
                                    "ROLE": "CLERK"
                                },
                                {
                                    "ID": "7900",
                                    "MANAGER_ID": "7698",
                                    "NAME": "JAMES",
                                    "ROLE": "CLERK"
                                },
                                {
                                    "ID": "7902",
                                    "MANAGER_ID": "7566",
                                    "NAME": "FORD",
                                    "ROLE": "ANALYST"
                                },
                                {
                                    "ID": "7934",
                                    "MANAGER_ID": "7782",
                                    "NAME": "MILLER",
                                    "ROLE": "CLERK"
                                }
                            ],
                            "schema": {
                                "fields": [
                                    {
                                        "name": "ID"
                                    },
                                    {
                                        "name": "NAME"
                                    },
                                    {
                                        "name": "ROLE"
                                    },
                                    {
                                        "name": "MANAGER_ID"
                                    }
                                ]
                            }
                        },
                        "text/html": [
                            "<table>\n",
                            "<tr><th>ID</th><th>NAME</th><th>ROLE</th><th>MANAGER_ID</th></tr>\n",
                            "<tr><td>7369</td><td>SMITH</td><td>CLERK</td><td>7902</td></tr>\n",
                            "<tr><td>7499</td><td>ALLEN</td><td>SALESMAN</td><td>7698</td></tr>\n",
                            "<tr><td>7521</td><td>WARD</td><td>SALESMAN</td><td>7698</td></tr>\n",
                            "<tr><td>7566</td><td>JONES</td><td>MANAGER</td><td>7839</td></tr>\n",
                            "<tr><td>7654</td><td>MARTIN</td><td>SALESMAN</td><td>7698</td></tr>\n",
                            "<tr><td>7698</td><td>BLAKE</td><td>MANAGER</td><td>7839</td></tr>\n",
                            "<tr><td>7782</td><td>CLARK</td><td>MANAGER</td><td>7839</td></tr>\n",
                            "<tr><td>7788</td><td>SCOTT</td><td>ANALYST</td><td>7566</td></tr>\n",
                            "<tr><td>7839</td><td>KING</td><td>PRESIDENT</td><td>NULL</td></tr>\n",
                            "<tr><td>7844</td><td>TURNER</td><td>SALESMAN</td><td>7698</td></tr>\n",
                            "<tr><td>7876</td><td>ADAMS</td><td>CLERK</td><td>7788</td></tr>\n",
                            "<tr><td>7900</td><td>JAMES</td><td>CLERK</td><td>7698</td></tr>\n",
                            "<tr><td>7902</td><td>FORD</td><td>ANALYST</td><td>7566</td></tr>\n",
                            "<tr><td>7934</td><td>MILLER</td><td>CLERK</td><td>7782</td></tr>\n",
                            "</table>"
                        ]
                    },
                    "execution_count": 1,
                    "metadata": {},
                    "output_type": "execute_result"
                }
            ],
            "source": [
                "USE pubs\n",
                "\n",
                "CREATE TABLE #Employees\n",
                "    (\n",
                "        [ID] INT\n",
                "    ,   [NAME] VARCHAR(32)\n",
                "    ,   [ROLE] VARCHAR(32)\n",
                "    ,   [MANAGER_ID] INT\n",
                "    )\n",
                "\n",
                "INSERT INTO #Employees\n",
                "VALUES\n",
                "    ( 7369, 'SMITH', 'CLERK', 7902 )\n",
                ",   ( 7499, 'ALLEN', 'SALESMAN', 7698 )\n",
                ",   ( 7521, 'WARD', 'SALESMAN', 7698 )\n",
                ",   ( 7566, 'JONES', 'MANAGER', 7839 )\n",
                ",   ( 7654, 'MARTIN', 'SALESMAN', 7698 )\n",
                ",   ( 7698, 'BLAKE', 'MANAGER', 7839 )\n",
                ",   ( 7782, 'CLARK', 'MANAGER', 7839 )\n",
                ",   ( 7788, 'SCOTT', 'ANALYST', 7566 )\n",
                ",   ( 7839, 'KING', 'PRESIDENT', NULL )\n",
                ",   ( 7844, 'TURNER', 'SALESMAN', 7698 )\n",
                ",   ( 7876, 'ADAMS', 'CLERK', 7788 )\n",
                ",   ( 7900, 'JAMES', 'CLERK', 7698 )\n",
                ",   ( 7902, 'FORD', 'ANALYST', 7566 )\n",
                ",   ( 7934, 'MILLER', 'CLERK', 7782 )\n",
                "\n",
                "SELECT * FROM #Employees"
            ]
        },
        {
            "attachments": {},
            "cell_type": "markdown",
            "metadata": {
                "azdata_cell_guid": "d81fcc9b-8c5d-4c53-bb78-fc2d511f3c66"
            },
            "source": [
                "We can report on who is managed by whom with recursion:"
            ]
        },
        {
            "cell_type": "code",
            "execution_count": 2,
            "metadata": {
                "azdata_cell_guid": "928bc786-9cfc-443b-bb6d-0ffc8475e0f0",
                "language": "sql"
            },
            "outputs": [
                {
                    "data": {
                        "text/html": [
                            "(14 rows affected)"
                        ]
                    },
                    "metadata": {},
                    "output_type": "display_data"
                },
                {
                    "data": {
                        "text/html": [
                            "Total execution time: 00:00:00.003"
                        ]
                    },
                    "metadata": {},
                    "output_type": "display_data"
                },
                {
                    "data": {
                        "application/vnd.dataresource+json": {
                            "data": [
                                {
                                    "ID": "7839",
                                    "MANAGER_ID": "NULL",
                                    "MANAGER_NAME": "N/A",
                                    "NAME": "KING",
                                    "ROLE": "PRESIDENT"
                                },
                                {
                                    "ID": "7566",
                                    "MANAGER_ID": "7839",
                                    "MANAGER_NAME": "KING",
                                    "NAME": "JONES",
                                    "ROLE": "MANAGER"
                                },
                                {
                                    "ID": "7698",
                                    "MANAGER_ID": "7839",
                                    "MANAGER_NAME": "KING",
                                    "NAME": "BLAKE",
                                    "ROLE": "MANAGER"
                                },
                                {
                                    "ID": "7782",
                                    "MANAGER_ID": "7839",
                                    "MANAGER_NAME": "KING",
                                    "NAME": "CLARK",
                                    "ROLE": "MANAGER"
                                },
                                {
                                    "ID": "7934",
                                    "MANAGER_ID": "7782",
                                    "MANAGER_NAME": "CLARK",
                                    "NAME": "MILLER",
                                    "ROLE": "CLERK"
                                },
                                {
                                    "ID": "7499",
                                    "MANAGER_ID": "7698",
                                    "MANAGER_NAME": "BLAKE",
                                    "NAME": "ALLEN",
                                    "ROLE": "SALESMAN"
                                },
                                {
                                    "ID": "7521",
                                    "MANAGER_ID": "7698",
                                    "MANAGER_NAME": "BLAKE",
                                    "NAME": "WARD",
                                    "ROLE": "SALESMAN"
                                },
                                {
                                    "ID": "7654",
                                    "MANAGER_ID": "7698",
                                    "MANAGER_NAME": "BLAKE",
                                    "NAME": "MARTIN",
                                    "ROLE": "SALESMAN"
                                },
                                {
                                    "ID": "7844",
                                    "MANAGER_ID": "7698",
                                    "MANAGER_NAME": "BLAKE",
                                    "NAME": "TURNER",
                                    "ROLE": "SALESMAN"
                                },
                                {
                                    "ID": "7900",
                                    "MANAGER_ID": "7698",
                                    "MANAGER_NAME": "BLAKE",
                                    "NAME": "JAMES",
                                    "ROLE": "CLERK"
                                },
                                {
                                    "ID": "7788",
                                    "MANAGER_ID": "7566",
                                    "MANAGER_NAME": "JONES",
                                    "NAME": "SCOTT",
                                    "ROLE": "ANALYST"
                                },
                                {
                                    "ID": "7902",
                                    "MANAGER_ID": "7566",
                                    "MANAGER_NAME": "JONES",
                                    "NAME": "FORD",
                                    "ROLE": "ANALYST"
                                },
                                {
                                    "ID": "7369",
                                    "MANAGER_ID": "7902",
                                    "MANAGER_NAME": "FORD",
                                    "NAME": "SMITH",
                                    "ROLE": "CLERK"
                                },
                                {
                                    "ID": "7876",
                                    "MANAGER_ID": "7788",
                                    "MANAGER_NAME": "SCOTT",
                                    "NAME": "ADAMS",
                                    "ROLE": "CLERK"
                                }
                            ],
                            "schema": {
                                "fields": [
                                    {
                                        "name": "ID"
                                    },
                                    {
                                        "name": "NAME"
                                    },
                                    {
                                        "name": "ROLE"
                                    },
                                    {
                                        "name": "MANAGER_ID"
                                    },
                                    {
                                        "name": "MANAGER_NAME"
                                    }
                                ]
                            }
                        },
                        "text/html": [
                            "<table>\n",
                            "<tr><th>ID</th><th>NAME</th><th>ROLE</th><th>MANAGER_ID</th><th>MANAGER_NAME</th></tr>\n",
                            "<tr><td>7839</td><td>KING</td><td>PRESIDENT</td><td>NULL</td><td>N/A</td></tr>\n",
                            "<tr><td>7566</td><td>JONES</td><td>MANAGER</td><td>7839</td><td>KING</td></tr>\n",
                            "<tr><td>7698</td><td>BLAKE</td><td>MANAGER</td><td>7839</td><td>KING</td></tr>\n",
                            "<tr><td>7782</td><td>CLARK</td><td>MANAGER</td><td>7839</td><td>KING</td></tr>\n",
                            "<tr><td>7934</td><td>MILLER</td><td>CLERK</td><td>7782</td><td>CLARK</td></tr>\n",
                            "<tr><td>7499</td><td>ALLEN</td><td>SALESMAN</td><td>7698</td><td>BLAKE</td></tr>\n",
                            "<tr><td>7521</td><td>WARD</td><td>SALESMAN</td><td>7698</td><td>BLAKE</td></tr>\n",
                            "<tr><td>7654</td><td>MARTIN</td><td>SALESMAN</td><td>7698</td><td>BLAKE</td></tr>\n",
                            "<tr><td>7844</td><td>TURNER</td><td>SALESMAN</td><td>7698</td><td>BLAKE</td></tr>\n",
                            "<tr><td>7900</td><td>JAMES</td><td>CLERK</td><td>7698</td><td>BLAKE</td></tr>\n",
                            "<tr><td>7788</td><td>SCOTT</td><td>ANALYST</td><td>7566</td><td>JONES</td></tr>\n",
                            "<tr><td>7902</td><td>FORD</td><td>ANALYST</td><td>7566</td><td>JONES</td></tr>\n",
                            "<tr><td>7369</td><td>SMITH</td><td>CLERK</td><td>7902</td><td>FORD</td></tr>\n",
                            "<tr><td>7876</td><td>ADAMS</td><td>CLERK</td><td>7788</td><td>SCOTT</td></tr>\n",
                            "</table>"
                        ]
                    },
                    "execution_count": 2,
                    "metadata": {},
                    "output_type": "execute_result"
                }
            ],
            "source": [
                ";WITH EMPLOYEE_CTE AS (\n",
                "    -- seed record:\n",
                "    SELECT\n",
                "        [ID]\n",
                "    ,   [NAME]\n",
                "    ,   [ROLE]\n",
                "    ,   [MANAGER_ID]\n",
                "    ,   [MANAGER_NAME] = CAST('N/A' AS VARCHAR(32))\n",
                "    FROM #Employees\n",
                "    WHERE [MANAGER_ID] IS NULL\n",
                "\n",
                "    UNION ALL\n",
                "\n",
                "    -- recursive statement:\n",
                "    SELECT\n",
                "        emps.[ID]\n",
                "    ,   emps.[NAME]\n",
                "    ,   emps.[ROLE]\n",
                "    ,   emps.[MANAGER_ID]\n",
                "    ,   [MANAGER_NAME] = cte.[NAME]\n",
                "    FROM\n",
                "        #Employees emps\n",
                "        --constrain and recur:\n",
                "        INNER JOIN EMPLOYEE_CTE cte\n",
                "            ON cte.[ID] = emps.[MANAGER_ID]\n",
                ")\n",
                "SELECT * FROM EMPLOYEE_CTE"
            ]
        },
        {
            "attachments": {},
            "cell_type": "markdown",
            "metadata": {
                "azdata_cell_guid": "64a29af0-3360-4463-8239-acdb2377deb7"
            },
            "source": [
                "There are two important things to remember:\n",
                "1. `EMPLOYEE_CTE` is filling with every iteration.\n",
                "2. The `INNER JOIN` constrains recursion _and_ drives recursion.\n",
                "\n",
                "The inner join on `cte.[ID]` _up_ to `emps.[MANAGER_ID]` recognizes the hierarchical relation between `[ID]` and `[MANAGER_ID]`.\n",
                "\n",
                "Also, to report on the hierarchy of a _specific_ manager change the `WHERE [MANAGER_ID] IS NULL` constraint to  `WHERE [ID] = <ID of employee>`."
            ]
        },
        {
            "cell_type": "code",
            "execution_count": 3,
            "metadata": {
                "azdata_cell_guid": "5c4620ab-c09f-47b1-85ec-92cd76558ceb",
                "language": "sql"
            },
            "outputs": [
                {
                    "data": {
                        "text/html": [
                            "Commands completed successfully."
                        ]
                    },
                    "metadata": {},
                    "output_type": "display_data"
                },
                {
                    "data": {
                        "text/html": [
                            "Total execution time: 00:00:00.003"
                        ]
                    },
                    "metadata": {},
                    "output_type": "display_data"
                }
            ],
            "source": [
                "DROP TABLE #Employees"
            ]
        },
        {
            "attachments": {},
            "cell_type": "markdown",
            "metadata": {
                "azdata_cell_guid": "fd1a623c-44df-4034-8319-72247fe25e69",
                "language": ""
            },
            "source": [
                "## recursive <acronym title=\"Common Table Expression\">CTE</acronym> as a counter\n",
                "\n",
                "Previously was the assertion that `EMPLOYEE_CTE` is filling with every _iteration_. We can explicitly demonstrate this iterative quality of <acronym title=\"Common Table Expression\">CTE</acronym>s with the following:"
            ]
        },
        {
            "cell_type": "code",
            "execution_count": 4,
            "metadata": {
                "azdata_cell_guid": "8de9f675-4c14-45cc-83f1-8f1d0185f651",
                "language": "sql"
            },
            "outputs": [
                {
                    "data": {
                        "text/html": [
                            "(11 rows affected)"
                        ]
                    },
                    "metadata": {},
                    "output_type": "display_data"
                },
                {
                    "data": {
                        "text/html": [
                            "Total execution time: 00:00:00.002"
                        ]
                    },
                    "metadata": {},
                    "output_type": "display_data"
                },
                {
                    "data": {
                        "application/vnd.dataresource+json": {
                            "data": [
                                {
                                    "n": "0"
                                },
                                {
                                    "n": "1"
                                },
                                {
                                    "n": "2"
                                },
                                {
                                    "n": "3"
                                },
                                {
                                    "n": "4"
                                },
                                {
                                    "n": "5"
                                },
                                {
                                    "n": "6"
                                },
                                {
                                    "n": "7"
                                },
                                {
                                    "n": "8"
                                },
                                {
                                    "n": "9"
                                },
                                {
                                    "n": "10"
                                }
                            ],
                            "schema": {
                                "fields": [
                                    {
                                        "name": "n"
                                    }
                                ]
                            }
                        },
                        "text/html": [
                            "<table>\n",
                            "<tr><th>n</th></tr>\n",
                            "<tr><td>0</td></tr>\n",
                            "<tr><td>1</td></tr>\n",
                            "<tr><td>2</td></tr>\n",
                            "<tr><td>3</td></tr>\n",
                            "<tr><td>4</td></tr>\n",
                            "<tr><td>5</td></tr>\n",
                            "<tr><td>6</td></tr>\n",
                            "<tr><td>7</td></tr>\n",
                            "<tr><td>8</td></tr>\n",
                            "<tr><td>9</td></tr>\n",
                            "<tr><td>10</td></tr>\n",
                            "</table>"
                        ]
                    },
                    "execution_count": 4,
                    "metadata": {},
                    "output_type": "execute_result"
                }
            ],
            "source": [
                "WITH COUNTER_CTE AS (\n",
                "    -- seed record:\n",
                "    SELECT n = 0\n",
                "\n",
                "    UNION ALL\n",
                "\n",
                "    -- recursive statement:\n",
                "    SELECT n + 1     -- increment projection\n",
                "    FROM COUNTER_CTE -- recursive `FROM` clause\n",
                "    WHERE n < 10     -- limit on recursion\n",
                ")\n",
                "SELECT n FROM COUNTER_CTE"
            ]
        },
        {
            "attachments": {},
            "cell_type": "markdown",
            "metadata": {
                "azdata_cell_guid": "19b863eb-7b08-4974-a98f-ed48e2e58b98"
            },
            "source": [
                "The elements of <acronym title=\"Common Table Expression\">CTE</acronym> recursion include:\n",
                "\n",
                "- an “anchor” ⚓ or seed 🌱 record\n",
                "- a `UNION` statement that allows duplicates\n",
                "- a recursive statement\n",
                "\n",
                "Note that our first <acronym title=\"Common Table Expression\">CTE</acronym> example achieved recursion by a `JOIN` and the example above would run “forever” (until stack overflow) without the `WHERE` constraint."
            ]
        },
        {
            "attachments": {},
            "cell_type": "markdown",
            "metadata": {
                "azdata_cell_guid": "6a9bbd6e-6895-4726-bb18-85d1350a2b52",
                "language": ""
            },
            "source": [
                "For more detail, watch the following YouTube video:\n",
                "\n",
                "<figure> \n",
                "    <a href=\"https://www.youtube.com/watch?v=IBSmPZFR9Pg\"> \n",
                "        <img alt=\"SQL Recursion with CTE Part 1 | Quick Tips Ep59\" src=\"https://img.youtube.com/vi/IBSmPZFR9Pg/maxresdefault.jpg\" width=\"480\" /> \n",
                "    </a> \n",
                "    <p><small>SQL Recursion with CTE Part 1 | Quick Tips Ep59</small></p> \n",
                "</figure> \n"
            ]
        },
        {
            "attachments": {},
            "cell_type": "markdown",
            "metadata": {
                "azdata_cell_guid": "80df5758-04bc-412a-84e3-4985f80bba20"
            },
            "source": [
                "## <!-- -->\n",
                "\n",
                "🐙🐱[BryanWilhite](https://github.com/BryanWilhite)"
            ]
        }
    ],
    "metadata": {
        "kernelspec": {
            "display_name": "SQL",
            "language": "sql",
            "name": "SQL"
        },
        "language_info": {
            "name": "sql",
            "version": ""
        }
    },
    "nbformat": 4,
    "nbformat_minor": 2
}
