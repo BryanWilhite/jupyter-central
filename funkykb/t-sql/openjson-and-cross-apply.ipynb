{
    "metadata": {
        "kernelspec": {
            "name": "SQL",
            "display_name": "SQL",
            "language": "sql"
        },
        "language_info": {
            "name": "sql",
            "version": ""
        }
    },
    "nbformat_minor": 2,
    "nbformat": 4,
    "cells": [
        {
            "cell_type": "markdown",
            "source": [
                "# \n",
                "\n",
                "I introduced `OPENJSON`"
            ],
            "metadata": {
                "azdata_cell_guid": "409c20d8-9d7d-4c67-9c03-56471fc31b5e"
            },
            "attachments": {}
        }
    ]
}