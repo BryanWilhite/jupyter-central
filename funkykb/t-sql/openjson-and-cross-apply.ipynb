{
    "cells": [
        {
            "attachments": {},
            "cell_type": "markdown",
            "metadata": {
                "azdata_cell_guid": "409c20d8-9d7d-4c67-9c03-56471fc31b5e"
            },
            "source": [
                "# `OPENJSON` and `CROSS APPLY`\n",
                "\n",
                "I introduced `OPENJSON` to myself in [another notebook](https://github.com/BryanWilhite/jupyter-central/blob/master/funkykb/t-sql/openjson-and-json_query.ipynb) and this one should properly introduce `CROSS APPLY` [📖 [docs](https://learn.microsoft.com/en-us/sql/t-sql/queries/from-transact-sql?view=sql-server-ver16#left_table_source--cross--outer--apply-right_table_source)]—or more precisely `CROSS` and `APPLY`, where, when `CROSS` is specified:\n",
                "\n",
                ">…no rows are produced when the `right_table_source` is evaluated against a specified row of the `left_table_source` and returns an empty result set.\n",
                "\n",
                "And `APPLY` is a direct reference to the mathematical definition of _apply_ [📖 [Wikipedia](https://en.wikipedia.org/wiki/Apply)] in the context of computer programming:\n",
                "\n",
                ">In computer programming, **apply** applies a function to a list of arguments.\n",
                "\n",
                "A crystal-clear explanation of `CROSS APPLY` is in this video: \n",
                "\n",
                "<figure>\n",
                "    <a href=\"https://www.youtube.com/watch?v=PajIaYWTzwk\">\n",
                "        <img alt=\"CROSS APPLY vs CROSS JOIN - when should I use JOINs, and when should I use APPLY?\" src=\"https://img.youtube.com/vi/PajIaYWTzwk/maxresdefault.jpg\" width=\"480\" />\n",
                "    </a>\n",
                "    <p><small>CROSS APPLY vs CROSS JOIN - when should I use JOINs, and when should I use APPLY?</small></p>\n",
                "</figure>\n",
                "\n",
                ">It seems to me that CROSS APPLY can fill a certain gap when working with calculated fields in complex/nested queries, and make them simpler and more readable.\n",
                ">\n",
                ">—<https://stackoverflow.com/a/10976217/22944>\n",
                ">\n"
            ]
        },
        {
            "attachments": {},
            "cell_type": "markdown",
            "metadata": {
                "azdata_cell_guid": "4c8f5ebe-47fc-42e7-88b4-669c24fd9281"
            },
            "source": [
                "## the `Orders` JSON with a `Products` array\n",
                "\n",
                "Recall the `Orders` JSON from my [other notebook](https://github.com/BryanWilhite/jupyter-central/blob/master/funkykb/t-sql/openjson-and-json_query.ipynb) but, in these notes, we will add an array of `Products` for every `Order`:"
            ]
        },
        {
            "cell_type": "code",
            "execution_count": 1,
            "metadata": {
                "azdata_cell_guid": "f324ee2f-e37a-479e-a052-3fddb5180e60",
                "language": "sql"
            },
            "outputs": [
                {
                    "data": {
                        "text/html": [
                            "Commands completed successfully."
                        ]
                    },
                    "metadata": {},
                    "output_type": "display_data"
                },
                {
                    "data": {
                        "text/html": [
                            "Total execution time: 00:00:00"
                        ]
                    },
                    "metadata": {},
                    "output_type": "display_data"
                }
            ],
            "source": [
                "EXEC sys.sp_set_session_context\n",
                "    @key = N'myJson',\n",
                "    @value = '\n",
                "{\n",
                "    \"Orders\": [\n",
                "        {\n",
                "            \"OrderNumber\":\"SO43659\",\n",
                "            \"OrderDate\":\"2011-05-31T00:00:00\",\n",
                "            \"AccountNumber\":\"AW29825\",\n",
                "            \"Products\": [\n",
                "                { \"ProductId\": \"SKU348875\", \"Price\": 2024.9940, \"Quantity\": 1 },\n",
                "                { \"ProductId\": \"SKU758875\", \"Price\": 70.3670, \"Quantity\": 5 }\n",
                "            ]\n",
                "        },\n",
                "        {\n",
                "            \"OrderNumber\":\"SO43661\",\n",
                "            \"OrderDate\":\"2011-06-01T00:00:00\",\n",
                "            \"AccountNumber\":\"AW73565\",\n",
                "            \"Products\": [\n",
                "                { \"ProductId\": \"SKU348875\", \"Price\": 2024.9940, \"Quantity\": 1 },\n",
                "                { \"ProductId\": \"SKU758875\", \"Price\": 70.3670, \"Quantity\": 2 },\n",
                "                { \"ProductId\": \"SKU921234\", \"Price\": 88.79, \"Quantity\": 1 },\n",
                "                { \"ProductId\": \"SKU112678\", \"Price\": 7.99, \"Quantity\": 12 }\n",
                "            ]\n",
                "        }\n",
                "    ]\n",
                "}'"
            ]
        },
        {
            "attachments": {},
            "cell_type": "markdown",
            "metadata": {
                "azdata_cell_guid": "73e78876-a8b5-4fc6-8df7-4d5711ee55f1"
            },
            "source": [
                "My [other notebook](https://github.com/BryanWilhite/jupyter-central/blob/master/funkykb/t-sql/openjson-and-json_query.ipynb) introduces the `WITH` clause. We can use what we know about the `WITH` clause to project columns from the JSON:"
            ]
        },
        {
            "cell_type": "code",
            "execution_count": 2,
            "metadata": {
                "azdata_cell_guid": "2eec18e2-ddf8-4ff4-bee3-8cfb2a1d502a",
                "language": "sql"
            },
            "outputs": [
                {
                    "data": {
                        "text/html": [
                            "(2 rows affected)"
                        ]
                    },
                    "metadata": {},
                    "output_type": "display_data"
                },
                {
                    "data": {
                        "text/html": [
                            "Total execution time: 00:00:00.002"
                        ]
                    },
                    "metadata": {},
                    "output_type": "display_data"
                },
                {
                    "data": {
                        "application/vnd.dataresource+json": {
                            "data": [
                                {
                                    "ACCOUNT_NUMBER": "AW29825",
                                    "ORDER_DATE": "2011-05-31 00:00:00.000",
                                    "ORDER_NUMBER": "SO43659",
                                    "PRODUCTS": "NULL"
                                },
                                {
                                    "ACCOUNT_NUMBER": "AW73565",
                                    "ORDER_DATE": "2011-06-01 00:00:00.000",
                                    "ORDER_NUMBER": "SO43661",
                                    "PRODUCTS": "NULL"
                                }
                            ],
                            "schema": {
                                "fields": [
                                    {
                                        "name": "ORDER_NUMBER"
                                    },
                                    {
                                        "name": "ORDER_DATE"
                                    },
                                    {
                                        "name": "ACCOUNT_NUMBER"
                                    },
                                    {
                                        "name": "PRODUCTS"
                                    }
                                ]
                            }
                        },
                        "text/html": [
                            "<table>\n",
                            "<tr><th>ORDER_NUMBER</th><th>ORDER_DATE</th><th>ACCOUNT_NUMBER</th><th>PRODUCTS</th></tr>\n",
                            "<tr><td>SO43659</td><td>2011-05-31 00:00:00.000</td><td>AW29825</td><td>NULL</td></tr>\n",
                            "<tr><td>SO43661</td><td>2011-06-01 00:00:00.000</td><td>AW73565</td><td>NULL</td></tr>\n",
                            "</table>"
                        ]
                    },
                    "execution_count": 2,
                    "metadata": {},
                    "output_type": "execute_result"
                }
            ],
            "source": [
                "DECLARE @myJson NVARCHAR(MAX) = CONVERT(NVARCHAR(MAX), SESSION_CONTEXT(N'myJson'))\n",
                "\n",
                "SELECT\n",
                "    *\n",
                "FROM\n",
                "    OPENJSON(@myJson, '$.Orders')\n",
                "    WITH (\n",
                "        ORDER_NUMBER   NVARCHAR(32)  '$.OrderNumber'\n",
                "    ,   ORDER_DATE     DATETIME      '$.OrderDate'\n",
                "    ,   ACCOUNT_NUMBER NVARCHAR(32)  '$.AccountNumber'\n",
                "    ,   PRODUCTS       NVARCHAR(MAX) '$.Products'\n",
                "    ) orders"
            ]
        },
        {
            "attachments": {},
            "cell_type": "markdown",
            "metadata": {
                "azdata_cell_guid": "519475c0-8aec-4fd1-a1c3-e2671382dc2e"
            },
            "source": [
                "When we faithfully attempt to find our `Products` array with `$.Products` we get `NULL`. We know that `$.Products` represents an object or array. The [documentation](https://learn.microsoft.com/en-us/sql/t-sql/functions/openjson-transact-sql?view=sql-server-ver16#with_clause-1) for the `WITH` clause has commentary about this situation:\n",
                "\n",
                ">If the path represents an object or an array, and the property can’t be found at the specified path, the function returns null in lax mode or returns an error in strict mode. This behavior is similar to the behavior of the `JSON_VALUE` function.\n",
                "\n",
                "We might struggle with this situation and resort to something like this:"
            ]
        },
        {
            "cell_type": "code",
            "execution_count": 3,
            "metadata": {
                "azdata_cell_guid": "f2fe76b1-b536-44f0-aaa3-25df156609c5",
                "language": "sql"
            },
            "outputs": [
                {
                    "data": {
                        "text/html": [
                            "(6 rows affected)"
                        ]
                    },
                    "metadata": {},
                    "output_type": "display_data"
                },
                {
                    "data": {
                        "text/html": [
                            "Total execution time: 00:00:00.002"
                        ]
                    },
                    "metadata": {},
                    "output_type": "display_data"
                },
                {
                    "data": {
                        "application/vnd.dataresource+json": {
                            "data": [
                                {
                                    "PRICE": "2025",
                                    "PRODUCT_ID": "SKU348875",
                                    "QUANTITY": "1",
                                    "key": "0",
                                    "type": "5",
                                    "value": "{\n            \"OrderNumber\":\"SO43659\",\n            \"OrderDate\":\"2011-05-31T00:00:00\",\n            \"AccountNumber\":\"AW29825\",\n            \"Products\": [\n                { \"ProductId\": \"SKU348875\", \"Price\": 2024.9940, \"Quantity\": 1 },\n                { \"ProductId\": \"SKU758875\", \"Price\": 70.3670, \"Quantity\": 5 }\n            ]\n        }"
                                },
                                {
                                    "PRICE": "70",
                                    "PRODUCT_ID": "SKU758875",
                                    "QUANTITY": "5",
                                    "key": "0",
                                    "type": "5",
                                    "value": "{\n            \"OrderNumber\":\"SO43659\",\n            \"OrderDate\":\"2011-05-31T00:00:00\",\n            \"AccountNumber\":\"AW29825\",\n            \"Products\": [\n                { \"ProductId\": \"SKU348875\", \"Price\": 2024.9940, \"Quantity\": 1 },\n                { \"ProductId\": \"SKU758875\", \"Price\": 70.3670, \"Quantity\": 5 }\n            ]\n        }"
                                },
                                {
                                    "PRICE": "2025",
                                    "PRODUCT_ID": "SKU348875",
                                    "QUANTITY": "1",
                                    "key": "1",
                                    "type": "5",
                                    "value": "{\n            \"OrderNumber\":\"SO43661\",\n            \"OrderDate\":\"2011-06-01T00:00:00\",\n            \"AccountNumber\":\"AW73565\",\n            \"Products\": [\n                { \"ProductId\": \"SKU348875\", \"Price\": 2024.9940, \"Quantity\": 1 },\n                { \"ProductId\": \"SKU758875\", \"Price\": 70.3670, \"Quantity\": 2 },\n                { \"ProductId\": \"SKU921234\", \"Price\": 88.79, \"Quantity\": 1 },\n                { \"ProductId\": \"SKU112678\", \"Price\": 7.99, \"Quantity\": 12 }\n            ]\n        }"
                                },
                                {
                                    "PRICE": "70",
                                    "PRODUCT_ID": "SKU758875",
                                    "QUANTITY": "2",
                                    "key": "1",
                                    "type": "5",
                                    "value": "{\n            \"OrderNumber\":\"SO43661\",\n            \"OrderDate\":\"2011-06-01T00:00:00\",\n            \"AccountNumber\":\"AW73565\",\n            \"Products\": [\n                { \"ProductId\": \"SKU348875\", \"Price\": 2024.9940, \"Quantity\": 1 },\n                { \"ProductId\": \"SKU758875\", \"Price\": 70.3670, \"Quantity\": 2 },\n                { \"ProductId\": \"SKU921234\", \"Price\": 88.79, \"Quantity\": 1 },\n                { \"ProductId\": \"SKU112678\", \"Price\": 7.99, \"Quantity\": 12 }\n            ]\n        }"
                                },
                                {
                                    "PRICE": "89",
                                    "PRODUCT_ID": "SKU921234",
                                    "QUANTITY": "1",
                                    "key": "1",
                                    "type": "5",
                                    "value": "{\n            \"OrderNumber\":\"SO43661\",\n            \"OrderDate\":\"2011-06-01T00:00:00\",\n            \"AccountNumber\":\"AW73565\",\n            \"Products\": [\n                { \"ProductId\": \"SKU348875\", \"Price\": 2024.9940, \"Quantity\": 1 },\n                { \"ProductId\": \"SKU758875\", \"Price\": 70.3670, \"Quantity\": 2 },\n                { \"ProductId\": \"SKU921234\", \"Price\": 88.79, \"Quantity\": 1 },\n                { \"ProductId\": \"SKU112678\", \"Price\": 7.99, \"Quantity\": 12 }\n            ]\n        }"
                                },
                                {
                                    "PRICE": "8",
                                    "PRODUCT_ID": "SKU112678",
                                    "QUANTITY": "12",
                                    "key": "1",
                                    "type": "5",
                                    "value": "{\n            \"OrderNumber\":\"SO43661\",\n            \"OrderDate\":\"2011-06-01T00:00:00\",\n            \"AccountNumber\":\"AW73565\",\n            \"Products\": [\n                { \"ProductId\": \"SKU348875\", \"Price\": 2024.9940, \"Quantity\": 1 },\n                { \"ProductId\": \"SKU758875\", \"Price\": 70.3670, \"Quantity\": 2 },\n                { \"ProductId\": \"SKU921234\", \"Price\": 88.79, \"Quantity\": 1 },\n                { \"ProductId\": \"SKU112678\", \"Price\": 7.99, \"Quantity\": 12 }\n            ]\n        }"
                                }
                            ],
                            "schema": {
                                "fields": [
                                    {
                                        "name": "key"
                                    },
                                    {
                                        "name": "value"
                                    },
                                    {
                                        "name": "type"
                                    },
                                    {
                                        "name": "PRODUCT_ID"
                                    },
                                    {
                                        "name": "PRICE"
                                    },
                                    {
                                        "name": "QUANTITY"
                                    }
                                ]
                            }
                        },
                        "text/html": [
                            "<table>\n",
                            "<tr><th>key</th><th>value</th><th>type</th><th>PRODUCT_ID</th><th>PRICE</th><th>QUANTITY</th></tr>\n",
                            "<tr><td>0</td><td>{\n",
                            "            &quot;OrderNumber&quot;:&quot;SO43659&quot;,\n",
                            "            &quot;OrderDate&quot;:&quot;2011-05-31T00:00:00&quot;,\n",
                            "            &quot;AccountNumber&quot;:&quot;AW29825&quot;,\n",
                            "            &quot;Products&quot;: [\n",
                            "                { &quot;ProductId&quot;: &quot;SKU348875&quot;, &quot;Price&quot;: 2024.9940, &quot;Quantity&quot;: 1 },\n",
                            "                { &quot;ProductId&quot;: &quot;SKU758875&quot;, &quot;Price&quot;: 70.3670, &quot;Quantity&quot;: 5 }\n",
                            "            ]\n",
                            "        }</td><td>5</td><td>SKU348875</td><td>2025</td><td>1</td></tr>\n",
                            "<tr><td>0</td><td>{\n",
                            "            &quot;OrderNumber&quot;:&quot;SO43659&quot;,\n",
                            "            &quot;OrderDate&quot;:&quot;2011-05-31T00:00:00&quot;,\n",
                            "            &quot;AccountNumber&quot;:&quot;AW29825&quot;,\n",
                            "            &quot;Products&quot;: [\n",
                            "                { &quot;ProductId&quot;: &quot;SKU348875&quot;, &quot;Price&quot;: 2024.9940, &quot;Quantity&quot;: 1 },\n",
                            "                { &quot;ProductId&quot;: &quot;SKU758875&quot;, &quot;Price&quot;: 70.3670, &quot;Quantity&quot;: 5 }\n",
                            "            ]\n",
                            "        }</td><td>5</td><td>SKU758875</td><td>70</td><td>5</td></tr>\n",
                            "<tr><td>1</td><td>{\n",
                            "            &quot;OrderNumber&quot;:&quot;SO43661&quot;,\n",
                            "            &quot;OrderDate&quot;:&quot;2011-06-01T00:00:00&quot;,\n",
                            "            &quot;AccountNumber&quot;:&quot;AW73565&quot;,\n",
                            "            &quot;Products&quot;: [\n",
                            "                { &quot;ProductId&quot;: &quot;SKU348875&quot;, &quot;Price&quot;: 2024.9940, &quot;Quantity&quot;: 1 },\n",
                            "                { &quot;ProductId&quot;: &quot;SKU758875&quot;, &quot;Price&quot;: 70.3670, &quot;Quantity&quot;: 2 },\n",
                            "                { &quot;ProductId&quot;: &quot;SKU921234&quot;, &quot;Price&quot;: 88.79, &quot;Quantity&quot;: 1 },\n",
                            "                { &quot;ProductId&quot;: &quot;SKU112678&quot;, &quot;Price&quot;: 7.99, &quot;Quantity&quot;: 12 }\n",
                            "            ]\n",
                            "        }</td><td>5</td><td>SKU348875</td><td>2025</td><td>1</td></tr>\n",
                            "<tr><td>1</td><td>{\n",
                            "            &quot;OrderNumber&quot;:&quot;SO43661&quot;,\n",
                            "            &quot;OrderDate&quot;:&quot;2011-06-01T00:00:00&quot;,\n",
                            "            &quot;AccountNumber&quot;:&quot;AW73565&quot;,\n",
                            "            &quot;Products&quot;: [\n",
                            "                { &quot;ProductId&quot;: &quot;SKU348875&quot;, &quot;Price&quot;: 2024.9940, &quot;Quantity&quot;: 1 },\n",
                            "                { &quot;ProductId&quot;: &quot;SKU758875&quot;, &quot;Price&quot;: 70.3670, &quot;Quantity&quot;: 2 },\n",
                            "                { &quot;ProductId&quot;: &quot;SKU921234&quot;, &quot;Price&quot;: 88.79, &quot;Quantity&quot;: 1 },\n",
                            "                { &quot;ProductId&quot;: &quot;SKU112678&quot;, &quot;Price&quot;: 7.99, &quot;Quantity&quot;: 12 }\n",
                            "            ]\n",
                            "        }</td><td>5</td><td>SKU758875</td><td>70</td><td>2</td></tr>\n",
                            "<tr><td>1</td><td>{\n",
                            "            &quot;OrderNumber&quot;:&quot;SO43661&quot;,\n",
                            "            &quot;OrderDate&quot;:&quot;2011-06-01T00:00:00&quot;,\n",
                            "            &quot;AccountNumber&quot;:&quot;AW73565&quot;,\n",
                            "            &quot;Products&quot;: [\n",
                            "                { &quot;ProductId&quot;: &quot;SKU348875&quot;, &quot;Price&quot;: 2024.9940, &quot;Quantity&quot;: 1 },\n",
                            "                { &quot;ProductId&quot;: &quot;SKU758875&quot;, &quot;Price&quot;: 70.3670, &quot;Quantity&quot;: 2 },\n",
                            "                { &quot;ProductId&quot;: &quot;SKU921234&quot;, &quot;Price&quot;: 88.79, &quot;Quantity&quot;: 1 },\n",
                            "                { &quot;ProductId&quot;: &quot;SKU112678&quot;, &quot;Price&quot;: 7.99, &quot;Quantity&quot;: 12 }\n",
                            "            ]\n",
                            "        }</td><td>5</td><td>SKU921234</td><td>89</td><td>1</td></tr>\n",
                            "<tr><td>1</td><td>{\n",
                            "            &quot;OrderNumber&quot;:&quot;SO43661&quot;,\n",
                            "            &quot;OrderDate&quot;:&quot;2011-06-01T00:00:00&quot;,\n",
                            "            &quot;AccountNumber&quot;:&quot;AW73565&quot;,\n",
                            "            &quot;Products&quot;: [\n",
                            "                { &quot;ProductId&quot;: &quot;SKU348875&quot;, &quot;Price&quot;: 2024.9940, &quot;Quantity&quot;: 1 },\n",
                            "                { &quot;ProductId&quot;: &quot;SKU758875&quot;, &quot;Price&quot;: 70.3670, &quot;Quantity&quot;: 2 },\n",
                            "                { &quot;ProductId&quot;: &quot;SKU921234&quot;, &quot;Price&quot;: 88.79, &quot;Quantity&quot;: 1 },\n",
                            "                { &quot;ProductId&quot;: &quot;SKU112678&quot;, &quot;Price&quot;: 7.99, &quot;Quantity&quot;: 12 }\n",
                            "            ]\n",
                            "        }</td><td>5</td><td>SKU112678</td><td>8</td><td>12</td></tr>\n",
                            "</table>"
                        ]
                    },
                    "execution_count": 3,
                    "metadata": {},
                    "output_type": "execute_result"
                }
            ],
            "source": [
                "DECLARE @myJson NVARCHAR(MAX) = CONVERT(NVARCHAR(MAX), SESSION_CONTEXT(N'myJson'))\n",
                "\n",
                "SELECT\n",
                "    *\n",
                "FROM\n",
                "    OPENJSON(@myJson, '$.Orders') orders\n",
                "\n",
                "    CROSS APPLY\n",
                "\n",
                "    OPENJSON(orders.[value], '$.Products') WITH (\n",
                "        PRODUCT_ID NVARCHAR(32) '$.ProductId'\n",
                "    ,   PRICE      DECIMAL      '$.Price'\n",
                "    ,   QUANTITY   INT          '$.Quantity'\n",
                "    ) products"
            ]
        },
        {
            "attachments": {},
            "cell_type": "markdown",
            "metadata": {
                "azdata_cell_guid": "41c5461e-cffd-48ed-b60f-d0feed7b14ae",
                "language": "sql"
            },
            "source": [
                "The SQL above is cross-applying directly on `orders.[value]`. My [other notebook](https://github.com/BryanWilhite/jupyter-central/blob/master/funkykb/t-sql/openjson-and-json_query.ipynb) explains that `[value]` is one of the three default columns projected from `OPENJSON`. This approach, therefore, gives us the default columns of `orders` and the “strongly typed” columns of `products`. We simply must regard this tradeoff as intolerable."
            ]
        },
        {
            "attachments": {},
            "cell_type": "markdown",
            "metadata": {
                "azdata_cell_guid": "1bf00091-55bc-43ef-be14-210d602cc5cb",
                "language": "sql"
            },
            "source": [
                "## the importance of the `AS JSON` option in `WITH`\n",
                "\n",
                "We do not have to make the tradeoff mentioned above because Microsoft provides the `AS JSON` option in `WITH`:\n",
                "\n",
                ">Use the `AS JSON` option in a column definition to specify that the referenced property contains an inner JSON object or array. \n",
                "\n",
                "We can go back to our previous column definition, `PRODUCTS NVARCHAR(MAX) '$.Products'`, but this time add the `AS JSON` option:"
            ]
        },
        {
            "cell_type": "code",
            "execution_count": 4,
            "metadata": {
                "azdata_cell_guid": "ecf10f23-268d-4992-908d-abae97bcb5a3",
                "language": "sql"
            },
            "outputs": [
                {
                    "data": {
                        "text/html": [
                            "(2 rows affected)"
                        ]
                    },
                    "metadata": {},
                    "output_type": "display_data"
                },
                {
                    "data": {
                        "text/html": [
                            "Total execution time: 00:00:00.002"
                        ]
                    },
                    "metadata": {},
                    "output_type": "display_data"
                },
                {
                    "data": {
                        "application/vnd.dataresource+json": {
                            "data": [
                                {
                                    "ACCOUNT_NUMBER": "AW29825",
                                    "ORDER_DATE": "2011-05-31 00:00:00.000",
                                    "ORDER_NUMBER": "SO43659",
                                    "PRODUCTS": "[\n                { \"ProductId\": \"SKU348875\", \"Price\": 2024.9940, \"Quantity\": 1 },\n                { \"ProductId\": \"SKU758875\", \"Price\": 70.3670, \"Quantity\": 5 }\n            ]"
                                },
                                {
                                    "ACCOUNT_NUMBER": "AW73565",
                                    "ORDER_DATE": "2011-06-01 00:00:00.000",
                                    "ORDER_NUMBER": "SO43661",
                                    "PRODUCTS": "[\n                { \"ProductId\": \"SKU348875\", \"Price\": 2024.9940, \"Quantity\": 1 },\n                { \"ProductId\": \"SKU758875\", \"Price\": 70.3670, \"Quantity\": 2 },\n                { \"ProductId\": \"SKU921234\", \"Price\": 88.79, \"Quantity\": 1 },\n                { \"ProductId\": \"SKU112678\", \"Price\": 7.99, \"Quantity\": 12 }\n            ]"
                                }
                            ],
                            "schema": {
                                "fields": [
                                    {
                                        "name": "ORDER_NUMBER"
                                    },
                                    {
                                        "name": "ORDER_DATE"
                                    },
                                    {
                                        "name": "ACCOUNT_NUMBER"
                                    },
                                    {
                                        "name": "PRODUCTS"
                                    }
                                ]
                            }
                        },
                        "text/html": [
                            "<table>\n",
                            "<tr><th>ORDER_NUMBER</th><th>ORDER_DATE</th><th>ACCOUNT_NUMBER</th><th>PRODUCTS</th></tr>\n",
                            "<tr><td>SO43659</td><td>2011-05-31 00:00:00.000</td><td>AW29825</td><td>[\n",
                            "                { &quot;ProductId&quot;: &quot;SKU348875&quot;, &quot;Price&quot;: 2024.9940, &quot;Quantity&quot;: 1 },\n",
                            "                { &quot;ProductId&quot;: &quot;SKU758875&quot;, &quot;Price&quot;: 70.3670, &quot;Quantity&quot;: 5 }\n",
                            "            ]</td></tr>\n",
                            "<tr><td>SO43661</td><td>2011-06-01 00:00:00.000</td><td>AW73565</td><td>[\n",
                            "                { &quot;ProductId&quot;: &quot;SKU348875&quot;, &quot;Price&quot;: 2024.9940, &quot;Quantity&quot;: 1 },\n",
                            "                { &quot;ProductId&quot;: &quot;SKU758875&quot;, &quot;Price&quot;: 70.3670, &quot;Quantity&quot;: 2 },\n",
                            "                { &quot;ProductId&quot;: &quot;SKU921234&quot;, &quot;Price&quot;: 88.79, &quot;Quantity&quot;: 1 },\n",
                            "                { &quot;ProductId&quot;: &quot;SKU112678&quot;, &quot;Price&quot;: 7.99, &quot;Quantity&quot;: 12 }\n",
                            "            ]</td></tr>\n",
                            "</table>"
                        ]
                    },
                    "execution_count": 4,
                    "metadata": {},
                    "output_type": "execute_result"
                }
            ],
            "source": [
                "DECLARE @myJson NVARCHAR(MAX) = CONVERT(NVARCHAR(MAX), SESSION_CONTEXT(N'myJson'))\n",
                "\n",
                "SELECT\n",
                "    *\n",
                "FROM\n",
                "    OPENJSON(@myJson, '$.Orders')\n",
                "    WITH (\n",
                "        ORDER_NUMBER   NVARCHAR(32)  '$.OrderNumber'\n",
                "    ,   ORDER_DATE     DATETIME      '$.OrderDate'\n",
                "    ,   ACCOUNT_NUMBER NVARCHAR(32)  '$.AccountNumber'\n",
                "    ,   PRODUCTS       NVARCHAR(MAX) '$.Products'      AS JSON\n",
                "    ) orders"
            ]
        },
        {
            "attachments": {},
            "cell_type": "markdown",
            "metadata": {
                "azdata_cell_guid": "58192b71-58b0-4835-9f58-c961ab5213e0"
            },
            "source": [
                "Instead of cross-applying on `orders.[value]` we can use the “strongly typed” column `orders.[PRODUCTS]`:"
            ]
        },
        {
            "cell_type": "code",
            "execution_count": 5,
            "metadata": {
                "azdata_cell_guid": "4b24b0cb-1af1-48c1-9144-23c078d9d8b9",
                "language": "sql"
            },
            "outputs": [
                {
                    "data": {
                        "text/html": [
                            "(6 rows affected)"
                        ]
                    },
                    "metadata": {},
                    "output_type": "display_data"
                },
                {
                    "data": {
                        "text/html": [
                            "Total execution time: 00:00:00.003"
                        ]
                    },
                    "metadata": {},
                    "output_type": "display_data"
                },
                {
                    "data": {
                        "application/vnd.dataresource+json": {
                            "data": [
                                {
                                    "ACCOUNT_NUMBER": "AW29825",
                                    "ORDER_DATE": "2011-05-31 00:00:00.000",
                                    "ORDER_NUMBER": "SO43659",
                                    "PRICE": "2025",
                                    "PRODUCT_ID": "SKU348875",
                                    "QUANTITY": "1"
                                },
                                {
                                    "ACCOUNT_NUMBER": "AW29825",
                                    "ORDER_DATE": "2011-05-31 00:00:00.000",
                                    "ORDER_NUMBER": "SO43659",
                                    "PRICE": "70",
                                    "PRODUCT_ID": "SKU758875",
                                    "QUANTITY": "5"
                                },
                                {
                                    "ACCOUNT_NUMBER": "AW73565",
                                    "ORDER_DATE": "2011-06-01 00:00:00.000",
                                    "ORDER_NUMBER": "SO43661",
                                    "PRICE": "2025",
                                    "PRODUCT_ID": "SKU348875",
                                    "QUANTITY": "1"
                                },
                                {
                                    "ACCOUNT_NUMBER": "AW73565",
                                    "ORDER_DATE": "2011-06-01 00:00:00.000",
                                    "ORDER_NUMBER": "SO43661",
                                    "PRICE": "70",
                                    "PRODUCT_ID": "SKU758875",
                                    "QUANTITY": "2"
                                },
                                {
                                    "ACCOUNT_NUMBER": "AW73565",
                                    "ORDER_DATE": "2011-06-01 00:00:00.000",
                                    "ORDER_NUMBER": "SO43661",
                                    "PRICE": "89",
                                    "PRODUCT_ID": "SKU921234",
                                    "QUANTITY": "1"
                                },
                                {
                                    "ACCOUNT_NUMBER": "AW73565",
                                    "ORDER_DATE": "2011-06-01 00:00:00.000",
                                    "ORDER_NUMBER": "SO43661",
                                    "PRICE": "8",
                                    "PRODUCT_ID": "SKU112678",
                                    "QUANTITY": "12"
                                }
                            ],
                            "schema": {
                                "fields": [
                                    {
                                        "name": "ORDER_NUMBER"
                                    },
                                    {
                                        "name": "ORDER_DATE"
                                    },
                                    {
                                        "name": "ACCOUNT_NUMBER"
                                    },
                                    {
                                        "name": "PRODUCT_ID"
                                    },
                                    {
                                        "name": "PRICE"
                                    },
                                    {
                                        "name": "QUANTITY"
                                    }
                                ]
                            }
                        },
                        "text/html": [
                            "<table>\n",
                            "<tr><th>ORDER_NUMBER</th><th>ORDER_DATE</th><th>ACCOUNT_NUMBER</th><th>PRODUCT_ID</th><th>PRICE</th><th>QUANTITY</th></tr>\n",
                            "<tr><td>SO43659</td><td>2011-05-31 00:00:00.000</td><td>AW29825</td><td>SKU348875</td><td>2025</td><td>1</td></tr>\n",
                            "<tr><td>SO43659</td><td>2011-05-31 00:00:00.000</td><td>AW29825</td><td>SKU758875</td><td>70</td><td>5</td></tr>\n",
                            "<tr><td>SO43661</td><td>2011-06-01 00:00:00.000</td><td>AW73565</td><td>SKU348875</td><td>2025</td><td>1</td></tr>\n",
                            "<tr><td>SO43661</td><td>2011-06-01 00:00:00.000</td><td>AW73565</td><td>SKU758875</td><td>70</td><td>2</td></tr>\n",
                            "<tr><td>SO43661</td><td>2011-06-01 00:00:00.000</td><td>AW73565</td><td>SKU921234</td><td>89</td><td>1</td></tr>\n",
                            "<tr><td>SO43661</td><td>2011-06-01 00:00:00.000</td><td>AW73565</td><td>SKU112678</td><td>8</td><td>12</td></tr>\n",
                            "</table>"
                        ]
                    },
                    "execution_count": 5,
                    "metadata": {},
                    "output_type": "execute_result"
                }
            ],
            "source": [
                "DECLARE @myJson NVARCHAR(MAX) = CONVERT(NVARCHAR(MAX), SESSION_CONTEXT(N'myJson'))\n",
                "\n",
                "SELECT\n",
                "    orders.[ORDER_NUMBER]\n",
                ",   orders.[ORDER_DATE]\n",
                ",   orders.[ACCOUNT_NUMBER]\n",
                ",   products.[PRODUCT_ID]\n",
                ",   products.[PRICE]\n",
                ",   products.[QUANTITY]\n",
                "FROM\n",
                "    OPENJSON(@myJson, '$.Orders')\n",
                "    WITH (\n",
                "        ORDER_NUMBER   NVARCHAR(32)  '$.OrderNumber'\n",
                "    ,   ORDER_DATE     DATETIME      '$.OrderDate'\n",
                "    ,   ACCOUNT_NUMBER NVARCHAR(32)  '$.AccountNumber'\n",
                "    ,   PRODUCTS       NVARCHAR(MAX) '$.Products'      AS JSON\n",
                "    ) orders\n",
                "\n",
                "    CROSS APPLY\n",
                "\n",
                "    OPENJSON(orders.[PRODUCTS])\n",
                "    WITH (\n",
                "        PRODUCT_ID NVARCHAR(32) '$.ProductId'\n",
                "    ,   PRICE      DECIMAL      '$.Price'\n",
                "    ,   QUANTITY   INT          '$.Quantity'\n",
                "    ) products\n"
            ]
        },
        {
            "attachments": {},
            "cell_type": "markdown",
            "metadata": {
                "azdata_cell_guid": "2526154a-2dc6-45a5-9f5f-cc051ad11d4c"
            },
            "source": [
                "## <!-- -->\n",
                "\n",
                "🐙🐱[BryanWilhite](https://github.com/BryanWilhite)"
            ]
        }
    ],
    "metadata": {
        "kernelspec": {
            "display_name": "SQL",
            "language": "sql",
            "name": "SQL"
        },
        "language_info": {
            "name": "sql",
            "version": ""
        }
    },
    "nbformat": 4,
    "nbformat_minor": 2
}
