{
    "metadata": {
        "kernelspec": {
            "name": "SQL",
            "display_name": "SQL",
            "language": "sql"
        },
        "language_info": {
            "name": "sql",
            "version": ""
        }
    },
    "nbformat_minor": 2,
    "nbformat": 4,
    "cells": [
        {
            "cell_type": "markdown",
            "source": [
                "# `OPENJSON` and `JSON_QUERY`\n",
                "\n",
                "`OPENJSON` is _not_ among the <acronym title=\"JavaScript Object Notation\">JSON</acronym> functions [📖 [docs](https://learn.microsoft.com/en-us/sql/t-sql/functions/json-functions-transact-sql?view=sql-server-ver16)]. I must remind myself that [the docs clearly state](https://learn.microsoft.com/en-us/sql/t-sql/functions/openjson-transact-sql?view=sql-server-ver16) that `OPENJSON` is a “table-valued function.” This understanding of `OPENJSON` is useful to have while working with `JSON_QUERY` [📖 [docs](https://learn.microsoft.com/en-us/sql/t-sql/functions/json-query-transact-sql?view=sql-server-ver16)]."
            ],
            "metadata": {
                "azdata_cell_guid": "4c53b167-40f9-4b43-b09e-59c2f2c8d233"
            },
            "attachments": {}
        },
        {
            "cell_type": "markdown",
            "source": [
                "## `JSON_QUERY` can only access arrays by index\n",
                "\n",
                "`JSON_QUERY` can only access arrays by index but because of `OPENJSON` this is (probably) not considered a limitation (by the SQL Server designers at Microsoft). This means we can start with a JSON string like this:"
            ],
            "metadata": {
                "azdata_cell_guid": "a3536a62-c677-4589-a021-0116a4862232",
                "language": ""
            },
            "attachments": {}
        },
        {
            "cell_type": "code",
            "source": [
                "EXEC sys.sp_set_session_context\n",
                "    @key = N'myJson',\n",
                "    @value = '\n",
                "{\n",
                "    \"Orders\": [\n",
                "        {\n",
                "            \"OrderNumber\":\"SO43659\",\n",
                "            \"OrderDate\":\"2011-05-31T00:00:00\",\n",
                "            \"AccountNumber\":\"AW29825\",\n",
                "            \"ItemPrice\":2024.9940,\n",
                "            \"ItemQuantity\":1\n",
                "        },\n",
                "        {\n",
                "            \"OrderNumber\":\"SO43661\",\n",
                "            \"OrderDate\":\"2011-06-01T00:00:00\",\n",
                "            \"AccountNumber\":\"AW73565\",\n",
                "            \"ItemPrice\":2024.9940,\n",
                "            \"ItemQuantity\":3\n",
                "        }\n",
                "    ]\n",
                "}'"
            ],
            "metadata": {
                "azdata_cell_guid": "88cefd73-9637-4c3b-b8e5-d740146e003b",
                "language": "sql"
            },
            "outputs": [
                {
                    "output_type": "display_data",
                    "data": {
                        "text/html": "Commands completed successfully."
                    },
                    "metadata": {}
                },
                {
                    "output_type": "display_data",
                    "data": {
                        "text/html": "Total execution time: 00:00:00.194"
                    },
                    "metadata": {}
                }
            ],
            "execution_count": 1
        },
        {
            "cell_type": "markdown",
            "source": [
                "When for some reason we need to see the _second_ item in the `Orders` array, `JSON_QUERY` can handle this:"
            ],
            "metadata": {
                "azdata_cell_guid": "f82b22fe-81e3-4dcc-8024-d0a644d98035"
            },
            "attachments": {}
        },
        {
            "cell_type": "code",
            "source": [
                "DECLARE @myJson NVARCHAR(MAX) = CONVERT(NVARCHAR(MAX), SESSION_CONTEXT(N'myJson'))\n",
                "\n",
                "SELECT\n",
                "    [SECOND_ORDER] = JSON_QUERY(@myJson, '$.Orders[1]')\n",
                ",   [SECOND_ORDER_NUMBER?] = JSON_QUERY(@myJson, '$.Orders[1].OrderNumber')"
            ],
            "metadata": {
                "azdata_cell_guid": "c39254b8-71ca-49a4-92c7-52d7ce793d96",
                "language": "sql"
            },
            "outputs": [
                {
                    "output_type": "display_data",
                    "data": {
                        "text/html": "(1 row affected)"
                    },
                    "metadata": {}
                },
                {
                    "output_type": "display_data",
                    "data": {
                        "text/html": "Total execution time: 00:00:00.220"
                    },
                    "metadata": {}
                },
                {
                    "output_type": "execute_result",
                    "metadata": {},
                    "execution_count": 2,
                    "data": {
                        "application/vnd.dataresource+json": {
                            "schema": {
                                "fields": [
                                    {
                                        "name": "SECOND_ORDER"
                                    },
                                    {
                                        "name": "SECOND_ORDER_NUMBER?"
                                    }
                                ]
                            },
                            "data": [
                                {
                                    "SECOND_ORDER": "{\n            \"OrderNumber\":\"SO43661\",\n            \"OrderDate\":\"2011-06-01T00:00:00\",\n            \"AccountNumber\":\"AW73565\",\n            \"ItemPrice\":2024.9940,\n            \"ItemQuantity\":3\n        }",
                                    "SECOND_ORDER_NUMBER?": "NULL"
                                }
                            ]
                        },
                        "text/html": [
                            "<table>",
                            "<tr><th>SECOND_ORDER</th><th>SECOND_ORDER_NUMBER?</th></tr>",
                            "<tr><td>{\n            &quot;OrderNumber&quot;:&quot;SO43661&quot;,\n            &quot;OrderDate&quot;:&quot;2011-06-01T00:00:00&quot;,\n            &quot;AccountNumber&quot;:&quot;AW73565&quot;,\n            &quot;ItemPrice&quot;:2024.9940,\n            &quot;ItemQuantity&quot;:3\n        }</td><td>NULL</td></tr>",
                            "</table>"
                        ]
                    }
                }
            ],
            "execution_count": 2
        },
        {
            "cell_type": "markdown",
            "source": [
                "The projection of `[SECOND_ORDER]` faithfully demonstrates that a JSON object can be extracted with `JSON_QUERY`. However, the `NULL` value of `[SECOND_ORDER_NUMBER?]` shows us how quickly `JSON_QUERY` can fall apart. With glaring omission and copious silence, it is clear that the syntax of `JSON_QUERY` is not like that of Oracle [📖 [docs](https://docs.oracle.com/en/database/oracle/oracle-database/19/sqlrf/JSON_QUERY.html#GUID-6D396EC4-D2AA-43D2-8F5D-08D646A4A2D9)] nor is it relating to some industry standard like [JMESPath](https://jmespath.org/).\n",
                "\n",
                "However, when we look at the inefficient use of `JSON_QUERY` above, we see `@myJson` being parsed _twice_. We may assume that the makers of SQL Server would not want to encourage these patterns. I daresay that `OPENJSON` table-valued function allows us to parse `@myJson` _once_."
            ],
            "metadata": {
                "azdata_cell_guid": "1e375c7c-acea-4432-851e-d039eff47349",
                "language": "sql"
            },
            "attachments": {}
        },
        {
            "cell_type": "markdown",
            "source": [
                "## by default `OPENJSON` returns three columns\n",
                "\n",
                "Sans the very important `WITH` clause [📖 [docs](https://learn.microsoft.com/en-us/sql/t-sql/functions/openjson-transact-sql?view=sql-server-ver16#with_clause-1)], `OPENJSON` returns three columns:"
            ],
            "metadata": {
                "azdata_cell_guid": "ededa626-c853-476f-bbc6-13e8744ca30d",
                "language": "sql"
            },
            "attachments": {}
        },
        {
            "cell_type": "code",
            "source": [
                "DECLARE @myJson NVARCHAR(MAX) = CONVERT(NVARCHAR(MAX), SESSION_CONTEXT(N'myJson'))\n",
                "\n",
                "SELECT * FROM OPENJSON(@myJson)"
            ],
            "metadata": {
                "azdata_cell_guid": "f45011d5-207f-4399-81da-c509a96498d0",
                "language": "sql",
                "tags": []
            },
            "outputs": [
                {
                    "output_type": "display_data",
                    "data": {
                        "text/html": "(1 row affected)"
                    },
                    "metadata": {}
                },
                {
                    "output_type": "display_data",
                    "data": {
                        "text/html": "Total execution time: 00:00:00.349"
                    },
                    "metadata": {}
                },
                {
                    "output_type": "execute_result",
                    "metadata": {},
                    "execution_count": 3,
                    "data": {
                        "application/vnd.dataresource+json": {
                            "schema": {
                                "fields": [
                                    {
                                        "name": "key"
                                    },
                                    {
                                        "name": "value"
                                    },
                                    {
                                        "name": "type"
                                    }
                                ]
                            },
                            "data": [
                                {
                                    "key": "Orders",
                                    "value": "[\n        {\n            \"OrderNumber\":\"SO43659\",\n            \"OrderDate\":\"2011-05-31T00:00:00\",\n            \"AccountNumber\":\"AW29825\",\n            \"ItemPrice\":2024.9940,\n            \"ItemQuantity\":1\n        },\n        {\n            \"OrderNumber\":\"SO43661\",\n            \"OrderDate\":\"2011-06-01T00:00:00\",\n            \"AccountNumber\":\"AW73565\",\n            \"ItemPrice\":2024.9940,\n            \"ItemQuantity\":3\n        }\n    ]",
                                    "type": "4"
                                }
                            ]
                        },
                        "text/html": [
                            "<table>",
                            "<tr><th>key</th><th>value</th><th>type</th></tr>",
                            "<tr><td>Orders</td><td>[\n        {\n            &quot;OrderNumber&quot;:&quot;SO43659&quot;,\n            &quot;OrderDate&quot;:&quot;2011-05-31T00:00:00&quot;,\n            &quot;AccountNumber&quot;:&quot;AW29825&quot;,\n            &quot;ItemPrice&quot;:2024.9940,\n            &quot;ItemQuantity&quot;:1\n        },\n        {\n            &quot;OrderNumber&quot;:&quot;SO43661&quot;,\n            &quot;OrderDate&quot;:&quot;2011-06-01T00:00:00&quot;,\n            &quot;AccountNumber&quot;:&quot;AW73565&quot;,\n            &quot;ItemPrice&quot;:2024.9940,\n            &quot;ItemQuantity&quot;:3\n        }\n    ]</td><td>4</td></tr>",
                            "</table>"
                        ]
                    }
                }
            ],
            "execution_count": 3
        },
        {
            "cell_type": "markdown",
            "source": [
                ">By default, the `OPENJSON` table-valued function returns three columns, which contain the key name, the value, and the type of each `{key:value}` pair found in `jsonExpression`.\n",
                "\n",
                "As usual in the misery of software development, we have more than one level of disappointment. Not only are we not getting the table columns we are looking for, but also we have only _one_ row returned when we know we have _two_ orders 😐\n",
                "\n",
                "For the first time, in this extremely pretentious document, we see shall see `OPENJSON` working together with `JSON_QUERY`:"
            ],
            "metadata": {
                "azdata_cell_guid": "624f5da2-1762-42f2-86ac-4731c7223d5f",
                "language": "sql"
            },
            "attachments": {}
        },
        {
            "cell_type": "code",
            "source": [
                "DECLARE @myJson NVARCHAR(MAX) = CONVERT(NVARCHAR(MAX), SESSION_CONTEXT(N'myJson'))\n",
                "\n",
                "SELECT * FROM OPENJSON(JSON_QUERY(@myJson, '$.Orders'))"
            ],
            "metadata": {
                "azdata_cell_guid": "cf4becb2-2c37-41ff-abf7-36ff07d7db3a",
                "language": "sql"
            },
            "outputs": [
                {
                    "output_type": "display_data",
                    "data": {
                        "text/html": "(2 rows affected)"
                    },
                    "metadata": {}
                },
                {
                    "output_type": "display_data",
                    "data": {
                        "text/html": "Total execution time: 00:00:00.127"
                    },
                    "metadata": {}
                },
                {
                    "output_type": "execute_result",
                    "metadata": {},
                    "execution_count": 4,
                    "data": {
                        "application/vnd.dataresource+json": {
                            "schema": {
                                "fields": [
                                    {
                                        "name": "key"
                                    },
                                    {
                                        "name": "value"
                                    },
                                    {
                                        "name": "type"
                                    }
                                ]
                            },
                            "data": [
                                {
                                    "key": "0",
                                    "value": "{\n            \"OrderNumber\":\"SO43659\",\n            \"OrderDate\":\"2011-05-31T00:00:00\",\n            \"AccountNumber\":\"AW29825\",\n            \"ItemPrice\":2024.9940,\n            \"ItemQuantity\":1\n        }",
                                    "type": "5"
                                },
                                {
                                    "key": "1",
                                    "value": "{\n            \"OrderNumber\":\"SO43661\",\n            \"OrderDate\":\"2011-06-01T00:00:00\",\n            \"AccountNumber\":\"AW73565\",\n            \"ItemPrice\":2024.9940,\n            \"ItemQuantity\":3\n        }",
                                    "type": "5"
                                }
                            ]
                        },
                        "text/html": [
                            "<table>",
                            "<tr><th>key</th><th>value</th><th>type</th></tr>",
                            "<tr><td>0</td><td>{\n            &quot;OrderNumber&quot;:&quot;SO43659&quot;,\n            &quot;OrderDate&quot;:&quot;2011-05-31T00:00:00&quot;,\n            &quot;AccountNumber&quot;:&quot;AW29825&quot;,\n            &quot;ItemPrice&quot;:2024.9940,\n            &quot;ItemQuantity&quot;:1\n        }</td><td>5</td></tr>",
                            "<tr><td>1</td><td>{\n            &quot;OrderNumber&quot;:&quot;SO43661&quot;,\n            &quot;OrderDate&quot;:&quot;2011-06-01T00:00:00&quot;,\n            &quot;AccountNumber&quot;:&quot;AW73565&quot;,\n            &quot;ItemPrice&quot;:2024.9940,\n            &quot;ItemQuantity&quot;:3\n        }</td><td>5</td></tr>",
                            "</table>"
                        ]
                    }
                }
            ],
            "execution_count": 4
        },
        {
            "cell_type": "markdown",
            "source": [
                "By nesting `JSON_QUERY` in `OPENJSON`, we can target the `Orders` array and project the two orders we expect. Also notice that the types have changed to `5` (object) from the previous type of `4` (array) [📖 [docs](https://learn.microsoft.com/en-us/sql/t-sql/functions/openjson-transact-sql?view=sql-server-ver16#return-value)]. However, when we take another look at [the syntax](https://learn.microsoft.com/en-us/sql/t-sql/functions/openjson-transact-sql?view=sql-server-ver16#syntax) for `OPENJSON`, we see:\n",
                "\n",
                ">If you want to parse a sub-object from within `jsonExpression`, you can specify a path parameter for the `JSON` sub-object.\n",
                "\n",
                "This means the nesting we have just discovered is not needed:"
            ],
            "metadata": {
                "azdata_cell_guid": "3b17f367-4766-4421-9fc0-9ce944909a83",
                "language": "sql"
            },
            "attachments": {}
        },
        {
            "cell_type": "code",
            "source": [
                "DECLARE @myJson NVARCHAR(MAX) = CONVERT(NVARCHAR(MAX), SESSION_CONTEXT(N'myJson'))\n",
                "\n",
                "SELECT * FROM OPENJSON(@myJson, '$.Orders')"
            ],
            "metadata": {
                "azdata_cell_guid": "8fb1f24a-5d7b-44b4-ad91-f2c6c584da8c",
                "language": "sql"
            },
            "outputs": [
                {
                    "output_type": "display_data",
                    "data": {
                        "text/html": "(2 rows affected)"
                    },
                    "metadata": {}
                },
                {
                    "output_type": "display_data",
                    "data": {
                        "text/html": "Total execution time: 00:00:00.188"
                    },
                    "metadata": {}
                },
                {
                    "output_type": "execute_result",
                    "metadata": {},
                    "execution_count": 5,
                    "data": {
                        "application/vnd.dataresource+json": {
                            "schema": {
                                "fields": [
                                    {
                                        "name": "key"
                                    },
                                    {
                                        "name": "value"
                                    },
                                    {
                                        "name": "type"
                                    }
                                ]
                            },
                            "data": [
                                {
                                    "key": "0",
                                    "value": "{\n            \"OrderNumber\":\"SO43659\",\n            \"OrderDate\":\"2011-05-31T00:00:00\",\n            \"AccountNumber\":\"AW29825\",\n            \"ItemPrice\":2024.9940,\n            \"ItemQuantity\":1\n        }",
                                    "type": "5"
                                },
                                {
                                    "key": "1",
                                    "value": "{\n            \"OrderNumber\":\"SO43661\",\n            \"OrderDate\":\"2011-06-01T00:00:00\",\n            \"AccountNumber\":\"AW73565\",\n            \"ItemPrice\":2024.9940,\n            \"ItemQuantity\":3\n        }",
                                    "type": "5"
                                }
                            ]
                        },
                        "text/html": [
                            "<table>",
                            "<tr><th>key</th><th>value</th><th>type</th></tr>",
                            "<tr><td>0</td><td>{\n            &quot;OrderNumber&quot;:&quot;SO43659&quot;,\n            &quot;OrderDate&quot;:&quot;2011-05-31T00:00:00&quot;,\n            &quot;AccountNumber&quot;:&quot;AW29825&quot;,\n            &quot;ItemPrice&quot;:2024.9940,\n            &quot;ItemQuantity&quot;:1\n        }</td><td>5</td></tr>",
                            "<tr><td>1</td><td>{\n            &quot;OrderNumber&quot;:&quot;SO43661&quot;,\n            &quot;OrderDate&quot;:&quot;2011-06-01T00:00:00&quot;,\n            &quot;AccountNumber&quot;:&quot;AW73565&quot;,\n            &quot;ItemPrice&quot;:2024.9940,\n            &quot;ItemQuantity&quot;:3\n        }</td><td>5</td></tr>",
                            "</table>"
                        ]
                    }
                }
            ],
            "execution_count": 5
        },
        {
            "cell_type": "markdown",
            "source": [
                "## project domain data from `OPENJSON` with the `WITH` clause\n",
                "\n",
                "We are about to overcome all of the disappointment mentioned in this writ once we make proper use of the aforementioned `WITH` clause [📖 [docs](https://learn.microsoft.com/en-us/sql/t-sql/functions/openjson-transact-sql?view=sql-server-ver16#with_clause-1)]:"
            ],
            "metadata": {
                "azdata_cell_guid": "55130bec-8e43-4e4f-ae2a-5f2bc472139a",
                "language": "sql"
            },
            "attachments": {}
        },
        {
            "cell_type": "code",
            "source": [
                "DECLARE @myJson NVARCHAR(MAX) = CONVERT(NVARCHAR(MAX), SESSION_CONTEXT(N'myJson'))\n",
                "\n",
                "SELECT\n",
                "    *\n",
                "FROM\n",
                "    OPENJSON(@myJson, '$.Orders')\n",
                "    WITH (\n",
                "        ORDER_NUMBER   NVARCHAR(32) '$.OrderNumber'\n",
                "    ,   ORDER_DATE     DATETIME     '$.OrderDate'\n",
                "    ,   ACCOUNT_NUMBER NVARCHAR(32) '$.AccountNumber'\n",
                "    ,   PRICE          DECIMAL      '$.ItemPrice'\n",
                "    ,   QUANTITY       INT          '$.ItemQuantity'\n",
                "    )\n"
            ],
            "metadata": {
                "azdata_cell_guid": "3ae2c01e-0105-4f13-87ef-eded2b190c91",
                "language": "sql"
            },
            "outputs": [
                {
                    "output_type": "display_data",
                    "data": {
                        "text/html": "(2 rows affected)"
                    },
                    "metadata": {}
                },
                {
                    "output_type": "display_data",
                    "data": {
                        "text/html": "Total execution time: 00:00:00.045"
                    },
                    "metadata": {}
                },
                {
                    "output_type": "execute_result",
                    "metadata": {},
                    "execution_count": 6,
                    "data": {
                        "application/vnd.dataresource+json": {
                            "schema": {
                                "fields": [
                                    {
                                        "name": "ORDER_NUMBER"
                                    },
                                    {
                                        "name": "ORDER_DATE"
                                    },
                                    {
                                        "name": "ACCOUNT_NUMBER"
                                    },
                                    {
                                        "name": "PRICE"
                                    },
                                    {
                                        "name": "QUANTITY"
                                    }
                                ]
                            },
                            "data": [
                                {
                                    "ORDER_NUMBER": "SO43659",
                                    "ORDER_DATE": "2011-05-31 00:00:00.000",
                                    "ACCOUNT_NUMBER": "AW29825",
                                    "PRICE": "2025",
                                    "QUANTITY": "1"
                                },
                                {
                                    "ORDER_NUMBER": "SO43661",
                                    "ORDER_DATE": "2011-06-01 00:00:00.000",
                                    "ACCOUNT_NUMBER": "AW73565",
                                    "PRICE": "2025",
                                    "QUANTITY": "3"
                                }
                            ]
                        },
                        "text/html": [
                            "<table>",
                            "<tr><th>ORDER_NUMBER</th><th>ORDER_DATE</th><th>ACCOUNT_NUMBER</th><th>PRICE</th><th>QUANTITY</th></tr>",
                            "<tr><td>SO43659</td><td>2011-05-31 00:00:00.000</td><td>AW29825</td><td>2025</td><td>1</td></tr>",
                            "<tr><td>SO43661</td><td>2011-06-01 00:00:00.000</td><td>AW73565</td><td>2025</td><td>3</td></tr>",
                            "</table>"
                        ]
                    }
                }
            ],
            "execution_count": 6
        },
        {
            "cell_type": "markdown",
            "source": [
                "## `null` values and `OPENJSON`\n",
                "\n",
                "Here we demonstrate that `null` behaves as expected within our `Orders` array:"
            ],
            "metadata": {
                "language": "sql",
                "azdata_cell_guid": "29311121-144e-450e-b1e6-a9badbf96d0c"
            },
            "attachments": {}
        },
        {
            "cell_type": "code",
            "source": [
                "EXEC sys.sp_set_session_context\n",
                "    @key = N'myOtherJson',\n",
                "    @value = '\n",
                "{\n",
                "    \"Orders\": [\n",
                "        {\n",
                "            \"OrderNumber\":\"SO43659\",\n",
                "            \"OrderDate\":\"2011-05-31T00:00:00\",\n",
                "            \"AccountNumber\":\"AW29825\",\n",
                "            \"ItemPrice\":2024.9940,\n",
                "            \"ItemQuantity\":null\n",
                "        },\n",
                "        null,\n",
                "        {\n",
                "            \"OrderNumber\":\"SO43661\",\n",
                "            \"OrderDate\":\"2011-06-01T00:00:00\",\n",
                "            \"AccountNumber\":\"AW73565\",\n",
                "            \"ItemPrice\":null\n",
                "        }\n",
                "    ]\n",
                "}'"
            ],
            "metadata": {
                "language": "sql",
                "azdata_cell_guid": "a7fa8fc3-d422-4bbb-971b-3412caab080d"
            },
            "outputs": [
                {
                    "output_type": "display_data",
                    "data": {
                        "text/html": "Commands completed successfully."
                    },
                    "metadata": {}
                },
                {
                    "output_type": "display_data",
                    "data": {
                        "text/html": "Total execution time: 00:00:00.045"
                    },
                    "metadata": {}
                }
            ],
            "execution_count": 7
        },
        {
            "cell_type": "code",
            "source": [
                "DECLARE @myOtherJson NVARCHAR(MAX) = CONVERT(NVARCHAR(MAX), SESSION_CONTEXT(N'myOtherJson'))\n",
                "\n",
                "SELECT\n",
                "    *\n",
                "FROM\n",
                "    OPENJSON(@myOtherJson, '$.Orders')\n",
                "    WITH (\n",
                "        ORDER_NUMBER   NVARCHAR(32) '$.OrderNumber'\n",
                "    ,   ORDER_DATE     DATETIME     '$.OrderDate'\n",
                "    ,   ACCOUNT_NUMBER NVARCHAR(32) '$.AccountNumber'\n",
                "    ,   PRICE          DECIMAL      '$.ItemPrice'\n",
                "    ,   QUANTITY       INT          '$.ItemQuantity'\n",
                "    )\n",
                ""
            ],
            "metadata": {
                "language": "sql",
                "azdata_cell_guid": "a815a9a9-f5f1-434e-8ac1-593c8dc50627"
            },
            "outputs": [
                {
                    "output_type": "display_data",
                    "data": {
                        "text/html": "(3 rows affected)"
                    },
                    "metadata": {}
                },
                {
                    "output_type": "display_data",
                    "data": {
                        "text/html": "Total execution time: 00:00:00.047"
                    },
                    "metadata": {}
                },
                {
                    "output_type": "execute_result",
                    "metadata": {},
                    "execution_count": 8,
                    "data": {
                        "application/vnd.dataresource+json": {
                            "schema": {
                                "fields": [
                                    {
                                        "name": "ORDER_NUMBER"
                                    },
                                    {
                                        "name": "ORDER_DATE"
                                    },
                                    {
                                        "name": "ACCOUNT_NUMBER"
                                    },
                                    {
                                        "name": "PRICE"
                                    },
                                    {
                                        "name": "QUANTITY"
                                    }
                                ]
                            },
                            "data": [
                                {
                                    "ORDER_NUMBER": "SO43659",
                                    "ORDER_DATE": "2011-05-31 00:00:00.000",
                                    "ACCOUNT_NUMBER": "AW29825",
                                    "PRICE": "2025",
                                    "QUANTITY": "NULL"
                                },
                                {
                                    "ORDER_NUMBER": "NULL",
                                    "ORDER_DATE": "NULL",
                                    "ACCOUNT_NUMBER": "NULL",
                                    "PRICE": "NULL",
                                    "QUANTITY": "NULL"
                                },
                                {
                                    "ORDER_NUMBER": "SO43661",
                                    "ORDER_DATE": "2011-06-01 00:00:00.000",
                                    "ACCOUNT_NUMBER": "AW73565",
                                    "PRICE": "NULL",
                                    "QUANTITY": "NULL"
                                }
                            ]
                        },
                        "text/html": [
                            "<table>",
                            "<tr><th>ORDER_NUMBER</th><th>ORDER_DATE</th><th>ACCOUNT_NUMBER</th><th>PRICE</th><th>QUANTITY</th></tr>",
                            "<tr><td>SO43659</td><td>2011-05-31 00:00:00.000</td><td>AW29825</td><td>2025</td><td>NULL</td></tr>",
                            "<tr><td>NULL</td><td>NULL</td><td>NULL</td><td>NULL</td><td>NULL</td></tr>",
                            "<tr><td>SO43661</td><td>2011-06-01 00:00:00.000</td><td>AW73565</td><td>NULL</td><td>NULL</td></tr>",
                            "</table>"
                        ]
                    }
                }
            ],
            "execution_count": 8
        },
        {
            "cell_type": "markdown",
            "source": [
                "## <!-- -->\n",
                "\n",
                "[Bryan Wilhite is on LinkedIn](https://www.linkedin.com/in/wilhite)🇺🇸💼"
            ],
            "metadata": {
                "azdata_cell_guid": "e41ab097-0eb0-4140-bfc1-3ec60d395ada"
            },
            "attachments": {}
        }
    ]
}