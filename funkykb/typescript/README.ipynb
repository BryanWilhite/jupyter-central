{
 "cells": [
  {
   "attachments": {},
   "cell_type": "markdown",
   "metadata": {},
   "source": [
    "# the TypeScript kernel: `itypescript`\n",
    "\n",
    "The `itypescript` kernel [[GitHub](https://github.com/winnekes/itypescript)] is based off of the `ijavascript` kernel [[GitHub](http://n-riesco.github.io/ijavascript/)]. This project has been [rather poorly maintained](https://github.com/winnekes/itypescript/issues/6) but deeply appreciated 😄."
   ]
  },
  {
   "attachments": {},
   "cell_type": "markdown",
   "metadata": {},
   "source": [
    "## installation on Ubuntu:\n",
    "\n",
    "Installation dutifully follows [that](https://github.com/n-riesco/ijavascript#installation) of IJavascript. The README of the ITypescript repo is even formatted like the IJavascript one! From its [installation section](https://github.com/winnekes/itypescript/tree/master#installations), I glean:\n",
    "\n",
    "```bash\n",
    "sudo -H npm install -g itypescript\n",
    "its --install=local\n",
    "```"
   ]
  },
  {
   "attachments": {},
   "cell_type": "markdown",
   "metadata": {},
   "source": [
    "## serious caveats\n",
    "\n",
    "It is important that the associated `tsconfig.json` file in the same directory as this notebook is set correctly as the kernel will read it on every execution. See “the `tsconfig.json` file” below.\n",
    "\n",
    "Also. it is extremely important to understand that use of `const` or `let` variables in global scope means the kernel can only run the code _one time_. After the one run the kernel _must_ be restarted. Failure to restart the kernel leads to `Error: Conflict with a committed line: …` error messages 😐"
   ]
  },
  {
   "attachments": {},
   "cell_type": "markdown",
   "metadata": {},
   "source": [
    "## the `$TS` object follows the `global.$$` object from `ijavascript`\n",
    "\n",
    "The ITypescript repo currently has [a Jupyter notebook](https://github.com/winnekes/itypescript/blob/master/doc/graphics.ipynb) showing some of the features of `$TS`. As documentation is sketchy, I recommend looking at [the source code](https://github.com/winnekes/itypescript/blob/337a539b4ba697d8f3311d18aa356d57ffd3727a/lib/startup.ts#LL3C12-L3C12) and compare that with [IJavaScript documentation](http://n-riesco.github.io/ijavascript/doc/custom.ipynb.html).\n",
    "\n",
    "The following shows how `$TS.log` works like `$$.text`:"
   ]
  },
  {
   "cell_type": "code",
   "execution_count": 1,
   "metadata": {},
   "outputs": [
    {
     "data": {
      "text/plain": [
       "hello world!"
      ]
     },
     "execution_count": 1,
     "metadata": {},
     "output_type": "execute_result"
    }
   ],
   "source": [
    "global.$$.text('hello world!');"
   ]
  },
  {
   "cell_type": "code",
   "execution_count": 2,
   "metadata": {},
   "outputs": [
    {
     "data": {
      "text/plain": [
       "hello world!"
      ]
     },
     "execution_count": 2,
     "metadata": {},
     "output_type": "execute_result"
    }
   ],
   "source": [
    "$TS.log('hello world!');"
   ]
  },
  {
   "attachments": {},
   "cell_type": "markdown",
   "metadata": {},
   "source": [
    "The `$TS.put` method works like `$$.mime` [📖 [docs](http://n-riesco.github.io/ijavascript/doc/custom.ipynb.html#$$.mime(mimeBundle))]:"
   ]
  },
  {
   "cell_type": "code",
   "execution_count": 3,
   "metadata": {},
   "outputs": [
    {
     "data": {
      "text/html": [
       "<div style=\"background-color:olive;width:50px;height:50px\"></div>"
      ]
     },
     "execution_count": 3,
     "metadata": {},
     "output_type": "execute_result"
    }
   ],
   "source": [
    "$TS.put('text/html', '<div style=\"background-color:olive;width:50px;height:50px\"></div>');"
   ]
  },
  {
   "attachments": {},
   "cell_type": "markdown",
   "metadata": {},
   "source": [
    "## the `tsconfig.json` file"
   ]
  },
  {
   "cell_type": "code",
   "execution_count": 4,
   "metadata": {},
   "outputs": [
    {
     "data": {
      "text/html": [
       "<pre style=\"height:10rem;overflow:scroll-y\">{\n",
       "    \"compilerOptions\": {\n",
       "        \"module\": \"commonjs\",\n",
       "        \"lib\": [\n",
       "            \"ES2020\",\n",
       "            \"dom\",\n",
       "            \"dom.iterable\"\n",
       "        ],\n",
       "        \"target\": \"ES2020\",\n",
       "        \"typeRoots\": [\n",
       "            \"node_modules/@types\"\n",
       "        ],\n",
       "        \"types\": [\n",
       "            \"node\"\n",
       "        ],\n",
       "        \"moduleResolution\": \"node\",\n",
       "        \"allowSyntheticDefaultImports\": true,\n",
       "        \"declaration\": true,\n",
       "        \"downlevelIteration\": false,\n",
       "        \"emitDecoratorMetadata\": true,\n",
       "        \"esModuleInterop\": true,\n",
       "        \"experimentalDecorators\": true,\n",
       "        \"importHelpers\": true,\n",
       "        \"inlineSources\": false,\n",
       "        \"noFallthroughCasesInSwitch\": true,\n",
       "        \"noImplicitAny\": false,\n",
       "        \"noImplicitReturns\": true,\n",
       "        \"noUnusedLocals\": true,\n",
       "        \"noUnusedParameters\": true,\n",
       "        \"resolveJsonModule\": true,\n",
       "        \"skipLibCheck\": true,\n",
       "        \"strict\": true,\n",
       "        \"strictBindCallApply\": true,\n",
       "        \"strictNullChecks\": true,\n",
       "        \"sourceMap\": false,\n",
       "    }\n",
       "}\n",
       "</pre>"
      ]
     },
     "execution_count": 4,
     "metadata": {},
     "output_type": "execute_result"
    }
   ],
   "source": [
    "import * as fs from \"fs\";\n",
    "\n",
    "function toPre(data: string): void {\n",
    "    $TS.put('text/html', `<pre style=\"height:10rem;overflow:scroll-y\">${data}</pre>`);\n",
    "}\n",
    "\n",
    "const config = fs.readFileSync('tsconfig.json').toString('utf8');\n",
    "\n",
    "toPre(config);"
   ]
  },
  {
   "attachments": {},
   "cell_type": "markdown",
   "metadata": {},
   "source": [
    "## the `package.json` file"
   ]
  },
  {
   "cell_type": "code",
   "execution_count": 5,
   "metadata": {},
   "outputs": [
    {
     "data": {
      "text/html": [
       "<pre style=\"height:10rem;overflow:scroll-y\">{\n",
       "    \"name\": \"itypescript-notes\",\n",
       "    \"version\": \"0.0.1\",\n",
       "    \"description\": \"itypescript notes\",\n",
       "    \"author\": {\n",
       "        \"name\": \"Bryan D. Wilhite\",\n",
       "        \"email\": \"rasx@songhaysystem.com\"\n",
       "    },\n",
       "    \"license\": \"MIT\",\n",
       "    \"devDependencies\": {\n",
       "        \"@types/jest\": \"^29.5.2\",\n",
       "        \"@types/lodash\": \"^4.14.195\",\n",
       "        \"jest\": \"^29.5.0\",\n",
       "        \"jest-environment-jsdom\": \"^29.5.0\",\n",
       "        \"lodash\": \"^4.17.21\",\n",
       "        \"prettier\": \"^2.8.8\",\n",
       "        \"terser-webpack-plugin\": \"^5.3.9\",\n",
       "        \"ts-jest\": \"^29.1.0\",\n",
       "        \"ts-loader\": \"^9.4.3\",\n",
       "        \"tslib\": \"^2.5.3\"\n",
       "    }\n",
       "}</pre>"
      ]
     },
     "execution_count": 5,
     "metadata": {},
     "output_type": "execute_result"
    }
   ],
   "source": [
    "const packageData = fs.readFileSync('package.json').toString('utf8');\n",
    "\n",
    "toPre(packageData);"
   ]
  },
  {
   "attachments": {},
   "cell_type": "markdown",
   "metadata": {},
   "source": [
    "[Bryan Wilhite is on LinkedIn](https://www.linkedin.com/in/wilhite)🇺🇸💼"
   ]
  }
 ],
 "metadata": {
  "kernelspec": {
   "display_name": "Typescript 4.9",
   "language": "typescript",
   "name": "typescript"
  },
  "language_info": {
   "file_extension": ".ts",
   "mimetype": "application/x-typescript",
   "name": "typescript",
   "version": "4.9.5"
  },
  "orig_nbformat": 4
 },
 "nbformat": 4,
 "nbformat_minor": 2
}
