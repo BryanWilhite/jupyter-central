{
 "cells": [
  {
   "cell_type": "markdown",
   "metadata": {},
   "source": [
    "# the TypeScript kernel: `itypescript`\n",
    "\n",
    "The `itypescript` kernel is based off of the `ijavascript` kernel [[GitHub](http://n-riesco.github.io/ijavascript/)].\n",
    "\n",
    "Because Anaconda is installed locally on the machine hosting this notebook, the TypeScript kernel [[GitHub](https://github.com/winnekes/itypescript)] must be installed with:\n",
    "\n",
    "```bash\n",
    "its --install=local\n",
    "```\n",
    "\n",
    "This is done after running:\n",
    "\n",
    "```bash\n",
    "sudo -H npm install -g itypescript\n",
    "```"
   ]
  },
  {
   "cell_type": "code",
   "execution_count": 4,
   "metadata": {},
   "outputs": [
    {
     "name": "stdout",
     "output_type": "stream",
     "text": [
      "This is Typescript.\n"
     ]
    },
    {
     "data": {
      "text/plain": [
       "undefined"
      ]
     },
     "execution_count": 4,
     "metadata": {},
     "output_type": "execute_result"
    }
   ],
   "source": [
    "console.info(\"This is Typescript.\");"
   ]
  },
  {
   "cell_type": "markdown",
   "metadata": {},
   "source": [
    "@[BryanWilhite](https://twitter.com/BryanWilhite)"
   ]
  }
 ],
 "metadata": {
  "kernelspec": {
   "display_name": "Typescript 4.7",
   "language": "typescript",
   "name": "typescript"
  },
  "language_info": {
   "file_extension": ".ts",
   "mimetype": "application/x-typescript",
   "name": "typescript",
   "version": "4.7.4"
  },
  "orig_nbformat": 4
 },
 "nbformat": 4,
 "nbformat_minor": 2
}
