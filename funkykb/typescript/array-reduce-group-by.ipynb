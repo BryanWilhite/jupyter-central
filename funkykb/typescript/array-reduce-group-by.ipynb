{
 "cells": [
  {
   "attachments": {},
   "cell_type": "markdown",
   "metadata": {},
   "source": [
    "# using `Array.prototype.reduce()` to group by an object property\n",
    "\n",
    "A [StackOverflow answer](https://stackoverflow.com/a/40774906/22944) from [Nina Scholz](https://stackoverflow.com/users/1447675/nina-scholz) clearly and excellently shows how to use `Array.prototype.reduce()` [📖 [docs](https://developer.mozilla.org/en-US/docs/Web/JavaScript/Reference/Global_Objects/Array/reduce)] to group by an object property:"
   ]
  },
  {
   "cell_type": "code",
   "execution_count": 1,
   "metadata": {},
   "outputs": [
    {
     "data": {
      "text/plain": [
       "{\n",
       "  audi: [\n",
       "    { make: 'audi', model: 'r8', year: '2012' },\n",
       "    { make: 'audi', model: 'rs5', year: '2013' }\n",
       "  ],\n",
       "  ford: [\n",
       "    { make: 'ford', model: 'mustang', year: '2012' },\n",
       "    { make: 'ford', model: 'fusion', year: '2015' }\n",
       "  ],\n",
       "  kia: [ { make: 'kia', model: 'optima', year: '2012' } ]\n",
       "}"
      ]
     },
     "execution_count": 1,
     "metadata": {},
     "output_type": "execute_result"
    }
   ],
   "source": [
    "const cars = [\n",
    "    { make: 'audi', model: 'r8', year: '2012' },\n",
    "    { make: 'audi', model: 'rs5', year: '2013' },\n",
    "    { make: 'ford', model: 'mustang', year: '2012' },\n",
    "    { make: 'ford', model: 'fusion', year: '2015' },\n",
    "    { make: 'kia', model: 'optima', year: '2012' }\n",
    "];\n",
    "\n",
    "const result =\n",
    "    cars.reduce((a, i) => {\n",
    "        a[i.make] = a[i.make] ?? [];\n",
    "        a[i.make].push(i);\n",
    "        return a;\n",
    "    },\n",
    "    {});\n",
    "\n",
    "result"
   ]
  },
  {
   "attachments": {},
   "cell_type": "markdown",
   "metadata": {},
   "source": [
    "Nina’s original answer was in pure JavaScript and I have made a few modernizations:\n",
    "\n",
    "1. I have changed `r[a.make] || []` to `r[a.make] ?? []`—to clarify intent.\n",
    "2. I have changed `Object.create(null)` to `{}`."
   ]
  },
  {
   "attachments": {},
   "cell_type": "markdown",
   "metadata": {},
   "source": [
    "## making Nina’s answer generic\n",
    "\n",
    "To make Nina’s answer more reusable, we can start by taking a peek at [a StackOverflow answer from 2020](https://stackoverflow.com/a/47385953/22944) and define a function called `groupByKey`:"
   ]
  },
  {
   "cell_type": "code",
   "execution_count": 2,
   "metadata": {},
   "outputs": [
    {
     "data": {
      "text/plain": [
       "{\n",
       "  audi: [\n",
       "    { make: 'audi', model: 'r8', year: '2012' },\n",
       "    { make: 'audi', model: 'rs5', year: '2013' }\n",
       "  ],\n",
       "  ford: [\n",
       "    { make: 'ford', model: 'mustang', year: '2012' },\n",
       "    { make: 'ford', model: 'fusion', year: '2015' }\n",
       "  ],\n",
       "  kia: [ { make: 'kia', model: 'optima', year: '2012' } ]\n",
       "}"
      ]
     },
     "execution_count": 2,
     "metadata": {},
     "output_type": "execute_result"
    }
   ],
   "source": [
    "function groupByKey(reducible: {}[], key: string) : {} {\n",
    "    const initialValue = {};\n",
    "    const result = reducible.reduce((a: {}, i: {}) => {\n",
    "        const groupName: any = i[key];\n",
    "        a[groupName] = a[groupName] ?? [];\n",
    "        a[groupName].push(i);\n",
    "        return a;\n",
    "    },\n",
    "    initialValue);\n",
    "\n",
    "    return result;\n",
    "}\n",
    "\n",
    "groupByKey(cars, 'make')"
   ]
  },
  {
   "attachments": {},
   "cell_type": "markdown",
   "metadata": {},
   "source": [
    "The type annotations on `reducible.reduce` make clearer what is happening in both `reduce` operations: the anonymous object `a` is _accumulating_ object properties. This following set operation runs _for the first time_ it is saying, “Add a new property with the name `groupName` and set the value of this property to an empty array”:\n",
    "\n",
    "```typescript\n",
    "a[groupName] = a[groupName] ?? [];\n",
    "```\n",
    "\n",
    "When the above runs a second (or subsequent) time it is somewhat uselessly setting itself to itself (but at compile time it is helping to define the type of `a[groupName]` as `any[]`)."
   ]
  },
  {
   "attachments": {},
   "cell_type": "markdown",
   "metadata": {},
   "source": [
    "## the verbose way of inferring the type of `a[groupName]`\n",
    "\n",
    "Sometimes terse code does not help the less experienced programmers on the team. We can go back to Nina’s `reduce` lambda and make it (slightly) easier to understand:"
   ]
  },
  {
   "cell_type": "code",
   "execution_count": 3,
   "metadata": {},
   "outputs": [
    {
     "data": {
      "text/plain": [
       "{\n",
       "  audi: [\n",
       "    { make: 'audi', model: 'r8', year: '2012' },\n",
       "    { make: 'audi', model: 'rs5', year: '2013' }\n",
       "  ],\n",
       "  ford: [\n",
       "    { make: 'ford', model: 'mustang', year: '2012' },\n",
       "    { make: 'ford', model: 'fusion', year: '2015' }\n",
       "  ],\n",
       "  kia: [ { make: 'kia', model: 'optima', year: '2012' } ]\n",
       "}"
      ]
     },
     "execution_count": 3,
     "metadata": {},
     "output_type": "execute_result"
    }
   ],
   "source": [
    "const result2 =\n",
    "    cars.reduce((a, i) => {\n",
    "        if(!a[i.make]) { a[i.make] = [] };\n",
    "        a[i.make].push(i);\n",
    "        return a;\n",
    "    },\n",
    "    {});\n",
    "\n",
    "result2"
   ]
  },
  {
   "attachments": {},
   "cell_type": "markdown",
   "metadata": {},
   "source": [
    "## additional reading\n",
    "\n",
    "- “[Array Grouping in JavaScript: `array.groupBy()`](https://dmitripavlutin.com/javascript-array-group/)” by Dmitri Pavlutin"
   ]
  },
  {
   "attachments": {},
   "cell_type": "markdown",
   "metadata": {},
   "source": [
    "## <!---->\n",
    "\n",
    "[Bryan Wilhite is on LinkedIn](https://www.linkedin.com/in/wilhite)🇺🇸💼\n"
   ]
  }
 ],
 "metadata": {
  "kernelspec": {
   "display_name": "Typescript 4.9",
   "language": "typescript",
   "name": "typescript"
  },
  "language_info": {
   "file_extension": ".ts",
   "mimetype": "application/x-typescript",
   "name": "typescript",
   "version": "4.9.5"
  },
  "orig_nbformat": 4
 },
 "nbformat": 4,
 "nbformat_minor": 2
}
