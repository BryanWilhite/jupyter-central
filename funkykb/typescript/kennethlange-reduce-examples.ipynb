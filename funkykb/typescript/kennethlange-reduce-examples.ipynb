{
 "cells": [
  {
   "attachments": {},
   "cell_type": "markdown",
   "metadata": {},
   "source": [
    "# “8 Examples of Using Reduce in TypeScript”\n",
    "\n",
    "<https://kennethlange.com/reduce-in-typescript-examples/>\n",
    "\n",
    "See also: “[Reduce in TypeScript](https://kennethlange.com/reduce-in-typescript/)”"
   ]
  },
  {
   "cell_type": "code",
   "execution_count": 1,
   "metadata": {},
   "outputs": [],
   "source": [
    "const posts = [\n",
    "    { id: 1, title: 'Clean TypeScript', category: 'TypeScript', likes: 91 },\n",
    "    { id: 2, title: 'Stateless React',  category: 'React',      likes: 12 },\n",
    "    { id: 3, title: 'Functional Core',  category: 'TypeScript', likes: 65 }\n",
    "];"
   ]
  },
  {
   "attachments": {},
   "cell_type": "markdown",
   "metadata": {},
   "source": [
    "## “Examples 1: Find the min element in an array using reduce”"
   ]
  },
  {
   "cell_type": "code",
   "execution_count": 2,
   "metadata": {},
   "outputs": [
    {
     "name": "stdout",
     "output_type": "stream",
     "text": [
      "{\n",
      "  worstPost: { id: 2, title: 'Stateless React', category: 'React', likes: 12 }\n",
      "}\n"
     ]
    }
   ],
   "source": [
    "const worstPost = posts.reduce((worstPost, post) => worstPost.likes < post.likes ? worstPost : post);\n",
    "\n",
    "console.log({worstPost});"
   ]
  },
  {
   "attachments": {},
   "cell_type": "markdown",
   "metadata": {},
   "source": [
    "## “Example 2: Find the max element in an array using reduce”"
   ]
  },
  {
   "cell_type": "code",
   "execution_count": 3,
   "metadata": {},
   "outputs": [
    {
     "name": "stdout",
     "output_type": "stream",
     "text": [
      "{\n",
      "  bestPost: {\n",
      "    id: 1,\n",
      "    title: 'Clean TypeScript',\n",
      "    category: 'TypeScript',\n",
      "    likes: 91\n",
      "  }\n",
      "}\n"
     ]
    }
   ],
   "source": [
    "const bestPost = posts.reduce((bestPost, post) => bestPost.likes > post.likes ? bestPost : post);\n",
    "\n",
    "console.log({bestPost}); // Output: \"Clean TypeScript\""
   ]
  },
  {
   "attachments": {},
   "cell_type": "markdown",
   "metadata": {},
   "source": [
    "## “Example 3: Make an array unique using reduce”"
   ]
  },
  {
   "cell_type": "code",
   "execution_count": 4,
   "metadata": {},
   "outputs": [
    {
     "name": "stdout",
     "output_type": "stream",
     "text": [
      "[ 'TypeScript', 'React' ]\n"
     ]
    }
   ],
   "source": [
    "const uniqueCategories = posts\n",
    "    .map(post => post.category)\n",
    "    .reduce((categories, c) => categories.includes(c) ? categories : [...categories, c], new Array<string>());\n",
    "\n",
    "console.log(uniqueCategories); // Output: [\"TypeScript\", \"React\"]"
   ]
  },
  {
   "attachments": {},
   "cell_type": "markdown",
   "metadata": {},
   "source": [
    ">In fairness, using a Set (and not reduce) is a better choice in this use case where we are using an array of values (and not objects):"
   ]
  },
  {
   "cell_type": "code",
   "execution_count": 5,
   "metadata": {},
   "outputs": [
    {
     "name": "stdout",
     "output_type": "stream",
     "text": [
      "[ 'TypeScript', 'React' ]\n"
     ]
    }
   ],
   "source": [
    "const categories = [ ...new Set(posts.map(post => post.category))];\n",
    "\n",
    "console.log(categories); // Output: [\"TypeScript\", \"React\"]"
   ]
  }
 ],
 "metadata": {
  "kernelspec": {
   "display_name": "Typescript 4.9",
   "language": "typescript",
   "name": "typescript"
  },
  "language_info": {
   "file_extension": ".ts",
   "mimetype": "application/x-typescript",
   "name": "typescript",
   "version": "4.9.5"
  },
  "orig_nbformat": 4
 },
 "nbformat": 4,
 "nbformat_minor": 2
}
