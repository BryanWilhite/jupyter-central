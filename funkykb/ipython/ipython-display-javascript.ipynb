{
 "cells": [
  {
   "cell_type": "markdown",
   "metadata": {},
   "source": [
    "# `IPython.display.Javascript`\n",
    "\n",
    ">Create a Javascript display object given raw data.\n",
    ">\n",
    ">When this object is returned by an expression or passed to the display function, it will result in the data being displayed in the frontend. If the data is a URL, the data will first be downloaded and then displayed.\n",
    ">\n",
    ">In the Notebook, the containing element will be available as element, and jQuery will be available. Content appended to element will be visible in the output area.\n",
    ">\n",
    ">[📖 [docs](https://ipython.readthedocs.io/en/stable/api/generated/IPython.display.html?highlight=display#IPython.display.Javascript)]\n",
    ">\n",
    "\n",
    "\n",
    ">With notebooks, objects can also declare a JavaScript representation. This enables e.g. data visualisations with Javascript libraries like d3.js.\n",
    ">\n",
    ">[📖 [tutorial](https://jupyter-tutorial.readthedocs.io/en/stable/workspace/ipython/display.html#Javascript)]\n",
    ">\n"
   ]
  },
  {
   "cell_type": "code",
   "execution_count": 2,
   "metadata": {},
   "outputs": [
    {
     "data": {
      "application/javascript": "alert(\"Hello World!\");",
      "text/plain": [
       "<IPython.core.display.Javascript object>"
      ]
     },
     "execution_count": 2,
     "metadata": {},
     "output_type": "execute_result"
    }
   ],
   "source": [
    "from IPython import display\n",
    "\n",
    "display.Javascript('alert(\"Hello World!\");')"
   ]
  },
  {
   "cell_type": "markdown",
   "metadata": {},
   "source": [
    ">For more extensive Javascript you can also use the `%%javascript` syntax.\n",
    ">"
   ]
  },
  {
   "cell_type": "markdown",
   "metadata": {},
   "source": [
    "[Bryan Wilhite is on LinkedIn](https://www.linkedin.com/in/wilhite)🇺🇸💼"
   ]
  }
 ],
 "metadata": {
  "kernelspec": {
   "display_name": "Python 3",
   "language": "python",
   "name": "python3"
  },
  "language_info": {
   "codemirror_mode": {
    "name": "ipython",
    "version": 3
   },
   "file_extension": ".py",
   "mimetype": "text/x-python",
   "name": "python",
   "nbconvert_exporter": "python",
   "pygments_lexer": "ipython3",
   "version": "3.7.13"
  },
  "vscode": {
   "interpreter": {
    "hash": "2248ed64bdf5fe1d2cc35d4639eff9d9517212412e82087913ac56aa4ab59c78"
   }
  }
 },
 "nbformat": 4,
 "nbformat_minor": 2
}
