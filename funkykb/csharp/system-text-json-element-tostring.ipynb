{
 "cells": [
  {
   "cell_type": "markdown",
   "id": "dedda513",
   "metadata": {},
   "source": [
    "# `System.Text.Json.JsonElement` text representation"
   ]
  },
  {
   "cell_type": "markdown",
   "id": "b25a68d0",
   "metadata": {},
   "source": [
    "## the `ToString()` of `JsonElement` is not like the default `ToString()` method\n",
    "\n",
    "We can see (below) that the `JsonDocument.ToString()` method behaves like the default `object.ToString()` method:"
   ]
  },
  {
   "cell_type": "code",
   "execution_count": 1,
   "id": "c524a607",
   "metadata": {
    "vscode": {
     "languageId": "polyglot-notebook"
    }
   },
   "outputs": [
    {
     "data": {
      "text/plain": [
       "System.Text.Json.JsonDocument"
      ]
     },
     "metadata": {},
     "output_type": "display_data"
    }
   ],
   "source": [
    "#!csharp\n",
    "\n",
    "using System.Text.Json;\n",
    "\n",
    "string json = \"\"\"\n",
    "{\n",
    "    \"one\": 1,\n",
    "    \"two\": 2,\n",
    "    \"three\": 3\n",
    "}\n",
    "\"\"\";\n",
    "\n",
    "JsonDocument jDoc = JsonDocument.Parse(json);\n",
    "\n",
    "jDoc.ToString()"
   ]
  },
  {
   "cell_type": "markdown",
   "id": "1ceecdb4",
   "metadata": {},
   "source": [
    "However, the root `JsonElement` of `JsonDocument` has a `ToString()` method that behaves differently:"
   ]
  },
  {
   "cell_type": "code",
   "execution_count": 2,
   "id": "33880303",
   "metadata": {
    "vscode": {
     "languageId": "polyglot-notebook"
    }
   },
   "outputs": [
    {
     "data": {
      "text/plain": [
       "{\n",
       "    \"one\": 1,\n",
       "    \"two\": 2,\n",
       "    \"three\": 3\n",
       "}"
      ]
     },
     "metadata": {},
     "output_type": "display_data"
    }
   ],
   "source": [
    "#!csharp\n",
    "\n",
    "jDoc.RootElement.ToString()"
   ]
  },
  {
   "cell_type": "markdown",
   "id": "0dd85ec6",
   "metadata": {},
   "source": [
    "The [official docs explain](https://docs.microsoft.com/en-us/dotnet/api/system.text.json.jsonelement.tostring?view=net-8.0) that this behavior is _by design_:\n",
    "\n",
    "> For [JsonValueKind.Null](https://docs.microsoft.com/en-us/dotnet/api/system.text.json.jsonvaluekind?view=net-8.0#system-text-json-jsonvaluekind-null), [String.Empty](https://docs.microsoft.com/en-us/dotnet/api/system.string.empty?view=net-8.0#system-string-empty) is returned.\n",
    ">\n",
    "> For [JsonValueKind.True](https://docs.microsoft.com/en-us/dotnet/api/system.text.json.jsonvaluekind?view=net-8.0#system-text-json-jsonvaluekind-true), [Boolean.TrueString](https://docs.microsoft.com/en-us/dotnet/api/system.boolean.truestring?view=net-8.0#system-boolean-truestring) is returned.\n",
    ">\n",
    "> For [JsonValueKind.False](https://docs.microsoft.com/en-us/dotnet/api/system.text.json.jsonvaluekind?view=net-8.0#system-text-json-jsonvaluekind-false), [Boolean.FalseString](https://docs.microsoft.com/en-us/dotnet/api/system.boolean.falsestring?view=net-8.0#system-boolean-falsestring) is returned.\n",
    ">\n",
    "> For [JsonValueKind.String](https://docs.microsoft.com/en-us/dotnet/api/system.text.json.jsonvaluekind?view=net-8.0#system-text-json-jsonvaluekind-string), the value of [GetString()](https://docs.microsoft.com/en-us/dotnet/api/system.text.json.jsonelement.getstring?view=net-8.0#system-text-json-jsonelement-getstring) is returned.\n",
    ">\n",
    "> For other types, the value of [GetRawText()](https://docs.microsoft.com/en-us/dotnet/api/system.text.json.jsonelement.getrawtext?view=net-8.0#system-text-json-jsonelement-getrawtext) is returned.\n",
    "\n",
    "So, clearly, the output of `RootElement.ToString()` is actually the output of `GetRawText` which is [described](https://docs.microsoft.com/en-us/dotnet/api/system.text.json.jsonelement.getrawtext?view=net-8.0#system-text-json-jsonelement-getrawtext) with the following interesting sentence:\n",
    "\n",
    ">Gets a string that represents the original input data backing this value.\n",
    "\n",
    "When Microsoft says “the original input data,” they are not playing around with words. Look at how the line breaks are preserved in this next call to `RootElement.ToString()`:"
   ]
  },
  {
   "cell_type": "code",
   "execution_count": 4,
   "id": "ba16d17f",
   "metadata": {
    "vscode": {
     "languageId": "polyglot-notebook"
    }
   },
   "outputs": [
    {
     "data": {
      "text/plain": [
       "{ \"one\": 4, \"two\": 42,\n",
       "    \"three\": 43 }"
      ]
     },
     "metadata": {},
     "output_type": "display_data"
    }
   ],
   "source": [
    "#!csharp\n",
    "\n",
    "string json2 = \"\"\"\n",
    "{ \"one\": 4, \"two\": 42,\n",
    "    \"three\": 43 }\n",
    "\"\"\";\n",
    "\n",
    "JsonDocument jDoc2 = JsonDocument.Parse(json2);\n",
    "\n",
    "jDoc2.RootElement.ToString()"
   ]
  },
  {
   "cell_type": "markdown",
   "id": "4595080f",
   "metadata": {},
   "source": [
    "Microsoft is deliberately sacrificing control over text formatting for the high performance."
   ]
  },
  {
   "cell_type": "markdown",
   "id": "fbcec3c7",
   "metadata": {},
   "source": [
    "## when you want control over text formatting use `JsonNode.ToJsonString()`\n",
    "\n",
    "The `JsonNode.ToJsonString()` method [📖 [docs](https://learn.microsoft.com/en-us/dotnet/api/system.text.json.nodes.jsonnode.tojsonstring?view=net-9.0)] is what you are looking for when you want control over JSON text formatting. So, yes, you have to leave `JsonElement` behind in order to get this control (and lower performance):"
   ]
  },
  {
   "cell_type": "code",
   "execution_count": 5,
   "id": "3007de21",
   "metadata": {
    "vscode": {
     "languageId": "polyglot-notebook"
    }
   },
   "outputs": [
    {
     "data": {
      "text/plain": [
       "{\n",
       "  \"one\": 4,\n",
       "  \"two\": 42,\n",
       "  \"three\": 43\n",
       "}"
      ]
     },
     "metadata": {},
     "output_type": "display_data"
    }
   ],
   "source": [
    "#!csharp\n",
    "\n",
    "using System.Text.Json.Nodes;\n",
    "\n",
    "JsonNode.Parse(json2).ToJsonString(new JsonSerializerOptions { WriteIndented = true })"
   ]
  },
  {
   "cell_type": "markdown",
   "id": "ca9b0582",
   "metadata": {},
   "source": [
    "[Bryan Wilhite is on LinkedIn](https://www.linkedin.com/in/wilhite)🇺🇸💼\n"
   ]
  }
 ],
 "metadata": {
  "kernelspec": {
   "display_name": ".NET (C#)",
   "language": "C#",
   "name": ".net-csharp"
  },
  "language_info": {
   "name": "python"
  },
  "polyglot_notebook": {
   "kernelInfo": {
    "defaultKernelName": "csharp",
    "items": [
     {
      "aliases": [],
      "name": "csharp"
     }
    ]
   }
  }
 },
 "nbformat": 4,
 "nbformat_minor": 5
}
