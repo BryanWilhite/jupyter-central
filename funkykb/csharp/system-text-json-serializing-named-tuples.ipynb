{
 "cells": [
  {
   "attachments": {},
   "cell_type": "markdown",
   "metadata": {},
   "source": [
    "# `System.Text.Json`: serializing named tuples\n",
    "\n",
    "This is just a reminder to myself from the late .NET 7 time frame (summer 2023) that `System.Text.Json` does not serialize [named tuples](https://learn.microsoft.com/en-us/dotnet/csharp/language-reference/builtin-types/value-tuples#tuple-field-names):"
   ]
  },
  {
   "cell_type": "code",
   "execution_count": 1,
   "metadata": {
    "vscode": {
     "languageId": "polyglot-notebook"
    }
   },
   "outputs": [
    {
     "data": {
      "text/plain": [
       "[\n",
       "  {},\n",
       "  {},\n",
       "  {},\n",
       "  {},\n",
       "  {},\n",
       "  {}\n",
       "]"
      ]
     },
     "metadata": {},
     "output_type": "display_data"
    }
   ],
   "source": [
    "using System.Text.Json;\n",
    "\n",
    "var data = new List<(string one, string two)>\n",
    "{\n",
    "    (\"1:43\", \"2:44\"),\n",
    "    (\"1:30\", \"2:04\"),\n",
    "    (\"1:31\", \"2:54\"),\n",
    "    (\"1:41\", \"2:94\"),\n",
    "    (\"1:13\", \"2:42\"),\n",
    "    (\"1:11\", \"2:16\"),\n",
    "};\n",
    "\n",
    "var options = new JsonSerializerOptions { WriteIndented = true };\n",
    "\n",
    "JsonSerializer.Serialize(data, options)\n"
   ]
  },
  {
   "attachments": {},
   "cell_type": "markdown",
   "metadata": {},
   "source": [
    "One workaround is to use LINQ to project an anonymous object:"
   ]
  },
  {
   "cell_type": "code",
   "execution_count": 2,
   "metadata": {
    "dotnet_interactive": {
     "language": "csharp"
    },
    "polyglot_notebook": {
     "kernelName": "csharp"
    },
    "vscode": {
     "languageId": "polyglot-notebook"
    }
   },
   "outputs": [
    {
     "data": {
      "text/plain": [
       "[\n",
       "  {\n",
       "    \"one\": \"1:43\",\n",
       "    \"two\": \"2:44\"\n",
       "  },\n",
       "  {\n",
       "    \"one\": \"1:30\",\n",
       "    \"two\": \"2:04\"\n",
       "  },\n",
       "  {\n",
       "    \"one\": \"1:31\",\n",
       "    \"two\": \"2:54\"\n",
       "  },\n",
       "  {\n",
       "    \"one\": \"1:41\",\n",
       "    \"two\": \"2:94\"\n",
       "  },\n",
       "  {\n",
       "    \"one\": \"1:13\",\n",
       "    \"two\": \"2:42\"\n",
       "  },\n",
       "  {\n",
       "    \"one\": \"1:11\",\n",
       "    \"two\": \"2:16\"\n",
       "  }\n",
       "]"
      ]
     },
     "metadata": {},
     "output_type": "display_data"
    }
   ],
   "source": [
    "JsonSerializer.Serialize(data.Select(i => new { one = i.Item1, two = i.Item2 }), options)"
   ]
  },
  {
   "attachments": {},
   "cell_type": "markdown",
   "metadata": {},
   "source": [
    "## <!-- -->\n",
    "\n",
    "@[BryanWilhite](https://twitter.com/BryanWilhite)"
   ]
  }
 ],
 "metadata": {
  "language_info": {
   "name": "python"
  },
  "orig_nbformat": 4
 },
 "nbformat": 4,
 "nbformat_minor": 2
}
