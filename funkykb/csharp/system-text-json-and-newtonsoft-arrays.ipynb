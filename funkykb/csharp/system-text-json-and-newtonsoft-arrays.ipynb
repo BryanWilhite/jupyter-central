{
 "cells": [
  {
   "cell_type": "markdown",
   "id": "77c94779",
   "metadata": {},
   "source": [
    "# `System.Text.Json` and Newtonsoft’s Json.NET\n",
    "\n",
    "## accessing arrays\n",
    "\n",
    "Here is a comparison of how we access a JSON array with `JObject` (from Newtonsoft), `JsonDocument` and `JsonNode`."
   ]
  },
  {
   "cell_type": "markdown",
   "id": "185d08aa",
   "metadata": {},
   "source": [
    "## notebok setup"
   ]
  },
  {
   "cell_type": "code",
   "execution_count": 1,
   "id": "27789c2e",
   "metadata": {
    "polyglot_notebook": {
     "kernelName": "csharp"
    },
    "vscode": {
     "languageId": "polyglot-notebook"
    }
   },
   "outputs": [
    {
     "data": {
      "text/html": [
       "<div><div></div><div></div><div><strong>Installed Packages</strong><ul><li><span>Newtonsoft.Json, 13.0.3</span></li></ul></div></div>"
      ]
     },
     "metadata": {},
     "output_type": "display_data"
    }
   ],
   "source": [
    "#r \"nuget: Newtonsoft.Json\""
   ]
  },
  {
   "cell_type": "code",
   "execution_count": 2,
   "id": "2f63f287",
   "metadata": {
    "polyglot_notebook": {
     "kernelName": "csharp"
    },
    "vscode": {
     "languageId": "polyglot-notebook"
    }
   },
   "outputs": [],
   "source": [
    "var json = \"\"\"\n",
    "{\n",
    "    \"mySet\": [\n",
    "        \"one\",\n",
    "        \"two\",\n",
    "        \"three\"\n",
    "    ]\n",
    "}\n",
    "\"\"\";"
   ]
  },
  {
   "cell_type": "code",
   "execution_count": 3,
   "id": "b416be56",
   "metadata": {
    "polyglot_notebook": {
     "kernelName": "csharp"
    },
    "vscode": {
     "languageId": "polyglot-notebook"
    }
   },
   "outputs": [],
   "source": [
    "using System.Text.Json;\n",
    "using System.Text.Json.Nodes;\n",
    "\n",
    "using Newtonsoft.Json;\n",
    "using Newtonsoft.Json.Linq;"
   ]
  },
  {
   "cell_type": "markdown",
   "id": "b832e693",
   "metadata": {},
   "source": [
    "## parsing the JSON"
   ]
  },
  {
   "cell_type": "code",
   "execution_count": 4,
   "id": "7909ccdd",
   "metadata": {
    "polyglot_notebook": {
     "kernelName": "csharp"
    },
    "vscode": {
     "languageId": "polyglot-notebook"
    }
   },
   "outputs": [],
   "source": [
    "JObject newtonJObject = JObject.Parse(json);\n",
    "\n",
    "JsonDocument jsonDocument = JsonDocument.Parse(json);\n",
    "JsonNode jsonObject = JsonNode.Parse(json);"
   ]
  },
  {
   "cell_type": "markdown",
   "id": "ebfa6d96",
   "metadata": {},
   "source": [
    "### What is the difference between `JsonNode` and `JsonDocument`?\n",
    "\n",
    "Use `JsonDocument` for high-performance, read-only operations. `JsonNode` is meant for read-write operations. `JsonNode` is almost like the Newtonsoft `JToken`."
   ]
  },
  {
   "cell_type": "markdown",
   "id": "a1da8000",
   "metadata": {},
   "source": [
    "## accessing the array\n",
    "\n",
    "Newtonsoft uses an optimistic indexer design:"
   ]
  },
  {
   "cell_type": "code",
   "execution_count": 5,
   "metadata": {
    "polyglot_notebook": {
     "kernelName": "csharp"
    },
    "vscode": {
     "languageId": "polyglot-notebook"
    }
   },
   "outputs": [
    {
     "data": {
      "text/html": [
       "<span>Array</span>"
      ]
     },
     "metadata": {},
     "output_type": "display_data"
    }
   ],
   "source": [
    "JToken jToken = newtonJObject[\"mySet\"];\n",
    "\n",
    "jToken.Type"
   ]
  },
  {
   "cell_type": "markdown",
   "id": "ed8ac4af",
   "metadata": {},
   "source": [
    "Microsoft’s `JsonElement` has an optimistic `GetProperty` method:"
   ]
  },
  {
   "cell_type": "code",
   "execution_count": 6,
   "metadata": {
    "polyglot_notebook": {
     "kernelName": "csharp"
    },
    "vscode": {
     "languageId": "polyglot-notebook"
    }
   },
   "outputs": [
    {
     "data": {
      "text/html": [
       "<span>Array</span>"
      ]
     },
     "metadata": {},
     "output_type": "display_data"
    }
   ],
   "source": [
    "jsonDocument.RootElement.GetProperty(\"mySet\").ValueKind"
   ]
  },
  {
   "cell_type": "markdown",
   "id": "9a27108a",
   "metadata": {},
   "source": [
    "But it also has a pessimistic (cautious/consumer-friendly) `TryGetProperty` method:"
   ]
  },
  {
   "cell_type": "code",
   "execution_count": 7,
   "metadata": {
    "polyglot_notebook": {
     "kernelName": "csharp"
    },
    "vscode": {
     "languageId": "polyglot-notebook"
    }
   },
   "outputs": [
    {
     "data": {
      "text/html": [
       "<div class=\"dni-plaintext\"><pre>True</pre></div><style>\r\n",
       ".dni-code-hint {\r\n",
       "    font-style: italic;\r\n",
       "    overflow: hidden;\r\n",
       "    white-space: nowrap;\r\n",
       "}\r\n",
       ".dni-treeview {\r\n",
       "    white-space: nowrap;\r\n",
       "}\r\n",
       ".dni-treeview td {\r\n",
       "    vertical-align: top;\r\n",
       "    text-align: start;\r\n",
       "}\r\n",
       "details.dni-treeview {\r\n",
       "    padding-left: 1em;\r\n",
       "}\r\n",
       "table td {\r\n",
       "    text-align: start;\r\n",
       "}\r\n",
       "table tr { \r\n",
       "    vertical-align: top; \r\n",
       "    margin: 0em 0px;\r\n",
       "}\r\n",
       "table tr td pre \r\n",
       "{ \r\n",
       "    vertical-align: top !important; \r\n",
       "    margin: 0em 0px !important;\r\n",
       "} \r\n",
       "table th {\r\n",
       "    text-align: start;\r\n",
       "}\r\n",
       "</style>"
      ]
     },
     "metadata": {},
     "output_type": "display_data"
    }
   ],
   "source": [
    "jsonDocument.RootElement.TryGetProperty(\"mySet\", out JsonElement myArrayElement)"
   ]
  },
  {
   "cell_type": "markdown",
   "metadata": {
    "polyglot_notebook": {
     "kernelName": "csharp"
    },
    "vscode": {
     "languageId": "polyglot-notebook"
    }
   },
   "source": [
    "After logic-gating the array access, we can now be responsibly optimistic:"
   ]
  },
  {
   "cell_type": "code",
   "execution_count": 8,
   "metadata": {
    "polyglot_notebook": {
     "kernelName": "csharp"
    },
    "vscode": {
     "languageId": "polyglot-notebook"
    }
   },
   "outputs": [
    {
     "data": {
      "text/html": [
       "<span>Array</span>"
      ]
     },
     "metadata": {},
     "output_type": "display_data"
    }
   ],
   "source": [
    "myArrayElement.ValueKind"
   ]
  },
  {
   "cell_type": "markdown",
   "id": "dda166e6",
   "metadata": {},
   "source": [
    "The `JsonNode` approach also has a cautious method, `GetValueKind()`, that can be used when needed: "
   ]
  },
  {
   "cell_type": "code",
   "execution_count": 9,
   "metadata": {
    "polyglot_notebook": {
     "kernelName": "csharp"
    },
    "vscode": {
     "languageId": "polyglot-notebook"
    }
   },
   "outputs": [
    {
     "data": {
      "text/html": [
       "<span>Array</span>"
      ]
     },
     "metadata": {},
     "output_type": "display_data"
    }
   ],
   "source": [
    "JsonNode myArrayNode = jsonObject.AsObject()[\"mySet\"];\n",
    "\n",
    "myArrayNode.GetValueKind()"
   ]
  },
  {
   "cell_type": "markdown",
   "id": "fb53d991",
   "metadata": {},
   "source": [
    "## modifying an array"
   ]
  },
  {
   "cell_type": "code",
   "execution_count": 10,
   "metadata": {
    "polyglot_notebook": {
     "kernelName": "csharp"
    },
    "vscode": {
     "languageId": "polyglot-notebook"
    }
   },
   "outputs": [],
   "source": [
    "string myJson = \"\"\"\n",
    "{\n",
    "    \"kind\": \"my#things\",\n",
    "    \"items\": [\n",
    "        {\n",
    "            \"kind\": \"my#thing\",\n",
    "            \"id\": \"1\"\n",
    "        },\n",
    "        {\n",
    "            \"kind\": \"my#thing\",\n",
    "            \"id\": \"2\"\n",
    "        },\n",
    "        {\n",
    "            \"kind\": \"my#thing\",\n",
    "            \"id\": \"3\"\n",
    "        }\n",
    "    ]\n",
    "}\n",
    "\"\"\";\n",
    "\n",
    "string myOtherJson = \"\"\"\n",
    "{\n",
    "    \"kind\": \"my#other-things\",\n",
    "    \"items\": [\n",
    "        {\n",
    "            \"kind\": \"my#other-thing\",\n",
    "            \"id\": \"1\",\n",
    "            \"otherProperty\": true\n",
    "        },\n",
    "        {\n",
    "            \"kind\": \"my#other-thing\",\n",
    "            \"id\": \"2\",\n",
    "            \"otherProperty\": false\n",
    "        },\n",
    "        {\n",
    "            \"kind\": \"my#other-thing\",\n",
    "            \"id\": \"3\",\n",
    "            \"otherProperty\": true\n",
    "        }\n",
    "    ]\n",
    "}\n",
    "\"\"\";"
   ]
  },
  {
   "cell_type": "code",
   "execution_count": 15,
   "metadata": {
    "polyglot_notebook": {
     "kernelName": "csharp"
    },
    "vscode": {
     "languageId": "polyglot-notebook"
    }
   },
   "outputs": [
    {
     "data": {
      "text/plain": [
       "{\n",
       "  \"kind\": \"my#things\",\n",
       "  \"items\": [\n",
       "    {\n",
       "      \"kind\": \"my#other-thing\",\n",
       "      \"id\": \"1\",\n",
       "      \"otherProperty\": true\n",
       "    },\n",
       "    {\n",
       "      \"kind\": \"my#other-thing\",\n",
       "      \"id\": \"2\",\n",
       "      \"otherProperty\": false\n",
       "    },\n",
       "    {\n",
       "      \"kind\": \"my#other-thing\",\n",
       "      \"id\": \"3\",\n",
       "      \"otherProperty\": true\n",
       "    }\n",
       "  ]\n",
       "}"
      ]
     },
     "metadata": {},
     "output_type": "display_data"
    }
   ],
   "source": [
    "#!csharp\n",
    "#nullable enable\n",
    "\n",
    "JsonObject myJsonObject = JsonNode.Parse(myJson).AsObject();\n",
    "JsonObject myOtherJsonObject = JsonNode.Parse(myOtherJson).AsObject();\n",
    "\n",
    "JsonArray editingArray = myJsonObject[\"items\"].AsArray();\n",
    "\n",
    "foreach(JsonObject jO in editingArray.OfType<JsonObject>())\n",
    "{\n",
    "    JsonObject jO_other = myOtherJsonObject[\"items\"]\n",
    "        .AsArray()\n",
    "        .First(o => o[\"id\"].GetValue<string>() == jO[\"id\"].GetValue<string>())\n",
    "        .AsObject();\n",
    "\n",
    "     foreach (KeyValuePair<string, JsonNode?> pair in jO_other)\n",
    "     {\n",
    "        jO[pair.Key] = pair.Value.DeepClone();\n",
    "     }\n",
    "}\n",
    "\n",
    "myJsonObject.ToJsonString(new JsonSerializerOptions { WriteIndented = true })"
   ]
  },
  {
   "cell_type": "markdown",
   "id": "1423858f",
   "metadata": {},
   "source": [
    "[Bryan Wilhite is on LinkedIn](https://www.linkedin.com/in/wilhite)🇺🇸💼\n"
   ]
  }
 ],
 "metadata": {
  "kernelspec": {
   "display_name": ".NET (C#)",
   "language": "C#",
   "name": ".net-csharp"
  },
  "language_info": {
   "name": "python"
  },
  "polyglot_notebook": {
   "kernelInfo": {
    "defaultKernelName": "csharp",
    "items": [
     {
      "aliases": [],
      "name": "csharp"
     }
    ]
   }
  }
 },
 "nbformat": 4,
 "nbformat_minor": 5
}
