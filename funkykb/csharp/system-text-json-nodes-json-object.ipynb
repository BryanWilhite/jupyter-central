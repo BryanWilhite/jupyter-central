{
 "cells": [
  {
   "cell_type": "markdown",
   "metadata": {},
   "source": [
    "# `System.Text.Json.Nodes.JsonObject`\n",
    "\n",
    "`JsonObject` [📖 [docs](https://learn.microsoft.com/en-us/dotnet/api/system.text.json.nodes.jsonobject?view=net-7.0)] looks like the Microsoft-equivalent of the Newtonsoft `JObject` [📖 [docs](https://www.newtonsoft.com/json/help/html/T_Newtonsoft_Json_Linq_JObject.htm)]. One major difference between `JsonObject` and `JObject` is the lack of string parsing: `JsonObject` prefers to construct from `KeyValuePair<String,JsonNode>` instead of parsing a JSON `string`:"
   ]
  },
  {
   "cell_type": "code",
   "execution_count": 9,
   "metadata": {
    "dotnet_interactive": {
     "language": "csharp"
    },
    "vscode": {
     "languageId": "dotnet-interactive.csharp"
    }
   },
   "outputs": [
    {
     "data": {
      "text/plain": [
       "{\n",
       "  \"one\": \"uno\",\n",
       "  \"two\": 2,\n",
       "  \"isThree\": false,\n",
       "  \"four\": \"quarto\"\n",
       "}"
      ]
     },
     "metadata": {},
     "output_type": "display_data"
    }
   ],
   "source": [
    "using System.Text.Json;\n",
    "using System.Text.Json.Nodes;\n",
    "\n",
    "var dictionary = new Dictionary<string, JsonNode>\n",
    "{\n",
    "    { \"one\", \"uno\" },\n",
    "    { \"two\", 2 },\n",
    "    { \"isThree\", false },\n",
    "};\n",
    "\n",
    "var jO = new JsonObject(dictionary);\n",
    "\n",
    "var propertyName = \"four\";\n",
    "\n",
    "jO.Add(propertyName, \"quarto\");\n",
    "\n",
    "jO.ToJsonString(new JsonSerializerOptions { WriteIndented = true })"
   ]
  },
  {
   "cell_type": "markdown",
   "metadata": {},
   "source": [
    "@[BryanWilhite](https://twitter.com/BryanWilhite)\n"
   ]
  }
 ],
 "metadata": {
  "kernelspec": {
   "display_name": ".NET (C#)",
   "language": "C#",
   "name": ".net-csharp"
  },
  "language_info": {
   "file_extension": ".cs",
   "mimetype": "text/x-csharp",
   "name": "C#",
   "pygments_lexer": "csharp",
   "version": "9.0"
  },
  "orig_nbformat": 4,
  "vscode": {
   "interpreter": {
    "hash": "2248ed64bdf5fe1d2cc35d4639eff9d9517212412e82087913ac56aa4ab59c78"
   }
  }
 },
 "nbformat": 4,
 "nbformat_minor": 2
}
