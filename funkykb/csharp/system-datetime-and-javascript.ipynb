{
 "cells": [
  {
   "cell_type": "markdown",
   "metadata": {},
   "source": [
    "# `System.DateTime` and JavaScript dates\n",
    "\n",
    "Here I will write down some basic observations about the `DateTime` `struct` in .NET [📖 [docs](https://learn.microsoft.com/en-us/dotnet/api/system.datetime?view=net-7.0)] and the `Date` object in JavaScript [📖 [docs](https://developer.mozilla.org/en-US/docs/Web/JavaScript/Reference/Global_Objects/Date)]. These remarks appear here after programming for 30 years so I apologize in advance for not having any depth in this area as much as, say, Jon Skeet."
   ]
  },
  {
   "cell_type": "markdown",
   "metadata": {},
   "source": [
    "## .NET: there is no need to call `DateTime.Now.ToUniversalTime()`\n"
   ]
  },
  {
   "cell_type": "markdown",
   "metadata": {},
   "source": [
    "\n",
    "There is no need to call `DateTime.Now.ToUniversalTime()` because we have `DateTime.UtcNow`:"
   ]
  },
  {
   "cell_type": "code",
   "execution_count": 1,
   "metadata": {
    "dotnet_interactive": {
     "language": "csharp"
    },
    "polyglot_notebook": {
     "kernelName": "csharp"
    },
    "vscode": {
     "languageId": "polyglot-notebook"
    }
   },
   "outputs": [
    {
     "data": {
      "text/plain": [
       "10/23/2023 7:26:00 PM"
      ]
     },
     "metadata": {},
     "output_type": "display_data"
    }
   ],
   "source": [
    "DateTime.Now.ToUniversalTime().ToString()"
   ]
  },
  {
   "cell_type": "code",
   "execution_count": 2,
   "metadata": {
    "dotnet_interactive": {
     "language": "csharp"
    },
    "polyglot_notebook": {
     "kernelName": "csharp"
    },
    "vscode": {
     "languageId": "polyglot-notebook"
    }
   },
   "outputs": [
    {
     "data": {
      "text/plain": [
       "10/23/2023 7:26:00 PM"
      ]
     },
     "metadata": {},
     "output_type": "display_data"
    }
   ],
   "source": [
    "DateTime.UtcNow.ToString()"
   ]
  },
  {
   "cell_type": "markdown",
   "metadata": {},
   "source": [
    "According to the “[Standard date and time format strings](https://learn.microsoft.com/en-us/dotnet/standard/base-types/standard-date-and-time-format-strings)” of .NET the string format of the dates shown above are of a locale-specific [date and time format](https://learn.microsoft.com/en-us/dotnet/standard/base-types/standard-date-and-time-format-strings#date-and-time-formats). Specifically, “[the general date long time (\"G\") format specifier](https://learn.microsoft.com/en-us/dotnet/standard/base-types/standard-date-and-time-format-strings#the-general-date-long-time-g-format-specifier)” which we can state explicitly:"
   ]
  },
  {
   "cell_type": "code",
   "execution_count": 3,
   "metadata": {
    "dotnet_interactive": {
     "language": "csharp"
    },
    "polyglot_notebook": {
     "kernelName": "csharp"
    },
    "vscode": {
     "languageId": "polyglot-notebook"
    }
   },
   "outputs": [
    {
     "data": {
      "text/plain": [
       "10/23/2023 7:26:00 PM"
      ]
     },
     "metadata": {},
     "output_type": "display_data"
    }
   ],
   "source": [
    "using System.Globalization;\n",
    "\n",
    "DateTime.UtcNow.ToString(\"G\", CultureInfo.CreateSpecificCulture(\"en-us\"))"
   ]
  },
  {
   "cell_type": "markdown",
   "metadata": {},
   "source": [
    "## JavaScript: the `Date` constructor takes “a simplification of the ISO 8601 calendar date extended format”\n"
   ]
  },
  {
   "cell_type": "markdown",
   "metadata": {},
   "source": [
    "\n",
    "We cannot pass the locale-specific date-time string from .NET above into the `Date` constructor and expect that date (and time) to be _transliterated_ into a JavaScript `Date`. Let us try `3/7/2004 6:09:03 PM`:"
   ]
  },
  {
   "cell_type": "code",
   "execution_count": 4,
   "metadata": {
    "dotnet_interactive": {
     "language": "javascript"
    },
    "polyglot_notebook": {
     "kernelName": "javascript"
    },
    "vscode": {
     "languageId": "polyglot-notebook"
    }
   },
   "outputs": [
    {
     "data": {
      "text/plain": [
       "Is the year 2004? [true]"
      ]
     },
     "metadata": {},
     "output_type": "display_data"
    },
    {
     "data": {
      "text/plain": [
       "Is the month 3? [false, because `.getMonth()` is zero-based 😐]"
      ]
     },
     "metadata": {},
     "output_type": "display_data"
    },
    {
     "data": {
      "text/plain": [
       "Is the month-day 7? [true]"
      ]
     },
     "metadata": {},
     "output_type": "display_data"
    },
    {
     "data": {
      "text/plain": [
       "Is the hour 6? [false: changed to 24hr format 🔥]"
      ]
     },
     "metadata": {},
     "output_type": "display_data"
    },
    {
     "data": {
      "text/plain": [
       "Are the minutes 9? [true]"
      ]
     },
     "metadata": {},
     "output_type": "display_data"
    },
    {
     "data": {
      "text/plain": [
       "`.toString()`: Sun Mar 07 2004 18:09:03 GMT-0800 (Pacific Standard Time)"
      ]
     },
     "metadata": {},
     "output_type": "display_data"
    },
    {
     "data": {
      "text/plain": [
       "`.toLocaleString('en-US')`: 3/7/2004, 6:09:03 PM"
      ]
     },
     "metadata": {},
     "output_type": "display_data"
    },
    {
     "data": {
      "text/plain": [
       "`.toUTCString()`: Mon, 08 Mar 2004 02:09:03 GMT"
      ]
     },
     "metadata": {},
     "output_type": "display_data"
    },
    {
     "data": {
      "text/plain": [
       "`.toISOString()`: 2004-03-08T02:09:03.000Z"
      ]
     },
     "metadata": {},
     "output_type": "display_data"
    }
   ],
   "source": [
    "#!javascript\n",
    "\n",
    "const dateFrom2004 = new Date('3/7/2004 6:09:03 PM');\n",
    "\n",
    "console.log(`Is the year 2004? [${dateFrom2004.getFullYear() === 2004}]`); // `.getYear()` is deprecated!\n",
    "console.log(`Is the month 3? [${dateFrom2004.getMonth() === 3}, because \\`.getMonth()\\` is zero-based 😐]`);\n",
    "console.log(`Is the month-day 7? [${dateFrom2004.getDate() === 7}]`); // `.getDay()` returns the week-day\n",
    "console.log(`Is the hour 6? [${dateFrom2004.getHours() === 6}: changed to 24hr format 🔥]`);\n",
    "console.log(`Are the minutes 9? [${dateFrom2004.getMinutes() === 9}]`);\n",
    "console.log(`\\`.toString()\\`: ${dateFrom2004.toString()}`);\n",
    "console.log(`\\`.toLocaleString('en-US')\\`: ${dateFrom2004.toLocaleString('en-US')}`);\n",
    "console.log(`\\`.toUTCString()\\`: ${dateFrom2004.toUTCString()}`);\n",
    "console.log(`\\`.toISOString()\\`: ${dateFrom2004.toISOString()}`);"
   ]
  },
  {
   "cell_type": "markdown",
   "metadata": {},
   "source": [
    "Apart from the weirdness of `.getMonth()` [📖 [docs](https://developer.mozilla.org/en-US/docs/Web/JavaScript/Reference/Global_Objects/Date/getMonth)] being zero-based, the hour of the original date was changed to the 24-hour format. Such a small change could cause a big bug when these nuances are not expected and/or forgotten about…\n",
    "\n",
    "According to [the MDN docs](https://developer.mozilla.org/en-US/docs/Web/JavaScript/Reference/Global_Objects/Date#date_time_string_format), this is the format template that is the “one format to be universally supported”:\n",
    "\n",
    "```plaintext\n",
    "YYYY-MM-DDTHH:mm:ss.sssZ\n",
    "```\n",
    "\n",
    "We have seen this format in the JavaScript output above in the rendering of `.toISOString()` [📖 [docs](https://developer.mozilla.org/en-US/docs/Web/JavaScript/Reference/Global_Objects/Date/toISOString)]. And it is important to remember that the punctuating Z is “[the zone designator for the zero UTC offset](https://en.wikipedia.org/wiki/ISO_8601).”\n",
    "\n",
    "\n",
    "By the way, a StackOverflow question from over 13 years ago, “[Why does Date.parse give incorrect results?](https://stackoverflow.com/questions/2587345/why-does-date-parse-give-incorrect-results),” has more dramatic example:"
   ]
  },
  {
   "cell_type": "code",
   "execution_count": 5,
   "metadata": {
    "dotnet_interactive": {
     "language": "javascript"
    },
    "polyglot_notebook": {
     "kernelName": "javascript"
    },
    "vscode": {
     "languageId": "polyglot-notebook"
    }
   },
   "outputs": [
    {
     "data": {
      "text/plain": [
       "\n",
       "    Fri Jul 08 2005 00:00:00 GMT-0700 (Pacific Daylight Time)\n",
       "    Thu Jul 07 2005 17:00:00 GMT-0700 (Pacific Daylight Time)\n"
      ]
     },
     "metadata": {},
     "output_type": "display_data"
    }
   ],
   "source": [
    "#!javascript\n",
    "\n",
    "const caseOne = new Date(Date.parse(\"Jul 8, 2005\"));\n",
    "\n",
    "const caseTwo = new Date(Date.parse(\"2005-07-08\"));\n",
    "\n",
    "console.log(`\n",
    "    ${caseOne.toString()}\n",
    "    ${caseTwo.toString()}\n",
    "`);"
   ]
  },
  {
   "cell_type": "markdown",
   "metadata": {},
   "source": [
    "The theories and assertions swirling around the answers to this StackOverflow question suggest to me that there are different date-time-generating algorithms for different string formats which further reinforces standardizing around _one_ string format.\n",
    "\n",
    "By the way, what happens in .NET?"
   ]
  },
  {
   "cell_type": "code",
   "execution_count": 6,
   "metadata": {
    "dotnet_interactive": {
     "language": "csharp"
    },
    "polyglot_notebook": {
     "kernelName": "csharp"
    },
    "vscode": {
     "languageId": "polyglot-notebook"
    }
   },
   "outputs": [
    {
     "data": {
      "text/plain": [
       "\n",
       "    7/8/2005 12:00:00 AM\n",
       "    7/8/2005 12:00:00 AM\n"
      ]
     },
     "metadata": {},
     "output_type": "display_data"
    }
   ],
   "source": [
    "var caseOne = DateTime.Parse(\"Jul 8, 2005\");\n",
    "var caseTwo = DateTime.Parse(\"2005-07-08\");\n",
    "\n",
    "@$\"\n",
    "    {caseOne}\n",
    "    {caseTwo}\n",
    "\""
   ]
  },
  {
   "cell_type": "markdown",
   "metadata": {},
   "source": [
    "## .NET: using the “universally supported” JavaScript format\n"
   ]
  },
  {
   "cell_type": "markdown",
   "metadata": {},
   "source": [
    "\n",
    "Does the “universally supported” template, `YYYY-MM-DDTHH:mm:ss.sssZ`, work in .NET verbatim?"
   ]
  },
  {
   "cell_type": "code",
   "execution_count": 7,
   "metadata": {
    "dotnet_interactive": {
     "language": "csharp"
    },
    "polyglot_notebook": {
     "kernelName": "csharp"
    },
    "vscode": {
     "languageId": "polyglot-notebook"
    }
   },
   "outputs": [
    {
     "data": {
      "text/plain": [
       "YYYY-03-DDT18:09:03.03Z"
      ]
     },
     "metadata": {},
     "output_type": "display_data"
    }
   ],
   "source": [
    "var dateStringFrom2004 = \"3/7/2004 6:09:03 PM\";\n",
    "\n",
    "DateTime.Parse(dateStringFrom2004).ToString(\"YYYY-MM-DDTHH:mm:ss.sssZ\")"
   ]
  },
  {
   "cell_type": "markdown",
   "metadata": {},
   "source": [
    "The short answer is _no_. After a review of “[Custom date and time format strings](https://learn.microsoft.com/en-us/dotnet/standard/base-types/custom-date-and-time-format-strings),” we may see this:\n",
    "\n",
    "```plaintext\n",
    "yyyy'-'MM'-'dd'T'HH':'mm':'ss'.'fff'Z'\n",
    "```"
   ]
  },
  {
   "cell_type": "code",
   "execution_count": 8,
   "metadata": {
    "dotnet_interactive": {
     "language": "csharp"
    },
    "polyglot_notebook": {
     "kernelName": "csharp"
    },
    "vscode": {
     "languageId": "polyglot-notebook"
    }
   },
   "outputs": [
    {
     "data": {
      "text/plain": [
       "2004-03-07T18:09:03.000Z"
      ]
     },
     "metadata": {},
     "output_type": "display_data"
    }
   ],
   "source": [
    "const string iso8601Template = \"yyyy'-'MM'-'dd'T'HH':'mm':'ss'.'fff'Z'\";\n",
    "\n",
    "var isoDateStringFrom2004 = DateTime.Parse(dateStringFrom2004).ToString(iso8601Template);\n",
    "\n",
    "isoDateStringFrom2004"
   ]
  },
  {
   "cell_type": "markdown",
   "metadata": {},
   "source": [
    "It is important to mention that this .NET template for the [ISO 8601](https://en.wikipedia.org/wiki/ISO_8601) format is _not_ among the “[Standard date and time format strings](https://learn.microsoft.com/en-us/dotnet/standard/base-types/standard-date-and-time-format-strings)” of .NET. And this template can easily be confused with `UniversalSortableDateTimePattern` [📖 [docs](https://learn.microsoft.com/en-us/dotnet/api/system.globalization.datetimeformatinfo.universalsortabledatetimepattern?view=net-7.0)], `yyyy'-'MM'-'dd HH':'mm':'ss'Z'`.\n",
    "\n",
    "We can now use our ‘ISO date’, `2004-03-07T18:09:03.000Z`, in the JavaScript we had earlier:"
   ]
  },
  {
   "cell_type": "code",
   "execution_count": 9,
   "metadata": {
    "dotnet_interactive": {
     "language": "csharp"
    },
    "polyglot_notebook": {
     "kernelName": "csharp"
    },
    "vscode": {
     "languageId": "polyglot-notebook"
    }
   },
   "outputs": [
    {
     "data": {
      "text/plain": [
       "Is the year 2004? [true]"
      ]
     },
     "metadata": {},
     "output_type": "display_data"
    },
    {
     "data": {
      "text/plain": [
       "Is the month 3? [false, because `.getMonth()` is zero-based 😐]"
      ]
     },
     "metadata": {},
     "output_type": "display_data"
    },
    {
     "data": {
      "text/plain": [
       "Is the month-day 7? [true]"
      ]
     },
     "metadata": {},
     "output_type": "display_data"
    },
    {
     "data": {
      "text/plain": [
       "Is the hour 18? [false], because the locale hour is 10"
      ]
     },
     "metadata": {},
     "output_type": "display_data"
    },
    {
     "data": {
      "text/plain": [
       "Is the UTC hour 18? [true]"
      ]
     },
     "metadata": {},
     "output_type": "display_data"
    },
    {
     "data": {
      "text/plain": [
       "Are the minutes 9? [true]"
      ]
     },
     "metadata": {},
     "output_type": "display_data"
    },
    {
     "data": {
      "text/plain": [
       "`.toString()`: Sun Mar 07 2004 10:09:03 GMT-0800 (Pacific Standard Time)"
      ]
     },
     "metadata": {},
     "output_type": "display_data"
    },
    {
     "data": {
      "text/plain": [
       "`.toLocaleString('en-US')`: 3/7/2004, 10:09:03 AM"
      ]
     },
     "metadata": {},
     "output_type": "display_data"
    },
    {
     "data": {
      "text/plain": [
       "`.toUTCString()`: Sun, 07 Mar 2004 18:09:03 GMT"
      ]
     },
     "metadata": {},
     "output_type": "display_data"
    },
    {
     "data": {
      "text/plain": [
       "`.toISOString()`: 2004-03-07T18:09:03.000Z"
      ]
     },
     "metadata": {},
     "output_type": "display_data"
    }
   ],
   "source": [
    "#!javascript\n",
    "\n",
    "#!share --from csharp isoDateStringFrom2004\n",
    "\n",
    "const dateFrom2004 = new Date(isoDateStringFrom2004);\n",
    "\n",
    "console.log(`Is the year 2004? [${dateFrom2004.getFullYear() === 2004}]`);\n",
    "console.log(`Is the month 3? [${dateFrom2004.getMonth() === 3}, because \\`.getMonth()\\` is zero-based 😐]`);\n",
    "console.log(`Is the month-day 7? [${dateFrom2004.getDate() === 7}]`);\n",
    "console.log(`Is the hour 18? [${dateFrom2004.getHours() === 18}], because the locale hour is ${dateFrom2004.getHours()}`);\n",
    "console.log(`Is the UTC hour 18? [${dateFrom2004.getUTCHours() === 18}]`);\n",
    "console.log(`Are the minutes 9? [${dateFrom2004.getMinutes() === 9}]`);\n",
    "console.log(`\\`.toString()\\`: ${dateFrom2004.toString()}`);\n",
    "console.log(`\\`.toLocaleString('en-US')\\`: ${dateFrom2004.toLocaleString('en-US')}`);\n",
    "console.log(`\\`.toUTCString()\\`: ${dateFrom2004.toUTCString()}`);\n",
    "console.log(`\\`.toISOString()\\`: ${dateFrom2004.toISOString()}`);"
   ]
  },
  {
   "cell_type": "markdown",
   "metadata": {},
   "source": [
    "Note how we _still_ failed to transliterate the hour, according to `.getHours()`. We had to resort to `.getUTCHours()` [📖 [docs](https://developer.mozilla.org/en-US/docs/Web/JavaScript/Reference/Global_Objects/Date/getUTCHours)] to find the expected UTC hour. What JavaScript is telling us is:\n",
    "\n",
    "- When a UTC ISO string is constructed by `Date`, the UTC information will be translated into the locale.\n",
    "- The original UTC information is available via several `.getUTC*` getters.\n",
    "\n",
    "The StackOverflow question, “[How to convert a Date to UTC?](https://stackoverflow.com/questions/948532/how-to-convert-a-date-to-utc),” asked over 14 years ago, looks like a misleading question!\n",
    "\n",
    "Is this locale-biased design also in .NET?"
   ]
  },
  {
   "cell_type": "code",
   "execution_count": 10,
   "metadata": {
    "dotnet_interactive": {
     "language": "csharp"
    },
    "polyglot_notebook": {
     "kernelName": "csharp"
    },
    "vscode": {
     "languageId": "polyglot-notebook"
    }
   },
   "outputs": [
    {
     "data": {
      "text/plain": [
       "\n",
       "Input: 2004-03-07T18:09:03.000Z\n",
       "\n",
       "Is the year 2004? [True]\n",
       "Is the month 3? [True]\n",
       "Is the month-day 7? [True]\n",
       "Is the hour 18? [False, because the locale hour is 10]\n",
       "Is the UTC hour 18? [True]\n",
       "Are the minutes 9? [True]\n",
       "JavaScript locale: 3/7/2004, 10:09:03 AM\n",
       "ISO: 2004-03-07T10:09:03.000Z\n"
      ]
     },
     "metadata": {},
     "output_type": "display_data"
    }
   ],
   "source": [
    "var dateFrom2004 = DateTime.Parse(isoDateStringFrom2004);\n",
    "\n",
    "@$\"\n",
    "Input: {isoDateStringFrom2004}\n",
    "\n",
    "Is the year 2004? [{dateFrom2004.Year == 2004}]\n",
    "Is the month 3? [{dateFrom2004.Month == 3}]\n",
    "Is the month-day 7? [{dateFrom2004.Day == 7}]\n",
    "Is the hour 18? [{dateFrom2004.Hour == 18}, because the locale hour is {dateFrom2004.Hour}]\n",
    "Is the UTC hour 18? [{dateFrom2004.ToUniversalTime().Hour == 18}]\n",
    "Are the minutes 9? [{dateFrom2004.Minute == 9}]\n",
    "JavaScript locale: {dateFrom2004:M/d/yyyy, HH':'mm':'ss tt}\n",
    "ISO: {dateFrom2004:yyyy'-'MM'-'dd'T'HH':'mm':'ss'.'fff'Z'}\n",
    "\""
   ]
  },
  {
   "cell_type": "markdown",
   "metadata": {},
   "source": [
    "The short answer is _yes_. It takes a call to `.ToUniversalTime()` [📖 [docs](https://learn.microsoft.com/en-us/dotnet/api/system.datetime.touniversaltime?view=net-7.0)] to obtain the UTC information.\n",
    "\n",
    "By default, I am not seeing how we can obtain JavaScript phrases like `(Pacific Standard Time)` or `GMT` so I have avoided replicating `.toString()`, `.toUTCString()` and `.toISOString()` output in .NET."
   ]
  },
  {
   "cell_type": "markdown",
   "metadata": {},
   "source": [
    "## JavaScript: `Date.parse()` does _not_ return a `Date` object\n"
   ]
  },
  {
   "cell_type": "markdown",
   "metadata": {},
   "source": [
    "\n",
    "The [MDN docs](https://developer.mozilla.org/en-US/docs/Web/JavaScript/Reference/Global_Objects/Date/parse) for `Date.parse()` open with this:\n",
    "\n",
    ">The `Date.parse()` static method parses a string representation of a date, and returns the date’s timestamp.\n",
    "\n",
    "We can take our ‘ISO string,’ `isoDateStringFrom2004`, from above to verify this:"
   ]
  },
  {
   "cell_type": "code",
   "execution_count": 11,
   "metadata": {
    "dotnet_interactive": {
     "language": "javascript"
    },
    "polyglot_notebook": {
     "kernelName": "javascript"
    },
    "vscode": {
     "languageId": "polyglot-notebook"
    }
   },
   "outputs": [
    {
     "data": {
      "text/plain": [
       "Does `Date.parse` return a date? [false]"
      ]
     },
     "metadata": {},
     "output_type": "display_data"
    },
    {
     "data": {
      "text/plain": [
       "Does `Date.parse` return a number? [true]"
      ]
     },
     "metadata": {},
     "output_type": "display_data"
    },
    {
     "data": {
      "text/plain": [
       "`Date.parse` returns 1078682943000."
      ]
     },
     "metadata": {},
     "output_type": "display_data"
    }
   ],
   "source": [
    "#!javascript\n",
    "\n",
    "#!share --from csharp isoDateStringFrom2004\n",
    "const timestamp = Date.parse(isoDateStringFrom2004);\n",
    "\n",
    "console.log(`Does \\`Date.parse\\` return a date? [${timestamp instanceof Date}]`);\n",
    "console.log(`Does \\`Date.parse\\` return a number? [${typeof timestamp === 'number'}]`);\n",
    "console.log(`\\`Date.parse\\` returns ${timestamp}.`);"
   ]
  },
  {
   "cell_type": "markdown",
   "metadata": {},
   "source": [
    "## JavaScript: the `Date.UTC()` static method does not take timestamp numbers\n"
   ]
  },
  {
   "cell_type": "markdown",
   "metadata": {},
   "source": [
    "\n",
    "The [MDN docs](https://developer.mozilla.org/en-US/docs/Web/JavaScript/Reference/Global_Objects/Date/UTC#behavior_of_date.utc_with_one_argument) get to the point:\n",
    "\n",
    ">`Date.UTC()` when passed one argument used to have inconsistent behavior, because implementations only kept the behavior consistent with the `Date()` constructor, which does not interpret a single argument as the year number.\n",
    "\n",
    "Being “consistent with the `Date()` constructor” means changing the meaning of the first argument from `year` to `timestamp`. This anomalous detail is now gone from JavaScript."
   ]
  },
  {
   "cell_type": "code",
   "execution_count": 12,
   "metadata": {
    "dotnet_interactive": {
     "language": "csharp"
    },
    "polyglot_notebook": {
     "kernelName": "csharp"
    },
    "vscode": {
     "languageId": "polyglot-notebook"
    }
   },
   "outputs": [
    {
     "data": {
      "text/plain": [
       "`Date.parse` returns 1078682943000."
      ]
     },
     "metadata": {},
     "output_type": "display_data"
    },
    {
     "data": {
      "text/plain": [
       "timestampDate: NaN"
      ]
     },
     "metadata": {},
     "output_type": "display_data"
    }
   ],
   "source": [
    "#!javascript\n",
    "\n",
    "#!share --from csharp isoDateStringFrom2004\n",
    "const timestamp = Date.parse(isoDateStringFrom2004);\n",
    "\n",
    "console.log(`\\`Date.parse\\` returns ${timestamp}.`);\n",
    "\n",
    "const timestampDate = Date.UTC(timestamp);\n",
    "console.log(`timestampDate: ${timestampDate}`);"
   ]
  },
  {
   "cell_type": "markdown",
   "metadata": {},
   "source": [
    "## JavaScript: the ISO 8601 string format is designed to be sortable"
   ]
  },
  {
   "cell_type": "markdown",
   "metadata": {},
   "source": [
    "Let us use the power of .NET to generate some ‘ISO strings’ from `isoDateStringFrom2004`:"
   ]
  },
  {
   "cell_type": "code",
   "execution_count": 13,
   "metadata": {
    "dotnet_interactive": {
     "language": "csharp"
    },
    "polyglot_notebook": {
     "kernelName": "csharp"
    },
    "vscode": {
     "languageId": "polyglot-notebook"
    }
   },
   "outputs": [
    {
     "data": {
      "text/plain": [
       "\n",
       "2004-03-07T18:09:03.000Z,\n",
       "2004-03-05T18:14:03.000Z,\n",
       "2004-03-07T17:48:50.000Z,\n",
       "2004-03-06T12:08:30.000Z,\n"
      ]
     },
     "metadata": {},
     "output_type": "display_data"
    }
   ],
   "source": [
    "var dateFrom2004 = DateTime.Parse(isoDateStringFrom2004);\n",
    "\n",
    "@$\"\n",
    "{isoDateStringFrom2004},\n",
    "{dateFrom2004.AddDays(-2).AddMinutes(5).ToUniversalTime().ToString(iso8601Template)},\n",
    "{dateFrom2004.AddMinutes(-20).AddSeconds(-13).ToUniversalTime().ToString(iso8601Template)},\n",
    "{dateFrom2004.AddDays(-1).AddHours(-6).AddSeconds(-33).ToUniversalTime().ToString(iso8601Template)},\n",
    "\""
   ]
  },
  {
   "cell_type": "markdown",
   "metadata": {},
   "source": [
    "We can pass these strings to JavaScript and sort:"
   ]
  },
  {
   "cell_type": "code",
   "execution_count": 14,
   "metadata": {
    "dotnet_interactive": {
     "language": "javascript"
    },
    "polyglot_notebook": {
     "kernelName": "javascript"
    },
    "vscode": {
     "languageId": "polyglot-notebook"
    }
   },
   "outputs": [
    {
     "data": {
      "text/plain": [
       "2004-03-05T18:14:03.000Z"
      ]
     },
     "metadata": {},
     "output_type": "display_data"
    },
    {
     "data": {
      "text/plain": [
       "2004-03-06T12:08:30.000Z"
      ]
     },
     "metadata": {},
     "output_type": "display_data"
    },
    {
     "data": {
      "text/plain": [
       "2004-03-07T17:48:50.000Z"
      ]
     },
     "metadata": {},
     "output_type": "display_data"
    },
    {
     "data": {
      "text/plain": [
       "max: 2004-03-07T18:09:03.000Z"
      ]
     },
     "metadata": {},
     "output_type": "display_data"
    }
   ],
   "source": [
    "#!javascript\n",
    "\n",
    "const strings = `\n",
    "    2004-03-07T18:09:03.000Z,\n",
    "    2004-03-05T18:14:03.000Z,\n",
    "    2004-03-07T17:48:50.000Z,\n",
    "    2004-03-06T12:08:30.000Z\n",
    "`;\n",
    "\n",
    "const data = strings.split(',').map(s => s.trim()).sort();\n",
    "\n",
    "data.forEach((s, i) => {\n",
    "    console.log((i === data.length - 1) ? `max: ${s}` : s);\n",
    "});\n"
   ]
  },
  {
   "cell_type": "markdown",
   "metadata": {},
   "source": [
    "The StackOverflow question, “[Min/Max of dates in an array?](https://stackoverflow.com/questions/7143399/min-max-of-dates-in-an-array?rq=3),” asked over 12 years ago, does not offer the sortability of date strings as a solution.\n",
    "\n",
    "By the way, instead of using `.forEach()` [📖 [docs](https://developer.mozilla.org/en-US/docs/Web/JavaScript/Reference/Global_Objects/Array/forEach)] above, we could use `.reduce()` [📖 [docs](https://developer.mozilla.org/en-US/docs/Web/JavaScript/Reference/Global_Objects/Array/reduce)] with a naïve sorting/aggregation algorithm:"
   ]
  },
  {
   "cell_type": "code",
   "execution_count": 15,
   "metadata": {
    "dotnet_interactive": {
     "language": "javascript"
    },
    "polyglot_notebook": {
     "kernelName": "javascript"
    },
    "vscode": {
     "languageId": "polyglot-notebook"
    }
   },
   "outputs": [
    {
     "data": {
      "text/plain": [
       "max: 2004-03-07T18:09:03.000Z"
      ]
     },
     "metadata": {},
     "output_type": "display_data"
    }
   ],
   "source": [
    "#!javascript\n",
    "\n",
    "const strings = `\n",
    "    2004-03-07T18:09:03.000Z,\n",
    "    2004-03-05T18:14:03.000Z,\n",
    "    2004-03-07T17:48:50.000Z,\n",
    "    2004-03-06T12:08:30.000Z\n",
    "`;\n",
    "\n",
    "const max = strings.split(',').map(s => s.trim()).reduce((a, b) => a > b ? a : b);\n",
    "\n",
    "console.log(`max: ${max}`);"
   ]
  },
  {
   "cell_type": "markdown",
   "metadata": {},
   "source": [
    "## JavaScript: the time span between `Date` instances"
   ]
  },
  {
   "cell_type": "markdown",
   "metadata": {},
   "source": [
    "By now, we should know that JavaScript date-time values are stored as timestamp numbers. These timestamp numbers are in units of milliseconds:\n",
    "\n",
    ">A `Date` object can represent a maximum of ±8,640,000,000,000,000 milliseconds, or ±100,000,000 (one hundred million) days, relative to the epoch.\n",
    "\n",
    "It follows that the default time span between two JavaScript date-times is in milliseconds. It should then be a matter of conversion factors to derive differences in seconds, minutes hours, etc.\n",
    "\n",
    "Let us generate two .NET dates and send them over to JavaScript:"
   ]
  },
  {
   "cell_type": "code",
   "execution_count": 16,
   "metadata": {
    "dotnet_interactive": {
     "language": "csharp"
    },
    "polyglot_notebook": {
     "kernelName": "csharp"
    },
    "vscode": {
     "languageId": "polyglot-notebook"
    }
   },
   "outputs": [
    {
     "data": {
      "text/plain": [
       "\n",
       "    dateOne: 2023-10-23T19:26:03.086Z\n",
       "    dateTwo: 2023-10-23T19:32:03.086Z\n"
      ]
     },
     "metadata": {},
     "output_type": "display_data"
    }
   ],
   "source": [
    "var dateOne = DateTime.UtcNow;\n",
    "var dateTwo = DateTime.UtcNow.AddMinutes(6);\n",
    "\n",
    "@$\"\n",
    "    {nameof(dateOne)}: {dateOne.ToString(iso8601Template)}\n",
    "    {nameof(dateTwo)}: {dateTwo.ToString(iso8601Template)}\n",
    "\""
   ]
  },
  {
   "cell_type": "code",
   "execution_count": 17,
   "metadata": {
    "dotnet_interactive": {
     "language": "javascript"
    },
    "polyglot_notebook": {
     "kernelName": "javascript"
    },
    "vscode": {
     "languageId": "polyglot-notebook"
    }
   },
   "outputs": [
    {
     "data": {
      "text/plain": [
       "timestampTwo - timestampOne = 360000"
      ]
     },
     "metadata": {},
     "output_type": "display_data"
    }
   ],
   "source": [
    "#!javascript\n",
    "\n",
    "const timestampOne = Date.parse('2023-10-23T01:11:17.563Z');\n",
    "const timestampTwo = Date.parse('2023-10-23T01:17:17.563Z');\n",
    "\n",
    "const diff = timestampTwo - timestampOne;\n",
    "console.log(`timestampTwo - timestampOne = ${diff}`);"
   ]
  },
  {
   "cell_type": "code",
   "execution_count": 18,
   "metadata": {
    "dotnet_interactive": {
     "language": "javascript"
    },
    "polyglot_notebook": {
     "kernelName": "javascript"
    },
    "vscode": {
     "languageId": "polyglot-notebook"
    }
   },
   "outputs": [
    {
     "data": {
      "text/plain": [
       "6"
      ]
     },
     "metadata": {},
     "output_type": "display_data"
    }
   ],
   "source": [
    "#!javascript\n",
    "\n",
    "const milliseconds = 360000;\n",
    "\n",
    "const convertMsToSeconds = ms => ms / 1000;\n",
    "const convertSecsToMinutes = secs => secs /60;\n",
    "\n",
    "console.log(convertSecsToMinutes(convertMsToSeconds(milliseconds)));"
   ]
  },
  {
   "cell_type": "markdown",
   "metadata": {},
   "source": [
    "There is a duplicate StackOverflow question from over 13 years ago, “[Get difference between 2 dates in JavaScript?](https://stackoverflow.com/questions/3224834/get-difference-between-2-dates-in-javascript),” with an [answer](https://stackoverflow.com/a/3224854/22944) of interest.\n",
    "\n",
    "By the way, here is how it is done in .NET:"
   ]
  },
  {
   "cell_type": "code",
   "execution_count": 19,
   "metadata": {
    "dotnet_interactive": {
     "language": "csharp"
    },
    "polyglot_notebook": {
     "kernelName": "csharp"
    },
    "vscode": {
     "languageId": "polyglot-notebook"
    }
   },
   "outputs": [
    {
     "data": {
      "text/html": [
       "<div class=\"dni-plaintext\"><pre>6</pre></div><style>\r\n",
       ".dni-code-hint {\r\n",
       "    font-style: italic;\r\n",
       "    overflow: hidden;\r\n",
       "    white-space: nowrap;\r\n",
       "}\r\n",
       ".dni-treeview {\r\n",
       "    white-space: nowrap;\r\n",
       "}\r\n",
       ".dni-treeview td {\r\n",
       "    vertical-align: top;\r\n",
       "    text-align: start;\r\n",
       "}\r\n",
       "details.dni-treeview {\r\n",
       "    padding-left: 1em;\r\n",
       "}\r\n",
       "table td {\r\n",
       "    text-align: start;\r\n",
       "}\r\n",
       "table tr { \r\n",
       "    vertical-align: top; \r\n",
       "    margin: 0em 0px;\r\n",
       "}\r\n",
       "table tr td pre \r\n",
       "{ \r\n",
       "    vertical-align: top !important; \r\n",
       "    margin: 0em 0px !important;\r\n",
       "} \r\n",
       "table th {\r\n",
       "    text-align: start;\r\n",
       "}\r\n",
       "</style>"
      ]
     },
     "metadata": {},
     "output_type": "display_data"
    }
   ],
   "source": [
    "TimeSpan span = dateTwo - dateOne;\n",
    "\n",
    "span.Minutes"
   ]
  },
  {
   "cell_type": "markdown",
   "metadata": {},
   "source": [
    "## <!-- -->\n",
    "\n",
    "[Bryan Wilhite is on LinkedIn](https://www.linkedin.com/in/wilhite)🇺🇸💼"
   ]
  }
 ],
 "metadata": {
  "language_info": {
   "name": "python"
  }
 },
 "nbformat": 4,
 "nbformat_minor": 2
}
