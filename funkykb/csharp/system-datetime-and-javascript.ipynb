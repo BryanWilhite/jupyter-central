{
 "cells": [
  {
   "cell_type": "markdown",
   "metadata": {},
   "source": [
    "# `System.DateTime` and JavaScript dates\n",
    "\n",
    "Here I will write down some basic observations about the `DateTime` `struct` in .NET [📖 [docs](https://learn.microsoft.com/en-us/dotnet/api/system.datetime?view=net-7.0)] and the `Date` object in JavaScript [📖 [docs](https://developer.mozilla.org/en-US/docs/Web/JavaScript/Reference/Global_Objects/Date)]. These remarks appear here after programming for 30 years so I apologize in advance for not having any depth in this area as much as, say, Jon Skeet."
   ]
  },
  {
   "cell_type": "markdown",
   "metadata": {},
   "source": [
    "## .NET: there is no need to call `DateTime.Now.ToUniversalTime()`\n",
    "\n",
    "There is no need to call `DateTime.Now.ToUniversalTime()` because we have `DateTime.UtcNow`:"
   ]
  },
  {
   "cell_type": "code",
   "execution_count": 1,
   "metadata": {
    "vscode": {
     "languageId": "polyglot-notebook"
    }
   },
   "outputs": [
    {
     "data": {
      "text/plain": [
       "10/22/2023 5:01:05 AM"
      ]
     },
     "metadata": {},
     "output_type": "display_data"
    }
   ],
   "source": [
    "var utcNow = DateTime.Now.ToUniversalTime().ToString();\n",
    "\n",
    "utcNow"
   ]
  },
  {
   "cell_type": "code",
   "execution_count": 2,
   "metadata": {
    "dotnet_interactive": {
     "language": "csharp"
    },
    "polyglot_notebook": {
     "kernelName": "csharp"
    },
    "vscode": {
     "languageId": "polyglot-notebook"
    }
   },
   "outputs": [
    {
     "data": {
      "text/plain": [
       "10/22/2023 5:01:05 AM"
      ]
     },
     "metadata": {},
     "output_type": "display_data"
    }
   ],
   "source": [
    "DateTime.UtcNow.ToString()"
   ]
  },
  {
   "cell_type": "markdown",
   "metadata": {},
   "source": [
    "## JavaScript: `Date.parse` does _not_ return a `Date` object"
   ]
  },
  {
   "cell_type": "code",
   "execution_count": 5,
   "metadata": {
    "dotnet_interactive": {
     "language": "javascript"
    },
    "polyglot_notebook": {
     "kernelName": "javascript"
    },
    "vscode": {
     "languageId": "polyglot-notebook"
    }
   },
   "outputs": [
    {
     "data": {
      "text/plain": [
       "false"
      ]
     },
     "metadata": {},
     "output_type": "display_data"
    },
    {
     "data": {
      "text/plain": [
       "number"
      ]
     },
     "metadata": {},
     "output_type": "display_data"
    },
    {
     "data": {
      "text/plain": [
       "1697976065000"
      ]
     },
     "metadata": {},
     "output_type": "display_data"
    },
    {
     "data": {
      "application/json": "2023-10-22T12:01:05.000Z"
     },
     "metadata": {},
     "output_type": "display_data"
    }
   ],
   "source": [
    "#!javascript\n",
    "\n",
    "#!share --from csharp utcNow\n",
    "const timestamp = Date.parse(utcNow);\n",
    "\n",
    "console.log(timestamp instanceof Date); // not a Date\n",
    "console.log(typeof timestamp);          // just a number\n",
    "console.log(timestamp);                 // just a number, really\n",
    "console.log(new Date(timestamp));       // returns a locale date and time"
   ]
  },
  {
   "cell_type": "markdown",
   "metadata": {},
   "source": [
    "The last output of the JavaScript above is a locale based date. How do we get back to the UTC date shared from the .NET code above? Answering this question reminds me of why JavaScript has a few “good parts.”"
   ]
  },
  {
   "cell_type": "markdown",
   "metadata": {},
   "source": [
    "## JavaScript: the `Date.UTC()` static method does not take timestamp numbers\n",
    "\n",
    "The [MDN docs](https://developer.mozilla.org/en-US/docs/Web/JavaScript/Reference/Global_Objects/Date/UTC#behavior_of_date.utc_with_one_argument) get to the point:\n",
    "\n",
    ">`Date.UTC()` when passed one argument used to have inconsistent behavior, because implementations only kept the behavior consistent with the `Date()` constructor, which does not interpret a single argument as the year number.\n",
    "\n",
    "Being “consistent with the `Date()` constructor” means changing the meaning of the first argument from `year` to `timestamp`. This anomalous detail is now gone from JavaScript."
   ]
  },
  {
   "cell_type": "markdown",
   "metadata": {},
   "source": [
    "## JavaScript: the `Date` constructor takes “a simplification of the ISO 8601 calendar date extended format”\n",
    "\n",
    "According to [the MDN docs](https://developer.mozilla.org/en-US/docs/Web/JavaScript/Reference/Global_Objects/Date#date_time_string_format), this is the format template that is the “one format to be universally supported”:\n",
    "\n",
    "```plaintext\n",
    "YYYY-MM-DDTHH:mm:ss.sssZ\n",
    "```\n",
    "\n",
    "We have seen this format in the JavaScript output above. This implies that the date string format we have shared from .NET, in the `utcNow` variable, is _not_ the correct format but is still somehow supported by JavaScript:"
   ]
  },
  {
   "cell_type": "code",
   "execution_count": 7,
   "metadata": {
    "dotnet_interactive": {
     "language": "javascript"
    },
    "polyglot_notebook": {
     "kernelName": "javascript"
    },
    "vscode": {
     "languageId": "polyglot-notebook"
    }
   },
   "outputs": [
    {
     "data": {
      "text/plain": [
       "10/22/2023 5:01:05 AM"
      ]
     },
     "metadata": {},
     "output_type": "display_data"
    },
    {
     "data": {
      "application/json": "2023-10-22T12:01:05.000Z"
     },
     "metadata": {},
     "output_type": "display_data"
    }
   ],
   "source": [
    "#!javascript\n",
    "\n",
    "#!share --from csharp utcNow\n",
    "\n",
    "console.log(utcNow);\n",
    "console.log(new Date(utcNow));"
   ]
  },
  {
   "cell_type": "markdown",
   "metadata": {},
   "source": [
    "## .NET: using the “universally supported” JavaScript format\n",
    "\n",
    "Does the “universally supported” template, `YYYY-MM-DDTHH:mm:ss.sssZ`, work in .NET verbatim?"
   ]
  },
  {
   "cell_type": "code",
   "execution_count": 9,
   "metadata": {
    "dotnet_interactive": {
     "language": "csharp"
    },
    "polyglot_notebook": {
     "kernelName": "csharp"
    },
    "vscode": {
     "languageId": "polyglot-notebook"
    }
   },
   "outputs": [
    {
     "data": {
      "text/plain": [
       "YYYY-10-DDT05:01:05.05Z"
      ]
     },
     "metadata": {},
     "output_type": "display_data"
    }
   ],
   "source": [
    "DateTime.Parse(utcNow).ToString(\"YYYY-MM-DDTHH:mm:ss.sssZ\")"
   ]
  },
  {
   "cell_type": "markdown",
   "metadata": {},
   "source": [
    "The short answer is _no_. After a review of “[Custom date and time format strings](https://learn.microsoft.com/en-us/dotnet/standard/base-types/custom-date-and-time-format-strings),” we may see this:\n",
    "\n",
    "```plaintext\n",
    "yyyy'-'MM'-'dd'T'HH':'mm':'ss'.'fff'Z'\n",
    "```"
   ]
  },
  {
   "cell_type": "code",
   "execution_count": 10,
   "metadata": {
    "dotnet_interactive": {
     "language": "csharp"
    },
    "polyglot_notebook": {
     "kernelName": "csharp"
    },
    "vscode": {
     "languageId": "polyglot-notebook"
    }
   },
   "outputs": [
    {
     "data": {
      "text/plain": [
       "2023-10-22T05:01:05.000Z"
      ]
     },
     "metadata": {},
     "output_type": "display_data"
    }
   ],
   "source": [
    "DateTime.Parse(utcNow).ToString(\"yyyy'-'MM'-'dd'T'HH':'mm':'ss'.'fff'Z'\")"
   ]
  },
  {
   "cell_type": "markdown",
   "metadata": {},
   "source": [
    "It is important to mention that this .NET template for the [ISO 8601](https://en.wikipedia.org/wiki/ISO_8601) format is _not_ among the “[Standard date and time format strings](https://learn.microsoft.com/en-us/dotnet/standard/base-types/standard-date-and-time-format-strings)” of .NET. And this template can easily be confused with `UniversalSortableDateTimePattern` [📖 [docs](https://learn.microsoft.com/en-us/dotnet/api/system.globalization.datetimeformatinfo.universalsortabledatetimepattern?view=net-7.0)], `yyyy'-'MM'-'dd HH':'mm':'ss'Z'`."
   ]
  },
  {
   "cell_type": "markdown",
   "metadata": {},
   "source": [
    "## JavaScript: `getUTCDate()` _does_ have something to do with converting an instance of `Date` to UTC\n",
    "\n",
    "\n",
    "`getUTCDate()` [📖 [docs](https://developer.mozilla.org/en-US/docs/Web/JavaScript/Reference/Global_Objects/Date/getUTCDate)] does have something to do with converting an instance of `Date` to UTC—but _not_ in the way one would assume. According to a very popular StackOverflow answer, the way `getUTCDate()` is used is “[simple and stupid](https://stackoverflow.com/a/6777470/22944)”:"
   ]
  },
  {
   "cell_type": "code",
   "execution_count": 25,
   "metadata": {
    "dotnet_interactive": {
     "language": "javascript"
    },
    "polyglot_notebook": {
     "kernelName": "javascript"
    },
    "vscode": {
     "languageId": "polyglot-notebook"
    }
   },
   "outputs": [
    {
     "data": {
      "application/json": "2023-10-22T19:01:05.000Z"
     },
     "metadata": {},
     "output_type": "display_data"
    },
    {
     "data": {
      "text/plain": [
       "Sun, 22 Oct 2023 19:01:05 GMT"
      ]
     },
     "metadata": {},
     "output_type": "display_data"
    },
    {
     "data": {
      "text/plain": [
       "2023-10-22T19:01:05.000Z"
      ]
     },
     "metadata": {},
     "output_type": "display_data"
    }
   ],
   "source": [
    "#!javascript\n",
    "\n",
    "#!share --from csharp utcNow\n",
    "\n",
    "const convertToUtc = date => {\n",
    "    return Date.UTC\n",
    "        (\n",
    "            date.getUTCFullYear(),\n",
    "            date.getUTCMonth(),\n",
    "            date.getUTCDate(),\n",
    "            date.getUTCHours(),\n",
    "            date.getUTCMinutes(),\n",
    "            date.getUTCSeconds(),\n",
    "            date.getUTCMilliseconds()\n",
    "        );\n",
    "};\n",
    "\n",
    "const utcDate = convertToUtc(new Date());\n",
    "\n",
    "console.log(utcDate);\n",
    "console.log(utcDate.toUTCString());\n",
    "console.log(utcDate.toISOString());"
   ]
  },
  {
   "cell_type": "markdown",
   "metadata": {},
   "source": [
    "We have finally returned the very first UTC date string we got from .NET at the beginning of this notebook!"
   ]
  },
  {
   "cell_type": "markdown",
   "metadata": {},
   "source": [
    "## <!-- -->\n",
    "\n",
    "🐙🐱[BryanWilhite](https://github.com/BryanWilhite)"
   ]
  }
 ],
 "metadata": {
  "language_info": {
   "name": "python"
  }
 },
 "nbformat": 4,
 "nbformat_minor": 2
}
