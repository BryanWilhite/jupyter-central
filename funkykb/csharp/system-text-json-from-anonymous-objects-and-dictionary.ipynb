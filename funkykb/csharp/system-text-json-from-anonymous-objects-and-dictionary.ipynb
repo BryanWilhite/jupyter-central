{
 "cells": [
  {
   "attachments": {},
   "cell_type": "markdown",
   "metadata": {},
   "source": [
    "# `System.Text.Json`: document from anonymous objects and `Dictionary<string, object>`\n",
    "\n",
    "An anonymous object can be used to generate a JSON `string`:"
   ]
  },
  {
   "cell_type": "code",
   "execution_count": 1,
   "metadata": {
    "dotnet_interactive": {
     "language": "csharp"
    },
    "vscode": {
     "languageId": "polyglot-notebook"
    }
   },
   "outputs": [
    {
     "data": {
      "text/plain": [
       "{\n",
       "  \"one\": \"uno\",\n",
       "  \"two\": 2,\n",
       "  \"isThree\": false\n",
       "}"
      ]
     },
     "metadata": {},
     "output_type": "display_data"
    }
   ],
   "source": [
    "using System.Text.Json;\n",
    "\n",
    "var anon = new {\n",
    "    One = \"uno\",\n",
    "    Two = 2,\n",
    "    IsThree = false,\n",
    "};\n",
    "\n",
    "JsonSerializer.Serialize(anon,\n",
    "    new JsonSerializerOptions { PropertyNamingPolicy = JsonNamingPolicy.CamelCase, WriteIndented = true })"
   ]
  },
  {
   "attachments": {},
   "cell_type": "markdown",
   "metadata": {},
   "source": [
    "We can omit the `JsonNamingPolicy` by camel-casing the anonymous-object properties:"
   ]
  },
  {
   "cell_type": "code",
   "execution_count": 2,
   "metadata": {
    "dotnet_interactive": {
     "language": "csharp"
    },
    "vscode": {
     "languageId": "polyglot-notebook"
    }
   },
   "outputs": [
    {
     "data": {
      "text/plain": [
       "{\n",
       "  \"one\": \"uno\",\n",
       "  \"two\": 2,\n",
       "  \"isThree\": false\n",
       "}"
      ]
     },
     "metadata": {},
     "output_type": "display_data"
    }
   ],
   "source": [
    "var anon = new {\n",
    "    one = \"uno\",\n",
    "    two = 2,\n",
    "    isThree = false,\n",
    "};\n",
    "\n",
    "JsonSerializer.Serialize(anon, new JsonSerializerOptions { WriteIndented = true })"
   ]
  },
  {
   "attachments": {},
   "cell_type": "markdown",
   "metadata": {},
   "source": [
    "## passing property names in a variable\n",
    "\n",
    "In some scenarios, the property name can be defined in a variable. We can use `Dictionary<string, object>` instead of an anonymous object to get the property name out of the variable:"
   ]
  },
  {
   "cell_type": "code",
   "execution_count": 3,
   "metadata": {
    "dotnet_interactive": {
     "language": "csharp"
    },
    "vscode": {
     "languageId": "polyglot-notebook"
    }
   },
   "outputs": [
    {
     "data": {
      "text/plain": [
       "{\n",
       "  \"one\": \"uno\",\n",
       "  \"two\": 2,\n",
       "  \"isThree\": false,\n",
       "  \"four\": \"quarto\"\n",
       "}"
      ]
     },
     "metadata": {},
     "output_type": "display_data"
    }
   ],
   "source": [
    "var propertyName = \"four\";\n",
    "\n",
    "var dictionary = new Dictionary<string, object>\n",
    "{\n",
    "    { \"one\", \"uno\" },\n",
    "    { \"two\", 2 },\n",
    "    { \"isThree\", false },\n",
    "    { propertyName, \"quarto\" }\n",
    "};\n",
    "\n",
    "JsonSerializer.Serialize(dictionary, new JsonSerializerOptions { WriteIndented = true })"
   ]
  },
  {
   "attachments": {},
   "cell_type": "markdown",
   "metadata": {},
   "source": [
    "## arrays in JSON\n",
    "\n",
    "\n",
    "An array of anonymous objects can be converted into a JSON array:"
   ]
  },
  {
   "cell_type": "code",
   "execution_count": 4,
   "metadata": {
    "dotnet_interactive": {
     "language": "csharp"
    },
    "vscode": {
     "languageId": "polyglot-notebook"
    }
   },
   "outputs": [
    {
     "data": {
      "text/plain": [
       "[\n",
       "  {\n",
       "    \"five\": \"cinco\"\n",
       "  },\n",
       "  {\n",
       "    \"five\": \"4 \\u002B 1\"\n",
       "  }\n",
       "]"
      ]
     },
     "metadata": {},
     "output_type": "display_data"
    }
   ],
   "source": [
    "var anon = new [] { new { five = \"cinco\" }, new { five = \"4 + 1\" } };\n",
    "\n",
    "JsonSerializer.Serialize(anon, new JsonSerializerOptions { WriteIndented = true })"
   ]
  },
  {
   "attachments": {},
   "cell_type": "markdown",
   "metadata": {},
   "source": [
    "And, of course, a JSON property of array can be generated from an anonymous object:"
   ]
  },
  {
   "cell_type": "code",
   "execution_count": 5,
   "metadata": {
    "dotnet_interactive": {
     "language": "csharp"
    },
    "vscode": {
     "languageId": "polyglot-notebook"
    }
   },
   "outputs": [
    {
     "data": {
      "text/plain": [
       "{\n",
       "  \"one\": \"uno\",\n",
       "  \"two\": 2,\n",
       "  \"isThree\": false,\n",
       "  \"fivers\": [\n",
       "    {\n",
       "      \"five\": \"cinco\"\n",
       "    },\n",
       "    {\n",
       "      \"five\": \"4 \\u002B 1\"\n",
       "    }\n",
       "  ]\n",
       "}"
      ]
     },
     "metadata": {},
     "output_type": "display_data"
    }
   ],
   "source": [
    "var anon = new {\n",
    "    one = \"uno\",\n",
    "    two = 2,\n",
    "    isThree = false,\n",
    "    fivers = new [] { new { five = \"cinco\" }, new { five = \"4 + 1\" } },\n",
    "};\n",
    "\n",
    "JsonSerializer.Serialize(anon, new JsonSerializerOptions { WriteIndented = true })"
   ]
  },
  {
   "attachments": {},
   "cell_type": "markdown",
   "metadata": {},
   "source": [
    "[Bryan Wilhite is on LinkedIn](https://www.linkedin.com/in/wilhite)🇺🇸💼\n"
   ]
  }
 ],
 "metadata": {
  "kernelspec": {
   "display_name": ".NET (C#)",
   "language": "C#",
   "name": ".net-csharp"
  },
  "language_info": {
   "file_extension": ".cs",
   "mimetype": "text/x-csharp",
   "name": "C#",
   "pygments_lexer": "csharp",
   "version": "9.0"
  },
  "orig_nbformat": 4
 },
 "nbformat": 4,
 "nbformat_minor": 2
}
