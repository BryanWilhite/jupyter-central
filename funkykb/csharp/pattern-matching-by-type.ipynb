{
 "cells": [
  {
   "cell_type": "markdown",
   "metadata": {},
   "source": [
    "# C# pattern matching by type"
   ]
  },
  {
   "cell_type": "code",
   "execution_count": null,
   "metadata": {
    "dotnet_interactive": {
     "language": "csharp"
    },
    "vscode": {
     "languageId": "dotnet-interactive.csharp"
    }
   },
   "outputs": [],
   "source": [
    "public interface IThingHandler<TThing>\n",
    "{\n",
    "    void DoTheThing(TThing input);\n",
    "}\n",
    "\n",
    "public class ClassOne {}\n",
    "public class ClassOneHandler : IThingHandler<ClassOne>\n",
    "{\n",
    "    public void DoTheThing(ClassOne data) {}\n",
    "}\n",
    "\n",
    "public class ClassTwo {}\n",
    "public class ClassTwoHandler : IThingHandler<ClassTwo>\n",
    "{\n",
    "    public void DoTheThing(ClassTwo data) {}\n",
    "}\n",
    "\n",
    "public class ClassThree {}\n",
    "public class ClassThreeHandler : IThingHandler<ClassThree>\n",
    "{\n",
    "    public void DoTheThing(ClassThree data) {}\n",
    "}\n"
   ]
  },
  {
   "cell_type": "code",
   "execution_count": null,
   "metadata": {
    "dotnet_interactive": {
     "language": "csharp"
    },
    "vscode": {
     "languageId": "dotnet-interactive.csharp"
    }
   },
   "outputs": [],
   "source": [
    "public void DoTheThingWithTheThing<TThing>(TThing data)\n",
    "{\n",
    "    switch (data)\n",
    "    {\n",
    "        case ClassOne thing:\n",
    "            {\n",
    "                var handler = new ClassOneHandler();\n",
    "                handler.DoTheThing(thing);\n",
    "            }\n",
    "            break;\n",
    "\n",
    "        case ClassTwo thing:\n",
    "            {\n",
    "                var handler = new ClassTwoHandler();\n",
    "                handler.DoTheThing(thing);\n",
    "            }\n",
    "            break;\n",
    "\n",
    "        case ClassThree thing:\n",
    "            {\n",
    "                var handler = new ClassThreeHandler();\n",
    "                handler.DoTheThing(thing);\n",
    "            }\n",
    "            break;\n",
    "\n",
    "        default:\n",
    "            var type = typeof(TThing);\n",
    "            throw new NotSupportedException($\"{nameof(Type)} {type.Name} is not supported.\");\n",
    "    }\n",
    "}"
   ]
  }
 ],
 "metadata": {
  "kernelspec": {
   "display_name": ".NET (C#)",
   "language": "C#",
   "name": ".net-csharp"
  },
  "language_info": {
   "file_extension": ".cs",
   "mimetype": "text/x-csharp",
   "name": "C#",
   "pygments_lexer": "csharp",
   "version": "9.0"
  },
  "orig_nbformat": 4
 },
 "nbformat": 4,
 "nbformat_minor": 2
}
