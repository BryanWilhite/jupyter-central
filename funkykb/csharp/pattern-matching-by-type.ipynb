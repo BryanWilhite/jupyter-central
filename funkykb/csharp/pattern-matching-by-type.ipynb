{
 "cells": [
  {
   "cell_type": "markdown",
   "metadata": {},
   "source": [
    "# C# pattern matching by type\n",
    "\n",
    "The 2019 MSDN article, “[Pattern Matching in C# 8.0](https://docs.microsoft.com/en-us/archive/msdn-magazine/2019/may/csharp-8-0-pattern-matching-in-csharp-8-0),” by Filip Ekberg will be used as a guide around ‘modern’ pattern-matching in C#.\n",
    "\n",
    "The real-world example (from my day-job life) that brings pattern matching in my life is the need to map a class to its corresponding ‘handler’ class:"
   ]
  },
  {
   "cell_type": "code",
   "execution_count": null,
   "metadata": {
    "dotnet_interactive": {
     "language": "csharp"
    },
    "vscode": {
     "languageId": "dotnet-interactive.csharp"
    }
   },
   "outputs": [],
   "source": [
    "public interface IThingHandler<TThing>\n",
    "{\n",
    "    void DoTheThing(TThing input) =>\n",
    "        Console.WriteLine($\"You have done the thing with {typeof(TThing).Name}.\");\n",
    "}\n",
    "\n",
    "public class ClassOne {}\n",
    "public class ClassOneHandler : IThingHandler<ClassOne> {}\n",
    "\n",
    "public class ClassTwo {}\n",
    "public class ClassTwoHandler : IThingHandler<ClassTwo> {}\n",
    "\n",
    "public class ClassThree {}\n",
    "public class ClassThreeHandler : IThingHandler<ClassThree> {}\n"
   ]
  },
  {
   "cell_type": "markdown",
   "metadata": {},
   "source": [
    "The `IThingHandler<TThing>` is a generic interface with a [default implementation](https://docs.microsoft.com/en-us/dotnet/csharp/language-reference/proposals/csharp-8.0/default-interface-methods) that can be assigned to a `*Handler` class in `DoTheThingWithTheThing<TThing>`:"
   ]
  },
  {
   "cell_type": "code",
   "execution_count": null,
   "metadata": {
    "dotnet_interactive": {
     "language": "csharp"
    },
    "vscode": {
     "languageId": "dotnet-interactive.csharp"
    }
   },
   "outputs": [],
   "source": [
    "public void DoTheThingWithTheThing<TThing>(TThing data)\n",
    "{\n",
    "    switch (data)\n",
    "    {\n",
    "        case ClassOne thing:\n",
    "            {\n",
    "                IThingHandler<ClassOne> handler = new ClassOneHandler();\n",
    "                handler.DoTheThing(thing);\n",
    "            }\n",
    "            break;\n",
    "\n",
    "        case ClassTwo thing:\n",
    "            {\n",
    "                IThingHandler<ClassTwo> handler = new ClassTwoHandler();\n",
    "                handler.DoTheThing(thing);\n",
    "            }\n",
    "            break;\n",
    "\n",
    "        case ClassThree thing:\n",
    "            {\n",
    "                IThingHandler<ClassThree> handler = new ClassThreeHandler();\n",
    "                handler.DoTheThing(thing);\n",
    "            }\n",
    "            break;\n",
    "\n",
    "        default:\n",
    "            var type = typeof(TThing);\n",
    "            throw new NotSupportedException($\"{nameof(Type)} {type.Name} is not supported.\");\n",
    "    }\n",
    "}"
   ]
  },
  {
   "cell_type": "markdown",
   "metadata": {},
   "source": [
    "`DoTheThingWithTheThing<TThing>` has a `switch` statement written in a form that Filip Ekberg calls, “a lightweight version of pattern matching” which allows imperative code blocks and functional-style pattern matching. This is a C# 7.0 form of pattern matching that is easy to understand by more traditional C# developers—and it works just fine:"
   ]
  },
  {
   "cell_type": "code",
   "execution_count": null,
   "metadata": {
    "dotnet_interactive": {
     "language": "csharp"
    },
    "vscode": {
     "languageId": "dotnet-interactive.csharp"
    }
   },
   "outputs": [
    {
     "name": "stdout",
     "output_type": "stream",
     "text": [
      "You have done the thing with ClassTwo.\n"
     ]
    }
   ],
   "source": [
    "var inputTwo = new ClassTwo();\n",
    "\n",
    "DoTheThingWithTheThing<ClassTwo>(inputTwo)"
   ]
  },
  {
   "cell_type": "markdown",
   "metadata": {},
   "source": [
    "## C# 8.0 pattern-matching syntax"
   ]
  },
  {
   "cell_type": "markdown",
   "metadata": {},
   "source": [
    "Let me write the above in what I think is C# 8.0 syntax. I can see that this does not compile:\n",
    "\n",
    "```csharp\n",
    "public void DoTheThingWithTheThing2019<TThing>(TThing data)\n",
    "{\n",
    "    data switch {\n",
    "        ClassOne thing =>\n",
    "            {\n",
    "                var handler = new ClassOneHandler();\n",
    "                handler.DoTheThing(thing);\n",
    "            },\n",
    "\n",
    "        ClassTwo thing =>\n",
    "            {\n",
    "                var handler = new ClassTwoHandler();\n",
    "                handler.DoTheThing(thing);\n",
    "            },\n",
    "\n",
    "        ClassThree =>\n",
    "            {\n",
    "                var handler = new ClassThreeHandler();\n",
    "                handler.DoTheThing(thing);\n",
    "            },\n",
    "\n",
    "        _ =>\n",
    "            {\n",
    "                var type = typeof(TThing);\n",
    "                throw new NotSupportedException($\"{nameof(Type)} {type.Name} is not supported.\");\n",
    "            }\n",
    "    };\n",
    "}\n",
    "```"
   ]
  },
  {
   "cell_type": "markdown",
   "metadata": {},
   "source": [
    "My experience with F# is telling me that those curly braces will _not_ be supported in the C# 8.0 design because, like what we have in F#, modern pattern-matching in C# is designed for _expressions_:"
   ]
  },
  {
   "cell_type": "code",
   "execution_count": null,
   "metadata": {
    "dotnet_interactive": {
     "language": "csharp"
    },
    "vscode": {
     "languageId": "dotnet-interactive.csharp"
    }
   },
   "outputs": [],
   "source": [
    "public void DoTheThingWithTheThing2019<TThing>(TThing data)\n",
    "{\n",
    "    IThingHandler<TThing> handler = data switch\n",
    "    {\n",
    "        ClassOne _ => (IThingHandler<TThing>)new ClassOneHandler(),\n",
    "\n",
    "        ClassTwo _ => (IThingHandler<TThing>)new ClassTwoHandler(),\n",
    "\n",
    "        ClassThree _ => (IThingHandler<TThing>)new ClassThreeHandler(),\n",
    "\n",
    "        _ => throw new NotSupportedException($\"{nameof(Type)} {typeof(TThing).Name} is not supported.\")\n",
    "    };\n",
    "\n",
    "    handler.DoTheThing(data);\n",
    "}"
   ]
  },
  {
   "cell_type": "markdown",
   "metadata": {},
   "source": [
    "I am more uncomfortable with the casting operations (`(IThingHandler<TThing>)`) than the pattern matching syntax. I would like to be wrong about needing these generics-based operations. Nevertheless, this more succinct 2019 form works just like the “lightweight” form:"
   ]
  },
  {
   "cell_type": "code",
   "execution_count": null,
   "metadata": {
    "dotnet_interactive": {
     "language": "csharp"
    },
    "vscode": {
     "languageId": "dotnet-interactive.csharp"
    }
   },
   "outputs": [
    {
     "name": "stdout",
     "output_type": "stream",
     "text": [
      "You have done the thing with ClassThree.\n"
     ]
    }
   ],
   "source": [
    "var inputThree = new ClassThree();\n",
    "\n",
    "DoTheThingWithTheThing2019<ClassThree>(inputThree)"
   ]
  },
  {
   "cell_type": "markdown",
   "metadata": {},
   "source": [
    "[Bryan Wilhite is on LinkedIn](https://www.linkedin.com/in/wilhite)🇺🇸💼\n"
   ]
  }
 ],
 "metadata": {
  "kernelspec": {
   "display_name": ".NET (C#)",
   "language": "C#",
   "name": ".net-csharp"
  },
  "language_info": {
   "file_extension": ".cs",
   "mimetype": "text/x-csharp",
   "name": "C#",
   "pygments_lexer": "csharp",
   "version": "9.0"
  },
  "orig_nbformat": 4
 },
 "nbformat": 4,
 "nbformat_minor": 2
}
