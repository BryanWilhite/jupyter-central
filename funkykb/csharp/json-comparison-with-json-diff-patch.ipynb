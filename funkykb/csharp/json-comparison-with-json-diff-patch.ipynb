{
 "cells": [
  {
   "cell_type": "markdown",
   "id": "5e2e17ed",
   "metadata": {},
   "source": [
    "# JSON comparison with `JsonDiffPatch`\n",
    "\n",
    "**GitHub:** <https://github.com/weichch/system-text-json-jsondiffpatch>"
   ]
  },
  {
   "cell_type": "code",
   "execution_count": 1,
   "id": "4f9ebe62",
   "metadata": {
    "polyglot_notebook": {
     "kernelName": "csharp"
    },
    "vscode": {
     "languageId": "polyglot-notebook"
    }
   },
   "outputs": [
    {
     "data": {
      "text/html": [
       "<div><div></div><div></div><div><strong>Installed Packages</strong><ul><li><span>SystemTextJson.JsonDiffPatch, 2.0.0</span></li></ul></div></div>"
      ]
     },
     "metadata": {},
     "output_type": "display_data"
    }
   ],
   "source": [
    "#!csharp\n",
    "\n",
    "#r \"nuget:SystemTextJson.JsonDiffPatch\""
   ]
  },
  {
   "cell_type": "markdown",
   "id": "d4dd307d",
   "metadata": {},
   "source": [
    "## `JsonDiffPatch` depends on document order\n",
    "\n",
    "We will show here that `JsonDiffPatch` [[GitHub](https://github.com/weichch/system-text-json-jsondiffpatch)] depends on document order. It cannot optionally determine equality without regard to document order."
   ]
  },
  {
   "cell_type": "markdown",
   "id": "a72528c7",
   "metadata": {},
   "source": [
    "## two equivalent JSON strings"
   ]
  },
  {
   "cell_type": "code",
   "execution_count": 2,
   "id": "6108472f",
   "metadata": {
    "polyglot_notebook": {
     "kernelName": "csharp"
    },
    "vscode": {
     "languageId": "polyglot-notebook"
    }
   },
   "outputs": [],
   "source": [
    "#!csharp\n",
    "\n",
    "string json1 = \"\"\"\n",
    "{\n",
    "    \"title\": \"hello world!\",\n",
    "    \"author\": \"Joe Lion\",\n",
    "    \"publisher\": \"Lion Press\",\n",
    "    \"content\": [\n",
    "        { \"id\": \"item1\" },\n",
    "        { \"id\": \"item2\" },\n",
    "        { \"id\": \"item3\" }\n",
    "    ]\n",
    "}\n",
    "\"\"\";\n",
    "\n",
    "string json2 = \"\"\"\n",
    "{\n",
    "    \"author\": \"Joe Lion\",\n",
    "    \"title\": \"hello world!\",\n",
    "    \"publisher\": \"Lion Press\",\n",
    "    \"content\": [\n",
    "        { \"id\": \"item2\" },\n",
    "        { \"id\": \"item1\" },\n",
    "        { \"id\": \"item3\" }\n",
    "    ]\n",
    "}\n",
    "\"\"\";"
   ]
  },
  {
   "cell_type": "markdown",
   "id": "75264d84",
   "metadata": {},
   "source": [
    "## parsing the strings into `JsonObject` instances"
   ]
  },
  {
   "cell_type": "code",
   "execution_count": 3,
   "id": "36275bbc",
   "metadata": {
    "polyglot_notebook": {
     "kernelName": "csharp"
    },
    "vscode": {
     "languageId": "polyglot-notebook"
    }
   },
   "outputs": [],
   "source": [
    "#!csharp\n",
    "\n",
    "using System.Text.Json.Nodes;\n",
    "\n",
    "JsonObject doc1 = JsonNode.Parse(json1).AsObject();\n",
    "JsonObject doc2 = JsonNode.Parse(json2).AsObject();"
   ]
  },
  {
   "cell_type": "markdown",
   "id": "e36c5bc8",
   "metadata": {},
   "source": [
    "## diff-ing the `JsonObject` instances"
   ]
  },
  {
   "cell_type": "code",
   "execution_count": 4,
   "id": "9578c67d",
   "metadata": {
    "polyglot_notebook": {
     "kernelName": "csharp"
    },
    "vscode": {
     "languageId": "polyglot-notebook"
    }
   },
   "outputs": [
    {
     "data": {
      "text/html": [
       "<table><thead><tr><th><i>key</i></th><th>value</th></tr></thead><tbody><tr><td><div class=\"dni-plaintext\"><pre>content</pre></div></td><td><table><thead><tr><th><i>key</i></th><th><i>type</i></th><th>value</th></tr></thead><tbody><tr><td><div class=\"dni-plaintext\"><pre>_t</pre></div></td><td><span><a href=\"https://docs.microsoft.com/dotnet/api/system.text.json.nodes.jsonvalueprimitive-1?view=net-7.0\">System.Text.Json.Nodes.JsonValuePrimitive&lt;System.String&gt;</a></span></td><td><details class=\"dni-treeview\"><summary><span class=\"dni-code-hint\"><code>a</code></span></summary><div><table><thead><tr></tr></thead><tbody><tr><td>Options</td><td><div class=\"dni-plaintext\"><pre>&lt;null&gt;</pre></div></td></tr><tr><td>Parent</td><td><table><thead><tr><th><i>key</i></th><th><i>type</i></th><th>value</th></tr></thead><tbody><tr><td><div class=\"dni-plaintext\"><pre>_t</pre></div></td><td><span><a href=\"https://docs.microsoft.com/dotnet/api/system.text.json.nodes.jsonvalueprimitive-1?view=net-7.0\">System.Text.Json.Nodes.JsonValuePrimitive&lt;System.String&gt;</a></span></td><td><details class=\"dni-treeview\"><summary><span class=\"dni-code-hint\"><code>a</code></span></summary><div><table><thead><tr></tr></thead><tbody><tr><td>Options</td><td><div class=\"dni-plaintext\"><pre>&lt;null&gt;</pre></div></td></tr><tr><td>Parent</td><td><table><thead><tr><th><i>key</i></th><th><i>type</i></th><th>value</th></tr></thead><tbody><tr><td><div class=\"dni-plaintext\"><pre>_t</pre></div></td><td>System.Text.Json.Nodes.JsonValuePrimitive`1[System.String]</td><td>a</td></tr><tr><td><div class=\"dni-plaintext\"><pre>_0</pre></div></td><td>System.Text.Json.Nodes.JsonArray</td><td>[ , 1, 3 ]</td></tr></tbody></table></td></tr><tr><td>Root</td><td><table><thead><tr><th><i>key</i></th><th>value</th></tr></thead><tbody><tr><td><div class=\"dni-plaintext\"><pre>content</pre></div></td><td>[ [_t, a], [_0, [\r\n",
       "  \"\",\r\n",
       "  1,\r\n",
       "  3\r\n",
       "]] ]</td></tr></tbody></table></td></tr></tbody></table></div></details></td></tr><tr><td><div class=\"dni-plaintext\"><pre>_0</pre></div></td><td><span><a href=\"https://docs.microsoft.com/dotnet/api/system.text.json.nodes.jsonarray?view=net-7.0\">System.Text.Json.Nodes.JsonArray</a></span></td><td><details class=\"dni-treeview\"><summary><span class=\"dni-code-hint\"><code>[ , 1, 3 ]</code></span></summary><div><table><thead><tr></tr></thead><tbody><tr><td>Count</td><td><div class=\"dni-plaintext\"><pre>3</pre></div></td></tr><tr><td>Options</td><td><div class=\"dni-plaintext\"><pre>&lt;null&gt;</pre></div></td></tr><tr><td>Parent</td><td><table><thead><tr><th><i>key</i></th><th><i>type</i></th><th>value</th></tr></thead><tbody><tr><td><div class=\"dni-plaintext\"><pre>_t</pre></div></td><td>System.Text.Json.Nodes.JsonValuePrimitive`1[System.String]</td><td>a</td></tr><tr><td><div class=\"dni-plaintext\"><pre>_0</pre></div></td><td>System.Text.Json.Nodes.JsonArray</td><td>[ , 1, 3 ]</td></tr></tbody></table></td></tr><tr><td>Root</td><td><table><thead><tr><th><i>key</i></th><th>value</th></tr></thead><tbody><tr><td><div class=\"dni-plaintext\"><pre>content</pre></div></td><td>[ [_t, a], [_0, [\r\n",
       "  \"\",\r\n",
       "  1,\r\n",
       "  3\r\n",
       "]] ]</td></tr></tbody></table></td></tr><tr><td><i>(values)</i></td><td><table><thead><tr><th><i>index</i></th><th><i>type</i></th><th>value</th></tr></thead><tbody><tr><td>0</td><td><span><a href=\"https://docs.microsoft.com/dotnet/api/system.text.json.nodes.jsonvalueprimitive-1?view=net-7.0\">System.Text.Json.Nodes.JsonValuePrimitive&lt;System.String&gt;</a></span></td><td><details class=\"dni-treeview\"><summary><span class=\"dni-code-hint\"><code></code></span></summary><div><table><thead><tr></tr></thead><tbody><tr><td>Options</td><td><div class=\"dni-plaintext\"><pre>&lt;null&gt;</pre></div></td></tr><tr><td>Parent</td><td>[ , 1, 3 ]</td></tr><tr><td>Root</td><td>[ [content, {\r\n",
       "  \"_t\": \"a\",\r\n",
       "  \"_0\": [\r\n",
       "    \"\",\r\n",
       "    1,\r\n",
       "    3\r\n",
       "  ]\r\n",
       "}] ]</td></tr></tbody></table></div></details></td></tr><tr><td>1</td><td><span><a href=\"https://docs.microsoft.com/dotnet/api/system.text.json.nodes.jsonvalueprimitive-1?view=net-7.0\">System.Text.Json.Nodes.JsonValuePrimitive&lt;System.Int32&gt;</a></span></td><td><details class=\"dni-treeview\"><summary><span class=\"dni-code-hint\"><code>1</code></span></summary><div><table><thead><tr></tr></thead><tbody><tr><td>Options</td><td><div class=\"dni-plaintext\"><pre>&lt;null&gt;</pre></div></td></tr><tr><td>Parent</td><td>[ , 1, 3 ]</td></tr><tr><td>Root</td><td>[ [content, {\r\n",
       "  \"_t\": \"a\",\r\n",
       "  \"_0\": [\r\n",
       "    \"\",\r\n",
       "    1,\r\n",
       "    3\r\n",
       "  ]\r\n",
       "}] ]</td></tr></tbody></table></div></details></td></tr><tr><td>2</td><td><span><a href=\"https://docs.microsoft.com/dotnet/api/system.text.json.nodes.jsonvalueprimitive-1?view=net-7.0\">System.Text.Json.Nodes.JsonValuePrimitive&lt;System.Int32&gt;</a></span></td><td><details class=\"dni-treeview\"><summary><span class=\"dni-code-hint\"><code>3</code></span></summary><div><table><thead><tr></tr></thead><tbody><tr><td>Options</td><td><div class=\"dni-plaintext\"><pre>&lt;null&gt;</pre></div></td></tr><tr><td>Parent</td><td>[ , 1, 3 ]</td></tr><tr><td>Root</td><td>[ [content, {\r\n",
       "  \"_t\": \"a\",\r\n",
       "  \"_0\": [\r\n",
       "    \"\",\r\n",
       "    1,\r\n",
       "    3\r\n",
       "  ]\r\n",
       "}] ]</td></tr></tbody></table></div></details></td></tr></tbody></table></td></tr></tbody></table></div></details></td></tr></tbody></table></td></tr><tr><td>Root</td><td><table><thead><tr><th><i>key</i></th><th>value</th></tr></thead><tbody><tr><td><div class=\"dni-plaintext\"><pre>content</pre></div></td><td><table><thead><tr><th><i>key</i></th><th><i>type</i></th><th>value</th></tr></thead><tbody><tr><td><div class=\"dni-plaintext\"><pre>_t</pre></div></td><td><span><a href=\"https://docs.microsoft.com/dotnet/api/system.text.json.nodes.jsonvalueprimitive-1?view=net-7.0\">System.Text.Json.Nodes.JsonValuePrimitive&lt;System.String&gt;</a></span></td><td><details class=\"dni-treeview\"><summary><span class=\"dni-code-hint\"><code>a</code></span></summary><div><table><thead><tr></tr></thead><tbody><tr><td>Options</td><td><div class=\"dni-plaintext\"><pre>&lt;null&gt;</pre></div></td></tr><tr><td>Parent</td><td>[ [_t, a], [_0, [\r\n",
       "  \"\",\r\n",
       "  1,\r\n",
       "  3\r\n",
       "]] ]</td></tr><tr><td>Root</td><td>[ [content, {\r\n",
       "  \"_t\": \"a\",\r\n",
       "  \"_0\": [\r\n",
       "    \"\",\r\n",
       "    1,\r\n",
       "    3\r\n",
       "  ]\r\n",
       "}] ]</td></tr></tbody></table></div></details></td></tr><tr><td><div class=\"dni-plaintext\"><pre>_0</pre></div></td><td><span><a href=\"https://docs.microsoft.com/dotnet/api/system.text.json.nodes.jsonarray?view=net-7.0\">System.Text.Json.Nodes.JsonArray</a></span></td><td><details class=\"dni-treeview\"><summary><span class=\"dni-code-hint\"><code>[ , 1, 3 ]</code></span></summary><div><table><thead><tr></tr></thead><tbody><tr><td>Count</td><td>3</td></tr><tr><td>Options</td><td><div class=\"dni-plaintext\"><pre>&lt;null&gt;</pre></div></td></tr><tr><td>Parent</td><td>[ [_t, a], [_0, [\r\n",
       "  \"\",\r\n",
       "  1,\r\n",
       "  3\r\n",
       "]] ]</td></tr><tr><td>Root</td><td>[ [content, {\r\n",
       "  \"_t\": \"a\",\r\n",
       "  \"_0\": [\r\n",
       "    \"\",\r\n",
       "    1,\r\n",
       "    3\r\n",
       "  ]\r\n",
       "}] ]</td></tr><tr><td><i>(values)</i></td><td><table><thead><tr><th><i>index</i></th><th><i>type</i></th><th>value</th></tr></thead><tbody><tr><td>0</td><td>System.Text.Json.Nodes.JsonValuePrimitive`1[System.String]</td><td></td></tr><tr><td>1</td><td>System.Text.Json.Nodes.JsonValuePrimitive`1[System.Int32]</td><td>1</td></tr><tr><td>2</td><td>System.Text.Json.Nodes.JsonValuePrimitive`1[System.Int32]</td><td>3</td></tr></tbody></table></td></tr></tbody></table></div></details></td></tr></tbody></table></td></tr></tbody></table></td></tr></tbody></table></div></details></td></tr><tr><td><div class=\"dni-plaintext\"><pre>_0</pre></div></td><td><span><a href=\"https://docs.microsoft.com/dotnet/api/system.text.json.nodes.jsonarray?view=net-7.0\">System.Text.Json.Nodes.JsonArray</a></span></td><td><details class=\"dni-treeview\"><summary><span class=\"dni-code-hint\"><code>[ , 1, 3 ]</code></span></summary><div><table><thead><tr></tr></thead><tbody><tr><td>Count</td><td><div class=\"dni-plaintext\"><pre>3</pre></div></td></tr><tr><td>Options</td><td><div class=\"dni-plaintext\"><pre>&lt;null&gt;</pre></div></td></tr><tr><td>Parent</td><td><table><thead><tr><th><i>key</i></th><th><i>type</i></th><th>value</th></tr></thead><tbody><tr><td><div class=\"dni-plaintext\"><pre>_t</pre></div></td><td><span><a href=\"https://docs.microsoft.com/dotnet/api/system.text.json.nodes.jsonvalueprimitive-1?view=net-7.0\">System.Text.Json.Nodes.JsonValuePrimitive&lt;System.String&gt;</a></span></td><td><details class=\"dni-treeview\"><summary><span class=\"dni-code-hint\"><code>a</code></span></summary><div><table><thead><tr></tr></thead><tbody><tr><td>Options</td><td><div class=\"dni-plaintext\"><pre>&lt;null&gt;</pre></div></td></tr><tr><td>Parent</td><td><table><thead><tr><th><i>key</i></th><th><i>type</i></th><th>value</th></tr></thead><tbody><tr><td><div class=\"dni-plaintext\"><pre>_t</pre></div></td><td>System.Text.Json.Nodes.JsonValuePrimitive`1[System.String]</td><td>a</td></tr><tr><td><div class=\"dni-plaintext\"><pre>_0</pre></div></td><td>System.Text.Json.Nodes.JsonArray</td><td>[ , 1, 3 ]</td></tr></tbody></table></td></tr><tr><td>Root</td><td><table><thead><tr><th><i>key</i></th><th>value</th></tr></thead><tbody><tr><td><div class=\"dni-plaintext\"><pre>content</pre></div></td><td>[ [_t, a], [_0, [\r\n",
       "  \"\",\r\n",
       "  1,\r\n",
       "  3\r\n",
       "]] ]</td></tr></tbody></table></td></tr></tbody></table></div></details></td></tr><tr><td><div class=\"dni-plaintext\"><pre>_0</pre></div></td><td><span><a href=\"https://docs.microsoft.com/dotnet/api/system.text.json.nodes.jsonarray?view=net-7.0\">System.Text.Json.Nodes.JsonArray</a></span></td><td><details class=\"dni-treeview\"><summary><span class=\"dni-code-hint\"><code>[ , 1, 3 ]</code></span></summary><div><table><thead><tr></tr></thead><tbody><tr><td>Count</td><td><div class=\"dni-plaintext\"><pre>3</pre></div></td></tr><tr><td>Options</td><td><div class=\"dni-plaintext\"><pre>&lt;null&gt;</pre></div></td></tr><tr><td>Parent</td><td><table><thead><tr><th><i>key</i></th><th><i>type</i></th><th>value</th></tr></thead><tbody><tr><td><div class=\"dni-plaintext\"><pre>_t</pre></div></td><td>System.Text.Json.Nodes.JsonValuePrimitive`1[System.String]</td><td>a</td></tr><tr><td><div class=\"dni-plaintext\"><pre>_0</pre></div></td><td>System.Text.Json.Nodes.JsonArray</td><td>[ , 1, 3 ]</td></tr></tbody></table></td></tr><tr><td>Root</td><td><table><thead><tr><th><i>key</i></th><th>value</th></tr></thead><tbody><tr><td><div class=\"dni-plaintext\"><pre>content</pre></div></td><td>[ [_t, a], [_0, [\r\n",
       "  \"\",\r\n",
       "  1,\r\n",
       "  3\r\n",
       "]] ]</td></tr></tbody></table></td></tr><tr><td><i>(values)</i></td><td><table><thead><tr><th><i>index</i></th><th><i>type</i></th><th>value</th></tr></thead><tbody><tr><td>0</td><td><span><a href=\"https://docs.microsoft.com/dotnet/api/system.text.json.nodes.jsonvalueprimitive-1?view=net-7.0\">System.Text.Json.Nodes.JsonValuePrimitive&lt;System.String&gt;</a></span></td><td><details class=\"dni-treeview\"><summary><span class=\"dni-code-hint\"><code></code></span></summary><div><table><thead><tr></tr></thead><tbody><tr><td>Options</td><td><div class=\"dni-plaintext\"><pre>&lt;null&gt;</pre></div></td></tr><tr><td>Parent</td><td>[ , 1, 3 ]</td></tr><tr><td>Root</td><td>[ [content, {\r\n",
       "  \"_t\": \"a\",\r\n",
       "  \"_0\": [\r\n",
       "    \"\",\r\n",
       "    1,\r\n",
       "    3\r\n",
       "  ]\r\n",
       "}] ]</td></tr></tbody></table></div></details></td></tr><tr><td>1</td><td><span><a href=\"https://docs.microsoft.com/dotnet/api/system.text.json.nodes.jsonvalueprimitive-1?view=net-7.0\">System.Text.Json.Nodes.JsonValuePrimitive&lt;System.Int32&gt;</a></span></td><td><details class=\"dni-treeview\"><summary><span class=\"dni-code-hint\"><code>1</code></span></summary><div><table><thead><tr></tr></thead><tbody><tr><td>Options</td><td><div class=\"dni-plaintext\"><pre>&lt;null&gt;</pre></div></td></tr><tr><td>Parent</td><td>[ , 1, 3 ]</td></tr><tr><td>Root</td><td>[ [content, {\r\n",
       "  \"_t\": \"a\",\r\n",
       "  \"_0\": [\r\n",
       "    \"\",\r\n",
       "    1,\r\n",
       "    3\r\n",
       "  ]\r\n",
       "}] ]</td></tr></tbody></table></div></details></td></tr><tr><td>2</td><td><span><a href=\"https://docs.microsoft.com/dotnet/api/system.text.json.nodes.jsonvalueprimitive-1?view=net-7.0\">System.Text.Json.Nodes.JsonValuePrimitive&lt;System.Int32&gt;</a></span></td><td><details class=\"dni-treeview\"><summary><span class=\"dni-code-hint\"><code>3</code></span></summary><div><table><thead><tr></tr></thead><tbody><tr><td>Options</td><td><div class=\"dni-plaintext\"><pre>&lt;null&gt;</pre></div></td></tr><tr><td>Parent</td><td>[ , 1, 3 ]</td></tr><tr><td>Root</td><td>[ [content, {\r\n",
       "  \"_t\": \"a\",\r\n",
       "  \"_0\": [\r\n",
       "    \"\",\r\n",
       "    1,\r\n",
       "    3\r\n",
       "  ]\r\n",
       "}] ]</td></tr></tbody></table></div></details></td></tr></tbody></table></td></tr></tbody></table></div></details></td></tr></tbody></table></td></tr><tr><td>Root</td><td><table><thead><tr><th><i>key</i></th><th>value</th></tr></thead><tbody><tr><td><div class=\"dni-plaintext\"><pre>content</pre></div></td><td><table><thead><tr><th><i>key</i></th><th><i>type</i></th><th>value</th></tr></thead><tbody><tr><td><div class=\"dni-plaintext\"><pre>_t</pre></div></td><td><span><a href=\"https://docs.microsoft.com/dotnet/api/system.text.json.nodes.jsonvalueprimitive-1?view=net-7.0\">System.Text.Json.Nodes.JsonValuePrimitive&lt;System.String&gt;</a></span></td><td><details class=\"dni-treeview\"><summary><span class=\"dni-code-hint\"><code>a</code></span></summary><div><table><thead><tr></tr></thead><tbody><tr><td>Options</td><td><div class=\"dni-plaintext\"><pre>&lt;null&gt;</pre></div></td></tr><tr><td>Parent</td><td>[ [_t, a], [_0, [\r\n",
       "  \"\",\r\n",
       "  1,\r\n",
       "  3\r\n",
       "]] ]</td></tr><tr><td>Root</td><td>[ [content, {\r\n",
       "  \"_t\": \"a\",\r\n",
       "  \"_0\": [\r\n",
       "    \"\",\r\n",
       "    1,\r\n",
       "    3\r\n",
       "  ]\r\n",
       "}] ]</td></tr></tbody></table></div></details></td></tr><tr><td><div class=\"dni-plaintext\"><pre>_0</pre></div></td><td><span><a href=\"https://docs.microsoft.com/dotnet/api/system.text.json.nodes.jsonarray?view=net-7.0\">System.Text.Json.Nodes.JsonArray</a></span></td><td><details class=\"dni-treeview\"><summary><span class=\"dni-code-hint\"><code>[ , 1, 3 ]</code></span></summary><div><table><thead><tr></tr></thead><tbody><tr><td>Count</td><td>3</td></tr><tr><td>Options</td><td><div class=\"dni-plaintext\"><pre>&lt;null&gt;</pre></div></td></tr><tr><td>Parent</td><td>[ [_t, a], [_0, [\r\n",
       "  \"\",\r\n",
       "  1,\r\n",
       "  3\r\n",
       "]] ]</td></tr><tr><td>Root</td><td>[ [content, {\r\n",
       "  \"_t\": \"a\",\r\n",
       "  \"_0\": [\r\n",
       "    \"\",\r\n",
       "    1,\r\n",
       "    3\r\n",
       "  ]\r\n",
       "}] ]</td></tr><tr><td><i>(values)</i></td><td><table><thead><tr><th><i>index</i></th><th><i>type</i></th><th>value</th></tr></thead><tbody><tr><td>0</td><td>System.Text.Json.Nodes.JsonValuePrimitive`1[System.String]</td><td></td></tr><tr><td>1</td><td>System.Text.Json.Nodes.JsonValuePrimitive`1[System.Int32]</td><td>1</td></tr><tr><td>2</td><td>System.Text.Json.Nodes.JsonValuePrimitive`1[System.Int32]</td><td>3</td></tr></tbody></table></td></tr></tbody></table></div></details></td></tr></tbody></table></td></tr></tbody></table></td></tr><tr><td><i>(values)</i></td><td><table><thead><tr><th><i>index</i></th><th><i>type</i></th><th>value</th></tr></thead><tbody><tr><td>0</td><td><span><a href=\"https://docs.microsoft.com/dotnet/api/system.text.json.nodes.jsonvalueprimitive-1?view=net-7.0\">System.Text.Json.Nodes.JsonValuePrimitive&lt;System.String&gt;</a></span></td><td><details class=\"dni-treeview\"><summary><span class=\"dni-code-hint\"><code></code></span></summary><div><table><thead><tr></tr></thead><tbody><tr><td>Options</td><td><div class=\"dni-plaintext\"><pre>&lt;null&gt;</pre></div></td></tr><tr><td>Parent</td><td><details class=\"dni-treeview\"><summary><span class=\"dni-code-hint\"><code>[ , 1, 3 ]</code></span></summary><div><table><thead><tr></tr></thead><tbody><tr><td>Count</td><td><div class=\"dni-plaintext\"><pre>3</pre></div></td></tr><tr><td>Options</td><td><div class=\"dni-plaintext\"><pre>&lt;null&gt;</pre></div></td></tr><tr><td>Parent</td><td><table><thead><tr><th><i>key</i></th><th><i>type</i></th><th>value</th></tr></thead><tbody><tr><td><div class=\"dni-plaintext\"><pre>_t</pre></div></td><td>System.Text.Json.Nodes.JsonValuePrimitive`1[System.String]</td><td>a</td></tr><tr><td><div class=\"dni-plaintext\"><pre>_0</pre></div></td><td>System.Text.Json.Nodes.JsonArray</td><td>[ , 1, 3 ]</td></tr></tbody></table></td></tr><tr><td>Root</td><td><table><thead><tr><th><i>key</i></th><th>value</th></tr></thead><tbody><tr><td><div class=\"dni-plaintext\"><pre>content</pre></div></td><td>[ [_t, a], [_0, [\r\n",
       "  \"\",\r\n",
       "  1,\r\n",
       "  3\r\n",
       "]] ]</td></tr></tbody></table></td></tr><tr><td><i>(values)</i></td><td><table><thead><tr><th><i>index</i></th><th><i>type</i></th><th>value</th></tr></thead><tbody><tr><td>0</td><td><span><a href=\"https://docs.microsoft.com/dotnet/api/system.text.json.nodes.jsonvalueprimitive-1?view=net-7.0\">System.Text.Json.Nodes.JsonValuePrimitive&lt;System.String&gt;</a></span></td><td><details class=\"dni-treeview\"><summary><span class=\"dni-code-hint\"><code></code></span></summary><div><table><thead><tr></tr></thead><tbody><tr><td>Options</td><td><div class=\"dni-plaintext\"><pre>&lt;null&gt;</pre></div></td></tr><tr><td>Parent</td><td>[ , 1, 3 ]</td></tr><tr><td>Root</td><td>[ [content, {\r\n",
       "  \"_t\": \"a\",\r\n",
       "  \"_0\": [\r\n",
       "    \"\",\r\n",
       "    1,\r\n",
       "    3\r\n",
       "  ]\r\n",
       "}] ]</td></tr></tbody></table></div></details></td></tr><tr><td>1</td><td><span><a href=\"https://docs.microsoft.com/dotnet/api/system.text.json.nodes.jsonvalueprimitive-1?view=net-7.0\">System.Text.Json.Nodes.JsonValuePrimitive&lt;System.Int32&gt;</a></span></td><td><details class=\"dni-treeview\"><summary><span class=\"dni-code-hint\"><code>1</code></span></summary><div><table><thead><tr></tr></thead><tbody><tr><td>Options</td><td><div class=\"dni-plaintext\"><pre>&lt;null&gt;</pre></div></td></tr><tr><td>Parent</td><td>[ , 1, 3 ]</td></tr><tr><td>Root</td><td>[ [content, {\r\n",
       "  \"_t\": \"a\",\r\n",
       "  \"_0\": [\r\n",
       "    \"\",\r\n",
       "    1,\r\n",
       "    3\r\n",
       "  ]\r\n",
       "}] ]</td></tr></tbody></table></div></details></td></tr><tr><td>2</td><td><span><a href=\"https://docs.microsoft.com/dotnet/api/system.text.json.nodes.jsonvalueprimitive-1?view=net-7.0\">System.Text.Json.Nodes.JsonValuePrimitive&lt;System.Int32&gt;</a></span></td><td><details class=\"dni-treeview\"><summary><span class=\"dni-code-hint\"><code>3</code></span></summary><div><table><thead><tr></tr></thead><tbody><tr><td>Options</td><td><div class=\"dni-plaintext\"><pre>&lt;null&gt;</pre></div></td></tr><tr><td>Parent</td><td>[ , 1, 3 ]</td></tr><tr><td>Root</td><td>[ [content, {\r\n",
       "  \"_t\": \"a\",\r\n",
       "  \"_0\": [\r\n",
       "    \"\",\r\n",
       "    1,\r\n",
       "    3\r\n",
       "  ]\r\n",
       "}] ]</td></tr></tbody></table></div></details></td></tr></tbody></table></td></tr></tbody></table></div></details></td></tr><tr><td>Root</td><td><table><thead><tr><th><i>key</i></th><th>value</th></tr></thead><tbody><tr><td><div class=\"dni-plaintext\"><pre>content</pre></div></td><td><table><thead><tr><th><i>key</i></th><th><i>type</i></th><th>value</th></tr></thead><tbody><tr><td><div class=\"dni-plaintext\"><pre>_t</pre></div></td><td>System.Text.Json.Nodes.JsonValuePrimitive`1[System.String]</td><td>a</td></tr><tr><td><div class=\"dni-plaintext\"><pre>_0</pre></div></td><td>System.Text.Json.Nodes.JsonArray</td><td>[ , 1, 3 ]</td></tr></tbody></table></td></tr></tbody></table></td></tr></tbody></table></div></details></td></tr><tr><td>1</td><td><span><a href=\"https://docs.microsoft.com/dotnet/api/system.text.json.nodes.jsonvalueprimitive-1?view=net-7.0\">System.Text.Json.Nodes.JsonValuePrimitive&lt;System.Int32&gt;</a></span></td><td><details class=\"dni-treeview\"><summary><span class=\"dni-code-hint\"><code>1</code></span></summary><div><table><thead><tr></tr></thead><tbody><tr><td>Options</td><td><div class=\"dni-plaintext\"><pre>&lt;null&gt;</pre></div></td></tr><tr><td>Parent</td><td><details class=\"dni-treeview\"><summary><span class=\"dni-code-hint\"><code>[ , 1, 3 ]</code></span></summary><div><table><thead><tr></tr></thead><tbody><tr><td>Count</td><td><div class=\"dni-plaintext\"><pre>3</pre></div></td></tr><tr><td>Options</td><td><div class=\"dni-plaintext\"><pre>&lt;null&gt;</pre></div></td></tr><tr><td>Parent</td><td><table><thead><tr><th><i>key</i></th><th><i>type</i></th><th>value</th></tr></thead><tbody><tr><td><div class=\"dni-plaintext\"><pre>_t</pre></div></td><td>System.Text.Json.Nodes.JsonValuePrimitive`1[System.String]</td><td>a</td></tr><tr><td><div class=\"dni-plaintext\"><pre>_0</pre></div></td><td>System.Text.Json.Nodes.JsonArray</td><td>[ , 1, 3 ]</td></tr></tbody></table></td></tr><tr><td>Root</td><td><table><thead><tr><th><i>key</i></th><th>value</th></tr></thead><tbody><tr><td><div class=\"dni-plaintext\"><pre>content</pre></div></td><td>[ [_t, a], [_0, [\r\n",
       "  \"\",\r\n",
       "  1,\r\n",
       "  3\r\n",
       "]] ]</td></tr></tbody></table></td></tr><tr><td><i>(values)</i></td><td><table><thead><tr><th><i>index</i></th><th><i>type</i></th><th>value</th></tr></thead><tbody><tr><td>0</td><td><span><a href=\"https://docs.microsoft.com/dotnet/api/system.text.json.nodes.jsonvalueprimitive-1?view=net-7.0\">System.Text.Json.Nodes.JsonValuePrimitive&lt;System.String&gt;</a></span></td><td><details class=\"dni-treeview\"><summary><span class=\"dni-code-hint\"><code></code></span></summary><div><table><thead><tr></tr></thead><tbody><tr><td>Options</td><td><div class=\"dni-plaintext\"><pre>&lt;null&gt;</pre></div></td></tr><tr><td>Parent</td><td>[ , 1, 3 ]</td></tr><tr><td>Root</td><td>[ [content, {\r\n",
       "  \"_t\": \"a\",\r\n",
       "  \"_0\": [\r\n",
       "    \"\",\r\n",
       "    1,\r\n",
       "    3\r\n",
       "  ]\r\n",
       "}] ]</td></tr></tbody></table></div></details></td></tr><tr><td>1</td><td><span><a href=\"https://docs.microsoft.com/dotnet/api/system.text.json.nodes.jsonvalueprimitive-1?view=net-7.0\">System.Text.Json.Nodes.JsonValuePrimitive&lt;System.Int32&gt;</a></span></td><td><details class=\"dni-treeview\"><summary><span class=\"dni-code-hint\"><code>1</code></span></summary><div><table><thead><tr></tr></thead><tbody><tr><td>Options</td><td><div class=\"dni-plaintext\"><pre>&lt;null&gt;</pre></div></td></tr><tr><td>Parent</td><td>[ , 1, 3 ]</td></tr><tr><td>Root</td><td>[ [content, {\r\n",
       "  \"_t\": \"a\",\r\n",
       "  \"_0\": [\r\n",
       "    \"\",\r\n",
       "    1,\r\n",
       "    3\r\n",
       "  ]\r\n",
       "}] ]</td></tr></tbody></table></div></details></td></tr><tr><td>2</td><td><span><a href=\"https://docs.microsoft.com/dotnet/api/system.text.json.nodes.jsonvalueprimitive-1?view=net-7.0\">System.Text.Json.Nodes.JsonValuePrimitive&lt;System.Int32&gt;</a></span></td><td><details class=\"dni-treeview\"><summary><span class=\"dni-code-hint\"><code>3</code></span></summary><div><table><thead><tr></tr></thead><tbody><tr><td>Options</td><td><div class=\"dni-plaintext\"><pre>&lt;null&gt;</pre></div></td></tr><tr><td>Parent</td><td>[ , 1, 3 ]</td></tr><tr><td>Root</td><td>[ [content, {\r\n",
       "  \"_t\": \"a\",\r\n",
       "  \"_0\": [\r\n",
       "    \"\",\r\n",
       "    1,\r\n",
       "    3\r\n",
       "  ]\r\n",
       "}] ]</td></tr></tbody></table></div></details></td></tr></tbody></table></td></tr></tbody></table></div></details></td></tr><tr><td>Root</td><td><table><thead><tr><th><i>key</i></th><th>value</th></tr></thead><tbody><tr><td><div class=\"dni-plaintext\"><pre>content</pre></div></td><td><table><thead><tr><th><i>key</i></th><th><i>type</i></th><th>value</th></tr></thead><tbody><tr><td><div class=\"dni-plaintext\"><pre>_t</pre></div></td><td>System.Text.Json.Nodes.JsonValuePrimitive`1[System.String]</td><td>a</td></tr><tr><td><div class=\"dni-plaintext\"><pre>_0</pre></div></td><td>System.Text.Json.Nodes.JsonArray</td><td>[ , 1, 3 ]</td></tr></tbody></table></td></tr></tbody></table></td></tr></tbody></table></div></details></td></tr><tr><td>2</td><td><span><a href=\"https://docs.microsoft.com/dotnet/api/system.text.json.nodes.jsonvalueprimitive-1?view=net-7.0\">System.Text.Json.Nodes.JsonValuePrimitive&lt;System.Int32&gt;</a></span></td><td><details class=\"dni-treeview\"><summary><span class=\"dni-code-hint\"><code>3</code></span></summary><div><table><thead><tr></tr></thead><tbody><tr><td>Options</td><td><div class=\"dni-plaintext\"><pre>&lt;null&gt;</pre></div></td></tr><tr><td>Parent</td><td><details class=\"dni-treeview\"><summary><span class=\"dni-code-hint\"><code>[ , 1, 3 ]</code></span></summary><div><table><thead><tr></tr></thead><tbody><tr><td>Count</td><td><div class=\"dni-plaintext\"><pre>3</pre></div></td></tr><tr><td>Options</td><td><div class=\"dni-plaintext\"><pre>&lt;null&gt;</pre></div></td></tr><tr><td>Parent</td><td><table><thead><tr><th><i>key</i></th><th><i>type</i></th><th>value</th></tr></thead><tbody><tr><td><div class=\"dni-plaintext\"><pre>_t</pre></div></td><td>System.Text.Json.Nodes.JsonValuePrimitive`1[System.String]</td><td>a</td></tr><tr><td><div class=\"dni-plaintext\"><pre>_0</pre></div></td><td>System.Text.Json.Nodes.JsonArray</td><td>[ , 1, 3 ]</td></tr></tbody></table></td></tr><tr><td>Root</td><td><table><thead><tr><th><i>key</i></th><th>value</th></tr></thead><tbody><tr><td><div class=\"dni-plaintext\"><pre>content</pre></div></td><td>[ [_t, a], [_0, [\r\n",
       "  \"\",\r\n",
       "  1,\r\n",
       "  3\r\n",
       "]] ]</td></tr></tbody></table></td></tr><tr><td><i>(values)</i></td><td><table><thead><tr><th><i>index</i></th><th><i>type</i></th><th>value</th></tr></thead><tbody><tr><td>0</td><td><span><a href=\"https://docs.microsoft.com/dotnet/api/system.text.json.nodes.jsonvalueprimitive-1?view=net-7.0\">System.Text.Json.Nodes.JsonValuePrimitive&lt;System.String&gt;</a></span></td><td><details class=\"dni-treeview\"><summary><span class=\"dni-code-hint\"><code></code></span></summary><div><table><thead><tr></tr></thead><tbody><tr><td>Options</td><td><div class=\"dni-plaintext\"><pre>&lt;null&gt;</pre></div></td></tr><tr><td>Parent</td><td>[ , 1, 3 ]</td></tr><tr><td>Root</td><td>[ [content, {\r\n",
       "  \"_t\": \"a\",\r\n",
       "  \"_0\": [\r\n",
       "    \"\",\r\n",
       "    1,\r\n",
       "    3\r\n",
       "  ]\r\n",
       "}] ]</td></tr></tbody></table></div></details></td></tr><tr><td>1</td><td><span><a href=\"https://docs.microsoft.com/dotnet/api/system.text.json.nodes.jsonvalueprimitive-1?view=net-7.0\">System.Text.Json.Nodes.JsonValuePrimitive&lt;System.Int32&gt;</a></span></td><td><details class=\"dni-treeview\"><summary><span class=\"dni-code-hint\"><code>1</code></span></summary><div><table><thead><tr></tr></thead><tbody><tr><td>Options</td><td><div class=\"dni-plaintext\"><pre>&lt;null&gt;</pre></div></td></tr><tr><td>Parent</td><td>[ , 1, 3 ]</td></tr><tr><td>Root</td><td>[ [content, {\r\n",
       "  \"_t\": \"a\",\r\n",
       "  \"_0\": [\r\n",
       "    \"\",\r\n",
       "    1,\r\n",
       "    3\r\n",
       "  ]\r\n",
       "}] ]</td></tr></tbody></table></div></details></td></tr><tr><td>2</td><td><span><a href=\"https://docs.microsoft.com/dotnet/api/system.text.json.nodes.jsonvalueprimitive-1?view=net-7.0\">System.Text.Json.Nodes.JsonValuePrimitive&lt;System.Int32&gt;</a></span></td><td><details class=\"dni-treeview\"><summary><span class=\"dni-code-hint\"><code>3</code></span></summary><div><table><thead><tr></tr></thead><tbody><tr><td>Options</td><td><div class=\"dni-plaintext\"><pre>&lt;null&gt;</pre></div></td></tr><tr><td>Parent</td><td>[ , 1, 3 ]</td></tr><tr><td>Root</td><td>[ [content, {\r\n",
       "  \"_t\": \"a\",\r\n",
       "  \"_0\": [\r\n",
       "    \"\",\r\n",
       "    1,\r\n",
       "    3\r\n",
       "  ]\r\n",
       "}] ]</td></tr></tbody></table></div></details></td></tr></tbody></table></td></tr></tbody></table></div></details></td></tr><tr><td>Root</td><td><table><thead><tr><th><i>key</i></th><th>value</th></tr></thead><tbody><tr><td><div class=\"dni-plaintext\"><pre>content</pre></div></td><td><table><thead><tr><th><i>key</i></th><th><i>type</i></th><th>value</th></tr></thead><tbody><tr><td><div class=\"dni-plaintext\"><pre>_t</pre></div></td><td>System.Text.Json.Nodes.JsonValuePrimitive`1[System.String]</td><td>a</td></tr><tr><td><div class=\"dni-plaintext\"><pre>_0</pre></div></td><td>System.Text.Json.Nodes.JsonArray</td><td>[ , 1, 3 ]</td></tr></tbody></table></td></tr></tbody></table></td></tr></tbody></table></div></details></td></tr></tbody></table></td></tr></tbody></table></div></details></td></tr></tbody></table></td></tr></tbody></table><style>\r\n",
       ".dni-code-hint {\r\n",
       "    font-style: italic;\r\n",
       "    overflow: hidden;\r\n",
       "    white-space: nowrap;\r\n",
       "}\r\n",
       ".dni-treeview {\r\n",
       "    white-space: nowrap;\r\n",
       "}\r\n",
       ".dni-treeview td {\r\n",
       "    vertical-align: top;\r\n",
       "    text-align: start;\r\n",
       "}\r\n",
       "details.dni-treeview {\r\n",
       "    padding-left: 1em;\r\n",
       "}\r\n",
       "table td {\r\n",
       "    text-align: start;\r\n",
       "}\r\n",
       "table tr { \r\n",
       "    vertical-align: top; \r\n",
       "    margin: 0em 0px;\r\n",
       "}\r\n",
       "table tr td pre \r\n",
       "{ \r\n",
       "    vertical-align: top !important; \r\n",
       "    margin: 0em 0px !important;\r\n",
       "} \r\n",
       "table th {\r\n",
       "    text-align: start;\r\n",
       "}\r\n",
       "</style>"
      ]
     },
     "metadata": {},
     "output_type": "display_data"
    }
   ],
   "source": [
    "#!csharp\n",
    "\n",
    "using System.Text.Json.JsonDiffPatch;\n",
    "\n",
    "doc2.Diff(doc1, new JsonDiffOptions\n",
    "{\n",
    "    ArrayObjectItemMatchByPosition = false\n",
    "})"
   ]
  }
 ],
 "metadata": {
  "kernelspec": {
   "display_name": ".NET (C#)",
   "language": "C#",
   "name": ".net-csharp"
  },
  "language_info": {
   "name": "csharp"
  },
  "polyglot_notebook": {
   "kernelInfo": {
    "defaultKernelName": "csharp",
    "items": [
     {
      "aliases": [],
      "name": "csharp"
     }
    ]
   }
  }
 },
 "nbformat": 4,
 "nbformat_minor": 5
}
