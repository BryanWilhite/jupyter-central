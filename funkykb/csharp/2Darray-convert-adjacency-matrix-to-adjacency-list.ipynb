{
 "metadata": {
  "language_info": {
   "codemirror_mode": {
    "name": "ipython",
    "version": 3
   },
   "file_extension": ".py",
   "mimetype": "text/x-python",
   "name": "python",
   "nbconvert_exporter": "python",
   "pygments_lexer": "ipython3",
   "version": "3.7.6-final"
  },
  "orig_nbformat": 2,
  "kernelspec": {
   "name": ".net-csharp",
   "display_name": ".NET (C#)"
  }
 },
 "nbformat": 4,
 "nbformat_minor": 2,
 "cells": [
  {
   "cell_type": "markdown",
   "metadata": {},
   "source": [
    "# C#: 2D array—convert adjacency matrix to adjacency list\n",
    "\n",
    "This tree structure can be translated to an adjacency matrix:\n",
    "\n",
    "```plaintext\n",
    "      A\n",
    "     / \\\n",
    "    B   C\n",
    "         \\\n",
    "          D\n",
    "```"
   ]
  },
  {
   "cell_type": "code",
   "execution_count": 11,
   "metadata": {
    "tags": []
   },
   "outputs": [
    {
     "output_type": "stream",
     "name": "stdout",
     "text": "\n\nreport: adjacencyMatrix\n\n  A B C D\nA 0 1 1 0\nB 1 0 0 0\nC 1 0 0 1\nD 0 0 1 0\n\n\n"
    }
   ],
   "source": [
    "\n",
    "int[,] adjacencyMatrix = new int[,]\n",
    "{\n",
    "    { 0, 1, 1, 0 },\n",
    "    { 1, 0, 0, 0 },\n",
    "    { 1, 0, 0, 1 },\n",
    "    { 0, 0, 1, 0 },\n",
    "};\n",
    "\n",
    "string[] matrixLabels = new[] { \"A\", \"B\", \"C\", \"D\" };\n",
    "\n",
    "KeyValuePair<string, string[]>[] adjacencyList = matrixLabels\n",
    "    .Select(label => new KeyValuePair<string, string[]>(label, new string[0]))\n",
    "    .ToArray();\n",
    "\n",
    "var columnUpperBound = adjacencyMatrix.GetUpperBound(1);\n",
    "var columnIndex = 0;\n",
    "var rowIndex = 0;\n",
    "\n",
    "//report header:\n",
    "var sb = new StringBuilder(\"  \");\n",
    "sb.AppendLine(matrixLabels.Aggregate((a, i) => $\"{a} {i}\"));\n",
    "\n",
    "foreach (var element in adjacencyMatrix)\n",
    "{\n",
    "    if (adjacencyMatrix[rowIndex, columnIndex] == 1)\n",
    "    {\n",
    "        var label = matrixLabels[columnIndex];\n",
    "        var appended = adjacencyList[rowIndex].Value.Union(new[] { label });\n",
    "        adjacencyList[rowIndex] = new KeyValuePair<string, string[]>(\n",
    "                adjacencyList[rowIndex].Key,\n",
    "                appended.ToArray()\n",
    "            );\n",
    "    }\n",
    "\n",
    "    //report body:\n",
    "    var isAtBeginningOfColumn = (columnIndex == 0);\n",
    "    var isAtEndOfColumn = (columnIndex > 0) && (columnIndex % columnUpperBound == 0);\n",
    "\n",
    "    if (isAtBeginningOfColumn)\n",
    "    {\n",
    "        sb.Append($\"{matrixLabels[rowIndex]} \");\n",
    "    }\n",
    "\n",
    "    if (isAtEndOfColumn)\n",
    "    {\n",
    "        sb.AppendLine($\"{element}\");\n",
    "\n",
    "        columnIndex = 0;\n",
    "        rowIndex++;\n",
    "    }\n",
    "    else\n",
    "    {\n",
    "        sb.Append($\"{element} \");\n",
    "        columnIndex++;\n",
    "    }\n",
    "}\n",
    "\n",
    "Console.WriteLine($@\"\n",
    "\n",
    "report: {nameof(adjacencyMatrix)}\n",
    "\n",
    "{sb}\n",
    "\");\n",
    "\n",
    "// adjacencyList.Dump(nameof(adjacencyList));"
   ]
  }
 ]
}