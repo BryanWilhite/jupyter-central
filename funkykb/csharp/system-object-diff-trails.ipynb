{
 "cells": [
  {
   "cell_type": "markdown",
   "metadata": {},
   "source": [
    "# `System.Object` ‘diff trails’\n",
    "\n",
    "Libraries like `ObjDiff` [[GitHub](https://github.com/igece/ObjDiff)] produce ‘diff trails’: the value of `Difference<T>.Path` is a _trail_ to the _difference_ between two child objects nested in collections. We can further explain what a ‘diff trail’ is by starting with two simple classes:"
   ]
  },
  {
   "cell_type": "code",
   "execution_count": 1,
   "metadata": {
    "dotnet_interactive": {
     "language": "csharp"
    },
    "polyglot_notebook": {
     "kernelName": "csharp"
    },
    "vscode": {
     "languageId": "polyglot-notebook"
    }
   },
   "outputs": [],
   "source": [
    "public class MyTypeOne\n",
    "{\n",
    "    public int Id { get; set; }\n",
    "    public string Caption { get; set; }\n",
    "    public ICollection<MyTypeTwo> OneCollection { get; set; } = new List<MyTypeTwo>();\n",
    "}\n",
    "\n",
    "public class MyTypeTwo\n",
    "{\n",
    "    public int Id { get; set; }\n",
    "    public string ReferenceName { get; set; }\n",
    "    public DateTime TimeStamp { get; set; } = DateTime.Now;\n",
    "    public ICollection<MyTypeTwo> TwoCollection { get; set; } = new List<MyTypeTwo>();\n",
    "}"
   ]
  },
  {
   "cell_type": "markdown",
   "metadata": {},
   "source": [
    "## contriving `data`\n",
    "\n",
    "We can contrive a situation where an object is nested in a collection like our `data` below:"
   ]
  },
  {
   "cell_type": "code",
   "execution_count": 2,
   "metadata": {
    "dotnet_interactive": {
     "language": "csharp"
    },
    "polyglot_notebook": {
     "kernelName": "csharp"
    },
    "vscode": {
     "languageId": "polyglot-notebook"
    }
   },
   "outputs": [],
   "source": [
    "var data = new MyTypeOne\n",
    "{\n",
    "    Id = 1,\n",
    "    Caption = \"my data\",\n",
    "    OneCollection = new List<MyTypeTwo>\n",
    "    {\n",
    "        new MyTypeTwo\n",
    "        {\n",
    "            Id = 10,\n",
    "            ReferenceName = \"L1\",\n",
    "        },\n",
    "        new MyTypeTwo\n",
    "        {\n",
    "            Id = 20,\n",
    "            ReferenceName = \"L1\",\n",
    "            TwoCollection = new List<MyTypeTwo>\n",
    "            {\n",
    "                new MyTypeTwo\n",
    "                {\n",
    "                    Id = 11,\n",
    "                    ReferenceName = \"L11\",\n",
    "                },\n",
    "                new MyTypeTwo\n",
    "                {\n",
    "                    Id = 12,\n",
    "                    ReferenceName = \"L12\",\n",
    "                },\n",
    "                new MyTypeTwo\n",
    "                {\n",
    "                    Id = 13,\n",
    "                    ReferenceName = \"L13\",\n",
    "                },\n",
    "                new MyTypeTwo\n",
    "                {\n",
    "                    Id = 14,\n",
    "                    ReferenceName = \"L14\",\n",
    "                },\n",
    "                new MyTypeTwo\n",
    "                {\n",
    "                    Id = 15,\n",
    "                    ReferenceName = \"L15\",\n",
    "                    TwoCollection = new List<MyTypeTwo>\n",
    "                    {\n",
    "                        new MyTypeTwo\n",
    "                        {\n",
    "                            Id = 151,\n",
    "                            ReferenceName = \"L151\"\n",
    "                        }\n",
    "                    },\n",
    "                },\n",
    "            },\n",
    "        },\n",
    "    }\n",
    "};"
   ]
  },
  {
   "cell_type": "markdown",
   "metadata": {},
   "source": [
    "## a ‘trail’ to our data\n",
    "\n",
    "We can mimic what might show up in `Difference<T>.Path` (from `ObjDiff` [[GitHub](https://github.com/igece/ObjDiff)]) by setting a variable we call `trail`:"
   ]
  },
  {
   "cell_type": "code",
   "execution_count": 3,
   "metadata": {
    "dotnet_interactive": {
     "language": "csharp"
    },
    "polyglot_notebook": {
     "kernelName": "csharp"
    },
    "vscode": {
     "languageId": "polyglot-notebook"
    }
   },
   "outputs": [],
   "source": [
    "string trail = \"OneCollection[1].TwoCollection[4].TwoCollection[0].ReferenceName\";"
   ]
  },
  {
   "cell_type": "markdown",
   "metadata": {},
   "source": [
    "What we want to do is break up this trail into `segments` and turn each segment of this trail into the object it represents in our `data`. We can do this by noticing that a trail segment is delimited by `.`:"
   ]
  },
  {
   "cell_type": "code",
   "execution_count": 4,
   "metadata": {
    "dotnet_interactive": {
     "language": "csharp"
    },
    "polyglot_notebook": {
     "kernelName": "csharp"
    },
    "vscode": {
     "languageId": "polyglot-notebook"
    }
   },
   "outputs": [
    {
     "data": {
      "text/html": [
       "<div class=\"dni-plaintext\"><pre>[ OneCollection[1], TwoCollection[4], TwoCollection[0], ReferenceName ]</pre></div><style>\r\n",
       ".dni-code-hint {\r\n",
       "    font-style: italic;\r\n",
       "    overflow: hidden;\r\n",
       "    white-space: nowrap;\r\n",
       "}\r\n",
       ".dni-treeview {\r\n",
       "    white-space: nowrap;\r\n",
       "}\r\n",
       ".dni-treeview td {\r\n",
       "    vertical-align: top;\r\n",
       "    text-align: start;\r\n",
       "}\r\n",
       "details.dni-treeview {\r\n",
       "    padding-left: 1em;\r\n",
       "}\r\n",
       "table td {\r\n",
       "    text-align: start;\r\n",
       "}\r\n",
       "table tr { \r\n",
       "    vertical-align: top; \r\n",
       "    margin: 0em 0px;\r\n",
       "}\r\n",
       "table tr td pre \r\n",
       "{ \r\n",
       "    vertical-align: top !important; \r\n",
       "    margin: 0em 0px !important;\r\n",
       "} \r\n",
       "table th {\r\n",
       "    text-align: start;\r\n",
       "}\r\n",
       "</style>"
      ]
     },
     "metadata": {},
     "output_type": "display_data"
    }
   ],
   "source": [
    "string[] segments = trail.Split('.');\n",
    "\n",
    "segments"
   ]
  },
  {
   "cell_type": "markdown",
   "metadata": {},
   "source": [
    "## breaking down a segment representing a collection\n",
    "\n",
    "The first segment on our trail is `OneCollection[1]` as shown above. This segment has two important bits of information:\n",
    "\n",
    "1. the collection name in our `data`\n",
    "2. the index in the collection where our segment object is located\n",
    "\n",
    "The method,`GetTrailSegmentPair`, should break out these bits into a tuple:"
   ]
  },
  {
   "cell_type": "code",
   "execution_count": 5,
   "metadata": {
    "dotnet_interactive": {
     "language": "csharp"
    },
    "polyglot_notebook": {
     "kernelName": "csharp"
    },
    "vscode": {
     "languageId": "polyglot-notebook"
    }
   },
   "outputs": [],
   "source": [
    "using System.Text.RegularExpressions;\n",
    "\n",
    "public static (string collectionName, int collectionIndex)? GetTrailSegmentPair(string segment)\n",
    "{\n",
    "    if(string.IsNullOrWhiteSpace(segment)) return null;\n",
    "\n",
    "    if(!segment.EndsWith(']')) return null;\n",
    "\n",
    "    var match = Regex.Match(segment, @\"([^\\[\\]]+)\\[(\\d+)\\]\");\n",
    "\n",
    "    if (!match.Success)\n",
    "    {\n",
    "        return null;\n",
    "    }\n",
    "\n",
    "    if (match.Groups.Count != 3)\n",
    "    {\n",
    "        return null;\n",
    "    }\n",
    "\n",
    "    string collectionName = match.Groups[1].Value;\n",
    "\n",
    "    if (!int.TryParse(match.Groups[2].Value, out int collectionIndex))\n",
    "    {\n",
    "        return null;\n",
    "    }\n",
    "\n",
    "    return (collectionName, collectionIndex);\n",
    "}"
   ]
  },
  {
   "cell_type": "markdown",
   "metadata": {},
   "source": [
    "## getting the trail objects with a `Queue<string>`\n",
    "\n",
    "We can use our `GetTrailSegmentPair` with a method we call `GetObjectsFromTrail<TData>` that uses a `Queue<string>` that can be recursively passed after a specified segment is processed and dequeued:"
   ]
  },
  {
   "cell_type": "code",
   "execution_count": 6,
   "metadata": {
    "dotnet_interactive": {
     "language": "csharp"
    },
    "polyglot_notebook": {
     "kernelName": "csharp"
    },
    "vscode": {
     "languageId": "polyglot-notebook"
    }
   },
   "outputs": [],
   "source": [
    "public IReadOnlyCollection<object> GetObjectsFromTrail<TData>(TData data, Queue<string> trailSegments)\n",
    "{\n",
    "    string segment = trailSegments.Peek();\n",
    "\n",
    "    var pair = GetTrailSegmentPair(segment);\n",
    "\n",
    "    if(pair == null) return Array.Empty<object>();\n",
    "\n",
    "    trailSegments.Dequeue();\n",
    "\n",
    "    var (collectionName, collectionIndex) = pair.Value;\n",
    "\n",
    "    string typeName = typeof(TData).Name;\n",
    "\n",
    "    List<object> objects = new();\n",
    "\n",
    "    switch(typeName)\n",
    "    {\n",
    "        case nameof(MyTypeOne):\n",
    "            MyTypeOne mtOne = data as MyTypeOne;\n",
    "            if(mtOne == null)\n",
    "            {\n",
    "                return Array.Empty<object>();\n",
    "            }\n",
    "\n",
    "            switch(collectionName)\n",
    "            {\n",
    "                case nameof(MyTypeOne.OneCollection):\n",
    "                    {\n",
    "                        var target = mtOne.OneCollection.ElementAtOrDefault(collectionIndex);\n",
    "                        if(target == null)\n",
    "                        {\n",
    "                            return Array.Empty<object>();\n",
    "                        }\n",
    "\n",
    "                        objects.Add(target);\n",
    "\n",
    "                        objects.AddRange(GetObjectsFromTrail(target, trailSegments));\n",
    "\n",
    "                        break;\n",
    "                    }\n",
    "            }\n",
    "\n",
    "            break;\n",
    "\n",
    "        case nameof(MyTypeTwo):\n",
    "            MyTypeTwo mtTwo = data as MyTypeTwo;\n",
    "            if(mtTwo == null)\n",
    "            {\n",
    "                return Array.Empty<object>();\n",
    "            }\n",
    "\n",
    "            switch(collectionName)\n",
    "            {\n",
    "                case nameof(MyTypeTwo.TwoCollection):\n",
    "                    {\n",
    "                        var target = mtTwo.TwoCollection.ElementAtOrDefault(collectionIndex);\n",
    "                        if(target == null)\n",
    "                        {\n",
    "                            return Array.Empty<object>();\n",
    "                        }\n",
    "\n",
    "                        objects.Add(target);\n",
    "\n",
    "                        objects.AddRange(GetObjectsFromTrail(target, trailSegments));\n",
    "\n",
    "                        break;\n",
    "                    }\n",
    "            }\n",
    "\n",
    "            break;\n",
    "    }\n",
    "\n",
    "    return objects;\n",
    "}"
   ]
  },
  {
   "cell_type": "markdown",
   "metadata": {},
   "source": [
    "Some highlights for `GetObjectsFromTrail<TData>`:\n",
    "\n",
    "- when `GetTrailSegmentPair` returns `null`, this means the current `segment` does not represent an object in a collection\n",
    "- `trailSegments` calls `Dequeue` _before_ recursion with a `target` object"
   ]
  },
  {
   "cell_type": "markdown",
   "metadata": {},
   "source": [
    "## using `GetObjectsFromTrail<TData>`\n",
    "\n",
    "With `GetObjectsFromTrail<TData>` in place, we can return a collection of objects for every segment on the trail that represents an object in a collection:"
   ]
  },
  {
   "cell_type": "code",
   "execution_count": 7,
   "metadata": {
    "dotnet_interactive": {
     "language": "csharp"
    },
    "polyglot_notebook": {
     "kernelName": "csharp"
    },
    "vscode": {
     "languageId": "polyglot-notebook"
    }
   },
   "outputs": [
    {
     "data": {
      "text/html": [
       "<table><thead><tr><th><i>index</i></th><th>value</th></tr></thead><tbody><tr><td>0</td><td><details class=\"dni-treeview\"><summary><span class=\"dni-code-hint\"><code>Submission#2+MyTypeTwo</code></span></summary><div><table><thead><tr></tr></thead><tbody><tr><td>Id</td><td><div class=\"dni-plaintext\"><pre>20</pre></div></td></tr><tr><td>ReferenceName</td><td><div class=\"dni-plaintext\"><pre>L1</pre></div></td></tr><tr><td>TimeStamp</td><td><span>2024-10-28 21:21:49Z</span></td></tr><tr><td>TwoCollection</td><td><table><thead><tr><th><i>index</i></th><th>value</th></tr></thead><tbody><tr><td>0</td><td><details class=\"dni-treeview\"><summary><span class=\"dni-code-hint\"><code>Submission#2+MyTypeTwo</code></span></summary><div><table><thead><tr></tr></thead><tbody><tr><td>Id</td><td><div class=\"dni-plaintext\"><pre>11</pre></div></td></tr><tr><td>ReferenceName</td><td><div class=\"dni-plaintext\"><pre>L11</pre></div></td></tr><tr><td>TimeStamp</td><td><span>2024-10-28 21:21:49Z</span></td></tr><tr><td>TwoCollection</td><td><i>(empty)</i></td></tr></tbody></table></div></details></td></tr><tr><td>1</td><td><details class=\"dni-treeview\"><summary><span class=\"dni-code-hint\"><code>Submission#2+MyTypeTwo</code></span></summary><div><table><thead><tr></tr></thead><tbody><tr><td>Id</td><td><div class=\"dni-plaintext\"><pre>12</pre></div></td></tr><tr><td>ReferenceName</td><td><div class=\"dni-plaintext\"><pre>L12</pre></div></td></tr><tr><td>TimeStamp</td><td><span>2024-10-28 21:21:49Z</span></td></tr><tr><td>TwoCollection</td><td><i>(empty)</i></td></tr></tbody></table></div></details></td></tr><tr><td>2</td><td><details class=\"dni-treeview\"><summary><span class=\"dni-code-hint\"><code>Submission#2+MyTypeTwo</code></span></summary><div><table><thead><tr></tr></thead><tbody><tr><td>Id</td><td><div class=\"dni-plaintext\"><pre>13</pre></div></td></tr><tr><td>ReferenceName</td><td><div class=\"dni-plaintext\"><pre>L13</pre></div></td></tr><tr><td>TimeStamp</td><td><span>2024-10-28 21:21:49Z</span></td></tr><tr><td>TwoCollection</td><td><i>(empty)</i></td></tr></tbody></table></div></details></td></tr><tr><td>3</td><td><details class=\"dni-treeview\"><summary><span class=\"dni-code-hint\"><code>Submission#2+MyTypeTwo</code></span></summary><div><table><thead><tr></tr></thead><tbody><tr><td>Id</td><td><div class=\"dni-plaintext\"><pre>14</pre></div></td></tr><tr><td>ReferenceName</td><td><div class=\"dni-plaintext\"><pre>L14</pre></div></td></tr><tr><td>TimeStamp</td><td><span>2024-10-28 21:21:49Z</span></td></tr><tr><td>TwoCollection</td><td><i>(empty)</i></td></tr></tbody></table></div></details></td></tr><tr><td>4</td><td><details class=\"dni-treeview\"><summary><span class=\"dni-code-hint\"><code>Submission#2+MyTypeTwo</code></span></summary><div><table><thead><tr></tr></thead><tbody><tr><td>Id</td><td><div class=\"dni-plaintext\"><pre>15</pre></div></td></tr><tr><td>ReferenceName</td><td><div class=\"dni-plaintext\"><pre>L15</pre></div></td></tr><tr><td>TimeStamp</td><td><span>2024-10-28 21:21:49Z</span></td></tr><tr><td>TwoCollection</td><td><table><thead><tr><th><i>index</i></th><th>value</th></tr></thead><tbody><tr><td>0</td><td><details class=\"dni-treeview\"><summary><span class=\"dni-code-hint\"><code>Submission#2+MyTypeTwo</code></span></summary><div><table><thead><tr></tr></thead><tbody><tr><td>Id</td><td>151</td></tr><tr><td>ReferenceName</td><td>L151</td></tr><tr><td>TimeStamp</td><td>10/28/2024 9:21:49 PM</td></tr><tr><td>TwoCollection</td><td>[  ]</td></tr></tbody></table></div></details></td></tr></tbody></table></td></tr></tbody></table></div></details></td></tr></tbody></table></td></tr></tbody></table></div></details></td></tr><tr><td>1</td><td><details class=\"dni-treeview\"><summary><span class=\"dni-code-hint\"><code>Submission#2+MyTypeTwo</code></span></summary><div><table><thead><tr></tr></thead><tbody><tr><td>Id</td><td><div class=\"dni-plaintext\"><pre>15</pre></div></td></tr><tr><td>ReferenceName</td><td><div class=\"dni-plaintext\"><pre>L15</pre></div></td></tr><tr><td>TimeStamp</td><td><span>2024-10-28 21:21:49Z</span></td></tr><tr><td>TwoCollection</td><td><table><thead><tr><th><i>index</i></th><th>value</th></tr></thead><tbody><tr><td>0</td><td><details class=\"dni-treeview\"><summary><span class=\"dni-code-hint\"><code>Submission#2+MyTypeTwo</code></span></summary><div><table><thead><tr></tr></thead><tbody><tr><td>Id</td><td><div class=\"dni-plaintext\"><pre>151</pre></div></td></tr><tr><td>ReferenceName</td><td><div class=\"dni-plaintext\"><pre>L151</pre></div></td></tr><tr><td>TimeStamp</td><td><span>2024-10-28 21:21:49Z</span></td></tr><tr><td>TwoCollection</td><td><i>(empty)</i></td></tr></tbody></table></div></details></td></tr></tbody></table></td></tr></tbody></table></div></details></td></tr><tr><td>2</td><td><details class=\"dni-treeview\"><summary><span class=\"dni-code-hint\"><code>Submission#2+MyTypeTwo</code></span></summary><div><table><thead><tr></tr></thead><tbody><tr><td>Id</td><td><div class=\"dni-plaintext\"><pre>151</pre></div></td></tr><tr><td>ReferenceName</td><td><div class=\"dni-plaintext\"><pre>L151</pre></div></td></tr><tr><td>TimeStamp</td><td><span>2024-10-28 21:21:49Z</span></td></tr><tr><td>TwoCollection</td><td><i>(empty)</i></td></tr></tbody></table></div></details></td></tr></tbody></table><style>\r\n",
       ".dni-code-hint {\r\n",
       "    font-style: italic;\r\n",
       "    overflow: hidden;\r\n",
       "    white-space: nowrap;\r\n",
       "}\r\n",
       ".dni-treeview {\r\n",
       "    white-space: nowrap;\r\n",
       "}\r\n",
       ".dni-treeview td {\r\n",
       "    vertical-align: top;\r\n",
       "    text-align: start;\r\n",
       "}\r\n",
       "details.dni-treeview {\r\n",
       "    padding-left: 1em;\r\n",
       "}\r\n",
       "table td {\r\n",
       "    text-align: start;\r\n",
       "}\r\n",
       "table tr { \r\n",
       "    vertical-align: top; \r\n",
       "    margin: 0em 0px;\r\n",
       "}\r\n",
       "table tr td pre \r\n",
       "{ \r\n",
       "    vertical-align: top !important; \r\n",
       "    margin: 0em 0px !important;\r\n",
       "} \r\n",
       "table th {\r\n",
       "    text-align: start;\r\n",
       "}\r\n",
       "</style>"
      ]
     },
     "metadata": {},
     "output_type": "display_data"
    }
   ],
   "source": [
    "var segmentsQueue = new Queue<string>(segments);\n",
    "\n",
    "GetObjectsFromTrail(data, segmentsQueue)"
   ]
  },
  {
   "cell_type": "markdown",
   "metadata": {},
   "source": [
    "By reference, we notice there is one element left in the `segmentsQueue` because it does _not_ represent an object in a collection:"
   ]
  },
  {
   "cell_type": "code",
   "execution_count": 8,
   "metadata": {
    "dotnet_interactive": {
     "language": "csharp"
    },
    "polyglot_notebook": {
     "kernelName": "csharp"
    },
    "vscode": {
     "languageId": "polyglot-notebook"
    }
   },
   "outputs": [
    {
     "data": {
      "text/html": [
       "<div class=\"dni-plaintext\"><pre>[ ReferenceName ]</pre></div><style>\r\n",
       ".dni-code-hint {\r\n",
       "    font-style: italic;\r\n",
       "    overflow: hidden;\r\n",
       "    white-space: nowrap;\r\n",
       "}\r\n",
       ".dni-treeview {\r\n",
       "    white-space: nowrap;\r\n",
       "}\r\n",
       ".dni-treeview td {\r\n",
       "    vertical-align: top;\r\n",
       "    text-align: start;\r\n",
       "}\r\n",
       "details.dni-treeview {\r\n",
       "    padding-left: 1em;\r\n",
       "}\r\n",
       "table td {\r\n",
       "    text-align: start;\r\n",
       "}\r\n",
       "table tr { \r\n",
       "    vertical-align: top; \r\n",
       "    margin: 0em 0px;\r\n",
       "}\r\n",
       "table tr td pre \r\n",
       "{ \r\n",
       "    vertical-align: top !important; \r\n",
       "    margin: 0em 0px !important;\r\n",
       "} \r\n",
       "table th {\r\n",
       "    text-align: start;\r\n",
       "}\r\n",
       "</style>"
      ]
     },
     "metadata": {},
     "output_type": "display_data"
    }
   ],
   "source": [
    "\n",
    "segmentsQueue"
   ]
  },
  {
   "cell_type": "markdown",
   "metadata": {},
   "source": [
    "## <!-- -->\n",
    "\n",
    "[Bryan Wilhite is on LinkedIn](https://www.linkedin.com/in/wilhite)🇺🇸💼"
   ]
  }
 ],
 "metadata": {
  "kernelspec": {
   "display_name": ".NET (C#)",
   "language": "C#",
   "name": ".net-csharp"
  },
  "language_info": {
   "name": "python"
  },
  "polyglot_notebook": {
   "kernelInfo": {
    "defaultKernelName": "csharp",
    "items": [
     {
      "aliases": [],
      "name": "csharp"
     }
    ]
   }
  }
 },
 "nbformat": 4,
 "nbformat_minor": 2
}
