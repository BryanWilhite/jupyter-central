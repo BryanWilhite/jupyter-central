{
 "cells": [
  {
   "cell_type": "markdown",
   "metadata": {},
   "source": [
    "# `System.Collections.Generic.Dictionary<TKey, TValue>` and Javascript’s `Map`\n",
    "\n",
    "Without ado, here is the punchline:\n",
    "\n",
    ">You can translate from a C♯ `Dictionary<TKey, TValue>` to a Javascript `Map` [📖 [docs](https://developer.mozilla.org/en-US/docs/Web/JavaScript/Reference/Global_Objects/Map)] via the `Object.entries` method [📖 [docs](https://developer.mozilla.org/en-US/docs/Web/JavaScript/Reference/Global_Objects/Object/entries)].\n",
    "\n",
    "The statement above becomes important when you are faced with passing an instance of `Dictionary<TKey, TValue>` from an ASP.NET server to a JavaScript client. Let us start with a dictionary:"
   ]
  },
  {
   "cell_type": "code",
   "execution_count": 1,
   "metadata": {
    "dotnet_interactive": {
     "language": "csharp"
    },
    "polyglot_notebook": {
     "kernelName": "csharp"
    },
    "vscode": {
     "languageId": "polyglot-notebook"
    }
   },
   "outputs": [],
   "source": [
    "var data = new Dictionary<string, string>\n",
    "{\n",
    "    {\"key-one\", \"hello,42.3,2023-10-08T04:54:48Z\"},\n",
    "    {\"key-two\", \"greetings,77.07,2023-10-13T02:39:42Z\"},\n",
    "    {\"key-three\", \"ohayo,1024,2023-06-26T23:45:01Z\"},\n",
    "};"
   ]
  },
  {
   "cell_type": "markdown",
   "metadata": {},
   "source": [
    "The Microsoft defaults will serialize this `data` into the following:"
   ]
  },
  {
   "cell_type": "code",
   "execution_count": 2,
   "metadata": {
    "dotnet_interactive": {
     "language": "csharp"
    },
    "polyglot_notebook": {
     "kernelName": "csharp"
    },
    "vscode": {
     "languageId": "polyglot-notebook"
    }
   },
   "outputs": [
    {
     "data": {
      "text/plain": [
       "{\n",
       "  \"key-one\": \"hello,42.3,2023-10-08T04:54:48Z\",\n",
       "  \"key-two\": \"greetings,77.07,2023-10-13T02:39:42Z\",\n",
       "  \"key-three\": \"ohayo,1024,2023-06-26T23:45:01Z\"\n",
       "}"
      ]
     },
     "metadata": {},
     "output_type": "display_data"
    }
   ],
   "source": [
    "using System.Text.Json;\n",
    "\n",
    "JsonSerializer.Serialize(data, new JsonSerializerOptions { WriteIndented = true })"
   ]
  },
  {
   "cell_type": "markdown",
   "metadata": {},
   "source": [
    "In the world of JavaScript, the JSON above parses into an object with weird property names:"
   ]
  },
  {
   "cell_type": "code",
   "execution_count": 3,
   "metadata": {
    "dotnet_interactive": {
     "language": "javascript"
    },
    "polyglot_notebook": {
     "kernelName": "javascript"
    },
    "vscode": {
     "languageId": "polyglot-notebook"
    }
   },
   "outputs": [
    {
     "data": {
      "application/json": {
       "key-one": "hello,42.3,2023-10-08T04:54:48Z",
       "key-three": "ohayo,1024,2023-06-26T23:45:01Z",
       "key-two": "greetings,77.07,2023-10-13T02:39:42Z"
      }
     },
     "metadata": {},
     "output_type": "display_data"
    },
    {
     "data": {
      "text/plain": [
       "greetings,77.07,2023-10-13T02:39:42Z"
      ]
     },
     "metadata": {},
     "output_type": "display_data"
    }
   ],
   "source": [
    "#!javascript\n",
    "\n",
    "const json = `\n",
    "{\n",
    "    \"key-one\": \"hello,42.3,2023-10-08T04:54:48Z\",\n",
    "    \"key-two\": \"greetings,77.07,2023-10-13T02:39:42Z\",\n",
    "    \"key-three\": \"ohayo,1024,2023-06-26T23:45:01Z\"\n",
    "}`;\n",
    "\n",
    "const o = JSON.parse(json);\n",
    "\n",
    "console.log(o);\n",
    "\n",
    "console.log(o['key-two'])"
   ]
  },
  {
   "cell_type": "markdown",
   "metadata": {},
   "source": [
    "We can see that properties are so weird they cannot be access like this: `o.key-two`."
   ]
  },
  {
   "cell_type": "markdown",
   "metadata": {},
   "source": [
    "## turning our JavaScript object into a JavaScript `Map`\n",
    "\n",
    "We may tempted to try to survive in the wilds of JavaScript with our object above, `o`, in spite of its weird property names. But when we ask an innocent newbie question like, “Is there a Javascript equivalent of the .NET Dictionary?” We realize, yes, there is the `Map` [📖 [docs](https://developer.mozilla.org/en-US/docs/Web/JavaScript/Reference/Global_Objects/Map)]. The next newbie question is, “Can we feed an object to instantiate a `Map`?”"
   ]
  },
  {
   "cell_type": "code",
   "execution_count": 4,
   "metadata": {
    "dotnet_interactive": {
     "language": "javascript"
    },
    "polyglot_notebook": {
     "kernelName": "javascript"
    },
    "vscode": {
     "languageId": "polyglot-notebook"
    }
   },
   "outputs": [
    {
     "ename": "Error",
     "evalue": "object is not iterable (cannot read property Symbol(Symbol.iterator))",
     "output_type": "error",
     "traceback": [
      "object is not iterable (cannot read property Symbol(Symbol.iterator))"
     ]
    }
   ],
   "source": [
    "#!javascript\n",
    "\n",
    "const json = `\n",
    "{\n",
    "    \"key-one\": \"hello,42.3,2023-10-08T04:54:48Z\",\n",
    "    \"key-two\": \"greetings,77.07,2023-10-13T02:39:42Z\",\n",
    "    \"key-three\": \"ohayo,1024,2023-06-26T23:45:01Z\"\n",
    "}`;\n",
    "\n",
    "const o = JSON.parse(json);\n",
    "\n",
    "const data = new Map(o);"
   ]
  },
  {
   "cell_type": "markdown",
   "metadata": {},
   "source": [
    "It looks like the answer is _no_.\n",
    "\n",
    "When we see [the documentation](https://developer.mozilla.org/en-US/docs/Web/JavaScript/Reference/Global_Objects/Map/Map) for the `Map` constructor it becomes clear that we can only feed a `Map` an _iterable_ [📖 [docs](https://developer.mozilla.org/en-US/docs/Web/JavaScript/Reference/Iteration_protocols)], like an array. A determined, self-confident newbie would not completely collapse out of egocentric exhaustion and would dare to ask, “Can we decompose an object into an array?”\n",
    "\n",
    "According to a StackOverflow [answer](https://stackoverflow.com/a/55399661/22944), the answer is _yes_:\n",
    "\n",
    ">Use `Object.entries()` to get both the key and values, then give that to `Map()` to allow you to select your values by key."
   ]
  },
  {
   "cell_type": "code",
   "execution_count": 5,
   "metadata": {
    "dotnet_interactive": {
     "language": "javascript"
    },
    "polyglot_notebook": {
     "kernelName": "javascript"
    },
    "vscode": {
     "languageId": "polyglot-notebook"
    }
   },
   "outputs": [
    {
     "data": {
      "text/plain": [
       "The array:"
      ]
     },
     "metadata": {},
     "output_type": "display_data"
    },
    {
     "data": {
      "application/json": [
       [
        "key-one",
        "hello,42.3,2023-10-08T04:54:48Z"
       ],
       [
        "key-two",
        "greetings,77.07,2023-10-13T02:39:42Z"
       ],
       [
        "key-three",
        "ohayo,1024,2023-06-26T23:45:01Z"
       ]
      ]
     },
     "metadata": {},
     "output_type": "display_data"
    },
    {
     "data": {
      "text/plain": [
       "map has key `key-one` [true] with value: `hello,42.3,2023-10-08T04:54:48Z` "
      ]
     },
     "metadata": {},
     "output_type": "display_data"
    },
    {
     "data": {
      "text/plain": [
       "map has key `key-two` [true] with value: `greetings,77.07,2023-10-13T02:39:42Z` "
      ]
     },
     "metadata": {},
     "output_type": "display_data"
    },
    {
     "data": {
      "text/plain": [
       "map has key `key-three` [true] with value: `ohayo,1024,2023-06-26T23:45:01Z` "
      ]
     },
     "metadata": {},
     "output_type": "display_data"
    },
    {
     "data": {
      "text/plain": [
       "The `Map.get()` syntax:"
      ]
     },
     "metadata": {},
     "output_type": "display_data"
    },
    {
     "data": {
      "text/plain": [
       "greetings,77.07,2023-10-13T02:39:42Z"
      ]
     },
     "metadata": {},
     "output_type": "display_data"
    }
   ],
   "source": [
    "#!javascript\n",
    "\n",
    "const json = `\n",
    "{\n",
    "    \"key-one\": \"hello,42.3,2023-10-08T04:54:48Z\",\n",
    "    \"key-two\": \"greetings,77.07,2023-10-13T02:39:42Z\",\n",
    "    \"key-three\": \"ohayo,1024,2023-06-26T23:45:01Z\"\n",
    "}`;\n",
    "\n",
    "const o = JSON.parse(json);\n",
    "\n",
    "const a = Object.entries(o);\n",
    "\n",
    "console.log('The array:', a);\n",
    "\n",
    "const data = new Map(a);\n",
    "\n",
    "data.forEach((value, key, map) =>\n",
    "{\n",
    "    console.log(`map has key \\`${key}\\` [${map.has(key)}] with value: \\`${value}\\` `);\n",
    "});\n",
    "\n",
    "console.log('The `Map.get()` syntax:', data.get('key-two'));"
   ]
  },
  {
   "cell_type": "markdown",
   "metadata": {},
   "source": [
    "Note that `Map` does _not_ have an ‘indexer syntax’ like the .NET dictionary. This means that `data['key-two']` will not work and we use `data.get('key-two')` as demonstrated above…"
   ]
  },
  {
   "cell_type": "markdown",
   "metadata": {},
   "source": [
    "## unpacking the .NET dictionary values\n",
    "\n",
    "Notice that the values of our `data` are comma-separated strings, three elements:\n",
    "\n",
    "```plaintext\n",
    "<greeting>,<number>,<date>\n",
    "```\n",
    "\n",
    "Let us unpack these values for use in JavaScript, using the `Array.Map` function [📖 [docs](https://developer.mozilla.org/en-US/docs/Web/JavaScript/Reference/Global_Objects/Array/map)]:"
   ]
  },
  {
   "cell_type": "code",
   "execution_count": 6,
   "metadata": {
    "dotnet_interactive": {
     "language": "javascript"
    },
    "polyglot_notebook": {
     "kernelName": "javascript"
    },
    "vscode": {
     "languageId": "polyglot-notebook"
    }
   },
   "outputs": [
    {
     "data": {
      "text/plain": [
       "The array:"
      ]
     },
     "metadata": {},
     "output_type": "display_data"
    },
    {
     "data": {
      "application/json": [
       [
        "key-one",
        {
         "date": 1696740888000,
         "greeting": "hello",
         "number": 42.3
        }
       ],
       [
        "key-two",
        {
         "date": 1697164782000,
         "greeting": "greetings",
         "number": 77.07
        }
       ],
       [
        "key-three",
        {
         "date": 1687823101000,
         "greeting": "ohayo",
         "number": 1024
        }
       ]
      ]
     },
     "metadata": {},
     "output_type": "display_data"
    },
    {
     "data": {
      "text/plain": [
       "map has key `key-one` [true] with value: `[object Object]` "
      ]
     },
     "metadata": {},
     "output_type": "display_data"
    },
    {
     "data": {
      "text/plain": [
       "map has key `key-two` [true] with value: `[object Object]` "
      ]
     },
     "metadata": {},
     "output_type": "display_data"
    },
    {
     "data": {
      "text/plain": [
       "map has key `key-three` [true] with value: `[object Object]` "
      ]
     },
     "metadata": {},
     "output_type": "display_data"
    },
    {
     "data": {
      "text/plain": [
       "The `Map.get()` syntax:"
      ]
     },
     "metadata": {},
     "output_type": "display_data"
    },
    {
     "data": {
      "application/json": {
       "date": 1697164782000,
       "greeting": "greetings",
       "number": 77.07
      }
     },
     "metadata": {},
     "output_type": "display_data"
    }
   ],
   "source": [
    "#!javascript\n",
    "\n",
    "const json = `\n",
    "{\n",
    "    \"key-one\": \"hello,42.3,2023-10-08T04:54:48Z\",\n",
    "    \"key-two\": \"greetings,77.07,2023-10-13T02:39:42Z\",\n",
    "    \"key-three\": \"ohayo,1024,2023-06-26T23:45:01Z\"\n",
    "}`;\n",
    "\n",
    "const o = JSON.parse(json);\n",
    "\n",
    "const a = Object.entries(o).map(pair => {\n",
    "    const k = pair[0];\n",
    "    const v = pair[1];\n",
    "    const d = v.split(',');\n",
    "    if(d.length !== 3) { return [k, { error: 'data was in an unexpected format'}] }\n",
    "    const greeting = d[0];\n",
    "    const number = parseFloat(d[1]);\n",
    "    const date = Date.parse(d[2])\n",
    "    return [k, {greeting, number, date}];\n",
    "});\n",
    "\n",
    "console.log('The array:', a);\n",
    "\n",
    "const data = new Map(a);\n",
    "\n",
    "data.forEach((value, key, map) =>\n",
    "{\n",
    "    console.log(`map has key \\`${key}\\` [${map.has(key)}] with value: \\`${value}\\` `);\n",
    "});\n",
    "\n",
    "console.log('The `Map.get()` syntax:', data.get('key-two'));"
   ]
  },
  {
   "cell_type": "markdown",
   "metadata": {},
   "source": [
    "## <!-- -->\n",
    "\n",
    "[Bryan Wilhite is on LinkedIn](https://www.linkedin.com/in/wilhite)🇺🇸💼"
   ]
  }
 ],
 "metadata": {
  "language_info": {
   "name": "python"
  }
 },
 "nbformat": 4,
 "nbformat_minor": 2
}
