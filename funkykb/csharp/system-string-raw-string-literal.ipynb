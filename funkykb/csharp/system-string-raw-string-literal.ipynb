{
 "cells": [
  {
   "cell_type": "markdown",
   "id": "f67c6739",
   "metadata": {},
   "source": [
    "# `System.String` raw string literal\n",
    "\n",
    "**Documentation:** “[Raw string literal text - \"\"\" in string literals](https://learn.microsoft.com/en-us/dotnet/csharp/language-reference/tokens/raw-string)”"
   ]
  },
  {
   "cell_type": "markdown",
   "id": "5d44d3bb",
   "metadata": {},
   "source": [
    "## raw string literals and building JSON with interpolation\n",
    "\n",
    ">Raw string literals can also be combined with interpolated strings to embed the { and } characters in the output string. You use multiple $ characters in an interpolated raw string literal to embed { and } characters in the output string without escaping them.\n",
    ">\n",
    ">—“[Raw string literal text - \"\"\" in string literals](https://learn.microsoft.com/en-us/dotnet/csharp/language-reference/tokens/raw-string)”\n",
    ">\n",
    "\n",
    "Here is an attempt to explain the meaning of, “You use multiple $ characters in an interpolated raw string literal to embed { and } characters in the output string without escaping them.” The following will not work:"
   ]
  },
  {
   "cell_type": "code",
   "execution_count": 1,
   "id": "26f9702f",
   "metadata": {},
   "outputs": [
    {
     "ename": "Error",
     "evalue": "(6,1): error CS9006: The interpolated raw string literal does not start with enough '$' characters to allow this many consecutive opening braces as content.\n(7,5): error CS1733: Expected expression",
     "output_type": "error",
     "traceback": [
      "(6,1): error CS9006: The interpolated raw string literal does not start with enough '$' characters to allow this many consecutive opening braces as content.\n",
      "(7,5): error CS1733: Expected expression"
     ]
    }
   ],
   "source": [
    "#!csharp\n",
    "\n",
    "string one = \"uno\";\n",
    "string two = \"dos\";\n",
    "\n",
    "string json =\n",
    "$\"\"\"\n",
    "{{\n",
    "    \"one\": \"{one}\",\n",
    "    \"two\": \"{two}\"\n",
    "}}\n",
    "\"\"\";"
   ]
  },
  {
   "cell_type": "markdown",
   "id": "ee15c56c",
   "metadata": {},
   "source": [
    "By specifying two `$` characters and using two corresponding brackets for interpolation we get what we want:"
   ]
  },
  {
   "cell_type": "code",
   "execution_count": 2,
   "id": "bf755dd0",
   "metadata": {},
   "outputs": [
    {
     "data": {
      "text/plain": [
       "{\n",
       "    \"one\": \"uno\",\n",
       "    \"two\": \"dos\"\n",
       "}"
      ]
     },
     "metadata": {},
     "output_type": "display_data"
    }
   ],
   "source": [
    "#!csharp\n",
    "\n",
    "string one = \"uno\";\n",
    "string two = \"dos\";\n",
    "\n",
    "string json =\n",
    "$$\"\"\"\n",
    "{\n",
    "    \"one\": \"{{one}}\",\n",
    "    \"two\": \"{{two}}\"\n",
    "}\n",
    "\"\"\";\n",
    "\n",
    "json"
   ]
  },
  {
   "cell_type": "markdown",
   "id": "6167917d",
   "metadata": {},
   "source": [
    "## <!-- -->\n",
    "\n",
    "[Bryan Wilhite is on LinkedIn](https://www.linkedin.com/in/wilhite)🇺🇸💼"
   ]
  }
 ],
 "metadata": {
  "kernelspec": {
   "display_name": ".NET (C#)",
   "language": "C#",
   "name": ".net-csharp"
  },
  "language_info": {
   "name": "polyglot-notebook"
  },
  "polyglot_notebook": {
   "kernelInfo": {
    "defaultKernelName": "csharp",
    "items": [
     {
      "aliases": [],
      "name": "csharp"
     }
    ]
   }
  }
 },
 "nbformat": 4,
 "nbformat_minor": 5
}
