{
 "cells": [
  {
   "cell_type": "markdown",
   "metadata": {},
   "source": [
    "# `System.Text.Json` deserializing to `Dictionary<string, object>`\n",
    "\n",
    "`Dictionary<string, object>` should be the catch-all type for _any_ JSON, starting with a ‘simple’ object:"
   ]
  },
  {
   "cell_type": "code",
   "execution_count": 2,
   "metadata": {
    "dotnet_interactive": {
     "language": "csharp"
    },
    "vscode": {
     "languageId": "dotnet-interactive.csharp"
    }
   },
   "outputs": [
    {
     "data": {
      "text/html": [
       "<table><thead><tr><th><i>key</i></th><th>value</th></tr></thead><tbody><tr><td>one</td><td><span>&quot;uno&quot;</span></td></tr><tr><td>two</td><td><span><div class=\"dni-plaintext\">2</div></span></td></tr><tr><td>isThree</td><td><span>false</span></td></tr><tr><td>four</td><td><span>&quot;quarto&quot;</span></td></tr></tbody></table><style id=\"dni-styles-JsonElement\">    \r\n",
       ".dni-code-hint {\r\n",
       "    font-style: italic;\r\n",
       "    overflow: hidden;\r\n",
       "    white-space: nowrap;\r\n",
       "}\r\n",
       "\r\n",
       ".dni-treeview {\r\n",
       "    white-space: nowrap;\r\n",
       "}\r\n",
       "\r\n",
       ".dni-treeview td {\r\n",
       "    vertical-align: top;\r\n",
       "    text-align: start;\r\n",
       "}\r\n",
       "\r\n",
       "details.dni-treeview {\r\n",
       "    padding-left: 1em;\r\n",
       "}</style>"
      ]
     },
     "metadata": {},
     "output_type": "display_data"
    }
   ],
   "source": [
    "using System.Text.Json;\n",
    "\n",
    "var json = @\"\n",
    "{\n",
    "    \"\"one\"\": \"\"uno\"\",\n",
    "    \"\"two\"\": 2,\n",
    "    \"\"isThree\"\": false,\n",
    "    \"\"four\"\": \"\"quarto\"\"\n",
    "}\n",
    "\";\n",
    "\n",
    "var dictionary = JsonSerializer.Deserialize<Dictionary<string, object>>(json);\n",
    "\n",
    "dictionary\n"
   ]
  },
  {
   "cell_type": "markdown",
   "metadata": {},
   "source": [
    "This pattern can be expanded to a JSON array of ‘simple’ objects:"
   ]
  },
  {
   "cell_type": "code",
   "execution_count": 3,
   "metadata": {
    "dotnet_interactive": {
     "language": "csharp"
    },
    "vscode": {
     "languageId": "dotnet-interactive.csharp"
    }
   },
   "outputs": [
    {
     "data": {
      "text/html": [
       "<table><thead><tr><th><i>index</i></th><th>value</th></tr></thead><tbody><tr><td>0</td><td><div class=\"dni-plaintext\">[ five: cinco ]</div></td></tr><tr><td>1</td><td><div class=\"dni-plaintext\">[ five: 4 + 1 ]</div></td></tr></tbody></table>"
      ]
     },
     "metadata": {},
     "output_type": "display_data"
    }
   ],
   "source": [
    "var json = @\"\n",
    "[\n",
    "    {\n",
    "      \"\"five\"\": \"\"cinco\"\"\n",
    "    },\n",
    "    {\n",
    "      \"\"five\"\": \"\"4 \\u002B 1\"\"\n",
    "    }\n",
    "]\n",
    "\";\n",
    "\n",
    "var dictionaryArray = JsonSerializer.Deserialize<Dictionary<string, object>[]>(json);\n",
    "\n",
    "dictionaryArray\n"
   ]
  },
  {
   "cell_type": "markdown",
   "metadata": {},
   "source": [
    "This pattern boxes a nested array correctly:"
   ]
  },
  {
   "cell_type": "code",
   "execution_count": 6,
   "metadata": {
    "dotnet_interactive": {
     "language": "csharp"
    },
    "vscode": {
     "languageId": "dotnet-interactive.csharp"
    }
   },
   "outputs": [
    {
     "data": {
      "text/html": [
       "<table><thead><tr><th><i>key</i></th><th>value</th></tr></thead><tbody><tr><td>one</td><td><span>&quot;uno&quot;</span></td></tr><tr><td>two</td><td><span><div class=\"dni-plaintext\">2</div></span></td></tr><tr><td>isThree</td><td><span>false</span></td></tr><tr><td>fivers</td><td><details class=\"dni-treeview\"><summary><span class=\"dni-code-hint\"><code>[\n",
       "      {\n",
       "        &quot;five&quot;: &quot;cinco&quot;\n",
       "      },\n",
       "      {\n",
       "        &quot;five&quot;: &quot;4 \\u002B 1&quot;\n",
       "      }\n",
       "    ]</code></span></summary><div><table><thead><tr></tr></thead><tbody><tr><td><details class=\"dni-treeview\"><summary><span class=\"dni-code-hint\"><code>{\n",
       "        &quot;five&quot;: &quot;cinco&quot;\n",
       "      }</code></span></summary><div><table><thead><tr></tr></thead><tbody><tr><td>five</td><td><span>&quot;cinco&quot;</span></td></tr></tbody></table></div></details></td></tr><tr><td><details class=\"dni-treeview\"><summary><span class=\"dni-code-hint\"><code>{\n",
       "        &quot;five&quot;: &quot;4 \\u002B 1&quot;\n",
       "      }</code></span></summary><div><table><thead><tr></tr></thead><tbody><tr><td>five</td><td><span>&quot;4 + 1&quot;</span></td></tr></tbody></table></div></details></td></tr></tbody></table></div></details></td></tr></tbody></table><style id=\"dni-styles-JsonElement\">    \r\n",
       ".dni-code-hint {\r\n",
       "    font-style: italic;\r\n",
       "    overflow: hidden;\r\n",
       "    white-space: nowrap;\r\n",
       "}\r\n",
       "\r\n",
       ".dni-treeview {\r\n",
       "    white-space: nowrap;\r\n",
       "}\r\n",
       "\r\n",
       ".dni-treeview td {\r\n",
       "    vertical-align: top;\r\n",
       "    text-align: start;\r\n",
       "}\r\n",
       "\r\n",
       "details.dni-treeview {\r\n",
       "    padding-left: 1em;\r\n",
       "}</style>"
      ]
     },
     "metadata": {},
     "output_type": "display_data"
    }
   ],
   "source": [
    "var json = @\"\n",
    "{\n",
    "    \"\"one\"\": \"\"uno\"\",\n",
    "    \"\"two\"\": 2,\n",
    "    \"\"isThree\"\": false,\n",
    "    \"\"fivers\"\": [\n",
    "      {\n",
    "        \"\"five\"\": \"\"cinco\"\"\n",
    "      },\n",
    "      {\n",
    "        \"\"five\"\": \"\"4 \\u002B 1\"\"\n",
    "      }\n",
    "    ]\n",
    "}\n",
    "\";\n",
    "\n",
    "var dictionary = JsonSerializer.Deserialize<Dictionary<string, object>>(json);\n",
    "\n",
    "dictionary"
   ]
  },
  {
   "cell_type": "markdown",
   "metadata": {},
   "source": [
    "We can see that the value of the `fivers` key is a `JsonElement`:"
   ]
  },
  {
   "cell_type": "code",
   "execution_count": 7,
   "metadata": {
    "dotnet_interactive": {
     "language": "csharp"
    },
    "vscode": {
     "languageId": "dotnet-interactive.csharp"
    }
   },
   "outputs": [
    {
     "data": {
      "text/html": [
       "<span><a href=\"https://docs.microsoft.com/dotnet/api/system.text.json.jsonelement?view=net-5.0\">System.Text.Json.JsonElement</a></span>"
      ]
     },
     "metadata": {},
     "output_type": "display_data"
    }
   ],
   "source": [
    "dictionary[\"fivers\"].GetType()"
   ]
  },
  {
   "cell_type": "markdown",
   "metadata": {},
   "source": [
    "This deserializing can be reversed successfully:"
   ]
  },
  {
   "cell_type": "code",
   "execution_count": 8,
   "metadata": {
    "dotnet_interactive": {
     "language": "csharp"
    },
    "vscode": {
     "languageId": "dotnet-interactive.csharp"
    }
   },
   "outputs": [
    {
     "data": {
      "text/plain": [
       "{\n",
       "  \"one\": \"uno\",\n",
       "  \"two\": 2,\n",
       "  \"isThree\": false,\n",
       "  \"fivers\": [\n",
       "    {\n",
       "      \"five\": \"cinco\"\n",
       "    },\n",
       "    {\n",
       "      \"five\": \"4 \\u002B 1\"\n",
       "    }\n",
       "  ]\n",
       "}"
      ]
     },
     "metadata": {},
     "output_type": "display_data"
    }
   ],
   "source": [
    "JsonSerializer.Serialize(dictionary, new JsonSerializerOptions { WriteIndented = true })"
   ]
  },
  {
   "cell_type": "markdown",
   "metadata": {},
   "source": [
    "@[BryanWilhite](https://twitter.com/BryanWilhite)\n"
   ]
  }
 ],
 "metadata": {
  "kernelspec": {
   "display_name": ".NET (C#)",
   "language": "C#",
   "name": ".net-csharp"
  },
  "language_info": {
   "file_extension": ".cs",
   "mimetype": "text/x-csharp",
   "name": "C#",
   "pygments_lexer": "csharp",
   "version": "9.0"
  },
  "orig_nbformat": 4
 },
 "nbformat": 4,
 "nbformat_minor": 2
}
