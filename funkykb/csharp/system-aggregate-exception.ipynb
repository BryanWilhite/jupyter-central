{
 "cells": [
  {
   "cell_type": "code",
   "execution_count": 1,
   "metadata": {
    "dotnet_interactive": {
     "language": "csharp"
    },
    "polyglot_notebook": {
     "kernelName": "csharp"
    }
   },
   "outputs": [
    {
     "name": "stdout",
     "output_type": "stream",
     "text": [
      "Hello Mercury!\n",
      "Hello world!\n",
      "Hello Jupiter!\n",
      "Hello Venus!\n",
      "Message: woah!\n"
     ]
    }
   ],
   "source": [
    "try\n",
    "{\n",
    "    var tasks = new[] {\n",
    "        Task.Run(() => Console.WriteLine(\"Hello world!\")),\n",
    "        Task.Run(() => throw new NotImplementedException(\"woah!\")),\n",
    "        Task.Run(() => Console.WriteLine(\"Hello Mercury!\")),\n",
    "        Task.Run(() => Console.WriteLine(\"Hello Venus!\")),\n",
    "        Task.Run(() => throw new InvalidOperationException(\"no!\")),\n",
    "        Task.Run(() => Console.WriteLine(\"Hello Jupiter!\")),\n",
    "    };\n",
    "\n",
    "    await Task.WhenAll(tasks);\n",
    "}\n",
    "catch(Exception ex)\n",
    "{\n",
    "    Console.WriteLine($\"{nameof(ex.Message)}: {ex.Message}\");\n",
    "}"
   ]
  }
 ],
 "metadata": {
  "kernelspec": {
   "display_name": ".NET (C#)",
   "language": "C#",
   "name": ".net-csharp"
  },
  "language_info": {
   "name": "polyglot-notebook"
  },
  "polyglot_notebook": {
   "kernelInfo": {
    "defaultKernelName": "csharp",
    "items": [
     {
      "aliases": [],
      "name": "csharp"
     },
     {
      "aliases": [
       "frontend"
      ],
      "name": "vscode"
     }
    ]
   }
  }
 },
 "nbformat": 4,
 "nbformat_minor": 2
}
