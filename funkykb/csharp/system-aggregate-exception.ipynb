{
 "cells": [
  {
   "cell_type": "code",
   "execution_count": 9,
   "metadata": {},
   "outputs": [
    {
     "name": "stdout",
     "output_type": "stream",
     "text": [
      "Hello world!\n",
      "Hello Mercury!\n",
      "Hello Venus!\n",
      "Hello Jupiter!\n",
      "Message: woah!\n"
     ]
    }
   ],
   "source": [
    "try\n",
    "{\n",
    "    var tasks = new[] {\n",
    "        Task.Run(() => Console.WriteLine(\"Hello world!\")),\n",
    "        Task.Run(() => throw new NotImplementedException(\"woah!\")),\n",
    "        Task.Run(() => Console.WriteLine(\"Hello Mercury!\")),\n",
    "        Task.Run(() => Console.WriteLine(\"Hello Venus!\")),\n",
    "        Task.Run(() => throw new InvalidOperationException(\"no!\")),\n",
    "        Task.Run(() => Console.WriteLine(\"Hello Jupiter!\")),\n",
    "    };\n",
    "\n",
    "    await Task.WhenAll(tasks);\n",
    "}\n",
    "catch(Exception ex)\n",
    "{\n",
    "    Console.WriteLine($\"{nameof(ex.Message)}: {ex.Message}\");\n",
    "}"
   ]
  }
 ],
 "metadata": {
  "kernelspec": {
   "display_name": ".NET (C#)",
   "language": "C#",
   "name": ".net-csharp"
  },
  "polyglot_notebook": {
   "kernelInfo": {
    "defaultKernelName": "csharp",
    "items": [
     {
      "aliases": [],
      "name": "csharp"
     },
     {
      "aliases": [
       "frontend"
      ],
      "languageName": null,
      "name": "vscode"
     }
    ]
   }
  }
 },
 "nbformat": 4,
 "nbformat_minor": 2
}
