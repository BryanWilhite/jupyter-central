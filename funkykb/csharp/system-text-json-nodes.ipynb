{
 "cells": [
  {
   "attachments": {},
   "cell_type": "markdown",
   "metadata": {},
   "source": [
    "# `System.Text.Json.Nodes`\n",
    "\n",
    ">Provides types for handling an in-memory writeable document object model (DOM) for random access of the JSON elements within a structured view of the data. [📖 [docs](https://docs.microsoft.com/en-us/dotnet/api/system.text.json.nodes)]\n",
    "\n",
    "Based on my experience with the older class definitions under `System.Text.Json`, I interpret the quote above as a relief to the the frustrating limitations of having a high-performance read-only API for JSON. However, there is a warning in the phrase “in-memory writeable document,” starting with _in-memory_: surely, anything done with the class definitions under `System.Text.Json.Nodes` will be resource expensive.\n",
    "\n",
    "Also, it may help to summarize the .NET 6 caveats for `System.Text.Json.Nodes`:\n",
    "\n",
    "- there is no `JsonNode.GetValueKind` method (do not let the Microsoft docs fool you 🧐)\n",
    "- there is no `JsonNode.DeepClone` method (more on this below)"
   ]
  },
  {
   "cell_type": "markdown",
   "metadata": {},
   "source": [
    "## my weird extension method, `AsJupyterDisplayDictionary` 😐\n",
    "\n",
    "The following extension method `AsJupyterDisplayDictionary` is needed here because displaying `JsonNode` in a .NET Interactive Jupyter Notebook is effectively infinitely recursive (making display on GitHub problematic):"
   ]
  },
  {
   "cell_type": "code",
   "execution_count": 1,
   "metadata": {
    "dotnet_interactive": {
     "language": "csharp"
    },
    "polyglot_notebook": {
     "kernelName": "csharp"
    }
   },
   "outputs": [],
   "source": [
    "using System.Text.Json;\n",
    "using System.Text.Json.Nodes;\n",
    "\n",
    "public static Dictionary<string, string> AsJupyterDisplayDictionary(this JsonNode node)\n",
    "{\n",
    "    return node.GetValueKind() switch\n",
    "    {\n",
    "        JsonValueKind.Object =>\n",
    "            node\n",
    "                .AsObject()\n",
    "                .ToDictionary(i => i.Key, j => j.Value.ToJsonString(new JsonSerializerOptions { WriteIndented = true })),\n",
    "        _ => throw new InvalidOperationException ($\"The expected {nameof(JsonObject)} is not here.\")\n",
    "    };\n",
    "}"
   ]
  },
  {
   "attachments": {},
   "cell_type": "markdown",
   "metadata": {},
   "source": [
    "## start with `JsonNode`\n",
    "\n",
    "To “get started” with `System.Text.Json.Nodes`, I assume we start with `JsonNode.Parse` [📖 [docs](https://docs.microsoft.com/en-us/dotnet/api/system.text.json.nodes.jsonnode.parse)] :"
   ]
  },
  {
   "cell_type": "code",
   "execution_count": 2,
   "metadata": {
    "dotnet_interactive": {
     "language": "csharp"
    },
    "polyglot_notebook": {
     "kernelName": "csharp"
    }
   },
   "outputs": [
    {
     "data": {
      "text/html": [
       "<table><thead><tr><th><i>key</i></th><th>value</th></tr></thead><tbody><tr><td><div class=\"dni-plaintext\"><pre>top</pre></div></td><td><div class=\"dni-plaintext\"><pre>{\n",
       "  &quot;one&quot;: &quot;this is first&quot;,\n",
       "  &quot;two&quot;: true,\n",
       "  &quot;two-point-five&quot;: 2.5,\n",
       "  &quot;three&quot;: {\n",
       "    &quot;p1&quot;: &quot;this is three-point-one&quot;,\n",
       "    &quot;p2&quot;: &quot;this is three-point-two&quot;,\n",
       "    &quot;my-date&quot;: &quot;2019-11-22T05:58:34.573Z&quot;\n",
       "  }\n",
       "}</pre></div></td></tr></tbody></table><style>\r\n",
       ".dni-code-hint {\r\n",
       "    font-style: italic;\r\n",
       "    overflow: hidden;\r\n",
       "    white-space: nowrap;\r\n",
       "}\r\n",
       ".dni-treeview {\r\n",
       "    white-space: nowrap;\r\n",
       "}\r\n",
       ".dni-treeview td {\r\n",
       "    vertical-align: top;\r\n",
       "    text-align: start;\r\n",
       "}\r\n",
       "details.dni-treeview {\r\n",
       "    padding-left: 1em;\r\n",
       "}\r\n",
       "table td {\r\n",
       "    text-align: start;\r\n",
       "}\r\n",
       "table tr { \r\n",
       "    vertical-align: top; \r\n",
       "    margin: 0em 0px;\r\n",
       "}\r\n",
       "table tr td pre \r\n",
       "{ \r\n",
       "    vertical-align: top !important; \r\n",
       "    margin: 0em 0px !important;\r\n",
       "} \r\n",
       "table th {\r\n",
       "    text-align: start;\r\n",
       "}\r\n",
       "</style>"
      ]
     },
     "metadata": {},
     "output_type": "display_data"
    }
   ],
   "source": [
    "var jsonString = @\"\n",
    "    {\n",
    "        \"\"top\"\": {\n",
    "            \"\"one\"\": \"\"this is first\"\",\n",
    "            \"\"two\"\": true,\n",
    "            \"\"two-point-five\"\": 2.5,\n",
    "            \"\"three\"\": {\n",
    "                \"\"p1\"\": \"\"this is three-point-one\"\",\n",
    "                \"\"p2\"\": \"\"this is three-point-two\"\",\n",
    "                \"\"my-date\"\": \"\"2019-11-22T05:58:34.573Z\"\"\n",
    "            }\n",
    "        }\n",
    "    }\n",
    "\";\n",
    "\n",
    "var jNode = JsonNode.Parse(jsonString);\n",
    "\n",
    "jNode.AsJupyterDisplayDictionary()"
   ]
  },
  {
   "cell_type": "markdown",
   "metadata": {},
   "source": [
    "## the `JsonNode` indexer\n",
    "\n",
    "The most direct and terse way to traverse our `jNode` is to use indexers (`[]`). For example, we can examine the types of the children of our `jNode`:"
   ]
  },
  {
   "cell_type": "code",
   "execution_count": 3,
   "metadata": {
    "dotnet_interactive": {
     "language": "csharp"
    },
    "polyglot_notebook": {
     "kernelName": "csharp"
    }
   },
   "outputs": [
    {
     "data": {
      "text/html": [
       "<span><a href=\"https://docs.microsoft.com/dotnet/api/system.text.json.nodes.jsonobject?view=net-7.0\">System.Text.Json.Nodes.JsonObject</a></span>"
      ]
     },
     "metadata": {},
     "output_type": "display_data"
    }
   ],
   "source": [
    "jNode[\"top\"].GetType()"
   ]
  },
  {
   "cell_type": "code",
   "execution_count": 4,
   "metadata": {
    "dotnet_interactive": {
     "language": "csharp"
    },
    "polyglot_notebook": {
     "kernelName": "csharp"
    }
   },
   "outputs": [
    {
     "data": {
      "text/html": [
       "<span><a href=\"https://docs.microsoft.com/dotnet/api/system.text.json.nodes.jsonvalueofelement?view=net-7.0\">System.Text.Json.Nodes.JsonValueOfElement</a></span>"
      ]
     },
     "metadata": {},
     "output_type": "display_data"
    }
   ],
   "source": [
    "jNode[\"top\"][\"one\"].GetType()"
   ]
  },
  {
   "cell_type": "code",
   "execution_count": 5,
   "metadata": {
    "dotnet_interactive": {
     "language": "csharp"
    },
    "polyglot_notebook": {
     "kernelName": "csharp"
    }
   },
   "outputs": [
    {
     "data": {
      "text/html": [
       "<span><a href=\"https://docs.microsoft.com/dotnet/api/system.text.json.nodes.jsonobject?view=net-7.0\">System.Text.Json.Nodes.JsonObject</a></span>"
      ]
     },
     "metadata": {},
     "output_type": "display_data"
    }
   ],
   "source": [
    "jNode[\"top\"][\"three\"].GetType()"
   ]
  },
  {
   "attachments": {},
   "cell_type": "markdown",
   "metadata": {},
   "source": [
    "There are two things I must mention while looking at the output above:\n",
    "\n",
    "1. `JsonNode` contains `JsonElement` and `JsonObject` instead of child `JsonNode`s.\n",
    "2. Both `JsonObject` and `JsonArray` inherit from `JsonNode`."
   ]
  },
  {
   "cell_type": "markdown",
   "metadata": {},
   "source": [
    "## when indexer traversal goes wrong\n",
    "\n",
    "The problem with indexers arises when the traversal is not always along “the happy path”:"
   ]
  },
  {
   "cell_type": "code",
   "execution_count": 6,
   "metadata": {
    "dotnet_interactive": {
     "language": "csharp"
    },
    "polyglot_notebook": {
     "kernelName": "csharp"
    }
   },
   "outputs": [
    {
     "ename": "Error",
     "evalue": "System.NullReferenceException: Object reference not set to an instance of an object.\n   at Submission#6.<<Initialize>>d__0.MoveNext()\n--- End of stack trace from previous location ---\n   at Microsoft.CodeAnalysis.Scripting.ScriptExecutionState.RunSubmissionsAsync[TResult](ImmutableArray`1 precedingExecutors, Func`2 currentExecutor, StrongBox`1 exceptionHolderOpt, Func`2 catchExceptionOpt, CancellationToken cancellationToken)",
     "output_type": "error",
     "traceback": [
      "System.NullReferenceException: Object reference not set to an instance of an object.\n",
      "   at Submission#6.<<Initialize>>d__0.MoveNext()\n",
      "--- End of stack trace from previous location ---\n",
      "   at Microsoft.CodeAnalysis.Scripting.ScriptExecutionState.RunSubmissionsAsync[TResult](ImmutableArray`1 precedingExecutors, Func`2 currentExecutor, StrongBox`1 exceptionHolderOpt, Func`2 catchExceptionOpt, CancellationToken cancellationToken)"
     ]
    }
   ],
   "source": [
    "jNode[\"foo\"][\"one\"]"
   ]
  },
  {
   "cell_type": "markdown",
   "metadata": {},
   "source": [
    "Exceptions can be avoided with the null-conditional operator:"
   ]
  },
  {
   "cell_type": "code",
   "execution_count": 7,
   "metadata": {
    "dotnet_interactive": {
     "language": "csharp"
    },
    "polyglot_notebook": {
     "kernelName": "csharp"
    }
   },
   "outputs": [
    {
     "data": {
      "text/html": [
       "<div class=\"dni-plaintext\"><pre>&lt;null&gt;</pre></div><style>\r\n",
       ".dni-code-hint {\r\n",
       "    font-style: italic;\r\n",
       "    overflow: hidden;\r\n",
       "    white-space: nowrap;\r\n",
       "}\r\n",
       ".dni-treeview {\r\n",
       "    white-space: nowrap;\r\n",
       "}\r\n",
       ".dni-treeview td {\r\n",
       "    vertical-align: top;\r\n",
       "    text-align: start;\r\n",
       "}\r\n",
       "details.dni-treeview {\r\n",
       "    padding-left: 1em;\r\n",
       "}\r\n",
       "table td {\r\n",
       "    text-align: start;\r\n",
       "}\r\n",
       "table tr { \r\n",
       "    vertical-align: top; \r\n",
       "    margin: 0em 0px;\r\n",
       "}\r\n",
       "table tr td pre \r\n",
       "{ \r\n",
       "    vertical-align: top !important; \r\n",
       "    margin: 0em 0px !important;\r\n",
       "} \r\n",
       "table th {\r\n",
       "    text-align: start;\r\n",
       "}\r\n",
       "</style>"
      ]
     },
     "metadata": {},
     "output_type": "display_data"
    }
   ],
   "source": [
    "jNode[\"foo\"]?[\"one\"]"
   ]
  },
  {
   "cell_type": "markdown",
   "metadata": {},
   "source": [
    "When we need to avoid propagating `null`, we can perform document traversal with `TryGetPropertyValue` (see below). Also, for those F# lovers out there, I have [my most advanced way to traverse](https://github.com/BryanWilhite/Songhay.Modules/blob/main/Songhay.Modules.Tests/JsonDocumentUtilityTests.fs) `JsonDocument`."
   ]
  },
  {
   "attachments": {},
   "cell_type": "markdown",
   "metadata": {},
   "source": [
    "## `JsonElement` and `JsonNode`\n",
    "\n",
    "Document traversal with `JsonElement` is done with its `Get*` and `TryGet*` methods. In the world of `JsonNode`, we can depend on `JsonObject` (via the `AsObject` method [📖 [docs](https://learn.microsoft.com/en-us/dotnet/api/system.text.json.nodes.jsonnode.asobject?view=net-8.0)]) and then call `TryGetPropertyValue`:"
   ]
  },
  {
   "cell_type": "code",
   "execution_count": 8,
   "metadata": {
    "dotnet_interactive": {
     "language": "csharp"
    },
    "polyglot_notebook": {
     "kernelName": "csharp"
    }
   },
   "outputs": [
    {
     "data": {
      "text/plain": [
       "this is first"
      ]
     },
     "metadata": {},
     "output_type": "display_data"
    }
   ],
   "source": [
    "jNode\n",
    "    .AsObject()\n",
    "    .TryGetPropertyValue(\"top\", out JsonNode topNode);\n",
    "\n",
    "topNode\n",
    "    .AsObject()\n",
    "    .TryGetPropertyValue(\"one\", out JsonNode oneNode);\n",
    "\n",
    "oneNode.GetValue<string>()"
   ]
  },
  {
   "attachments": {},
   "cell_type": "markdown",
   "metadata": {},
   "source": [
    "This `TryGetPropertyValue` approach seems a bit clunky. Had I not stumbled upon “[.NET 6: Modify JSON in Memory with the System.Text.Json.Nodes Namespace](https://deliverystack.net/2021/12/06/net-6-modify-json-in-memory-with-the-system-text-json-nodes-namespace/)” by John West I would have gone to bed for a few nights not knowing that Microsoft wants us to use a LINQish approach to traversal:"
   ]
  },
  {
   "cell_type": "code",
   "execution_count": 9,
   "metadata": {
    "dotnet_interactive": {
     "language": "csharp"
    },
    "polyglot_notebook": {
     "kernelName": "csharp"
    }
   },
   "outputs": [
    {
     "data": {
      "text/plain": [
       "this is first"
      ]
     },
     "metadata": {},
     "output_type": "display_data"
    }
   ],
   "source": [
    "JsonNode oneNode = jNode\n",
    "    .AsObject()\n",
    "    .FirstOrDefault(i => i.Key == \"top\")\n",
    "    .Value?\n",
    "    .AsObject()\n",
    "    .FirstOrDefault(i => i.Key == \"one\")\n",
    "    .Value;\n",
    "\n",
    "oneNode?.GetValue<string>()"
   ]
  },
  {
   "cell_type": "markdown",
   "metadata": {},
   "source": [
    "This _fluent_ approach allows us to handle not-so-happy JSON document traversal paths:"
   ]
  },
  {
   "cell_type": "code",
   "execution_count": 10,
   "metadata": {
    "dotnet_interactive": {
     "language": "csharp"
    },
    "polyglot_notebook": {
     "kernelName": "csharp"
    }
   },
   "outputs": [
    {
     "data": {
      "text/html": [
       "<div class=\"dni-plaintext\"><pre>&lt;null&gt;</pre></div><style>\r\n",
       ".dni-code-hint {\r\n",
       "    font-style: italic;\r\n",
       "    overflow: hidden;\r\n",
       "    white-space: nowrap;\r\n",
       "}\r\n",
       ".dni-treeview {\r\n",
       "    white-space: nowrap;\r\n",
       "}\r\n",
       ".dni-treeview td {\r\n",
       "    vertical-align: top;\r\n",
       "    text-align: start;\r\n",
       "}\r\n",
       "details.dni-treeview {\r\n",
       "    padding-left: 1em;\r\n",
       "}\r\n",
       "table td {\r\n",
       "    text-align: start;\r\n",
       "}\r\n",
       "table tr { \r\n",
       "    vertical-align: top; \r\n",
       "    margin: 0em 0px;\r\n",
       "}\r\n",
       "table tr td pre \r\n",
       "{ \r\n",
       "    vertical-align: top !important; \r\n",
       "    margin: 0em 0px !important;\r\n",
       "} \r\n",
       "table th {\r\n",
       "    text-align: start;\r\n",
       "}\r\n",
       "</style>"
      ]
     },
     "metadata": {},
     "output_type": "display_data"
    }
   ],
   "source": [
    "jNode\n",
    "    .AsObject()\n",
    "    .FirstOrDefault(i => i.Key == \"foo\")\n",
    "    .Value?\n",
    "    .AsObject()\n",
    "    .FirstOrDefault(i => i.Key == \"one\")\n",
    "    .Value?\n",
    "    .GetValue<string>()"
   ]
  },
  {
   "cell_type": "markdown",
   "metadata": {},
   "source": [
    "There is a very important subtlety in the design of `JsonObject` [📖 [docs](https://learn.microsoft.com/en-us/dotnet/api/system.text.json.nodes.jsonobject?view=net-8.0)]: `JsonObject` implements several collection interfaces, including `ICollection<KeyValuePair<String,JsonNode>>`. This is why we can call LINQ’s `FirstOrDefault` directly from an `AsObject()` invocation."
   ]
  },
  {
   "cell_type": "markdown",
   "metadata": {},
   "source": [
    "## the forward-only design of `JsonElement` in contrast to `JsonNode`\n",
    "\n",
    "Earlier, we obtained `oneNode` by `TryGet*`ing and via the LINQish approach. Both of the outputs above are of type `JsonElement`:"
   ]
  },
  {
   "cell_type": "code",
   "execution_count": 11,
   "metadata": {
    "dotnet_interactive": {
     "language": "csharp"
    },
    "polyglot_notebook": {
     "kernelName": "csharp"
    }
   },
   "outputs": [
    {
     "data": {
      "text/html": [
       "<span><a href=\"https://docs.microsoft.com/dotnet/api/system.text.json.nodes.jsonvalueofelement?view=net-7.0\">System.Text.Json.Nodes.JsonValueOfElement</a></span>"
      ]
     },
     "metadata": {},
     "output_type": "display_data"
    }
   ],
   "source": [
    "oneNode.GetType()"
   ]
  },
  {
   "cell_type": "markdown",
   "metadata": {},
   "source": [
    "We can obtain `JsonElement` from `JsonNode` with:"
   ]
  },
  {
   "cell_type": "code",
   "execution_count": 12,
   "metadata": {
    "dotnet_interactive": {
     "language": "csharp"
    },
    "polyglot_notebook": {
     "kernelName": "csharp"
    }
   },
   "outputs": [
    {
     "data": {
      "text/html": [
       "<span>&quot;this is first&quot;</span><style>\r\n",
       ".dni-code-hint {\r\n",
       "    font-style: italic;\r\n",
       "    overflow: hidden;\r\n",
       "    white-space: nowrap;\r\n",
       "}\r\n",
       ".dni-treeview {\r\n",
       "    white-space: nowrap;\r\n",
       "}\r\n",
       ".dni-treeview td {\r\n",
       "    vertical-align: top;\r\n",
       "    text-align: start;\r\n",
       "}\r\n",
       "details.dni-treeview {\r\n",
       "    padding-left: 1em;\r\n",
       "}\r\n",
       "table td {\r\n",
       "    text-align: start;\r\n",
       "}\r\n",
       "table tr { \r\n",
       "    vertical-align: top; \r\n",
       "    margin: 0em 0px;\r\n",
       "}\r\n",
       "table tr td pre \r\n",
       "{ \r\n",
       "    vertical-align: top !important; \r\n",
       "    margin: 0em 0px !important;\r\n",
       "} \r\n",
       "table th {\r\n",
       "    text-align: start;\r\n",
       "}\r\n",
       "</style>"
      ]
     },
     "metadata": {},
     "output_type": "display_data"
    }
   ],
   "source": [
    "using System.Text.Json;\n",
    "\n",
    "var oneElement = oneNode.GetValue<JsonElement>();\n",
    "\n",
    "oneElement"
   ]
  },
  {
   "cell_type": "code",
   "execution_count": 13,
   "metadata": {
    "dotnet_interactive": {
     "language": "csharp"
    },
    "polyglot_notebook": {
     "kernelName": "csharp"
    }
   },
   "outputs": [
    {
     "data": {
      "text/html": [
       "<span><a href=\"https://docs.microsoft.com/dotnet/api/system.text.json.jsonelement?view=net-7.0\">System.Text.Json.JsonElement</a></span>"
      ]
     },
     "metadata": {},
     "output_type": "display_data"
    }
   ],
   "source": [
    "oneElement.GetType()"
   ]
  },
  {
   "cell_type": "markdown",
   "metadata": {},
   "source": [
    "The sadness here is knowing that once we have `oneElement` there is no way to go back to `oneNode` and have all of that memory-expensive `Parent` and `Root` information 😦 We can see this loss by looking at this:"
   ]
  },
  {
   "cell_type": "code",
   "execution_count": 14,
   "metadata": {
    "dotnet_interactive": {
     "language": "csharp"
    },
    "polyglot_notebook": {
     "kernelName": "csharp"
    }
   },
   "outputs": [
    {
     "data": {
      "text/plain": [
       "\"this is first\""
      ]
     },
     "metadata": {},
     "output_type": "display_data"
    }
   ],
   "source": [
    "oneElement.GetRawText()"
   ]
  },
  {
   "cell_type": "markdown",
   "metadata": {},
   "source": [
    "For the sake of read-only, forward-only efficiency, `JsonElement` only knows about its children (not even about itself 😲)."
   ]
  },
  {
   "cell_type": "markdown",
   "metadata": {},
   "source": [
    "## the `JsonNode.GetValue<T>` method\n",
    "\n",
    "As seen above, call `JsonNode.GetValue<T>` [📖 [docs](https://docs.microsoft.com/en-us/dotnet/api/system.text.json.nodes.jsonnode.getvalue?view=net-6.0)] to obtain `JsonNode` values:"
   ]
  },
  {
   "cell_type": "code",
   "execution_count": 15,
   "metadata": {
    "dotnet_interactive": {
     "language": "csharp"
    },
    "polyglot_notebook": {
     "kernelName": "csharp"
    }
   },
   "outputs": [
    {
     "data": {
      "text/plain": [
       "this is first"
      ]
     },
     "metadata": {},
     "output_type": "display_data"
    }
   ],
   "source": [
    "jNode[\"top\"]?[\"one\"]?.GetValue<string>()"
   ]
  },
  {
   "cell_type": "code",
   "execution_count": 16,
   "metadata": {
    "dotnet_interactive": {
     "language": "csharp"
    },
    "polyglot_notebook": {
     "kernelName": "csharp"
    }
   },
   "outputs": [
    {
     "data": {
      "text/html": [
       "<div class=\"dni-plaintext\"><pre>True</pre></div><style>\r\n",
       ".dni-code-hint {\r\n",
       "    font-style: italic;\r\n",
       "    overflow: hidden;\r\n",
       "    white-space: nowrap;\r\n",
       "}\r\n",
       ".dni-treeview {\r\n",
       "    white-space: nowrap;\r\n",
       "}\r\n",
       ".dni-treeview td {\r\n",
       "    vertical-align: top;\r\n",
       "    text-align: start;\r\n",
       "}\r\n",
       "details.dni-treeview {\r\n",
       "    padding-left: 1em;\r\n",
       "}\r\n",
       "table td {\r\n",
       "    text-align: start;\r\n",
       "}\r\n",
       "table tr { \r\n",
       "    vertical-align: top; \r\n",
       "    margin: 0em 0px;\r\n",
       "}\r\n",
       "table tr td pre \r\n",
       "{ \r\n",
       "    vertical-align: top !important; \r\n",
       "    margin: 0em 0px !important;\r\n",
       "} \r\n",
       "table th {\r\n",
       "    text-align: start;\r\n",
       "}\r\n",
       "</style>"
      ]
     },
     "metadata": {},
     "output_type": "display_data"
    }
   ],
   "source": [
    "jNode[\"top\"]?[\"two\"]?.GetValue<bool>()"
   ]
  },
  {
   "cell_type": "code",
   "execution_count": 17,
   "metadata": {
    "dotnet_interactive": {
     "language": "csharp"
    },
    "polyglot_notebook": {
     "kernelName": "csharp"
    }
   },
   "outputs": [
    {
     "data": {
      "text/html": [
       "<div class=\"dni-plaintext\"><pre>2.5</pre></div><style>\r\n",
       ".dni-code-hint {\r\n",
       "    font-style: italic;\r\n",
       "    overflow: hidden;\r\n",
       "    white-space: nowrap;\r\n",
       "}\r\n",
       ".dni-treeview {\r\n",
       "    white-space: nowrap;\r\n",
       "}\r\n",
       ".dni-treeview td {\r\n",
       "    vertical-align: top;\r\n",
       "    text-align: start;\r\n",
       "}\r\n",
       "details.dni-treeview {\r\n",
       "    padding-left: 1em;\r\n",
       "}\r\n",
       "table td {\r\n",
       "    text-align: start;\r\n",
       "}\r\n",
       "table tr { \r\n",
       "    vertical-align: top; \r\n",
       "    margin: 0em 0px;\r\n",
       "}\r\n",
       "table tr td pre \r\n",
       "{ \r\n",
       "    vertical-align: top !important; \r\n",
       "    margin: 0em 0px !important;\r\n",
       "} \r\n",
       "table th {\r\n",
       "    text-align: start;\r\n",
       "}\r\n",
       "</style>"
      ]
     },
     "metadata": {},
     "output_type": "display_data"
    }
   ],
   "source": [
    "jNode[\"top\"]?[\"two-point-five\"]?.GetValue<decimal>()"
   ]
  },
  {
   "attachments": {},
   "cell_type": "markdown",
   "metadata": {},
   "source": [
    "## the importance of the `JsonNode.Parent` property\n",
    "\n",
    "The `JsonNode.Parent` property [📖 [docs](https://docs.microsoft.com/en-us/dotnet/api/system.text.json.nodes.jsonnode.parent)] is why we are in this namespace in the first place. With some expense, we are freed from the forward-only design goals of `JsonElement`. We see this property (along with the `JsonNode.Root` property [📖 [docs](https://docs.microsoft.com/en-us/dotnet/api/system.text.json.nodes.jsonnode.root)]) in the output above.\n",
    "\n",
    "We can use the `JsonNode.Parent` property to discover the name of our `oneNode` element, starting with the following LINQ projection:"
   ]
  },
  {
   "cell_type": "code",
   "execution_count": 18,
   "metadata": {
    "dotnet_interactive": {
     "language": "csharp"
    },
    "polyglot_notebook": {
     "kernelName": "csharp"
    }
   },
   "outputs": [
    {
     "data": {
      "text/html": [
       "<div class=\"dni-plaintext\"><pre>[ one, two, two-point-five, three ]</pre></div><style>\r\n",
       ".dni-code-hint {\r\n",
       "    font-style: italic;\r\n",
       "    overflow: hidden;\r\n",
       "    white-space: nowrap;\r\n",
       "}\r\n",
       ".dni-treeview {\r\n",
       "    white-space: nowrap;\r\n",
       "}\r\n",
       ".dni-treeview td {\r\n",
       "    vertical-align: top;\r\n",
       "    text-align: start;\r\n",
       "}\r\n",
       "details.dni-treeview {\r\n",
       "    padding-left: 1em;\r\n",
       "}\r\n",
       "table td {\r\n",
       "    text-align: start;\r\n",
       "}\r\n",
       "table tr { \r\n",
       "    vertical-align: top; \r\n",
       "    margin: 0em 0px;\r\n",
       "}\r\n",
       "table tr td pre \r\n",
       "{ \r\n",
       "    vertical-align: top !important; \r\n",
       "    margin: 0em 0px !important;\r\n",
       "} \r\n",
       "table th {\r\n",
       "    text-align: start;\r\n",
       "}\r\n",
       "</style>"
      ]
     },
     "metadata": {},
     "output_type": "display_data"
    }
   ],
   "source": [
    "oneNode.Parent.AsObject().Select(i => i.Key).ToArray()"
   ]
  },
  {
   "attachments": {},
   "cell_type": "markdown",
   "metadata": {},
   "source": [
    "We can see clearly that we have been leveraging `KeyValuePair<string, JsonNode>.Key` to list all of the keys (property names) under our `top` root element. We may be correct when we put our trust in `JsonNode` equality when we state the following:"
   ]
  },
  {
   "cell_type": "code",
   "execution_count": 19,
   "metadata": {
    "dotnet_interactive": {
     "language": "csharp"
    },
    "polyglot_notebook": {
     "kernelName": "csharp"
    }
   },
   "outputs": [
    {
     "data": {
      "text/plain": [
       "(one, this is first)"
      ]
     },
     "metadata": {},
     "output_type": "display_data"
    }
   ],
   "source": [
    "KeyValuePair<string, JsonNode> pair = oneNode\n",
    "    .Parent\n",
    "    .AsObject()\n",
    "    .FirstOrDefault(i => i.Value == oneNode);\n",
    "\n",
    "string.Format($\"({pair.Key}, {pair.Value.GetValue<string>()})\")"
   ]
  },
  {
   "attachments": {},
   "cell_type": "markdown",
   "metadata": {},
   "source": [
    "Are we correct when we put our trust in `JsonNode` equality? We can be more explicit to avoid getting into the weeds:"
   ]
  },
  {
   "cell_type": "code",
   "execution_count": 20,
   "metadata": {
    "dotnet_interactive": {
     "language": "csharp"
    },
    "polyglot_notebook": {
     "kernelName": "csharp"
    }
   },
   "outputs": [
    {
     "data": {
      "text/plain": [
       "(one, this is first)"
      ]
     },
     "metadata": {},
     "output_type": "display_data"
    }
   ],
   "source": [
    "pair = oneNode\n",
    "    .Parent\n",
    "    .AsObject()\n",
    "    .Where(i => i.Value.GetValueKind() == JsonValueKind.String)\n",
    "    .FirstOrDefault(i => i.Value.GetValue<string>().ToLowerInvariant() == oneNode.GetValue<string>()\n",
    "    .ToLowerInvariant());\n",
    "\n",
    "string.Format($\"({pair.Key}, {pair.Value.GetValue<string>()})\")"
   ]
  },
  {
   "attachments": {},
   "cell_type": "markdown",
   "metadata": {},
   "source": [
    "## `JsonObject` and `IEnumerable<KeyValuePair<String,JsonNode>>`\n",
    "\n",
    "`JsonObject` [📖 [docs](https://learn.microsoft.com/en-us/dotnet/api/system.text.json.nodes.jsonobject)] looks like the Microsoft-equivalent of the Newtonsoft `JObject` [📖 [docs](https://www.newtonsoft.com/json/help/html/T_Newtonsoft_Json_Linq_JObject.htm)]. One major difference between `JsonObject` and `JObject` is the the capability `JsonObject` has to construct from `ICollection<KeyValuePair<String,JsonNode>>`:"
   ]
  },
  {
   "cell_type": "code",
   "execution_count": 21,
   "metadata": {
    "dotnet_interactive": {
     "language": "csharp"
    }
   },
   "outputs": [
    {
     "data": {
      "text/html": [
       "<table><thead><tr><th><i>key</i></th><th>value</th></tr></thead><tbody><tr><td><div class=\"dni-plaintext\"><pre>one</pre></div></td><td><div class=\"dni-plaintext\"><pre>&quot;uno&quot;</pre></div></td></tr><tr><td><div class=\"dni-plaintext\"><pre>two</pre></div></td><td><div class=\"dni-plaintext\"><pre>2</pre></div></td></tr><tr><td><div class=\"dni-plaintext\"><pre>isThree</pre></div></td><td><div class=\"dni-plaintext\"><pre>false</pre></div></td></tr><tr><td><div class=\"dni-plaintext\"><pre>four</pre></div></td><td><div class=\"dni-plaintext\"><pre>&quot;quarto&quot;</pre></div></td></tr></tbody></table><style>\r\n",
       ".dni-code-hint {\r\n",
       "    font-style: italic;\r\n",
       "    overflow: hidden;\r\n",
       "    white-space: nowrap;\r\n",
       "}\r\n",
       ".dni-treeview {\r\n",
       "    white-space: nowrap;\r\n",
       "}\r\n",
       ".dni-treeview td {\r\n",
       "    vertical-align: top;\r\n",
       "    text-align: start;\r\n",
       "}\r\n",
       "details.dni-treeview {\r\n",
       "    padding-left: 1em;\r\n",
       "}\r\n",
       "table td {\r\n",
       "    text-align: start;\r\n",
       "}\r\n",
       "table tr { \r\n",
       "    vertical-align: top; \r\n",
       "    margin: 0em 0px;\r\n",
       "}\r\n",
       "table tr td pre \r\n",
       "{ \r\n",
       "    vertical-align: top !important; \r\n",
       "    margin: 0em 0px !important;\r\n",
       "} \r\n",
       "table th {\r\n",
       "    text-align: start;\r\n",
       "}\r\n",
       "</style>"
      ]
     },
     "metadata": {},
     "output_type": "display_data"
    }
   ],
   "source": [
    "var dictionary = new Dictionary<string, JsonNode>\n",
    "{\n",
    "    { \"one\", \"uno\" },\n",
    "    { \"two\", 2 },\n",
    "    { \"isThree\", false },\n",
    "};\n",
    "\n",
    "var jO = new JsonObject(dictionary);\n",
    "\n",
    "var propertyName = \"four\";\n",
    "\n",
    "jO.Add(propertyName, \"quarto\");\n",
    "\n",
    "jO.AsJupyterDisplayDictionary()"
   ]
  },
  {
   "cell_type": "code",
   "execution_count": 22,
   "metadata": {
    "dotnet_interactive": {
     "language": "csharp"
    },
    "polyglot_notebook": {
     "kernelName": "csharp"
    }
   },
   "outputs": [
    {
     "data": {
      "text/html": [
       "<table><thead><tr><th><i>key</i></th><th>value</th></tr></thead><tbody><tr><td><div class=\"dni-plaintext\"><pre>one</pre></div></td><td><div class=\"dni-plaintext\"><pre>&quot;this is first&quot;</pre></div></td></tr><tr><td><div class=\"dni-plaintext\"><pre>two</pre></div></td><td><div class=\"dni-plaintext\"><pre>true</pre></div></td></tr><tr><td><div class=\"dni-plaintext\"><pre>two-point-five</pre></div></td><td><div class=\"dni-plaintext\"><pre>2.5</pre></div></td></tr><tr><td><div class=\"dni-plaintext\"><pre>three</pre></div></td><td><div class=\"dni-plaintext\"><pre>{\n",
       "  &quot;p1&quot;: &quot;this is three-point-one&quot;,\n",
       "  &quot;p2&quot;: &quot;this is three-point-two&quot;,\n",
       "  &quot;my-date&quot;: &quot;2019-11-22T05:58:34.573Z&quot;\n",
       "}</pre></div></td></tr></tbody></table><style>\r\n",
       ".dni-code-hint {\r\n",
       "    font-style: italic;\r\n",
       "    overflow: hidden;\r\n",
       "    white-space: nowrap;\r\n",
       "}\r\n",
       ".dni-treeview {\r\n",
       "    white-space: nowrap;\r\n",
       "}\r\n",
       ".dni-treeview td {\r\n",
       "    vertical-align: top;\r\n",
       "    text-align: start;\r\n",
       "}\r\n",
       "details.dni-treeview {\r\n",
       "    padding-left: 1em;\r\n",
       "}\r\n",
       "table td {\r\n",
       "    text-align: start;\r\n",
       "}\r\n",
       "table tr { \r\n",
       "    vertical-align: top; \r\n",
       "    margin: 0em 0px;\r\n",
       "}\r\n",
       "table tr td pre \r\n",
       "{ \r\n",
       "    vertical-align: top !important; \r\n",
       "    margin: 0em 0px !important;\r\n",
       "} \r\n",
       "table th {\r\n",
       "    text-align: start;\r\n",
       "}\r\n",
       "</style>"
      ]
     },
     "metadata": {},
     "output_type": "display_data"
    }
   ],
   "source": [
    "oneNode\n",
    "    .Parent\n",
    "    .AsJupyterDisplayDictionary()"
   ]
  },
  {
   "cell_type": "markdown",
   "metadata": {},
   "source": [
    "## what about `GetValue<DateTime>`?\n",
    "\n",
    "Above we saw `GetValue<T>` working with “any primitive value supported by current `JsonElement`.” Is `DateTime` supported?"
   ]
  },
  {
   "cell_type": "code",
   "execution_count": 23,
   "metadata": {
    "dotnet_interactive": {
     "language": "csharp"
    },
    "polyglot_notebook": {
     "kernelName": "csharp"
    }
   },
   "outputs": [
    {
     "data": {
      "text/plain": [
       "year: 2019; hour: 5"
      ]
     },
     "metadata": {},
     "output_type": "display_data"
    }
   ],
   "source": [
    "var dateTime = jNode[\"top\"][\"three\"][\"my-date\"].GetValue<DateTime>();\n",
    "\n",
    "$\"year: {dateTime.Year}; hour: {dateTime.Hour}\""
   ]
  },
  {
   "cell_type": "markdown",
   "metadata": {},
   "source": [
    "## actually deleting a child `JsonObject`\n",
    "\n",
    "In our work here, recall that `top.three` is our child `JsonObject`:"
   ]
  },
  {
   "cell_type": "code",
   "execution_count": 24,
   "metadata": {
    "dotnet_interactive": {
     "language": "csharp"
    },
    "polyglot_notebook": {
     "kernelName": "csharp"
    }
   },
   "outputs": [
    {
     "data": {
      "text/html": [
       "<div class=\"dni-plaintext\"><pre>True</pre></div><style>\r\n",
       ".dni-code-hint {\r\n",
       "    font-style: italic;\r\n",
       "    overflow: hidden;\r\n",
       "    white-space: nowrap;\r\n",
       "}\r\n",
       ".dni-treeview {\r\n",
       "    white-space: nowrap;\r\n",
       "}\r\n",
       ".dni-treeview td {\r\n",
       "    vertical-align: top;\r\n",
       "    text-align: start;\r\n",
       "}\r\n",
       "details.dni-treeview {\r\n",
       "    padding-left: 1em;\r\n",
       "}\r\n",
       "table td {\r\n",
       "    text-align: start;\r\n",
       "}\r\n",
       "table tr { \r\n",
       "    vertical-align: top; \r\n",
       "    margin: 0em 0px;\r\n",
       "}\r\n",
       "table tr td pre \r\n",
       "{ \r\n",
       "    vertical-align: top !important; \r\n",
       "    margin: 0em 0px !important;\r\n",
       "} \r\n",
       "table th {\r\n",
       "    text-align: start;\r\n",
       "}\r\n",
       "</style>"
      ]
     },
     "metadata": {},
     "output_type": "display_data"
    }
   ],
   "source": [
    "jNode[\"top\"][\"three\"].GetValueKind() == JsonValueKind.Object"
   ]
  },
  {
   "cell_type": "markdown",
   "metadata": {},
   "source": [
    "The `JsonObject.Remove` method [📖 [docs](https://learn.microsoft.com/en-us/dotnet/api/system.text.json.nodes.jsonobject.remove?view=net-8.0)] removes by property name. In this case, we have to traverse up to `top`:"
   ]
  },
  {
   "cell_type": "code",
   "execution_count": 25,
   "metadata": {
    "dotnet_interactive": {
     "language": "csharp"
    },
    "polyglot_notebook": {
     "kernelName": "csharp"
    }
   },
   "outputs": [
    {
     "data": {
      "text/html": [
       "<div class=\"dni-plaintext\"><pre>True</pre></div><style>\r\n",
       ".dni-code-hint {\r\n",
       "    font-style: italic;\r\n",
       "    overflow: hidden;\r\n",
       "    white-space: nowrap;\r\n",
       "}\r\n",
       ".dni-treeview {\r\n",
       "    white-space: nowrap;\r\n",
       "}\r\n",
       ".dni-treeview td {\r\n",
       "    vertical-align: top;\r\n",
       "    text-align: start;\r\n",
       "}\r\n",
       "details.dni-treeview {\r\n",
       "    padding-left: 1em;\r\n",
       "}\r\n",
       "table td {\r\n",
       "    text-align: start;\r\n",
       "}\r\n",
       "table tr { \r\n",
       "    vertical-align: top; \r\n",
       "    margin: 0em 0px;\r\n",
       "}\r\n",
       "table tr td pre \r\n",
       "{ \r\n",
       "    vertical-align: top !important; \r\n",
       "    margin: 0em 0px !important;\r\n",
       "} \r\n",
       "table th {\r\n",
       "    text-align: start;\r\n",
       "}\r\n",
       "</style>"
      ]
     },
     "metadata": {},
     "output_type": "display_data"
    }
   ],
   "source": [
    "jNode[\"top\"].AsObject().Remove(\"three\")"
   ]
  },
  {
   "cell_type": "code",
   "execution_count": 26,
   "metadata": {
    "dotnet_interactive": {
     "language": "csharp"
    },
    "polyglot_notebook": {
     "kernelName": "csharp"
    }
   },
   "outputs": [
    {
     "data": {
      "text/html": [
       "<table><thead><tr><th><i>key</i></th><th>value</th></tr></thead><tbody><tr><td><div class=\"dni-plaintext\"><pre>top</pre></div></td><td><div class=\"dni-plaintext\"><pre>{\n",
       "  &quot;one&quot;: &quot;this is first&quot;,\n",
       "  &quot;two&quot;: true,\n",
       "  &quot;two-point-five&quot;: 2.5\n",
       "}</pre></div></td></tr></tbody></table><style>\r\n",
       ".dni-code-hint {\r\n",
       "    font-style: italic;\r\n",
       "    overflow: hidden;\r\n",
       "    white-space: nowrap;\r\n",
       "}\r\n",
       ".dni-treeview {\r\n",
       "    white-space: nowrap;\r\n",
       "}\r\n",
       ".dni-treeview td {\r\n",
       "    vertical-align: top;\r\n",
       "    text-align: start;\r\n",
       "}\r\n",
       "details.dni-treeview {\r\n",
       "    padding-left: 1em;\r\n",
       "}\r\n",
       "table td {\r\n",
       "    text-align: start;\r\n",
       "}\r\n",
       "table tr { \r\n",
       "    vertical-align: top; \r\n",
       "    margin: 0em 0px;\r\n",
       "}\r\n",
       "table tr td pre \r\n",
       "{ \r\n",
       "    vertical-align: top !important; \r\n",
       "    margin: 0em 0px !important;\r\n",
       "} \r\n",
       "table th {\r\n",
       "    text-align: start;\r\n",
       "}\r\n",
       "</style>"
      ]
     },
     "metadata": {},
     "output_type": "display_data"
    }
   ],
   "source": [
    "jNode.AsJupyterDisplayDictionary()"
   ]
  },
  {
   "cell_type": "markdown",
   "metadata": {},
   "source": [
    "## adding a child `JsonArray`\n",
    "\n",
    "We can add an array to the `JsonObject`, `jNode[\"top\"]`, by appending a new key `threeArray` and setting it in place:"
   ]
  },
  {
   "cell_type": "code",
   "execution_count": 27,
   "metadata": {
    "dotnet_interactive": {
     "language": "csharp"
    },
    "polyglot_notebook": {
     "kernelName": "csharp"
    }
   },
   "outputs": [
    {
     "data": {
      "text/html": [
       "<table><thead><tr><th><i>key</i></th><th>value</th></tr></thead><tbody><tr><td><div class=\"dni-plaintext\"><pre>top</pre></div></td><td><div class=\"dni-plaintext\"><pre>{\n",
       "  &quot;one&quot;: &quot;this is first&quot;,\n",
       "  &quot;two&quot;: true,\n",
       "  &quot;two-point-five&quot;: 2.5,\n",
       "  &quot;threeArray&quot;: []\n",
       "}</pre></div></td></tr></tbody></table><style>\r\n",
       ".dni-code-hint {\r\n",
       "    font-style: italic;\r\n",
       "    overflow: hidden;\r\n",
       "    white-space: nowrap;\r\n",
       "}\r\n",
       ".dni-treeview {\r\n",
       "    white-space: nowrap;\r\n",
       "}\r\n",
       ".dni-treeview td {\r\n",
       "    vertical-align: top;\r\n",
       "    text-align: start;\r\n",
       "}\r\n",
       "details.dni-treeview {\r\n",
       "    padding-left: 1em;\r\n",
       "}\r\n",
       "table td {\r\n",
       "    text-align: start;\r\n",
       "}\r\n",
       "table tr { \r\n",
       "    vertical-align: top; \r\n",
       "    margin: 0em 0px;\r\n",
       "}\r\n",
       "table tr td pre \r\n",
       "{ \r\n",
       "    vertical-align: top !important; \r\n",
       "    margin: 0em 0px !important;\r\n",
       "} \r\n",
       "table th {\r\n",
       "    text-align: start;\r\n",
       "}\r\n",
       "</style>"
      ]
     },
     "metadata": {},
     "output_type": "display_data"
    }
   ],
   "source": [
    "jNode[\"top\"][\"threeArray\"] = JsonArray.Parse(\"[]\");\n",
    "\n",
    "jNode.AsJupyterDisplayDictionary()"
   ]
  },
  {
   "cell_type": "code",
   "execution_count": 28,
   "metadata": {
    "dotnet_interactive": {
     "language": "csharp"
    },
    "polyglot_notebook": {
     "kernelName": "csharp"
    }
   },
   "outputs": [
    {
     "data": {
      "text/html": [
       "<table><thead><tr><th><i>key</i></th><th>value</th></tr></thead><tbody><tr><td><div class=\"dni-plaintext\"><pre>top</pre></div></td><td><div class=\"dni-plaintext\"><pre>{\n",
       "  &quot;one&quot;: &quot;this is first&quot;,\n",
       "  &quot;two&quot;: true,\n",
       "  &quot;two-point-five&quot;: 2.5,\n",
       "  &quot;threeArray&quot;: [\n",
       "    {\n",
       "      &quot;id&quot;: 1,\n",
       "      &quot;value&quot;: &quot;one&quot;\n",
       "    },\n",
       "    {\n",
       "      &quot;id&quot;: 2,\n",
       "      &quot;value&quot;: &quot;two&quot;\n",
       "    },\n",
       "    {\n",
       "      &quot;id&quot;: 3,\n",
       "      &quot;value&quot;: &quot;three&quot;\n",
       "    }\n",
       "  ]\n",
       "}</pre></div></td></tr></tbody></table><style>\r\n",
       ".dni-code-hint {\r\n",
       "    font-style: italic;\r\n",
       "    overflow: hidden;\r\n",
       "    white-space: nowrap;\r\n",
       "}\r\n",
       ".dni-treeview {\r\n",
       "    white-space: nowrap;\r\n",
       "}\r\n",
       ".dni-treeview td {\r\n",
       "    vertical-align: top;\r\n",
       "    text-align: start;\r\n",
       "}\r\n",
       "details.dni-treeview {\r\n",
       "    padding-left: 1em;\r\n",
       "}\r\n",
       "table td {\r\n",
       "    text-align: start;\r\n",
       "}\r\n",
       "table tr { \r\n",
       "    vertical-align: top; \r\n",
       "    margin: 0em 0px;\r\n",
       "}\r\n",
       "table tr td pre \r\n",
       "{ \r\n",
       "    vertical-align: top !important; \r\n",
       "    margin: 0em 0px !important;\r\n",
       "} \r\n",
       "table th {\r\n",
       "    text-align: start;\r\n",
       "}\r\n",
       "</style>"
      ]
     },
     "metadata": {},
     "output_type": "display_data"
    }
   ],
   "source": [
    "JsonArray a = jNode[\"top\"]?[\"threeArray\"].AsArray();\n",
    "\n",
    "a.Add(JsonValue.Parse(\"{ \\\"id\\\": 1, \\\"value\\\": \\\"one\\\"}\"));\n",
    "a.Add(JsonValue.Parse(\"{ \\\"id\\\": 2, \\\"value\\\": \\\"two\\\"}\"));\n",
    "a.Add(JsonValue.Parse(\"{ \\\"id\\\": 3, \\\"value\\\": \\\"three\\\"}\"));\n",
    "\n",
    "jNode.AsJupyterDisplayDictionary()"
   ]
  },
  {
   "cell_type": "markdown",
   "metadata": {},
   "source": [
    "## removing an item from a `JsonArray`\n",
    "\n",
    "Before we see how an item in an array can be removed, let us see the effect of `JsonNode.GetPath` method [📖 [docs](https://learn.microsoft.com/en-us/dotnet/api/system.text.json.nodes.jsonnode.getpath?view=net-8.0)]:"
   ]
  },
  {
   "cell_type": "code",
   "execution_count": 29,
   "metadata": {
    "dotnet_interactive": {
     "language": "csharp"
    },
    "polyglot_notebook": {
     "kernelName": "csharp"
    }
   },
   "outputs": [
    {
     "data": {
      "text/plain": [
       "$.top.threeArray[1]"
      ]
     },
     "metadata": {},
     "output_type": "display_data"
    }
   ],
   "source": [
    "jNode[\"top\"]?[\"threeArray\"]?[1]?.GetPath()"
   ]
  },
  {
   "cell_type": "markdown",
   "metadata": {},
   "source": [
    "This is [JSON Path](https://en.wikipedia.org/wiki/JSONPath) syntax, indicating the _second_ item in our `0`-based array.\n",
    "\n",
    "Now, let us try to remove this item using `JsonArray.Remove` [📖 [docs](https://learn.microsoft.com/en-us/dotnet/api/system.text.json.nodes.jsonarray.remove?view=net-8.0)]:"
   ]
  },
  {
   "cell_type": "code",
   "execution_count": 30,
   "metadata": {
    "dotnet_interactive": {
     "language": "csharp"
    },
    "polyglot_notebook": {
     "kernelName": "csharp"
    }
   },
   "outputs": [
    {
     "data": {
      "text/html": [
       "<table><thead><tr><th><i>key</i></th><th>value</th></tr></thead><tbody><tr><td><div class=\"dni-plaintext\"><pre>top</pre></div></td><td><div class=\"dni-plaintext\"><pre>{\n",
       "  &quot;one&quot;: &quot;this is first&quot;,\n",
       "  &quot;two&quot;: true,\n",
       "  &quot;two-point-five&quot;: 2.5,\n",
       "  &quot;threeArray&quot;: [\n",
       "    {\n",
       "      &quot;id&quot;: 1,\n",
       "      &quot;value&quot;: &quot;one&quot;\n",
       "    },\n",
       "    {\n",
       "      &quot;id&quot;: 3,\n",
       "      &quot;value&quot;: &quot;three&quot;\n",
       "    }\n",
       "  ]\n",
       "}</pre></div></td></tr></tbody></table><style>\r\n",
       ".dni-code-hint {\r\n",
       "    font-style: italic;\r\n",
       "    overflow: hidden;\r\n",
       "    white-space: nowrap;\r\n",
       "}\r\n",
       ".dni-treeview {\r\n",
       "    white-space: nowrap;\r\n",
       "}\r\n",
       ".dni-treeview td {\r\n",
       "    vertical-align: top;\r\n",
       "    text-align: start;\r\n",
       "}\r\n",
       "details.dni-treeview {\r\n",
       "    padding-left: 1em;\r\n",
       "}\r\n",
       "table td {\r\n",
       "    text-align: start;\r\n",
       "}\r\n",
       "table tr { \r\n",
       "    vertical-align: top; \r\n",
       "    margin: 0em 0px;\r\n",
       "}\r\n",
       "table tr td pre \r\n",
       "{ \r\n",
       "    vertical-align: top !important; \r\n",
       "    margin: 0em 0px !important;\r\n",
       "} \r\n",
       "table th {\r\n",
       "    text-align: start;\r\n",
       "}\r\n",
       "</style>"
      ]
     },
     "metadata": {},
     "output_type": "display_data"
    }
   ],
   "source": [
    "var child = jNode[\"top\"]?[\"threeArray\"]\n",
    "    .AsArray()\n",
    "    .OfType<JsonObject>()\n",
    "    .First(jO => jO[\"id\"].GetValue<int>() == 2);\n",
    "\n",
    "jNode[\"top\"]?[\"threeArray\"]\n",
    "    .AsArray()\n",
    "    .Remove(child);\n",
    "\n",
    "jNode.AsJupyterDisplayDictionary()"
   ]
  },
  {
   "cell_type": "markdown",
   "metadata": {},
   "source": [
    "`JsonArray.Remove` deletes _by value_ instead of by array index (see `JsonArray.RemoveAt` [📖 [docs](https://learn.microsoft.com/en-us/dotnet/api/system.text.json.nodes.jsonarray.removeat?view=net-8.0)])."
   ]
  },
  {
   "cell_type": "markdown",
   "metadata": {},
   "source": [
    "## you cannot rename a `JsonObject` property name…\n",
    "\n",
    "…you can only replace it with a new property, having the same value:"
   ]
  },
  {
   "cell_type": "code",
   "execution_count": 31,
   "metadata": {
    "dotnet_interactive": {
     "language": "csharp"
    },
    "polyglot_notebook": {
     "kernelName": "csharp"
    }
   },
   "outputs": [
    {
     "data": {
      "text/html": [
       "<table><thead><tr><th><i>key</i></th><th>value</th></tr></thead><tbody><tr><td><div class=\"dni-plaintext\"><pre>top</pre></div></td><td><div class=\"dni-plaintext\"><pre>{\n",
       "  &quot;two&quot;: true,\n",
       "  &quot;two-point-five&quot;: 2.5,\n",
       "  &quot;threeArray&quot;: [\n",
       "    {\n",
       "      &quot;id&quot;: 1,\n",
       "      &quot;value&quot;: &quot;one&quot;\n",
       "    },\n",
       "    {\n",
       "      &quot;id&quot;: 3,\n",
       "      &quot;value&quot;: &quot;three&quot;\n",
       "    }\n",
       "  ],\n",
       "  &quot;one-changed&quot;: &quot;this is first&quot;\n",
       "}</pre></div></td></tr></tbody></table><style>\r\n",
       ".dni-code-hint {\r\n",
       "    font-style: italic;\r\n",
       "    overflow: hidden;\r\n",
       "    white-space: nowrap;\r\n",
       "}\r\n",
       ".dni-treeview {\r\n",
       "    white-space: nowrap;\r\n",
       "}\r\n",
       ".dni-treeview td {\r\n",
       "    vertical-align: top;\r\n",
       "    text-align: start;\r\n",
       "}\r\n",
       "details.dni-treeview {\r\n",
       "    padding-left: 1em;\r\n",
       "}\r\n",
       "table td {\r\n",
       "    text-align: start;\r\n",
       "}\r\n",
       "table tr { \r\n",
       "    vertical-align: top; \r\n",
       "    margin: 0em 0px;\r\n",
       "}\r\n",
       "table tr td pre \r\n",
       "{ \r\n",
       "    vertical-align: top !important; \r\n",
       "    margin: 0em 0px !important;\r\n",
       "} \r\n",
       "table th {\r\n",
       "    text-align: start;\r\n",
       "}\r\n",
       "</style>"
      ]
     },
     "metadata": {},
     "output_type": "display_data"
    }
   ],
   "source": [
    "JsonValue jV = jNode[\"top\"]?[\"one\"]?.AsValue();\n",
    "\n",
    "jNode[\"top\"][\"one-changed\"] = jV.GetValue<string>();\n",
    "jNode[\"top\"].AsObject().Remove(\"one\");\n",
    "\n",
    "jNode.AsJupyterDisplayDictionary()"
   ]
  },
  {
   "cell_type": "markdown",
   "metadata": {},
   "source": [
    "## calling `JsonNode.GetValue<JsonObject>` will _always_ throw an exception\n",
    "\n",
    "Let us go back to the original value of `jNode`:"
   ]
  },
  {
   "cell_type": "code",
   "execution_count": 32,
   "metadata": {
    "dotnet_interactive": {
     "language": "csharp"
    },
    "polyglot_notebook": {
     "kernelName": "csharp"
    }
   },
   "outputs": [
    {
     "data": {
      "text/html": [
       "<table><thead><tr><th><i>key</i></th><th>value</th></tr></thead><tbody><tr><td><div class=\"dni-plaintext\"><pre>top</pre></div></td><td><div class=\"dni-plaintext\"><pre>{\n",
       "  &quot;one&quot;: &quot;this is first&quot;,\n",
       "  &quot;two&quot;: true,\n",
       "  &quot;two-point-five&quot;: 2.5,\n",
       "  &quot;three&quot;: {\n",
       "    &quot;p1&quot;: &quot;this is three-point-one&quot;,\n",
       "    &quot;p2&quot;: &quot;this is three-point-two&quot;,\n",
       "    &quot;my-date&quot;: &quot;2019-11-22T05:58:34.573Z&quot;\n",
       "  }\n",
       "}</pre></div></td></tr></tbody></table><style>\r\n",
       ".dni-code-hint {\r\n",
       "    font-style: italic;\r\n",
       "    overflow: hidden;\r\n",
       "    white-space: nowrap;\r\n",
       "}\r\n",
       ".dni-treeview {\r\n",
       "    white-space: nowrap;\r\n",
       "}\r\n",
       ".dni-treeview td {\r\n",
       "    vertical-align: top;\r\n",
       "    text-align: start;\r\n",
       "}\r\n",
       "details.dni-treeview {\r\n",
       "    padding-left: 1em;\r\n",
       "}\r\n",
       "table td {\r\n",
       "    text-align: start;\r\n",
       "}\r\n",
       "table tr { \r\n",
       "    vertical-align: top; \r\n",
       "    margin: 0em 0px;\r\n",
       "}\r\n",
       "table tr td pre \r\n",
       "{ \r\n",
       "    vertical-align: top !important; \r\n",
       "    margin: 0em 0px !important;\r\n",
       "} \r\n",
       "table th {\r\n",
       "    text-align: start;\r\n",
       "}\r\n",
       "</style>"
      ]
     },
     "metadata": {},
     "output_type": "display_data"
    }
   ],
   "source": [
    "jNode = JsonNode.Parse(jsonString);\n",
    "\n",
    "jNode.AsJupyterDisplayDictionary()"
   ]
  },
  {
   "cell_type": "markdown",
   "metadata": {},
   "source": [
    "Our last call of `JsonNode.GetValue<string>` (above) might encourage us to do something like this:"
   ]
  },
  {
   "cell_type": "code",
   "execution_count": 33,
   "metadata": {
    "dotnet_interactive": {
     "language": "csharp"
    },
    "polyglot_notebook": {
     "kernelName": "csharp"
    }
   },
   "outputs": [
    {
     "ename": "Error",
     "evalue": "System.InvalidOperationException: The node must be of type 'JsonValue'.\n   at System.Text.Json.Nodes.JsonNode.GetValue[T]()\n   at Submission#33.<<Initialize>>d__0.MoveNext()\n--- End of stack trace from previous location ---\n   at Microsoft.CodeAnalysis.Scripting.ScriptExecutionState.RunSubmissionsAsync[TResult](ImmutableArray`1 precedingExecutors, Func`2 currentExecutor, StrongBox`1 exceptionHolderOpt, Func`2 catchExceptionOpt, CancellationToken cancellationToken)",
     "output_type": "error",
     "traceback": [
      "System.InvalidOperationException: The node must be of type 'JsonValue'.\n",
      "   at System.Text.Json.Nodes.JsonNode.GetValue[T]()\n",
      "   at Submission#33.<<Initialize>>d__0.MoveNext()\n",
      "--- End of stack trace from previous location ---\n",
      "   at Microsoft.CodeAnalysis.Scripting.ScriptExecutionState.RunSubmissionsAsync[TResult](ImmutableArray`1 precedingExecutors, Func`2 currentExecutor, StrongBox`1 exceptionHolderOpt, Func`2 catchExceptionOpt, CancellationToken cancellationToken)"
     ]
    }
   ],
   "source": [
    "jNode[\"top\"]?[\"three\"]?.GetValue<JsonObject>()"
   ]
  },
  {
   "cell_type": "markdown",
   "metadata": {},
   "source": [
    "Microsoft (in this current time-frame) is [telling us](https://learn.microsoft.com/en-us/dotnet/api/system.text.json.nodes.jsonnode.getvalue?view=net-8.0#remarks) that `The node must be of type 'JsonValue'` —and, when we call `JsonNode.JsonValueKind`, we may get confused:"
   ]
  },
  {
   "cell_type": "code",
   "execution_count": 34,
   "metadata": {
    "dotnet_interactive": {
     "language": "csharp"
    },
    "polyglot_notebook": {
     "kernelName": "csharp"
    }
   },
   "outputs": [
    {
     "data": {
      "text/html": [
       "<span>Object</span>"
      ]
     },
     "metadata": {},
     "output_type": "display_data"
    }
   ],
   "source": [
    "jNode[\"top\"]?[\"three\"]?.GetValueKind()"
   ]
  },
  {
   "cell_type": "markdown",
   "metadata": {},
   "source": [
    "The compiler is telling us that our `three` node is _not_ of type `JsonValue` while the `JsonNode.GetValueKind` method [📖 [docs](https://learn.microsoft.com/en-us/dotnet/api/system.text.json.nodes.jsonnode.getvaluekind?view=net-8.0)] is dutifully returning `Object` 😐 The innocent may incorrectly assume that `Object` is but one of the many `JsonValue` “kinds” because we have made the mistake of thinking that `GetValueKind` is actually short for `GetJsonValueKind`. We will have to get a new pair of glasses 👓✨\n",
    "\n",
    "The recursive output of a Jupyter notebook displaying our `jNode` without my `AsJupyterDisplayDictionary` extension method, will show that `three` is of type `JsonObject` while the other sibling properties are of type `JsonValuePrimitive<JsonElement>`.\n",
    "\n",
    "The assumption here is that `GetValue<T>` only works on nodes of type `JsonValuePrimitive<T>`.\n",
    "\n",
    "BTW: can we get `JsonElement` from one of the primitive properties?"
   ]
  },
  {
   "cell_type": "code",
   "execution_count": 35,
   "metadata": {
    "dotnet_interactive": {
     "language": "csharp"
    },
    "polyglot_notebook": {
     "kernelName": "csharp"
    }
   },
   "outputs": [
    {
     "data": {
      "text/html": [
       "<span>&quot;this is first&quot;</span><style>\r\n",
       ".dni-code-hint {\r\n",
       "    font-style: italic;\r\n",
       "    overflow: hidden;\r\n",
       "    white-space: nowrap;\r\n",
       "}\r\n",
       ".dni-treeview {\r\n",
       "    white-space: nowrap;\r\n",
       "}\r\n",
       ".dni-treeview td {\r\n",
       "    vertical-align: top;\r\n",
       "    text-align: start;\r\n",
       "}\r\n",
       "details.dni-treeview {\r\n",
       "    padding-left: 1em;\r\n",
       "}\r\n",
       "table td {\r\n",
       "    text-align: start;\r\n",
       "}\r\n",
       "table tr { \r\n",
       "    vertical-align: top; \r\n",
       "    margin: 0em 0px;\r\n",
       "}\r\n",
       "table tr td pre \r\n",
       "{ \r\n",
       "    vertical-align: top !important; \r\n",
       "    margin: 0em 0px !important;\r\n",
       "} \r\n",
       "table th {\r\n",
       "    text-align: start;\r\n",
       "}\r\n",
       "</style>"
      ]
     },
     "metadata": {},
     "output_type": "display_data"
    }
   ],
   "source": [
    "jNode[\"top\"]?[\"one\"]?.GetValue<JsonElement>()"
   ]
  },
  {
   "cell_type": "markdown",
   "metadata": {},
   "source": [
    "The short answer to my question is _yes_. And the long answer might go into the weeds of how to maintain “elegant” API design in one namespace, `System.Text.Json.Nodes`, while dealing with legacy types in `System.Text.Json`."
   ]
  },
  {
   "cell_type": "markdown",
   "metadata": {},
   "source": [
    "## the `JsonNode.DeepClone` method, available in .NET 8\n",
    "\n",
    "My real intent behind the folly of `GetValue<JsonObject>()` is what Microsoft provides in the .NET 8 time-frame—the `JsonNode.DeepClone` method [📖 [docs](https://learn.microsoft.com/en-us/dotnet/api/system.text.json.nodes.jsonnode.deepclone?view=net-8.0)]:"
   ]
  },
  {
   "cell_type": "code",
   "execution_count": 36,
   "metadata": {
    "dotnet_interactive": {
     "language": "csharp"
    },
    "polyglot_notebook": {
     "kernelName": "csharp"
    }
   },
   "outputs": [
    {
     "data": {
      "text/html": [
       "<table><thead><tr><th><i>key</i></th><th>value</th></tr></thead><tbody><tr><td><div class=\"dni-plaintext\"><pre>p1</pre></div></td><td><div class=\"dni-plaintext\"><pre>&quot;this is three-point-one&quot;</pre></div></td></tr><tr><td><div class=\"dni-plaintext\"><pre>p2</pre></div></td><td><div class=\"dni-plaintext\"><pre>&quot;this is three-point-two&quot;</pre></div></td></tr><tr><td><div class=\"dni-plaintext\"><pre>my-date</pre></div></td><td><div class=\"dni-plaintext\"><pre>&quot;2019-11-22T05:58:34.573Z&quot;</pre></div></td></tr></tbody></table><style>\r\n",
       ".dni-code-hint {\r\n",
       "    font-style: italic;\r\n",
       "    overflow: hidden;\r\n",
       "    white-space: nowrap;\r\n",
       "}\r\n",
       ".dni-treeview {\r\n",
       "    white-space: nowrap;\r\n",
       "}\r\n",
       ".dni-treeview td {\r\n",
       "    vertical-align: top;\r\n",
       "    text-align: start;\r\n",
       "}\r\n",
       "details.dni-treeview {\r\n",
       "    padding-left: 1em;\r\n",
       "}\r\n",
       "table td {\r\n",
       "    text-align: start;\r\n",
       "}\r\n",
       "table tr { \r\n",
       "    vertical-align: top; \r\n",
       "    margin: 0em 0px;\r\n",
       "}\r\n",
       "table tr td pre \r\n",
       "{ \r\n",
       "    vertical-align: top !important; \r\n",
       "    margin: 0em 0px !important;\r\n",
       "} \r\n",
       "table th {\r\n",
       "    text-align: start;\r\n",
       "}\r\n",
       "</style>"
      ]
     },
     "metadata": {},
     "output_type": "display_data"
    }
   ],
   "source": [
    "jNode[\"top\"]?[\"three\"]?.DeepClone().AsJupyterDisplayDictionary()"
   ]
  },
  {
   "cell_type": "markdown",
   "metadata": {},
   "source": [
    "Under the .NET 6 regime, we can resort to workarounds like this:"
   ]
  },
  {
   "cell_type": "code",
   "execution_count": 37,
   "metadata": {
    "dotnet_interactive": {
     "language": "csharp"
    },
    "polyglot_notebook": {
     "kernelName": "csharp"
    }
   },
   "outputs": [
    {
     "data": {
      "text/html": [
       "<table><thead><tr><th><i>key</i></th><th>value</th></tr></thead><tbody><tr><td><div class=\"dni-plaintext\"><pre>p1</pre></div></td><td><div class=\"dni-plaintext\"><pre>&quot;this is three-point-one&quot;</pre></div></td></tr><tr><td><div class=\"dni-plaintext\"><pre>p2</pre></div></td><td><div class=\"dni-plaintext\"><pre>&quot;this is three-point-two&quot;</pre></div></td></tr><tr><td><div class=\"dni-plaintext\"><pre>my-date</pre></div></td><td><div class=\"dni-plaintext\"><pre>&quot;2019-11-22T05:58:34.573Z&quot;</pre></div></td></tr></tbody></table><style>\r\n",
       ".dni-code-hint {\r\n",
       "    font-style: italic;\r\n",
       "    overflow: hidden;\r\n",
       "    white-space: nowrap;\r\n",
       "}\r\n",
       ".dni-treeview {\r\n",
       "    white-space: nowrap;\r\n",
       "}\r\n",
       ".dni-treeview td {\r\n",
       "    vertical-align: top;\r\n",
       "    text-align: start;\r\n",
       "}\r\n",
       "details.dni-treeview {\r\n",
       "    padding-left: 1em;\r\n",
       "}\r\n",
       "table td {\r\n",
       "    text-align: start;\r\n",
       "}\r\n",
       "table tr { \r\n",
       "    vertical-align: top; \r\n",
       "    margin: 0em 0px;\r\n",
       "}\r\n",
       "table tr td pre \r\n",
       "{ \r\n",
       "    vertical-align: top !important; \r\n",
       "    margin: 0em 0px !important;\r\n",
       "} \r\n",
       "table th {\r\n",
       "    text-align: start;\r\n",
       "}\r\n",
       "</style>"
      ]
     },
     "metadata": {},
     "output_type": "display_data"
    }
   ],
   "source": [
    "var json = jNode[\"top\"]?[\"three\"]?.ToJsonString();\n",
    "\n",
    "JsonObject.Parse(json).AsJupyterDisplayDictionary()"
   ]
  },
  {
   "cell_type": "markdown",
   "metadata": {},
   "source": [
    "Let us go back to our previous caveat: ‘you cannot rename a `JsonObject` property name…’ and ‘rename’ the property name for our `JsonObject` under the tyranny of .NET 6:"
   ]
  },
  {
   "cell_type": "code",
   "execution_count": 38,
   "metadata": {
    "dotnet_interactive": {
     "language": "csharp"
    },
    "polyglot_notebook": {
     "kernelName": "csharp"
    }
   },
   "outputs": [
    {
     "data": {
      "text/html": [
       "<table><thead><tr><th><i>key</i></th><th>value</th></tr></thead><tbody><tr><td><div class=\"dni-plaintext\"><pre>top</pre></div></td><td><div class=\"dni-plaintext\"><pre>{\n",
       "  &quot;one&quot;: &quot;this is first&quot;,\n",
       "  &quot;two&quot;: true,\n",
       "  &quot;two-point-five&quot;: 2.5,\n",
       "  &quot;three-changed&quot;: {\n",
       "    &quot;p1&quot;: &quot;this is three-point-one&quot;,\n",
       "    &quot;p2&quot;: &quot;this is three-point-two&quot;,\n",
       "    &quot;my-date&quot;: &quot;2019-11-22T05:58:34.573Z&quot;\n",
       "  }\n",
       "}</pre></div></td></tr></tbody></table><style>\r\n",
       ".dni-code-hint {\r\n",
       "    font-style: italic;\r\n",
       "    overflow: hidden;\r\n",
       "    white-space: nowrap;\r\n",
       "}\r\n",
       ".dni-treeview {\r\n",
       "    white-space: nowrap;\r\n",
       "}\r\n",
       ".dni-treeview td {\r\n",
       "    vertical-align: top;\r\n",
       "    text-align: start;\r\n",
       "}\r\n",
       "details.dni-treeview {\r\n",
       "    padding-left: 1em;\r\n",
       "}\r\n",
       "table td {\r\n",
       "    text-align: start;\r\n",
       "}\r\n",
       "table tr { \r\n",
       "    vertical-align: top; \r\n",
       "    margin: 0em 0px;\r\n",
       "}\r\n",
       "table tr td pre \r\n",
       "{ \r\n",
       "    vertical-align: top !important; \r\n",
       "    margin: 0em 0px !important;\r\n",
       "} \r\n",
       "table th {\r\n",
       "    text-align: start;\r\n",
       "}\r\n",
       "</style>"
      ]
     },
     "metadata": {},
     "output_type": "display_data"
    }
   ],
   "source": [
    "jNode[\"top\"][\"three-changed\"] = JsonObject.Parse(json);\n",
    "jNode[\"top\"].AsObject().Remove(\"three\");\n",
    "\n",
    "jNode.AsJupyterDisplayDictionary()"
   ]
  },
  {
   "cell_type": "markdown",
   "metadata": {},
   "source": [
    "## <!-- -->\n",
    "\n",
    "[Bryan Wilhite is on LinkedIn](https://www.linkedin.com/in/wilhite)🇺🇸💼"
   ]
  }
 ],
 "metadata": {
  "kernelspec": {
   "display_name": ".NET (C#)",
   "language": "C#",
   "name": ".net-csharp"
  },
  "language_info": {
   "name": "polyglot-notebook"
  },
  "polyglot_notebook": {
   "kernelInfo": {
    "defaultKernelName": "csharp",
    "items": [
     {
      "aliases": [],
      "name": "csharp"
     }
    ]
   }
  }
 },
 "nbformat": 4,
 "nbformat_minor": 2
}
