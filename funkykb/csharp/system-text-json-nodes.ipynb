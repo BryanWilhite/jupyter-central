{
 "cells": [
  {
   "attachments": {},
   "cell_type": "markdown",
   "metadata": {
    "dotnet_interactive": {
     "language": "csharp"
    },
    "polyglot_notebook": {
     "kernelName": "csharp"
    }
   },
   "source": [
    "# `System.Text.Json.Nodes`\n",
    "\n",
    ">Provides types for handling an in-memory writeable document object model (DOM) for random access of the JSON elements within a structured view of the data. [📖 [docs](https://docs.microsoft.com/en-us/dotnet/api/system.text.json.nodes)]\n",
    "\n",
    "Based on my experience with the older class definitions under `System.Text.Json`, I interpret the quote above as a relief to the the frustrating limitations of having a high-performance read-only API for JSON. However, there is a warning in the phrase “in-memory writeable document,” starting with _in-memory_: surely, anything done with the class definitions under `System.Text.Json.Nodes` will be resource expensive."
   ]
  },
  {
   "attachments": {},
   "cell_type": "markdown",
   "metadata": {
    "dotnet_interactive": {
     "language": "csharp"
    },
    "polyglot_notebook": {
     "kernelName": "csharp"
    }
   },
   "source": [
    "## `JsonNode`\n",
    "\n",
    "To “get started” with `System.Text.Json.Nodes`, I assume we start with `JsonNode.Parse` [📖 [docs](https://docs.microsoft.com/en-us/dotnet/api/system.text.json.nodes.jsonnode.parse)] :"
   ]
  },
  {
   "cell_type": "code",
   "execution_count": 2,
   "metadata": {
    "dotnet_interactive": {
     "language": "csharp"
    },
    "polyglot_notebook": {
     "kernelName": "csharp"
    },
    "vscode": {
     "languageId": "polyglot-notebook"
    }
   },
   "outputs": [
    {
     "data": {
      "text/html": [
       "<table><thead><tr><th><i>key</i></th><th>value</th></tr></thead><tbody><tr><td>top</td><td><table><thead><tr><th><i>key</i></th><th><i>type</i></th><th>value</th></tr></thead><tbody><tr><td>one</td><td><span><a href=\"https://docs.microsoft.com/dotnet/api/system.text.json.nodes.jsonvaluetrimmable-1?view=net-7.0\">System.Text.Json.Nodes.JsonValueTrimmable&lt;System.Text.Json.JsonElement&gt;</a></span></td><td><details class=\"dni-treeview\"><summary><span class=\"dni-code-hint\"><code>this is first</code></span></summary><div><table><thead><tr></tr></thead><tbody><tr><td>Value</td><td><span>&quot;this is first&quot;</span></td></tr><tr><td>Options</td><td><div class=\"dni-plaintext\"><pre>&lt;null&gt;</pre></div></td></tr><tr><td>Parent</td><td><table><thead><tr><th><i>key</i></th><th><i>type</i></th><th>value</th></tr></thead><tbody><tr><td>one</td><td><span><a href=\"https://docs.microsoft.com/dotnet/api/system.text.json.nodes.jsonvaluetrimmable-1?view=net-7.0\">System.Text.Json.Nodes.JsonValueTrimmable&lt;System.Text.Json.JsonElement&gt;</a></span></td><td><details class=\"dni-treeview\"><summary><span class=\"dni-code-hint\"><code>this is first</code></span></summary><div><table><thead><tr></tr></thead><tbody><tr><td>Value</td><td><span>&quot;this is first&quot;</span></td></tr><tr><td>Options</td><td><div class=\"dni-plaintext\"><pre>&lt;null&gt;</pre></div></td></tr><tr><td>Parent</td><td><table><thead><tr><th><i>key</i></th><th><i>type</i></th><th>value</th></tr></thead><tbody><tr><td>one</td><td>System.Text.Json.Nodes.JsonValueTrimmable`1[System.Text.Json.JsonElement]</td><td>this is first</td></tr><tr><td>two</td><td>System.Text.Json.Nodes.JsonValueTrimmable`1[System.Text.Json.JsonElement]</td><td>this is second</td></tr><tr><td>three</td><td>System.Text.Json.Nodes.JsonObject</td><td>[ [p1, this is three-point-one], [p2, this is three-point-two] ]</td></tr></tbody></table></td></tr><tr><td>Root</td><td><table><thead><tr><th><i>key</i></th><th>value</th></tr></thead><tbody><tr><td>top</td><td>[ [one, this is first], [two, this is second], [three, {\n",
       "  \"p1\": \"this is three-point-one\",\n",
       "  \"p2\": \"this is three-point-two\"\n",
       "}] ]</td></tr></tbody></table></td></tr><tr><td>_value</td><td><span>&quot;this is first&quot;</span></td></tr></tbody></table></div></details></td></tr><tr><td>two</td><td><span><a href=\"https://docs.microsoft.com/dotnet/api/system.text.json.nodes.jsonvaluetrimmable-1?view=net-7.0\">System.Text.Json.Nodes.JsonValueTrimmable&lt;System.Text.Json.JsonElement&gt;</a></span></td><td><details class=\"dni-treeview\"><summary><span class=\"dni-code-hint\"><code>this is second</code></span></summary><div><table><thead><tr></tr></thead><tbody><tr><td>Value</td><td><span>&quot;this is second&quot;</span></td></tr><tr><td>Options</td><td><div class=\"dni-plaintext\"><pre>&lt;null&gt;</pre></div></td></tr><tr><td>Parent</td><td><table><thead><tr><th><i>key</i></th><th><i>type</i></th><th>value</th></tr></thead><tbody><tr><td>one</td><td>System.Text.Json.Nodes.JsonValueTrimmable`1[System.Text.Json.JsonElement]</td><td>this is first</td></tr><tr><td>two</td><td>System.Text.Json.Nodes.JsonValueTrimmable`1[System.Text.Json.JsonElement]</td><td>this is second</td></tr><tr><td>three</td><td>System.Text.Json.Nodes.JsonObject</td><td>[ [p1, this is three-point-one], [p2, this is three-point-two] ]</td></tr></tbody></table></td></tr><tr><td>Root</td><td><table><thead><tr><th><i>key</i></th><th>value</th></tr></thead><tbody><tr><td>top</td><td>[ [one, this is first], [two, this is second], [three, {\n",
       "  \"p1\": \"this is three-point-one\",\n",
       "  \"p2\": \"this is three-point-two\"\n",
       "}] ]</td></tr></tbody></table></td></tr><tr><td>_value</td><td><span>&quot;this is second&quot;</span></td></tr></tbody></table></div></details></td></tr><tr><td>three</td><td><span><a href=\"https://docs.microsoft.com/dotnet/api/system.text.json.nodes.jsonobject?view=net-7.0\">System.Text.Json.Nodes.JsonObject</a></span></td><td><table><thead><tr><th><i>key</i></th><th>value</th></tr></thead><tbody><tr><td>p1</td><td><details class=\"dni-treeview\"><summary><span class=\"dni-code-hint\"><code>this is three-point-one</code></span></summary><div><table><thead><tr></tr></thead><tbody><tr><td>Value</td><td>this is three-point-one</td></tr><tr><td>Options</td><td><div class=\"dni-plaintext\"><pre>&lt;null&gt;</pre></div></td></tr><tr><td>Parent</td><td>[ [p1, this is three-point-one], [p2, this is three-point-two] ]</td></tr><tr><td>Root</td><td>[ [top, {\n",
       "  \"one\": \"this is first\",\n",
       "  \"two\": \"this is second\",\n",
       "  \"three\": {\n",
       "    \"p1\": \"this is three-point-one\",\n",
       "    \"p2\": \"this is three-point-two\"\n",
       "  }\n",
       "}] ]</td></tr><tr><td>_value</td><td>this is three-point-one</td></tr></tbody></table></div></details></td></tr><tr><td>p2</td><td><details class=\"dni-treeview\"><summary><span class=\"dni-code-hint\"><code>this is three-point-two</code></span></summary><div><table><thead><tr></tr></thead><tbody><tr><td>Value</td><td>this is three-point-two</td></tr><tr><td>Options</td><td><div class=\"dni-plaintext\"><pre>&lt;null&gt;</pre></div></td></tr><tr><td>Parent</td><td>[ [p1, this is three-point-one], [p2, this is three-point-two] ]</td></tr><tr><td>Root</td><td>[ [top, {\n",
       "  \"one\": \"this is first\",\n",
       "  \"two\": \"this is second\",\n",
       "  \"three\": {\n",
       "    \"p1\": \"this is three-point-one\",\n",
       "    \"p2\": \"this is three-point-two\"\n",
       "  }\n",
       "}] ]</td></tr><tr><td>_value</td><td>this is three-point-two</td></tr></tbody></table></div></details></td></tr></tbody></table></td></tr></tbody></table></td></tr><tr><td>Root</td><td><table><thead><tr><th><i>key</i></th><th>value</th></tr></thead><tbody><tr><td>top</td><td><table><thead><tr><th><i>key</i></th><th><i>type</i></th><th>value</th></tr></thead><tbody><tr><td>one</td><td><span><a href=\"https://docs.microsoft.com/dotnet/api/system.text.json.nodes.jsonvaluetrimmable-1?view=net-7.0\">System.Text.Json.Nodes.JsonValueTrimmable&lt;System.Text.Json.JsonElement&gt;</a></span></td><td><details class=\"dni-treeview\"><summary><span class=\"dni-code-hint\"><code>this is first</code></span></summary><div><table><thead><tr></tr></thead><tbody><tr><td>Value</td><td>this is first</td></tr><tr><td>Options</td><td><div class=\"dni-plaintext\"><pre>&lt;null&gt;</pre></div></td></tr><tr><td>Parent</td><td>[ [one, this is first], [two, this is second], [three, {\n",
       "  \"p1\": \"this is three-point-one\",\n",
       "  \"p2\": \"this is three-point-two\"\n",
       "}] ]</td></tr><tr><td>Root</td><td>[ [top, {\n",
       "  \"one\": \"this is first\",\n",
       "  \"two\": \"this is second\",\n",
       "  \"three\": {\n",
       "    \"p1\": \"this is three-point-one\",\n",
       "    \"p2\": \"this is three-point-two\"\n",
       "  }\n",
       "}] ]</td></tr><tr><td>_value</td><td>this is first</td></tr></tbody></table></div></details></td></tr><tr><td>two</td><td><span><a href=\"https://docs.microsoft.com/dotnet/api/system.text.json.nodes.jsonvaluetrimmable-1?view=net-7.0\">System.Text.Json.Nodes.JsonValueTrimmable&lt;System.Text.Json.JsonElement&gt;</a></span></td><td><details class=\"dni-treeview\"><summary><span class=\"dni-code-hint\"><code>this is second</code></span></summary><div><table><thead><tr></tr></thead><tbody><tr><td>Value</td><td>this is second</td></tr><tr><td>Options</td><td><div class=\"dni-plaintext\"><pre>&lt;null&gt;</pre></div></td></tr><tr><td>Parent</td><td>[ [one, this is first], [two, this is second], [three, {\n",
       "  \"p1\": \"this is three-point-one\",\n",
       "  \"p2\": \"this is three-point-two\"\n",
       "}] ]</td></tr><tr><td>Root</td><td>[ [top, {\n",
       "  \"one\": \"this is first\",\n",
       "  \"two\": \"this is second\",\n",
       "  \"three\": {\n",
       "    \"p1\": \"this is three-point-one\",\n",
       "    \"p2\": \"this is three-point-two\"\n",
       "  }\n",
       "}] ]</td></tr><tr><td>_value</td><td>this is second</td></tr></tbody></table></div></details></td></tr><tr><td>three</td><td><span><a href=\"https://docs.microsoft.com/dotnet/api/system.text.json.nodes.jsonobject?view=net-7.0\">System.Text.Json.Nodes.JsonObject</a></span></td><td><table><thead><tr><th><i>key</i></th><th>value</th></tr></thead><tbody><tr><td>p1</td><td>this is three-point-one</td></tr><tr><td>p2</td><td>this is three-point-two</td></tr></tbody></table></td></tr></tbody></table></td></tr></tbody></table></td></tr><tr><td>_value</td><td><span>&quot;this is first&quot;</span></td></tr></tbody></table></div></details></td></tr><tr><td>two</td><td><span><a href=\"https://docs.microsoft.com/dotnet/api/system.text.json.nodes.jsonvaluetrimmable-1?view=net-7.0\">System.Text.Json.Nodes.JsonValueTrimmable&lt;System.Text.Json.JsonElement&gt;</a></span></td><td><details class=\"dni-treeview\"><summary><span class=\"dni-code-hint\"><code>this is second</code></span></summary><div><table><thead><tr></tr></thead><tbody><tr><td>Value</td><td><span>&quot;this is second&quot;</span></td></tr><tr><td>Options</td><td><div class=\"dni-plaintext\"><pre>&lt;null&gt;</pre></div></td></tr><tr><td>Parent</td><td><table><thead><tr><th><i>key</i></th><th><i>type</i></th><th>value</th></tr></thead><tbody><tr><td>one</td><td><span><a href=\"https://docs.microsoft.com/dotnet/api/system.text.json.nodes.jsonvaluetrimmable-1?view=net-7.0\">System.Text.Json.Nodes.JsonValueTrimmable&lt;System.Text.Json.JsonElement&gt;</a></span></td><td><details class=\"dni-treeview\"><summary><span class=\"dni-code-hint\"><code>this is first</code></span></summary><div><table><thead><tr></tr></thead><tbody><tr><td>Value</td><td><span>&quot;this is first&quot;</span></td></tr><tr><td>Options</td><td><div class=\"dni-plaintext\"><pre>&lt;null&gt;</pre></div></td></tr><tr><td>Parent</td><td><table><thead><tr><th><i>key</i></th><th><i>type</i></th><th>value</th></tr></thead><tbody><tr><td>one</td><td>System.Text.Json.Nodes.JsonValueTrimmable`1[System.Text.Json.JsonElement]</td><td>this is first</td></tr><tr><td>two</td><td>System.Text.Json.Nodes.JsonValueTrimmable`1[System.Text.Json.JsonElement]</td><td>this is second</td></tr><tr><td>three</td><td>System.Text.Json.Nodes.JsonObject</td><td>[ [p1, this is three-point-one], [p2, this is three-point-two] ]</td></tr></tbody></table></td></tr><tr><td>Root</td><td><table><thead><tr><th><i>key</i></th><th>value</th></tr></thead><tbody><tr><td>top</td><td>[ [one, this is first], [two, this is second], [three, {\n",
       "  \"p1\": \"this is three-point-one\",\n",
       "  \"p2\": \"this is three-point-two\"\n",
       "}] ]</td></tr></tbody></table></td></tr><tr><td>_value</td><td><span>&quot;this is first&quot;</span></td></tr></tbody></table></div></details></td></tr><tr><td>two</td><td><span><a href=\"https://docs.microsoft.com/dotnet/api/system.text.json.nodes.jsonvaluetrimmable-1?view=net-7.0\">System.Text.Json.Nodes.JsonValueTrimmable&lt;System.Text.Json.JsonElement&gt;</a></span></td><td><details class=\"dni-treeview\"><summary><span class=\"dni-code-hint\"><code>this is second</code></span></summary><div><table><thead><tr></tr></thead><tbody><tr><td>Value</td><td><span>&quot;this is second&quot;</span></td></tr><tr><td>Options</td><td><div class=\"dni-plaintext\"><pre>&lt;null&gt;</pre></div></td></tr><tr><td>Parent</td><td><table><thead><tr><th><i>key</i></th><th><i>type</i></th><th>value</th></tr></thead><tbody><tr><td>one</td><td>System.Text.Json.Nodes.JsonValueTrimmable`1[System.Text.Json.JsonElement]</td><td>this is first</td></tr><tr><td>two</td><td>System.Text.Json.Nodes.JsonValueTrimmable`1[System.Text.Json.JsonElement]</td><td>this is second</td></tr><tr><td>three</td><td>System.Text.Json.Nodes.JsonObject</td><td>[ [p1, this is three-point-one], [p2, this is three-point-two] ]</td></tr></tbody></table></td></tr><tr><td>Root</td><td><table><thead><tr><th><i>key</i></th><th>value</th></tr></thead><tbody><tr><td>top</td><td>[ [one, this is first], [two, this is second], [three, {\n",
       "  \"p1\": \"this is three-point-one\",\n",
       "  \"p2\": \"this is three-point-two\"\n",
       "}] ]</td></tr></tbody></table></td></tr><tr><td>_value</td><td><span>&quot;this is second&quot;</span></td></tr></tbody></table></div></details></td></tr><tr><td>three</td><td><span><a href=\"https://docs.microsoft.com/dotnet/api/system.text.json.nodes.jsonobject?view=net-7.0\">System.Text.Json.Nodes.JsonObject</a></span></td><td><table><thead><tr><th><i>key</i></th><th>value</th></tr></thead><tbody><tr><td>p1</td><td><details class=\"dni-treeview\"><summary><span class=\"dni-code-hint\"><code>this is three-point-one</code></span></summary><div><table><thead><tr></tr></thead><tbody><tr><td>Value</td><td>this is three-point-one</td></tr><tr><td>Options</td><td><div class=\"dni-plaintext\"><pre>&lt;null&gt;</pre></div></td></tr><tr><td>Parent</td><td>[ [p1, this is three-point-one], [p2, this is three-point-two] ]</td></tr><tr><td>Root</td><td>[ [top, {\n",
       "  \"one\": \"this is first\",\n",
       "  \"two\": \"this is second\",\n",
       "  \"three\": {\n",
       "    \"p1\": \"this is three-point-one\",\n",
       "    \"p2\": \"this is three-point-two\"\n",
       "  }\n",
       "}] ]</td></tr><tr><td>_value</td><td>this is three-point-one</td></tr></tbody></table></div></details></td></tr><tr><td>p2</td><td><details class=\"dni-treeview\"><summary><span class=\"dni-code-hint\"><code>this is three-point-two</code></span></summary><div><table><thead><tr></tr></thead><tbody><tr><td>Value</td><td>this is three-point-two</td></tr><tr><td>Options</td><td><div class=\"dni-plaintext\"><pre>&lt;null&gt;</pre></div></td></tr><tr><td>Parent</td><td>[ [p1, this is three-point-one], [p2, this is three-point-two] ]</td></tr><tr><td>Root</td><td>[ [top, {\n",
       "  \"one\": \"this is first\",\n",
       "  \"two\": \"this is second\",\n",
       "  \"three\": {\n",
       "    \"p1\": \"this is three-point-one\",\n",
       "    \"p2\": \"this is three-point-two\"\n",
       "  }\n",
       "}] ]</td></tr><tr><td>_value</td><td>this is three-point-two</td></tr></tbody></table></div></details></td></tr></tbody></table></td></tr></tbody></table></td></tr><tr><td>Root</td><td><table><thead><tr><th><i>key</i></th><th>value</th></tr></thead><tbody><tr><td>top</td><td><table><thead><tr><th><i>key</i></th><th><i>type</i></th><th>value</th></tr></thead><tbody><tr><td>one</td><td><span><a href=\"https://docs.microsoft.com/dotnet/api/system.text.json.nodes.jsonvaluetrimmable-1?view=net-7.0\">System.Text.Json.Nodes.JsonValueTrimmable&lt;System.Text.Json.JsonElement&gt;</a></span></td><td><details class=\"dni-treeview\"><summary><span class=\"dni-code-hint\"><code>this is first</code></span></summary><div><table><thead><tr></tr></thead><tbody><tr><td>Value</td><td>this is first</td></tr><tr><td>Options</td><td><div class=\"dni-plaintext\"><pre>&lt;null&gt;</pre></div></td></tr><tr><td>Parent</td><td>[ [one, this is first], [two, this is second], [three, {\n",
       "  \"p1\": \"this is three-point-one\",\n",
       "  \"p2\": \"this is three-point-two\"\n",
       "}] ]</td></tr><tr><td>Root</td><td>[ [top, {\n",
       "  \"one\": \"this is first\",\n",
       "  \"two\": \"this is second\",\n",
       "  \"three\": {\n",
       "    \"p1\": \"this is three-point-one\",\n",
       "    \"p2\": \"this is three-point-two\"\n",
       "  }\n",
       "}] ]</td></tr><tr><td>_value</td><td>this is first</td></tr></tbody></table></div></details></td></tr><tr><td>two</td><td><span><a href=\"https://docs.microsoft.com/dotnet/api/system.text.json.nodes.jsonvaluetrimmable-1?view=net-7.0\">System.Text.Json.Nodes.JsonValueTrimmable&lt;System.Text.Json.JsonElement&gt;</a></span></td><td><details class=\"dni-treeview\"><summary><span class=\"dni-code-hint\"><code>this is second</code></span></summary><div><table><thead><tr></tr></thead><tbody><tr><td>Value</td><td>this is second</td></tr><tr><td>Options</td><td><div class=\"dni-plaintext\"><pre>&lt;null&gt;</pre></div></td></tr><tr><td>Parent</td><td>[ [one, this is first], [two, this is second], [three, {\n",
       "  \"p1\": \"this is three-point-one\",\n",
       "  \"p2\": \"this is three-point-two\"\n",
       "}] ]</td></tr><tr><td>Root</td><td>[ [top, {\n",
       "  \"one\": \"this is first\",\n",
       "  \"two\": \"this is second\",\n",
       "  \"three\": {\n",
       "    \"p1\": \"this is three-point-one\",\n",
       "    \"p2\": \"this is three-point-two\"\n",
       "  }\n",
       "}] ]</td></tr><tr><td>_value</td><td>this is second</td></tr></tbody></table></div></details></td></tr><tr><td>three</td><td><span><a href=\"https://docs.microsoft.com/dotnet/api/system.text.json.nodes.jsonobject?view=net-7.0\">System.Text.Json.Nodes.JsonObject</a></span></td><td><table><thead><tr><th><i>key</i></th><th>value</th></tr></thead><tbody><tr><td>p1</td><td>this is three-point-one</td></tr><tr><td>p2</td><td>this is three-point-two</td></tr></tbody></table></td></tr></tbody></table></td></tr></tbody></table></td></tr><tr><td>_value</td><td><span>&quot;this is second&quot;</span></td></tr></tbody></table></div></details></td></tr><tr><td>three</td><td><span><a href=\"https://docs.microsoft.com/dotnet/api/system.text.json.nodes.jsonobject?view=net-7.0\">System.Text.Json.Nodes.JsonObject</a></span></td><td><table><thead><tr><th><i>key</i></th><th>value</th></tr></thead><tbody><tr><td>p1</td><td><details class=\"dni-treeview\"><summary><span class=\"dni-code-hint\"><code>this is three-point-one</code></span></summary><div><table><thead><tr></tr></thead><tbody><tr><td>Value</td><td><span>&quot;this is three-point-one&quot;</span></td></tr><tr><td>Options</td><td><div class=\"dni-plaintext\"><pre>&lt;null&gt;</pre></div></td></tr><tr><td>Parent</td><td><table><thead><tr><th><i>key</i></th><th>value</th></tr></thead><tbody><tr><td>p1</td><td><details class=\"dni-treeview\"><summary><span class=\"dni-code-hint\"><code>this is three-point-one</code></span></summary><div><table><thead><tr></tr></thead><tbody><tr><td>Value</td><td>this is three-point-one</td></tr><tr><td>Options</td><td><div class=\"dni-plaintext\"><pre>&lt;null&gt;</pre></div></td></tr><tr><td>Parent</td><td>[ [p1, this is three-point-one], [p2, this is three-point-two] ]</td></tr><tr><td>Root</td><td>[ [top, {\n",
       "  \"one\": \"this is first\",\n",
       "  \"two\": \"this is second\",\n",
       "  \"three\": {\n",
       "    \"p1\": \"this is three-point-one\",\n",
       "    \"p2\": \"this is three-point-two\"\n",
       "  }\n",
       "}] ]</td></tr><tr><td>_value</td><td>this is three-point-one</td></tr></tbody></table></div></details></td></tr><tr><td>p2</td><td><details class=\"dni-treeview\"><summary><span class=\"dni-code-hint\"><code>this is three-point-two</code></span></summary><div><table><thead><tr></tr></thead><tbody><tr><td>Value</td><td>this is three-point-two</td></tr><tr><td>Options</td><td><div class=\"dni-plaintext\"><pre>&lt;null&gt;</pre></div></td></tr><tr><td>Parent</td><td>[ [p1, this is three-point-one], [p2, this is three-point-two] ]</td></tr><tr><td>Root</td><td>[ [top, {\n",
       "  \"one\": \"this is first\",\n",
       "  \"two\": \"this is second\",\n",
       "  \"three\": {\n",
       "    \"p1\": \"this is three-point-one\",\n",
       "    \"p2\": \"this is three-point-two\"\n",
       "  }\n",
       "}] ]</td></tr><tr><td>_value</td><td>this is three-point-two</td></tr></tbody></table></div></details></td></tr></tbody></table></td></tr><tr><td>Root</td><td><table><thead><tr><th><i>key</i></th><th>value</th></tr></thead><tbody><tr><td>top</td><td><table><thead><tr><th><i>key</i></th><th><i>type</i></th><th>value</th></tr></thead><tbody><tr><td>one</td><td>System.Text.Json.Nodes.JsonValueTrimmable`1[System.Text.Json.JsonElement]</td><td>this is first</td></tr><tr><td>two</td><td>System.Text.Json.Nodes.JsonValueTrimmable`1[System.Text.Json.JsonElement]</td><td>this is second</td></tr><tr><td>three</td><td>System.Text.Json.Nodes.JsonObject</td><td>[ [p1, this is three-point-one], [p2, this is three-point-two] ]</td></tr></tbody></table></td></tr></tbody></table></td></tr><tr><td>_value</td><td><span>&quot;this is three-point-one&quot;</span></td></tr></tbody></table></div></details></td></tr><tr><td>p2</td><td><details class=\"dni-treeview\"><summary><span class=\"dni-code-hint\"><code>this is three-point-two</code></span></summary><div><table><thead><tr></tr></thead><tbody><tr><td>Value</td><td><span>&quot;this is three-point-two&quot;</span></td></tr><tr><td>Options</td><td><div class=\"dni-plaintext\"><pre>&lt;null&gt;</pre></div></td></tr><tr><td>Parent</td><td><table><thead><tr><th><i>key</i></th><th>value</th></tr></thead><tbody><tr><td>p1</td><td><details class=\"dni-treeview\"><summary><span class=\"dni-code-hint\"><code>this is three-point-one</code></span></summary><div><table><thead><tr></tr></thead><tbody><tr><td>Value</td><td>this is three-point-one</td></tr><tr><td>Options</td><td><div class=\"dni-plaintext\"><pre>&lt;null&gt;</pre></div></td></tr><tr><td>Parent</td><td>[ [p1, this is three-point-one], [p2, this is three-point-two] ]</td></tr><tr><td>Root</td><td>[ [top, {\n",
       "  \"one\": \"this is first\",\n",
       "  \"two\": \"this is second\",\n",
       "  \"three\": {\n",
       "    \"p1\": \"this is three-point-one\",\n",
       "    \"p2\": \"this is three-point-two\"\n",
       "  }\n",
       "}] ]</td></tr><tr><td>_value</td><td>this is three-point-one</td></tr></tbody></table></div></details></td></tr><tr><td>p2</td><td><details class=\"dni-treeview\"><summary><span class=\"dni-code-hint\"><code>this is three-point-two</code></span></summary><div><table><thead><tr></tr></thead><tbody><tr><td>Value</td><td>this is three-point-two</td></tr><tr><td>Options</td><td><div class=\"dni-plaintext\"><pre>&lt;null&gt;</pre></div></td></tr><tr><td>Parent</td><td>[ [p1, this is three-point-one], [p2, this is three-point-two] ]</td></tr><tr><td>Root</td><td>[ [top, {\n",
       "  \"one\": \"this is first\",\n",
       "  \"two\": \"this is second\",\n",
       "  \"three\": {\n",
       "    \"p1\": \"this is three-point-one\",\n",
       "    \"p2\": \"this is three-point-two\"\n",
       "  }\n",
       "}] ]</td></tr><tr><td>_value</td><td>this is three-point-two</td></tr></tbody></table></div></details></td></tr></tbody></table></td></tr><tr><td>Root</td><td><table><thead><tr><th><i>key</i></th><th>value</th></tr></thead><tbody><tr><td>top</td><td><table><thead><tr><th><i>key</i></th><th><i>type</i></th><th>value</th></tr></thead><tbody><tr><td>one</td><td>System.Text.Json.Nodes.JsonValueTrimmable`1[System.Text.Json.JsonElement]</td><td>this is first</td></tr><tr><td>two</td><td>System.Text.Json.Nodes.JsonValueTrimmable`1[System.Text.Json.JsonElement]</td><td>this is second</td></tr><tr><td>three</td><td>System.Text.Json.Nodes.JsonObject</td><td>[ [p1, this is three-point-one], [p2, this is three-point-two] ]</td></tr></tbody></table></td></tr></tbody></table></td></tr><tr><td>_value</td><td><span>&quot;this is three-point-two&quot;</span></td></tr></tbody></table></div></details></td></tr></tbody></table></td></tr></tbody></table></td></tr></tbody></table><style>\r\n",
       ".dni-code-hint {\r\n",
       "    font-style: italic;\r\n",
       "    overflow: hidden;\r\n",
       "    white-space: nowrap;\r\n",
       "}\r\n",
       ".dni-treeview {\r\n",
       "    white-space: nowrap;\r\n",
       "}\r\n",
       ".dni-treeview td {\r\n",
       "    vertical-align: top;\r\n",
       "    text-align: start;\r\n",
       "}\r\n",
       "details.dni-treeview {\r\n",
       "    padding-left: 1em;\r\n",
       "}\r\n",
       "table td {\r\n",
       "    text-align: start;\r\n",
       "}\r\n",
       "table tr { \r\n",
       "    vertical-align: top; \r\n",
       "    margin: 0em 0px;\r\n",
       "}\r\n",
       "table tr td pre \r\n",
       "{ \r\n",
       "    vertical-align: top !important; \r\n",
       "    margin: 0em 0px !important;\r\n",
       "} \r\n",
       "table th {\r\n",
       "    text-align: start;\r\n",
       "}\r\n",
       "</style>"
      ]
     },
     "metadata": {},
     "output_type": "display_data"
    }
   ],
   "source": [
    "using System.Text.Json.Nodes;\n",
    "\n",
    "var jsonString = @\"\n",
    "    {\n",
    "        \"\"top\"\": {\n",
    "            \"\"one\"\": \"\"this is first\"\",\n",
    "            \"\"two\"\": \"\"this is second\"\",\n",
    "            \"\"three\"\": {\n",
    "                \"\"p1\"\": \"\"this is three-point-one\"\",\n",
    "                \"\"p2\"\": \"\"this is three-point-two\"\"\n",
    "            }\n",
    "        }\n",
    "    }\n",
    "\";\n",
    "\n",
    "var jNode = JsonNode.Parse(jsonString);\n",
    "\n",
    "jNode"
   ]
  },
  {
   "attachments": {},
   "cell_type": "markdown",
   "metadata": {
    "dotnet_interactive": {
     "language": "csharp"
    },
    "polyglot_notebook": {
     "kernelName": "csharp"
    }
   },
   "source": [
    "There are two things I must mention while looking at the output above:\n",
    "\n",
    "1. `JsonNode` contains `JsonElement` and `JsonObject` instead of child `JsonNode`s.\n",
    "2. Both `JsonObject` and `JsonArray` inherit from `JsonNode`."
   ]
  },
  {
   "attachments": {},
   "cell_type": "markdown",
   "metadata": {
    "dotnet_interactive": {
     "language": "csharp"
    },
    "polyglot_notebook": {
     "kernelName": "csharp"
    }
   },
   "source": [
    "## `JsonElement` and `JsonNode`\n",
    "\n",
    "Document traversal with `JsonElement` is done with its `Get*` and `TryGet*` methods. In the world of `JsonNode`, we can depend on `JsonObject` (via the `AsObject` method) and then call `TryGetPropertyValue`:"
   ]
  },
  {
   "cell_type": "code",
   "execution_count": 9,
   "metadata": {
    "dotnet_interactive": {
     "language": "csharp"
    },
    "polyglot_notebook": {
     "kernelName": "csharp"
    },
    "vscode": {
     "languageId": "polyglot-notebook"
    }
   },
   "outputs": [
    {
     "data": {
      "text/html": [
       "<details open=\"open\" class=\"dni-treeview\"><summary><span class=\"dni-code-hint\"><code>this is first</code></span></summary><div><table><thead><tr></tr></thead><tbody><tr><td>Value</td><td><span>&quot;this is first&quot;</span></td></tr><tr><td>Options</td><td><div class=\"dni-plaintext\"><pre>&lt;null&gt;</pre></div></td></tr><tr><td>Parent</td><td><table><thead><tr><th><i>key</i></th><th><i>type</i></th><th>value</th></tr></thead><tbody><tr><td>one</td><td><span><a href=\"https://docs.microsoft.com/dotnet/api/system.text.json.nodes.jsonvaluetrimmable-1?view=net-7.0\">System.Text.Json.Nodes.JsonValueTrimmable&lt;System.Text.Json.JsonElement&gt;</a></span></td><td><details class=\"dni-treeview\"><summary><span class=\"dni-code-hint\"><code>this is first</code></span></summary><div><table><thead><tr></tr></thead><tbody><tr><td>Value</td><td><span>&quot;this is first&quot;</span></td></tr><tr><td>Options</td><td><div class=\"dni-plaintext\"><pre>&lt;null&gt;</pre></div></td></tr><tr><td>Parent</td><td><table><thead><tr><th><i>key</i></th><th><i>type</i></th><th>value</th></tr></thead><tbody><tr><td>one</td><td><span><a href=\"https://docs.microsoft.com/dotnet/api/system.text.json.nodes.jsonvaluetrimmable-1?view=net-7.0\">System.Text.Json.Nodes.JsonValueTrimmable&lt;System.Text.Json.JsonElement&gt;</a></span></td><td><details class=\"dni-treeview\"><summary><span class=\"dni-code-hint\"><code>this is first</code></span></summary><div><table><thead><tr></tr></thead><tbody><tr><td>Value</td><td><span>&quot;this is first&quot;</span></td></tr><tr><td>Options</td><td><div class=\"dni-plaintext\"><pre>&lt;null&gt;</pre></div></td></tr><tr><td>Parent</td><td><table><thead><tr><th><i>key</i></th><th><i>type</i></th><th>value</th></tr></thead><tbody><tr><td>one</td><td>System.Text.Json.Nodes.JsonValueTrimmable`1[System.Text.Json.JsonElement]</td><td>this is first</td></tr><tr><td>two</td><td>System.Text.Json.Nodes.JsonValueTrimmable`1[System.Text.Json.JsonElement]</td><td>this is second</td></tr><tr><td>three</td><td>System.Text.Json.Nodes.JsonObject</td><td>[ [p1, this is three-point-one], [p2, this is three-point-two] ]</td></tr></tbody></table></td></tr><tr><td>Root</td><td><table><thead><tr><th><i>key</i></th><th>value</th></tr></thead><tbody><tr><td>top</td><td>[ [one, this is first], [two, this is second], [three, {\n",
       "  \"p1\": \"this is three-point-one\",\n",
       "  \"p2\": \"this is three-point-two\"\n",
       "}] ]</td></tr></tbody></table></td></tr><tr><td>_value</td><td><span>&quot;this is first&quot;</span></td></tr></tbody></table></div></details></td></tr><tr><td>two</td><td><span><a href=\"https://docs.microsoft.com/dotnet/api/system.text.json.nodes.jsonvaluetrimmable-1?view=net-7.0\">System.Text.Json.Nodes.JsonValueTrimmable&lt;System.Text.Json.JsonElement&gt;</a></span></td><td><details class=\"dni-treeview\"><summary><span class=\"dni-code-hint\"><code>this is second</code></span></summary><div><table><thead><tr></tr></thead><tbody><tr><td>Value</td><td><span>&quot;this is second&quot;</span></td></tr><tr><td>Options</td><td><div class=\"dni-plaintext\"><pre>&lt;null&gt;</pre></div></td></tr><tr><td>Parent</td><td><table><thead><tr><th><i>key</i></th><th><i>type</i></th><th>value</th></tr></thead><tbody><tr><td>one</td><td>System.Text.Json.Nodes.JsonValueTrimmable`1[System.Text.Json.JsonElement]</td><td>this is first</td></tr><tr><td>two</td><td>System.Text.Json.Nodes.JsonValueTrimmable`1[System.Text.Json.JsonElement]</td><td>this is second</td></tr><tr><td>three</td><td>System.Text.Json.Nodes.JsonObject</td><td>[ [p1, this is three-point-one], [p2, this is three-point-two] ]</td></tr></tbody></table></td></tr><tr><td>Root</td><td><table><thead><tr><th><i>key</i></th><th>value</th></tr></thead><tbody><tr><td>top</td><td>[ [one, this is first], [two, this is second], [three, {\n",
       "  \"p1\": \"this is three-point-one\",\n",
       "  \"p2\": \"this is three-point-two\"\n",
       "}] ]</td></tr></tbody></table></td></tr><tr><td>_value</td><td><span>&quot;this is second&quot;</span></td></tr></tbody></table></div></details></td></tr><tr><td>three</td><td><span><a href=\"https://docs.microsoft.com/dotnet/api/system.text.json.nodes.jsonobject?view=net-7.0\">System.Text.Json.Nodes.JsonObject</a></span></td><td><table><thead><tr><th><i>key</i></th><th>value</th></tr></thead><tbody><tr><td>p1</td><td><details class=\"dni-treeview\"><summary><span class=\"dni-code-hint\"><code>this is three-point-one</code></span></summary><div><table><thead><tr></tr></thead><tbody><tr><td>Value</td><td>this is three-point-one</td></tr><tr><td>Options</td><td><div class=\"dni-plaintext\"><pre>&lt;null&gt;</pre></div></td></tr><tr><td>Parent</td><td>[ [p1, this is three-point-one], [p2, this is three-point-two] ]</td></tr><tr><td>Root</td><td>[ [top, {\n",
       "  \"one\": \"this is first\",\n",
       "  \"two\": \"this is second\",\n",
       "  \"three\": {\n",
       "    \"p1\": \"this is three-point-one\",\n",
       "    \"p2\": \"this is three-point-two\"\n",
       "  }\n",
       "}] ]</td></tr><tr><td>_value</td><td>this is three-point-one</td></tr></tbody></table></div></details></td></tr><tr><td>p2</td><td><details class=\"dni-treeview\"><summary><span class=\"dni-code-hint\"><code>this is three-point-two</code></span></summary><div><table><thead><tr></tr></thead><tbody><tr><td>Value</td><td>this is three-point-two</td></tr><tr><td>Options</td><td><div class=\"dni-plaintext\"><pre>&lt;null&gt;</pre></div></td></tr><tr><td>Parent</td><td>[ [p1, this is three-point-one], [p2, this is three-point-two] ]</td></tr><tr><td>Root</td><td>[ [top, {\n",
       "  \"one\": \"this is first\",\n",
       "  \"two\": \"this is second\",\n",
       "  \"three\": {\n",
       "    \"p1\": \"this is three-point-one\",\n",
       "    \"p2\": \"this is three-point-two\"\n",
       "  }\n",
       "}] ]</td></tr><tr><td>_value</td><td>this is three-point-two</td></tr></tbody></table></div></details></td></tr></tbody></table></td></tr></tbody></table></td></tr><tr><td>Root</td><td><table><thead><tr><th><i>key</i></th><th>value</th></tr></thead><tbody><tr><td>top</td><td><table><thead><tr><th><i>key</i></th><th><i>type</i></th><th>value</th></tr></thead><tbody><tr><td>one</td><td><span><a href=\"https://docs.microsoft.com/dotnet/api/system.text.json.nodes.jsonvaluetrimmable-1?view=net-7.0\">System.Text.Json.Nodes.JsonValueTrimmable&lt;System.Text.Json.JsonElement&gt;</a></span></td><td><details class=\"dni-treeview\"><summary><span class=\"dni-code-hint\"><code>this is first</code></span></summary><div><table><thead><tr></tr></thead><tbody><tr><td>Value</td><td>this is first</td></tr><tr><td>Options</td><td><div class=\"dni-plaintext\"><pre>&lt;null&gt;</pre></div></td></tr><tr><td>Parent</td><td>[ [one, this is first], [two, this is second], [three, {\n",
       "  \"p1\": \"this is three-point-one\",\n",
       "  \"p2\": \"this is three-point-two\"\n",
       "}] ]</td></tr><tr><td>Root</td><td>[ [top, {\n",
       "  \"one\": \"this is first\",\n",
       "  \"two\": \"this is second\",\n",
       "  \"three\": {\n",
       "    \"p1\": \"this is three-point-one\",\n",
       "    \"p2\": \"this is three-point-two\"\n",
       "  }\n",
       "}] ]</td></tr><tr><td>_value</td><td>this is first</td></tr></tbody></table></div></details></td></tr><tr><td>two</td><td><span><a href=\"https://docs.microsoft.com/dotnet/api/system.text.json.nodes.jsonvaluetrimmable-1?view=net-7.0\">System.Text.Json.Nodes.JsonValueTrimmable&lt;System.Text.Json.JsonElement&gt;</a></span></td><td><details class=\"dni-treeview\"><summary><span class=\"dni-code-hint\"><code>this is second</code></span></summary><div><table><thead><tr></tr></thead><tbody><tr><td>Value</td><td>this is second</td></tr><tr><td>Options</td><td><div class=\"dni-plaintext\"><pre>&lt;null&gt;</pre></div></td></tr><tr><td>Parent</td><td>[ [one, this is first], [two, this is second], [three, {\n",
       "  \"p1\": \"this is three-point-one\",\n",
       "  \"p2\": \"this is three-point-two\"\n",
       "}] ]</td></tr><tr><td>Root</td><td>[ [top, {\n",
       "  \"one\": \"this is first\",\n",
       "  \"two\": \"this is second\",\n",
       "  \"three\": {\n",
       "    \"p1\": \"this is three-point-one\",\n",
       "    \"p2\": \"this is three-point-two\"\n",
       "  }\n",
       "}] ]</td></tr><tr><td>_value</td><td>this is second</td></tr></tbody></table></div></details></td></tr><tr><td>three</td><td><span><a href=\"https://docs.microsoft.com/dotnet/api/system.text.json.nodes.jsonobject?view=net-7.0\">System.Text.Json.Nodes.JsonObject</a></span></td><td><table><thead><tr><th><i>key</i></th><th>value</th></tr></thead><tbody><tr><td>p1</td><td>this is three-point-one</td></tr><tr><td>p2</td><td>this is three-point-two</td></tr></tbody></table></td></tr></tbody></table></td></tr></tbody></table></td></tr><tr><td>_value</td><td><span>&quot;this is first&quot;</span></td></tr></tbody></table></div></details></td></tr><tr><td>two</td><td><span><a href=\"https://docs.microsoft.com/dotnet/api/system.text.json.nodes.jsonvaluetrimmable-1?view=net-7.0\">System.Text.Json.Nodes.JsonValueTrimmable&lt;System.Text.Json.JsonElement&gt;</a></span></td><td><details class=\"dni-treeview\"><summary><span class=\"dni-code-hint\"><code>this is second</code></span></summary><div><table><thead><tr></tr></thead><tbody><tr><td>Value</td><td><span>&quot;this is second&quot;</span></td></tr><tr><td>Options</td><td><div class=\"dni-plaintext\"><pre>&lt;null&gt;</pre></div></td></tr><tr><td>Parent</td><td><table><thead><tr><th><i>key</i></th><th><i>type</i></th><th>value</th></tr></thead><tbody><tr><td>one</td><td><span><a href=\"https://docs.microsoft.com/dotnet/api/system.text.json.nodes.jsonvaluetrimmable-1?view=net-7.0\">System.Text.Json.Nodes.JsonValueTrimmable&lt;System.Text.Json.JsonElement&gt;</a></span></td><td><details class=\"dni-treeview\"><summary><span class=\"dni-code-hint\"><code>this is first</code></span></summary><div><table><thead><tr></tr></thead><tbody><tr><td>Value</td><td><span>&quot;this is first&quot;</span></td></tr><tr><td>Options</td><td><div class=\"dni-plaintext\"><pre>&lt;null&gt;</pre></div></td></tr><tr><td>Parent</td><td><table><thead><tr><th><i>key</i></th><th><i>type</i></th><th>value</th></tr></thead><tbody><tr><td>one</td><td>System.Text.Json.Nodes.JsonValueTrimmable`1[System.Text.Json.JsonElement]</td><td>this is first</td></tr><tr><td>two</td><td>System.Text.Json.Nodes.JsonValueTrimmable`1[System.Text.Json.JsonElement]</td><td>this is second</td></tr><tr><td>three</td><td>System.Text.Json.Nodes.JsonObject</td><td>[ [p1, this is three-point-one], [p2, this is three-point-two] ]</td></tr></tbody></table></td></tr><tr><td>Root</td><td><table><thead><tr><th><i>key</i></th><th>value</th></tr></thead><tbody><tr><td>top</td><td>[ [one, this is first], [two, this is second], [three, {\n",
       "  \"p1\": \"this is three-point-one\",\n",
       "  \"p2\": \"this is three-point-two\"\n",
       "}] ]</td></tr></tbody></table></td></tr><tr><td>_value</td><td><span>&quot;this is first&quot;</span></td></tr></tbody></table></div></details></td></tr><tr><td>two</td><td><span><a href=\"https://docs.microsoft.com/dotnet/api/system.text.json.nodes.jsonvaluetrimmable-1?view=net-7.0\">System.Text.Json.Nodes.JsonValueTrimmable&lt;System.Text.Json.JsonElement&gt;</a></span></td><td><details class=\"dni-treeview\"><summary><span class=\"dni-code-hint\"><code>this is second</code></span></summary><div><table><thead><tr></tr></thead><tbody><tr><td>Value</td><td><span>&quot;this is second&quot;</span></td></tr><tr><td>Options</td><td><div class=\"dni-plaintext\"><pre>&lt;null&gt;</pre></div></td></tr><tr><td>Parent</td><td><table><thead><tr><th><i>key</i></th><th><i>type</i></th><th>value</th></tr></thead><tbody><tr><td>one</td><td>System.Text.Json.Nodes.JsonValueTrimmable`1[System.Text.Json.JsonElement]</td><td>this is first</td></tr><tr><td>two</td><td>System.Text.Json.Nodes.JsonValueTrimmable`1[System.Text.Json.JsonElement]</td><td>this is second</td></tr><tr><td>three</td><td>System.Text.Json.Nodes.JsonObject</td><td>[ [p1, this is three-point-one], [p2, this is three-point-two] ]</td></tr></tbody></table></td></tr><tr><td>Root</td><td><table><thead><tr><th><i>key</i></th><th>value</th></tr></thead><tbody><tr><td>top</td><td>[ [one, this is first], [two, this is second], [three, {\n",
       "  \"p1\": \"this is three-point-one\",\n",
       "  \"p2\": \"this is three-point-two\"\n",
       "}] ]</td></tr></tbody></table></td></tr><tr><td>_value</td><td><span>&quot;this is second&quot;</span></td></tr></tbody></table></div></details></td></tr><tr><td>three</td><td><span><a href=\"https://docs.microsoft.com/dotnet/api/system.text.json.nodes.jsonobject?view=net-7.0\">System.Text.Json.Nodes.JsonObject</a></span></td><td><table><thead><tr><th><i>key</i></th><th>value</th></tr></thead><tbody><tr><td>p1</td><td><details class=\"dni-treeview\"><summary><span class=\"dni-code-hint\"><code>this is three-point-one</code></span></summary><div><table><thead><tr></tr></thead><tbody><tr><td>Value</td><td>this is three-point-one</td></tr><tr><td>Options</td><td><div class=\"dni-plaintext\"><pre>&lt;null&gt;</pre></div></td></tr><tr><td>Parent</td><td>[ [p1, this is three-point-one], [p2, this is three-point-two] ]</td></tr><tr><td>Root</td><td>[ [top, {\n",
       "  \"one\": \"this is first\",\n",
       "  \"two\": \"this is second\",\n",
       "  \"three\": {\n",
       "    \"p1\": \"this is three-point-one\",\n",
       "    \"p2\": \"this is three-point-two\"\n",
       "  }\n",
       "}] ]</td></tr><tr><td>_value</td><td>this is three-point-one</td></tr></tbody></table></div></details></td></tr><tr><td>p2</td><td><details class=\"dni-treeview\"><summary><span class=\"dni-code-hint\"><code>this is three-point-two</code></span></summary><div><table><thead><tr></tr></thead><tbody><tr><td>Value</td><td>this is three-point-two</td></tr><tr><td>Options</td><td><div class=\"dni-plaintext\"><pre>&lt;null&gt;</pre></div></td></tr><tr><td>Parent</td><td>[ [p1, this is three-point-one], [p2, this is three-point-two] ]</td></tr><tr><td>Root</td><td>[ [top, {\n",
       "  \"one\": \"this is first\",\n",
       "  \"two\": \"this is second\",\n",
       "  \"three\": {\n",
       "    \"p1\": \"this is three-point-one\",\n",
       "    \"p2\": \"this is three-point-two\"\n",
       "  }\n",
       "}] ]</td></tr><tr><td>_value</td><td>this is three-point-two</td></tr></tbody></table></div></details></td></tr></tbody></table></td></tr></tbody></table></td></tr><tr><td>Root</td><td><table><thead><tr><th><i>key</i></th><th>value</th></tr></thead><tbody><tr><td>top</td><td><table><thead><tr><th><i>key</i></th><th><i>type</i></th><th>value</th></tr></thead><tbody><tr><td>one</td><td><span><a href=\"https://docs.microsoft.com/dotnet/api/system.text.json.nodes.jsonvaluetrimmable-1?view=net-7.0\">System.Text.Json.Nodes.JsonValueTrimmable&lt;System.Text.Json.JsonElement&gt;</a></span></td><td><details class=\"dni-treeview\"><summary><span class=\"dni-code-hint\"><code>this is first</code></span></summary><div><table><thead><tr></tr></thead><tbody><tr><td>Value</td><td>this is first</td></tr><tr><td>Options</td><td><div class=\"dni-plaintext\"><pre>&lt;null&gt;</pre></div></td></tr><tr><td>Parent</td><td>[ [one, this is first], [two, this is second], [three, {\n",
       "  \"p1\": \"this is three-point-one\",\n",
       "  \"p2\": \"this is three-point-two\"\n",
       "}] ]</td></tr><tr><td>Root</td><td>[ [top, {\n",
       "  \"one\": \"this is first\",\n",
       "  \"two\": \"this is second\",\n",
       "  \"three\": {\n",
       "    \"p1\": \"this is three-point-one\",\n",
       "    \"p2\": \"this is three-point-two\"\n",
       "  }\n",
       "}] ]</td></tr><tr><td>_value</td><td>this is first</td></tr></tbody></table></div></details></td></tr><tr><td>two</td><td><span><a href=\"https://docs.microsoft.com/dotnet/api/system.text.json.nodes.jsonvaluetrimmable-1?view=net-7.0\">System.Text.Json.Nodes.JsonValueTrimmable&lt;System.Text.Json.JsonElement&gt;</a></span></td><td><details class=\"dni-treeview\"><summary><span class=\"dni-code-hint\"><code>this is second</code></span></summary><div><table><thead><tr></tr></thead><tbody><tr><td>Value</td><td>this is second</td></tr><tr><td>Options</td><td><div class=\"dni-plaintext\"><pre>&lt;null&gt;</pre></div></td></tr><tr><td>Parent</td><td>[ [one, this is first], [two, this is second], [three, {\n",
       "  \"p1\": \"this is three-point-one\",\n",
       "  \"p2\": \"this is three-point-two\"\n",
       "}] ]</td></tr><tr><td>Root</td><td>[ [top, {\n",
       "  \"one\": \"this is first\",\n",
       "  \"two\": \"this is second\",\n",
       "  \"three\": {\n",
       "    \"p1\": \"this is three-point-one\",\n",
       "    \"p2\": \"this is three-point-two\"\n",
       "  }\n",
       "}] ]</td></tr><tr><td>_value</td><td>this is second</td></tr></tbody></table></div></details></td></tr><tr><td>three</td><td><span><a href=\"https://docs.microsoft.com/dotnet/api/system.text.json.nodes.jsonobject?view=net-7.0\">System.Text.Json.Nodes.JsonObject</a></span></td><td><table><thead><tr><th><i>key</i></th><th>value</th></tr></thead><tbody><tr><td>p1</td><td>this is three-point-one</td></tr><tr><td>p2</td><td>this is three-point-two</td></tr></tbody></table></td></tr></tbody></table></td></tr></tbody></table></td></tr><tr><td>_value</td><td><span>&quot;this is second&quot;</span></td></tr></tbody></table></div></details></td></tr><tr><td>three</td><td><span><a href=\"https://docs.microsoft.com/dotnet/api/system.text.json.nodes.jsonobject?view=net-7.0\">System.Text.Json.Nodes.JsonObject</a></span></td><td><table><thead><tr><th><i>key</i></th><th>value</th></tr></thead><tbody><tr><td>p1</td><td><details class=\"dni-treeview\"><summary><span class=\"dni-code-hint\"><code>this is three-point-one</code></span></summary><div><table><thead><tr></tr></thead><tbody><tr><td>Value</td><td><span>&quot;this is three-point-one&quot;</span></td></tr><tr><td>Options</td><td><div class=\"dni-plaintext\"><pre>&lt;null&gt;</pre></div></td></tr><tr><td>Parent</td><td><table><thead><tr><th><i>key</i></th><th>value</th></tr></thead><tbody><tr><td>p1</td><td><details class=\"dni-treeview\"><summary><span class=\"dni-code-hint\"><code>this is three-point-one</code></span></summary><div><table><thead><tr></tr></thead><tbody><tr><td>Value</td><td>this is three-point-one</td></tr><tr><td>Options</td><td><div class=\"dni-plaintext\"><pre>&lt;null&gt;</pre></div></td></tr><tr><td>Parent</td><td>[ [p1, this is three-point-one], [p2, this is three-point-two] ]</td></tr><tr><td>Root</td><td>[ [top, {\n",
       "  \"one\": \"this is first\",\n",
       "  \"two\": \"this is second\",\n",
       "  \"three\": {\n",
       "    \"p1\": \"this is three-point-one\",\n",
       "    \"p2\": \"this is three-point-two\"\n",
       "  }\n",
       "}] ]</td></tr><tr><td>_value</td><td>this is three-point-one</td></tr></tbody></table></div></details></td></tr><tr><td>p2</td><td><details class=\"dni-treeview\"><summary><span class=\"dni-code-hint\"><code>this is three-point-two</code></span></summary><div><table><thead><tr></tr></thead><tbody><tr><td>Value</td><td>this is three-point-two</td></tr><tr><td>Options</td><td><div class=\"dni-plaintext\"><pre>&lt;null&gt;</pre></div></td></tr><tr><td>Parent</td><td>[ [p1, this is three-point-one], [p2, this is three-point-two] ]</td></tr><tr><td>Root</td><td>[ [top, {\n",
       "  \"one\": \"this is first\",\n",
       "  \"two\": \"this is second\",\n",
       "  \"three\": {\n",
       "    \"p1\": \"this is three-point-one\",\n",
       "    \"p2\": \"this is three-point-two\"\n",
       "  }\n",
       "}] ]</td></tr><tr><td>_value</td><td>this is three-point-two</td></tr></tbody></table></div></details></td></tr></tbody></table></td></tr><tr><td>Root</td><td><table><thead><tr><th><i>key</i></th><th>value</th></tr></thead><tbody><tr><td>top</td><td><table><thead><tr><th><i>key</i></th><th><i>type</i></th><th>value</th></tr></thead><tbody><tr><td>one</td><td>System.Text.Json.Nodes.JsonValueTrimmable`1[System.Text.Json.JsonElement]</td><td>this is first</td></tr><tr><td>two</td><td>System.Text.Json.Nodes.JsonValueTrimmable`1[System.Text.Json.JsonElement]</td><td>this is second</td></tr><tr><td>three</td><td>System.Text.Json.Nodes.JsonObject</td><td>[ [p1, this is three-point-one], [p2, this is three-point-two] ]</td></tr></tbody></table></td></tr></tbody></table></td></tr><tr><td>_value</td><td><span>&quot;this is three-point-one&quot;</span></td></tr></tbody></table></div></details></td></tr><tr><td>p2</td><td><details class=\"dni-treeview\"><summary><span class=\"dni-code-hint\"><code>this is three-point-two</code></span></summary><div><table><thead><tr></tr></thead><tbody><tr><td>Value</td><td><span>&quot;this is three-point-two&quot;</span></td></tr><tr><td>Options</td><td><div class=\"dni-plaintext\"><pre>&lt;null&gt;</pre></div></td></tr><tr><td>Parent</td><td><table><thead><tr><th><i>key</i></th><th>value</th></tr></thead><tbody><tr><td>p1</td><td><details class=\"dni-treeview\"><summary><span class=\"dni-code-hint\"><code>this is three-point-one</code></span></summary><div><table><thead><tr></tr></thead><tbody><tr><td>Value</td><td>this is three-point-one</td></tr><tr><td>Options</td><td><div class=\"dni-plaintext\"><pre>&lt;null&gt;</pre></div></td></tr><tr><td>Parent</td><td>[ [p1, this is three-point-one], [p2, this is three-point-two] ]</td></tr><tr><td>Root</td><td>[ [top, {\n",
       "  \"one\": \"this is first\",\n",
       "  \"two\": \"this is second\",\n",
       "  \"three\": {\n",
       "    \"p1\": \"this is three-point-one\",\n",
       "    \"p2\": \"this is three-point-two\"\n",
       "  }\n",
       "}] ]</td></tr><tr><td>_value</td><td>this is three-point-one</td></tr></tbody></table></div></details></td></tr><tr><td>p2</td><td><details class=\"dni-treeview\"><summary><span class=\"dni-code-hint\"><code>this is three-point-two</code></span></summary><div><table><thead><tr></tr></thead><tbody><tr><td>Value</td><td>this is three-point-two</td></tr><tr><td>Options</td><td><div class=\"dni-plaintext\"><pre>&lt;null&gt;</pre></div></td></tr><tr><td>Parent</td><td>[ [p1, this is three-point-one], [p2, this is three-point-two] ]</td></tr><tr><td>Root</td><td>[ [top, {\n",
       "  \"one\": \"this is first\",\n",
       "  \"two\": \"this is second\",\n",
       "  \"three\": {\n",
       "    \"p1\": \"this is three-point-one\",\n",
       "    \"p2\": \"this is three-point-two\"\n",
       "  }\n",
       "}] ]</td></tr><tr><td>_value</td><td>this is three-point-two</td></tr></tbody></table></div></details></td></tr></tbody></table></td></tr><tr><td>Root</td><td><table><thead><tr><th><i>key</i></th><th>value</th></tr></thead><tbody><tr><td>top</td><td><table><thead><tr><th><i>key</i></th><th><i>type</i></th><th>value</th></tr></thead><tbody><tr><td>one</td><td>System.Text.Json.Nodes.JsonValueTrimmable`1[System.Text.Json.JsonElement]</td><td>this is first</td></tr><tr><td>two</td><td>System.Text.Json.Nodes.JsonValueTrimmable`1[System.Text.Json.JsonElement]</td><td>this is second</td></tr><tr><td>three</td><td>System.Text.Json.Nodes.JsonObject</td><td>[ [p1, this is three-point-one], [p2, this is three-point-two] ]</td></tr></tbody></table></td></tr></tbody></table></td></tr><tr><td>_value</td><td><span>&quot;this is three-point-two&quot;</span></td></tr></tbody></table></div></details></td></tr></tbody></table></td></tr></tbody></table></td></tr><tr><td>Root</td><td><table><thead><tr><th><i>key</i></th><th>value</th></tr></thead><tbody><tr><td>top</td><td><table><thead><tr><th><i>key</i></th><th><i>type</i></th><th>value</th></tr></thead><tbody><tr><td>one</td><td><span><a href=\"https://docs.microsoft.com/dotnet/api/system.text.json.nodes.jsonvaluetrimmable-1?view=net-7.0\">System.Text.Json.Nodes.JsonValueTrimmable&lt;System.Text.Json.JsonElement&gt;</a></span></td><td><details class=\"dni-treeview\"><summary><span class=\"dni-code-hint\"><code>this is first</code></span></summary><div><table><thead><tr></tr></thead><tbody><tr><td>Value</td><td><span>&quot;this is first&quot;</span></td></tr><tr><td>Options</td><td><div class=\"dni-plaintext\"><pre>&lt;null&gt;</pre></div></td></tr><tr><td>Parent</td><td><table><thead><tr><th><i>key</i></th><th><i>type</i></th><th>value</th></tr></thead><tbody><tr><td>one</td><td><span><a href=\"https://docs.microsoft.com/dotnet/api/system.text.json.nodes.jsonvaluetrimmable-1?view=net-7.0\">System.Text.Json.Nodes.JsonValueTrimmable&lt;System.Text.Json.JsonElement&gt;</a></span></td><td><details class=\"dni-treeview\"><summary><span class=\"dni-code-hint\"><code>this is first</code></span></summary><div><table><thead><tr></tr></thead><tbody><tr><td>Value</td><td>this is first</td></tr><tr><td>Options</td><td><div class=\"dni-plaintext\"><pre>&lt;null&gt;</pre></div></td></tr><tr><td>Parent</td><td>[ [one, this is first], [two, this is second], [three, {\n",
       "  \"p1\": \"this is three-point-one\",\n",
       "  \"p2\": \"this is three-point-two\"\n",
       "}] ]</td></tr><tr><td>Root</td><td>[ [top, {\n",
       "  \"one\": \"this is first\",\n",
       "  \"two\": \"this is second\",\n",
       "  \"three\": {\n",
       "    \"p1\": \"this is three-point-one\",\n",
       "    \"p2\": \"this is three-point-two\"\n",
       "  }\n",
       "}] ]</td></tr><tr><td>_value</td><td>this is first</td></tr></tbody></table></div></details></td></tr><tr><td>two</td><td><span><a href=\"https://docs.microsoft.com/dotnet/api/system.text.json.nodes.jsonvaluetrimmable-1?view=net-7.0\">System.Text.Json.Nodes.JsonValueTrimmable&lt;System.Text.Json.JsonElement&gt;</a></span></td><td><details class=\"dni-treeview\"><summary><span class=\"dni-code-hint\"><code>this is second</code></span></summary><div><table><thead><tr></tr></thead><tbody><tr><td>Value</td><td>this is second</td></tr><tr><td>Options</td><td><div class=\"dni-plaintext\"><pre>&lt;null&gt;</pre></div></td></tr><tr><td>Parent</td><td>[ [one, this is first], [two, this is second], [three, {\n",
       "  \"p1\": \"this is three-point-one\",\n",
       "  \"p2\": \"this is three-point-two\"\n",
       "}] ]</td></tr><tr><td>Root</td><td>[ [top, {\n",
       "  \"one\": \"this is first\",\n",
       "  \"two\": \"this is second\",\n",
       "  \"three\": {\n",
       "    \"p1\": \"this is three-point-one\",\n",
       "    \"p2\": \"this is three-point-two\"\n",
       "  }\n",
       "}] ]</td></tr><tr><td>_value</td><td>this is second</td></tr></tbody></table></div></details></td></tr><tr><td>three</td><td><span><a href=\"https://docs.microsoft.com/dotnet/api/system.text.json.nodes.jsonobject?view=net-7.0\">System.Text.Json.Nodes.JsonObject</a></span></td><td><table><thead><tr><th><i>key</i></th><th>value</th></tr></thead><tbody><tr><td>p1</td><td>this is three-point-one</td></tr><tr><td>p2</td><td>this is three-point-two</td></tr></tbody></table></td></tr></tbody></table></td></tr><tr><td>Root</td><td><table><thead><tr><th><i>key</i></th><th>value</th></tr></thead><tbody><tr><td>top</td><td><table><thead><tr><th><i>key</i></th><th><i>type</i></th><th>value</th></tr></thead><tbody><tr><td>one</td><td>System.Text.Json.Nodes.JsonValueTrimmable`1[System.Text.Json.JsonElement]</td><td>this is first</td></tr><tr><td>two</td><td>System.Text.Json.Nodes.JsonValueTrimmable`1[System.Text.Json.JsonElement]</td><td>this is second</td></tr><tr><td>three</td><td>System.Text.Json.Nodes.JsonObject</td><td>[ [p1, this is three-point-one], [p2, this is three-point-two] ]</td></tr></tbody></table></td></tr></tbody></table></td></tr><tr><td>_value</td><td><span>&quot;this is first&quot;</span></td></tr></tbody></table></div></details></td></tr><tr><td>two</td><td><span><a href=\"https://docs.microsoft.com/dotnet/api/system.text.json.nodes.jsonvaluetrimmable-1?view=net-7.0\">System.Text.Json.Nodes.JsonValueTrimmable&lt;System.Text.Json.JsonElement&gt;</a></span></td><td><details class=\"dni-treeview\"><summary><span class=\"dni-code-hint\"><code>this is second</code></span></summary><div><table><thead><tr></tr></thead><tbody><tr><td>Value</td><td><span>&quot;this is second&quot;</span></td></tr><tr><td>Options</td><td><div class=\"dni-plaintext\"><pre>&lt;null&gt;</pre></div></td></tr><tr><td>Parent</td><td><table><thead><tr><th><i>key</i></th><th><i>type</i></th><th>value</th></tr></thead><tbody><tr><td>one</td><td><span><a href=\"https://docs.microsoft.com/dotnet/api/system.text.json.nodes.jsonvaluetrimmable-1?view=net-7.0\">System.Text.Json.Nodes.JsonValueTrimmable&lt;System.Text.Json.JsonElement&gt;</a></span></td><td><details class=\"dni-treeview\"><summary><span class=\"dni-code-hint\"><code>this is first</code></span></summary><div><table><thead><tr></tr></thead><tbody><tr><td>Value</td><td>this is first</td></tr><tr><td>Options</td><td><div class=\"dni-plaintext\"><pre>&lt;null&gt;</pre></div></td></tr><tr><td>Parent</td><td>[ [one, this is first], [two, this is second], [three, {\n",
       "  \"p1\": \"this is three-point-one\",\n",
       "  \"p2\": \"this is three-point-two\"\n",
       "}] ]</td></tr><tr><td>Root</td><td>[ [top, {\n",
       "  \"one\": \"this is first\",\n",
       "  \"two\": \"this is second\",\n",
       "  \"three\": {\n",
       "    \"p1\": \"this is three-point-one\",\n",
       "    \"p2\": \"this is three-point-two\"\n",
       "  }\n",
       "}] ]</td></tr><tr><td>_value</td><td>this is first</td></tr></tbody></table></div></details></td></tr><tr><td>two</td><td><span><a href=\"https://docs.microsoft.com/dotnet/api/system.text.json.nodes.jsonvaluetrimmable-1?view=net-7.0\">System.Text.Json.Nodes.JsonValueTrimmable&lt;System.Text.Json.JsonElement&gt;</a></span></td><td><details class=\"dni-treeview\"><summary><span class=\"dni-code-hint\"><code>this is second</code></span></summary><div><table><thead><tr></tr></thead><tbody><tr><td>Value</td><td>this is second</td></tr><tr><td>Options</td><td><div class=\"dni-plaintext\"><pre>&lt;null&gt;</pre></div></td></tr><tr><td>Parent</td><td>[ [one, this is first], [two, this is second], [three, {\n",
       "  \"p1\": \"this is three-point-one\",\n",
       "  \"p2\": \"this is three-point-two\"\n",
       "}] ]</td></tr><tr><td>Root</td><td>[ [top, {\n",
       "  \"one\": \"this is first\",\n",
       "  \"two\": \"this is second\",\n",
       "  \"three\": {\n",
       "    \"p1\": \"this is three-point-one\",\n",
       "    \"p2\": \"this is three-point-two\"\n",
       "  }\n",
       "}] ]</td></tr><tr><td>_value</td><td>this is second</td></tr></tbody></table></div></details></td></tr><tr><td>three</td><td><span><a href=\"https://docs.microsoft.com/dotnet/api/system.text.json.nodes.jsonobject?view=net-7.0\">System.Text.Json.Nodes.JsonObject</a></span></td><td><table><thead><tr><th><i>key</i></th><th>value</th></tr></thead><tbody><tr><td>p1</td><td>this is three-point-one</td></tr><tr><td>p2</td><td>this is three-point-two</td></tr></tbody></table></td></tr></tbody></table></td></tr><tr><td>Root</td><td><table><thead><tr><th><i>key</i></th><th>value</th></tr></thead><tbody><tr><td>top</td><td><table><thead><tr><th><i>key</i></th><th><i>type</i></th><th>value</th></tr></thead><tbody><tr><td>one</td><td>System.Text.Json.Nodes.JsonValueTrimmable`1[System.Text.Json.JsonElement]</td><td>this is first</td></tr><tr><td>two</td><td>System.Text.Json.Nodes.JsonValueTrimmable`1[System.Text.Json.JsonElement]</td><td>this is second</td></tr><tr><td>three</td><td>System.Text.Json.Nodes.JsonObject</td><td>[ [p1, this is three-point-one], [p2, this is three-point-two] ]</td></tr></tbody></table></td></tr></tbody></table></td></tr><tr><td>_value</td><td><span>&quot;this is second&quot;</span></td></tr></tbody></table></div></details></td></tr><tr><td>three</td><td><span><a href=\"https://docs.microsoft.com/dotnet/api/system.text.json.nodes.jsonobject?view=net-7.0\">System.Text.Json.Nodes.JsonObject</a></span></td><td><table><thead><tr><th><i>key</i></th><th>value</th></tr></thead><tbody><tr><td>p1</td><td><details class=\"dni-treeview\"><summary><span class=\"dni-code-hint\"><code>this is three-point-one</code></span></summary><div><table><thead><tr></tr></thead><tbody><tr><td>Value</td><td><span>&quot;this is three-point-one&quot;</span></td></tr><tr><td>Options</td><td><div class=\"dni-plaintext\"><pre>&lt;null&gt;</pre></div></td></tr><tr><td>Parent</td><td><table><thead><tr><th><i>key</i></th><th>value</th></tr></thead><tbody><tr><td>p1</td><td>this is three-point-one</td></tr><tr><td>p2</td><td>this is three-point-two</td></tr></tbody></table></td></tr><tr><td>Root</td><td><table><thead><tr><th><i>key</i></th><th>value</th></tr></thead><tbody><tr><td>top</td><td>[ [one, this is first], [two, this is second], [three, {\n",
       "  \"p1\": \"this is three-point-one\",\n",
       "  \"p2\": \"this is three-point-two\"\n",
       "}] ]</td></tr></tbody></table></td></tr><tr><td>_value</td><td><span>&quot;this is three-point-one&quot;</span></td></tr></tbody></table></div></details></td></tr><tr><td>p2</td><td><details class=\"dni-treeview\"><summary><span class=\"dni-code-hint\"><code>this is three-point-two</code></span></summary><div><table><thead><tr></tr></thead><tbody><tr><td>Value</td><td><span>&quot;this is three-point-two&quot;</span></td></tr><tr><td>Options</td><td><div class=\"dni-plaintext\"><pre>&lt;null&gt;</pre></div></td></tr><tr><td>Parent</td><td><table><thead><tr><th><i>key</i></th><th>value</th></tr></thead><tbody><tr><td>p1</td><td>this is three-point-one</td></tr><tr><td>p2</td><td>this is three-point-two</td></tr></tbody></table></td></tr><tr><td>Root</td><td><table><thead><tr><th><i>key</i></th><th>value</th></tr></thead><tbody><tr><td>top</td><td>[ [one, this is first], [two, this is second], [three, {\n",
       "  \"p1\": \"this is three-point-one\",\n",
       "  \"p2\": \"this is three-point-two\"\n",
       "}] ]</td></tr></tbody></table></td></tr><tr><td>_value</td><td><span>&quot;this is three-point-two&quot;</span></td></tr></tbody></table></div></details></td></tr></tbody></table></td></tr></tbody></table></td></tr></tbody></table></td></tr><tr><td>_value</td><td><span>&quot;this is first&quot;</span></td></tr></tbody></table></div></details><style>\r\n",
       ".dni-code-hint {\r\n",
       "    font-style: italic;\r\n",
       "    overflow: hidden;\r\n",
       "    white-space: nowrap;\r\n",
       "}\r\n",
       ".dni-treeview {\r\n",
       "    white-space: nowrap;\r\n",
       "}\r\n",
       ".dni-treeview td {\r\n",
       "    vertical-align: top;\r\n",
       "    text-align: start;\r\n",
       "}\r\n",
       "details.dni-treeview {\r\n",
       "    padding-left: 1em;\r\n",
       "}\r\n",
       "table td {\r\n",
       "    text-align: start;\r\n",
       "}\r\n",
       "table tr { \r\n",
       "    vertical-align: top; \r\n",
       "    margin: 0em 0px;\r\n",
       "}\r\n",
       "table tr td pre \r\n",
       "{ \r\n",
       "    vertical-align: top !important; \r\n",
       "    margin: 0em 0px !important;\r\n",
       "} \r\n",
       "table th {\r\n",
       "    text-align: start;\r\n",
       "}\r\n",
       "</style>"
      ]
     },
     "metadata": {},
     "output_type": "display_data"
    }
   ],
   "source": [
    "jNode\n",
    "    .AsObject()\n",
    "    .TryGetPropertyValue(\"top\", out var topNode);\n",
    "\n",
    "topNode\n",
    "    .AsObject()\n",
    "    .TryGetPropertyValue(\"one\", out var oneNode);\n",
    "\n",
    "oneNode"
   ]
  },
  {
   "attachments": {},
   "cell_type": "markdown",
   "metadata": {
    "dotnet_interactive": {
     "language": "csharp"
    },
    "polyglot_notebook": {
     "kernelName": "csharp"
    }
   },
   "source": [
    "This `TryGetPropertyValue` approach seems a bit clunky. Had I not stumbled upon “[.NET 6: Modify JSON in Memory with the System.Text.Json.Nodes Namespace](https://deliverystack.net/2021/12/06/net-6-modify-json-in-memory-with-the-system-text-json-nodes-namespace/)” by John West I would have gone to bed for a few nights not knowing that Microsoft wants us to use a LINQish approach to traversal:"
   ]
  },
  {
   "cell_type": "code",
   "execution_count": 20,
   "metadata": {
    "dotnet_interactive": {
     "language": "csharp"
    },
    "polyglot_notebook": {
     "kernelName": "csharp"
    },
    "vscode": {
     "languageId": "polyglot-notebook"
    }
   },
   "outputs": [
    {
     "data": {
      "text/html": [
       "<details open=\"open\" class=\"dni-treeview\"><summary><span class=\"dni-code-hint\"><code>this is first</code></span></summary><div><table><thead><tr></tr></thead><tbody><tr><td>Value</td><td><span>&quot;this is first&quot;</span></td></tr><tr><td>Options</td><td><div class=\"dni-plaintext\"><pre>&lt;null&gt;</pre></div></td></tr><tr><td>Parent</td><td><table><thead><tr><th><i>key</i></th><th><i>type</i></th><th>value</th></tr></thead><tbody><tr><td>one</td><td><span><a href=\"https://docs.microsoft.com/dotnet/api/system.text.json.nodes.jsonvaluetrimmable-1?view=net-7.0\">System.Text.Json.Nodes.JsonValueTrimmable&lt;System.Text.Json.JsonElement&gt;</a></span></td><td><details class=\"dni-treeview\"><summary><span class=\"dni-code-hint\"><code>this is first</code></span></summary><div><table><thead><tr></tr></thead><tbody><tr><td>Value</td><td><span>&quot;this is first&quot;</span></td></tr><tr><td>Options</td><td><div class=\"dni-plaintext\"><pre>&lt;null&gt;</pre></div></td></tr><tr><td>Parent</td><td><table><thead><tr><th><i>key</i></th><th><i>type</i></th><th>value</th></tr></thead><tbody><tr><td>one</td><td><span><a href=\"https://docs.microsoft.com/dotnet/api/system.text.json.nodes.jsonvaluetrimmable-1?view=net-7.0\">System.Text.Json.Nodes.JsonValueTrimmable&lt;System.Text.Json.JsonElement&gt;</a></span></td><td><details class=\"dni-treeview\"><summary><span class=\"dni-code-hint\"><code>this is first</code></span></summary><div><table><thead><tr></tr></thead><tbody><tr><td>Value</td><td><span>&quot;this is first&quot;</span></td></tr><tr><td>Options</td><td><div class=\"dni-plaintext\"><pre>&lt;null&gt;</pre></div></td></tr><tr><td>Parent</td><td><table><thead><tr><th><i>key</i></th><th><i>type</i></th><th>value</th></tr></thead><tbody><tr><td>one</td><td>System.Text.Json.Nodes.JsonValueTrimmable`1[System.Text.Json.JsonElement]</td><td>this is first</td></tr><tr><td>two</td><td>System.Text.Json.Nodes.JsonValueTrimmable`1[System.Text.Json.JsonElement]</td><td>this is second</td></tr><tr><td>three</td><td>System.Text.Json.Nodes.JsonObject</td><td>[ [p1, this is three-point-one], [p2, this is three-point-two] ]</td></tr></tbody></table></td></tr><tr><td>Root</td><td><table><thead><tr><th><i>key</i></th><th>value</th></tr></thead><tbody><tr><td>top</td><td>[ [one, this is first], [two, this is second], [three, {\n",
       "  \"p1\": \"this is three-point-one\",\n",
       "  \"p2\": \"this is three-point-two\"\n",
       "}] ]</td></tr></tbody></table></td></tr><tr><td>_value</td><td><span>&quot;this is first&quot;</span></td></tr></tbody></table></div></details></td></tr><tr><td>two</td><td><span><a href=\"https://docs.microsoft.com/dotnet/api/system.text.json.nodes.jsonvaluetrimmable-1?view=net-7.0\">System.Text.Json.Nodes.JsonValueTrimmable&lt;System.Text.Json.JsonElement&gt;</a></span></td><td><details class=\"dni-treeview\"><summary><span class=\"dni-code-hint\"><code>this is second</code></span></summary><div><table><thead><tr></tr></thead><tbody><tr><td>Value</td><td><span>&quot;this is second&quot;</span></td></tr><tr><td>Options</td><td><div class=\"dni-plaintext\"><pre>&lt;null&gt;</pre></div></td></tr><tr><td>Parent</td><td><table><thead><tr><th><i>key</i></th><th><i>type</i></th><th>value</th></tr></thead><tbody><tr><td>one</td><td>System.Text.Json.Nodes.JsonValueTrimmable`1[System.Text.Json.JsonElement]</td><td>this is first</td></tr><tr><td>two</td><td>System.Text.Json.Nodes.JsonValueTrimmable`1[System.Text.Json.JsonElement]</td><td>this is second</td></tr><tr><td>three</td><td>System.Text.Json.Nodes.JsonObject</td><td>[ [p1, this is three-point-one], [p2, this is three-point-two] ]</td></tr></tbody></table></td></tr><tr><td>Root</td><td><table><thead><tr><th><i>key</i></th><th>value</th></tr></thead><tbody><tr><td>top</td><td>[ [one, this is first], [two, this is second], [three, {\n",
       "  \"p1\": \"this is three-point-one\",\n",
       "  \"p2\": \"this is three-point-two\"\n",
       "}] ]</td></tr></tbody></table></td></tr><tr><td>_value</td><td><span>&quot;this is second&quot;</span></td></tr></tbody></table></div></details></td></tr><tr><td>three</td><td><span><a href=\"https://docs.microsoft.com/dotnet/api/system.text.json.nodes.jsonobject?view=net-7.0\">System.Text.Json.Nodes.JsonObject</a></span></td><td><table><thead><tr><th><i>key</i></th><th>value</th></tr></thead><tbody><tr><td>p1</td><td><details class=\"dni-treeview\"><summary><span class=\"dni-code-hint\"><code>this is three-point-one</code></span></summary><div><table><thead><tr></tr></thead><tbody><tr><td>Value</td><td>this is three-point-one</td></tr><tr><td>Options</td><td><div class=\"dni-plaintext\"><pre>&lt;null&gt;</pre></div></td></tr><tr><td>Parent</td><td>[ [p1, this is three-point-one], [p2, this is three-point-two] ]</td></tr><tr><td>Root</td><td>[ [top, {\n",
       "  \"one\": \"this is first\",\n",
       "  \"two\": \"this is second\",\n",
       "  \"three\": {\n",
       "    \"p1\": \"this is three-point-one\",\n",
       "    \"p2\": \"this is three-point-two\"\n",
       "  }\n",
       "}] ]</td></tr><tr><td>_value</td><td>this is three-point-one</td></tr></tbody></table></div></details></td></tr><tr><td>p2</td><td><details class=\"dni-treeview\"><summary><span class=\"dni-code-hint\"><code>this is three-point-two</code></span></summary><div><table><thead><tr></tr></thead><tbody><tr><td>Value</td><td>this is three-point-two</td></tr><tr><td>Options</td><td><div class=\"dni-plaintext\"><pre>&lt;null&gt;</pre></div></td></tr><tr><td>Parent</td><td>[ [p1, this is three-point-one], [p2, this is three-point-two] ]</td></tr><tr><td>Root</td><td>[ [top, {\n",
       "  \"one\": \"this is first\",\n",
       "  \"two\": \"this is second\",\n",
       "  \"three\": {\n",
       "    \"p1\": \"this is three-point-one\",\n",
       "    \"p2\": \"this is three-point-two\"\n",
       "  }\n",
       "}] ]</td></tr><tr><td>_value</td><td>this is three-point-two</td></tr></tbody></table></div></details></td></tr></tbody></table></td></tr></tbody></table></td></tr><tr><td>Root</td><td><table><thead><tr><th><i>key</i></th><th>value</th></tr></thead><tbody><tr><td>top</td><td><table><thead><tr><th><i>key</i></th><th><i>type</i></th><th>value</th></tr></thead><tbody><tr><td>one</td><td><span><a href=\"https://docs.microsoft.com/dotnet/api/system.text.json.nodes.jsonvaluetrimmable-1?view=net-7.0\">System.Text.Json.Nodes.JsonValueTrimmable&lt;System.Text.Json.JsonElement&gt;</a></span></td><td><details class=\"dni-treeview\"><summary><span class=\"dni-code-hint\"><code>this is first</code></span></summary><div><table><thead><tr></tr></thead><tbody><tr><td>Value</td><td>this is first</td></tr><tr><td>Options</td><td><div class=\"dni-plaintext\"><pre>&lt;null&gt;</pre></div></td></tr><tr><td>Parent</td><td>[ [one, this is first], [two, this is second], [three, {\n",
       "  \"p1\": \"this is three-point-one\",\n",
       "  \"p2\": \"this is three-point-two\"\n",
       "}] ]</td></tr><tr><td>Root</td><td>[ [top, {\n",
       "  \"one\": \"this is first\",\n",
       "  \"two\": \"this is second\",\n",
       "  \"three\": {\n",
       "    \"p1\": \"this is three-point-one\",\n",
       "    \"p2\": \"this is three-point-two\"\n",
       "  }\n",
       "}] ]</td></tr><tr><td>_value</td><td>this is first</td></tr></tbody></table></div></details></td></tr><tr><td>two</td><td><span><a href=\"https://docs.microsoft.com/dotnet/api/system.text.json.nodes.jsonvaluetrimmable-1?view=net-7.0\">System.Text.Json.Nodes.JsonValueTrimmable&lt;System.Text.Json.JsonElement&gt;</a></span></td><td><details class=\"dni-treeview\"><summary><span class=\"dni-code-hint\"><code>this is second</code></span></summary><div><table><thead><tr></tr></thead><tbody><tr><td>Value</td><td>this is second</td></tr><tr><td>Options</td><td><div class=\"dni-plaintext\"><pre>&lt;null&gt;</pre></div></td></tr><tr><td>Parent</td><td>[ [one, this is first], [two, this is second], [three, {\n",
       "  \"p1\": \"this is three-point-one\",\n",
       "  \"p2\": \"this is three-point-two\"\n",
       "}] ]</td></tr><tr><td>Root</td><td>[ [top, {\n",
       "  \"one\": \"this is first\",\n",
       "  \"two\": \"this is second\",\n",
       "  \"three\": {\n",
       "    \"p1\": \"this is three-point-one\",\n",
       "    \"p2\": \"this is three-point-two\"\n",
       "  }\n",
       "}] ]</td></tr><tr><td>_value</td><td>this is second</td></tr></tbody></table></div></details></td></tr><tr><td>three</td><td><span><a href=\"https://docs.microsoft.com/dotnet/api/system.text.json.nodes.jsonobject?view=net-7.0\">System.Text.Json.Nodes.JsonObject</a></span></td><td><table><thead><tr><th><i>key</i></th><th>value</th></tr></thead><tbody><tr><td>p1</td><td>this is three-point-one</td></tr><tr><td>p2</td><td>this is three-point-two</td></tr></tbody></table></td></tr></tbody></table></td></tr></tbody></table></td></tr><tr><td>_value</td><td><span>&quot;this is first&quot;</span></td></tr></tbody></table></div></details></td></tr><tr><td>two</td><td><span><a href=\"https://docs.microsoft.com/dotnet/api/system.text.json.nodes.jsonvaluetrimmable-1?view=net-7.0\">System.Text.Json.Nodes.JsonValueTrimmable&lt;System.Text.Json.JsonElement&gt;</a></span></td><td><details class=\"dni-treeview\"><summary><span class=\"dni-code-hint\"><code>this is second</code></span></summary><div><table><thead><tr></tr></thead><tbody><tr><td>Value</td><td><span>&quot;this is second&quot;</span></td></tr><tr><td>Options</td><td><div class=\"dni-plaintext\"><pre>&lt;null&gt;</pre></div></td></tr><tr><td>Parent</td><td><table><thead><tr><th><i>key</i></th><th><i>type</i></th><th>value</th></tr></thead><tbody><tr><td>one</td><td><span><a href=\"https://docs.microsoft.com/dotnet/api/system.text.json.nodes.jsonvaluetrimmable-1?view=net-7.0\">System.Text.Json.Nodes.JsonValueTrimmable&lt;System.Text.Json.JsonElement&gt;</a></span></td><td><details class=\"dni-treeview\"><summary><span class=\"dni-code-hint\"><code>this is first</code></span></summary><div><table><thead><tr></tr></thead><tbody><tr><td>Value</td><td><span>&quot;this is first&quot;</span></td></tr><tr><td>Options</td><td><div class=\"dni-plaintext\"><pre>&lt;null&gt;</pre></div></td></tr><tr><td>Parent</td><td><table><thead><tr><th><i>key</i></th><th><i>type</i></th><th>value</th></tr></thead><tbody><tr><td>one</td><td>System.Text.Json.Nodes.JsonValueTrimmable`1[System.Text.Json.JsonElement]</td><td>this is first</td></tr><tr><td>two</td><td>System.Text.Json.Nodes.JsonValueTrimmable`1[System.Text.Json.JsonElement]</td><td>this is second</td></tr><tr><td>three</td><td>System.Text.Json.Nodes.JsonObject</td><td>[ [p1, this is three-point-one], [p2, this is three-point-two] ]</td></tr></tbody></table></td></tr><tr><td>Root</td><td><table><thead><tr><th><i>key</i></th><th>value</th></tr></thead><tbody><tr><td>top</td><td>[ [one, this is first], [two, this is second], [three, {\n",
       "  \"p1\": \"this is three-point-one\",\n",
       "  \"p2\": \"this is three-point-two\"\n",
       "}] ]</td></tr></tbody></table></td></tr><tr><td>_value</td><td><span>&quot;this is first&quot;</span></td></tr></tbody></table></div></details></td></tr><tr><td>two</td><td><span><a href=\"https://docs.microsoft.com/dotnet/api/system.text.json.nodes.jsonvaluetrimmable-1?view=net-7.0\">System.Text.Json.Nodes.JsonValueTrimmable&lt;System.Text.Json.JsonElement&gt;</a></span></td><td><details class=\"dni-treeview\"><summary><span class=\"dni-code-hint\"><code>this is second</code></span></summary><div><table><thead><tr></tr></thead><tbody><tr><td>Value</td><td><span>&quot;this is second&quot;</span></td></tr><tr><td>Options</td><td><div class=\"dni-plaintext\"><pre>&lt;null&gt;</pre></div></td></tr><tr><td>Parent</td><td><table><thead><tr><th><i>key</i></th><th><i>type</i></th><th>value</th></tr></thead><tbody><tr><td>one</td><td>System.Text.Json.Nodes.JsonValueTrimmable`1[System.Text.Json.JsonElement]</td><td>this is first</td></tr><tr><td>two</td><td>System.Text.Json.Nodes.JsonValueTrimmable`1[System.Text.Json.JsonElement]</td><td>this is second</td></tr><tr><td>three</td><td>System.Text.Json.Nodes.JsonObject</td><td>[ [p1, this is three-point-one], [p2, this is three-point-two] ]</td></tr></tbody></table></td></tr><tr><td>Root</td><td><table><thead><tr><th><i>key</i></th><th>value</th></tr></thead><tbody><tr><td>top</td><td>[ [one, this is first], [two, this is second], [three, {\n",
       "  \"p1\": \"this is three-point-one\",\n",
       "  \"p2\": \"this is three-point-two\"\n",
       "}] ]</td></tr></tbody></table></td></tr><tr><td>_value</td><td><span>&quot;this is second&quot;</span></td></tr></tbody></table></div></details></td></tr><tr><td>three</td><td><span><a href=\"https://docs.microsoft.com/dotnet/api/system.text.json.nodes.jsonobject?view=net-7.0\">System.Text.Json.Nodes.JsonObject</a></span></td><td><table><thead><tr><th><i>key</i></th><th>value</th></tr></thead><tbody><tr><td>p1</td><td><details class=\"dni-treeview\"><summary><span class=\"dni-code-hint\"><code>this is three-point-one</code></span></summary><div><table><thead><tr></tr></thead><tbody><tr><td>Value</td><td>this is three-point-one</td></tr><tr><td>Options</td><td><div class=\"dni-plaintext\"><pre>&lt;null&gt;</pre></div></td></tr><tr><td>Parent</td><td>[ [p1, this is three-point-one], [p2, this is three-point-two] ]</td></tr><tr><td>Root</td><td>[ [top, {\n",
       "  \"one\": \"this is first\",\n",
       "  \"two\": \"this is second\",\n",
       "  \"three\": {\n",
       "    \"p1\": \"this is three-point-one\",\n",
       "    \"p2\": \"this is three-point-two\"\n",
       "  }\n",
       "}] ]</td></tr><tr><td>_value</td><td>this is three-point-one</td></tr></tbody></table></div></details></td></tr><tr><td>p2</td><td><details class=\"dni-treeview\"><summary><span class=\"dni-code-hint\"><code>this is three-point-two</code></span></summary><div><table><thead><tr></tr></thead><tbody><tr><td>Value</td><td>this is three-point-two</td></tr><tr><td>Options</td><td><div class=\"dni-plaintext\"><pre>&lt;null&gt;</pre></div></td></tr><tr><td>Parent</td><td>[ [p1, this is three-point-one], [p2, this is three-point-two] ]</td></tr><tr><td>Root</td><td>[ [top, {\n",
       "  \"one\": \"this is first\",\n",
       "  \"two\": \"this is second\",\n",
       "  \"three\": {\n",
       "    \"p1\": \"this is three-point-one\",\n",
       "    \"p2\": \"this is three-point-two\"\n",
       "  }\n",
       "}] ]</td></tr><tr><td>_value</td><td>this is three-point-two</td></tr></tbody></table></div></details></td></tr></tbody></table></td></tr></tbody></table></td></tr><tr><td>Root</td><td><table><thead><tr><th><i>key</i></th><th>value</th></tr></thead><tbody><tr><td>top</td><td><table><thead><tr><th><i>key</i></th><th><i>type</i></th><th>value</th></tr></thead><tbody><tr><td>one</td><td><span><a href=\"https://docs.microsoft.com/dotnet/api/system.text.json.nodes.jsonvaluetrimmable-1?view=net-7.0\">System.Text.Json.Nodes.JsonValueTrimmable&lt;System.Text.Json.JsonElement&gt;</a></span></td><td><details class=\"dni-treeview\"><summary><span class=\"dni-code-hint\"><code>this is first</code></span></summary><div><table><thead><tr></tr></thead><tbody><tr><td>Value</td><td>this is first</td></tr><tr><td>Options</td><td><div class=\"dni-plaintext\"><pre>&lt;null&gt;</pre></div></td></tr><tr><td>Parent</td><td>[ [one, this is first], [two, this is second], [three, {\n",
       "  \"p1\": \"this is three-point-one\",\n",
       "  \"p2\": \"this is three-point-two\"\n",
       "}] ]</td></tr><tr><td>Root</td><td>[ [top, {\n",
       "  \"one\": \"this is first\",\n",
       "  \"two\": \"this is second\",\n",
       "  \"three\": {\n",
       "    \"p1\": \"this is three-point-one\",\n",
       "    \"p2\": \"this is three-point-two\"\n",
       "  }\n",
       "}] ]</td></tr><tr><td>_value</td><td>this is first</td></tr></tbody></table></div></details></td></tr><tr><td>two</td><td><span><a href=\"https://docs.microsoft.com/dotnet/api/system.text.json.nodes.jsonvaluetrimmable-1?view=net-7.0\">System.Text.Json.Nodes.JsonValueTrimmable&lt;System.Text.Json.JsonElement&gt;</a></span></td><td><details class=\"dni-treeview\"><summary><span class=\"dni-code-hint\"><code>this is second</code></span></summary><div><table><thead><tr></tr></thead><tbody><tr><td>Value</td><td>this is second</td></tr><tr><td>Options</td><td><div class=\"dni-plaintext\"><pre>&lt;null&gt;</pre></div></td></tr><tr><td>Parent</td><td>[ [one, this is first], [two, this is second], [three, {\n",
       "  \"p1\": \"this is three-point-one\",\n",
       "  \"p2\": \"this is three-point-two\"\n",
       "}] ]</td></tr><tr><td>Root</td><td>[ [top, {\n",
       "  \"one\": \"this is first\",\n",
       "  \"two\": \"this is second\",\n",
       "  \"three\": {\n",
       "    \"p1\": \"this is three-point-one\",\n",
       "    \"p2\": \"this is three-point-two\"\n",
       "  }\n",
       "}] ]</td></tr><tr><td>_value</td><td>this is second</td></tr></tbody></table></div></details></td></tr><tr><td>three</td><td><span><a href=\"https://docs.microsoft.com/dotnet/api/system.text.json.nodes.jsonobject?view=net-7.0\">System.Text.Json.Nodes.JsonObject</a></span></td><td><table><thead><tr><th><i>key</i></th><th>value</th></tr></thead><tbody><tr><td>p1</td><td>this is three-point-one</td></tr><tr><td>p2</td><td>this is three-point-two</td></tr></tbody></table></td></tr></tbody></table></td></tr></tbody></table></td></tr><tr><td>_value</td><td><span>&quot;this is second&quot;</span></td></tr></tbody></table></div></details></td></tr><tr><td>three</td><td><span><a href=\"https://docs.microsoft.com/dotnet/api/system.text.json.nodes.jsonobject?view=net-7.0\">System.Text.Json.Nodes.JsonObject</a></span></td><td><table><thead><tr><th><i>key</i></th><th>value</th></tr></thead><tbody><tr><td>p1</td><td><details class=\"dni-treeview\"><summary><span class=\"dni-code-hint\"><code>this is three-point-one</code></span></summary><div><table><thead><tr></tr></thead><tbody><tr><td>Value</td><td><span>&quot;this is three-point-one&quot;</span></td></tr><tr><td>Options</td><td><div class=\"dni-plaintext\"><pre>&lt;null&gt;</pre></div></td></tr><tr><td>Parent</td><td><table><thead><tr><th><i>key</i></th><th>value</th></tr></thead><tbody><tr><td>p1</td><td><details class=\"dni-treeview\"><summary><span class=\"dni-code-hint\"><code>this is three-point-one</code></span></summary><div><table><thead><tr></tr></thead><tbody><tr><td>Value</td><td>this is three-point-one</td></tr><tr><td>Options</td><td><div class=\"dni-plaintext\"><pre>&lt;null&gt;</pre></div></td></tr><tr><td>Parent</td><td>[ [p1, this is three-point-one], [p2, this is three-point-two] ]</td></tr><tr><td>Root</td><td>[ [top, {\n",
       "  \"one\": \"this is first\",\n",
       "  \"two\": \"this is second\",\n",
       "  \"three\": {\n",
       "    \"p1\": \"this is three-point-one\",\n",
       "    \"p2\": \"this is three-point-two\"\n",
       "  }\n",
       "}] ]</td></tr><tr><td>_value</td><td>this is three-point-one</td></tr></tbody></table></div></details></td></tr><tr><td>p2</td><td><details class=\"dni-treeview\"><summary><span class=\"dni-code-hint\"><code>this is three-point-two</code></span></summary><div><table><thead><tr></tr></thead><tbody><tr><td>Value</td><td>this is three-point-two</td></tr><tr><td>Options</td><td><div class=\"dni-plaintext\"><pre>&lt;null&gt;</pre></div></td></tr><tr><td>Parent</td><td>[ [p1, this is three-point-one], [p2, this is three-point-two] ]</td></tr><tr><td>Root</td><td>[ [top, {\n",
       "  \"one\": \"this is first\",\n",
       "  \"two\": \"this is second\",\n",
       "  \"three\": {\n",
       "    \"p1\": \"this is three-point-one\",\n",
       "    \"p2\": \"this is three-point-two\"\n",
       "  }\n",
       "}] ]</td></tr><tr><td>_value</td><td>this is three-point-two</td></tr></tbody></table></div></details></td></tr></tbody></table></td></tr><tr><td>Root</td><td><table><thead><tr><th><i>key</i></th><th>value</th></tr></thead><tbody><tr><td>top</td><td><table><thead><tr><th><i>key</i></th><th><i>type</i></th><th>value</th></tr></thead><tbody><tr><td>one</td><td>System.Text.Json.Nodes.JsonValueTrimmable`1[System.Text.Json.JsonElement]</td><td>this is first</td></tr><tr><td>two</td><td>System.Text.Json.Nodes.JsonValueTrimmable`1[System.Text.Json.JsonElement]</td><td>this is second</td></tr><tr><td>three</td><td>System.Text.Json.Nodes.JsonObject</td><td>[ [p1, this is three-point-one], [p2, this is three-point-two] ]</td></tr></tbody></table></td></tr></tbody></table></td></tr><tr><td>_value</td><td><span>&quot;this is three-point-one&quot;</span></td></tr></tbody></table></div></details></td></tr><tr><td>p2</td><td><details class=\"dni-treeview\"><summary><span class=\"dni-code-hint\"><code>this is three-point-two</code></span></summary><div><table><thead><tr></tr></thead><tbody><tr><td>Value</td><td><span>&quot;this is three-point-two&quot;</span></td></tr><tr><td>Options</td><td><div class=\"dni-plaintext\"><pre>&lt;null&gt;</pre></div></td></tr><tr><td>Parent</td><td><table><thead><tr><th><i>key</i></th><th>value</th></tr></thead><tbody><tr><td>p1</td><td><details class=\"dni-treeview\"><summary><span class=\"dni-code-hint\"><code>this is three-point-one</code></span></summary><div><table><thead><tr></tr></thead><tbody><tr><td>Value</td><td>this is three-point-one</td></tr><tr><td>Options</td><td><div class=\"dni-plaintext\"><pre>&lt;null&gt;</pre></div></td></tr><tr><td>Parent</td><td>[ [p1, this is three-point-one], [p2, this is three-point-two] ]</td></tr><tr><td>Root</td><td>[ [top, {\n",
       "  \"one\": \"this is first\",\n",
       "  \"two\": \"this is second\",\n",
       "  \"three\": {\n",
       "    \"p1\": \"this is three-point-one\",\n",
       "    \"p2\": \"this is three-point-two\"\n",
       "  }\n",
       "}] ]</td></tr><tr><td>_value</td><td>this is three-point-one</td></tr></tbody></table></div></details></td></tr><tr><td>p2</td><td><details class=\"dni-treeview\"><summary><span class=\"dni-code-hint\"><code>this is three-point-two</code></span></summary><div><table><thead><tr></tr></thead><tbody><tr><td>Value</td><td>this is three-point-two</td></tr><tr><td>Options</td><td><div class=\"dni-plaintext\"><pre>&lt;null&gt;</pre></div></td></tr><tr><td>Parent</td><td>[ [p1, this is three-point-one], [p2, this is three-point-two] ]</td></tr><tr><td>Root</td><td>[ [top, {\n",
       "  \"one\": \"this is first\",\n",
       "  \"two\": \"this is second\",\n",
       "  \"three\": {\n",
       "    \"p1\": \"this is three-point-one\",\n",
       "    \"p2\": \"this is three-point-two\"\n",
       "  }\n",
       "}] ]</td></tr><tr><td>_value</td><td>this is three-point-two</td></tr></tbody></table></div></details></td></tr></tbody></table></td></tr><tr><td>Root</td><td><table><thead><tr><th><i>key</i></th><th>value</th></tr></thead><tbody><tr><td>top</td><td><table><thead><tr><th><i>key</i></th><th><i>type</i></th><th>value</th></tr></thead><tbody><tr><td>one</td><td>System.Text.Json.Nodes.JsonValueTrimmable`1[System.Text.Json.JsonElement]</td><td>this is first</td></tr><tr><td>two</td><td>System.Text.Json.Nodes.JsonValueTrimmable`1[System.Text.Json.JsonElement]</td><td>this is second</td></tr><tr><td>three</td><td>System.Text.Json.Nodes.JsonObject</td><td>[ [p1, this is three-point-one], [p2, this is three-point-two] ]</td></tr></tbody></table></td></tr></tbody></table></td></tr><tr><td>_value</td><td><span>&quot;this is three-point-two&quot;</span></td></tr></tbody></table></div></details></td></tr></tbody></table></td></tr></tbody></table></td></tr><tr><td>Root</td><td><table><thead><tr><th><i>key</i></th><th>value</th></tr></thead><tbody><tr><td>top</td><td><table><thead><tr><th><i>key</i></th><th><i>type</i></th><th>value</th></tr></thead><tbody><tr><td>one</td><td><span><a href=\"https://docs.microsoft.com/dotnet/api/system.text.json.nodes.jsonvaluetrimmable-1?view=net-7.0\">System.Text.Json.Nodes.JsonValueTrimmable&lt;System.Text.Json.JsonElement&gt;</a></span></td><td><details class=\"dni-treeview\"><summary><span class=\"dni-code-hint\"><code>this is first</code></span></summary><div><table><thead><tr></tr></thead><tbody><tr><td>Value</td><td><span>&quot;this is first&quot;</span></td></tr><tr><td>Options</td><td><div class=\"dni-plaintext\"><pre>&lt;null&gt;</pre></div></td></tr><tr><td>Parent</td><td><table><thead><tr><th><i>key</i></th><th><i>type</i></th><th>value</th></tr></thead><tbody><tr><td>one</td><td><span><a href=\"https://docs.microsoft.com/dotnet/api/system.text.json.nodes.jsonvaluetrimmable-1?view=net-7.0\">System.Text.Json.Nodes.JsonValueTrimmable&lt;System.Text.Json.JsonElement&gt;</a></span></td><td><details class=\"dni-treeview\"><summary><span class=\"dni-code-hint\"><code>this is first</code></span></summary><div><table><thead><tr></tr></thead><tbody><tr><td>Value</td><td>this is first</td></tr><tr><td>Options</td><td><div class=\"dni-plaintext\"><pre>&lt;null&gt;</pre></div></td></tr><tr><td>Parent</td><td>[ [one, this is first], [two, this is second], [three, {\n",
       "  \"p1\": \"this is three-point-one\",\n",
       "  \"p2\": \"this is three-point-two\"\n",
       "}] ]</td></tr><tr><td>Root</td><td>[ [top, {\n",
       "  \"one\": \"this is first\",\n",
       "  \"two\": \"this is second\",\n",
       "  \"three\": {\n",
       "    \"p1\": \"this is three-point-one\",\n",
       "    \"p2\": \"this is three-point-two\"\n",
       "  }\n",
       "}] ]</td></tr><tr><td>_value</td><td>this is first</td></tr></tbody></table></div></details></td></tr><tr><td>two</td><td><span><a href=\"https://docs.microsoft.com/dotnet/api/system.text.json.nodes.jsonvaluetrimmable-1?view=net-7.0\">System.Text.Json.Nodes.JsonValueTrimmable&lt;System.Text.Json.JsonElement&gt;</a></span></td><td><details class=\"dni-treeview\"><summary><span class=\"dni-code-hint\"><code>this is second</code></span></summary><div><table><thead><tr></tr></thead><tbody><tr><td>Value</td><td>this is second</td></tr><tr><td>Options</td><td><div class=\"dni-plaintext\"><pre>&lt;null&gt;</pre></div></td></tr><tr><td>Parent</td><td>[ [one, this is first], [two, this is second], [three, {\n",
       "  \"p1\": \"this is three-point-one\",\n",
       "  \"p2\": \"this is three-point-two\"\n",
       "}] ]</td></tr><tr><td>Root</td><td>[ [top, {\n",
       "  \"one\": \"this is first\",\n",
       "  \"two\": \"this is second\",\n",
       "  \"three\": {\n",
       "    \"p1\": \"this is three-point-one\",\n",
       "    \"p2\": \"this is three-point-two\"\n",
       "  }\n",
       "}] ]</td></tr><tr><td>_value</td><td>this is second</td></tr></tbody></table></div></details></td></tr><tr><td>three</td><td><span><a href=\"https://docs.microsoft.com/dotnet/api/system.text.json.nodes.jsonobject?view=net-7.0\">System.Text.Json.Nodes.JsonObject</a></span></td><td><table><thead><tr><th><i>key</i></th><th>value</th></tr></thead><tbody><tr><td>p1</td><td>this is three-point-one</td></tr><tr><td>p2</td><td>this is three-point-two</td></tr></tbody></table></td></tr></tbody></table></td></tr><tr><td>Root</td><td><table><thead><tr><th><i>key</i></th><th>value</th></tr></thead><tbody><tr><td>top</td><td><table><thead><tr><th><i>key</i></th><th><i>type</i></th><th>value</th></tr></thead><tbody><tr><td>one</td><td>System.Text.Json.Nodes.JsonValueTrimmable`1[System.Text.Json.JsonElement]</td><td>this is first</td></tr><tr><td>two</td><td>System.Text.Json.Nodes.JsonValueTrimmable`1[System.Text.Json.JsonElement]</td><td>this is second</td></tr><tr><td>three</td><td>System.Text.Json.Nodes.JsonObject</td><td>[ [p1, this is three-point-one], [p2, this is three-point-two] ]</td></tr></tbody></table></td></tr></tbody></table></td></tr><tr><td>_value</td><td><span>&quot;this is first&quot;</span></td></tr></tbody></table></div></details></td></tr><tr><td>two</td><td><span><a href=\"https://docs.microsoft.com/dotnet/api/system.text.json.nodes.jsonvaluetrimmable-1?view=net-7.0\">System.Text.Json.Nodes.JsonValueTrimmable&lt;System.Text.Json.JsonElement&gt;</a></span></td><td><details class=\"dni-treeview\"><summary><span class=\"dni-code-hint\"><code>this is second</code></span></summary><div><table><thead><tr></tr></thead><tbody><tr><td>Value</td><td><span>&quot;this is second&quot;</span></td></tr><tr><td>Options</td><td><div class=\"dni-plaintext\"><pre>&lt;null&gt;</pre></div></td></tr><tr><td>Parent</td><td><table><thead><tr><th><i>key</i></th><th><i>type</i></th><th>value</th></tr></thead><tbody><tr><td>one</td><td><span><a href=\"https://docs.microsoft.com/dotnet/api/system.text.json.nodes.jsonvaluetrimmable-1?view=net-7.0\">System.Text.Json.Nodes.JsonValueTrimmable&lt;System.Text.Json.JsonElement&gt;</a></span></td><td><details class=\"dni-treeview\"><summary><span class=\"dni-code-hint\"><code>this is first</code></span></summary><div><table><thead><tr></tr></thead><tbody><tr><td>Value</td><td>this is first</td></tr><tr><td>Options</td><td><div class=\"dni-plaintext\"><pre>&lt;null&gt;</pre></div></td></tr><tr><td>Parent</td><td>[ [one, this is first], [two, this is second], [three, {\n",
       "  \"p1\": \"this is three-point-one\",\n",
       "  \"p2\": \"this is three-point-two\"\n",
       "}] ]</td></tr><tr><td>Root</td><td>[ [top, {\n",
       "  \"one\": \"this is first\",\n",
       "  \"two\": \"this is second\",\n",
       "  \"three\": {\n",
       "    \"p1\": \"this is three-point-one\",\n",
       "    \"p2\": \"this is three-point-two\"\n",
       "  }\n",
       "}] ]</td></tr><tr><td>_value</td><td>this is first</td></tr></tbody></table></div></details></td></tr><tr><td>two</td><td><span><a href=\"https://docs.microsoft.com/dotnet/api/system.text.json.nodes.jsonvaluetrimmable-1?view=net-7.0\">System.Text.Json.Nodes.JsonValueTrimmable&lt;System.Text.Json.JsonElement&gt;</a></span></td><td><details class=\"dni-treeview\"><summary><span class=\"dni-code-hint\"><code>this is second</code></span></summary><div><table><thead><tr></tr></thead><tbody><tr><td>Value</td><td>this is second</td></tr><tr><td>Options</td><td><div class=\"dni-plaintext\"><pre>&lt;null&gt;</pre></div></td></tr><tr><td>Parent</td><td>[ [one, this is first], [two, this is second], [three, {\n",
       "  \"p1\": \"this is three-point-one\",\n",
       "  \"p2\": \"this is three-point-two\"\n",
       "}] ]</td></tr><tr><td>Root</td><td>[ [top, {\n",
       "  \"one\": \"this is first\",\n",
       "  \"two\": \"this is second\",\n",
       "  \"three\": {\n",
       "    \"p1\": \"this is three-point-one\",\n",
       "    \"p2\": \"this is three-point-two\"\n",
       "  }\n",
       "}] ]</td></tr><tr><td>_value</td><td>this is second</td></tr></tbody></table></div></details></td></tr><tr><td>three</td><td><span><a href=\"https://docs.microsoft.com/dotnet/api/system.text.json.nodes.jsonobject?view=net-7.0\">System.Text.Json.Nodes.JsonObject</a></span></td><td><table><thead><tr><th><i>key</i></th><th>value</th></tr></thead><tbody><tr><td>p1</td><td>this is three-point-one</td></tr><tr><td>p2</td><td>this is three-point-two</td></tr></tbody></table></td></tr></tbody></table></td></tr><tr><td>Root</td><td><table><thead><tr><th><i>key</i></th><th>value</th></tr></thead><tbody><tr><td>top</td><td><table><thead><tr><th><i>key</i></th><th><i>type</i></th><th>value</th></tr></thead><tbody><tr><td>one</td><td>System.Text.Json.Nodes.JsonValueTrimmable`1[System.Text.Json.JsonElement]</td><td>this is first</td></tr><tr><td>two</td><td>System.Text.Json.Nodes.JsonValueTrimmable`1[System.Text.Json.JsonElement]</td><td>this is second</td></tr><tr><td>three</td><td>System.Text.Json.Nodes.JsonObject</td><td>[ [p1, this is three-point-one], [p2, this is three-point-two] ]</td></tr></tbody></table></td></tr></tbody></table></td></tr><tr><td>_value</td><td><span>&quot;this is second&quot;</span></td></tr></tbody></table></div></details></td></tr><tr><td>three</td><td><span><a href=\"https://docs.microsoft.com/dotnet/api/system.text.json.nodes.jsonobject?view=net-7.0\">System.Text.Json.Nodes.JsonObject</a></span></td><td><table><thead><tr><th><i>key</i></th><th>value</th></tr></thead><tbody><tr><td>p1</td><td><details class=\"dni-treeview\"><summary><span class=\"dni-code-hint\"><code>this is three-point-one</code></span></summary><div><table><thead><tr></tr></thead><tbody><tr><td>Value</td><td><span>&quot;this is three-point-one&quot;</span></td></tr><tr><td>Options</td><td><div class=\"dni-plaintext\"><pre>&lt;null&gt;</pre></div></td></tr><tr><td>Parent</td><td><table><thead><tr><th><i>key</i></th><th>value</th></tr></thead><tbody><tr><td>p1</td><td>this is three-point-one</td></tr><tr><td>p2</td><td>this is three-point-two</td></tr></tbody></table></td></tr><tr><td>Root</td><td><table><thead><tr><th><i>key</i></th><th>value</th></tr></thead><tbody><tr><td>top</td><td>[ [one, this is first], [two, this is second], [three, {\n",
       "  \"p1\": \"this is three-point-one\",\n",
       "  \"p2\": \"this is three-point-two\"\n",
       "}] ]</td></tr></tbody></table></td></tr><tr><td>_value</td><td><span>&quot;this is three-point-one&quot;</span></td></tr></tbody></table></div></details></td></tr><tr><td>p2</td><td><details class=\"dni-treeview\"><summary><span class=\"dni-code-hint\"><code>this is three-point-two</code></span></summary><div><table><thead><tr></tr></thead><tbody><tr><td>Value</td><td><span>&quot;this is three-point-two&quot;</span></td></tr><tr><td>Options</td><td><div class=\"dni-plaintext\"><pre>&lt;null&gt;</pre></div></td></tr><tr><td>Parent</td><td><table><thead><tr><th><i>key</i></th><th>value</th></tr></thead><tbody><tr><td>p1</td><td>this is three-point-one</td></tr><tr><td>p2</td><td>this is three-point-two</td></tr></tbody></table></td></tr><tr><td>Root</td><td><table><thead><tr><th><i>key</i></th><th>value</th></tr></thead><tbody><tr><td>top</td><td>[ [one, this is first], [two, this is second], [three, {\n",
       "  \"p1\": \"this is three-point-one\",\n",
       "  \"p2\": \"this is three-point-two\"\n",
       "}] ]</td></tr></tbody></table></td></tr><tr><td>_value</td><td><span>&quot;this is three-point-two&quot;</span></td></tr></tbody></table></div></details></td></tr></tbody></table></td></tr></tbody></table></td></tr></tbody></table></td></tr><tr><td>_value</td><td><span>&quot;this is first&quot;</span></td></tr></tbody></table></div></details><style>\r\n",
       ".dni-code-hint {\r\n",
       "    font-style: italic;\r\n",
       "    overflow: hidden;\r\n",
       "    white-space: nowrap;\r\n",
       "}\r\n",
       ".dni-treeview {\r\n",
       "    white-space: nowrap;\r\n",
       "}\r\n",
       ".dni-treeview td {\r\n",
       "    vertical-align: top;\r\n",
       "    text-align: start;\r\n",
       "}\r\n",
       "details.dni-treeview {\r\n",
       "    padding-left: 1em;\r\n",
       "}\r\n",
       "table td {\r\n",
       "    text-align: start;\r\n",
       "}\r\n",
       "table tr { \r\n",
       "    vertical-align: top; \r\n",
       "    margin: 0em 0px;\r\n",
       "}\r\n",
       "table tr td pre \r\n",
       "{ \r\n",
       "    vertical-align: top !important; \r\n",
       "    margin: 0em 0px !important;\r\n",
       "} \r\n",
       "table th {\r\n",
       "    text-align: start;\r\n",
       "}\r\n",
       "</style>"
      ]
     },
     "metadata": {},
     "output_type": "display_data"
    }
   ],
   "source": [
    "jNode\n",
    "    .AsObject()\n",
    "    .First(i => i.Key == \"top\")\n",
    "    .Value.AsObject()\n",
    "    .First(i => i.Key == \"one\")\n",
    "    .Value"
   ]
  },
  {
   "attachments": {},
   "cell_type": "markdown",
   "metadata": {
    "dotnet_interactive": {
     "language": "csharp"
    },
    "polyglot_notebook": {
     "kernelName": "csharp"
    }
   },
   "source": [
    "## the importance of the `JsonNode.Parent` property\n",
    "\n",
    "The `JsonNode.Parent` property [📖 [docs](https://docs.microsoft.com/en-us/dotnet/api/system.text.json.nodes.jsonnode.parent)] is why we are in this namespace in the first place. We see it (along with the `JsonNode.Root` property [📖 [docs](https://docs.microsoft.com/en-us/dotnet/api/system.text.json.nodes.jsonnode.root)]) in the output above.\n",
    "\n",
    "We can use the `JsonNode.Parent` property to discover the name of our `oneNode` element, starting with the following:"
   ]
  },
  {
   "cell_type": "code",
   "execution_count": 14,
   "metadata": {
    "dotnet_interactive": {
     "language": "csharp"
    },
    "polyglot_notebook": {
     "kernelName": "csharp"
    },
    "vscode": {
     "languageId": "polyglot-notebook"
    }
   },
   "outputs": [
    {
     "data": {
      "text/html": [
       "<div class=\"dni-plaintext\"><pre>[ one, two, three ]</pre></div><style>\r\n",
       ".dni-code-hint {\r\n",
       "    font-style: italic;\r\n",
       "    overflow: hidden;\r\n",
       "    white-space: nowrap;\r\n",
       "}\r\n",
       ".dni-treeview {\r\n",
       "    white-space: nowrap;\r\n",
       "}\r\n",
       ".dni-treeview td {\r\n",
       "    vertical-align: top;\r\n",
       "    text-align: start;\r\n",
       "}\r\n",
       "details.dni-treeview {\r\n",
       "    padding-left: 1em;\r\n",
       "}\r\n",
       "table td {\r\n",
       "    text-align: start;\r\n",
       "}\r\n",
       "table tr { \r\n",
       "    vertical-align: top; \r\n",
       "    margin: 0em 0px;\r\n",
       "}\r\n",
       "table tr td pre \r\n",
       "{ \r\n",
       "    vertical-align: top !important; \r\n",
       "    margin: 0em 0px !important;\r\n",
       "} \r\n",
       "table th {\r\n",
       "    text-align: start;\r\n",
       "}\r\n",
       "</style>"
      ]
     },
     "metadata": {},
     "output_type": "display_data"
    }
   ],
   "source": [
    "oneNode.Parent.AsObject().Select(i => i.Key).ToArray()"
   ]
  },
  {
   "attachments": {},
   "cell_type": "markdown",
   "metadata": {
    "dotnet_interactive": {
     "language": "csharp"
    },
    "polyglot_notebook": {
     "kernelName": "csharp"
    }
   },
   "source": [
    "## `JsonObject` and `Dictionary<string, JsonNode>`\n",
    "\n",
    "`JsonObject` [📖 [docs](https://learn.microsoft.com/en-us/dotnet/api/system.text.json.nodes.jsonobject)] looks like the Microsoft-equivalent of the Newtonsoft `JObject` [📖 [docs](https://www.newtonsoft.com/json/help/html/T_Newtonsoft_Json_Linq_JObject.htm)]. One major difference between `JsonObject` and `JObject` is the the capability `JsonObject` has to construct from `KeyValuePair<String,JsonNode>`:"
   ]
  },
  {
   "cell_type": "code",
   "execution_count": 1,
   "metadata": {
    "dotnet_interactive": {
     "language": "csharp"
    },
    "vscode": {
     "languageId": "polyglot-notebook"
    }
   },
   "outputs": [
    {
     "data": {
      "text/plain": [
       "{\n",
       "  \"one\": \"uno\",\n",
       "  \"two\": 2,\n",
       "  \"isThree\": false,\n",
       "  \"four\": \"quarto\"\n",
       "}"
      ]
     },
     "metadata": {},
     "output_type": "display_data"
    }
   ],
   "source": [
    "using System.Text.Json;\n",
    "using System.Text.Json.Nodes;\n",
    "\n",
    "var dictionary = new Dictionary<string, JsonNode>\n",
    "{\n",
    "    { \"one\", \"uno\" },\n",
    "    { \"two\", 2 },\n",
    "    { \"isThree\", false },\n",
    "};\n",
    "\n",
    "var jO = new JsonObject(dictionary);\n",
    "\n",
    "var propertyName = \"four\";\n",
    "\n",
    "jO.Add(propertyName, \"quarto\");\n",
    "\n",
    "jO.ToJsonString(new JsonSerializerOptions { WriteIndented = true })"
   ]
  },
  {
   "cell_type": "markdown",
   "metadata": {
    "dotnet_interactive": {
     "language": "csharp"
    },
    "polyglot_notebook": {
     "kernelName": "csharp"
    }
   },
   "source": [
    "@[BryanWilhite](https://twitter.com/BryanWilhite)\n"
   ]
  }
 ],
 "metadata": {
  "kernelspec": {
   "display_name": ".NET (C#)",
   "language": "C#",
   "name": ".net-csharp"
  },
  "polyglot_notebook": {
   "kernelInfo": {
    "defaultKernelName": "csharp",
    "items": [
     {
      "aliases": [
       "c#",
       "C#"
      ],
      "languageName": "C#",
      "name": "csharp"
     },
     {
      "aliases": [
       "js"
      ],
      "languageName": "JavaScript",
      "name": "javascript"
     },
     {
      "aliases": [],
      "name": "webview"
     },
     {
      "aliases": [
       "frontend"
      ],
      "languageName": null,
      "name": "vscode"
     },
     {
      "aliases": [],
      "name": ".NET"
     },
     {
      "aliases": [
       "f#",
       "F#"
      ],
      "languageName": "F#",
      "name": "fsharp"
     },
     {
      "aliases": [],
      "languageName": "HTML",
      "name": "html"
     },
     {
      "aliases": [],
      "languageName": "KQL",
      "name": "kql"
     },
     {
      "aliases": [],
      "languageName": "Mermaid",
      "name": "mermaid"
     },
     {
      "aliases": [
       "powershell"
      ],
      "languageName": "PowerShell",
      "name": "pwsh"
     },
     {
      "aliases": [],
      "languageName": "SQL",
      "name": "sql"
     },
     {
      "aliases": [],
      "name": "value"
     }
    ]
   }
  }
 },
 "nbformat": 4,
 "nbformat_minor": 2
}
