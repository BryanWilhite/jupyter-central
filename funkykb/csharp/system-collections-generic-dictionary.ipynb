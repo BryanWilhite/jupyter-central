{
 "cells": [
  {
   "cell_type": "markdown",
   "id": "f20f9e21",
   "metadata": {},
   "source": [
    "# `IDictionary<TKey, TValue>`"
   ]
  },
  {
   "cell_type": "markdown",
   "id": "f8383791",
   "metadata": {},
   "source": [
    "## `Enumerable.Union` and dictionaries\n",
    "\n",
    "`Enumerable.Union` [📖 [docs](https://learn.microsoft.com/en-us/dotnet/api/system.linq.enumerable.union?view=net-9.0)] effectively appends to dictionaries:"
   ]
  },
  {
   "cell_type": "code",
   "execution_count": 1,
   "id": "d634f55f",
   "metadata": {
    "language_info": {
     "name": "polyglot-notebook"
    },
    "polyglot_notebook": {
     "kernelName": "csharp"
    }
   },
   "outputs": [
    {
     "data": {
      "text/html": [
       "<table><thead><tr><th><i>index</i></th><th>value</th></tr></thead><tbody><tr><td>0</td><td><details class=\"dni-treeview\"><summary><span class=\"dni-code-hint\"><code>[one, uno]</code></span></summary><div><table><thead><tr></tr></thead><tbody><tr><td>Key</td><td><div class=\"dni-plaintext\"><pre>one</pre></div></td></tr><tr><td>Value</td><td><div class=\"dni-plaintext\"><pre>uno</pre></div></td></tr></tbody></table></div></details></td></tr><tr><td>1</td><td><details class=\"dni-treeview\"><summary><span class=\"dni-code-hint\"><code>[three, tres]</code></span></summary><div><table><thead><tr></tr></thead><tbody><tr><td>Key</td><td><div class=\"dni-plaintext\"><pre>three</pre></div></td></tr><tr><td>Value</td><td><div class=\"dni-plaintext\"><pre>tres</pre></div></td></tr></tbody></table></div></details></td></tr><tr><td>2</td><td><details class=\"dni-treeview\"><summary><span class=\"dni-code-hint\"><code>[two, dos]</code></span></summary><div><table><thead><tr></tr></thead><tbody><tr><td>Key</td><td><div class=\"dni-plaintext\"><pre>two</pre></div></td></tr><tr><td>Value</td><td><div class=\"dni-plaintext\"><pre>dos</pre></div></td></tr></tbody></table></div></details></td></tr></tbody></table><style>\r\n",
       ".dni-code-hint {\r\n",
       "    font-style: italic;\r\n",
       "    overflow: hidden;\r\n",
       "    white-space: nowrap;\r\n",
       "}\r\n",
       ".dni-treeview {\r\n",
       "    white-space: nowrap;\r\n",
       "}\r\n",
       ".dni-treeview td {\r\n",
       "    vertical-align: top;\r\n",
       "    text-align: start;\r\n",
       "}\r\n",
       "details.dni-treeview {\r\n",
       "    padding-left: 1em;\r\n",
       "}\r\n",
       "table td {\r\n",
       "    text-align: start;\r\n",
       "}\r\n",
       "table tr { \r\n",
       "    vertical-align: top; \r\n",
       "    margin: 0em 0px;\r\n",
       "}\r\n",
       "table tr td pre \r\n",
       "{ \r\n",
       "    vertical-align: top !important; \r\n",
       "    margin: 0em 0px !important;\r\n",
       "} \r\n",
       "table th {\r\n",
       "    text-align: start;\r\n",
       "}\r\n",
       "</style>"
      ]
     },
     "metadata": {},
     "output_type": "display_data"
    }
   ],
   "source": [
    "#!csharp\n",
    "\n",
    "Dictionary<string, string> d1 = new() { {\"one\", \"uno\"}, { \"three\" , \"tres\" } };\n",
    "Dictionary<string, string> d2 = new() { {\"two\", \"dos\"} };\n",
    "\n",
    "d1.Union(d2)"
   ]
  },
  {
   "cell_type": "markdown",
   "id": "83df1e68",
   "metadata": {},
   "source": [
    "But because we are performing a _union_ operation, duplicate pairs are omitted:"
   ]
  },
  {
   "cell_type": "code",
   "execution_count": 2,
   "id": "2791d7fb",
   "metadata": {
    "language_info": {
     "name": "polyglot-notebook"
    },
    "polyglot_notebook": {
     "kernelName": "csharp"
    }
   },
   "outputs": [
    {
     "data": {
      "text/html": [
       "<table><thead><tr><th><i>index</i></th><th>value</th></tr></thead><tbody><tr><td>0</td><td><details class=\"dni-treeview\"><summary><span class=\"dni-code-hint\"><code>[one, uno]</code></span></summary><div><table><thead><tr></tr></thead><tbody><tr><td>Key</td><td><div class=\"dni-plaintext\"><pre>one</pre></div></td></tr><tr><td>Value</td><td><div class=\"dni-plaintext\"><pre>uno</pre></div></td></tr></tbody></table></div></details></td></tr><tr><td>1</td><td><details class=\"dni-treeview\"><summary><span class=\"dni-code-hint\"><code>[two, dos]</code></span></summary><div><table><thead><tr></tr></thead><tbody><tr><td>Key</td><td><div class=\"dni-plaintext\"><pre>two</pre></div></td></tr><tr><td>Value</td><td><div class=\"dni-plaintext\"><pre>dos</pre></div></td></tr></tbody></table></div></details></td></tr><tr><td>2</td><td><details class=\"dni-treeview\"><summary><span class=\"dni-code-hint\"><code>[three, tres]</code></span></summary><div><table><thead><tr></tr></thead><tbody><tr><td>Key</td><td><div class=\"dni-plaintext\"><pre>three</pre></div></td></tr><tr><td>Value</td><td><div class=\"dni-plaintext\"><pre>tres</pre></div></td></tr></tbody></table></div></details></td></tr></tbody></table><style>\r\n",
       ".dni-code-hint {\r\n",
       "    font-style: italic;\r\n",
       "    overflow: hidden;\r\n",
       "    white-space: nowrap;\r\n",
       "}\r\n",
       ".dni-treeview {\r\n",
       "    white-space: nowrap;\r\n",
       "}\r\n",
       ".dni-treeview td {\r\n",
       "    vertical-align: top;\r\n",
       "    text-align: start;\r\n",
       "}\r\n",
       "details.dni-treeview {\r\n",
       "    padding-left: 1em;\r\n",
       "}\r\n",
       "table td {\r\n",
       "    text-align: start;\r\n",
       "}\r\n",
       "table tr { \r\n",
       "    vertical-align: top; \r\n",
       "    margin: 0em 0px;\r\n",
       "}\r\n",
       "table tr td pre \r\n",
       "{ \r\n",
       "    vertical-align: top !important; \r\n",
       "    margin: 0em 0px !important;\r\n",
       "} \r\n",
       "table th {\r\n",
       "    text-align: start;\r\n",
       "}\r\n",
       "</style>"
      ]
     },
     "metadata": {},
     "output_type": "display_data"
    }
   ],
   "source": [
    "#!csharp\n",
    "\n",
    "Dictionary<string, string> d3 = new() { {\"one\", \"uno\"}, {\"two\", \"dos\"}, { \"three\" , \"tres\" } };\n",
    "Dictionary<string, string> d4 = new() { {\"two\", \"dos\"} };\n",
    "\n",
    "d3.Union(d4)"
   ]
  },
  {
   "cell_type": "markdown",
   "id": "d0e19162",
   "metadata": {},
   "source": [
    "One caveat is that `.Union` returns `IEnumerable<T>` where `T` is `KeyValuePair<TKey, TValue>`. This means the following is an error:"
   ]
  },
  {
   "cell_type": "code",
   "execution_count": 4,
   "id": "b11af6c5",
   "metadata": {
    "language_info": {
     "name": "polyglot-notebook"
    },
    "polyglot_notebook": {
     "kernelName": "csharp"
    }
   },
   "outputs": [
    {
     "ename": "Error",
     "evalue": "(1,33): error CS0266: Cannot implicitly convert type 'System.Collections.Generic.IEnumerable<System.Collections.Generic.KeyValuePair<string, string>>' to 'System.Collections.Generic.Dictionary<string, string>'. An explicit conversion exists (are you missing a cast?)",
     "output_type": "error",
     "traceback": [
      "(1,33): error CS0266: Cannot implicitly convert type 'System.Collections.Generic.IEnumerable<System.Collections.Generic.KeyValuePair<string, string>>' to 'System.Collections.Generic.Dictionary<string, string>'. An explicit conversion exists (are you missing a cast?)"
     ]
    }
   ],
   "source": [
    "#!csharp\n",
    "\n",
    "Dictionary<string, string> d5 = d3.Union(d4);"
   ]
  },
  {
   "cell_type": "markdown",
   "id": "cb45bdb5",
   "metadata": {},
   "source": [
    "We have to resort to the `Enumerable.ToDictionary` [📖 [docs](https://learn.microsoft.com/en-us/dotnet/api/system.linq.enumerable.todictionary?view=net-9.0)] method:"
   ]
  },
  {
   "cell_type": "code",
   "execution_count": 5,
   "id": "b057b7a5",
   "metadata": {
    "language_info": {
     "name": "polyglot-notebook"
    },
    "polyglot_notebook": {
     "kernelName": "csharp"
    }
   },
   "outputs": [
    {
     "data": {
      "text/html": [
       "<table><thead><tr><th><i>key</i></th><th>value</th></tr></thead><tbody><tr><td><div class=\"dni-plaintext\"><pre>one</pre></div></td><td><div class=\"dni-plaintext\"><pre>uno</pre></div></td></tr><tr><td><div class=\"dni-plaintext\"><pre>two</pre></div></td><td><div class=\"dni-plaintext\"><pre>dos</pre></div></td></tr><tr><td><div class=\"dni-plaintext\"><pre>three</pre></div></td><td><div class=\"dni-plaintext\"><pre>tres</pre></div></td></tr></tbody></table><style>\r\n",
       ".dni-code-hint {\r\n",
       "    font-style: italic;\r\n",
       "    overflow: hidden;\r\n",
       "    white-space: nowrap;\r\n",
       "}\r\n",
       ".dni-treeview {\r\n",
       "    white-space: nowrap;\r\n",
       "}\r\n",
       ".dni-treeview td {\r\n",
       "    vertical-align: top;\r\n",
       "    text-align: start;\r\n",
       "}\r\n",
       "details.dni-treeview {\r\n",
       "    padding-left: 1em;\r\n",
       "}\r\n",
       "table td {\r\n",
       "    text-align: start;\r\n",
       "}\r\n",
       "table tr { \r\n",
       "    vertical-align: top; \r\n",
       "    margin: 0em 0px;\r\n",
       "}\r\n",
       "table tr td pre \r\n",
       "{ \r\n",
       "    vertical-align: top !important; \r\n",
       "    margin: 0em 0px !important;\r\n",
       "} \r\n",
       "table th {\r\n",
       "    text-align: start;\r\n",
       "}\r\n",
       "</style>"
      ]
     },
     "metadata": {},
     "output_type": "display_data"
    }
   ],
   "source": [
    "#!csharp\n",
    "\n",
    "Dictionary<string, string> d5 = d3.Union(d4).ToDictionary(kv => kv.Key, kv => kv.Value);\n",
    "\n",
    "d5"
   ]
  },
  {
   "cell_type": "markdown",
   "id": "fa6bf83a",
   "metadata": {},
   "source": [
    "## <!-- -->\n",
    "\n",
    "[Bryan Wilhite is on LinkedIn](https://www.linkedin.com/in/wilhite)🇺🇸💼"
   ]
  }
 ],
 "metadata": {
  "kernelspec": {
   "display_name": ".NET (C#)",
   "language": "C#",
   "name": ".net-csharp"
  },
  "language_info": {
   "name": "polyglot-notebook"
  },
  "polyglot_notebook": {
   "kernelInfo": {
    "defaultKernelName": "csharp",
    "items": [
     {
      "aliases": [],
      "name": "csharp"
     }
    ]
   }
  }
 },
 "nbformat": 4,
 "nbformat_minor": 5
}
