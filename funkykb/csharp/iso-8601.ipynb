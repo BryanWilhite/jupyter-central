{
 "cells": [
  {
   "cell_type": "markdown",
   "metadata": {},
   "source": [
    "# ISO 8601\n",
    "\n",
    ">ISO 8601 is an international standard covering the worldwide exchange and communication of date- and time-related data.\n",
    ">\n",
    "> [[Wikipedia](https://en.wikipedia.org/wiki/ISO_8601)]"
   ]
  },
  {
   "cell_type": "markdown",
   "metadata": {},
   "source": [
    "## durations\n",
    "\n",
    "> `P3Y6M4DT12H30M5S` represents a duration of \"three years, six months, four days, twelve hours, thirty minutes, and five seconds.\n",
    "\n",
    "According to answers to [a StackOverflow question](https://stackoverflow.com/questions/12466188/how-do-i-convert-an-iso8601-timespan-to-a-c-sharp-timespan), `XmlConvert.ToTimeSpan` can convert ISO 8601 durations to `TimeSpan` ([Microsoft documentation](https://docs.microsoft.com/en-us/dotnet/api/system.xml.xmlconvert.totimespan?view=net-6.0#system-xml-xmlconvert-totimespan(system-string)) makes no mention of this):"
   ]
  },
  {
   "cell_type": "code",
   "execution_count": null,
   "metadata": {
    "dotnet_interactive": {
     "language": "csharp"
    },
    "vscode": {
     "languageId": "dotnet-interactive.csharp"
    }
   },
   "outputs": [
    {
     "data": {
      "text/html": [
       "<span>00:26:11</span>"
      ]
     },
     "metadata": {},
     "output_type": "display_data"
    }
   ],
   "source": [
    "using System.Xml;\n",
    "\n",
    "var duration = \"PT26M11S\";\n",
    "\n",
    "XmlConvert.ToTimeSpan(duration)"
   ]
  },
  {
   "cell_type": "markdown",
   "metadata": {},
   "source": [
    "[Bryan Wilhite is on LinkedIn](https://www.linkedin.com/in/wilhite)🇺🇸💼\n"
   ]
  }
 ],
 "metadata": {
  "kernelspec": {
   "display_name": ".NET (C#)",
   "language": "C#",
   "name": ".net-csharp"
  },
  "language_info": {
   "file_extension": ".cs",
   "mimetype": "text/x-csharp",
   "name": "C#",
   "pygments_lexer": "csharp",
   "version": "9.0"
  },
  "orig_nbformat": 4
 },
 "nbformat": 4,
 "nbformat_minor": 2
}
