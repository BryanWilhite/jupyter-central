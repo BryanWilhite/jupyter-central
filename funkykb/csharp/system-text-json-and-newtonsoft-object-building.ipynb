{
 "cells": [
  {
   "cell_type": "markdown",
   "id": "77c94779",
   "metadata": {},
   "source": [
    "# `System.Text.Json` and Newtonsoft’s Json.NET\n",
    "\n",
    "## building objects\n",
    "\n",
    "Here is a comparison of how we build JSON objects with `JObject` (from Newtonsoft), `JsonNode`."
   ]
  },
  {
   "cell_type": "markdown",
   "id": "185d08aa",
   "metadata": {},
   "source": [
    "## notebook setup"
   ]
  },
  {
   "cell_type": "code",
   "execution_count": 1,
   "id": "27789c2e",
   "metadata": {
    "polyglot_notebook": {
     "kernelName": "csharp"
    },
    "vscode": {
     "languageId": "polyglot-notebook"
    }
   },
   "outputs": [
    {
     "data": {
      "text/html": [
       "<div><div></div><div></div><div><strong>Installed Packages</strong><ul><li><span>Newtonsoft.Json, 13.0.3</span></li></ul></div></div>"
      ]
     },
     "metadata": {},
     "output_type": "display_data"
    }
   ],
   "source": [
    "#r \"nuget: Newtonsoft.Json\""
   ]
  },
  {
   "cell_type": "code",
   "execution_count": 2,
   "id": "b416be56",
   "metadata": {
    "polyglot_notebook": {
     "kernelName": "csharp"
    },
    "vscode": {
     "languageId": "polyglot-notebook"
    }
   },
   "outputs": [],
   "source": [
    "using System.Text.Json;\n",
    "using System.Text.Json.Nodes;\n",
    "\n",
    "using Newtonsoft.Json;\n",
    "using Newtonsoft.Json.Linq;"
   ]
  },
  {
   "cell_type": "code",
   "execution_count": 3,
   "metadata": {
    "polyglot_notebook": {
     "kernelName": "csharp"
    },
    "vscode": {
     "languageId": "polyglot-notebook"
    }
   },
   "outputs": [],
   "source": [
    "IReadOnlyCollection<string> myCollection = [ \"one\", \"two\", \"three\" ];"
   ]
  },
  {
   "cell_type": "markdown",
   "id": "aafc6d7b",
   "metadata": {},
   "source": [
    "## the Newtonsoft dictionary-construction approach\n",
    "\n",
    "Microsoft has no equivalent to this elegant dictionary-construction approach from Newtonsoft:"
   ]
  },
  {
   "cell_type": "code",
   "execution_count": 4,
   "metadata": {
    "polyglot_notebook": {
     "kernelName": "csharp"
    },
    "vscode": {
     "languageId": "polyglot-notebook"
    }
   },
   "outputs": [
    {
     "data": {
      "text/plain": [
       "{\n",
       "  \"mySet\": [\n",
       "    \"one\",\n",
       "    \"two\",\n",
       "    \"three\"\n",
       "  ]\n",
       "}"
      ]
     },
     "metadata": {},
     "output_type": "display_data"
    }
   ],
   "source": [
    "JObject newtonObject = new JObject\n",
    "{\n",
    "    { \"mySet\", JArray.FromObject(myCollection) }\n",
    "};\n",
    "\n",
    "newtonObject.ToString()"
   ]
  },
  {
   "cell_type": "markdown",
   "id": "d1316999",
   "metadata": {},
   "source": [
    "Moreover, the Microsoft JSON APIs has no equivalent to the `FromObject` method shown above—but this method is not magic as it is [using serialization](https://github.com/JamesNK/Newtonsoft.Json/blob/master/Src/Newtonsoft.Json/Linq/JToken.cs#L1954) under the hood."
   ]
  },
  {
   "cell_type": "markdown",
   "id": "d282bb02",
   "metadata": {},
   "source": [
    "## the Microsoft ‘pure API’ approach\n",
    "\n",
    "The ‘pure API’ approach involves using two different `Add` methods, for `JsonArray` and `JsonObject`, respectively—and an honest, wholesome `foreach` loop:"
   ]
  },
  {
   "cell_type": "code",
   "execution_count": 5,
   "metadata": {
    "polyglot_notebook": {
     "kernelName": "csharp"
    },
    "vscode": {
     "languageId": "polyglot-notebook"
    }
   },
   "outputs": [
    {
     "data": {
      "text/plain": [
       "{\n",
       "  \"mySet\": [\n",
       "    \"one\",\n",
       "    \"two\",\n",
       "    \"three\"\n",
       "  ]\n",
       "}"
      ]
     },
     "metadata": {},
     "output_type": "display_data"
    }
   ],
   "source": [
    "JsonArray jA = new();\n",
    "JsonObject jO = new();\n",
    "\n",
    "foreach(string item in myCollection)\n",
    "{\n",
    "    jA.Add(item);\n",
    "}\n",
    "\n",
    "jO.Add(\"mySet\", jA);\n",
    "\n",
    "jO.ToJsonString(new JsonSerializerOptions { WriteIndented = true })"
   ]
  },
  {
   "cell_type": "markdown",
   "id": "ce762cbc",
   "metadata": {},
   "source": [
    "## the hacky Microsoft dictionary approach\n",
    "\n",
    "This serialization approach is in-your-face with `Dictionary<string, object>`:"
   ]
  },
  {
   "cell_type": "code",
   "execution_count": 6,
   "metadata": {
    "polyglot_notebook": {
     "kernelName": "csharp"
    },
    "vscode": {
     "languageId": "polyglot-notebook"
    }
   },
   "outputs": [
    {
     "data": {
      "text/plain": [
       "{\n",
       "  \"mySet\": [\n",
       "    \"one\",\n",
       "    \"two\",\n",
       "    \"three\"\n",
       "  ]\n",
       "}"
      ]
     },
     "metadata": {},
     "output_type": "display_data"
    }
   ],
   "source": [
    "var myJsonDictionary = new Dictionary<string, object>\n",
    "{\n",
    "    { \"mySet\", myCollection }\n",
    "};\n",
    "\n",
    "System.Text.Json.JsonSerializer.Serialize(myJsonDictionary, new JsonSerializerOptions { WriteIndented = true })"
   ]
  },
  {
   "cell_type": "markdown",
   "id": "ca72aee9",
   "metadata": {},
   "source": [
    "## okay, actually there is a dictionary-construction approach for `JsonObject`"
   ]
  },
  {
   "cell_type": "code",
   "execution_count": 7,
   "metadata": {
    "polyglot_notebook": {
     "kernelName": "csharp"
    },
    "vscode": {
     "languageId": "polyglot-notebook"
    }
   },
   "outputs": [
    {
     "data": {
      "text/plain": [
       "{\n",
       "  \"mySet\": [\n",
       "    \"one\",\n",
       "    \"two\",\n",
       "    \"three\"\n",
       "  ]\n",
       "}"
      ]
     },
     "metadata": {},
     "output_type": "display_data"
    }
   ],
   "source": [
    "var myJsonObject = new JsonObject\n",
    "{\n",
    "    { \"mySet\", new JsonArray(myCollection.Select(i => JsonValue.Create(i)).ToArray()) }\n",
    "};\n",
    "\n",
    "myJsonObject.ToJsonString(new JsonSerializerOptions { WriteIndented = true })"
   ]
  },
  {
   "cell_type": "markdown",
   "id": "1423858f",
   "metadata": {},
   "source": [
    "[Bryan Wilhite is on LinkedIn](https://www.linkedin.com/in/wilhite)🇺🇸💼\n"
   ]
  }
 ],
 "metadata": {
  "kernelspec": {
   "display_name": ".NET (C#)",
   "language": "C#",
   "name": ".net-csharp"
  },
  "language_info": {
   "name": "python"
  },
  "polyglot_notebook": {
   "kernelInfo": {
    "defaultKernelName": "csharp",
    "items": [
     {
      "aliases": [],
      "name": "csharp"
     }
    ]
   }
  }
 },
 "nbformat": 4,
 "nbformat_minor": 5
}
