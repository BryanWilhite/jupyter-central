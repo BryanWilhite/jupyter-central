{
 "cells": [
  {
   "cell_type": "markdown",
   "metadata": {},
   "source": [
    "# stupid `for`-loop tricks\n",
    "\n",
    "Filled with nostalgia for your late-twentieth-century, computer science degree? Well this is the wrong place because there is zero respect for the `for` loop here. The `for` loop [ 📖 [docs](https://docs.microsoft.com/en-us/dotnet/csharp/language-reference/statements/iteration-statements)] is the premiere, _imperative_ way to automate a full scan of a collection of data. It is key to those traditional algorithms featuring the classic data structures, starting with the array. One that enjoys micro-managing a machine can tell it to do everything down to fine granular detail. Is not that wonderful and control-freaky? Good."
   ]
  },
  {
   "cell_type": "markdown",
   "metadata": {},
   "source": [
    "## comparing the current item in an array with the previous, _adjacent_ item"
   ]
  },
  {
   "cell_type": "code",
   "execution_count": 1,
   "metadata": {
    "dotnet_interactive": {
     "language": "csharp"
    },
    "vscode": {
     "languageId": "polyglot-notebook"
    }
   },
   "outputs": [
    {
     "name": "stdout",
     "output_type": "stream",
     "text": [
      "comparing b to a\n",
      "comparing b to b\n",
      "comparing d to b\n",
      "comparing c to d\n"
     ]
    }
   ],
   "source": [
    "var set = new [] { 'a', 'b', 'c' };\n",
    "\n",
    "var items = new [] { 'a', 'b', 'b', 'd', 'c' };\n",
    "\n",
    "for (int i = 1; i < items.Length; i++)\n",
    "{\n",
    "    Console.WriteLine($\"comparing {items[i]} to {items[i - 1]}\");\n",
    "}"
   ]
  },
  {
   "cell_type": "markdown",
   "metadata": {},
   "source": [
    "## comparing the current item in an array with the next, _adjacent_ item"
   ]
  },
  {
   "cell_type": "code",
   "execution_count": 2,
   "metadata": {
    "dotnet_interactive": {
     "language": "csharp"
    },
    "vscode": {
     "languageId": "polyglot-notebook"
    }
   },
   "outputs": [
    {
     "name": "stdout",
     "output_type": "stream",
     "text": [
      "comparing a to b\n",
      "comparing b to b\n",
      "comparing b to d\n",
      "comparing d to c\n"
     ]
    }
   ],
   "source": [
    "var items = new [] { 'a', 'b', 'b', 'd', 'c' };\n",
    "\n",
    "for (int i = 0; i < items.Length; i++)\n",
    "{\n",
    "    if(i == items.Length - 1) continue;\n",
    "    Console.WriteLine($\"comparing {items[i]} to {items[i + 1]}\");\n",
    "}"
   ]
  },
  {
   "cell_type": "markdown",
   "metadata": {},
   "source": [
    "## comparing the current item in an array with `n` previous items"
   ]
  },
  {
   "cell_type": "code",
   "execution_count": 3,
   "metadata": {
    "dotnet_interactive": {
     "language": "csharp"
    },
    "vscode": {
     "languageId": "polyglot-notebook"
    }
   },
   "outputs": [
    {
     "name": "stdout",
     "output_type": "stream",
     "text": [
      "comparing b to a, b\n",
      "comparing d to b, b\n",
      "comparing c to b, d\n"
     ]
    }
   ],
   "source": [
    "using System.Linq;\n",
    "\n",
    "var n = 2;\n",
    "\n",
    "var items = new [] { 'a', 'b', 'b', 'd', 'c' };\n",
    "\n",
    "for (int i = 0; i < items.Length; i++)\n",
    "{\n",
    "    if(i < n) continue;\n",
    "    var previous = items.Skip(i - n).Take(n).Select(c => c.ToString()).Aggregate((a, i) => $\"{a}, {i}\");\n",
    "    Console.WriteLine($\"comparing {items[i]} to {previous}\");\n",
    "}"
   ]
  },
  {
   "cell_type": "markdown",
   "metadata": {},
   "source": [
    "## comparing the current item in an array with `n` next items"
   ]
  },
  {
   "cell_type": "code",
   "execution_count": 4,
   "metadata": {
    "dotnet_interactive": {
     "language": "csharp"
    },
    "vscode": {
     "languageId": "polyglot-notebook"
    }
   },
   "outputs": [
    {
     "name": "stdout",
     "output_type": "stream",
     "text": [
      "comparing a to b, b\n",
      "comparing b to b, d\n",
      "comparing b to d, c\n",
      "comparing d to c\n"
     ]
    }
   ],
   "source": [
    "var n = 2;\n",
    "\n",
    "var items = new [] { 'a', 'b', 'b', 'd', 'c' };\n",
    "\n",
    "for (int i = 0; i < items.Length; i++)\n",
    "{\n",
    "    if(i == items.Length - 1) continue;\n",
    "    var next = items.Skip(i + 1).Take(n).Select(c => c.ToString()).Aggregate((a, i) => $\"{a}, {i}\");\n",
    "    Console.WriteLine($\"comparing {items[i]} to {next}\");\n",
    "}"
   ]
  },
  {
   "cell_type": "markdown",
   "metadata": {},
   "source": [
    "## remember: these are the _stupid_ tricks\n",
    "\n",
    "The eye exam 👓 of the corporate computer scientist, passionately searching for human compilers from Stanford 🤖, will likely not “interview” (examine) you with the simple searches above. You will face far more complicated scenarios involving this linearity in order to determine your complete, wholistic intelligence—for the planetary record shows that these inquisitors are beings of wisdom! And, BTW, my use of LINQ can be considered “cheating”!\n",
    "\n",
    "_And_ will I remember these stupid tricks during a job interview to use as building blocks for their complicated and “intelligent” scenarios? Probably not."
   ]
  },
  {
   "cell_type": "markdown",
   "metadata": {},
   "source": [
    "## that 2020 interview question from Amazon music\n",
    "\n",
    "Here is an example of a classic, computer-science intelligence test I got from Amazon Music back in 2020. [I wrote this down](https://github.com/BryanWilhite/LinqPad/blob/master/Queries/funkyKB/Interview%20-%20Amazon%20Music.linq) and forgot about it—but here it is:\n",
    "\n",
    "Find the clusters defined by:\n",
    "\n",
    "- adjacent `1`s\n",
    "- `1` on a row by itself\n",
    "- a row ending with adjacent `1`s, followed by a row starting with adjacent `1`s\n",
    "\n",
    "The 2D array below has `3` clusters:"
   ]
  },
  {
   "cell_type": "code",
   "execution_count": 5,
   "metadata": {
    "dotnet_interactive": {
     "language": "csharp"
    },
    "vscode": {
     "languageId": "polyglot-notebook"
    }
   },
   "outputs": [],
   "source": [
    "int[,] m =\n",
    "{\n",
    "    { 1, 1, 0, 0 },\n",
    "    { 0, 0, 1, 0 },\n",
    "    { 0, 0, 0, 0 },\n",
    "    { 0, 0, 1, 1 },\n",
    "    { 1, 1, 0, 0 },\n",
    "};"
   ]
  },
  {
   "cell_type": "markdown",
   "metadata": {},
   "source": [
    "First of all, I had _never_ seen a multi-dimensional array like this. The notation itself threw me for a loop! (Pun not intended.) Unless I am deeply mistaken (and I have been), the trick is to flatten this matrix-like thing into a traditional one-dimensional array. There is [a StackOverflow question](https://stackoverflow.com/questions/5132397/fast-way-to-convert-a-two-dimensional-array-to-a-list-one-dimensional) out there with the solution:"
   ]
  },
  {
   "cell_type": "code",
   "execution_count": 6,
   "metadata": {
    "dotnet_interactive": {
     "language": "csharp"
    },
    "vscode": {
     "languageId": "polyglot-notebook"
    }
   },
   "outputs": [
    {
     "data": {
      "text/html": [
       "<div class=\"dni-plaintext\"><pre>[ 1, 1, 0, 0, 0, 0, 1, 0, 0, 0, 0, 0, 0, 0, 1, 1, 1, 1, 0, 0 ]</pre></div><style>\r\n",
       ".dni-code-hint {\r\n",
       "    font-style: italic;\r\n",
       "    overflow: hidden;\r\n",
       "    white-space: nowrap;\r\n",
       "}\r\n",
       ".dni-treeview {\r\n",
       "    white-space: nowrap;\r\n",
       "}\r\n",
       ".dni-treeview td {\r\n",
       "    vertical-align: top;\r\n",
       "    text-align: start;\r\n",
       "}\r\n",
       "details.dni-treeview {\r\n",
       "    padding-left: 1em;\r\n",
       "}\r\n",
       "table td {\r\n",
       "    text-align: start;\r\n",
       "}\r\n",
       "table tr { \r\n",
       "    vertical-align: top; \r\n",
       "    margin: 0em 0px;\r\n",
       "}\r\n",
       "table tr td pre \r\n",
       "{ \r\n",
       "    vertical-align: top !important; \r\n",
       "    margin: 0em 0px !important;\r\n",
       "} \r\n",
       "table th {\r\n",
       "    text-align: start;\r\n",
       "}\r\n",
       "</style>"
      ]
     },
     "metadata": {},
     "output_type": "display_data"
    }
   ],
   "source": [
    "IEnumerable<int> mCollection = m.OfType<int>().ToArray();\n",
    "\n",
    "mCollection"
   ]
  },
  {
   "cell_type": "markdown",
   "metadata": {},
   "source": [
    "It is important to admit that this flattening procedure would never have surfaced in my imagination then and probably will not in future. For this alone I agree: I do not deserve to work for Amazon! But now this thing is flattened, I can jump into action with my authentic creativity with a `reduce` method:"
   ]
  },
  {
   "cell_type": "code",
   "execution_count": 7,
   "metadata": {
    "dotnet_interactive": {
     "language": "csharp"
    },
    "vscode": {
     "languageId": "polyglot-notebook"
    }
   },
   "outputs": [],
   "source": [
    "IEnumerable<int> reduce(IEnumerable<int> collection)\n",
    "{\n",
    "    int previous = -1;\n",
    "    foreach (var current in collection)\n",
    "    {\n",
    "        if(previous != current) yield return current;\n",
    "        previous = current;\n",
    "    }\n",
    "}"
   ]
  },
  {
   "cell_type": "markdown",
   "metadata": {},
   "source": [
    "What confuses me about my `reduce` function (after not staring at it for months) is the fact that it _will_ at times yield a `0` value. But I must remind myself that it will not affect the sum because it _is_ a zero. I am uncomfortable with this solution because intent is not clear.\n",
    "\n",
    "Here, Amazon, is your solution:"
   ]
  },
  {
   "cell_type": "code",
   "execution_count": 8,
   "metadata": {
    "dotnet_interactive": {
     "language": "csharp"
    },
    "vscode": {
     "languageId": "polyglot-notebook"
    }
   },
   "outputs": [
    {
     "data": {
      "text/html": [
       "<div class=\"dni-plaintext\"><pre>3</pre></div><style>\r\n",
       ".dni-code-hint {\r\n",
       "    font-style: italic;\r\n",
       "    overflow: hidden;\r\n",
       "    white-space: nowrap;\r\n",
       "}\r\n",
       ".dni-treeview {\r\n",
       "    white-space: nowrap;\r\n",
       "}\r\n",
       ".dni-treeview td {\r\n",
       "    vertical-align: top;\r\n",
       "    text-align: start;\r\n",
       "}\r\n",
       "details.dni-treeview {\r\n",
       "    padding-left: 1em;\r\n",
       "}\r\n",
       "table td {\r\n",
       "    text-align: start;\r\n",
       "}\r\n",
       "table tr { \r\n",
       "    vertical-align: top; \r\n",
       "    margin: 0em 0px;\r\n",
       "}\r\n",
       "table tr td pre \r\n",
       "{ \r\n",
       "    vertical-align: top !important; \r\n",
       "    margin: 0em 0px !important;\r\n",
       "} \r\n",
       "table th {\r\n",
       "    text-align: start;\r\n",
       "}\r\n",
       "</style>"
      ]
     },
     "metadata": {},
     "output_type": "display_data"
    }
   ],
   "source": [
    "IEnumerable<int> reduction = reduce(mCollection);\n",
    "reduction.Sum()"
   ]
  },
  {
   "cell_type": "markdown",
   "metadata": {},
   "source": [
    "Amazon is really examining candidates for knowledge of graph theory, specifically the [adjaceny matrix](https://en.wikipedia.org/wiki/Adjacency_matrix).\n",
    "\n",
    ">“Selecting the right graph data structure can have an enormous impact on performance. Your two basic choices are adjacency matrices and adjacency lists…”\n",
    ">\n",
    ">— Steven S. Skiena, The Algorithm Design Manual [Second Edition], p. 151"
   ]
  },
  {
   "cell_type": "markdown",
   "metadata": {},
   "source": [
    "## <!-- -->\n",
    "\n",
    "🐙🐱[BryanWilhite](https://github.com/BryanWilhite)"
   ]
  }
 ],
 "metadata": {
  "kernelspec": {
   "display_name": ".NET (C#)",
   "language": "C#",
   "name": ".net-csharp"
  },
  "language_info": {
   "file_extension": ".cs",
   "mimetype": "text/x-csharp",
   "name": "C#",
   "pygments_lexer": "csharp",
   "version": "9.0"
  },
  "orig_nbformat": 4
 },
 "nbformat": 4,
 "nbformat_minor": 2
}
