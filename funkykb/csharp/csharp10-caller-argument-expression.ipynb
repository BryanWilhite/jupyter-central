{
 "cells": [
  {
   "cell_type": "markdown",
   "metadata": {
    "dotnet_interactive": {
     "language": "csharp"
    }
   },
   "source": [
    "# `CallerArgumentExpression`\n",
    "\n",
    "`ArgumentNullException.ThrowIfNull` [📖 [docs](https://docs.microsoft.com/en-us/dotnet/api/system.argumentnullexception.throwifnull?view=net-6.0)], introduced in .NET 6.0, uses the `CallerArgumentExpressionAttribute` for its error messages:\n",
    "\n",
    ">The `paramName` parameter is included to support the [CallerArgumentExpressionAttribute](https://docs.microsoft.com/en-us/dotnet/api/system.runtime.compilerservices.callerargumentexpressionattribute?view=net-6.0) attribute. It’s recommended that you don’t pass a value for this parameter and let the name of `argument` be used instead.\n",
    "\n",
    "We can see `ThrowIfNull` in action in `MyMethod` below:"
   ]
  },
  {
   "cell_type": "code",
   "execution_count": null,
   "metadata": {
    "dotnet_interactive": {
     "language": "csharp"
    },
    "vscode": {
     "languageId": "dotnet-interactive.csharp"
    }
   },
   "outputs": [],
   "source": [
    "#nullable enable\n",
    "\n",
    "public static string MyMethod(string? myString)\n",
    "{\n",
    "    ArgumentNullException.ThrowIfNull(myString);\n",
    "\n",
    "    return $\"This is your string: `{myString}`\";\n",
    "}"
   ]
  },
  {
   "cell_type": "markdown",
   "metadata": {},
   "source": [
    "We can compare passing a non-null value:"
   ]
  },
  {
   "cell_type": "code",
   "execution_count": null,
   "metadata": {
    "dotnet_interactive": {
     "language": "csharp"
    },
    "vscode": {
     "languageId": "dotnet-interactive.csharp"
    }
   },
   "outputs": [
    {
     "data": {
      "text/plain": [
       "This is your string: `yup`"
      ]
     },
     "metadata": {},
     "output_type": "display_data"
    }
   ],
   "source": [
    "var mine = MyMethod(\"yup\");\n",
    "\n",
    "mine"
   ]
  },
  {
   "cell_type": "markdown",
   "metadata": {},
   "source": [
    "To the passing of a null value:"
   ]
  },
  {
   "cell_type": "code",
   "execution_count": null,
   "metadata": {
    "dotnet_interactive": {
     "language": "csharp"
    },
    "vscode": {
     "languageId": "dotnet-interactive.csharp"
    }
   },
   "outputs": [
    {
     "ename": "Error",
     "evalue": "System.ArgumentNullException: Value cannot be null. (Parameter 'myString')\n   at System.ArgumentNullException.Throw(String paramName)\n   at System.ArgumentNullException.ThrowIfNull(Object argument, String paramName)\n   at Submission#9.MyMethod(String myString)\n   at Submission#11.<<Initialize>>d__0.MoveNext()\n--- End of stack trace from previous location ---\n   at Microsoft.CodeAnalysis.Scripting.ScriptExecutionState.RunSubmissionsAsync[TResult](ImmutableArray`1 precedingExecutors, Func`2 currentExecutor, StrongBox`1 exceptionHolderOpt, Func`2 catchExceptionOpt, CancellationToken cancellationToken)",
     "output_type": "error",
     "traceback": [
      "System.ArgumentNullException: Value cannot be null. (Parameter 'myString')\n",
      "   at System.ArgumentNullException.Throw(String paramName)\n",
      "   at System.ArgumentNullException.ThrowIfNull(Object argument, String paramName)\n",
      "   at Submission#9.MyMethod(String myString)\n",
      "   at Submission#11.<<Initialize>>d__0.MoveNext()\n",
      "--- End of stack trace from previous location ---\n",
      "   at Microsoft.CodeAnalysis.Scripting.ScriptExecutionState.RunSubmissionsAsync[TResult](ImmutableArray`1 precedingExecutors, Func`2 currentExecutor, StrongBox`1 exceptionHolderOpt, Func`2 catchExceptionOpt, CancellationToken cancellationToken)"
     ]
    }
   ],
   "source": [
    "var myOtherOne = MyMethod(null);"
   ]
  },
  {
   "cell_type": "markdown",
   "metadata": {},
   "source": [
    "We can see the `nameof(myString)` in the error message, `Value cannot be null. (Parameter 'myString')`.\n",
    "\n",
    "The Microsoft [document](https://docs.microsoft.com/en-us/dotnet/csharp/language-reference/proposals/csharp-10.0/caller-argument-expression), CallerArgumentExpression, describes how we can use `CallerArgumentExpressionAttribute` in our own APIs."
   ]
  },
  {
   "cell_type": "markdown",
   "metadata": {},
   "source": [
    "[Bryan Wilhite is on LinkedIn](https://www.linkedin.com/in/wilhite)🇺🇸💼\n"
   ]
  }
 ],
 "metadata": {
  "kernelspec": {
   "display_name": ".NET (C#)",
   "language": "C#",
   "name": ".net-csharp"
  },
  "language_info": {
   "file_extension": ".cs",
   "mimetype": "text/x-csharp",
   "name": "C#",
   "pygments_lexer": "csharp",
   "version": "9.0"
  },
  "orig_nbformat": 4
 },
 "nbformat": 4,
 "nbformat_minor": 2
}
