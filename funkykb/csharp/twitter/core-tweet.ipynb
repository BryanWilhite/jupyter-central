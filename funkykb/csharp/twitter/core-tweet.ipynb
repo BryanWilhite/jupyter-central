{
 "cells": [
  {
   "attachments": {},
   "cell_type": "markdown",
   "metadata": {},
   "source": [
    "# CoreTweet\n",
    "\n",
    "<https://github.com/CoreTweet/CoreTweet>\n"
   ]
  },
  {
   "cell_type": "code",
   "execution_count": 1,
   "metadata": {
    "dotnet_interactive": {
     "language": "csharp"
    },
    "polyglot_notebook": {
     "kernelName": "csharp"
    },
    "vscode": {
     "languageId": "polyglot-notebook"
    }
   },
   "outputs": [
    {
     "data": {
      "text/html": [
       "<div><div></div><div></div><div><strong>Installed Packages</strong><ul><li><span>CoreTweet, 1.0.0.483</span></li></ul></div></div>"
      ]
     },
     "metadata": {},
     "output_type": "display_data"
    }
   ],
   "source": [
    "#r \"nuget: CoreTweet\""
   ]
  },
  {
   "cell_type": "code",
   "execution_count": 2,
   "metadata": {
    "dotnet_interactive": {
     "language": "csharp"
    },
    "polyglot_notebook": {
     "kernelName": "csharp"
    },
    "vscode": {
     "languageId": "polyglot-notebook"
    }
   },
   "outputs": [
    {
     "data": {
      "text/html": [
       "<div><div></div><div></div><div><strong>Installed Packages</strong><ul><li><span>SonghayCore, 6.0.4</span></li></ul></div></div>"
      ]
     },
     "metadata": {},
     "output_type": "display_data"
    }
   ],
   "source": [
    "#r \"nuget: SonghayCore\""
   ]
  },
  {
   "cell_type": "code",
   "execution_count": 3,
   "metadata": {
    "dotnet_interactive": {
     "language": "csharp"
    },
    "polyglot_notebook": {
     "kernelName": "csharp"
    },
    "vscode": {
     "languageId": "polyglot-notebook"
    }
   },
   "outputs": [
    {
     "data": {
      "text/html": [
       "<div class=\"dni-plaintext\"><pre>True</pre></div><style>\r\n",
       ".dni-code-hint {\r\n",
       "    font-style: italic;\r\n",
       "    overflow: hidden;\r\n",
       "    white-space: nowrap;\r\n",
       "}\r\n",
       ".dni-treeview {\r\n",
       "    white-space: nowrap;\r\n",
       "}\r\n",
       ".dni-treeview td {\r\n",
       "    vertical-align: top;\r\n",
       "    text-align: start;\r\n",
       "}\r\n",
       "details.dni-treeview {\r\n",
       "    padding-left: 1em;\r\n",
       "}\r\n",
       "table td {\r\n",
       "    text-align: start;\r\n",
       "}\r\n",
       "table tr { \r\n",
       "    vertical-align: top; \r\n",
       "    margin: 0em 0px;\r\n",
       "}\r\n",
       "table tr td pre \r\n",
       "{ \r\n",
       "    vertical-align: top !important; \r\n",
       "    margin: 0em 0px !important;\r\n",
       "} \r\n",
       "table th {\r\n",
       "    text-align: start;\r\n",
       "}\r\n",
       "</style>"
      ]
     },
     "metadata": {},
     "output_type": "display_data"
    }
   ],
   "source": [
    "using System.IO;\n",
    "using System.Text.Json;\n",
    "using Songhay.Models;\n",
    "\n",
    "var json = File.ReadAllText(Environment.GetEnvironmentVariable(\"SONGHAY_APP_SETTINGS_PATH\"));\n",
    "\n",
    "JsonDocument.Parse(json).RootElement.TryGetProperty(nameof(ProgramMetadata), out var element)"
   ]
  },
  {
   "cell_type": "code",
   "execution_count": 4,
   "metadata": {
    "dotnet_interactive": {
     "language": "csharp"
    },
    "polyglot_notebook": {
     "kernelName": "csharp"
    },
    "vscode": {
     "languageId": "polyglot-notebook"
    }
   },
   "outputs": [
    {
     "data": {
      "text/html": [
       "<div class=\"dni-plaintext\"><pre>[ TwitterConsumerKey, TwitterConsumerSecret, TwitterProfileImageRoot, TwitterToken, TwitterTokenSecret, TwitterTokenBearer ]</pre></div><style>\r\n",
       ".dni-code-hint {\r\n",
       "    font-style: italic;\r\n",
       "    overflow: hidden;\r\n",
       "    white-space: nowrap;\r\n",
       "}\r\n",
       ".dni-treeview {\r\n",
       "    white-space: nowrap;\r\n",
       "}\r\n",
       ".dni-treeview td {\r\n",
       "    vertical-align: top;\r\n",
       "    text-align: start;\r\n",
       "}\r\n",
       "details.dni-treeview {\r\n",
       "    padding-left: 1em;\r\n",
       "}\r\n",
       "table td {\r\n",
       "    text-align: start;\r\n",
       "}\r\n",
       "table tr { \r\n",
       "    vertical-align: top; \r\n",
       "    margin: 0em 0px;\r\n",
       "}\r\n",
       "table tr td pre \r\n",
       "{ \r\n",
       "    vertical-align: top !important; \r\n",
       "    margin: 0em 0px !important;\r\n",
       "} \r\n",
       "table th {\r\n",
       "    text-align: start;\r\n",
       "}\r\n",
       "</style>"
      ]
     },
     "metadata": {},
     "output_type": "display_data"
    }
   ],
   "source": [
    "var meta = JsonSerializer.Deserialize<ProgramMetadata>(element);\n",
    "var restMeta = meta.RestApiMetadataSet[\"SocialTwitter\"];\n",
    "\n",
    "restMeta.ClaimsSet.Keys"
   ]
  },
  {
   "cell_type": "code",
   "execution_count": 12,
   "metadata": {
    "dotnet_interactive": {
     "language": "csharp"
    },
    "polyglot_notebook": {
     "kernelName": "csharp"
    },
    "vscode": {
     "languageId": "polyglot-notebook"
    }
   },
   "outputs": [
    {
     "data": {
      "text/html": [
       "<details open=\"open\" class=\"dni-treeview\"><summary><span class=\"dni-code-hint\"><code>https://api.twitter.com/oauth/authorize?oauth_token=h1HVtQAAAAAAAGiiAAABh-7yK4s</code></span></summary><div><table><thead><tr></tr></thead><tbody><tr><td>AbsolutePath</td><td>/oauth/authorize</td></tr><tr><td>AbsoluteUri</td><td>https://api.twitter.com/oauth/authorize?oauth_token=h1HVtQAAAAAAAGiiAAABh-7yK4s</td></tr><tr><td>LocalPath</td><td>/oauth/authorize</td></tr><tr><td>Authority</td><td>api.twitter.com</td></tr><tr><td>HostNameType</td><td><span>Dns</span></td></tr><tr><td>IsDefaultPort</td><td><div class=\"dni-plaintext\"><pre>True</pre></div></td></tr><tr><td>IsFile</td><td><div class=\"dni-plaintext\"><pre>False</pre></div></td></tr><tr><td>IsLoopback</td><td><div class=\"dni-plaintext\"><pre>False</pre></div></td></tr><tr><td>PathAndQuery</td><td>/oauth/authorize?oauth_token=h1HVtQAAAAAAAGiiAAABh-7yK4s</td></tr><tr><td>Segments</td><td><div class=\"dni-plaintext\"><pre>[ /, oauth/, authorize ]</pre></div></td></tr><tr><td>IsUnc</td><td><div class=\"dni-plaintext\"><pre>False</pre></div></td></tr><tr><td>Host</td><td>api.twitter.com</td></tr><tr><td>Port</td><td><div class=\"dni-plaintext\"><pre>443</pre></div></td></tr><tr><td>Query</td><td>?oauth_token=h1HVtQAAAAAAAGiiAAABh-7yK4s</td></tr><tr><td>Fragment</td><td></td></tr><tr><td>Scheme</td><td>https</td></tr><tr><td>OriginalString</td><td>https://api.twitter.com/oauth/authorize?oauth_token=h1HVtQAAAAAAAGiiAAABh-7yK4s</td></tr><tr><td>DnsSafeHost</td><td>api.twitter.com</td></tr><tr><td>IdnHost</td><td>api.twitter.com</td></tr><tr><td>IsAbsoluteUri</td><td><div class=\"dni-plaintext\"><pre>True</pre></div></td></tr><tr><td>UserEscaped</td><td><div class=\"dni-plaintext\"><pre>False</pre></div></td></tr><tr><td>UserInfo</td><td></td></tr></tbody></table></div></details><style>\r\n",
       ".dni-code-hint {\r\n",
       "    font-style: italic;\r\n",
       "    overflow: hidden;\r\n",
       "    white-space: nowrap;\r\n",
       "}\r\n",
       ".dni-treeview {\r\n",
       "    white-space: nowrap;\r\n",
       "}\r\n",
       ".dni-treeview td {\r\n",
       "    vertical-align: top;\r\n",
       "    text-align: start;\r\n",
       "}\r\n",
       "details.dni-treeview {\r\n",
       "    padding-left: 1em;\r\n",
       "}\r\n",
       "table td {\r\n",
       "    text-align: start;\r\n",
       "}\r\n",
       "table tr { \r\n",
       "    vertical-align: top; \r\n",
       "    margin: 0em 0px;\r\n",
       "}\r\n",
       "table tr td pre \r\n",
       "{ \r\n",
       "    vertical-align: top !important; \r\n",
       "    margin: 0em 0px !important;\r\n",
       "} \r\n",
       "table th {\r\n",
       "    text-align: start;\r\n",
       "}\r\n",
       "</style>"
      ]
     },
     "metadata": {},
     "output_type": "display_data"
    }
   ],
   "source": [
    "using CoreTweet;\n",
    "\n",
    "var session = OAuth\n",
    "    .Authorize(\n",
    "        restMeta.ClaimsSet[\"TwitterConsumerKey\"],\n",
    "        restMeta.ClaimsSet[\"TwitterConsumerSecret\"]);\n",
    "\n",
    "session.AuthorizeUri"
   ]
  },
  {
   "cell_type": "code",
   "execution_count": 13,
   "metadata": {
    "dotnet_interactive": {
     "language": "csharp"
    },
    "polyglot_notebook": {
     "kernelName": "csharp"
    },
    "vscode": {
     "languageId": "polyglot-notebook"
    }
   },
   "outputs": [
    {
     "data": {
      "text/plain": [
       "BryanWilhite"
      ]
     },
     "metadata": {},
     "output_type": "display_data"
    }
   ],
   "source": [
    "var tokens = OAuth.GetTokens(session, \"0728693\");\n",
    "\n",
    "tokens.ScreenName"
   ]
  },
  {
   "cell_type": "code",
   "execution_count": 16,
   "metadata": {
    "dotnet_interactive": {
     "language": "csharp"
    },
    "polyglot_notebook": {
     "kernelName": "csharp"
    },
    "vscode": {
     "languageId": "polyglot-notebook"
    }
   },
   "outputs": [
    {
     "data": {
      "text/html": [
       "<table><thead><tr><th><i>index</i></th><th>value</th></tr></thead><tbody><tr><td>0</td><td><details class=\"dni-treeview\"><summary><span class=\"dni-code-hint\"><code>1654547172665294852</code></span></summary><div><table><thead><tr></tr></thead><tbody><tr><td>Id</td><td><div class=\"dni-plaintext\"><pre>1654547172665294852</pre></div></td></tr><tr><td>Contributors</td><td><div class=\"dni-plaintext\"><pre>&lt;null&gt;</pre></div></td></tr><tr><td>Coordinates</td><td><div class=\"dni-plaintext\"><pre>&lt;null&gt;</pre></div></td></tr><tr><td>CreatedAt</td><td><span>2023-05-05 18:02:40Z</span></td></tr><tr><td>CurrentUserRetweet</td><td><div class=\"dni-plaintext\"><pre>&lt;null&gt;</pre></div></td></tr><tr><td>DisplayTextRange</td><td><div class=\"dni-plaintext\"><pre>&lt;null&gt;</pre></div></td></tr><tr><td>Entities</td><td><details class=\"dni-treeview\"><summary><span class=\"dni-code-hint\"><code>CoreTweet.Entities</code></span></summary><div><table><thead><tr></tr></thead><tbody><tr><td>HashTags</td><td></td></tr><tr><td>Media</td><td><div class=\"dni-plaintext\"><pre>&lt;null&gt;</pre></div></td></tr><tr><td>Urls</td><td><table><thead><tr><th><i>index</i></th><th>value</th></tr></thead><tbody><tr><td>0</td><td><details class=\"dni-treeview\"><summary><span class=\"dni-code-hint\"><code>CoreTweet.UrlEntity</code></span></summary><div><table><thead><tr></tr></thead><tbody><tr><td>DisplayUrl</td><td>twitter.com/i/web/status/1…</td></tr><tr><td>ExpandedUrl</td><td>https://twitter.com/i/web/status/1654547172665294852</td></tr><tr><td>Url</td><td>https://t.co/PLfa3oe9nZ</td></tr><tr><td>Indices</td><td><div class=\"dni-plaintext\"><pre>[ 116, 139 ]</pre></div></td></tr></tbody></table></div></details></td></tr></tbody></table></td></tr><tr><td>UserMentions</td><td><table><thead><tr><th><i>index</i></th><th>value</th></tr></thead><tbody><tr><td>0</td><td><details class=\"dni-treeview\"><summary><span class=\"dni-code-hint\"><code>67803525</code></span></summary><div><table><thead><tr></tr></thead><tbody><tr><td>Id</td><td><div class=\"dni-plaintext\"><pre>67803525</pre></div></td></tr><tr><td>Name</td><td>Bryan D. Wilhite</td></tr><tr><td>ScreenName</td><td>BryanWilhite</td></tr><tr><td>Indices</td><td><div class=\"dni-plaintext\"><pre>[ 0, 13 ]</pre></div></td></tr></tbody></table></div></details></td></tr></tbody></table></td></tr><tr><td>Symbols</td><td></td></tr></tbody></table></div></details></td></tr><tr><td>ExtendedEntities</td><td><div class=\"dni-plaintext\"><pre>&lt;null&gt;</pre></div></td></tr><tr><td>ExtendedTweet</td><td><div class=\"dni-plaintext\"><pre>&lt;null&gt;</pre></div></td></tr><tr><td>FavoriteCount</td><td><div class=\"dni-plaintext\"><pre>0</pre></div></td></tr><tr><td>IsFavorited</td><td><div class=\"dni-plaintext\"><pre>False</pre></div></td></tr><tr><td>FilterLevel</td><td><div class=\"dni-plaintext\"><pre>&lt;null&gt;</pre></div></td></tr><tr><td>FullText</td><td><div class=\"dni-plaintext\"><pre>&lt;null&gt;</pre></div></td></tr><tr><td>InReplyToScreenName</td><td>BryanWilhite</td></tr><tr><td>InReplyToStatusId</td><td><div class=\"dni-plaintext\"><pre>1654544200782983168</pre></div></td></tr><tr><td>InReplyToUserId</td><td><div class=\"dni-plaintext\"><pre>67803525</pre></div></td></tr><tr><td>IsQuotedStatus</td><td><div class=\"dni-plaintext\"><pre>&lt;null&gt;</pre></div></td></tr><tr><td>Language</td><td>en</td></tr><tr><td>Place</td><td><div class=\"dni-plaintext\"><pre>&lt;null&gt;</pre></div></td></tr><tr><td>PossiblySensitive</td><td><div class=\"dni-plaintext\"><pre>&lt;null&gt;</pre></div></td></tr><tr><td>PossiblySensitiveAppealable</td><td><div class=\"dni-plaintext\"><pre>&lt;null&gt;</pre></div></td></tr><tr><td>QuotedStatusId</td><td><div class=\"dni-plaintext\"><pre>&lt;null&gt;</pre></div></td></tr><tr><td>QuotedStatus</td><td><div class=\"dni-plaintext\"><pre>&lt;null&gt;</pre></div></td></tr><tr><td>Scopes</td><td><div class=\"dni-plaintext\"><pre>&lt;null&gt;</pre></div></td></tr><tr><td>RetweetCount</td><td><div class=\"dni-plaintext\"><pre>1</pre></div></td></tr><tr><td>IsRetweeted</td><td><div class=\"dni-plaintext\"><pre>False</pre></div></td></tr><tr><td>RetweetedStatus</td><td><div class=\"dni-plaintext\"><pre>&lt;null&gt;</pre></div></td></tr><tr><td>Source</td><td>&lt;a href=&quot;https://mobile.twitter.com&quot; rel=&quot;nofollow&quot;&gt;Twitter Web App&lt;/a&gt;</td></tr><tr><td>Text</td><td>@BryanWilhite it&#39;s a windy twisty road -- so i have not studied it, and i don&#39;t want to implement it as it is now.… https://t.co/PLfa3oe9nZ</td></tr><tr><td>IsTruncated</td><td><div class=\"dni-plaintext\"><pre>True</pre></div></td></tr><tr><td>User</td><td><details class=\"dni-treeview\"><summary><span class=\"dni-code-hint\"><code>3839</code></span></summary><div><table><thead><tr></tr></thead><tbody><tr><td>IsContributorsEnabled</td><td><div class=\"dni-plaintext\"><pre>False</pre></div></td></tr><tr><td>CreatedAt</td><td><span>2006-08-05 23:04:08Z</span></td></tr><tr><td>Timestamp</td><td><span>0001-01-01 00:00:00Z</span></td></tr><tr><td>IsDefaultProfile</td><td><div class=\"dni-plaintext\"><pre>False</pre></div></td></tr><tr><td>IsDefaultProfileImage</td><td><div class=\"dni-plaintext\"><pre>False</pre></div></td></tr><tr><td>Description</td><td>I work for the betterment of the network we all share. I hope you are doing that too. &#128512;</td></tr><tr><td>Email</td><td><div class=\"dni-plaintext\"><pre>&lt;null&gt;</pre></div></td></tr><tr><td>Entities</td><td><details class=\"dni-treeview\"><summary><span class=\"dni-code-hint\"><code>CoreTweet.UserEntities</code></span></summary><div><table><thead><tr></tr></thead><tbody><tr><td>Url</td><td><details class=\"dni-treeview\"><summary><span class=\"dni-code-hint\"><code>CoreTweet.Entities</code></span></summary><div><table><thead><tr></tr></thead><tbody><tr><td>HashTags</td><td><div class=\"dni-plaintext\"><pre>&lt;null&gt;</pre></div></td></tr><tr><td>Media</td><td><div class=\"dni-plaintext\"><pre>&lt;null&gt;</pre></div></td></tr><tr><td>Urls</td><td><table><thead><tr><th><i>index</i></th><th>value</th></tr></thead><tbody><tr><td>0</td><td>CoreTweet.UrlEntity</td></tr></tbody></table></td></tr><tr><td>UserMentions</td><td><div class=\"dni-plaintext\"><pre>&lt;null&gt;</pre></div></td></tr><tr><td>Symbols</td><td><div class=\"dni-plaintext\"><pre>&lt;null&gt;</pre></div></td></tr></tbody></table></div></details></td></tr><tr><td>Description</td><td><details class=\"dni-treeview\"><summary><span class=\"dni-code-hint\"><code>CoreTweet.Entities</code></span></summary><div><table><thead><tr></tr></thead><tbody><tr><td>HashTags</td><td><div class=\"dni-plaintext\"><pre>&lt;null&gt;</pre></div></td></tr><tr><td>Media</td><td><div class=\"dni-plaintext\"><pre>&lt;null&gt;</pre></div></td></tr><tr><td>Urls</td><td></td></tr><tr><td>UserMentions</td><td><div class=\"dni-plaintext\"><pre>&lt;null&gt;</pre></div></td></tr><tr><td>Symbols</td><td><div class=\"dni-plaintext\"><pre>&lt;null&gt;</pre></div></td></tr></tbody></table></div></details></td></tr></tbody></table></div></details></td></tr><tr><td>FavouritesCount</td><td><div class=\"dni-plaintext\"><pre>20400</pre></div></td></tr><tr><td>IsFollowRequestSent</td><td><div class=\"dni-plaintext\"><pre>False</pre></div></td></tr><tr><td>FollowersCount</td><td><div class=\"dni-plaintext\"><pre>66468</pre></div></td></tr><tr><td>FriendsCount</td><td><div class=\"dni-plaintext\"><pre>3860</pre></div></td></tr><tr><td>HasExtendedProfile</td><td><div class=\"dni-plaintext\"><pre>False</pre></div></td></tr><tr><td>IsGeoEnabled</td><td><div class=\"dni-plaintext\"><pre>True</pre></div></td></tr><tr><td>Id</td><td><div class=\"dni-plaintext\"><pre>3839</pre></div></td></tr><tr><td>IsTranslator</td><td><div class=\"dni-plaintext\"><pre>False</pre></div></td></tr><tr><td>IsTranslationEnabled</td><td><div class=\"dni-plaintext\"><pre>False</pre></div></td></tr><tr><td>Language</td><td><div class=\"dni-plaintext\"><pre>&lt;null&gt;</pre></div></td></tr><tr><td>ListedCount</td><td><div class=\"dni-plaintext\"><pre>5064</pre></div></td></tr><tr><td>Location</td><td>Woodstock, NY</td></tr><tr><td>IsMuting</td><td><div class=\"dni-plaintext\"><pre>&lt;null&gt;</pre></div></td></tr><tr><td>Name</td><td>Dave Winer</td></tr><tr><td>NeedsPhoneVerification</td><td><div class=\"dni-plaintext\"><pre>&lt;null&gt;</pre></div></td></tr><tr><td>ProfileBackgroundColor</td><td>9AE4E8</td></tr><tr><td>ProfileBackgroundImageUrl</td><td>http://abs.twimg.com/images/themes/theme1/bg.png</td></tr><tr><td>ProfileBackgroundImageUrlHttps</td><td>https://abs.twimg.com/images/themes/theme1/bg.png</td></tr><tr><td>IsProfileBackgroundTile</td><td><div class=\"dni-plaintext\"><pre>True</pre></div></td></tr><tr><td>ProfileBannerUrl</td><td>https://pbs.twimg.com/profile_banners/3839/1636295224</td></tr><tr><td>ProfileImageUrl</td><td>http://pbs.twimg.com/profile_images/1398806004528263168/2SXipvrt_normal.jpg</td></tr><tr><td>ProfileImageUrlHttps</td><td>https://pbs.twimg.com/profile_images/1398806004528263168/2SXipvrt_normal.jpg</td></tr><tr><td>ProfileLinkColor</td><td>7F7F90</td></tr><tr><td>ProfileLocation</td><td><div class=\"dni-plaintext\"><pre>&lt;null&gt;</pre></div></td></tr><tr><td>ProfileSidebarBorderColor</td><td>FFFFFF</td></tr><tr><td>ProfileSidebarFillColor</td><td>E1E1DF</td></tr><tr><td>ProfileTextColor</td><td>000000</td></tr><tr><td>IsProfileUseBackgroundImage</td><td><div class=\"dni-plaintext\"><pre>True</pre></div></td></tr><tr><td>IsProtected</td><td><div class=\"dni-plaintext\"><pre>False</pre></div></td></tr><tr><td>ScreenName</td><td>davewiner</td></tr><tr><td>IsShowAllInlineMedia</td><td><div class=\"dni-plaintext\"><pre>&lt;null&gt;</pre></div></td></tr><tr><td>Status</td><td><div class=\"dni-plaintext\"><pre>&lt;null&gt;</pre></div></td></tr><tr><td>StatusesCount</td><td><div class=\"dni-plaintext\"><pre>211756</pre></div></td></tr><tr><td>IsSuspended</td><td><div class=\"dni-plaintext\"><pre>&lt;null&gt;</pre></div></td></tr><tr><td>TimeZone</td><td><div class=\"dni-plaintext\"><pre>&lt;null&gt;</pre></div></td></tr><tr><td>TranslatorType</td><td>none</td></tr><tr><td>Url</td><td>https://t.co/alwLFPBgDF</td></tr><tr><td>UtcOffset</td><td><div class=\"dni-plaintext\"><pre>&lt;null&gt;</pre></div></td></tr><tr><td>IsVerified</td><td><div class=\"dni-plaintext\"><pre>False</pre></div></td></tr><tr><td>WithheldInCountries</td><td></td></tr><tr><td>WithheldScope</td><td><div class=\"dni-plaintext\"><pre>&lt;null&gt;</pre></div></td></tr></tbody></table></div></details></td></tr><tr><td>WithheldCopyright</td><td><div class=\"dni-plaintext\"><pre>&lt;null&gt;</pre></div></td></tr><tr><td>WithheldInCountries</td><td><div class=\"dni-plaintext\"><pre>&lt;null&gt;</pre></div></td></tr><tr><td>WithheldScope</td><td><div class=\"dni-plaintext\"><pre>&lt;null&gt;</pre></div></td></tr></tbody></table></div></details></td></tr></tbody></table><style>\r\n",
       ".dni-code-hint {\r\n",
       "    font-style: italic;\r\n",
       "    overflow: hidden;\r\n",
       "    white-space: nowrap;\r\n",
       "}\r\n",
       ".dni-treeview {\r\n",
       "    white-space: nowrap;\r\n",
       "}\r\n",
       ".dni-treeview td {\r\n",
       "    vertical-align: top;\r\n",
       "    text-align: start;\r\n",
       "}\r\n",
       "details.dni-treeview {\r\n",
       "    padding-left: 1em;\r\n",
       "}\r\n",
       "table td {\r\n",
       "    text-align: start;\r\n",
       "}\r\n",
       "table tr { \r\n",
       "    vertical-align: top; \r\n",
       "    margin: 0em 0px;\r\n",
       "}\r\n",
       "table tr td pre \r\n",
       "{ \r\n",
       "    vertical-align: top !important; \r\n",
       "    margin: 0em 0px !important;\r\n",
       "} \r\n",
       "table th {\r\n",
       "    text-align: start;\r\n",
       "}\r\n",
       "</style>"
      ]
     },
     "metadata": {},
     "output_type": "display_data"
    }
   ],
   "source": [
    "tokens.Statuses.Lookup(id: new [] {1654547172665294852})"
   ]
  },
  {
   "cell_type": "code",
   "execution_count": 18,
   "metadata": {
    "dotnet_interactive": {
     "language": "csharp"
    },
    "polyglot_notebook": {
     "kernelName": "csharp"
    },
    "vscode": {
     "languageId": "polyglot-notebook"
    }
   },
   "outputs": [
    {
     "data": {
      "text/html": [
       "<details open=\"open\" class=\"dni-treeview\"><summary><span class=\"dni-code-hint\"><code>1654684030993055745</code></span></summary><div><table><thead><tr></tr></thead><tbody><tr><td>RateLimit</td><td><div class=\"dni-plaintext\"><pre>&lt;null&gt;</pre></div></td></tr><tr><td>Json</td><td>{&quot;created_at&quot;:&quot;Sat May 06 03:06:30 +0000 2023&quot;,&quot;id&quot;:1654684030993055745,&quot;id_str&quot;:&quot;1654684030993055745&quot;,&quot;text&quot;:&quot;This is my test of CoreTweet.\\n\\n        https:\\/\\/t.co\\/v1EbqcxYdv\\n\\n        \\ud83d\\udc25 \\ud83d\\udc24 \\u2699&quot;,&quot;truncated&quot;:false,&quot;entities&quot;:{&quot;hashtags&quot;:[],&quot;symbols&quot;:[],&quot;user_mentions&quot;:[],&quot;urls&quot;:[{&quot;url&quot;:&quot;https:\\/\\/t.co\\/v1EbqcxYdv&quot;,&quot;expanded_url&quot;:&quot;https:\\/\\/github.com\\/CoreTweet\\/CoreTweet&quot;,&quot;display_url&quot;:&quot;github.com\\/CoreTweet\\/Core\\u2026&quot;,&quot;indices&quot;:[39,62]}]},&quot;source&quot;:&quot;\\u003ca href=\\&quot;http:\\/\\/songhayindex.azurewebsites.net\\/\\&quot; rel=\\&quot;nofollow\\&quot;\\u003eSonghay Studio\\u003c\\/a\\u003e&quot;,&quot;in_reply_to_status_id&quot;:null,&quot;in_reply_to_status_id_str&quot;:null,&quot;in_reply_to_user_id&quot;:null,&quot;in_reply_to_user_id_str&quot;:null,&quot;in_reply_to_screen_name&quot;:null,&quot;user&quot;:{&quot;id&quot;:67803525,&quot;id_str&quot;:&quot;67803525&quot;,&quot;name&quot;:&quot;Bryan D. Wilhite&quot;,&quot;screen_name&quot;:&quot;BryanWilhite&quot;,&quot;location&quot;:&quot;California&quot;,&quot;description&quot;:&quot;A developer from Los Angeles, CA \\u00ab @Azure @code @github #csharp #epub #webapps #ux&quot;,&quot;url&quot;:&quot;http:\\/\\/t.co\\/UNdqV0Z1zz&quot;,&quot;entities&quot;:{&quot;url&quot;:{&quot;urls&quot;:[{&quot;url&quot;:&quot;http:\\/\\/t.co\\/UNdqV0Z1zz&quot;,&quot;expanded_url&quot;:&quot;http:\\/\\/songhayblog.azurewebsites.net\\/&quot;,&quot;display_url&quot;:&quot;songhayblog.azurewebsites.net&quot;,&quot;indices&quot;:[0,22]}]},&quot;description&quot;:{&quot;urls&quot;:[]}},&quot;protected&quot;:false,&quot;followers_count&quot;:472,&quot;friends_count&quot;:245,&quot;listed_count&quot;:76,&quot;created_at&quot;:&quot;Sat Aug 22 03:33:39 +0000 2009&quot;,&quot;favourites_count&quot;:25,&quot;utc_offset&quot;:null,&quot;time_zone&quot;:null,&quot;geo_enabled&quot;:true,&quot;verified&quot;:false,&quot;statuses_count&quot;:31430,&quot;lang&quot;:null,&quot;contributors_enabled&quot;:false,&quot;is_translator&quot;:false,&quot;is_translation_enabled&quot;:false,&quot;profile_background_color&quot;:&quot;000000&quot;,&quot;profile_background_image_url&quot;:&quot;http:\\/\\/abs.twimg.com\\/images\\/themes\\/theme14\\/bg.gif&quot;,&quot;profile_background_image_url_https&quot;:&quot;https:\\/\\/abs.twimg.com\\/images\\/themes\\/theme14\\/bg.gif&quot;,&quot;profile_background_tile&quot;:false,&quot;profile_image_url&quot;:&quot;http:\\/\\/pbs.twimg.com\\/profile_images\\/378800000093083399\\/529493a3e2071cb5b471c20d20cf53d6_normal.jpeg&quot;,&quot;profile_image_url_https&quot;:&quot;https:\\/\\/pbs.twimg.com\\/profile_images\\/378800000093083399\\/529493a3e2071cb5b471c20d20cf53d6_normal.jpeg&quot;,&quot;profile_banner_url&quot;:&quot;https:\\/\\/pbs.twimg.com\\/profile_banners\\/67803525\\/1453938763&quot;,&quot;profile_link_color&quot;:&quot;262626&quot;,&quot;profile_sidebar_border_color&quot;:&quot;000000&quot;,&quot;profile_sidebar_fill_color&quot;:&quot;000000&quot;,&quot;profile_text_color&quot;:&quot;000000&quot;,&quot;profile_use_background_image&quot;:false,&quot;has_extended_profile&quot;:false,&quot;default_profile&quot;:false,&quot;default_profile_image&quot;:false,&quot;following&quot;:false,&quot;follow_request_sent&quot;:false,&quot;notifications&quot;:false,&quot;translator_type&quot;:&quot;none&quot;,&quot;withheld_in_countries&quot;:[]},&quot;geo&quot;:null,&quot;coordinates&quot;:null,&quot;place&quot;:null,&quot;contributors&quot;:null,&quot;is_quote_status&quot;:false,&quot;retweet_count&quot;:0,&quot;favorite_count&quot;:0,&quot;favorited&quot;:false,&quot;retweeted&quot;:false,&quot;possibly_sensitive&quot;:false,&quot;lang&quot;:&quot;en&quot;}</td></tr><tr><td>Id</td><td><div class=\"dni-plaintext\"><pre>1654684030993055745</pre></div></td></tr><tr><td>Contributors</td><td><div class=\"dni-plaintext\"><pre>&lt;null&gt;</pre></div></td></tr><tr><td>Coordinates</td><td><div class=\"dni-plaintext\"><pre>&lt;null&gt;</pre></div></td></tr><tr><td>CreatedAt</td><td><span>2023-05-06 03:06:30Z</span></td></tr><tr><td>CurrentUserRetweet</td><td><div class=\"dni-plaintext\"><pre>&lt;null&gt;</pre></div></td></tr><tr><td>DisplayTextRange</td><td><div class=\"dni-plaintext\"><pre>&lt;null&gt;</pre></div></td></tr><tr><td>Entities</td><td><details class=\"dni-treeview\"><summary><span class=\"dni-code-hint\"><code>CoreTweet.Entities</code></span></summary><div><table><thead><tr></tr></thead><tbody><tr><td>HashTags</td><td></td></tr><tr><td>Media</td><td><div class=\"dni-plaintext\"><pre>&lt;null&gt;</pre></div></td></tr><tr><td>Urls</td><td><table><thead><tr><th><i>index</i></th><th>value</th></tr></thead><tbody><tr><td>0</td><td><details class=\"dni-treeview\"><summary><span class=\"dni-code-hint\"><code>CoreTweet.UrlEntity</code></span></summary><div><table><thead><tr></tr></thead><tbody><tr><td>DisplayUrl</td><td>github.com/CoreTweet/Core…</td></tr><tr><td>ExpandedUrl</td><td>https://github.com/CoreTweet/CoreTweet</td></tr><tr><td>Url</td><td>https://t.co/v1EbqcxYdv</td></tr><tr><td>Indices</td><td><div class=\"dni-plaintext\"><pre>[ 39, 62 ]</pre></div></td></tr></tbody></table></div></details></td></tr></tbody></table></td></tr><tr><td>UserMentions</td><td></td></tr><tr><td>Symbols</td><td></td></tr></tbody></table></div></details></td></tr><tr><td>ExtendedEntities</td><td><div class=\"dni-plaintext\"><pre>&lt;null&gt;</pre></div></td></tr><tr><td>ExtendedTweet</td><td><div class=\"dni-plaintext\"><pre>&lt;null&gt;</pre></div></td></tr><tr><td>FavoriteCount</td><td><div class=\"dni-plaintext\"><pre>0</pre></div></td></tr><tr><td>IsFavorited</td><td><div class=\"dni-plaintext\"><pre>False</pre></div></td></tr><tr><td>FilterLevel</td><td><div class=\"dni-plaintext\"><pre>&lt;null&gt;</pre></div></td></tr><tr><td>FullText</td><td><div class=\"dni-plaintext\"><pre>&lt;null&gt;</pre></div></td></tr><tr><td>InReplyToScreenName</td><td><div class=\"dni-plaintext\"><pre>&lt;null&gt;</pre></div></td></tr><tr><td>InReplyToStatusId</td><td><div class=\"dni-plaintext\"><pre>&lt;null&gt;</pre></div></td></tr><tr><td>InReplyToUserId</td><td><div class=\"dni-plaintext\"><pre>&lt;null&gt;</pre></div></td></tr><tr><td>IsQuotedStatus</td><td><div class=\"dni-plaintext\"><pre>&lt;null&gt;</pre></div></td></tr><tr><td>Language</td><td>en</td></tr><tr><td>Place</td><td><div class=\"dni-plaintext\"><pre>&lt;null&gt;</pre></div></td></tr><tr><td>PossiblySensitive</td><td><div class=\"dni-plaintext\"><pre>False</pre></div></td></tr><tr><td>PossiblySensitiveAppealable</td><td><div class=\"dni-plaintext\"><pre>&lt;null&gt;</pre></div></td></tr><tr><td>QuotedStatusId</td><td><div class=\"dni-plaintext\"><pre>&lt;null&gt;</pre></div></td></tr><tr><td>QuotedStatus</td><td><div class=\"dni-plaintext\"><pre>&lt;null&gt;</pre></div></td></tr><tr><td>Scopes</td><td><div class=\"dni-plaintext\"><pre>&lt;null&gt;</pre></div></td></tr><tr><td>RetweetCount</td><td><div class=\"dni-plaintext\"><pre>0</pre></div></td></tr><tr><td>IsRetweeted</td><td><div class=\"dni-plaintext\"><pre>False</pre></div></td></tr><tr><td>RetweetedStatus</td><td><div class=\"dni-plaintext\"><pre>&lt;null&gt;</pre></div></td></tr><tr><td>Source</td><td>&lt;a href=&quot;http://songhayindex.azurewebsites.net/&quot; rel=&quot;nofollow&quot;&gt;Songhay Studio&lt;/a&gt;</td></tr><tr><td>Text</td><td>This is my test of CoreTweet.\n",
       "\n",
       "        https://t.co/v1EbqcxYdv\n",
       "\n",
       "        &#128037; &#128036; ⚙</td></tr><tr><td>IsTruncated</td><td><div class=\"dni-plaintext\"><pre>False</pre></div></td></tr><tr><td>User</td><td><details class=\"dni-treeview\"><summary><span class=\"dni-code-hint\"><code>67803525</code></span></summary><div><table><thead><tr></tr></thead><tbody><tr><td>IsContributorsEnabled</td><td><div class=\"dni-plaintext\"><pre>False</pre></div></td></tr><tr><td>CreatedAt</td><td><span>2009-08-22 03:33:39Z</span></td></tr><tr><td>Timestamp</td><td><span>0001-01-01 00:00:00Z</span></td></tr><tr><td>IsDefaultProfile</td><td><div class=\"dni-plaintext\"><pre>False</pre></div></td></tr><tr><td>IsDefaultProfileImage</td><td><div class=\"dni-plaintext\"><pre>False</pre></div></td></tr><tr><td>Description</td><td>A developer from Los Angeles, CA &#171; @Azure @code @github #csharp #epub #webapps #ux</td></tr><tr><td>Email</td><td><div class=\"dni-plaintext\"><pre>&lt;null&gt;</pre></div></td></tr><tr><td>Entities</td><td><details class=\"dni-treeview\"><summary><span class=\"dni-code-hint\"><code>CoreTweet.UserEntities</code></span></summary><div><table><thead><tr></tr></thead><tbody><tr><td>Url</td><td><details class=\"dni-treeview\"><summary><span class=\"dni-code-hint\"><code>CoreTweet.Entities</code></span></summary><div><table><thead><tr></tr></thead><tbody><tr><td>HashTags</td><td><div class=\"dni-plaintext\"><pre>&lt;null&gt;</pre></div></td></tr><tr><td>Media</td><td><div class=\"dni-plaintext\"><pre>&lt;null&gt;</pre></div></td></tr><tr><td>Urls</td><td><table><thead><tr><th><i>index</i></th><th>value</th></tr></thead><tbody><tr><td>0</td><td><details class=\"dni-treeview\"><summary><span class=\"dni-code-hint\"><code>CoreTweet.UrlEntity</code></span></summary><div><table><thead><tr></tr></thead><tbody><tr><td>DisplayUrl</td><td>songhayblog.azurewebsites.net</td></tr><tr><td>ExpandedUrl</td><td>http://songhayblog.azurewebsites.net/</td></tr><tr><td>Url</td><td>http://t.co/UNdqV0Z1zz</td></tr><tr><td>Indices</td><td>[ 0, 22 ]</td></tr></tbody></table></div></details></td></tr></tbody></table></td></tr><tr><td>UserMentions</td><td><div class=\"dni-plaintext\"><pre>&lt;null&gt;</pre></div></td></tr><tr><td>Symbols</td><td><div class=\"dni-plaintext\"><pre>&lt;null&gt;</pre></div></td></tr></tbody></table></div></details></td></tr><tr><td>Description</td><td><details class=\"dni-treeview\"><summary><span class=\"dni-code-hint\"><code>CoreTweet.Entities</code></span></summary><div><table><thead><tr></tr></thead><tbody><tr><td>HashTags</td><td><div class=\"dni-plaintext\"><pre>&lt;null&gt;</pre></div></td></tr><tr><td>Media</td><td><div class=\"dni-plaintext\"><pre>&lt;null&gt;</pre></div></td></tr><tr><td>Urls</td><td></td></tr><tr><td>UserMentions</td><td><div class=\"dni-plaintext\"><pre>&lt;null&gt;</pre></div></td></tr><tr><td>Symbols</td><td><div class=\"dni-plaintext\"><pre>&lt;null&gt;</pre></div></td></tr></tbody></table></div></details></td></tr></tbody></table></div></details></td></tr><tr><td>FavouritesCount</td><td><div class=\"dni-plaintext\"><pre>25</pre></div></td></tr><tr><td>IsFollowRequestSent</td><td><div class=\"dni-plaintext\"><pre>False</pre></div></td></tr><tr><td>FollowersCount</td><td><div class=\"dni-plaintext\"><pre>472</pre></div></td></tr><tr><td>FriendsCount</td><td><div class=\"dni-plaintext\"><pre>245</pre></div></td></tr><tr><td>HasExtendedProfile</td><td><div class=\"dni-plaintext\"><pre>False</pre></div></td></tr><tr><td>IsGeoEnabled</td><td><div class=\"dni-plaintext\"><pre>True</pre></div></td></tr><tr><td>Id</td><td><div class=\"dni-plaintext\"><pre>67803525</pre></div></td></tr><tr><td>IsTranslator</td><td><div class=\"dni-plaintext\"><pre>False</pre></div></td></tr><tr><td>IsTranslationEnabled</td><td><div class=\"dni-plaintext\"><pre>False</pre></div></td></tr><tr><td>Language</td><td><div class=\"dni-plaintext\"><pre>&lt;null&gt;</pre></div></td></tr><tr><td>ListedCount</td><td><div class=\"dni-plaintext\"><pre>76</pre></div></td></tr><tr><td>Location</td><td>California</td></tr><tr><td>IsMuting</td><td><div class=\"dni-plaintext\"><pre>&lt;null&gt;</pre></div></td></tr><tr><td>Name</td><td>Bryan D. Wilhite</td></tr><tr><td>NeedsPhoneVerification</td><td><div class=\"dni-plaintext\"><pre>&lt;null&gt;</pre></div></td></tr><tr><td>ProfileBackgroundColor</td><td>000000</td></tr><tr><td>ProfileBackgroundImageUrl</td><td>http://abs.twimg.com/images/themes/theme14/bg.gif</td></tr><tr><td>ProfileBackgroundImageUrlHttps</td><td>https://abs.twimg.com/images/themes/theme14/bg.gif</td></tr><tr><td>IsProfileBackgroundTile</td><td><div class=\"dni-plaintext\"><pre>False</pre></div></td></tr><tr><td>ProfileBannerUrl</td><td>https://pbs.twimg.com/profile_banners/67803525/1453938763</td></tr><tr><td>ProfileImageUrl</td><td>http://pbs.twimg.com/profile_images/378800000093083399/529493a3e2071cb5b471c20d20cf53d6_normal.jpeg</td></tr><tr><td>ProfileImageUrlHttps</td><td>https://pbs.twimg.com/profile_images/378800000093083399/529493a3e2071cb5b471c20d20cf53d6_normal.jpeg</td></tr><tr><td>ProfileLinkColor</td><td>262626</td></tr><tr><td>ProfileLocation</td><td><div class=\"dni-plaintext\"><pre>&lt;null&gt;</pre></div></td></tr><tr><td>ProfileSidebarBorderColor</td><td>000000</td></tr><tr><td>ProfileSidebarFillColor</td><td>000000</td></tr><tr><td>ProfileTextColor</td><td>000000</td></tr><tr><td>IsProfileUseBackgroundImage</td><td><div class=\"dni-plaintext\"><pre>False</pre></div></td></tr><tr><td>IsProtected</td><td><div class=\"dni-plaintext\"><pre>False</pre></div></td></tr><tr><td>ScreenName</td><td>BryanWilhite</td></tr><tr><td>IsShowAllInlineMedia</td><td><div class=\"dni-plaintext\"><pre>&lt;null&gt;</pre></div></td></tr><tr><td>Status</td><td><div class=\"dni-plaintext\"><pre>&lt;null&gt;</pre></div></td></tr><tr><td>StatusesCount</td><td><div class=\"dni-plaintext\"><pre>31430</pre></div></td></tr><tr><td>IsSuspended</td><td><div class=\"dni-plaintext\"><pre>&lt;null&gt;</pre></div></td></tr><tr><td>TimeZone</td><td><div class=\"dni-plaintext\"><pre>&lt;null&gt;</pre></div></td></tr><tr><td>TranslatorType</td><td>none</td></tr><tr><td>Url</td><td>http://t.co/UNdqV0Z1zz</td></tr><tr><td>UtcOffset</td><td><div class=\"dni-plaintext\"><pre>&lt;null&gt;</pre></div></td></tr><tr><td>IsVerified</td><td><div class=\"dni-plaintext\"><pre>False</pre></div></td></tr><tr><td>WithheldInCountries</td><td></td></tr><tr><td>WithheldScope</td><td><div class=\"dni-plaintext\"><pre>&lt;null&gt;</pre></div></td></tr></tbody></table></div></details></td></tr><tr><td>WithheldCopyright</td><td><div class=\"dni-plaintext\"><pre>&lt;null&gt;</pre></div></td></tr><tr><td>WithheldInCountries</td><td><div class=\"dni-plaintext\"><pre>&lt;null&gt;</pre></div></td></tr><tr><td>WithheldScope</td><td><div class=\"dni-plaintext\"><pre>&lt;null&gt;</pre></div></td></tr></tbody></table></div></details><style>\r\n",
       ".dni-code-hint {\r\n",
       "    font-style: italic;\r\n",
       "    overflow: hidden;\r\n",
       "    white-space: nowrap;\r\n",
       "}\r\n",
       ".dni-treeview {\r\n",
       "    white-space: nowrap;\r\n",
       "}\r\n",
       ".dni-treeview td {\r\n",
       "    vertical-align: top;\r\n",
       "    text-align: start;\r\n",
       "}\r\n",
       "details.dni-treeview {\r\n",
       "    padding-left: 1em;\r\n",
       "}\r\n",
       "table td {\r\n",
       "    text-align: start;\r\n",
       "}\r\n",
       "table tr { \r\n",
       "    vertical-align: top; \r\n",
       "    margin: 0em 0px;\r\n",
       "}\r\n",
       "table tr td pre \r\n",
       "{ \r\n",
       "    vertical-align: top !important; \r\n",
       "    margin: 0em 0px !important;\r\n",
       "} \r\n",
       "table th {\r\n",
       "    text-align: start;\r\n",
       "}\r\n",
       "</style>"
      ]
     },
     "metadata": {},
     "output_type": "display_data"
    }
   ],
   "source": [
    "tokens.Statuses.Update(status =>\n",
    "    $@\"\n",
    "        This is my test of {nameof(CoreTweet)}.\n",
    "\n",
    "        https://github.com/CoreTweet/CoreTweet\n",
    "\n",
    "\n",
    "        🐥 🐤 ⚙\n",
    "\n",
    "    \"\n",
    ")"
   ]
  }
 ],
 "metadata": {
  "language_info": {
   "name": "python"
  },
  "orig_nbformat": 4
 },
 "nbformat": 4,
 "nbformat_minor": 2
}
