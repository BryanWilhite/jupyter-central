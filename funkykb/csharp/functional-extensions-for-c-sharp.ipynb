{
 "cells": [
  {
   "cell_type": "markdown",
   "metadata": {},
   "source": [
    "# Functional Extensions for C#\n",
    "\n",
    "> This library helps write code in more functional way. To get to know more about the principles behind it, check out the Applying Functional Principles in C# Pluralsight course.\n",
    ">\n",
    ">—[GitHub](https://github.com/vkhorikov/CSharpFunctionalExtensions#functional-extensions-for-c)\n",
    ">\n"
   ]
  },
  {
   "cell_type": "code",
   "execution_count": 1,
   "metadata": {
    "dotnet_interactive": {
     "language": "csharp"
    },
    "vscode": {
     "languageId": "dotnet-interactive.csharp"
    }
   },
   "outputs": [
    {
     "data": {
      "text/html": [
       "<div><div></div><div></div><div><strong>Installed Packages</strong><ul><li><span>CSharpFunctionalExtensions, 2.37.0</span></li></ul></div></div>"
      ]
     },
     "metadata": {},
     "output_type": "display_data"
    }
   ],
   "source": [
    "#r \"nuget:CSharpFunctionalExtensions\""
   ]
  },
  {
   "cell_type": "code",
   "execution_count": 3,
   "metadata": {
    "dotnet_interactive": {
     "language": "csharp"
    },
    "vscode": {
     "languageId": "dotnet-interactive.csharp"
    }
   },
   "outputs": [
    {
     "name": "stdout",
     "output_type": "stream",
     "text": [
      "10\n",
      "No value\n"
     ]
    }
   ],
   "source": [
    "using CSharpFunctionalExtensions;\n",
    "\n",
    "Dictionary<string, int> fruitInventory = new()\n",
    "{\n",
    "    { \"apple\", 10 },\n",
    "    { \"banana\", 2 }\n",
    "};\n",
    "\n",
    "Maybe<int> appleCount = fruitInventory.TryFind(\"apple\");\n",
    "Maybe<int> kiwiCount = fruitInventory.TryFind(\"kiwi\");\n",
    "\n",
    "Console.WriteLine(appleCount.ToString()); // \"10\"\n",
    "Console.WriteLine(kiwiCount.ToString()); // \"No value\""
   ]
  }
 ],
 "metadata": {
  "kernelspec": {
   "display_name": ".NET (C#)",
   "language": "C#",
   "name": ".net-csharp"
  },
  "language_info": {
   "file_extension": ".cs",
   "mimetype": "text/x-csharp",
   "name": "C#",
   "pygments_lexer": "csharp",
   "version": "9.0"
  },
  "orig_nbformat": 4
 },
 "nbformat": 4,
 "nbformat_minor": 2
}
