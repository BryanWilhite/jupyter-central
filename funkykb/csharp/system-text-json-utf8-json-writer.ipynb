{
 "cells": [
  {
   "cell_type": "markdown",
   "metadata": {},
   "source": [
    "# `Utf8JsonWriter`"
   ]
  },
  {
   "cell_type": "code",
   "execution_count": 1,
   "metadata": {
    "vscode": {
     "languageId": "polyglot-notebook"
    }
   },
   "outputs": [],
   "source": [
    "using System.IO;\n",
    "using System.Text.Json;\n",
    "\n",
    "public static Utf8JsonWriter WriteObject(this Utf8JsonWriter writer, Action writerAction)\n",
    "{\n",
    "    if (writer == null) return writer;\n",
    "\n",
    "    writer.WriteStartObject();\n",
    "    writerAction?.Invoke();\n",
    "    writer.WriteEndObject();\n",
    "\n",
    "    return writer;\n",
    "}\n",
    "\n",
    "public static Utf8JsonWriter WriteObject(this Utf8JsonWriter writer, string propertyName, Action writerAction)\n",
    "{\n",
    "    if (writer == null) return writer;\n",
    "    if (string.IsNullOrEmpty(propertyName)) throw new ArgumentNullException(nameof(propertyName));\n",
    "\n",
    "    writer.WritePropertyName(propertyName);\n",
    "    writer.WriteStartObject();\n",
    "    writerAction?.Invoke();\n",
    "    writer.WriteEndObject();\n",
    "\n",
    "    return writer;\n",
    "}"
   ]
  },
  {
   "cell_type": "code",
   "execution_count": 2,
   "metadata": {
    "vscode": {
     "languageId": "polyglot-notebook"
    }
   },
   "outputs": [],
   "source": [
    "\n",
    "static string getElementJson()\n",
    "{\n",
    "    var matchPropertyName = \"myIndexNestedObject.myProperty\";\n",
    "    var matchPropertyExpectedValue = 99;\n",
    "\n",
    "    using var stream = new MemoryStream();\n",
    "    using var writer = new Utf8JsonWriter(stream);\n",
    "\n",
    "    writer.WriteObject(() =>\n",
    "    {\n",
    "        writer.WriteNumber(matchPropertyName, matchPropertyExpectedValue);\n",
    "    });\n",
    "\n",
    "    writer.Flush();\n",
    "\n",
    "    string json = Encoding.UTF8.GetString(stream.ToArray());\n",
    "\n",
    "    return json;\n",
    "}"
   ]
  },
  {
   "cell_type": "code",
   "execution_count": 3,
   "metadata": {
    "vscode": {
     "languageId": "polyglot-notebook"
    }
   },
   "outputs": [
    {
     "data": {
      "text/plain": [
       "{}"
      ]
     },
     "metadata": {},
     "output_type": "display_data"
    }
   ],
   "source": [
    "var stream = new MemoryStream();\n",
    "var writer = new Utf8JsonWriter(stream);\n",
    "\n",
    "writer.WriteStartObject();\n",
    "writer.WriteEndObject();\n",
    "writer.Flush();\n",
    "\n",
    "string json = Encoding.UTF8.GetString(stream.ToArray());\n",
    "\n",
    "json"
   ]
  },
  {
   "cell_type": "code",
   "execution_count": 4,
   "metadata": {
    "vscode": {
     "languageId": "polyglot-notebook"
    }
   },
   "outputs": [
    {
     "data": {
      "text/plain": [
       "{\n",
       "  \"query\": {\n",
       "    \"nested\": {\n",
       "      \"path\": \"myIndexNestedObject\",\n",
       "      \"query\": {\n",
       "        \"match\": {\n",
       "          \"myIndexNestedObject.myProperty\": 99\n",
       "        }\n",
       "      }\n",
       "    }\n",
       "  }\n",
       "}"
      ]
     },
     "metadata": {},
     "output_type": "display_data"
    }
   ],
   "source": [
    "const string match = \"match\";\n",
    "const string path = \"path\";\n",
    "const string nested = \"nested\";\n",
    "const string query = \"query\";\n",
    "\n",
    "var options = new JsonWriterOptions\n",
    "{\n",
    "    Indented = true,\n",
    "};\n",
    "\n",
    "var pathPropertyExpectedValue = \"myIndexNestedObject\";\n",
    "\n",
    "var matchPropertyName = \"myIndexNestedObject.myProperty\";\n",
    "var matchPropertyExpectedValue = 99;\n",
    "\n",
    "var stream = new MemoryStream();\n",
    "var writer = new Utf8JsonWriter(stream, options);\n",
    "\n",
    "writer.WriteObject(() =>\n",
    "{\n",
    "    writer.WriteObject(query, () =>\n",
    "    {\n",
    "        writer.WriteObject(nested, () =>\n",
    "        {\n",
    "            writer.WriteString(path, pathPropertyExpectedValue);\n",
    "\n",
    "            writer.WriteObject(query, () =>\n",
    "            {\n",
    "                writer.WriteObject(match, () =>\n",
    "                {\n",
    "                    writer.WriteNumber(matchPropertyName, matchPropertyExpectedValue);\n",
    "                });\n",
    "            });\n",
    "        });\n",
    "    });\n",
    "});\n",
    "\n",
    "writer.Flush();\n",
    "\n",
    "string json = Encoding.UTF8.GetString(stream.ToArray());\n",
    "\n",
    "json"
   ]
  },
  {
   "cell_type": "code",
   "execution_count": 5,
   "metadata": {
    "vscode": {
     "languageId": "polyglot-notebook"
    }
   },
   "outputs": [
    {
     "data": {
      "text/plain": [
       "myIndexNestedObject, myIndexNestedObject"
      ]
     },
     "metadata": {},
     "output_type": "display_data"
    }
   ],
   "source": [
    "var jDocument = JsonDocument.Parse(json);\n",
    "\n",
    "var pathProperty = jDocument.RootElement\n",
    "    .GetProperty(query)\n",
    "    .GetProperty(nested)\n",
    "    .GetProperty(path);\n",
    "\n",
    "$\"{pathProperty.GetString()}, {pathPropertyExpectedValue}\""
   ]
  },
  {
   "cell_type": "code",
   "execution_count": 6,
   "metadata": {
    "vscode": {
     "languageId": "polyglot-notebook"
    }
   },
   "outputs": [
    {
     "data": {
      "text/plain": [
       "99, 99"
      ]
     },
     "metadata": {},
     "output_type": "display_data"
    }
   ],
   "source": [
    "var matchProperty = jDocument.RootElement\n",
    "    .GetProperty(query)\n",
    "    .GetProperty(nested)\n",
    "    .GetProperty(query)\n",
    "    .GetProperty(match)\n",
    "    .GetProperty(matchPropertyName);\n",
    "\n",
    "$\"{matchProperty.GetInt32()}, {matchPropertyExpectedValue}\""
   ]
  },
  {
   "cell_type": "markdown",
   "metadata": {},
   "source": [
    "[Bryan Wilhite is on LinkedIn](https://www.linkedin.com/in/wilhite)🇺🇸💼\n"
   ]
  }
 ],
 "metadata": {
  "kernelspec": {
   "display_name": ".NET (C#)",
   "language": "C#",
   "name": ".net-csharp"
  },
  "language_info": {
   "name": "python"
  },
  "polyglot_notebook": {
   "kernelInfo": {
    "defaultKernelName": "csharp",
    "items": [
     {
      "aliases": [],
      "name": "csharp"
     }
    ]
   }
  }
 },
 "nbformat": 4,
 "nbformat_minor": 2
}
