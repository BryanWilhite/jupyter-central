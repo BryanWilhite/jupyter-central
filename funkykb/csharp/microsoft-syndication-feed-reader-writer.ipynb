{
 "cells": [
  {
   "cell_type": "markdown",
   "metadata": {},
   "source": [
    "# `SyndicationFeedReaderWriter` on .NET Core\n",
    "\n",
    "The `SyndicationFeedReaderWriter` [[GitHub](https://github.com/dotnet/SyndicationFeedReaderWriter)] is one of the many answers for the [current state](https://github.com/dotnet/wcf/issues/2098) of `System.ServiceModel.Syndication` on .NET Core.\n",
    "\n",
    "\n",
    "These notes follow [the code sample from Dody Gunawinata](https://github.com/dodyg/practical-aspnetcore/blob/master/projects/aspnet-core-2/syndication/src/Program.cs) without the use of ASP.NET Core. It starts with `Microsoft.SyndicationFeed.ReaderWriter` [[Nuget](https://www.nuget.org/packages/Microsoft.SyndicationFeed.ReaderWriter/)]:"
   ]
  },
  {
   "cell_type": "code",
   "execution_count": 1,
   "metadata": {
    "vscode": {
     "languageId": "polyglot-notebook"
    }
   },
   "outputs": [
    {
     "data": {
      "text/html": [
       "<div><div></div><div></div><div><strong>Installed Packages</strong><ul><li><span>Microsoft.SyndicationFeed.ReaderWriter, 1.0.2</span></li></ul></div></div>"
      ]
     },
     "metadata": {},
     "output_type": "display_data"
    }
   ],
   "source": [
    "#r \"nuget: Microsoft.SyndicationFeed.ReaderWriter\""
   ]
  },
  {
   "cell_type": "code",
   "execution_count": 2,
   "metadata": {
    "vscode": {
     "languageId": "polyglot-notebook"
    }
   },
   "outputs": [],
   "source": [
    "using Microsoft.SyndicationFeed;\n",
    "\n",
    "List<SyndicationItem> items = new();"
   ]
  },
  {
   "cell_type": "markdown",
   "metadata": {},
   "source": [
    "We can use `RssFeedReader` to fill the list of `SyndicationItem`:"
   ]
  },
  {
   "cell_type": "code",
   "execution_count": 3,
   "metadata": {
    "vscode": {
     "languageId": "polyglot-notebook"
    }
   },
   "outputs": [],
   "source": [
    "using System.Xml;\n",
    "using Microsoft.SyndicationFeed.Rss;\n",
    "\n",
    "var xmlReader = XmlReader.Create(\"http://scripting.com/rss.xml\", new XmlReaderSettings { Async = true });\n",
    "\n",
    "var feedReader = new RssFeedReader(xmlReader);\n",
    "\n",
    "while (await feedReader.Read())\n",
    "{\n",
    "    switch (feedReader.ElementType)\n",
    "    {\n",
    "        case SyndicationElementType.Item:\n",
    "            ISyndicationItem item = await feedReader.ReadItem();\n",
    "            items.Add(new SyndicationItem(item));\n",
    "            break;\n",
    "        default:\n",
    "            break;\n",
    "    }\n",
    "}"
   ]
  },
  {
   "cell_type": "markdown",
   "metadata": {},
   "source": [
    "Once we have our list populated, we can peek at some of the data:"
   ]
  },
  {
   "cell_type": "code",
   "execution_count": 4,
   "metadata": {
    "vscode": {
     "languageId": "polyglot-notebook"
    }
   },
   "outputs": [
    {
     "data": {
      "text/html": [
       "<div class=\"dni-plaintext\"><pre>[ &lt;img class=&quot;imgRightMargin&quot; src=&quot;https://imgs.scripting.com/2024/06/11/nakedJenToday.png&quot; border=&quot;0&quot; style=&quot;float: right; padding-left: 25px; padding-bottom: 10px; padding-top: 10px; padding-right: 15px;&quot;&gt;Meanwhile the Repubs are getting ahead of themselves. Bannon said &lt;a href=&quot;https://politicalwire.com/2024/06/11/bannon-tells-ex-fbi-directors-to-leave-the-country/&quot;&gt;something&lt;/a&gt; that he should be arrested for. I&#39;m sure it&#39;s horribly illegal to threaten people the way he did, and he did it in public., I caught a bit of the last &lt;a href=&quot;https://ew.com/tv/vanna-white-loses-celebrity-wheel-of-fortune-to-jeopardy-hosts-mayim-bialik-ken-jennings/&quot;&gt;Wheel of Fortune&lt;/a&gt;. The three players were celebs: Vanna White, Ken Jennings and Mayim Bialik. What was remarkable was how super-human Jennings is. He could solve the puzzle with almost no information. I have no clue how he saw the patterns. He has freakish intelligence., Someone should tell the kids the Repubs will come for their weed. Just sayin. There probably are a number of voting age youngsters who have never lived in a time and place when cannabis was illegal., By popular demand -- my blogroll now makes it more clear that the permalink to each item is the date of the item. &lt;a href=&quot;https://imgs.scripting.com/2024/06/11/blogrollScreenShot.png&quot;&gt;Screen shot&lt;/a&gt;. This is a convention in blogs and social media apps that the timestamp doubles as a permalink. And I think this is more distracting, and cluttered, but let&#39;s give it a try. It&#39;s possible that people missed that they could go to the website from the blogroll. Now it should be more obvious., &lt;img class=&quot;imgRightMargin&quot; src=&quot;https://imgs.scripting.com/2021/05/13/knicksFan.png&quot; border=&quot;0&quot; style=&quot;float: right; padding-left: 25px; padding-bottom: 10px; padding-top: 10px; padding-right: 15px;&quot;&gt;The Repubs are coming uncloaked. Their slogan might as well be Revenge. It&#39;s the one thing everyone who votes for Trump wants more than anything. They hate their lives, and are looking for someone to release their rage on. They don&#39;t know how else to do it. It doesn&#39;t have much to do with inflation or unemployment, material wealth. It&#39;s deeper than that. We&#39;re all living a lie, that if we had money we&#39;d be happy. The sad truth is no one is happy with this arrangement. Ask a billionaire if you don&#39;t believe me. They have huge grievances which you would have thought all that wealth would have cured them of. The new Nazis have a selling proposition that works every few generations, after the memory of the previous societal explosion are gone. My parents, the last people I knew who lived through the Nazis are gone. I just have the memory of the aftermath, and it wasn&#39;t pretty. “All of this has happened before, and it will all happen again.” We&#39;re at the beginning of the &quot;happen again&quot; moment. My grandfather told me what to do, but I won&#39;t do it, pretty sure of that., &lt;p&gt;&lt;img class=&quot;imgRightMargin&quot; src=&quot;https://imgs.scripting.com/2024/06/11/nakedJenToday.png&quot; border=&quot;0&quot; style=&quot;float: right; padding-left: 25px; padding-bottom: 10px; padding-top: 10px; padding-right: 15px;&quot;&gt;It&#39;s been driving me &lt;a href=&quot;https://www.facebook.com/dave.winer.12/posts/pfbid024FDKvbd25XG3C2JQmfXBuvXGZuyw7btYnXRKZtVWmLbABdyH8ke93rqfTnK6EkUjl&quot;&gt;crazy&lt;/a&gt; watching Stan Krute doing all these weird and often beautifully bizarre ChatGPT images, and realizing they are only being seen by people on Facebook when there&#39;s this huge world of creative people that don&#39;t or won&#39;t use FB.&lt;/p&gt;\n",
       "&lt;p&gt;Then it occurred to me, I have the perfect place for these images, outside the facebookiverse, that would showcase them, and be easy to produce (I don&#39;t want to take on responsibility for big production overhead myself).&lt;/p&gt;\n",
       "&lt;p&gt;I have images I put in the right margin of blog posts on &lt;a href=&quot;http://scripting.com/&quot;&gt;Scripting News&lt;/a&gt;. Small little bits of creative color, that may or may not be connected to the story they are next to. And sometimes connected in non-obvious ways, intended to make you think.&lt;/p&gt;\n",
       "&lt;p&gt;Then NakedJen sent me a recent picture of herself that&#39;s perfect for the right margin. Seen in the right margin of this post.&lt;/p&gt;\n",
       "&lt;p&gt;Here&#39;s a &lt;a href=&quot;http://scripting.com/images/manyImages.html&quot;&gt;page&lt;/a&gt; where you can scroll through the collection of images I can choose from. I&#39;d love to add more creative stuff here. And I&#39;d love to get some of Stan Krute&#39;s genius or Brad Pettit or whoever else might be so inspired. &lt;/p&gt;\n",
       "&lt;p&gt;No promises about when or if they&#39;d be used. You can post them here, as comments on this message if you like. &lt;/p&gt;\n",
       "&lt;p&gt;I may have to restrict this to people I follow, just letting you know, based on past experience. &lt;/p&gt;\n",
       ", Today&#39;s song: &lt;a href=&quot;https://www.youtube.com/watch?v=sjb9AxDkwAQ&quot;&gt;Good Morning Good Morning&lt;/a&gt;., Greetings from the Catskills where it&#39;s a bright early summer day., &lt;a href=&quot;http://scripting.com/2024/06/10/whyTheMechanismBehindChatGPTDoesntMatter.m4a&quot;&gt;Podcast&lt;/a&gt;: Why the mechanism behind ChatGPT doesn&#39;t matter. As usual I ramble all over the place, but hopefully this illuminates and perhaps entertains. 15 minutes., The real story of RSS is that in a moment when the NYT had a spirit of adventure, they backed RSS and as a result news adopted a technology that was pioneered by bloggers, not the tech industry. If that partnership had flourished and developed we might now have a good alternative to the tech billionaires., And before that a few oddly empowered crazy-ass people at Netscape had an idea that bloggers had the answer, not Google. I don&#39;t really know who they were, they communicated through their actions, not via email or the phone. Same kind of thing happened with XML-RPC, except there I knew the people at Microsoft who momentarily bent the corporate rules to make something happen quickly and simply in the market., Spoiler: The tech industry eventually had their way. As a friend from Microsoft who is now gone liked to say: too bad so sad. &lt;span class=&quot;spOldSchoolEmoji&quot;&gt;&#128516;&lt;/span&gt;, I have to carve out time to get &lt;a href=&quot;https://www.google.com/search?q=site%3Ascripting.com+bingeworthy&quot;&gt;Bingeworthy&lt;/a&gt; working again. I miss it., &lt;img class=&quot;imgRightMargin&quot; src=&quot;https://imgs.scripting.com/2017/09/01/mrFrog.png&quot; border=&quot;0&quot; style=&quot;float: right; padding-left: 25px; padding-bottom: 10px; padding-top: 10px; padding-right: 15px;&quot;&gt;I have a Mac Mini that keeps running out of space on its internal drive. It happened again, but this time it offered to open an app that helps me find the big stuff. I don&#39;t know when this app came to be, but it&#39;s very helpful.  In a few minutes I was able to free up 100GB of space used for all kinds of frivolous purposes, like backups of every mobile device that&#39;s ever come within wifi distance of this machine (or so it seems). I&#39;m sure there&#39;s a way to get it to store some of the frivolous stuff on the 16TB external drive, but I sure don&#39;t know how to do it nor do I want to know. My head is so overloaded with other BS from JavaScript, CSS, Node.js, my own software, etc etc. My brain has been out of space a lot longer than this Mac&#39;s has. I desperately want to move my act to Linux and reclaim all the memory I&#39;m using to store stuff about the Mac, which isn&#39;t really doing me much good, I use the Mac as if it was a Linux machine. However, I remain a happy shareholder, that&#39;s my revenge, and why I bought the stock in the first place. I was so unhappy with what Apple was doing at the time (1998) but I could see that it would make &lt;a href=&quot;https://www.thefreedictionary.com/beaucoups&quot;&gt;beaucoups&lt;/a&gt; money, so I hedged. I figured at least they&#39;d make me rich while completely annihilating all I had done to make the platform great. My inner greedy capitalist has his revenge. I would still rather have seen Apple keep &lt;a href=&quot;http://frontier.userland.com&quot;&gt;Frontier&lt;/a&gt; running and have lost some of the profit I made from the Apple stock. Anyway, as usual I ramble. &lt;span class=&quot;spOldSchoolEmoji&quot;&gt;&#128516;&lt;/span&gt;, &lt;p&gt;&lt;i&gt;I started replying to a &lt;a href=&quot;https://mastodon.social/@timbray@cosocial.ca/112582969576496746&quot;&gt;post by Tim Bray&lt;/a&gt; in a thread on Mastodon, but quickly hit the character limit, so I moved my act over here. &lt;/i&gt;&lt;/p&gt;\n",
       "&lt;p&gt;ChatGPT gets rid of a huge problem with Wikipedia. &lt;/p&gt;\n",
       "&lt;p&gt;It often only represents a story from one point of view.&lt;/p&gt;\n",
       "&lt;p&gt;So the story of the Mac is a story of Apple, not the developers.&lt;/p&gt;\n",
       "&lt;p&gt;Same with the story of RSS. I&#39;m sure you know the story they tell, but there&#39;s a whole other story, about how Netscape and blogging got together with Salon, Wired, Red Herring and  Motley Fool, and eventually brought the NYT and NPR on board, and that created a powerful standard supported by the entire publishing industry, that led to social media and podcasting. It really has very little do with the attempts of the tech industry to undermine it, other than their attempts failed to do that, yet if you read the Wikipedia page you&#39;d get the idea that the bigco&#39;s heroically fought back against what exactly it&#39;s not clear. &lt;/p&gt;\n",
       "&lt;p&gt;I can&#39;t contribute to that page, based on the rules of Wikipedia, so your idea that I could just work harder to get the story right, well it&#39;s not ethical for me to do that. The best I can do is write about it on my blog (as I&#39;m doing now) and hope that someone goes in there and fights with whoever is in charge of keeping the story as it is. (Although Tim, not you, it would be unethical for you too.)&lt;/p&gt;\n",
       "&lt;p&gt;Wikipedia also has served as a way for people to take credit for things other people did. Notoriously, Ben Hammersley claiming he chose the name for podcasting, for which there is absolutely no support. If ChatGPT made a mistake like that people would be howling. I&#39;m sure Wikipedia is filled with junk like that. Why wouldn&#39;t it be. &lt;/p&gt;\n",
       "&lt;p&gt;And btw, I still point to Wikipedia pages from my blog posts over all other sources, because it has the potential of getting better, while other sources don&#39;t. &lt;/p&gt;\n",
       "&lt;p&gt;But ChatGPT is Wikipedia plus everything else and it has software far in advance of search engines for uncovering alternate angles. &lt;/p&gt;\n",
       "&lt;p&gt;ChatGPT gets all angles of a story, if they have been covered on the open web. I don&#39;t know why it&#39;s better at finding stuff, and also understanding my queries even though they&#39;re not rigorously specified, my understanding of the technology is nil, but as a user, I love the way I can explore history, and get a lot more than just the result of a weird culture that you have to spend years politicing through to be able to contribute. ChatGPT has managed to route around that outage.&lt;/p&gt;\n",
       "&lt;p&gt;It&#39;s also an amazing programming partner, and I imagine that it would work just as well for visual artists if they used it to try out prototypes of ideas, esp if new ways of training it are explored, which of course they are being. &lt;/p&gt;\n",
       "&lt;p&gt;Having known each other for 20+ years, I suppose that&#39;s a big difference between us, you seek out those kinds of political frays, I get very impatient with them and move on. &lt;/p&gt;\n",
       "&lt;p&gt;Also, I&#39;m not here to debate. I don&#39;t like online debates. &lt;span class=&quot;spOldSchoolEmoji&quot;&gt;&#128516;&lt;/span&gt;&lt;/p&gt;\n",
       ", &lt;img class=&quot;imgRightMargin&quot; src=&quot;https://imgs.scripting.com/2024/06/08/hitman.png&quot; border=&quot;0&quot; style=&quot;float: right; padding-left: 25px; padding-bottom: 10px; padding-top: 10px; padding-right: 15px;&quot;&gt;According to reviewers &lt;a href=&quot;https://www.metacritic.com/movie/hit-man/&quot;&gt;Hit Man&lt;/a&gt; is a movie for adults, supposedly with a plot, writing, acting, from Netflix. Rated 83 on Metacritic (a must-see). I was excited! Watched it. It&#39;s like a TV sitcom. Ugh. &lt;a href=&quot;https://mastodon.social/@dave@social.masto.land/112581268426914314&quot;&gt;Zzzzz&lt;/a&gt;. The main character has a nice-Brad Pitt like smile. Wears weird constumes. Finds a beautiful girlfriend. Best thing about it is that it takes place in New Orleans, so I could try to figure out where they were. That&#39;s about it. Much better implementation of a similar idea -- &lt;a href=&quot;https://www.metacritic.com/movie/emily-the-criminal/&quot;&gt;Emily the Criminal&lt;/a&gt;., I bet you could do a nice AI that would create a graph of people who are connected to other people through far more criteria than networks like LinkedIn or Facebook could. It could take into account all of those connections and others. Kind of like a current-day geneology of relationships., I find I look for new stuff in the social web the way I used to look for new stuff on news websites before we got RSS and feed readers. It made a little sense when it was only Twitter. But now I have to check Bluesky, Mastodon and Threads too. It&#39;s not just the writing that has to be distributed manually, but also our time as readers. And then there&#39;s the question of where you reply if you have something to add., If you and I both have accounts on ChatGPT, it would be nice if I could include you in one of my conversations with the bot, and we could explore an idea together with access to all the information we might want to call up. This is what all the chat companies are trying, but the one in the best position to do this is OpenAI, because they have the top rung in the &lt;a href=&quot;https://samples.jbpub.com/9781449622213/Chapter19.pdf&quot;&gt;positioning ladder&lt;/a&gt; for AI apps. It&#39;s where most of us go for our AI. Like Visicalc which had the top rung of the spreadsheet ladder until Lotus 1-2-3 took over, which was then knocked off the top rung by Excel. This is why they have to move forward aggressively, it&#39;s the way tech works. Before too long all the chat apps with have their AI bots in the loop and it will be too late for OpenAI to dominate. But right now they are the obvious choice for this. The place &lt;s&gt;you&lt;/s&gt; &lt;i&gt;we&lt;/i&gt; go to AI., I wonder if reporters know that Wikipedia hallucinates too?? And since they so often consider Wikipedia authoritative, that means reporters and their publications hallucinate as well. ... (more) ]</pre></div><style>\r\n",
       ".dni-code-hint {\r\n",
       "    font-style: italic;\r\n",
       "    overflow: hidden;\r\n",
       "    white-space: nowrap;\r\n",
       "}\r\n",
       ".dni-treeview {\r\n",
       "    white-space: nowrap;\r\n",
       "}\r\n",
       ".dni-treeview td {\r\n",
       "    vertical-align: top;\r\n",
       "    text-align: start;\r\n",
       "}\r\n",
       "details.dni-treeview {\r\n",
       "    padding-left: 1em;\r\n",
       "}\r\n",
       "table td {\r\n",
       "    text-align: start;\r\n",
       "}\r\n",
       "table tr { \r\n",
       "    vertical-align: top; \r\n",
       "    margin: 0em 0px;\r\n",
       "}\r\n",
       "table tr td pre \r\n",
       "{ \r\n",
       "    vertical-align: top !important; \r\n",
       "    margin: 0em 0px !important;\r\n",
       "} \r\n",
       "table th {\r\n",
       "    text-align: start;\r\n",
       "}\r\n",
       "</style>"
      ]
     },
     "metadata": {},
     "output_type": "display_data"
    }
   ],
   "source": [
    "items.Select(i => i.Description)"
   ]
  },
  {
   "cell_type": "markdown",
   "metadata": {},
   "source": [
    "## related links\n",
    "\n",
    "* “[Roadmap of SyndicationFeed #2098](https://github.com/dotnet/wcf/issues/2098)”\n",
    "* “[Please add support for System.ServiceModel.Syndication #76](https://github.com/dotnet/wcf/issues/76)”"
   ]
  },
  {
   "cell_type": "markdown",
   "metadata": {},
   "source": [
    "## <!-- -->\n",
    "\n",
    "[Bryan Wilhite is on LinkedIn](https://www.linkedin.com/in/wilhite)🇺🇸💼"
   ]
  }
 ],
 "metadata": {
  "kernelspec": {
   "display_name": ".NET (C#)",
   "language": "C#",
   "name": ".net-csharp"
  },
  "language_info": {
   "name": "python"
  },
  "polyglot_notebook": {
   "kernelInfo": {
    "defaultKernelName": "csharp",
    "items": [
     {
      "aliases": [],
      "name": "csharp"
     }
    ]
   }
  }
 },
 "nbformat": 4,
 "nbformat_minor": 2
}
