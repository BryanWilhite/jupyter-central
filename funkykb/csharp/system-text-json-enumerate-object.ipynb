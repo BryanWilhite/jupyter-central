{
 "cells": [
  {
   "cell_type": "markdown",
   "metadata": {},
   "source": [
    "# `System.Text.Json.JsonElement.EnumerateObject()`\n",
    "\n",
    "`EnumerateObject()` can be used to return the name of a JSON property:"
   ]
  },
  {
   "cell_type": "code",
   "execution_count": null,
   "metadata": {
    "dotnet_interactive": {
     "language": "csharp"
    }
   },
   "outputs": [
    {
     "data": {
      "text/html": [
       "<details class=\"dni-treeview\"><summary><span class=\"dni-code-hint\"><code>{ &quot;myElement&quot;: { &quot;one&quot;: 1 } }</code></span></summary><div><table><thead><tr></tr></thead><tbody><tr><td>myElement</td><td><details class=\"dni-treeview\"><summary><span class=\"dni-code-hint\"><code>{ &quot;one&quot;: 1 }</code></span></summary><div><table><thead><tr></tr></thead><tbody><tr><td>one</td><td><span><div class=\"dni-plaintext\">1</div></span></td></tr></tbody></table></div></details></td></tr></tbody></table></div></details><style id=\"dni-styles-JsonElement\">    \r\n",
       ".dni-code-hint {\r\n",
       "    font-style: italic;\r\n",
       "    overflow: hidden;\r\n",
       "    white-space: nowrap;\r\n",
       "}\r\n",
       "\r\n",
       ".dni-treeview {\r\n",
       "    white-space: nowrap;\r\n",
       "}\r\n",
       "\r\n",
       ".dni-treeview td {\r\n",
       "    vertical-align: top;\r\n",
       "}\r\n",
       "\r\n",
       "details.dni-treeview {\r\n",
       "    padding-left: 1em;\r\n",
       "}</style>"
      ]
     },
     "metadata": {},
     "output_type": "display_data"
    }
   ],
   "source": [
    "using System.Text.Json;\n",
    "\n",
    "\n",
    "var doc = JsonDocument.Parse(@\"{ \"\"myElement\"\": { \"\"one\"\": 1 } }\");\n",
    "\n",
    "doc.RootElement"
   ]
  },
  {
   "cell_type": "markdown",
   "metadata": {},
   "source": [
    "The zeroth element of the enumeration contains the `JsonProperty.Name` we are looking for:"
   ]
  },
  {
   "cell_type": "code",
   "execution_count": null,
   "metadata": {
    "dotnet_interactive": {
     "language": "csharp"
    }
   },
   "outputs": [
    {
     "data": {
      "text/plain": [
       "myElement"
      ]
     },
     "metadata": {},
     "output_type": "display_data"
    }
   ],
   "source": [
    "doc.RootElement.EnumerateObject().ToArray()[0].Name"
   ]
  },
  {
   "cell_type": "markdown",
   "metadata": {},
   "source": [
    "@[BryanWilhite](https://twitter.com/BryanWilhite)\n"
   ]
  }
 ],
 "metadata": {
  "kernelspec": {
   "display_name": ".NET (C#)",
   "language": "C#",
   "name": ".net-csharp"
  },
  "language_info": {
   "file_extension": ".cs",
   "mimetype": "text/x-csharp",
   "name": "C#",
   "pygments_lexer": "csharp",
   "version": "9.0"
  },
  "orig_nbformat": 4
 },
 "nbformat": 4,
 "nbformat_minor": 2
}
