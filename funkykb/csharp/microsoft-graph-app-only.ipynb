{
 "cells": [
  {
   "attachments": {},
   "cell_type": "markdown",
   "metadata": {},
   "source": [
    "# Microsoft Graph\n",
    "\n",
    "“[Build .NET apps with Microsoft Graph and app-only authentication](https://learn.microsoft.com/en-us/graph/tutorials/dotnet-app-only?tabs=aad)”"
   ]
  },
  {
   "cell_type": "code",
   "execution_count": 1,
   "metadata": {
    "dotnet_interactive": {
     "language": "csharp"
    },
    "polyglot_notebook": {
     "kernelName": "csharp"
    },
    "vscode": {
     "languageId": "polyglot-notebook"
    }
   },
   "outputs": [
    {
     "data": {
      "text/html": [
       "<div><div></div><div></div><div><strong>Installed Packages</strong><ul><li><span>Azure.Core, 1.31.0</span></li><li><span>Azure.Identity, 1.8.2</span></li><li><span>Microsoft.Graph, 5.9.0</span></li></ul></div></div>"
      ]
     },
     "metadata": {},
     "output_type": "display_data"
    }
   ],
   "source": [
    "#r \"nuget: Microsoft.Graph\"\n",
    "#r \"nuget: Azure.Core,1.31\"\n",
    "#r \"nuget: Azure.Identity\""
   ]
  },
  {
   "cell_type": "code",
   "execution_count": 2,
   "metadata": {
    "dotnet_interactive": {
     "language": "csharp"
    },
    "polyglot_notebook": {
     "kernelName": "csharp"
    },
    "vscode": {
     "languageId": "polyglot-notebook"
    }
   },
   "outputs": [
    {
     "data": {
      "text/html": [
       "<div><div></div><div></div><div><strong>Installed Packages</strong><ul><li><span>SonghayCore, 6.0.4</span></li></ul></div></div>"
      ]
     },
     "metadata": {},
     "output_type": "display_data"
    }
   ],
   "source": [
    "#r \"nuget: SonghayCore\""
   ]
  },
  {
   "cell_type": "code",
   "execution_count": 3,
   "metadata": {
    "dotnet_interactive": {
     "language": "csharp"
    },
    "polyglot_notebook": {
     "kernelName": "csharp"
    },
    "vscode": {
     "languageId": "polyglot-notebook"
    }
   },
   "outputs": [
    {
     "data": {
      "text/html": [
       "<div class=\"dni-plaintext\"><pre>True</pre></div><style>\r\n",
       ".dni-code-hint {\r\n",
       "    font-style: italic;\r\n",
       "    overflow: hidden;\r\n",
       "    white-space: nowrap;\r\n",
       "}\r\n",
       ".dni-treeview {\r\n",
       "    white-space: nowrap;\r\n",
       "}\r\n",
       ".dni-treeview td {\r\n",
       "    vertical-align: top;\r\n",
       "    text-align: start;\r\n",
       "}\r\n",
       "details.dni-treeview {\r\n",
       "    padding-left: 1em;\r\n",
       "}\r\n",
       "table td {\r\n",
       "    text-align: start;\r\n",
       "}\r\n",
       "table tr { \r\n",
       "    vertical-align: top; \r\n",
       "    margin: 0em 0px;\r\n",
       "}\r\n",
       "table tr td pre \r\n",
       "{ \r\n",
       "    vertical-align: top !important; \r\n",
       "    margin: 0em 0px !important;\r\n",
       "} \r\n",
       "table th {\r\n",
       "    text-align: start;\r\n",
       "}\r\n",
       "</style>"
      ]
     },
     "metadata": {},
     "output_type": "display_data"
    }
   ],
   "source": [
    "using System.IO;\n",
    "using System.Text.Json;\n",
    "using Songhay.Models;\n",
    "\n",
    "var json = File.ReadAllText(Environment.GetEnvironmentVariable(\"SONGHAY_APP_SETTINGS_PATH\"));\n",
    "\n",
    "JsonDocument.Parse(json).RootElement.TryGetProperty(typeof(ProgramMetadata).Name, out var element)"
   ]
  },
  {
   "cell_type": "code",
   "execution_count": 4,
   "metadata": {
    "dotnet_interactive": {
     "language": "csharp"
    },
    "polyglot_notebook": {
     "kernelName": "csharp"
    },
    "vscode": {
     "languageId": "polyglot-notebook"
    }
   },
   "outputs": [
    {
     "data": {
      "text/html": [
       "<div class=\"dni-plaintext\"><pre>[ ClientId, ClientScope, ClientSecret, ClientTenantId ]</pre></div><style>\r\n",
       ".dni-code-hint {\r\n",
       "    font-style: italic;\r\n",
       "    overflow: hidden;\r\n",
       "    white-space: nowrap;\r\n",
       "}\r\n",
       ".dni-treeview {\r\n",
       "    white-space: nowrap;\r\n",
       "}\r\n",
       ".dni-treeview td {\r\n",
       "    vertical-align: top;\r\n",
       "    text-align: start;\r\n",
       "}\r\n",
       "details.dni-treeview {\r\n",
       "    padding-left: 1em;\r\n",
       "}\r\n",
       "table td {\r\n",
       "    text-align: start;\r\n",
       "}\r\n",
       "table tr { \r\n",
       "    vertical-align: top; \r\n",
       "    margin: 0em 0px;\r\n",
       "}\r\n",
       "table tr td pre \r\n",
       "{ \r\n",
       "    vertical-align: top !important; \r\n",
       "    margin: 0em 0px !important;\r\n",
       "} \r\n",
       "table th {\r\n",
       "    text-align: start;\r\n",
       "}\r\n",
       "</style>"
      ]
     },
     "metadata": {},
     "output_type": "display_data"
    }
   ],
   "source": [
    "var meta = JsonSerializer.Deserialize<ProgramMetadata>(element);\n",
    "var restMeta = meta.RestApiMetadataSet[\"MSAL2023\"];\n",
    "\n",
    "restMeta.ClaimsSet.Keys"
   ]
  },
  {
   "cell_type": "code",
   "execution_count": 19,
   "metadata": {
    "dotnet_interactive": {
     "language": "csharp"
    },
    "polyglot_notebook": {
     "kernelName": "csharp"
    },
    "vscode": {
     "languageId": "polyglot-notebook"
    }
   },
   "outputs": [
    {
     "data": {
      "text/html": [
       "<div class=\"dni-plaintext\"><pre>True</pre></div><style>\r\n",
       ".dni-code-hint {\r\n",
       "    font-style: italic;\r\n",
       "    overflow: hidden;\r\n",
       "    white-space: nowrap;\r\n",
       "}\r\n",
       ".dni-treeview {\r\n",
       "    white-space: nowrap;\r\n",
       "}\r\n",
       ".dni-treeview td {\r\n",
       "    vertical-align: top;\r\n",
       "    text-align: start;\r\n",
       "}\r\n",
       "details.dni-treeview {\r\n",
       "    padding-left: 1em;\r\n",
       "}\r\n",
       "table td {\r\n",
       "    text-align: start;\r\n",
       "}\r\n",
       "table tr { \r\n",
       "    vertical-align: top; \r\n",
       "    margin: 0em 0px;\r\n",
       "}\r\n",
       "table tr td pre \r\n",
       "{ \r\n",
       "    vertical-align: top !important; \r\n",
       "    margin: 0em 0px !important;\r\n",
       "} \r\n",
       "table th {\r\n",
       "    text-align: start;\r\n",
       "}\r\n",
       "</style>"
      ]
     },
     "metadata": {},
     "output_type": "display_data"
    }
   ],
   "source": [
    "using Azure.Core;\n",
    "using Azure.Identity;\n",
    "\n",
    "var credential = new ClientSecretCredential(\n",
    "    restMeta.ClaimsSet[\"ClientTenantId\"],\n",
    "    restMeta.ClaimsSet[\"ClientId\"],\n",
    "    restMeta.ClaimsSet[\"ClientSecret\"]\n",
    ");\n",
    "\n",
    "var scopes = new[] { \"api://9b0e1cae-2015-46ba-9be9-ddbacddcd316/.default\" };\n",
    "\n",
    "var context = new TokenRequestContext(scopes);\n",
    "\n",
    "var response = await credential.GetTokenAsync(context);\n",
    "\n",
    "!string.IsNullOrWhiteSpace(response.Token)"
   ]
  },
  {
   "cell_type": "code",
   "execution_count": 6,
   "metadata": {
    "dotnet_interactive": {
     "language": "csharp"
    },
    "polyglot_notebook": {
     "kernelName": "csharp"
    },
    "vscode": {
     "languageId": "polyglot-notebook"
    }
   },
   "outputs": [
    {
     "data": {
      "text/html": [
       "<div><div></div><div></div><div><strong>Installed Packages</strong><ul><li><span>Azure.Storage.Blobs, 12.16.0</span></li></ul></div></div>"
      ]
     },
     "metadata": {},
     "output_type": "display_data"
    }
   ],
   "source": [
    "#r \"nuget: Azure.Storage.Blobs\"\n"
   ]
  },
  {
   "cell_type": "code",
   "execution_count": 20,
   "metadata": {
    "dotnet_interactive": {
     "language": "csharp"
    },
    "polyglot_notebook": {
     "kernelName": "csharp"
    },
    "vscode": {
     "languageId": "polyglot-notebook"
    }
   },
   "outputs": [
    {
     "ename": "Error",
     "evalue": "Azure.RequestFailedException: This request is not authorized to perform this operation using this permission.\nRequestId:f3a7242e-601e-0019-4ec5-80a3c2000000\nTime:2023-05-07T09:25:34.2932760Z\nStatus: 403 (This request is not authorized to perform this operation using this permission.)\nErrorCode: AuthorizationPermissionMismatch\n\nHeaders:\nServer: Windows-Azure-Blob/1.0 Microsoft-HTTPAPI/2.0\nx-ms-request-id: f3a7242e-601e-0019-4ec5-80a3c2000000\nx-ms-client-request-id: d9f1d359-127c-4f8c-b8ba-af5797454684\nx-ms-version: 2022-11-02\nx-ms-error-code: AuthorizationPermissionMismatch\nAccess-Control-Allow-Origin: *\nDate: Sun, 07 May 2023 09:25:33 GMT\nContent-Length: 279\nContent-Type: application/xml\n\n   at Azure.Storage.Blobs.BlobRestClient.Download(String snapshot, String versionId, Nullable`1 timeout, String range, String leaseId, Nullable`1 rangeGetContentMD5, Nullable`1 rangeGetContentCRC64, String encryptionKey, String encryptionKeySha256, Nullable`1 encryptionAlgorithm, Nullable`1 ifModifiedSince, Nullable`1 ifUnmodifiedSince, String ifMatch, String ifNoneMatch, String ifTags, CancellationToken cancellationToken)\n   at Azure.Storage.Blobs.Specialized.BlobBaseClient.StartDownloadAsync(HttpRange range, BlobRequestConditions conditions, DownloadTransferValidationOptions validationOptions, Int64 startOffset, Boolean async, CancellationToken cancellationToken)\n   at Azure.Storage.Blobs.Specialized.BlobBaseClient.DownloadStreamingInternal(HttpRange range, BlobRequestConditions conditions, DownloadTransferValidationOptions transferValidationOverride, IProgress`1 progressHandler, String operationName, Boolean async, CancellationToken cancellationToken)\n   at Azure.Storage.Blobs.Specialized.BlobBaseClient.DownloadStreamingDirect(HttpRange range, BlobRequestConditions conditions, DownloadTransferValidationOptions transferValidationOverride, IProgress`1 progressHandler, String operationName, Boolean async, CancellationToken cancellationToken)\n   at Azure.Storage.Blobs.Specialized.BlobBaseClient.DownloadContentInternal(BlobRequestConditions conditions, IProgress`1 progressHandler, HttpRange range, DownloadTransferValidationOptions transferValidationOverride, Boolean async, CancellationToken cancellationToken)\n   at Azure.Core.Pipeline.TaskExtensions.EnsureCompleted[T](Task`1 task)\n   at Azure.Storage.Blobs.Specialized.BlobBaseClient.DownloadContent(BlobRequestConditions conditions, CancellationToken cancellationToken)\n   at Azure.Storage.Blobs.Specialized.BlobBaseClient.DownloadContent(CancellationToken cancellationToken)\n   at Azure.Storage.Blobs.Specialized.BlobBaseClient.DownloadContent()\n   at Submission#18.<<Initialize>>d__0.MoveNext()\n--- End of stack trace from previous location ---\n   at Microsoft.CodeAnalysis.Scripting.ScriptExecutionState.RunSubmissionsAsync[TResult](ImmutableArray`1 precedingExecutors, Func`2 currentExecutor, StrongBox`1 exceptionHolderOpt, Func`2 catchExceptionOpt, CancellationToken cancellationToken)",
     "output_type": "error",
     "traceback": [
      "Azure.RequestFailedException: This request is not authorized to perform this operation using this permission.\n",
      "RequestId:f3a7242e-601e-0019-4ec5-80a3c2000000\n",
      "Time:2023-05-07T09:25:34.2932760Z\n",
      "Status: 403 (This request is not authorized to perform this operation using this permission.)\n",
      "ErrorCode: AuthorizationPermissionMismatch\n",
      "\n",
      "Headers:\n",
      "Server: Windows-Azure-Blob/1.0 Microsoft-HTTPAPI/2.0\n",
      "x-ms-request-id: f3a7242e-601e-0019-4ec5-80a3c2000000\n",
      "x-ms-client-request-id: d9f1d359-127c-4f8c-b8ba-af5797454684\n",
      "x-ms-version: 2022-11-02\n",
      "x-ms-error-code: AuthorizationPermissionMismatch\n",
      "Access-Control-Allow-Origin: *\n",
      "Date: Sun, 07 May 2023 09:25:33 GMT\n",
      "Content-Length: 279\n",
      "Content-Type: application/xml\n",
      "\n",
      "   at Azure.Storage.Blobs.BlobRestClient.Download(String snapshot, String versionId, Nullable`1 timeout, String range, String leaseId, Nullable`1 rangeGetContentMD5, Nullable`1 rangeGetContentCRC64, String encryptionKey, String encryptionKeySha256, Nullable`1 encryptionAlgorithm, Nullable`1 ifModifiedSince, Nullable`1 ifUnmodifiedSince, String ifMatch, String ifNoneMatch, String ifTags, CancellationToken cancellationToken)\n",
      "   at Azure.Storage.Blobs.Specialized.BlobBaseClient.StartDownloadAsync(HttpRange range, BlobRequestConditions conditions, DownloadTransferValidationOptions validationOptions, Int64 startOffset, Boolean async, CancellationToken cancellationToken)\n",
      "   at Azure.Storage.Blobs.Specialized.BlobBaseClient.DownloadStreamingInternal(HttpRange range, BlobRequestConditions conditions, DownloadTransferValidationOptions transferValidationOverride, IProgress`1 progressHandler, String operationName, Boolean async, CancellationToken cancellationToken)\n",
      "   at Azure.Storage.Blobs.Specialized.BlobBaseClient.DownloadStreamingDirect(HttpRange range, BlobRequestConditions conditions, DownloadTransferValidationOptions transferValidationOverride, IProgress`1 progressHandler, String operationName, Boolean async, CancellationToken cancellationToken)\n",
      "   at Azure.Storage.Blobs.Specialized.BlobBaseClient.DownloadContentInternal(BlobRequestConditions conditions, IProgress`1 progressHandler, HttpRange range, DownloadTransferValidationOptions transferValidationOverride, Boolean async, CancellationToken cancellationToken)\n",
      "   at Azure.Core.Pipeline.TaskExtensions.EnsureCompleted[T](Task`1 task)\n",
      "   at Azure.Storage.Blobs.Specialized.BlobBaseClient.DownloadContent(BlobRequestConditions conditions, CancellationToken cancellationToken)\n",
      "   at Azure.Storage.Blobs.Specialized.BlobBaseClient.DownloadContent(CancellationToken cancellationToken)\n",
      "   at Azure.Storage.Blobs.Specialized.BlobBaseClient.DownloadContent()\n",
      "   at Submission#18.<<Initialize>>d__0.MoveNext()\n",
      "--- End of stack trace from previous location ---\n",
      "   at Microsoft.CodeAnalysis.Scripting.ScriptExecutionState.RunSubmissionsAsync[TResult](ImmutableArray`1 precedingExecutors, Func`2 currentExecutor, StrongBox`1 exceptionHolderOpt, Func`2 catchExceptionOpt, CancellationToken cancellationToken)"
     ]
    }
   ],
   "source": [
    "using Azure.Storage.Blobs;\n",
    "using Azure.Storage.Blobs.Models;\n",
    "\n",
    "var uri = new Uri(\"https://fubar.blob.core.windows.net\", UriKind.Absolute);\n",
    "var client = new BlobServiceClient(uri, credential);\n",
    "\n",
    "var containerClient = client.GetBlobContainerClient(\"foo\");\n",
    "\n",
    "var blobClient = containerClient.GetBlobClient(\"kb-1064618963.json\");\n",
    "\n",
    "blobClient.DownloadContent()"
   ]
  }
 ],
 "metadata": {
  "language_info": {
   "name": "python"
  },
  "orig_nbformat": 4
 },
 "nbformat": 4,
 "nbformat_minor": 2
}
