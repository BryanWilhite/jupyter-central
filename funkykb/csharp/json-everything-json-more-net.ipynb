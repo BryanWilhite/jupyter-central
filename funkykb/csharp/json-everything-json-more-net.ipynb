{
 "cells": [
  {
   "cell_type": "markdown",
   "id": "6175de07",
   "metadata": {},
   "source": [
    "# JSON Everything: `Json.More.Net`\n",
    "\n",
    "<https://docs.json-everything.net/more/json-more/>"
   ]
  },
  {
   "cell_type": "code",
   "execution_count": 1,
   "id": "987fb4e8",
   "metadata": {
    "vscode": {
     "languageId": "polyglot-notebook"
    }
   },
   "outputs": [
    {
     "data": {
      "text/html": [
       "<div><div></div><div></div><div><strong>Installed Packages</strong><ul><li><span>Json.More.Net, 2.1.2</span></li></ul></div></div>"
      ]
     },
     "metadata": {},
     "output_type": "display_data"
    }
   ],
   "source": [
    "#!csharp\n",
    "\n",
    "#r \"nuget:Json.More.Net\""
   ]
  },
  {
   "cell_type": "code",
   "execution_count": 2,
   "id": "4623880f",
   "metadata": {
    "vscode": {
     "languageId": "polyglot-notebook"
    }
   },
   "outputs": [],
   "source": [
    "#!csharp\n",
    "\n",
    "string json1 = \"\"\"\n",
    "{\n",
    "    \"author\": \"Tractatus Dali\",\n",
    "    \"title\": \"Hello, World!\",\n",
    "    \"content\": [\n",
    "        { \"id\": \"item1\" },\n",
    "        { \"id\": \"item2\" },\n",
    "        { \"id\": \"item3\" }\n",
    "    ],\n",
    "    \"frontmatter\": {\n",
    "        \"property1\": 2,\n",
    "        \"property2\": true\n",
    "    }\n",
    "}\n",
    "\"\"\";\n",
    "\n",
    "\n",
    "string json2 = \"\"\"\n",
    "{\n",
    "    \"title\": \"Hello, World!\",\n",
    "    \"author\": \"Tractatus Dali\",\n",
    "    \"frontmatter\": {\n",
    "        \"property2\": true,\n",
    "        \"property1\": 2\n",
    "    },\n",
    "    \"content\": [\n",
    "        { \"id\": \"item1\" },\n",
    "        { \"id\": \"item2\" },\n",
    "        { \"id\": \"item3\" }\n",
    "    ]\n",
    "}\n",
    "\"\"\";"
   ]
  },
  {
   "cell_type": "code",
   "execution_count": 3,
   "id": "5c2070fe",
   "metadata": {
    "vscode": {
     "languageId": "polyglot-notebook"
    }
   },
   "outputs": [
    {
     "data": {
      "text/html": [
       "<div class=\"dni-plaintext\"><pre>True</pre></div><style>\r\n",
       ".dni-code-hint {\r\n",
       "    font-style: italic;\r\n",
       "    overflow: hidden;\r\n",
       "    white-space: nowrap;\r\n",
       "}\r\n",
       ".dni-treeview {\r\n",
       "    white-space: nowrap;\r\n",
       "}\r\n",
       ".dni-treeview td {\r\n",
       "    vertical-align: top;\r\n",
       "    text-align: start;\r\n",
       "}\r\n",
       "details.dni-treeview {\r\n",
       "    padding-left: 1em;\r\n",
       "}\r\n",
       "table td {\r\n",
       "    text-align: start;\r\n",
       "}\r\n",
       "table tr { \r\n",
       "    vertical-align: top; \r\n",
       "    margin: 0em 0px;\r\n",
       "}\r\n",
       "table tr td pre \r\n",
       "{ \r\n",
       "    vertical-align: top !important; \r\n",
       "    margin: 0em 0px !important;\r\n",
       "} \r\n",
       "table th {\r\n",
       "    text-align: start;\r\n",
       "}\r\n",
       "</style>"
      ]
     },
     "metadata": {},
     "output_type": "display_data"
    }
   ],
   "source": [
    "#!csharp\n",
    "\n",
    "using System.Text.Json;\n",
    "using Json.More;\n",
    "\n",
    "JsonDocument doc1 = JsonDocument.Parse(json1);\n",
    "JsonDocument doc2 = JsonDocument.Parse(json2);\n",
    "\n",
    "doc1.IsEquivalentTo(doc2)"
   ]
  }
 ],
 "metadata": {
  "kernelspec": {
   "display_name": ".NET (C#)",
   "language": "C#",
   "name": ".net-csharp"
  },
  "language_info": {
   "name": "python"
  },
  "polyglot_notebook": {
   "kernelInfo": {
    "defaultKernelName": "csharp",
    "items": [
     {
      "aliases": [],
      "name": "csharp"
     }
    ]
   }
  }
 },
 "nbformat": 4,
 "nbformat_minor": 5
}
