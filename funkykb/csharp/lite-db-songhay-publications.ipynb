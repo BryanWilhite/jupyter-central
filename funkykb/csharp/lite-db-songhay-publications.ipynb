{
 "cells": [
  {
   "attachments": {},
   "cell_type": "markdown",
   "metadata": {},
   "source": [
    "# LiteDB: Songhay Publications\n",
    "\n",
    "The use of LiteDB in this Studio is to provide an Index for Web publication (see “[Songhay Publications and the Concept of the Index](http://songhayblog.azurewebsites.net/entry/2020-12-24-songhay-publications-and-the-concept-of-the-index/)” for detail)."
   ]
  },
  {
   "cell_type": "code",
   "execution_count": 1,
   "metadata": {
    "dotnet_interactive": {
     "language": "csharp"
    },
    "polyglot_notebook": {
     "kernelName": "csharp"
    },
    "vscode": {
     "languageId": "polyglot-notebook"
    }
   },
   "outputs": [
    {
     "data": {
      "text/html": [
       "<div><div></div><div></div><div><strong>Installed Packages</strong><ul><li><span>LiteDB, 5.0.16</span></li></ul></div></div>"
      ]
     },
     "metadata": {},
     "output_type": "display_data"
    }
   ],
   "source": [
    "#r \"nuget: LiteDB\""
   ]
  },
  {
   "cell_type": "code",
   "execution_count": 2,
   "metadata": {
    "dotnet_interactive": {
     "language": "csharp"
    },
    "polyglot_notebook": {
     "kernelName": "csharp"
    },
    "vscode": {
     "languageId": "polyglot-notebook"
    }
   },
   "outputs": [
    {
     "data": {
      "text/html": [
       "<div><div></div><div></div><div><strong>Installed Packages</strong><ul><li><span>SonghayCore, 6.0.4</span></li></ul></div></div>"
      ]
     },
     "metadata": {},
     "output_type": "display_data"
    }
   ],
   "source": [
    "#r \"nuget: SonghayCore\""
   ]
  },
  {
   "cell_type": "code",
   "execution_count": 3,
   "metadata": {
    "dotnet_interactive": {
     "language": "csharp"
    },
    "polyglot_notebook": {
     "kernelName": "csharp"
    },
    "vscode": {
     "languageId": "polyglot-notebook"
    }
   },
   "outputs": [
    {
     "data": {
      "text/html": [
       "<div><div></div><div></div><div><strong>Installed Packages</strong><ul><li><span>Songhay.Publications, 6.0.1</span></li></ul></div></div>"
      ]
     },
     "metadata": {},
     "output_type": "display_data"
    }
   ],
   "source": [
    "#r \"nuget: Songhay.Publications\""
   ]
  },
  {
   "cell_type": "code",
   "execution_count": 4,
   "metadata": {
    "dotnet_interactive": {
     "language": "csharp"
    },
    "polyglot_notebook": {
     "kernelName": "csharp"
    },
    "vscode": {
     "languageId": "polyglot-notebook"
    }
   },
   "outputs": [],
   "source": [
    "using System.IO;\n",
    "using LiteDB;\n",
    "using Songhay;\n",
    "using Songhay.Publications.Models;\n",
    "\n",
    "var home = Environment.GetEnvironmentVariable(\"VSCODE_CWD\");\n",
    "\n",
    "var dbPath = ProgramFileUtility.GetCombinedPath(home, \"sourceRoot/Songhay.Publications.KinteSpace/db/KinteSpace.db\");\n",
    "\n",
    "ILiteCollection<Segment> presentations;\n",
    "ILiteCollection<Segment> segments;\n",
    "ILiteCollection<IndexKeyword> keywords;\n",
    "ILiteCollection<IndexKeywordGroup> keywordGroups;\n",
    "ILiteCollection<ResponsiveImage> images;"
   ]
  },
  {
   "cell_type": "code",
   "execution_count": 5,
   "metadata": {
    "dotnet_interactive": {
     "language": "csharp"
    },
    "polyglot_notebook": {
     "kernelName": "csharp"
    },
    "vscode": {
     "languageId": "polyglot-notebook"
    }
   },
   "outputs": [
    {
     "data": {
      "text/plain": [
       "size in bytes (not on disk): 880KB"
      ]
     },
     "metadata": {},
     "output_type": "display_data"
    },
    {
     "data": {
      "text/plain": [
       "CreationTime: 5/20/2021 5:48:30 PM"
      ]
     },
     "metadata": {},
     "output_type": "display_data"
    }
   ],
   "source": [
    "\n",
    "var info = new FileInfo(dbPath);\n",
    "\n",
    "$\"size in bytes (not on disk): {info.Length / 1024}KB\".Display();\n",
    "$\"{nameof(info.CreationTime)}: {info.CreationTime}\".Display();"
   ]
  },
  {
   "cell_type": "code",
   "execution_count": 6,
   "metadata": {
    "dotnet_interactive": {
     "language": "csharp"
    },
    "polyglot_notebook": {
     "kernelName": "csharp"
    },
    "vscode": {
     "languageId": "polyglot-notebook"
    }
   },
   "outputs": [
    {
     "data": {
      "text/plain": [
       "presentations count: 349"
      ]
     },
     "metadata": {},
     "output_type": "display_data"
    },
    {
     "data": {
      "text/plain": [
       "segments count: 5"
      ]
     },
     "metadata": {},
     "output_type": "display_data"
    },
    {
     "data": {
      "text/plain": [
       "keywords count: 0"
      ]
     },
     "metadata": {},
     "output_type": "display_data"
    },
    {
     "data": {
      "text/plain": [
       "keywordGroups count: 0"
      ]
     },
     "metadata": {},
     "output_type": "display_data"
    },
    {
     "data": {
      "text/plain": [
       "images count: 0"
      ]
     },
     "metadata": {},
     "output_type": "display_data"
    }
   ],
   "source": [
    "using (var db = new LiteDatabase(dbPath))\n",
    "{\n",
    "    presentations = db.GetCollection<Segment>(nameof(presentations));\n",
    "    segments = db.GetCollection<Segment>(nameof(segments));\n",
    "    keywords = db.GetCollection<IndexKeyword>(nameof(keywords));\n",
    "    keywordGroups = db.GetCollection<IndexKeywordGroup>(nameof(keywordGroups));\n",
    "    images = db.GetCollection<ResponsiveImage>(nameof(images));\n",
    "\n",
    "    $\"{nameof(presentations)} count: {presentations.Count()}\".Display();\n",
    "    $\"{nameof(segments)} count: {segments.Count()}\".Display();\n",
    "    $\"{nameof(keywords)} count: {keywords.Count()}\".Display();\n",
    "    $\"{nameof(keywordGroups)} count: {keywordGroups.Count()}\".Display();\n",
    "    $\"{nameof(images)} count: {images.Count()}\".Display();\n",
    "}"
   ]
  }
 ],
 "metadata": {
  "language_info": {
   "name": "python"
  },
  "orig_nbformat": 4
 },
 "nbformat": 4,
 "nbformat_minor": 2
}
