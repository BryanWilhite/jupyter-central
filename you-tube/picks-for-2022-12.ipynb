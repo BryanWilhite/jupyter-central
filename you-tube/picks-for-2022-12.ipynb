{
 "cells": [
  {
   "attachments": {},
   "cell_type": "markdown",
   "metadata": {},
   "source": [
    "# YouTube picks: 2022-12"
   ]
  },
  {
   "cell_type": "code",
   "execution_count": 1,
   "metadata": {},
   "outputs": [],
   "source": [
    "import songhay.utilities.ipython as rx"
   ]
  },
  {
   "attachments": {},
   "cell_type": "markdown",
   "metadata": {},
   "source": [
    "## Blender rollup"
   ]
  },
  {
   "cell_type": "code",
   "execution_count": 2,
   "metadata": {},
   "outputs": [
    {
     "data": {
      "text/html": [
       "<div id=\"figure-block\" style=\"display: inline-block;margin:2rem;\"><a href=\"https://www.youtube.com/watch?v=oU4LskfiPoM\"><img alt=\"The custom tech behind DillonGoo Studios\" src=\"https://img.youtube.com/vi/oU4LskfiPoM/maxresdefault.jpg\" width=\"480\" /></a><br /><small>The custom tech behind DillonGoo Studios</small></div><div id=\"figure-block\" style=\"display: inline-block;margin:2rem;\"><a href=\"https://www.youtube.com/watch?v=o-4tQBrBNq8\"><img alt=\"Grease Pencil journey with Dédouze\" src=\"https://img.youtube.com/vi/o-4tQBrBNq8/maxresdefault.jpg\" width=\"480\" /></a><br /><small>Grease Pencil journey with Dédouze</small></div><div id=\"figure-block\" style=\"display: inline-block;margin:2rem;\"><a href=\"https://www.youtube.com/watch?v=fg3QQIaMIBo\"><img alt=\"How to Add AMBIENT OCCLUSION in Blender! (Ambient Occlusion Node Tutorial)\" src=\"https://img.youtube.com/vi/fg3QQIaMIBo/maxresdefault.jpg\" width=\"480\" /></a><br /><small>How to Add AMBIENT OCCLUSION in Blender! (Ambient Occlusion Node Tutorial)</small></div><div id=\"figure-block\" style=\"display: inline-block;margin:2rem;\"><a href=\"https://www.youtube.com/watch?v=msOjFC03JRY\"><img alt=\"The Future of Character Animation & Rigging: a Q&A [feedback] session\" src=\"https://img.youtube.com/vi/msOjFC03JRY/maxresdefault.jpg\" width=\"480\" /></a><br /><small>The Future of Character Animation & Rigging: a Q&A [feedback] session</small></div>"
      ],
      "text/plain": [
       "<IPython.core.display.HTML object>"
      ]
     },
     "execution_count": 2,
     "metadata": {},
     "output_type": "execute_result"
    }
   ],
   "source": [
    "rx.display_videos([\n",
    "    ('oU4LskfiPoM', 'The custom tech behind DillonGoo Studios'),\n",
    "    ('o-4tQBrBNq8', 'Grease Pencil journey with Dédouze'),\n",
    "    ('fg3QQIaMIBo', 'How to Add AMBIENT OCCLUSION in Blender! (Ambient Occlusion Node Tutorial)'),\n",
    "    ('msOjFC03JRY', 'The Future of Character Animation & Rigging: a Q&A [feedback] session'),\n",
    "])"
   ]
  },
  {
   "attachments": {},
   "cell_type": "markdown",
   "metadata": {},
   "source": [
    "## recognizing the existence of battery fires"
   ]
  },
  {
   "cell_type": "code",
   "execution_count": 3,
   "metadata": {},
   "outputs": [
    {
     "data": {
      "text/html": [
       "<div id=\"figure-block\" style=\"display: inline-block;margin:2rem;\"><a href=\"https://www.youtube.com/watch?v=R2oMkXB2xQE\"><img alt=\"Battery Fires Are Making Electric Cars and Bikes Look Bad\" src=\"https://img.youtube.com/vi/R2oMkXB2xQE/maxresdefault.jpg\" width=\"480\" /></a><br /><small>Battery Fires Are Making Electric Cars and Bikes Look Bad</small></div>"
      ],
      "text/plain": [
       "<IPython.core.display.HTML object>"
      ]
     },
     "execution_count": 3,
     "metadata": {},
     "output_type": "execute_result"
    }
   ],
   "source": [
    "rx.display_videos([\n",
    "    ('R2oMkXB2xQE', 'Battery Fires Are Making Electric Cars and Bikes Look Bad'),\n",
    "])"
   ]
  },
  {
   "attachments": {},
   "cell_type": "markdown",
   "metadata": {},
   "source": [
    "## video game nostalgia"
   ]
  },
  {
   "cell_type": "code",
   "execution_count": 4,
   "metadata": {},
   "outputs": [
    {
     "data": {
      "text/html": [
       "<div id=\"figure-block\" style=\"display: inline-block;margin:2rem;\"><a href=\"https://www.youtube.com/watch?v=L32D_qDRdGI\"><img alt=\"Atari’s Pong is now half a century old\" src=\"https://img.youtube.com/vi/L32D_qDRdGI/maxresdefault.jpg\" width=\"480\" /></a><br /><small>Atari’s Pong is now half a century old</small></div><div id=\"figure-block\" style=\"display: inline-block;margin:2rem;\"><a href=\"https://www.youtube.com/watch?v=IhhLcZQ2zD0\"><img alt=\"The Original Quake Gets A Full RT Upgrade—And It’s Incredible\" src=\"https://img.youtube.com/vi/IhhLcZQ2zD0/maxresdefault.jpg\" width=\"480\" /></a><br /><small>The Original Quake Gets A Full RT Upgrade—And It’s Incredible</small></div>"
      ],
      "text/plain": [
       "<IPython.core.display.HTML object>"
      ]
     },
     "execution_count": 4,
     "metadata": {},
     "output_type": "execute_result"
    }
   ],
   "source": [
    "rx.display_videos([\n",
    "    ('L32D_qDRdGI', 'Atari’s Pong is now half a century old'),\n",
    "    ('IhhLcZQ2zD0', 'The Original Quake Gets A Full RT Upgrade—And It’s Incredible'),\n",
    "])"
   ]
  },
  {
   "attachments": {},
   "cell_type": "markdown",
   "metadata": {},
   "source": [
    "## bún cá hồi"
   ]
  },
  {
   "cell_type": "code",
   "execution_count": 5,
   "metadata": {},
   "outputs": [
    {
     "data": {
      "text/html": [
       "<div id=\"figure-block\" style=\"display: inline-block;margin:2rem;\"><a href=\"https://www.youtube.com/watch?v=WNQxjtPeLu8\"><img alt=\"FORGET PHO! TRY THIS NOODLE INSTEAD | DELICIOUS VIETNAMESE FRIED FISH NOODLES (BUN CA) | #WHATTHEPHO\" src=\"https://img.youtube.com/vi/WNQxjtPeLu8/maxresdefault.jpg\" width=\"480\" /></a><br /><small>FORGET PHO! TRY THIS NOODLE INSTEAD | DELICIOUS VIETNAMESE FRIED FISH NOODLES (BUN CA) | #WHATTHEPHO</small></div>"
      ],
      "text/plain": [
       "<IPython.core.display.HTML object>"
      ]
     },
     "execution_count": 5,
     "metadata": {},
     "output_type": "execute_result"
    }
   ],
   "source": [
    "rx.display_videos([\n",
    "    ('WNQxjtPeLu8', 'FORGET PHO! TRY THIS NOODLE INSTEAD | DELICIOUS VIETNAMESE FRIED FISH NOODLES (BUN CA) | #WHATTHEPHO'),\n",
    "])"
   ]
  },
  {
   "attachments": {},
   "cell_type": "markdown",
   "metadata": {},
   "source": [
    "## League of Legends _Arcane_ documentary\n",
    "\n",
    "[ [YouTube Playlist](https://www.youtube.com/playlist?list=PLbAFXJC0J5GYEkfxnGTWnvgcEypgBeAb5) ]"
   ]
  },
  {
   "cell_type": "code",
   "execution_count": 7,
   "metadata": {},
   "outputs": [
    {
     "data": {
      "text/html": [
       "<div id=\"figure-block\" style=\"display: inline-block;margin:2rem;\"><a href=\"https://www.youtube.com/watch?v=hiKYlBMlHcw\"><img alt=\"Arcane: Bridging the Rift | Trailer\" src=\"https://img.youtube.com/vi/hiKYlBMlHcw/maxresdefault.jpg\" width=\"480\" /></a><br /><small>Arcane: Bridging the Rift | Trailer</small></div><div id=\"figure-block\" style=\"display: inline-block;margin:2rem;\"><a href=\"https://www.youtube.com/watch?v=Mz4-38d3-AE\"><img alt=\"Arcane: Bridging the Rift | Part 1 - I Only Dream in Risky\" src=\"https://img.youtube.com/vi/Mz4-38d3-AE/maxresdefault.jpg\" width=\"480\" /></a><br /><small>Arcane: Bridging the Rift | Part 1 - I Only Dream in Risky</small></div><div id=\"figure-block\" style=\"display: inline-block;margin:2rem;\"><a href=\"https://www.youtube.com/watch?v=RHElv9Kk9gY\"><img alt=\"Arcane: Animation Test\" src=\"https://img.youtube.com/vi/RHElv9Kk9gY/maxresdefault.jpg\" width=\"480\" /></a><br /><small>Arcane: Animation Test</small></div><div id=\"figure-block\" style=\"display: inline-block;margin:2rem;\"><a href=\"https://www.youtube.com/watch?v=xpPyPguzafU\"><img alt=\"Arcane: Bridging the Rift | Part 2 - Persistence (Or When Your Best Still Sucks)\" src=\"https://img.youtube.com/vi/xpPyPguzafU/maxresdefault.jpg\" width=\"480\" /></a><br /><small>Arcane: Bridging the Rift | Part 2 - Persistence (Or When Your Best Still Sucks)</small></div><div id=\"figure-block\" style=\"display: inline-block;margin:2rem;\"><a href=\"https://www.youtube.com/watch?v=Qd1rOtu4SMI\"><img alt=\"Arcane: Bridging the Rift | Part 3 - Killstreaks Meet Keyframes\" src=\"https://img.youtube.com/vi/Qd1rOtu4SMI/maxresdefault.jpg\" width=\"480\" /></a><br /><small>Arcane: Bridging the Rift | Part 3 - Killstreaks Meet Keyframes</small></div><div id=\"figure-block\" style=\"display: inline-block;margin:2rem;\"><a href=\"https://www.youtube.com/watch?v=m-MtIYImERI\"><img alt=\"Arcane: Bridging the Rift | Part 4 - Musical Misfits\" src=\"https://img.youtube.com/vi/m-MtIYImERI/maxresdefault.jpg\" width=\"480\" /></a><br /><small>Arcane: Bridging the Rift | Part 4 - Musical Misfits</small></div><div id=\"figure-block\" style=\"display: inline-block;margin:2rem;\"><a href=\"https://www.youtube.com/watch?v=n_dCEd5QRZg\"><img alt=\"Arcane: Bridging the Rift | Part 5 - We Gave It Our Best Shot\" src=\"https://img.youtube.com/vi/n_dCEd5QRZg/maxresdefault.jpg\" width=\"480\" /></a><br /><small>Arcane: Bridging the Rift | Part 5 - We Gave It Our Best Shot</small></div>"
      ],
      "text/plain": [
       "<IPython.core.display.HTML object>"
      ]
     },
     "execution_count": 7,
     "metadata": {},
     "output_type": "execute_result"
    }
   ],
   "source": [
    "rx.display_videos([\n",
    "    ('hiKYlBMlHcw', 'Arcane: Bridging the Rift | Trailer'),\n",
    "    ('Mz4-38d3-AE', 'Arcane: Bridging the Rift | Part 1 - I Only Dream in Risky'),\n",
    "    ('RHElv9Kk9gY', 'Arcane: Animation Test'),\n",
    "    ('xpPyPguzafU', 'Arcane: Bridging the Rift | Part 2 - Persistence (Or When Your Best Still Sucks)'),\n",
    "    ('Qd1rOtu4SMI', 'Arcane: Bridging the Rift | Part 3 - Killstreaks Meet Keyframes'),\n",
    "    ('m-MtIYImERI', 'Arcane: Bridging the Rift | Part 4 - Musical Misfits'),\n",
    "    ('n_dCEd5QRZg', 'Arcane: Bridging the Rift | Part 5 - We Gave It Our Best Shot'),\n",
    "])"
   ]
  }
 ],
 "metadata": {
  "kernelspec": {
   "display_name": "Python 3",
   "language": "python",
   "name": "python3"
  },
  "language_info": {
   "codemirror_mode": {
    "name": "ipython",
    "version": 3
   },
   "file_extension": ".py",
   "mimetype": "text/x-python",
   "name": "python",
   "nbconvert_exporter": "python",
   "pygments_lexer": "ipython3",
   "version": "3.7.13"
  },
  "vscode": {
   "interpreter": {
    "hash": "2248ed64bdf5fe1d2cc35d4639eff9d9517212412e82087913ac56aa4ab59c78"
   }
  }
 },
 "nbformat": 4,
 "nbformat_minor": 4
}
