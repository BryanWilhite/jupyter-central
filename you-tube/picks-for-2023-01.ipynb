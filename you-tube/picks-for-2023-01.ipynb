{
 "cells": [
  {
   "attachments": {},
   "cell_type": "markdown",
   "metadata": {},
   "source": [
    "# YouTube picks: 2023-01"
   ]
  },
  {
   "cell_type": "code",
   "execution_count": 1,
   "metadata": {},
   "outputs": [],
   "source": [
    "import songhay.utilities.ipython as rx"
   ]
  },
  {
   "attachments": {},
   "cell_type": "markdown",
   "metadata": {},
   "source": [
    "## archiving the curated Code collection for Songhay Tube\n",
    "\n",
    "Songhay Tube at songhaysystem.com is (mostly) about the latest uploads to YouTube. It adds too much noise to display thumbnails from channels that haven’t had any activity for over a year. The following, then, is a rollup from the Code category:"
   ]
  },
  {
   "cell_type": "code",
   "execution_count": 2,
   "metadata": {},
   "outputs": [
    {
     "data": {
      "text/html": [
       "<div id=\"figure-block\" style=\"display: inline-block;margin:2rem;\"><a href=\"https://www.youtube.com/watch?v=vQQEaSnQ_bs\"><img alt=\"last video of: Corey Schafer\" src=\"https://img.youtube.com/vi/vQQEaSnQ_bs/maxresdefault.jpg\" width=\"480\" /></a><br /><small>last video of: Corey Schafer</small></div><div id=\"figure-block\" style=\"display: inline-block;margin:2rem;\"><a href=\"https://www.youtube.com/watch?v=nCDWzV9wzW4\"><img alt=\"last video of: Layout Land\" src=\"https://img.youtube.com/vi/nCDWzV9wzW4/maxresdefault.jpg\" width=\"480\" /></a><br /><small>last video of: Layout Land</small></div><div id=\"figure-block\" style=\"display: inline-block;margin:2rem;\"><a href=\"https://www.youtube.com/watch?v=UMtBWQ2m04g\"><img alt=\"last video of: mathematicalmonk\" src=\"https://img.youtube.com/vi/UMtBWQ2m04g/maxresdefault.jpg\" width=\"480\" /></a><br /><small>last video of: mathematicalmonk</small></div><div id=\"figure-block\" style=\"display: inline-block;margin:2rem;\"><a href=\"https://www.youtube.com/watch?v=79AIzbjLzdk\"><img alt=\"last video of: PyCon 2018\" src=\"https://img.youtube.com/vi/79AIzbjLzdk/maxresdefault.jpg\" width=\"480\" /></a><br /><small>last video of: PyCon 2018</small></div><div id=\"figure-block\" style=\"display: inline-block;margin:2rem;\"><a href=\"https://www.youtube.com/watch?v=KMhw79Fs6Nk\"><img alt=\"last video of: Victor Lavrenko\" src=\"https://img.youtube.com/vi/KMhw79Fs6Nk/maxresdefault.jpg\" width=\"480\" /></a><br /><small>last video of: Victor Lavrenko</small></div>"
      ],
      "text/plain": [
       "<IPython.core.display.HTML object>"
      ]
     },
     "execution_count": 2,
     "metadata": {},
     "output_type": "execute_result"
    }
   ],
   "source": [
    "rx.display_videos([\n",
    "    ('vQQEaSnQ_bs', 'last video of: Corey Schafer'),\n",
    "    ('nCDWzV9wzW4', 'last video of: Layout Land'),\n",
    "    ('UMtBWQ2m04g', 'last video of: mathematicalmonk'),\n",
    "    ('79AIzbjLzdk', 'last video of: PyCon 2018'),\n",
    "    ('KMhw79Fs6Nk', 'last video of: Victor Lavrenko'),\n",
    "])"
   ]
  },
  {
   "attachments": {},
   "cell_type": "markdown",
   "metadata": {},
   "source": [
    "## geopolitics\n"
   ]
  },
  {
   "cell_type": "code",
   "execution_count": 3,
   "metadata": {},
   "outputs": [
    {
     "data": {
      "text/html": [
       "<div id=\"figure-block\" style=\"display: inline-block;margin:2rem;\"><a href=\"https://www.youtube.com/watch?v=El0wIQOBPEw\"><img alt=\"Why Turkey is Preparing to Invade Syria (Again)\" src=\"https://img.youtube.com/vi/El0wIQOBPEw/maxresdefault.jpg\" width=\"480\" /></a><br /><small>Why Turkey is Preparing to Invade Syria (Again)</small></div>"
      ],
      "text/plain": [
       "<IPython.core.display.HTML object>"
      ]
     },
     "execution_count": 3,
     "metadata": {},
     "output_type": "execute_result"
    }
   ],
   "source": [
    "rx.display_videos([\n",
    "    ('El0wIQOBPEw', 'Why Turkey is Preparing to Invade Syria (Again)'),\n",
    "])"
   ]
  },
  {
   "attachments": {},
   "cell_type": "markdown",
   "metadata": {},
   "source": [
    "## video games and blender rollup"
   ]
  },
  {
   "cell_type": "code",
   "execution_count": 4,
   "metadata": {},
   "outputs": [
    {
     "data": {
      "text/html": [
       "<div id=\"figure-block\" style=\"display: inline-block;margin:2rem;\"><a href=\"https://www.youtube.com/watch?v=7z8KJKth09w\"><img alt=\"Kojima Productions New Studio Tour\" src=\"https://img.youtube.com/vi/7z8KJKth09w/maxresdefault.jpg\" width=\"480\" /></a><br /><small>Kojima Productions New Studio Tour</small></div><div id=\"figure-block\" style=\"display: inline-block;margin:2rem;\"><a href=\"https://www.youtube.com/watch?v=vhWgfdMu87o\"><img alt=\"Three ways to create humans in Blender without doing much work\" src=\"https://img.youtube.com/vi/vhWgfdMu87o/maxresdefault.jpg\" width=\"480\" /></a><br /><small>Three ways to create humans in Blender without doing much work</small></div><div id=\"figure-block\" style=\"display: inline-block;margin:2rem;\"><a href=\"https://www.youtube.com/watch?v=DDOOLsua3As\"><img alt=\"buildings of mediocre quality\" src=\"https://img.youtube.com/vi/DDOOLsua3As/maxresdefault.jpg\" width=\"480\" /></a><br /><small>buildings of mediocre quality</small></div>"
      ],
      "text/plain": [
       "<IPython.core.display.HTML object>"
      ]
     },
     "execution_count": 4,
     "metadata": {},
     "output_type": "execute_result"
    }
   ],
   "source": [
    "rx.display_videos([\n",
    "    ('7z8KJKth09w', 'Kojima Productions New Studio Tour'),\n",
    "    ('vhWgfdMu87o', 'Three ways to create humans in Blender without doing much work'),\n",
    "    ('DDOOLsua3As', 'buildings of mediocre quality'),\n",
    "])"
   ]
  },
  {
   "attachments": {},
   "cell_type": "markdown",
   "metadata": {},
   "source": [
    "## Phil Tippet and other movie magic"
   ]
  },
  {
   "cell_type": "code",
   "execution_count": 5,
   "metadata": {},
   "outputs": [
    {
     "data": {
      "text/html": [
       "<div id=\"figure-block\" style=\"display: inline-block;margin:2rem;\"><a href=\"https://www.youtube.com/watch?v=18tHatZftm4\"><img alt=\"PHIL TIPPETT Interview | Making Stop-Motion Epic “Mad God”\" src=\"https://img.youtube.com/vi/18tHatZftm4/maxresdefault.jpg\" width=\"480\" /></a><br /><small>PHIL TIPPETT Interview | Making Stop-Motion Epic “Mad God”</small></div><div id=\"figure-block\" style=\"display: inline-block;margin:2rem;\"><a href=\"https://www.youtube.com/watch?v=2-HKVBvBgho\"><img alt=\"This Gruesome, Grotesque & Dark Stop-Motion Motion Is An Amazing Animated Masterpiece - Mad God\" src=\"https://img.youtube.com/vi/2-HKVBvBgho/maxresdefault.jpg\" width=\"480\" /></a><br /><small>This Gruesome, Grotesque & Dark Stop-Motion Motion Is An Amazing Animated Masterpiece - Mad God</small></div><div id=\"figure-block\" style=\"display: inline-block;margin:2rem;\"><a href=\"https://www.youtube.com/watch?v=WD2UrB7zepo\"><img alt=\"The Tragedy of Droids in Star Wars\" src=\"https://img.youtube.com/vi/WD2UrB7zepo/maxresdefault.jpg\" width=\"480\" /></a><br /><small>The Tragedy of Droids in Star Wars</small></div><div id=\"figure-block\" style=\"display: inline-block;margin:2rem;\"><a href=\"https://www.youtube.com/watch?v=EuR9Gcuezwc\"><img alt=\"Tina Guo - Meet my new Electric Cello, GHOST! (Yamaha)\" src=\"https://img.youtube.com/vi/EuR9Gcuezwc/maxresdefault.jpg\" width=\"480\" /></a><br /><small>Tina Guo - Meet my new Electric Cello, GHOST! (Yamaha)</small></div>"
      ],
      "text/plain": [
       "<IPython.core.display.HTML object>"
      ]
     },
     "execution_count": 5,
     "metadata": {},
     "output_type": "execute_result"
    }
   ],
   "source": [
    "rx.display_videos([\n",
    "    ('18tHatZftm4', 'PHIL TIPPETT Interview | Making Stop-Motion Epic “Mad God”'),\n",
    "    ('2-HKVBvBgho', 'This Gruesome, Grotesque & Dark Stop-Motion Motion Is An Amazing Animated Masterpiece - Mad God'),\n",
    "    ('WD2UrB7zepo', 'The Tragedy of Droids in Star Wars'),\n",
    "    ('EuR9Gcuezwc', 'Tina Guo - Meet my new Electric Cello, GHOST! (Yamaha)'),\n",
    "])"
   ]
  },
  {
   "attachments": {},
   "cell_type": "markdown",
   "metadata": {},
   "source": [
    "## solid state battery lies and other tech"
   ]
  },
  {
   "cell_type": "code",
   "execution_count": 6,
   "metadata": {},
   "outputs": [
    {
     "data": {
      "text/html": [
       "<div id=\"figure-block\" style=\"display: inline-block;margin:2rem;\"><a href=\"https://www.youtube.com/watch?v=21Psj7s9DU8\"><img alt=\"Toyota’s Solid State Battery claims have ZERO credibility\" src=\"https://img.youtube.com/vi/21Psj7s9DU8/maxresdefault.jpg\" width=\"480\" /></a><br /><small>Toyota’s Solid State Battery claims have ZERO credibility</small></div><div id=\"figure-block\" style=\"display: inline-block;margin:2rem;\"><a href=\"https://www.youtube.com/watch?v=gQddtTdmG_8\"><img alt=\"Vectoring Words (Word Embeddings) - Computerphile\" src=\"https://img.youtube.com/vi/gQddtTdmG_8/maxresdefault.jpg\" width=\"480\" /></a><br /><small>Vectoring Words (Word Embeddings) - Computerphile</small></div>"
      ],
      "text/plain": [
       "<IPython.core.display.HTML object>"
      ]
     },
     "execution_count": 6,
     "metadata": {},
     "output_type": "execute_result"
    }
   ],
   "source": [
    "rx.display_videos([\n",
    "    ('21Psj7s9DU8', 'Toyota’s Solid State Battery claims have ZERO credibility'),\n",
    "    ('gQddtTdmG_8', 'Vectoring Words (Word Embeddings) - Computerphile'),\n",
    "])"
   ]
  }
 ],
 "metadata": {
  "kernelspec": {
   "display_name": "Python 3",
   "language": "python",
   "name": "python3"
  },
  "language_info": {
   "codemirror_mode": {
    "name": "ipython",
    "version": 3
   },
   "file_extension": ".py",
   "mimetype": "text/x-python",
   "name": "python",
   "nbconvert_exporter": "python",
   "pygments_lexer": "ipython3",
   "version": "3.7.13"
  },
  "vscode": {
   "interpreter": {
    "hash": "2248ed64bdf5fe1d2cc35d4639eff9d9517212412e82087913ac56aa4ab59c78"
   }
  }
 },
 "nbformat": 4,
 "nbformat_minor": 4
}
