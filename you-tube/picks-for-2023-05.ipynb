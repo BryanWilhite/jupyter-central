{
 "cells": [
  {
   "attachments": {},
   "cell_type": "markdown",
   "metadata": {},
   "source": [
    "# YouTube picks: 2023-04"
   ]
  },
  {
   "cell_type": "code",
   "execution_count": 1,
   "metadata": {},
   "outputs": [],
   "source": [
    "import songhay.utilities.ipython as rx"
   ]
  },
  {
   "attachments": {},
   "cell_type": "markdown",
   "metadata": {},
   "source": [
    "# artsy picks"
   ]
  },
  {
   "cell_type": "code",
   "execution_count": 3,
   "metadata": {},
   "outputs": [
    {
     "data": {
      "text/html": [
       "<div id=\"figure-block\" style=\"display: inline-block;margin:2rem;\"><a href=\"https://www.youtube.com/watch?v=2AaDCkVNDPU\"><img alt=\"The Duchess of Malfi | Synopsis | Royal Shakespeare Company\" src=\"https://img.youtube.com/vi/2AaDCkVNDPU/maxresdefault.jpg\" width=\"480\" /></a><br /><small>The Duchess of Malfi | Synopsis | Royal Shakespeare Company</small></div><div id=\"figure-block\" style=\"display: inline-block;margin:2rem;\"><a href=\"https://www.youtube.com/watch?v=UvLKrhKcJ9I\"><img alt=\"Bernard Krigstein: The Most Influential Comic Book Artist\" src=\"https://img.youtube.com/vi/UvLKrhKcJ9I/maxresdefault.jpg\" width=\"480\" /></a><br /><small>Bernard Krigstein: The Most Influential Comic Book Artist</small></div><div id=\"figure-block\" style=\"display: inline-block;margin:2rem;\"><a href=\"https://www.youtube.com/watch?v=frG-jZXsNvc\"><img alt=\"The Page that Changed Comics Forever\" src=\"https://img.youtube.com/vi/frG-jZXsNvc/maxresdefault.jpg\" width=\"480\" /></a><br /><small>The Page that Changed Comics Forever</small></div>"
      ],
      "text/plain": [
       "<IPython.core.display.HTML object>"
      ]
     },
     "execution_count": 3,
     "metadata": {},
     "output_type": "execute_result"
    }
   ],
   "source": [
    "rx.display_videos([\n",
    "    ('2AaDCkVNDPU', 'The Duchess of Malfi | Synopsis | Royal Shakespeare Company'),\n",
    "    ('UvLKrhKcJ9I', 'Bernard Krigstein: The Most Influential Comic Book Artist'),\n",
    "    ('frG-jZXsNvc', 'The Page that Changed Comics Forever'),\n",
    "])"
   ]
  }
 ],
 "metadata": {
  "kernelspec": {
   "display_name": "Python 3",
   "language": "python",
   "name": "python3"
  },
  "language_info": {
   "codemirror_mode": {
    "name": "ipython",
    "version": 3
   },
   "file_extension": ".py",
   "mimetype": "text/x-python",
   "name": "python",
   "nbconvert_exporter": "python",
   "pygments_lexer": "ipython3",
   "version": "3.7.13"
  },
  "vscode": {
   "interpreter": {
    "hash": "2248ed64bdf5fe1d2cc35d4639eff9d9517212412e82087913ac56aa4ab59c78"
   }
  }
 },
 "nbformat": 4,
 "nbformat_minor": 4
}
