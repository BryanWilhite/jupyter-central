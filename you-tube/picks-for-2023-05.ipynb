{
 "cells": [
  {
   "attachments": {},
   "cell_type": "markdown",
   "metadata": {},
   "source": [
    "# YouTube picks: 2023-05"
   ]
  },
  {
   "cell_type": "code",
   "execution_count": 1,
   "metadata": {},
   "outputs": [],
   "source": [
    "import songhay.utilities.ipython as rx"
   ]
  },
  {
   "attachments": {},
   "cell_type": "markdown",
   "metadata": {},
   "source": [
    "## spreadsheet finance picks"
   ]
  },
  {
   "cell_type": "code",
   "execution_count": 2,
   "metadata": {},
   "outputs": [
    {
     "data": {
      "text/html": [
       "<div id=\"figure-block\" style=\"display: inline-block;margin:2rem;\"><a href=\"https://www.youtube.com/watch?v=pkjZCEMVzWw\"><img alt=\"Fully Automatic Profit & Loss Calculation in Calc | Stock Management with Profit & Loss in calc\" src=\"https://img.youtube.com/vi/pkjZCEMVzWw/hqdefault.jpg\" width=\"480\" /></a><br /><small>Fully Automatic Profit & Loss Calculation in Calc | Stock Management with Profit & Loss in calc</small></div><div id=\"figure-block\" style=\"display: inline-block;margin:2rem;\"><a href=\"https://www.youtube.com/watch?v=hBX4sOWolLQ\"><img alt=\"How To Analyse A Stock (Using My Free Spreadsheet)\" src=\"https://img.youtube.com/vi/hBX4sOWolLQ/maxresdefault.jpg\" width=\"480\" /></a><br /><small>How To Analyse A Stock (Using My Free Spreadsheet)</small></div><div id=\"figure-block\" style=\"display: inline-block;margin:2rem;\"><a href=\"https://www.youtube.com/watch?v=9cRbkDKA6z4\"><img alt=\"Live Stock Prices in Excel for Free WITHOUT Microsoft 365 Account\" src=\"https://img.youtube.com/vi/9cRbkDKA6z4/maxresdefault.jpg\" width=\"480\" /></a><br /><small>Live Stock Prices in Excel for Free WITHOUT Microsoft 365 Account</small></div>"
      ],
      "text/plain": [
       "<IPython.core.display.HTML object>"
      ]
     },
     "execution_count": 2,
     "metadata": {},
     "output_type": "execute_result"
    }
   ],
   "source": [
    "rx.display_videos([\n",
    "    ('pkjZCEMVzWw,hqdefault', 'Fully Automatic Profit & Loss Calculation in Calc | Stock Management with Profit & Loss in calc'),\n",
    "    ('hBX4sOWolLQ', 'How To Analyse A Stock (Using My Free Spreadsheet)'),\n",
    "    ('9cRbkDKA6z4', 'Live Stock Prices in Excel for Free WITHOUT Microsoft 365 Account'),\n",
    "])"
   ]
  },
  {
   "attachments": {},
   "cell_type": "markdown",
   "metadata": {},
   "source": [
    "# artsy picks"
   ]
  },
  {
   "cell_type": "code",
   "execution_count": 3,
   "metadata": {},
   "outputs": [
    {
     "data": {
      "text/html": [
       "<div id=\"figure-block\" style=\"display: inline-block;margin:2rem;\"><a href=\"https://www.youtube.com/watch?v=WT78nyuMvfw\"><img alt=\"The Hyperrealistic Art of Cornelius Dammrich | Pixel Peeping\" src=\"https://img.youtube.com/vi/WT78nyuMvfw/maxresdefault.jpg\" width=\"480\" /></a><br /><small>The Hyperrealistic Art of Cornelius Dammrich | Pixel Peeping</small></div><div id=\"figure-block\" style=\"display: inline-block;margin:2rem;\"><a href=\"https://www.youtube.com/watch?v=2AaDCkVNDPU\"><img alt=\"The Duchess of Malfi | Synopsis | Royal Shakespeare Company\" src=\"https://img.youtube.com/vi/2AaDCkVNDPU/hqdefault.jpg\" width=\"480\" /></a><br /><small>The Duchess of Malfi | Synopsis | Royal Shakespeare Company</small></div><div id=\"figure-block\" style=\"display: inline-block;margin:2rem;\"><a href=\"https://www.youtube.com/watch?v=UvLKrhKcJ9I\"><img alt=\"Bernard Krigstein: The Most Influential Comic Book Artist\" src=\"https://img.youtube.com/vi/UvLKrhKcJ9I/hqdefault.jpg\" width=\"480\" /></a><br /><small>Bernard Krigstein: The Most Influential Comic Book Artist</small></div><div id=\"figure-block\" style=\"display: inline-block;margin:2rem;\"><a href=\"https://www.youtube.com/watch?v=frG-jZXsNvc\"><img alt=\"The Page that Changed Comics Forever\" src=\"https://img.youtube.com/vi/frG-jZXsNvc/maxresdefault.jpg\" width=\"480\" /></a><br /><small>The Page that Changed Comics Forever</small></div><div id=\"figure-block\" style=\"display: inline-block;margin:2rem;\"><a href=\"https://www.youtube.com/watch?v=xqVRNAxgQwQ\"><img alt=\"This is Why Chekhov was a Genius\" src=\"https://img.youtube.com/vi/xqVRNAxgQwQ/maxresdefault.jpg\" width=\"480\" /></a><br /><small>This is Why Chekhov was a Genius</small></div><div id=\"figure-block\" style=\"display: inline-block;margin:2rem;\"><a href=\"https://www.youtube.com/watch?v=ObVJbMEVMtg\"><img alt=\"Steve Martin | Live at the Troubadour 1976 | Stand Up Comedy\" src=\"https://img.youtube.com/vi/ObVJbMEVMtg/hqdefault.jpg\" width=\"480\" /></a><br /><small>Steve Martin | Live at the Troubadour 1976 | Stand Up Comedy</small></div>"
      ],
      "text/plain": [
       "<IPython.core.display.HTML object>"
      ]
     },
     "execution_count": 3,
     "metadata": {},
     "output_type": "execute_result"
    }
   ],
   "source": [
    "rx.display_videos([\n",
    "    ('WT78nyuMvfw', 'The Hyperrealistic Art of Cornelius Dammrich | Pixel Peeping'),\n",
    "    ('2AaDCkVNDPU,hqdefault', 'The Duchess of Malfi | Synopsis | Royal Shakespeare Company'),\n",
    "    ('UvLKrhKcJ9I,hqdefault', 'Bernard Krigstein: The Most Influential Comic Book Artist'),\n",
    "    ('frG-jZXsNvc', 'The Page that Changed Comics Forever'),\n",
    "    ('xqVRNAxgQwQ', 'This is Why Chekhov was a Genius'),\n",
    "    ('ObVJbMEVMtg,hqdefault', 'Steve Martin | Live at the Troubadour 1976 | Stand Up Comedy'),\n",
    "])"
   ]
  },
  {
   "attachments": {},
   "cell_type": "markdown",
   "metadata": {},
   "source": [
    "## CGI picks"
   ]
  },
  {
   "cell_type": "code",
   "execution_count": 4,
   "metadata": {},
   "outputs": [
    {
     "data": {
      "text/html": [
       "<div id=\"figure-block\" style=\"display: inline-block;margin:2rem;\"><a href=\"https://www.youtube.com/watch?v=DJ99mv52fVo\"><img alt=\"Case Study: Creating Realistic Facial Motion for 'The Quarry'\" src=\"https://img.youtube.com/vi/DJ99mv52fVo/maxresdefault.jpg\" width=\"480\" /></a><br /><small>Case Study: Creating Realistic Facial Motion for 'The Quarry'</small></div><div id=\"figure-block\" style=\"display: inline-block;margin:2rem;\"><a href=\"https://www.youtube.com/watch?v=80GrFXFOayE\"><img alt=\"Blender Earth Modeler Add-on | 3D Google Earth (City/Terrain) inside Blender\" src=\"https://img.youtube.com/vi/80GrFXFOayE/maxresdefault.jpg\" width=\"480\" /></a><br /><small>Blender Earth Modeler Add-on | 3D Google Earth (City/Terrain) inside Blender</small></div>"
      ],
      "text/plain": [
       "<IPython.core.display.HTML object>"
      ]
     },
     "execution_count": 4,
     "metadata": {},
     "output_type": "execute_result"
    }
   ],
   "source": [
    "rx.display_videos([\n",
    "    ('DJ99mv52fVo', 'Case Study: Creating Realistic Facial Motion for \\'The Quarry\\''),\n",
    "    ('80GrFXFOayE', 'Blender Earth Modeler Add-on | 3D Google Earth (City/Terrain) inside Blender'),\n",
    "])"
   ]
  },
  {
   "attachments": {},
   "cell_type": "markdown",
   "metadata": {},
   "source": [
    "## audio picks"
   ]
  },
  {
   "cell_type": "code",
   "execution_count": 5,
   "metadata": {},
   "outputs": [
    {
     "data": {
      "text/html": [
       "<div id=\"figure-block\" style=\"display: inline-block;margin:2rem;\"><a href=\"https://www.youtube.com/watch?v=N7xJVY-_4lQ\"><img alt=\"VOCAL COLORS Walkthrough | Native Instruments\" src=\"https://img.youtube.com/vi/N7xJVY-_4lQ/maxresdefault.jpg\" width=\"480\" /></a><br /><small>VOCAL COLORS Walkthrough | Native Instruments</small></div><div id=\"figure-block\" style=\"display: inline-block;margin:2rem;\"><a href=\"https://www.youtube.com/watch?v=OP1T3UuLr-c\"><img alt=\"808 Day Special: Lex Luger builds a trap masterpiece with MASCHINE+ | Native Instruments\" src=\"https://img.youtube.com/vi/OP1T3UuLr-c/maxresdefault.jpg\" width=\"480\" /></a><br /><small>808 Day Special: Lex Luger builds a trap masterpiece with MASCHINE+ | Native Instruments</small></div><div id=\"figure-block\" style=\"display: inline-block;margin:2rem;\"><a href=\"https://www.youtube.com/watch?v=EdVyHNVUy_s\"><img alt=\"Vocal Recording Masterclass with Trevor Horn (The Buggles, Paul McCartney, Seal, Pet Shop Boys)\" src=\"https://img.youtube.com/vi/EdVyHNVUy_s/maxresdefault.jpg\" width=\"480\" /></a><br /><small>Vocal Recording Masterclass with Trevor Horn (The Buggles, Paul McCartney, Seal, Pet Shop Boys)</small></div><div id=\"figure-block\" style=\"display: inline-block;margin:2rem;\"><a href=\"https://www.youtube.com/watch?v=BYzagFV0eLM\"><img alt=\"How to Use Everything in MASSIVE X | Native Instruments\" src=\"https://img.youtube.com/vi/BYzagFV0eLM/maxresdefault.jpg\" width=\"480\" /></a><br /><small>How to Use Everything in MASSIVE X | Native Instruments</small></div><div id=\"figure-block\" style=\"display: inline-block;margin:2rem;\"><a href=\"https://www.youtube.com/watch?v=5U-foZqE9z0\"><img alt=\"Drift - A Deep Dive into Ableton's All New (and free) Synth\" src=\"https://img.youtube.com/vi/5U-foZqE9z0/maxresdefault.jpg\" width=\"480\" /></a><br /><small>Drift - A Deep Dive into Ableton's All New (and free) Synth</small></div><div id=\"figure-block\" style=\"display: inline-block;margin:2rem;\"><a href=\"https://www.youtube.com/watch?v=296Dqons2I4\"><img alt=\"FREE Vst Plugin Alternatives To 8 Waves Audio Eq 's (Api 560, F6, Puitec, Q10, SSL G) + FREE Pdf\" src=\"https://img.youtube.com/vi/296Dqons2I4/maxresdefault.jpg\" width=\"480\" /></a><br /><small>FREE Vst Plugin Alternatives To 8 Waves Audio Eq 's (Api 560, F6, Puitec, Q10, SSL G) + FREE Pdf</small></div>"
      ],
      "text/plain": [
       "<IPython.core.display.HTML object>"
      ]
     },
     "execution_count": 5,
     "metadata": {},
     "output_type": "execute_result"
    }
   ],
   "source": [
    "rx.display_videos([\n",
    "    ('N7xJVY-_4lQ', 'VOCAL COLORS Walkthrough | Native Instruments'),\n",
    "    ('OP1T3UuLr-c', '808 Day Special: Lex Luger builds a trap masterpiece with MASCHINE+ | Native Instruments'),\n",
    "    ('EdVyHNVUy_s', 'Vocal Recording Masterclass with Trevor Horn (The Buggles, Paul McCartney, Seal, Pet Shop Boys)'),\n",
    "    ('BYzagFV0eLM', 'How to Use Everything in MASSIVE X | Native Instruments'),\n",
    "    ('5U-foZqE9z0', 'Drift - A Deep Dive into Ableton\\'s All New (and free) Synth'),\n",
    "    ('296Dqons2I4', 'FREE Vst Plugin Alternatives To 8 Waves Audio Eq \\'s (Api 560, F6, Puitec, Q10, SSL G) + FREE Pdf'),\n",
    "])"
   ]
  },
  {
   "attachments": {},
   "cell_type": "markdown",
   "metadata": {},
   "source": [
    "## gaming picks"
   ]
  },
  {
   "cell_type": "code",
   "execution_count": 6,
   "metadata": {},
   "outputs": [
    {
     "data": {
      "text/html": [
       "<div id=\"figure-block\" style=\"display: inline-block;margin:2rem;\"><a href=\"https://www.youtube.com/watch?v=eYUNpxiqFkg\"><img alt=\"Nepomniachtchi-Ding World Chess Championship Match 2023 || Game 6\" src=\"https://img.youtube.com/vi/eYUNpxiqFkg/maxresdefault.jpg\" width=\"480\" /></a><br /><small>Nepomniachtchi-Ding World Chess Championship Match 2023 || Game 6</small></div>"
      ],
      "text/plain": [
       "<IPython.core.display.HTML object>"
      ]
     },
     "execution_count": 6,
     "metadata": {},
     "output_type": "execute_result"
    }
   ],
   "source": [
    "rx.display_videos([\n",
    "    ('eYUNpxiqFkg', 'Nepomniachtchi-Ding World Chess Championship Match 2023 || Game 6'),\n",
    "])"
   ]
  }
 ],
 "metadata": {
  "kernelspec": {
   "display_name": "Python 3",
   "language": "python",
   "name": "python3"
  },
  "language_info": {
   "codemirror_mode": {
    "name": "ipython",
    "version": 3
   },
   "file_extension": ".py",
   "mimetype": "text/x-python",
   "name": "python",
   "nbconvert_exporter": "python",
   "pygments_lexer": "ipython3",
   "version": "3.7.13"
  },
  "vscode": {
   "interpreter": {
    "hash": "2248ed64bdf5fe1d2cc35d4639eff9d9517212412e82087913ac56aa4ab59c78"
   }
  }
 },
 "nbformat": 4,
 "nbformat_minor": 4
}
