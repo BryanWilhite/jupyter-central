{
 "cells": [
  {
   "attachments": {},
   "cell_type": "markdown",
   "metadata": {},
   "source": [
    "# YouTube picks: 2022-07"
   ]
  },
  {
   "cell_type": "code",
   "execution_count": 1,
   "metadata": {},
   "outputs": [],
   "source": [
    "import songhay.utilities.ipython as rx"
   ]
  },
  {
   "attachments": {},
   "cell_type": "markdown",
   "metadata": {},
   "source": [
    "## Doug’s Citröen videos\n",
    "\n",
    "I saved these to remind me of how design for some we expect to be mundane can have ‘character’ because it is so “quirky.” The cup holders of a  Citröen can be considered comedic as they ingeniously save space."
   ]
  },
  {
   "cell_type": "code",
   "execution_count": 2,
   "metadata": {},
   "outputs": [
    {
     "data": {
      "text/html": [
       "<div id=\"figure-block\" style=\"display: inline-block;margin:2rem;\"><a href=\"https://www.youtube.com/watch?v=bPaz4vRPKuo\"><img alt=\"The Citroen CX Is an Amazingly Quirky and Weird French Luxury Car\" src=\"https://img.youtube.com/vi/bPaz4vRPKuo/maxresdefault.jpg\" width=\"480\" /></a><br /><small>The Citroen CX Is an Amazingly Quirky and Weird French Luxury Car</small></div><div id=\"figure-block\" style=\"display: inline-block;margin:2rem;\"><a href=\"https://www.youtube.com/watch?v=7numh_g8DyI\"><img alt=\"The Citröen C6 Was an Ultra-Quirky French Luxury Sedan\" src=\"https://img.youtube.com/vi/7numh_g8DyI/maxresdefault.jpg\" width=\"480\" /></a><br /><small>The Citröen C6 Was an Ultra-Quirky French Luxury Sedan</small></div>"
      ],
      "text/plain": [
       "<IPython.core.display.HTML object>"
      ]
     },
     "execution_count": 2,
     "metadata": {},
     "output_type": "execute_result"
    }
   ],
   "source": [
    "\n",
    "rx.display_videos([\n",
    "    ('bPaz4vRPKuo', 'The Citroen CX Is an Amazingly Quirky and Weird French Luxury Car'),\n",
    "    ('7numh_g8DyI', 'The Citröen C6 Was an Ultra-Quirky French Luxury Sedan')\n",
    "])"
   ]
  },
  {
   "attachments": {},
   "cell_type": "markdown",
   "metadata": {},
   "source": [
    "## interesting artists of the month\n",
    "\n",
    "The interesting artists of the month are:\n",
    "\n",
    "- Sekou Sundiata\n",
    "- Michael Massenburg\n",
    "- Margaret Hamilton"
   ]
  },
  {
   "cell_type": "code",
   "execution_count": 3,
   "metadata": {},
   "outputs": [
    {
     "data": {
      "text/html": [
       "<div id=\"figure-block\" style=\"display: inline-block;margin:2rem;\"><a href=\"https://www.youtube.com/watch?v=M0FIzRj7prY\"><img alt=\"Sekou Sundiata on music, poetry, East Harlem and activism\" src=\"https://img.youtube.com/vi/M0FIzRj7prY/sddefault.jpg\" width=\"480\" /></a><br /><small>Sekou Sundiata on music, poetry, East Harlem and activism</small></div><div id=\"figure-block\" style=\"display: inline-block;margin:2rem;\"><a href=\"https://www.youtube.com/watch?v=0yFzA8vPu4k\"><img alt=\"Eric's Perspective : A podcast series on African American art | Episode #1 feat. Michael Massenburg\" src=\"https://img.youtube.com/vi/0yFzA8vPu4k/maxresdefault.jpg\" width=\"480\" /></a><br /><small>Eric's Perspective : A podcast series on African American art | Episode #1 feat. Michael Massenburg</small></div><div id=\"figure-block\" style=\"display: inline-block;margin:2rem;\"><a href=\"https://www.youtube.com/watch?v=6bVRytYSTEk\"><img alt=\"Oral History of Margaret Hamilton\" src=\"https://img.youtube.com/vi/6bVRytYSTEk/maxresdefault.jpg\" width=\"480\" /></a><br /><small>Oral History of Margaret Hamilton</small></div>"
      ],
      "text/plain": [
       "<IPython.core.display.HTML object>"
      ]
     },
     "execution_count": 3,
     "metadata": {},
     "output_type": "execute_result"
    }
   ],
   "source": [
    "rx.display_videos([\n",
    "    ('M0FIzRj7prY,sddefault', 'Sekou Sundiata on music, poetry, East Harlem and activism'),\n",
    "    ('0yFzA8vPu4k', 'Eric\\'s Perspective : A podcast series on African American art | Episode #1 feat. Michael Massenburg'),\n",
    "    ('6bVRytYSTEk', 'Oral History of Margaret Hamilton')\n",
    "])"
   ]
  },
  {
   "attachments": {},
   "cell_type": "markdown",
   "metadata": {},
   "source": [
    "## interesting documentaries of the month"
   ]
  },
  {
   "cell_type": "code",
   "execution_count": 4,
   "metadata": {},
   "outputs": [
    {
     "data": {
      "text/html": [
       "<div id=\"figure-block\" style=\"display: inline-block;margin:2rem;\"><a href=\"https://www.youtube.com/watch?v=cPpcnqMCRFE\"><img alt=\"Rome and Nubia: The Forgotten War\" src=\"https://img.youtube.com/vi/cPpcnqMCRFE/maxresdefault.jpg\" width=\"480\" /></a><br /><small>Rome and Nubia: The Forgotten War</small></div><div id=\"figure-block\" style=\"display: inline-block;margin:2rem;\"><a href=\"https://www.youtube.com/watch?v=ViTQ7N7iUQ0\"><img alt=\"Black Axe: Nigeria’s Mafia Cult - BBC Africa Eye documentary\" src=\"https://img.youtube.com/vi/ViTQ7N7iUQ0/maxresdefault.jpg\" width=\"480\" /></a><br /><small>Black Axe: Nigeria’s Mafia Cult - BBC Africa Eye documentary</small></div><div id=\"figure-block\" style=\"display: inline-block;margin:2rem;\"><a href=\"https://www.youtube.com/watch?v=PSM1dRFIAQ0\"><img alt=\"How a military contractor won the largest EV deal ever: Corruption\" src=\"https://img.youtube.com/vi/PSM1dRFIAQ0/maxresdefault.jpg\" width=\"480\" /></a><br /><small>How a military contractor won the largest EV deal ever: Corruption</small></div>"
      ],
      "text/plain": [
       "<IPython.core.display.HTML object>"
      ]
     },
     "execution_count": 4,
     "metadata": {},
     "output_type": "execute_result"
    }
   ],
   "source": [
    "rx.display_videos([\n",
    "    ('cPpcnqMCRFE', 'Rome and Nubia: The Forgotten War'),\n",
    "    ('ViTQ7N7iUQ0', 'Black Axe: Nigeria’s Mafia Cult - BBC Africa Eye documentary'),\n",
    "    ('PSM1dRFIAQ0', 'How a military contractor won the largest EV deal ever: Corruption')\n",
    "])"
   ]
  },
  {
   "attachments": {},
   "cell_type": "markdown",
   "metadata": {},
   "source": [
    "## lavender tube"
   ]
  },
  {
   "cell_type": "code",
   "execution_count": 5,
   "metadata": {},
   "outputs": [
    {
     "data": {
      "text/html": [
       "<div id=\"figure-block\" style=\"display: inline-block;margin:2rem;\"><a href=\"https://www.youtube.com/watch?v=F0AfU_oYvrc\"><img alt=\"How and When to Start Lavender Indoors: Takes a Long Time to Germinate - The Rusted Garden 2014\" src=\"https://img.youtube.com/vi/F0AfU_oYvrc/maxresdefault.jpg\" width=\"480\" /></a><br /><small>How and When to Start Lavender Indoors: Takes a Long Time to Germinate - The Rusted Garden 2014</small></div><div id=\"figure-block\" style=\"display: inline-block;margin:2rem;\"><a href=\"https://www.youtube.com/watch?v=TY8DZcVNTy4\"><img alt=\"how to grow lavender from seeds and a trick that I found to help germinate lavender seeds\" src=\"https://img.youtube.com/vi/TY8DZcVNTy4/maxresdefault.jpg\" width=\"480\" /></a><br /><small>how to grow lavender from seeds and a trick that I found to help germinate lavender seeds</small></div>"
      ],
      "text/plain": [
       "<IPython.core.display.HTML object>"
      ]
     },
     "execution_count": 5,
     "metadata": {},
     "output_type": "execute_result"
    }
   ],
   "source": [
    "rx.display_videos([\n",
    "    ('F0AfU_oYvrc', 'How and When to Start Lavender Indoors: Takes a Long Time to Germinate - The Rusted Garden 2014'),\n",
    "    ('TY8DZcVNTy4', 'how to grow lavender from seeds and a trick that I found to help germinate lavender seeds')\n",
    "])"
   ]
  },
  {
   "attachments": {},
   "cell_type": "markdown",
   "metadata": {},
   "source": [
    "## my introduction to suspension seat posts"
   ]
  },
  {
   "cell_type": "code",
   "execution_count": 6,
   "metadata": {},
   "outputs": [
    {
     "data": {
      "text/html": [
       "<div id=\"figure-block\" style=\"display: inline-block;margin:2rem;\"><a href=\"https://www.youtube.com/watch?v=u1e3g8uqrJU\"><img alt=\"Why Suspension Seatposts Are The ULTIMATE Comfort Upgrade!\" src=\"https://img.youtube.com/vi/u1e3g8uqrJU/maxresdefault.jpg\" width=\"480\" /></a><br /><small>Why Suspension Seatposts Are The ULTIMATE Comfort Upgrade!</small></div>"
      ],
      "text/plain": [
       "<IPython.core.display.HTML object>"
      ]
     },
     "execution_count": 6,
     "metadata": {},
     "output_type": "execute_result"
    }
   ],
   "source": [
    "rx.display_videos([\n",
    "    ('u1e3g8uqrJU', 'Why Suspension Seatposts Are The ULTIMATE Comfort Upgrade!'),\n",
    "])"
   ]
  },
  {
   "attachments": {},
   "cell_type": "markdown",
   "metadata": {},
   "source": [
    "## motion-picture related videos"
   ]
  },
  {
   "cell_type": "code",
   "execution_count": 7,
   "metadata": {},
   "outputs": [
    {
     "data": {
      "text/html": [
       "<div id=\"figure-block\" style=\"display: inline-block;margin:2rem;\"><a href=\"https://www.youtube.com/watch?v=oOdaUUHRcJI\"><img alt=\"Death Stranding's Biggest Problem? Teaching the AI to Walk | AI and Games\" src=\"https://img.youtube.com/vi/oOdaUUHRcJI/maxresdefault.jpg\" width=\"480\" /></a><br /><small>Death Stranding's Biggest Problem? Teaching the AI to Walk | AI and Games</small></div><div id=\"figure-block\" style=\"display: inline-block;margin:2rem;\"><a href=\"https://www.youtube.com/watch?v=C5nJ4RMy8mU\"><img alt=\"Why I Switched To Resolve after 10 Years on Premiere Pro !\" src=\"https://img.youtube.com/vi/C5nJ4RMy8mU/maxresdefault.jpg\" width=\"480\" /></a><br /><small>Why I Switched To Resolve after 10 Years on Premiere Pro !</small></div>"
      ],
      "text/plain": [
       "<IPython.core.display.HTML object>"
      ]
     },
     "execution_count": 7,
     "metadata": {},
     "output_type": "execute_result"
    }
   ],
   "source": [
    "rx.display_videos([\n",
    "    ('oOdaUUHRcJI', 'Death Stranding\\'s Biggest Problem? Teaching the AI to Walk | AI and Games'),\n",
    "    ('C5nJ4RMy8mU', 'Why I Switched To Resolve after 10 Years on Premiere Pro !')\n",
    "])"
   ]
  }
 ],
 "metadata": {
  "kernelspec": {
   "display_name": "Python 3.7.13 ('base')",
   "language": "python",
   "name": "python3"
  },
  "language_info": {
   "codemirror_mode": {
    "name": "ipython",
    "version": 3
   },
   "file_extension": ".py",
   "mimetype": "text/x-python",
   "name": "python",
   "nbconvert_exporter": "python",
   "pygments_lexer": "ipython3",
   "version": "3.7.13"
  },
  "orig_nbformat": 4,
  "vscode": {
   "interpreter": {
    "hash": "2248ed64bdf5fe1d2cc35d4639eff9d9517212412e82087913ac56aa4ab59c78"
   }
  }
 },
 "nbformat": 4,
 "nbformat_minor": 2
}
