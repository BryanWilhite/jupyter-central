{
 "cells": [
  {
   "attachments": {},
   "cell_type": "markdown",
   "metadata": {},
   "source": [
    "# YouTube picks: 2023-01"
   ]
  },
  {
   "cell_type": "code",
   "execution_count": 1,
   "metadata": {},
   "outputs": [],
   "source": [
    "import songhay.utilities.ipython as rx"
   ]
  },
  {
   "attachments": {},
   "cell_type": "markdown",
   "metadata": {},
   "source": [
    "## Thai language/culture picks"
   ]
  },
  {
   "cell_type": "code",
   "execution_count": 4,
   "metadata": {},
   "outputs": [
    {
     "data": {
      "text/html": [
       "<div id=\"figure-block\" style=\"display: inline-block;margin:2rem;\"><a href=\"https://www.youtube.com/watch?v=cwkQa1ARPmk\"><img alt=\"How to behave in a Thai Buddhist temple\" src=\"https://img.youtube.com/vi/cwkQa1ARPmk/maxresdefault.jpg\" width=\"480\" /></a><br /><small>How to behave in a Thai Buddhist temple</small></div><div id=\"figure-block\" style=\"display: inline-block;margin:2rem;\"><a href=\"https://www.youtube.com/watch?v=xia8V9nTd9g\"><img alt=\"Thai pronunciation 101 with Five Golden Rules!\" src=\"https://img.youtube.com/vi/xia8V9nTd9g/maxresdefault.jpg\" width=\"480\" /></a><br /><small>Thai pronunciation 101 with Five Golden Rules!</small></div><div id=\"figure-block\" style=\"display: inline-block;margin:2rem;\"><a href=\"https://www.youtube.com/watch?v=fE5DnLUbGU4\"><img alt=\"Expand Your Thai Vocabulary - Vegetables\" src=\"https://img.youtube.com/vi/fE5DnLUbGU4/maxresdefault.jpg\" width=\"480\" /></a><br /><small>Expand Your Thai Vocabulary - Vegetables</small></div><div id=\"figure-block\" style=\"display: inline-block;margin:2rem;\"><a href=\"https://www.youtube.com/watch?v=2nalqUnFW4w\"><img alt=\"STOP using ใช่/châi/ as YES! | #TalkLikeaThai\" src=\"https://img.youtube.com/vi/2nalqUnFW4w/maxresdefault.jpg\" width=\"480\" /></a><br /><small>STOP using ใช่/châi/ as YES! | #TalkLikeaThai</small></div><div id=\"figure-block\" style=\"display: inline-block;margin:2rem;\"><a href=\"https://www.youtube.com/watch?v=5odVRW9ldzU\"><img alt=\"Thai Chef Takes You Grocery Shopping!\" src=\"https://img.youtube.com/vi/5odVRW9ldzU/maxresdefault.jpg\" width=\"480\" /></a><br /><small>Thai Chef Takes You Grocery Shopping!</small></div><div id=\"figure-block\" style=\"display: inline-block;margin:2rem;\"><a href=\"https://www.youtube.com/watch?v=TmngP7tLxSs\"><img alt=\"Thai Food Words - Thai Lesson for Travelers Ep.3\" src=\"https://img.youtube.com/vi/TmngP7tLxSs/maxresdefault.jpg\" width=\"480\" /></a><br /><small>Thai Food Words - Thai Lesson for Travelers Ep.3</small></div><div id=\"figure-block\" style=\"display: inline-block;margin:2rem;\"><a href=\"https://www.youtube.com/watch?v=XmtKlum6qK8\"><img alt=\"Fighting Back Against Attic Rats And Other House Pests In Thailand\" src=\"https://img.youtube.com/vi/XmtKlum6qK8/maxresdefault.jpg\" width=\"480\" /></a><br /><small>Fighting Back Against Attic Rats And Other House Pests In Thailand</small></div>"
      ],
      "text/plain": [
       "<IPython.core.display.HTML object>"
      ]
     },
     "execution_count": 4,
     "metadata": {},
     "output_type": "execute_result"
    }
   ],
   "source": [
    "rx.display_videos([\n",
    "    ('cwkQa1ARPmk', 'How to behave in a Thai Buddhist temple'),\n",
    "    ('xia8V9nTd9g', 'Thai pronunciation 101 with Five Golden Rules!'),\n",
    "    ('fE5DnLUbGU4', 'Expand Your Thai Vocabulary - Vegetables'),\n",
    "    ('2nalqUnFW4w', 'STOP using ใช่/châi/ as YES! | #TalkLikeaThai'),\n",
    "    ('5odVRW9ldzU', 'Thai Chef Takes You Grocery Shopping!'),\n",
    "    ('TmngP7tLxSs', 'Thai Food Words - Thai Lesson for Travelers Ep.3'),\n",
    "    ('XmtKlum6qK8', 'Fighting Back Against Attic Rats And Other House Pests In Thailand'),\n",
    "])"
   ]
  },
  {
   "attachments": {},
   "cell_type": "markdown",
   "metadata": {},
   "source": [
    "## health/nutrition picks\n"
   ]
  },
  {
   "cell_type": "code",
   "execution_count": 5,
   "metadata": {},
   "outputs": [
    {
     "data": {
      "text/html": [
       "<div id=\"figure-block\" style=\"display: inline-block;margin:2rem;\"><a href=\"https://www.youtube.com/watch?v=d3R6yEFgFlc\"><img alt=\"Preventing Dementia: Expert Tips From A Doctor!\" src=\"https://img.youtube.com/vi/d3R6yEFgFlc/maxresdefault.jpg\" width=\"480\" /></a><br /><small>Preventing Dementia: Expert Tips From A Doctor!</small></div><div id=\"figure-block\" style=\"display: inline-block;margin:2rem;\"><a href=\"https://www.youtube.com/watch?v=5xrQzIxpp1k\"><img alt=\"28 Insulin Resistance Symptoms – Dr.Berg\" src=\"https://img.youtube.com/vi/5xrQzIxpp1k/maxresdefault.jpg\" width=\"480\" /></a><br /><small>28 Insulin Resistance Symptoms – Dr.Berg</small></div>"
      ],
      "text/plain": [
       "<IPython.core.display.HTML object>"
      ]
     },
     "execution_count": 5,
     "metadata": {},
     "output_type": "execute_result"
    }
   ],
   "source": [
    "rx.display_videos([\n",
    "    ('d3R6yEFgFlc', 'Preventing Dementia: Expert Tips From A Doctor!'),\n",
    "    ('5xrQzIxpp1k', '28 Insulin Resistance Symptoms – Dr.Berg'),\n",
    "])"
   ]
  },
  {
   "attachments": {},
   "cell_type": "markdown",
   "metadata": {},
   "source": [
    "# Euro history picks"
   ]
  },
  {
   "cell_type": "code",
   "execution_count": 6,
   "metadata": {},
   "outputs": [
    {
     "data": {
      "text/html": [
       "<div id=\"figure-block\" style=\"display: inline-block;margin:2rem;\"><a href=\"https://www.youtube.com/watch?v=iT92zx790c4\"><img alt=\"Dan Carlin's Hardcore History 60   The Celtic Holocaust\" src=\"https://img.youtube.com/vi/iT92zx790c4/maxresdefault.jpg\" width=\"480\" /></a><br /><small>Dan Carlin's Hardcore History 60   The Celtic Holocaust</small></div><div id=\"figure-block\" style=\"display: inline-block;margin:2rem;\"><a href=\"https://www.youtube.com/watch?v=6sM3KOYPL_A\"><img alt=\"Rise of the Rothschilds: The World's Richest Family\" src=\"https://img.youtube.com/vi/6sM3KOYPL_A/maxresdefault.jpg\" width=\"480\" /></a><br /><small>Rise of the Rothschilds: The World's Richest Family</small></div>"
      ],
      "text/plain": [
       "<IPython.core.display.HTML object>"
      ]
     },
     "execution_count": 6,
     "metadata": {},
     "output_type": "execute_result"
    }
   ],
   "source": [
    "rx.display_videos([\n",
    "    ('iT92zx790c4', 'Dan Carlin\\'s Hardcore History 60   The Celtic Holocaust'),\n",
    "    ('6sM3KOYPL_A', 'Rise of the Rothschilds: The World\\'s Richest Family'),\n",
    "])"
   ]
  }
 ],
 "metadata": {
  "kernelspec": {
   "display_name": "Python 3",
   "language": "python",
   "name": "python3"
  },
  "language_info": {
   "codemirror_mode": {
    "name": "ipython",
    "version": 3
   },
   "file_extension": ".py",
   "mimetype": "text/x-python",
   "name": "python",
   "nbconvert_exporter": "python",
   "pygments_lexer": "ipython3",
   "version": "3.7.13"
  },
  "vscode": {
   "interpreter": {
    "hash": "2248ed64bdf5fe1d2cc35d4639eff9d9517212412e82087913ac56aa4ab59c78"
   }
  }
 },
 "nbformat": 4,
 "nbformat_minor": 4
}
