{
 "cells": [
  {
   "attachments": {},
   "cell_type": "markdown",
   "metadata": {},
   "source": [
    "# YouTube picks: 2023-06"
   ]
  },
  {
   "cell_type": "code",
   "execution_count": 1,
   "metadata": {},
   "outputs": [],
   "source": [
    "import songhay.utilities.ipython as rx"
   ]
  },
  {
   "attachments": {},
   "cell_type": "markdown",
   "metadata": {},
   "source": [
    "# artsy picks"
   ]
  },
  {
   "cell_type": "code",
   "execution_count": 2,
   "metadata": {},
   "outputs": [
    {
     "data": {
      "text/html": [
       "<div id=\"figure-block\" style=\"display: inline-block;margin:2rem;\"><a href=\"https://www.youtube.com/watch?v=EsKDNZQhVX0\"><img alt=\"The Domino Effect [One Hour Stand Up Comedy Special] by Ali Siddiq\" src=\"https://img.youtube.com/vi/EsKDNZQhVX0/maxresdefault.jpg\" width=\"480\" /></a><br /><small>The Domino Effect [One Hour Stand Up Comedy Special] by Ali Siddiq</small></div>"
      ],
      "text/plain": [
       "<IPython.core.display.HTML object>"
      ]
     },
     "execution_count": 2,
     "metadata": {},
     "output_type": "execute_result"
    }
   ],
   "source": [
    "rx.display_videos([\n",
    "    ('EsKDNZQhVX0', 'The Domino Effect [One Hour Stand Up Comedy Special] by Ali Siddiq'),\n",
    "])"
   ]
  },
  {
   "attachments": {},
   "cell_type": "markdown",
   "metadata": {},
   "source": [
    "## history picks"
   ]
  },
  {
   "cell_type": "code",
   "execution_count": 3,
   "metadata": {},
   "outputs": [
    {
     "data": {
      "text/html": [
       "<div id=\"figure-block\" style=\"display: inline-block;margin:2rem;\"><a href=\"https://www.youtube.com/watch?v=yT1RMvqUjj0\"><img alt=\"Miyamoto Musashi and The Book of Five Rings\" src=\"https://img.youtube.com/vi/yT1RMvqUjj0/maxresdefault.jpg\" width=\"480\" /></a><br /><small>Miyamoto Musashi and The Book of Five Rings</small></div><div id=\"figure-block\" style=\"display: inline-block;margin:2rem;\"><a href=\"https://www.youtube.com/watch?v=D_SSHt74zdQ\"><img alt=\"Dr. Cheikh Anta Diop discusses the African origin of humanity & Civilization\" src=\"https://img.youtube.com/vi/D_SSHt74zdQ/hqdefault.jpg\" width=\"480\" /></a><br /><small>Dr. Cheikh Anta Diop discusses the African origin of humanity & Civilization</small></div><div id=\"figure-block\" style=\"display: inline-block;margin:2rem;\"><a href=\"https://www.youtube.com/watch?v=OLw5_pHjg5E\"><img alt=\"The Genius King\" src=\"https://img.youtube.com/vi/OLw5_pHjg5E/maxresdefault.jpg\" width=\"480\" /></a><br /><small>The Genius King</small></div><div id=\"figure-block\" style=\"display: inline-block;margin:2rem;\"><a href=\"https://www.youtube.com/watch?v=C-VYbcjjJE4\"><img alt=\"Ned Blackhawk on The Rediscovery of America\" src=\"https://img.youtube.com/vi/C-VYbcjjJE4/hqdefault.jpg\" width=\"480\" /></a><br /><small>Ned Blackhawk on The Rediscovery of America</small></div><div id=\"figure-block\" style=\"display: inline-block;margin:2rem;\"><a href=\"https://www.youtube.com/watch?v=66ofuZ_eBoI\"><img alt=\"White Washed Images Of Black European Paintings, Manuscripts, Etc. & Untampered Black Paintings Etc.\" src=\"https://img.youtube.com/vi/66ofuZ_eBoI/hqdefault.jpg\" width=\"480\" /></a><br /><small>White Washed Images Of Black European Paintings, Manuscripts, Etc. & Untampered Black Paintings Etc.</small></div><div id=\"figure-block\" style=\"display: inline-block;margin:2rem;\"><a href=\"https://www.youtube.com/watch?v=-0hVuPzK38A\"><img alt=\"Why Charles Schwab Became A Financial ‘Supermarket’\" src=\"https://img.youtube.com/vi/-0hVuPzK38A/maxresdefault.jpg\" width=\"480\" /></a><br /><small>Why Charles Schwab Became A Financial ‘Supermarket’</small></div>"
      ],
      "text/plain": [
       "<IPython.core.display.HTML object>"
      ]
     },
     "execution_count": 3,
     "metadata": {},
     "output_type": "execute_result"
    }
   ],
   "source": [
    "rx.display_videos([\n",
    "    ('yT1RMvqUjj0', 'Miyamoto Musashi and The Book of Five Rings'),\n",
    "    ('D_SSHt74zdQ,hqdefault', 'Dr. Cheikh Anta Diop discusses the African origin of humanity & Civilization'),\n",
    "    ('OLw5_pHjg5E', 'The Genius King'),\n",
    "    ('C-VYbcjjJE4,hqdefault', 'Ned Blackhawk on The Rediscovery of America'),\n",
    "    ('66ofuZ_eBoI,hqdefault', 'White Washed Images Of Black European Paintings, Manuscripts, Etc. & Untampered Black Paintings Etc.'),\n",
    "    ('-0hVuPzK38A', 'Why Charles Schwab Became A Financial ‘Supermarket’')\n",
    "])"
   ]
  },
  {
   "attachments": {},
   "cell_type": "markdown",
   "metadata": {},
   "source": [
    "## culture picks"
   ]
  },
  {
   "cell_type": "code",
   "execution_count": 4,
   "metadata": {},
   "outputs": [
    {
     "data": {
      "text/html": [
       "<div id=\"figure-block\" style=\"display: inline-block;margin:2rem;\"><a href=\"https://www.youtube.com/watch?v=3zCp241329c\"><img alt=\"Beekeeping in remote Africa: building domestic bee hives | ETHIOPIA\" src=\"https://img.youtube.com/vi/3zCp241329c/maxresdefault.jpg\" width=\"480\" /></a><br /><small>Beekeeping in remote Africa: building domestic bee hives | ETHIOPIA</small></div><div id=\"figure-block\" style=\"display: inline-block;margin:2rem;\"><a href=\"https://www.youtube.com/watch?v=KXVJjP1YyZY\"><img alt=\"African Resistance, Sovereignty & Self-Defense.\" src=\"https://img.youtube.com/vi/KXVJjP1YyZY/hqdefault.jpg\" width=\"480\" /></a><br /><small>African Resistance, Sovereignty & Self-Defense.</small></div>"
      ],
      "text/plain": [
       "<IPython.core.display.HTML object>"
      ]
     },
     "execution_count": 4,
     "metadata": {},
     "output_type": "execute_result"
    }
   ],
   "source": [
    "rx.display_videos([\n",
    "    ('3zCp241329c', 'Beekeeping in remote Africa: building domestic bee hives | ETHIOPIA'),\n",
    "    ('KXVJjP1YyZY,hqdefault', 'African Resistance, Sovereignty & Self-Defense.'),\n",
    "])"
   ]
  }
 ],
 "metadata": {
  "kernelspec": {
   "display_name": "Python 3",
   "language": "python",
   "name": "python3"
  },
  "language_info": {
   "codemirror_mode": {
    "name": "ipython",
    "version": 3
   },
   "file_extension": ".py",
   "mimetype": "text/x-python",
   "name": "python",
   "nbconvert_exporter": "python",
   "pygments_lexer": "ipython3",
   "version": "3.7.13"
  },
  "vscode": {
   "interpreter": {
    "hash": "2248ed64bdf5fe1d2cc35d4639eff9d9517212412e82087913ac56aa4ab59c78"
   }
  }
 },
 "nbformat": 4,
 "nbformat_minor": 4
}
