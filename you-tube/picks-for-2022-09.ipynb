{
 "cells": [
  {
   "cell_type": "markdown",
   "metadata": {},
   "source": [
    "# YouTube picks: 2022-09"
   ]
  },
  {
   "cell_type": "code",
   "execution_count": 1,
   "metadata": {},
   "outputs": [],
   "source": [
    "import songhay.utilities.ipython as rx"
   ]
  },
  {
   "cell_type": "markdown",
   "metadata": {},
   "source": [
    "## Vandana Shiva, Russel Brand and Monsanto in Ukraine?"
   ]
  },
  {
   "cell_type": "code",
   "execution_count": 2,
   "metadata": {},
   "outputs": [
    {
     "data": {
      "text/html": [
       "<figure style=\"display: inline-block;\"><a href=\"https://www.youtube.com/watch?v=pJzbdcHQ4-A\"><img alt=\"Vandana Shiva: “THIS Is How We Beat The Great Reset”\" src=\"https://img.youtube.com/vi/pJzbdcHQ4-A/maxresdefault.jpg\" width=\"480\" /></a><br /><small>Vandana Shiva: “THIS Is How We Beat The Great Reset”</small></figure>\n",
       "        <iframe\n",
       "            width=\"400\"\n",
       "            height=\"300\"\n",
       "            src=\"https://www.youtube.com/embed/pJzbdcHQ4-A\"\n",
       "            frameborder=\"0\"\n",
       "            allowfullscreen\n",
       "            \n",
       "        ></iframe>\n",
       "        <figure style=\"display: inline-block;\"><a href=\"https://www.youtube.com/watch?v=or7lxEMnokM\"><img alt=\"Pangea - 20210316 - Bill Gates and the philantro-imperialism. Interview with Vandana Shiva (English)\" src=\"https://img.youtube.com/vi/or7lxEMnokM/maxresdefault.jpg\" width=\"480\" /></a><br /><small>Pangea - 20210316 - Bill Gates and the philantro-imperialism. Interview with Vandana Shiva (English)</small></figure>\n",
       "        <iframe\n",
       "            width=\"400\"\n",
       "            height=\"300\"\n",
       "            src=\"https://www.youtube.com/embed/or7lxEMnokM\"\n",
       "            frameborder=\"0\"\n",
       "            allowfullscreen\n",
       "            \n",
       "        ></iframe>\n",
       "        <figure style=\"display: inline-block;\"><a href=\"https://www.youtube.com/watch?v=oMGNVwBsM4E\"><img alt=\"Monsanto Ukraine - a Great Place to Work\" src=\"https://img.youtube.com/vi/oMGNVwBsM4E/maxresdefault.jpg\" width=\"480\" /></a><br /><small>Monsanto Ukraine - a Great Place to Work</small></figure>\n",
       "        <iframe\n",
       "            width=\"400\"\n",
       "            height=\"300\"\n",
       "            src=\"https://www.youtube.com/embed/oMGNVwBsM4E\"\n",
       "            frameborder=\"0\"\n",
       "            allowfullscreen\n",
       "            \n",
       "        ></iframe>\n",
       "        <figure style=\"display: inline-block;\"><a href=\"https://www.youtube.com/watch?v=KUJr2c1tA9s\"><img alt=\"Why does the world need grain to be shipped from Ukraine? - BBC News\" src=\"https://img.youtube.com/vi/KUJr2c1tA9s/maxresdefault.jpg\" width=\"480\" /></a><br /><small>Why does the world need grain to be shipped from Ukraine? - BBC News</small></figure>\n",
       "        <iframe\n",
       "            width=\"400\"\n",
       "            height=\"300\"\n",
       "            src=\"https://www.youtube.com/embed/KUJr2c1tA9s\"\n",
       "            frameborder=\"0\"\n",
       "            allowfullscreen\n",
       "            \n",
       "        ></iframe>\n",
       "        <figure style=\"display: inline-block;\"><a href=\"https://www.youtube.com/watch?v=C_0XEIFGK5o\"><img alt=\"The Big Four - Accounting firms under scrutiny | DW Documentary\" src=\"https://img.youtube.com/vi/C_0XEIFGK5o/maxresdefault.jpg\" width=\"480\" /></a><br /><small>The Big Four - Accounting firms under scrutiny | DW Documentary</small></figure>\n",
       "        <iframe\n",
       "            width=\"400\"\n",
       "            height=\"300\"\n",
       "            src=\"https://www.youtube.com/embed/C_0XEIFGK5o\"\n",
       "            frameborder=\"0\"\n",
       "            allowfullscreen\n",
       "            \n",
       "        ></iframe>\n",
       "        "
      ],
      "text/plain": [
       "<IPython.core.display.HTML object>"
      ]
     },
     "execution_count": 2,
     "metadata": {},
     "output_type": "execute_result"
    }
   ],
   "source": [
    "rx.display_videos([\n",
    "    ('pJzbdcHQ4-A', 'Vandana Shiva: “THIS Is How We Beat The Great Reset”'),\n",
    "    ('or7lxEMnokM', 'Pangea - 20210316 - Bill Gates and the philantro-imperialism. Interview with Vandana Shiva (English)'),\n",
    "    ('oMGNVwBsM4E', 'Monsanto Ukraine - a Great Place to Work'),\n",
    "    ('KUJr2c1tA9s', 'Why does the world need grain to be shipped from Ukraine? - BBC News'),\n",
    "    ('C_0XEIFGK5o', 'The Big Four - Accounting firms under scrutiny | DW Documentary'),\n",
    "])"
   ]
  },
  {
   "cell_type": "markdown",
   "metadata": {},
   "source": [
    "## a spherical, wooden atrium, _bakfiets_ and EV tax credit changes"
   ]
  },
  {
   "cell_type": "code",
   "execution_count": 4,
   "metadata": {},
   "outputs": [
    {
     "data": {
      "text/html": [
       "<figure style=\"display: inline-block;\"><a href=\"https://www.youtube.com/watch?v=SOvbFHUpf4k\"><img alt=\"Inside An Experimental Off-Grid Modern Cabin | Unique Spaces | Architectural Digest\" src=\"https://img.youtube.com/vi/SOvbFHUpf4k/maxresdefault.jpg\" width=\"480\" /></a><br /><small>Inside An Experimental Off-Grid Modern Cabin | Unique Spaces | Architectural Digest</small></figure>\n",
       "        <iframe\n",
       "            width=\"400\"\n",
       "            height=\"300\"\n",
       "            src=\"https://www.youtube.com/embed/SOvbFHUpf4k\"\n",
       "            frameborder=\"0\"\n",
       "            allowfullscreen\n",
       "            \n",
       "        ></iframe>\n",
       "        <figure style=\"display: inline-block;\"><a href=\"https://www.youtube.com/watch?v=rQhzEnWCgHA\"><img alt=\"The Car-Replacement Bicycle (the bakfiets)\" src=\"https://img.youtube.com/vi/rQhzEnWCgHA/maxresdefault.jpg\" width=\"480\" /></a><br /><small>The Car-Replacement Bicycle (the bakfiets)</small></figure>\n",
       "        <iframe\n",
       "            width=\"400\"\n",
       "            height=\"300\"\n",
       "            src=\"https://www.youtube.com/embed/rQhzEnWCgHA\"\n",
       "            frameborder=\"0\"\n",
       "            allowfullscreen\n",
       "            \n",
       "        ></iframe>\n",
       "        <figure style=\"display: inline-block;\"><a href=\"https://www.youtube.com/watch?v=2VL7mFSRnqw\"><img alt=\"The 2022 EV Tax Credit Changes Are A Big Deal - The Good, The Bad, The Ugly Explained\" src=\"https://img.youtube.com/vi/2VL7mFSRnqw/maxresdefault.jpg\" width=\"480\" /></a><br /><small>The 2022 EV Tax Credit Changes Are A Big Deal - The Good, The Bad, The Ugly Explained</small></figure>\n",
       "        <iframe\n",
       "            width=\"400\"\n",
       "            height=\"300\"\n",
       "            src=\"https://www.youtube.com/embed/2VL7mFSRnqw\"\n",
       "            frameborder=\"0\"\n",
       "            allowfullscreen\n",
       "            \n",
       "        ></iframe>\n",
       "        "
      ],
      "text/plain": [
       "<IPython.core.display.HTML object>"
      ]
     },
     "execution_count": 4,
     "metadata": {},
     "output_type": "execute_result"
    }
   ],
   "source": [
    "rx.display_videos([\n",
    "    ('SOvbFHUpf4k', 'Inside An Experimental Off-Grid Modern Cabin | Unique Spaces | Architectural Digest'),\n",
    "    ('rQhzEnWCgHA', 'The Car-Replacement Bicycle (the bakfiets)'),\n",
    "    ('2VL7mFSRnqw', 'The 2022 EV Tax Credit Changes Are A Big Deal - The Good, The Bad, The Ugly Explained')\n",
    "])"
   ]
  },
  {
   "cell_type": "markdown",
   "metadata": {},
   "source": [
    "## John Carmack and, yes, I used to work for the “Bond King”"
   ]
  },
  {
   "cell_type": "code",
   "execution_count": 5,
   "metadata": {},
   "outputs": [
    {
     "data": {
      "text/html": [
       "<figure style=\"display: inline-block;\"><a href=\"https://www.youtube.com/watch?v=I845O57ZSy4\"><img alt=\"John Carmack: Doom, Quake, VR, AGI, Programming, Video Games, and Rockets | Lex Fridman Podcast #309\" src=\"https://img.youtube.com/vi/I845O57ZSy4/maxresdefault.jpg\" width=\"480\" /></a><br /><small>John Carmack: Doom, Quake, VR, AGI, Programming, Video Games, and Rockets | Lex Fridman Podcast #309</small></figure>\n",
       "        <iframe\n",
       "            width=\"400\"\n",
       "            height=\"300\"\n",
       "            src=\"https://www.youtube.com/embed/I845O57ZSy4\"\n",
       "            frameborder=\"0\"\n",
       "            allowfullscreen\n",
       "            \n",
       "        ></iframe>\n",
       "        <figure style=\"display: inline-block;\"><a href=\"https://www.youtube.com/watch?v=XkICNQ6EZQg\"><img alt=\"Understand the Bond King (guest: Mary Childs) - Market Huddle Ep.193\" src=\"https://img.youtube.com/vi/XkICNQ6EZQg/maxresdefault.jpg\" width=\"480\" /></a><br /><small>Understand the Bond King (guest: Mary Childs) - Market Huddle Ep.193</small></figure>\n",
       "        <iframe\n",
       "            width=\"400\"\n",
       "            height=\"300\"\n",
       "            src=\"https://www.youtube.com/embed/XkICNQ6EZQg\"\n",
       "            frameborder=\"0\"\n",
       "            allowfullscreen\n",
       "            \n",
       "        ></iframe>\n",
       "        "
      ],
      "text/plain": [
       "<IPython.core.display.HTML object>"
      ]
     },
     "execution_count": 5,
     "metadata": {},
     "output_type": "execute_result"
    }
   ],
   "source": [
    "rx.display_videos([\n",
    "    ('I845O57ZSy4', 'John Carmack: Doom, Quake, VR, AGI, Programming, Video Games, and Rockets | Lex Fridman Podcast #309'),\n",
    "    ('XkICNQ6EZQg', 'Understand the Bond King (guest: Mary Childs) - Market Huddle Ep.193'),\n",
    "])"
   ]
  },
  {
   "cell_type": "markdown",
   "metadata": {},
   "source": [
    "## eGPUs and “monster” tiny PCs"
   ]
  },
  {
   "cell_type": "code",
   "execution_count": 6,
   "metadata": {},
   "outputs": [
    {
     "data": {
      "text/html": [
       "<figure style=\"display: inline-block;\"><a href=\"https://www.youtube.com/watch?v=o4w-ewSTWR4\"><img alt=\"It LOOKS like a modem... but its actually a Monster PC!\" src=\"https://img.youtube.com/vi/o4w-ewSTWR4/maxresdefault.jpg\" width=\"480\" /></a><br /><small>It LOOKS like a modem... but its actually a Monster PC!</small></figure>\n",
       "        <iframe\n",
       "            width=\"400\"\n",
       "            height=\"300\"\n",
       "            src=\"https://www.youtube.com/embed/o4w-ewSTWR4\"\n",
       "            frameborder=\"0\"\n",
       "            allowfullscreen\n",
       "            \n",
       "        ></iframe>\n",
       "        <figure style=\"display: inline-block;\"><a href=\"https://www.youtube.com/watch?v=3QjmJrjyVLg\"><img alt=\"This was easier than I expected it to be! Super powerful mini pc\" src=\"https://img.youtube.com/vi/3QjmJrjyVLg/maxresdefault.jpg\" width=\"480\" /></a><br /><small>This was easier than I expected it to be! Super powerful mini pc</small></figure>\n",
       "        <iframe\n",
       "            width=\"400\"\n",
       "            height=\"300\"\n",
       "            src=\"https://www.youtube.com/embed/3QjmJrjyVLg\"\n",
       "            frameborder=\"0\"\n",
       "            allowfullscreen\n",
       "            \n",
       "        ></iframe>\n",
       "        <figure style=\"display: inline-block;\"><a href=\"https://www.youtube.com/watch?v=0seHy0C62GI\"><img alt=\"NexStar DX USB 3.0 External Enclosure for Optical Drives!\" src=\"https://img.youtube.com/vi/0seHy0C62GI/maxresdefault.jpg\" width=\"480\" /></a><br /><small>NexStar DX USB 3.0 External Enclosure for Optical Drives!</small></figure>\n",
       "        <iframe\n",
       "            width=\"400\"\n",
       "            height=\"300\"\n",
       "            src=\"https://www.youtube.com/embed/0seHy0C62GI\"\n",
       "            frameborder=\"0\"\n",
       "            allowfullscreen\n",
       "            \n",
       "        ></iframe>\n",
       "        "
      ],
      "text/plain": [
       "<IPython.core.display.HTML object>"
      ]
     },
     "execution_count": 6,
     "metadata": {},
     "output_type": "execute_result"
    }
   ],
   "source": [
    "rx.display_videos([\n",
    "    ('o4w-ewSTWR4', 'It LOOKS like a modem... but its actually a Monster PC!'),\n",
    "    ('3QjmJrjyVLg', 'This was easier than I expected it to be! Super powerful mini pc'),\n",
    "    ('0seHy0C62GI', 'NexStar DX USB 3.0 External Enclosure for Optical Drives!')\n",
    "])"
   ]
  }
 ],
 "metadata": {
  "kernelspec": {
   "display_name": "Python 3.7.13 ('base')",
   "language": "python",
   "name": "python3"
  },
  "language_info": {
   "codemirror_mode": {
    "name": "ipython",
    "version": 3
   },
   "file_extension": ".py",
   "mimetype": "text/x-python",
   "name": "python",
   "nbconvert_exporter": "python",
   "pygments_lexer": "ipython3",
   "version": "3.7.13"
  },
  "orig_nbformat": 4,
  "vscode": {
   "interpreter": {
    "hash": "2248ed64bdf5fe1d2cc35d4639eff9d9517212412e82087913ac56aa4ab59c78"
   }
  }
 },
 "nbformat": 4,
 "nbformat_minor": 2
}
