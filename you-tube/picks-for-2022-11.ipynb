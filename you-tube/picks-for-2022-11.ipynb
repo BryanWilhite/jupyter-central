{
 "cells": [
  {
   "cell_type": "markdown",
   "metadata": {},
   "source": [
    "# YouTube picks: 2022-11"
   ]
  },
  {
   "cell_type": "code",
   "execution_count": 1,
   "metadata": {},
   "outputs": [],
   "source": [
    "import songhay.utilities.ipython as rx"
   ]
  },
  {
   "cell_type": "markdown",
   "metadata": {},
   "source": [
    "## Blender rollup"
   ]
  },
  {
   "cell_type": "code",
   "execution_count": 7,
   "metadata": {},
   "outputs": [
    {
     "data": {
      "text/html": [
       "<figure style=\"display: inline-block;\"><a href=\"https://www.youtube.com/watch?v=y2D7MwaeFq0\"><img alt=\"How to Animate Boiling Water in Blender (With Bubbling Effect)\" src=\"https://img.youtube.com/vi/y2D7MwaeFq0/maxresdefault.jpg\" width=\"480\" /></a><br /><small>How to Animate Boiling Water in Blender (With Bubbling Effect)</small></figure>\n",
       "        <iframe\n",
       "            width=\"400\"\n",
       "            height=\"300\"\n",
       "            src=\"https://www.youtube.com/embed/y2D7MwaeFq0\"\n",
       "            frameborder=\"0\"\n",
       "            allowfullscreen\n",
       "            \n",
       "        ></iframe>\n",
       "        <figure style=\"display: inline-block;\"><a href=\"https://www.youtube.com/watch?v=O1em_ijMvUk\"><img alt=\"Folding Box Packaging Animation in Blender [Full Process]\" src=\"https://img.youtube.com/vi/O1em_ijMvUk/maxresdefault.jpg\" width=\"480\" /></a><br /><small>Folding Box Packaging Animation in Blender [Full Process]</small></figure>\n",
       "        <iframe\n",
       "            width=\"400\"\n",
       "            height=\"300\"\n",
       "            src=\"https://www.youtube.com/embed/O1em_ijMvUk\"\n",
       "            frameborder=\"0\"\n",
       "            allowfullscreen\n",
       "            \n",
       "        ></iframe>\n",
       "        <figure style=\"display: inline-block;\"><a href=\"https://www.youtube.com/watch?v=lIbBhyJodZY\"><img alt=\"Creating animations with point clouds\" src=\"https://img.youtube.com/vi/lIbBhyJodZY/maxresdefault.jpg\" width=\"480\" /></a><br /><small>Creating animations with point clouds</small></figure>\n",
       "        <iframe\n",
       "            width=\"400\"\n",
       "            height=\"300\"\n",
       "            src=\"https://www.youtube.com/embed/lIbBhyJodZY\"\n",
       "            frameborder=\"0\"\n",
       "            allowfullscreen\n",
       "            \n",
       "        ></iframe>\n",
       "        <figure style=\"display: inline-block;\"><a href=\"https://www.youtube.com/watch?v=idcFMhoSdIc\"><img alt=\"All 54 Modifiers in Blender Explained in 10 Minutes\" src=\"https://img.youtube.com/vi/idcFMhoSdIc/maxresdefault.jpg\" width=\"480\" /></a><br /><small>All 54 Modifiers in Blender Explained in 10 Minutes</small></figure>\n",
       "        <iframe\n",
       "            width=\"400\"\n",
       "            height=\"300\"\n",
       "            src=\"https://www.youtube.com/embed/idcFMhoSdIc\"\n",
       "            frameborder=\"0\"\n",
       "            allowfullscreen\n",
       "            \n",
       "        ></iframe>\n",
       "        <figure style=\"display: inline-block;\"><a href=\"https://www.youtube.com/watch?v=nsw3pCuA_9s\"><img alt=\"Why the Blender Conference blew my mind!\" src=\"https://img.youtube.com/vi/nsw3pCuA_9s/maxresdefault.jpg\" width=\"480\" /></a><br /><small>Why the Blender Conference blew my mind!</small></figure>\n",
       "        <iframe\n",
       "            width=\"400\"\n",
       "            height=\"300\"\n",
       "            src=\"https://www.youtube.com/embed/nsw3pCuA_9s\"\n",
       "            frameborder=\"0\"\n",
       "            allowfullscreen\n",
       "            \n",
       "        ></iframe>\n",
       "        "
      ],
      "text/plain": [
       "<IPython.core.display.HTML object>"
      ]
     },
     "execution_count": 7,
     "metadata": {},
     "output_type": "execute_result"
    }
   ],
   "source": [
    "rx.display_videos([\n",
    "    ('y2D7MwaeFq0', 'How to Animate Boiling Water in Blender (With Bubbling Effect)'),\n",
    "    ('O1em_ijMvUk', 'Folding Box Packaging Animation in Blender [Full Process]'),\n",
    "    ('lIbBhyJodZY', 'Creating animations with point clouds'),\n",
    "    ('idcFMhoSdIc', 'All 54 Modifiers in Blender Explained in 10 Minutes'),\n",
    "    ('nsw3pCuA_9s', 'Why the Blender Conference blew my mind!'),\n",
    "])"
   ]
  },
  {
   "cell_type": "markdown",
   "metadata": {},
   "source": [
    "## finance rollup"
   ]
  },
  {
   "cell_type": "code",
   "execution_count": 8,
   "metadata": {},
   "outputs": [
    {
     "data": {
      "text/html": [
       "<figure style=\"display: inline-block;\"><a href=\"https://www.youtube.com/watch?v=pnrAxfzHElo\"><img alt=\"Why The Gulf States Need To Keep Building Big Dumb Mega Projects | Economics Explained\" src=\"https://img.youtube.com/vi/pnrAxfzHElo/maxresdefault.jpg\" width=\"480\" /></a><br /><small>Why The Gulf States Need To Keep Building Big Dumb Mega Projects | Economics Explained</small></figure>\n",
       "        <iframe\n",
       "            width=\"400\"\n",
       "            height=\"300\"\n",
       "            src=\"https://www.youtube.com/embed/pnrAxfzHElo\"\n",
       "            frameborder=\"0\"\n",
       "            allowfullscreen\n",
       "            \n",
       "        ></iframe>\n",
       "        <figure style=\"display: inline-block;\"><a href=\"https://www.youtube.com/watch?v=-JAFb2bYJSs\"><img alt=\"China destroyed its tech giants. Here’s why.\" src=\"https://img.youtube.com/vi/-JAFb2bYJSs/maxresdefault.jpg\" width=\"480\" /></a><br /><small>China destroyed its tech giants. Here’s why.</small></figure>\n",
       "        <iframe\n",
       "            width=\"400\"\n",
       "            height=\"300\"\n",
       "            src=\"https://www.youtube.com/embed/-JAFb2bYJSs\"\n",
       "            frameborder=\"0\"\n",
       "            allowfullscreen\n",
       "            \n",
       "        ></iframe>\n",
       "        <figure style=\"display: inline-block;\"><a href=\"https://www.youtube.com/watch?v=uACOEeZeNN8\"><img alt=\"BUY THE DIP Strategy - How to Time your Entry in Trading\" src=\"https://img.youtube.com/vi/uACOEeZeNN8/maxresdefault.jpg\" width=\"480\" /></a><br /><small>BUY THE DIP Strategy - How to Time your Entry in Trading</small></figure>\n",
       "        <iframe\n",
       "            width=\"400\"\n",
       "            height=\"300\"\n",
       "            src=\"https://www.youtube.com/embed/uACOEeZeNN8\"\n",
       "            frameborder=\"0\"\n",
       "            allowfullscreen\n",
       "            \n",
       "        ></iframe>\n",
       "        <figure style=\"display: inline-block;\"><a href=\"https://www.youtube.com/watch?v=cD3o6tqP9pI\"><img alt=\"A new kind of global recession: Why this time is different | Business Beyond\" src=\"https://img.youtube.com/vi/cD3o6tqP9pI/maxresdefault.jpg\" width=\"480\" /></a><br /><small>A new kind of global recession: Why this time is different | Business Beyond</small></figure>\n",
       "        <iframe\n",
       "            width=\"400\"\n",
       "            height=\"300\"\n",
       "            src=\"https://www.youtube.com/embed/cD3o6tqP9pI\"\n",
       "            frameborder=\"0\"\n",
       "            allowfullscreen\n",
       "            \n",
       "        ></iframe>\n",
       "        "
      ],
      "text/plain": [
       "<IPython.core.display.HTML object>"
      ]
     },
     "execution_count": 8,
     "metadata": {},
     "output_type": "execute_result"
    }
   ],
   "source": [
    "rx.display_videos([\n",
    "    ('pnrAxfzHElo', 'Why The Gulf States Need To Keep Building Big Dumb Mega Projects | Economics Explained'),\n",
    "    ('-JAFb2bYJSs', 'China destroyed its tech giants. Here’s why.'),\n",
    "    ('uACOEeZeNN8', 'BUY THE DIP Strategy - How to Time your Entry in Trading'),\n",
    "    ('cD3o6tqP9pI', 'A new kind of global recession: Why this time is different | Business Beyond'),\n",
    "])"
   ]
  },
  {
   "cell_type": "markdown",
   "metadata": {},
   "source": [
    "# culture rollup"
   ]
  },
  {
   "cell_type": "code",
   "execution_count": 12,
   "metadata": {},
   "outputs": [
    {
     "data": {
      "text/html": [
       "<figure style=\"display: inline-block;\"><a href=\"https://www.youtube.com/watch?v=BXX2HWsw4DI\"><img alt=\"The Anatomy of a Practice: Max Beckmann - A Video Essay\" src=\"https://img.youtube.com/vi/BXX2HWsw4DI/maxresdefault.jpg\" width=\"480\" /></a><br /><small>The Anatomy of a Practice: Max Beckmann - A Video Essay</small></figure>\n",
       "        <iframe\n",
       "            width=\"400\"\n",
       "            height=\"300\"\n",
       "            src=\"https://www.youtube.com/embed/BXX2HWsw4DI\"\n",
       "            frameborder=\"0\"\n",
       "            allowfullscreen\n",
       "            \n",
       "        ></iframe>\n",
       "        <figure style=\"display: inline-block;\"><a href=\"https://www.youtube.com/watch?v=Uw0RgkiVNqA\"><img alt=\"The Story of Marina Abramović & Ulay (interview)\" src=\"https://img.youtube.com/vi/Uw0RgkiVNqA/maxresdefault.jpg\" width=\"480\" /></a><br /><small>The Story of Marina Abramović & Ulay (interview)</small></figure>\n",
       "        <iframe\n",
       "            width=\"400\"\n",
       "            height=\"300\"\n",
       "            src=\"https://www.youtube.com/embed/Uw0RgkiVNqA\"\n",
       "            frameborder=\"0\"\n",
       "            allowfullscreen\n",
       "            \n",
       "        ></iframe>\n",
       "        <figure style=\"display: inline-block;\"><a href=\"https://www.youtube.com/watch?v=-07ZNkvqjDs\"><img alt=\"The Lost Cities and Amazing Heritage of Kenya\" src=\"https://img.youtube.com/vi/-07ZNkvqjDs/maxresdefault.jpg\" width=\"480\" /></a><br /><small>The Lost Cities and Amazing Heritage of Kenya</small></figure>\n",
       "        <iframe\n",
       "            width=\"400\"\n",
       "            height=\"300\"\n",
       "            src=\"https://www.youtube.com/embed/-07ZNkvqjDs\"\n",
       "            frameborder=\"0\"\n",
       "            allowfullscreen\n",
       "            \n",
       "        ></iframe>\n",
       "        <figure style=\"display: inline-block;\"><a href=\"https://www.youtube.com/watch?v=iCgGoYGjeds\"><img alt=\"How the Mongols Lost China - Medieval History Animated DOCUMENTARY\" src=\"https://img.youtube.com/vi/iCgGoYGjeds/maxresdefault.jpg\" width=\"480\" /></a><br /><small>How the Mongols Lost China - Medieval History Animated DOCUMENTARY</small></figure>\n",
       "        <iframe\n",
       "            width=\"400\"\n",
       "            height=\"300\"\n",
       "            src=\"https://www.youtube.com/embed/iCgGoYGjeds\"\n",
       "            frameborder=\"0\"\n",
       "            allowfullscreen\n",
       "            \n",
       "        ></iframe>\n",
       "        "
      ],
      "text/plain": [
       "<IPython.core.display.HTML object>"
      ]
     },
     "execution_count": 12,
     "metadata": {},
     "output_type": "execute_result"
    }
   ],
   "source": [
    "rx.display_videos([\n",
    "    ('BXX2HWsw4DI', 'The Anatomy of a Practice: Max Beckmann - A Video Essay'),\n",
    "    ('Uw0RgkiVNqA', 'The Story of Marina Abramović & Ulay (interview)'),\n",
    "    ('-07ZNkvqjDs', 'The Lost Cities and Amazing Heritage of Kenya'),\n",
    "    ('iCgGoYGjeds', 'How the Mongols Lost China - Medieval History Animated DOCUMENTARY'),\n",
    "])"
   ]
  },
  {
   "cell_type": "markdown",
   "metadata": {},
   "source": [
    "## tech and engineering rollup"
   ]
  },
  {
   "cell_type": "code",
   "execution_count": 11,
   "metadata": {},
   "outputs": [
    {
     "data": {
      "text/html": [
       "<figure style=\"display: inline-block;\"><a href=\"https://www.youtube.com/watch?v=RvnufWZIk_I\"><img alt=\"How Hidden Engineering Keeps You Alive in Apartment Fires\" src=\"https://img.youtube.com/vi/RvnufWZIk_I/maxresdefault.jpg\" width=\"480\" /></a><br /><small>How Hidden Engineering Keeps You Alive in Apartment Fires</small></figure>\n",
       "        <iframe\n",
       "            width=\"400\"\n",
       "            height=\"300\"\n",
       "            src=\"https://www.youtube.com/embed/RvnufWZIk_I\"\n",
       "            frameborder=\"0\"\n",
       "            allowfullscreen\n",
       "            \n",
       "        ></iframe>\n",
       "        <figure style=\"display: inline-block;\"><a href=\"https://www.youtube.com/watch?v=_uTZWaJU6ho\"><img alt=\"Japanese RED Hydrogen Breakthrough Will DESTROY Oil & Gas!\" src=\"https://img.youtube.com/vi/_uTZWaJU6ho/maxresdefault.jpg\" width=\"480\" /></a><br /><small>Japanese RED Hydrogen Breakthrough Will DESTROY Oil & Gas!</small></figure>\n",
       "        <iframe\n",
       "            width=\"400\"\n",
       "            height=\"300\"\n",
       "            src=\"https://www.youtube.com/embed/_uTZWaJU6ho\"\n",
       "            frameborder=\"0\"\n",
       "            allowfullscreen\n",
       "            \n",
       "        ></iframe>\n",
       "        "
      ],
      "text/plain": [
       "<IPython.core.display.HTML object>"
      ]
     },
     "execution_count": 11,
     "metadata": {},
     "output_type": "execute_result"
    }
   ],
   "source": [
    "rx.display_videos([\n",
    "    ('RvnufWZIk_I', 'How Hidden Engineering Keeps You Alive in Apartment Fires'),\n",
    "    ('_uTZWaJU6ho', 'Japanese RED Hydrogen Breakthrough Will DESTROY Oil & Gas!'),\n",
    "])"
   ]
  },
  {
   "cell_type": "markdown",
   "metadata": {},
   "source": [
    "## text-to-speech rollup"
   ]
  },
  {
   "cell_type": "code",
   "execution_count": 13,
   "metadata": {},
   "outputs": [
    {
     "data": {
      "text/html": [
       "<figure style=\"display: inline-block;\"><a href=\"https://www.youtube.com/watch?v=to_I6zqwrug\"><img alt=\"Talkia vs Speechelo - Text to Speech Review Comparison - Which is Best? 🤷‍♂️\" src=\"https://img.youtube.com/vi/to_I6zqwrug/maxresdefault.jpg\" width=\"480\" /></a><br /><small>Talkia vs Speechelo - Text to Speech Review Comparison - Which is Best? 🤷‍♂️</small></figure>\n",
       "        <iframe\n",
       "            width=\"400\"\n",
       "            height=\"300\"\n",
       "            src=\"https://www.youtube.com/embed/to_I6zqwrug\"\n",
       "            frameborder=\"0\"\n",
       "            allowfullscreen\n",
       "            \n",
       "        ></iframe>\n",
       "        <figure style=\"display: inline-block;\"><a href=\"https://www.youtube.com/watch?v=Ylvv-hKuKIo\"><img alt=\"Best Text to Speech Comparison! (WellSaid Labs Vs Murf)\" src=\"https://img.youtube.com/vi/Ylvv-hKuKIo/maxresdefault.jpg\" width=\"480\" /></a><br /><small>Best Text to Speech Comparison! (WellSaid Labs Vs Murf)</small></figure>\n",
       "        <iframe\n",
       "            width=\"400\"\n",
       "            height=\"300\"\n",
       "            src=\"https://www.youtube.com/embed/Ylvv-hKuKIo\"\n",
       "            frameborder=\"0\"\n",
       "            allowfullscreen\n",
       "            \n",
       "        ></iframe>\n",
       "        <figure style=\"display: inline-block;\"><a href=\"https://www.youtube.com/watch?v=8k8S5ruFAUs\"><img alt=\"AI Text to Speech in 10 Minutes with Python and Watson TTS\" src=\"https://img.youtube.com/vi/8k8S5ruFAUs/maxresdefault.jpg\" width=\"480\" /></a><br /><small>AI Text to Speech in 10 Minutes with Python and Watson TTS</small></figure>\n",
       "        <iframe\n",
       "            width=\"400\"\n",
       "            height=\"300\"\n",
       "            src=\"https://www.youtube.com/embed/8k8S5ruFAUs\"\n",
       "            frameborder=\"0\"\n",
       "            allowfullscreen\n",
       "            \n",
       "        ></iframe>\n",
       "        <figure style=\"display: inline-block;\"><a href=\"https://www.youtube.com/watch?v=ZvNQ0Dw99VE\"><img alt=\"AI Voice over Text to Speech is WAY TOO GOOD - Overdub AI by Descript\" src=\"https://img.youtube.com/vi/ZvNQ0Dw99VE/maxresdefault.jpg\" width=\"480\" /></a><br /><small>AI Voice over Text to Speech is WAY TOO GOOD - Overdub AI by Descript</small></figure>\n",
       "        <iframe\n",
       "            width=\"400\"\n",
       "            height=\"300\"\n",
       "            src=\"https://www.youtube.com/embed/ZvNQ0Dw99VE\"\n",
       "            frameborder=\"0\"\n",
       "            allowfullscreen\n",
       "            \n",
       "        ></iframe>\n",
       "        <figure style=\"display: inline-block;\"><a href=\"https://www.youtube.com/watch?v=j93WJcp7Ct4\"><img alt=\"⭐ Best Text to Speech Software 2022 - Microsot Azure, Amazon Polly, Google Wavenet, IBM Watson\" src=\"https://img.youtube.com/vi/j93WJcp7Ct4/maxresdefault.jpg\" width=\"480\" /></a><br /><small>⭐ Best Text to Speech Software 2022 - Microsot Azure, Amazon Polly, Google Wavenet, IBM Watson</small></figure>\n",
       "        <iframe\n",
       "            width=\"400\"\n",
       "            height=\"300\"\n",
       "            src=\"https://www.youtube.com/embed/j93WJcp7Ct4\"\n",
       "            frameborder=\"0\"\n",
       "            allowfullscreen\n",
       "            \n",
       "        ></iframe>\n",
       "        "
      ],
      "text/plain": [
       "<IPython.core.display.HTML object>"
      ]
     },
     "execution_count": 13,
     "metadata": {},
     "output_type": "execute_result"
    }
   ],
   "source": [
    "rx.display_videos([\n",
    "    ('to_I6zqwrug', 'Talkia vs Speechelo - Text to Speech Review Comparison - Which is Best? 🤷‍♂️'),\n",
    "    ('Ylvv-hKuKIo', 'Best Text to Speech Comparison! (WellSaid Labs Vs Murf)'),\n",
    "    ('8k8S5ruFAUs', 'AI Text to Speech in 10 Minutes with Python and Watson TTS'),\n",
    "    ('ZvNQ0Dw99VE', 'AI Voice over Text to Speech is WAY TOO GOOD - Overdub AI by Descript'),\n",
    "    ('j93WJcp7Ct4', '⭐ Best Text to Speech Software 2022 - Microsot Azure, Amazon Polly, Google Wavenet, IBM Watson'),\n",
    "])"
   ]
  }
 ],
 "metadata": {
  "kernelspec": {
   "display_name": "Python 3.7.13 ('base')",
   "language": "python",
   "name": "python3"
  },
  "language_info": {
   "codemirror_mode": {
    "name": "ipython",
    "version": 3
   },
   "file_extension": ".py",
   "mimetype": "text/x-python",
   "name": "python",
   "nbconvert_exporter": "python",
   "pygments_lexer": "ipython3",
   "version": "3.7.13"
  },
  "orig_nbformat": 4,
  "vscode": {
   "interpreter": {
    "hash": "2248ed64bdf5fe1d2cc35d4639eff9d9517212412e82087913ac56aa4ab59c78"
   }
  }
 },
 "nbformat": 4,
 "nbformat_minor": 2
}
