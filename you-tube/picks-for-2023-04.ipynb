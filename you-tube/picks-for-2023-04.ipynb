{
 "cells": [
  {
   "attachments": {},
   "cell_type": "markdown",
   "metadata": {},
   "source": [
    "# YouTube picks: 2023-04"
   ]
  },
  {
   "cell_type": "code",
   "execution_count": 1,
   "metadata": {},
   "outputs": [],
   "source": [
    "import songhay.utilities.ipython as rx"
   ]
  },
  {
   "attachments": {},
   "cell_type": "markdown",
   "metadata": {},
   "source": [
    "# arts picks"
   ]
  },
  {
   "cell_type": "code",
   "execution_count": 2,
   "metadata": {},
   "outputs": [
    {
     "data": {
      "text/html": [
       "<div id=\"figure-block\" style=\"display: inline-block;margin:2rem;\"><a href=\"https://www.youtube.com/watch?v=UajJxkiC474\"><img alt=\"On marriage to Salman Rushdie, making bad choices, and writing it all in a memoir | Padma Lakshmi\" src=\"https://img.youtube.com/vi/UajJxkiC474/maxresdefault.jpg\" width=\"480\" /></a><br /><small>On marriage to Salman Rushdie, making bad choices, and writing it all in a memoir | Padma Lakshmi</small></div><div id=\"figure-block\" style=\"display: inline-block;margin:2rem;\"><a href=\"https://www.youtube.com/watch?v=SjhIlw3Iffs\"><img alt=\"GPT-4 Creator Ilya Sutskever\" src=\"https://img.youtube.com/vi/SjhIlw3Iffs/maxresdefault.jpg\" width=\"480\" /></a><br /><small>GPT-4 Creator Ilya Sutskever</small></div><div id=\"figure-block\" style=\"display: inline-block;margin:2rem;\"><a href=\"https://www.youtube.com/watch?v=6IwSaqjadjs\"><img alt=\"Charles Pettaway Presents \"The Black Mozart\" Joseph Bologne Le Chevalier de Saint-Georges\" src=\"https://img.youtube.com/vi/6IwSaqjadjs/maxresdefault.jpg\" width=\"480\" /></a><br /><small>Charles Pettaway Presents \"The Black Mozart\" Joseph Bologne Le Chevalier de Saint-Georges</small></div><div id=\"figure-block\" style=\"display: inline-block;margin:2rem;\"><a href=\"https://www.youtube.com/watch?v=VjZZHYviWVQ\"><img alt=\"The Guitar Pedals of Jimi Hendrix\" src=\"https://img.youtube.com/vi/VjZZHYviWVQ/maxresdefault.jpg\" width=\"480\" /></a><br /><small>The Guitar Pedals of Jimi Hendrix</small></div><div id=\"figure-block\" style=\"display: inline-block;margin:2rem;\"><a href=\"https://www.youtube.com/watch?v=06pyLmYs-1g\"><img alt=\"How To Memorize Every Major &amp; Minor Chord On Piano\" src=\"https://img.youtube.com/vi/06pyLmYs-1g/maxresdefault.jpg\" width=\"480\" /></a><br /><small>How To Memorize Every Major &amp; Minor Chord On Piano</small></div><div id=\"figure-block\" style=\"display: inline-block;margin:2rem;\"><a href=\"https://www.youtube.com/watch?v=d3NUto7xJ9s\"><img alt=\"How to ReUse a Used Turntable - Walter Kitundu\" src=\"https://img.youtube.com/vi/d3NUto7xJ9s/maxresdefault.jpg\" width=\"480\" /></a><br /><small>How to ReUse a Used Turntable - Walter Kitundu</small></div>"
      ],
      "text/plain": [
       "<IPython.core.display.HTML object>"
      ]
     },
     "execution_count": 2,
     "metadata": {},
     "output_type": "execute_result"
    }
   ],
   "source": [
    "rx.display_videos([\n",
    "    ('UajJxkiC474', 'On marriage to Salman Rushdie, making bad choices, and writing it all in a memoir | Padma Lakshmi'),\n",
    "    ('SjhIlw3Iffs', 'GPT-4 Creator Ilya Sutskever'),\n",
    "    ('6IwSaqjadjs', 'Charles Pettaway Presents \"The Black Mozart\" Joseph Bologne Le Chevalier de Saint-Georges'),\n",
    "    ('VjZZHYviWVQ', 'The Guitar Pedals of Jimi Hendrix'),\n",
    "    ('06pyLmYs-1g', 'How To Memorize Every Major &amp; Minor Chord On Piano'),\n",
    "    ('d3NUto7xJ9s', 'How to ReUse a Used Turntable - Walter Kitundu'),\n",
    "])"
   ]
  },
  {
   "attachments": {},
   "cell_type": "markdown",
   "metadata": {},
   "source": [
    "# North American history picks"
   ]
  },
  {
   "cell_type": "code",
   "execution_count": 3,
   "metadata": {},
   "outputs": [
    {
     "data": {
      "text/html": [
       "<div id=\"figure-block\" style=\"display: inline-block;margin:2rem;\"><a href=\"https://www.youtube.com/watch?v=EykveisE8xQ\"><img alt=\"The Nez Perce last stand | Chief Joseph (Part 1)\" src=\"https://img.youtube.com/vi/EykveisE8xQ/maxresdefault.jpg\" width=\"480\" /></a><br /><small>The Nez Perce last stand | Chief Joseph (Part 1)</small></div><div id=\"figure-block\" style=\"display: inline-block;margin:2rem;\"><a href=\"https://www.youtube.com/watch?v=0qYPYf4RsPk\"><img alt=\"The Nez Perce last stand | Chief Joseph (Part 2)\" src=\"https://img.youtube.com/vi/0qYPYf4RsPk/maxresdefault.jpg\" width=\"480\" /></a><br /><small>The Nez Perce last stand | Chief Joseph (Part 2)</small></div>"
      ],
      "text/plain": [
       "<IPython.core.display.HTML object>"
      ]
     },
     "execution_count": 3,
     "metadata": {},
     "output_type": "execute_result"
    }
   ],
   "source": [
    "rx.display_videos([\n",
    "    ('EykveisE8xQ', 'The Nez Perce last stand | Chief Joseph (Part 1)'),\n",
    "    ('0qYPYf4RsPk', 'The Nez Perce last stand | Chief Joseph (Part 2)'),\n",
    "])"
   ]
  },
  {
   "attachments": {},
   "cell_type": "markdown",
   "metadata": {},
   "source": [
    "# finance picks"
   ]
  },
  {
   "cell_type": "code",
   "execution_count": 4,
   "metadata": {},
   "outputs": [
    {
     "data": {
      "text/html": [
       "<div id=\"figure-block\" style=\"display: inline-block;margin:2rem;\"><a href=\"https://www.youtube.com/watch?v=jIBn3VFkDw8\"><img alt=\"What Is A Treasury Bill 2022 | Top 9 Things You Should Know About T-Bills\" src=\"https://img.youtube.com/vi/jIBn3VFkDw8/maxresdefault.jpg\" width=\"480\" /></a><br /><small>What Is A Treasury Bill 2022 | Top 9 Things You Should Know About T-Bills</small></div><div id=\"figure-block\" style=\"display: inline-block;margin:2rem;\"><a href=\"https://www.youtube.com/watch?v=rFuiC-UNeMc\"><img alt=\"How To Buy Treasury Bills, Treasury Notes, Treasury Bonds | Fidelity & TreasuryDirect (Step By Step)\" src=\"https://img.youtube.com/vi/rFuiC-UNeMc/maxresdefault.jpg\" width=\"480\" /></a><br /><small>How To Buy Treasury Bills, Treasury Notes, Treasury Bonds | Fidelity & TreasuryDirect (Step By Step)</small></div><div id=\"figure-block\" style=\"display: inline-block;margin:2rem;\"><a href=\"https://www.youtube.com/watch?v=__oqvdtLoiE\"><img alt=\"Treasury Bills 2022: How To Build A T-Bill Ladder (Bond Ladder | CD Ladder)\" src=\"https://img.youtube.com/vi/__oqvdtLoiE/maxresdefault.jpg\" width=\"480\" /></a><br /><small>Treasury Bills 2022: How To Build A T-Bill Ladder (Bond Ladder | CD Ladder)</small></div><div id=\"figure-block\" style=\"display: inline-block;margin:2rem;\"><a href=\"https://www.youtube.com/watch?v=i9Qo_k0wgeM\"><img alt=\"How to Buy Treasury Bills | Step-By-Step Tutorial to Earn Over 5% APY!\" src=\"https://img.youtube.com/vi/i9Qo_k0wgeM/maxresdefault.jpg\" width=\"480\" /></a><br /><small>How to Buy Treasury Bills | Step-By-Step Tutorial to Earn Over 5% APY!</small></div>"
      ],
      "text/plain": [
       "<IPython.core.display.HTML object>"
      ]
     },
     "execution_count": 4,
     "metadata": {},
     "output_type": "execute_result"
    }
   ],
   "source": [
    "rx.display_videos([\n",
    "    ('jIBn3VFkDw8', 'What Is A Treasury Bill 2022 | Top 9 Things You Should Know About T-Bills'),\n",
    "    ('rFuiC-UNeMc', 'How To Buy Treasury Bills, Treasury Notes, Treasury Bonds | Fidelity & TreasuryDirect (Step By Step)'),\n",
    "    ('__oqvdtLoiE', 'Treasury Bills 2022: How To Build A T-Bill Ladder (Bond Ladder | CD Ladder)'),\n",
    "    ('i9Qo_k0wgeM', 'How to Buy Treasury Bills | Step-By-Step Tutorial to Earn Over 5% APY!'),\n",
    "])"
   ]
  }
 ],
 "metadata": {
  "kernelspec": {
   "display_name": "Python 3",
   "language": "python",
   "name": "python3"
  },
  "language_info": {
   "codemirror_mode": {
    "name": "ipython",
    "version": 3
   },
   "file_extension": ".py",
   "mimetype": "text/x-python",
   "name": "python",
   "nbconvert_exporter": "python",
   "pygments_lexer": "ipython3",
   "version": "3.7.13"
  },
  "vscode": {
   "interpreter": {
    "hash": "2248ed64bdf5fe1d2cc35d4639eff9d9517212412e82087913ac56aa4ab59c78"
   }
  }
 },
 "nbformat": 4,
 "nbformat_minor": 4
}
