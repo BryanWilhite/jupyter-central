{
    "metadata": {
        "kernelspec": {
            "name": "python3",
            "display_name": "Python 3",
            "language": "python"
        },
        "language_info": {
            "name": "python",
            "version": "3.7.10",
            "mimetype": "text/x-python",
            "codemirror_mode": {
                "name": "ipython",
                "version": 3
            },
            "pygments_lexer": "ipython3",
            "nbconvert_exporter": "python",
            "file_extension": ".py"
        },
        "orig_nbformat": 4
    },
    "nbformat_minor": 2,
    "nbformat": 4,
    "cells": [
        {
            "cell_type": "code",
            "execution_count": 1,
            "source": [
                "import pymssql"
            ],
            "outputs": [
                {
                    "output_type": "error",
                    "ename": "ImportError",
                    "evalue": "libiconv.so.2: cannot open shared object file: No such file or directory",
                    "traceback": [
                        "\u001b[0;31m---------------------------------------------------------------------------\u001b[0m",
                        "\u001b[0;31mImportError\u001b[0m                               Traceback (most recent call last)",
                        "\u001b[0;32m<ipython-input-1-8bfe35d71b99>\u001b[0m in \u001b[0;36m<module>\u001b[0;34m\u001b[0m\n\u001b[0;32m----> 1\u001b[0;31m \u001b[0;32mimport\u001b[0m \u001b[0mpymssql\u001b[0m\u001b[0;34m\u001b[0m\u001b[0;34m\u001b[0m\u001b[0m\n\u001b[0m",
                        "\u001b[0;31mImportError\u001b[0m: libiconv.so.2: cannot open shared object file: No such file or directory"
                    ]
                }
            ],
            "metadata": {
                "azdata_cell_guid": "52c58cdc-57c4-41a6-9d08-2874d285edcd"
            }
        },
        {
            "cell_type": "code",
            "execution_count": 1,
            "source": [
                "pwd = input(\"Password:\")"
            ],
            "outputs": [],
            "metadata": {
                "azdata_cell_guid": "d909fccd-9983-43a5-9695-46070458c05b"
            }
        },
        {
            "cell_type": "code",
            "execution_count": null,
            "source": [
                "conn = pymssql.connect(\"localhost\", \"SA\", pwd, \"msdb\")\n",
                "cursor = conn.cursor(as_dict=True)\n",
                "\n",
                "cursor.execute('SELECT * FROM [msdb].[sys].[all_columns] WHERE [name]=%s', 'id')\n",
                "for row in cursor:\n",
                "    print(\"ID=%d, Name=%s\" % (row['id'], row['name']))\n",
                "\n",
                "conn.close()"
            ],
            "outputs": [],
            "metadata": {
                "azdata_cell_guid": "748d1c4e-8426-451e-aaff-b681da37792a"
            }
        }
    ]
}