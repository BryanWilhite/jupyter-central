{
 "cells": [
  {
   "cell_type": "code",
   "execution_count": 1,
   "source": [
    "import pyodbc"
   ],
   "outputs": [],
   "metadata": {}
  },
  {
   "cell_type": "code",
   "execution_count": null,
   "source": [
    "pwd = input(\"Password:\")"
   ],
   "outputs": [],
   "metadata": {}
  },
  {
   "cell_type": "code",
   "execution_count": null,
   "source": [
    "conn = pyodbc.connect('Driver={SQL Server};'\n",
    "                      'Server=localhost;'\n",
    "                      'Database=msdb;'\n",
    "                      'UID=SA;'\n",
    "                      'PWD=' + pwd)\n",
    "cursor = conn.cursor(as_dict=True)\n",
    "\n",
    "cursor.execute('SELECT * FROM [msdb].[sys].[all_columns] WHERE [name]=%s', 'id')\n",
    "for row in cursor:\n",
    "    print(\"ID=%d, Name=%s\" % (row['id'], row['name']))\n",
    "\n",
    "conn.close()"
   ],
   "outputs": [],
   "metadata": {}
  }
 ],
 "metadata": {
  "orig_nbformat": 4,
  "language_info": {
   "name": "python"
  }
 },
 "nbformat": 4,
 "nbformat_minor": 2
}