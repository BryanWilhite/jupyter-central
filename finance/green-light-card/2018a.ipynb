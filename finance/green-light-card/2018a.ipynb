{
 "cells": [
  {
   "cell_type": "markdown",
   "metadata": {},
   "source": [
    "# 2017–2018 Average-Daily-Balance Calculations\r\n",
    "\r\n",
    "This notebook documents months 11 through 12 for 2017 and month 1, 2018."
   ]
  },
  {
   "cell_type": "code",
   "execution_count": 1,
   "metadata": {},
   "outputs": [],
   "source": [
    "%run ./GreenlightUtility.py\n",
    "\n",
    "averages = []"
   ]
  },
  {
   "source": [
    "## 2017-11"
   ],
   "cell_type": "markdown",
   "metadata": {}
  },
  {
   "cell_type": "code",
   "execution_count": 2,
   "metadata": {},
   "outputs": [
    {
     "output_type": "execute_result",
     "data": {
      "text/plain": "     CsvIndex       Date                Account Num            Description  \\\n0  2017-11-02 2017-11-02  Greenlight Card (KAW)             Transfer Money   \n1  2017-11-02 2017-11-02  Greenlight Card (KAW)             Juanita's Cafe   \n2  2017-11-03 2017-11-03  Greenlight Card (KAW)      **VOID**ELF Cosmetics   \n3  2017-11-07 2017-11-07  Greenlight Card (KAW)           Signature Burger   \n4  2017-11-08 2017-11-08  Greenlight Card (KAW)           Signature Burger   \n5  2017-11-10 2017-11-10  Greenlight Card (KAW)       Arclight Culver City   \n6  2017-11-10 2017-11-10  Greenlight Card (KAW)                   Chipotle   \n7  2017-11-12 2017-11-12  Greenlight Card (KAW)                 Greenlight   \n8  2017-11-28 2017-11-28  Greenlight Card (KAW)                   Govindas   \n\n  Memo                             Category Tag Clr  Amount  \n0       [Schwab High Yield Checking (3810)]       c   50.00  \n1                     Childcare:Furnishings       c   -4.75  \n2                         Childcare:Leisure       c    0.00  \n3                     Childcare:Furnishings       c   -4.37  \n4                     Childcare:Furnishings       c   -4.37  \n5                         Childcare:Leisure       c  -16.50  \n6                     Childcare:Furnishings       c   -9.72  \n7                     Childcare:Furnishings       c   -4.99  \n8                     Childcare:Furnishings       c   -2.25  ",
      "text/html": "<div>\n<style scoped>\n    .dataframe tbody tr th:only-of-type {\n        vertical-align: middle;\n    }\n\n    .dataframe tbody tr th {\n        vertical-align: top;\n    }\n\n    .dataframe thead th {\n        text-align: right;\n    }\n</style>\n<table border=\"1\" class=\"dataframe\">\n  <thead>\n    <tr style=\"text-align: right;\">\n      <th></th>\n      <th>CsvIndex</th>\n      <th>Date</th>\n      <th>Account</th>\n      <th>Num</th>\n      <th>Description</th>\n      <th>Memo</th>\n      <th>Category</th>\n      <th>Tag</th>\n      <th>Clr</th>\n      <th>Amount</th>\n    </tr>\n  </thead>\n  <tbody>\n    <tr>\n      <th>0</th>\n      <td>2017-11-02</td>\n      <td>2017-11-02</td>\n      <td>Greenlight Card (KAW)</td>\n      <td></td>\n      <td>Transfer Money</td>\n      <td></td>\n      <td>[Schwab High Yield Checking (3810)]</td>\n      <td></td>\n      <td>c</td>\n      <td>50.00</td>\n    </tr>\n    <tr>\n      <th>1</th>\n      <td>2017-11-02</td>\n      <td>2017-11-02</td>\n      <td>Greenlight Card (KAW)</td>\n      <td></td>\n      <td>Juanita's Cafe</td>\n      <td></td>\n      <td>Childcare:Furnishings</td>\n      <td></td>\n      <td>c</td>\n      <td>-4.75</td>\n    </tr>\n    <tr>\n      <th>2</th>\n      <td>2017-11-03</td>\n      <td>2017-11-03</td>\n      <td>Greenlight Card (KAW)</td>\n      <td></td>\n      <td>**VOID**ELF Cosmetics</td>\n      <td></td>\n      <td>Childcare:Leisure</td>\n      <td></td>\n      <td>c</td>\n      <td>0.00</td>\n    </tr>\n    <tr>\n      <th>3</th>\n      <td>2017-11-07</td>\n      <td>2017-11-07</td>\n      <td>Greenlight Card (KAW)</td>\n      <td></td>\n      <td>Signature Burger</td>\n      <td></td>\n      <td>Childcare:Furnishings</td>\n      <td></td>\n      <td>c</td>\n      <td>-4.37</td>\n    </tr>\n    <tr>\n      <th>4</th>\n      <td>2017-11-08</td>\n      <td>2017-11-08</td>\n      <td>Greenlight Card (KAW)</td>\n      <td></td>\n      <td>Signature Burger</td>\n      <td></td>\n      <td>Childcare:Furnishings</td>\n      <td></td>\n      <td>c</td>\n      <td>-4.37</td>\n    </tr>\n    <tr>\n      <th>5</th>\n      <td>2017-11-10</td>\n      <td>2017-11-10</td>\n      <td>Greenlight Card (KAW)</td>\n      <td></td>\n      <td>Arclight Culver City</td>\n      <td></td>\n      <td>Childcare:Leisure</td>\n      <td></td>\n      <td>c</td>\n      <td>-16.50</td>\n    </tr>\n    <tr>\n      <th>6</th>\n      <td>2017-11-10</td>\n      <td>2017-11-10</td>\n      <td>Greenlight Card (KAW)</td>\n      <td></td>\n      <td>Chipotle</td>\n      <td></td>\n      <td>Childcare:Furnishings</td>\n      <td></td>\n      <td>c</td>\n      <td>-9.72</td>\n    </tr>\n    <tr>\n      <th>7</th>\n      <td>2017-11-12</td>\n      <td>2017-11-12</td>\n      <td>Greenlight Card (KAW)</td>\n      <td></td>\n      <td>Greenlight</td>\n      <td></td>\n      <td>Childcare:Furnishings</td>\n      <td></td>\n      <td>c</td>\n      <td>-4.99</td>\n    </tr>\n    <tr>\n      <th>8</th>\n      <td>2017-11-28</td>\n      <td>2017-11-28</td>\n      <td>Greenlight Card (KAW)</td>\n      <td></td>\n      <td>Govindas</td>\n      <td></td>\n      <td>Childcare:Furnishings</td>\n      <td></td>\n      <td>c</td>\n      <td>-2.25</td>\n    </tr>\n  </tbody>\n</table>\n</div>"
     },
     "metadata": {},
     "execution_count": 2
    }
   ],
   "source": [
    "starting_balance = 82.59\n",
    "\n",
    "df_csv = GreenlightUtility.get_csv_data_frame('./data/2017-11.csv')\n",
    "df_csv"
   ]
  },
  {
   "cell_type": "code",
   "execution_count": 3,
   "metadata": {},
   "outputs": [
    {
     "output_type": "execute_result",
     "data": {
      "text/plain": "     CsvIndex  Balance\n0  2017-11-02   132.59\n1  2017-11-02   127.84\n2  2017-11-03   127.84\n3  2017-11-07   123.47\n4  2017-11-08   119.10\n5  2017-11-10   102.60\n6  2017-11-10    92.88\n7  2017-11-12    87.89\n8  2017-11-28    85.64",
      "text/html": "<div>\n<style scoped>\n    .dataframe tbody tr th:only-of-type {\n        vertical-align: middle;\n    }\n\n    .dataframe tbody tr th {\n        vertical-align: top;\n    }\n\n    .dataframe thead th {\n        text-align: right;\n    }\n</style>\n<table border=\"1\" class=\"dataframe\">\n  <thead>\n    <tr style=\"text-align: right;\">\n      <th></th>\n      <th>CsvIndex</th>\n      <th>Balance</th>\n    </tr>\n  </thead>\n  <tbody>\n    <tr>\n      <th>0</th>\n      <td>2017-11-02</td>\n      <td>132.59</td>\n    </tr>\n    <tr>\n      <th>1</th>\n      <td>2017-11-02</td>\n      <td>127.84</td>\n    </tr>\n    <tr>\n      <th>2</th>\n      <td>2017-11-03</td>\n      <td>127.84</td>\n    </tr>\n    <tr>\n      <th>3</th>\n      <td>2017-11-07</td>\n      <td>123.47</td>\n    </tr>\n    <tr>\n      <th>4</th>\n      <td>2017-11-08</td>\n      <td>119.10</td>\n    </tr>\n    <tr>\n      <th>5</th>\n      <td>2017-11-10</td>\n      <td>102.60</td>\n    </tr>\n    <tr>\n      <th>6</th>\n      <td>2017-11-10</td>\n      <td>92.88</td>\n    </tr>\n    <tr>\n      <th>7</th>\n      <td>2017-11-12</td>\n      <td>87.89</td>\n    </tr>\n    <tr>\n      <th>8</th>\n      <td>2017-11-28</td>\n      <td>85.64</td>\n    </tr>\n  </tbody>\n</table>\n</div>"
     },
     "metadata": {},
     "execution_count": 3
    }
   ],
   "source": [
    "df_balances = GreenlightUtility.get_balance_data_frame(df_csv, starting_balance)\n",
    "df_balances"
   ]
  },
  {
   "cell_type": "code",
   "execution_count": 4,
   "metadata": {},
   "outputs": [
    {
     "output_type": "execute_result",
     "data": {
      "text/plain": "            Balance\nCsvIndex           \n2017-11-02   127.84\n2017-11-03   127.84\n2017-11-07   123.47\n2017-11-08   119.10\n2017-11-10    92.88\n2017-11-12    87.89\n2017-11-28    85.64",
      "text/html": "<div>\n<style scoped>\n    .dataframe tbody tr th:only-of-type {\n        vertical-align: middle;\n    }\n\n    .dataframe tbody tr th {\n        vertical-align: top;\n    }\n\n    .dataframe thead th {\n        text-align: right;\n    }\n</style>\n<table border=\"1\" class=\"dataframe\">\n  <thead>\n    <tr style=\"text-align: right;\">\n      <th></th>\n      <th>Balance</th>\n    </tr>\n    <tr>\n      <th>CsvIndex</th>\n      <th></th>\n    </tr>\n  </thead>\n  <tbody>\n    <tr>\n      <th>2017-11-02</th>\n      <td>127.84</td>\n    </tr>\n    <tr>\n      <th>2017-11-03</th>\n      <td>127.84</td>\n    </tr>\n    <tr>\n      <th>2017-11-07</th>\n      <td>123.47</td>\n    </tr>\n    <tr>\n      <th>2017-11-08</th>\n      <td>119.10</td>\n    </tr>\n    <tr>\n      <th>2017-11-10</th>\n      <td>92.88</td>\n    </tr>\n    <tr>\n      <th>2017-11-12</th>\n      <td>87.89</td>\n    </tr>\n    <tr>\n      <th>2017-11-28</th>\n      <td>85.64</td>\n    </tr>\n  </tbody>\n</table>\n</div>"
     },
     "metadata": {},
     "execution_count": 4
    }
   ],
   "source": [
    "df_eod_balances = GreenlightUtility.get_balance_eod_data_frame(df_balances)\n",
    "df_eod_balances"
   ]
  },
  {
   "cell_type": "code",
   "execution_count": 5,
   "metadata": {},
   "outputs": [],
   "source": [
    "first_day_of_month = GreenlightUtility.get_first_day_of_month(2017, 11)\n",
    "\n",
    "df_daily_balance = GreenlightUtility.get_daily_balance_data_frame(\n",
    "    first_day_of_month,\n",
    "    starting_balance,\n",
    "    df_eod_balances)\n",
    "\n",
    "averages.append((first_day_of_month.strftime('%Y-%m'), df_daily_balance.mean().values[0]))"
   ]
  },
  {
   "cell_type": "code",
   "execution_count": 6,
   "metadata": {},
   "outputs": [
    {
     "output_type": "execute_result",
     "data": {
      "text/plain": "            Balance\nCsvIndex           \n2017-11-28    85.64",
      "text/html": "<div>\n<style scoped>\n    .dataframe tbody tr th:only-of-type {\n        vertical-align: middle;\n    }\n\n    .dataframe tbody tr th {\n        vertical-align: top;\n    }\n\n    .dataframe thead th {\n        text-align: right;\n    }\n</style>\n<table border=\"1\" class=\"dataframe\">\n  <thead>\n    <tr style=\"text-align: right;\">\n      <th></th>\n      <th>Balance</th>\n    </tr>\n    <tr>\n      <th>CsvIndex</th>\n      <th></th>\n    </tr>\n  </thead>\n  <tbody>\n    <tr>\n      <th>2017-11-28</th>\n      <td>85.64</td>\n    </tr>\n  </tbody>\n</table>\n</div>"
     },
     "metadata": {},
     "execution_count": 6
    }
   ],
   "source": [
    "df_eod_balances.tail(1)"
   ]
  },
  {
   "source": [
    "## 2017-12"
   ],
   "cell_type": "markdown",
   "metadata": {}
  },
  {
   "cell_type": "code",
   "execution_count": 7,
   "metadata": {},
   "outputs": [
    {
     "output_type": "execute_result",
     "data": {
      "text/plain": "      CsvIndex       Date                Account Num        Description Memo  \\\n0   2017-12-03 2017-12-03  Greenlight Card (KAW)        Jack in the Box        \n1   2017-12-04 2017-12-04  Greenlight Card (KAW)         Transfer Money        \n2   2017-12-06 2017-12-06  Greenlight Card (KAW)              Starbucks        \n3   2017-12-06 2017-12-06  Greenlight Card (KAW)         Star Mini Mart        \n4   2017-12-07 2017-12-07  Greenlight Card (KAW)       Bobs Food Market        \n5   2017-12-11 2017-12-11  Greenlight Card (KAW)                Sprouts        \n6   2017-12-12 2017-12-12  Greenlight Card (KAW)               Govindas        \n7   2017-12-12 2017-12-12  Greenlight Card (KAW)             Greenlight        \n8   2017-12-13 2017-12-13  Greenlight Card (KAW)       Signature Burger        \n9   2017-12-14 2017-12-14  Greenlight Card (KAW)           Veggie Grill        \n10  2017-12-14 2017-12-14  Greenlight Card (KAW)         Star Mini Mart        \n11  2017-12-15 2017-12-15  Greenlight Card (KAW)      Lush Century City        \n12  2017-12-17 2017-12-17  Greenlight Card (KAW)         AliExpress.com        \n13  2017-12-18 2017-12-18  Greenlight Card (KAW)               Govindas        \n14  2017-12-31 2017-12-31  Greenlight Card (KAW)            Spotify.com        \n\n                               Category Tag Clr  Amount  \n0                 Childcare:Furnishings       c   -3.06  \n1   [Schwab High Yield Checking (3810)]       c   50.00  \n2                 Childcare:Furnishings       c   -3.75  \n3                 Childcare:Furnishings       c   -3.28  \n4                 Childcare:Furnishings       c   -2.69  \n5                 Childcare:Furnishings       c   -6.69  \n6                 Childcare:Furnishings       c   -7.05  \n7                 Childcare:Furnishings       c   -4.99  \n8                 Childcare:Furnishings       c   -4.92  \n9                Food:Dining Out - Meal       c  -10.90  \n10                Childcare:Furnishings       c   -2.09  \n11                    Childcare:Leisure       c   -7.59  \n12                Childcare:Furnishings       c  -12.00  \n13                Childcare:Furnishings       c   -5.85  \n14                    Childcare:Leisure       c   -9.99  ",
      "text/html": "<div>\n<style scoped>\n    .dataframe tbody tr th:only-of-type {\n        vertical-align: middle;\n    }\n\n    .dataframe tbody tr th {\n        vertical-align: top;\n    }\n\n    .dataframe thead th {\n        text-align: right;\n    }\n</style>\n<table border=\"1\" class=\"dataframe\">\n  <thead>\n    <tr style=\"text-align: right;\">\n      <th></th>\n      <th>CsvIndex</th>\n      <th>Date</th>\n      <th>Account</th>\n      <th>Num</th>\n      <th>Description</th>\n      <th>Memo</th>\n      <th>Category</th>\n      <th>Tag</th>\n      <th>Clr</th>\n      <th>Amount</th>\n    </tr>\n  </thead>\n  <tbody>\n    <tr>\n      <th>0</th>\n      <td>2017-12-03</td>\n      <td>2017-12-03</td>\n      <td>Greenlight Card (KAW)</td>\n      <td></td>\n      <td>Jack in the Box</td>\n      <td></td>\n      <td>Childcare:Furnishings</td>\n      <td></td>\n      <td>c</td>\n      <td>-3.06</td>\n    </tr>\n    <tr>\n      <th>1</th>\n      <td>2017-12-04</td>\n      <td>2017-12-04</td>\n      <td>Greenlight Card (KAW)</td>\n      <td></td>\n      <td>Transfer Money</td>\n      <td></td>\n      <td>[Schwab High Yield Checking (3810)]</td>\n      <td></td>\n      <td>c</td>\n      <td>50.00</td>\n    </tr>\n    <tr>\n      <th>2</th>\n      <td>2017-12-06</td>\n      <td>2017-12-06</td>\n      <td>Greenlight Card (KAW)</td>\n      <td></td>\n      <td>Starbucks</td>\n      <td></td>\n      <td>Childcare:Furnishings</td>\n      <td></td>\n      <td>c</td>\n      <td>-3.75</td>\n    </tr>\n    <tr>\n      <th>3</th>\n      <td>2017-12-06</td>\n      <td>2017-12-06</td>\n      <td>Greenlight Card (KAW)</td>\n      <td></td>\n      <td>Star Mini Mart</td>\n      <td></td>\n      <td>Childcare:Furnishings</td>\n      <td></td>\n      <td>c</td>\n      <td>-3.28</td>\n    </tr>\n    <tr>\n      <th>4</th>\n      <td>2017-12-07</td>\n      <td>2017-12-07</td>\n      <td>Greenlight Card (KAW)</td>\n      <td></td>\n      <td>Bobs Food Market</td>\n      <td></td>\n      <td>Childcare:Furnishings</td>\n      <td></td>\n      <td>c</td>\n      <td>-2.69</td>\n    </tr>\n    <tr>\n      <th>5</th>\n      <td>2017-12-11</td>\n      <td>2017-12-11</td>\n      <td>Greenlight Card (KAW)</td>\n      <td></td>\n      <td>Sprouts</td>\n      <td></td>\n      <td>Childcare:Furnishings</td>\n      <td></td>\n      <td>c</td>\n      <td>-6.69</td>\n    </tr>\n    <tr>\n      <th>6</th>\n      <td>2017-12-12</td>\n      <td>2017-12-12</td>\n      <td>Greenlight Card (KAW)</td>\n      <td></td>\n      <td>Govindas</td>\n      <td></td>\n      <td>Childcare:Furnishings</td>\n      <td></td>\n      <td>c</td>\n      <td>-7.05</td>\n    </tr>\n    <tr>\n      <th>7</th>\n      <td>2017-12-12</td>\n      <td>2017-12-12</td>\n      <td>Greenlight Card (KAW)</td>\n      <td></td>\n      <td>Greenlight</td>\n      <td></td>\n      <td>Childcare:Furnishings</td>\n      <td></td>\n      <td>c</td>\n      <td>-4.99</td>\n    </tr>\n    <tr>\n      <th>8</th>\n      <td>2017-12-13</td>\n      <td>2017-12-13</td>\n      <td>Greenlight Card (KAW)</td>\n      <td></td>\n      <td>Signature Burger</td>\n      <td></td>\n      <td>Childcare:Furnishings</td>\n      <td></td>\n      <td>c</td>\n      <td>-4.92</td>\n    </tr>\n    <tr>\n      <th>9</th>\n      <td>2017-12-14</td>\n      <td>2017-12-14</td>\n      <td>Greenlight Card (KAW)</td>\n      <td></td>\n      <td>Veggie Grill</td>\n      <td></td>\n      <td>Food:Dining Out - Meal</td>\n      <td></td>\n      <td>c</td>\n      <td>-10.90</td>\n    </tr>\n    <tr>\n      <th>10</th>\n      <td>2017-12-14</td>\n      <td>2017-12-14</td>\n      <td>Greenlight Card (KAW)</td>\n      <td></td>\n      <td>Star Mini Mart</td>\n      <td></td>\n      <td>Childcare:Furnishings</td>\n      <td></td>\n      <td>c</td>\n      <td>-2.09</td>\n    </tr>\n    <tr>\n      <th>11</th>\n      <td>2017-12-15</td>\n      <td>2017-12-15</td>\n      <td>Greenlight Card (KAW)</td>\n      <td></td>\n      <td>Lush Century City</td>\n      <td></td>\n      <td>Childcare:Leisure</td>\n      <td></td>\n      <td>c</td>\n      <td>-7.59</td>\n    </tr>\n    <tr>\n      <th>12</th>\n      <td>2017-12-17</td>\n      <td>2017-12-17</td>\n      <td>Greenlight Card (KAW)</td>\n      <td></td>\n      <td>AliExpress.com</td>\n      <td></td>\n      <td>Childcare:Furnishings</td>\n      <td></td>\n      <td>c</td>\n      <td>-12.00</td>\n    </tr>\n    <tr>\n      <th>13</th>\n      <td>2017-12-18</td>\n      <td>2017-12-18</td>\n      <td>Greenlight Card (KAW)</td>\n      <td></td>\n      <td>Govindas</td>\n      <td></td>\n      <td>Childcare:Furnishings</td>\n      <td></td>\n      <td>c</td>\n      <td>-5.85</td>\n    </tr>\n    <tr>\n      <th>14</th>\n      <td>2017-12-31</td>\n      <td>2017-12-31</td>\n      <td>Greenlight Card (KAW)</td>\n      <td></td>\n      <td>Spotify.com</td>\n      <td></td>\n      <td>Childcare:Leisure</td>\n      <td></td>\n      <td>c</td>\n      <td>-9.99</td>\n    </tr>\n  </tbody>\n</table>\n</div>"
     },
     "metadata": {},
     "execution_count": 7
    }
   ],
   "source": [
    "starting_balance = 85.64\n",
    "\n",
    "df_csv = GreenlightUtility.get_csv_data_frame('./data/2017-12.csv')\n",
    "df_csv"
   ]
  },
  {
   "cell_type": "code",
   "execution_count": 8,
   "metadata": {},
   "outputs": [
    {
     "output_type": "execute_result",
     "data": {
      "text/plain": "      CsvIndex  Balance\n0   2017-12-03    82.58\n1   2017-12-04   132.58\n2   2017-12-06   128.83\n3   2017-12-06   125.55\n4   2017-12-07   122.86\n5   2017-12-11   116.17\n6   2017-12-12   109.12\n7   2017-12-12   104.13\n8   2017-12-13    99.21\n9   2017-12-14    88.31\n10  2017-12-14    86.22\n11  2017-12-15    78.63\n12  2017-12-17    66.63\n13  2017-12-18    60.78\n14  2017-12-31    50.79",
      "text/html": "<div>\n<style scoped>\n    .dataframe tbody tr th:only-of-type {\n        vertical-align: middle;\n    }\n\n    .dataframe tbody tr th {\n        vertical-align: top;\n    }\n\n    .dataframe thead th {\n        text-align: right;\n    }\n</style>\n<table border=\"1\" class=\"dataframe\">\n  <thead>\n    <tr style=\"text-align: right;\">\n      <th></th>\n      <th>CsvIndex</th>\n      <th>Balance</th>\n    </tr>\n  </thead>\n  <tbody>\n    <tr>\n      <th>0</th>\n      <td>2017-12-03</td>\n      <td>82.58</td>\n    </tr>\n    <tr>\n      <th>1</th>\n      <td>2017-12-04</td>\n      <td>132.58</td>\n    </tr>\n    <tr>\n      <th>2</th>\n      <td>2017-12-06</td>\n      <td>128.83</td>\n    </tr>\n    <tr>\n      <th>3</th>\n      <td>2017-12-06</td>\n      <td>125.55</td>\n    </tr>\n    <tr>\n      <th>4</th>\n      <td>2017-12-07</td>\n      <td>122.86</td>\n    </tr>\n    <tr>\n      <th>5</th>\n      <td>2017-12-11</td>\n      <td>116.17</td>\n    </tr>\n    <tr>\n      <th>6</th>\n      <td>2017-12-12</td>\n      <td>109.12</td>\n    </tr>\n    <tr>\n      <th>7</th>\n      <td>2017-12-12</td>\n      <td>104.13</td>\n    </tr>\n    <tr>\n      <th>8</th>\n      <td>2017-12-13</td>\n      <td>99.21</td>\n    </tr>\n    <tr>\n      <th>9</th>\n      <td>2017-12-14</td>\n      <td>88.31</td>\n    </tr>\n    <tr>\n      <th>10</th>\n      <td>2017-12-14</td>\n      <td>86.22</td>\n    </tr>\n    <tr>\n      <th>11</th>\n      <td>2017-12-15</td>\n      <td>78.63</td>\n    </tr>\n    <tr>\n      <th>12</th>\n      <td>2017-12-17</td>\n      <td>66.63</td>\n    </tr>\n    <tr>\n      <th>13</th>\n      <td>2017-12-18</td>\n      <td>60.78</td>\n    </tr>\n    <tr>\n      <th>14</th>\n      <td>2017-12-31</td>\n      <td>50.79</td>\n    </tr>\n  </tbody>\n</table>\n</div>"
     },
     "metadata": {},
     "execution_count": 8
    }
   ],
   "source": [
    "df_balances = GreenlightUtility.get_balance_data_frame(df_csv, starting_balance)\n",
    "df_balances"
   ]
  },
  {
   "cell_type": "code",
   "execution_count": 9,
   "metadata": {},
   "outputs": [
    {
     "output_type": "execute_result",
     "data": {
      "text/plain": "            Balance\nCsvIndex           \n2017-12-03    82.58\n2017-12-04   132.58\n2017-12-06   125.55\n2017-12-07   122.86\n2017-12-11   116.17\n2017-12-12   104.13\n2017-12-13    99.21\n2017-12-14    86.22\n2017-12-15    78.63\n2017-12-17    66.63\n2017-12-18    60.78\n2017-12-31    50.79",
      "text/html": "<div>\n<style scoped>\n    .dataframe tbody tr th:only-of-type {\n        vertical-align: middle;\n    }\n\n    .dataframe tbody tr th {\n        vertical-align: top;\n    }\n\n    .dataframe thead th {\n        text-align: right;\n    }\n</style>\n<table border=\"1\" class=\"dataframe\">\n  <thead>\n    <tr style=\"text-align: right;\">\n      <th></th>\n      <th>Balance</th>\n    </tr>\n    <tr>\n      <th>CsvIndex</th>\n      <th></th>\n    </tr>\n  </thead>\n  <tbody>\n    <tr>\n      <th>2017-12-03</th>\n      <td>82.58</td>\n    </tr>\n    <tr>\n      <th>2017-12-04</th>\n      <td>132.58</td>\n    </tr>\n    <tr>\n      <th>2017-12-06</th>\n      <td>125.55</td>\n    </tr>\n    <tr>\n      <th>2017-12-07</th>\n      <td>122.86</td>\n    </tr>\n    <tr>\n      <th>2017-12-11</th>\n      <td>116.17</td>\n    </tr>\n    <tr>\n      <th>2017-12-12</th>\n      <td>104.13</td>\n    </tr>\n    <tr>\n      <th>2017-12-13</th>\n      <td>99.21</td>\n    </tr>\n    <tr>\n      <th>2017-12-14</th>\n      <td>86.22</td>\n    </tr>\n    <tr>\n      <th>2017-12-15</th>\n      <td>78.63</td>\n    </tr>\n    <tr>\n      <th>2017-12-17</th>\n      <td>66.63</td>\n    </tr>\n    <tr>\n      <th>2017-12-18</th>\n      <td>60.78</td>\n    </tr>\n    <tr>\n      <th>2017-12-31</th>\n      <td>50.79</td>\n    </tr>\n  </tbody>\n</table>\n</div>"
     },
     "metadata": {},
     "execution_count": 9
    }
   ],
   "source": [
    "df_eod_balances = GreenlightUtility.get_balance_eod_data_frame(df_balances)\n",
    "df_eod_balances"
   ]
  },
  {
   "cell_type": "code",
   "execution_count": 10,
   "metadata": {},
   "outputs": [],
   "source": [
    "first_day_of_month = GreenlightUtility.get_first_day_of_month(2017, 12)\n",
    "\n",
    "df_daily_balance = GreenlightUtility.get_daily_balance_data_frame(\n",
    "    first_day_of_month,\n",
    "    starting_balance,\n",
    "    df_eod_balances)\n",
    "\n",
    "averages.append((first_day_of_month.strftime('%Y-%m'), df_daily_balance.mean().values[0]))"
   ]
  },
  {
   "cell_type": "code",
   "execution_count": 11,
   "metadata": {},
   "outputs": [
    {
     "output_type": "execute_result",
     "data": {
      "text/plain": "            Balance\nCsvIndex           \n2017-12-31    50.79",
      "text/html": "<div>\n<style scoped>\n    .dataframe tbody tr th:only-of-type {\n        vertical-align: middle;\n    }\n\n    .dataframe tbody tr th {\n        vertical-align: top;\n    }\n\n    .dataframe thead th {\n        text-align: right;\n    }\n</style>\n<table border=\"1\" class=\"dataframe\">\n  <thead>\n    <tr style=\"text-align: right;\">\n      <th></th>\n      <th>Balance</th>\n    </tr>\n    <tr>\n      <th>CsvIndex</th>\n      <th></th>\n    </tr>\n  </thead>\n  <tbody>\n    <tr>\n      <th>2017-12-31</th>\n      <td>50.79</td>\n    </tr>\n  </tbody>\n</table>\n</div>"
     },
     "metadata": {},
     "execution_count": 11
    }
   ],
   "source": [
    "df_eod_balances.tail(1)"
   ]
  },
  {
   "source": [
    "## 2018-1"
   ],
   "cell_type": "markdown",
   "metadata": {}
  },
  {
   "cell_type": "code",
   "execution_count": 12,
   "metadata": {},
   "outputs": [
    {
     "output_type": "execute_result",
     "data": {
      "text/plain": "      CsvIndex       Date                Account Num       Description Memo  \\\n0   2018-01-01 2018-01-01  Greenlight Card (KAW)                Target        \n1   2018-01-03 2018-01-03  Greenlight Card (KAW)        Transfer Money        \n2   2018-01-03 2018-01-03  Greenlight Card (KAW)            Forever 21        \n3   2018-01-04 2018-01-04  Greenlight Card (KAW)           Ali Express        \n4   2018-01-08 2018-01-08  Greenlight Card (KAW)           SpinFish Po        \n5   2018-01-09 2018-01-09  Greenlight Card (KAW)      Signature Burger        \n6   2018-01-10 2018-01-10  Greenlight Card (KAW)              Chipotle        \n7   2018-01-12 2018-01-12  Greenlight Card (KAW)         Rainbow Acres        \n8   2018-01-12 2018-01-12  Greenlight Card (KAW)            Greenlight        \n9   2018-01-14 2018-01-14  Greenlight Card (KAW)           Trader Joes        \n10  2018-01-15 2018-01-15  Greenlight Card (KAW)        Transfer Money        \n11  2018-01-15 2018-01-15  Greenlight Card (KAW)            Amazon.com        \n12  2018-01-15 2018-01-15  Greenlight Card (KAW)            Amazon.com        \n13  2018-01-16 2018-01-16  Greenlight Card (KAW)            McDonald's        \n14  2018-01-18 2018-01-18  Greenlight Card (KAW)      Bobs Food Market        \n15  2018-01-19 2018-01-19  Greenlight Card (KAW)           Trader Joes        \n16  2018-01-22 2018-01-22  Greenlight Card (KAW)              Govindas        \n17  2018-01-23 2018-01-23  Greenlight Card (KAW)           Trader Joes        \n18  2018-01-24 2018-01-24  Greenlight Card (KAW)        Star Mini Mart        \n19  2018-01-25 2018-01-25  Greenlight Card (KAW)             Taco Bell        \n20  2018-01-31 2018-01-31  Greenlight Card (KAW)        Transfer Money        \n\n                               Category Tag Clr  Amount  \n0                 Childcare:Furnishings       c  -11.44  \n1   [Schwab High Yield Checking (3810)]       c   50.00  \n2                     Childcare:Leisure           -0.19  \n3                 Childcare:Furnishings           -1.57  \n4                 Childcare:Furnishings          -10.37  \n5                 Childcare:Furnishings           -6.01  \n6                 Childcare:Furnishings           -7.37  \n7                     Childcare:Leisure           -4.04  \n8                 Childcare:Furnishings           -4.99  \n9                 Childcare:Furnishings           -6.03  \n10  [Schwab High Yield Checking (3810)]           50.00  \n11                Childcare:Furnishings           -9.57  \n12                Childcare:Furnishings           -4.95  \n13                Childcare:Furnishings           -4.80  \n14                Childcare:Furnishings           -2.49  \n15                Childcare:Furnishings           -3.79  \n16                Childcare:Furnishings           -8.35  \n17                Childcare:Furnishings           -3.99  \n18                Childcare:Furnishings           -6.27  \n19                Childcare:Furnishings           -3.71  \n20  [Schwab High Yield Checking (3810)]           50.00  ",
      "text/html": "<div>\n<style scoped>\n    .dataframe tbody tr th:only-of-type {\n        vertical-align: middle;\n    }\n\n    .dataframe tbody tr th {\n        vertical-align: top;\n    }\n\n    .dataframe thead th {\n        text-align: right;\n    }\n</style>\n<table border=\"1\" class=\"dataframe\">\n  <thead>\n    <tr style=\"text-align: right;\">\n      <th></th>\n      <th>CsvIndex</th>\n      <th>Date</th>\n      <th>Account</th>\n      <th>Num</th>\n      <th>Description</th>\n      <th>Memo</th>\n      <th>Category</th>\n      <th>Tag</th>\n      <th>Clr</th>\n      <th>Amount</th>\n    </tr>\n  </thead>\n  <tbody>\n    <tr>\n      <th>0</th>\n      <td>2018-01-01</td>\n      <td>2018-01-01</td>\n      <td>Greenlight Card (KAW)</td>\n      <td></td>\n      <td>Target</td>\n      <td></td>\n      <td>Childcare:Furnishings</td>\n      <td></td>\n      <td>c</td>\n      <td>-11.44</td>\n    </tr>\n    <tr>\n      <th>1</th>\n      <td>2018-01-03</td>\n      <td>2018-01-03</td>\n      <td>Greenlight Card (KAW)</td>\n      <td></td>\n      <td>Transfer Money</td>\n      <td></td>\n      <td>[Schwab High Yield Checking (3810)]</td>\n      <td></td>\n      <td>c</td>\n      <td>50.00</td>\n    </tr>\n    <tr>\n      <th>2</th>\n      <td>2018-01-03</td>\n      <td>2018-01-03</td>\n      <td>Greenlight Card (KAW)</td>\n      <td></td>\n      <td>Forever 21</td>\n      <td></td>\n      <td>Childcare:Leisure</td>\n      <td></td>\n      <td></td>\n      <td>-0.19</td>\n    </tr>\n    <tr>\n      <th>3</th>\n      <td>2018-01-04</td>\n      <td>2018-01-04</td>\n      <td>Greenlight Card (KAW)</td>\n      <td></td>\n      <td>Ali Express</td>\n      <td></td>\n      <td>Childcare:Furnishings</td>\n      <td></td>\n      <td></td>\n      <td>-1.57</td>\n    </tr>\n    <tr>\n      <th>4</th>\n      <td>2018-01-08</td>\n      <td>2018-01-08</td>\n      <td>Greenlight Card (KAW)</td>\n      <td></td>\n      <td>SpinFish Po</td>\n      <td></td>\n      <td>Childcare:Furnishings</td>\n      <td></td>\n      <td></td>\n      <td>-10.37</td>\n    </tr>\n    <tr>\n      <th>5</th>\n      <td>2018-01-09</td>\n      <td>2018-01-09</td>\n      <td>Greenlight Card (KAW)</td>\n      <td></td>\n      <td>Signature Burger</td>\n      <td></td>\n      <td>Childcare:Furnishings</td>\n      <td></td>\n      <td></td>\n      <td>-6.01</td>\n    </tr>\n    <tr>\n      <th>6</th>\n      <td>2018-01-10</td>\n      <td>2018-01-10</td>\n      <td>Greenlight Card (KAW)</td>\n      <td></td>\n      <td>Chipotle</td>\n      <td></td>\n      <td>Childcare:Furnishings</td>\n      <td></td>\n      <td></td>\n      <td>-7.37</td>\n    </tr>\n    <tr>\n      <th>7</th>\n      <td>2018-01-12</td>\n      <td>2018-01-12</td>\n      <td>Greenlight Card (KAW)</td>\n      <td></td>\n      <td>Rainbow Acres</td>\n      <td></td>\n      <td>Childcare:Leisure</td>\n      <td></td>\n      <td></td>\n      <td>-4.04</td>\n    </tr>\n    <tr>\n      <th>8</th>\n      <td>2018-01-12</td>\n      <td>2018-01-12</td>\n      <td>Greenlight Card (KAW)</td>\n      <td></td>\n      <td>Greenlight</td>\n      <td></td>\n      <td>Childcare:Furnishings</td>\n      <td></td>\n      <td></td>\n      <td>-4.99</td>\n    </tr>\n    <tr>\n      <th>9</th>\n      <td>2018-01-14</td>\n      <td>2018-01-14</td>\n      <td>Greenlight Card (KAW)</td>\n      <td></td>\n      <td>Trader Joes</td>\n      <td></td>\n      <td>Childcare:Furnishings</td>\n      <td></td>\n      <td></td>\n      <td>-6.03</td>\n    </tr>\n    <tr>\n      <th>10</th>\n      <td>2018-01-15</td>\n      <td>2018-01-15</td>\n      <td>Greenlight Card (KAW)</td>\n      <td></td>\n      <td>Transfer Money</td>\n      <td></td>\n      <td>[Schwab High Yield Checking (3810)]</td>\n      <td></td>\n      <td></td>\n      <td>50.00</td>\n    </tr>\n    <tr>\n      <th>11</th>\n      <td>2018-01-15</td>\n      <td>2018-01-15</td>\n      <td>Greenlight Card (KAW)</td>\n      <td></td>\n      <td>Amazon.com</td>\n      <td></td>\n      <td>Childcare:Furnishings</td>\n      <td></td>\n      <td></td>\n      <td>-9.57</td>\n    </tr>\n    <tr>\n      <th>12</th>\n      <td>2018-01-15</td>\n      <td>2018-01-15</td>\n      <td>Greenlight Card (KAW)</td>\n      <td></td>\n      <td>Amazon.com</td>\n      <td></td>\n      <td>Childcare:Furnishings</td>\n      <td></td>\n      <td></td>\n      <td>-4.95</td>\n    </tr>\n    <tr>\n      <th>13</th>\n      <td>2018-01-16</td>\n      <td>2018-01-16</td>\n      <td>Greenlight Card (KAW)</td>\n      <td></td>\n      <td>McDonald's</td>\n      <td></td>\n      <td>Childcare:Furnishings</td>\n      <td></td>\n      <td></td>\n      <td>-4.80</td>\n    </tr>\n    <tr>\n      <th>14</th>\n      <td>2018-01-18</td>\n      <td>2018-01-18</td>\n      <td>Greenlight Card (KAW)</td>\n      <td></td>\n      <td>Bobs Food Market</td>\n      <td></td>\n      <td>Childcare:Furnishings</td>\n      <td></td>\n      <td></td>\n      <td>-2.49</td>\n    </tr>\n    <tr>\n      <th>15</th>\n      <td>2018-01-19</td>\n      <td>2018-01-19</td>\n      <td>Greenlight Card (KAW)</td>\n      <td></td>\n      <td>Trader Joes</td>\n      <td></td>\n      <td>Childcare:Furnishings</td>\n      <td></td>\n      <td></td>\n      <td>-3.79</td>\n    </tr>\n    <tr>\n      <th>16</th>\n      <td>2018-01-22</td>\n      <td>2018-01-22</td>\n      <td>Greenlight Card (KAW)</td>\n      <td></td>\n      <td>Govindas</td>\n      <td></td>\n      <td>Childcare:Furnishings</td>\n      <td></td>\n      <td></td>\n      <td>-8.35</td>\n    </tr>\n    <tr>\n      <th>17</th>\n      <td>2018-01-23</td>\n      <td>2018-01-23</td>\n      <td>Greenlight Card (KAW)</td>\n      <td></td>\n      <td>Trader Joes</td>\n      <td></td>\n      <td>Childcare:Furnishings</td>\n      <td></td>\n      <td></td>\n      <td>-3.99</td>\n    </tr>\n    <tr>\n      <th>18</th>\n      <td>2018-01-24</td>\n      <td>2018-01-24</td>\n      <td>Greenlight Card (KAW)</td>\n      <td></td>\n      <td>Star Mini Mart</td>\n      <td></td>\n      <td>Childcare:Furnishings</td>\n      <td></td>\n      <td></td>\n      <td>-6.27</td>\n    </tr>\n    <tr>\n      <th>19</th>\n      <td>2018-01-25</td>\n      <td>2018-01-25</td>\n      <td>Greenlight Card (KAW)</td>\n      <td></td>\n      <td>Taco Bell</td>\n      <td></td>\n      <td>Childcare:Furnishings</td>\n      <td></td>\n      <td></td>\n      <td>-3.71</td>\n    </tr>\n    <tr>\n      <th>20</th>\n      <td>2018-01-31</td>\n      <td>2018-01-31</td>\n      <td>Greenlight Card (KAW)</td>\n      <td></td>\n      <td>Transfer Money</td>\n      <td></td>\n      <td>[Schwab High Yield Checking (3810)]</td>\n      <td></td>\n      <td></td>\n      <td>50.00</td>\n    </tr>\n  </tbody>\n</table>\n</div>"
     },
     "metadata": {},
     "execution_count": 12
    }
   ],
   "source": [
    "starting_balance = 50.79\n",
    "\n",
    "df_csv = GreenlightUtility.get_csv_data_frame('./data/2018-01.csv')\n",
    "df_csv"
   ]
  },
  {
   "cell_type": "code",
   "execution_count": 13,
   "metadata": {},
   "outputs": [
    {
     "output_type": "execute_result",
     "data": {
      "text/plain": "      CsvIndex  Balance\n0   2018-01-01    39.35\n1   2018-01-03    89.35\n2   2018-01-03    89.16\n3   2018-01-04    87.59\n4   2018-01-08    77.22\n5   2018-01-09    71.21\n6   2018-01-10    63.84\n7   2018-01-12    59.80\n8   2018-01-12    54.81\n9   2018-01-14    48.78\n10  2018-01-15    98.78\n11  2018-01-15    89.21\n12  2018-01-15    84.26\n13  2018-01-16    79.46\n14  2018-01-18    76.97\n15  2018-01-19    73.18\n16  2018-01-22    64.83\n17  2018-01-23    60.84\n18  2018-01-24    54.57\n19  2018-01-25    50.86\n20  2018-01-31   100.86",
      "text/html": "<div>\n<style scoped>\n    .dataframe tbody tr th:only-of-type {\n        vertical-align: middle;\n    }\n\n    .dataframe tbody tr th {\n        vertical-align: top;\n    }\n\n    .dataframe thead th {\n        text-align: right;\n    }\n</style>\n<table border=\"1\" class=\"dataframe\">\n  <thead>\n    <tr style=\"text-align: right;\">\n      <th></th>\n      <th>CsvIndex</th>\n      <th>Balance</th>\n    </tr>\n  </thead>\n  <tbody>\n    <tr>\n      <th>0</th>\n      <td>2018-01-01</td>\n      <td>39.35</td>\n    </tr>\n    <tr>\n      <th>1</th>\n      <td>2018-01-03</td>\n      <td>89.35</td>\n    </tr>\n    <tr>\n      <th>2</th>\n      <td>2018-01-03</td>\n      <td>89.16</td>\n    </tr>\n    <tr>\n      <th>3</th>\n      <td>2018-01-04</td>\n      <td>87.59</td>\n    </tr>\n    <tr>\n      <th>4</th>\n      <td>2018-01-08</td>\n      <td>77.22</td>\n    </tr>\n    <tr>\n      <th>5</th>\n      <td>2018-01-09</td>\n      <td>71.21</td>\n    </tr>\n    <tr>\n      <th>6</th>\n      <td>2018-01-10</td>\n      <td>63.84</td>\n    </tr>\n    <tr>\n      <th>7</th>\n      <td>2018-01-12</td>\n      <td>59.80</td>\n    </tr>\n    <tr>\n      <th>8</th>\n      <td>2018-01-12</td>\n      <td>54.81</td>\n    </tr>\n    <tr>\n      <th>9</th>\n      <td>2018-01-14</td>\n      <td>48.78</td>\n    </tr>\n    <tr>\n      <th>10</th>\n      <td>2018-01-15</td>\n      <td>98.78</td>\n    </tr>\n    <tr>\n      <th>11</th>\n      <td>2018-01-15</td>\n      <td>89.21</td>\n    </tr>\n    <tr>\n      <th>12</th>\n      <td>2018-01-15</td>\n      <td>84.26</td>\n    </tr>\n    <tr>\n      <th>13</th>\n      <td>2018-01-16</td>\n      <td>79.46</td>\n    </tr>\n    <tr>\n      <th>14</th>\n      <td>2018-01-18</td>\n      <td>76.97</td>\n    </tr>\n    <tr>\n      <th>15</th>\n      <td>2018-01-19</td>\n      <td>73.18</td>\n    </tr>\n    <tr>\n      <th>16</th>\n      <td>2018-01-22</td>\n      <td>64.83</td>\n    </tr>\n    <tr>\n      <th>17</th>\n      <td>2018-01-23</td>\n      <td>60.84</td>\n    </tr>\n    <tr>\n      <th>18</th>\n      <td>2018-01-24</td>\n      <td>54.57</td>\n    </tr>\n    <tr>\n      <th>19</th>\n      <td>2018-01-25</td>\n      <td>50.86</td>\n    </tr>\n    <tr>\n      <th>20</th>\n      <td>2018-01-31</td>\n      <td>100.86</td>\n    </tr>\n  </tbody>\n</table>\n</div>"
     },
     "metadata": {},
     "execution_count": 13
    }
   ],
   "source": [
    "df_balances = GreenlightUtility.get_balance_data_frame(df_csv, starting_balance)\n",
    "df_balances"
   ]
  },
  {
   "cell_type": "code",
   "execution_count": 14,
   "metadata": {},
   "outputs": [
    {
     "output_type": "execute_result",
     "data": {
      "text/plain": "            Balance\nCsvIndex           \n2018-01-01    39.35\n2018-01-03    89.16\n2018-01-04    87.59\n2018-01-08    77.22\n2018-01-09    71.21\n2018-01-10    63.84\n2018-01-12    54.81\n2018-01-14    48.78\n2018-01-15    84.26\n2018-01-16    79.46\n2018-01-18    76.97\n2018-01-19    73.18\n2018-01-22    64.83\n2018-01-23    60.84\n2018-01-24    54.57\n2018-01-25    50.86\n2018-01-31   100.86",
      "text/html": "<div>\n<style scoped>\n    .dataframe tbody tr th:only-of-type {\n        vertical-align: middle;\n    }\n\n    .dataframe tbody tr th {\n        vertical-align: top;\n    }\n\n    .dataframe thead th {\n        text-align: right;\n    }\n</style>\n<table border=\"1\" class=\"dataframe\">\n  <thead>\n    <tr style=\"text-align: right;\">\n      <th></th>\n      <th>Balance</th>\n    </tr>\n    <tr>\n      <th>CsvIndex</th>\n      <th></th>\n    </tr>\n  </thead>\n  <tbody>\n    <tr>\n      <th>2018-01-01</th>\n      <td>39.35</td>\n    </tr>\n    <tr>\n      <th>2018-01-03</th>\n      <td>89.16</td>\n    </tr>\n    <tr>\n      <th>2018-01-04</th>\n      <td>87.59</td>\n    </tr>\n    <tr>\n      <th>2018-01-08</th>\n      <td>77.22</td>\n    </tr>\n    <tr>\n      <th>2018-01-09</th>\n      <td>71.21</td>\n    </tr>\n    <tr>\n      <th>2018-01-10</th>\n      <td>63.84</td>\n    </tr>\n    <tr>\n      <th>2018-01-12</th>\n      <td>54.81</td>\n    </tr>\n    <tr>\n      <th>2018-01-14</th>\n      <td>48.78</td>\n    </tr>\n    <tr>\n      <th>2018-01-15</th>\n      <td>84.26</td>\n    </tr>\n    <tr>\n      <th>2018-01-16</th>\n      <td>79.46</td>\n    </tr>\n    <tr>\n      <th>2018-01-18</th>\n      <td>76.97</td>\n    </tr>\n    <tr>\n      <th>2018-01-19</th>\n      <td>73.18</td>\n    </tr>\n    <tr>\n      <th>2018-01-22</th>\n      <td>64.83</td>\n    </tr>\n    <tr>\n      <th>2018-01-23</th>\n      <td>60.84</td>\n    </tr>\n    <tr>\n      <th>2018-01-24</th>\n      <td>54.57</td>\n    </tr>\n    <tr>\n      <th>2018-01-25</th>\n      <td>50.86</td>\n    </tr>\n    <tr>\n      <th>2018-01-31</th>\n      <td>100.86</td>\n    </tr>\n  </tbody>\n</table>\n</div>"
     },
     "metadata": {},
     "execution_count": 14
    }
   ],
   "source": [
    "df_eod_balances = GreenlightUtility.get_balance_eod_data_frame(df_balances)\n",
    "df_eod_balances"
   ]
  },
  {
   "cell_type": "code",
   "execution_count": 15,
   "metadata": {},
   "outputs": [],
   "source": [
    "first_day_of_month = GreenlightUtility.get_first_day_of_month(2018, 1)\n",
    "\n",
    "df_daily_balance = GreenlightUtility.get_daily_balance_data_frame(\n",
    "    first_day_of_month,\n",
    "    starting_balance,\n",
    "    df_eod_balances)\n",
    "\n",
    "averages.append((first_day_of_month.strftime('%Y-%m'), df_daily_balance.mean().values[0]))"
   ]
  },
  {
   "cell_type": "code",
   "execution_count": 16,
   "metadata": {},
   "outputs": [
    {
     "output_type": "execute_result",
     "data": {
      "text/plain": "            Balance\nCsvIndex           \n2018-01-31   100.86",
      "text/html": "<div>\n<style scoped>\n    .dataframe tbody tr th:only-of-type {\n        vertical-align: middle;\n    }\n\n    .dataframe tbody tr th {\n        vertical-align: top;\n    }\n\n    .dataframe thead th {\n        text-align: right;\n    }\n</style>\n<table border=\"1\" class=\"dataframe\">\n  <thead>\n    <tr style=\"text-align: right;\">\n      <th></th>\n      <th>Balance</th>\n    </tr>\n    <tr>\n      <th>CsvIndex</th>\n      <th></th>\n    </tr>\n  </thead>\n  <tbody>\n    <tr>\n      <th>2018-01-31</th>\n      <td>100.86</td>\n    </tr>\n  </tbody>\n</table>\n</div>"
     },
     "metadata": {},
     "execution_count": 16
    }
   ],
   "source": [
    "df_eod_balances.tail(1)"
   ]
  },
  {
   "source": [
    "## Calculation of Contribution"
   ],
   "cell_type": "markdown",
   "metadata": {}
  },
  {
   "cell_type": "code",
   "execution_count": 17,
   "metadata": {},
   "outputs": [
    {
     "output_type": "execute_result",
     "data": {
      "text/plain": "     Dates    Balance\n0  2017-11  97.746000\n1  2017-12  84.082581\n2  2018-01  67.054194",
      "text/html": "<div>\n<style scoped>\n    .dataframe tbody tr th:only-of-type {\n        vertical-align: middle;\n    }\n\n    .dataframe tbody tr th {\n        vertical-align: top;\n    }\n\n    .dataframe thead th {\n        text-align: right;\n    }\n</style>\n<table border=\"1\" class=\"dataframe\">\n  <thead>\n    <tr style=\"text-align: right;\">\n      <th></th>\n      <th>Dates</th>\n      <th>Balance</th>\n    </tr>\n  </thead>\n  <tbody>\n    <tr>\n      <th>0</th>\n      <td>2017-11</td>\n      <td>97.746000</td>\n    </tr>\n    <tr>\n      <th>1</th>\n      <td>2017-12</td>\n      <td>84.082581</td>\n    </tr>\n    <tr>\n      <th>2</th>\n      <td>2018-01</td>\n      <td>67.054194</td>\n    </tr>\n  </tbody>\n</table>\n</div>"
     },
     "metadata": {},
     "execution_count": 17
    }
   ],
   "source": [
    "df_final = GreenlightUtility.get_final_data_frame(averages)\n",
    "df_final"
   ]
  },
  {
   "cell_type": "code",
   "execution_count": 18,
   "metadata": {},
   "outputs": [
    {
     "output_type": "execute_result",
     "data": {
      "text/plain": "24.88827741935484"
     },
     "metadata": {},
     "execution_count": 18
    }
   ],
   "source": [
    "df_final['Balance'].sum() * .1"
   ]
  }
 ],
 "metadata": {
  "kernelspec": {
   "name": "Python 3.8.5 64-bit (conda)",
   "display_name": "Python 3.8.5 64-bit (conda)",
   "metadata": {
    "interpreter": {
     "hash": "a707b6ce8c685eb936424fcc3009d4b4b7a52543c4db09380a3fc49186ceb509"
    }
   }
  },
  "language_info": {
   "file_extension": ".cs",
   "mimetype": "text/x-csharp",
   "name": "C#",
   "pygments_lexer": "csharp",
   "version": "3.8.5-final"
  }
 },
 "nbformat": 4,
 "nbformat_minor": 4
}