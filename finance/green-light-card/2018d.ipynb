{
 "metadata": {
  "language_info": {
   "codemirror_mode": {
    "name": "ipython",
    "version": 3
   },
   "file_extension": ".py",
   "mimetype": "text/x-python",
   "name": "python",
   "nbconvert_exporter": "python",
   "pygments_lexer": "ipython3",
   "version": "3.8.5-final"
  },
  "orig_nbformat": 2,
  "kernelspec": {
   "name": "Python 3.8.5 64-bit (conda)",
   "display_name": "Python 3.8.5 64-bit (conda)",
   "metadata": {
    "interpreter": {
     "hash": "a707b6ce8c685eb936424fcc3009d4b4b7a52543c4db09380a3fc49186ceb509"
    }
   }
  }
 },
 "nbformat": 4,
 "nbformat_minor": 2,
 "cells": [
  {
   "source": [
    "# 2018 Average-Daily-Balance Calculations\n",
    "\n",
    "This notebook documents months 8 through 10 for 2018."
   ],
   "cell_type": "markdown",
   "metadata": {}
  },
  {
   "cell_type": "code",
   "execution_count": 1,
   "metadata": {},
   "outputs": [],
   "source": [
    "%run ./GreenlightUtility.py\n",
    "\n",
    "averages = []"
   ]
  },
  {
   "source": [
    "## 2018-8"
   ],
   "cell_type": "markdown",
   "metadata": {}
  },
  {
   "cell_type": "code",
   "execution_count": 2,
   "metadata": {},
   "outputs": [
    {
     "output_type": "execute_result",
     "data": {
      "text/plain": "     CsvIndex       Date          Account Num      Description    Memo  \\\n0  2018-08-02 2018-08-02  Greenlight Card                Apple  ITUNES   \n1  2018-08-02 2018-08-02  Greenlight Card              Spotify           \n2  2018-08-09 2018-08-09  Greenlight Card       Transfer Money           \n3  2018-08-12 2018-08-12  Greenlight Card             Rite Aid           \n4  2018-08-12 2018-08-12  Greenlight Card           Greenlight           \n5  2018-08-13 2018-08-13  Greenlight Card      The Green Store           \n6  2018-08-21 2018-08-21  Greenlight Card                Apple  ITUNES   \n7  2018-08-22 2018-08-22  Greenlight Card             Govindas           \n8  2018-08-31 2018-08-31  Greenlight Card              Spotify           \n\n                Category Tag Clr  Amount  \n0      Childcare:Leisure       c   -5.99  \n1      Childcare:Leisure       c   -9.99  \n2       [inflow account]       c   50.00  \n3  Childcare:Furnishings       c   -7.07  \n4  Childcare:Furnishings           -4.99  \n5  Childcare:Furnishings       c  -11.49  \n6      Childcare:Leisure       c   -5.99  \n7  Childcare:Furnishings       c   -7.20  \n8      Childcare:Leisure       c   -9.99  ",
      "text/html": "<div>\n<style scoped>\n    .dataframe tbody tr th:only-of-type {\n        vertical-align: middle;\n    }\n\n    .dataframe tbody tr th {\n        vertical-align: top;\n    }\n\n    .dataframe thead th {\n        text-align: right;\n    }\n</style>\n<table border=\"1\" class=\"dataframe\">\n  <thead>\n    <tr style=\"text-align: right;\">\n      <th></th>\n      <th>CsvIndex</th>\n      <th>Date</th>\n      <th>Account</th>\n      <th>Num</th>\n      <th>Description</th>\n      <th>Memo</th>\n      <th>Category</th>\n      <th>Tag</th>\n      <th>Clr</th>\n      <th>Amount</th>\n    </tr>\n  </thead>\n  <tbody>\n    <tr>\n      <th>0</th>\n      <td>2018-08-02</td>\n      <td>2018-08-02</td>\n      <td>Greenlight Card</td>\n      <td></td>\n      <td>Apple</td>\n      <td>ITUNES</td>\n      <td>Childcare:Leisure</td>\n      <td></td>\n      <td>c</td>\n      <td>-5.99</td>\n    </tr>\n    <tr>\n      <th>1</th>\n      <td>2018-08-02</td>\n      <td>2018-08-02</td>\n      <td>Greenlight Card</td>\n      <td></td>\n      <td>Spotify</td>\n      <td></td>\n      <td>Childcare:Leisure</td>\n      <td></td>\n      <td>c</td>\n      <td>-9.99</td>\n    </tr>\n    <tr>\n      <th>2</th>\n      <td>2018-08-09</td>\n      <td>2018-08-09</td>\n      <td>Greenlight Card</td>\n      <td></td>\n      <td>Transfer Money</td>\n      <td></td>\n      <td>[inflow account]</td>\n      <td></td>\n      <td>c</td>\n      <td>50.00</td>\n    </tr>\n    <tr>\n      <th>3</th>\n      <td>2018-08-12</td>\n      <td>2018-08-12</td>\n      <td>Greenlight Card</td>\n      <td></td>\n      <td>Rite Aid</td>\n      <td></td>\n      <td>Childcare:Furnishings</td>\n      <td></td>\n      <td>c</td>\n      <td>-7.07</td>\n    </tr>\n    <tr>\n      <th>4</th>\n      <td>2018-08-12</td>\n      <td>2018-08-12</td>\n      <td>Greenlight Card</td>\n      <td></td>\n      <td>Greenlight</td>\n      <td></td>\n      <td>Childcare:Furnishings</td>\n      <td></td>\n      <td></td>\n      <td>-4.99</td>\n    </tr>\n    <tr>\n      <th>5</th>\n      <td>2018-08-13</td>\n      <td>2018-08-13</td>\n      <td>Greenlight Card</td>\n      <td></td>\n      <td>The Green Store</td>\n      <td></td>\n      <td>Childcare:Furnishings</td>\n      <td></td>\n      <td>c</td>\n      <td>-11.49</td>\n    </tr>\n    <tr>\n      <th>6</th>\n      <td>2018-08-21</td>\n      <td>2018-08-21</td>\n      <td>Greenlight Card</td>\n      <td></td>\n      <td>Apple</td>\n      <td>ITUNES</td>\n      <td>Childcare:Leisure</td>\n      <td></td>\n      <td>c</td>\n      <td>-5.99</td>\n    </tr>\n    <tr>\n      <th>7</th>\n      <td>2018-08-22</td>\n      <td>2018-08-22</td>\n      <td>Greenlight Card</td>\n      <td></td>\n      <td>Govindas</td>\n      <td></td>\n      <td>Childcare:Furnishings</td>\n      <td></td>\n      <td>c</td>\n      <td>-7.20</td>\n    </tr>\n    <tr>\n      <th>8</th>\n      <td>2018-08-31</td>\n      <td>2018-08-31</td>\n      <td>Greenlight Card</td>\n      <td></td>\n      <td>Spotify</td>\n      <td></td>\n      <td>Childcare:Leisure</td>\n      <td></td>\n      <td>c</td>\n      <td>-9.99</td>\n    </tr>\n  </tbody>\n</table>\n</div>"
     },
     "metadata": {},
     "execution_count": 2
    }
   ],
   "source": [
    "starting_balance = 165.47\n",
    "\n",
    "df_csv = GreenlightUtility.get_csv_data_frame('./data/2018-08.csv')\n",
    "df_csv"
   ]
  },
  {
   "cell_type": "code",
   "execution_count": 3,
   "metadata": {},
   "outputs": [
    {
     "output_type": "execute_result",
     "data": {
      "text/plain": "     CsvIndex  Balance\n0  2018-08-02   159.48\n1  2018-08-02   149.49\n2  2018-08-09   199.49\n3  2018-08-12   192.42\n4  2018-08-12   187.43\n5  2018-08-13   175.94\n6  2018-08-21   169.95\n7  2018-08-22   162.75\n8  2018-08-31   152.76",
      "text/html": "<div>\n<style scoped>\n    .dataframe tbody tr th:only-of-type {\n        vertical-align: middle;\n    }\n\n    .dataframe tbody tr th {\n        vertical-align: top;\n    }\n\n    .dataframe thead th {\n        text-align: right;\n    }\n</style>\n<table border=\"1\" class=\"dataframe\">\n  <thead>\n    <tr style=\"text-align: right;\">\n      <th></th>\n      <th>CsvIndex</th>\n      <th>Balance</th>\n    </tr>\n  </thead>\n  <tbody>\n    <tr>\n      <th>0</th>\n      <td>2018-08-02</td>\n      <td>159.48</td>\n    </tr>\n    <tr>\n      <th>1</th>\n      <td>2018-08-02</td>\n      <td>149.49</td>\n    </tr>\n    <tr>\n      <th>2</th>\n      <td>2018-08-09</td>\n      <td>199.49</td>\n    </tr>\n    <tr>\n      <th>3</th>\n      <td>2018-08-12</td>\n      <td>192.42</td>\n    </tr>\n    <tr>\n      <th>4</th>\n      <td>2018-08-12</td>\n      <td>187.43</td>\n    </tr>\n    <tr>\n      <th>5</th>\n      <td>2018-08-13</td>\n      <td>175.94</td>\n    </tr>\n    <tr>\n      <th>6</th>\n      <td>2018-08-21</td>\n      <td>169.95</td>\n    </tr>\n    <tr>\n      <th>7</th>\n      <td>2018-08-22</td>\n      <td>162.75</td>\n    </tr>\n    <tr>\n      <th>8</th>\n      <td>2018-08-31</td>\n      <td>152.76</td>\n    </tr>\n  </tbody>\n</table>\n</div>"
     },
     "metadata": {},
     "execution_count": 3
    }
   ],
   "source": [
    "df_balances = GreenlightUtility.get_balance_data_frame(df_csv, starting_balance)\n",
    "df_balances"
   ]
  },
  {
   "cell_type": "code",
   "execution_count": 4,
   "metadata": {},
   "outputs": [
    {
     "output_type": "execute_result",
     "data": {
      "text/plain": "            Balance\nCsvIndex           \n2018-08-02   149.49\n2018-08-09   199.49\n2018-08-12   187.43\n2018-08-13   175.94\n2018-08-21   169.95\n2018-08-22   162.75\n2018-08-31   152.76",
      "text/html": "<div>\n<style scoped>\n    .dataframe tbody tr th:only-of-type {\n        vertical-align: middle;\n    }\n\n    .dataframe tbody tr th {\n        vertical-align: top;\n    }\n\n    .dataframe thead th {\n        text-align: right;\n    }\n</style>\n<table border=\"1\" class=\"dataframe\">\n  <thead>\n    <tr style=\"text-align: right;\">\n      <th></th>\n      <th>Balance</th>\n    </tr>\n    <tr>\n      <th>CsvIndex</th>\n      <th></th>\n    </tr>\n  </thead>\n  <tbody>\n    <tr>\n      <th>2018-08-02</th>\n      <td>149.49</td>\n    </tr>\n    <tr>\n      <th>2018-08-09</th>\n      <td>199.49</td>\n    </tr>\n    <tr>\n      <th>2018-08-12</th>\n      <td>187.43</td>\n    </tr>\n    <tr>\n      <th>2018-08-13</th>\n      <td>175.94</td>\n    </tr>\n    <tr>\n      <th>2018-08-21</th>\n      <td>169.95</td>\n    </tr>\n    <tr>\n      <th>2018-08-22</th>\n      <td>162.75</td>\n    </tr>\n    <tr>\n      <th>2018-08-31</th>\n      <td>152.76</td>\n    </tr>\n  </tbody>\n</table>\n</div>"
     },
     "metadata": {},
     "execution_count": 4
    }
   ],
   "source": [
    "df_eod_balances = GreenlightUtility.get_balance_eod_data_frame(df_balances)\n",
    "df_eod_balances"
   ]
  },
  {
   "cell_type": "code",
   "execution_count": 5,
   "metadata": {},
   "outputs": [],
   "source": [
    "first_day_of_month = GreenlightUtility.get_first_day_of_month(2018, 8)\n",
    "\n",
    "df_daily_balance = GreenlightUtility.get_daily_balance_data_frame(\n",
    "    first_day_of_month,\n",
    "    starting_balance,\n",
    "    df_eod_balances)\n",
    "\n",
    "averages.append((first_day_of_month.strftime('%Y-%m'), df_daily_balance.mean().values[0]))"
   ]
  },
  {
   "cell_type": "code",
   "execution_count": 6,
   "metadata": {},
   "outputs": [
    {
     "output_type": "execute_result",
     "data": {
      "text/plain": "            Balance\nCsvIndex           \n2018-08-31   152.76",
      "text/html": "<div>\n<style scoped>\n    .dataframe tbody tr th:only-of-type {\n        vertical-align: middle;\n    }\n\n    .dataframe tbody tr th {\n        vertical-align: top;\n    }\n\n    .dataframe thead th {\n        text-align: right;\n    }\n</style>\n<table border=\"1\" class=\"dataframe\">\n  <thead>\n    <tr style=\"text-align: right;\">\n      <th></th>\n      <th>Balance</th>\n    </tr>\n    <tr>\n      <th>CsvIndex</th>\n      <th></th>\n    </tr>\n  </thead>\n  <tbody>\n    <tr>\n      <th>2018-08-31</th>\n      <td>152.76</td>\n    </tr>\n  </tbody>\n</table>\n</div>"
     },
     "metadata": {},
     "execution_count": 6
    }
   ],
   "source": [
    "df_eod_balances.tail(1)"
   ]
  },
  {
   "source": [
    "## 2018-9"
   ],
   "cell_type": "markdown",
   "metadata": {}
  },
  {
   "cell_type": "code",
   "execution_count": 7,
   "metadata": {},
   "outputs": [
    {
     "output_type": "execute_result",
     "data": {
      "text/plain": "      CsvIndex       Date          Account Num            Description    Memo  \\\n0   2018-09-04 2018-09-04  Greenlight Card             Star Mini Mart           \n1   2018-09-05 2018-09-05  Greenlight Card             Star Mini Mart           \n2   2018-09-12 2018-09-12  Greenlight Card                 Greenlight           \n3   2018-09-13 2018-09-13  Greenlight Card             Transfer Money           \n4   2018-09-20 2018-09-20  Greenlight Card      India Sweets &amp; Spices           \n5   2018-09-21 2018-09-21  Greenlight Card             Transfer Money           \n6   2018-09-21 2018-09-21  Greenlight Card                      Apple  ITUNES   \n7   2018-09-25 2018-09-25  Greenlight Card                   Govindas           \n8   2018-09-28 2018-09-28  Greenlight Card             Idyllwild Camp           \n9   2018-09-30 2018-09-30  Greenlight Card      India Sweets &amp; Spices           \n10  2018-09-30 2018-09-30  Greenlight Card      India Sweets &amp; Spices           \n11  2018-09-30 2018-09-30  Greenlight Card                    Spotify           \n\n                            Category Tag Clr  Amount  \n0              Childcare:Furnishings       c   -8.55  \n1              Childcare:Furnishings       c   -7.07  \n2              Childcare:Furnishings           -4.99  \n3                   [inflow account]       c   50.00  \n4              Childcare:Furnishings       c   -7.89  \n5                   [inflow account]       c   50.00  \n6                  Childcare:Leisure       c   -5.99  \n7              Childcare:Furnishings       c   -4.05  \n8   Other Income:Reversal of Charges       c   25.00  \n9              Childcare:Furnishings       c   -2.73  \n10             Childcare:Furnishings       c  -22.50  \n11                 Childcare:Leisure       c   -9.99  ",
      "text/html": "<div>\n<style scoped>\n    .dataframe tbody tr th:only-of-type {\n        vertical-align: middle;\n    }\n\n    .dataframe tbody tr th {\n        vertical-align: top;\n    }\n\n    .dataframe thead th {\n        text-align: right;\n    }\n</style>\n<table border=\"1\" class=\"dataframe\">\n  <thead>\n    <tr style=\"text-align: right;\">\n      <th></th>\n      <th>CsvIndex</th>\n      <th>Date</th>\n      <th>Account</th>\n      <th>Num</th>\n      <th>Description</th>\n      <th>Memo</th>\n      <th>Category</th>\n      <th>Tag</th>\n      <th>Clr</th>\n      <th>Amount</th>\n    </tr>\n  </thead>\n  <tbody>\n    <tr>\n      <th>0</th>\n      <td>2018-09-04</td>\n      <td>2018-09-04</td>\n      <td>Greenlight Card</td>\n      <td></td>\n      <td>Star Mini Mart</td>\n      <td></td>\n      <td>Childcare:Furnishings</td>\n      <td></td>\n      <td>c</td>\n      <td>-8.55</td>\n    </tr>\n    <tr>\n      <th>1</th>\n      <td>2018-09-05</td>\n      <td>2018-09-05</td>\n      <td>Greenlight Card</td>\n      <td></td>\n      <td>Star Mini Mart</td>\n      <td></td>\n      <td>Childcare:Furnishings</td>\n      <td></td>\n      <td>c</td>\n      <td>-7.07</td>\n    </tr>\n    <tr>\n      <th>2</th>\n      <td>2018-09-12</td>\n      <td>2018-09-12</td>\n      <td>Greenlight Card</td>\n      <td></td>\n      <td>Greenlight</td>\n      <td></td>\n      <td>Childcare:Furnishings</td>\n      <td></td>\n      <td></td>\n      <td>-4.99</td>\n    </tr>\n    <tr>\n      <th>3</th>\n      <td>2018-09-13</td>\n      <td>2018-09-13</td>\n      <td>Greenlight Card</td>\n      <td></td>\n      <td>Transfer Money</td>\n      <td></td>\n      <td>[inflow account]</td>\n      <td></td>\n      <td>c</td>\n      <td>50.00</td>\n    </tr>\n    <tr>\n      <th>4</th>\n      <td>2018-09-20</td>\n      <td>2018-09-20</td>\n      <td>Greenlight Card</td>\n      <td></td>\n      <td>India Sweets &amp; Spices</td>\n      <td></td>\n      <td>Childcare:Furnishings</td>\n      <td></td>\n      <td>c</td>\n      <td>-7.89</td>\n    </tr>\n    <tr>\n      <th>5</th>\n      <td>2018-09-21</td>\n      <td>2018-09-21</td>\n      <td>Greenlight Card</td>\n      <td></td>\n      <td>Transfer Money</td>\n      <td></td>\n      <td>[inflow account]</td>\n      <td></td>\n      <td>c</td>\n      <td>50.00</td>\n    </tr>\n    <tr>\n      <th>6</th>\n      <td>2018-09-21</td>\n      <td>2018-09-21</td>\n      <td>Greenlight Card</td>\n      <td></td>\n      <td>Apple</td>\n      <td>ITUNES</td>\n      <td>Childcare:Leisure</td>\n      <td></td>\n      <td>c</td>\n      <td>-5.99</td>\n    </tr>\n    <tr>\n      <th>7</th>\n      <td>2018-09-25</td>\n      <td>2018-09-25</td>\n      <td>Greenlight Card</td>\n      <td></td>\n      <td>Govindas</td>\n      <td></td>\n      <td>Childcare:Furnishings</td>\n      <td></td>\n      <td>c</td>\n      <td>-4.05</td>\n    </tr>\n    <tr>\n      <th>8</th>\n      <td>2018-09-28</td>\n      <td>2018-09-28</td>\n      <td>Greenlight Card</td>\n      <td></td>\n      <td>Idyllwild Camp</td>\n      <td></td>\n      <td>Other Income:Reversal of Charges</td>\n      <td></td>\n      <td>c</td>\n      <td>25.00</td>\n    </tr>\n    <tr>\n      <th>9</th>\n      <td>2018-09-30</td>\n      <td>2018-09-30</td>\n      <td>Greenlight Card</td>\n      <td></td>\n      <td>India Sweets &amp; Spices</td>\n      <td></td>\n      <td>Childcare:Furnishings</td>\n      <td></td>\n      <td>c</td>\n      <td>-2.73</td>\n    </tr>\n    <tr>\n      <th>10</th>\n      <td>2018-09-30</td>\n      <td>2018-09-30</td>\n      <td>Greenlight Card</td>\n      <td></td>\n      <td>India Sweets &amp; Spices</td>\n      <td></td>\n      <td>Childcare:Furnishings</td>\n      <td></td>\n      <td>c</td>\n      <td>-22.50</td>\n    </tr>\n    <tr>\n      <th>11</th>\n      <td>2018-09-30</td>\n      <td>2018-09-30</td>\n      <td>Greenlight Card</td>\n      <td></td>\n      <td>Spotify</td>\n      <td></td>\n      <td>Childcare:Leisure</td>\n      <td></td>\n      <td>c</td>\n      <td>-9.99</td>\n    </tr>\n  </tbody>\n</table>\n</div>"
     },
     "metadata": {},
     "execution_count": 7
    }
   ],
   "source": [
    "starting_balance = 152.76\n",
    "\n",
    "df_csv = GreenlightUtility.get_csv_data_frame('./data/2018-09.csv')\n",
    "df_csv"
   ]
  },
  {
   "cell_type": "code",
   "execution_count": 8,
   "metadata": {},
   "outputs": [
    {
     "output_type": "execute_result",
     "data": {
      "text/plain": "      CsvIndex  Balance\n0   2018-09-04   144.21\n1   2018-09-05   137.14\n2   2018-09-12   132.15\n3   2018-09-13   182.15\n4   2018-09-20   174.26\n5   2018-09-21   224.26\n6   2018-09-21   218.27\n7   2018-09-25   214.22\n8   2018-09-28   239.22\n9   2018-09-30   236.49\n10  2018-09-30   213.99\n11  2018-09-30   204.00",
      "text/html": "<div>\n<style scoped>\n    .dataframe tbody tr th:only-of-type {\n        vertical-align: middle;\n    }\n\n    .dataframe tbody tr th {\n        vertical-align: top;\n    }\n\n    .dataframe thead th {\n        text-align: right;\n    }\n</style>\n<table border=\"1\" class=\"dataframe\">\n  <thead>\n    <tr style=\"text-align: right;\">\n      <th></th>\n      <th>CsvIndex</th>\n      <th>Balance</th>\n    </tr>\n  </thead>\n  <tbody>\n    <tr>\n      <th>0</th>\n      <td>2018-09-04</td>\n      <td>144.21</td>\n    </tr>\n    <tr>\n      <th>1</th>\n      <td>2018-09-05</td>\n      <td>137.14</td>\n    </tr>\n    <tr>\n      <th>2</th>\n      <td>2018-09-12</td>\n      <td>132.15</td>\n    </tr>\n    <tr>\n      <th>3</th>\n      <td>2018-09-13</td>\n      <td>182.15</td>\n    </tr>\n    <tr>\n      <th>4</th>\n      <td>2018-09-20</td>\n      <td>174.26</td>\n    </tr>\n    <tr>\n      <th>5</th>\n      <td>2018-09-21</td>\n      <td>224.26</td>\n    </tr>\n    <tr>\n      <th>6</th>\n      <td>2018-09-21</td>\n      <td>218.27</td>\n    </tr>\n    <tr>\n      <th>7</th>\n      <td>2018-09-25</td>\n      <td>214.22</td>\n    </tr>\n    <tr>\n      <th>8</th>\n      <td>2018-09-28</td>\n      <td>239.22</td>\n    </tr>\n    <tr>\n      <th>9</th>\n      <td>2018-09-30</td>\n      <td>236.49</td>\n    </tr>\n    <tr>\n      <th>10</th>\n      <td>2018-09-30</td>\n      <td>213.99</td>\n    </tr>\n    <tr>\n      <th>11</th>\n      <td>2018-09-30</td>\n      <td>204.00</td>\n    </tr>\n  </tbody>\n</table>\n</div>"
     },
     "metadata": {},
     "execution_count": 8
    }
   ],
   "source": [
    "df_balances = GreenlightUtility.get_balance_data_frame(df_csv, starting_balance)\n",
    "df_balances"
   ]
  },
  {
   "cell_type": "code",
   "execution_count": 9,
   "metadata": {},
   "outputs": [
    {
     "output_type": "execute_result",
     "data": {
      "text/plain": "            Balance\nCsvIndex           \n2018-09-04   144.21\n2018-09-05   137.14\n2018-09-12   132.15\n2018-09-13   182.15\n2018-09-20   174.26\n2018-09-21   218.27\n2018-09-25   214.22\n2018-09-28   239.22\n2018-09-30   204.00",
      "text/html": "<div>\n<style scoped>\n    .dataframe tbody tr th:only-of-type {\n        vertical-align: middle;\n    }\n\n    .dataframe tbody tr th {\n        vertical-align: top;\n    }\n\n    .dataframe thead th {\n        text-align: right;\n    }\n</style>\n<table border=\"1\" class=\"dataframe\">\n  <thead>\n    <tr style=\"text-align: right;\">\n      <th></th>\n      <th>Balance</th>\n    </tr>\n    <tr>\n      <th>CsvIndex</th>\n      <th></th>\n    </tr>\n  </thead>\n  <tbody>\n    <tr>\n      <th>2018-09-04</th>\n      <td>144.21</td>\n    </tr>\n    <tr>\n      <th>2018-09-05</th>\n      <td>137.14</td>\n    </tr>\n    <tr>\n      <th>2018-09-12</th>\n      <td>132.15</td>\n    </tr>\n    <tr>\n      <th>2018-09-13</th>\n      <td>182.15</td>\n    </tr>\n    <tr>\n      <th>2018-09-20</th>\n      <td>174.26</td>\n    </tr>\n    <tr>\n      <th>2018-09-21</th>\n      <td>218.27</td>\n    </tr>\n    <tr>\n      <th>2018-09-25</th>\n      <td>214.22</td>\n    </tr>\n    <tr>\n      <th>2018-09-28</th>\n      <td>239.22</td>\n    </tr>\n    <tr>\n      <th>2018-09-30</th>\n      <td>204.00</td>\n    </tr>\n  </tbody>\n</table>\n</div>"
     },
     "metadata": {},
     "execution_count": 9
    }
   ],
   "source": [
    "df_eod_balances = GreenlightUtility.get_balance_eod_data_frame(df_balances)\n",
    "df_eod_balances"
   ]
  },
  {
   "cell_type": "code",
   "execution_count": 10,
   "metadata": {},
   "outputs": [],
   "source": [
    "first_day_of_month = GreenlightUtility.get_first_day_of_month(2018, 9)\n",
    "\n",
    "df_daily_balance = GreenlightUtility.get_daily_balance_data_frame(\n",
    "    first_day_of_month,\n",
    "    starting_balance,\n",
    "    df_eod_balances)\n",
    "\n",
    "averages.append((first_day_of_month.strftime('%Y-%m'), df_daily_balance.mean().values[0]))"
   ]
  },
  {
   "cell_type": "code",
   "execution_count": 11,
   "metadata": {},
   "outputs": [
    {
     "output_type": "execute_result",
     "data": {
      "text/plain": "            Balance\nCsvIndex           \n2018-09-30    204.0",
      "text/html": "<div>\n<style scoped>\n    .dataframe tbody tr th:only-of-type {\n        vertical-align: middle;\n    }\n\n    .dataframe tbody tr th {\n        vertical-align: top;\n    }\n\n    .dataframe thead th {\n        text-align: right;\n    }\n</style>\n<table border=\"1\" class=\"dataframe\">\n  <thead>\n    <tr style=\"text-align: right;\">\n      <th></th>\n      <th>Balance</th>\n    </tr>\n    <tr>\n      <th>CsvIndex</th>\n      <th></th>\n    </tr>\n  </thead>\n  <tbody>\n    <tr>\n      <th>2018-09-30</th>\n      <td>204.0</td>\n    </tr>\n  </tbody>\n</table>\n</div>"
     },
     "metadata": {},
     "execution_count": 11
    }
   ],
   "source": [
    "df_eod_balances.tail(1)"
   ]
  },
  {
   "source": [
    "## 2018-10"
   ],
   "cell_type": "markdown",
   "metadata": {}
  },
  {
   "cell_type": "code",
   "execution_count": 12,
   "metadata": {},
   "outputs": [
    {
     "output_type": "execute_result",
     "data": {
      "text/plain": "     CsvIndex       Date          Account Num             Description    Memo  \\\n0  2018-10-03 2018-10-03  Greenlight Card      National/Robertson Car           \n1  2018-10-05 2018-10-05  Greenlight Card                        Ulta           \n2  2018-10-05 2018-10-05  Greenlight Card                    Govindas           \n3  2018-10-07 2018-10-07  Greenlight Card              Transfer Money           \n4  2018-10-09 2018-10-09  Greenlight Card                    Govindas           \n5  2018-10-12 2018-10-12  Greenlight Card      National/Robertson Car           \n6  2018-10-12 2018-10-12  Greenlight Card                  Greenlight           \n7  2018-10-16 2018-10-16  Greenlight Card             Google *YouTube           \n8  2018-10-18 2018-10-18  Greenlight Card      National/Robertson Car           \n9  2018-10-21 2018-10-21  Greenlight Card                       Apple  ITUNES   \n\n                Category Tag Clr  Amount  \n0  Childcare:Furnishings       c   -3.08  \n1  Childcare:Furnishings       c  -19.21  \n2  Childcare:Furnishings       c   -6.30  \n3       [inflow account]       c   50.00  \n4      Childcare:Leisure       c   -3.15  \n5  Childcare:Furnishings       c   -2.88  \n6  Childcare:Furnishings           -4.99  \n7      Childcare:Leisure       c   -6.99  \n8  Childcare:Furnishings       c   -5.67  \n9      Childcare:Leisure       c   -5.99  ",
      "text/html": "<div>\n<style scoped>\n    .dataframe tbody tr th:only-of-type {\n        vertical-align: middle;\n    }\n\n    .dataframe tbody tr th {\n        vertical-align: top;\n    }\n\n    .dataframe thead th {\n        text-align: right;\n    }\n</style>\n<table border=\"1\" class=\"dataframe\">\n  <thead>\n    <tr style=\"text-align: right;\">\n      <th></th>\n      <th>CsvIndex</th>\n      <th>Date</th>\n      <th>Account</th>\n      <th>Num</th>\n      <th>Description</th>\n      <th>Memo</th>\n      <th>Category</th>\n      <th>Tag</th>\n      <th>Clr</th>\n      <th>Amount</th>\n    </tr>\n  </thead>\n  <tbody>\n    <tr>\n      <th>0</th>\n      <td>2018-10-03</td>\n      <td>2018-10-03</td>\n      <td>Greenlight Card</td>\n      <td></td>\n      <td>National/Robertson Car</td>\n      <td></td>\n      <td>Childcare:Furnishings</td>\n      <td></td>\n      <td>c</td>\n      <td>-3.08</td>\n    </tr>\n    <tr>\n      <th>1</th>\n      <td>2018-10-05</td>\n      <td>2018-10-05</td>\n      <td>Greenlight Card</td>\n      <td></td>\n      <td>Ulta</td>\n      <td></td>\n      <td>Childcare:Furnishings</td>\n      <td></td>\n      <td>c</td>\n      <td>-19.21</td>\n    </tr>\n    <tr>\n      <th>2</th>\n      <td>2018-10-05</td>\n      <td>2018-10-05</td>\n      <td>Greenlight Card</td>\n      <td></td>\n      <td>Govindas</td>\n      <td></td>\n      <td>Childcare:Furnishings</td>\n      <td></td>\n      <td>c</td>\n      <td>-6.30</td>\n    </tr>\n    <tr>\n      <th>3</th>\n      <td>2018-10-07</td>\n      <td>2018-10-07</td>\n      <td>Greenlight Card</td>\n      <td></td>\n      <td>Transfer Money</td>\n      <td></td>\n      <td>[inflow account]</td>\n      <td></td>\n      <td>c</td>\n      <td>50.00</td>\n    </tr>\n    <tr>\n      <th>4</th>\n      <td>2018-10-09</td>\n      <td>2018-10-09</td>\n      <td>Greenlight Card</td>\n      <td></td>\n      <td>Govindas</td>\n      <td></td>\n      <td>Childcare:Leisure</td>\n      <td></td>\n      <td>c</td>\n      <td>-3.15</td>\n    </tr>\n    <tr>\n      <th>5</th>\n      <td>2018-10-12</td>\n      <td>2018-10-12</td>\n      <td>Greenlight Card</td>\n      <td></td>\n      <td>National/Robertson Car</td>\n      <td></td>\n      <td>Childcare:Furnishings</td>\n      <td></td>\n      <td>c</td>\n      <td>-2.88</td>\n    </tr>\n    <tr>\n      <th>6</th>\n      <td>2018-10-12</td>\n      <td>2018-10-12</td>\n      <td>Greenlight Card</td>\n      <td></td>\n      <td>Greenlight</td>\n      <td></td>\n      <td>Childcare:Furnishings</td>\n      <td></td>\n      <td></td>\n      <td>-4.99</td>\n    </tr>\n    <tr>\n      <th>7</th>\n      <td>2018-10-16</td>\n      <td>2018-10-16</td>\n      <td>Greenlight Card</td>\n      <td></td>\n      <td>Google *YouTube</td>\n      <td></td>\n      <td>Childcare:Leisure</td>\n      <td></td>\n      <td>c</td>\n      <td>-6.99</td>\n    </tr>\n    <tr>\n      <th>8</th>\n      <td>2018-10-18</td>\n      <td>2018-10-18</td>\n      <td>Greenlight Card</td>\n      <td></td>\n      <td>National/Robertson Car</td>\n      <td></td>\n      <td>Childcare:Furnishings</td>\n      <td></td>\n      <td>c</td>\n      <td>-5.67</td>\n    </tr>\n    <tr>\n      <th>9</th>\n      <td>2018-10-21</td>\n      <td>2018-10-21</td>\n      <td>Greenlight Card</td>\n      <td></td>\n      <td>Apple</td>\n      <td>ITUNES</td>\n      <td>Childcare:Leisure</td>\n      <td></td>\n      <td>c</td>\n      <td>-5.99</td>\n    </tr>\n  </tbody>\n</table>\n</div>"
     },
     "metadata": {},
     "execution_count": 12
    }
   ],
   "source": [
    "starting_balance = 204.00\n",
    "\n",
    "df_csv = GreenlightUtility.get_csv_data_frame('./data/2018-10.csv')\n",
    "df_csv"
   ]
  },
  {
   "cell_type": "code",
   "execution_count": 13,
   "metadata": {},
   "outputs": [
    {
     "output_type": "execute_result",
     "data": {
      "text/plain": "     CsvIndex  Balance\n0  2018-10-03   200.92\n1  2018-10-05   181.71\n2  2018-10-05   175.41\n3  2018-10-07   225.41\n4  2018-10-09   222.26\n5  2018-10-12   219.38\n6  2018-10-12   214.39\n7  2018-10-16   207.40\n8  2018-10-18   201.73\n9  2018-10-21   195.74",
      "text/html": "<div>\n<style scoped>\n    .dataframe tbody tr th:only-of-type {\n        vertical-align: middle;\n    }\n\n    .dataframe tbody tr th {\n        vertical-align: top;\n    }\n\n    .dataframe thead th {\n        text-align: right;\n    }\n</style>\n<table border=\"1\" class=\"dataframe\">\n  <thead>\n    <tr style=\"text-align: right;\">\n      <th></th>\n      <th>CsvIndex</th>\n      <th>Balance</th>\n    </tr>\n  </thead>\n  <tbody>\n    <tr>\n      <th>0</th>\n      <td>2018-10-03</td>\n      <td>200.92</td>\n    </tr>\n    <tr>\n      <th>1</th>\n      <td>2018-10-05</td>\n      <td>181.71</td>\n    </tr>\n    <tr>\n      <th>2</th>\n      <td>2018-10-05</td>\n      <td>175.41</td>\n    </tr>\n    <tr>\n      <th>3</th>\n      <td>2018-10-07</td>\n      <td>225.41</td>\n    </tr>\n    <tr>\n      <th>4</th>\n      <td>2018-10-09</td>\n      <td>222.26</td>\n    </tr>\n    <tr>\n      <th>5</th>\n      <td>2018-10-12</td>\n      <td>219.38</td>\n    </tr>\n    <tr>\n      <th>6</th>\n      <td>2018-10-12</td>\n      <td>214.39</td>\n    </tr>\n    <tr>\n      <th>7</th>\n      <td>2018-10-16</td>\n      <td>207.40</td>\n    </tr>\n    <tr>\n      <th>8</th>\n      <td>2018-10-18</td>\n      <td>201.73</td>\n    </tr>\n    <tr>\n      <th>9</th>\n      <td>2018-10-21</td>\n      <td>195.74</td>\n    </tr>\n  </tbody>\n</table>\n</div>"
     },
     "metadata": {},
     "execution_count": 13
    }
   ],
   "source": [
    "df_balances = GreenlightUtility.get_balance_data_frame(df_csv, starting_balance)\n",
    "df_balances"
   ]
  },
  {
   "cell_type": "code",
   "execution_count": 14,
   "metadata": {},
   "outputs": [
    {
     "output_type": "execute_result",
     "data": {
      "text/plain": "            Balance\nCsvIndex           \n2018-10-03   200.92\n2018-10-05   175.41\n2018-10-07   225.41\n2018-10-09   222.26\n2018-10-12   214.39\n2018-10-16   207.40\n2018-10-18   201.73\n2018-10-21   195.74",
      "text/html": "<div>\n<style scoped>\n    .dataframe tbody tr th:only-of-type {\n        vertical-align: middle;\n    }\n\n    .dataframe tbody tr th {\n        vertical-align: top;\n    }\n\n    .dataframe thead th {\n        text-align: right;\n    }\n</style>\n<table border=\"1\" class=\"dataframe\">\n  <thead>\n    <tr style=\"text-align: right;\">\n      <th></th>\n      <th>Balance</th>\n    </tr>\n    <tr>\n      <th>CsvIndex</th>\n      <th></th>\n    </tr>\n  </thead>\n  <tbody>\n    <tr>\n      <th>2018-10-03</th>\n      <td>200.92</td>\n    </tr>\n    <tr>\n      <th>2018-10-05</th>\n      <td>175.41</td>\n    </tr>\n    <tr>\n      <th>2018-10-07</th>\n      <td>225.41</td>\n    </tr>\n    <tr>\n      <th>2018-10-09</th>\n      <td>222.26</td>\n    </tr>\n    <tr>\n      <th>2018-10-12</th>\n      <td>214.39</td>\n    </tr>\n    <tr>\n      <th>2018-10-16</th>\n      <td>207.40</td>\n    </tr>\n    <tr>\n      <th>2018-10-18</th>\n      <td>201.73</td>\n    </tr>\n    <tr>\n      <th>2018-10-21</th>\n      <td>195.74</td>\n    </tr>\n  </tbody>\n</table>\n</div>"
     },
     "metadata": {},
     "execution_count": 14
    }
   ],
   "source": [
    "df_eod_balances = GreenlightUtility.get_balance_eod_data_frame(df_balances)\n",
    "df_eod_balances"
   ]
  },
  {
   "cell_type": "code",
   "execution_count": 15,
   "metadata": {},
   "outputs": [],
   "source": [
    "first_day_of_month = GreenlightUtility.get_first_day_of_month(2018, 10)\n",
    "\n",
    "df_daily_balance = GreenlightUtility.get_daily_balance_data_frame(\n",
    "    first_day_of_month,\n",
    "    starting_balance,\n",
    "    df_eod_balances)\n",
    "\n",
    "averages.append((first_day_of_month.strftime('%Y-%m'), df_daily_balance.mean().values[0]))"
   ]
  },
  {
   "cell_type": "code",
   "execution_count": 16,
   "metadata": {},
   "outputs": [
    {
     "output_type": "execute_result",
     "data": {
      "text/plain": "            Balance\nCsvIndex           \n2018-10-21   195.74",
      "text/html": "<div>\n<style scoped>\n    .dataframe tbody tr th:only-of-type {\n        vertical-align: middle;\n    }\n\n    .dataframe tbody tr th {\n        vertical-align: top;\n    }\n\n    .dataframe thead th {\n        text-align: right;\n    }\n</style>\n<table border=\"1\" class=\"dataframe\">\n  <thead>\n    <tr style=\"text-align: right;\">\n      <th></th>\n      <th>Balance</th>\n    </tr>\n    <tr>\n      <th>CsvIndex</th>\n      <th></th>\n    </tr>\n  </thead>\n  <tbody>\n    <tr>\n      <th>2018-10-21</th>\n      <td>195.74</td>\n    </tr>\n  </tbody>\n</table>\n</div>"
     },
     "metadata": {},
     "execution_count": 16
    }
   ],
   "source": [
    "df_eod_balances.tail(1)"
   ]
  },
  {
   "source": [
    "## Calculation of Contribution"
   ],
   "cell_type": "markdown",
   "metadata": {}
  },
  {
   "cell_type": "code",
   "execution_count": 17,
   "metadata": {},
   "outputs": [
    {
     "output_type": "execute_result",
     "data": {
      "text/plain": "     Dates     Balance\n0  2018-08  167.509032\n1  2018-09  178.070333\n2  2018-10  203.514516",
      "text/html": "<div>\n<style scoped>\n    .dataframe tbody tr th:only-of-type {\n        vertical-align: middle;\n    }\n\n    .dataframe tbody tr th {\n        vertical-align: top;\n    }\n\n    .dataframe thead th {\n        text-align: right;\n    }\n</style>\n<table border=\"1\" class=\"dataframe\">\n  <thead>\n    <tr style=\"text-align: right;\">\n      <th></th>\n      <th>Dates</th>\n      <th>Balance</th>\n    </tr>\n  </thead>\n  <tbody>\n    <tr>\n      <th>0</th>\n      <td>2018-08</td>\n      <td>167.509032</td>\n    </tr>\n    <tr>\n      <th>1</th>\n      <td>2018-09</td>\n      <td>178.070333</td>\n    </tr>\n    <tr>\n      <th>2</th>\n      <td>2018-10</td>\n      <td>203.514516</td>\n    </tr>\n  </tbody>\n</table>\n</div>"
     },
     "metadata": {},
     "execution_count": 17
    }
   ],
   "source": [
    "df_final = GreenlightUtility.get_final_data_frame(averages)\n",
    "df_final"
   ]
  },
  {
   "cell_type": "code",
   "execution_count": 18,
   "metadata": {},
   "outputs": [
    {
     "output_type": "execute_result",
     "data": {
      "text/plain": "54.90938817204301"
     },
     "metadata": {},
     "execution_count": 18
    }
   ],
   "source": [
    "df_final['Balance'].sum() * .1"
   ]
  }
 ]
}