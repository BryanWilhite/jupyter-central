{
 "metadata": {
  "language_info": {
   "codemirror_mode": {
    "name": "ipython",
    "version": 3
   },
   "file_extension": ".py",
   "mimetype": "text/x-python",
   "name": "python",
   "nbconvert_exporter": "python",
   "pygments_lexer": "ipython3",
   "version": "3.8.5-final"
  },
  "orig_nbformat": 2,
  "kernelspec": {
   "name": "Python 3.8.5 64-bit ('tools': virtualenv)",
   "display_name": "Python 3.8.5 64-bit ('tools': virtualenv)",
   "metadata": {
    "interpreter": {
     "hash": "a707b6ce8c685eb936424fcc3009d4b4b7a52543c4db09380a3fc49186ceb509"
    }
   }
  }
 },
 "nbformat": 4,
 "nbformat_minor": 2,
 "cells": [
  {
   "source": [
    "# 2018–2019 Average-Daily-Balance Calculations\n",
    "\n",
    "This notebook documents months 11 and 12 for 2018 through to month 1, 2019."
   ],
   "cell_type": "markdown",
   "metadata": {}
  },
  {
   "cell_type": "code",
   "execution_count": 1,
   "metadata": {},
   "outputs": [],
   "source": [
    "%run ./GreenlightUtility.py\n",
    "\n",
    "averages = []"
   ]
  },
  {
   "source": [
    "## 2018-11"
   ],
   "cell_type": "markdown",
   "metadata": {}
  },
  {
   "cell_type": "code",
   "execution_count": 2,
   "metadata": {},
   "outputs": [
    {
     "output_type": "execute_result",
     "data": {
      "text/plain": "     CsvIndex       Date          Account Num             Description  \\\n0  2018-11-01 2018-11-01  Greenlight Card                       Apple   \n1  2018-11-03 2018-11-03  Greenlight Card                     Spotify   \n2  2018-11-09 2018-11-09  Greenlight Card                         CVS   \n3  2018-11-12 2018-11-12  Greenlight Card        City of Santa Monica   \n4  2018-11-12 2018-11-12  Greenlight Card                  Greenlight   \n5  2018-11-13 2018-11-13  Greenlight Card                       Apple   \n6  2018-11-18 2018-11-18  Greenlight Card              Transfer Money   \n7  2018-11-28 2018-11-28  Greenlight Card              Transfer Money   \n8  2018-11-30 2018-11-30  Greenlight Card      National/Robertson Car   \n9  2018-11-30 2018-11-30  Greenlight Card                     Spotify   \n\n            Memo               Category Tag Clr  Amount  \n0         ITUNES      Childcare:Leisure       c   -8.91  \n1                     Childcare:Leisure       c   -9.99  \n2                 Childcare:Furnishings       c   -3.25  \n3  beach parking  Childcare:Furnishings       c   -2.00  \n4                 Childcare:Furnishings           -4.99  \n5         ITUNES      Childcare:Leisure       c   -5.99  \n6                      [inflow account]           50.00  \n7                      [inflow account]       c  150.00  \n8                 Childcare:Furnishings       c   -4.97  \n9                     Childcare:Leisure       c   -9.99  ",
      "text/html": "<div>\n<style scoped>\n    .dataframe tbody tr th:only-of-type {\n        vertical-align: middle;\n    }\n\n    .dataframe tbody tr th {\n        vertical-align: top;\n    }\n\n    .dataframe thead th {\n        text-align: right;\n    }\n</style>\n<table border=\"1\" class=\"dataframe\">\n  <thead>\n    <tr style=\"text-align: right;\">\n      <th></th>\n      <th>CsvIndex</th>\n      <th>Date</th>\n      <th>Account</th>\n      <th>Num</th>\n      <th>Description</th>\n      <th>Memo</th>\n      <th>Category</th>\n      <th>Tag</th>\n      <th>Clr</th>\n      <th>Amount</th>\n    </tr>\n  </thead>\n  <tbody>\n    <tr>\n      <th>0</th>\n      <td>2018-11-01</td>\n      <td>2018-11-01</td>\n      <td>Greenlight Card</td>\n      <td></td>\n      <td>Apple</td>\n      <td>ITUNES</td>\n      <td>Childcare:Leisure</td>\n      <td></td>\n      <td>c</td>\n      <td>-8.91</td>\n    </tr>\n    <tr>\n      <th>1</th>\n      <td>2018-11-03</td>\n      <td>2018-11-03</td>\n      <td>Greenlight Card</td>\n      <td></td>\n      <td>Spotify</td>\n      <td></td>\n      <td>Childcare:Leisure</td>\n      <td></td>\n      <td>c</td>\n      <td>-9.99</td>\n    </tr>\n    <tr>\n      <th>2</th>\n      <td>2018-11-09</td>\n      <td>2018-11-09</td>\n      <td>Greenlight Card</td>\n      <td></td>\n      <td>CVS</td>\n      <td></td>\n      <td>Childcare:Furnishings</td>\n      <td></td>\n      <td>c</td>\n      <td>-3.25</td>\n    </tr>\n    <tr>\n      <th>3</th>\n      <td>2018-11-12</td>\n      <td>2018-11-12</td>\n      <td>Greenlight Card</td>\n      <td></td>\n      <td>City of Santa Monica</td>\n      <td>beach parking</td>\n      <td>Childcare:Furnishings</td>\n      <td></td>\n      <td>c</td>\n      <td>-2.00</td>\n    </tr>\n    <tr>\n      <th>4</th>\n      <td>2018-11-12</td>\n      <td>2018-11-12</td>\n      <td>Greenlight Card</td>\n      <td></td>\n      <td>Greenlight</td>\n      <td></td>\n      <td>Childcare:Furnishings</td>\n      <td></td>\n      <td></td>\n      <td>-4.99</td>\n    </tr>\n    <tr>\n      <th>5</th>\n      <td>2018-11-13</td>\n      <td>2018-11-13</td>\n      <td>Greenlight Card</td>\n      <td></td>\n      <td>Apple</td>\n      <td>ITUNES</td>\n      <td>Childcare:Leisure</td>\n      <td></td>\n      <td>c</td>\n      <td>-5.99</td>\n    </tr>\n    <tr>\n      <th>6</th>\n      <td>2018-11-18</td>\n      <td>2018-11-18</td>\n      <td>Greenlight Card</td>\n      <td></td>\n      <td>Transfer Money</td>\n      <td></td>\n      <td>[inflow account]</td>\n      <td></td>\n      <td></td>\n      <td>50.00</td>\n    </tr>\n    <tr>\n      <th>7</th>\n      <td>2018-11-28</td>\n      <td>2018-11-28</td>\n      <td>Greenlight Card</td>\n      <td></td>\n      <td>Transfer Money</td>\n      <td></td>\n      <td>[inflow account]</td>\n      <td></td>\n      <td>c</td>\n      <td>150.00</td>\n    </tr>\n    <tr>\n      <th>8</th>\n      <td>2018-11-30</td>\n      <td>2018-11-30</td>\n      <td>Greenlight Card</td>\n      <td></td>\n      <td>National/Robertson Car</td>\n      <td></td>\n      <td>Childcare:Furnishings</td>\n      <td></td>\n      <td>c</td>\n      <td>-4.97</td>\n    </tr>\n    <tr>\n      <th>9</th>\n      <td>2018-11-30</td>\n      <td>2018-11-30</td>\n      <td>Greenlight Card</td>\n      <td></td>\n      <td>Spotify</td>\n      <td></td>\n      <td>Childcare:Leisure</td>\n      <td></td>\n      <td>c</td>\n      <td>-9.99</td>\n    </tr>\n  </tbody>\n</table>\n</div>"
     },
     "metadata": {},
     "execution_count": 2
    }
   ],
   "source": [
    "starting_balance = 195.74\n",
    "\n",
    "df_csv = GreenlightUtility.get_csv_data_frame('./data/2018-11.csv')\n",
    "df_csv"
   ]
  },
  {
   "cell_type": "code",
   "execution_count": 3,
   "metadata": {},
   "outputs": [
    {
     "output_type": "execute_result",
     "data": {
      "text/plain": "     CsvIndex  Balance\n0  2018-11-01   186.83\n1  2018-11-03   176.84\n2  2018-11-09   173.59\n3  2018-11-12   171.59\n4  2018-11-12   166.60\n5  2018-11-13   160.61\n6  2018-11-18   210.61\n7  2018-11-28   360.61\n8  2018-11-30   355.64\n9  2018-11-30   345.65",
      "text/html": "<div>\n<style scoped>\n    .dataframe tbody tr th:only-of-type {\n        vertical-align: middle;\n    }\n\n    .dataframe tbody tr th {\n        vertical-align: top;\n    }\n\n    .dataframe thead th {\n        text-align: right;\n    }\n</style>\n<table border=\"1\" class=\"dataframe\">\n  <thead>\n    <tr style=\"text-align: right;\">\n      <th></th>\n      <th>CsvIndex</th>\n      <th>Balance</th>\n    </tr>\n  </thead>\n  <tbody>\n    <tr>\n      <th>0</th>\n      <td>2018-11-01</td>\n      <td>186.83</td>\n    </tr>\n    <tr>\n      <th>1</th>\n      <td>2018-11-03</td>\n      <td>176.84</td>\n    </tr>\n    <tr>\n      <th>2</th>\n      <td>2018-11-09</td>\n      <td>173.59</td>\n    </tr>\n    <tr>\n      <th>3</th>\n      <td>2018-11-12</td>\n      <td>171.59</td>\n    </tr>\n    <tr>\n      <th>4</th>\n      <td>2018-11-12</td>\n      <td>166.60</td>\n    </tr>\n    <tr>\n      <th>5</th>\n      <td>2018-11-13</td>\n      <td>160.61</td>\n    </tr>\n    <tr>\n      <th>6</th>\n      <td>2018-11-18</td>\n      <td>210.61</td>\n    </tr>\n    <tr>\n      <th>7</th>\n      <td>2018-11-28</td>\n      <td>360.61</td>\n    </tr>\n    <tr>\n      <th>8</th>\n      <td>2018-11-30</td>\n      <td>355.64</td>\n    </tr>\n    <tr>\n      <th>9</th>\n      <td>2018-11-30</td>\n      <td>345.65</td>\n    </tr>\n  </tbody>\n</table>\n</div>"
     },
     "metadata": {},
     "execution_count": 3
    }
   ],
   "source": [
    "df_balances = GreenlightUtility.get_balance_data_frame(df_csv, starting_balance)\n",
    "df_balances"
   ]
  },
  {
   "cell_type": "code",
   "execution_count": 4,
   "metadata": {},
   "outputs": [
    {
     "output_type": "execute_result",
     "data": {
      "text/plain": "            Balance\nCsvIndex           \n2018-11-01   186.83\n2018-11-03   176.84\n2018-11-09   173.59\n2018-11-12   166.60\n2018-11-13   160.61\n2018-11-18   210.61\n2018-11-28   360.61\n2018-11-30   345.65",
      "text/html": "<div>\n<style scoped>\n    .dataframe tbody tr th:only-of-type {\n        vertical-align: middle;\n    }\n\n    .dataframe tbody tr th {\n        vertical-align: top;\n    }\n\n    .dataframe thead th {\n        text-align: right;\n    }\n</style>\n<table border=\"1\" class=\"dataframe\">\n  <thead>\n    <tr style=\"text-align: right;\">\n      <th></th>\n      <th>Balance</th>\n    </tr>\n    <tr>\n      <th>CsvIndex</th>\n      <th></th>\n    </tr>\n  </thead>\n  <tbody>\n    <tr>\n      <th>2018-11-01</th>\n      <td>186.83</td>\n    </tr>\n    <tr>\n      <th>2018-11-03</th>\n      <td>176.84</td>\n    </tr>\n    <tr>\n      <th>2018-11-09</th>\n      <td>173.59</td>\n    </tr>\n    <tr>\n      <th>2018-11-12</th>\n      <td>166.60</td>\n    </tr>\n    <tr>\n      <th>2018-11-13</th>\n      <td>160.61</td>\n    </tr>\n    <tr>\n      <th>2018-11-18</th>\n      <td>210.61</td>\n    </tr>\n    <tr>\n      <th>2018-11-28</th>\n      <td>360.61</td>\n    </tr>\n    <tr>\n      <th>2018-11-30</th>\n      <td>345.65</td>\n    </tr>\n  </tbody>\n</table>\n</div>"
     },
     "metadata": {},
     "execution_count": 4
    }
   ],
   "source": [
    "df_eod_balances = GreenlightUtility.get_balance_eod_data_frame(df_balances)\n",
    "df_eod_balances"
   ]
  },
  {
   "cell_type": "code",
   "execution_count": 5,
   "metadata": {},
   "outputs": [],
   "source": [
    "first_day_of_month = GreenlightUtility.get_first_day_of_month(2018, 11)\n",
    "\n",
    "df_daily_balance = GreenlightUtility.get_daily_balance_data_frame(\n",
    "    first_day_of_month,\n",
    "    starting_balance,\n",
    "    df_eod_balances)\n",
    "\n",
    "averages.append((first_day_of_month.strftime('%Y-%m'), df_daily_balance.mean().values[0]))"
   ]
  },
  {
   "cell_type": "code",
   "execution_count": 6,
   "metadata": {},
   "outputs": [
    {
     "output_type": "execute_result",
     "data": {
      "text/plain": "            Balance\nCsvIndex           \n2018-11-30   345.65",
      "text/html": "<div>\n<style scoped>\n    .dataframe tbody tr th:only-of-type {\n        vertical-align: middle;\n    }\n\n    .dataframe tbody tr th {\n        vertical-align: top;\n    }\n\n    .dataframe thead th {\n        text-align: right;\n    }\n</style>\n<table border=\"1\" class=\"dataframe\">\n  <thead>\n    <tr style=\"text-align: right;\">\n      <th></th>\n      <th>Balance</th>\n    </tr>\n    <tr>\n      <th>CsvIndex</th>\n      <th></th>\n    </tr>\n  </thead>\n  <tbody>\n    <tr>\n      <th>2018-11-30</th>\n      <td>345.65</td>\n    </tr>\n  </tbody>\n</table>\n</div>"
     },
     "metadata": {},
     "execution_count": 6
    }
   ],
   "source": [
    "df_eod_balances.tail(1)"
   ]
  },
  {
   "source": [
    "## 2018-12"
   ],
   "cell_type": "markdown",
   "metadata": {}
  },
  {
   "cell_type": "code",
   "execution_count": 7,
   "metadata": {},
   "outputs": [
    {
     "output_type": "execute_result",
     "data": {
      "text/plain": "     CsvIndex       Date          Account Num         Description  \\\n0  2018-12-03 2018-12-03  Greenlight Card        Google (YouTube)   \n1  2018-12-04 2018-12-04  Greenlight Card             Trader Joes   \n2  2018-12-05 2018-12-05  Greenlight Card      **VOID**Amazon.com   \n3  2018-12-06 2018-12-06  Greenlight Card               Starbucks   \n4  2018-12-06 2018-12-06  Greenlight Card           Noah&#39;s Bagels   \n5  2018-12-12 2018-12-12  Greenlight Card              Greenlight   \n6  2018-12-12 2018-12-12  Greenlight Card                   Apple   \n7  2018-12-31 2018-12-31  Greenlight Card                 Spotify   \n\n                                  Memo                Category Tag Clr  Amount  \n0                                            Childcare:Leisure       c   -3.99  \n1                                        Childcare:Furnishings       c   -7.98  \n2  appears to be a marketplace credit?  Childcare:Cash Support       c    0.00  \n3                                        Childcare:Furnishings       c   -2.50  \n4                                        Childcare:Furnishings       c   -7.99  \n5                                        Childcare:Furnishings       c   -4.99  \n6                               ITUNES       Childcare:Leisure       c  -10.98  \n7                                            Childcare:Leisure       c   -9.99  ",
      "text/html": "<div>\n<style scoped>\n    .dataframe tbody tr th:only-of-type {\n        vertical-align: middle;\n    }\n\n    .dataframe tbody tr th {\n        vertical-align: top;\n    }\n\n    .dataframe thead th {\n        text-align: right;\n    }\n</style>\n<table border=\"1\" class=\"dataframe\">\n  <thead>\n    <tr style=\"text-align: right;\">\n      <th></th>\n      <th>CsvIndex</th>\n      <th>Date</th>\n      <th>Account</th>\n      <th>Num</th>\n      <th>Description</th>\n      <th>Memo</th>\n      <th>Category</th>\n      <th>Tag</th>\n      <th>Clr</th>\n      <th>Amount</th>\n    </tr>\n  </thead>\n  <tbody>\n    <tr>\n      <th>0</th>\n      <td>2018-12-03</td>\n      <td>2018-12-03</td>\n      <td>Greenlight Card</td>\n      <td></td>\n      <td>Google (YouTube)</td>\n      <td></td>\n      <td>Childcare:Leisure</td>\n      <td></td>\n      <td>c</td>\n      <td>-3.99</td>\n    </tr>\n    <tr>\n      <th>1</th>\n      <td>2018-12-04</td>\n      <td>2018-12-04</td>\n      <td>Greenlight Card</td>\n      <td></td>\n      <td>Trader Joes</td>\n      <td></td>\n      <td>Childcare:Furnishings</td>\n      <td></td>\n      <td>c</td>\n      <td>-7.98</td>\n    </tr>\n    <tr>\n      <th>2</th>\n      <td>2018-12-05</td>\n      <td>2018-12-05</td>\n      <td>Greenlight Card</td>\n      <td></td>\n      <td>**VOID**Amazon.com</td>\n      <td>appears to be a marketplace credit?</td>\n      <td>Childcare:Cash Support</td>\n      <td></td>\n      <td>c</td>\n      <td>0.00</td>\n    </tr>\n    <tr>\n      <th>3</th>\n      <td>2018-12-06</td>\n      <td>2018-12-06</td>\n      <td>Greenlight Card</td>\n      <td></td>\n      <td>Starbucks</td>\n      <td></td>\n      <td>Childcare:Furnishings</td>\n      <td></td>\n      <td>c</td>\n      <td>-2.50</td>\n    </tr>\n    <tr>\n      <th>4</th>\n      <td>2018-12-06</td>\n      <td>2018-12-06</td>\n      <td>Greenlight Card</td>\n      <td></td>\n      <td>Noah's Bagels</td>\n      <td></td>\n      <td>Childcare:Furnishings</td>\n      <td></td>\n      <td>c</td>\n      <td>-7.99</td>\n    </tr>\n    <tr>\n      <th>5</th>\n      <td>2018-12-12</td>\n      <td>2018-12-12</td>\n      <td>Greenlight Card</td>\n      <td></td>\n      <td>Greenlight</td>\n      <td></td>\n      <td>Childcare:Furnishings</td>\n      <td></td>\n      <td>c</td>\n      <td>-4.99</td>\n    </tr>\n    <tr>\n      <th>6</th>\n      <td>2018-12-12</td>\n      <td>2018-12-12</td>\n      <td>Greenlight Card</td>\n      <td></td>\n      <td>Apple</td>\n      <td>ITUNES</td>\n      <td>Childcare:Leisure</td>\n      <td></td>\n      <td>c</td>\n      <td>-10.98</td>\n    </tr>\n    <tr>\n      <th>7</th>\n      <td>2018-12-31</td>\n      <td>2018-12-31</td>\n      <td>Greenlight Card</td>\n      <td></td>\n      <td>Spotify</td>\n      <td></td>\n      <td>Childcare:Leisure</td>\n      <td></td>\n      <td>c</td>\n      <td>-9.99</td>\n    </tr>\n  </tbody>\n</table>\n</div>"
     },
     "metadata": {},
     "execution_count": 7
    }
   ],
   "source": [
    "starting_balance = 345.65\n",
    "\n",
    "df_csv = GreenlightUtility.get_csv_data_frame('./data/2018-12.csv')\n",
    "df_csv"
   ]
  },
  {
   "cell_type": "code",
   "execution_count": 8,
   "metadata": {},
   "outputs": [
    {
     "output_type": "execute_result",
     "data": {
      "text/plain": "     CsvIndex  Balance\n0  2018-12-03   341.66\n1  2018-12-04   333.68\n2  2018-12-05   333.68\n3  2018-12-06   331.18\n4  2018-12-06   323.19\n5  2018-12-12   318.20\n6  2018-12-12   307.22\n7  2018-12-31   297.23",
      "text/html": "<div>\n<style scoped>\n    .dataframe tbody tr th:only-of-type {\n        vertical-align: middle;\n    }\n\n    .dataframe tbody tr th {\n        vertical-align: top;\n    }\n\n    .dataframe thead th {\n        text-align: right;\n    }\n</style>\n<table border=\"1\" class=\"dataframe\">\n  <thead>\n    <tr style=\"text-align: right;\">\n      <th></th>\n      <th>CsvIndex</th>\n      <th>Balance</th>\n    </tr>\n  </thead>\n  <tbody>\n    <tr>\n      <th>0</th>\n      <td>2018-12-03</td>\n      <td>341.66</td>\n    </tr>\n    <tr>\n      <th>1</th>\n      <td>2018-12-04</td>\n      <td>333.68</td>\n    </tr>\n    <tr>\n      <th>2</th>\n      <td>2018-12-05</td>\n      <td>333.68</td>\n    </tr>\n    <tr>\n      <th>3</th>\n      <td>2018-12-06</td>\n      <td>331.18</td>\n    </tr>\n    <tr>\n      <th>4</th>\n      <td>2018-12-06</td>\n      <td>323.19</td>\n    </tr>\n    <tr>\n      <th>5</th>\n      <td>2018-12-12</td>\n      <td>318.20</td>\n    </tr>\n    <tr>\n      <th>6</th>\n      <td>2018-12-12</td>\n      <td>307.22</td>\n    </tr>\n    <tr>\n      <th>7</th>\n      <td>2018-12-31</td>\n      <td>297.23</td>\n    </tr>\n  </tbody>\n</table>\n</div>"
     },
     "metadata": {},
     "execution_count": 8
    }
   ],
   "source": [
    "df_balances = GreenlightUtility.get_balance_data_frame(df_csv, starting_balance)\n",
    "df_balances"
   ]
  },
  {
   "cell_type": "code",
   "execution_count": 9,
   "metadata": {},
   "outputs": [
    {
     "output_type": "execute_result",
     "data": {
      "text/plain": "            Balance\nCsvIndex           \n2018-12-03   341.66\n2018-12-04   333.68\n2018-12-05   333.68\n2018-12-06   323.19\n2018-12-12   307.22\n2018-12-31   297.23",
      "text/html": "<div>\n<style scoped>\n    .dataframe tbody tr th:only-of-type {\n        vertical-align: middle;\n    }\n\n    .dataframe tbody tr th {\n        vertical-align: top;\n    }\n\n    .dataframe thead th {\n        text-align: right;\n    }\n</style>\n<table border=\"1\" class=\"dataframe\">\n  <thead>\n    <tr style=\"text-align: right;\">\n      <th></th>\n      <th>Balance</th>\n    </tr>\n    <tr>\n      <th>CsvIndex</th>\n      <th></th>\n    </tr>\n  </thead>\n  <tbody>\n    <tr>\n      <th>2018-12-03</th>\n      <td>341.66</td>\n    </tr>\n    <tr>\n      <th>2018-12-04</th>\n      <td>333.68</td>\n    </tr>\n    <tr>\n      <th>2018-12-05</th>\n      <td>333.68</td>\n    </tr>\n    <tr>\n      <th>2018-12-06</th>\n      <td>323.19</td>\n    </tr>\n    <tr>\n      <th>2018-12-12</th>\n      <td>307.22</td>\n    </tr>\n    <tr>\n      <th>2018-12-31</th>\n      <td>297.23</td>\n    </tr>\n  </tbody>\n</table>\n</div>"
     },
     "metadata": {},
     "execution_count": 9
    }
   ],
   "source": [
    "df_eod_balances = GreenlightUtility.get_balance_eod_data_frame(df_balances)\n",
    "df_eod_balances"
   ]
  },
  {
   "cell_type": "code",
   "execution_count": 10,
   "metadata": {},
   "outputs": [],
   "source": [
    "first_day_of_month = GreenlightUtility.get_first_day_of_month(2018, 12)\n",
    "\n",
    "df_daily_balance = GreenlightUtility.get_daily_balance_data_frame(\n",
    "    first_day_of_month,\n",
    "    starting_balance,\n",
    "    df_eod_balances)\n",
    "\n",
    "averages.append((first_day_of_month.strftime('%Y-%m'), df_daily_balance.mean().values[0]))"
   ]
  },
  {
   "cell_type": "code",
   "execution_count": 11,
   "metadata": {},
   "outputs": [
    {
     "output_type": "execute_result",
     "data": {
      "text/plain": "            Balance\nCsvIndex           \n2018-12-31   297.23",
      "text/html": "<div>\n<style scoped>\n    .dataframe tbody tr th:only-of-type {\n        vertical-align: middle;\n    }\n\n    .dataframe tbody tr th {\n        vertical-align: top;\n    }\n\n    .dataframe thead th {\n        text-align: right;\n    }\n</style>\n<table border=\"1\" class=\"dataframe\">\n  <thead>\n    <tr style=\"text-align: right;\">\n      <th></th>\n      <th>Balance</th>\n    </tr>\n    <tr>\n      <th>CsvIndex</th>\n      <th></th>\n    </tr>\n  </thead>\n  <tbody>\n    <tr>\n      <th>2018-12-31</th>\n      <td>297.23</td>\n    </tr>\n  </tbody>\n</table>\n</div>"
     },
     "metadata": {},
     "execution_count": 11
    }
   ],
   "source": [
    "df_eod_balances.tail(1)"
   ]
  },
  {
   "source": [
    "## 2019-1"
   ],
   "cell_type": "markdown",
   "metadata": {}
  },
  {
   "cell_type": "code",
   "execution_count": 12,
   "metadata": {},
   "outputs": [
    {
     "output_type": "execute_result",
     "data": {
      "text/plain": "     CsvIndex       Date          Account Num        Description    Memo  \\\n0  2019-01-03 2019-01-03  Greenlight Card      Cinemark Theaters           \n1  2019-01-03 2019-01-03  Greenlight Card      Cinemark Theaters           \n2  2019-01-04 2019-01-04  Greenlight Card         Transfer Money           \n3  2019-01-07 2019-01-07  Greenlight Card                  Apple  ITUNES   \n4  2019-01-09 2019-01-09  Greenlight Card                Wendy&#39;s           \n5  2019-01-12 2019-01-12  Greenlight Card             Greenlight           \n\n                Category Tag Clr  Amount  \n0      Childcare:Leisure       c  -11.00  \n1      Childcare:Leisure       c   -9.00  \n2       [inflow account]       c   50.00  \n3      Childcare:Leisure       c   -5.99  \n4  Childcare:Furnishings       c   -4.38  \n5  Childcare:Furnishings       c   -4.99  ",
      "text/html": "<div>\n<style scoped>\n    .dataframe tbody tr th:only-of-type {\n        vertical-align: middle;\n    }\n\n    .dataframe tbody tr th {\n        vertical-align: top;\n    }\n\n    .dataframe thead th {\n        text-align: right;\n    }\n</style>\n<table border=\"1\" class=\"dataframe\">\n  <thead>\n    <tr style=\"text-align: right;\">\n      <th></th>\n      <th>CsvIndex</th>\n      <th>Date</th>\n      <th>Account</th>\n      <th>Num</th>\n      <th>Description</th>\n      <th>Memo</th>\n      <th>Category</th>\n      <th>Tag</th>\n      <th>Clr</th>\n      <th>Amount</th>\n    </tr>\n  </thead>\n  <tbody>\n    <tr>\n      <th>0</th>\n      <td>2019-01-03</td>\n      <td>2019-01-03</td>\n      <td>Greenlight Card</td>\n      <td></td>\n      <td>Cinemark Theaters</td>\n      <td></td>\n      <td>Childcare:Leisure</td>\n      <td></td>\n      <td>c</td>\n      <td>-11.00</td>\n    </tr>\n    <tr>\n      <th>1</th>\n      <td>2019-01-03</td>\n      <td>2019-01-03</td>\n      <td>Greenlight Card</td>\n      <td></td>\n      <td>Cinemark Theaters</td>\n      <td></td>\n      <td>Childcare:Leisure</td>\n      <td></td>\n      <td>c</td>\n      <td>-9.00</td>\n    </tr>\n    <tr>\n      <th>2</th>\n      <td>2019-01-04</td>\n      <td>2019-01-04</td>\n      <td>Greenlight Card</td>\n      <td></td>\n      <td>Transfer Money</td>\n      <td></td>\n      <td>[inflow account]</td>\n      <td></td>\n      <td>c</td>\n      <td>50.00</td>\n    </tr>\n    <tr>\n      <th>3</th>\n      <td>2019-01-07</td>\n      <td>2019-01-07</td>\n      <td>Greenlight Card</td>\n      <td></td>\n      <td>Apple</td>\n      <td>ITUNES</td>\n      <td>Childcare:Leisure</td>\n      <td></td>\n      <td>c</td>\n      <td>-5.99</td>\n    </tr>\n    <tr>\n      <th>4</th>\n      <td>2019-01-09</td>\n      <td>2019-01-09</td>\n      <td>Greenlight Card</td>\n      <td></td>\n      <td>Wendy's</td>\n      <td></td>\n      <td>Childcare:Furnishings</td>\n      <td></td>\n      <td>c</td>\n      <td>-4.38</td>\n    </tr>\n    <tr>\n      <th>5</th>\n      <td>2019-01-12</td>\n      <td>2019-01-12</td>\n      <td>Greenlight Card</td>\n      <td></td>\n      <td>Greenlight</td>\n      <td></td>\n      <td>Childcare:Furnishings</td>\n      <td></td>\n      <td>c</td>\n      <td>-4.99</td>\n    </tr>\n  </tbody>\n</table>\n</div>"
     },
     "metadata": {},
     "execution_count": 12
    }
   ],
   "source": [
    "starting_balance = 297.23\n",
    "\n",
    "df_csv = GreenlightUtility.get_csv_data_frame('./data/2019-01.csv')\n",
    "df_csv"
   ]
  },
  {
   "cell_type": "code",
   "execution_count": 13,
   "metadata": {},
   "outputs": [
    {
     "output_type": "execute_result",
     "data": {
      "text/plain": "     CsvIndex  Balance\n0  2019-01-03   286.23\n1  2019-01-03   277.23\n2  2019-01-04   327.23\n3  2019-01-07   321.24\n4  2019-01-09   316.86\n5  2019-01-12   311.87",
      "text/html": "<div>\n<style scoped>\n    .dataframe tbody tr th:only-of-type {\n        vertical-align: middle;\n    }\n\n    .dataframe tbody tr th {\n        vertical-align: top;\n    }\n\n    .dataframe thead th {\n        text-align: right;\n    }\n</style>\n<table border=\"1\" class=\"dataframe\">\n  <thead>\n    <tr style=\"text-align: right;\">\n      <th></th>\n      <th>CsvIndex</th>\n      <th>Balance</th>\n    </tr>\n  </thead>\n  <tbody>\n    <tr>\n      <th>0</th>\n      <td>2019-01-03</td>\n      <td>286.23</td>\n    </tr>\n    <tr>\n      <th>1</th>\n      <td>2019-01-03</td>\n      <td>277.23</td>\n    </tr>\n    <tr>\n      <th>2</th>\n      <td>2019-01-04</td>\n      <td>327.23</td>\n    </tr>\n    <tr>\n      <th>3</th>\n      <td>2019-01-07</td>\n      <td>321.24</td>\n    </tr>\n    <tr>\n      <th>4</th>\n      <td>2019-01-09</td>\n      <td>316.86</td>\n    </tr>\n    <tr>\n      <th>5</th>\n      <td>2019-01-12</td>\n      <td>311.87</td>\n    </tr>\n  </tbody>\n</table>\n</div>"
     },
     "metadata": {},
     "execution_count": 13
    }
   ],
   "source": [
    "df_balances = GreenlightUtility.get_balance_data_frame(df_csv, starting_balance)\n",
    "df_balances"
   ]
  },
  {
   "cell_type": "code",
   "execution_count": 14,
   "metadata": {},
   "outputs": [
    {
     "output_type": "execute_result",
     "data": {
      "text/plain": "            Balance\nCsvIndex           \n2019-01-03   277.23\n2019-01-04   327.23\n2019-01-07   321.24\n2019-01-09   316.86\n2019-01-12   311.87",
      "text/html": "<div>\n<style scoped>\n    .dataframe tbody tr th:only-of-type {\n        vertical-align: middle;\n    }\n\n    .dataframe tbody tr th {\n        vertical-align: top;\n    }\n\n    .dataframe thead th {\n        text-align: right;\n    }\n</style>\n<table border=\"1\" class=\"dataframe\">\n  <thead>\n    <tr style=\"text-align: right;\">\n      <th></th>\n      <th>Balance</th>\n    </tr>\n    <tr>\n      <th>CsvIndex</th>\n      <th></th>\n    </tr>\n  </thead>\n  <tbody>\n    <tr>\n      <th>2019-01-03</th>\n      <td>277.23</td>\n    </tr>\n    <tr>\n      <th>2019-01-04</th>\n      <td>327.23</td>\n    </tr>\n    <tr>\n      <th>2019-01-07</th>\n      <td>321.24</td>\n    </tr>\n    <tr>\n      <th>2019-01-09</th>\n      <td>316.86</td>\n    </tr>\n    <tr>\n      <th>2019-01-12</th>\n      <td>311.87</td>\n    </tr>\n  </tbody>\n</table>\n</div>"
     },
     "metadata": {},
     "execution_count": 14
    }
   ],
   "source": [
    "df_eod_balances = GreenlightUtility.get_balance_eod_data_frame(df_balances)\n",
    "df_eod_balances"
   ]
  },
  {
   "cell_type": "code",
   "execution_count": 15,
   "metadata": {},
   "outputs": [],
   "source": [
    "first_day_of_month = GreenlightUtility.get_first_day_of_month(2019, 1)\n",
    "\n",
    "df_daily_balance = GreenlightUtility.get_daily_balance_data_frame(\n",
    "    first_day_of_month,\n",
    "    starting_balance,\n",
    "    df_eod_balances)\n",
    "\n",
    "averages.append((first_day_of_month.strftime('%Y-%m'), df_daily_balance.mean().values[0]))"
   ]
  },
  {
   "cell_type": "code",
   "execution_count": 16,
   "metadata": {},
   "outputs": [
    {
     "output_type": "execute_result",
     "data": {
      "text/plain": "            Balance\nCsvIndex           \n2019-01-12   311.87",
      "text/html": "<div>\n<style scoped>\n    .dataframe tbody tr th:only-of-type {\n        vertical-align: middle;\n    }\n\n    .dataframe tbody tr th {\n        vertical-align: top;\n    }\n\n    .dataframe thead th {\n        text-align: right;\n    }\n</style>\n<table border=\"1\" class=\"dataframe\">\n  <thead>\n    <tr style=\"text-align: right;\">\n      <th></th>\n      <th>Balance</th>\n    </tr>\n    <tr>\n      <th>CsvIndex</th>\n      <th></th>\n    </tr>\n  </thead>\n  <tbody>\n    <tr>\n      <th>2019-01-12</th>\n      <td>311.87</td>\n    </tr>\n  </tbody>\n</table>\n</div>"
     },
     "metadata": {},
     "execution_count": 16
    }
   ],
   "source": [
    "df_eod_balances.tail(1)"
   ]
  },
  {
   "source": [
    "## Calculation of Contribution"
   ],
   "cell_type": "markdown",
   "metadata": {}
  },
  {
   "cell_type": "code",
   "execution_count": 17,
   "metadata": {},
   "outputs": [
    {
     "output_type": "execute_result",
     "data": {
      "text/plain": "     Dates     Balance\n0  2018-11  203.269667\n1  2018-12  315.286129\n2  2019-01  312.381935",
      "text/html": "<div>\n<style scoped>\n    .dataframe tbody tr th:only-of-type {\n        vertical-align: middle;\n    }\n\n    .dataframe tbody tr th {\n        vertical-align: top;\n    }\n\n    .dataframe thead th {\n        text-align: right;\n    }\n</style>\n<table border=\"1\" class=\"dataframe\">\n  <thead>\n    <tr style=\"text-align: right;\">\n      <th></th>\n      <th>Dates</th>\n      <th>Balance</th>\n    </tr>\n  </thead>\n  <tbody>\n    <tr>\n      <th>0</th>\n      <td>2018-11</td>\n      <td>203.269667</td>\n    </tr>\n    <tr>\n      <th>1</th>\n      <td>2018-12</td>\n      <td>315.286129</td>\n    </tr>\n    <tr>\n      <th>2</th>\n      <td>2019-01</td>\n      <td>312.381935</td>\n    </tr>\n  </tbody>\n</table>\n</div>"
     },
     "metadata": {},
     "execution_count": 17
    }
   ],
   "source": [
    "df_final = GreenlightUtility.get_final_data_frame(averages)\n",
    "df_final"
   ]
  },
  {
   "cell_type": "code",
   "execution_count": 18,
   "metadata": {},
   "outputs": [
    {
     "output_type": "execute_result",
     "data": {
      "text/plain": "83.09377311827957"
     },
     "metadata": {},
     "execution_count": 18
    }
   ],
   "source": [
    "df_final['Balance'].sum() * .1"
   ]
  }
 ]
}