{
 "cells": [
  {
   "source": [
    "# 2017 Average-Daily-Balance Calculations\n",
    "\n",
    "This notebook documents months 8 through 10 for 2017."
   ],
   "cell_type": "markdown",
   "metadata": {}
  },
  {
   "cell_type": "code",
   "execution_count": 1,
   "metadata": {},
   "outputs": [],
   "source": [
    "%run ./GreenlightUtility.py"
   ]
  },
  {
   "source": [
    "## 2017-08\n",
    "\n",
    "Activity for the month:"
   ],
   "cell_type": "markdown",
   "metadata": {}
  },
  {
   "cell_type": "code",
   "execution_count": 2,
   "metadata": {},
   "outputs": [
    {
     "output_type": "execute_result",
     "data": {
      "text/plain": "        Date                Account Num      Description        Memo  \\\n0  8/13/2017  Greenlight Card (KAW)      Opening Balance               \n1  8/13/2017  Greenlight Card (KAW)       Transfer Money               \n2  8/13/2017  Greenlight Card (KAW)       Transfer Money               \n3  8/24/2017  Greenlight Card (KAW)            Shein.com  London GBR   \n4  8/29/2017  Greenlight Card (KAW)           Geeker.com               \n5  8/29/2017  Greenlight Card (KAW)           Geeker.com               \n6  8/29/2017  Greenlight Card (KAW)           Geeker.com               \n\n                              Category Tag Clr  Amount  \n0              [Greenlight Card (KAW)]       c    0.00  \n1  [Schwab High Yield Checking (3810)]       c  100.00  \n2  [Schwab High Yield Checking (3810)]       c   50.00  \n3                Childcare:Furnishings       c  -12.00  \n4                Childcare:Furnishings       c   -0.01  \n5                Childcare:Furnishings       c   -7.95  \n6                Childcare:Furnishings       c   -1.00  ",
      "text/html": "<div>\n<style scoped>\n    .dataframe tbody tr th:only-of-type {\n        vertical-align: middle;\n    }\n\n    .dataframe tbody tr th {\n        vertical-align: top;\n    }\n\n    .dataframe thead th {\n        text-align: right;\n    }\n</style>\n<table border=\"1\" class=\"dataframe\">\n  <thead>\n    <tr style=\"text-align: right;\">\n      <th></th>\n      <th>Date</th>\n      <th>Account</th>\n      <th>Num</th>\n      <th>Description</th>\n      <th>Memo</th>\n      <th>Category</th>\n      <th>Tag</th>\n      <th>Clr</th>\n      <th>Amount</th>\n    </tr>\n  </thead>\n  <tbody>\n    <tr>\n      <th>0</th>\n      <td>8/13/2017</td>\n      <td>Greenlight Card (KAW)</td>\n      <td></td>\n      <td>Opening Balance</td>\n      <td></td>\n      <td>[Greenlight Card (KAW)]</td>\n      <td></td>\n      <td>c</td>\n      <td>0.00</td>\n    </tr>\n    <tr>\n      <th>1</th>\n      <td>8/13/2017</td>\n      <td>Greenlight Card (KAW)</td>\n      <td></td>\n      <td>Transfer Money</td>\n      <td></td>\n      <td>[Schwab High Yield Checking (3810)]</td>\n      <td></td>\n      <td>c</td>\n      <td>100.00</td>\n    </tr>\n    <tr>\n      <th>2</th>\n      <td>8/13/2017</td>\n      <td>Greenlight Card (KAW)</td>\n      <td></td>\n      <td>Transfer Money</td>\n      <td></td>\n      <td>[Schwab High Yield Checking (3810)]</td>\n      <td></td>\n      <td>c</td>\n      <td>50.00</td>\n    </tr>\n    <tr>\n      <th>3</th>\n      <td>8/24/2017</td>\n      <td>Greenlight Card (KAW)</td>\n      <td></td>\n      <td>Shein.com</td>\n      <td>London GBR</td>\n      <td>Childcare:Furnishings</td>\n      <td></td>\n      <td>c</td>\n      <td>-12.00</td>\n    </tr>\n    <tr>\n      <th>4</th>\n      <td>8/29/2017</td>\n      <td>Greenlight Card (KAW)</td>\n      <td></td>\n      <td>Geeker.com</td>\n      <td></td>\n      <td>Childcare:Furnishings</td>\n      <td></td>\n      <td>c</td>\n      <td>-0.01</td>\n    </tr>\n    <tr>\n      <th>5</th>\n      <td>8/29/2017</td>\n      <td>Greenlight Card (KAW)</td>\n      <td></td>\n      <td>Geeker.com</td>\n      <td></td>\n      <td>Childcare:Furnishings</td>\n      <td></td>\n      <td>c</td>\n      <td>-7.95</td>\n    </tr>\n    <tr>\n      <th>6</th>\n      <td>8/29/2017</td>\n      <td>Greenlight Card (KAW)</td>\n      <td></td>\n      <td>Geeker.com</td>\n      <td></td>\n      <td>Childcare:Furnishings</td>\n      <td></td>\n      <td>c</td>\n      <td>-1.00</td>\n    </tr>\n  </tbody>\n</table>\n</div>"
     },
     "metadata": {},
     "execution_count": 2
    }
   ],
   "source": [
    "starting_balance = 358.74\n",
    "\n",
    "df_csv = GreenlightUtility.get_csv_data_frame('./data/2017-08.csv')\n",
    "df_csv"
   ]
  },
  {
   "source": [
    "Let’s take a look at the balance by every transaction:"
   ],
   "cell_type": "markdown",
   "metadata": {}
  },
  {
   "cell_type": "code",
   "execution_count": 3,
   "metadata": {
    "tags": []
   },
   "outputs": [
    {
     "output_type": "execute_result",
     "data": {
      "text/plain": "        Date  Transactions\n0  8/13/2017        358.74\n1  8/13/2017        458.74\n2  8/13/2017        508.74\n3  8/24/2017        496.74\n4  8/29/2017        496.73\n5  8/29/2017        488.78\n6  8/29/2017        487.78",
      "text/html": "<div>\n<style scoped>\n    .dataframe tbody tr th:only-of-type {\n        vertical-align: middle;\n    }\n\n    .dataframe tbody tr th {\n        vertical-align: top;\n    }\n\n    .dataframe thead th {\n        text-align: right;\n    }\n</style>\n<table border=\"1\" class=\"dataframe\">\n  <thead>\n    <tr style=\"text-align: right;\">\n      <th></th>\n      <th>Date</th>\n      <th>Transactions</th>\n    </tr>\n  </thead>\n  <tbody>\n    <tr>\n      <th>0</th>\n      <td>8/13/2017</td>\n      <td>358.74</td>\n    </tr>\n    <tr>\n      <th>1</th>\n      <td>8/13/2017</td>\n      <td>458.74</td>\n    </tr>\n    <tr>\n      <th>2</th>\n      <td>8/13/2017</td>\n      <td>508.74</td>\n    </tr>\n    <tr>\n      <th>3</th>\n      <td>8/24/2017</td>\n      <td>496.74</td>\n    </tr>\n    <tr>\n      <th>4</th>\n      <td>8/29/2017</td>\n      <td>496.73</td>\n    </tr>\n    <tr>\n      <th>5</th>\n      <td>8/29/2017</td>\n      <td>488.78</td>\n    </tr>\n    <tr>\n      <th>6</th>\n      <td>8/29/2017</td>\n      <td>487.78</td>\n    </tr>\n  </tbody>\n</table>\n</div>"
     },
     "metadata": {},
     "execution_count": 3
    }
   ],
   "source": [
    "df_transactions = GreenlightUtility.get_transactions_data_frame(df_csv, starting_balance)\n",
    "df_transactions"
   ]
  },
  {
   "source": [
    "Now we need to see the balance at the end of every day:"
   ],
   "cell_type": "markdown",
   "metadata": {}
  },
  {
   "cell_type": "code",
   "execution_count": 6,
   "metadata": {},
   "outputs": [
    {
     "output_type": "execute_result",
     "data": {
      "text/plain": "           Transactions\nDate                   \n8/13/2017        508.74\n8/24/2017        496.74\n8/29/2017        487.78",
      "text/html": "<div>\n<style scoped>\n    .dataframe tbody tr th:only-of-type {\n        vertical-align: middle;\n    }\n\n    .dataframe tbody tr th {\n        vertical-align: top;\n    }\n\n    .dataframe thead th {\n        text-align: right;\n    }\n</style>\n<table border=\"1\" class=\"dataframe\">\n  <thead>\n    <tr style=\"text-align: right;\">\n      <th></th>\n      <th>Transactions</th>\n    </tr>\n    <tr>\n      <th>Date</th>\n      <th></th>\n    </tr>\n  </thead>\n  <tbody>\n    <tr>\n      <th>8/13/2017</th>\n      <td>508.74</td>\n    </tr>\n    <tr>\n      <th>8/24/2017</th>\n      <td>496.74</td>\n    </tr>\n    <tr>\n      <th>8/29/2017</th>\n      <td>487.78</td>\n    </tr>\n  </tbody>\n</table>\n</div>"
     },
     "metadata": {},
     "execution_count": 6
    }
   ],
   "source": [
    "df_eod_transactions = df_transactions.groupby('Date').last()\n",
    "df_eod_transactions"
   ]
  },
  {
   "cell_type": "code",
   "execution_count": 9,
   "metadata": {
    "tags": []
   },
   "outputs": [
    {
     "output_type": "execute_result",
     "data": {
      "text/plain": "         Dates\n0   2017-08-01\n1   2017-08-02\n2   2017-08-03\n3   2017-08-04\n4   2017-08-05\n5   2017-08-06\n6   2017-08-07\n7   2017-08-08\n8   2017-08-09\n9   2017-08-10\n10  2017-08-11\n11  2017-08-12\n12  2017-08-13\n13  2017-08-14\n14  2017-08-15\n15  2017-08-16\n16  2017-08-17\n17  2017-08-18\n18  2017-08-19\n19  2017-08-20\n20  2017-08-21\n21  2017-08-22\n22  2017-08-23\n23  2017-08-24\n24  2017-08-25\n25  2017-08-26\n26  2017-08-27\n27  2017-08-28\n28  2017-08-29\n29  2017-08-30\n30  2017-08-31",
      "text/html": "<div>\n<style scoped>\n    .dataframe tbody tr th:only-of-type {\n        vertical-align: middle;\n    }\n\n    .dataframe tbody tr th {\n        vertical-align: top;\n    }\n\n    .dataframe thead th {\n        text-align: right;\n    }\n</style>\n<table border=\"1\" class=\"dataframe\">\n  <thead>\n    <tr style=\"text-align: right;\">\n      <th></th>\n      <th>Dates</th>\n    </tr>\n  </thead>\n  <tbody>\n    <tr>\n      <th>0</th>\n      <td>2017-08-01</td>\n    </tr>\n    <tr>\n      <th>1</th>\n      <td>2017-08-02</td>\n    </tr>\n    <tr>\n      <th>2</th>\n      <td>2017-08-03</td>\n    </tr>\n    <tr>\n      <th>3</th>\n      <td>2017-08-04</td>\n    </tr>\n    <tr>\n      <th>4</th>\n      <td>2017-08-05</td>\n    </tr>\n    <tr>\n      <th>5</th>\n      <td>2017-08-06</td>\n    </tr>\n    <tr>\n      <th>6</th>\n      <td>2017-08-07</td>\n    </tr>\n    <tr>\n      <th>7</th>\n      <td>2017-08-08</td>\n    </tr>\n    <tr>\n      <th>8</th>\n      <td>2017-08-09</td>\n    </tr>\n    <tr>\n      <th>9</th>\n      <td>2017-08-10</td>\n    </tr>\n    <tr>\n      <th>10</th>\n      <td>2017-08-11</td>\n    </tr>\n    <tr>\n      <th>11</th>\n      <td>2017-08-12</td>\n    </tr>\n    <tr>\n      <th>12</th>\n      <td>2017-08-13</td>\n    </tr>\n    <tr>\n      <th>13</th>\n      <td>2017-08-14</td>\n    </tr>\n    <tr>\n      <th>14</th>\n      <td>2017-08-15</td>\n    </tr>\n    <tr>\n      <th>15</th>\n      <td>2017-08-16</td>\n    </tr>\n    <tr>\n      <th>16</th>\n      <td>2017-08-17</td>\n    </tr>\n    <tr>\n      <th>17</th>\n      <td>2017-08-18</td>\n    </tr>\n    <tr>\n      <th>18</th>\n      <td>2017-08-19</td>\n    </tr>\n    <tr>\n      <th>19</th>\n      <td>2017-08-20</td>\n    </tr>\n    <tr>\n      <th>20</th>\n      <td>2017-08-21</td>\n    </tr>\n    <tr>\n      <th>21</th>\n      <td>2017-08-22</td>\n    </tr>\n    <tr>\n      <th>22</th>\n      <td>2017-08-23</td>\n    </tr>\n    <tr>\n      <th>23</th>\n      <td>2017-08-24</td>\n    </tr>\n    <tr>\n      <th>24</th>\n      <td>2017-08-25</td>\n    </tr>\n    <tr>\n      <th>25</th>\n      <td>2017-08-26</td>\n    </tr>\n    <tr>\n      <th>26</th>\n      <td>2017-08-27</td>\n    </tr>\n    <tr>\n      <th>27</th>\n      <td>2017-08-28</td>\n    </tr>\n    <tr>\n      <th>28</th>\n      <td>2017-08-29</td>\n    </tr>\n    <tr>\n      <th>29</th>\n      <td>2017-08-30</td>\n    </tr>\n    <tr>\n      <th>30</th>\n      <td>2017-08-31</td>\n    </tr>\n  </tbody>\n</table>\n</div>"
     },
     "metadata": {},
     "execution_count": 9
    }
   ],
   "source": [
    "from datetime import date\n",
    "\n",
    "first_day_of_month = date(2017, 8, 1)\n",
    "\n",
    "df_all_dates_in_month = GreenlightUtility.get_all_dates_in_month(first_day_of_month)\n",
    "df_all_dates_in_month"
   ]
  }
 ],
 "metadata": {
  "kernelspec": {
   "name": "Python 3.8.5 64-bit (conda)",
   "display_name": "Python 3.8.5 64-bit (conda)",
   "metadata": {
    "interpreter": {
     "hash": "a707b6ce8c685eb936424fcc3009d4b4b7a52543c4db09380a3fc49186ceb509"
    }
   }
  },
  "language_info": {
   "file_extension": ".cs",
   "mimetype": "text/x-csharp",
   "name": "C#",
   "pygments_lexer": "csharp",
   "version": "3.8.5-final"
  }
 },
 "nbformat": 4,
 "nbformat_minor": 4
}