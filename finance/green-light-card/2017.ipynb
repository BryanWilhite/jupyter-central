{
 "cells": [
  {
   "source": [
    "# 2017 Average-Daily-Balance Calculations\n",
    "\n",
    "This notebook documents months 8 through 10 for 2017."
   ],
   "cell_type": "markdown",
   "metadata": {}
  },
  {
   "cell_type": "code",
   "execution_count": 1,
   "metadata": {},
   "outputs": [],
   "source": [
    "%run ./GreenlightUtility.py\n",
    "\n",
    "averages = []"
   ]
  },
  {
   "source": [
    "## 2017-08\n",
    "\n",
    "Activity for the month:"
   ],
   "cell_type": "markdown",
   "metadata": {}
  },
  {
   "cell_type": "code",
   "execution_count": 2,
   "metadata": {},
   "outputs": [
    {
     "output_type": "execute_result",
     "data": {
      "text/plain": "     CsvIndex       Date                Account Num      Description  \\\n0  2017-08-13 2017-08-13  Greenlight Card (KAW)      Opening Balance   \n1  2017-08-13 2017-08-13  Greenlight Card (KAW)       Transfer Money   \n2  2017-08-13 2017-08-13  Greenlight Card (KAW)       Transfer Money   \n3  2017-08-24 2017-08-24  Greenlight Card (KAW)            Shein.com   \n4  2017-08-29 2017-08-29  Greenlight Card (KAW)           Geeker.com   \n5  2017-08-29 2017-08-29  Greenlight Card (KAW)           Geeker.com   \n6  2017-08-29 2017-08-29  Greenlight Card (KAW)           Geeker.com   \n\n         Memo                             Category Tag Clr  Amount  \n0                          [Greenlight Card (KAW)]       c    0.00  \n1              [Schwab High Yield Checking (3810)]       c  100.00  \n2              [Schwab High Yield Checking (3810)]       c   50.00  \n3  London GBR                Childcare:Furnishings       c  -12.00  \n4                            Childcare:Furnishings       c   -0.01  \n5                            Childcare:Furnishings       c   -7.95  \n6                            Childcare:Furnishings       c   -1.00  ",
      "text/html": "<div>\n<style scoped>\n    .dataframe tbody tr th:only-of-type {\n        vertical-align: middle;\n    }\n\n    .dataframe tbody tr th {\n        vertical-align: top;\n    }\n\n    .dataframe thead th {\n        text-align: right;\n    }\n</style>\n<table border=\"1\" class=\"dataframe\">\n  <thead>\n    <tr style=\"text-align: right;\">\n      <th></th>\n      <th>CsvIndex</th>\n      <th>Date</th>\n      <th>Account</th>\n      <th>Num</th>\n      <th>Description</th>\n      <th>Memo</th>\n      <th>Category</th>\n      <th>Tag</th>\n      <th>Clr</th>\n      <th>Amount</th>\n    </tr>\n  </thead>\n  <tbody>\n    <tr>\n      <th>0</th>\n      <td>2017-08-13</td>\n      <td>2017-08-13</td>\n      <td>Greenlight Card (KAW)</td>\n      <td></td>\n      <td>Opening Balance</td>\n      <td></td>\n      <td>[Greenlight Card (KAW)]</td>\n      <td></td>\n      <td>c</td>\n      <td>0.00</td>\n    </tr>\n    <tr>\n      <th>1</th>\n      <td>2017-08-13</td>\n      <td>2017-08-13</td>\n      <td>Greenlight Card (KAW)</td>\n      <td></td>\n      <td>Transfer Money</td>\n      <td></td>\n      <td>[Schwab High Yield Checking (3810)]</td>\n      <td></td>\n      <td>c</td>\n      <td>100.00</td>\n    </tr>\n    <tr>\n      <th>2</th>\n      <td>2017-08-13</td>\n      <td>2017-08-13</td>\n      <td>Greenlight Card (KAW)</td>\n      <td></td>\n      <td>Transfer Money</td>\n      <td></td>\n      <td>[Schwab High Yield Checking (3810)]</td>\n      <td></td>\n      <td>c</td>\n      <td>50.00</td>\n    </tr>\n    <tr>\n      <th>3</th>\n      <td>2017-08-24</td>\n      <td>2017-08-24</td>\n      <td>Greenlight Card (KAW)</td>\n      <td></td>\n      <td>Shein.com</td>\n      <td>London GBR</td>\n      <td>Childcare:Furnishings</td>\n      <td></td>\n      <td>c</td>\n      <td>-12.00</td>\n    </tr>\n    <tr>\n      <th>4</th>\n      <td>2017-08-29</td>\n      <td>2017-08-29</td>\n      <td>Greenlight Card (KAW)</td>\n      <td></td>\n      <td>Geeker.com</td>\n      <td></td>\n      <td>Childcare:Furnishings</td>\n      <td></td>\n      <td>c</td>\n      <td>-0.01</td>\n    </tr>\n    <tr>\n      <th>5</th>\n      <td>2017-08-29</td>\n      <td>2017-08-29</td>\n      <td>Greenlight Card (KAW)</td>\n      <td></td>\n      <td>Geeker.com</td>\n      <td></td>\n      <td>Childcare:Furnishings</td>\n      <td></td>\n      <td>c</td>\n      <td>-7.95</td>\n    </tr>\n    <tr>\n      <th>6</th>\n      <td>2017-08-29</td>\n      <td>2017-08-29</td>\n      <td>Greenlight Card (KAW)</td>\n      <td></td>\n      <td>Geeker.com</td>\n      <td></td>\n      <td>Childcare:Furnishings</td>\n      <td></td>\n      <td>c</td>\n      <td>-1.00</td>\n    </tr>\n  </tbody>\n</table>\n</div>"
     },
     "metadata": {},
     "execution_count": 2
    }
   ],
   "source": [
    "starting_balance = 0\n",
    "\n",
    "df_csv = GreenlightUtility.get_csv_data_frame('./data/2017-08.csv')\n",
    "df_csv"
   ]
  },
  {
   "source": [
    "Let’s take a look at the balance by every transaction:"
   ],
   "cell_type": "markdown",
   "metadata": {}
  },
  {
   "cell_type": "code",
   "execution_count": 3,
   "metadata": {
    "tags": []
   },
   "outputs": [
    {
     "output_type": "execute_result",
     "data": {
      "text/plain": "     CsvIndex  Balance\n0  2017-08-13     0.00\n1  2017-08-13   100.00\n2  2017-08-13   150.00\n3  2017-08-24   138.00\n4  2017-08-29   137.99\n5  2017-08-29   130.04\n6  2017-08-29   129.04",
      "text/html": "<div>\n<style scoped>\n    .dataframe tbody tr th:only-of-type {\n        vertical-align: middle;\n    }\n\n    .dataframe tbody tr th {\n        vertical-align: top;\n    }\n\n    .dataframe thead th {\n        text-align: right;\n    }\n</style>\n<table border=\"1\" class=\"dataframe\">\n  <thead>\n    <tr style=\"text-align: right;\">\n      <th></th>\n      <th>CsvIndex</th>\n      <th>Balance</th>\n    </tr>\n  </thead>\n  <tbody>\n    <tr>\n      <th>0</th>\n      <td>2017-08-13</td>\n      <td>0.00</td>\n    </tr>\n    <tr>\n      <th>1</th>\n      <td>2017-08-13</td>\n      <td>100.00</td>\n    </tr>\n    <tr>\n      <th>2</th>\n      <td>2017-08-13</td>\n      <td>150.00</td>\n    </tr>\n    <tr>\n      <th>3</th>\n      <td>2017-08-24</td>\n      <td>138.00</td>\n    </tr>\n    <tr>\n      <th>4</th>\n      <td>2017-08-29</td>\n      <td>137.99</td>\n    </tr>\n    <tr>\n      <th>5</th>\n      <td>2017-08-29</td>\n      <td>130.04</td>\n    </tr>\n    <tr>\n      <th>6</th>\n      <td>2017-08-29</td>\n      <td>129.04</td>\n    </tr>\n  </tbody>\n</table>\n</div>"
     },
     "metadata": {},
     "execution_count": 3
    }
   ],
   "source": [
    "df_balances = GreenlightUtility.get_balance_data_frame(df_csv, starting_balance)\n",
    "df_balances"
   ]
  },
  {
   "source": [
    "Now we need to see the balance at the end of every day:"
   ],
   "cell_type": "markdown",
   "metadata": {}
  },
  {
   "cell_type": "code",
   "execution_count": 4,
   "metadata": {
    "tags": []
   },
   "outputs": [
    {
     "output_type": "execute_result",
     "data": {
      "text/plain": "            Balance\nCsvIndex           \n2017-08-13   150.00\n2017-08-24   138.00\n2017-08-29   129.04",
      "text/html": "<div>\n<style scoped>\n    .dataframe tbody tr th:only-of-type {\n        vertical-align: middle;\n    }\n\n    .dataframe tbody tr th {\n        vertical-align: top;\n    }\n\n    .dataframe thead th {\n        text-align: right;\n    }\n</style>\n<table border=\"1\" class=\"dataframe\">\n  <thead>\n    <tr style=\"text-align: right;\">\n      <th></th>\n      <th>Balance</th>\n    </tr>\n    <tr>\n      <th>CsvIndex</th>\n      <th></th>\n    </tr>\n  </thead>\n  <tbody>\n    <tr>\n      <th>2017-08-13</th>\n      <td>150.00</td>\n    </tr>\n    <tr>\n      <th>2017-08-24</th>\n      <td>138.00</td>\n    </tr>\n    <tr>\n      <th>2017-08-29</th>\n      <td>129.04</td>\n    </tr>\n  </tbody>\n</table>\n</div>"
     },
     "metadata": {},
     "execution_count": 4
    }
   ],
   "source": [
    "df_eod_balances = GreenlightUtility.get_balance_eod_data_frame(df_balances)\n",
    "df_eod_balances"
   ]
  },
  {
   "source": [
    "We have enough data for the average daily balance:"
   ],
   "cell_type": "markdown",
   "metadata": {}
  },
  {
   "cell_type": "code",
   "execution_count": 5,
   "metadata": {
    "tags": []
   },
   "outputs": [],
   "source": [
    "first_day_of_month = GreenlightUtility.get_first_day_of_month(2017, 8)\n",
    "\n",
    "df_daily_balance = GreenlightUtility.get_daily_balance_data_frame(\n",
    "    first_day_of_month,\n",
    "    starting_balance,\n",
    "    df_eod_balances)\n",
    "\n",
    "averages.append((first_day_of_month.strftime('%Y-%m'), df_daily_balance.mean().values[0]))"
   ]
  },
  {
   "source": [
    "I admit that this average daily balance number is different from my previous work in .NET. This could be due to floating point drama or something else beyond my recognition. I tend to trust this pandas-based work over my previous work but this sentiment is ignorant.\n",
    "\n",
    "Now that I have explained how to get this number for one month of transactions, I will go forward several years without much commentary.\n",
    "\n",
    "The starting balance of the next month is based on the last balance of the previous month:"
   ],
   "cell_type": "markdown",
   "metadata": {}
  },
  {
   "cell_type": "code",
   "execution_count": 6,
   "metadata": {},
   "outputs": [
    {
     "output_type": "execute_result",
     "data": {
      "text/plain": "            Balance\nCsvIndex           \n2017-08-29   129.04",
      "text/html": "<div>\n<style scoped>\n    .dataframe tbody tr th:only-of-type {\n        vertical-align: middle;\n    }\n\n    .dataframe tbody tr th {\n        vertical-align: top;\n    }\n\n    .dataframe thead th {\n        text-align: right;\n    }\n</style>\n<table border=\"1\" class=\"dataframe\">\n  <thead>\n    <tr style=\"text-align: right;\">\n      <th></th>\n      <th>Balance</th>\n    </tr>\n    <tr>\n      <th>CsvIndex</th>\n      <th></th>\n    </tr>\n  </thead>\n  <tbody>\n    <tr>\n      <th>2017-08-29</th>\n      <td>129.04</td>\n    </tr>\n  </tbody>\n</table>\n</div>"
     },
     "metadata": {},
     "execution_count": 6
    }
   ],
   "source": [
    "df_eod_balances.tail(1)"
   ]
  },
  {
   "source": [
    "## 2017-09"
   ],
   "cell_type": "markdown",
   "metadata": {}
  },
  {
   "cell_type": "code",
   "execution_count": 7,
   "metadata": {},
   "outputs": [
    {
     "output_type": "execute_result",
     "data": {
      "text/plain": "      CsvIndex       Date                Account Num          Description  \\\n0   2017-09-05 2017-09-05  Greenlight Card (KAW)                  Sprouts   \n1   2017-09-05 2017-09-05  Greenlight Card (KAW)                 Menchies   \n2   2017-09-07 2017-09-07  Greenlight Card (KAW)                    Apple   \n3   2017-09-07 2017-09-07  Greenlight Card (KAW)           TST*Z Pastabar   \n4   2017-09-11 2017-09-11  Greenlight Card (KAW)                     Rave   \n5   2017-09-12 2017-09-12  Greenlight Card (KAW)               Greenlight   \n6   2017-09-14 2017-09-14  Greenlight Card (KAW)                    Apple   \n7   2017-09-14 2017-09-14  Greenlight Card (KAW)          District Market   \n8   2017-09-18 2017-09-18  Greenlight Card (KAW)                  Sprouts   \n9   2017-09-20 2017-09-20  Greenlight Card (KAW)                 Pieology   \n10  2017-09-27 2017-09-27  Greenlight Card (KAW)      Grand Casino Bakery   \n\n   Memo               Category Tag Clr  Amount  \n0        Childcare:Furnishings       c   -6.86  \n1        Childcare:Furnishings       c   -4.73  \n2            Childcare:Leisure       c   -0.87  \n3        Childcare:Furnishings       c   -6.43  \n4            Childcare:Leisure       c   -6.75  \n5        Childcare:Furnishings       c   -4.99  \n6        Childcare:Furnishings       c   -9.94  \n7        Childcare:Furnishings       c   -2.50  \n8        Childcare:Furnishings       c   -6.13  \n9            Childcare:Leisure       c   -2.30  \n10       Childcare:Furnishings       c   -4.40  ",
      "text/html": "<div>\n<style scoped>\n    .dataframe tbody tr th:only-of-type {\n        vertical-align: middle;\n    }\n\n    .dataframe tbody tr th {\n        vertical-align: top;\n    }\n\n    .dataframe thead th {\n        text-align: right;\n    }\n</style>\n<table border=\"1\" class=\"dataframe\">\n  <thead>\n    <tr style=\"text-align: right;\">\n      <th></th>\n      <th>CsvIndex</th>\n      <th>Date</th>\n      <th>Account</th>\n      <th>Num</th>\n      <th>Description</th>\n      <th>Memo</th>\n      <th>Category</th>\n      <th>Tag</th>\n      <th>Clr</th>\n      <th>Amount</th>\n    </tr>\n  </thead>\n  <tbody>\n    <tr>\n      <th>0</th>\n      <td>2017-09-05</td>\n      <td>2017-09-05</td>\n      <td>Greenlight Card (KAW)</td>\n      <td></td>\n      <td>Sprouts</td>\n      <td></td>\n      <td>Childcare:Furnishings</td>\n      <td></td>\n      <td>c</td>\n      <td>-6.86</td>\n    </tr>\n    <tr>\n      <th>1</th>\n      <td>2017-09-05</td>\n      <td>2017-09-05</td>\n      <td>Greenlight Card (KAW)</td>\n      <td></td>\n      <td>Menchies</td>\n      <td></td>\n      <td>Childcare:Furnishings</td>\n      <td></td>\n      <td>c</td>\n      <td>-4.73</td>\n    </tr>\n    <tr>\n      <th>2</th>\n      <td>2017-09-07</td>\n      <td>2017-09-07</td>\n      <td>Greenlight Card (KAW)</td>\n      <td></td>\n      <td>Apple</td>\n      <td></td>\n      <td>Childcare:Leisure</td>\n      <td></td>\n      <td>c</td>\n      <td>-0.87</td>\n    </tr>\n    <tr>\n      <th>3</th>\n      <td>2017-09-07</td>\n      <td>2017-09-07</td>\n      <td>Greenlight Card (KAW)</td>\n      <td></td>\n      <td>TST*Z Pastabar</td>\n      <td></td>\n      <td>Childcare:Furnishings</td>\n      <td></td>\n      <td>c</td>\n      <td>-6.43</td>\n    </tr>\n    <tr>\n      <th>4</th>\n      <td>2017-09-11</td>\n      <td>2017-09-11</td>\n      <td>Greenlight Card (KAW)</td>\n      <td></td>\n      <td>Rave</td>\n      <td></td>\n      <td>Childcare:Leisure</td>\n      <td></td>\n      <td>c</td>\n      <td>-6.75</td>\n    </tr>\n    <tr>\n      <th>5</th>\n      <td>2017-09-12</td>\n      <td>2017-09-12</td>\n      <td>Greenlight Card (KAW)</td>\n      <td></td>\n      <td>Greenlight</td>\n      <td></td>\n      <td>Childcare:Furnishings</td>\n      <td></td>\n      <td>c</td>\n      <td>-4.99</td>\n    </tr>\n    <tr>\n      <th>6</th>\n      <td>2017-09-14</td>\n      <td>2017-09-14</td>\n      <td>Greenlight Card (KAW)</td>\n      <td></td>\n      <td>Apple</td>\n      <td></td>\n      <td>Childcare:Furnishings</td>\n      <td></td>\n      <td>c</td>\n      <td>-9.94</td>\n    </tr>\n    <tr>\n      <th>7</th>\n      <td>2017-09-14</td>\n      <td>2017-09-14</td>\n      <td>Greenlight Card (KAW)</td>\n      <td></td>\n      <td>District Market</td>\n      <td></td>\n      <td>Childcare:Furnishings</td>\n      <td></td>\n      <td>c</td>\n      <td>-2.50</td>\n    </tr>\n    <tr>\n      <th>8</th>\n      <td>2017-09-18</td>\n      <td>2017-09-18</td>\n      <td>Greenlight Card (KAW)</td>\n      <td></td>\n      <td>Sprouts</td>\n      <td></td>\n      <td>Childcare:Furnishings</td>\n      <td></td>\n      <td>c</td>\n      <td>-6.13</td>\n    </tr>\n    <tr>\n      <th>9</th>\n      <td>2017-09-20</td>\n      <td>2017-09-20</td>\n      <td>Greenlight Card (KAW)</td>\n      <td></td>\n      <td>Pieology</td>\n      <td></td>\n      <td>Childcare:Leisure</td>\n      <td></td>\n      <td>c</td>\n      <td>-2.30</td>\n    </tr>\n    <tr>\n      <th>10</th>\n      <td>2017-09-27</td>\n      <td>2017-09-27</td>\n      <td>Greenlight Card (KAW)</td>\n      <td></td>\n      <td>Grand Casino Bakery</td>\n      <td></td>\n      <td>Childcare:Furnishings</td>\n      <td></td>\n      <td>c</td>\n      <td>-4.40</td>\n    </tr>\n  </tbody>\n</table>\n</div>"
     },
     "metadata": {},
     "execution_count": 7
    }
   ],
   "source": [
    "starting_balance = 129.04\n",
    "\n",
    "df_csv = GreenlightUtility.get_csv_data_frame('./data/2017-09.csv')\n",
    "df_csv"
   ]
  },
  {
   "cell_type": "code",
   "execution_count": 8,
   "metadata": {},
   "outputs": [
    {
     "output_type": "execute_result",
     "data": {
      "text/plain": "      CsvIndex  Balance\n0   2017-09-05   122.18\n1   2017-09-05   117.45\n2   2017-09-07   116.58\n3   2017-09-07   110.15\n4   2017-09-11   103.40\n5   2017-09-12    98.41\n6   2017-09-14    88.47\n7   2017-09-14    85.97\n8   2017-09-18    79.84\n9   2017-09-20    77.54\n10  2017-09-27    73.14",
      "text/html": "<div>\n<style scoped>\n    .dataframe tbody tr th:only-of-type {\n        vertical-align: middle;\n    }\n\n    .dataframe tbody tr th {\n        vertical-align: top;\n    }\n\n    .dataframe thead th {\n        text-align: right;\n    }\n</style>\n<table border=\"1\" class=\"dataframe\">\n  <thead>\n    <tr style=\"text-align: right;\">\n      <th></th>\n      <th>CsvIndex</th>\n      <th>Balance</th>\n    </tr>\n  </thead>\n  <tbody>\n    <tr>\n      <th>0</th>\n      <td>2017-09-05</td>\n      <td>122.18</td>\n    </tr>\n    <tr>\n      <th>1</th>\n      <td>2017-09-05</td>\n      <td>117.45</td>\n    </tr>\n    <tr>\n      <th>2</th>\n      <td>2017-09-07</td>\n      <td>116.58</td>\n    </tr>\n    <tr>\n      <th>3</th>\n      <td>2017-09-07</td>\n      <td>110.15</td>\n    </tr>\n    <tr>\n      <th>4</th>\n      <td>2017-09-11</td>\n      <td>103.40</td>\n    </tr>\n    <tr>\n      <th>5</th>\n      <td>2017-09-12</td>\n      <td>98.41</td>\n    </tr>\n    <tr>\n      <th>6</th>\n      <td>2017-09-14</td>\n      <td>88.47</td>\n    </tr>\n    <tr>\n      <th>7</th>\n      <td>2017-09-14</td>\n      <td>85.97</td>\n    </tr>\n    <tr>\n      <th>8</th>\n      <td>2017-09-18</td>\n      <td>79.84</td>\n    </tr>\n    <tr>\n      <th>9</th>\n      <td>2017-09-20</td>\n      <td>77.54</td>\n    </tr>\n    <tr>\n      <th>10</th>\n      <td>2017-09-27</td>\n      <td>73.14</td>\n    </tr>\n  </tbody>\n</table>\n</div>"
     },
     "metadata": {},
     "execution_count": 8
    }
   ],
   "source": [
    "df_balances = GreenlightUtility.get_balance_data_frame(df_csv, starting_balance)\n",
    "df_balances"
   ]
  },
  {
   "cell_type": "code",
   "execution_count": 9,
   "metadata": {},
   "outputs": [
    {
     "output_type": "execute_result",
     "data": {
      "text/plain": "            Balance\nCsvIndex           \n2017-09-05   117.45\n2017-09-07   110.15\n2017-09-11   103.40\n2017-09-12    98.41\n2017-09-14    85.97\n2017-09-18    79.84\n2017-09-20    77.54\n2017-09-27    73.14",
      "text/html": "<div>\n<style scoped>\n    .dataframe tbody tr th:only-of-type {\n        vertical-align: middle;\n    }\n\n    .dataframe tbody tr th {\n        vertical-align: top;\n    }\n\n    .dataframe thead th {\n        text-align: right;\n    }\n</style>\n<table border=\"1\" class=\"dataframe\">\n  <thead>\n    <tr style=\"text-align: right;\">\n      <th></th>\n      <th>Balance</th>\n    </tr>\n    <tr>\n      <th>CsvIndex</th>\n      <th></th>\n    </tr>\n  </thead>\n  <tbody>\n    <tr>\n      <th>2017-09-05</th>\n      <td>117.45</td>\n    </tr>\n    <tr>\n      <th>2017-09-07</th>\n      <td>110.15</td>\n    </tr>\n    <tr>\n      <th>2017-09-11</th>\n      <td>103.40</td>\n    </tr>\n    <tr>\n      <th>2017-09-12</th>\n      <td>98.41</td>\n    </tr>\n    <tr>\n      <th>2017-09-14</th>\n      <td>85.97</td>\n    </tr>\n    <tr>\n      <th>2017-09-18</th>\n      <td>79.84</td>\n    </tr>\n    <tr>\n      <th>2017-09-20</th>\n      <td>77.54</td>\n    </tr>\n    <tr>\n      <th>2017-09-27</th>\n      <td>73.14</td>\n    </tr>\n  </tbody>\n</table>\n</div>"
     },
     "metadata": {},
     "execution_count": 9
    }
   ],
   "source": [
    "df_eod_balances = GreenlightUtility.get_balance_eod_data_frame(df_balances)\n",
    "df_eod_balances"
   ]
  },
  {
   "cell_type": "code",
   "execution_count": 10,
   "metadata": {},
   "outputs": [],
   "source": [
    "first_day_of_month = GreenlightUtility.get_first_day_of_month(2017, 9)\n",
    "\n",
    "df_daily_balance = GreenlightUtility.get_daily_balance_data_frame(\n",
    "    first_day_of_month,\n",
    "    starting_balance,\n",
    "    df_eod_balances)\n",
    "\n",
    "averages.append((first_day_of_month.strftime('%Y-%m'), df_daily_balance.mean().values[0]))"
   ]
  },
  {
   "cell_type": "code",
   "execution_count": 11,
   "metadata": {},
   "outputs": [
    {
     "output_type": "execute_result",
     "data": {
      "text/plain": "            Balance\nCsvIndex           \n2017-09-27    73.14",
      "text/html": "<div>\n<style scoped>\n    .dataframe tbody tr th:only-of-type {\n        vertical-align: middle;\n    }\n\n    .dataframe tbody tr th {\n        vertical-align: top;\n    }\n\n    .dataframe thead th {\n        text-align: right;\n    }\n</style>\n<table border=\"1\" class=\"dataframe\">\n  <thead>\n    <tr style=\"text-align: right;\">\n      <th></th>\n      <th>Balance</th>\n    </tr>\n    <tr>\n      <th>CsvIndex</th>\n      <th></th>\n    </tr>\n  </thead>\n  <tbody>\n    <tr>\n      <th>2017-09-27</th>\n      <td>73.14</td>\n    </tr>\n  </tbody>\n</table>\n</div>"
     },
     "metadata": {},
     "execution_count": 11
    }
   ],
   "source": [
    "df_eod_balances.tail(1)"
   ]
  },
  {
   "source": [
    "## 2017-10"
   ],
   "cell_type": "markdown",
   "metadata": {}
  },
  {
   "cell_type": "code",
   "execution_count": 12,
   "metadata": {},
   "outputs": [
    {
     "output_type": "execute_result",
     "data": {
      "text/plain": "     CsvIndex       Date                Account Num      Description Memo  \\\n0  2017-10-02 2017-10-02  Greenlight Card (KAW)              Sprouts        \n1  2017-10-03 2017-10-03  Greenlight Card (KAW)             Govindas        \n2  2017-10-03 2017-10-03  Greenlight Card (KAW)             Govindas        \n3  2017-10-04 2017-10-04  Greenlight Card (KAW)             Govindas        \n4  2017-10-12 2017-10-12  Greenlight Card (KAW)           Greenlight        \n5  2017-10-13 2017-10-13  Greenlight Card (KAW)       Transfer Money        \n6  2017-10-23 2017-10-23  Greenlight Card (KAW)       Star Mini Mart        \n7  2017-10-25 2017-10-25  Greenlight Card (KAW)             Chipotle        \n8  2017-10-26 2017-10-26  Greenlight Card (KAW)      Shell Calabasas        \n\n                              Category Tag Clr  Amount  \n0                Childcare:Furnishings       c   -1.99  \n1                Childcare:Furnishings       c   -9.00  \n2                Childcare:Furnishings       c   -2.50  \n3                Childcare:Furnishings       c   -4.65  \n4                Childcare:Furnishings       c   -4.99  \n5  [Schwab High Yield Checking (3810)]       c   50.00  \n6                Childcare:Furnishings       c   -5.72  \n7                Childcare:Furnishings       c   -7.37  \n8                Childcare:Furnishings       c   -4.33  ",
      "text/html": "<div>\n<style scoped>\n    .dataframe tbody tr th:only-of-type {\n        vertical-align: middle;\n    }\n\n    .dataframe tbody tr th {\n        vertical-align: top;\n    }\n\n    .dataframe thead th {\n        text-align: right;\n    }\n</style>\n<table border=\"1\" class=\"dataframe\">\n  <thead>\n    <tr style=\"text-align: right;\">\n      <th></th>\n      <th>CsvIndex</th>\n      <th>Date</th>\n      <th>Account</th>\n      <th>Num</th>\n      <th>Description</th>\n      <th>Memo</th>\n      <th>Category</th>\n      <th>Tag</th>\n      <th>Clr</th>\n      <th>Amount</th>\n    </tr>\n  </thead>\n  <tbody>\n    <tr>\n      <th>0</th>\n      <td>2017-10-02</td>\n      <td>2017-10-02</td>\n      <td>Greenlight Card (KAW)</td>\n      <td></td>\n      <td>Sprouts</td>\n      <td></td>\n      <td>Childcare:Furnishings</td>\n      <td></td>\n      <td>c</td>\n      <td>-1.99</td>\n    </tr>\n    <tr>\n      <th>1</th>\n      <td>2017-10-03</td>\n      <td>2017-10-03</td>\n      <td>Greenlight Card (KAW)</td>\n      <td></td>\n      <td>Govindas</td>\n      <td></td>\n      <td>Childcare:Furnishings</td>\n      <td></td>\n      <td>c</td>\n      <td>-9.00</td>\n    </tr>\n    <tr>\n      <th>2</th>\n      <td>2017-10-03</td>\n      <td>2017-10-03</td>\n      <td>Greenlight Card (KAW)</td>\n      <td></td>\n      <td>Govindas</td>\n      <td></td>\n      <td>Childcare:Furnishings</td>\n      <td></td>\n      <td>c</td>\n      <td>-2.50</td>\n    </tr>\n    <tr>\n      <th>3</th>\n      <td>2017-10-04</td>\n      <td>2017-10-04</td>\n      <td>Greenlight Card (KAW)</td>\n      <td></td>\n      <td>Govindas</td>\n      <td></td>\n      <td>Childcare:Furnishings</td>\n      <td></td>\n      <td>c</td>\n      <td>-4.65</td>\n    </tr>\n    <tr>\n      <th>4</th>\n      <td>2017-10-12</td>\n      <td>2017-10-12</td>\n      <td>Greenlight Card (KAW)</td>\n      <td></td>\n      <td>Greenlight</td>\n      <td></td>\n      <td>Childcare:Furnishings</td>\n      <td></td>\n      <td>c</td>\n      <td>-4.99</td>\n    </tr>\n    <tr>\n      <th>5</th>\n      <td>2017-10-13</td>\n      <td>2017-10-13</td>\n      <td>Greenlight Card (KAW)</td>\n      <td></td>\n      <td>Transfer Money</td>\n      <td></td>\n      <td>[Schwab High Yield Checking (3810)]</td>\n      <td></td>\n      <td>c</td>\n      <td>50.00</td>\n    </tr>\n    <tr>\n      <th>6</th>\n      <td>2017-10-23</td>\n      <td>2017-10-23</td>\n      <td>Greenlight Card (KAW)</td>\n      <td></td>\n      <td>Star Mini Mart</td>\n      <td></td>\n      <td>Childcare:Furnishings</td>\n      <td></td>\n      <td>c</td>\n      <td>-5.72</td>\n    </tr>\n    <tr>\n      <th>7</th>\n      <td>2017-10-25</td>\n      <td>2017-10-25</td>\n      <td>Greenlight Card (KAW)</td>\n      <td></td>\n      <td>Chipotle</td>\n      <td></td>\n      <td>Childcare:Furnishings</td>\n      <td></td>\n      <td>c</td>\n      <td>-7.37</td>\n    </tr>\n    <tr>\n      <th>8</th>\n      <td>2017-10-26</td>\n      <td>2017-10-26</td>\n      <td>Greenlight Card (KAW)</td>\n      <td></td>\n      <td>Shell Calabasas</td>\n      <td></td>\n      <td>Childcare:Furnishings</td>\n      <td></td>\n      <td>c</td>\n      <td>-4.33</td>\n    </tr>\n  </tbody>\n</table>\n</div>"
     },
     "metadata": {},
     "execution_count": 12
    }
   ],
   "source": [
    "starting_balance = 73.14\n",
    "\n",
    "df_csv = GreenlightUtility.get_csv_data_frame('./data/2017-10.csv')\n",
    "df_csv"
   ]
  },
  {
   "cell_type": "code",
   "execution_count": 13,
   "metadata": {},
   "outputs": [
    {
     "output_type": "execute_result",
     "data": {
      "text/plain": "     CsvIndex  Balance\n0  2017-10-02    71.15\n1  2017-10-03    62.15\n2  2017-10-03    59.65\n3  2017-10-04    55.00\n4  2017-10-12    50.01\n5  2017-10-13   100.01\n6  2017-10-23    94.29\n7  2017-10-25    86.92\n8  2017-10-26    82.59",
      "text/html": "<div>\n<style scoped>\n    .dataframe tbody tr th:only-of-type {\n        vertical-align: middle;\n    }\n\n    .dataframe tbody tr th {\n        vertical-align: top;\n    }\n\n    .dataframe thead th {\n        text-align: right;\n    }\n</style>\n<table border=\"1\" class=\"dataframe\">\n  <thead>\n    <tr style=\"text-align: right;\">\n      <th></th>\n      <th>CsvIndex</th>\n      <th>Balance</th>\n    </tr>\n  </thead>\n  <tbody>\n    <tr>\n      <th>0</th>\n      <td>2017-10-02</td>\n      <td>71.15</td>\n    </tr>\n    <tr>\n      <th>1</th>\n      <td>2017-10-03</td>\n      <td>62.15</td>\n    </tr>\n    <tr>\n      <th>2</th>\n      <td>2017-10-03</td>\n      <td>59.65</td>\n    </tr>\n    <tr>\n      <th>3</th>\n      <td>2017-10-04</td>\n      <td>55.00</td>\n    </tr>\n    <tr>\n      <th>4</th>\n      <td>2017-10-12</td>\n      <td>50.01</td>\n    </tr>\n    <tr>\n      <th>5</th>\n      <td>2017-10-13</td>\n      <td>100.01</td>\n    </tr>\n    <tr>\n      <th>6</th>\n      <td>2017-10-23</td>\n      <td>94.29</td>\n    </tr>\n    <tr>\n      <th>7</th>\n      <td>2017-10-25</td>\n      <td>86.92</td>\n    </tr>\n    <tr>\n      <th>8</th>\n      <td>2017-10-26</td>\n      <td>82.59</td>\n    </tr>\n  </tbody>\n</table>\n</div>"
     },
     "metadata": {},
     "execution_count": 13
    }
   ],
   "source": [
    "df_balances = GreenlightUtility.get_balance_data_frame(df_csv, starting_balance)\n",
    "df_balances"
   ]
  },
  {
   "cell_type": "code",
   "execution_count": 14,
   "metadata": {},
   "outputs": [
    {
     "output_type": "execute_result",
     "data": {
      "text/plain": "            Balance\nCsvIndex           \n2017-10-02    71.15\n2017-10-03    59.65\n2017-10-04    55.00\n2017-10-12    50.01\n2017-10-13   100.01\n2017-10-23    94.29\n2017-10-25    86.92\n2017-10-26    82.59",
      "text/html": "<div>\n<style scoped>\n    .dataframe tbody tr th:only-of-type {\n        vertical-align: middle;\n    }\n\n    .dataframe tbody tr th {\n        vertical-align: top;\n    }\n\n    .dataframe thead th {\n        text-align: right;\n    }\n</style>\n<table border=\"1\" class=\"dataframe\">\n  <thead>\n    <tr style=\"text-align: right;\">\n      <th></th>\n      <th>Balance</th>\n    </tr>\n    <tr>\n      <th>CsvIndex</th>\n      <th></th>\n    </tr>\n  </thead>\n  <tbody>\n    <tr>\n      <th>2017-10-02</th>\n      <td>71.15</td>\n    </tr>\n    <tr>\n      <th>2017-10-03</th>\n      <td>59.65</td>\n    </tr>\n    <tr>\n      <th>2017-10-04</th>\n      <td>55.00</td>\n    </tr>\n    <tr>\n      <th>2017-10-12</th>\n      <td>50.01</td>\n    </tr>\n    <tr>\n      <th>2017-10-13</th>\n      <td>100.01</td>\n    </tr>\n    <tr>\n      <th>2017-10-23</th>\n      <td>94.29</td>\n    </tr>\n    <tr>\n      <th>2017-10-25</th>\n      <td>86.92</td>\n    </tr>\n    <tr>\n      <th>2017-10-26</th>\n      <td>82.59</td>\n    </tr>\n  </tbody>\n</table>\n</div>"
     },
     "metadata": {},
     "execution_count": 14
    }
   ],
   "source": [
    "df_eod_balances = GreenlightUtility.get_balance_eod_data_frame(df_balances)\n",
    "df_eod_balances"
   ]
  },
  {
   "cell_type": "code",
   "execution_count": 15,
   "metadata": {},
   "outputs": [],
   "source": [
    "first_day_of_month = GreenlightUtility.get_first_day_of_month(2017, 10)\n",
    "\n",
    "df_daily_balance = GreenlightUtility.get_daily_balance_data_frame(\n",
    "    first_day_of_month,\n",
    "    starting_balance,\n",
    "    df_eod_balances)\n",
    "\n",
    "averages.append((first_day_of_month.strftime('%Y-%m'), df_daily_balance.mean().values[0]))"
   ]
  },
  {
   "cell_type": "code",
   "execution_count": 16,
   "metadata": {},
   "outputs": [
    {
     "output_type": "execute_result",
     "data": {
      "text/plain": "            Balance\nCsvIndex           \n2017-10-26    82.59",
      "text/html": "<div>\n<style scoped>\n    .dataframe tbody tr th:only-of-type {\n        vertical-align: middle;\n    }\n\n    .dataframe tbody tr th {\n        vertical-align: top;\n    }\n\n    .dataframe thead th {\n        text-align: right;\n    }\n</style>\n<table border=\"1\" class=\"dataframe\">\n  <thead>\n    <tr style=\"text-align: right;\">\n      <th></th>\n      <th>Balance</th>\n    </tr>\n    <tr>\n      <th>CsvIndex</th>\n      <th></th>\n    </tr>\n  </thead>\n  <tbody>\n    <tr>\n      <th>2017-10-26</th>\n      <td>82.59</td>\n    </tr>\n  </tbody>\n</table>\n</div>"
     },
     "metadata": {},
     "execution_count": 16
    }
   ],
   "source": [
    "df_eod_balances.tail(1)"
   ]
  },
  {
   "source": [
    "## Calculation of Contribution"
   ],
   "cell_type": "markdown",
   "metadata": {}
  },
  {
   "cell_type": "code",
   "execution_count": 17,
   "metadata": {},
   "outputs": [
    {
     "output_type": "execute_result",
     "data": {
      "text/plain": "     Dates    Balance\n0  2017-08  87.971613\n1  2017-09  94.359333\n2  2017-10  79.519032",
      "text/html": "<div>\n<style scoped>\n    .dataframe tbody tr th:only-of-type {\n        vertical-align: middle;\n    }\n\n    .dataframe tbody tr th {\n        vertical-align: top;\n    }\n\n    .dataframe thead th {\n        text-align: right;\n    }\n</style>\n<table border=\"1\" class=\"dataframe\">\n  <thead>\n    <tr style=\"text-align: right;\">\n      <th></th>\n      <th>Dates</th>\n      <th>Balance</th>\n    </tr>\n  </thead>\n  <tbody>\n    <tr>\n      <th>0</th>\n      <td>2017-08</td>\n      <td>87.971613</td>\n    </tr>\n    <tr>\n      <th>1</th>\n      <td>2017-09</td>\n      <td>94.359333</td>\n    </tr>\n    <tr>\n      <th>2</th>\n      <td>2017-10</td>\n      <td>79.519032</td>\n    </tr>\n  </tbody>\n</table>\n</div>"
     },
     "metadata": {},
     "execution_count": 17
    }
   ],
   "source": [
    "df_final = GreenlightUtility.get_final_data_frame(averages)\n",
    "df_final"
   ]
  },
  {
   "cell_type": "code",
   "execution_count": 20,
   "metadata": {},
   "outputs": [
    {
     "output_type": "execute_result",
     "data": {
      "text/plain": "26.184997849462366"
     },
     "metadata": {},
     "execution_count": 20
    }
   ],
   "source": [
    "df_final['Balance'].sum() * .1"
   ]
  }
 ],
 "metadata": {
  "kernelspec": {
   "name": "Python 3.8.5 64-bit (conda)",
   "display_name": "Python 3.8.5 64-bit (conda)",
   "metadata": {
    "interpreter": {
     "hash": "a707b6ce8c685eb936424fcc3009d4b4b7a52543c4db09380a3fc49186ceb509"
    }
   }
  },
  "language_info": {
   "file_extension": ".cs",
   "mimetype": "text/x-csharp",
   "name": "C#",
   "pygments_lexer": "csharp",
   "version": "3.8.5-final"
  }
 },
 "nbformat": 4,
 "nbformat_minor": 4
}