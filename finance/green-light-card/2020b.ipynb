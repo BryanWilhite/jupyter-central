{
 "cells": [
  {
   "cell_type": "markdown",
   "metadata": {},
   "source": [
    "# 2020 Average-Daily-Balance Calculations\n",
    "\n",
    "This notebook documents months 2 through 4 for 2020."
   ]
  },
  {
   "cell_type": "code",
   "execution_count": null,
   "metadata": {},
   "outputs": [],
   "source": [
    "%run ./GreenlightUtility.py\n",
    "\n",
    "averages = []"
   ]
  },
  {
   "cell_type": "code",
   "execution_count": null,
   "metadata": {},
   "outputs": [],
   "source": [
    "starting_balance = 557.76\n",
    "\n",
    "df_csv = GreenlightUtility.get_csv_data_frame('./data/2020-02.csv')\n",
    "df_csv"
   ]
  },
  {
   "cell_type": "code",
   "execution_count": null,
   "metadata": {},
   "outputs": [],
   "source": [
    "df_balances = GreenlightUtility.get_balance_data_frame(df_csv, starting_balance)\n",
    "df_balances"
   ]
  },
  {
   "cell_type": "code",
   "execution_count": null,
   "metadata": {},
   "outputs": [],
   "source": [
    "df_eod_balances = GreenlightUtility.get_balance_eod_data_frame(df_balances)\n",
    "df_eod_balances"
   ]
  },
  {
   "cell_type": "code",
   "execution_count": null,
   "metadata": {},
   "outputs": [],
   "source": [
    "first_day_of_month = GreenlightUtility.get_first_day_of_month(2020, 2)\n",
    "\n",
    "df_daily_balance = GreenlightUtility.get_daily_balance_data_frame(\n",
    "    first_day_of_month,\n",
    "    starting_balance,\n",
    "    df_eod_balances)\n",
    "\n",
    "averages.append((first_day_of_month.strftime('%Y-%m'), df_daily_balance.mean().values[0]))"
   ]
  },
  {
   "cell_type": "code",
   "execution_count": null,
   "metadata": {},
   "outputs": [],
   "source": [
    "df_eod_balances.tail(1)"
   ]
  },
  {
   "cell_type": "markdown",
   "metadata": {},
   "source": [
    "## 2020-03"
   ]
  },
  {
   "cell_type": "code",
   "execution_count": null,
   "metadata": {},
   "outputs": [],
   "source": [
    "starting_balance = 555.43\n",
    "\n",
    "df_csv = GreenlightUtility.get_csv_data_frame('./data/2020-03.csv')\n",
    "df_csv"
   ]
  }
 ],
 "metadata": {
  "interpreter": {
   "hash": "335e3b179f8067a0c23d70a756fd3d57fb74cc044dfa90bee45dd08bdac41a6f"
  },
  "kernelspec": {
   "display_name": "Python 3.7.6 64-bit ('base': conda)",
   "name": "python3"
  },
  "language_info": {
   "codemirror_mode": {
    "name": "ipython",
    "version": 3
   },
   "file_extension": ".py",
   "mimetype": "text/x-python",
   "name": "python",
   "nbconvert_exporter": "python",
   "pygments_lexer": "ipython3",
   "version": "3.7.6"
  },
  "orig_nbformat": 4
 },
 "nbformat": 4,
 "nbformat_minor": 2
}