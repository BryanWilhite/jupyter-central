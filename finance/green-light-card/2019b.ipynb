{
 "metadata": {
  "language_info": {
   "codemirror_mode": {
    "name": "ipython",
    "version": 3
   },
   "file_extension": ".py",
   "mimetype": "text/x-python",
   "name": "python",
   "nbconvert_exporter": "python",
   "pygments_lexer": "ipython3",
   "version": "3.8.5-final"
  },
  "orig_nbformat": 2,
  "kernelspec": {
   "name": "Python 3.8.5 64-bit (conda)",
   "display_name": "Python 3.8.5 64-bit (conda)",
   "metadata": {
    "interpreter": {
     "hash": "a707b6ce8c685eb936424fcc3009d4b4b7a52543c4db09380a3fc49186ceb509"
    }
   }
  }
 },
 "nbformat": 4,
 "nbformat_minor": 2,
 "cells": [
  {
   "source": [
    "# 2019 Average-Daily-Balance Calculations\n",
    "\n",
    "This notebook documents months 2 through 4 for 2019."
   ],
   "cell_type": "markdown",
   "metadata": {}
  },
  {
   "cell_type": "code",
   "execution_count": 1,
   "metadata": {},
   "outputs": [],
   "source": [
    "%run ./GreenlightUtility.py\n",
    "\n",
    "averages = []"
   ]
  },
  {
   "source": [
    "## 2019-2"
   ],
   "cell_type": "markdown",
   "metadata": {}
  },
  {
   "cell_type": "code",
   "execution_count": 2,
   "metadata": {},
   "outputs": [
    {
     "output_type": "execute_result",
     "data": {
      "text/plain": "     CsvIndex       Date          Account Num     Description    Memo  \\\n0  2019-02-01 2019-02-01  Greenlight Card               Apple  ITUNES   \n1  2019-02-03 2019-02-03  Greenlight Card             Spotify           \n2  2019-02-12 2019-02-12  Greenlight Card      Transfer Money           \n3  2019-02-12 2019-02-12  Greenlight Card          Greenlight           \n4  2019-02-15 2019-02-15  Greenlight Card           Mod Pizza           \n5  2019-02-21 2019-02-21  Greenlight Card               Apple  ITUNES   \n\n                Category Tag Clr  Amount  \n0      Childcare:Leisure       c   -5.99  \n1      Childcare:Leisure       c   -9.99  \n2       [inflow account]       c   50.00  \n3  Childcare:Furnishings       c   -4.99  \n4  Childcare:Furnishings       c  -11.76  \n5      Childcare:Leisure       c  -15.97  ",
      "text/html": "<div>\n<style scoped>\n    .dataframe tbody tr th:only-of-type {\n        vertical-align: middle;\n    }\n\n    .dataframe tbody tr th {\n        vertical-align: top;\n    }\n\n    .dataframe thead th {\n        text-align: right;\n    }\n</style>\n<table border=\"1\" class=\"dataframe\">\n  <thead>\n    <tr style=\"text-align: right;\">\n      <th></th>\n      <th>CsvIndex</th>\n      <th>Date</th>\n      <th>Account</th>\n      <th>Num</th>\n      <th>Description</th>\n      <th>Memo</th>\n      <th>Category</th>\n      <th>Tag</th>\n      <th>Clr</th>\n      <th>Amount</th>\n    </tr>\n  </thead>\n  <tbody>\n    <tr>\n      <th>0</th>\n      <td>2019-02-01</td>\n      <td>2019-02-01</td>\n      <td>Greenlight Card</td>\n      <td></td>\n      <td>Apple</td>\n      <td>ITUNES</td>\n      <td>Childcare:Leisure</td>\n      <td></td>\n      <td>c</td>\n      <td>-5.99</td>\n    </tr>\n    <tr>\n      <th>1</th>\n      <td>2019-02-03</td>\n      <td>2019-02-03</td>\n      <td>Greenlight Card</td>\n      <td></td>\n      <td>Spotify</td>\n      <td></td>\n      <td>Childcare:Leisure</td>\n      <td></td>\n      <td>c</td>\n      <td>-9.99</td>\n    </tr>\n    <tr>\n      <th>2</th>\n      <td>2019-02-12</td>\n      <td>2019-02-12</td>\n      <td>Greenlight Card</td>\n      <td></td>\n      <td>Transfer Money</td>\n      <td></td>\n      <td>[inflow account]</td>\n      <td></td>\n      <td>c</td>\n      <td>50.00</td>\n    </tr>\n    <tr>\n      <th>3</th>\n      <td>2019-02-12</td>\n      <td>2019-02-12</td>\n      <td>Greenlight Card</td>\n      <td></td>\n      <td>Greenlight</td>\n      <td></td>\n      <td>Childcare:Furnishings</td>\n      <td></td>\n      <td>c</td>\n      <td>-4.99</td>\n    </tr>\n    <tr>\n      <th>4</th>\n      <td>2019-02-15</td>\n      <td>2019-02-15</td>\n      <td>Greenlight Card</td>\n      <td></td>\n      <td>Mod Pizza</td>\n      <td></td>\n      <td>Childcare:Furnishings</td>\n      <td></td>\n      <td>c</td>\n      <td>-11.76</td>\n    </tr>\n    <tr>\n      <th>5</th>\n      <td>2019-02-21</td>\n      <td>2019-02-21</td>\n      <td>Greenlight Card</td>\n      <td></td>\n      <td>Apple</td>\n      <td>ITUNES</td>\n      <td>Childcare:Leisure</td>\n      <td></td>\n      <td>c</td>\n      <td>-15.97</td>\n    </tr>\n  </tbody>\n</table>\n</div>"
     },
     "metadata": {},
     "execution_count": 2
    }
   ],
   "source": [
    "starting_balance = 311.87\n",
    "\n",
    "df_csv = GreenlightUtility.get_csv_data_frame('./data/2019-02.csv')\n",
    "df_csv"
   ]
  },
  {
   "cell_type": "code",
   "execution_count": 3,
   "metadata": {},
   "outputs": [
    {
     "output_type": "execute_result",
     "data": {
      "text/plain": "     CsvIndex  Balance\n0  2019-02-01   305.88\n1  2019-02-03   295.89\n2  2019-02-12   345.89\n3  2019-02-12   340.90\n4  2019-02-15   329.14\n5  2019-02-21   313.17",
      "text/html": "<div>\n<style scoped>\n    .dataframe tbody tr th:only-of-type {\n        vertical-align: middle;\n    }\n\n    .dataframe tbody tr th {\n        vertical-align: top;\n    }\n\n    .dataframe thead th {\n        text-align: right;\n    }\n</style>\n<table border=\"1\" class=\"dataframe\">\n  <thead>\n    <tr style=\"text-align: right;\">\n      <th></th>\n      <th>CsvIndex</th>\n      <th>Balance</th>\n    </tr>\n  </thead>\n  <tbody>\n    <tr>\n      <th>0</th>\n      <td>2019-02-01</td>\n      <td>305.88</td>\n    </tr>\n    <tr>\n      <th>1</th>\n      <td>2019-02-03</td>\n      <td>295.89</td>\n    </tr>\n    <tr>\n      <th>2</th>\n      <td>2019-02-12</td>\n      <td>345.89</td>\n    </tr>\n    <tr>\n      <th>3</th>\n      <td>2019-02-12</td>\n      <td>340.90</td>\n    </tr>\n    <tr>\n      <th>4</th>\n      <td>2019-02-15</td>\n      <td>329.14</td>\n    </tr>\n    <tr>\n      <th>5</th>\n      <td>2019-02-21</td>\n      <td>313.17</td>\n    </tr>\n  </tbody>\n</table>\n</div>"
     },
     "metadata": {},
     "execution_count": 3
    }
   ],
   "source": [
    "df_balances = GreenlightUtility.get_balance_data_frame(df_csv, starting_balance)\n",
    "df_balances"
   ]
  },
  {
   "cell_type": "code",
   "execution_count": 4,
   "metadata": {},
   "outputs": [
    {
     "output_type": "execute_result",
     "data": {
      "text/plain": "            Balance\nCsvIndex           \n2019-02-01   305.88\n2019-02-03   295.89\n2019-02-12   340.90\n2019-02-15   329.14\n2019-02-21   313.17",
      "text/html": "<div>\n<style scoped>\n    .dataframe tbody tr th:only-of-type {\n        vertical-align: middle;\n    }\n\n    .dataframe tbody tr th {\n        vertical-align: top;\n    }\n\n    .dataframe thead th {\n        text-align: right;\n    }\n</style>\n<table border=\"1\" class=\"dataframe\">\n  <thead>\n    <tr style=\"text-align: right;\">\n      <th></th>\n      <th>Balance</th>\n    </tr>\n    <tr>\n      <th>CsvIndex</th>\n      <th></th>\n    </tr>\n  </thead>\n  <tbody>\n    <tr>\n      <th>2019-02-01</th>\n      <td>305.88</td>\n    </tr>\n    <tr>\n      <th>2019-02-03</th>\n      <td>295.89</td>\n    </tr>\n    <tr>\n      <th>2019-02-12</th>\n      <td>340.90</td>\n    </tr>\n    <tr>\n      <th>2019-02-15</th>\n      <td>329.14</td>\n    </tr>\n    <tr>\n      <th>2019-02-21</th>\n      <td>313.17</td>\n    </tr>\n  </tbody>\n</table>\n</div>"
     },
     "metadata": {},
     "execution_count": 4
    }
   ],
   "source": [
    "df_eod_balances = GreenlightUtility.get_balance_eod_data_frame(df_balances)\n",
    "df_eod_balances"
   ]
  },
  {
   "cell_type": "code",
   "execution_count": 5,
   "metadata": {},
   "outputs": [],
   "source": [
    "first_day_of_month = GreenlightUtility.get_first_day_of_month(2019, 2)\n",
    "\n",
    "df_daily_balance = GreenlightUtility.get_daily_balance_data_frame(\n",
    "    first_day_of_month,\n",
    "    starting_balance,\n",
    "    df_eod_balances)\n",
    "\n",
    "averages.append((first_day_of_month.strftime('%Y-%m'), df_daily_balance.mean().values[0]))"
   ]
  },
  {
   "cell_type": "code",
   "execution_count": 6,
   "metadata": {},
   "outputs": [
    {
     "output_type": "execute_result",
     "data": {
      "text/plain": "            Balance\nCsvIndex           \n2019-02-21   313.17",
      "text/html": "<div>\n<style scoped>\n    .dataframe tbody tr th:only-of-type {\n        vertical-align: middle;\n    }\n\n    .dataframe tbody tr th {\n        vertical-align: top;\n    }\n\n    .dataframe thead th {\n        text-align: right;\n    }\n</style>\n<table border=\"1\" class=\"dataframe\">\n  <thead>\n    <tr style=\"text-align: right;\">\n      <th></th>\n      <th>Balance</th>\n    </tr>\n    <tr>\n      <th>CsvIndex</th>\n      <th></th>\n    </tr>\n  </thead>\n  <tbody>\n    <tr>\n      <th>2019-02-21</th>\n      <td>313.17</td>\n    </tr>\n  </tbody>\n</table>\n</div>"
     },
     "metadata": {},
     "execution_count": 6
    }
   ],
   "source": [
    "df_eod_balances.tail(1)"
   ]
  },
  {
   "source": [
    "## 2019-3"
   ],
   "cell_type": "markdown",
   "metadata": {}
  },
  {
   "cell_type": "code",
   "execution_count": 7,
   "metadata": {},
   "outputs": [
    {
     "output_type": "execute_result",
     "data": {
      "text/plain": "     CsvIndex       Date          Account Num     Description    Memo  \\\n0  2019-03-01 2019-03-01  Greenlight Card             Spotify           \n1  2019-03-02 2019-03-02  Greenlight Card      Transfer Money           \n2  2019-03-07 2019-03-07  Greenlight Card               Apple  ITUNES   \n3  2019-03-12 2019-03-12  Greenlight Card          Greenlight           \n\n                Category Tag Clr  Amount  \n0      Childcare:Leisure       c   -9.99  \n1       [inflow account]       c   50.00  \n2      Childcare:Leisure       c   -8.97  \n3  Childcare:Furnishings       c   -4.99  ",
      "text/html": "<div>\n<style scoped>\n    .dataframe tbody tr th:only-of-type {\n        vertical-align: middle;\n    }\n\n    .dataframe tbody tr th {\n        vertical-align: top;\n    }\n\n    .dataframe thead th {\n        text-align: right;\n    }\n</style>\n<table border=\"1\" class=\"dataframe\">\n  <thead>\n    <tr style=\"text-align: right;\">\n      <th></th>\n      <th>CsvIndex</th>\n      <th>Date</th>\n      <th>Account</th>\n      <th>Num</th>\n      <th>Description</th>\n      <th>Memo</th>\n      <th>Category</th>\n      <th>Tag</th>\n      <th>Clr</th>\n      <th>Amount</th>\n    </tr>\n  </thead>\n  <tbody>\n    <tr>\n      <th>0</th>\n      <td>2019-03-01</td>\n      <td>2019-03-01</td>\n      <td>Greenlight Card</td>\n      <td></td>\n      <td>Spotify</td>\n      <td></td>\n      <td>Childcare:Leisure</td>\n      <td></td>\n      <td>c</td>\n      <td>-9.99</td>\n    </tr>\n    <tr>\n      <th>1</th>\n      <td>2019-03-02</td>\n      <td>2019-03-02</td>\n      <td>Greenlight Card</td>\n      <td></td>\n      <td>Transfer Money</td>\n      <td></td>\n      <td>[inflow account]</td>\n      <td></td>\n      <td>c</td>\n      <td>50.00</td>\n    </tr>\n    <tr>\n      <th>2</th>\n      <td>2019-03-07</td>\n      <td>2019-03-07</td>\n      <td>Greenlight Card</td>\n      <td></td>\n      <td>Apple</td>\n      <td>ITUNES</td>\n      <td>Childcare:Leisure</td>\n      <td></td>\n      <td>c</td>\n      <td>-8.97</td>\n    </tr>\n    <tr>\n      <th>3</th>\n      <td>2019-03-12</td>\n      <td>2019-03-12</td>\n      <td>Greenlight Card</td>\n      <td></td>\n      <td>Greenlight</td>\n      <td></td>\n      <td>Childcare:Furnishings</td>\n      <td></td>\n      <td>c</td>\n      <td>-4.99</td>\n    </tr>\n  </tbody>\n</table>\n</div>"
     },
     "metadata": {},
     "execution_count": 7
    }
   ],
   "source": [
    "starting_balance = 313.17\n",
    "\n",
    "df_csv = GreenlightUtility.get_csv_data_frame('./data/2019-03.csv')\n",
    "df_csv"
   ]
  },
  {
   "cell_type": "code",
   "execution_count": 8,
   "metadata": {},
   "outputs": [
    {
     "output_type": "execute_result",
     "data": {
      "text/plain": "     CsvIndex  Balance\n0  2019-03-01   303.18\n1  2019-03-02   353.18\n2  2019-03-07   344.21\n3  2019-03-12   339.22",
      "text/html": "<div>\n<style scoped>\n    .dataframe tbody tr th:only-of-type {\n        vertical-align: middle;\n    }\n\n    .dataframe tbody tr th {\n        vertical-align: top;\n    }\n\n    .dataframe thead th {\n        text-align: right;\n    }\n</style>\n<table border=\"1\" class=\"dataframe\">\n  <thead>\n    <tr style=\"text-align: right;\">\n      <th></th>\n      <th>CsvIndex</th>\n      <th>Balance</th>\n    </tr>\n  </thead>\n  <tbody>\n    <tr>\n      <th>0</th>\n      <td>2019-03-01</td>\n      <td>303.18</td>\n    </tr>\n    <tr>\n      <th>1</th>\n      <td>2019-03-02</td>\n      <td>353.18</td>\n    </tr>\n    <tr>\n      <th>2</th>\n      <td>2019-03-07</td>\n      <td>344.21</td>\n    </tr>\n    <tr>\n      <th>3</th>\n      <td>2019-03-12</td>\n      <td>339.22</td>\n    </tr>\n  </tbody>\n</table>\n</div>"
     },
     "metadata": {},
     "execution_count": 8
    }
   ],
   "source": [
    "df_balances = GreenlightUtility.get_balance_data_frame(df_csv, starting_balance)\n",
    "df_balances"
   ]
  },
  {
   "cell_type": "code",
   "execution_count": 9,
   "metadata": {},
   "outputs": [
    {
     "output_type": "execute_result",
     "data": {
      "text/plain": "            Balance\nCsvIndex           \n2019-03-01   303.18\n2019-03-02   353.18\n2019-03-07   344.21\n2019-03-12   339.22",
      "text/html": "<div>\n<style scoped>\n    .dataframe tbody tr th:only-of-type {\n        vertical-align: middle;\n    }\n\n    .dataframe tbody tr th {\n        vertical-align: top;\n    }\n\n    .dataframe thead th {\n        text-align: right;\n    }\n</style>\n<table border=\"1\" class=\"dataframe\">\n  <thead>\n    <tr style=\"text-align: right;\">\n      <th></th>\n      <th>Balance</th>\n    </tr>\n    <tr>\n      <th>CsvIndex</th>\n      <th></th>\n    </tr>\n  </thead>\n  <tbody>\n    <tr>\n      <th>2019-03-01</th>\n      <td>303.18</td>\n    </tr>\n    <tr>\n      <th>2019-03-02</th>\n      <td>353.18</td>\n    </tr>\n    <tr>\n      <th>2019-03-07</th>\n      <td>344.21</td>\n    </tr>\n    <tr>\n      <th>2019-03-12</th>\n      <td>339.22</td>\n    </tr>\n  </tbody>\n</table>\n</div>"
     },
     "metadata": {},
     "execution_count": 9
    }
   ],
   "source": [
    "df_eod_balances = GreenlightUtility.get_balance_eod_data_frame(df_balances)\n",
    "df_eod_balances"
   ]
  },
  {
   "cell_type": "code",
   "execution_count": 10,
   "metadata": {},
   "outputs": [],
   "source": [
    "first_day_of_month = GreenlightUtility.get_first_day_of_month(2019, 3)\n",
    "\n",
    "df_daily_balance = GreenlightUtility.get_daily_balance_data_frame(\n",
    "    first_day_of_month,\n",
    "    starting_balance,\n",
    "    df_eod_balances)\n",
    "\n",
    "averages.append((first_day_of_month.strftime('%Y-%m'), df_daily_balance.mean().values[0]))"
   ]
  },
  {
   "cell_type": "code",
   "execution_count": 11,
   "metadata": {},
   "outputs": [
    {
     "output_type": "execute_result",
     "data": {
      "text/plain": "            Balance\nCsvIndex           \n2019-03-12   339.22",
      "text/html": "<div>\n<style scoped>\n    .dataframe tbody tr th:only-of-type {\n        vertical-align: middle;\n    }\n\n    .dataframe tbody tr th {\n        vertical-align: top;\n    }\n\n    .dataframe thead th {\n        text-align: right;\n    }\n</style>\n<table border=\"1\" class=\"dataframe\">\n  <thead>\n    <tr style=\"text-align: right;\">\n      <th></th>\n      <th>Balance</th>\n    </tr>\n    <tr>\n      <th>CsvIndex</th>\n      <th></th>\n    </tr>\n  </thead>\n  <tbody>\n    <tr>\n      <th>2019-03-12</th>\n      <td>339.22</td>\n    </tr>\n  </tbody>\n</table>\n</div>"
     },
     "metadata": {},
     "execution_count": 11
    }
   ],
   "source": [
    "df_eod_balances.tail(1)"
   ]
  },
  {
   "source": [
    "## 2019-4"
   ],
   "cell_type": "markdown",
   "metadata": {}
  },
  {
   "cell_type": "code",
   "execution_count": 12,
   "metadata": {},
   "outputs": [
    {
     "output_type": "execute_result",
     "data": {
      "text/plain": "     CsvIndex       Date          Account Num            Description    Memo  \\\n0  2019-04-01 2019-04-01  Greenlight Card      ArcLight, Culver City           \n1  2019-04-03 2019-04-03  Greenlight Card                    Spotify           \n2  2019-04-04 2019-04-04  Greenlight Card             Transfer Money           \n3  2019-04-06 2019-04-06  Greenlight Card                      Apple  ITUNES   \n4  2019-04-12 2019-04-12  Greenlight Card                 Greenlight           \n\n                Category Tag Clr  Amount  \n0      Childcare:Leisure       c  -25.50  \n1      Childcare:Leisure       c   -9.99  \n2       [inflow account]       c   50.00  \n3      Childcare:Leisure       c   -5.99  \n4  Childcare:Furnishings       c   -4.99  ",
      "text/html": "<div>\n<style scoped>\n    .dataframe tbody tr th:only-of-type {\n        vertical-align: middle;\n    }\n\n    .dataframe tbody tr th {\n        vertical-align: top;\n    }\n\n    .dataframe thead th {\n        text-align: right;\n    }\n</style>\n<table border=\"1\" class=\"dataframe\">\n  <thead>\n    <tr style=\"text-align: right;\">\n      <th></th>\n      <th>CsvIndex</th>\n      <th>Date</th>\n      <th>Account</th>\n      <th>Num</th>\n      <th>Description</th>\n      <th>Memo</th>\n      <th>Category</th>\n      <th>Tag</th>\n      <th>Clr</th>\n      <th>Amount</th>\n    </tr>\n  </thead>\n  <tbody>\n    <tr>\n      <th>0</th>\n      <td>2019-04-01</td>\n      <td>2019-04-01</td>\n      <td>Greenlight Card</td>\n      <td></td>\n      <td>ArcLight, Culver City</td>\n      <td></td>\n      <td>Childcare:Leisure</td>\n      <td></td>\n      <td>c</td>\n      <td>-25.50</td>\n    </tr>\n    <tr>\n      <th>1</th>\n      <td>2019-04-03</td>\n      <td>2019-04-03</td>\n      <td>Greenlight Card</td>\n      <td></td>\n      <td>Spotify</td>\n      <td></td>\n      <td>Childcare:Leisure</td>\n      <td></td>\n      <td>c</td>\n      <td>-9.99</td>\n    </tr>\n    <tr>\n      <th>2</th>\n      <td>2019-04-04</td>\n      <td>2019-04-04</td>\n      <td>Greenlight Card</td>\n      <td></td>\n      <td>Transfer Money</td>\n      <td></td>\n      <td>[inflow account]</td>\n      <td></td>\n      <td>c</td>\n      <td>50.00</td>\n    </tr>\n    <tr>\n      <th>3</th>\n      <td>2019-04-06</td>\n      <td>2019-04-06</td>\n      <td>Greenlight Card</td>\n      <td></td>\n      <td>Apple</td>\n      <td>ITUNES</td>\n      <td>Childcare:Leisure</td>\n      <td></td>\n      <td>c</td>\n      <td>-5.99</td>\n    </tr>\n    <tr>\n      <th>4</th>\n      <td>2019-04-12</td>\n      <td>2019-04-12</td>\n      <td>Greenlight Card</td>\n      <td></td>\n      <td>Greenlight</td>\n      <td></td>\n      <td>Childcare:Furnishings</td>\n      <td></td>\n      <td>c</td>\n      <td>-4.99</td>\n    </tr>\n  </tbody>\n</table>\n</div>"
     },
     "metadata": {},
     "execution_count": 12
    }
   ],
   "source": [
    "starting_balance = 339.22\n",
    "\n",
    "df_csv = GreenlightUtility.get_csv_data_frame('./data/2019-04.csv')\n",
    "df_csv"
   ]
  },
  {
   "cell_type": "code",
   "execution_count": 13,
   "metadata": {},
   "outputs": [
    {
     "output_type": "execute_result",
     "data": {
      "text/plain": "     CsvIndex  Balance\n0  2019-04-01   313.72\n1  2019-04-03   303.73\n2  2019-04-04   353.73\n3  2019-04-06   347.74\n4  2019-04-12   342.75",
      "text/html": "<div>\n<style scoped>\n    .dataframe tbody tr th:only-of-type {\n        vertical-align: middle;\n    }\n\n    .dataframe tbody tr th {\n        vertical-align: top;\n    }\n\n    .dataframe thead th {\n        text-align: right;\n    }\n</style>\n<table border=\"1\" class=\"dataframe\">\n  <thead>\n    <tr style=\"text-align: right;\">\n      <th></th>\n      <th>CsvIndex</th>\n      <th>Balance</th>\n    </tr>\n  </thead>\n  <tbody>\n    <tr>\n      <th>0</th>\n      <td>2019-04-01</td>\n      <td>313.72</td>\n    </tr>\n    <tr>\n      <th>1</th>\n      <td>2019-04-03</td>\n      <td>303.73</td>\n    </tr>\n    <tr>\n      <th>2</th>\n      <td>2019-04-04</td>\n      <td>353.73</td>\n    </tr>\n    <tr>\n      <th>3</th>\n      <td>2019-04-06</td>\n      <td>347.74</td>\n    </tr>\n    <tr>\n      <th>4</th>\n      <td>2019-04-12</td>\n      <td>342.75</td>\n    </tr>\n  </tbody>\n</table>\n</div>"
     },
     "metadata": {},
     "execution_count": 13
    }
   ],
   "source": [
    "df_balances = GreenlightUtility.get_balance_data_frame(df_csv, starting_balance)\n",
    "df_balances"
   ]
  },
  {
   "cell_type": "code",
   "execution_count": 14,
   "metadata": {},
   "outputs": [
    {
     "output_type": "execute_result",
     "data": {
      "text/plain": "            Balance\nCsvIndex           \n2019-04-01   313.72\n2019-04-03   303.73\n2019-04-04   353.73\n2019-04-06   347.74\n2019-04-12   342.75",
      "text/html": "<div>\n<style scoped>\n    .dataframe tbody tr th:only-of-type {\n        vertical-align: middle;\n    }\n\n    .dataframe tbody tr th {\n        vertical-align: top;\n    }\n\n    .dataframe thead th {\n        text-align: right;\n    }\n</style>\n<table border=\"1\" class=\"dataframe\">\n  <thead>\n    <tr style=\"text-align: right;\">\n      <th></th>\n      <th>Balance</th>\n    </tr>\n    <tr>\n      <th>CsvIndex</th>\n      <th></th>\n    </tr>\n  </thead>\n  <tbody>\n    <tr>\n      <th>2019-04-01</th>\n      <td>313.72</td>\n    </tr>\n    <tr>\n      <th>2019-04-03</th>\n      <td>303.73</td>\n    </tr>\n    <tr>\n      <th>2019-04-04</th>\n      <td>353.73</td>\n    </tr>\n    <tr>\n      <th>2019-04-06</th>\n      <td>347.74</td>\n    </tr>\n    <tr>\n      <th>2019-04-12</th>\n      <td>342.75</td>\n    </tr>\n  </tbody>\n</table>\n</div>"
     },
     "metadata": {},
     "execution_count": 14
    }
   ],
   "source": [
    "df_eod_balances = GreenlightUtility.get_balance_eod_data_frame(df_balances)\n",
    "df_eod_balances"
   ]
  },
  {
   "cell_type": "code",
   "execution_count": 15,
   "metadata": {},
   "outputs": [],
   "source": [
    "first_day_of_month = GreenlightUtility.get_first_day_of_month(2019, 4)\n",
    "\n",
    "df_daily_balance = GreenlightUtility.get_daily_balance_data_frame(\n",
    "    first_day_of_month,\n",
    "    starting_balance,\n",
    "    df_eod_balances)\n",
    "\n",
    "averages.append((first_day_of_month.strftime('%Y-%m'), df_daily_balance.mean().values[0]))"
   ]
  },
  {
   "cell_type": "code",
   "execution_count": 16,
   "metadata": {},
   "outputs": [
    {
     "output_type": "execute_result",
     "data": {
      "text/plain": "            Balance\nCsvIndex           \n2019-04-12   342.75",
      "text/html": "<div>\n<style scoped>\n    .dataframe tbody tr th:only-of-type {\n        vertical-align: middle;\n    }\n\n    .dataframe tbody tr th {\n        vertical-align: top;\n    }\n\n    .dataframe thead th {\n        text-align: right;\n    }\n</style>\n<table border=\"1\" class=\"dataframe\">\n  <thead>\n    <tr style=\"text-align: right;\">\n      <th></th>\n      <th>Balance</th>\n    </tr>\n    <tr>\n      <th>CsvIndex</th>\n      <th></th>\n    </tr>\n  </thead>\n  <tbody>\n    <tr>\n      <th>2019-04-12</th>\n      <td>342.75</td>\n    </tr>\n  </tbody>\n</table>\n</div>"
     },
     "metadata": {},
     "execution_count": 16
    }
   ],
   "source": [
    "df_eod_balances.tail(1)"
   ]
  },
  {
   "source": [
    "## Calculation of Contribution"
   ],
   "cell_type": "markdown",
   "metadata": {}
  },
  {
   "cell_type": "code",
   "execution_count": 17,
   "metadata": {},
   "outputs": [
    {
     "output_type": "execute_result",
     "data": {
      "text/plain": "     Dates     Balance\n0  2019-02  313.488214\n1  2019-03  341.113871\n2  2019-04  341.244000",
      "text/html": "<div>\n<style scoped>\n    .dataframe tbody tr th:only-of-type {\n        vertical-align: middle;\n    }\n\n    .dataframe tbody tr th {\n        vertical-align: top;\n    }\n\n    .dataframe thead th {\n        text-align: right;\n    }\n</style>\n<table border=\"1\" class=\"dataframe\">\n  <thead>\n    <tr style=\"text-align: right;\">\n      <th></th>\n      <th>Dates</th>\n      <th>Balance</th>\n    </tr>\n  </thead>\n  <tbody>\n    <tr>\n      <th>0</th>\n      <td>2019-02</td>\n      <td>313.488214</td>\n    </tr>\n    <tr>\n      <th>1</th>\n      <td>2019-03</td>\n      <td>341.113871</td>\n    </tr>\n    <tr>\n      <th>2</th>\n      <td>2019-04</td>\n      <td>341.244000</td>\n    </tr>\n  </tbody>\n</table>\n</div>"
     },
     "metadata": {},
     "execution_count": 17
    }
   ],
   "source": [
    "df_final = GreenlightUtility.get_final_data_frame(averages)\n",
    "df_final"
   ]
  },
  {
   "cell_type": "code",
   "execution_count": 18,
   "metadata": {},
   "outputs": [
    {
     "output_type": "execute_result",
     "data": {
      "text/plain": "99.58460852534563"
     },
     "metadata": {},
     "execution_count": 18
    }
   ],
   "source": [
    "df_final['Balance'].sum() * .1"
   ]
  }
 ]
}