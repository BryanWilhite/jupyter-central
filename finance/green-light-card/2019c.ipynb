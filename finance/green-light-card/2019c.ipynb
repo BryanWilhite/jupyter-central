{
 "metadata": {
  "language_info": {
   "codemirror_mode": {
    "name": "ipython",
    "version": 3
   },
   "file_extension": ".py",
   "mimetype": "text/x-python",
   "name": "python",
   "nbconvert_exporter": "python",
   "pygments_lexer": "ipython3",
   "version": "3.8.5-final"
  },
  "orig_nbformat": 2,
  "kernelspec": {
   "name": "Python 3.8.5 64-bit (conda)",
   "display_name": "Python 3.8.5 64-bit (conda)",
   "metadata": {
    "interpreter": {
     "hash": "a707b6ce8c685eb936424fcc3009d4b4b7a52543c4db09380a3fc49186ceb509"
    }
   }
  }
 },
 "nbformat": 4,
 "nbformat_minor": 2,
 "cells": [
  {
   "source": [
    "# 2019 Average-Daily-Balance Calculations\n",
    "\n",
    "This notebook documents months 5 through 7 for 2019."
   ],
   "cell_type": "markdown",
   "metadata": {}
  },
  {
   "cell_type": "code",
   "execution_count": 1,
   "metadata": {},
   "outputs": [],
   "source": [
    "%run ./GreenlightUtility.py\n",
    "\n",
    "averages = []"
   ]
  },
  {
   "source": [
    "## 2019-5"
   ],
   "cell_type": "markdown",
   "metadata": {}
  },
  {
   "cell_type": "code",
   "execution_count": 2,
   "metadata": {},
   "outputs": [
    {
     "output_type": "execute_result",
     "data": {
      "text/plain": "     CsvIndex       Date          Account Num     Description    Memo  \\\n0  2019-05-01 2019-05-01  Greenlight Card               Apple  ITUNES   \n1  2019-05-02 2019-05-02  Greenlight Card      Star Mini Mart           \n2  2019-05-03 2019-05-03  Greenlight Card             Spotify           \n3  2019-05-07 2019-05-07  Greenlight Card      Transfer Money           \n4  2019-05-11 2019-05-11  Greenlight Card               Apple  ITUNES   \n5  2019-05-11 2019-05-11  Greenlight Card               Apple  ITUNES   \n6  2019-05-12 2019-05-12  Greenlight Card          Greenlight           \n7  2019-05-22 2019-05-22  Greenlight Card               Apple  ITUNES   \n\n                Category Tag Clr  Amount  \n0      Childcare:Leisure       c   -5.99  \n1  Childcare:Furnishings       c   -5.17  \n2      Childcare:Leisure       c   -9.99  \n3       [inflow account]       c   50.00  \n4      Childcare:Leisure       c   -5.99  \n5      Childcare:Leisure       c   -9.99  \n6  Childcare:Furnishings       c   -4.99  \n7      Childcare:Leisure       c   -0.99  ",
      "text/html": "<div>\n<style scoped>\n    .dataframe tbody tr th:only-of-type {\n        vertical-align: middle;\n    }\n\n    .dataframe tbody tr th {\n        vertical-align: top;\n    }\n\n    .dataframe thead th {\n        text-align: right;\n    }\n</style>\n<table border=\"1\" class=\"dataframe\">\n  <thead>\n    <tr style=\"text-align: right;\">\n      <th></th>\n      <th>CsvIndex</th>\n      <th>Date</th>\n      <th>Account</th>\n      <th>Num</th>\n      <th>Description</th>\n      <th>Memo</th>\n      <th>Category</th>\n      <th>Tag</th>\n      <th>Clr</th>\n      <th>Amount</th>\n    </tr>\n  </thead>\n  <tbody>\n    <tr>\n      <th>0</th>\n      <td>2019-05-01</td>\n      <td>2019-05-01</td>\n      <td>Greenlight Card</td>\n      <td></td>\n      <td>Apple</td>\n      <td>ITUNES</td>\n      <td>Childcare:Leisure</td>\n      <td></td>\n      <td>c</td>\n      <td>-5.99</td>\n    </tr>\n    <tr>\n      <th>1</th>\n      <td>2019-05-02</td>\n      <td>2019-05-02</td>\n      <td>Greenlight Card</td>\n      <td></td>\n      <td>Star Mini Mart</td>\n      <td></td>\n      <td>Childcare:Furnishings</td>\n      <td></td>\n      <td>c</td>\n      <td>-5.17</td>\n    </tr>\n    <tr>\n      <th>2</th>\n      <td>2019-05-03</td>\n      <td>2019-05-03</td>\n      <td>Greenlight Card</td>\n      <td></td>\n      <td>Spotify</td>\n      <td></td>\n      <td>Childcare:Leisure</td>\n      <td></td>\n      <td>c</td>\n      <td>-9.99</td>\n    </tr>\n    <tr>\n      <th>3</th>\n      <td>2019-05-07</td>\n      <td>2019-05-07</td>\n      <td>Greenlight Card</td>\n      <td></td>\n      <td>Transfer Money</td>\n      <td></td>\n      <td>[inflow account]</td>\n      <td></td>\n      <td>c</td>\n      <td>50.00</td>\n    </tr>\n    <tr>\n      <th>4</th>\n      <td>2019-05-11</td>\n      <td>2019-05-11</td>\n      <td>Greenlight Card</td>\n      <td></td>\n      <td>Apple</td>\n      <td>ITUNES</td>\n      <td>Childcare:Leisure</td>\n      <td></td>\n      <td>c</td>\n      <td>-5.99</td>\n    </tr>\n    <tr>\n      <th>5</th>\n      <td>2019-05-11</td>\n      <td>2019-05-11</td>\n      <td>Greenlight Card</td>\n      <td></td>\n      <td>Apple</td>\n      <td>ITUNES</td>\n      <td>Childcare:Leisure</td>\n      <td></td>\n      <td>c</td>\n      <td>-9.99</td>\n    </tr>\n    <tr>\n      <th>6</th>\n      <td>2019-05-12</td>\n      <td>2019-05-12</td>\n      <td>Greenlight Card</td>\n      <td></td>\n      <td>Greenlight</td>\n      <td></td>\n      <td>Childcare:Furnishings</td>\n      <td></td>\n      <td>c</td>\n      <td>-4.99</td>\n    </tr>\n    <tr>\n      <th>7</th>\n      <td>2019-05-22</td>\n      <td>2019-05-22</td>\n      <td>Greenlight Card</td>\n      <td></td>\n      <td>Apple</td>\n      <td>ITUNES</td>\n      <td>Childcare:Leisure</td>\n      <td></td>\n      <td>c</td>\n      <td>-0.99</td>\n    </tr>\n  </tbody>\n</table>\n</div>"
     },
     "metadata": {},
     "execution_count": 2
    }
   ],
   "source": [
    "starting_balance = 342.75\n",
    "\n",
    "df_csv = GreenlightUtility.get_csv_data_frame('./data/2019-05.csv')\n",
    "df_csv"
   ]
  },
  {
   "cell_type": "code",
   "execution_count": 3,
   "metadata": {},
   "outputs": [
    {
     "output_type": "execute_result",
     "data": {
      "text/plain": "     CsvIndex  Balance\n0  2019-05-01   336.76\n1  2019-05-02   331.59\n2  2019-05-03   321.60\n3  2019-05-07   371.60\n4  2019-05-11   365.61\n5  2019-05-11   355.62\n6  2019-05-12   350.63\n7  2019-05-22   349.64",
      "text/html": "<div>\n<style scoped>\n    .dataframe tbody tr th:only-of-type {\n        vertical-align: middle;\n    }\n\n    .dataframe tbody tr th {\n        vertical-align: top;\n    }\n\n    .dataframe thead th {\n        text-align: right;\n    }\n</style>\n<table border=\"1\" class=\"dataframe\">\n  <thead>\n    <tr style=\"text-align: right;\">\n      <th></th>\n      <th>CsvIndex</th>\n      <th>Balance</th>\n    </tr>\n  </thead>\n  <tbody>\n    <tr>\n      <th>0</th>\n      <td>2019-05-01</td>\n      <td>336.76</td>\n    </tr>\n    <tr>\n      <th>1</th>\n      <td>2019-05-02</td>\n      <td>331.59</td>\n    </tr>\n    <tr>\n      <th>2</th>\n      <td>2019-05-03</td>\n      <td>321.60</td>\n    </tr>\n    <tr>\n      <th>3</th>\n      <td>2019-05-07</td>\n      <td>371.60</td>\n    </tr>\n    <tr>\n      <th>4</th>\n      <td>2019-05-11</td>\n      <td>365.61</td>\n    </tr>\n    <tr>\n      <th>5</th>\n      <td>2019-05-11</td>\n      <td>355.62</td>\n    </tr>\n    <tr>\n      <th>6</th>\n      <td>2019-05-12</td>\n      <td>350.63</td>\n    </tr>\n    <tr>\n      <th>7</th>\n      <td>2019-05-22</td>\n      <td>349.64</td>\n    </tr>\n  </tbody>\n</table>\n</div>"
     },
     "metadata": {},
     "execution_count": 3
    }
   ],
   "source": [
    "df_balances = GreenlightUtility.get_balance_data_frame(df_csv, starting_balance)\n",
    "df_balances"
   ]
  },
  {
   "cell_type": "code",
   "execution_count": 4,
   "metadata": {},
   "outputs": [
    {
     "output_type": "execute_result",
     "data": {
      "text/plain": "            Balance\nCsvIndex           \n2019-05-01   336.76\n2019-05-02   331.59\n2019-05-03   321.60\n2019-05-07   371.60\n2019-05-11   355.62\n2019-05-12   350.63\n2019-05-22   349.64",
      "text/html": "<div>\n<style scoped>\n    .dataframe tbody tr th:only-of-type {\n        vertical-align: middle;\n    }\n\n    .dataframe tbody tr th {\n        vertical-align: top;\n    }\n\n    .dataframe thead th {\n        text-align: right;\n    }\n</style>\n<table border=\"1\" class=\"dataframe\">\n  <thead>\n    <tr style=\"text-align: right;\">\n      <th></th>\n      <th>Balance</th>\n    </tr>\n    <tr>\n      <th>CsvIndex</th>\n      <th></th>\n    </tr>\n  </thead>\n  <tbody>\n    <tr>\n      <th>2019-05-01</th>\n      <td>336.76</td>\n    </tr>\n    <tr>\n      <th>2019-05-02</th>\n      <td>331.59</td>\n    </tr>\n    <tr>\n      <th>2019-05-03</th>\n      <td>321.60</td>\n    </tr>\n    <tr>\n      <th>2019-05-07</th>\n      <td>371.60</td>\n    </tr>\n    <tr>\n      <th>2019-05-11</th>\n      <td>355.62</td>\n    </tr>\n    <tr>\n      <th>2019-05-12</th>\n      <td>350.63</td>\n    </tr>\n    <tr>\n      <th>2019-05-22</th>\n      <td>349.64</td>\n    </tr>\n  </tbody>\n</table>\n</div>"
     },
     "metadata": {},
     "execution_count": 4
    }
   ],
   "source": [
    "df_eod_balances = GreenlightUtility.get_balance_eod_data_frame(df_balances)\n",
    "df_eod_balances"
   ]
  },
  {
   "cell_type": "code",
   "execution_count": 5,
   "metadata": {},
   "outputs": [],
   "source": [
    "first_day_of_month = GreenlightUtility.get_first_day_of_month(2019, 5)\n",
    "\n",
    "df_daily_balance = GreenlightUtility.get_daily_balance_data_frame(\n",
    "    first_day_of_month,\n",
    "    starting_balance,\n",
    "    df_eod_balances)\n",
    "\n",
    "averages.append((first_day_of_month.strftime('%Y-%m'), df_daily_balance.mean().values[0]))"
   ]
  },
  {
   "cell_type": "code",
   "execution_count": 6,
   "metadata": {},
   "outputs": [
    {
     "output_type": "execute_result",
     "data": {
      "text/plain": "            Balance\nCsvIndex           \n2019-05-22   349.64",
      "text/html": "<div>\n<style scoped>\n    .dataframe tbody tr th:only-of-type {\n        vertical-align: middle;\n    }\n\n    .dataframe tbody tr th {\n        vertical-align: top;\n    }\n\n    .dataframe thead th {\n        text-align: right;\n    }\n</style>\n<table border=\"1\" class=\"dataframe\">\n  <thead>\n    <tr style=\"text-align: right;\">\n      <th></th>\n      <th>Balance</th>\n    </tr>\n    <tr>\n      <th>CsvIndex</th>\n      <th></th>\n    </tr>\n  </thead>\n  <tbody>\n    <tr>\n      <th>2019-05-22</th>\n      <td>349.64</td>\n    </tr>\n  </tbody>\n</table>\n</div>"
     },
     "metadata": {},
     "execution_count": 6
    }
   ],
   "source": [
    "df_eod_balances.tail(1)"
   ]
  },
  {
   "source": [
    "## 2019-6"
   ],
   "cell_type": "markdown",
   "metadata": {}
  },
  {
   "cell_type": "code",
   "execution_count": 7,
   "metadata": {},
   "outputs": [
    {
     "output_type": "execute_result",
     "data": {
      "text/plain": "     CsvIndex       Date          Account Num      Description  \\\n0  2019-06-01 2019-06-01  Greenlight Card      Demtrius Harmon   \n1  2019-06-02 2019-06-02  Greenlight Card       Transfer Money   \n2  2019-06-03 2019-06-03  Greenlight Card              Spotify   \n3  2019-06-07 2019-06-07  Greenlight Card       Star Mini Mart   \n4  2019-06-12 2019-06-12  Greenlight Card           Greenlight   \n\n                   Memo               Category Tag Clr  Amount  \n0  youtube &quot;influencer&quot;  Childcare:Furnishings       c  -19.99  \n1                             [inflow account]       c   50.00  \n2                            Childcare:Leisure       c   -9.99  \n3                        Childcare:Furnishings       c   -5.93  \n4                        Childcare:Furnishings       c   -4.99  ",
      "text/html": "<div>\n<style scoped>\n    .dataframe tbody tr th:only-of-type {\n        vertical-align: middle;\n    }\n\n    .dataframe tbody tr th {\n        vertical-align: top;\n    }\n\n    .dataframe thead th {\n        text-align: right;\n    }\n</style>\n<table border=\"1\" class=\"dataframe\">\n  <thead>\n    <tr style=\"text-align: right;\">\n      <th></th>\n      <th>CsvIndex</th>\n      <th>Date</th>\n      <th>Account</th>\n      <th>Num</th>\n      <th>Description</th>\n      <th>Memo</th>\n      <th>Category</th>\n      <th>Tag</th>\n      <th>Clr</th>\n      <th>Amount</th>\n    </tr>\n  </thead>\n  <tbody>\n    <tr>\n      <th>0</th>\n      <td>2019-06-01</td>\n      <td>2019-06-01</td>\n      <td>Greenlight Card</td>\n      <td></td>\n      <td>Demtrius Harmon</td>\n      <td>youtube \"influencer\"</td>\n      <td>Childcare:Furnishings</td>\n      <td></td>\n      <td>c</td>\n      <td>-19.99</td>\n    </tr>\n    <tr>\n      <th>1</th>\n      <td>2019-06-02</td>\n      <td>2019-06-02</td>\n      <td>Greenlight Card</td>\n      <td></td>\n      <td>Transfer Money</td>\n      <td></td>\n      <td>[inflow account]</td>\n      <td></td>\n      <td>c</td>\n      <td>50.00</td>\n    </tr>\n    <tr>\n      <th>2</th>\n      <td>2019-06-03</td>\n      <td>2019-06-03</td>\n      <td>Greenlight Card</td>\n      <td></td>\n      <td>Spotify</td>\n      <td></td>\n      <td>Childcare:Leisure</td>\n      <td></td>\n      <td>c</td>\n      <td>-9.99</td>\n    </tr>\n    <tr>\n      <th>3</th>\n      <td>2019-06-07</td>\n      <td>2019-06-07</td>\n      <td>Greenlight Card</td>\n      <td></td>\n      <td>Star Mini Mart</td>\n      <td></td>\n      <td>Childcare:Furnishings</td>\n      <td></td>\n      <td>c</td>\n      <td>-5.93</td>\n    </tr>\n    <tr>\n      <th>4</th>\n      <td>2019-06-12</td>\n      <td>2019-06-12</td>\n      <td>Greenlight Card</td>\n      <td></td>\n      <td>Greenlight</td>\n      <td></td>\n      <td>Childcare:Furnishings</td>\n      <td></td>\n      <td>c</td>\n      <td>-4.99</td>\n    </tr>\n  </tbody>\n</table>\n</div>"
     },
     "metadata": {},
     "execution_count": 7
    }
   ],
   "source": [
    "starting_balance = 349.64\n",
    "\n",
    "df_csv = GreenlightUtility.get_csv_data_frame('./data/2019-06.csv')\n",
    "df_csv"
   ]
  },
  {
   "cell_type": "code",
   "execution_count": 8,
   "metadata": {},
   "outputs": [
    {
     "output_type": "execute_result",
     "data": {
      "text/plain": "     CsvIndex  Balance\n0  2019-06-01   329.65\n1  2019-06-02   379.65\n2  2019-06-03   369.66\n3  2019-06-07   363.73\n4  2019-06-12   358.74",
      "text/html": "<div>\n<style scoped>\n    .dataframe tbody tr th:only-of-type {\n        vertical-align: middle;\n    }\n\n    .dataframe tbody tr th {\n        vertical-align: top;\n    }\n\n    .dataframe thead th {\n        text-align: right;\n    }\n</style>\n<table border=\"1\" class=\"dataframe\">\n  <thead>\n    <tr style=\"text-align: right;\">\n      <th></th>\n      <th>CsvIndex</th>\n      <th>Balance</th>\n    </tr>\n  </thead>\n  <tbody>\n    <tr>\n      <th>0</th>\n      <td>2019-06-01</td>\n      <td>329.65</td>\n    </tr>\n    <tr>\n      <th>1</th>\n      <td>2019-06-02</td>\n      <td>379.65</td>\n    </tr>\n    <tr>\n      <th>2</th>\n      <td>2019-06-03</td>\n      <td>369.66</td>\n    </tr>\n    <tr>\n      <th>3</th>\n      <td>2019-06-07</td>\n      <td>363.73</td>\n    </tr>\n    <tr>\n      <th>4</th>\n      <td>2019-06-12</td>\n      <td>358.74</td>\n    </tr>\n  </tbody>\n</table>\n</div>"
     },
     "metadata": {},
     "execution_count": 8
    }
   ],
   "source": [
    "df_balances = GreenlightUtility.get_balance_data_frame(df_csv, starting_balance)\n",
    "df_balances"
   ]
  },
  {
   "cell_type": "code",
   "execution_count": 9,
   "metadata": {},
   "outputs": [
    {
     "output_type": "execute_result",
     "data": {
      "text/plain": "            Balance\nCsvIndex           \n2019-06-01   329.65\n2019-06-02   379.65\n2019-06-03   369.66\n2019-06-07   363.73\n2019-06-12   358.74",
      "text/html": "<div>\n<style scoped>\n    .dataframe tbody tr th:only-of-type {\n        vertical-align: middle;\n    }\n\n    .dataframe tbody tr th {\n        vertical-align: top;\n    }\n\n    .dataframe thead th {\n        text-align: right;\n    }\n</style>\n<table border=\"1\" class=\"dataframe\">\n  <thead>\n    <tr style=\"text-align: right;\">\n      <th></th>\n      <th>Balance</th>\n    </tr>\n    <tr>\n      <th>CsvIndex</th>\n      <th></th>\n    </tr>\n  </thead>\n  <tbody>\n    <tr>\n      <th>2019-06-01</th>\n      <td>329.65</td>\n    </tr>\n    <tr>\n      <th>2019-06-02</th>\n      <td>379.65</td>\n    </tr>\n    <tr>\n      <th>2019-06-03</th>\n      <td>369.66</td>\n    </tr>\n    <tr>\n      <th>2019-06-07</th>\n      <td>363.73</td>\n    </tr>\n    <tr>\n      <th>2019-06-12</th>\n      <td>358.74</td>\n    </tr>\n  </tbody>\n</table>\n</div>"
     },
     "metadata": {},
     "execution_count": 9
    }
   ],
   "source": [
    "df_eod_balances = GreenlightUtility.get_balance_eod_data_frame(df_balances)\n",
    "df_eod_balances"
   ]
  },
  {
   "cell_type": "code",
   "execution_count": 10,
   "metadata": {},
   "outputs": [],
   "source": [
    "first_day_of_month = GreenlightUtility.get_first_day_of_month(2019, 6)\n",
    "\n",
    "df_daily_balance = GreenlightUtility.get_daily_balance_data_frame(\n",
    "    first_day_of_month,\n",
    "    starting_balance,\n",
    "    df_eod_balances)\n",
    "\n",
    "averages.append((first_day_of_month.strftime('%Y-%m'), df_daily_balance.mean().values[0]))"
   ]
  },
  {
   "cell_type": "code",
   "execution_count": 11,
   "metadata": {},
   "outputs": [
    {
     "output_type": "execute_result",
     "data": {
      "text/plain": "            Balance\nCsvIndex           \n2019-06-12   358.74",
      "text/html": "<div>\n<style scoped>\n    .dataframe tbody tr th:only-of-type {\n        vertical-align: middle;\n    }\n\n    .dataframe tbody tr th {\n        vertical-align: top;\n    }\n\n    .dataframe thead th {\n        text-align: right;\n    }\n</style>\n<table border=\"1\" class=\"dataframe\">\n  <thead>\n    <tr style=\"text-align: right;\">\n      <th></th>\n      <th>Balance</th>\n    </tr>\n    <tr>\n      <th>CsvIndex</th>\n      <th></th>\n    </tr>\n  </thead>\n  <tbody>\n    <tr>\n      <th>2019-06-12</th>\n      <td>358.74</td>\n    </tr>\n  </tbody>\n</table>\n</div>"
     },
     "metadata": {},
     "execution_count": 11
    }
   ],
   "source": [
    "df_eod_balances.tail(1)"
   ]
  },
  {
   "source": [
    "## 2019-7"
   ],
   "cell_type": "markdown",
   "metadata": {}
  },
  {
   "cell_type": "code",
   "execution_count": 12,
   "metadata": {},
   "outputs": [
    {
     "output_type": "execute_result",
     "data": {
      "text/plain": "     CsvIndex       Date          Account Num     Description    Memo  \\\n0  2019-07-01 2019-07-01  Greenlight Card      Transfer Money           \n1  2019-07-01 2019-07-01  Greenlight Card               Apple  ITUNES   \n2  2019-07-03 2019-07-03  Greenlight Card             Spotify           \n3  2019-07-07 2019-07-07  Greenlight Card               Apple  ITUNES   \n4  2019-07-12 2019-07-12  Greenlight Card      Star Mini Mart           \n5  2019-07-12 2019-07-12  Greenlight Card          Greenlight           \n6  2019-07-20 2019-07-20  Greenlight Card                 CVS           \n\n                Category Tag Clr  Amount  \n0       [inflow account]       c   50.00  \n1      Childcare:Leisure       c  -19.99  \n2      Childcare:Leisure       c   -9.99  \n3      Childcare:Leisure       c   -5.99  \n4  Childcare:Furnishings       c   -4.04  \n5  Childcare:Furnishings       c   -4.99  \n6      Childcare:Leisure       c   -2.62  ",
      "text/html": "<div>\n<style scoped>\n    .dataframe tbody tr th:only-of-type {\n        vertical-align: middle;\n    }\n\n    .dataframe tbody tr th {\n        vertical-align: top;\n    }\n\n    .dataframe thead th {\n        text-align: right;\n    }\n</style>\n<table border=\"1\" class=\"dataframe\">\n  <thead>\n    <tr style=\"text-align: right;\">\n      <th></th>\n      <th>CsvIndex</th>\n      <th>Date</th>\n      <th>Account</th>\n      <th>Num</th>\n      <th>Description</th>\n      <th>Memo</th>\n      <th>Category</th>\n      <th>Tag</th>\n      <th>Clr</th>\n      <th>Amount</th>\n    </tr>\n  </thead>\n  <tbody>\n    <tr>\n      <th>0</th>\n      <td>2019-07-01</td>\n      <td>2019-07-01</td>\n      <td>Greenlight Card</td>\n      <td></td>\n      <td>Transfer Money</td>\n      <td></td>\n      <td>[inflow account]</td>\n      <td></td>\n      <td>c</td>\n      <td>50.00</td>\n    </tr>\n    <tr>\n      <th>1</th>\n      <td>2019-07-01</td>\n      <td>2019-07-01</td>\n      <td>Greenlight Card</td>\n      <td></td>\n      <td>Apple</td>\n      <td>ITUNES</td>\n      <td>Childcare:Leisure</td>\n      <td></td>\n      <td>c</td>\n      <td>-19.99</td>\n    </tr>\n    <tr>\n      <th>2</th>\n      <td>2019-07-03</td>\n      <td>2019-07-03</td>\n      <td>Greenlight Card</td>\n      <td></td>\n      <td>Spotify</td>\n      <td></td>\n      <td>Childcare:Leisure</td>\n      <td></td>\n      <td>c</td>\n      <td>-9.99</td>\n    </tr>\n    <tr>\n      <th>3</th>\n      <td>2019-07-07</td>\n      <td>2019-07-07</td>\n      <td>Greenlight Card</td>\n      <td></td>\n      <td>Apple</td>\n      <td>ITUNES</td>\n      <td>Childcare:Leisure</td>\n      <td></td>\n      <td>c</td>\n      <td>-5.99</td>\n    </tr>\n    <tr>\n      <th>4</th>\n      <td>2019-07-12</td>\n      <td>2019-07-12</td>\n      <td>Greenlight Card</td>\n      <td></td>\n      <td>Star Mini Mart</td>\n      <td></td>\n      <td>Childcare:Furnishings</td>\n      <td></td>\n      <td>c</td>\n      <td>-4.04</td>\n    </tr>\n    <tr>\n      <th>5</th>\n      <td>2019-07-12</td>\n      <td>2019-07-12</td>\n      <td>Greenlight Card</td>\n      <td></td>\n      <td>Greenlight</td>\n      <td></td>\n      <td>Childcare:Furnishings</td>\n      <td></td>\n      <td>c</td>\n      <td>-4.99</td>\n    </tr>\n    <tr>\n      <th>6</th>\n      <td>2019-07-20</td>\n      <td>2019-07-20</td>\n      <td>Greenlight Card</td>\n      <td></td>\n      <td>CVS</td>\n      <td></td>\n      <td>Childcare:Leisure</td>\n      <td></td>\n      <td>c</td>\n      <td>-2.62</td>\n    </tr>\n  </tbody>\n</table>\n</div>"
     },
     "metadata": {},
     "execution_count": 12
    }
   ],
   "source": [
    "starting_balance = 358.74\n",
    "\n",
    "df_csv = GreenlightUtility.get_csv_data_frame('./data/2019-07.csv')\n",
    "df_csv"
   ]
  },
  {
   "cell_type": "code",
   "execution_count": 13,
   "metadata": {},
   "outputs": [
    {
     "output_type": "execute_result",
     "data": {
      "text/plain": "     CsvIndex  Balance\n0  2019-07-01   408.74\n1  2019-07-01   388.75\n2  2019-07-03   378.76\n3  2019-07-07   372.77\n4  2019-07-12   368.73\n5  2019-07-12   363.74\n6  2019-07-20   361.12",
      "text/html": "<div>\n<style scoped>\n    .dataframe tbody tr th:only-of-type {\n        vertical-align: middle;\n    }\n\n    .dataframe tbody tr th {\n        vertical-align: top;\n    }\n\n    .dataframe thead th {\n        text-align: right;\n    }\n</style>\n<table border=\"1\" class=\"dataframe\">\n  <thead>\n    <tr style=\"text-align: right;\">\n      <th></th>\n      <th>CsvIndex</th>\n      <th>Balance</th>\n    </tr>\n  </thead>\n  <tbody>\n    <tr>\n      <th>0</th>\n      <td>2019-07-01</td>\n      <td>408.74</td>\n    </tr>\n    <tr>\n      <th>1</th>\n      <td>2019-07-01</td>\n      <td>388.75</td>\n    </tr>\n    <tr>\n      <th>2</th>\n      <td>2019-07-03</td>\n      <td>378.76</td>\n    </tr>\n    <tr>\n      <th>3</th>\n      <td>2019-07-07</td>\n      <td>372.77</td>\n    </tr>\n    <tr>\n      <th>4</th>\n      <td>2019-07-12</td>\n      <td>368.73</td>\n    </tr>\n    <tr>\n      <th>5</th>\n      <td>2019-07-12</td>\n      <td>363.74</td>\n    </tr>\n    <tr>\n      <th>6</th>\n      <td>2019-07-20</td>\n      <td>361.12</td>\n    </tr>\n  </tbody>\n</table>\n</div>"
     },
     "metadata": {},
     "execution_count": 13
    }
   ],
   "source": [
    "df_balances = GreenlightUtility.get_balance_data_frame(df_csv, starting_balance)\n",
    "df_balances"
   ]
  },
  {
   "cell_type": "code",
   "execution_count": 14,
   "metadata": {},
   "outputs": [
    {
     "output_type": "execute_result",
     "data": {
      "text/plain": "            Balance\nCsvIndex           \n2019-07-01   388.75\n2019-07-03   378.76\n2019-07-07   372.77\n2019-07-12   363.74\n2019-07-20   361.12",
      "text/html": "<div>\n<style scoped>\n    .dataframe tbody tr th:only-of-type {\n        vertical-align: middle;\n    }\n\n    .dataframe tbody tr th {\n        vertical-align: top;\n    }\n\n    .dataframe thead th {\n        text-align: right;\n    }\n</style>\n<table border=\"1\" class=\"dataframe\">\n  <thead>\n    <tr style=\"text-align: right;\">\n      <th></th>\n      <th>Balance</th>\n    </tr>\n    <tr>\n      <th>CsvIndex</th>\n      <th></th>\n    </tr>\n  </thead>\n  <tbody>\n    <tr>\n      <th>2019-07-01</th>\n      <td>388.75</td>\n    </tr>\n    <tr>\n      <th>2019-07-03</th>\n      <td>378.76</td>\n    </tr>\n    <tr>\n      <th>2019-07-07</th>\n      <td>372.77</td>\n    </tr>\n    <tr>\n      <th>2019-07-12</th>\n      <td>363.74</td>\n    </tr>\n    <tr>\n      <th>2019-07-20</th>\n      <td>361.12</td>\n    </tr>\n  </tbody>\n</table>\n</div>"
     },
     "metadata": {},
     "execution_count": 14
    }
   ],
   "source": [
    "df_eod_balances = GreenlightUtility.get_balance_eod_data_frame(df_balances)\n",
    "df_eod_balances"
   ]
  },
  {
   "cell_type": "code",
   "execution_count": 15,
   "metadata": {},
   "outputs": [],
   "source": [
    "first_day_of_month = GreenlightUtility.get_first_day_of_month(2019, 7)\n",
    "\n",
    "df_daily_balance = GreenlightUtility.get_daily_balance_data_frame(\n",
    "    first_day_of_month,\n",
    "    starting_balance,\n",
    "    df_eod_balances)\n",
    "\n",
    "averages.append((first_day_of_month.strftime('%Y-%m'), df_daily_balance.mean().values[0]))"
   ]
  },
  {
   "cell_type": "code",
   "execution_count": 16,
   "metadata": {},
   "outputs": [
    {
     "output_type": "execute_result",
     "data": {
      "text/plain": "            Balance\nCsvIndex           \n2019-07-20   361.12",
      "text/html": "<div>\n<style scoped>\n    .dataframe tbody tr th:only-of-type {\n        vertical-align: middle;\n    }\n\n    .dataframe tbody tr th {\n        vertical-align: top;\n    }\n\n    .dataframe thead th {\n        text-align: right;\n    }\n</style>\n<table border=\"1\" class=\"dataframe\">\n  <thead>\n    <tr style=\"text-align: right;\">\n      <th></th>\n      <th>Balance</th>\n    </tr>\n    <tr>\n      <th>CsvIndex</th>\n      <th></th>\n    </tr>\n  </thead>\n  <tbody>\n    <tr>\n      <th>2019-07-20</th>\n      <td>361.12</td>\n    </tr>\n  </tbody>\n</table>\n</div>"
     },
     "metadata": {},
     "execution_count": 16
    }
   ],
   "source": [
    "df_eod_balances.tail(1)"
   ]
  },
  {
   "source": [
    "## Calculation of Contribution"
   ],
   "cell_type": "markdown",
   "metadata": {}
  },
  {
   "cell_type": "code",
   "execution_count": 17,
   "metadata": {},
   "outputs": [
    {
     "output_type": "execute_result",
     "data": {
      "text/plain": "     Dates     Balance\n0  2019-05  348.370000\n1  2019-06  360.755000\n2  2019-07  367.733871",
      "text/html": "<div>\n<style scoped>\n    .dataframe tbody tr th:only-of-type {\n        vertical-align: middle;\n    }\n\n    .dataframe tbody tr th {\n        vertical-align: top;\n    }\n\n    .dataframe thead th {\n        text-align: right;\n    }\n</style>\n<table border=\"1\" class=\"dataframe\">\n  <thead>\n    <tr style=\"text-align: right;\">\n      <th></th>\n      <th>Dates</th>\n      <th>Balance</th>\n    </tr>\n  </thead>\n  <tbody>\n    <tr>\n      <th>0</th>\n      <td>2019-05</td>\n      <td>348.370000</td>\n    </tr>\n    <tr>\n      <th>1</th>\n      <td>2019-06</td>\n      <td>360.755000</td>\n    </tr>\n    <tr>\n      <th>2</th>\n      <td>2019-07</td>\n      <td>367.733871</td>\n    </tr>\n  </tbody>\n</table>\n</div>"
     },
     "metadata": {},
     "execution_count": 17
    }
   ],
   "source": [
    "df_final = GreenlightUtility.get_final_data_frame(averages)\n",
    "df_final"
   ]
  },
  {
   "cell_type": "code",
   "execution_count": 18,
   "metadata": {},
   "outputs": [
    {
     "output_type": "execute_result",
     "data": {
      "text/plain": "107.6858870967742"
     },
     "metadata": {},
     "execution_count": 18
    }
   ],
   "source": [
    "df_final['Balance'].sum() * .1"
   ]
  }
 ]
}