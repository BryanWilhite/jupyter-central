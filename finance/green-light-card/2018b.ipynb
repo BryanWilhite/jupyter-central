{
 "metadata": {
  "language_info": {
   "codemirror_mode": {
    "name": "ipython",
    "version": 3
   },
   "file_extension": ".py",
   "mimetype": "text/x-python",
   "name": "python",
   "nbconvert_exporter": "python",
   "pygments_lexer": "ipython3",
   "version": "3.8.5-final"
  },
  "orig_nbformat": 2,
  "kernelspec": {
   "name": "Python 3.8.5 64-bit (conda)",
   "display_name": "Python 3.8.5 64-bit (conda)",
   "metadata": {
    "interpreter": {
     "hash": "a707b6ce8c685eb936424fcc3009d4b4b7a52543c4db09380a3fc49186ceb509"
    }
   }
  }
 },
 "nbformat": 4,
 "nbformat_minor": 2,
 "cells": [
  {
   "source": [
    "# 2018 Average-Daily-Balance Calculations\n",
    "\n",
    "This notebook documents months 2 through 4 for 2018."
   ],
   "cell_type": "markdown",
   "metadata": {}
  },
  {
   "cell_type": "code",
   "execution_count": 7,
   "metadata": {},
   "outputs": [],
   "source": [
    "%run ./GreenlightUtility.py\n",
    "\n",
    "averages = []"
   ]
  },
  {
   "source": [
    "## 2018-2"
   ],
   "cell_type": "markdown",
   "metadata": {}
  },
  {
   "cell_type": "code",
   "execution_count": 8,
   "metadata": {},
   "outputs": [
    {
     "output_type": "execute_result",
     "data": {
      "text/plain": "     CsvIndex       Date                Account Num     Description Memo  \\\n0  2018-02-01 2018-02-01  Greenlight Card                Ulta        \n1  2018-02-03 2018-02-03  Greenlight Card             Spotify        \n2  2018-02-11 2018-02-11  Greenlight Card                 CVS        \n3  2018-02-12 2018-02-12  Greenlight Card          Greenlight        \n4  2018-02-15 2018-02-15  Greenlight Card         Alices Shop        \n5  2018-02-16 2018-02-16  Greenlight Card      Transfer Money        \n6  2018-02-28 2018-02-28  Greenlight Card             Spotify        \n7  2018-02-28 2018-02-28  Greenlight Card          Amazon.com        \n\n                              Category Tag Clr  Amount  \n0                Childcare:Furnishings          -10.06  \n1                Childcare:Furnishings           -9.99  \n2                Childcare:Furnishings           -9.84  \n3                Childcare:Furnishings           -4.99  \n4                Childcare:Furnishings          -12.02  \n5  [inflow account]           50.00  \n6                Childcare:Furnishings           -9.99  \n7                Childcare:Furnishings          -12.95  ",
      "text/html": "<div>\n<style scoped>\n    .dataframe tbody tr th:only-of-type {\n        vertical-align: middle;\n    }\n\n    .dataframe tbody tr th {\n        vertical-align: top;\n    }\n\n    .dataframe thead th {\n        text-align: right;\n    }\n</style>\n<table border=\"1\" class=\"dataframe\">\n  <thead>\n    <tr style=\"text-align: right;\">\n      <th></th>\n      <th>CsvIndex</th>\n      <th>Date</th>\n      <th>Account</th>\n      <th>Num</th>\n      <th>Description</th>\n      <th>Memo</th>\n      <th>Category</th>\n      <th>Tag</th>\n      <th>Clr</th>\n      <th>Amount</th>\n    </tr>\n  </thead>\n  <tbody>\n    <tr>\n      <th>0</th>\n      <td>2018-02-01</td>\n      <td>2018-02-01</td>\n      <td>Greenlight Card</td>\n      <td></td>\n      <td>Ulta</td>\n      <td></td>\n      <td>Childcare:Furnishings</td>\n      <td></td>\n      <td></td>\n      <td>-10.06</td>\n    </tr>\n    <tr>\n      <th>1</th>\n      <td>2018-02-03</td>\n      <td>2018-02-03</td>\n      <td>Greenlight Card</td>\n      <td></td>\n      <td>Spotify</td>\n      <td></td>\n      <td>Childcare:Furnishings</td>\n      <td></td>\n      <td></td>\n      <td>-9.99</td>\n    </tr>\n    <tr>\n      <th>2</th>\n      <td>2018-02-11</td>\n      <td>2018-02-11</td>\n      <td>Greenlight Card</td>\n      <td></td>\n      <td>CVS</td>\n      <td></td>\n      <td>Childcare:Furnishings</td>\n      <td></td>\n      <td></td>\n      <td>-9.84</td>\n    </tr>\n    <tr>\n      <th>3</th>\n      <td>2018-02-12</td>\n      <td>2018-02-12</td>\n      <td>Greenlight Card</td>\n      <td></td>\n      <td>Greenlight</td>\n      <td></td>\n      <td>Childcare:Furnishings</td>\n      <td></td>\n      <td></td>\n      <td>-4.99</td>\n    </tr>\n    <tr>\n      <th>4</th>\n      <td>2018-02-15</td>\n      <td>2018-02-15</td>\n      <td>Greenlight Card</td>\n      <td></td>\n      <td>Alices Shop</td>\n      <td></td>\n      <td>Childcare:Furnishings</td>\n      <td></td>\n      <td></td>\n      <td>-12.02</td>\n    </tr>\n    <tr>\n      <th>5</th>\n      <td>2018-02-16</td>\n      <td>2018-02-16</td>\n      <td>Greenlight Card</td>\n      <td></td>\n      <td>Transfer Money</td>\n      <td></td>\n      <td>[inflow account]</td>\n      <td></td>\n      <td></td>\n      <td>50.00</td>\n    </tr>\n    <tr>\n      <th>6</th>\n      <td>2018-02-28</td>\n      <td>2018-02-28</td>\n      <td>Greenlight Card</td>\n      <td></td>\n      <td>Spotify</td>\n      <td></td>\n      <td>Childcare:Furnishings</td>\n      <td></td>\n      <td></td>\n      <td>-9.99</td>\n    </tr>\n    <tr>\n      <th>7</th>\n      <td>2018-02-28</td>\n      <td>2018-02-28</td>\n      <td>Greenlight Card</td>\n      <td></td>\n      <td>Amazon.com</td>\n      <td></td>\n      <td>Childcare:Furnishings</td>\n      <td></td>\n      <td></td>\n      <td>-12.95</td>\n    </tr>\n  </tbody>\n</table>\n</div>"
     },
     "metadata": {},
     "execution_count": 8
    }
   ],
   "source": [
    "starting_balance = 100.86\n",
    "\n",
    "df_csv = GreenlightUtility.get_csv_data_frame('./data/2018-02.csv')\n",
    "df_csv"
   ]
  },
  {
   "cell_type": "code",
   "execution_count": 9,
   "metadata": {},
   "outputs": [
    {
     "output_type": "execute_result",
     "data": {
      "text/plain": "     CsvIndex  Balance\n0  2018-02-01    90.80\n1  2018-02-03    80.81\n2  2018-02-11    70.97\n3  2018-02-12    65.98\n4  2018-02-15    53.96\n5  2018-02-16   103.96\n6  2018-02-28    93.97\n7  2018-02-28    81.02",
      "text/html": "<div>\n<style scoped>\n    .dataframe tbody tr th:only-of-type {\n        vertical-align: middle;\n    }\n\n    .dataframe tbody tr th {\n        vertical-align: top;\n    }\n\n    .dataframe thead th {\n        text-align: right;\n    }\n</style>\n<table border=\"1\" class=\"dataframe\">\n  <thead>\n    <tr style=\"text-align: right;\">\n      <th></th>\n      <th>CsvIndex</th>\n      <th>Balance</th>\n    </tr>\n  </thead>\n  <tbody>\n    <tr>\n      <th>0</th>\n      <td>2018-02-01</td>\n      <td>90.80</td>\n    </tr>\n    <tr>\n      <th>1</th>\n      <td>2018-02-03</td>\n      <td>80.81</td>\n    </tr>\n    <tr>\n      <th>2</th>\n      <td>2018-02-11</td>\n      <td>70.97</td>\n    </tr>\n    <tr>\n      <th>3</th>\n      <td>2018-02-12</td>\n      <td>65.98</td>\n    </tr>\n    <tr>\n      <th>4</th>\n      <td>2018-02-15</td>\n      <td>53.96</td>\n    </tr>\n    <tr>\n      <th>5</th>\n      <td>2018-02-16</td>\n      <td>103.96</td>\n    </tr>\n    <tr>\n      <th>6</th>\n      <td>2018-02-28</td>\n      <td>93.97</td>\n    </tr>\n    <tr>\n      <th>7</th>\n      <td>2018-02-28</td>\n      <td>81.02</td>\n    </tr>\n  </tbody>\n</table>\n</div>"
     },
     "metadata": {},
     "execution_count": 9
    }
   ],
   "source": [
    "df_balances = GreenlightUtility.get_balance_data_frame(df_csv, starting_balance)\n",
    "df_balances"
   ]
  },
  {
   "cell_type": "code",
   "execution_count": 10,
   "metadata": {},
   "outputs": [
    {
     "output_type": "execute_result",
     "data": {
      "text/plain": "            Balance\nCsvIndex           \n2018-02-01    90.80\n2018-02-03    80.81\n2018-02-11    70.97\n2018-02-12    65.98\n2018-02-15    53.96\n2018-02-16   103.96\n2018-02-28    81.02",
      "text/html": "<div>\n<style scoped>\n    .dataframe tbody tr th:only-of-type {\n        vertical-align: middle;\n    }\n\n    .dataframe tbody tr th {\n        vertical-align: top;\n    }\n\n    .dataframe thead th {\n        text-align: right;\n    }\n</style>\n<table border=\"1\" class=\"dataframe\">\n  <thead>\n    <tr style=\"text-align: right;\">\n      <th></th>\n      <th>Balance</th>\n    </tr>\n    <tr>\n      <th>CsvIndex</th>\n      <th></th>\n    </tr>\n  </thead>\n  <tbody>\n    <tr>\n      <th>2018-02-01</th>\n      <td>90.80</td>\n    </tr>\n    <tr>\n      <th>2018-02-03</th>\n      <td>80.81</td>\n    </tr>\n    <tr>\n      <th>2018-02-11</th>\n      <td>70.97</td>\n    </tr>\n    <tr>\n      <th>2018-02-12</th>\n      <td>65.98</td>\n    </tr>\n    <tr>\n      <th>2018-02-15</th>\n      <td>53.96</td>\n    </tr>\n    <tr>\n      <th>2018-02-16</th>\n      <td>103.96</td>\n    </tr>\n    <tr>\n      <th>2018-02-28</th>\n      <td>81.02</td>\n    </tr>\n  </tbody>\n</table>\n</div>"
     },
     "metadata": {},
     "execution_count": 10
    }
   ],
   "source": [
    "df_eod_balances = GreenlightUtility.get_balance_eod_data_frame(df_balances)\n",
    "df_eod_balances"
   ]
  },
  {
   "cell_type": "code",
   "execution_count": 11,
   "metadata": {},
   "outputs": [],
   "source": [
    "first_day_of_month = GreenlightUtility.get_first_day_of_month(2018, 2)\n",
    "\n",
    "df_daily_balance = GreenlightUtility.get_daily_balance_data_frame(\n",
    "    first_day_of_month,\n",
    "    starting_balance,\n",
    "    df_eod_balances)\n",
    "\n",
    "averages.append((first_day_of_month.strftime('%Y-%m'), df_daily_balance.mean().values[0]))"
   ]
  },
  {
   "cell_type": "code",
   "execution_count": 12,
   "metadata": {},
   "outputs": [
    {
     "output_type": "execute_result",
     "data": {
      "text/plain": "            Balance\nCsvIndex           \n2018-02-28    81.02",
      "text/html": "<div>\n<style scoped>\n    .dataframe tbody tr th:only-of-type {\n        vertical-align: middle;\n    }\n\n    .dataframe tbody tr th {\n        vertical-align: top;\n    }\n\n    .dataframe thead th {\n        text-align: right;\n    }\n</style>\n<table border=\"1\" class=\"dataframe\">\n  <thead>\n    <tr style=\"text-align: right;\">\n      <th></th>\n      <th>Balance</th>\n    </tr>\n    <tr>\n      <th>CsvIndex</th>\n      <th></th>\n    </tr>\n  </thead>\n  <tbody>\n    <tr>\n      <th>2018-02-28</th>\n      <td>81.02</td>\n    </tr>\n  </tbody>\n</table>\n</div>"
     },
     "metadata": {},
     "execution_count": 12
    }
   ],
   "source": [
    "df_eod_balances.tail(1)"
   ]
  },
  {
   "source": [
    "## 2018-3"
   ],
   "cell_type": "markdown",
   "metadata": {}
  },
  {
   "cell_type": "code",
   "execution_count": 13,
   "metadata": {},
   "outputs": [
    {
     "output_type": "execute_result",
     "data": {
      "text/plain": "      CsvIndex       Date                Account Num  \\\n0   2018-03-01 2018-03-01  Greenlight Card       \n1   2018-03-01 2018-03-01  Greenlight Card       \n2   2018-03-03 2018-03-03  Greenlight Card       \n3   2018-03-07 2018-03-07  Greenlight Card       \n4   2018-03-09 2018-03-09  Greenlight Card       \n5   2018-03-12 2018-03-12  Greenlight Card       \n6   2018-03-19 2018-03-19  Greenlight Card       \n7   2018-03-19 2018-03-19  Greenlight Card       \n8   2018-03-22 2018-03-22  Greenlight Card       \n9   2018-03-27 2018-03-27  Greenlight Card       \n10  2018-03-28 2018-03-28  Greenlight Card       \n11  2018-03-28 2018-03-28  Greenlight Card       \n12  2018-03-31 2018-03-31  Greenlight Card       \n\n                    Description Memo                             Category Tag  \\\n0          Dylan's Candy Bar-12                     Childcare:Furnishings       \n1                 The Salad Bar                     Childcare:Furnishings       \n2                Transfer Money       [inflow account]       \n3                      Govindas                     Childcare:Furnishings       \n4                           CVS                                                 \n5                    Greenlight                     Childcare:Furnishings       \n6                Star Mini Mart                     Childcare:Furnishings       \n7                      Govindas                     Childcare:Furnishings       \n8                Transfer Money       [inflow account]       \n9            Buffalo Wild Wings                     Childcare:Furnishings       \n10                     ArcLight                         Childcare:Leisure       \n11  Metro Downtown Santa Monica                     Childcare:Furnishings       \n12                      Spotify                         Childcare:Leisure       \n\n   Clr  Amount  \n0        -1.99  \n1        -5.75  \n2    c   50.00  \n3    c   -3.15  \n4    c   -8.65  \n5    c   -4.99  \n6    c   -2.10  \n7    c   -5.85  \n8    c   50.00  \n9    c   -7.65  \n10   c  -12.00  \n11   c   -3.50  \n12   c   -9.99  ",
      "text/html": "<div>\n<style scoped>\n    .dataframe tbody tr th:only-of-type {\n        vertical-align: middle;\n    }\n\n    .dataframe tbody tr th {\n        vertical-align: top;\n    }\n\n    .dataframe thead th {\n        text-align: right;\n    }\n</style>\n<table border=\"1\" class=\"dataframe\">\n  <thead>\n    <tr style=\"text-align: right;\">\n      <th></th>\n      <th>CsvIndex</th>\n      <th>Date</th>\n      <th>Account</th>\n      <th>Num</th>\n      <th>Description</th>\n      <th>Memo</th>\n      <th>Category</th>\n      <th>Tag</th>\n      <th>Clr</th>\n      <th>Amount</th>\n    </tr>\n  </thead>\n  <tbody>\n    <tr>\n      <th>0</th>\n      <td>2018-03-01</td>\n      <td>2018-03-01</td>\n      <td>Greenlight Card</td>\n      <td></td>\n      <td>Dylan's Candy Bar-12</td>\n      <td></td>\n      <td>Childcare:Furnishings</td>\n      <td></td>\n      <td></td>\n      <td>-1.99</td>\n    </tr>\n    <tr>\n      <th>1</th>\n      <td>2018-03-01</td>\n      <td>2018-03-01</td>\n      <td>Greenlight Card</td>\n      <td></td>\n      <td>The Salad Bar</td>\n      <td></td>\n      <td>Childcare:Furnishings</td>\n      <td></td>\n      <td></td>\n      <td>-5.75</td>\n    </tr>\n    <tr>\n      <th>2</th>\n      <td>2018-03-03</td>\n      <td>2018-03-03</td>\n      <td>Greenlight Card</td>\n      <td></td>\n      <td>Transfer Money</td>\n      <td></td>\n      <td>[inflow account]</td>\n      <td></td>\n      <td>c</td>\n      <td>50.00</td>\n    </tr>\n    <tr>\n      <th>3</th>\n      <td>2018-03-07</td>\n      <td>2018-03-07</td>\n      <td>Greenlight Card</td>\n      <td></td>\n      <td>Govindas</td>\n      <td></td>\n      <td>Childcare:Furnishings</td>\n      <td></td>\n      <td>c</td>\n      <td>-3.15</td>\n    </tr>\n    <tr>\n      <th>4</th>\n      <td>2018-03-09</td>\n      <td>2018-03-09</td>\n      <td>Greenlight Card</td>\n      <td></td>\n      <td>CVS</td>\n      <td></td>\n      <td></td>\n      <td></td>\n      <td>c</td>\n      <td>-8.65</td>\n    </tr>\n    <tr>\n      <th>5</th>\n      <td>2018-03-12</td>\n      <td>2018-03-12</td>\n      <td>Greenlight Card</td>\n      <td></td>\n      <td>Greenlight</td>\n      <td></td>\n      <td>Childcare:Furnishings</td>\n      <td></td>\n      <td>c</td>\n      <td>-4.99</td>\n    </tr>\n    <tr>\n      <th>6</th>\n      <td>2018-03-19</td>\n      <td>2018-03-19</td>\n      <td>Greenlight Card</td>\n      <td></td>\n      <td>Star Mini Mart</td>\n      <td></td>\n      <td>Childcare:Furnishings</td>\n      <td></td>\n      <td>c</td>\n      <td>-2.10</td>\n    </tr>\n    <tr>\n      <th>7</th>\n      <td>2018-03-19</td>\n      <td>2018-03-19</td>\n      <td>Greenlight Card</td>\n      <td></td>\n      <td>Govindas</td>\n      <td></td>\n      <td>Childcare:Furnishings</td>\n      <td></td>\n      <td>c</td>\n      <td>-5.85</td>\n    </tr>\n    <tr>\n      <th>8</th>\n      <td>2018-03-22</td>\n      <td>2018-03-22</td>\n      <td>Greenlight Card</td>\n      <td></td>\n      <td>Transfer Money</td>\n      <td></td>\n      <td>[inflow account]</td>\n      <td></td>\n      <td>c</td>\n      <td>50.00</td>\n    </tr>\n    <tr>\n      <th>9</th>\n      <td>2018-03-27</td>\n      <td>2018-03-27</td>\n      <td>Greenlight Card</td>\n      <td></td>\n      <td>Buffalo Wild Wings</td>\n      <td></td>\n      <td>Childcare:Furnishings</td>\n      <td></td>\n      <td>c</td>\n      <td>-7.65</td>\n    </tr>\n    <tr>\n      <th>10</th>\n      <td>2018-03-28</td>\n      <td>2018-03-28</td>\n      <td>Greenlight Card</td>\n      <td></td>\n      <td>ArcLight</td>\n      <td></td>\n      <td>Childcare:Leisure</td>\n      <td></td>\n      <td>c</td>\n      <td>-12.00</td>\n    </tr>\n    <tr>\n      <th>11</th>\n      <td>2018-03-28</td>\n      <td>2018-03-28</td>\n      <td>Greenlight Card</td>\n      <td></td>\n      <td>Metro Downtown Santa Monica</td>\n      <td></td>\n      <td>Childcare:Furnishings</td>\n      <td></td>\n      <td>c</td>\n      <td>-3.50</td>\n    </tr>\n    <tr>\n      <th>12</th>\n      <td>2018-03-31</td>\n      <td>2018-03-31</td>\n      <td>Greenlight Card</td>\n      <td></td>\n      <td>Spotify</td>\n      <td></td>\n      <td>Childcare:Leisure</td>\n      <td></td>\n      <td>c</td>\n      <td>-9.99</td>\n    </tr>\n  </tbody>\n</table>\n</div>"
     },
     "metadata": {},
     "execution_count": 13
    }
   ],
   "source": [
    "starting_balance = 81.02\n",
    "\n",
    "df_csv = GreenlightUtility.get_csv_data_frame('./data/2018-03.csv')\n",
    "df_csv"
   ]
  },
  {
   "cell_type": "code",
   "execution_count": 14,
   "metadata": {},
   "outputs": [
    {
     "output_type": "execute_result",
     "data": {
      "text/plain": "      CsvIndex  Balance\n0   2018-03-01    79.03\n1   2018-03-01    73.28\n2   2018-03-03   123.28\n3   2018-03-07   120.13\n4   2018-03-09   111.48\n5   2018-03-12   106.49\n6   2018-03-19   104.39\n7   2018-03-19    98.54\n8   2018-03-22   148.54\n9   2018-03-27   140.89\n10  2018-03-28   128.89\n11  2018-03-28   125.39\n12  2018-03-31   115.40",
      "text/html": "<div>\n<style scoped>\n    .dataframe tbody tr th:only-of-type {\n        vertical-align: middle;\n    }\n\n    .dataframe tbody tr th {\n        vertical-align: top;\n    }\n\n    .dataframe thead th {\n        text-align: right;\n    }\n</style>\n<table border=\"1\" class=\"dataframe\">\n  <thead>\n    <tr style=\"text-align: right;\">\n      <th></th>\n      <th>CsvIndex</th>\n      <th>Balance</th>\n    </tr>\n  </thead>\n  <tbody>\n    <tr>\n      <th>0</th>\n      <td>2018-03-01</td>\n      <td>79.03</td>\n    </tr>\n    <tr>\n      <th>1</th>\n      <td>2018-03-01</td>\n      <td>73.28</td>\n    </tr>\n    <tr>\n      <th>2</th>\n      <td>2018-03-03</td>\n      <td>123.28</td>\n    </tr>\n    <tr>\n      <th>3</th>\n      <td>2018-03-07</td>\n      <td>120.13</td>\n    </tr>\n    <tr>\n      <th>4</th>\n      <td>2018-03-09</td>\n      <td>111.48</td>\n    </tr>\n    <tr>\n      <th>5</th>\n      <td>2018-03-12</td>\n      <td>106.49</td>\n    </tr>\n    <tr>\n      <th>6</th>\n      <td>2018-03-19</td>\n      <td>104.39</td>\n    </tr>\n    <tr>\n      <th>7</th>\n      <td>2018-03-19</td>\n      <td>98.54</td>\n    </tr>\n    <tr>\n      <th>8</th>\n      <td>2018-03-22</td>\n      <td>148.54</td>\n    </tr>\n    <tr>\n      <th>9</th>\n      <td>2018-03-27</td>\n      <td>140.89</td>\n    </tr>\n    <tr>\n      <th>10</th>\n      <td>2018-03-28</td>\n      <td>128.89</td>\n    </tr>\n    <tr>\n      <th>11</th>\n      <td>2018-03-28</td>\n      <td>125.39</td>\n    </tr>\n    <tr>\n      <th>12</th>\n      <td>2018-03-31</td>\n      <td>115.40</td>\n    </tr>\n  </tbody>\n</table>\n</div>"
     },
     "metadata": {},
     "execution_count": 14
    }
   ],
   "source": [
    "df_balances = GreenlightUtility.get_balance_data_frame(df_csv, starting_balance)\n",
    "df_balances"
   ]
  },
  {
   "cell_type": "code",
   "execution_count": 15,
   "metadata": {},
   "outputs": [
    {
     "output_type": "execute_result",
     "data": {
      "text/plain": "            Balance\nCsvIndex           \n2018-03-01    73.28\n2018-03-03   123.28\n2018-03-07   120.13\n2018-03-09   111.48\n2018-03-12   106.49\n2018-03-19    98.54\n2018-03-22   148.54\n2018-03-27   140.89\n2018-03-28   125.39\n2018-03-31   115.40",
      "text/html": "<div>\n<style scoped>\n    .dataframe tbody tr th:only-of-type {\n        vertical-align: middle;\n    }\n\n    .dataframe tbody tr th {\n        vertical-align: top;\n    }\n\n    .dataframe thead th {\n        text-align: right;\n    }\n</style>\n<table border=\"1\" class=\"dataframe\">\n  <thead>\n    <tr style=\"text-align: right;\">\n      <th></th>\n      <th>Balance</th>\n    </tr>\n    <tr>\n      <th>CsvIndex</th>\n      <th></th>\n    </tr>\n  </thead>\n  <tbody>\n    <tr>\n      <th>2018-03-01</th>\n      <td>73.28</td>\n    </tr>\n    <tr>\n      <th>2018-03-03</th>\n      <td>123.28</td>\n    </tr>\n    <tr>\n      <th>2018-03-07</th>\n      <td>120.13</td>\n    </tr>\n    <tr>\n      <th>2018-03-09</th>\n      <td>111.48</td>\n    </tr>\n    <tr>\n      <th>2018-03-12</th>\n      <td>106.49</td>\n    </tr>\n    <tr>\n      <th>2018-03-19</th>\n      <td>98.54</td>\n    </tr>\n    <tr>\n      <th>2018-03-22</th>\n      <td>148.54</td>\n    </tr>\n    <tr>\n      <th>2018-03-27</th>\n      <td>140.89</td>\n    </tr>\n    <tr>\n      <th>2018-03-28</th>\n      <td>125.39</td>\n    </tr>\n    <tr>\n      <th>2018-03-31</th>\n      <td>115.40</td>\n    </tr>\n  </tbody>\n</table>\n</div>"
     },
     "metadata": {},
     "execution_count": 15
    }
   ],
   "source": [
    "df_eod_balances = GreenlightUtility.get_balance_eod_data_frame(df_balances)\n",
    "df_eod_balances"
   ]
  },
  {
   "cell_type": "code",
   "execution_count": 16,
   "metadata": {},
   "outputs": [],
   "source": [
    "first_day_of_month = GreenlightUtility.get_first_day_of_month(2018, 3)\n",
    "\n",
    "df_daily_balance = GreenlightUtility.get_daily_balance_data_frame(\n",
    "    first_day_of_month,\n",
    "    starting_balance,\n",
    "    df_eod_balances)\n",
    "\n",
    "averages.append((first_day_of_month.strftime('%Y-%m'), df_daily_balance.mean().values[0]))"
   ]
  },
  {
   "cell_type": "code",
   "execution_count": 17,
   "metadata": {},
   "outputs": [
    {
     "output_type": "execute_result",
     "data": {
      "text/plain": "            Balance\nCsvIndex           \n2018-03-31    115.4",
      "text/html": "<div>\n<style scoped>\n    .dataframe tbody tr th:only-of-type {\n        vertical-align: middle;\n    }\n\n    .dataframe tbody tr th {\n        vertical-align: top;\n    }\n\n    .dataframe thead th {\n        text-align: right;\n    }\n</style>\n<table border=\"1\" class=\"dataframe\">\n  <thead>\n    <tr style=\"text-align: right;\">\n      <th></th>\n      <th>Balance</th>\n    </tr>\n    <tr>\n      <th>CsvIndex</th>\n      <th></th>\n    </tr>\n  </thead>\n  <tbody>\n    <tr>\n      <th>2018-03-31</th>\n      <td>115.4</td>\n    </tr>\n  </tbody>\n</table>\n</div>"
     },
     "metadata": {},
     "execution_count": 17
    }
   ],
   "source": [
    "df_eod_balances.tail(1)"
   ]
  },
  {
   "source": [
    "## 2018-4"
   ],
   "cell_type": "markdown",
   "metadata": {}
  },
  {
   "cell_type": "code",
   "execution_count": 18,
   "metadata": {},
   "outputs": [
    {
     "output_type": "execute_result",
     "data": {
      "text/plain": "     CsvIndex       Date                Account Num      Description Memo  \\\n0  2018-04-03 2018-04-03  Greenlight Card                 Etsy        \n1  2018-04-03 2018-04-03  Greenlight Card           Amazon.com        \n2  2018-04-08 2018-04-08  Greenlight Card       Transfer Money        \n3  2018-04-08 2018-04-08  Greenlight Card           Amazon.com        \n4  2018-04-12 2018-04-12  Greenlight Card           Greenlight        \n5  2018-04-21 2018-04-21  Greenlight Card       Transfer Money        \n6  2018-04-26 2018-04-26  Greenlight Card              Sprouts        \n7  2018-04-27 2018-04-27  Greenlight Card      The Vegan Joint        \n8  2018-04-30 2018-04-30  Greenlight Card              Spotify        \n\n                              Category Tag Clr  Amount  \n0                Childcare:Furnishings       c  -13.66  \n1                Childcare:Furnishings       c  -10.00  \n2  [inflow account]       c   50.00  \n3                Childcare:Furnishings       c   -7.99  \n4                Childcare:Furnishings       c   -4.99  \n5  [inflow account]       c   50.00  \n6                Childcare:Furnishings       c   -5.49  \n7                Childcare:Furnishings       c   -4.33  \n8                    Childcare:Leisure       c   -9.99  ",
      "text/html": "<div>\n<style scoped>\n    .dataframe tbody tr th:only-of-type {\n        vertical-align: middle;\n    }\n\n    .dataframe tbody tr th {\n        vertical-align: top;\n    }\n\n    .dataframe thead th {\n        text-align: right;\n    }\n</style>\n<table border=\"1\" class=\"dataframe\">\n  <thead>\n    <tr style=\"text-align: right;\">\n      <th></th>\n      <th>CsvIndex</th>\n      <th>Date</th>\n      <th>Account</th>\n      <th>Num</th>\n      <th>Description</th>\n      <th>Memo</th>\n      <th>Category</th>\n      <th>Tag</th>\n      <th>Clr</th>\n      <th>Amount</th>\n    </tr>\n  </thead>\n  <tbody>\n    <tr>\n      <th>0</th>\n      <td>2018-04-03</td>\n      <td>2018-04-03</td>\n      <td>Greenlight Card</td>\n      <td></td>\n      <td>Etsy</td>\n      <td></td>\n      <td>Childcare:Furnishings</td>\n      <td></td>\n      <td>c</td>\n      <td>-13.66</td>\n    </tr>\n    <tr>\n      <th>1</th>\n      <td>2018-04-03</td>\n      <td>2018-04-03</td>\n      <td>Greenlight Card</td>\n      <td></td>\n      <td>Amazon.com</td>\n      <td></td>\n      <td>Childcare:Furnishings</td>\n      <td></td>\n      <td>c</td>\n      <td>-10.00</td>\n    </tr>\n    <tr>\n      <th>2</th>\n      <td>2018-04-08</td>\n      <td>2018-04-08</td>\n      <td>Greenlight Card</td>\n      <td></td>\n      <td>Transfer Money</td>\n      <td></td>\n      <td>[inflow account]</td>\n      <td></td>\n      <td>c</td>\n      <td>50.00</td>\n    </tr>\n    <tr>\n      <th>3</th>\n      <td>2018-04-08</td>\n      <td>2018-04-08</td>\n      <td>Greenlight Card</td>\n      <td></td>\n      <td>Amazon.com</td>\n      <td></td>\n      <td>Childcare:Furnishings</td>\n      <td></td>\n      <td>c</td>\n      <td>-7.99</td>\n    </tr>\n    <tr>\n      <th>4</th>\n      <td>2018-04-12</td>\n      <td>2018-04-12</td>\n      <td>Greenlight Card</td>\n      <td></td>\n      <td>Greenlight</td>\n      <td></td>\n      <td>Childcare:Furnishings</td>\n      <td></td>\n      <td>c</td>\n      <td>-4.99</td>\n    </tr>\n    <tr>\n      <th>5</th>\n      <td>2018-04-21</td>\n      <td>2018-04-21</td>\n      <td>Greenlight Card</td>\n      <td></td>\n      <td>Transfer Money</td>\n      <td></td>\n      <td>[inflow account]</td>\n      <td></td>\n      <td>c</td>\n      <td>50.00</td>\n    </tr>\n    <tr>\n      <th>6</th>\n      <td>2018-04-26</td>\n      <td>2018-04-26</td>\n      <td>Greenlight Card</td>\n      <td></td>\n      <td>Sprouts</td>\n      <td></td>\n      <td>Childcare:Furnishings</td>\n      <td></td>\n      <td>c</td>\n      <td>-5.49</td>\n    </tr>\n    <tr>\n      <th>7</th>\n      <td>2018-04-27</td>\n      <td>2018-04-27</td>\n      <td>Greenlight Card</td>\n      <td></td>\n      <td>The Vegan Joint</td>\n      <td></td>\n      <td>Childcare:Furnishings</td>\n      <td></td>\n      <td>c</td>\n      <td>-4.33</td>\n    </tr>\n    <tr>\n      <th>8</th>\n      <td>2018-04-30</td>\n      <td>2018-04-30</td>\n      <td>Greenlight Card</td>\n      <td></td>\n      <td>Spotify</td>\n      <td></td>\n      <td>Childcare:Leisure</td>\n      <td></td>\n      <td>c</td>\n      <td>-9.99</td>\n    </tr>\n  </tbody>\n</table>\n</div>"
     },
     "metadata": {},
     "execution_count": 18
    }
   ],
   "source": [
    "starting_balance = 115.40\n",
    "\n",
    "df_csv = GreenlightUtility.get_csv_data_frame('./data/2018-04.csv')\n",
    "df_csv"
   ]
  },
  {
   "cell_type": "code",
   "execution_count": 19,
   "metadata": {},
   "outputs": [
    {
     "output_type": "execute_result",
     "data": {
      "text/plain": "     CsvIndex  Balance\n0  2018-04-03   101.74\n1  2018-04-03    91.74\n2  2018-04-08   141.74\n3  2018-04-08   133.75\n4  2018-04-12   128.76\n5  2018-04-21   178.76\n6  2018-04-26   173.27\n7  2018-04-27   168.94\n8  2018-04-30   158.95",
      "text/html": "<div>\n<style scoped>\n    .dataframe tbody tr th:only-of-type {\n        vertical-align: middle;\n    }\n\n    .dataframe tbody tr th {\n        vertical-align: top;\n    }\n\n    .dataframe thead th {\n        text-align: right;\n    }\n</style>\n<table border=\"1\" class=\"dataframe\">\n  <thead>\n    <tr style=\"text-align: right;\">\n      <th></th>\n      <th>CsvIndex</th>\n      <th>Balance</th>\n    </tr>\n  </thead>\n  <tbody>\n    <tr>\n      <th>0</th>\n      <td>2018-04-03</td>\n      <td>101.74</td>\n    </tr>\n    <tr>\n      <th>1</th>\n      <td>2018-04-03</td>\n      <td>91.74</td>\n    </tr>\n    <tr>\n      <th>2</th>\n      <td>2018-04-08</td>\n      <td>141.74</td>\n    </tr>\n    <tr>\n      <th>3</th>\n      <td>2018-04-08</td>\n      <td>133.75</td>\n    </tr>\n    <tr>\n      <th>4</th>\n      <td>2018-04-12</td>\n      <td>128.76</td>\n    </tr>\n    <tr>\n      <th>5</th>\n      <td>2018-04-21</td>\n      <td>178.76</td>\n    </tr>\n    <tr>\n      <th>6</th>\n      <td>2018-04-26</td>\n      <td>173.27</td>\n    </tr>\n    <tr>\n      <th>7</th>\n      <td>2018-04-27</td>\n      <td>168.94</td>\n    </tr>\n    <tr>\n      <th>8</th>\n      <td>2018-04-30</td>\n      <td>158.95</td>\n    </tr>\n  </tbody>\n</table>\n</div>"
     },
     "metadata": {},
     "execution_count": 19
    }
   ],
   "source": [
    "df_balances = GreenlightUtility.get_balance_data_frame(df_csv, starting_balance)\n",
    "df_balances"
   ]
  },
  {
   "cell_type": "code",
   "execution_count": 20,
   "metadata": {},
   "outputs": [
    {
     "output_type": "execute_result",
     "data": {
      "text/plain": "            Balance\nCsvIndex           \n2018-04-03    91.74\n2018-04-08   133.75\n2018-04-12   128.76\n2018-04-21   178.76\n2018-04-26   173.27\n2018-04-27   168.94\n2018-04-30   158.95",
      "text/html": "<div>\n<style scoped>\n    .dataframe tbody tr th:only-of-type {\n        vertical-align: middle;\n    }\n\n    .dataframe tbody tr th {\n        vertical-align: top;\n    }\n\n    .dataframe thead th {\n        text-align: right;\n    }\n</style>\n<table border=\"1\" class=\"dataframe\">\n  <thead>\n    <tr style=\"text-align: right;\">\n      <th></th>\n      <th>Balance</th>\n    </tr>\n    <tr>\n      <th>CsvIndex</th>\n      <th></th>\n    </tr>\n  </thead>\n  <tbody>\n    <tr>\n      <th>2018-04-03</th>\n      <td>91.74</td>\n    </tr>\n    <tr>\n      <th>2018-04-08</th>\n      <td>133.75</td>\n    </tr>\n    <tr>\n      <th>2018-04-12</th>\n      <td>128.76</td>\n    </tr>\n    <tr>\n      <th>2018-04-21</th>\n      <td>178.76</td>\n    </tr>\n    <tr>\n      <th>2018-04-26</th>\n      <td>173.27</td>\n    </tr>\n    <tr>\n      <th>2018-04-27</th>\n      <td>168.94</td>\n    </tr>\n    <tr>\n      <th>2018-04-30</th>\n      <td>158.95</td>\n    </tr>\n  </tbody>\n</table>\n</div>"
     },
     "metadata": {},
     "execution_count": 20
    }
   ],
   "source": [
    "df_eod_balances = GreenlightUtility.get_balance_eod_data_frame(df_balances)\n",
    "df_eod_balances"
   ]
  },
  {
   "cell_type": "code",
   "execution_count": 21,
   "metadata": {},
   "outputs": [],
   "source": [
    "first_day_of_month = GreenlightUtility.get_first_day_of_month(2018, 4)\n",
    "\n",
    "df_daily_balance = GreenlightUtility.get_daily_balance_data_frame(\n",
    "    first_day_of_month,\n",
    "    starting_balance,\n",
    "    df_eod_balances)\n",
    "\n",
    "averages.append((first_day_of_month.strftime('%Y-%m'), df_daily_balance.mean().values[0]))"
   ]
  },
  {
   "cell_type": "code",
   "execution_count": 22,
   "metadata": {},
   "outputs": [
    {
     "output_type": "execute_result",
     "data": {
      "text/plain": "            Balance\nCsvIndex           \n2018-04-30   158.95",
      "text/html": "<div>\n<style scoped>\n    .dataframe tbody tr th:only-of-type {\n        vertical-align: middle;\n    }\n\n    .dataframe tbody tr th {\n        vertical-align: top;\n    }\n\n    .dataframe thead th {\n        text-align: right;\n    }\n</style>\n<table border=\"1\" class=\"dataframe\">\n  <thead>\n    <tr style=\"text-align: right;\">\n      <th></th>\n      <th>Balance</th>\n    </tr>\n    <tr>\n      <th>CsvIndex</th>\n      <th></th>\n    </tr>\n  </thead>\n  <tbody>\n    <tr>\n      <th>2018-04-30</th>\n      <td>158.95</td>\n    </tr>\n  </tbody>\n</table>\n</div>"
     },
     "metadata": {},
     "execution_count": 22
    }
   ],
   "source": [
    "df_eod_balances.tail(1)"
   ]
  },
  {
   "source": [
    "## Calculation of Contribution"
   ],
   "cell_type": "markdown",
   "metadata": {}
  },
  {
   "cell_type": "code",
   "execution_count": 23,
   "metadata": {},
   "outputs": [
    {
     "output_type": "execute_result",
     "data": {
      "text/plain": "     Dates     Balance\n0  2018-02   88.553214\n1  2018-03  117.115806\n2  2018-04  137.206000",
      "text/html": "<div>\n<style scoped>\n    .dataframe tbody tr th:only-of-type {\n        vertical-align: middle;\n    }\n\n    .dataframe tbody tr th {\n        vertical-align: top;\n    }\n\n    .dataframe thead th {\n        text-align: right;\n    }\n</style>\n<table border=\"1\" class=\"dataframe\">\n  <thead>\n    <tr style=\"text-align: right;\">\n      <th></th>\n      <th>Dates</th>\n      <th>Balance</th>\n    </tr>\n  </thead>\n  <tbody>\n    <tr>\n      <th>0</th>\n      <td>2018-02</td>\n      <td>88.553214</td>\n    </tr>\n    <tr>\n      <th>1</th>\n      <td>2018-03</td>\n      <td>117.115806</td>\n    </tr>\n    <tr>\n      <th>2</th>\n      <td>2018-04</td>\n      <td>137.206000</td>\n    </tr>\n  </tbody>\n</table>\n</div>"
     },
     "metadata": {},
     "execution_count": 23
    }
   ],
   "source": [
    "df_final = GreenlightUtility.get_final_data_frame(averages)\n",
    "df_final"
   ]
  },
  {
   "cell_type": "code",
   "execution_count": 24,
   "metadata": {},
   "outputs": [
    {
     "output_type": "execute_result",
     "data": {
      "text/plain": "34.28750207373272"
     },
     "metadata": {},
     "execution_count": 24
    }
   ],
   "source": [
    "df_final['Balance'].sum() * .1"
   ]
  }
 ]
}