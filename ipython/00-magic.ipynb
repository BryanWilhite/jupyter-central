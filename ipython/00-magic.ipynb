{
 "cells": [
  {
   "cell_type": "markdown",
   "source": [
    "# IPython is _Interactive_ Python\n",
    "\n",
    "When one approaches `IPython` [📖 [docs](https://ipython.readthedocs.io)] from [Jupyter](https://jupyter.org/) notebooks it is easy to assume that it was developed for the notebook experience. In fact, `IPython` is an interactive shell with a Jupyter kernel.\n",
    "\n",
    "In the local scope of this notebook, we should see the `get_ipython()` method:"
   ],
   "metadata": {}
  },
  {
   "cell_type": "code",
   "execution_count": 1,
   "source": [
    "[i for i in dir() if i.startswith('g') ]"
   ],
   "outputs": [
    {
     "output_type": "execute_result",
     "data": {
      "text/plain": [
       "['get_ipython']"
      ]
     },
     "metadata": {},
     "execution_count": 1
    }
   ],
   "metadata": {}
  },
  {
   "cell_type": "code",
   "execution_count": 2,
   "source": [
    "help(get_ipython)"
   ],
   "outputs": [
    {
     "output_type": "stream",
     "name": "stdout",
     "text": [
      "Help on method get_ipython in module IPython.core.interactiveshell:\n",
      "\n",
      "get_ipython() method of ipykernel.zmqshell.ZMQInteractiveShell instance\n",
      "    Return the currently running IPython instance.\n",
      "\n"
     ]
    }
   ],
   "metadata": {
    "tags": []
   }
  },
  {
   "cell_type": "markdown",
   "source": [
    "## attributes of `get_ipython()`\n",
    "\n",
    "This method should return the `IPython` interactive shell. We can verify this:\n"
   ],
   "metadata": {}
  },
  {
   "cell_type": "code",
   "execution_count": 3,
   "source": [
    "shell = get_ipython()\n",
    "[i for i in dir(shell) if not(i.startswith('_'))]"
   ],
   "outputs": [
    {
     "output_type": "execute_result",
     "data": {
      "text/plain": [
       "['Completer',\n",
       " 'CustomTB',\n",
       " 'InteractiveTB',\n",
       " 'SyntaxTB',\n",
       " 'active_eventloop',\n",
       " 'add_traits',\n",
       " 'alias_manager',\n",
       " 'all_ns_refs',\n",
       " 'ask_exit',\n",
       " 'ask_yes_no',\n",
       " 'ast_node_interactivity',\n",
       " 'ast_transformers',\n",
       " 'atexit_operations',\n",
       " 'auto_rewrite_input',\n",
       " 'autoawait',\n",
       " 'autocall',\n",
       " 'autoindent',\n",
       " 'automagic',\n",
       " 'banner',\n",
       " 'banner1',\n",
       " 'banner2',\n",
       " 'builtin_trap',\n",
       " 'cache_size',\n",
       " 'call_pdb',\n",
       " 'check_complete',\n",
       " 'class_config_rst_doc',\n",
       " 'class_config_section',\n",
       " 'class_get_help',\n",
       " 'class_get_trait_help',\n",
       " 'class_own_trait_events',\n",
       " 'class_own_traits',\n",
       " 'class_print_help',\n",
       " 'class_trait_names',\n",
       " 'class_traits',\n",
       " 'cleanup',\n",
       " 'clear_instance',\n",
       " 'clear_main_mod_cache',\n",
       " 'color_info',\n",
       " 'colors',\n",
       " 'compile',\n",
       " 'compiler_class',\n",
       " 'complete',\n",
       " 'config',\n",
       " 'configurables',\n",
       " 'cross_validation_lock',\n",
       " 'custom_exceptions',\n",
       " 'data_pub',\n",
       " 'data_pub_class',\n",
       " 'db',\n",
       " 'debug',\n",
       " 'debugger',\n",
       " 'debugger_cls',\n",
       " 'default_user_namespaces',\n",
       " 'define_macro',\n",
       " 'del_var',\n",
       " 'dir_stack',\n",
       " 'disable_failing_post_execute',\n",
       " 'display_formatter',\n",
       " 'display_page',\n",
       " 'display_pub',\n",
       " 'display_pub_class',\n",
       " 'display_trap',\n",
       " 'displayhook',\n",
       " 'displayhook_class',\n",
       " 'drop_by_id',\n",
       " 'enable_gui',\n",
       " 'enable_html_pager',\n",
       " 'enable_matplotlib',\n",
       " 'enable_pylab',\n",
       " 'ev',\n",
       " 'events',\n",
       " 'ex',\n",
       " 'excepthook',\n",
       " 'execution_count',\n",
       " 'exit_now',\n",
       " 'exiter',\n",
       " 'extension_manager',\n",
       " 'extract_input_lines',\n",
       " 'filename',\n",
       " 'find_cell_magic',\n",
       " 'find_line_magic',\n",
       " 'find_magic',\n",
       " 'find_user_code',\n",
       " 'get_exception_only',\n",
       " 'get_ipython',\n",
       " 'get_local_scope',\n",
       " 'get_parent',\n",
       " 'getoutput',\n",
       " 'has_trait',\n",
       " 'history_length',\n",
       " 'history_load_length',\n",
       " 'history_manager',\n",
       " 'hold_trait_notifications',\n",
       " 'home_dir',\n",
       " 'hooks',\n",
       " 'indent_current_nsp',\n",
       " 'init_alias',\n",
       " 'init_builtins',\n",
       " 'init_completer',\n",
       " 'init_create_namespaces',\n",
       " 'init_data_pub',\n",
       " 'init_deprecation_warnings',\n",
       " 'init_display_formatter',\n",
       " 'init_display_pub',\n",
       " 'init_displayhook',\n",
       " 'init_encoding',\n",
       " 'init_environment',\n",
       " 'init_events',\n",
       " 'init_extension_manager',\n",
       " 'init_history',\n",
       " 'init_hooks',\n",
       " 'init_inspector',\n",
       " 'init_instance_attrs',\n",
       " 'init_io',\n",
       " 'init_ipython_dir',\n",
       " 'init_logger',\n",
       " 'init_logstart',\n",
       " 'init_magics',\n",
       " 'init_payload',\n",
       " 'init_pdb',\n",
       " 'init_prefilter',\n",
       " 'init_profile_dir',\n",
       " 'init_prompts',\n",
       " 'init_pushd_popd_magic',\n",
       " 'init_readline',\n",
       " 'init_syntax_highlighting',\n",
       " 'init_sys_modules',\n",
       " 'init_traceback_handlers',\n",
       " 'init_user_ns',\n",
       " 'init_virtualenv',\n",
       " 'initialized',\n",
       " 'input_splitter',\n",
       " 'input_transformer_manager',\n",
       " 'input_transformers_cleanup',\n",
       " 'input_transformers_post',\n",
       " 'inspector',\n",
       " 'instance',\n",
       " 'ipython_dir',\n",
       " 'keepkernel_on_exit',\n",
       " 'kernel',\n",
       " 'last_execution_result',\n",
       " 'last_execution_succeeded',\n",
       " 'log',\n",
       " 'logappend',\n",
       " 'logfile',\n",
       " 'logger',\n",
       " 'logstart',\n",
       " 'loop_runner',\n",
       " 'loop_runner_map',\n",
       " 'magic',\n",
       " 'magics_manager',\n",
       " 'meta',\n",
       " 'mktempfile',\n",
       " 'more',\n",
       " 'new_main_mod',\n",
       " 'notify_change',\n",
       " 'ns_table',\n",
       " 'object_info_string_level',\n",
       " 'object_inspect',\n",
       " 'object_inspect_mime',\n",
       " 'object_inspect_text',\n",
       " 'observe',\n",
       " 'on_trait_change',\n",
       " 'parent',\n",
       " 'parent_header',\n",
       " 'payload_manager',\n",
       " 'pdb',\n",
       " 'prefilter',\n",
       " 'prefilter_manager',\n",
       " 'prepare_user_module',\n",
       " 'profile',\n",
       " 'profile_dir',\n",
       " 'prompt_in1',\n",
       " 'prompt_in2',\n",
       " 'prompt_out',\n",
       " 'prompts_pad_left',\n",
       " 'push',\n",
       " 'pycolorize',\n",
       " 'pylab_gui_select',\n",
       " 'quiet',\n",
       " 'raw_input_original',\n",
       " 'readline_use',\n",
       " 'refresh_style',\n",
       " 'register_magic_function',\n",
       " 'register_magics',\n",
       " 'register_post_execute',\n",
       " 'reset',\n",
       " 'reset_selective',\n",
       " 'restore_sys_module_state',\n",
       " 'run_ast_nodes',\n",
       " 'run_cell',\n",
       " 'run_cell_async',\n",
       " 'run_cell_magic',\n",
       " 'run_code',\n",
       " 'run_line_magic',\n",
       " 'runcode',\n",
       " 'safe_execfile',\n",
       " 'safe_execfile_ipy',\n",
       " 'safe_run_module',\n",
       " 'save_sys_module_state',\n",
       " 'section_names',\n",
       " 'separate_in',\n",
       " 'separate_out',\n",
       " 'separate_out2',\n",
       " 'set_autoindent',\n",
       " 'set_completer_frame',\n",
       " 'set_custom_completer',\n",
       " 'set_custom_exc',\n",
       " 'set_hook',\n",
       " 'set_next_input',\n",
       " 'set_parent',\n",
       " 'set_trait',\n",
       " 'set_trio_runner',\n",
       " 'setup_instance',\n",
       " 'should_run_async',\n",
       " 'show_banner',\n",
       " 'show_rewritten_input',\n",
       " 'show_usage',\n",
       " 'show_usage_error',\n",
       " 'showindentationerror',\n",
       " 'showsyntaxerror',\n",
       " 'showtraceback',\n",
       " 'sphinxify_docstring',\n",
       " 'starting_dir',\n",
       " 'stdin_encoding',\n",
       " 'strdispatchers',\n",
       " 'switch_doctest_mode',\n",
       " 'sys_excepthook',\n",
       " 'system',\n",
       " 'system_piped',\n",
       " 'system_raw',\n",
       " 'tempdirs',\n",
       " 'tempfiles',\n",
       " 'trait_defaults',\n",
       " 'trait_events',\n",
       " 'trait_has_value',\n",
       " 'trait_metadata',\n",
       " 'trait_names',\n",
       " 'trait_values',\n",
       " 'traits',\n",
       " 'transform_ast',\n",
       " 'transform_cell',\n",
       " 'trio_runner',\n",
       " 'unobserve',\n",
       " 'unobserve_all',\n",
       " 'update_config',\n",
       " 'user_expressions',\n",
       " 'user_global_ns',\n",
       " 'user_module',\n",
       " 'user_ns',\n",
       " 'user_ns_hidden',\n",
       " 'var_expand',\n",
       " 'wildcards_case_sensitive',\n",
       " 'write',\n",
       " 'write_err',\n",
       " 'xmode']"
      ]
     },
     "metadata": {},
     "execution_count": 3
    }
   ],
   "metadata": {
    "tags": []
   }
  },
  {
   "cell_type": "code",
   "execution_count": 4,
   "source": [
    "type(shell)"
   ],
   "outputs": [
    {
     "output_type": "execute_result",
     "data": {
      "text/plain": [
       "ipykernel.zmqshell.ZMQInteractiveShell"
      ]
     },
     "metadata": {},
     "execution_count": 4
    }
   ],
   "metadata": {}
  },
  {
   "cell_type": "markdown",
   "source": [
    "## `IPython` Shell Magic\n",
    "\n",
    "Experienced Jupyter notebook users interact with `IPython` through its “magic.” We can see in the documentation for the `.magic()` method that it is the equivalent of using that `%` syntax:  "
   ],
   "metadata": {}
  },
  {
   "cell_type": "code",
   "execution_count": 5,
   "source": [
    "help(shell.magic)"
   ],
   "outputs": [
    {
     "output_type": "stream",
     "name": "stdout",
     "text": [
      "Help on method magic in module IPython.core.interactiveshell:\n",
      "\n",
      "magic(arg_s) method of ipykernel.zmqshell.ZMQInteractiveShell instance\n",
      "    DEPRECATED. Use run_line_magic() instead.\n",
      "    \n",
      "    Call a magic function by name.\n",
      "    \n",
      "    Input: a string containing the name of the magic function to call and\n",
      "    any additional arguments to be passed to the magic.\n",
      "    \n",
      "    magic('name -opt foo bar') is equivalent to typing at the ipython\n",
      "    prompt:\n",
      "    \n",
      "    In[1]: %name -opt foo bar\n",
      "    \n",
      "    To call a magic without arguments, simply use magic('name').\n",
      "    \n",
      "    This provides a proper Python function to call IPython's magics in any\n",
      "    valid Python code you can type at the interpreter, including loops and\n",
      "    compound statements.\n",
      "\n"
     ]
    }
   ],
   "metadata": {
    "tags": []
   }
  },
  {
   "cell_type": "markdown",
   "source": [
    "The use of `%` to call Magics is language specific. The [documentation](https://ipython.readthedocs.io/en/stable/interactive/magics.html#built-in-magic-commands) explains:\n",
    "\n",
    ">Magics are specific to and provided by the IPython kernel. Whether Magics are available on a kernel is a decision that is made by the kernel developer on a per-kernel basis. To work properly, Magics must use a syntax element which is not valid in the underlying language. For example, the IPython kernel uses the `%` syntax element for Magics as `%` is not a valid unary operator in Python. However, `%` might have meaning in other languages.\n"
   ],
   "metadata": {}
  },
  {
   "cell_type": "markdown",
   "source": [
    "## `%magic` briefly\n",
    "\n",
    "A very important Magics command (that should be everywhere) is the `%magic` command [📖 [docs](https://ipython.readthedocs.io/en/stable/interactive/magics.html#magic-magic)]:"
   ],
   "metadata": {}
  },
  {
   "cell_type": "code",
   "execution_count": 6,
   "source": [
    "%magic -brief"
   ],
   "outputs": [],
   "metadata": {
    "tags": []
   }
  },
  {
   "cell_type": "markdown",
   "source": [
    "## selected magics"
   ],
   "metadata": {}
  },
  {
   "cell_type": "markdown",
   "source": [
    "### `%%svg`\n"
   ],
   "metadata": {}
  },
  {
   "cell_type": "code",
   "execution_count": 7,
   "source": [
    "%%svg\n",
    "\n",
    "<svg\n",
    "   xmlns:svg=\"http://www.w3.org/2000/svg\"\n",
    "   xmlns=\"http://www.w3.org/2000/svg\"\n",
    "   version=\"1.1\"\n",
    "   width=\"744.09003\"\n",
    "   height=\"1052.3622\">\n",
    "  <g\n",
    "     transform=\"matrix(8.9893045,0,0,-8.9893045,-789.08414,4880.2518)\">\n",
    "    <path\n",
    "       d=\"m 144.81201,454.46436 0,-19.54541 -8.40381,0 0,19.54541 -13.88574,0 0,-21.02832 -8.40381,0 0,21.02832 -13.88672,0 0,-22.51123 -8.4038,0 0,30.13232 67.04394,0 c 0.0117,6.51318 -3.7041,11.43115 -10.52783,11.43115 l -56.08203,0 0,7.62061 c 0,10.45361 8.20215,19.07519 18.7583,19.05224 l 48.84033,-0.10547 c 0.0278,7.21192 -4.18799,11.45557 -11.5166,11.43116 l -56.08203,-0.1875 0,7.6206 c 0,10.46045 8.20996,19.05176 18.7583,19.05176 l 55.5542,0 0,-7.62061 -55.5542,0 c -7.82959,0 -10.36475,-4.56347 -11.36963,-11.33984 l 48.69336,0.0962 c 10.5581,0.021 18.7583,-8.59814 18.7583,-19.05176 l 0,-7.62109 -56.08203,0.10547 c -7.33106,0.0142 -11.54444,-4.20898 -11.5166,-11.43115 l 48.84033,0 c 10.55029,0 18.7583,-8.59229 18.7583,-19.05176 l 0,-25.68359 -8.40381,0 0,18.0625 -13.88672,0 z\"\n",
    "       style=\"fill:#006633;fill-opacity:0.7;fill-rule:nonzero;stroke:none\"\n",
    "       />\n",
    "  </g>\n",
    "</svg>\n"
   ],
   "outputs": [
    {
     "output_type": "display_data",
     "data": {
      "text/plain": [
       "<IPython.core.display.SVG object>"
      ],
      "image/svg+xml": "<svg height=\"1052.3622\" version=\"1.1\" width=\"744.09003\" xmlns=\"http://www.w3.org/2000/svg\" xmlns:svg=\"http://www.w3.org/2000/svg\">\n  <g transform=\"matrix(8.9893045,0,0,-8.9893045,-789.08414,4880.2518)\">\n    <path d=\"m 144.81201,454.46436 0,-19.54541 -8.40381,0 0,19.54541 -13.88574,0 0,-21.02832 -8.40381,0 0,21.02832 -13.88672,0 0,-22.51123 -8.4038,0 0,30.13232 67.04394,0 c 0.0117,6.51318 -3.7041,11.43115 -10.52783,11.43115 l -56.08203,0 0,7.62061 c 0,10.45361 8.20215,19.07519 18.7583,19.05224 l 48.84033,-0.10547 c 0.0278,7.21192 -4.18799,11.45557 -11.5166,11.43116 l -56.08203,-0.1875 0,7.6206 c 0,10.46045 8.20996,19.05176 18.7583,19.05176 l 55.5542,0 0,-7.62061 -55.5542,0 c -7.82959,0 -10.36475,-4.56347 -11.36963,-11.33984 l 48.69336,0.0962 c 10.5581,0.021 18.7583,-8.59814 18.7583,-19.05176 l 0,-7.62109 -56.08203,0.10547 c -7.33106,0.0142 -11.54444,-4.20898 -11.5166,-11.43115 l 48.84033,0 c 10.55029,0 18.7583,-8.59229 18.7583,-19.05176 l 0,-25.68359 -8.40381,0 0,18.0625 -13.88672,0 z\" style=\"fill:#006633;fill-opacity:0.7;fill-rule:nonzero;stroke:none\"/>\n  </g>\n</svg>"
     },
     "metadata": {}
    }
   ],
   "metadata": {}
  },
  {
   "cell_type": "markdown",
   "source": [
    "### `%%html`\n",
    "\n",
    "The `%%html` and `%%javascript` magics remind us that the Jupyter notebook is a an application of HTML, CSS and JavaScript. These magics work as expected when the Jupyter notebook is running in the browser over the Jupyter server (invoked with the `jupyter notebook` command and sub-command). In Visual Studio Code, it may appear like little magic is happening in part because the `window` and `document` objects are customized/limited in the [Electron](https://www.electronjs.org/) IDE.\n",
    "\n",
    "Here are more caveats:\n",
    "\n",
    "- the use of `const` and `let` throw errors which implies an older version of JavaScript is in use\n",
    "- binding to `window` events with `window.addEventListener('DOMContentLoaded', function(){})` will not be useful in a notebook cell as these events would have already fired\n",
    "- CSS should select elements by ID to prevent styling the entire Jupyter notebook!\n"
   ],
   "metadata": {}
  },
  {
   "cell_type": "code",
   "execution_count": 8,
   "source": [
    "%%html\n",
    "\n",
    "<!DOCTYPE html>\n",
    "<html>\n",
    "\n",
    "<head>\n",
    "    <script>\n",
    "        var box = window.document.getElementById(\"MyBox\");\n",
    "        box.innerText = 'a box with stuff!';\n",
    "        console.log({box});\n",
    "    </script>\n",
    "    <style>\n",
    "        div#MyBox {\n",
    "            border: 2px solid red;\n",
    "            width: 128px;\n",
    "            height: 128px;\n",
    "            padding: 2em;\n",
    "        }\n",
    "    </style>\n",
    "</head>\n",
    "\n",
    "<body>\n",
    "    <div id=\"MyBox\">a box</div>\n",
    "</body>\n",
    "\n",
    "</html>"
   ],
   "outputs": [
    {
     "output_type": "display_data",
     "data": {
      "text/plain": [
       "<IPython.core.display.HTML object>"
      ],
      "text/html": [
       "\n",
       "<!DOCTYPE html>\n",
       "<html>\n",
       "\n",
       "<head>\n",
       "    <script>\n",
       "        var box = window.document.getElementById(\"MyBox\");\n",
       "        box.innerText = 'a box with stuff!';\n",
       "        console.log({box});\n",
       "    </script>\n",
       "    <style>\n",
       "        div#MyBox {\n",
       "            border: 2px solid red;\n",
       "            width: 128px;\n",
       "            height: 128px;\n",
       "            padding: 2em;\n",
       "        }\n",
       "    </style>\n",
       "</head>\n",
       "\n",
       "<body>\n",
       "    <div id=\"MyBox\">a box</div>\n",
       "</body>\n",
       "\n",
       "</html>\n"
      ]
     },
     "metadata": {}
    }
   ],
   "metadata": {}
  },
  {
   "cell_type": "markdown",
   "source": [
    "### `%%javascript`\n",
    "\n",
    "The `box` variable declared in the `%%html` magic above is in notebook scope and can be referenced in the `%%javascript` magic below:"
   ],
   "metadata": {}
  },
  {
   "cell_type": "code",
   "execution_count": 9,
   "source": [
    "%%javascript\n",
    "\n",
    "box.innerText = 'a box with more stuff!';\n",
    "\n",
    "console.log({box, notebook, self: this});"
   ],
   "outputs": [
    {
     "output_type": "display_data",
     "data": {
      "text/plain": [
       "<IPython.core.display.Javascript object>"
      ],
      "application/javascript": "\nbox.innerText = 'a box with more stuff!';\n\nconsole.log({box, notebook, self: this});\n"
     },
     "metadata": {}
    }
   ],
   "metadata": {}
  },
  {
   "cell_type": "markdown",
   "source": [
    "## determining the version of JavaScript\n",
    "\n",
    "Experimenting with “[How to check JavaScript version](https://howtocheckversion.com/how-to-check-javascript-version/),” we see that their trick is not working as expected in a Jupyter notebook:\n"
   ],
   "metadata": {}
  },
  {
   "cell_type": "code",
   "execution_count": 10,
   "source": [
    "%%html\n",
    "\n",
    "<!DOCTYPE html>\n",
    "<html>\n",
    "\n",
    "<head>\n",
    "    <script type=\"text/javascript\">\n",
    "        var version = 1.0;\n",
    "    </script>\n",
    "\n",
    "    <script language=\"Javascript1.1\"> version = 1.1; </script>\n",
    "    <script language=\"Javascript1.2\"> version = 1.2; </script>\n",
    "    <script language=\"Javascript1.3\"> version = 1.3; </script>\n",
    "    <script language=\"Javascript1.4\"> version = 1.4; </script>\n",
    "    <script language=\"Javascript1.5\"> version = 1.5; </script>\n",
    "    <script language=\"Javascript1.6\"> version = 1.6; </script>\n",
    "    <script language=\"Javascript1.7\"> version = 1.7; </script>\n",
    "    <script language=\"Javascript1.8\"> version = 1.8; </script>\n",
    "    <script language=\"Javascript1.9\"> version = 1.9; </script>\n",
    "    <script language=\"Javascript8.9\"> version = 8.9; </script>\n",
    "\n",
    "    <script type=\"text/javascript\">\n",
    "        var pre1 = window.document.getElementById(\"MyOutput1\");\n",
    "        pre1.innerText = 'version: ' + version\n",
    "    </script>\n",
    "</head>\n",
    "\n",
    "<body>\n",
    "    <pre id=\"MyOutput1\"></pre>\n",
    "</body>\n",
    "\n",
    "</html>"
   ],
   "outputs": [
    {
     "output_type": "display_data",
     "data": {
      "text/plain": [
       "<IPython.core.display.HTML object>"
      ],
      "text/html": [
       "\n",
       "<!DOCTYPE html>\n",
       "<html>\n",
       "\n",
       "<head>\n",
       "    <script type=\"text/javascript\">\n",
       "        var version = 1.0;\n",
       "    </script>\n",
       "\n",
       "    <script language=\"Javascript1.1\"> version = 1.1; </script>\n",
       "    <script language=\"Javascript1.2\"> version = 1.2; </script>\n",
       "    <script language=\"Javascript1.3\"> version = 1.3; </script>\n",
       "    <script language=\"Javascript1.4\"> version = 1.4; </script>\n",
       "    <script language=\"Javascript1.5\"> version = 1.5; </script>\n",
       "    <script language=\"Javascript1.6\"> version = 1.6; </script>\n",
       "    <script language=\"Javascript1.7\"> version = 1.7; </script>\n",
       "    <script language=\"Javascript1.8\"> version = 1.8; </script>\n",
       "    <script language=\"Javascript1.9\"> version = 1.9; </script>\n",
       "    <script language=\"Javascript8.9\"> version = 8.9; </script>\n",
       "\n",
       "    <script type=\"text/javascript\">\n",
       "        var pre1 = window.document.getElementById(\"MyOutput1\");\n",
       "        pre1.innerText = 'version: ' + version\n",
       "    </script>\n",
       "</head>\n",
       "\n",
       "<body>\n",
       "    <pre id=\"MyOutput1\"></pre>\n",
       "</body>\n",
       "\n",
       "</html>\n"
      ]
     },
     "metadata": {}
    }
   ],
   "metadata": {}
  },
  {
   "cell_type": "markdown",
   "source": [
    "My next move is to try feature-detection tricks:"
   ],
   "metadata": {}
  },
  {
   "cell_type": "code",
   "execution_count": 11,
   "source": [
    "%%html\n",
    "\n",
    "<!DOCTYPE html>\n",
    "<html>\n",
    "\n",
    "<head>\n",
    "    <script type=\"text/javascript\">\n",
    "        var pre2 = window.document.getElementById(\"MyOutput2\");\n",
    "        var pre3 = window.document.getElementById(\"MyOutput3\");\n",
    "        var pre4 = window.document.getElementById(\"MyOutput4\");\n",
    "        var pre5 = window.document.getElementById(\"MyOutput5\");\n",
    "    </script>\n",
    "</head>\n",
    "\n",
    "<body>\n",
    "    <pre id=\"MyOutput2\"></pre>\n",
    "    <pre id=\"MyOutput3\"></pre>\n",
    "    <pre id=\"MyOutput4\"></pre>\n",
    "    <pre id=\"MyOutput5\"></pre>\n",
    "</body>\n",
    "\n",
    "</html>"
   ],
   "outputs": [
    {
     "output_type": "display_data",
     "data": {
      "text/plain": [
       "<IPython.core.display.HTML object>"
      ],
      "text/html": [
       "\n",
       "<!DOCTYPE html>\n",
       "<html>\n",
       "\n",
       "<head>\n",
       "    <script type=\"text/javascript\">\n",
       "        var pre2 = window.document.getElementById(\"MyOutput2\");\n",
       "        var pre3 = window.document.getElementById(\"MyOutput3\");\n",
       "        var pre4 = window.document.getElementById(\"MyOutput4\");\n",
       "        var pre5 = window.document.getElementById(\"MyOutput5\");\n",
       "    </script>\n",
       "</head>\n",
       "\n",
       "<body>\n",
       "    <pre id=\"MyOutput2\"></pre>\n",
       "    <pre id=\"MyOutput3\"></pre>\n",
       "    <pre id=\"MyOutput4\"></pre>\n",
       "    <pre id=\"MyOutput5\"></pre>\n",
       "</body>\n",
       "\n",
       "</html>\n"
      ]
     },
     "metadata": {}
    }
   ],
   "metadata": {}
  },
  {
   "cell_type": "code",
   "execution_count": 12,
   "source": [
    "%%javascript\n",
    "\n",
    "pre2.innerText = 'This should work.';"
   ],
   "outputs": [
    {
     "output_type": "display_data",
     "data": {
      "text/plain": [
       "<IPython.core.display.Javascript object>"
      ],
      "application/javascript": "\npre2.innerText = 'This should work.';\n"
     },
     "metadata": {}
    }
   ],
   "metadata": {}
  },
  {
   "cell_type": "code",
   "execution_count": 13,
   "source": [
    "%%javascript\n",
    "\n",
    "var myFunc = () => 'might not';\n",
    "\n",
    "pre3.innerText = `This ${myFunc()} work.`;"
   ],
   "outputs": [
    {
     "output_type": "display_data",
     "data": {
      "text/plain": [
       "<IPython.core.display.Javascript object>"
      ],
      "application/javascript": "\nvar myFunc = () => 'might not';\n\npre3.innerText = `This ${myFunc()} work.`;\n"
     },
     "metadata": {}
    }
   ],
   "metadata": {}
  },
  {
   "cell_type": "code",
   "execution_count": 14,
   "source": [
    "%%javascript\n",
    "\n",
    "let s = 'i guess Jupyter simply does not like `let` and `const`?';\n",
    "pre4.innerText = s;"
   ],
   "outputs": [
    {
     "output_type": "display_data",
     "data": {
      "text/plain": [
       "<IPython.core.display.Javascript object>"
      ],
      "application/javascript": "\nlet s = 'i guess Jupyter simply does not like `let` and `const`?';\npre4.innerText = s;\n"
     },
     "metadata": {}
    }
   ],
   "metadata": {}
  },
  {
   "cell_type": "code",
   "execution_count": 15,
   "source": [
    "%%javascript\n",
    "\n",
    "const s2 = 'i guess i am wrong?';\n",
    "pre5.innerText = s2;"
   ],
   "outputs": [
    {
     "output_type": "display_data",
     "data": {
      "text/plain": [
       "<IPython.core.display.Javascript object>"
      ],
      "application/javascript": "\nconst s2 = 'i guess i am wrong?';\npre5.innerText = s2;\n"
     },
     "metadata": {}
    }
   ],
   "metadata": {}
  },
  {
   "cell_type": "markdown",
   "source": [
    "\n",
    "Jupyter server and the Insiders build of Visual Studio Code shows the `pre` output above.\n",
    "\n",
    "The lack of `let` and `const` support lie solely in the `%%html` magic.\n",
    "\n",
    "@[BryanWilhite](https://twitter.com/BryanWilhite)\n",
    "\n"
   ],
   "metadata": {}
  }
 ],
 "metadata": {
  "interpreter": {
   "hash": "335e3b179f8067a0c23d70a756fd3d57fb74cc044dfa90bee45dd08bdac41a6f"
  },
  "kernelspec": {
   "name": "python3",
   "display_name": "Python 3.7.10 64-bit ('base': conda)"
  },
  "language_info": {
   "codemirror_mode": {
    "name": "ipython",
    "version": 3
   },
   "file_extension": ".py",
   "mimetype": "text/x-python",
   "name": "python",
   "nbconvert_exporter": "python",
   "pygments_lexer": "ipython3",
   "version": "3.7.10"
  }
 },
 "nbformat": 4,
 "nbformat_minor": 2
}