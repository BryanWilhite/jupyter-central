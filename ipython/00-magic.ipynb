{
 "cells": [
  {
   "cell_type": "markdown",
   "metadata": {},
   "source": [
    "# IPython is _Interactive_ Python\n",
    "\n",
    "When one approaches `IPython` [📖 [docs](https://ipython.readthedocs.io)] from [Jupyter](https://jupyter.org/) notebooks it is easy to assume that it was developed for the notebook experience. In fact, `IPython` is an interactive shell with a Jupyter kernel.\n",
    "\n",
    "In the local scope of this notebook, we should see the `get_ipython()` method:"
   ]
  },
  {
   "cell_type": "code",
   "execution_count": 16,
   "metadata": {},
   "outputs": [
    {
     "data": {
      "text/plain": [
       "['get_ipython']"
      ]
     },
     "execution_count": 16,
     "metadata": {},
     "output_type": "execute_result"
    }
   ],
   "source": [
    "[i for i in dir() if i.startswith('g') ]"
   ]
  },
  {
   "cell_type": "code",
   "execution_count": 18,
   "metadata": {
    "tags": []
   },
   "outputs": [
    {
     "name": "stdout",
     "output_type": "stream",
     "text": [
      "Help on method get_ipython in module IPython.core.interactiveshell:\n",
      "\n",
      "get_ipython() method of ipykernel.zmqshell.ZMQInteractiveShell instance\n",
      "    Return the currently running IPython instance.\n",
      "\n"
     ]
    }
   ],
   "source": [
    "help(get_ipython)"
   ]
  },
  {
   "cell_type": "markdown",
   "metadata": {},
   "source": [
    "## attributes of `get_ipython()`\n",
    "\n",
    "This method should return the `IPython` interactive shell. We can verify this:\n"
   ]
  },
  {
   "cell_type": "code",
   "execution_count": 24,
   "metadata": {
    "tags": []
   },
   "outputs": [
    {
     "data": {
      "text/plain": [
       "['Completer',\n",
       " 'CustomTB',\n",
       " 'InteractiveTB',\n",
       " 'SyntaxTB',\n",
       " 'active_eventloop',\n",
       " 'add_traits',\n",
       " 'alias_manager',\n",
       " 'all_ns_refs',\n",
       " 'ask_exit',\n",
       " 'ask_yes_no',\n",
       " 'ast_node_interactivity',\n",
       " 'ast_transformers',\n",
       " 'atexit_operations',\n",
       " 'auto_rewrite_input',\n",
       " 'autoawait',\n",
       " 'autocall',\n",
       " 'autoindent',\n",
       " 'automagic',\n",
       " 'banner',\n",
       " 'banner1',\n",
       " 'banner2',\n",
       " 'builtin_trap',\n",
       " 'cache_size',\n",
       " 'call_pdb',\n",
       " 'check_complete',\n",
       " 'cleanup',\n",
       " 'clear_instance',\n",
       " 'clear_main_mod_cache',\n",
       " 'color_info',\n",
       " 'colors',\n",
       " 'compile',\n",
       " 'compiler_class',\n",
       " 'complete',\n",
       " 'config',\n",
       " 'configurables',\n",
       " 'cross_validation_lock',\n",
       " 'custom_exceptions',\n",
       " 'data_pub',\n",
       " 'data_pub_class',\n",
       " 'db',\n",
       " 'debug',\n",
       " 'debugger',\n",
       " 'debugger_cls',\n",
       " 'default_user_namespaces',\n",
       " 'define_macro',\n",
       " 'del_var',\n",
       " 'dir_stack',\n",
       " 'disable_failing_post_execute',\n",
       " 'display_formatter',\n",
       " 'display_page',\n",
       " 'display_pub',\n",
       " 'display_pub_class',\n",
       " 'display_trap',\n",
       " 'displayhook',\n",
       " 'displayhook_class',\n",
       " 'drop_by_id',\n",
       " 'enable_gui',\n",
       " 'enable_html_pager',\n",
       " 'enable_matplotlib',\n",
       " 'enable_pylab',\n",
       " 'ev',\n",
       " 'events',\n",
       " 'ex',\n",
       " 'excepthook',\n",
       " 'execution_count',\n",
       " 'exit_now',\n",
       " 'exiter',\n",
       " 'extension_manager',\n",
       " 'extract_input_lines',\n",
       " 'filename',\n",
       " 'find_cell_magic',\n",
       " 'find_line_magic',\n",
       " 'find_magic',\n",
       " 'find_user_code',\n",
       " 'get_exception_only',\n",
       " 'get_ipython',\n",
       " 'get_local_scope',\n",
       " 'get_parent',\n",
       " 'getoutput',\n",
       " 'has_trait',\n",
       " 'history_length',\n",
       " 'history_load_length',\n",
       " 'history_manager',\n",
       " 'hold_trait_notifications',\n",
       " 'home_dir',\n",
       " 'hooks',\n",
       " 'indent_current_nsp',\n",
       " 'initialized',\n",
       " 'input_splitter',\n",
       " 'input_transformer_manager',\n",
       " 'input_transformers_cleanup',\n",
       " 'input_transformers_post',\n",
       " 'inspector',\n",
       " 'instance',\n",
       " 'ipython_dir',\n",
       " 'keepkernel_on_exit',\n",
       " 'kernel',\n",
       " 'last_execution_result',\n",
       " 'last_execution_succeeded',\n",
       " 'log',\n",
       " 'logappend',\n",
       " 'logfile',\n",
       " 'logger',\n",
       " 'logstart',\n",
       " 'loop_runner',\n",
       " 'loop_runner_map',\n",
       " 'magic',\n",
       " 'magics_manager',\n",
       " 'meta',\n",
       " 'mktempfile',\n",
       " 'more',\n",
       " 'new_main_mod',\n",
       " 'notify_change',\n",
       " 'ns_table',\n",
       " 'object_info_string_level',\n",
       " 'object_inspect',\n",
       " 'object_inspect_mime',\n",
       " 'object_inspect_text',\n",
       " 'observe',\n",
       " 'on_trait_change',\n",
       " 'parent',\n",
       " 'parent_header',\n",
       " 'payload_manager',\n",
       " 'pdb',\n",
       " 'prefilter',\n",
       " 'prefilter_manager',\n",
       " 'prepare_user_module',\n",
       " 'profile',\n",
       " 'profile_dir',\n",
       " 'prompt_in1',\n",
       " 'prompt_in2',\n",
       " 'prompt_out',\n",
       " 'prompts_pad_left',\n",
       " 'push',\n",
       " 'pycolorize',\n",
       " 'pylab_gui_select',\n",
       " 'quiet',\n",
       " 'raw_input_original',\n",
       " 'readline_use',\n",
       " 'refresh_style',\n",
       " 'register_magic_function',\n",
       " 'register_magics',\n",
       " 'register_post_execute',\n",
       " 'reset',\n",
       " 'reset_selective',\n",
       " 'restore_sys_module_state',\n",
       " 'run_ast_nodes',\n",
       " 'run_cell',\n",
       " 'run_cell_async',\n",
       " 'run_cell_magic',\n",
       " 'run_code',\n",
       " 'run_line_magic',\n",
       " 'runcode',\n",
       " 'safe_execfile',\n",
       " 'safe_execfile_ipy',\n",
       " 'safe_run_module',\n",
       " 'save_sys_module_state',\n",
       " 'section_names',\n",
       " 'separate_in',\n",
       " 'separate_out',\n",
       " 'separate_out2',\n",
       " 'set_autoindent',\n",
       " 'set_completer_frame',\n",
       " 'set_custom_completer',\n",
       " 'set_custom_exc',\n",
       " 'set_hook',\n",
       " 'set_next_input',\n",
       " 'set_parent',\n",
       " 'set_trait',\n",
       " 'set_trio_runner',\n",
       " 'setup_instance',\n",
       " 'should_run_async',\n",
       " 'show_banner',\n",
       " 'show_rewritten_input',\n",
       " 'show_usage',\n",
       " 'show_usage_error',\n",
       " 'showindentationerror',\n",
       " 'showsyntaxerror',\n",
       " 'showtraceback',\n",
       " 'sphinxify_docstring',\n",
       " 'starting_dir',\n",
       " 'stdin_encoding',\n",
       " 'strdispatchers',\n",
       " 'switch_doctest_mode',\n",
       " 'sys_excepthook',\n",
       " 'system',\n",
       " 'system_piped',\n",
       " 'system_raw',\n",
       " 'tempdirs',\n",
       " 'tempfiles',\n",
       " 'traits',\n",
       " 'transform_ast',\n",
       " 'transform_cell',\n",
       " 'trio_runner',\n",
       " 'unobserve',\n",
       " 'unobserve_all',\n",
       " 'update_config',\n",
       " 'user_expressions',\n",
       " 'user_global_ns',\n",
       " 'user_module',\n",
       " 'user_ns',\n",
       " 'user_ns_hidden',\n",
       " 'var_expand',\n",
       " 'wildcards_case_sensitive',\n",
       " 'write',\n",
       " 'write_err',\n",
       " 'xmode']"
      ]
     },
     "execution_count": 24,
     "metadata": {},
     "output_type": "execute_result"
    }
   ],
   "source": [
    "[\n",
    "    i for i in dir(get_ipython())\n",
    "    if not(i.startswith('_'))\n",
    "        and not(i.startswith('class_'))\n",
    "        and not(i.startswith('init_'))\n",
    "        and not(i.startswith('trait_'))\n",
    "]"
   ]
  },
  {
   "cell_type": "code",
   "execution_count": 25,
   "metadata": {},
   "outputs": [
    {
     "data": {
      "text/plain": [
       "ipykernel.zmqshell.ZMQInteractiveShell"
      ]
     },
     "execution_count": 25,
     "metadata": {},
     "output_type": "execute_result"
    }
   ],
   "source": [
    "type(get_ipython())"
   ]
  },
  {
   "cell_type": "markdown",
   "metadata": {},
   "source": [
    "## `IPython` Shell Magic\n",
    "\n",
    "Experienced Jupyter notebook users interact with `IPython` through its “magic.” We can see in the documentation for the `.magic()` method that it is the equivalent of using that `%` syntax:  "
   ]
  },
  {
   "cell_type": "code",
   "execution_count": 26,
   "metadata": {
    "tags": []
   },
   "outputs": [
    {
     "name": "stdout",
     "output_type": "stream",
     "text": [
      "Help on method magic in module IPython.core.interactiveshell:\n",
      "\n",
      "magic(arg_s) method of ipykernel.zmqshell.ZMQInteractiveShell instance\n",
      "    DEPRECATED. Use run_line_magic() instead.\n",
      "    \n",
      "    Call a magic function by name.\n",
      "    \n",
      "    Input: a string containing the name of the magic function to call and\n",
      "    any additional arguments to be passed to the magic.\n",
      "    \n",
      "    magic('name -opt foo bar') is equivalent to typing at the ipython\n",
      "    prompt:\n",
      "    \n",
      "    In[1]: %name -opt foo bar\n",
      "    \n",
      "    To call a magic without arguments, simply use magic('name').\n",
      "    \n",
      "    This provides a proper Python function to call IPython's magics in any\n",
      "    valid Python code you can type at the interpreter, including loops and\n",
      "    compound statements.\n",
      "\n"
     ]
    }
   ],
   "source": [
    "help(get_ipython().magic)"
   ]
  },
  {
   "cell_type": "markdown",
   "metadata": {},
   "source": [
    "The use of `%` to call Magics is language specific. The [documentation](https://ipython.readthedocs.io/en/stable/interactive/magics.html#built-in-magic-commands) explains:\n",
    "\n",
    ">Magics are specific to and provided by the IPython kernel. Whether Magics are available on a kernel is a decision that is made by the kernel developer on a per-kernel basis. To work properly, Magics must use a syntax element which is not valid in the underlying language. For example, the IPython kernel uses the `%` syntax element for Magics as `%` is not a valid unary operator in Python. However, `%` might have meaning in other languages.\n"
   ]
  },
  {
   "cell_type": "markdown",
   "metadata": {},
   "source": [
    "## `%magic` briefly\n",
    "\n",
    "A very important Magics command (that should be everywhere) is the `%magic` command [📖 [docs](https://ipython.readthedocs.io/en/stable/interactive/magics.html#magic-magic)]:"
   ]
  },
  {
   "cell_type": "code",
   "execution_count": 27,
   "metadata": {
    "tags": []
   },
   "outputs": [
    {
     "name": "stdout",
     "output_type": "stream",
     "text": [
      "\n",
      "IPython's 'magic' functions\n",
      "===========================\n",
      "\n",
      "The magic function system provides a series of functions which allow you to\n",
      "control the behavior of IPython itself, plus a lot of system-type\n",
      "features. There are two kinds of magics, line-oriented and cell-oriented.\n",
      "\n",
      "Line magics are prefixed with the % character and work much like OS\n",
      "command-line calls: they get as an argument the rest of the line, where\n",
      "arguments are passed without parentheses or quotes.  For example, this will\n",
      "time the given statement::\n",
      "\n",
      "        %timeit range(1000)\n",
      "\n",
      "Cell magics are prefixed with a double %%, and they are functions that get as\n",
      "an argument not only the rest of the line, but also the lines below it in a\n",
      "separate argument.  These magics are called with two arguments: the rest of the\n",
      "call line and the body of the cell, consisting of the lines below the first.\n",
      "For example::\n",
      "\n",
      "        %%timeit x = numpy.random.randn((100, 100))\n",
      "        numpy.linalg.svd(x)\n",
      "\n",
      "will time the execution of the numpy svd routine, running the assignment of x\n",
      "as part of the setup phase, which is not timed.\n",
      "\n",
      "In a line-oriented client (the terminal or Qt console IPython), starting a new\n",
      "input with %% will automatically enter cell mode, and IPython will continue\n",
      "reading input until a blank line is given.  In the notebook, simply type the\n",
      "whole cell as one entity, but keep in mind that the %% escape can only be at\n",
      "the very start of the cell.\n",
      "\n",
      "NOTE: If you have 'automagic' enabled (via the command line option or with the\n",
      "%automagic function), you don't need to type in the % explicitly for line\n",
      "magics; cell magics always require an explicit '%%' escape.  By default,\n",
      "IPython ships with automagic on, so you should only rarely need the % escape.\n",
      "\n",
      "Example: typing '%cd mydir' (without the quotes) changes your working directory\n",
      "to 'mydir', if it exists.\n",
      "\n",
      "For a list of the available magic functions, use %lsmagic. For a description\n",
      "of any of them, type %magic_name?, e.g. '%cd?'.\n",
      "\n",
      "Currently the magic system has the following functions:\n",
      "%alias:\n",
      "    Define an alias for a system command.\n",
      "%alias_magic:\n",
      "    ::\n",
      "%autoawait:\n",
      "    \n",
      "%autocall:\n",
      "    Make functions callable without having to type parentheses.\n",
      "%automagic:\n",
      "    Make magic functions callable without having to type the initial %.\n",
      "%autosave:\n",
      "    Set the autosave interval in the notebook (in seconds).\n",
      "%bookmark:\n",
      "    Manage IPython's bookmark system.\n",
      "%cat:\n",
      "    Alias for `!cat`\n",
      "%cd:\n",
      "    Change the current working directory.\n",
      "%clear:\n",
      "    Clear the terminal.\n",
      "%colors:\n",
      "    Switch color scheme for prompts, info system and exception handlers.\n",
      "%conda:\n",
      "    Run the conda package manager within the current kernel.\n",
      "%config:\n",
      "    configure IPython\n",
      "%connect_info:\n",
      "    Print information for connecting other clients to this kernel\n",
      "%cp:\n",
      "    Alias for `!cp`\n",
      "%debug:\n",
      "    ::\n",
      "%dhist:\n",
      "    Print your history of visited directories.\n",
      "%dirs:\n",
      "    Return the current directory stack.\n",
      "%doctest_mode:\n",
      "    Toggle doctest mode on and off.\n",
      "%ed:\n",
      "    Alias for `%edit`.\n",
      "%edit:\n",
      "    Bring up an editor and execute the resulting code.\n",
      "%env:\n",
      "    Get, set, or list environment variables.\n",
      "%gui:\n",
      "    Enable or disable IPython GUI event loop integration.\n",
      "%hist:\n",
      "    Alias for `%history`.\n",
      "%history:\n",
      "    ::\n",
      "%killbgscripts:\n",
      "    Kill all BG processes started by %%script and its family.\n",
      "%ldir:\n",
      "    Alias for `!ls -F -o --color %l | grep /$`\n",
      "%less:\n",
      "    Show a file through the pager.\n",
      "%lf:\n",
      "    Alias for `!ls -F -o --color %l | grep ^-`\n",
      "%lk:\n",
      "    Alias for `!ls -F -o --color %l | grep ^l`\n",
      "%ll:\n",
      "    Alias for `!ls -F -o --color`\n",
      "%load:\n",
      "    Load code into the current frontend.\n",
      "%load_ext:\n",
      "    Load an IPython extension by its module name.\n",
      "%loadpy:\n",
      "    Alias of `%load`\n",
      "%logoff:\n",
      "    Temporarily stop logging.\n",
      "%logon:\n",
      "    Restart logging.\n",
      "%logstart:\n",
      "    Start logging anywhere in a session.\n",
      "%logstate:\n",
      "    Print the status of the logging system.\n",
      "%logstop:\n",
      "    Fully stop logging and close log file.\n",
      "%ls:\n",
      "    Alias for `!ls -F --color`\n",
      "%lsmagic:\n",
      "    List currently available magic functions.\n",
      "%lx:\n",
      "    Alias for `!ls -F -o --color %l | grep ^-..x`\n",
      "%macro:\n",
      "    Define a macro for future re-execution. It accepts ranges of history,\n",
      "%magic:\n",
      "    Print information about the magic function system.\n",
      "%man:\n",
      "    Find the man page for the given command and display in pager.\n",
      "%matplotlib:\n",
      "    ::\n",
      "%mkdir:\n",
      "    Alias for `!mkdir`\n",
      "%more:\n",
      "    Show a file through the pager.\n",
      "%mv:\n",
      "    Alias for `!mv`\n",
      "%notebook:\n",
      "    ::\n",
      "%page:\n",
      "    Pretty print the object and display it through a pager.\n",
      "%pastebin:\n",
      "    Upload code to dpaste.com, returning the URL.\n",
      "%pdb:\n",
      "    Control the automatic calling of the pdb interactive debugger.\n",
      "%pdef:\n",
      "    Print the call signature for any callable object.\n",
      "%pdoc:\n",
      "    Print the docstring for an object.\n",
      "%pfile:\n",
      "    Print (or run through pager) the file where an object is defined.\n",
      "%pinfo:\n",
      "    Provide detailed information about an object.\n",
      "%pinfo2:\n",
      "    Provide extra detailed information about an object.\n",
      "%pip:\n",
      "    Run the pip package manager within the current kernel.\n",
      "%popd:\n",
      "    Change to directory popped off the top of the stack.\n",
      "%pprint:\n",
      "    Toggle pretty printing on/off.\n",
      "%precision:\n",
      "    Set floating point precision for pretty printing.\n",
      "%prun:\n",
      "    Run a statement through the python code profiler.\n",
      "%psearch:\n",
      "    Search for object in namespaces by wildcard.\n",
      "%psource:\n",
      "    Print (or run through pager) the source code for an object.\n",
      "%pushd:\n",
      "    Place the current dir on stack and change directory.\n",
      "%pwd:\n",
      "    Return the current working directory path.\n",
      "%pycat:\n",
      "    Show a syntax-highlighted file through a pager.\n",
      "%pylab:\n",
      "    ::\n",
      "%qtconsole:\n",
      "    Open a qtconsole connected to this kernel.\n",
      "%quickref:\n",
      "    Show a quick reference sheet \n",
      "%recall:\n",
      "    Repeat a command, or get command to input line for editing.\n",
      "%rehashx:\n",
      "    Update the alias table with all executable files in $PATH.\n",
      "%reload_ext:\n",
      "    Reload an IPython extension by its module name.\n",
      "%rep:\n",
      "    Alias for `%recall`.\n",
      "%rerun:\n",
      "    Re-run previous input\n",
      "%reset:\n",
      "    Resets the namespace by removing all names defined by the user, if\n",
      "%reset_selective:\n",
      "    Resets the namespace by removing names defined by the user.\n",
      "%rm:\n",
      "    Alias for `!rm`\n",
      "%rmdir:\n",
      "    Alias for `!rmdir`\n",
      "%run:\n",
      "    Run the named file inside IPython as a program.\n",
      "%save:\n",
      "    Save a set of lines or a macro to a given filename.\n",
      "%sc:\n",
      "    Shell capture - run shell command and capture output (DEPRECATED use !).\n",
      "%set_env:\n",
      "    Set environment variables.  Assumptions are that either \"val\" is a\n",
      "%store:\n",
      "    Lightweight persistence for python variables.\n",
      "%sx:\n",
      "    Shell execute - run shell command and capture output (!! is short-hand).\n",
      "%system:\n",
      "    Shell execute - run shell command and capture output (!! is short-hand).\n",
      "%tb:\n",
      "    Print the last traceback.\n",
      "%time:\n",
      "    Time execution of a Python statement or expression.\n",
      "%timeit:\n",
      "    Time execution of a Python statement or expression\n",
      "%unalias:\n",
      "    Remove an alias\n",
      "%unload_ext:\n",
      "    Unload an IPython extension by its module name.\n",
      "%who:\n",
      "    Print all interactive variables, with some minimal formatting.\n",
      "%who_ls:\n",
      "    Return a sorted list of all interactive variables.\n",
      "%whos:\n",
      "    Like %who, but gives some extra information about each variable.\n",
      "%xdel:\n",
      "    Delete a variable, trying to clear it from anywhere that\n",
      "%xmode:\n",
      "    Switch modes for the exception handlers.\n",
      "%%!:\n",
      "    Shell execute - run shell command and capture output (!! is short-hand).\n",
      "%%HTML:\n",
      "    Alias for `%%html`.\n",
      "%%SVG:\n",
      "    Alias for `%%svg`.\n",
      "%%bash:\n",
      "    %%bash script magic\n",
      "%%capture:\n",
      "    ::\n",
      "%%debug:\n",
      "    ::\n",
      "%%file:\n",
      "    Alias for `%%writefile`.\n",
      "%%html:\n",
      "    ::\n",
      "%%javascript:\n",
      "    Run the cell block of Javascript code\n",
      "%%js:\n",
      "    Run the cell block of Javascript code\n",
      "%%latex:\n",
      "    Render the cell as a block of latex\n",
      "%%markdown:\n",
      "    Render the cell as Markdown text block\n",
      "%%perl:\n",
      "    %%perl script magic\n",
      "%%prun:\n",
      "    Run a statement through the python code profiler.\n",
      "%%pypy:\n",
      "    %%pypy script magic\n",
      "%%python:\n",
      "    %%python script magic\n",
      "%%python2:\n",
      "    %%python2 script magic\n",
      "%%python3:\n",
      "    %%python3 script magic\n",
      "%%ruby:\n",
      "    %%ruby script magic\n",
      "%%script:\n",
      "    ::\n",
      "%%sh:\n",
      "    %%sh script magic\n",
      "%%svg:\n",
      "    Render the cell as an SVG literal\n",
      "%%sx:\n",
      "    Shell execute - run shell command and capture output (!! is short-hand).\n",
      "%%system:\n",
      "    Shell execute - run shell command and capture output (!! is short-hand).\n",
      "%%time:\n",
      "    Time execution of a Python statement or expression.\n",
      "%%timeit:\n",
      "    Time execution of a Python statement or expression\n",
      "%%writefile:\n",
      "    ::\n",
      "\n",
      "Summary of magic functions (from %lsmagic):\n",
      "Available line magics:\n",
      "%alias  %alias_magic  %autoawait  %autocall  %automagic  %autosave  %bookmark  %cat  %cd  %clear  %colors  %conda  %config  %connect_info  %cp  %debug  %dhist  %dirs  %doctest_mode  %ed  %edit  %env  %gui  %hist  %history  %killbgscripts  %ldir  %less  %lf  %lk  %ll  %load  %load_ext  %loadpy  %logoff  %logon  %logstart  %logstate  %logstop  %ls  %lsmagic  %lx  %macro  %magic  %man  %matplotlib  %mkdir  %more  %mv  %notebook  %page  %pastebin  %pdb  %pdef  %pdoc  %pfile  %pinfo  %pinfo2  %pip  %popd  %pprint  %precision  %prun  %psearch  %psource  %pushd  %pwd  %pycat  %pylab  %qtconsole  %quickref  %recall  %rehashx  %reload_ext  %rep  %rerun  %reset  %reset_selective  %rm  %rmdir  %run  %save  %sc  %set_env  %store  %sx  %system  %tb  %time  %timeit  %unalias  %unload_ext  %who  %who_ls  %whos  %xdel  %xmode\n",
      "\n",
      "Available cell magics:\n",
      "%%!  %%HTML  %%SVG  %%bash  %%capture  %%debug  %%file  %%html  %%javascript  %%js  %%latex  %%markdown  %%perl  %%prun  %%pypy  %%python  %%python2  %%python3  %%ruby  %%script  %%sh  %%svg  %%sx  %%system  %%time  %%timeit  %%writefile\n",
      "\n",
      "Automagic is ON, % prefix IS NOT needed for line magics."
     ]
    }
   ],
   "source": [
    "%magic -brief"
   ]
  },
  {
   "cell_type": "markdown",
   "metadata": {},
   "source": [
    "## selected magics"
   ]
  },
  {
   "cell_type": "markdown",
   "metadata": {},
   "source": [
    "### `%%svg`\n"
   ]
  },
  {
   "cell_type": "code",
   "execution_count": 28,
   "metadata": {},
   "outputs": [
    {
     "data": {
      "image/svg+xml": "<svg height=\"1052.3622\" version=\"1.1\" width=\"744.09003\" xmlns=\"http://www.w3.org/2000/svg\" xmlns:svg=\"http://www.w3.org/2000/svg\">\n  <g transform=\"matrix(8.9893045,0,0,-8.9893045,-789.08414,4880.2518)\">\n    <path d=\"m 144.81201,454.46436 0,-19.54541 -8.40381,0 0,19.54541 -13.88574,0 0,-21.02832 -8.40381,0 0,21.02832 -13.88672,0 0,-22.51123 -8.4038,0 0,30.13232 67.04394,0 c 0.0117,6.51318 -3.7041,11.43115 -10.52783,11.43115 l -56.08203,0 0,7.62061 c 0,10.45361 8.20215,19.07519 18.7583,19.05224 l 48.84033,-0.10547 c 0.0278,7.21192 -4.18799,11.45557 -11.5166,11.43116 l -56.08203,-0.1875 0,7.6206 c 0,10.46045 8.20996,19.05176 18.7583,19.05176 l 55.5542,0 0,-7.62061 -55.5542,0 c -7.82959,0 -10.36475,-4.56347 -11.36963,-11.33984 l 48.69336,0.0962 c 10.5581,0.021 18.7583,-8.59814 18.7583,-19.05176 l 0,-7.62109 -56.08203,0.10547 c -7.33106,0.0142 -11.54444,-4.20898 -11.5166,-11.43115 l 48.84033,0 c 10.55029,0 18.7583,-8.59229 18.7583,-19.05176 l 0,-25.68359 -8.40381,0 0,18.0625 -13.88672,0 z\" style=\"fill:#006633;fill-opacity:0.7;fill-rule:nonzero;stroke:none\"/>\n  </g>\n</svg>",
      "text/plain": [
       "<IPython.core.display.SVG object>"
      ]
     },
     "metadata": {},
     "output_type": "display_data"
    }
   ],
   "source": [
    "%%svg\n",
    "\n",
    "<svg\n",
    "   xmlns:svg=\"http://www.w3.org/2000/svg\"\n",
    "   xmlns=\"http://www.w3.org/2000/svg\"\n",
    "   version=\"1.1\"\n",
    "   width=\"744.09003\"\n",
    "   height=\"1052.3622\">\n",
    "  <g\n",
    "     transform=\"matrix(8.9893045,0,0,-8.9893045,-789.08414,4880.2518)\">\n",
    "    <path\n",
    "       d=\"m 144.81201,454.46436 0,-19.54541 -8.40381,0 0,19.54541 -13.88574,0 0,-21.02832 -8.40381,0 0,21.02832 -13.88672,0 0,-22.51123 -8.4038,0 0,30.13232 67.04394,0 c 0.0117,6.51318 -3.7041,11.43115 -10.52783,11.43115 l -56.08203,0 0,7.62061 c 0,10.45361 8.20215,19.07519 18.7583,19.05224 l 48.84033,-0.10547 c 0.0278,7.21192 -4.18799,11.45557 -11.5166,11.43116 l -56.08203,-0.1875 0,7.6206 c 0,10.46045 8.20996,19.05176 18.7583,19.05176 l 55.5542,0 0,-7.62061 -55.5542,0 c -7.82959,0 -10.36475,-4.56347 -11.36963,-11.33984 l 48.69336,0.0962 c 10.5581,0.021 18.7583,-8.59814 18.7583,-19.05176 l 0,-7.62109 -56.08203,0.10547 c -7.33106,0.0142 -11.54444,-4.20898 -11.5166,-11.43115 l 48.84033,0 c 10.55029,0 18.7583,-8.59229 18.7583,-19.05176 l 0,-25.68359 -8.40381,0 0,18.0625 -13.88672,0 z\"\n",
    "       style=\"fill:#006633;fill-opacity:0.7;fill-rule:nonzero;stroke:none\"\n",
    "       />\n",
    "  </g>\n",
    "</svg>\n"
   ]
  },
  {
   "cell_type": "markdown",
   "metadata": {},
   "source": [
    "### `%%html`\n",
    "\n",
    "The `%%html` and `%%javascript` magics remind us that the Jupyter notebook is a an application of HTML, CSS and JavaScript. These magics work as expected when the Jupyter notebook is running in the browser over the Jupyter server (invoked with the `jupyter notebook` command and sub-command). In Visual Studio Code, it may appear like little magic is happening in part because the `window` and `document` objects are customized/limited in the [Electron](https://www.electronjs.org/) IDE.\n",
    "\n",
    "Here are more caveats:\n",
    "\n",
    "- the use of `const` and `let` throw errors which implies an older version of JavaScript is in use\n",
    "- binding to `window` events with `window.addEventListener('DOMContentLoaded', function(){})` will not be useful in a notebook cell as these events would have already fired\n",
    "- CSS should select elements by ID to prevent styling the entire Jupyter notebook!\n"
   ]
  },
  {
   "cell_type": "code",
   "execution_count": 29,
   "metadata": {},
   "outputs": [
    {
     "data": {
      "text/html": [
       "\n",
       "<!DOCTYPE html>\n",
       "<html>\n",
       "\n",
       "<head>\n",
       "    <script>\n",
       "        var box = window.document.getElementById(\"MyBox\");\n",
       "        box.innerText = 'a box with stuff!';\n",
       "        console.log({box});\n",
       "    </script>\n",
       "    <style>\n",
       "        div#MyBox {\n",
       "            border: 2px solid red;\n",
       "            width: 128px;\n",
       "            height: 128px;\n",
       "            padding: 2em;\n",
       "        }\n",
       "    </style>\n",
       "</head>\n",
       "\n",
       "<body>\n",
       "    <div id=\"MyBox\">a box</div>\n",
       "</body>\n",
       "\n",
       "</html>\n"
      ],
      "text/plain": [
       "<IPython.core.display.HTML object>"
      ]
     },
     "metadata": {},
     "output_type": "display_data"
    }
   ],
   "source": [
    "%%html\n",
    "\n",
    "<!DOCTYPE html>\n",
    "<html>\n",
    "\n",
    "<head>\n",
    "    <script>\n",
    "        var box = window.document.getElementById(\"MyBox\");\n",
    "        box.innerText = 'a box with stuff!';\n",
    "        console.log({box});\n",
    "    </script>\n",
    "    <style>\n",
    "        div#MyBox {\n",
    "            border: 2px solid red;\n",
    "            width: 128px;\n",
    "            height: 128px;\n",
    "            padding: 2em;\n",
    "        }\n",
    "    </style>\n",
    "</head>\n",
    "\n",
    "<body>\n",
    "    <div id=\"MyBox\">a box</div>\n",
    "</body>\n",
    "\n",
    "</html>"
   ]
  },
  {
   "cell_type": "markdown",
   "metadata": {},
   "source": [
    "### `%%javascript`\n",
    "\n",
    "The `box` variable declared in the `%%html` magic above is in notebook scope and can be referenced in the `%%javascript` magic below:"
   ]
  },
  {
   "cell_type": "code",
   "execution_count": 9,
   "metadata": {},
   "outputs": [
    {
     "data": {
      "application/javascript": "\nbox.innerText = 'a box with more stuff!';\n\nconsole.log({box, notebook, self: this});\n",
      "text/plain": [
       "<IPython.core.display.Javascript object>"
      ]
     },
     "metadata": {},
     "output_type": "display_data"
    }
   ],
   "source": [
    "%%javascript\n",
    "\n",
    "box.innerText = 'a box with more stuff!';\n",
    "\n",
    "console.log({box, notebook, self: this});"
   ]
  },
  {
   "cell_type": "markdown",
   "metadata": {},
   "source": [
    "## determining the version of JavaScript\n",
    "\n",
    "Experimenting with “[How to check JavaScript version](https://howtocheckversion.com/how-to-check-javascript-version/),” we see that their trick is not working as expected in a Jupyter notebook:\n"
   ]
  },
  {
   "cell_type": "code",
   "execution_count": 30,
   "metadata": {},
   "outputs": [
    {
     "data": {
      "text/html": [
       "\n",
       "<!DOCTYPE html>\n",
       "<html>\n",
       "\n",
       "<head>\n",
       "    <script type=\"text/javascript\">\n",
       "        var version = 1.0;\n",
       "    </script>\n",
       "\n",
       "    <script language=\"Javascript1.1\"> version = 1.1; </script>\n",
       "    <script language=\"Javascript1.2\"> version = 1.2; </script>\n",
       "    <script language=\"Javascript1.3\"> version = 1.3; </script>\n",
       "    <script language=\"Javascript1.4\"> version = 1.4; </script>\n",
       "    <script language=\"Javascript1.5\"> version = 1.5; </script>\n",
       "    <script language=\"Javascript1.6\"> version = 1.6; </script>\n",
       "    <script language=\"Javascript1.7\"> version = 1.7; </script>\n",
       "    <script language=\"Javascript1.8\"> version = 1.8; </script>\n",
       "    <script language=\"Javascript1.9\"> version = 1.9; </script>\n",
       "    <script language=\"Javascript8.9\"> version = 8.9; </script>\n",
       "\n",
       "    <script type=\"text/javascript\">\n",
       "        var pre1 = window.document.getElementById(\"MyOutput1\");\n",
       "        pre1.innerText = 'version: ' + version\n",
       "    </script>\n",
       "</head>\n",
       "\n",
       "<body>\n",
       "    <pre id=\"MyOutput1\"></pre>\n",
       "</body>\n",
       "\n",
       "</html>\n"
      ],
      "text/plain": [
       "<IPython.core.display.HTML object>"
      ]
     },
     "metadata": {},
     "output_type": "display_data"
    }
   ],
   "source": [
    "%%html\n",
    "\n",
    "<!DOCTYPE html>\n",
    "<html>\n",
    "\n",
    "<head>\n",
    "    <script type=\"text/javascript\">\n",
    "        var version = 1.0;\n",
    "    </script>\n",
    "\n",
    "    <script language=\"Javascript1.1\"> version = 1.1; </script>\n",
    "    <script language=\"Javascript1.2\"> version = 1.2; </script>\n",
    "    <script language=\"Javascript1.3\"> version = 1.3; </script>\n",
    "    <script language=\"Javascript1.4\"> version = 1.4; </script>\n",
    "    <script language=\"Javascript1.5\"> version = 1.5; </script>\n",
    "    <script language=\"Javascript1.6\"> version = 1.6; </script>\n",
    "    <script language=\"Javascript1.7\"> version = 1.7; </script>\n",
    "    <script language=\"Javascript1.8\"> version = 1.8; </script>\n",
    "    <script language=\"Javascript1.9\"> version = 1.9; </script>\n",
    "    <script language=\"Javascript8.9\"> version = 8.9; </script>\n",
    "\n",
    "    <script type=\"text/javascript\">\n",
    "        var pre1 = window.document.getElementById(\"MyOutput1\");\n",
    "        pre1.innerText = 'version: ' + version\n",
    "    </script>\n",
    "</head>\n",
    "\n",
    "<body>\n",
    "    <pre id=\"MyOutput1\"></pre>\n",
    "</body>\n",
    "\n",
    "</html>"
   ]
  },
  {
   "cell_type": "markdown",
   "metadata": {},
   "source": [
    "My next move is to try feature-detection tricks:"
   ]
  },
  {
   "cell_type": "code",
   "execution_count": 31,
   "metadata": {},
   "outputs": [
    {
     "data": {
      "text/html": [
       "\n",
       "<!DOCTYPE html>\n",
       "<html>\n",
       "\n",
       "<head>\n",
       "    <script type=\"text/javascript\">\n",
       "        var pre2 = window.document.getElementById(\"MyOutput2\");\n",
       "        var pre3 = window.document.getElementById(\"MyOutput3\");\n",
       "        var pre4 = window.document.getElementById(\"MyOutput4\");\n",
       "        var pre5 = window.document.getElementById(\"MyOutput5\");\n",
       "    </script>\n",
       "</head>\n",
       "\n",
       "<body>\n",
       "    <pre id=\"MyOutput2\"></pre>\n",
       "    <pre id=\"MyOutput3\"></pre>\n",
       "    <pre id=\"MyOutput4\"></pre>\n",
       "    <pre id=\"MyOutput5\"></pre>\n",
       "</body>\n",
       "\n",
       "</html>\n"
      ],
      "text/plain": [
       "<IPython.core.display.HTML object>"
      ]
     },
     "metadata": {},
     "output_type": "display_data"
    }
   ],
   "source": [
    "%%html\n",
    "\n",
    "<!DOCTYPE html>\n",
    "<html>\n",
    "\n",
    "<head>\n",
    "    <script type=\"text/javascript\">\n",
    "        var pre2 = window.document.getElementById(\"MyOutput2\");\n",
    "        var pre3 = window.document.getElementById(\"MyOutput3\");\n",
    "        var pre4 = window.document.getElementById(\"MyOutput4\");\n",
    "        var pre5 = window.document.getElementById(\"MyOutput5\");\n",
    "    </script>\n",
    "</head>\n",
    "\n",
    "<body>\n",
    "    <pre id=\"MyOutput2\"></pre>\n",
    "    <pre id=\"MyOutput3\"></pre>\n",
    "    <pre id=\"MyOutput4\"></pre>\n",
    "    <pre id=\"MyOutput5\"></pre>\n",
    "</body>\n",
    "\n",
    "</html>"
   ]
  },
  {
   "cell_type": "code",
   "execution_count": 32,
   "metadata": {},
   "outputs": [
    {
     "data": {
      "application/javascript": "\npre2.innerText = 'This should work.';\n",
      "text/plain": [
       "<IPython.core.display.Javascript object>"
      ]
     },
     "metadata": {},
     "output_type": "display_data"
    }
   ],
   "source": [
    "%%javascript\n",
    "\n",
    "pre2.innerText = 'This should work.';"
   ]
  },
  {
   "cell_type": "code",
   "execution_count": 33,
   "metadata": {},
   "outputs": [
    {
     "data": {
      "application/javascript": "\nvar myFunc = () => 'might not';\n\npre3.innerText = `This ${myFunc()} work.`;\n",
      "text/plain": [
       "<IPython.core.display.Javascript object>"
      ]
     },
     "metadata": {},
     "output_type": "display_data"
    }
   ],
   "source": [
    "%%javascript\n",
    "\n",
    "var myFunc = () => 'might not';\n",
    "\n",
    "pre3.innerText = `This ${myFunc()} work.`;"
   ]
  },
  {
   "cell_type": "code",
   "execution_count": 34,
   "metadata": {},
   "outputs": [
    {
     "data": {
      "application/javascript": "\nlet s = 'i guess Jupyter simply does not like `let` and `const`?';\npre4.innerText = s;\n",
      "text/plain": [
       "<IPython.core.display.Javascript object>"
      ]
     },
     "metadata": {},
     "output_type": "display_data"
    }
   ],
   "source": [
    "%%javascript\n",
    "\n",
    "let s = 'i guess Jupyter simply does not like `let` and `const`?';\n",
    "pre4.innerText = s;"
   ]
  },
  {
   "cell_type": "code",
   "execution_count": 35,
   "metadata": {},
   "outputs": [
    {
     "data": {
      "application/javascript": "\nconst s2 = 'i guess i am wrong?';\npre5.innerText = s2;\n",
      "text/plain": [
       "<IPython.core.display.Javascript object>"
      ]
     },
     "metadata": {},
     "output_type": "display_data"
    }
   ],
   "source": [
    "%%javascript\n",
    "\n",
    "const s2 = 'i guess i am wrong?';\n",
    "pre5.innerText = s2;"
   ]
  },
  {
   "cell_type": "markdown",
   "metadata": {},
   "source": [
    "\n",
    "Jupyter server and the Insiders build of Visual Studio Code shows the `pre` output above.\n",
    "\n",
    "The lack of `let` and `const` support lie solely in the `%%html` magic.\n"
   ]
  },
  {
   "cell_type": "markdown",
   "metadata": {},
   "source": [
    "### the JavaScript `element` object\n",
    "\n",
    "The Jupyter notebook `%%javascript` magic has a conventional `element` object which represents the Jupyter output cell (HTML element) that is actually wrapped by jQuery:\n"
   ]
  },
  {
   "cell_type": "code",
   "execution_count": 36,
   "metadata": {},
   "outputs": [
    {
     "data": {
      "application/javascript": "\nconsole.log({element});\n\nelement.text(element.jquery);\n",
      "text/plain": [
       "<IPython.core.display.Javascript object>"
      ]
     },
     "metadata": {},
     "output_type": "display_data"
    }
   ],
   "source": [
    "%%javascript\n",
    "\n",
    "console.log({element});\n",
    "\n",
    "element.text(element.jquery);"
   ]
  },
  {
   "cell_type": "markdown",
   "metadata": {},
   "source": [
    "`element` is a property of the Cell object [[GitHub](https://github.com/jupyter/notebook/blob/master/notebook/static/notebook/js/cell.js#L112)] and is introduced (to me) via [a StackOverflow answer](https://stackoverflow.com/a/42790911).\n",
    "\n",
    "Again, sadly, as of this writing, `element` does not work as expected in Visual Studio Code.\n"
   ]
  },
  {
   "cell_type": "markdown",
   "metadata": {},
   "source": [
    "\n",
    "@[BryanWilhite](https://twitter.com/BryanWilhite)\n",
    "\n"
   ]
  }
 ],
 "metadata": {
  "kernelspec": {
   "display_name": "Python 3.7.13 ('base')",
   "language": "python",
   "name": "python3"
  },
  "language_info": {
   "codemirror_mode": {
    "name": "ipython",
    "version": 3
   },
   "file_extension": ".py",
   "mimetype": "text/x-python",
   "name": "python",
   "nbconvert_exporter": "python",
   "pygments_lexer": "ipython3",
   "version": "3.7.13"
  },
  "vscode": {
   "interpreter": {
    "hash": "2248ed64bdf5fe1d2cc35d4639eff9d9517212412e82087913ac56aa4ab59c78"
   }
  }
 },
 "nbformat": 4,
 "nbformat_minor": 2
}
