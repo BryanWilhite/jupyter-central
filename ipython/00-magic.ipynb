{
 "metadata": {
  "language_info": {
   "codemirror_mode": {
    "name": "ipython",
    "version": 3
   },
   "file_extension": ".py",
   "mimetype": "text/x-python",
   "name": "python",
   "nbconvert_exporter": "python",
   "pygments_lexer": "ipython3",
   "version": "3.7.6-final"
  },
  "orig_nbformat": 2,
  "kernelspec": {
   "name": "python_defaultSpec_1599520697644",
   "display_name": "Python 3.7.6 64-bit (conda)"
  }
 },
 "nbformat": 4,
 "nbformat_minor": 2,
 "cells": [
  {
   "cell_type": "markdown",
   "metadata": {},
   "source": [
    "# IPython is _Interactive_ Python\n",
    "\n",
    "When one approaches `IPython` [📖 [docs](https://ipython.readthedocs.io)] from [Jupyter](https://jupyter.org/) notebooks it is easy to assume that it was developed for the notebook experience. In fact, `IPython` is an interactive shell with a Jupyter kernel.\n",
    "\n",
    "In the local scope of this notebook, we should see the `get_ipython()` method:"
   ]
  },
  {
   "cell_type": "code",
   "execution_count": 21,
   "metadata": {},
   "outputs": [
    {
     "output_type": "execute_result",
     "data": {
      "text/plain": "['In',\n 'Out',\n '_',\n '_1',\n '_12',\n '_3',\n '_4',\n '_5',\n '_6',\n '_8',\n '_9',\n '__',\n '___',\n '__builtin__',\n '__builtins__',\n '__doc__',\n '__loader__',\n '__name__',\n '__package__',\n '__spec__',\n '_dh',\n '_exit_code',\n '_i',\n '_i1',\n '_i10',\n '_i11',\n '_i12',\n '_i13',\n '_i14',\n '_i15',\n '_i16',\n '_i17',\n '_i18',\n '_i19',\n '_i2',\n '_i20',\n '_i21',\n '_i3',\n '_i4',\n '_i5',\n '_i6',\n '_i7',\n '_i8',\n '_i9',\n '_ih',\n '_ii',\n '_iii',\n '_oh',\n 'exit',\n 'get_ipython',\n 'os',\n 'quit',\n 'shell',\n 'sys']"
     },
     "metadata": {},
     "execution_count": 21
    }
   ],
   "source": [
    "dir()"
   ]
  },
  {
   "cell_type": "code",
   "execution_count": 22,
   "metadata": {
    "tags": []
   },
   "outputs": [
    {
     "output_type": "stream",
     "name": "stdout",
     "text": "Help on method get_ipython in module IPython.core.interactiveshell:\n\nget_ipython() method of ipykernel.zmqshell.ZMQInteractiveShell instance\n    Return the currently running IPython instance.\n\n"
    }
   ],
   "source": [
    "help(get_ipython)"
   ]
  },
  {
   "cell_type": "markdown",
   "metadata": {},
   "source": [
    "This method should return the `IPython` interactive shell. We can verify this:"
   ]
  },
  {
   "cell_type": "code",
   "execution_count": 23,
   "metadata": {
    "tags": []
   },
   "outputs": [
    {
     "output_type": "execute_result",
     "data": {
      "text/plain": "['Completer',\n 'CustomTB',\n 'InteractiveTB',\n 'SyntaxTB',\n '__class__',\n '__delattr__',\n '__dict__',\n '__dir__',\n '__doc__',\n '__eq__',\n '__format__',\n '__ge__',\n '__getattribute__',\n '__getstate__',\n '__gt__',\n '__hash__',\n '__init__',\n '__init_subclass__',\n '__le__',\n '__lt__',\n '__module__',\n '__ne__',\n '__new__',\n '__reduce__',\n '__reduce_ex__',\n '__repr__',\n '__setattr__',\n '__setstate__',\n '__sizeof__',\n '__str__',\n '__subclasshook__',\n '__weakref__',\n '_add_notifiers',\n '_async_exec',\n '_call_pdb',\n '_clear_warning_registry',\n '_config_changed',\n '_cross_validation_lock',\n '_data_pub',\n '_default_banner1',\n '_default_exiter',\n '_default_loop_runner',\n '_enable_html_pager_changed',\n '_exiter_default',\n '_find_my_config',\n '_format_user_obj',\n '_get_call_pdb',\n '_get_exc_info',\n '_getattr_property',\n '_import_runner',\n '_indent_current_str',\n '_inspect',\n '_instance',\n '_ipython_dir_changed',\n '_last_input_line',\n '_last_traceback',\n '_load_config',\n '_log_default',\n '_main_mod_cache',\n '_notify_trait',\n '_object_find',\n '_ofind',\n '_orig_sys_module_state',\n '_orig_sys_modules_main_mod',\n '_orig_sys_modules_main_name',\n '_post_execute',\n '_prompt_trait_changed',\n '_register_validator',\n '_remove_notifiers',\n '_run_cell',\n '_set_call_pdb',\n '_showtraceback',\n '_sphinxify_docstring_changed',\n '_trait_default_generators',\n '_trait_notifiers',\n '_trait_validators',\n '_trait_values',\n '_update_exit_now',\n '_user_obj_error',\n '_walk_mro',\n 'active_eventloop',\n 'add_traits',\n 'alias_manager',\n 'all_ns_refs',\n 'ask_exit',\n 'ask_yes_no',\n 'ast_node_interactivity',\n 'ast_transformers',\n 'atexit_operations',\n 'auto_rewrite_input',\n 'autoawait',\n 'autocall',\n 'autoindent',\n 'automagic',\n 'banner',\n 'banner1',\n 'banner2',\n 'builtin_trap',\n 'cache_size',\n 'call_pdb',\n 'check_complete',\n 'class_config_rst_doc',\n 'class_config_section',\n 'class_get_help',\n 'class_get_trait_help',\n 'class_own_trait_events',\n 'class_own_traits',\n 'class_print_help',\n 'class_trait_names',\n 'class_traits',\n 'cleanup',\n 'clear_instance',\n 'clear_main_mod_cache',\n 'color_info',\n 'colors',\n 'compile',\n 'complete',\n 'config',\n 'configurables',\n 'cross_validation_lock',\n 'custom_exceptions',\n 'data_pub',\n 'data_pub_class',\n 'db',\n 'debug',\n 'debugger',\n 'debugger_cls',\n 'default_user_namespaces',\n 'define_macro',\n 'del_var',\n 'dir_stack',\n 'disable_failing_post_execute',\n 'display_formatter',\n 'display_page',\n 'display_pub',\n 'display_pub_class',\n 'display_trap',\n 'displayhook',\n 'displayhook_class',\n 'drop_by_id',\n 'enable_gui',\n 'enable_html_pager',\n 'enable_matplotlib',\n 'enable_pylab',\n 'ev',\n 'events',\n 'ex',\n 'excepthook',\n 'execution_count',\n 'exit_now',\n 'exiter',\n 'extension_manager',\n 'extract_input_lines',\n 'filename',\n 'find_cell_magic',\n 'find_line_magic',\n 'find_magic',\n 'find_user_code',\n 'get_exception_only',\n 'get_ipython',\n 'get_parent',\n 'getoutput',\n 'has_trait',\n 'history_length',\n 'history_load_length',\n 'history_manager',\n 'hold_trait_notifications',\n 'home_dir',\n 'hooks',\n 'indent_current_nsp',\n 'init_alias',\n 'init_builtins',\n 'init_completer',\n 'init_create_namespaces',\n 'init_data_pub',\n 'init_deprecation_warnings',\n 'init_display_formatter',\n 'init_display_pub',\n 'init_displayhook',\n 'init_encoding',\n 'init_environment',\n 'init_events',\n 'init_extension_manager',\n 'init_history',\n 'init_hooks',\n 'init_inspector',\n 'init_instance_attrs',\n 'init_io',\n 'init_ipython_dir',\n 'init_logger',\n 'init_logstart',\n 'init_magics',\n 'init_payload',\n 'init_pdb',\n 'init_prefilter',\n 'init_profile_dir',\n 'init_prompts',\n 'init_pushd_popd_magic',\n 'init_readline',\n 'init_syntax_highlighting',\n 'init_sys_modules',\n 'init_traceback_handlers',\n 'init_user_ns',\n 'init_virtualenv',\n 'initialized',\n 'input_splitter',\n 'input_transformer_manager',\n 'input_transformers_cleanup',\n 'input_transformers_post',\n 'inspector',\n 'instance',\n 'ipython_dir',\n 'keepkernel_on_exit',\n 'kernel',\n 'last_execution_result',\n 'last_execution_succeeded',\n 'log',\n 'logappend',\n 'logfile',\n 'logger',\n 'logstart',\n 'loop_runner',\n 'loop_runner_map',\n 'magic',\n 'magics_manager',\n 'meta',\n 'mktempfile',\n 'more',\n 'new_main_mod',\n 'notify_change',\n 'ns_table',\n 'object_info_string_level',\n 'object_inspect',\n 'object_inspect_mime',\n 'object_inspect_text',\n 'observe',\n 'on_trait_change',\n 'parent',\n 'parent_header',\n 'payload_manager',\n 'pdb',\n 'prefilter',\n 'prefilter_manager',\n 'prepare_user_module',\n 'profile',\n 'profile_dir',\n 'prompt_in1',\n 'prompt_in2',\n 'prompt_out',\n 'prompts_pad_left',\n 'push',\n 'pycolorize',\n 'pylab_gui_select',\n 'quiet',\n 'raw_input_original',\n 'readline_use',\n 'refresh_style',\n 'register_magic_function',\n 'register_magics',\n 'register_post_execute',\n 'reset',\n 'reset_selective',\n 'restore_sys_module_state',\n 'run_ast_nodes',\n 'run_cell',\n 'run_cell_async',\n 'run_cell_magic',\n 'run_code',\n 'run_line_magic',\n 'runcode',\n 'safe_execfile',\n 'safe_execfile_ipy',\n 'safe_run_module',\n 'save_sys_module_state',\n 'section_names',\n 'separate_in',\n 'separate_out',\n 'separate_out2',\n 'set_autoindent',\n 'set_completer_frame',\n 'set_custom_completer',\n 'set_custom_exc',\n 'set_hook',\n 'set_next_input',\n 'set_parent',\n 'set_trait',\n 'set_trio_runner',\n 'setup_instance',\n 'should_run_async',\n 'show_banner',\n 'show_rewritten_input',\n 'show_usage',\n 'show_usage_error',\n 'showindentationerror',\n 'showsyntaxerror',\n 'showtraceback',\n 'sphinxify_docstring',\n 'starting_dir',\n 'stdin_encoding',\n 'strdispatchers',\n 'switch_doctest_mode',\n 'sys_excepthook',\n 'system',\n 'system_piped',\n 'system_raw',\n 'tempdirs',\n 'tempfiles',\n 'trait_events',\n 'trait_metadata',\n 'trait_names',\n 'traits',\n 'transform_ast',\n 'transform_cell',\n 'trio_runner',\n 'unobserve',\n 'unobserve_all',\n 'update_config',\n 'user_expressions',\n 'user_global_ns',\n 'user_module',\n 'user_ns',\n 'user_ns_hidden',\n 'var_expand',\n 'wildcards_case_sensitive',\n 'write',\n 'write_err',\n 'xmode']"
     },
     "metadata": {},
     "execution_count": 23
    }
   ],
   "source": [
    "shell = get_ipython()\n",
    "dir(shell)"
   ]
  },
  {
   "cell_type": "code",
   "execution_count": 24,
   "metadata": {},
   "outputs": [
    {
     "output_type": "execute_result",
     "data": {
      "text/plain": "ipykernel.zmqshell.ZMQInteractiveShell"
     },
     "metadata": {},
     "execution_count": 24
    }
   ],
   "source": [
    "type(shell)"
   ]
  },
  {
   "cell_type": "markdown",
   "metadata": {},
   "source": [
    "## `IPython` Shell Magic\n",
    "\n",
    "Experienced Jupyter notebook users interact with `IPython` through its “magic.” We can see in the documentation for the `.magic()` method that it is the equivalent of using that `%` syntax:  "
   ]
  },
  {
   "cell_type": "code",
   "execution_count": 25,
   "metadata": {
    "tags": []
   },
   "outputs": [
    {
     "output_type": "stream",
     "name": "stdout",
     "text": "Help on method magic in module IPython.core.interactiveshell:\n\nmagic(arg_s) method of ipykernel.zmqshell.ZMQInteractiveShell instance\n    DEPRECATED. Use run_line_magic() instead.\n    \n    Call a magic function by name.\n    \n    Input: a string containing the name of the magic function to call and\n    any additional arguments to be passed to the magic.\n    \n    magic('name -opt foo bar') is equivalent to typing at the ipython\n    prompt:\n    \n    In[1]: %name -opt foo bar\n    \n    To call a magic without arguments, simply use magic('name').\n    \n    This provides a proper Python function to call IPython's magics in any\n    valid Python code you can type at the interpreter, including loops and\n    compound statements.\n\n"
    }
   ],
   "source": [
    "help(shell.magic)"
   ]
  },
  {
   "cell_type": "markdown",
   "metadata": {},
   "source": [
    "The use of `%` to call Magics is language specific. The [documentation](https://ipython.readthedocs.io/en/stable/interactive/magics.html#built-in-magic-commands) explains:\n",
    "\n",
    ">Magics are specific to and provided by the IPython kernel. Whether Magics are available on a kernel is a decision that is made by the kernel developer on a per-kernel basis. To work properly, Magics must use a syntax element which is not valid in the underlying language. For example, the IPython kernel uses the `%` syntax element for Magics as `%` is not a valid unary operator in Python. However, `%` might have meaning in other languages.\n",
    "\n",
    "Because Magics are so kernel dependent, a very important Magics command (that should be everywhere) is the `%magic` command [📖 [docs](https://ipython.readthedocs.io/en/stable/interactive/magics.html#magic-magic)]:"
   ]
  },
  {
   "cell_type": "code",
   "execution_count": 26,
   "metadata": {
    "tags": []
   },
   "outputs": [
    {
     "output_type": "stream",
     "text": "\nIPython's 'magic' functions\n===========================\n\nThe magic function system provides a series of functions which allow you to\ncontrol the behavior of IPython itself, plus a lot of system-type\nfeatures. There are two kinds of magics, line-oriented and cell-oriented.\n\nLine magics are prefixed with the % character and work much like OS\ncommand-line calls: they get as an argument the rest of the line, where\narguments are passed without parentheses or quotes.  For example, this will\ntime the given statement::\n\n        %timeit range(1000)\n\nCell magics are prefixed with a double %%, and they are functions that get as\nan argument not only the rest of the line, but also the lines below it in a\nseparate argument.  These magics are called with two arguments: the rest of the\ncall line and the body of the cell, consisting of the lines below the first.\nFor example::\n\n        %%timeit x = numpy.random.randn((100, 100))\n        numpy.linalg.svd(x)\n\nwill time the execution of the numpy svd routine, running the assignment of x\nas part of the setup phase, which is not timed.\n\nIn a line-oriented client (the terminal or Qt console IPython), starting a new\ninput with %% will automatically enter cell mode, and IPython will continue\nreading input until a blank line is given.  In the notebook, simply type the\nwhole cell as one entity, but keep in mind that the %% escape can only be at\nthe very start of the cell.\n\nNOTE: If you have 'automagic' enabled (via the command line option or with the\n%automagic function), you don't need to type in the % explicitly for line\nmagics; cell magics always require an explicit '%%' escape.  By default,\nIPython ships with automagic on, so you should only rarely need the % escape.\n\nExample: typing '%cd mydir' (without the quotes) changes your working directory\nto 'mydir', if it exists.\n\nFor a list of the available magic functions, use %lsmagic. For a description\nof any of them, type %magic_name?, e.g. '%cd?'.\n\nCurrently the magic system has the following functions:\n%alias:\n    Define an alias for a system command.\n%alias_magic:\n    ::\n%autoawait:\n    \n%autocall:\n    Make functions callable without having to type parentheses.\n%automagic:\n    Make magic functions callable without having to type the initial %.\n%autosave:\n    Set the autosave interval in the notebook (in seconds).\n%bookmark:\n    Manage IPython's bookmark system.\n%cd:\n    Change the current working directory.\n%clear:\n    Clear the terminal.\n%cls:\n    Clear the terminal.\n%colors:\n    Switch color scheme for prompts, info system and exception handlers.\n%conda:\n    Run the conda package manager within the current kernel.\n%config:\n    configure IPython\n%connect_info:\n    Print information for connecting other clients to this kernel\n%copy:\n    Alias for `!copy`\n%ddir:\n    Alias for `!dir /ad /on`\n%debug:\n    ::\n%dhist:\n    Print your history of visited directories.\n%dirs:\n    Return the current directory stack.\n%doctest_mode:\n    Toggle doctest mode on and off.\n%echo:\n    Alias for `!echo`\n%ed:\n    Alias for `%edit`.\n%edit:\n    Bring up an editor and execute the resulting code.\n%env:\n    Get, set, or list environment variables.\n%gui:\n    Enable or disable IPython GUI event loop integration.\n%hist:\n    Alias for `%history`.\n%history:\n    ::\n%killbgscripts:\n    Kill all BG processes started by %%script and its family.\n%ldir:\n    Alias for `!dir /ad /on`\n%less:\n    Show a file through the pager.\n%load:\n    Load code into the current frontend.\n%load_ext:\n    Load an IPython extension by its module name.\n%loadpy:\n    Alias of `%load`\n%logoff:\n    Temporarily stop logging.\n%logon:\n    Restart logging.\n%logstart:\n    Start logging anywhere in a session.\n%logstate:\n    Print the status of the logging system.\n%logstop:\n    Fully stop logging and close log file.\n%ls:\n    Alias for `!dir /on`\n%lsmagic:\n    List currently available magic functions.\n%macro:\n    Define a macro for future re-execution. It accepts ranges of history,\n%magic:\n    Print information about the magic function system.\n%matplotlib:\n    ::\n%mkdir:\n    Alias for `!mkdir`\n%more:\n    Show a file through the pager.\n%notebook:\n    ::\n%page:\n    Pretty print the object and display it through a pager.\n%pastebin:\n    Upload code to dpaste's paste bin, returning the URL.\n%pdb:\n    Control the automatic calling of the pdb interactive debugger.\n%pdef:\n    Print the call signature for any callable object.\n%pdoc:\n    Print the docstring for an object.\n%pfile:\n    Print (or run through pager) the file where an object is defined.\n%pinfo:\n    Provide detailed information about an object.\n%pinfo2:\n    Provide extra detailed information about an object.\n%pip:\n    Run the pip package manager within the current kernel.\n%popd:\n    Change to directory popped off the top of the stack.\n%pprint:\n    Toggle pretty printing on/off.\n%precision:\n    Set floating point precision for pretty printing.\n%prun:\n    Run a statement through the python code profiler.\n%psearch:\n    Search for object in namespaces by wildcard.\n%psource:\n    Print (or run through pager) the source code for an object.\n%pushd:\n    Place the current dir on stack and change directory.\n%pwd:\n    Return the current working directory path.\n%pycat:\n    Show a syntax-highlighted file through a pager.\n%pylab:\n    ::\n%qtconsole:\n    Open a qtconsole connected to this kernel.\n%quickref:\n    Show a quick reference sheet \n%recall:\n    Repeat a command, or get command to input line for editing.\n%rehashx:\n    Update the alias table with all executable files in $PATH.\n%reload_ext:\n    Reload an IPython extension by its module name.\n%ren:\n    Alias for `!ren`\n%rep:\n    Alias for `%recall`.\n%rerun:\n    Re-run previous input\n%reset:\n    Resets the namespace by removing all names defined by the user, if\n%reset_selective:\n    Resets the namespace by removing names defined by the user.\n%rmdir:\n    Alias for `!rmdir`\n%run:\n    Run the named file inside IPython as a program.\n%save:\n    Save a set of lines or a macro to a given filename.\n%sc:\n    Shell capture - run shell command and capture output (DEPRECATED use !).\n%set_env:\n    Set environment variables.  Assumptions are that either \"val\" is a\n%store:\n    Lightweight persistence for python variables.\n%sx:\n    Shell execute - run shell command and capture output (!! is short-hand).\n%system:\n    Shell execute - run shell command and capture output (!! is short-hand).\n%tb:\n    Print the last traceback.\n%time:\n    Time execution of a Python statement or expression.\n%timeit:\n    Time execution of a Python statement or expression\n%unalias:\n    Remove an alias\n%unload_ext:\n    Unload an IPython extension by its module name.\n%who:\n    Print all interactive variables, with some minimal formatting.\n%who_ls:\n    Return a sorted list of all interactive variables.\n%whos:\n    Like %who, but gives some extra information about each variable.\n%xdel:\n    Delete a variable, trying to clear it from anywhere that\n%xmode:\n    Switch modes for the exception handlers.\n%%!:\n    Shell execute - run shell command and capture output (!! is short-hand).\n%%HTML:\n    Alias for `%%html`.\n%%SVG:\n    Alias for `%%svg`.\n%%bash:\n    %%bash script magic\n%%capture:\n    ::\n%%cmd:\n    %%cmd script magic\n%%debug:\n    ::\n%%file:\n    Alias for `%%writefile`.\n%%html:\n    ::\n%%javascript:\n    Run the cell block of Javascript code\n%%js:\n    Run the cell block of Javascript code\n%%latex:\n    Render the cell as a block of latex\n%%markdown:\n    Render the cell as Markdown text block\n%%perl:\n    %%perl script magic\n%%prun:\n    Run a statement through the python code profiler.\n%%pypy:\n    %%pypy script magic\n%%python:\n    %%python script magic\n%%python2:\n    %%python2 script magic\n%%python3:\n    %%python3 script magic\n%%ruby:\n    %%ruby script magic\n%%script:\n    ::\n%%sh:\n    %%sh script magic\n%%svg:\n    Render the cell as an SVG literal\n%%sx:\n    Shell execute - run shell command and capture output (!! is short-hand).\n%%system:\n    Shell execute - run shell command and capture output (!! is short-hand).\n%%time:\n    Time execution of a Python statement or expression.\n%%timeit:\n    Time execution of a Python statement or expression\n%%writefile:\n    ::\n\nSummary of magic functions (from %lsmagic):\nAvailable line magics:\n%alias  %alias_magic  %autoawait  %autocall  %automagic  %autosave  %bookmark  %cd  %clear  %cls  %colors  %conda  %config  %connect_info  %copy  %ddir  %debug  %dhist  %dirs  %doctest_mode  %echo  %ed  %edit  %env  %gui  %hist  %history  %killbgscripts  %ldir  %less  %load  %load_ext  %loadpy  %logoff  %logon  %logstart  %logstate  %logstop  %ls  %lsmagic  %macro  %magic  %matplotlib  %mkdir  %more  %notebook  %page  %pastebin  %pdb  %pdef  %pdoc  %pfile  %pinfo  %pinfo2  %pip  %popd  %pprint  %precision  %prun  %psearch  %psource  %pushd  %pwd  %pycat  %pylab  %qtconsole  %quickref  %recall  %rehashx  %reload_ext  %ren  %rep  %rerun  %reset  %reset_selective  %rmdir  %run  %save  %sc  %set_env  %store  %sx  %system  %tb  %time  %timeit  %unalias  %unload_ext  %who  %who_ls  %whos  %xdel  %xmode\n\nAvailable cell magics:\n%%!  %%HTML  %%SVG  %%bash  %%capture  %%cmd  %%debug  %%file  %%html  %%javascript  %%js  %%latex  %%markdown  %%perl  %%prun  %%pypy  %%python  %%python2  %%python3  %%ruby  %%script  %%sh  %%svg  %%sx  %%system  %%time  %%timeit  %%writefile\n\nAutomagic is ON, % prefix IS NOT needed for line magics."
    }
   ],
   "source": [
    "%magic -brief"
   ]
  }
 ]
}