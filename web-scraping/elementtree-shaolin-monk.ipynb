{
 "cells": [
  {
   "cell_type": "markdown",
   "metadata": {},
   "source": [
    "# Shaolin Monk (1976)\n",
    "\n",
    "<https://www.imdb.com/title/tt0188784/>\n"
   ]
  },
  {
   "cell_type": "code",
   "execution_count": 1,
   "metadata": {},
   "outputs": [
    {
     "name": "stderr",
     "output_type": "stream",
     "text": [
      "<ipython-input-1-89115c5dc3e5>:1: DeprecationWarning: Importing display from IPython.core.display is deprecated since IPython 7.14, please import from IPython display\n",
      "  from IPython.core.display import display, HTML\n"
     ]
    }
   ],
   "source": [
    "from IPython.core.display import display, HTML\n",
    "\n",
    "import songhay.utilities.elementtree as ET"
   ]
  },
  {
   "cell_type": "markdown",
   "metadata": {},
   "source": [
    "## generating `movie` data\n"
   ]
  },
  {
   "cell_type": "code",
   "execution_count": 2,
   "metadata": {},
   "outputs": [],
   "source": [
    "movie_data = dict(\n",
    "    uniqueids=[\n",
    "        {\n",
    "            'type': 'imdb',\n",
    "            'uniqueid': 'tt0111495'\n",
    "        },\n",
    "    ],\n",
    "    title='Shaolin Monk',\n",
    "    plot='A female martial-arts fighter goes up against an evil Shao-Lin priest who has aligned himself with the Devil.',\n",
    "    genre='drama',\n",
    "    country='Hong Kong',\n",
    "    director='Lin Fu Ti',\n",
    "    year='1976',\n",
    "    actors=[{\n",
    "        'name': 'Chen Hsing',\n",
    "        'role': 'Priest Tamo',\n",
    "        'src': 'https://www.themoviedb.org/t/p/w180_and_h180_face/ipHYxKTAa1VM8DBGZlRTVoUbWJx.jpg'\n",
    "    },\n",
    "    {\n",
    "        'name': 'Chia Ning',\n",
    "        'role': '',\n",
    "        'src': 'https://www.themoviedb.org/t/p/w180_and_h180_face/7y29876NTjgE24hSVqrsROCETPv.jpg'\n",
    "    },\n",
    "    {\n",
    "        'name': 'Wen Chiang Lung',\n",
    "        'role': '',\n",
    "        'src': 'https://www.themoviedb.org/t/p/w180_and_h180_face/4sJQv3I6VUcoRs4kV35QB5fw6hQ.jpg'\n",
    "    }]\n",
    ")\n",
    "\n",
    "ET.getMovieXmlTree(movie_data).write(\n",
    "    f'./elementtree-shaolin-monk/{movie_data[\"title\"].replace(\":\", \" -\")} ({movie_data[\"year\"]}).nfo',\n",
    "    encoding='utf-8',\n",
    "    xml_declaration=True)"
   ]
  }
 ],
 "metadata": {
  "kernelspec": {
   "display_name": "base",
   "language": "python",
   "name": "python3"
  },
  "language_info": {
   "codemirror_mode": {
    "name": "ipython",
    "version": 3
   },
   "file_extension": ".py",
   "mimetype": "text/x-python",
   "name": "python",
   "nbconvert_exporter": "python",
   "pygments_lexer": "ipython3",
   "version": "3.8.13"
  },
  "orig_nbformat": 4,
  "polyglot_notebook": {
   "kernelInfo": {
    "defaultKernelName": "csharp",
    "items": [
     {
      "aliases": [],
      "name": "csharp"
     }
    ]
   }
  }
 },
 "nbformat": 4,
 "nbformat_minor": 2
}
