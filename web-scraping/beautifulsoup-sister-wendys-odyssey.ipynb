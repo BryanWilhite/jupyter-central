{
 "cells": [
  {
   "cell_type": "markdown",
   "metadata": {},
   "source": [
    "# Sister Wendy’s Odyssey (1992)\n",
    "\n",
    "<https://thetvdb.com/series/sister-wendys-odyssey>\n"
   ]
  },
  {
   "cell_type": "markdown",
   "metadata": {},
   "source": [
    "These notes preserve my memories of auto-generating [Kodi](https://kodi.tv/) [[GitHub](https://github.com/xbmc)] `tvshow` and `episodedetails` XML files in `*.nfo` formats.\n",
    "\n",
    "This `*.nfo` format is kind of covered in the following documents:\n",
    "\n",
    "- [NFO files](https://kodi.wiki/view/NFO_files)\n",
    "- [NFO files/TV shows](https://kodi.wiki/view/NFO_files/TV_shows)\n",
    "- [NFO files/Episodes](https://kodi.wiki/view/NFO_files/Episodes)\n"
   ]
  },
  {
   "cell_type": "code",
   "execution_count": 1,
   "metadata": {},
   "outputs": [],
   "source": [
    "from IPython.core.display import display, HTML\n",
    "\n",
    "import songhay.utilities.elementtree as ET\n",
    "import songhay.utilities.soup as bs\n",
    "\n",
    "import songhay.soup.thetvdb.series as series"
   ]
  },
  {
   "cell_type": "markdown",
   "metadata": {},
   "source": [
    "## generating `tvshow` data\n"
   ]
  },
  {
   "cell_type": "code",
   "execution_count": 2,
   "metadata": {},
   "outputs": [],
   "source": [
    "series_location = 'https://thetvdb.com/series/sister-wendys-odyssey'\n",
    "series_soup = bs.getSoup(series_location)\n",
    "\n",
    "series_basic_info = dict(series.yieldSeriesBasicInfo(series_soup))\n",
    "\n",
    "series_data = dict(\n",
    "    uniqueids=[\n",
    "        {\n",
    "            'type': 'tvdb',\n",
    "            'uniqueid': 'series/sister-wendys-odyssey'\n",
    "        },\n",
    "        {\n",
    "            'type': 'imdb',\n",
    "            'uniqueid': 'tt0262989'\n",
    "        },\n",
    "    ],\n",
    "    title=series.getSeriesTitle(series_soup),\n",
    "    plot=series.getSeriesPlot(series_soup),\n",
    "    thumbs=[\n",
    "        {\n",
    "            'aspect': 'poster',\n",
    "            'dim': None,\n",
    "            'season': None, # maps to the top-level movie poster\n",
    "            'src': 'https://artworks.thetvdb.com/banners/posters/187841-1.jpg'\n",
    "        },\n",
    "    ],\n",
    "    genres=series_basic_info['Genres'],\n",
    "    actors=[\n",
    "        {\n",
    "            'name': 'Sister Wendy Beckett',\n",
    "            'role': 'herself',\n",
    "            'src': 'https://upload.wikimedia.org/wikipedia/commons/thumb/c/cb/Portrait_of_Sister_Wendy_Beckett.jpg/800px-Portrait_of_Sister_Wendy_Beckett.jpg'\n",
    "        }\n",
    "    ]\n",
    ")\n",
    "\n",
    "ET.getTVShowXmlTree(series_data).write(\n",
    "    './beautifulsoup-sister-wendys-odyssey/tvshow.nfo',\n",
    "    encoding='utf-8',\n",
    "    xml_declaration=True)"
   ]
  },
  {
   "cell_type": "markdown",
   "metadata": {},
   "source": [
    "## generating `episodedetails` data\n"
   ]
  },
  {
   "cell_type": "code",
   "execution_count": 3,
   "metadata": {},
   "outputs": [
    {
     "data": {
      "text/html": [
       "<table class=\"table table-bordered\">\n",
       "<thead>\n",
       "<tr>\n",
       "<th width=\"15%\"></th>\n",
       "<th>Name</th>\n",
       "<th width=\"30%\">First Aired</th>\n",
       "<th width=\"15%\">Runtime</th>\n",
       "<th width=\"10%\">Image</th>\n",
       "</tr>\n",
       "</thead>\n",
       "<tbody>\n",
       "<tr>\n",
       "<td>S01E01</td>\n",
       "<td>\n",
       "<a href=\"/series/sister-wendys-odyssey/episodes/4188159\">\r\n",
       "                                    Liverpool\r\n",
       "                                </a>\n",
       "</td>\n",
       "<td>\n",
       "<div>November 20, 1992</div>\n",
       "<div>BBC One</div>\n",
       "</td>\n",
       "<td>\r\n",
       "                                                                    10\r\n",
       "                                                            </td>\n",
       "<td>\n",
       "<i aria-hidden=\"true\" class=\"fa fa-picture-o\"></i>\n",
       "</td>\n",
       "</tr>\n",
       "<tr>\n",
       "<td>S01E02</td>\n",
       "<td>\n",
       "<a href=\"/series/sister-wendys-odyssey/episodes/4188160\">\r\n",
       "                                    Cambridge\r\n",
       "                                </a>\n",
       "</td>\n",
       "<td>\n",
       "<div>November 27, 1992</div>\n",
       "<div>BBC One</div>\n",
       "</td>\n",
       "<td>\r\n",
       "                                                                    10\r\n",
       "                                                            </td>\n",
       "<td>\n",
       "<i aria-hidden=\"true\" class=\"fa fa-picture-o\"></i>\n",
       "</td>\n",
       "</tr>\n",
       "<tr>\n",
       "<td>S01E03</td>\n",
       "<td>\n",
       "<a href=\"/series/sister-wendys-odyssey/episodes/4188161\">\r\n",
       "                                    Oxford\r\n",
       "                                </a>\n",
       "</td>\n",
       "<td>\n",
       "<div>December 4, 1992</div>\n",
       "<div>BBC One</div>\n",
       "</td>\n",
       "<td>\r\n",
       "                                                                    10\r\n",
       "                                                            </td>\n",
       "<td>\n",
       "<i aria-hidden=\"true\" class=\"fa fa-picture-o\"></i>\n",
       "</td>\n",
       "</tr>\n",
       "<tr>\n",
       "<td>S01E04</td>\n",
       "<td>\n",
       "<a href=\"/series/sister-wendys-odyssey/episodes/4188162\">\r\n",
       "                                    Salisbury\r\n",
       "                                </a>\n",
       "</td>\n",
       "<td>\n",
       "<div>December 11, 1992</div>\n",
       "<div>BBC One</div>\n",
       "</td>\n",
       "<td>\r\n",
       "                                                                    10\r\n",
       "                                                            </td>\n",
       "<td>\n",
       "<i aria-hidden=\"true\" class=\"fa fa-picture-o\"></i>\n",
       "</td>\n",
       "</tr>\n",
       "<tr>\n",
       "<td>S01E05</td>\n",
       "<td>\n",
       "<a href=\"/series/sister-wendys-odyssey/episodes/4188163\">\r\n",
       "                                    Birmingham\r\n",
       "                                </a>\n",
       "</td>\n",
       "<td>\n",
       "<div>December 18, 1992</div>\n",
       "<div>BBC One</div>\n",
       "</td>\n",
       "<td>\r\n",
       "                                                                    10\r\n",
       "                                                            </td>\n",
       "<td>\n",
       "<i aria-hidden=\"true\" class=\"fa fa-picture-o\"></i>\n",
       "</td>\n",
       "</tr>\n",
       "<tr>\n",
       "<td>S01E06</td>\n",
       "<td>\n",
       "<a href=\"/series/sister-wendys-odyssey/episodes/4188164\">\r\n",
       "                                    Edinburgh\r\n",
       "                                </a>\n",
       "<div class=\"small text-muted\">series finale</div>\n",
       "</td>\n",
       "<td>\n",
       "<div>December 25, 1992</div>\n",
       "<div>BBC One</div>\n",
       "</td>\n",
       "<td>\r\n",
       "                                                                    10\r\n",
       "                                                            </td>\n",
       "<td>\n",
       "<i aria-hidden=\"true\" class=\"fa fa-picture-o\"></i>\n",
       "</td>\n",
       "</tr>\n",
       "</tbody>\n",
       "</table>"
      ],
      "text/plain": [
       "<IPython.core.display.HTML object>"
      ]
     },
     "metadata": {},
     "output_type": "display_data"
    }
   ],
   "source": [
    "episode_location = 'https://thetvdb.com/series/sister-wendys-odyssey/seasons/official/1'\n",
    "\n",
    "dvd_episode_soup = bs.getSoup(episode_location)\n",
    "table = dvd_episode_soup.find('table')\n",
    "\n",
    "display(HTML(table.decode()))"
   ]
  },
  {
   "cell_type": "code",
   "execution_count": 4,
   "metadata": {},
   "outputs": [
    {
     "data": {
      "text/plain": [
       "[{'episode': 'S01E01',\n",
       "  'title': 'Liverpool',\n",
       "  'plot': \"Art expert Sister Wendy visits six of Britain's finest art collections and takes an opportunity to offer her opinions on work by Poussin, Hockney, and Spencer.\",\n",
       "  'year': '1992'},\n",
       " {'episode': 'S01E02',\n",
       "  'title': 'Cambridge',\n",
       "  'plot': \"Art expert and hermit Sister Wendy visits six of Britain's finest art collections and discusses pieces by Vecchio, Titian, and C'zanne\",\n",
       "  'year': '1992'},\n",
       " {'episode': 'S01E03',\n",
       "  'title': 'Oxford',\n",
       "  'plot': 'In Oxford, Sister Wendy discovers Fra Filippo Lippi, di Cosimo, and Lorrain.',\n",
       "  'year': '1992'},\n",
       " {'episode': 'S01E04',\n",
       "  'title': 'Salisbury',\n",
       "  'plot': 'Sister Wendy offers insight into work by van Dyck, Levens, Ribera, and da Sesto',\n",
       "  'year': '1992'},\n",
       " {'episode': 'S01E05',\n",
       "  'title': 'Birmingham',\n",
       "  'plot': \"Sister Wendy takes on a mouthful when discussing the art of Vig'e-LeBrun, Beccafumi, and Gossaert\",\n",
       "  'year': '1992'},\n",
       " {'episode': 'S01E06',\n",
       "  'title': 'Edinburgh',\n",
       "  'plot': 'While Edinburgh is known for many other things becides its museums, Sister Wendy takes an opportunity to look at art by El Greco, Gerard David, and Ramsey',\n",
       "  'year': '1992'}]"
      ]
     },
     "execution_count": 4,
     "metadata": {},
     "output_type": "execute_result"
    }
   ],
   "source": [
    "import songhay.soup.thetvdb.episode as episode\n",
    "\n",
    "episode_data = list(episode.yieldEpisodeData(table))\n",
    "episode_data"
   ]
  },
  {
   "cell_type": "code",
   "execution_count": 5,
   "metadata": {},
   "outputs": [],
   "source": [
    "nfo_location_template = f\"./beautifulsoup-sister-wendys-odyssey/{series_data['title']}\""
   ]
  },
  {
   "cell_type": "code",
   "execution_count": 6,
   "metadata": {},
   "outputs": [],
   "source": [
    "for item in episode_data:\n",
    "    episode = item['episode']\n",
    "    year = item['year']\n",
    "    xml_tree = ET.getEpisodeDetailsXmlTree(item['title'], item['plot'])\n",
    "    ET.writeEpisodeDetailsXml(nfo_location_template, episode, year, xml_tree)\n"
   ]
  },
  {
   "cell_type": "markdown",
   "metadata": {},
   "source": [
    "[Bryan Wilhite is on LinkedIn](https://www.linkedin.com/in/wilhite)🇺🇸💼\n"
   ]
  }
 ],
 "metadata": {
  "kernelspec": {
   "display_name": "Python 3.7.13 ('base')",
   "language": "python",
   "name": "python3"
  },
  "language_info": {
   "codemirror_mode": {
    "name": "ipython",
    "version": 3
   },
   "file_extension": ".py",
   "mimetype": "text/x-python",
   "name": "python",
   "nbconvert_exporter": "python",
   "pygments_lexer": "ipython3",
   "version": "3.7.13"
  },
  "orig_nbformat": 4,
  "vscode": {
   "interpreter": {
    "hash": "2248ed64bdf5fe1d2cc35d4639eff9d9517212412e82087913ac56aa4ab59c78"
   }
  }
 },
 "nbformat": 4,
 "nbformat_minor": 2
}
