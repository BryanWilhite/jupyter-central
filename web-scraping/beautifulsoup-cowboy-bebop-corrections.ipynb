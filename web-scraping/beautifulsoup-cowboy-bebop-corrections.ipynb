{
 "cells": [
  {
   "cell_type": "markdown",
   "source": [
    "# Cowboy Bebop (DVD)\n",
    "\n",
    "<https://thetvdb.com/series/cowboy-bebop>\n",
    "\n",
    "![Cowboy Bebop Clearart](https://artworks.thetvdb.com/banners/v4/series/76885/clearart/611b7fc885419_t.png)\n"
   ],
   "metadata": {}
  },
  {
   "cell_type": "markdown",
   "source": [
    "## corrections\n"
   ],
   "metadata": {}
  },
  {
   "cell_type": "markdown",
   "source": [
    "The [series page](https://thetvdb.com/series/cowboy-bebop) at TheTVDB.com has a multilingual design strategy that is not working correctly for this title. The series page loads Kanji by default in a flash but apparently JavaScript takes over and changes the display to English.\n",
    "\n",
    "Proposed corrections:\n",
    "\n",
    "- replace `カウボーイビバップ` with `Cowboy Bebop` (because Kodi does not support Unicode by default)\n"
   ],
   "metadata": {}
  },
  {
   "cell_type": "code",
   "execution_count": 8,
   "source": [
    "$find = \"カウボーイビバップ\"\n",
    "$replace = \"Cowboy Bebop\"\n",
    "$root = \"beautifulsoup-cowboy-bebop\"\n",
    "\n",
    "Get-ChildItem `\n",
    "    -Filter \"$find*\" `\n",
    "    -Path \"./$root\" `\n",
    "    | Rename-Item -NewName { $_.Name -replace $find, $replace }\n"
   ],
   "outputs": [],
   "metadata": {}
  },
  {
   "cell_type": "code",
   "execution_count": 12,
   "source": [
    "\n",
    "$xml = [xml](Get-Content -Path ./$root/tvshow.nfo)\n",
    "\n",
    "$xml.tvshow.title = $replace\n",
    "$xml.tvshow.sorttitle = $replace\n",
    "\n",
    "$xml.Save(\"./$root/tvshow.nfo\")\n"
   ],
   "outputs": [],
   "metadata": {}
  }
 ],
 "metadata": {
  "orig_nbformat": 4,
  "language_info": {
   "name": "PowerShell",
   "version": "7.0",
   "mimetype": "text/x-powershell",
   "file_extension": ".ps1",
   "pygments_lexer": "powershell"
  },
  "kernelspec": {
   "name": ".net-powershell",
   "display_name": ".NET (PowerShell)",
   "language": "PowerShell"
  }
 },
 "nbformat": 4,
 "nbformat_minor": 2
}