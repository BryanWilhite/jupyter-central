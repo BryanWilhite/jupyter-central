{
 "cells": [
  {
   "cell_type": "markdown",
   "metadata": {},
   "source": [
    "# Yeelen (1987)\n",
    "\n",
    "<https://thetvdb.com/series/yeelen>\n",
    "\n",
    "This title is categorized as a movie on the thetvdb.com but has no cast data. The site that Kodi uses, themoviedb.org, [supplies the cast](https://www.themoviedb.org/movie/71329-yeelen)."
   ]
  },
  {
   "cell_type": "markdown",
   "metadata": {},
   "source": [
    "These notes preserve my memories of auto-generating [Kodi](https://kodi.tv/) [[GitHub](https://github.com/xbmc)] `tvshow` and `episodedetails` XML files in `*.nfo` formats.\n",
    "\n",
    "This `*.nfo` format is kind of covered in the following documents:\n",
    "\n",
    "- [NFO files](https://kodi.wiki/view/NFO_files)\n",
    "- [NFO files/TV shows](https://kodi.wiki/view/NFO_files/TV_shows)\n",
    "- [NFO files/Episodes](https://kodi.wiki/view/NFO_files/Episodes)\n"
   ]
  },
  {
   "cell_type": "code",
   "execution_count": 1,
   "metadata": {},
   "outputs": [],
   "source": [
    "from IPython.core.display import display, HTML\n",
    "\n",
    "import songhay.utilities.elementtree as ET\n",
    "import songhay.utilities.soup as bs\n",
    "\n",
    "import songhay.soup.thetvdb.series as series"
   ]
  },
  {
   "cell_type": "markdown",
   "metadata": {},
   "source": [
    "## generating `movie` data\n"
   ]
  },
  {
   "cell_type": "code",
   "execution_count": 2,
   "metadata": {},
   "outputs": [],
   "source": [
    "series_location = 'https://thetvdb.com/movies/yeelen'\n",
    "series_soup = bs.getSoup(series_location)\n",
    "\n",
    "series_basic_info = dict(series.yieldSeriesBasicInfo(series_soup))\n",
    "\n",
    "series_data = dict(\n",
    "    uniqueids=[\n",
    "        {\n",
    "            'type': 'tvdb',\n",
    "            'uniqueid': 'movies/yeelen'\n",
    "        },\n",
    "        {\n",
    "            'type': 'imdb',\n",
    "            'uniqueid': 'tt0094349'\n",
    "        },\n",
    "    ],\n",
    "    title=series.getSeriesTitle(series_soup),\n",
    "    plot=series.getSeriesPlot(series_soup),\n",
    "    genre='drama',\n",
    "    country='Mali',\n",
    "    director='Souleymane Cissé',\n",
    "    year='1987',\n",
    "    actors=[{\n",
    "        'name': 'Issiaka Kane',\n",
    "        'role': 'Niankoro, le fils',\n",
    "        'src': 'https://voicethrower.files.wordpress.com/2009/12/yeelen11.png?w=300&h=164'\n",
    "    },\n",
    "    {\n",
    "        'name': 'Balla Moussa Keita',\n",
    "        'role': 'Rouma Boll, le roi Peul',\n",
    "        'src': 'https://songhaystorage.blob.core.windows.net/studio-share/visionRoot/motion/Movies/Yeelen%20(1987)/extras/cast/Balla%20Moussa%20Keita.jpeg'\n",
    "    },\n",
    "    {\n",
    "        'name': 'Aoua Sangare',\n",
    "        'role': 'Attou, la jeune femme Peul',\n",
    "        'src': 'https://songhaystorage.blob.core.windows.net/studio-share/visionRoot/motion/Movies/Yeelen%20(1987)/extras/cast/Aoua%20Sangare.jpeg'\n",
    "    },\n",
    "    {\n",
    "        'name': 'Niamanto Sanogo',\n",
    "        'role': 'Soma le père',\n",
    "        'src': 'https://songhaystorage.blob.core.windows.net/studio-share/visionRoot/motion/Movies/Yeelen%20(1987)/extras/cast/Niamanto%20Sanogo.jpeg'\n",
    "    }]\n",
    ")\n",
    "\n",
    "ET.getMovieXmlTree(series_data).write(\n",
    "    f'./beautifulsoup-yeelen/{series_data[\"title\"].replace(\":\", \" -\")} ({series_data[\"year\"]}).nfo',\n",
    "    encoding='utf-8',\n",
    "    xml_declaration=True)"
   ]
  },
  {
   "cell_type": "markdown",
   "metadata": {},
   "source": [
    "[Bryan Wilhite is on LinkedIn](https://www.linkedin.com/in/wilhite)🇺🇸💼\n"
   ]
  }
 ],
 "metadata": {
  "kernelspec": {
   "display_name": "Python 3.7.13 ('base')",
   "language": "python",
   "name": "python3"
  },
  "language_info": {
   "codemirror_mode": {
    "name": "ipython",
    "version": 3
   },
   "file_extension": ".py",
   "mimetype": "text/x-python",
   "name": "python",
   "nbconvert_exporter": "python",
   "pygments_lexer": "ipython3",
   "version": "3.7.13"
  },
  "orig_nbformat": 4,
  "vscode": {
   "interpreter": {
    "hash": "2248ed64bdf5fe1d2cc35d4639eff9d9517212412e82087913ac56aa4ab59c78"
   }
  }
 },
 "nbformat": 4,
 "nbformat_minor": 2
}
