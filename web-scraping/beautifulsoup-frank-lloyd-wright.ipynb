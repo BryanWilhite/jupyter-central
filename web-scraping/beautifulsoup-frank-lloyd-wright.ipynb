{
 "cells": [
  {
   "cell_type": "markdown",
   "metadata": {},
   "source": [
    "# Frank Lloyd Wright\n",
    "\n",
    "<https://thetvdb.com/series/frank-lloyd-wright>\n",
    "\n",
    "![Frank Lloyd Wright banner](https://artworks.thetvdb.com/banners/graphical/209131-g.jpg)\n",
    "\n",
    "This title is categorized as a television show on the thetvdb.com but the DVD is a movie."
   ]
  },
  {
   "cell_type": "markdown",
   "metadata": {},
   "source": [
    "These notes preserve my memories of auto-generating [Kodi](https://kodi.tv/) [[GitHub](https://github.com/xbmc)] `tvshow` and `episodedetails` XML files in `*.nfo` formats.\n",
    "\n",
    "This `*.nfo` format is kind of covered in the following documents:\n",
    "\n",
    "- [NFO files](https://kodi.wiki/view/NFO_files)\n",
    "- [NFO files/TV shows](https://kodi.wiki/view/NFO_files/TV_shows)\n",
    "- [NFO files/Episodes](https://kodi.wiki/view/NFO_files/Episodes)\n"
   ]
  },
  {
   "cell_type": "code",
   "execution_count": 1,
   "metadata": {},
   "outputs": [],
   "source": [
    "from IPython import display\n",
    "from IPython.core.display import HTML\n",
    "\n",
    "import songhay.utilities.elementtree as ET\n",
    "import songhay.utilities.soup as bs\n",
    "\n",
    "import songhay.soup.thetvdb.series as series"
   ]
  },
  {
   "cell_type": "markdown",
   "metadata": {},
   "source": [
    "## generating `tvshow` data\n"
   ]
  },
  {
   "cell_type": "code",
   "execution_count": 2,
   "metadata": {},
   "outputs": [],
   "source": [
    "series_location = 'https://thetvdb.com/series/frank-lloyd-wright'\n",
    "series_soup = bs.getSoup(series_location)\n",
    "\n",
    "series_basic_info = dict(series.yieldSeriesBasicInfo(series_soup))\n",
    "\n",
    "series_data = dict(\n",
    "    uniqueids=[\n",
    "        {\n",
    "            'type': 'tvdb',\n",
    "            'uniqueid': 'series/frank-lloyd-wright'\n",
    "        },\n",
    "        {\n",
    "            'type': 'imdb',\n",
    "            'uniqueid': 'tt0144937'\n",
    "        },\n",
    "    ],\n",
    "    title=series.getSeriesTitle(series_soup),\n",
    "    plot=series.getSeriesPlot(series_soup),\n",
    "    genre='documentary',\n",
    "    country='United States',\n",
    "    director='Ken Burns and Lynn Novick',\n",
    "    year='1998',\n",
    "    genres=series_basic_info['Genres'],\n",
    "    thumbs=[\n",
    "        {\n",
    "            'aspect': 'banner',\n",
    "            'dim': None,\n",
    "            'season': None,\n",
    "            'src': 'https://artworks.thetvdb.com/banners/graphical/209131-g.jpg'\n",
    "        },\n",
    "        {\n",
    "            'aspect': 'poster',\n",
    "            'dim': None,\n",
    "            'season': None, # maps to the top-level movie poster\n",
    "            'src': 'https://artworks.thetvdb.com/banners/posters/209131-2.jpg'\n",
    "        }],\n",
    "    actors=[{\n",
    "        'name': 'Frank Lloyd Wright',\n",
    "        'role': 'himself',\n",
    "        'src': 'https://upload.wikimedia.org/wikipedia/commons/thumb/3/30/Frank_Lloyd_Wright_portrait.jpg/800px-Frank_Lloyd_Wright_portrait.jpg'\n",
    "    }]\n",
    ")\n",
    "\n",
    "ET.getMovieXmlTree(series_data).write(\n",
    "    f'./beautifulsoup-frank-lloyd-wright/tvshow.nfo',\n",
    "    encoding='utf-8',\n",
    "    xml_declaration=True)"
   ]
  },
  {
   "cell_type": "markdown",
   "metadata": {},
   "source": [
    "## generating `episodedetails` data\n",
    "\n",
    "This title does not have episode data on `thetvdb.com` so we turn to `imdb.com`:"
   ]
  },
  {
   "cell_type": "code",
   "execution_count": 3,
   "metadata": {},
   "outputs": [],
   "source": [
    "year = series_data['year']\n",
    "episode_template = 'S01E'\n",
    "episode_data = [\n",
    "        {\n",
    "            'episode': f'{episode_template}{1:02d}',\n",
    "            'title': 'Episode #1',\n",
    "            'plot': 'Live cinematography, interviews, and archival footage tell the life story of Frank Lloyd Wright, an authentic American genius who believed he was destined to \"redesign the world.\" This biographical film follows the turbulent career of one of the most important architects to grace the twentieth century.',\n",
    "            'year': year\n",
    "        },\n",
    "        {\n",
    "            'episode': f'{episode_template}{2:02d}',\n",
    "            'title': 'Episode #2',\n",
    "            'plot': 'Live cinematography, interviews, and archival footage tell the life story of Frank Lloyd Wright, an authentic American genius who believed he was destined to \"redesign the world.\" This biographical film follows the turbulent career of one of the most important architects to grace the twentieth century.',\n",
    "            'year': year\n",
    "        },\n",
    "    ]"
   ]
  },
  {
   "cell_type": "code",
   "execution_count": 4,
   "metadata": {},
   "outputs": [],
   "source": [
    "nfo_location_template = f\"./beautifulsoup-frank-lloyd-wright/{series_data['title'].replace(':', ' -')}\""
   ]
  },
  {
   "cell_type": "code",
   "execution_count": 5,
   "metadata": {},
   "outputs": [],
   "source": [
    "for item in episode_data:\n",
    "    episode = item['episode']\n",
    "    year = item['year']\n",
    "    xml_tree = ET.getEpisodeDetailsXmlTree(item['title'], item['plot'])\n",
    "    ET.writeEpisodeDetailsXml(nfo_location_template, episode, year, xml_tree)\n"
   ]
  },
  {
   "cell_type": "markdown",
   "metadata": {},
   "source": [
    "[Bryan Wilhite is on LinkedIn](https://www.linkedin.com/in/wilhite)🇺🇸💼\n"
   ]
  }
 ],
 "metadata": {
  "kernelspec": {
   "display_name": "base",
   "language": "python",
   "name": "python3"
  },
  "language_info": {
   "codemirror_mode": {
    "name": "ipython",
    "version": 3
   },
   "file_extension": ".py",
   "mimetype": "text/x-python",
   "name": "python",
   "nbconvert_exporter": "python",
   "pygments_lexer": "ipython3",
   "version": "3.8.13"
  },
  "orig_nbformat": 4
 },
 "nbformat": 4,
 "nbformat_minor": 2
}
