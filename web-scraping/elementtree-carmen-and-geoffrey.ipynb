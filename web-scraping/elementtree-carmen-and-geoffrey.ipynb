{
 "cells": [
  {
   "cell_type": "markdown",
   "metadata": {},
   "source": [
    "# Carmen & Geoffrey (2005)\n",
    "\n",
    "<https://www.imdb.com/title/tt0481269/>\n"
   ]
  },
  {
   "cell_type": "code",
   "execution_count": 1,
   "metadata": {},
   "outputs": [],
   "source": [
    "from IPython.core.display import display, HTML\n",
    "\n",
    "import songhay.utilities.elementtree as ET"
   ]
  },
  {
   "cell_type": "markdown",
   "metadata": {},
   "source": [
    "## generating `movie` data\n"
   ]
  },
  {
   "cell_type": "code",
   "execution_count": 5,
   "metadata": {},
   "outputs": [],
   "source": [
    "movie_data = dict(\n",
    "    uniqueids=[\n",
    "        {\n",
    "            'type': 'imdb',\n",
    "            'uniqueid': 'tt0481269'\n",
    "        },\n",
    "    ],\n",
    "    title='Carmen & Geoffrey',\n",
    "    plot='This intimate documentary follows careers of two remarkable personalities: Carmen de Lavallade, a dynamic dancer and choreographer from California who moved to New York with Alvin Ailey and began a legacy of modern dance in America, and her husband Geoffrey Holder, a Trinidad-born choreographer, set and costume designer, painter and man about town with productions such as The Wiz. Features interviews and performance footage of friends and colleagues: dancers Judith Jamison, Gus Solomons, Jr., Dudley Williams, Ulysses Dove and Alvin Ailey.',\n",
    "    genre='drama',\n",
    "    country='United States',\n",
    "    director='Linda Atkinson and Nick Doob',\n",
    "    year='2005',\n",
    "    actors=[{\n",
    "        'name': 'Carmen De Lavallade',\n",
    "        'role': 'herself',\n",
    "        'src': 'https://upload.wikimedia.org/wikipedia/commons/thumb/4/48/Carmen_de_Lavallade_2017.jpg/800px-Carmen_de_Lavallade_2017.jpg'\n",
    "    },\n",
    "    {\n",
    "        'name': 'Geoffrey Holder',\n",
    "        'role': 'himself',\n",
    "        'src': 'https://upload.wikimedia.org/wikipedia/commons/thumb/b/b0/GeoffreyHolder11.15.08ByLuigiNovi.jpg/1024px-GeoffreyHolder11.15.08ByLuigiNovi.jpg'\n",
    "    },\n",
    "    {\n",
    "        'name': 'Alvin Ailey',\n",
    "        'role': 'himself',\n",
    "        'src': 'https://upload.wikimedia.org/wikipedia/commons/thumb/3/33/Alvin_Ailey_Ellington_career.jpg/800px-Alvin_Ailey_Ellington_career.jpg'\n",
    "    },\n",
    "    {\n",
    "        'name': 'Judith Jamison',\n",
    "        'role': 'herself',\n",
    "        'src': 'https://upload.wikimedia.org/wikipedia/commons/thumb/5/59/2012_at_Elon_University_14_%28cropped%29.jpg/800px-2012_at_Elon_University_14_%28cropped%29.jpg'\n",
    "    }]\n",
    ")\n",
    "\n",
    "ET.getMovieXmlTree(movie_data).write(\n",
    "    f'./elementtree-carmen-and-geoffrey/{movie_data[\"title\"].replace(\":\", \" -\")} ({movie_data[\"year\"]}).nfo',\n",
    "    encoding='utf-8',\n",
    "    xml_declaration=True)"
   ]
  }
 ],
 "metadata": {
  "kernelspec": {
   "display_name": "Python 3.7.13 ('base')",
   "language": "python",
   "name": "python3"
  },
  "language_info": {
   "codemirror_mode": {
    "name": "ipython",
    "version": 3
   },
   "file_extension": ".py",
   "mimetype": "text/x-python",
   "name": "python",
   "nbconvert_exporter": "python",
   "pygments_lexer": "ipython3",
   "version": "3.7.13"
  },
  "orig_nbformat": 4,
  "vscode": {
   "interpreter": {
    "hash": "2248ed64bdf5fe1d2cc35d4639eff9d9517212412e82087913ac56aa4ab59c78"
   }
  }
 },
 "nbformat": 4,
 "nbformat_minor": 2
}
