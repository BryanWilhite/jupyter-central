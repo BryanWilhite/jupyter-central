{
 "cells": [
  {
   "cell_type": "markdown",
   "metadata": {},
   "source": [
    "# Trois couleurs: Blanc (1994)\n",
    "\n",
    "<https://www.imdb.com/title/tt0111507/>\n"
   ]
  },
  {
   "cell_type": "code",
   "execution_count": 1,
   "metadata": {},
   "outputs": [],
   "source": [
    "from IPython.core.display import display, HTML\n",
    "\n",
    "import songhay.utilities.elementtree as ET"
   ]
  },
  {
   "cell_type": "markdown",
   "metadata": {},
   "source": [
    "## generating `movie` data\n"
   ]
  },
  {
   "cell_type": "code",
   "execution_count": 5,
   "metadata": {},
   "outputs": [],
   "source": [
    "movie_data = dict(\n",
    "    uniqueids=[\n",
    "        {\n",
    "            'type': 'imdb',\n",
    "            'uniqueid': 'tt0111507'\n",
    "        },\n",
    "    ],\n",
    "    title='Trois couleurs: Blanc',\n",
    "    plot='After his wife divorces him, a Polish immigrant plots to get even with her.',\n",
    "    genre='drama',\n",
    "    country='France',\n",
    "    director='Krzysztof Kieslowski',\n",
    "    year='1994',\n",
    "    actors=[{\n",
    "        'name': 'Julie Delpy',\n",
    "        'role': 'Dominique',\n",
    "        'src': 'https://lh3.googleusercontent.com/--DEc15Q9ndE/V0Z0OOAHGtI/AAAAAAAAUYY/xA2H3T46dBg/s640/Julie-Delpy-Dp-profile-pics-1110.jpg'\n",
    "    },\n",
    "    {\n",
    "        'name': 'Zbigniew Zamachowski',\n",
    "        'role': 'Karol Karol',\n",
    "        'src': 'https://bi.im-g.pl/im/7d/c6/17/z24932221AMP,Zbigniew-Zamachowski.jpg'\n",
    "    },\n",
    "    {\n",
    "        'name': 'Janusz Gajos',\n",
    "        'role': 'Mikolaj',\n",
    "        'src': 'http://www.mysticgames.com/famouspeople/pictures/JanuszGajos.jpg'\n",
    "    },\n",
    "    {\n",
    "        'name': 'Jerzy Stuhr',\n",
    "        'role': 'Jurek',\n",
    "        'src': 'https://dzieje.pl/sites/default/files/styles/open_article_750x0_/public/201303/hyu.jpg?itok=mV8uWG6T'\n",
    "    }]\n",
    ")\n",
    "\n",
    "ET.getMovieXmlTree(movie_data).write(\n",
    "    f'./elementtree-trois-couleurs-blanc/{movie_data[\"title\"].replace(\":\", \" -\")} ({movie_data[\"year\"]}).nfo',\n",
    "    encoding='utf-8',\n",
    "    xml_declaration=True)"
   ]
  }
 ],
 "metadata": {
  "kernelspec": {
   "display_name": "Python 3.7.13 ('base')",
   "language": "python",
   "name": "python3"
  },
  "language_info": {
   "codemirror_mode": {
    "name": "ipython",
    "version": 3
   },
   "file_extension": ".py",
   "mimetype": "text/x-python",
   "name": "python",
   "nbconvert_exporter": "python",
   "pygments_lexer": "ipython3",
   "version": "3.7.13"
  },
  "orig_nbformat": 4,
  "vscode": {
   "interpreter": {
    "hash": "2248ed64bdf5fe1d2cc35d4639eff9d9517212412e82087913ac56aa4ab59c78"
   }
  }
 },
 "nbformat": 4,
 "nbformat_minor": 2
}
