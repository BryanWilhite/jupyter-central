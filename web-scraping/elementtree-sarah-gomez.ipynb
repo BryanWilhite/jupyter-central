{
 "cells": [
  {
   "cell_type": "markdown",
   "metadata": {},
   "source": [
    "# Sara Gomez: an Afro-Cuban Filmmaker (2005)\n",
    "\n",
    "<https://www.worldcat.org/title/944727176/>\n"
   ]
  },
  {
   "cell_type": "code",
   "execution_count": 2,
   "metadata": {},
   "outputs": [],
   "source": [
    "from IPython.core.display import display, HTML\n",
    "\n",
    "import songhay.utilities.elementtree as ET"
   ]
  },
  {
   "cell_type": "markdown",
   "metadata": {},
   "source": [
    "## generating `movie` data\n"
   ]
  },
  {
   "cell_type": "code",
   "execution_count": 3,
   "metadata": {},
   "outputs": [],
   "source": [
    "movie_data = dict(\n",
    "    uniqueids=[\n",
    "        {\n",
    "            'type': 'www.worldcat.org',\n",
    "            'uniqueid': 'title/944727176/'\n",
    "        },\n",
    "    ],\n",
    "    title='Sara Gomez: an Afro-Cuban Filmmaker',\n",
    "    plot='Born in 1943, Afro-Cuban film director Sarah Gomez studied literature, piano, and Afro-Cuban ethnography before becoming the first female Cuban filmmaker. A woman of great intelligence, independence and generosity, she was a revolutionary filmmaker with intersecting concerns about the Afro-Cuban community and the value of its cultural traditions, women’s issues, and the treatment of the marginalized sectors of society. Through archival footage of her works and interviews with her children and husband Germinal Hernandez, cast members of her best-know film De cierta manera, as well as colleagues and friends, we get closer to a filmmaker who invented new landscapes and brought together opposite worlds.',\n",
    "    genre='documentary',\n",
    "    country='United States',\n",
    "    director='Alessandra Muller',\n",
    "    year='2005',\n",
    "    actors=[{\n",
    "        'name': 'Sara Gomez',\n",
    "        'role': 'herself',\n",
    "        'src': 'https://upload.wikimedia.org/wikipedia/en/d/d5/Sara_G%C3%B3mez%2C_Cuba%E2%80%99s_First_Female_Director_%26_First_Afro_Female_Filmmaker_in_the_Americas_Photo_Courtesy_ICAIC.jpg'\n",
    "    }]\n",
    ")\n",
    "\n",
    "ET.getMovieXmlTree(movie_data).write(\n",
    "    f'./elementtree-sarah-gomez/{movie_data[\"title\"].replace(\":\", \" -\")} ({movie_data[\"year\"]}).nfo',\n",
    "    encoding='utf-8',\n",
    "    xml_declaration=True)"
   ]
  }
 ],
 "metadata": {
  "kernelspec": {
   "display_name": "Python 3.7.13 ('base')",
   "language": "python",
   "name": "python3"
  },
  "language_info": {
   "codemirror_mode": {
    "name": "ipython",
    "version": 3
   },
   "file_extension": ".py",
   "mimetype": "text/x-python",
   "name": "python",
   "nbconvert_exporter": "python",
   "pygments_lexer": "ipython3",
   "version": "3.7.13"
  },
  "orig_nbformat": 4,
  "vscode": {
   "interpreter": {
    "hash": "2248ed64bdf5fe1d2cc35d4639eff9d9517212412e82087913ac56aa4ab59c78"
   }
  }
 },
 "nbformat": 4,
 "nbformat_minor": 2
}
