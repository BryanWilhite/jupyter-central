{
 "cells": [
  {
   "cell_type": "markdown",
   "metadata": {},
   "source": [
    "# Smart Secrets of Great Paintings (2018)\n",
    "\n",
    "<https://distribution.arte.tv/fiche/PETITS_SECRETS_DES_GRANDS_TABLEAUX__LES__>\n",
    "\n",
    "This title appears to be unlisted on [TMDB](https://www.themoviedb.org/) and [TVDB](https://thetvdb.com/)."
   ]
  },
  {
   "cell_type": "code",
   "execution_count": 1,
   "metadata": {},
   "outputs": [],
   "source": [
    "from IPython.core.display import display, HTML\n",
    "\n",
    "import songhay.utilities.elementtree as ET"
   ]
  },
  {
   "cell_type": "markdown",
   "metadata": {},
   "source": [
    "## generating `series` data\n"
   ]
  },
  {
   "cell_type": "code",
   "execution_count": 2,
   "metadata": {},
   "outputs": [],
   "source": [
    "series_data = dict(\n",
    "    uniqueids=[\n",
    "        {\n",
    "            'type': 'distribution.arte.tv',\n",
    "            'uniqueid': 'fiche/PETITS_SECRETS_DES_GRANDS_TABLEAUX__LES__'\n",
    "        },\n",
    "    ],\n",
    "    title='Smart Secrets of Great Paintings',\n",
    "    plot=' This series explores history of art in a totally new way. The painting comes to life, as animation overrides the limits of the frame, taking us to the heart of the canvass and plunging us into its era and history. The great works of the past portray abundant testimonies, and are imbued with secrets and are teeming with mysteries. Beneath the surface of the painting, details awaken, to recount the spirit of the times and the vagaries of History, such as wars, revolutions, economic transformation, scientific discovery, beliefs and schools of thought.',\n",
    "    thumbs=[],\n",
    "    genres=['documentary'],\n",
    "    actors=[]\n",
    ")\n",
    "\n",
    "ET.getTVShowXmlTree(series_data).write(\n",
    "    f'./elementtree-smart-secrets-of-great-paintings/tvshow.nfo',\n",
    "    encoding='utf-8',\n",
    "    xml_declaration=True)"
   ]
  },
  {
   "cell_type": "markdown",
   "metadata": {},
   "source": [
    "## generating `episodedetails` data\n"
   ]
  },
  {
   "cell_type": "code",
   "execution_count": 3,
   "metadata": {},
   "outputs": [],
   "source": [
    "year = '2018'\n",
    "episode_template = 'S02E'\n",
    "episode_data = [\n",
    "    # {\n",
    "    #     'episode': f'{episode_template}{1:02d}',\n",
    "    #     'title': 'episode 1',\n",
    "    #     'plot': 'The Moneylender and His Wife (1514) by Quentin Massys',\n",
    "    #     'year': year\n",
    "    # },\n",
    "    # {\n",
    "    #     'episode': f'{episode_template}{2:02d}',\n",
    "    #     'title': 'episode 2',\n",
    "    #     'plot': 'Las Meninas (1665) by Diego Velazquez',\n",
    "    #     'year': year\n",
    "    # },\n",
    "    # {\n",
    "    #     'episode': f'{episode_template}{3:02d}',\n",
    "    #     'title': 'episode 3',\n",
    "    #     'plot': 'Bathers at Asnieres (1884) by Georges Seurat',\n",
    "    #     'year': year\n",
    "    # },\n",
    "    # {\n",
    "    #     'episode': f'{episode_template}{4:02d}',\n",
    "    #     'title': 'episode 4',\n",
    "    #     'plot': 'The Artist’S Studio (1855) by Gustave Courbet',\n",
    "    #     'year': year\n",
    "    # },\n",
    "    # {\n",
    "    #     'episode': f'{episode_template}{5:02d}',\n",
    "    #     'title': 'episode 5',\n",
    "    #     'plot': 'The Wedding at Cana (1563) by Paolo Veronese',\n",
    "    #     'year': year\n",
    "    # },\n",
    "    {\n",
    "        'episode': f'{episode_template}{1:02d}',\n",
    "        'title': 'episode 1',\n",
    "        'plot': 'Marie-Antoinette De Lorraine-Habsbourg, Queen of France and Her Children (1787) by Louise Elisabeth Vigee-Lebrun',\n",
    "        'year': year\n",
    "    },\n",
    "    {\n",
    "        'episode': f'{episode_template}{2:02d}',\n",
    "        'title': 'episode 2',\n",
    "        'plot': 'The Martyrdom of Saint Appolonia (1461) by Jean Fouquet',\n",
    "        'year': year\n",
    "    },\n",
    "    {\n",
    "        'episode': f'{episode_template}{3:02d}',\n",
    "        'title': 'episode 3',\n",
    "        'plot': 'Colorful Life (1907) by Wassily Kandinsky',\n",
    "        'year': year\n",
    "    },\n",
    "    {\n",
    "        'episode': f'{episode_template}{4:02d}',\n",
    "        'title': 'episode 4',\n",
    "        'plot': 'Women of Algiers in Their Apartment (1834) by Eugene Delacroix',\n",
    "        'year': year\n",
    "    },\n",
    "    {\n",
    "        'episode': f'{episode_template}{5:02d}',\n",
    "        'title': 'episode 5',\n",
    "        'plot': 'A Lady in Her Bath (1571) by Francois Clouet',\n",
    "        'year': year\n",
    "    },\n",
    "]"
   ]
  },
  {
   "cell_type": "code",
   "execution_count": 4,
   "metadata": {},
   "outputs": [],
   "source": [
    "nfo_location_template = f\"./elementtree-smart-secrets-of-great-paintings/{series_data['title'].replace(':', ' -').replace('&', 'and')}\""
   ]
  },
  {
   "cell_type": "code",
   "execution_count": 5,
   "metadata": {},
   "outputs": [],
   "source": [
    "for item in episode_data:\n",
    "    episode = item['episode']\n",
    "    year = item['year']\n",
    "    xml_tree = ET.getEpisodeDetailsXmlTree(item['title'], item['plot'])\n",
    "    ET.writeEpisodeDetailsXml(nfo_location_template, episode, year, xml_tree)\n"
   ]
  }
 ],
 "metadata": {
  "kernelspec": {
   "display_name": "Python 3.7.13 ('base')",
   "language": "python",
   "name": "python3"
  },
  "language_info": {
   "codemirror_mode": {
    "name": "ipython",
    "version": 3
   },
   "file_extension": ".py",
   "mimetype": "text/x-python",
   "name": "python",
   "nbconvert_exporter": "python",
   "pygments_lexer": "ipython3",
   "version": "3.7.13"
  },
  "orig_nbformat": 4,
  "vscode": {
   "interpreter": {
    "hash": "2248ed64bdf5fe1d2cc35d4639eff9d9517212412e82087913ac56aa4ab59c78"
   }
  }
 },
 "nbformat": 4,
 "nbformat_minor": 2
}
