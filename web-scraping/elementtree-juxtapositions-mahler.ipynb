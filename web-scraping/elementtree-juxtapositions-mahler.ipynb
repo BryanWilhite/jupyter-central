{
 "cells": [
  {
   "cell_type": "markdown",
   "metadata": {},
   "source": [
    "# Juxtapositions: Mahler: Conducting Mahler & I Have Lost Touch With The World (2005)\n",
    "\n",
    "<https://www.euroarts.com/labels/7744-juxtapositions-mahler-conducting-mahler-i-have-lost-touch-world>\n",
    "\n",
    "This title has no web-scraping target. Data will be copied by hand [from EuroArts](https://www.euroarts.com/labels/7744-juxtapositions-mahler-conducting-mahler-i-have-lost-touch-world)."
   ]
  },
  {
   "cell_type": "code",
   "execution_count": 1,
   "metadata": {},
   "outputs": [],
   "source": [
    "from IPython.core.display import display, HTML\n",
    "\n",
    "import songhay.utilities.elementtree as ET"
   ]
  },
  {
   "cell_type": "markdown",
   "metadata": {},
   "source": [
    "## generating `movie` data\n"
   ]
  },
  {
   "cell_type": "code",
   "execution_count": 3,
   "metadata": {},
   "outputs": [],
   "source": [
    "movie_data = dict(\n",
    "    uniqueids=[\n",
    "        {\n",
    "            'type': 'upc',\n",
    "            'uniqueid': '880242760081'\n",
    "        },\n",
    "    ],\n",
    "    title='Juxtapositions: Mahler: Conducting Mahler & I Have Lost Touch With The World',\n",
    "    plot='Conducting Mahler : The film documents the interpretations of Gustav Mahler’s compositions by conductors Bernard Haitink, Riccardo Chailly, Riccardo Muti, Claudio Abbado and Simon Rattle, who detail the special relationship they have with Mahler’s work. The film includes fantastic rehearsals and performances of each of Gustav Mahler’s ten symphonies by the Amsterdam Concertgebouw Orchestra, the Berliner Philarmoniker and the Wiener Philarmoniker at the Mahler Festival in May 1995. I Have Lost Touch With The World : The film is based on Mahler’s 9th Symphony. In The four parts of this film, renowned conductor Riccardo Chaily and Mahler’s internationally acclaimed biographer Henry-Louis de la Grange analyse the four movements of this masterful musical piece. Reaching into the heart of Mahler’s music, the film marks Riccardo Chailly’s celebration of his departure from Amsterdam’s Royal Concertgebouw Orchestra in June 2004, after sixteen years of close collaboration.',\n",
    "    thumbs=[\n",
    "        {\n",
    "            'aspect': 'poster',\n",
    "            'dim': None,\n",
    "            'season': None, # maps to the top-level movie poster\n",
    "            'src': 'https://www.euroarts.com/sites/default/files/styles/disk_cover_1000_/public/media_product/71Rwpq0YNRL._SL1200_.jpg?itok=5edJ7oIu'\n",
    "        },\n",
    "    ],\n",
    "    genre='documentary',\n",
    "    country='Germany',\n",
    "    director='Frank Scheffer',\n",
    "    year='2005',\n",
    "    actors=[{\n",
    "        'name': 'Gustav Mahler',\n",
    "        'role': 'himself',\n",
    "        'src': 'https://medias.unifrance.org/medias/230/255/196582/format_page/gustav-mahler.png'\n",
    "    }]\n",
    ")\n",
    "\n",
    "ET.getMovieXmlTree(movie_data).write(\n",
    "    f'./elementtree-juxtapositions-mahler/{movie_data[\"title\"].replace(\":\", \" -\")} ({movie_data[\"year\"]}).nfo',\n",
    "    encoding='utf-8',\n",
    "    xml_declaration=True)"
   ]
  }
 ],
 "metadata": {
  "kernelspec": {
   "display_name": "Python 3.7.13 ('base')",
   "language": "python",
   "name": "python3"
  },
  "language_info": {
   "codemirror_mode": {
    "name": "ipython",
    "version": 3
   },
   "file_extension": ".py",
   "mimetype": "text/x-python",
   "name": "python",
   "nbconvert_exporter": "python",
   "pygments_lexer": "ipython3",
   "version": "3.7.13"
  },
  "orig_nbformat": 4,
  "vscode": {
   "interpreter": {
    "hash": "2248ed64bdf5fe1d2cc35d4639eff9d9517212412e82087913ac56aa4ab59c78"
   }
  }
 },
 "nbformat": 4,
 "nbformat_minor": 2
}
