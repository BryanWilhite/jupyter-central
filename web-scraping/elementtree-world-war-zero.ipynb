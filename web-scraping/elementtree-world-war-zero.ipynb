{
 "cells": [
  {
   "cell_type": "markdown",
   "metadata": {},
   "source": [
    "# World War Zero (2017)\n",
    "\n",
    "<https://www.amazon.com/World-War-Zero/dp/B07C7WJRDG>\n",
    "\n",
    "This title has no web-scraping target and is not seen on worldcat.org."
   ]
  },
  {
   "cell_type": "code",
   "execution_count": 1,
   "metadata": {},
   "outputs": [],
   "source": [
    "from IPython.core.display import display, HTML\n",
    "\n",
    "import songhay.utilities.elementtree as ET"
   ]
  },
  {
   "cell_type": "markdown",
   "metadata": {},
   "source": [
    "## generating `tvshow` data\n"
   ]
  },
  {
   "cell_type": "code",
   "execution_count": 4,
   "metadata": {},
   "outputs": [],
   "source": [
    "series_data = dict(\n",
    "    uniqueids=[\n",
    "        {\n",
    "            'type': 'amazon.com',\n",
    "            'uniqueid': 'World-War-Zero/dp/B07C7WJRDG'\n",
    "        },\n",
    "    ],\n",
    "    title='World War Zero',\n",
    "    plot='The War of 1853-1856 is most often known as The Crimean War, but the battle for the Crimea was only one episode of a much larger war. In fact, it was a war for world domination—in effect a world war. How it all started and what role the Russian Empire ultimately played on the world political stage is all told in this challenging and insightful new four-part documentary series, World War Zero.',\n",
    "    thumbs=[\n",
    "        {\n",
    "            'aspect': 'poster',\n",
    "            'dim': None,\n",
    "            'season': None, # maps to the top-level movie poster\n",
    "            'src': './poster.jpg'\n",
    "        },\n",
    "        {\n",
    "            'aspect': 'fanart',\n",
    "            'dim': '1280x720',\n",
    "            'season': 1,\n",
    "            'src': './fanart.jpg'\n",
    "        },\n",
    "    ],\n",
    "    genres=['documentary'],\n",
    "    actors=[]\n",
    ")\n",
    "\n",
    "ET.getTVShowXmlTree(series_data).write(\n",
    "    './elementtree-world-war-zero/tvshow.nfo',\n",
    "    encoding='utf-8',\n",
    "    xml_declaration=True)"
   ]
  },
  {
   "cell_type": "markdown",
   "metadata": {},
   "source": [
    "## generating `episodedetails` data\n"
   ]
  },
  {
   "cell_type": "code",
   "execution_count": 5,
   "metadata": {},
   "outputs": [],
   "source": [
    "year = '2017'\n",
    "episode_template = 'S1E'\n",
    "title_template = 'Episode'\n",
    "episode_data = [\n",
    "        {\n",
    "            'episode': f'{episode_template}{1:02d}',\n",
    "            'title': f'{title_template} 1',\n",
    "            'plot': '',\n",
    "            'year': year\n",
    "        },\n",
    "        {\n",
    "            'episode': f'{episode_template}{2:02d}',\n",
    "            'title': f'{title_template} 2',\n",
    "            'plot': '',\n",
    "            'year': year\n",
    "        },\n",
    "        {\n",
    "            'episode': f'{episode_template}{3:02d}',\n",
    "            'title': f'{title_template} 3',\n",
    "            'plot': '',\n",
    "            'year': year\n",
    "        },\n",
    "        {\n",
    "            'episode': f'{episode_template}{4:02d}',\n",
    "            'title': f'{title_template} 4',\n",
    "            'plot': '',\n",
    "            'year': year\n",
    "        },\n",
    "    ]"
   ]
  },
  {
   "cell_type": "code",
   "execution_count": 6,
   "metadata": {},
   "outputs": [],
   "source": [
    "nfo_location_template = f\"./elementtree-world-war-zero/{series_data['title']}\""
   ]
  },
  {
   "cell_type": "code",
   "execution_count": 7,
   "metadata": {},
   "outputs": [],
   "source": [
    "for item in episode_data:\n",
    "    episode = item['episode']\n",
    "    year = item['year']\n",
    "    xml_tree = ET.getEpisodeDetailsXmlTree(item['title'], item['plot'])\n",
    "    ET.writeEpisodeDetailsXml(nfo_location_template, episode, year, xml_tree)\n"
   ]
  }
 ],
 "metadata": {
  "kernelspec": {
   "display_name": "Python 3.7.13 ('base')",
   "language": "python",
   "name": "python3"
  },
  "language_info": {
   "codemirror_mode": {
    "name": "ipython",
    "version": 3
   },
   "file_extension": ".py",
   "mimetype": "text/x-python",
   "name": "python",
   "nbconvert_exporter": "python",
   "pygments_lexer": "ipython3",
   "version": "3.7.13"
  },
  "orig_nbformat": 4,
  "vscode": {
   "interpreter": {
    "hash": "2248ed64bdf5fe1d2cc35d4639eff9d9517212412e82087913ac56aa4ab59c78"
   }
  }
 },
 "nbformat": 4,
 "nbformat_minor": 2
}
