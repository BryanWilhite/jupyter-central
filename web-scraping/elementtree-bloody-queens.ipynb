{
 "cells": [
  {
   "cell_type": "markdown",
   "metadata": {},
   "source": [
    "# Bloody Queens: Elizabeth and Mary (2016)\n",
    "\n",
    "<https://www.bbc.co.uk/programmes/b06wdzd1/>\n"
   ]
  },
  {
   "cell_type": "code",
   "execution_count": 1,
   "metadata": {},
   "outputs": [],
   "source": [
    "from IPython.core.display import display, HTML\n",
    "\n",
    "import songhay.utilities.elementtree as ET"
   ]
  },
  {
   "cell_type": "markdown",
   "metadata": {},
   "source": [
    "## generating `movie` data\n"
   ]
  },
  {
   "cell_type": "code",
   "execution_count": 2,
   "metadata": {},
   "outputs": [],
   "source": [
    "movie_data = dict(\n",
    "    uniqueids=[\n",
    "        {\n",
    "            'type': 'ww.bbc.co.uk',\n",
    "            'uniqueid': 'programmes/b06wdzd1/'\n",
    "        },\n",
    "    ],\n",
    "    title='Bloody Queens: Elizabeth and Mary',\n",
    "    plot='Of all the dangers Elizabeth I had to survive—the Spanish Armada, a Catholic continent plotting against her incessantly, restless nobles uneasy at serving a queen who refused to marry—none was so personally intense as her rivalry with another woman—her cousin and fellow queen, Mary, Queen of Scots. This was her longest, most gruelling battle—lasting over two decades, it threatened to tear apart both Elizabeth and her kingdom. In the end, it would force her to make the hardest decision of her life.',\n",
    "    genre='documentary',\n",
    "    country='United Kingdom',\n",
    "    director='Renny Bartlett',\n",
    "    year='2016',\n",
    "    actors=[{\n",
    "        'name': 'Helen Bradbury',\n",
    "        'role': 'Elizabeth I',\n",
    "        'src': 'https://cdn.celebsagewiki.com/profile/10/helen-bradbury.jpg'\n",
    "    },{\n",
    "        'name': 'Beth Cooke',\n",
    "        'role': 'Mary, Queen of Scots',\n",
    "        'src': 'https://m.media-amazon.com/images/M/MV5BN2Y0MDY4NmEtNzZmMS00NDcyLWIxNDktMjJmOTU5ZGY0MzM5XkEyXkFqcGdeQXVyMzI1OTc4NjA@._V1.jpg'\n",
    "    },]\n",
    ")\n",
    "\n",
    "ET.getMovieXmlTree(movie_data).write(\n",
    "    f'./elementtree-bloody-queens/{movie_data[\"title\"].replace(\":\", \" -\")} ({movie_data[\"year\"]}).nfo',\n",
    "    encoding='utf-8',\n",
    "    xml_declaration=True)"
   ]
  }
 ],
 "metadata": {
  "kernelspec": {
   "display_name": "Python 3.7.13 ('base')",
   "language": "python",
   "name": "python3"
  },
  "language_info": {
   "codemirror_mode": {
    "name": "ipython",
    "version": 3
   },
   "file_extension": ".py",
   "mimetype": "text/x-python",
   "name": "python",
   "nbconvert_exporter": "python",
   "pygments_lexer": "ipython3",
   "version": "3.7.13"
  },
  "orig_nbformat": 4,
  "vscode": {
   "interpreter": {
    "hash": "2248ed64bdf5fe1d2cc35d4639eff9d9517212412e82087913ac56aa4ab59c78"
   }
  }
 },
 "nbformat": 4,
 "nbformat_minor": 2
}
