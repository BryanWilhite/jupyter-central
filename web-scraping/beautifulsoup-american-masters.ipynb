{
 "cells": [
  {
   "attachments": {},
   "cell_type": "markdown",
   "metadata": {},
   "source": [
    "# American Masters (1986)\n",
    "\n",
    "<https://thetvdb.com/series/american-masters>\n",
    "\n",
    "![American Masters banner](https://artworks.thetvdb.com/banners/v4/series/81727/clearlogo/611c6a01418f1.png)\n"
   ]
  },
  {
   "attachments": {},
   "cell_type": "markdown",
   "metadata": {},
   "source": [
    "These notes preserve my memories of auto-generating [Kodi](https://kodi.tv/) [[GitHub](https://github.com/xbmc)] `tvshow` and `episodedetails` XML files in `*.nfo` formats.\n",
    "\n",
    "This `*.nfo` format is kind of covered in the following documents:\n",
    "\n",
    "- [NFO files](https://kodi.wiki/view/NFO_files)\n",
    "- [NFO files/TV shows](https://kodi.wiki/view/NFO_files/TV_shows)\n",
    "- [NFO files/Episodes](https://kodi.wiki/view/NFO_files/Episodes)\n"
   ]
  },
  {
   "cell_type": "code",
   "execution_count": 1,
   "metadata": {},
   "outputs": [],
   "source": [
    "from IPython.core.display import display, HTML\n",
    "\n",
    "import songhay.utilities.elementtree as ET\n",
    "import songhay.utilities.soup as bs\n",
    "\n",
    "import songhay.soup.thetvdb.series as series"
   ]
  },
  {
   "attachments": {},
   "cell_type": "markdown",
   "metadata": {},
   "source": [
    "## generating `tvshow` data\n"
   ]
  },
  {
   "cell_type": "code",
   "execution_count": 2,
   "metadata": {},
   "outputs": [],
   "source": [
    "series_location = 'https://thetvdb.com/series/american-masters'\n",
    "series_soup = bs.getSoup(series_location)\n",
    "\n",
    "series_basic_info = dict(series.yieldSeriesBasicInfo(series_soup))\n",
    "\n",
    "series_data = dict(\n",
    "    uniqueids=[\n",
    "        {\n",
    "            'type': 'tvdb',\n",
    "            'uniqueid': 'series/american-masters'\n",
    "        },\n",
    "        {\n",
    "            'type': 'imdb',\n",
    "            'uniqueid': 'tt0364151'\n",
    "        },\n",
    "    ],\n",
    "    title=series.getSeriesTitle(series_soup),\n",
    "    plot=series.getSeriesPlot(series_soup),\n",
    "    thumbs=[\n",
    "        {\n",
    "            'aspect': 'banner',\n",
    "            'dim': None,\n",
    "            'season': None,\n",
    "            'src': 'https://artworks.thetvdb.com/banners/graphical/81727-g2.jpg'\n",
    "        },\n",
    "        {\n",
    "            'aspect': 'poster',\n",
    "            'dim': None,\n",
    "            'season': None, # maps to the top-level movie poster\n",
    "            'src': 'https://artworks.thetvdb.com/banners/v4/series/81727/posters/60ce5ea5a1e63.jpg'\n",
    "        },\n",
    "        {\n",
    "            'aspect': 'fanart',\n",
    "            'dim': '1280x720',\n",
    "            'season': 1,\n",
    "            'src': 'https://artworks.thetvdb.com/banners/fanart/original/81727-5.jpg'\n",
    "        },\n",
    "    ],\n",
    "    genres=series_basic_info['Genres'],\n",
    "    actors=[{\n",
    "        'name': 'Josh Hamilton',\n",
    "        'role': 'himself',\n",
    "        'src': 'https://image.tmdb.org/t/p/w132_and_h132_face/nckOejjgliMjF0vwmra2lKIODUL.jpg'\n",
    "    }]\n",
    ")\n",
    "\n",
    "ET.getTVShowXmlTree(series_data).write(\n",
    "    './beautifulsoup-american-masters/tvshow.nfo',\n",
    "    encoding='utf-8',\n",
    "    xml_declaration=True)"
   ]
  },
  {
   "attachments": {},
   "cell_type": "markdown",
   "metadata": {},
   "source": [
    "## generating `episodedetails` data\n"
   ]
  },
  {
   "cell_type": "code",
   "execution_count": 3,
   "metadata": {},
   "outputs": [
    {
     "data": {
      "text/html": [
       "<table class=\"table table-bordered\">\n",
       "<thead>\n",
       "<tr>\n",
       "<th width=\"15%\"></th>\n",
       "<th>Name</th>\n",
       "<th width=\"30%\">First Aired</th>\n",
       "<th width=\"15%\">Runtime</th>\n",
       "<th width=\"10%\">Image</th>\n",
       "</tr>\n",
       "</thead>\n",
       "<tbody>\n",
       "<tr>\n",
       "<td>S27E01</td>\n",
       "<td>\n",
       "<a href=\"/series/american-masters/episodes/4508445\">\r\n",
       "                                        Sister Rosetta Tharpe: The Godmother of Rock &amp; Roll\r\n",
       "                                    </a>\n",
       "</td>\n",
       "<td>\n",
       "<div>February 22, 2013</div>\n",
       "<div>PBS</div>\n",
       "</td>\n",
       "<td>\r\n",
       "                                                                            90\r\n",
       "                                                                    </td>\n",
       "<td>\n",
       "<i aria-hidden=\"true\" class=\"fa fa-picture-o\"></i>\n",
       "</td>\n",
       "</tr>\n",
       "<tr>\n",
       "<td>S27E02</td>\n",
       "<td>\n",
       "<a href=\"/series/american-masters/episodes/4536969\">\r\n",
       "                                        Philip Roth: Unmasked\r\n",
       "                                    </a>\n",
       "</td>\n",
       "<td>\n",
       "<div>March 29, 2013</div>\n",
       "<div>PBS</div>\n",
       "</td>\n",
       "<td>\r\n",
       "                                                                            90\r\n",
       "                                                                    </td>\n",
       "<td>\n",
       "<i aria-hidden=\"true\" class=\"fa fa-picture-o\"></i>\n",
       "</td>\n",
       "</tr>\n",
       "<tr>\n",
       "<td>S27E03</td>\n",
       "<td>\n",
       "<a href=\"/series/american-masters/episodes/4575803\">\r\n",
       "                                        Mel Brooks: Make a Noise\r\n",
       "                                    </a>\n",
       "</td>\n",
       "<td>\n",
       "<div>May 20, 2013</div>\n",
       "<div>PBS</div>\n",
       "</td>\n",
       "<td>\r\n",
       "                                                                            90\r\n",
       "                                                                    </td>\n",
       "<td>\n",
       "<i aria-hidden=\"true\" class=\"fa fa-picture-o\"></i>\n",
       "</td>\n",
       "</tr>\n",
       "<tr>\n",
       "<td>S27E04</td>\n",
       "<td>\n",
       "<a href=\"/series/american-masters/episodes/4655770\">\r\n",
       "                                        Billie Jean King\r\n",
       "                                    </a>\n",
       "</td>\n",
       "<td>\n",
       "<div>September 10, 2013</div>\n",
       "<div>PBS</div>\n",
       "</td>\n",
       "<td>\r\n",
       "                                                                            90\r\n",
       "                                                                    </td>\n",
       "<td>\n",
       "<i aria-hidden=\"true\" class=\"fa fa-picture-o\"></i>\n",
       "</td>\n",
       "</tr>\n",
       "<tr>\n",
       "<td>S27E05</td>\n",
       "<td>\n",
       "<a href=\"/series/american-masters/episodes/4705387\">\r\n",
       "                                        Jimi Hendrix: Hear My Train a Comin'\r\n",
       "                                    </a>\n",
       "<div class=\"small text-muted\">season finale</div>\n",
       "</td>\n",
       "<td>\n",
       "<div>November 5, 2013</div>\n",
       "<div>PBS</div>\n",
       "</td>\n",
       "<td>\r\n",
       "                                                                            90\r\n",
       "                                                                    </td>\n",
       "<td>\n",
       "<i aria-hidden=\"true\" class=\"fa fa-picture-o\"></i>\n",
       "</td>\n",
       "</tr>\n",
       "</tbody>\n",
       "</table>"
      ],
      "text/plain": [
       "<IPython.core.display.HTML object>"
      ]
     },
     "metadata": {},
     "output_type": "display_data"
    }
   ],
   "source": [
    "season_location = 'https://thetvdb.com/series/american-masters/seasons/official/27'\n",
    "\n",
    "dvd_episode_soup = bs.getSoup(season_location)\n",
    "table = dvd_episode_soup.find('table')\n",
    "\n",
    "display(HTML(table.decode()))"
   ]
  },
  {
   "cell_type": "code",
   "execution_count": 4,
   "metadata": {},
   "outputs": [
    {
     "data": {
      "text/plain": [
       "[{'episode': 'S27E01',\n",
       "  'title': 'Sister Rosetta Tharpe: The Godmother of Rock & Roll',\n",
       "  'plot': 'Despite not being a household name today, Sister Rosetta Tharpe is one of the most influential artists of the 20th century. Her flamboyance, skill, and showmanship on the newly electrified guitar played a vital role in the conception of Rock & Roll as a genre of music. Featuring archival performances and using new interviews with fellow musicians, producers, friends, and colleagues, this film tells the story of a talented and determined woman that introduces spiritual passion of her gospel music background into Rock & Roll. Learn more about Sister Rosetta Tharpe, her life story, and lasting artistic legacy.',\n",
       "  'year': '2013'},\n",
       " {'episode': 'S27E02',\n",
       "  'title': 'Philip Roth: Unmasked',\n",
       "  'plot': 'American Masters explores the life and career of Pulitzer Prize- and National Book Award-winning novelist Philip Roth, often referred to as the greatest living American writer. Reclusive and diffident, Roth grants very few interviews, but for the first time, allowed a journalist to spend 10 days interviewing him on camera.',\n",
       "  'year': '2013'},\n",
       " {'episode': 'S27E03',\n",
       "  'title': 'Mel Brooks: Make a Noise',\n",
       "  'plot': 'Mel Brooks: Make a Noise journeys through Brooks’ early years in the creative beginnings of live television — with Sid Caesar on Your Show of Shows — to the film genres he so successfully satirized in Young Frankenstein, Blazing Saddles, High Anxiety, and Spaceballs — to the groundbreaking Broadway musical version of his first film, The Producers. The documentary also delves into his professional and personal ups and downs — his childhood, his first wife and subsequent 41-year marriage to Anne Bancroft — capturing a never-before-heard sense of reflection and confession.\\r\\n\\r\\nRobert Trachtenberg is writer, director, producer, and editor. Susan Lacy is American Masters series creator and executive producer.',\n",
       "  'year': '2013'},\n",
       " {'episode': 'S27E04',\n",
       "  'title': 'Billie Jean King',\n",
       "  'plot': 'For the first time, American Masters profiles a sports figure: Billie Jean King, a determined woman who has been a major force in changing and democratizing the cultural landscape. American Masters Billie Jean King premieres nationally Tuesday, September 10, 2013 at 8 p.m. on PBS (check local listings) to commemorate the 40th anniversaries of the Billie Jean King v. Bobby Riggs “The Battle of the Sexes” match on Sept. 20, 1973, and the founding of the Women’s Tennis Association (WTA) by King on June 20 of that year. This new documentary traces the incredible life of the single most important female athlete of the 20th century as her 70th birthday nears.',\n",
       "  'year': '2013'},\n",
       " {'episode': 'S27E05',\n",
       "  'title': \"Jimi Hendrix: Hear My Train a Comin'\",\n",
       "  'plot': \"The documentary unveils previously unseen performance footage and home movies while sourcing an extensive archive to provide new insight into the musician's personality and genius with interviews with those closest to him. The film details the meteoric rise of the Experience, the creation of his groundbreaking music, the building of Electric Lady Studios, and concludes with his final performance in Germany in September 1970, just 12 days before his death at age 27. Directed by Bob Smeaton.\",\n",
       "  'year': '2013'}]"
      ]
     },
     "execution_count": 4,
     "metadata": {},
     "output_type": "execute_result"
    }
   ],
   "source": [
    "import songhay.soup.thetvdb.episode as episode\n",
    "\n",
    "episode_data = list(episode.yieldEpisodeData(table))\n",
    "episode_data"
   ]
  },
  {
   "cell_type": "code",
   "execution_count": 5,
   "metadata": {},
   "outputs": [],
   "source": [
    "nfo_location_template = f\"./beautifulsoup-american-masters/{series_data['title']}\""
   ]
  },
  {
   "cell_type": "code",
   "execution_count": 6,
   "metadata": {},
   "outputs": [],
   "source": [
    "for item in episode_data:\n",
    "    episode = item['episode']\n",
    "    year = item['year']\n",
    "    xml_tree = ET.getEpisodeDetailsXmlTree(item['title'], item['plot'])\n",
    "    ET.writeEpisodeDetailsXml(nfo_location_template, episode, year, xml_tree)\n"
   ]
  },
  {
   "attachments": {},
   "cell_type": "markdown",
   "metadata": {},
   "source": [
    "[Bryan Wilhite is on LinkedIn](https://www.linkedin.com/in/wilhite)🇺🇸💼\n"
   ]
  }
 ],
 "metadata": {
  "kernelspec": {
   "display_name": "Python 3.7.13 ('base')",
   "language": "python",
   "name": "python3"
  },
  "language_info": {
   "codemirror_mode": {
    "name": "ipython",
    "version": 3
   },
   "file_extension": ".py",
   "mimetype": "text/x-python",
   "name": "python",
   "nbconvert_exporter": "python",
   "pygments_lexer": "ipython3",
   "version": "3.7.13"
  },
  "orig_nbformat": 4,
  "vscode": {
   "interpreter": {
    "hash": "2248ed64bdf5fe1d2cc35d4639eff9d9517212412e82087913ac56aa4ab59c78"
   }
  }
 },
 "nbformat": 4,
 "nbformat_minor": 2
}
