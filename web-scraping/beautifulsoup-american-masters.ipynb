{
 "cells": [
  {
   "attachments": {},
   "cell_type": "markdown",
   "metadata": {},
   "source": [
    "# American Masters (1986)\n",
    "\n",
    "<https://thetvdb.com/series/american-masters>\n",
    "\n",
    "![American Masters banner](https://artworks.thetvdb.com/banners/v4/series/81727/clearlogo/611c6a01418f1.png)\n"
   ]
  },
  {
   "attachments": {},
   "cell_type": "markdown",
   "metadata": {},
   "source": [
    "These notes preserve my memories of auto-generating [Kodi](https://kodi.tv/) [[GitHub](https://github.com/xbmc)] `tvshow` and `episodedetails` XML files in `*.nfo` formats.\n",
    "\n",
    "This `*.nfo` format is kind of covered in the following documents:\n",
    "\n",
    "- [NFO files](https://kodi.wiki/view/NFO_files)\n",
    "- [NFO files/TV shows](https://kodi.wiki/view/NFO_files/TV_shows)\n",
    "- [NFO files/Episodes](https://kodi.wiki/view/NFO_files/Episodes)\n"
   ]
  },
  {
   "cell_type": "code",
   "execution_count": 1,
   "metadata": {},
   "outputs": [
    {
     "name": "stderr",
     "output_type": "stream",
     "text": [
      "/tmp/ipykernel_1108207/3546093339.py:1: DeprecationWarning: Importing display from IPython.core.display is deprecated since IPython 7.14, please import from IPython display\n",
      "  from IPython.core.display import display, HTML\n"
     ]
    }
   ],
   "source": [
    "from IPython.core.display import display, HTML\n",
    "\n",
    "import songhay.utilities.elementtree as ET\n",
    "import songhay.utilities.soup as bs\n",
    "\n",
    "import songhay.soup.thetvdb.series as series"
   ]
  },
  {
   "attachments": {},
   "cell_type": "markdown",
   "metadata": {},
   "source": [
    "## generating `tvshow` data\n"
   ]
  },
  {
   "cell_type": "code",
   "execution_count": 2,
   "metadata": {},
   "outputs": [],
   "source": [
    "series_location = 'https://thetvdb.com/series/american-masters'\n",
    "series_soup = bs.getSoup(series_location)\n",
    "\n",
    "series_basic_info = dict(series.yieldSeriesBasicInfo(series_soup))\n",
    "\n",
    "series_data = dict(\n",
    "    uniqueids=[\n",
    "        {\n",
    "            'type': 'tvdb',\n",
    "            'uniqueid': 'series/american-masters'\n",
    "        },\n",
    "        {\n",
    "            'type': 'imdb',\n",
    "            'uniqueid': 'tt0364151'\n",
    "        },\n",
    "    ],\n",
    "    title=series.getSeriesTitle(series_soup),\n",
    "    plot=series.getSeriesPlot(series_soup),\n",
    "    thumbs=[\n",
    "        {\n",
    "            'aspect': 'banner',\n",
    "            'dim': None,\n",
    "            'season': None,\n",
    "            'src': 'https://artworks.thetvdb.com/banners/graphical/81727-g2.jpg'\n",
    "        },\n",
    "        {\n",
    "            'aspect': 'poster',\n",
    "            'dim': None,\n",
    "            'season': None, # maps to the top-level movie poster\n",
    "            'src': 'https://artworks.thetvdb.com/banners/v4/series/81727/posters/60ce5ea5a1e63.jpg'\n",
    "        },\n",
    "        {\n",
    "            'aspect': 'fanart',\n",
    "            'dim': '1280x720',\n",
    "            'season': 1,\n",
    "            'src': 'https://artworks.thetvdb.com/banners/fanart/original/81727-5.jpg'\n",
    "        },\n",
    "    ],\n",
    "    genres=series_basic_info['Genres'],\n",
    "    actors=[{\n",
    "        'name': 'Josh Hamilton',\n",
    "        'role': 'himself',\n",
    "        'src': 'https://image.tmdb.org/t/p/w132_and_h132_face/nckOejjgliMjF0vwmra2lKIODUL.jpg'\n",
    "    }]\n",
    ")\n",
    "\n",
    "ET.getTVShowXmlTree(series_data).write(\n",
    "    './beautifulsoup-american-masters/tvshow.nfo',\n",
    "    encoding='utf-8',\n",
    "    xml_declaration=True)"
   ]
  },
  {
   "attachments": {},
   "cell_type": "markdown",
   "metadata": {},
   "source": [
    "## generating `episodedetails` data\n"
   ]
  },
  {
   "cell_type": "code",
   "execution_count": 3,
   "metadata": {},
   "outputs": [
    {
     "data": {
      "text/html": [
       "<table class=\"table table-bordered\">\n",
       "<thead>\n",
       "<tr>\n",
       "<th width=\"15%\"></th>\n",
       "<th>Name</th>\n",
       "<th width=\"30%\">First Aired</th>\n",
       "<th width=\"15%\">Runtime</th>\n",
       "<th width=\"10%\">Image</th>\n",
       "</tr>\n",
       "</thead>\n",
       "<tbody>\n",
       "<tr>\n",
       "<td>S39E01</td>\n",
       "<td>\n",
       "<a href=\"/series/american-masters/episodes/10865066\">\r\n",
       "                                        The Disappearance of Miss Scott\r\n",
       "                                    </a>\n",
       "</td>\n",
       "<td>\n",
       "<div>February 21, 2025</div>\n",
       "<div>PBS</div>\n",
       "</td>\n",
       "<td>\r\n",
       "                                                                            83\r\n",
       "                                                                    </td>\n",
       "<td>\n",
       "<i aria-hidden=\"true\" class=\"fa fa-picture-o\"></i>\n",
       "</td>\n",
       "</tr>\n",
       "<tr>\n",
       "<td>S39E02</td>\n",
       "<td>\n",
       "<a href=\"/series/american-masters/episodes/10984199\">\r\n",
       "                                        Liza: A Truly Terrific, Absolutely True Story\r\n",
       "                                    </a>\n",
       "</td>\n",
       "<td>\n",
       "<div>April 1, 2025</div>\n",
       "<div>PBS</div>\n",
       "</td>\n",
       "<td>\r\n",
       "                                                                            102\r\n",
       "                                                                    </td>\n",
       "<td>\n",
       "<i aria-hidden=\"true\" class=\"fa fa-picture-o\"></i>\n",
       "</td>\n",
       "</tr>\n",
       "<tr>\n",
       "<td>S39E03</td>\n",
       "<td>\n",
       "<a href=\"/series/american-masters/episodes/10984200\">\r\n",
       "                                        Art Spiegelman: Disaster is My Muse\r\n",
       "                                    </a>\n",
       "</td>\n",
       "<td>\n",
       "<div>April 15, 2025</div>\n",
       "<div>PBS</div>\n",
       "</td>\n",
       "<td>\r\n",
       "                                                                            96\r\n",
       "                                                                    </td>\n",
       "<td>\n",
       "<i aria-hidden=\"true\" class=\"fa fa-picture-o\"></i>\n",
       "</td>\n",
       "</tr>\n",
       "<tr>\n",
       "<td>S39E04</td>\n",
       "<td>\n",
       "<a href=\"/series/american-masters/episodes/11221206\">\r\n",
       "                                        Janis Ian: Breaking Silence\r\n",
       "                                    </a>\n",
       "</td>\n",
       "<td>\n",
       "<div>June 19, 2025</div>\n",
       "<div>PBS</div>\n",
       "</td>\n",
       "<td>\r\n",
       "                                                                            111\r\n",
       "                                                                    </td>\n",
       "<td>\n",
       "<i aria-hidden=\"true\" class=\"fa fa-picture-o\"></i>\n",
       "</td>\n",
       "</tr>\n",
       "<tr>\n",
       "<td>S39E05</td>\n",
       "<td>\n",
       "<a href=\"/series/american-masters/episodes/10861600\">\r\n",
       "                                        Hannah Arendt: Facing Tyranny\r\n",
       "                                    </a>\n",
       "</td>\n",
       "<td>\n",
       "<div>June 27, 2025</div>\n",
       "<div>PBS</div>\n",
       "</td>\n",
       "<td>\r\n",
       "                                                                            90\r\n",
       "                                                                    </td>\n",
       "<td>\n",
       "<i aria-hidden=\"true\" class=\"fa fa-picture-o\"></i>\n",
       "</td>\n",
       "</tr>\n",
       "<tr>\n",
       "<td>S39E06</td>\n",
       "<td>\n",
       "<a href=\"/series/american-masters/episodes/11221207\">\r\n",
       "                                        Marcella\r\n",
       "                                    </a>\n",
       "</td>\n",
       "<td>\n",
       "<div>July 11, 2025</div>\n",
       "<div>PBS</div>\n",
       "</td>\n",
       "<td>\r\n",
       "                                                                            90\r\n",
       "                                                                    </td>\n",
       "<td>\n",
       "<i aria-hidden=\"true\" class=\"fa fa-picture-o\"></i>\n",
       "</td>\n",
       "</tr>\n",
       "<tr>\n",
       "<td>S39E07</td>\n",
       "<td>\n",
       "<a href=\"/series/american-masters/episodes/11324386\">\r\n",
       "                                        Marlee Matlin: Not Alone Anymore\r\n",
       "                                    </a>\n",
       "</td>\n",
       "<td>\n",
       "<div>October 14, 2025</div>\n",
       "<div>PBS</div>\n",
       "</td>\n",
       "<td>\n",
       "</td>\n",
       "<td>\n",
       "<i aria-hidden=\"true\" class=\"fa fa-picture-o\"></i>\n",
       "</td>\n",
       "</tr>\n",
       "</tbody>\n",
       "</table>"
      ],
      "text/plain": [
       "<IPython.core.display.HTML object>"
      ]
     },
     "metadata": {},
     "output_type": "display_data"
    }
   ],
   "source": [
    "season_location = 'https://thetvdb.com/series/american-masters/seasons/official/39'\n",
    "\n",
    "dvd_episode_soup = bs.getSoup(season_location)\n",
    "table = dvd_episode_soup.find('table')\n",
    "\n",
    "display(HTML(table.decode()))"
   ]
  },
  {
   "cell_type": "code",
   "execution_count": 4,
   "metadata": {},
   "outputs": [
    {
     "data": {
      "text/plain": [
       "[{'episode': 'S39E01',\n",
       "  'title': 'The Disappearance of Miss Scott',\n",
       "  'plot': 'Hazel Scott was one of the most revered stars of the early 20th century. A beloved musical sensation, a Hollywood star, and the first Black American to host their own television show, she also used her star power to be an influential voice of the nascent Civil Rights Movement—until she was blacklisted during the 1950s Red Scare. Her story has been mostly silenced until this film, based on her unpublished autobiography.',\n",
       "  'year': '2025'},\n",
       " {'episode': 'S39E02',\n",
       "  'title': 'Liza: A Truly Terrific, Absolutely True Story',\n",
       "  'plot': 'Take an intimate look into the life of Liza Minnelli, best known for her Oscar-winning role in Cabaret. Following in the footsteps of her mother Judy Garland, Minnelli used her boundless raw talent to build her own legacy in showbiz.',\n",
       "  'year': '2025'},\n",
       " {'episode': 'S39E03',\n",
       "  'title': 'Art Spiegelman: Disaster is My Muse',\n",
       "  'plot': 'Explore the work of cartoonist Art Spiegelman and the impact of his Pulitzer Prize-winning graphic novel Maus, about his parents’ survival of the Holocaust. A defender of free speech, Spiegelman has spoken out as book bans spread across the country.',\n",
       "  'year': '2025'},\n",
       " {'episode': 'S39E04',\n",
       "  'title': 'Janis Ian: Breaking Silence',\n",
       "  'plot': 'Discover the life of singer-songwriter Janis Ian and how she rose as a folk icon and gay rights advocate. She broke ground with “Society’s Child” (1966), a bold take on interracial love, and “At Seventeen” (1975), a searing anthem about bullying.',\n",
       "  'year': '2025'},\n",
       " {'episode': 'S39E05',\n",
       "  'title': 'Hannah Arendt: Facing Tyranny',\n",
       "  'plot': 'Discover Hannah Arendt, one of the most fearless political thinkers of the 20th century, who transformed her time as a political prisoner and refugee during World War II into daring insights about totalitarianism which continue to resonate today.',\n",
       "  'year': '2025'},\n",
       " {'episode': 'S39E06',\n",
       "  'title': 'Marcella',\n",
       "  'plot': 'Discover how celebrated writer Marcella Hazan shaped Italian cuisine in America. After immigrating to New York in the 1950s, she began making authentic dishes from her Italian roots and inspired millions of Americans with her cookbooks.',\n",
       "  'year': '2025'},\n",
       " {'episode': 'S39E07',\n",
       "  'title': 'Marlee Matlin: Not Alone Anymore',\n",
       "  'plot': 'Learn about the life and career of 4-time Emmy nominee Marlee Matlin as she shares her story in her native American Sign Language. Known for roles in The West Wing and CODA, at 21 years old, Matlin became the first Deaf actor to win an Oscar.',\n",
       "  'year': '2025'}]"
      ]
     },
     "execution_count": 4,
     "metadata": {},
     "output_type": "execute_result"
    }
   ],
   "source": [
    "import songhay.soup.thetvdb.episode as episode\n",
    "\n",
    "episode_data = list(episode.yieldEpisodeData(table))\n",
    "episode_data"
   ]
  },
  {
   "cell_type": "code",
   "execution_count": 5,
   "metadata": {},
   "outputs": [],
   "source": [
    "nfo_location_template = f\"./beautifulsoup-american-masters/{series_data['title']}\""
   ]
  },
  {
   "cell_type": "code",
   "execution_count": 6,
   "metadata": {},
   "outputs": [],
   "source": [
    "for item in episode_data:\n",
    "    episode = item['episode']\n",
    "    year = item['year']\n",
    "    xml_tree = ET.getEpisodeDetailsXmlTree(item['title'], item['plot'])\n",
    "    ET.writeEpisodeDetailsXml(nfo_location_template, episode, year, xml_tree)\n"
   ]
  },
  {
   "attachments": {},
   "cell_type": "markdown",
   "metadata": {},
   "source": [
    "[Bryan Wilhite is on LinkedIn](https://www.linkedin.com/in/wilhite)🇺🇸💼\n"
   ]
  }
 ],
 "metadata": {
  "kernelspec": {
   "display_name": "base",
   "language": "python",
   "name": "python3"
  },
  "language_info": {
   "codemirror_mode": {
    "name": "ipython",
    "version": 3
   },
   "file_extension": ".py",
   "mimetype": "text/x-python",
   "name": "python",
   "nbconvert_exporter": "python",
   "pygments_lexer": "ipython3",
   "version": "3.8.13"
  },
  "orig_nbformat": 4
 },
 "nbformat": 4,
 "nbformat_minor": 2
}
