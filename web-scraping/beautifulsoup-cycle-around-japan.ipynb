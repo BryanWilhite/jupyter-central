{
 "cells": [
  {
   "attachments": {},
   "cell_type": "markdown",
   "metadata": {},
   "source": [
    "# Cycle Around Japan (2014)\n",
    "\n",
    "<https://thetvdb.com/series/cycle-around-japan>\n",
    "\n",
    "![Cycle Around Japan](https://artworks.thetvdb.com/banners/graphical/329370-g.jpg)"
   ]
  },
  {
   "attachments": {},
   "cell_type": "markdown",
   "metadata": {},
   "source": [
    "These notes preserve my memories of auto-generating [Kodi](https://kodi.tv/) [[GitHub](https://github.com/xbmc)] `tvshow` and `episodedetails` XML files in `*.nfo` formats.\n",
    "\n",
    "This `*.nfo` format is kind of covered in the following documents:\n",
    "\n",
    "- [NFO files](https://kodi.wiki/view/NFO_files)\n",
    "- [NFO files/TV shows](https://kodi.wiki/view/NFO_files/TV_shows)\n",
    "- [NFO files/Episodes](https://kodi.wiki/view/NFO_files/Episodes)\n"
   ]
  },
  {
   "cell_type": "code",
   "execution_count": 1,
   "metadata": {},
   "outputs": [],
   "source": [
    "from IPython.core.display import display, HTML\n",
    "\n",
    "import songhay.utilities.elementtree as ET\n",
    "import songhay.utilities.soup as bs\n",
    "\n",
    "import songhay.soup.thetvdb.series as series"
   ]
  },
  {
   "attachments": {},
   "cell_type": "markdown",
   "metadata": {},
   "source": [
    "## generating `tvshow` data"
   ]
  },
  {
   "cell_type": "code",
   "execution_count": 9,
   "metadata": {},
   "outputs": [],
   "source": [
    "series_location = 'https://thetvdb.com/series/cycle-around-japan'\n",
    "series_soup = bs.getSoup(series_location)\n",
    "\n",
    "series_basic_info = dict(series.yieldSeriesBasicInfo(series_soup))\n",
    "\n",
    "series_data = dict(\n",
    "    uniqueids=[\n",
    "        {\n",
    "            'type': 'tvdb',\n",
    "            'uniqueid': 'series/secrets-of-the-dead'\n",
    "        },\n",
    "        {\n",
    "            'type': 'imdb',\n",
    "            'uniqueid': 'tt0354333'\n",
    "        },\n",
    "    ],\n",
    "    title=series.getSeriesTitle(series_soup).replace('New ', ''),\n",
    "    plot=series.getSeriesPlot(series_soup),\n",
    "    thumbs=[\n",
    "        {\n",
    "            'aspect': 'banner',\n",
    "            'dim': None,\n",
    "            'season': None,\n",
    "            'src': 'https://artworks.thetvdb.com/banners/graphical/329370-g.jpg'\n",
    "        },\n",
    "        {\n",
    "            'aspect': 'poster',\n",
    "            'dim': None,\n",
    "            'season': None, # maps to the top-level movie poster\n",
    "            'src': 'https://artworks.thetvdb.com/banners/posters/329370-1.jpg'\n",
    "        },\n",
    "    ],\n",
    "    genres=series_basic_info['Genres'],\n",
    "    actors=[]\n",
    ")\n",
    "\n",
    "ET.getTVShowXmlTree(series_data).write(\n",
    "    './beautifulsoup-cycle-around-japan/tvshow.nfo',\n",
    "    encoding='utf-8',\n",
    "    xml_declaration=True)"
   ]
  },
  {
   "attachments": {},
   "cell_type": "markdown",
   "metadata": {},
   "source": [
    "## generating `episodedetails` data\n"
   ]
  },
  {
   "cell_type": "code",
   "execution_count": 10,
   "metadata": {},
   "outputs": [
    {
     "data": {
      "text/html": [
       "<table class=\"table table-bordered\">\n",
       "<thead>\n",
       "<tr>\n",
       "<th width=\"15%\"></th>\n",
       "<th>Name</th>\n",
       "<th width=\"30%\">First Aired</th>\n",
       "<th width=\"15%\">Runtime</th>\n",
       "<th width=\"10%\">Image</th>\n",
       "</tr>\n",
       "</thead>\n",
       "<tbody>\n",
       "<tr>\n",
       "<td>S2023E01</td>\n",
       "<td>\n",
       "<a href=\"/series/cycle-around-japan/episodes/9567184\">\r\n",
       "                                        The Nagasaki Kaido - Japan's Sugar Road\r\n",
       "                                    </a>\n",
       "</td>\n",
       "<td>\n",
       "<div>January 14, 2023</div>\n",
       "</td>\n",
       "<td>\r\n",
       "                                                                            49\r\n",
       "                                                                    </td>\n",
       "<td>\n",
       "<i aria-hidden=\"true\" class=\"fa fa-picture-o\"></i>\n",
       "</td>\n",
       "</tr>\n",
       "<tr>\n",
       "<td>S2023E02</td>\n",
       "<td>\n",
       "<a href=\"/series/cycle-around-japan/episodes/9614418\">\r\n",
       "                                        Akita - The Wisdom of Nature\r\n",
       "                                    </a>\n",
       "</td>\n",
       "<td>\n",
       "<div>February 11, 2023</div>\n",
       "<div>NHK</div>\n",
       "</td>\n",
       "<td>\r\n",
       "                                                                            49\r\n",
       "                                                                    </td>\n",
       "<td>\n",
       "<i aria-hidden=\"true\" class=\"fa fa-picture-o\"></i>\n",
       "</td>\n",
       "</tr>\n",
       "<tr>\n",
       "<td>S2023E03</td>\n",
       "<td>\n",
       "<a href=\"/series/cycle-around-japan/episodes/9659476\">\r\n",
       "                                        Tokyo's Islands Niijima and Hachijojima\r\n",
       "                                    </a>\n",
       "</td>\n",
       "<td>\n",
       "<div>March 11, 2023</div>\n",
       "</td>\n",
       "<td>\r\n",
       "                                                                            49\r\n",
       "                                                                    </td>\n",
       "<td>\n",
       "<i aria-hidden=\"true\" class=\"fa fa-picture-o\"></i>\n",
       "</td>\n",
       "</tr>\n",
       "<tr>\n",
       "<td>S2023E04</td>\n",
       "<td>\n",
       "<a href=\"/series/cycle-around-japan/episodes/9728417\">\r\n",
       "                                        Okinawa - A Unique Island Culture\r\n",
       "                                    </a>\n",
       "</td>\n",
       "<td>\n",
       "<div>April 15, 2023</div>\n",
       "</td>\n",
       "<td>\r\n",
       "                                                                            45\r\n",
       "                                                                    </td>\n",
       "<td>\n",
       "<i aria-hidden=\"true\" class=\"fa fa-picture-o\"></i>\n",
       "</td>\n",
       "</tr>\n",
       "</tbody>\n",
       "</table>"
      ],
      "text/plain": [
       "<IPython.core.display.HTML object>"
      ]
     },
     "metadata": {},
     "output_type": "display_data"
    }
   ],
   "source": [
    "episode_location = 'https://thetvdb.com/series/cycle-around-japan/seasons/official/2023'\n",
    "\n",
    "dvd_episode_soup = bs.getSoup(episode_location)\n",
    "table = dvd_episode_soup.find('table')\n",
    "\n",
    "display(HTML(table.decode()))"
   ]
  },
  {
   "cell_type": "code",
   "execution_count": 11,
   "metadata": {},
   "outputs": [
    {
     "data": {
      "text/plain": [
       "[{'episode': 'S2023E01',\n",
       "  'title': \"The Nagasaki Kaido - Japan's Sugar Road\",\n",
       "  'plot': 'In our second episode on Japan\\'s pre-modern highway system, we follow the Nagasaki Kaido. During the Edo period (1603–1868) when the Shogunate prohibited external trade, they allowed one exception\\xa0– the port of Nagasaki Prefecture. Ideas, technology, culture and goods flowed from this port along the Nagasaki Kaido to the rest of Japan. Named the \"Sugar Road\" after one of the most important trade goods, the old highway and those who traveled it had a lasting influence on the communities along its route.',\n",
       "  'year': '2023'},\n",
       " {'episode': 'S2023E02',\n",
       "  'title': 'Akita - The Wisdom of Nature',\n",
       "  'plot': 'From sea to mountains, nature in Akita Prefecture is spectacular. As we ride through the gales of late fall, we see people preparing for the long snows of winter with pickles and preserves. We visit a village where an 800-year-old lacquerware tradition uses timber made fine-grained and strong by the harsh winters. Among the rice paddies we find farmers crafting a huge straw guardian deity, and in a mountain village we meet a man living the ancient way, where everything in life is a gift from the nature gods.',\n",
       "  'year': '2023'},\n",
       " {'episode': 'S2023E03',\n",
       "  'title': \"Tokyo's Islands Niijima and Hachijojima\",\n",
       "  'plot': \"A cycle tour of two remote islands that lie within Tokyo's city limits. On Niijima, we see homes built with a hard volcanic rock called Koga stone, which is also used to make glass art. Locals still carefully tend the graves of exiles banished here during samurai times, who brought education to the island. On Hachijojima, an ancient textile tradition creates complex, subtle patterns using only three colors of plant-dyed yarn. We also sample island food and learn about a much loved local newspaper.\",\n",
       "  'year': '2023'},\n",
       " {'episode': 'S2023E04',\n",
       "  'title': 'Okinawa - A Unique Island Culture',\n",
       "  'plot': \"The subtropical island of Okinawa Prefecture has an environment, climate and culture very different to mainland Japan. An independent kingdom and trading hub until the 17th century, the influence of other Asian cultures is still seen in things like traditional textile designs. We hear folk songs recalling the sufferings and troubled history of Okinawa, from the samurai conquest incorporating it into Japan to the US invasion of WWII. We also discover the secret of the Okinawans' famous longevity – the island food.\",\n",
       "  'year': '2023'}]"
      ]
     },
     "execution_count": 11,
     "metadata": {},
     "output_type": "execute_result"
    }
   ],
   "source": [
    "import songhay.soup.thetvdb.episode as episode\n",
    "\n",
    "episode_data = list(episode.yieldEpisodeData(table))\n",
    "episode_data"
   ]
  },
  {
   "cell_type": "code",
   "execution_count": 12,
   "metadata": {},
   "outputs": [],
   "source": [
    "nfo_location_template = f\"./beautifulsoup-cycle-around-japan/{series_data['title']}\""
   ]
  },
  {
   "cell_type": "code",
   "execution_count": 13,
   "metadata": {},
   "outputs": [],
   "source": [
    "for item in episode_data:\n",
    "    episode = item['episode']\n",
    "    year = item['year']\n",
    "    xml_tree = ET.getEpisodeDetailsXmlTree(item['title'], item['plot'])\n",
    "    ET.writeEpisodeDetailsXml(nfo_location_template, episode, year, xml_tree)\n"
   ]
  },
  {
   "attachments": {},
   "cell_type": "markdown",
   "metadata": {},
   "source": [
    "[Bryan Wilhite is on LinkedIn](https://www.linkedin.com/in/wilhite)🇺🇸💼\n"
   ]
  }
 ],
 "metadata": {
  "kernelspec": {
   "display_name": "base",
   "language": "python",
   "name": "python3"
  },
  "language_info": {
   "codemirror_mode": {
    "name": "ipython",
    "version": 3
   },
   "file_extension": ".py",
   "mimetype": "text/x-python",
   "name": "python",
   "nbconvert_exporter": "python",
   "pygments_lexer": "ipython3",
   "version": "3.7.13"
  },
  "orig_nbformat": 4
 },
 "nbformat": 4,
 "nbformat_minor": 2
}
