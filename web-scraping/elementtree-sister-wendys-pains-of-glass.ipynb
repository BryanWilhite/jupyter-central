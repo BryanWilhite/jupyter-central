{
 "cells": [
  {
   "cell_type": "markdown",
   "metadata": {},
   "source": [
    "# Sister Wendy’s Pains of Glass (1995)\n",
    "\n",
    "<https://www.imdb.com/title/tt0262989/>\n",
    "\n",
    "<https://thetvdb.com/series/sister-wendys-pains-of-glass>\n"
   ]
  },
  {
   "cell_type": "code",
   "execution_count": 1,
   "metadata": {},
   "outputs": [],
   "source": [
    "from IPython.core.display import display, HTML\n",
    "\n",
    "import songhay.utilities.elementtree as ET"
   ]
  },
  {
   "cell_type": "markdown",
   "metadata": {},
   "source": [
    "## generating `movie` data\n"
   ]
  },
  {
   "cell_type": "code",
   "execution_count": 5,
   "metadata": {},
   "outputs": [],
   "source": [
    "movie_data = dict(\n",
    "    uniqueids=[\n",
    "        {\n",
    "            'type': 'imdb',\n",
    "            'uniqueid': 'tt0262989'\n",
    "        },\n",
    "    ],\n",
    "    title='Sister Wendy\\'s Pains of Glass',\n",
    "    plot='Sister Wendy Beckett takes you to Cambridge, England to explore the story of Christ through one of the most remarkable works of Western art—the monumental stained glass Passion Windows at the Chapel of King’s College.',\n",
    "    genre='drama',\n",
    "    country='United States of America ',\n",
    "    director='John Hooper',\n",
    "    year='1995',\n",
    "    actors=[{\n",
    "            'name': 'Sister Wendy Beckett',\n",
    "            'role': 'herself',\n",
    "            'src': 'https://upload.wikimedia.org/wikipedia/commons/thumb/c/cb/Portrait_of_Sister_Wendy_Beckett.jpg/800px-Portrait_of_Sister_Wendy_Beckett.jpg'\n",
    "        }]\n",
    ")\n",
    "\n",
    "ET.getMovieXmlTree(movie_data).write(\n",
    "    f'./elementtree-sister-wendys-pains-of-glass/{movie_data[\"title\"].replace(\":\", \" -\")} ({movie_data[\"year\"]}).nfo',\n",
    "    encoding='utf-8',\n",
    "    xml_declaration=True)"
   ]
  }
 ],
 "metadata": {
  "kernelspec": {
   "display_name": "Python 3.7.13 ('base')",
   "language": "python",
   "name": "python3"
  },
  "language_info": {
   "codemirror_mode": {
    "name": "ipython",
    "version": 3
   },
   "file_extension": ".py",
   "mimetype": "text/x-python",
   "name": "python",
   "nbconvert_exporter": "python",
   "pygments_lexer": "ipython3",
   "version": "3.7.13"
  },
  "orig_nbformat": 4,
  "vscode": {
   "interpreter": {
    "hash": "2248ed64bdf5fe1d2cc35d4639eff9d9517212412e82087913ac56aa4ab59c78"
   }
  }
 },
 "nbformat": 4,
 "nbformat_minor": 2
}
