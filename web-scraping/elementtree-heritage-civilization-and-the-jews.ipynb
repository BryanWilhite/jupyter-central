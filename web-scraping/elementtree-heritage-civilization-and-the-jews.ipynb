{
 "cells": [
  {
   "cell_type": "markdown",
   "source": [
    "# Heritage: Civilization and the Jews (1984)\r\n",
    "\r\n",
    "<https://www.imdb.com/title/tt0205623/>\r\n",
    "\r\n",
    "This title has no web-scraping target. Data will be copied by hand [from IsraDocuMentalist](https://isradocu.blogspot.com/2013/09/heritage-civilization-and-jews.html#.YVD04THMKUk)."
   ],
   "metadata": {}
  },
  {
   "cell_type": "code",
   "execution_count": 1,
   "source": [
    "from IPython.core.display import display, HTML\r\n",
    "\r\n",
    "import songhay.utilities.elementtree as ET"
   ],
   "outputs": [],
   "metadata": {}
  },
  {
   "cell_type": "markdown",
   "source": [
    "## generating `tvshow` data\n"
   ],
   "metadata": {}
  },
  {
   "cell_type": "code",
   "execution_count": 3,
   "source": [
    "series_data = dict(\r\n",
    "    uniqueids=[\r\n",
    "        {\r\n",
    "            'type': 'imdb',\r\n",
    "            'uniqueid': 'tt0205623'\r\n",
    "        },\r\n",
    "    ],\r\n",
    "    title='Heritage: Civilization and the Jews',\r\n",
    "    plot='Winner of the coveted Peabody Award, Heritage: Civilization and the Jews (1984) is the monumental nine-part series spanning three millennia of Jewish history and culture. The series is hosted by former Israeli Ambassador to the United States, Abba Eban, who describes it as \"a celebration of our common humanistic and moral heritage, explored through the mysteries of preservation, renewal, and resonance of the Jewish people.\" From the stony heights of Sinai to the shores of the Dead Sea, from a Greek amphitheater in Delphi to the Forum of ancient Rome, out of the ashes of concentration camps to the rebuilt cities and villages of Israel, \"Heritage\" brings to life the long and complex history of the Jews and their centuries-old interaction with the rest of Western civilization.',\r\n",
    "    thumbs=[\r\n",
    "        {\r\n",
    "            'aspect': 'poster',\r\n",
    "            'dim': None,\r\n",
    "            'season': None, # maps to the top-level movie poster\r\n",
    "            'src': 'https://emergencysurvival.info/img/heritage-civilization-and-the-jews-dvd-2.jpg'\r\n",
    "        },\r\n",
    "        {\r\n",
    "            'aspect': 'poster',\r\n",
    "            'dim': None,\r\n",
    "            'season': 1,\r\n",
    "            'src': 'https://emergencysurvival.info/img/heritage-civilization-and-the-jews-dvd-2.jpg'\r\n",
    "        },\r\n",
    "    ],\r\n",
    "    genres=['documentary'],\r\n",
    "    actors=[{\r\n",
    "        'name': 'Abba Eban',\r\n",
    "        'role': 'himself',\r\n",
    "        'src': 'https://media.gettyimages.com/photos/israeli-diplomat-and-politician-abba-eban-was-the-israeli-ambassador-picture-id543724652?k=6&m=543724652&s=612x612&w=0&h=x7xfeWAzll_dLW0V3qeE1N-icy2OJvwwahRdLxw73c0='\r\n",
    "    }]\r\n",
    ")\r\n",
    "\r\n",
    "ET.getTVShowXmlTree(series_data).write(\r\n",
    "    './elementtree-heritage-civilization-and-the-jews/tvshow.nfo',\r\n",
    "    encoding='utf-8',\r\n",
    "    xml_declaration=True)"
   ],
   "outputs": [],
   "metadata": {}
  },
  {
   "cell_type": "markdown",
   "source": [
    "## generating `episodedetails` data\r\n"
   ],
   "metadata": {}
  },
  {
   "cell_type": "code",
   "execution_count": 8,
   "source": [
    "year = '1984'\r\n",
    "episode_data = [\r\n",
    "        {\r\n",
    "            'episode': 'S01E01',\r\n",
    "            'title': 'A PEOPLE IS BORN (3100 — 586 B.C.E.)',\r\n",
    "            'plot': \"In the experience of exile the vision of the early Israelites was transformed, and the Jewish people was born. In Jewish tradition, the emergence from Egypt has been celebrated by generation after generation in the springtime holiday of Passover, a festival of liberation as passionately observed as any nation's independence day. Through liberation the exiles saw the hand of a universal God. All the world's nations were linked in a common destiny, but bound together by a moral law with inescapable consequences.\",\r\n",
    "            'year': year\r\n",
    "        },\r\n",
    "        {\r\n",
    "            'episode': 'S01E02',\r\n",
    "            'title': 'THE POWER OF THE WORD (586 B.C. — 72 C.E.)',\r\n",
    "            'plot': '\"The Power of the Word\" begins in the abundant land of Babylon, where the exiled Jews of Judah had settled after the conquest of Jerusalem by the Babylonian forces. They had their own vision. They came to believe more profoundly than ever before that there was a universal dimension to their faith — that their God extended to all lands, to all times. \"It was here in Babylon that Jewish scribes compiled writings they had brought from Judah — the history, the laws, the legends of the Jewish people and combined them with what had been passed down by word of mouth to form the first five books of the Bible — the Torah,\" explains Mr. Eban in the program.',\r\n",
    "            'year': year\r\n",
    "        },\r\n",
    "        {\r\n",
    "            'episode': 'S01E03',\r\n",
    "            'title': 'SHAPING OF TRADITIONS (30 — 732 C.E.)',\r\n",
    "            'plot': 'Ambassador Eban continues the story of the Jewish people, when Rome was the ruler of the world and the Jews lived scattered throughout the Mediterranean. Wherever they lived, communities of Jews continued to obey the laws of their own faith. By the year 135, the Roman armies of the emperor Hadrian had crushed the land of Judea. For several years, the teaching of Judaism became a capital crime. \"The Shaping of Traditions\" chronicles the decline of the Roman Empire, a process extending over four centuries, and shows how the Jewish faith continued to survive throughout these turbulent years.',\r\n",
    "            'year': year\r\n",
    "        },\r\n",
    "        {\r\n",
    "            'episode': 'S01E04',\r\n",
    "            'title': 'THE CRUCIBLE OF EUROPE (732 — 1492)',\r\n",
    "            'plot': 'In Islamic Spain, despite periodic persecution, the Jews found a \"golden age\" in the tenth and eleventh centuries. \"In Spain, for more than two centuries, Arabs and Jews lived together, side by side, bound to each other despite differences, by a common love of beauty and knowledge, poetry and music, art and philosophy,\" explains Mr. Eban. \"The Crucible of Europe\" then travels to Northern Europe, where the Latin Church was gradually consolidating its authority. The program looks at the Spanish Inquisition and the disastrous course of events that followed as the Jewish people found themselves trapped in a politically and economically untenable position.',\r\n",
    "            'year': year\r\n",
    "        },\r\n",
    "        {\r\n",
    "            'episode': 'S01E05',\r\n",
    "            'title': 'THE SEARCH FOR DELIVERANCE (1492 — 1789)',\r\n",
    "            'plot': 'This program picks up the thread of Jewish history as the intellectual awakening of the Renaissance began to alter the attitudes and habits of all people. Such scholars as Copernicus, Tycho Brahe, Johanes Kepler, and Galileo began to examine the world around them with new eyes. Abba Eban takes viewers through the narrow alleys of the Venetian ghetto, as he explains the reality of ghetto life. Jewish composers, artists, and poets achieved fame the transcended the ghetto walls. Spanish and Portuguese Jews who had escaped the persecution of the Spanish Inquisition flocked to Amsterdam, known as the \"New Jerusalem\" where refugees from religious intolerance were welcomed.',\r\n",
    "            'year': year\r\n",
    "        },\r\n",
    "        {\r\n",
    "            'episode': 'S01E06',\r\n",
    "            'title': 'ROADS FROM THE GHETTO (1789 — 1925)',\r\n",
    "            'plot': '\"Roads from the Ghetto\" covers the struggles for the enfranchisement of the Jews and other minorities. In country after country for a brief time following the conquest of Napoléon — in Italy, Germany, Austria, Hungary — medieval restrictions were swept aside and political rights were granted to all. For about a decade, until the collapse of Napoléon\\'s empire, Jews were offered political equality and citizenship in the nations of Europe. The program also documents the infamous Dreyfus case in France, which served as springboard for \"anti-Semitism\"; the birth of Zionism and other modern expressions of Judaism; and the waves of Jewish emigration from Europe toward the end of the nineteenth century.',\r\n",
    "            'year': year\r\n",
    "        },\r\n",
    "        {\r\n",
    "            'episode': 'S01E07',\r\n",
    "            'title': 'THE GOLDEN LAND (1654 — 1930s)',\r\n",
    "            'plot': '\"The Golden Land\" describes one of the most important and exciting chapters in Jewish history — the relationship between the United States and the Jewish people. Never before had a country accepted Jewish people with so little resistance. And never before in their 3,000-year history had Jews made such a significant contribution to the shaping and growth of a country. With the wave of pogroms of Russia and the rise of anti-Semitism in Eastern Europe in the late 1800s, a new chapter in the American Jewish story was written. Some two million Jews from all over Eastern Europe converged on the United States from 1880 to 1920.',\r\n",
    "            'year': year\r\n",
    "        },\r\n",
    "        {\r\n",
    "            'episode': 'S01E08',\r\n",
    "            'title': 'OUT OF THE ASHES (1919 — 1947)',\r\n",
    "            'plot': '\"Out of the ashes comes the understanding that no one\\'s life can be guaranteed without constant struggle. Belief in the ultimate ability of humankind to overcome the darkest, most brutal of forces is the light which must carry us forward,\" declares Ambassador Eban in this haunting hour which attempts to illuminate the universal meaning of the Holocaust. Through dramatizations of the anguished words of victims of Nazi terrorism and through rare archival photographs and moving film footage, \"Out of the Ashes\" paints a picture of life in the European \"shtetl\" and later in the concentration camps. \"Out of the Ashes\" attempts to treat the Holocaust not only as a devastating memory of yesterday, but as a profound challenge for today.',\r\n",
    "            'year': year\r\n",
    "        },\r\n",
    "        {\r\n",
    "            'episode': 'S01E09',\r\n",
    "            'title': ' INTO THE FUTURE (1880 — 1990s)',\r\n",
    "            'plot': '\"Into the Future\" picks up the thread of Jewish history after World War II and the devastating effects of the Nazi Holocaust. Although many of the survivors found a haven in the United States, there were still many borders closed to Jewish refugees. Their only hope rested in the Middle East, in Palestine, part of the disintegrating British Empire. This \"Heritage\" episode includes interviews with various Israelis, some of whom emigrated to Palestine in the early years of the twentieth century, as well as some who settled in Israel following World War II. The program examines Israel\\'s relationship to American Jews and modern Jewish communities elsewhere in the world. It reviews the distribution and the state of Jews and addresses the long-rage issues which confront them.',\r\n",
    "            'year': year\r\n",
    "        },\r\n",
    "    ]"
   ],
   "outputs": [],
   "metadata": {}
  },
  {
   "cell_type": "code",
   "execution_count": 9,
   "source": [
    "nfo_location_template = f\"./elementtree-heritage-civilization-and-the-jews/{series_data['title'].replace(':', ' -')}\""
   ],
   "outputs": [],
   "metadata": {}
  },
  {
   "cell_type": "code",
   "execution_count": 10,
   "source": [
    "for item in episode_data:\r\n",
    "    episode = item['episode']\r\n",
    "    year = item['year']\r\n",
    "    xml_tree = ET.getEpisodeDetailsXmlTree(item['title'], item['plot'])\r\n",
    "    ET.writeEpisodeDetailsXml(nfo_location_template, episode, year, xml_tree)\r\n"
   ],
   "outputs": [],
   "metadata": {}
  }
 ],
 "metadata": {
  "orig_nbformat": 4,
  "language_info": {
   "name": "python",
   "version": "3.7.9",
   "mimetype": "text/x-python",
   "codemirror_mode": {
    "name": "ipython",
    "version": 3
   },
   "pygments_lexer": "ipython3",
   "nbconvert_exporter": "python",
   "file_extension": ".py"
  },
  "kernelspec": {
   "name": "python3",
   "display_name": "Python 3.7.9 64-bit"
  },
  "interpreter": {
   "hash": "64558d88fcf2f94a031edeabfb067f5291448f62c636f9bab7767807a169f4df"
  }
 },
 "nbformat": 4,
 "nbformat_minor": 2
}