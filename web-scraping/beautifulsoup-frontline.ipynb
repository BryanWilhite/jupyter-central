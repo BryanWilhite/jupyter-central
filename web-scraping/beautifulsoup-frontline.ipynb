{
 "cells": [
  {
   "cell_type": "markdown",
   "metadata": {},
   "source": [
    "# Frontline (1983)\n",
    "\n",
    "<https://thetvdb.com/series/frontline>\n",
    "\n",
    "![Frontline banner](https://artworks.thetvdb.com/banners/v4/series/80646/clearlogo/611be5fe78a0b.png)\n"
   ]
  },
  {
   "cell_type": "markdown",
   "metadata": {},
   "source": [
    "These notes preserve my memories of auto-generating [Kodi](https://kodi.tv/) [[GitHub](https://github.com/xbmc)] `tvshow` and `episodedetails` XML files in `*.nfo` formats.\n",
    "\n",
    "This `*.nfo` format is kind of covered in the following documents:\n",
    "\n",
    "- [NFO files](https://kodi.wiki/view/NFO_files)\n",
    "- [NFO files/TV shows](https://kodi.wiki/view/NFO_files/TV_shows)\n",
    "- [NFO files/Episodes](https://kodi.wiki/view/NFO_files/Episodes)\n"
   ]
  },
  {
   "cell_type": "code",
   "execution_count": 1,
   "metadata": {},
   "outputs": [
    {
     "name": "stderr",
     "output_type": "stream",
     "text": [
      "<ipython-input-1-cb729c7624de>:1: DeprecationWarning: Importing display from IPython.core.display is deprecated since IPython 7.14, please import from IPython display\n",
      "  from IPython.core.display import display, HTML\n"
     ]
    }
   ],
   "source": [
    "from IPython.core.display import display, HTML\n",
    "\n",
    "import songhay.utilities.elementtree as ET\n",
    "import songhay.utilities.soup as bs\n",
    "\n",
    "import songhay.soup.thetvdb.series as series"
   ]
  },
  {
   "cell_type": "markdown",
   "metadata": {},
   "source": [
    "## generating `tvshow` data\n"
   ]
  },
  {
   "cell_type": "code",
   "execution_count": 2,
   "metadata": {},
   "outputs": [],
   "source": [
    "series_location = 'https://thetvdb.com/series/frontline'\n",
    "series_soup = bs.getSoup(series_location)\n",
    "\n",
    "series_basic_info = dict(series.yieldSeriesBasicInfo(series_soup))\n",
    "\n",
    "series_data = dict(\n",
    "    uniqueids=[\n",
    "        {\n",
    "            'type': 'tvdb',\n",
    "            'uniqueid': 'series/frontline'\n",
    "        },\n",
    "        {\n",
    "            'type': 'imdb',\n",
    "            'uniqueid': 'tt0133302'\n",
    "        },\n",
    "    ],\n",
    "    title=series.getSeriesTitle(series_soup).replace('New ', ''),\n",
    "    plot=series.getSeriesPlot(series_soup),\n",
    "    thumbs=[\n",
    "        {\n",
    "            'aspect': 'banner',\n",
    "            'dim': None,\n",
    "            'season': None,\n",
    "            'src': 'https://artworks.thetvdb.com/banners/v4/series/80646/clearlogo/611be5fe78a0b.png'\n",
    "        },\n",
    "        {\n",
    "            'aspect': 'poster',\n",
    "            'dim': None,\n",
    "            'season': None, # maps to the top-level movie poster\n",
    "            'src': 'https://artworks.thetvdb.com/banners/posters/80646-4.jpg'\n",
    "        },\n",
    "        {\n",
    "            'aspect': 'fanart',\n",
    "            'dim': '1280x720',\n",
    "            'season': 1,\n",
    "            'src': 'https://artworks.thetvdb.com/banners/v4/series/80646/backgrounds/60a69d09b91c0.jpg'\n",
    "        },\n",
    "    ],\n",
    "    genres=series_basic_info['Genres'],\n",
    "    actors=[]\n",
    ")\n",
    "\n",
    "ET.getTVShowXmlTree(series_data).write(\n",
    "    './beautifulsoup-frontline/tvshow.nfo',\n",
    "    encoding='utf-8',\n",
    "    xml_declaration=True)"
   ]
  },
  {
   "cell_type": "markdown",
   "metadata": {},
   "source": [
    "## generating `episodedetails` data\n"
   ]
  },
  {
   "cell_type": "code",
   "execution_count": 3,
   "metadata": {},
   "outputs": [
    {
     "data": {
      "text/html": [
       "<table class=\"table table-bordered\">\n",
       "<thead>\n",
       "<tr>\n",
       "<th width=\"15%\"></th>\n",
       "<th>Name</th>\n",
       "<th width=\"30%\">First Aired</th>\n",
       "<th width=\"15%\">Runtime</th>\n",
       "<th width=\"10%\">Image</th>\n",
       "</tr>\n",
       "</thead>\n",
       "<tbody>\n",
       "<tr>\n",
       "<td>S2024E01</td>\n",
       "<td>\n",
       "<a href=\"/series/frontline/episodes/10270476\">\r\n",
       "                                        Israel's Second Front\r\n",
       "                                    </a>\n",
       "</td>\n",
       "<td>\n",
       "<div>January 23, 2024</div>\n",
       "<div>PBS</div>\n",
       "</td>\n",
       "<td>\r\n",
       "                                                                            26\r\n",
       "                                                                    </td>\n",
       "<td>\n",
       "<i aria-hidden=\"true\" class=\"fa fa-picture-o\"></i>\n",
       "</td>\n",
       "</tr>\n",
       "<tr>\n",
       "<td>S2024E02</td>\n",
       "<td>\n",
       "<a href=\"/series/frontline/episodes/10270477\">\r\n",
       "                                        Democracy on Trial\r\n",
       "                                    </a>\n",
       "</td>\n",
       "<td>\n",
       "<div>January 30, 2024</div>\n",
       "<div>PBS</div>\n",
       "</td>\n",
       "<td>\r\n",
       "                                                                            150\r\n",
       "                                                                    </td>\n",
       "<td>\n",
       "<i aria-hidden=\"true\" class=\"fa fa-picture-o\"></i>\n",
       "</td>\n",
       "</tr>\n",
       "<tr>\n",
       "<td>S2024E03</td>\n",
       "<td>\n",
       "<a href=\"/series/frontline/episodes/10392323\">\r\n",
       "                                        Children of Ukraine\r\n",
       "                                    </a>\n",
       "</td>\n",
       "<td>\n",
       "<div>April 16, 2024</div>\n",
       "<div>PBS</div>\n",
       "</td>\n",
       "<td>\r\n",
       "                                                                            54\r\n",
       "                                                                    </td>\n",
       "<td>\n",
       "</td>\n",
       "</tr>\n",
       "<tr>\n",
       "<td>S2024E04</td>\n",
       "<td>\n",
       "<a href=\"/series/frontline/episodes/10477510\">\r\n",
       "                                        Documenting Police Use of Force\r\n",
       "                                    </a>\n",
       "</td>\n",
       "<td>\n",
       "<div>April 30, 2024</div>\n",
       "<div>PBS</div>\n",
       "</td>\n",
       "<td>\r\n",
       "                                                                            54\r\n",
       "                                                                    </td>\n",
       "<td>\n",
       "</td>\n",
       "</tr>\n",
       "<tr>\n",
       "<td>S2024E05</td>\n",
       "<td>\n",
       "<a href=\"/series/frontline/episodes/10495988\">\r\n",
       "                                        A Dangerous Assignment\r\n",
       "                                    </a>\n",
       "</td>\n",
       "<td>\n",
       "<div>May 14, 2024</div>\n",
       "<div>PBS</div>\n",
       "</td>\n",
       "<td>\r\n",
       "                                                                            84\r\n",
       "                                                                    </td>\n",
       "<td>\n",
       "<i aria-hidden=\"true\" class=\"fa fa-picture-o\"></i>\n",
       "</td>\n",
       "</tr>\n",
       "<tr>\n",
       "<td>S2024E06</td>\n",
       "<td>\n",
       "<a href=\"/series/frontline/episodes/10549562\">\r\n",
       "                                        Crisis on Campus\r\n",
       "                                    </a>\n",
       "</td>\n",
       "<td>\n",
       "<div>June 11, 2024</div>\n",
       "<div>PBS</div>\n",
       "</td>\n",
       "<td>\r\n",
       "                                                                            54\r\n",
       "                                                                    </td>\n",
       "<td>\n",
       "</td>\n",
       "</tr>\n",
       "</tbody>\n",
       "</table>"
      ],
      "text/plain": [
       "<IPython.core.display.HTML object>"
      ]
     },
     "metadata": {},
     "output_type": "display_data"
    }
   ],
   "source": [
    "episode_location = 'https://thetvdb.com/series/frontline/seasons/official/2024'\n",
    "\n",
    "dvd_episode_soup = bs.getSoup(episode_location)\n",
    "table = dvd_episode_soup.find('table')\n",
    "\n",
    "display(HTML(table.decode()))"
   ]
  },
  {
   "cell_type": "code",
   "execution_count": 4,
   "metadata": {},
   "outputs": [
    {
     "data": {
      "text/plain": [
       "[{'episode': 'S2024E01',\n",
       "  'title': \"Israel's Second Front\",\n",
       "  'plot': 'With the war raging in Gaza, FRONTLINE investigates rising tensions on the ground in the West Bank.',\n",
       "  'year': '2024'},\n",
       " {'episode': 'S2024E02',\n",
       "  'title': 'Democracy on Trial',\n",
       "  'plot': 'FRONTLINE investigates the roots of the criminal cases against former President Trump stemming from his 2020 election loss.',\n",
       "  'year': '2024'},\n",
       " {'episode': 'S2024E03',\n",
       "  'title': 'Children of Ukraine',\n",
       "  'plot': 'How thousands of Ukrainian children have been taken and held in Russian-controlled areas.',\n",
       "  'year': '2024'},\n",
       " {'episode': 'S2024E04',\n",
       "  'title': 'Documenting Police Use of Force',\n",
       "  'plot': 'FRONTLINE and The Associated Press investigate deaths that occurred after police used tactics like prone restraint and other “less-lethal force.” The documentary and accompanying reporting draw on police records, autopsy reports and body cam footage, and the most expansive tally of such deaths nationwide',\n",
       "  'year': '2024'},\n",
       " {'episode': 'S2024E05',\n",
       "  'title': 'A Dangerous Assignment',\n",
       "  'plot': 'With the Venezuelan news outlet Armando.info, FRONTLINE investigates the shadowy figure at the heart of a corruption scandal spanning from Venezuela to the U.S. This 90-minute documentary tells the inside story of Alex Saab, his capture and then release by the U.S. in a controversial prisoner swap, and what has happened to the journalists who helped uncover the corruption scandal.',\n",
       "  'year': '2024'},\n",
       " {'episode': 'S2024E06',\n",
       "  'title': 'Crisis on Campus',\n",
       "  'plot': 'FRONTLINE and Retro Report tell the inside story of the protests dividing college campuses over Israel and the war in Gaza. The documentary investigates the polarizing debate over free speech, antisemitism, Israel and the Palestinians, and the political forces behind the crisis.',\n",
       "  'year': '2024'}]"
      ]
     },
     "execution_count": 4,
     "metadata": {},
     "output_type": "execute_result"
    }
   ],
   "source": [
    "import songhay.soup.thetvdb.episode as episode\n",
    "\n",
    "episode_data = list(episode.yieldEpisodeData(table))\n",
    "episode_data"
   ]
  },
  {
   "cell_type": "code",
   "execution_count": 5,
   "metadata": {},
   "outputs": [],
   "source": [
    "nfo_location_template = f\"./beautifulsoup-frontline/{series_data['title']}\""
   ]
  },
  {
   "cell_type": "code",
   "execution_count": 6,
   "metadata": {},
   "outputs": [],
   "source": [
    "for item in episode_data:\n",
    "    episode = item['episode']\n",
    "    year = item['year']\n",
    "    xml_tree = ET.getEpisodeDetailsXmlTree(item['title'], item['plot'])\n",
    "    ET.writeEpisodeDetailsXml(nfo_location_template, episode, year, xml_tree)\n"
   ]
  },
  {
   "cell_type": "markdown",
   "metadata": {},
   "source": [
    "[Bryan Wilhite is on LinkedIn](https://www.linkedin.com/in/wilhite)🇺🇸💼\n"
   ]
  }
 ],
 "metadata": {
  "kernelspec": {
   "display_name": "base",
   "language": "python",
   "name": "python3"
  },
  "language_info": {
   "codemirror_mode": {
    "name": "ipython",
    "version": 3
   },
   "file_extension": ".py",
   "mimetype": "text/x-python",
   "name": "python",
   "nbconvert_exporter": "python",
   "pygments_lexer": "ipython3",
   "version": "3.8.13"
  },
  "orig_nbformat": 4,
  "polyglot_notebook": {
   "kernelInfo": {
    "defaultKernelName": "csharp",
    "items": [
     {
      "aliases": [],
      "name": "csharp"
     }
    ]
   }
  }
 },
 "nbformat": 4,
 "nbformat_minor": 2
}
