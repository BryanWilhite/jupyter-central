{
 "cells": [
  {
   "cell_type": "markdown",
   "source": [
    "# Cowboy Bebop (DVD)\r\n",
    "\r\n",
    "<https://thetvdb.com/series/cowboy-bebop>\r\n",
    "\r\n",
    "![Cowboy Bebop Clearart](https://artworks.thetvdb.com/banners/v4/series/76885/clearart/611b7fc885419_t.png)\r\n"
   ],
   "metadata": {}
  },
  {
   "cell_type": "markdown",
   "source": [
    "These notes preserve my memories of auto-generating [Kodi](https://kodi.tv/) [[GitHub](https://github.com/xbmc)] `tvshow` and `episodedetails` XML files in `*.nfo` formats.\r\n",
    "\r\n",
    "This `*.nfo` format is kind of covered in the following documents:\r\n",
    "\r\n",
    "- [NFO files](https://kodi.wiki/view/NFO_files)\r\n",
    "- [NFO files/TV shows](https://kodi.wiki/view/NFO_files/TV_shows)\r\n",
    "- [NFO files/Episodes](https://kodi.wiki/view/NFO_files/Episodes)\r\n"
   ],
   "metadata": {}
  },
  {
   "cell_type": "code",
   "execution_count": null,
   "source": [
    "%run beautifulsoup-thetvdb.py\r\n",
    "\r\n",
    "from IPython.core.display import display, HTML\r\n"
   ],
   "outputs": [],
   "metadata": {}
  }
 ],
 "metadata": {
  "orig_nbformat": 4,
  "language_info": {
   "name": "python"
  }
 },
 "nbformat": 4,
 "nbformat_minor": 2
}