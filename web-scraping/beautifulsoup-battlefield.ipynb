{
 "cells": [
  {
   "cell_type": "markdown",
   "metadata": {},
   "source": [
    "# Battlefield\n",
    "\n",
    "<https://thetvdb.com/series/battlefield>\n",
    "\n",
    "![Battlefield banner](https://artworks.thetvdb.com/banners/graphical/80204-g4.jpg)\n"
   ]
  },
  {
   "cell_type": "markdown",
   "metadata": {},
   "source": [
    "These notes preserve my memories of auto-generating [Kodi](https://kodi.tv/) [[GitHub](https://github.com/xbmc)] `tvshow` and `episodedetails` XML files in `*.nfo` formats.\n",
    "\n",
    "This `*.nfo` format is kind of covered in the following documents:\n",
    "\n",
    "- [NFO files](https://kodi.wiki/view/NFO_files)\n",
    "- [NFO files/TV shows](https://kodi.wiki/view/NFO_files/TV_shows)\n",
    "- [NFO files/Episodes](https://kodi.wiki/view/NFO_files/Episodes)\n"
   ]
  },
  {
   "cell_type": "code",
   "execution_count": 1,
   "metadata": {},
   "outputs": [],
   "source": [
    "from IPython.core.display import display, HTML\n",
    "\n",
    "import songhay.utilities.elementtree as ET\n",
    "import songhay.utilities.soup as bs\n",
    "\n",
    "import songhay.soup.thetvdb.series as series"
   ]
  },
  {
   "cell_type": "markdown",
   "metadata": {},
   "source": [
    "## generating `tvshow` data\n"
   ]
  },
  {
   "cell_type": "code",
   "execution_count": 2,
   "metadata": {},
   "outputs": [],
   "source": [
    "series_location = 'https://thetvdb.com/series/battlefield'\n",
    "series_soup = bs.getSoup(series_location)\n",
    "\n",
    "series_basic_info = dict(series.yieldSeriesBasicInfo(series_soup))\n",
    "\n",
    "series_data = dict(\n",
    "    uniqueids=[\n",
    "        {\n",
    "            'type': 'tvdb',\n",
    "            'uniqueid': 'series/battlefield'\n",
    "        },\n",
    "        {\n",
    "            'type': 'imdb',\n",
    "            'uniqueid': 'tt0120926'\n",
    "        },\n",
    "    ],\n",
    "    title=series.getSeriesTitle(series_soup),\n",
    "    plot=series.getSeriesPlot(series_soup),\n",
    "    thumbs=[\n",
    "        {\n",
    "            'aspect': 'banner',\n",
    "            'dim': None,\n",
    "            'season': None,\n",
    "            'src': 'https://artworks.thetvdb.com/banners/graphical/80204-g4.jpg'\n",
    "        },\n",
    "        {\n",
    "            'aspect': 'poster',\n",
    "            'dim': None,\n",
    "            'season': None, # maps to the top-level movie poster\n",
    "            'src': 'https://artworks.thetvdb.com/banners/posters/80204-1.jpg'\n",
    "        },\n",
    "        {\n",
    "            'aspect': 'fanart',\n",
    "            'dim': '1280x720',\n",
    "            'season': 1,\n",
    "            'src': 'https://artworks.thetvdb.com/banners/fanart/original/80204-3.jpg'\n",
    "        },\n",
    "        {\n",
    "            'aspect': 'fanart',\n",
    "            'dim': '1280x720',\n",
    "            'season': 2,\n",
    "            'src': 'https://artworks.thetvdb.com/banners/fanart/original/80204-1.jpg'\n",
    "        },\n",
    "        {\n",
    "            'aspect': 'fanart',\n",
    "            'dim': '1280x720',\n",
    "            'season': 4,\n",
    "            'src': 'https://artworks.thetvdb.com/banners/fanart/original/80204-3.jpg'\n",
    "        },\n",
    "        {\n",
    "            'aspect': 'fanart',\n",
    "            'dim': '1280x720',\n",
    "            'season': 5,\n",
    "            'src': 'https://artworks.thetvdb.com/banners/fanart/original/80204-1.jpg'\n",
    "        },\n",
    "        {\n",
    "            'aspect': 'fanart',\n",
    "            'dim': '1280x720',\n",
    "            'season': 6,\n",
    "            'src': 'https://artworks.thetvdb.com/banners/fanart/original/80204-3.jpg'\n",
    "        },\n",
    "    ],\n",
    "    genres=series_basic_info['Genres'],\n",
    "    actors=list(series.yieldSeriesActors(series_soup))\n",
    ")\n",
    "\n",
    "ET.getTVShowXmlTree(series_data).write(\n",
    "    './beautifulsoup-battlefield/tvshow.nfo',\n",
    "    encoding='utf-8',\n",
    "    xml_declaration=True)"
   ]
  },
  {
   "cell_type": "markdown",
   "metadata": {},
   "source": [
    "## generating `episodedetails` data\n"
   ]
  },
  {
   "cell_type": "code",
   "execution_count": 23,
   "metadata": {},
   "outputs": [
    {
     "data": {
      "text/html": [
       "<table class=\"table table-bordered\">\n",
       "<thead>\n",
       "<tr>\n",
       "<th width=\"15%\"></th>\n",
       "<th>Name</th>\n",
       "<th width=\"30%\">First Aired</th>\n",
       "<th width=\"15%\">Runtime</th>\n",
       "<th width=\"10%\">Image</th>\n",
       "</tr>\n",
       "</thead>\n",
       "<tbody>\n",
       "<tr>\n",
       "<td>S06E01</td>\n",
       "<td>\n",
       "<a href=\"/series/battlefield/episodes/359488\">\r\n",
       "                                The Battle for the Crimea\r\n",
       "                            </a>\n",
       "</td>\n",
       "<td>\n",
       "<div>January 1, 2002</div>\n",
       "<div>PBS</div>\n",
       "</td>\n",
       "<td>\r\n",
       "                                                            120\r\n",
       "                                                    </td>\n",
       "<td>\n",
       "<i aria-hidden=\"true\" class=\"fa fa-picture-o\"></i>\n",
       "</td>\n",
       "</tr>\n",
       "<tr>\n",
       "<td>S06E02</td>\n",
       "<td>\n",
       "<a href=\"/series/battlefield/episodes/359489\">\r\n",
       "                                Scandinavia: The Forgotten Front\r\n",
       "                            </a>\n",
       "</td>\n",
       "<td>\n",
       "<div>January 1, 2002</div>\n",
       "<div>PBS</div>\n",
       "</td>\n",
       "<td>\r\n",
       "                                                            120\r\n",
       "                                                    </td>\n",
       "<td>\n",
       "<i aria-hidden=\"true\" class=\"fa fa-picture-o\"></i>\n",
       "</td>\n",
       "</tr>\n",
       "<tr>\n",
       "<td>S06E03</td>\n",
       "<td>\n",
       "<a href=\"/series/battlefield/episodes/359491\">\r\n",
       "                                The War Against the U-Boats\r\n",
       "                            </a>\n",
       "</td>\n",
       "<td>\n",
       "<div>January 1, 2002</div>\n",
       "<div>PBS</div>\n",
       "</td>\n",
       "<td>\r\n",
       "                                                            120\r\n",
       "                                                    </td>\n",
       "<td>\n",
       "<i aria-hidden=\"true\" class=\"fa fa-picture-o\"></i>\n",
       "</td>\n",
       "</tr>\n",
       "<tr>\n",
       "<td>S06E04</td>\n",
       "<td>\n",
       "<a href=\"/series/battlefield/episodes/359492\">\r\n",
       "                                Destination Okinawa\r\n",
       "                            </a>\n",
       "</td>\n",
       "<td>\n",
       "<div>January 1, 2002</div>\n",
       "<div>PBS</div>\n",
       "</td>\n",
       "<td>\r\n",
       "                                                            120\r\n",
       "                                                    </td>\n",
       "<td>\n",
       "<i aria-hidden=\"true\" class=\"fa fa-picture-o\"></i>\n",
       "</td>\n",
       "</tr>\n",
       "<tr>\n",
       "<td>S06E05</td>\n",
       "<td>\n",
       "<a href=\"/series/battlefield/episodes/359493\">\r\n",
       "                                Campaign in the Balkans\r\n",
       "                            </a>\n",
       "</td>\n",
       "<td>\n",
       "<div>January 1, 2002</div>\n",
       "<div>PBS</div>\n",
       "</td>\n",
       "<td>\r\n",
       "                                                            120\r\n",
       "                                                    </td>\n",
       "<td>\n",
       "<i aria-hidden=\"true\" class=\"fa fa-picture-o\"></i>\n",
       "</td>\n",
       "</tr>\n",
       "<tr>\n",
       "<td>S06E06</td>\n",
       "<td>\n",
       "<a href=\"/series/battlefield/episodes/359494\">\r\n",
       "                                The Battle for the Mediterranean\r\n",
       "                            </a>\n",
       "<div class=\"small text-muted\">series finale</div>\n",
       "</td>\n",
       "<td>\n",
       "<div>January 1, 2002</div>\n",
       "<div>PBS</div>\n",
       "</td>\n",
       "<td>\r\n",
       "                                                            120\r\n",
       "                                                    </td>\n",
       "<td>\n",
       "<i aria-hidden=\"true\" class=\"fa fa-picture-o\"></i>\n",
       "</td>\n",
       "</tr>\n",
       "</tbody>\n",
       "</table>"
      ],
      "text/plain": [
       "<IPython.core.display.HTML object>"
      ]
     },
     "metadata": {},
     "output_type": "display_data"
    }
   ],
   "source": [
    "# episode_location = 'https://thetvdb.com/series/battlefield/seasons/official/6'\n",
    "\n",
    "episode_location = 'https://thetvdb.com/series/battlefield/seasons/official/6'\n",
    "\n",
    "dvd_episode_soup = bs.getSoup(episode_location)\n",
    "table = dvd_episode_soup.find('table')\n",
    "\n",
    "display(HTML(table.decode()))"
   ]
  },
  {
   "cell_type": "code",
   "execution_count": 24,
   "metadata": {},
   "outputs": [
    {
     "data": {
      "text/plain": [
       "[{'episode': 'S06E01',\n",
       "  'title': 'The Battle for the Crimea',\n",
       "  'plot': \"Hitler's obsession with the Crimea was the source of fierce disagreements with his General staff, who, according to the Fuhrer, 'knew nothing about the economics of war'. So it was that the German 11th Army under Manstein broke through the Soviet lines in October 1941 - but this was only the beginning of a series of bloody battles that cost the Russians two whole armies. For his bombardment and capture of Sevastapol, Manstein was promoted to Field Marshal. However, the tide turned after the disastrous German defeats at Stalingrad and Kursk. Cut off and isolated in the Crimea, the Germans faced massive Russian attacks and Sevastapol surrendered - against Hitler's orders - in May 1944. Twelve German and Rumanian divisions were completely destroyed and 25,000 prisoners were taken.\",\n",
       "  'year': '2002'},\n",
       " {'episode': 'S06E02',\n",
       "  'title': 'Scandinavia: The Forgotten Front',\n",
       "  'plot': \"The vicious 14-week war between the Finns and the Russians ended in March 1940 when the Finns finally surrendered a large part of its territory to the Soviet invaders. 500,000 were evacuated from the Karelian isthmus, the scene of the war's most terrible fighting. It was a hollow victory, since for much of the war the Russians took a drubbing from the determined and resourceful Finns, who organised the defence of their country brilliantly. It is believed that one million Russians lost their lives during the fighting and the weaknesses of the Red Army were exposed for the world to see. Hitler was suitably encouraged, for he had already determined on the invasion and conquest of his erstwhile allied partner. Meanwhile, during the early months of the war, Hitler became increasingly aware of the potential threat of Norway and mounted the world's first airborne invasion there in February 1940. At the same time, German Forces invaded Denmark. Over the next few years, the horrors and intrigues of the Quisling government in Norway unfolded amidst determined Norwegian resistance.\",\n",
       "  'year': '2002'},\n",
       " {'episode': 'S06E03',\n",
       "  'title': 'The War Against the U-Boats',\n",
       "  'plot': 'The convoys that sailed across the Atlantic Ocean bringing vital supplies to Britain faced one of the most deadly threats of the war. Hidden deep beneath the waves were German U-boats. This program follows the evolution of the Atlantic War, from the beginnings of the U-Boat war, to the \"Happy Time\" when German submarines almost brought Britain to her knees, to the eventual Allied triumph for control of the Atlantic sea-lanes. Also see the critical role that superior Allied technology played in winning the war and how British cryptographers successfully broke the German naval codes.',\n",
       "  'year': '2002'},\n",
       " {'episode': 'S06E04',\n",
       "  'title': 'Destination Okinawa',\n",
       "  'plot': \"The battle for Okinawa, chosen to be the final springboard for an Allied invasion of Japan, claimed more American lives than any other battle in the Pacific campaign. The Japanese had constructed a formidable series of defenses and were prepared to fight for every inch of the island's soil. The battle included a 700-plane Kamikaze raid against the US naval fleet. US casualties were estimated to be 49,000. Ultimately US forces took control of the island in June 1945 and in August, the atomic bombing of Hiroshima and Nagasaki brought the war against Japan to a dramatic end.\",\n",
       "  'year': '2002'},\n",
       " {'episode': 'S06E05',\n",
       "  'title': 'Campaign in the Balkans',\n",
       "  'plot': 'In August 1943 the Romanians--no doubt prompted by merciless Allied bombing--changed sides. Thereafter, events moved swiftly: the Russians soon captured the vital Ploesti oil fields, a huge loss to the German war effort, and within days the Soviets captured Bucharest. A nervous Bulgaria sued for peace with the Allies, but the Russians pushed on into Sofia. Despite German delaying tactics, Hungary fell next. In Yugoslavia the Germans held grimly on to Belgrade until October. The bloody mop-up fighting was left to the Soviets and lasted until the end of the war.',\n",
       "  'year': '2002'},\n",
       " {'episode': 'S06E06',\n",
       "  'title': 'The Battle for the Mediterranean',\n",
       "  'plot': \"This is the story of the crucial battles for control of the Mediterranean, North Africa, and the irreplaceable oil fields of the Middle East. The program covers the great battles between the Italian Navy and British Navy, the land campaigns in the North African desert between Rommel's Afrika Korp and the British 8th Army, and Britain's struggle to retain its control of Malta. Additionally featured is the war for control of the skies between the German Luftwaffe and the RAF, eventually joined by the US Army Air Force, and the story of the war in Greece.\",\n",
       "  'year': '2002'}]"
      ]
     },
     "execution_count": 24,
     "metadata": {},
     "output_type": "execute_result"
    }
   ],
   "source": [
    "import songhay.soup.thetvdb.episode as episode\n",
    "\n",
    "episode_data = list(episode.yieldEpisodeData(table))\n",
    "episode_data"
   ]
  },
  {
   "cell_type": "code",
   "execution_count": 25,
   "metadata": {},
   "outputs": [],
   "source": [
    "nfo_location_template = f\"./beautifulsoup-battlefield/{series_data['title']}\""
   ]
  },
  {
   "cell_type": "code",
   "execution_count": 26,
   "metadata": {},
   "outputs": [],
   "source": [
    "for item in episode_data:\n",
    "    episode = item['episode']\n",
    "    year = item['year']\n",
    "    xml_tree = ET.getEpisodeDetailsXmlTree(item['title'], item['plot'])\n",
    "    ET.writeEpisodeDetailsXml(nfo_location_template, episode, year, xml_tree)\n"
   ]
  },
  {
   "cell_type": "markdown",
   "metadata": {},
   "source": [
    "@[BryanWilhite](https://twitter.com/BryanWilhite)\n"
   ]
  }
 ],
 "metadata": {
  "kernelspec": {
   "display_name": "Python 3.7.13 ('base')",
   "language": "python",
   "name": "python3"
  },
  "language_info": {
   "codemirror_mode": {
    "name": "ipython",
    "version": 3
   },
   "file_extension": ".py",
   "mimetype": "text/x-python",
   "name": "python",
   "nbconvert_exporter": "python",
   "pygments_lexer": "ipython3",
   "version": "3.7.13"
  },
  "orig_nbformat": 4,
  "vscode": {
   "interpreter": {
    "hash": "2248ed64bdf5fe1d2cc35d4639eff9d9517212412e82087913ac56aa4ab59c78"
   }
  }
 },
 "nbformat": 4,
 "nbformat_minor": 2
}
