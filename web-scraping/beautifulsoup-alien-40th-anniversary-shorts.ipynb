{
 "cells": [
  {
   "cell_type": "markdown",
   "metadata": {},
   "source": [
    "# Alien: 40th Anniversary Shorts\n",
    "\n",
    "<https://thetvdb.com/series/alien-40th-anniversary-short-films>\n",
    "\n",
    "![Alien: 40th Anniversary Shorts fanart](https://artworks.thetvdb.com/banners/fanart/original/5ca0d615014cb.jpg)\n"
   ]
  },
  {
   "cell_type": "markdown",
   "metadata": {},
   "source": [
    "These notes preserve my memories of auto-generating [Kodi](https://kodi.tv/) [[GitHub](https://github.com/xbmc)] `tvshow` and `episodedetails` XML files in `*.nfo` formats.\n",
    "\n",
    "This `*.nfo` format is kind of covered in the following documents:\n",
    "\n",
    "- [NFO files](https://kodi.wiki/view/NFO_files)\n",
    "- [NFO files/TV shows](https://kodi.wiki/view/NFO_files/TV_shows)\n",
    "- [NFO files/Episodes](https://kodi.wiki/view/NFO_files/Episodes)\n"
   ]
  },
  {
   "cell_type": "code",
   "execution_count": 1,
   "metadata": {},
   "outputs": [],
   "source": [
    "from IPython.core.display import display, HTML\n",
    "\n",
    "import songhay.utilities.elementtree as ET\n",
    "import songhay.utilities.soup as bs\n",
    "\n",
    "import songhay.soup.thetvdb.series as series"
   ]
  },
  {
   "cell_type": "markdown",
   "metadata": {},
   "source": [
    "## generating `tvshow` data\n"
   ]
  },
  {
   "cell_type": "code",
   "execution_count": 2,
   "metadata": {},
   "outputs": [],
   "source": [
    "series_location = 'https://thetvdb.com/series/alien-40th-anniversary-short-films'\n",
    "series_soup = bs.getSoup(series_location)\n",
    "\n",
    "series_basic_info = dict(series.yieldSeriesBasicInfo(series_soup))\n",
    "\n",
    "series_data = dict(\n",
    "    uniqueids=[\n",
    "        {\n",
    "            'type': 'tvdb',\n",
    "            'uniqueid': 'series/alien-40th-anniversary-short-films'\n",
    "        },\n",
    "        {\n",
    "            'type': 'imdb',\n",
    "            'uniqueid': 'tt12875964'\n",
    "        },\n",
    "    ],\n",
    "    title=series.getSeriesTitle(series_soup),\n",
    "    plot=series.getSeriesPlot(series_soup),\n",
    "    thumbs=[\n",
    "        {\n",
    "            'aspect': 'banner',\n",
    "            'dim': None,\n",
    "            'season': None,\n",
    "            'src': 'https://artworks.thetvdb.com/banners/graphical/5c9f933ecfdbe.jpg'\n",
    "        },\n",
    "        {\n",
    "            'aspect': 'poster',\n",
    "            'dim': None,\n",
    "            'season': None, # maps to the top-level movie poster\n",
    "            'src': 'https://artworks.thetvdb.com/banners/v4/series/361757/posters/6107293c6e106.jpg'\n",
    "        },\n",
    "        {\n",
    "            'aspect': 'poster',\n",
    "            'dim': None,\n",
    "            'season': 1,\n",
    "            'src': 'https://artworks.thetvdb.com/banners/v4/series/361757/posters/6107293c6e106.jpg'\n",
    "        },\n",
    "        {\n",
    "            'aspect': 'fanart',\n",
    "            'dim': '640x360',\n",
    "            'season': 1,\n",
    "            'src': 'https://artworks.thetvdb.com/banners/fanart/original/5ca0d615014cb.jpg'\n",
    "        },\n",
    "    ],\n",
    "    genres=series_basic_info['Genres'],\n",
    "    actors=list(series.yieldSeriesActors(series_soup))\n",
    ")\n",
    "\n",
    "ET.getTVShowXmlTree(series_data).write(\n",
    "    './beautifulsoup-alien-40th-anniversary-shorts/tvshow.nfo',\n",
    "    encoding='utf-8',\n",
    "    xml_declaration=True)"
   ]
  },
  {
   "cell_type": "markdown",
   "metadata": {},
   "source": [
    "## generating `episodedetails` data\n"
   ]
  },
  {
   "cell_type": "code",
   "execution_count": 3,
   "metadata": {},
   "outputs": [
    {
     "data": {
      "text/html": [
       "<table class=\"table table-bordered\">\n",
       "<thead>\n",
       "<tr>\n",
       "<th width=\"15%\"></th>\n",
       "<th>Name</th>\n",
       "<th width=\"30%\">First Aired</th>\n",
       "<th width=\"15%\">Runtime</th>\n",
       "<th width=\"10%\">Image</th>\n",
       "</tr>\n",
       "</thead>\n",
       "<tbody>\n",
       "<tr>\n",
       "<td>S01E01</td>\n",
       "<td>\n",
       "<a href=\"/series/alien-40th-anniversary-short-films/episodes/7110821\">\r\n",
       "                                Containment\r\n",
       "                            </a>\n",
       "</td>\n",
       "<td>\n",
       "<div>March 29, 2019</div>\n",
       "<div>YouTube</div>\n",
       "</td>\n",
       "<td>\r\n",
       "                                                            10\r\n",
       "                                                    </td>\n",
       "<td>\n",
       "<i aria-hidden=\"true\" class=\"fa fa-picture-o text-danger\"></i>\n",
       "</td>\n",
       "</tr>\n",
       "<tr>\n",
       "<td>S01E02</td>\n",
       "<td>\n",
       "<a href=\"/series/alien-40th-anniversary-short-films/episodes/7110838\">\r\n",
       "                                Specimen\r\n",
       "                            </a>\n",
       "</td>\n",
       "<td>\n",
       "<div>April 5, 2019</div>\n",
       "<div>YouTube</div>\n",
       "</td>\n",
       "<td>\r\n",
       "                                                            10\r\n",
       "                                                    </td>\n",
       "<td>\n",
       "<i aria-hidden=\"true\" class=\"fa fa-picture-o text-danger\"></i>\n",
       "</td>\n",
       "</tr>\n",
       "<tr>\n",
       "<td>S01E03</td>\n",
       "<td>\n",
       "<a href=\"/series/alien-40th-anniversary-short-films/episodes/7110839\">\r\n",
       "                                Night Shift\r\n",
       "                            </a>\n",
       "</td>\n",
       "<td>\n",
       "<div>April 12, 2019</div>\n",
       "<div>YouTube</div>\n",
       "</td>\n",
       "<td>\r\n",
       "                                                            10\r\n",
       "                                                    </td>\n",
       "<td>\n",
       "<i aria-hidden=\"true\" class=\"fa fa-picture-o text-danger\"></i>\n",
       "</td>\n",
       "</tr>\n",
       "<tr>\n",
       "<td>S01E04</td>\n",
       "<td>\n",
       "<a href=\"/series/alien-40th-anniversary-short-films/episodes/7110840\">\r\n",
       "                                Ore\r\n",
       "                            </a>\n",
       "</td>\n",
       "<td>\n",
       "<div>April 19, 2019</div>\n",
       "<div>YouTube</div>\n",
       "</td>\n",
       "<td>\r\n",
       "                                                            10\r\n",
       "                                                    </td>\n",
       "<td>\n",
       "<i aria-hidden=\"true\" class=\"fa fa-picture-o text-danger\"></i>\n",
       "</td>\n",
       "</tr>\n",
       "<tr>\n",
       "<td>S01E05</td>\n",
       "<td>\n",
       "<a href=\"/series/alien-40th-anniversary-short-films/episodes/7110843\">\r\n",
       "                                Alone\r\n",
       "                            </a>\n",
       "</td>\n",
       "<td>\n",
       "<div>April 26, 2019</div>\n",
       "<div>YouTube</div>\n",
       "</td>\n",
       "<td>\r\n",
       "                                                            10\r\n",
       "                                                    </td>\n",
       "<td>\n",
       "<i aria-hidden=\"true\" class=\"fa fa-picture-o text-danger\"></i>\n",
       "</td>\n",
       "</tr>\n",
       "<tr>\n",
       "<td>S01E06</td>\n",
       "<td>\n",
       "<a href=\"/series/alien-40th-anniversary-short-films/episodes/7110846\">\r\n",
       "                                Harvest\r\n",
       "                            </a>\n",
       "<div class=\"small text-muted\">series finale</div>\n",
       "</td>\n",
       "<td>\n",
       "<div>April 26, 2019</div>\n",
       "<div>YouTube</div>\n",
       "</td>\n",
       "<td>\r\n",
       "                                                            10\r\n",
       "                                                    </td>\n",
       "<td>\n",
       "<i aria-hidden=\"true\" class=\"fa fa-picture-o text-danger\"></i>\n",
       "</td>\n",
       "</tr>\n",
       "</tbody>\n",
       "</table>"
      ],
      "text/plain": [
       "<IPython.core.display.HTML object>"
      ]
     },
     "metadata": {},
     "output_type": "display_data"
    }
   ],
   "source": [
    "season_01_location = 'https://thetvdb.com/series/alien-40th-anniversary-short-films/seasons/official/1'\n",
    "\n",
    "dvd_episode_soup = bs.getSoup(season_01_location)\n",
    "table = dvd_episode_soup.find('table')\n",
    "\n",
    "display(HTML(table.decode()))"
   ]
  },
  {
   "cell_type": "code",
   "execution_count": 4,
   "metadata": {},
   "outputs": [
    {
     "data": {
      "text/plain": [
       "[{'episode': 'S01E01',\n",
       "  'title': 'Containment',\n",
       "  'plot': 'Written and directed by Chris Reading, the synopsis for \"Containment\" reads: \"Four survivors find themselves stranded aboard a small escape pod in deep space. Trying to piece together the details around the outbreak that led to their ship\\'s destruction, they find themselves unsure to trust whether or not one of them might be infected.\"',\n",
       "  'year': '2019'},\n",
       " {'episode': 'S01E02',\n",
       "  'title': 'Specimen',\n",
       "  'plot': 'It’s the night shift in a colony greenhouse, and Julie, a botanist, does her best to contain suspicious soil samples that have triggered her sensitive lab dog. Despite her best efforts the lab unexpectedly goes into full shutdown and she is trapped inside. Little does she know, an alien specimen has escaped the mysterious cargo, and a game of cat and mouse ensues as the creature searches for a host.',\n",
       "  'year': '2019'},\n",
       " {'episode': 'S01E03',\n",
       "  'title': 'Night Shift',\n",
       "  'plot': 'When a missing space trucker is discovered hungover and disoriented, his co-worker suggests a nightcap as a remedy. Near closing time, they are reluctantly allowed inside the colony supply depot where the trucker’s condition worsens, leaving a young supply worker alone to take matters into her own hands.',\n",
       "  'year': '2019'},\n",
       " {'episode': 'S01E04',\n",
       "  'title': 'Ore',\n",
       "  'plot': 'As a hard-working miner of a planet mining colony, Lorraine longs to make a better life for her daughter and grandchildren. When her shift uncovers the death of a fellow miner under mysterious circumstances, Lorraine is forced to choose between escape or defying management orders and facing her fears to fight for the safety of her family.',\n",
       "  'year': '2019'},\n",
       " {'episode': 'S01E05',\n",
       "  'title': 'Alone',\n",
       "  'plot': 'The surviving crew of a damaged deep-space harvester have minutes to reach the emergency evacuation shuttle. A motion sensor is their only navigation tool leading them to safety while a creature in the shadows terrorizes the crew. However, the greatest threat might have been hiding in plain sight all along.',\n",
       "  'year': '2019'},\n",
       " {'episode': 'S01E06',\n",
       "  'title': 'Harvest',\n",
       "  'plot': 'Hope, an abandoned crew member aboard the derelict chemical hauler Otranto, has spent a year trying to keep her ship and herself alive as both slowly fall apart. After discovering hidden cargo, she risks it all to power up the broken ship in search of human life.',\n",
       "  'year': '2019'}]"
      ]
     },
     "execution_count": 4,
     "metadata": {},
     "output_type": "execute_result"
    }
   ],
   "source": [
    "import songhay.soup.thetvdb.episode as episode\n",
    "\n",
    "episode_data = list(episode.yieldEpisodeData(table))\n",
    "episode_data"
   ]
  },
  {
   "cell_type": "code",
   "execution_count": 5,
   "metadata": {},
   "outputs": [],
   "source": [
    "nfo_location_template = f\"./beautifulsoup-alien-40th-anniversary-shorts/{series_data['title']}\""
   ]
  },
  {
   "cell_type": "code",
   "execution_count": 6,
   "metadata": {},
   "outputs": [],
   "source": [
    "for item in episode_data:\n",
    "    episode = item['episode']\n",
    "    year = item['year']\n",
    "    xml_tree = ET.getEpisodeDetailsXmlTree(item['title'], item['plot'])\n",
    "    ET.writeEpisodeDetailsXml(nfo_location_template, episode, year, xml_tree)\n"
   ]
  },
  {
   "cell_type": "markdown",
   "metadata": {},
   "source": [
    "@[BryanWilhite](https://twitter.com/BryanWilhite)\n"
   ]
  }
 ],
 "metadata": {
  "kernelspec": {
   "display_name": "Python 3.7.13 ('base')",
   "language": "python",
   "name": "python3"
  },
  "language_info": {
   "codemirror_mode": {
    "name": "ipython",
    "version": 3
   },
   "file_extension": ".py",
   "mimetype": "text/x-python",
   "name": "python",
   "nbconvert_exporter": "python",
   "pygments_lexer": "ipython3",
   "version": "3.7.13"
  },
  "orig_nbformat": 4,
  "vscode": {
   "interpreter": {
    "hash": "2248ed64bdf5fe1d2cc35d4639eff9d9517212412e82087913ac56aa4ab59c78"
   }
  }
 },
 "nbformat": 4,
 "nbformat_minor": 2
}
