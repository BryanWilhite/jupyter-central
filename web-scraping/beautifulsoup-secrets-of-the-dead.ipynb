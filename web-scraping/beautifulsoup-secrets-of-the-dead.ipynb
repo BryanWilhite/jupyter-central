{
 "cells": [
  {
   "cell_type": "markdown",
   "metadata": {},
   "source": [
    "# Secrets of the Dead (2000)\n",
    "\n",
    "<https://thetvdb.com/series/secrets-of-the-dead>\n",
    "\n",
    "![Secrets of the Dead banner](https://artworks.thetvdb.com/banners/graphical/73986-g2.jpg)\n"
   ]
  },
  {
   "cell_type": "markdown",
   "metadata": {},
   "source": [
    "These notes preserve my memories of auto-generating [Kodi](https://kodi.tv/) [[GitHub](https://github.com/xbmc)] `tvshow` and `episodedetails` XML files in `*.nfo` formats.\n",
    "\n",
    "This `*.nfo` format is kind of covered in the following documents:\n",
    "\n",
    "- [NFO files](https://kodi.wiki/view/NFO_files)\n",
    "- [NFO files/TV shows](https://kodi.wiki/view/NFO_files/TV_shows)\n",
    "- [NFO files/Episodes](https://kodi.wiki/view/NFO_files/Episodes)\n"
   ]
  },
  {
   "cell_type": "code",
   "execution_count": 1,
   "metadata": {},
   "outputs": [],
   "source": [
    "from IPython.core.display import display, HTML\n",
    "\n",
    "import songhay.utilities.elementtree as ET\n",
    "import songhay.utilities.soup as bs\n",
    "\n",
    "import songhay.soup.thetvdb.series as series"
   ]
  },
  {
   "cell_type": "markdown",
   "metadata": {},
   "source": [
    "## generating `tvshow` data\n"
   ]
  },
  {
   "cell_type": "code",
   "execution_count": 2,
   "metadata": {},
   "outputs": [],
   "source": [
    "series_location = 'https://thetvdb.com/series/secrets-of-the-dead'\n",
    "series_soup = bs.getSoup(series_location)\n",
    "\n",
    "series_basic_info = dict(series.yieldSeriesBasicInfo(series_soup))\n",
    "\n",
    "series_data = dict(\n",
    "    uniqueids=[\n",
    "        {\n",
    "            'type': 'tvdb',\n",
    "            'uniqueid': 'series/secrets-of-the-dead'\n",
    "        },\n",
    "        {\n",
    "            'type': 'imdb',\n",
    "            'uniqueid': 'tt0354333'\n",
    "        },\n",
    "    ],\n",
    "    title=series.getSeriesTitle(series_soup).replace('New ', ''),\n",
    "    plot=series.getSeriesPlot(series_soup),\n",
    "    thumbs=[\n",
    "        {\n",
    "            'aspect': 'banner',\n",
    "            'dim': None,\n",
    "            'season': None,\n",
    "            'src': 'https://artworks.thetvdb.com/banners/graphical/73986-g2.jpg'\n",
    "        },\n",
    "        {\n",
    "            'aspect': 'poster',\n",
    "            'dim': None,\n",
    "            'season': None, # maps to the top-level movie poster\n",
    "            'src': 'https://artworks.thetvdb.com/banners/posters/73986-3.jpg'\n",
    "        },\n",
    "        {\n",
    "            'aspect': 'fanart',\n",
    "            'dim': '1280x720',\n",
    "            'season': 1,\n",
    "            'src': 'https://artworks.thetvdb.com/banners/fanart/original/73986-1.jpg'\n",
    "        },\n",
    "    ],\n",
    "    genres=series_basic_info['Genres'],\n",
    "    actors=list(series.yieldSeriesActors(series_soup))\n",
    ")\n",
    "\n",
    "ET.getTVShowXmlTree(series_data).write(\n",
    "    './beautifulsoup-secrets-of-the-dead/tvshow.nfo',\n",
    "    encoding='utf-8',\n",
    "    xml_declaration=True)"
   ]
  },
  {
   "cell_type": "markdown",
   "metadata": {},
   "source": [
    "## generating `episodedetails` data\n"
   ]
  },
  {
   "cell_type": "code",
   "execution_count": 11,
   "metadata": {},
   "outputs": [
    {
     "data": {
      "text/html": [
       "<table class=\"table table-bordered\">\n",
       "<thead>\n",
       "<tr>\n",
       "<th width=\"15%\"></th>\n",
       "<th>Name</th>\n",
       "<th width=\"30%\">First Aired</th>\n",
       "<th width=\"15%\">Runtime</th>\n",
       "<th width=\"10%\">Image</th>\n",
       "</tr>\n",
       "</thead>\n",
       "<tbody>\n",
       "<tr>\n",
       "<td>S11E02</td>\n",
       "<td>\n",
       "<a href=\"/series/secrets-of-the-dead/episodes/7550891\">\r\n",
       "                                    Lost Ships of Rome\r\n",
       "                                </a>\n",
       "</td>\n",
       "<td>\n",
       "<div>November 16, 2010</div>\n",
       "<div>PBS</div>\n",
       "</td>\n",
       "<td>\r\n",
       "                                                                    60\r\n",
       "                                                            </td>\n",
       "<td>\n",
       "<i aria-hidden=\"true\" class=\"fa fa-picture-o\"></i>\n",
       "</td>\n",
       "</tr>\n",
       "<tr>\n",
       "<td>S11E03</td>\n",
       "<td>\n",
       "<a href=\"/series/secrets-of-the-dead/episodes/4084225\">\r\n",
       "                                    China's Terracotta Warriors\r\n",
       "                                </a>\n",
       "</td>\n",
       "<td>\n",
       "<div>May 4, 2011</div>\n",
       "<div>PBS</div>\n",
       "</td>\n",
       "<td>\r\n",
       "                                                                    60\r\n",
       "                                                            </td>\n",
       "<td>\n",
       "<i aria-hidden=\"true\" class=\"fa fa-picture-o\"></i>\n",
       "</td>\n",
       "</tr>\n",
       "<tr>\n",
       "<td>S11E04</td>\n",
       "<td>\n",
       "<a href=\"/series/secrets-of-the-dead/episodes/4096335\">\r\n",
       "                                    Lost in the Amazon\r\n",
       "                                </a>\n",
       "</td>\n",
       "<td>\n",
       "<div>April 19, 2011</div>\n",
       "<div>PBS</div>\n",
       "</td>\n",
       "<td>\r\n",
       "                                                                    60\r\n",
       "                                                            </td>\n",
       "<td>\n",
       "<i aria-hidden=\"true\" class=\"fa fa-picture-o\"></i>\n",
       "</td>\n",
       "</tr>\n",
       "<tr>\n",
       "<td>S11E05</td>\n",
       "<td>\n",
       "<a href=\"/series/secrets-of-the-dead/episodes/4096336\">\r\n",
       "                                    The World's Biggest Bomb\r\n",
       "                                </a>\n",
       "<div class=\"small text-muted\">season finale</div>\n",
       "</td>\n",
       "<td>\n",
       "<div>May 16, 2011</div>\n",
       "<div>PBS</div>\n",
       "</td>\n",
       "<td>\r\n",
       "                                                                    60\r\n",
       "                                                            </td>\n",
       "<td>\n",
       "<i aria-hidden=\"true\" class=\"fa fa-picture-o\"></i>\n",
       "</td>\n",
       "</tr>\n",
       "</tbody>\n",
       "</table>"
      ],
      "text/plain": [
       "<IPython.core.display.HTML object>"
      ]
     },
     "metadata": {},
     "output_type": "display_data"
    }
   ],
   "source": [
    "episode_location = 'https://thetvdb.com/series/secrets-of-the-dead/seasons/official/11'\n",
    "\n",
    "dvd_episode_soup = bs.getSoup(episode_location)\n",
    "table = dvd_episode_soup.find('table')\n",
    "\n",
    "display(HTML(table.decode()))"
   ]
  },
  {
   "cell_type": "code",
   "execution_count": 12,
   "metadata": {},
   "outputs": [
    {
     "data": {
      "text/plain": [
       "[{'episode': 'S11E02',\n",
       "  'title': 'Lost Ships of Rome',\n",
       "  'plot': 'In 2009 a team of marine archeologists carrying out a sonar survey of the seabed around the remote Italian island of Ventotene made an astonishing discovery. The wrecks of five ancient Roman ships were found in pristine condition, each one fully laden with exotic goods. Remarkably, much of the cargo remained exactly as the ancient Roman crews had loaded it.',\n",
       "  'year': '2010'},\n",
       " {'episode': 'S11E03',\n",
       "  'title': \"China's Terracotta Warriors\",\n",
       "  'plot': 'The life-sized terracotta warriors of China are known throughout the world. This clay army of 8,000 including infantry, archers, generals and cavalry was discovered by archaeologists in 1974 after farmers digging a well near the Chinese city of Xian unearthed pieces of clay sculpted in human form.\\r\\n \\r\\nAn amazing archaeological find, the terracotta warriors date back more than two thousand years. But what was the purpose of this army of clay soldiers? Who ordered its construction? How were they created? Secrets of the Dead investigates the story behind China’s Terracotta Warriors and documents their return to former glory for the first time.',\n",
       "  'year': '2011'},\n",
       " {'episode': 'S11E04',\n",
       "  'title': 'Lost in the Amazon',\n",
       "  'plot': 'On April 20, 1925, Colonel Percy Fawcett, his elder son Jack Fawcett and Jack’s lifelong friend, Raleigh Rimmell, departed from Cuiabá, the capital city of the Brazilian state of Mato Grosso, to find “Z” — Col. Fawcett’s name for what he believed to be an ancient city lost in the uncharted jungles of Brazil. The search for the mysterious Lost City of Z would be the great explorer’s last expedition. All three men would vanish without a trace.\\r\\n\\r\\nEighty-six years later, Secrets of the Dead has mounted a modern day quest with explorer Niall McCann to find the truth behind the disappearance of famed adventurer Col. Percy Fawcett and his party in Lost in the Amazon',\n",
       "  'year': '2011'},\n",
       " {'episode': 'S11E05',\n",
       "  'title': \"The World's Biggest Bomb\",\n",
       "  'plot': 'Beginning in the 1950s, American and Soviet scientists embarked on a perilous race to see who could build and detonate the world’s largest bomb. The results exceeded all expectations about how big a bomb could be built. Initially, the Americans led the way, but then left the field clear for the Soviet Union to break all records.\\r\\n \\r\\nSecrets of the Dead chronicles how the bomb-makers on both sides were working blind as they pushed science into unknown territory to build The World’s Biggest Bomb. As we approach the 50th anniversary of the detonation of the most powerful bomb ever constructed.',\n",
       "  'year': '2011'}]"
      ]
     },
     "execution_count": 12,
     "metadata": {},
     "output_type": "execute_result"
    }
   ],
   "source": [
    "import songhay.soup.thetvdb.episode as episode\n",
    "\n",
    "episode_data = list(episode.yieldEpisodeData(table))\n",
    "episode_data"
   ]
  },
  {
   "cell_type": "code",
   "execution_count": 13,
   "metadata": {},
   "outputs": [],
   "source": [
    "nfo_location_template = f\"./beautifulsoup-secrets-of-the-dead/{series_data['title']}\""
   ]
  },
  {
   "cell_type": "code",
   "execution_count": 14,
   "metadata": {},
   "outputs": [],
   "source": [
    "for item in episode_data:\n",
    "    episode = item['episode']\n",
    "    year = item['year']\n",
    "    xml_tree = ET.getEpisodeDetailsXmlTree(item['title'], item['plot'])\n",
    "    ET.writeEpisodeDetailsXml(nfo_location_template, episode, year, xml_tree)\n"
   ]
  },
  {
   "cell_type": "markdown",
   "metadata": {},
   "source": [
    "@[BryanWilhite](https://twitter.com/BryanWilhite)\n"
   ]
  }
 ],
 "metadata": {
  "kernelspec": {
   "display_name": "Python 3.7.13 ('base')",
   "language": "python",
   "name": "python3"
  },
  "language_info": {
   "codemirror_mode": {
    "name": "ipython",
    "version": 3
   },
   "file_extension": ".py",
   "mimetype": "text/x-python",
   "name": "python",
   "nbconvert_exporter": "python",
   "pygments_lexer": "ipython3",
   "version": "3.7.13"
  },
  "orig_nbformat": 4,
  "vscode": {
   "interpreter": {
    "hash": "2248ed64bdf5fe1d2cc35d4639eff9d9517212412e82087913ac56aa4ab59c78"
   }
  }
 },
 "nbformat": 4,
 "nbformat_minor": 2
}
