{
 "cells": [
  {
   "cell_type": "markdown",
   "source": [
    "# Selenium WebDriver\n",
    "\n",
    "Let’s take a walk through “[Scraping and Rendering HTML in iPython Notebook](https://ianlondon.github.io/blog/render_html_in_ipython_notebook/)” by [Ian London](http://github.com/IanLondon).\n"
   ],
   "metadata": {}
  },
  {
   "cell_type": "code",
   "execution_count": 2,
   "source": [
    "from selenium import webdriver\n",
    "\n",
    "driver = webdriver.Firefox()\n",
    "\n",
    "driver.get('https://en.wikipedia.org/wiki/International_Space_Station')"
   ],
   "outputs": [],
   "metadata": {}
  },
  {
   "cell_type": "markdown",
   "source": [
    "When running this notebook with the `jupyter notebook` command, the browser should appear under our remote control:\n",
    "\n",
    "![firefox running under remote control](./images/firefox-running-under-remote-control.png)\n"
   ],
   "metadata": {}
  },
  {
   "cell_type": "markdown",
   "source": [
    ">Let’s select the first `<table>` element from Wikipedia’s ISS article as an example.\n"
   ],
   "metadata": {}
  },
  {
   "cell_type": "code",
   "execution_count": 6,
   "source": [
    "iss_table = driver.find_element_by_xpath('//table')\n",
    "\n",
    "iss_table_html = iss_table.get_attribute('outerHTML')"
   ],
   "outputs": [],
   "metadata": {}
  },
  {
   "cell_type": "markdown",
   "source": [
    ">Let’s take advantage of some iPython Notebook magic: since we’re viewing the notebook in a web browser, we can also render HTML content directly in the notebook."
   ],
   "metadata": {}
  },
  {
   "cell_type": "code",
   "execution_count": 7,
   "source": [
    "from IPython.core.display import display, HTML\n",
    "\n",
    "display(HTML(iss_table_html))"
   ],
   "outputs": [
    {
     "output_type": "display_data",
     "data": {
      "text/plain": [
       "<IPython.core.display.HTML object>"
      ],
      "text/html": [
       "<table class=\"infobox\"><caption class=\"infobox-title\">International Space Station</caption><tbody><tr><td colspan=\"2\" class=\"infobox-image\"><a href=\"/wiki/File:International_Space_Station_after_undocking_of_STS-132.jpg\" class=\"image\" title=\"A forward view of the International Space Station with limb of the Earth in the background. In view are the station's sixteen paired maroon-coloured solar array wings, eight on either side of the station, mounted to a central truss structure. Spaced along the truss are ten white radiators. Attached to the centre of the truss is a cluster of pressurised modules arranged in an elongated T shape. A set of solar arrays are mounted to the module at the aft end of the cluster.\"><img alt=\"A forward view of the International Space Station with limb of the Earth in the background. In view are the station's sixteen paired maroon-coloured solar array wings, eight on either side of the station, mounted to a central truss structure. Spaced along the truss are ten white radiators. Attached to the centre of the truss is a cluster of pressurised modules arranged in an elongated T shape. A set of solar arrays are mounted to the module at the aft end of the cluster.\" src=\"//upload.wikimedia.org/wikipedia/commons/thumb/0/04/International_Space_Station_after_undocking_of_STS-132.jpg/300px-International_Space_Station_after_undocking_of_STS-132.jpg\" decoding=\"async\" srcset=\"//upload.wikimedia.org/wikipedia/commons/thumb/0/04/International_Space_Station_after_undocking_of_STS-132.jpg/450px-International_Space_Station_after_undocking_of_STS-132.jpg 1.5x, //upload.wikimedia.org/wikipedia/commons/thumb/0/04/International_Space_Station_after_undocking_of_STS-132.jpg/600px-International_Space_Station_after_undocking_of_STS-132.jpg 2x\" data-file-width=\"3319\" data-file-height=\"2116\" width=\"300\" height=\"191\"></a><div class=\"infobox-caption\" style=\"line-height:15px;\">The ISS on 23 May 2010, as seen from <a href=\"/wiki/STS-132\" title=\"STS-132\">STS-132</a></div></td></tr><tr><td colspan=\"2\" class=\"infobox-image\"><a href=\"/wiki/File:ISS_insignia.svg\" class=\"image\" title=\"upright=.73bridenste\"><img alt=\"upright=.73bridenste\" src=\"//upload.wikimedia.org/wikipedia/commons/thumb/b/bb/ISS_insignia.svg/220px-ISS_insignia.svg.png\" decoding=\"async\" srcset=\"//upload.wikimedia.org/wikipedia/commons/thumb/b/bb/ISS_insignia.svg/330px-ISS_insignia.svg.png 1.5x, //upload.wikimedia.org/wikipedia/commons/thumb/b/bb/ISS_insignia.svg/440px-ISS_insignia.svg.png 2x\" data-file-width=\"800\" data-file-height=\"990\" width=\"220\" height=\"272\"></a></td></tr><tr><td colspan=\"2\" class=\"infobox-image\"><a href=\"/wiki/File:ISS_emblem.png\" class=\"image\"><img alt=\"ISS emblem.png\" src=\"//upload.wikimedia.org/wikipedia/commons/thumb/1/15/ISS_emblem.png/160px-ISS_emblem.png\" decoding=\"async\" srcset=\"//upload.wikimedia.org/wikipedia/commons/thumb/1/15/ISS_emblem.png/240px-ISS_emblem.png 1.5x, //upload.wikimedia.org/wikipedia/commons/thumb/1/15/ISS_emblem.png/320px-ISS_emblem.png 2x\" data-file-width=\"1891\" data-file-height=\"1891\" width=\"160\" height=\"160\"></a></td></tr><tr><th colspan=\"2\" class=\"infobox-header\">Station statistics</th></tr><tr><th scope=\"row\" class=\"infobox-label\"><a href=\"/wiki/International_Designator\" title=\"International Designator\">COSPAR ID</a></th><td class=\"infobox-data\">1998-067A</td></tr><tr><th scope=\"row\" class=\"infobox-label\"><a href=\"/wiki/Satellite_Catalog_Number\" title=\"Satellite Catalog Number\">SATCAT <abbr title=\"number\">no.</abbr></a></th><td class=\"infobox-data\">25544</td></tr><tr><th scope=\"row\" class=\"infobox-label\"><a href=\"/wiki/Call_sign\" title=\"Call sign\">Call sign</a></th><td class=\"infobox-data\"><i>Alpha</i>, <i>Station</i></td></tr><tr><th scope=\"row\" class=\"infobox-label\">Crew</th><td class=\"infobox-data\">Fully crewed: 7 <br>Currently aboard: 7<br>(<a href=\"/wiki/Soyuz_MS-18\" title=\"Soyuz MS-18\">Soyuz MS-18</a>, <a href=\"/wiki/SpaceX_Crew-2\" title=\"SpaceX Crew-2\">SpaceX Crew-2</a>) <br>Expedition: <a href=\"/wiki/Expedition_65\" title=\"Expedition 65\">65</a> <br>Commander: <a href=\"/wiki/Akihiko_Hoshide\" title=\"Akihiko Hoshide\">Akihiko Hoshide</a> (<a href=\"/wiki/JAXA\" title=\"JAXA\">JAXA</a>)</td></tr><tr><th scope=\"row\" class=\"infobox-label\"><a href=\"/wiki/Rocket_launch\" class=\"mw-redirect\" title=\"Rocket launch\">Launch</a></th><td class=\"infobox-data\">20&nbsp;November 1998<span class=\"noprint\">; 22 years ago</span><span style=\"display:none\">&nbsp;(<span class=\"bday dtstart published updated\">1998-11-20</span>)</span></td></tr><tr><th scope=\"row\" class=\"infobox-label\"><a href=\"/wiki/Launch_pad\" title=\"Launch pad\">Launch pad</a></th><td class=\"infobox-data\"><div class=\"plainlist\">\n",
       "<ul><li><span class=\"nowrap\"><a href=\"/wiki/Baikonur_Cosmodrome\" title=\"Baikonur Cosmodrome\">Baikonur</a>, <a href=\"/wiki/Gagarin%27s_Start\" title=\"Gagarin's Start\">Site 1/5</a> and <a href=\"/wiki/Baikonur_Cosmodrome\" title=\"Baikonur Cosmodrome\">Site 81/23</a></span></li>\n",
       "<li><span class=\"nowrap\"><a href=\"/wiki/Kennedy_Space_Center\" title=\"Kennedy Space Center\">Kennedy</a>, <a href=\"/wiki/Kennedy_Space_Center_Launch_Complex_39\" title=\"Kennedy Space Center Launch Complex 39\">LC-39</a> and <a href=\"/wiki/Cape_Canaveral_Space_Force_Station\" title=\"Cape Canaveral Space Force Station\">CCSFS</a>, <a href=\"/wiki/Cape_Canaveral_Space_Launch_Complex_41\" title=\"Cape Canaveral Space Launch Complex 41\">SLC-41</a></span> (future)</li></ul>\n",
       "</div></td></tr><tr><th scope=\"row\" class=\"infobox-label\"><a href=\"/wiki/Mass\" title=\"Mass\">Mass</a></th><td class=\"infobox-data\">440,725&nbsp;kg (971,632&nbsp;lb)<sup id=\"cite_ref-ISS_stats_1-0\" class=\"reference\"><a href=\"#cite_note-ISS_stats-1\">[1]</a></sup></td></tr><tr><th scope=\"row\" class=\"infobox-label\">Length</th><td class=\"infobox-data\">73.0&nbsp;m (239.4&nbsp;ft)<sup id=\"cite_ref-ISS_stats_1-1\" class=\"reference\"><a href=\"#cite_note-ISS_stats-1\">[1]</a></sup></td></tr><tr><th scope=\"row\" class=\"infobox-label\">Width</th><td class=\"infobox-data\">109.0&nbsp;m (357.5&nbsp;ft)<sup id=\"cite_ref-ISS_stats_1-2\" class=\"reference\"><a href=\"#cite_note-ISS_stats-1\">[1]</a></sup></td></tr><tr><th scope=\"row\" class=\"infobox-label\">Pressurised <a href=\"/wiki/Volume\" title=\"Volume\">volume</a></th><td class=\"infobox-data\">915.6&nbsp;m<sup>3</sup> (32,333&nbsp;cu&nbsp;ft)<sup id=\"cite_ref-ISS_stats_1-3\" class=\"reference\"><a href=\"#cite_note-ISS_stats-1\">[1]</a></sup></td></tr><tr><th scope=\"row\" class=\"infobox-label\"><a href=\"/wiki/Atmospheric_pressure\" title=\"Atmospheric pressure\">Atmospheric pressure</a></th><td class=\"infobox-data\">101.3&nbsp;<a href=\"/wiki/Pascal_(unit)\" title=\"Pascal (unit)\">kPa</a> (14.7&nbsp;<a href=\"/wiki/Pound_per_square_inch\" title=\"Pound per square inch\">psi</a>; 1.0&nbsp;<a href=\"/wiki/Atmosphere_(unit)\" class=\"mw-redirect\" title=\"Atmosphere (unit)\">atm</a>)<br>79% nitrogen, 21% oxygen</td></tr><tr><th scope=\"row\" class=\"infobox-label\"><a href=\"/wiki/Apsis\" title=\"Apsis\">Perigee altitude</a></th><td class=\"infobox-data\">418&nbsp;km (259.7&nbsp;mi) <a href=\"/wiki/Above_mean_sea_level\" class=\"mw-redirect\" title=\"Above mean sea level\">AMSL</a><sup id=\"cite_ref-heavens-above_2-0\" class=\"reference\"><a href=\"#cite_note-heavens-above-2\">[2]</a></sup></td></tr><tr><th scope=\"row\" class=\"infobox-label\"><a href=\"/wiki/Apsis\" title=\"Apsis\">Apogee altitude</a></th><td class=\"infobox-data\">422&nbsp;km (262.2&nbsp;mi) AMSL<sup id=\"cite_ref-heavens-above_2-1\" class=\"reference\"><a href=\"#cite_note-heavens-above-2\">[2]</a></sup></td></tr><tr><th scope=\"row\" class=\"infobox-label\"><a href=\"/wiki/Orbital_inclination\" title=\"Orbital inclination\">Orbital inclination</a></th><td class=\"infobox-data\">51.64°<sup id=\"cite_ref-heavens-above_2-2\" class=\"reference\"><a href=\"#cite_note-heavens-above-2\">[2]</a></sup></td></tr><tr><th scope=\"row\" class=\"infobox-label\">Orbital speed</th><td class=\"infobox-data\">7.66&nbsp;km/s<sup id=\"cite_ref-heavens-above_2-3\" class=\"reference\"><a href=\"#cite_note-heavens-above-2\">[2]</a></sup><sup class=\"noprint Inline-Template\" style=\"white-space:nowrap;\">[<i><a href=\"/wiki/Wikipedia:Verifiability\" title=\"Wikipedia:Verifiability\"><span title=\"Page does not mention orbital speed, just some of the other orbital parameters. This reference should be removed for this value? (May 2021)\">failed verification</span></a></i>]</sup><br><small>(27,600&nbsp;km/h; 17,100&nbsp;mph)</small></td></tr><tr><th scope=\"row\" class=\"infobox-label\"><a href=\"/wiki/Orbital_period\" title=\"Orbital period\">Orbital period</a></th><td class=\"infobox-data\">92.68 minutes<sup id=\"cite_ref-heavens-above_2-4\" class=\"reference\"><a href=\"#cite_note-heavens-above-2\">[2]</a></sup><sup class=\"noprint Inline-Template\" style=\"white-space:nowrap;\">[<i><a href=\"/wiki/Wikipedia:Verifiability\" title=\"Wikipedia:Verifiability\"><span title=\"Page does not mention the period time, just some of the other orbital parameters. This reference should be removed for this value? (May 2021)\">failed verification</span></a></i>]</sup></td></tr><tr><th scope=\"row\" class=\"infobox-label\">Orbits per day</th><td class=\"infobox-data\">15.49<sup id=\"cite_ref-heavens-above_2-5\" class=\"reference\"><a href=\"#cite_note-heavens-above-2\">[2]</a></sup></td></tr><tr><th scope=\"row\" class=\"infobox-label\">Orbit <a href=\"/wiki/Epoch_(astronomy)\" title=\"Epoch (astronomy)\">epoch</a></th><td class=\"infobox-data\">21 May 2021 05:42:57<sup id=\"cite_ref-heavens-above_2-6\" class=\"reference\"><a href=\"#cite_note-heavens-above-2\">[2]</a></sup></td></tr><tr><th scope=\"row\" class=\"infobox-label\">Days in orbit</th><td class=\"infobox-data\">22&nbsp;years, 8&nbsp;months, 30&nbsp;days<br><small>(19 August 2021)</small></td></tr><tr><th scope=\"row\" class=\"infobox-label\">Days occupied</th><td class=\"infobox-data\">20&nbsp;years, 9&nbsp;months, 17&nbsp;days<br><small>(19 August 2021)</small></td></tr><tr><th scope=\"row\" class=\"infobox-label\"><abbr title=\"Number\">No.</abbr> of orbits</th><td class=\"infobox-data\">131,440\n",
       " as of December&nbsp;2020<sup class=\"plainlinks noexcerpt noprint asof-tag update\" style=\"display:none;\"><a class=\"external text\" href=\"https://en.wikipedia.org/w/index.php?title=International_Space_Station&amp;action=edit\">[update]</a></sup><sup id=\"cite_ref-3\" class=\"reference\"><a href=\"#cite_note-3\">[3]</a></sup></td></tr><tr><th scope=\"row\" class=\"infobox-label\"><a href=\"/wiki/Orbital_decay\" title=\"Orbital decay\">Orbital decay</a></th><td class=\"infobox-data\">2 km/month</td></tr><tr><td colspan=\"2\" class=\"infobox-below\" style=\"font-size:90%; line-height:15px; text-align:center;\">Statistics as of 9 March 2011<br>(unless noted otherwise)<br>References: <sup id=\"cite_ref-ISS_stats_1-4\" class=\"reference\"><a href=\"#cite_note-ISS_stats-1\">[1]</a></sup><sup id=\"cite_ref-heavens-above_2-7\" class=\"reference\"><a href=\"#cite_note-heavens-above-2\">[2]</a></sup><sup id=\"cite_ref-OnOrbit_4-0\" class=\"reference\"><a href=\"#cite_note-OnOrbit-4\">[4]</a></sup><sup id=\"cite_ref-5\" class=\"reference\"><a href=\"#cite_note-5\">[5]</a></sup><sup id=\"cite_ref-6\" class=\"reference\"><a href=\"#cite_note-6\">[6]</a></sup></td></tr><tr><td colspan=\"2\" class=\"infobox-subheader\" style=\"font-weight:bold;\">Configuration</td></tr><tr><td colspan=\"2\" class=\"infobox-image\"><a href=\"/wiki/File:ISS_configuration_2021-07_en.svg\" class=\"image\" title=\"The components of the ISS in an exploded diagram, with modules on-orbit highlighted in orange, and those still awaiting launch in blue or pink\"><img alt=\"The components of the ISS in an exploded diagram, with modules on-orbit highlighted in orange, and those still awaiting launch in blue or pink\" src=\"//upload.wikimedia.org/wikipedia/commons/thumb/1/1c/ISS_configuration_2021-07_en.svg/300px-ISS_configuration_2021-07_en.svg.png\" decoding=\"async\" srcset=\"//upload.wikimedia.org/wikipedia/commons/thumb/1/1c/ISS_configuration_2021-07_en.svg/450px-ISS_configuration_2021-07_en.svg.png 1.5x, //upload.wikimedia.org/wikipedia/commons/thumb/1/1c/ISS_configuration_2021-07_en.svg/600px-ISS_configuration_2021-07_en.svg.png 2x\" data-file-width=\"1257\" data-file-height=\"820\" width=\"300\" height=\"196\"></a><div class=\"infobox-caption\" style=\"line-height:15px;\">Station elements as of July&nbsp;2021<sup class=\"plainlinks noexcerpt noprint asof-tag update\" style=\"display:none;\"><a class=\"external text\" href=\"https://en.wikipedia.org/w/index.php?title=International_Space_Station&amp;action=edit\">[update]</a></sup><br>(<a href=\"/wiki/Exploded_view\" class=\"mw-redirect\" title=\"Exploded view\">exploded view</a>)</div></td></tr><tr style=\"display:none\"><td colspan=\"2\">\n",
       "</td></tr></tbody></table>"
      ]
     },
     "metadata": {}
    }
   ],
   "metadata": {}
  },
  {
   "cell_type": "code",
   "execution_count": 8,
   "source": [
    "driver.close()"
   ],
   "outputs": [],
   "metadata": {}
  },
  {
   "cell_type": "markdown",
   "source": [
    "@[BryanWilhite](https://twitter.com/BryanWilhite)\n"
   ],
   "metadata": {}
  }
 ],
 "metadata": {
  "interpreter": {
   "hash": "a707b6ce8c685eb936424fcc3009d4b4b7a52543c4db09380a3fc49186ceb509"
  },
  "kernelspec": {
   "display_name": "Python 3",
   "language": "python",
   "name": "python3"
  },
  "language_info": {
   "codemirror_mode": {
    "name": "ipython",
    "version": 3
   },
   "file_extension": ".py",
   "mimetype": "text/x-python",
   "name": "python",
   "nbconvert_exporter": "python",
   "pygments_lexer": "ipython3",
   "version": "3.7.10"
  }
 },
 "nbformat": 4,
 "nbformat_minor": 2
}