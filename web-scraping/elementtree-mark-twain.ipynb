{
 "cells": [
  {
   "cell_type": "markdown",
   "metadata": {},
   "source": [
    "# Mark Twain (2002)\n",
    "\n",
    "<https://www.themoviedb.org/movie/130002-mark-twain>\n",
    "\n",
    "This title is presented as a three-hour movie but is clearly packaged on DVD as a two-episode TV series. Data will be copied by hand [from themoviedb.org](https://www.themoviedb.org/movie/130002-mark-twain)."
   ]
  },
  {
   "cell_type": "code",
   "execution_count": 1,
   "metadata": {},
   "outputs": [],
   "source": [
    "from IPython.core.display import display, HTML\n",
    "\n",
    "import songhay.utilities.elementtree as ET"
   ]
  },
  {
   "cell_type": "markdown",
   "metadata": {},
   "source": [
    "## generating `series` data\n"
   ]
  },
  {
   "cell_type": "code",
   "execution_count": 2,
   "metadata": {},
   "outputs": [],
   "source": [
    "series_data = dict(\n",
    "    uniqueids=[\n",
    "        {\n",
    "            'type': 'themoviedb.org',\n",
    "            'uniqueid': 'movie/130002-mark-twain'\n",
    "        },\n",
    "    ],\n",
    "    title='Mark Twain',\n",
    "    plot='Ken Burns, the premier documentarian of Americana, tackles the life of Mark Twain, the first writer with a uniquely American voice. In this installment in Burns’ “American Lives” series, the combined 2-hour episodes explore a side of Twain that is unfamiliar to many. Widely regarded as the funniest person of the 19th century, Twain suffered through severe personal tragedies and lack of business sense that brought him to the brink of financial ruin on several occasions. Includes interviews with writers William Styron and Arthur Miller and with actor Hal Holbrook, who has portrayed Twain in a one-man play each year for over 50 years.',\n",
    "    thumbs=[\n",
    "        {\n",
    "            'aspect': 'poster',\n",
    "            'dim': None,\n",
    "            'season': None, # maps to the top-level movie poster\n",
    "            'src': 'https://artworks.thetvdb.com/banners/movies/31874/posters/31874.jpg'\n",
    "        },\n",
    "    ],\n",
    "    genres=['documentary'],\n",
    "    actors=[{\n",
    "        'name': 'Keith David',\n",
    "        'role': 'narrator',\n",
    "        'src': 'https://artworks.thetvdb.com/banners/person/272458/primary.jpg'\n",
    "    },\n",
    "    {\n",
    "        'name': 'Kevin Conway',\n",
    "        'role': 'Mark Twain (voice)',\n",
    "        'src': 'https://artworks.thetvdb.com/banners/v4/actor/271606/photo/60997bcd1dfd6.jpg'\n",
    "    },\n",
    "    {\n",
    "        'name': 'Hal Holbrook',\n",
    "        'role': 'himself',\n",
    "        'src': 'https://artworks.thetvdb.com/banners/person/257986/primary.jpg'\n",
    "    }]\n",
    ")\n",
    "\n",
    "ET.getTVShowXmlTree(series_data).write(\n",
    "    f'./elementtree-mark-twain/tvshow.nfo',\n",
    "    encoding='utf-8',\n",
    "    xml_declaration=True)"
   ]
  },
  {
   "cell_type": "markdown",
   "metadata": {},
   "source": [
    "## generating `episodedetails` data\n"
   ]
  },
  {
   "cell_type": "code",
   "execution_count": 3,
   "metadata": {},
   "outputs": [],
   "source": [
    "year = '2002'\n",
    "episode_template = 'S01E'\n",
    "episode_data = [\n",
    "    {\n",
    "        'episode': f'{episode_template}{1:02d}',\n",
    "        'title': 'Part 1',\n",
    "        'plot': 'Ken Burns, the premier documentarian of Americana, tackles the life of Mark Twain, the first writer with a uniquely American voice.',\n",
    "        'year': year\n",
    "    },\n",
    "    {\n",
    "        'episode': f'{episode_template}{2:02d}',\n",
    "        'title': 'Part 2',\n",
    "        'plot': 'Ken Burns, the premier documentarian of Americana, tackles the life of Mark Twain, the first writer with a uniquely American voice.',\n",
    "        'year': year\n",
    "    },\n",
    "]"
   ]
  },
  {
   "cell_type": "code",
   "execution_count": 4,
   "metadata": {},
   "outputs": [],
   "source": [
    "nfo_location_template = f\"./elementtree-mark-twain/{series_data['title'].replace(':', ' -').replace('&', 'and')}\""
   ]
  },
  {
   "cell_type": "code",
   "execution_count": 5,
   "metadata": {},
   "outputs": [],
   "source": [
    "for item in episode_data:\n",
    "    episode = item['episode']\n",
    "    year = item['year']\n",
    "    xml_tree = ET.getEpisodeDetailsXmlTree(item['title'], item['plot'])\n",
    "    ET.writeEpisodeDetailsXml(nfo_location_template, episode, year, xml_tree)\n"
   ]
  }
 ],
 "metadata": {
  "kernelspec": {
   "display_name": "Python 3.7.13 ('base')",
   "language": "python",
   "name": "python3"
  },
  "language_info": {
   "codemirror_mode": {
    "name": "ipython",
    "version": 3
   },
   "file_extension": ".py",
   "mimetype": "text/x-python",
   "name": "python",
   "nbconvert_exporter": "python",
   "pygments_lexer": "ipython3",
   "version": "3.7.13"
  },
  "orig_nbformat": 4,
  "vscode": {
   "interpreter": {
    "hash": "2248ed64bdf5fe1d2cc35d4639eff9d9517212412e82087913ac56aa4ab59c78"
   }
  }
 },
 "nbformat": 4,
 "nbformat_minor": 2
}
