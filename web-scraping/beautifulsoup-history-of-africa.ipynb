{
 "cells": [
  {
   "cell_type": "markdown",
   "metadata": {},
   "source": [
    "# History of Africa (2017)\n",
    "\n",
    "<https://thetvdb.com/series/history-of-africa>\n",
    "\n",
    "![History of Africa banner](https://artworks.thetvdb.com/banners/series/357242/banners/5f6010c847d31.jpg)\n"
   ]
  },
  {
   "cell_type": "markdown",
   "metadata": {},
   "source": [
    "These notes preserve my memories of auto-generating [Kodi](https://kodi.tv/) [[GitHub](https://github.com/xbmc)] `tvshow` and `episodedetails` XML files in `*.nfo` formats.\n",
    "\n",
    "This `*.nfo` format is kind of covered in the following documents:\n",
    "\n",
    "- [NFO files](https://kodi.wiki/view/NFO_files)\n",
    "- [NFO files/TV shows](https://kodi.wiki/view/NFO_files/TV_shows)\n",
    "- [NFO files/Episodes](https://kodi.wiki/view/NFO_files/Episodes)\n"
   ]
  },
  {
   "cell_type": "code",
   "execution_count": 1,
   "metadata": {},
   "outputs": [],
   "source": [
    "from IPython.core.display import display, HTML\n",
    "\n",
    "import songhay.utilities.elementtree as ET\n",
    "import songhay.utilities.soup as bs\n",
    "\n",
    "import songhay.soup.thetvdb.series as series"
   ]
  },
  {
   "cell_type": "markdown",
   "metadata": {},
   "source": [
    "## generating `tvshow` data\n"
   ]
  },
  {
   "cell_type": "code",
   "execution_count": 2,
   "metadata": {},
   "outputs": [],
   "source": [
    "series_location = 'https://thetvdb.com/series/history-of-africa'\n",
    "series_soup = bs.getSoup(series_location)\n",
    "\n",
    "series_basic_info = dict(series.yieldSeriesBasicInfo(series_soup))\n",
    "\n",
    "series_data = dict(\n",
    "    uniqueids=[\n",
    "        {\n",
    "            'type': 'tvdb',\n",
    "            'uniqueid': 'series/history-of-africa'\n",
    "        },\n",
    "        {\n",
    "            'type': 'imdb',\n",
    "            'uniqueid': 'tt11211882'\n",
    "        },\n",
    "    ],\n",
    "    title=series.getSeriesTitle(series_soup),\n",
    "    plot=series.getSeriesPlot(series_soup),\n",
    "    thumbs=[\n",
    "        {\n",
    "            'aspect': 'banner',\n",
    "            'dim': None,\n",
    "            'season': None,\n",
    "            'src': 'https://artworks.thetvdb.com/banners/series/357242/banners/5f6010c847d31.jpg'\n",
    "        },\n",
    "        {\n",
    "            'aspect': 'poster',\n",
    "            'dim': None,\n",
    "            'season': None, # maps to the top-level movie poster\n",
    "            'src': 'https://artworks.thetvdb.com/banners/series/357242/posters/5f6001037411b.jpg'\n",
    "        },\n",
    "        {\n",
    "            'aspect': 'fanart',\n",
    "            'dim': '1280x720',\n",
    "            'season': 1,\n",
    "            'src': 'https://artworks.thetvdb.com/banners/series/357242/backgrounds/5ea29718b0446.jpg'\n",
    "        },\n",
    "    ],\n",
    "    genres=series_basic_info['Genres'],\n",
    "    actors=list(series.yieldSeriesActors(series_soup))\n",
    ")\n",
    "\n",
    "ET.getTVShowXmlTree(series_data).write(\n",
    "    './beautifulsoup-history-of-africa/tvshow.nfo',\n",
    "    encoding='utf-8',\n",
    "    xml_declaration=True)"
   ]
  },
  {
   "cell_type": "markdown",
   "metadata": {},
   "source": [
    "## generating `episodedetails` data\n"
   ]
  },
  {
   "cell_type": "code",
   "execution_count": 7,
   "metadata": {},
   "outputs": [
    {
     "data": {
      "text/html": [
       "<table class=\"table table-bordered\">\n",
       "<thead>\n",
       "<tr>\n",
       "<th width=\"15%\"></th>\n",
       "<th>Name</th>\n",
       "<th width=\"30%\">First Aired</th>\n",
       "<th width=\"15%\">Runtime</th>\n",
       "<th width=\"10%\">Image</th>\n",
       "</tr>\n",
       "</thead>\n",
       "<tbody>\n",
       "<tr>\n",
       "<td>S02E07</td>\n",
       "<td>\n",
       "<a href=\"/series/history-of-africa/episodes/8230604\">\r\n",
       "                                    Slavery and Suffering\r\n",
       "                                </a>\n",
       "</td>\n",
       "<td>\n",
       "<div>August 1, 2020</div>\n",
       "<div>BBC World News</div>\n",
       "</td>\n",
       "<td>\r\n",
       "                                                                    45\r\n",
       "                                                            </td>\n",
       "<td>\n",
       "</td>\n",
       "</tr>\n",
       "<tr>\n",
       "<td>S02E08</td>\n",
       "<td>\n",
       "<a href=\"/series/history-of-africa/episodes/8230605\">\r\n",
       "                                    Slavery and Salvation\r\n",
       "                                </a>\n",
       "</td>\n",
       "<td>\n",
       "<div>August 8, 2020</div>\n",
       "<div>BBC World News</div>\n",
       "</td>\n",
       "<td>\r\n",
       "                                                                    45\r\n",
       "                                                            </td>\n",
       "<td>\n",
       "</td>\n",
       "</tr>\n",
       "<tr>\n",
       "<td>S02E09</td>\n",
       "<td>\n",
       "<a href=\"/series/history-of-africa/episodes/8230606\">\r\n",
       "                                    Diamonds, Gold and Greed\r\n",
       "                                </a>\n",
       "</td>\n",
       "<td>\n",
       "<div>August 15, 2020</div>\n",
       "<div>BBC World News</div>\n",
       "</td>\n",
       "<td>\r\n",
       "                                                                    45\r\n",
       "                                                            </td>\n",
       "<td>\n",
       "</td>\n",
       "</tr>\n",
       "<tr>\n",
       "<td>S02E10</td>\n",
       "<td>\n",
       "<a href=\"/series/history-of-africa/episodes/8230607\">\r\n",
       "                                    Kongo and the Scramble for Africa\r\n",
       "                                </a>\n",
       "</td>\n",
       "<td>\n",
       "<div>August 22, 2020</div>\n",
       "<div>BBC World News</div>\n",
       "</td>\n",
       "<td>\r\n",
       "                                                                    45\r\n",
       "                                                            </td>\n",
       "<td>\n",
       "</td>\n",
       "</tr>\n",
       "<tr>\n",
       "<td>S02E11</td>\n",
       "<td>\n",
       "<a href=\"/series/history-of-africa/episodes/8230608\">\r\n",
       "                                    Resistance and Liberation\r\n",
       "                                </a>\n",
       "<div class=\"small text-muted\">series finale</div>\n",
       "</td>\n",
       "<td>\n",
       "<div>August 29, 2020</div>\n",
       "<div>BBC World News</div>\n",
       "</td>\n",
       "<td>\r\n",
       "                                                                    45\r\n",
       "                                                            </td>\n",
       "<td>\n",
       "</td>\n",
       "</tr>\n",
       "</tbody>\n",
       "</table>"
      ],
      "text/plain": [
       "<IPython.core.display.HTML object>"
      ]
     },
     "metadata": {},
     "output_type": "display_data"
    }
   ],
   "source": [
    "episode_location = 'https://thetvdb.com/series/history-of-africa/seasons/official/2'\n",
    "\n",
    "dvd_episode_soup = bs.getSoup(episode_location)\n",
    "table = dvd_episode_soup.find('table')\n",
    "\n",
    "display(HTML(table.decode()))"
   ]
  },
  {
   "cell_type": "code",
   "execution_count": 8,
   "metadata": {},
   "outputs": [
    {
     "data": {
      "text/plain": [
       "[{'episode': 'S02E07',\n",
       "  'title': 'Slavery and Suffering',\n",
       "  'plot': 'Much is known about enslaved Africans once they arrived in the Americas and Europe, but in this episode Zeinab Badawi looks at the impact on Africa itself of one of the most evil chapters in human history: the trans Atlantic slave trade. She travels to several countries to see how, where and why this trade began in Cabo Verde in 1510. She meets a man on the Senegalese island of Goree who for 35  years has been relating the story of slavery to thousands of visitors. And leading academics tackle the controversial subject of why some Africans helped sell their fellow Africans into slavery.',\n",
       "  'year': '2020'},\n",
       " {'episode': 'S02E08',\n",
       "  'title': 'Slavery and Salvation',\n",
       "  'plot': 'In this episode, Zeinab Badawi visits Ghana and sees how momentum in the trans Atlantic slave trade led to competition for enslaved Africans between European nations who built numerous slave forts along West Africa’s Atlantic coast. She hears about the inhumane conditions in which slaves awaiting shipment were kept and how women were selected and subjected to rape by their captors. Also what do African academics believe were the main reasons behind abolition and why did many Africans return to the continent such as to Liberia? And how were they received by local communities?',\n",
       "  'year': '2020'},\n",
       " {'episode': 'S02E09',\n",
       "  'title': 'Diamonds, Gold and Greed',\n",
       "  'plot': 'In this episode, Zeinab Badawi travels to South Africa and Zimbabwe and sees how southern Africans gradually came to grasp the destruction and suffering that would be inflicted upon them by white settlers. We find out  how the original inhabitants of the Cape tried to resist white settlers and the cruel reprisals they endured. We hear about the story of Shaka, King of the Zulus from a descendant of his family and how he helped reshape the map of modern southern Africa as well as the heroic battles of Shaka’s successors against those intent on seizing their riches and land:  the greed for diamonds, gold and other resources that impoverished Africans and enriched white settlers, likes Cecil Rhodes.',\n",
       "  'year': '2020'},\n",
       " {'episode': 'S02E10',\n",
       "  'title': 'Kongo and the Scramble for Africa',\n",
       "  'plot': \"In this episode Zeinab Badawi travels to Angola, DRC and Congo in central Africa to bring the history of the great Kongo Empire. She hears about the critical role played by women in African history such as Queen Nzinga who battled the Portuguese for a quarter of a century in the 1600s and a few decades later Kimpa Vita who was burned alive after her failed resistance. Why were Africans unable to resist the tide of European control? One woman of nearly 100 relates her memory of Belgian rule in the Congo, during what became known as the 'Scramble for Africa’.\",\n",
       "  'year': '2020'},\n",
       " {'episode': 'S02E11',\n",
       "  'title': 'Resistance and Liberation',\n",
       "  'plot': 'In the 20th episode Zeinab Badawi makes a huge and broad sweep across Africa examining the struggle for freedom, even in the face of bloody crackdowns: a veteran Mau Mau fighter in Kenya, a member of the resistance in Algeria’s brutal war of independence, from one African president whose ancestor fought the French and from the grandson of the Mahdi who defeated Britain’s General Gordon.  And she talks about that heady time of independence with the families of three of Africa’s best known independence leaders: Ghana’s Kwame Nkrumah, Congo’s Patrice Lumuba and Senegal’s Leopold Senghor as well as the son of the legendary Nigerian singer Fela Kuti.',\n",
       "  'year': '2020'}]"
      ]
     },
     "execution_count": 8,
     "metadata": {},
     "output_type": "execute_result"
    }
   ],
   "source": [
    "import songhay.soup.thetvdb.episode as episode\n",
    "\n",
    "episode_data = list(episode.yieldEpisodeData(table))\n",
    "episode_data"
   ]
  },
  {
   "cell_type": "code",
   "execution_count": 9,
   "metadata": {},
   "outputs": [],
   "source": [
    "nfo_location_template = f\"./beautifulsoup-history-of-africa/{series_data['title']}\""
   ]
  },
  {
   "cell_type": "code",
   "execution_count": 10,
   "metadata": {},
   "outputs": [],
   "source": [
    "for item in episode_data:\n",
    "    episode = item['episode']\n",
    "    year = item['year']\n",
    "    xml_tree = ET.getEpisodeDetailsXmlTree(item['title'], item['plot'])\n",
    "    ET.writeEpisodeDetailsXml(nfo_location_template, episode, year, xml_tree)\n"
   ]
  },
  {
   "cell_type": "markdown",
   "metadata": {},
   "source": [
    "[Bryan Wilhite is on LinkedIn](https://www.linkedin.com/in/wilhite)🇺🇸💼\n"
   ]
  }
 ],
 "metadata": {
  "kernelspec": {
   "display_name": "Python 3.7.13 ('base')",
   "language": "python",
   "name": "python3"
  },
  "language_info": {
   "codemirror_mode": {
    "name": "ipython",
    "version": 3
   },
   "file_extension": ".py",
   "mimetype": "text/x-python",
   "name": "python",
   "nbconvert_exporter": "python",
   "pygments_lexer": "ipython3",
   "version": "3.7.13"
  },
  "orig_nbformat": 4,
  "vscode": {
   "interpreter": {
    "hash": "2248ed64bdf5fe1d2cc35d4639eff9d9517212412e82087913ac56aa4ab59c78"
   }
  }
 },
 "nbformat": 4,
 "nbformat_minor": 2
}
