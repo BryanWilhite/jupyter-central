{
 "cells": [
  {
   "cell_type": "markdown",
   "metadata": {},
   "source": [
    "# Trois couleurs: Rouge (1994)\n",
    "\n",
    "<https://www.imdb.com/title/tt0111495/>\n"
   ]
  },
  {
   "cell_type": "code",
   "execution_count": 1,
   "metadata": {},
   "outputs": [],
   "source": [
    "from IPython.core.display import display, HTML\n",
    "\n",
    "import songhay.utilities.elementtree as ET"
   ]
  },
  {
   "cell_type": "markdown",
   "metadata": {},
   "source": [
    "## generating `movie` data\n"
   ]
  },
  {
   "cell_type": "code",
   "execution_count": 5,
   "metadata": {},
   "outputs": [],
   "source": [
    "movie_data = dict(\n",
    "    uniqueids=[\n",
    "        {\n",
    "            'type': 'imdb',\n",
    "            'uniqueid': 'tt0111495'\n",
    "        },\n",
    "    ],\n",
    "    title='Trois couleurs: Rouge',\n",
    "    plot='A model discovers a retired judge is keen on invading people’s privacy.',\n",
    "    thumbs=[\n",
    "        {\n",
    "            'aspect': 'poster',\n",
    "            'dim': None,\n",
    "            'season': None, # maps to the top-level movie poster\n",
    "            'src': 'poster.jpg'\n",
    "        },\n",
    "    ],\n",
    "    genre='drama',\n",
    "    country='France',\n",
    "    director='Krzysztof Kieslowski',\n",
    "    year='1994',\n",
    "    actors=[{\n",
    "        'name': 'Irène Jacob',\n",
    "        'role': 'Valentine',\n",
    "        'src': 'https://www.berlinale.de/media/nrwd/bilder/2009/starportraits2009/2009-02-12-2786irenejacob_IMG_x900.jpg'\n",
    "    },\n",
    "    {\n",
    "        'name': 'Jean-Louis Trintignant',\n",
    "        'role': 'Le juge',\n",
    "        'src': 'https://www.nndb.com/people/756/000113417/jean-louis-trintignant.jpg'\n",
    "    },\n",
    "    {\n",
    "        'name': 'Frédérique Feder',\n",
    "        'role': 'Karin',\n",
    "        'src': 'https://medias.unifrance.org/medias/11/188/179211/format_page/media.jpg'\n",
    "    },\n",
    "    {\n",
    "        'name': 'Jean-Pierre Lorit',\n",
    "        'role': 'Auguste',\n",
    "        'src': 'https://medias.unifrance.org/medias/251/89/88571/format_web/jean-pierre-lorit.jpg'\n",
    "    }]\n",
    ")\n",
    "\n",
    "ET.getMovieXmlTree(movie_data).write(\n",
    "    f'./elementtree-trois-couleurs-rouge/{movie_data[\"title\"].replace(\":\", \" -\")} ({movie_data[\"year\"]}).nfo',\n",
    "    encoding='utf-8',\n",
    "    xml_declaration=True)"
   ]
  }
 ],
 "metadata": {
  "kernelspec": {
   "display_name": "Python 3.7.13 ('base')",
   "language": "python",
   "name": "python3"
  },
  "language_info": {
   "codemirror_mode": {
    "name": "ipython",
    "version": 3
   },
   "file_extension": ".py",
   "mimetype": "text/x-python",
   "name": "python",
   "nbconvert_exporter": "python",
   "pygments_lexer": "ipython3",
   "version": "3.7.13"
  },
  "orig_nbformat": 4,
  "vscode": {
   "interpreter": {
    "hash": "2248ed64bdf5fe1d2cc35d4639eff9d9517212412e82087913ac56aa4ab59c78"
   }
  }
 },
 "nbformat": 4,
 "nbformat_minor": 2
}
