{
 "cells": [
  {
   "cell_type": "markdown",
   "source": [
    "# Beautiful Soup\r\n",
    "\r\n",
    "Let’s walk through “[Python Beautiful Soup Basics Tutorial](https://nitratine.net/blog/post/python-beautiful-soup-basics-tutorial/#http-request)”:\r\n",
    "\r\n",
    ">This tutorial covers the basics of the Python Beautiful Soup library including installation, parsing HTML/XML, finding elements and getting element data.\r\n"
   ],
   "metadata": {}
  },
  {
   "cell_type": "markdown",
   "source": [
    "@[BryanWilhite](https://twitter.com/BryanWilhite)\r\n"
   ],
   "metadata": {}
  }
 ],
 "metadata": {
  "orig_nbformat": 4,
  "language_info": {
   "name": "python"
  }
 },
 "nbformat": 4,
 "nbformat_minor": 2
}