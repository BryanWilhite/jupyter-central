{
 "cells": [
  {
   "cell_type": "markdown",
   "metadata": {},
   "source": [
    "# One for the Road (1985)\n",
    "\n",
    "<https://thestreamable.com/movies/one-for-the-road-1985/>\n"
   ]
  },
  {
   "cell_type": "code",
   "execution_count": 3,
   "metadata": {},
   "outputs": [],
   "source": [
    "from IPython.display import display, HTML\n",
    "\n",
    "import songhay.utilities.elementtree as ET"
   ]
  },
  {
   "cell_type": "markdown",
   "metadata": {},
   "source": [
    "## generating `movie` data\n"
   ]
  },
  {
   "cell_type": "code",
   "execution_count": 5,
   "metadata": {},
   "outputs": [],
   "source": [
    "movie_data = dict(\n",
    "    uniqueids=[\n",
    "        {\n",
    "            'type': 'thestreamable',\n",
    "            'uniqueid': 'movies/one-for-the-road-1985'\n",
    "        },\n",
    "    ],\n",
    "    title='One for the Road',\n",
    "    plot='A powerful statement about the abuse of human rights by totalitarian governments centered upon an unctuous and “civilized” interrogator humiliating the doomed members of a family who have become enemies of the state.',\n",
    "    genre='drama',\n",
    "    country='United States',\n",
    "    director='Harold Pinter',\n",
    "    year='1985',\n",
    "    actors=[{\n",
    "        'name': 'Nicholas',\n",
    "        'role': 'Alan Bates',\n",
    "        'src': 'https://media.themoviedb.org/t/p/w600_and_h900_bestv2/aqorhHCrgICHKP4nAJK9IB4xGGa.jpg'\n",
    "    },\n",
    "    {\n",
    "        'name': 'Victor',\n",
    "        'role': 'Roger Lloyd Pack',\n",
    "        'src': 'https://media.themoviedb.org/t/p/w600_and_h900_bestv2/iF9b0wRykPT5nFOImS1A5w8HJ3c.jpg'\n",
    "    },\n",
    "    {\n",
    "        'name': 'Nicky',\n",
    "        'role': 'Paul Adams',\n",
    "        'src': 'https://www.themoviedb.org/assets/2/v4/glyphicons/basic/glyphicons-basic-4-user-grey-d8fe957375e70239d6abdd549fd7568c89281b2179b5f4470e2e12895792dfa5.svg'\n",
    "    },\n",
    "    {\n",
    "        'name': 'Gila',\n",
    "        'role': 'Rosie Kerslake',\n",
    "        'src': 'https://www.themoviedb.org/assets/2/v4/glyphicons/basic/glyphicons-basic-4-user-grey-d8fe957375e70239d6abdd549fd7568c89281b2179b5f4470e2e12895792dfa5.svg'\n",
    "    }]\n",
    ")\n",
    "\n",
    "ET.getMovieXmlTree(movie_data).write(\n",
    "    f'./elementtree-one-for-the-road/{movie_data[\"title\"].replace(\":\", \" -\")} ({movie_data[\"year\"]}).nfo',\n",
    "    encoding='utf-8',\n",
    "    xml_declaration=True)"
   ]
  }
 ],
 "metadata": {
  "kernelspec": {
   "display_name": "Python 3.7.13 ('base')",
   "language": "python",
   "name": "python3"
  },
  "language_info": {
   "codemirror_mode": {
    "name": "ipython",
    "version": 3
   },
   "file_extension": ".py",
   "mimetype": "text/x-python",
   "name": "python",
   "nbconvert_exporter": "python",
   "pygments_lexer": "ipython3",
   "version": "3.8.13"
  },
  "orig_nbformat": 4,
  "vscode": {
   "interpreter": {
    "hash": "2248ed64bdf5fe1d2cc35d4639eff9d9517212412e82087913ac56aa4ab59c78"
   }
  }
 },
 "nbformat": 4,
 "nbformat_minor": 2
}
