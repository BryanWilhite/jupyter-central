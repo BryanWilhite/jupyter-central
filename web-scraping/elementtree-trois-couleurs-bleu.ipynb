{
 "cells": [
  {
   "cell_type": "markdown",
   "metadata": {},
   "source": [
    "# Trois couleurs: Bleu (1994)\n",
    "\n",
    "<https://www.imdb.com/title/tt0108394/>\n"
   ]
  },
  {
   "cell_type": "code",
   "execution_count": 1,
   "metadata": {},
   "outputs": [],
   "source": [
    "from IPython.core.display import display, HTML\n",
    "\n",
    "import songhay.utilities.elementtree as ET"
   ]
  },
  {
   "cell_type": "markdown",
   "metadata": {},
   "source": [
    "## generating `movie` data\n"
   ]
  },
  {
   "cell_type": "code",
   "execution_count": 5,
   "metadata": {},
   "outputs": [],
   "source": [
    "movie_data = dict(\n",
    "    uniqueids=[\n",
    "        {\n",
    "            'type': 'imdb',\n",
    "            'uniqueid': 'tt0108394'\n",
    "        },\n",
    "    ],\n",
    "    title='Trois couleurs: Bleu',\n",
    "    plot='A woman struggles to find a way to live her life after the death of her husband and child.',\n",
    "    thumbs=[\n",
    "        {\n",
    "            'aspect': 'poster',\n",
    "            'dim': None,\n",
    "            'season': None, # maps to the top-level movie poster\n",
    "            'src': 'poster.jpg'\n",
    "        },\n",
    "    ],\n",
    "    genre='drama',\n",
    "    country='France',\n",
    "    director='Krzysztof Kieslowski',\n",
    "    year='1994',\n",
    "    actors=[{\n",
    "        'name': 'Juliette Binoche',\n",
    "        'role': 'Julie',\n",
    "        'src': 'https://www.hawtcelebs.com/wp-content/uploads/2019/02/juliette-binoche-at-berlin-international-film-festival-closing-ceremony-02-16-2019-9_thumbnail.jpg'\n",
    "    },\n",
    "    {\n",
    "        'name': 'Zbigniew Zamachowski',\n",
    "        'role': 'Karol Karol',\n",
    "        'src': 'https://bi.im-g.pl/im/7d/c6/17/z24932221AMP,Zbigniew-Zamachowski.jpg'\n",
    "    },\n",
    "    {\n",
    "        'name': 'Julie Delpy',\n",
    "        'role': 'Dominique',\n",
    "        'src': 'https://lh3.googleusercontent.com/--DEc15Q9ndE/V0Z0OOAHGtI/AAAAAAAAUYY/xA2H3T46dBg/s640/Julie-Delpy-Dp-profile-pics-1110.jpg'\n",
    "    }]\n",
    ")\n",
    "\n",
    "ET.getMovieXmlTree(movie_data).write(\n",
    "    f'./elementtree-trois-couleurs-bleu/{movie_data[\"title\"].replace(\":\", \" -\")} ({movie_data[\"year\"]}).nfo',\n",
    "    encoding='utf-8',\n",
    "    xml_declaration=True)"
   ]
  }
 ],
 "metadata": {
  "kernelspec": {
   "display_name": "Python 3.7.13 ('base')",
   "language": "python",
   "name": "python3"
  },
  "language_info": {
   "codemirror_mode": {
    "name": "ipython",
    "version": 3
   },
   "file_extension": ".py",
   "mimetype": "text/x-python",
   "name": "python",
   "nbconvert_exporter": "python",
   "pygments_lexer": "ipython3",
   "version": "3.7.13"
  },
  "orig_nbformat": 4,
  "vscode": {
   "interpreter": {
    "hash": "2248ed64bdf5fe1d2cc35d4639eff9d9517212412e82087913ac56aa4ab59c78"
   }
  }
 },
 "nbformat": 4,
 "nbformat_minor": 2
}
