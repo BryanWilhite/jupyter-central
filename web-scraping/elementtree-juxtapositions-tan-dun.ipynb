{
 "cells": [
  {
   "cell_type": "markdown",
   "metadata": {},
   "source": [
    "# Juxtapositions: Mahler: Tan Dun - Tea & Broken Silence (2008)\n",
    "\n",
    "<https://www.euroarts.com/labels/7758-juxtapositions-tan-dun-tea-broken-silence>\n",
    "\n",
    "This title has no web-scraping target. Data will be copied by hand [from EuroArts](https://www.euroarts.com/labels/7758-juxtapositions-tan-dun-tea-broken-silence)."
   ]
  },
  {
   "cell_type": "code",
   "execution_count": 2,
   "metadata": {},
   "outputs": [],
   "source": [
    "from IPython.core.display import display, HTML\n",
    "\n",
    "import songhay.utilities.elementtree as ET"
   ]
  },
  {
   "cell_type": "markdown",
   "metadata": {},
   "source": [
    "## generating `movie` data\n"
   ]
  },
  {
   "cell_type": "code",
   "execution_count": 3,
   "metadata": {},
   "outputs": [],
   "source": [
    "series_data = dict(\n",
    "    uniqueids=[\n",
    "        {\n",
    "            'type': 'upc',\n",
    "            'uniqueid': '899132000329'\n",
    "        },\n",
    "    ],\n",
    "    title='Juxtapositions: Tan Dun - Tea & Broken Silence',\n",
    "    plot='Film 1 : Tea recounts how chinese composer Tan Dun wrote the opera Tea, a tragig love story set against the background of the Japanese tea ceremony. Film 2 : BROKEN SILENCE draws the portraits of five Chinese composers widely regarded as the founders of Chinese contemporary music : Tan Dun, Chen Qigang, Guo Wenjing, Mo Wuping, and Qu Xiasong.',\n",
    "    thumbs=[\n",
    "        {\n",
    "            'aspect': 'poster',\n",
    "            'dim': None,\n",
    "            'season': None, # maps to the top-level movie poster\n",
    "            'src': 'https://www.euroarts.com/sites/default/files/styles/disk_cover_1000_/public/media_product/81FXz58fO6L._SL1200_.jpg?itok=eDUK1ShI'\n",
    "        },\n",
    "    ],\n",
    "    genres=['documentary'],\n",
    "    actors=[{\n",
    "        'name': 'Tan Dun',\n",
    "        'role': 'himself',\n",
    "        'src': 'https://www.goldenglobes.com/sites/default/files/styles/portrait_medium/public/people/cover_images/gg_dun_tan.jpg?format=pjpg&auto=webp&optimize=high'\n",
    "    }]\n",
    ")\n",
    "\n",
    "ET.getTVShowXmlTree(series_data).write(\n",
    "    f'./elementtree-juxtapositions-tan-dun/tvshow.nfo',\n",
    "    encoding='utf-8',\n",
    "    xml_declaration=True)"
   ]
  },
  {
   "cell_type": "markdown",
   "metadata": {},
   "source": [
    "## generating `episodedetails` data\n"
   ]
  },
  {
   "cell_type": "code",
   "execution_count": 4,
   "metadata": {},
   "outputs": [],
   "source": [
    "year = '2008'\n",
    "episode_template = 'S01E'\n",
    "episode_data = [\n",
    "    {\n",
    "        'episode': f'{episode_template}{1:02d}',\n",
    "        'title': 'Tea',\n",
    "        'plot': 'Film 1 : Tea recounts how chinese composer Tan Dun wrote the opera Tea, a tragig love story set against the background of the Japanese tea ceremony. He combines eastern and western composition techniques with musical ideas to create a unique sounding fusion between two great musical traditions. The Tea opera is the door to this journey into the mystical world of Chado, the Way of Tea. A world in which the ultimate objective is, as Tan Dun himself states, “to hear colour and see sound”. Beautifully crafted by Franck Scheffer, Tea includes interviews of Tan Dun, Librettist Xu Ying and Director Pierre Audi, as well as performances with the NHK Symphony Orchestra and the Dutch Chamber Orchestra conducted by Tan Dun.',\n",
    "        'year': year\n",
    "    },\n",
    "    {\n",
    "        'episode': f'{episode_template}{2:02d}',\n",
    "        'title': 'BROKEN SILENCE',\n",
    "        'plot': 'Film 2 : BROKEN SILENCE draws the portraits of five Chinese composers widely regarded as the founders of Chinese contemporary music : Tan Dun, Chen Qigang, Guo Wenjing, Mo Wuping, and Qu Xiasong. Children of Mao’s cultural revolution, a troubled time when classical music was forbidden in China, they grew up listening to local folk songs and the Communist Party’s revolutionary operas. When China opened in 1978, Tan Dun and his fellow students discovered Beethoven, their life would be forever changed. Filmed in China, New York, Paris and the Netherlands, Broken Silence won the Grand Prix Visions du Réel in Nyon (Switzerland) 1996, the Festival du Nouveau Cinéma award in Montreal and the Best Discovery award…',\n",
    "        'year': year\n",
    "    },\n",
    "]"
   ]
  },
  {
   "cell_type": "code",
   "execution_count": 5,
   "metadata": {},
   "outputs": [],
   "source": [
    "nfo_location_template = f\"./elementtree-juxtapositions-tan-dun/{series_data['title'].replace(':', ' -').replace('&', 'and')}\""
   ]
  },
  {
   "cell_type": "code",
   "execution_count": 6,
   "metadata": {},
   "outputs": [],
   "source": [
    "for item in episode_data:\n",
    "    episode = item['episode']\n",
    "    year = item['year']\n",
    "    xml_tree = ET.getEpisodeDetailsXmlTree(item['title'], item['plot'])\n",
    "    ET.writeEpisodeDetailsXml(nfo_location_template, episode, year, xml_tree)\n"
   ]
  }
 ],
 "metadata": {
  "kernelspec": {
   "display_name": "Python 3.7.13 ('base')",
   "language": "python",
   "name": "python3"
  },
  "language_info": {
   "codemirror_mode": {
    "name": "ipython",
    "version": 3
   },
   "file_extension": ".py",
   "mimetype": "text/x-python",
   "name": "python",
   "nbconvert_exporter": "python",
   "pygments_lexer": "ipython3",
   "version": "3.7.13"
  },
  "orig_nbformat": 4,
  "vscode": {
   "interpreter": {
    "hash": "2248ed64bdf5fe1d2cc35d4639eff9d9517212412e82087913ac56aa4ab59c78"
   }
  }
 },
 "nbformat": 4,
 "nbformat_minor": 2
}
