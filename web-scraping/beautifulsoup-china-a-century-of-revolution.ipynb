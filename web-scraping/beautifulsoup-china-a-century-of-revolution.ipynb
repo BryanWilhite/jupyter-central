{
 "cells": [
  {
   "cell_type": "markdown",
   "metadata": {},
   "source": [
    "# China - A Century of Revolution (1989)\n",
    "\n",
    "<https://thetvdb.com/series/china-a-century-of-revolution>\n",
    "\n",
    "![China - A Century of Revolution banner](https://artworks.thetvdb.com/banners/graphical/191321-g.jpg)\n"
   ]
  },
  {
   "cell_type": "markdown",
   "metadata": {},
   "source": [
    "These notes preserve my memories of auto-generating [Kodi](https://kodi.tv/) [[GitHub](https://github.com/xbmc)] `tvshow` and `episodedetails` XML files in `*.nfo` formats.\n",
    "\n",
    "This `*.nfo` format is kind of covered in the following documents:\n",
    "\n",
    "- [NFO files](https://kodi.wiki/view/NFO_files)\n",
    "- [NFO files/TV shows](https://kodi.wiki/view/NFO_files/TV_shows)\n",
    "- [NFO files/Episodes](https://kodi.wiki/view/NFO_files/Episodes)\n"
   ]
  },
  {
   "cell_type": "code",
   "execution_count": 1,
   "metadata": {},
   "outputs": [],
   "source": [
    "from IPython.core.display import display, HTML\n",
    "\n",
    "import songhay.utilities.elementtree as ET\n",
    "import songhay.utilities.soup as bs\n",
    "\n",
    "import songhay.soup.thetvdb.series as series"
   ]
  },
  {
   "cell_type": "markdown",
   "metadata": {},
   "source": [
    "## generating `tvshow` data\n"
   ]
  },
  {
   "cell_type": "code",
   "execution_count": 2,
   "metadata": {},
   "outputs": [],
   "source": [
    "series_location = 'https://thetvdb.com/series/china-a-century-of-revolution'\n",
    "series_soup = bs.getSoup(series_location)\n",
    "\n",
    "series_basic_info = dict(series.yieldSeriesBasicInfo(series_soup))\n",
    "\n",
    "series_data = dict(\n",
    "    uniqueids=[\n",
    "        {\n",
    "            'type': 'tvdb',\n",
    "            'uniqueid': 'series/china-a-century-of-revolution'\n",
    "        },\n",
    "        {\n",
    "            'type': 'imdb',\n",
    "            'uniqueid': 'tt5776992'\n",
    "        },\n",
    "    ],\n",
    "    title=series.getSeriesTitle(series_soup).replace('New ', ''),\n",
    "    plot=series.getSeriesPlot(series_soup),\n",
    "    thumbs=[\n",
    "        {\n",
    "            'aspect': 'banner',\n",
    "            'dim': None,\n",
    "            'season': None,\n",
    "            'src': 'https://artworks.thetvdb.com/banners/graphical/191321-g.jpg'\n",
    "        },\n",
    "        {\n",
    "            'aspect': 'poster',\n",
    "            'dim': None,\n",
    "            'season': None, # maps to the top-level movie poster\n",
    "            'src': 'https://artworks.thetvdb.com/banners/posters/191321-2.jpg'\n",
    "        },\n",
    "        {\n",
    "            'aspect': 'fanart',\n",
    "            'dim': '1280x720',\n",
    "            'season': 1,\n",
    "            'src': 'https://artworks.thetvdb.com/banners/fanart/original/191321-1.jpg'\n",
    "        },\n",
    "    ],\n",
    "    genres=series_basic_info['Genres'],\n",
    "    actors=[]\n",
    ")\n",
    "\n",
    "ET.getTVShowXmlTree(series_data).write(\n",
    "    './beautifulsoup-china-a-century-of-revolution/tvshow.nfo',\n",
    "    encoding='utf-8',\n",
    "    xml_declaration=True)"
   ]
  },
  {
   "cell_type": "markdown",
   "metadata": {},
   "source": [
    "## generating `episodedetails` data\n"
   ]
  },
  {
   "cell_type": "code",
   "execution_count": 4,
   "metadata": {},
   "outputs": [
    {
     "data": {
      "text/html": [
       "<table class=\"table table-bordered\">\n",
       "<thead>\n",
       "<tr>\n",
       "<th width=\"15%\"></th>\n",
       "<th>Name</th>\n",
       "<th width=\"30%\">First Aired</th>\n",
       "<th width=\"15%\">Runtime</th>\n",
       "<th width=\"10%\">Image</th>\n",
       "</tr>\n",
       "</thead>\n",
       "<tbody>\n",
       "<tr>\n",
       "<td>S01E01</td>\n",
       "<td>\n",
       "<a href=\"/series/china-a-century-of-revolution/episodes/2845021\">\r\n",
       "                                    China in Revolution: 1911–1949\r\n",
       "                                </a>\n",
       "</td>\n",
       "<td>\n",
       "<div>September 20, 1989</div>\n",
       "<div>PBS</div>\n",
       "</td>\n",
       "<td>\r\n",
       "                                                                    120\r\n",
       "                                                            </td>\n",
       "<td>\n",
       "</td>\n",
       "</tr>\n",
       "<tr>\n",
       "<td>S01E02</td>\n",
       "<td>\n",
       "<a href=\"/series/china-a-century-of-revolution/episodes/2845031\">\r\n",
       "                                    The Mao Years: 1949-1976\r\n",
       "                                </a>\n",
       "</td>\n",
       "<td>\n",
       "<div>September 20, 1994</div>\n",
       "<div>PBS</div>\n",
       "</td>\n",
       "<td>\r\n",
       "                                                                    120\r\n",
       "                                                            </td>\n",
       "<td>\n",
       "</td>\n",
       "</tr>\n",
       "<tr>\n",
       "<td>S01E03</td>\n",
       "<td>\n",
       "<a href=\"/series/china-a-century-of-revolution/episodes/2845041\">\r\n",
       "                                    Born Under The Red Flag: 1976-1997\r\n",
       "                                </a>\n",
       "<div class=\"small text-muted\">series finale</div>\n",
       "</td>\n",
       "<td>\n",
       "<div>September 20, 1998</div>\n",
       "<div>PBS</div>\n",
       "</td>\n",
       "<td>\r\n",
       "                                                                    120\r\n",
       "                                                            </td>\n",
       "<td>\n",
       "</td>\n",
       "</tr>\n",
       "</tbody>\n",
       "</table>"
      ],
      "text/plain": [
       "<IPython.core.display.HTML object>"
      ]
     },
     "metadata": {},
     "output_type": "display_data"
    }
   ],
   "source": [
    "episode_location = 'https://thetvdb.com/series/china-a-century-of-revolution/seasons/official/1'\n",
    "\n",
    "dvd_episode_soup = bs.getSoup(episode_location)\n",
    "table = dvd_episode_soup.find('table')\n",
    "\n",
    "display(HTML(table.decode()))"
   ]
  },
  {
   "cell_type": "code",
   "execution_count": 5,
   "metadata": {},
   "outputs": [
    {
     "data": {
      "text/plain": [
       "[{'episode': 'S01E01',\n",
       "  'title': 'China in Revolution: 1911–1949',\n",
       "  'plot': \"China In Revolution begins in 1911 with the fall of the last emperor and continues through 1949, highlighting four decades of civil war, foreign invasion and the ascension of rival leaders Mao Zedong and Chiang Kai-shek. Rarely seen photos and film footage - among the earliest ever recorded in China - reveal fascinating details of a long-censored history, Hear the facts and meet the people who experienced modern China's most violent era.\",\n",
       "  'year': '1989'},\n",
       " {'episode': 'S01E02',\n",
       "  'title': 'The Mao Years: 1949-1976',\n",
       "  'plot': 'From the beginning of his rule in 1949 to his death in 1976, Mao Zedong and his colleagues attempted to forge a \"new China\" from a country mired in poverty and devastated by decades of war. Yet the Mao years would bring the new People\\'s Republic of China little stability. Rare interviews with Communist Party members and ordinary citizens involved with history\\'s largest political experiment, reveal the turbulence, famine, violent campaigns and purges which destroyed the lives of more than one hundred million people.',\n",
       "  'year': '1994'},\n",
       " {'episode': 'S01E03',\n",
       "  'title': 'Born Under The Red Flag: 1976-1997',\n",
       "  'plot': \"Born Under The Red Flag begins with Mao's death in 1976, continues with the new leadership of Deng Xiaoping, and concludes with the struggle of China's paradoxical goals of economic prosperity and absolute Communist Party control. In the short span of 15 years, China transformed itself into a never-before-seen hybrid of communism and capitalism. And although it has become the third largest economy in the world, the price has been high. Rare interviews and film footage highlight the Democracy Wall Movement, the establishment of Special Economic Zones and the dramatic student protests in Tiananmen Square.\",\n",
       "  'year': '1998'}]"
      ]
     },
     "execution_count": 5,
     "metadata": {},
     "output_type": "execute_result"
    }
   ],
   "source": [
    "import songhay.soup.thetvdb.episode as episode\n",
    "\n",
    "episode_data = list(episode.yieldEpisodeData(table))\n",
    "episode_data"
   ]
  },
  {
   "cell_type": "code",
   "execution_count": 6,
   "metadata": {},
   "outputs": [],
   "source": [
    "nfo_location_template = f\"./beautifulsoup-china-a-century-of-revolution/{series_data['title']}\""
   ]
  },
  {
   "cell_type": "code",
   "execution_count": 7,
   "metadata": {},
   "outputs": [],
   "source": [
    "for item in episode_data:\n",
    "    episode = item['episode']\n",
    "    year = item['year']\n",
    "    xml_tree = ET.getEpisodeDetailsXmlTree(item['title'], item['plot'])\n",
    "    ET.writeEpisodeDetailsXml(nfo_location_template, episode, year, xml_tree)\n"
   ]
  },
  {
   "cell_type": "markdown",
   "metadata": {},
   "source": [
    "@[BryanWilhite](https://twitter.com/BryanWilhite)\n"
   ]
  }
 ],
 "metadata": {
  "kernelspec": {
   "display_name": "Python 3.7.13 ('base')",
   "language": "python",
   "name": "python3"
  },
  "language_info": {
   "codemirror_mode": {
    "name": "ipython",
    "version": 3
   },
   "file_extension": ".py",
   "mimetype": "text/x-python",
   "name": "python",
   "nbconvert_exporter": "python",
   "pygments_lexer": "ipython3",
   "version": "3.7.13"
  },
  "orig_nbformat": 4,
  "vscode": {
   "interpreter": {
    "hash": "2248ed64bdf5fe1d2cc35d4639eff9d9517212412e82087913ac56aa4ab59c78"
   }
  }
 },
 "nbformat": 4,
 "nbformat_minor": 2
}
