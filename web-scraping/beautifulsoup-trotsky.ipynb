{
 "cells": [
  {
   "cell_type": "markdown",
   "metadata": {},
   "source": [
    "# Trotsky\n",
    "\n",
    "<https://thetvdb.com/series/trotsky>\n",
    "\n",
    "![Trotsky Banner](https://artworks.thetvdb.com/banners/graphical/5c8de44196ea4.jpg)\n"
   ]
  },
  {
   "cell_type": "markdown",
   "metadata": {},
   "source": [
    "These notes preserve my memories of auto-generating [Kodi](https://kodi.tv/) [[GitHub](https://github.com/xbmc)] `tvshow` and `episodedetails` XML files in `*.nfo` formats.\n",
    "\n",
    "This `*.nfo` format is kind of covered in the following documents:\n",
    "\n",
    "- [NFO files](https://kodi.wiki/view/NFO_files)\n",
    "- [NFO files/TV shows](https://kodi.wiki/view/NFO_files/TV_shows)\n",
    "- [NFO files/Episodes](https://kodi.wiki/view/NFO_files/Episodes)\n"
   ]
  },
  {
   "cell_type": "code",
   "execution_count": 1,
   "metadata": {},
   "outputs": [],
   "source": [
    "from IPython.core.display import display, HTML\n",
    "\n",
    "import songhay.utilities.elementtree as ET\n",
    "import songhay.utilities.soup as bs\n",
    "\n",
    "import songhay.soup.thetvdb.series as series"
   ]
  },
  {
   "cell_type": "markdown",
   "metadata": {},
   "source": [
    "## generating `tvshow` data\n"
   ]
  },
  {
   "cell_type": "code",
   "execution_count": 2,
   "metadata": {},
   "outputs": [],
   "source": [
    "from tokenize import String\n",
    "\n",
    "\n",
    "series_location = 'https://thetvdb.com/series/trotsky'\n",
    "series_soup = bs.getSoup(series_location)\n",
    "series_basic_info = dict(series.yieldSeriesBasicInfo(series_soup))\n",
    "\n",
    "series_data = dict(\n",
    "    uniqueids=[\n",
    "        {\n",
    "            'type': 'tvdb',\n",
    "            'uniqueid': 'series/trotsky'\n",
    "        },\n",
    "        {\n",
    "            'type': 'imdb',\n",
    "            'uniqueid': 'tt7599132'\n",
    "        },\n",
    "    ],\n",
    "    title=series.getSeriesTitle(series_soup),\n",
    "    plot=series.getSeriesPlot(series_soup),\n",
    "    thumbs=[\n",
    "        {\n",
    "            'aspect': 'banner',\n",
    "            'dim': None,\n",
    "            'season': None,\n",
    "            'src': 'https://artworks.thetvdb.com/banners/graphical/5c8de44196ea4.jpg'\n",
    "        },\n",
    "        {\n",
    "            'aspect': 'poster',\n",
    "            'dim': None,\n",
    "            'season': None, # maps to the top-level movie poster\n",
    "            'src': 'https://artworks.thetvdb.com/banners/posters/5b510d2263ec0.jpg'\n",
    "        },\n",
    "    ],\n",
    "    genres=series_basic_info['Genres'],\n",
    "    actors=list(series.yieldSeriesActors(series_soup))\n",
    ")\n",
    "\n",
    "ET.getTVShowXmlTree(series_data).write(\n",
    "    './beautifulsoup-trotsky/tvshow.nfo',\n",
    "    encoding='utf-8',\n",
    "    xml_declaration=True)"
   ]
  },
  {
   "cell_type": "markdown",
   "metadata": {},
   "source": [
    "## generating `episodedetails` data\n",
    "\n",
    "This title does not have episode data on `thetvdb.com` so we turn to `imdb.com`:"
   ]
  },
  {
   "cell_type": "code",
   "execution_count": 24,
   "metadata": {},
   "outputs": [
    {
     "data": {
      "text/plain": [
       "[{'episode': 'S01E01',\n",
       "  'title': 'Episode #1.1',\n",
       "  'plot': '1940, Mexico. Leon Trotsky, one of the leaders of the Russian revolution, is certain that Stalin will try to assassinate him. He decides to share his story with a young journalist, starting with how he adopted the surname Trotsky.',\n",
       "  'year': '2017'},\n",
       " {'episode': 'S01E02',\n",
       "  'title': 'Episode #1.2',\n",
       "  'plot': \"It's 1903. Trotsky wants to lead the revolution, but to become a leader he needs to defeat a number of opponents, including Vladimir Lenin. At the same time he gets involved with Natalya, a woman from a completely different social class.\",\n",
       "  'year': '2017'},\n",
       " {'episode': 'S01E03',\n",
       "  'title': 'Episode #1.3',\n",
       "  'plot': \"It's 1905. The working class is angry and the revolution seems imminent. Despite the general eagerness to fight, Trotsky believes it's too soon for the revolution to be successful.\",\n",
       "  'year': '2017'},\n",
       " {'episode': 'S01E04',\n",
       "  'title': 'Episode #1.4',\n",
       "  'plot': \"It's 1917. After spending a number of years in Europe, Trotsky comes back to Russia with Natalya and their children. They have to deal with strong antisemitism. In 1940 Trotsky is visited by Frida Kahlo.\",\n",
       "  'year': '2017'},\n",
       " {'episode': 'S01E05',\n",
       "  'title': 'Episode #1.5',\n",
       "  'plot': \"It's 1917. Trotsky is visited by his first wife and their two daughters. At the same time he is working to discredit Lenin and planning the revolution.\",\n",
       "  'year': '2017'},\n",
       " {'episode': 'S01E06',\n",
       "  'title': 'Episode #1.6',\n",
       "  'plot': 'December 1917. As the Minister of Foreign Affairs, Trotsky is in charge of negotiating peace with Germany.',\n",
       "  'year': '2017'},\n",
       " {'episode': 'S01E07',\n",
       "  'title': 'Episode #1.7',\n",
       "  'plot': '1918. In order to keep the Bolsheviks in power, Trotsky uses increasingly drastic measures, including reinstatement of the death penalty.',\n",
       "  'year': '2017'},\n",
       " {'episode': 'S01E08',\n",
       "  'title': 'Episode #1.8',\n",
       "  'plot': 'Early 1920s. As the oppression towards the opposition becomes more brutal, Trotsky believes a more gentle approach is needed. He is supported by Lenin, but Stalin disagrees with them and is willing to kill everyone standing in his way.',\n",
       "  'year': '2017'}]"
      ]
     },
     "execution_count": 24,
     "metadata": {},
     "output_type": "execute_result"
    }
   ],
   "source": [
    "episode_location = 'https://www.imdb.com/title/tt7599132/episodes?ref_=tt_eps_sm'\n",
    "\n",
    "episode_soup = bs.getSoup(episode_location)\n",
    "\n",
    "def yieldImdbEpisodeData(soup):\n",
    "    div = soup.select_one('div.list.detail.eplist')\n",
    "    div_items = div.find_all('div', { 'class': 'list_item' })\n",
    "    for item in div_items:\n",
    "        div_info = item.select_one('div.info')\n",
    "\n",
    "        episode_number = div_info.select_one('meta')['content']\n",
    "        episode = f'S01E0{episode_number}'\n",
    "        title = div_info.strong.a.string\n",
    "        year = div_info.select_one('div.airdate').string.strip().split(' ')[-1]\n",
    "        plot = div_info.select_one('div.item_description').string.strip()\n",
    "\n",
    "        yield {\n",
    "            'episode' : episode,\n",
    "            'title': title,\n",
    "            'plot': plot,\n",
    "            'year': year\n",
    "        }\n",
    "\n",
    "episode_data = list(yieldImdbEpisodeData(episode_soup))\n",
    "episode_data"
   ]
  },
  {
   "cell_type": "code",
   "execution_count": 25,
   "metadata": {},
   "outputs": [],
   "source": [
    "nfo_location_template = f\"./beautifulsoup-trotsky/Trotsky\""
   ]
  },
  {
   "cell_type": "code",
   "execution_count": 26,
   "metadata": {},
   "outputs": [],
   "source": [
    "for item in episode_data:\n",
    "    episode = item['episode']\n",
    "    year = item['year']\n",
    "    xml_tree = ET.getEpisodeDetailsXmlTree(item['title'], item['plot'])\n",
    "    ET.writeEpisodeDetailsXml(nfo_location_template, episode, year, xml_tree)\n"
   ]
  },
  {
   "cell_type": "markdown",
   "metadata": {},
   "source": [
    "## subtitles\n",
    "\n",
    "[Subtitles](https://www.opensubtitles.org/en/ssearch/sublanguageid-all/idmovie-699887) for this title were available at `opensubtitles.org`."
   ]
  },
  {
   "cell_type": "markdown",
   "metadata": {},
   "source": [
    "@[BryanWilhite](https://twitter.com/BryanWilhite)\n"
   ]
  }
 ],
 "metadata": {
  "kernelspec": {
   "display_name": "Python 3.7.13 ('base')",
   "language": "python",
   "name": "python3"
  },
  "language_info": {
   "codemirror_mode": {
    "name": "ipython",
    "version": 3
   },
   "file_extension": ".py",
   "mimetype": "text/x-python",
   "name": "python",
   "nbconvert_exporter": "python",
   "pygments_lexer": "ipython3",
   "version": "3.7.13"
  },
  "orig_nbformat": 4,
  "vscode": {
   "interpreter": {
    "hash": "2248ed64bdf5fe1d2cc35d4639eff9d9517212412e82087913ac56aa4ab59c78"
   }
  }
 },
 "nbformat": 4,
 "nbformat_minor": 2
}
