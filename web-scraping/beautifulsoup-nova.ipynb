{
 "cells": [
  {
   "cell_type": "markdown",
   "metadata": {},
   "source": [
    "# Nova (1983)\n",
    "\n",
    "<https://thetvdb.com/series/nova>\n",
    "\n",
    "![Nova banner](https://artworks.thetvdb.com/banners/graphical/76119-g.jpg)\n"
   ]
  },
  {
   "cell_type": "markdown",
   "metadata": {},
   "source": [
    "These notes preserve my memories of auto-generating [Kodi](https://kodi.tv/) [[GitHub](https://github.com/xbmc)] `tvshow` and `episodedetails` XML files in `*.nfo` formats.\n",
    "\n",
    "This `*.nfo` format is kind of covered in the following documents:\n",
    "\n",
    "- [NFO files](https://kodi.wiki/view/NFO_files)\n",
    "- [NFO files/TV shows](https://kodi.wiki/view/NFO_files/TV_shows)\n",
    "- [NFO files/Episodes](https://kodi.wiki/view/NFO_files/Episodes)\n"
   ]
  },
  {
   "cell_type": "code",
   "execution_count": 1,
   "metadata": {},
   "outputs": [],
   "source": [
    "from IPython.display import display, HTML\n",
    "\n",
    "import songhay.utilities.elementtree as ET\n",
    "import songhay.utilities.soup as bs\n",
    "\n",
    "import songhay.soup.thetvdb.series as series"
   ]
  },
  {
   "cell_type": "markdown",
   "metadata": {},
   "source": [
    "## generating `tvshow` data\n"
   ]
  },
  {
   "cell_type": "code",
   "execution_count": 2,
   "metadata": {},
   "outputs": [],
   "source": [
    "series_location = 'https://thetvdb.com/series/nova'\n",
    "series_soup = bs.getSoup(series_location)\n",
    "\n",
    "series_basic_info = dict(series.yieldSeriesBasicInfo(series_soup))\n",
    "\n",
    "series_data = dict(\n",
    "    uniqueids=[\n",
    "        {\n",
    "            'type': 'tvdb',\n",
    "            'uniqueid': 'series/nova'\n",
    "        },\n",
    "        {\n",
    "            'type': 'imdb',\n",
    "            'uniqueid': 'tt0206501'\n",
    "        },\n",
    "    ],\n",
    "    title=series.getSeriesTitle(series_soup),\n",
    "    plot=series.getSeriesPlot(series_soup),\n",
    "    thumbs=[\n",
    "        {\n",
    "            'aspect': 'banner',\n",
    "            'dim': None,\n",
    "            'season': None,\n",
    "            'src': 'https://artworks.thetvdb.com/banners/graphical/76119-g.jpg'\n",
    "        },\n",
    "        {\n",
    "            'aspect': 'poster',\n",
    "            'dim': None,\n",
    "            'season': None, # maps to the top-level movie poster\n",
    "            'src': 'https://artworks.thetvdb.com/banners/posters/76119-1.jpg'\n",
    "        },\n",
    "        {\n",
    "            'aspect': 'fanart',\n",
    "            'dim': '1280x720',\n",
    "            'season': 1,\n",
    "            'src': 'https://artworks.thetvdb.com/banners/fanart/original/76119-2.jpg'\n",
    "        },\n",
    "    ],\n",
    "    genres=series_basic_info['Genres'],\n",
    "    actors=[]\n",
    ")\n",
    "\n",
    "ET.getTVShowXmlTree(series_data).write(\n",
    "    './beautifulsoup-nova/tvshow.nfo',\n",
    "    encoding='utf-8',\n",
    "    xml_declaration=True)"
   ]
  },
  {
   "cell_type": "markdown",
   "metadata": {},
   "source": [
    "## generating `episodedetails` data\n"
   ]
  },
  {
   "cell_type": "code",
   "execution_count": 3,
   "metadata": {},
   "outputs": [
    {
     "data": {
      "text/html": [
       "<table class=\"table table-bordered\">\n",
       "<thead>\n",
       "<tr>\n",
       "<th width=\"15%\"></th>\n",
       "<th>Name</th>\n",
       "<th width=\"30%\">First Aired</th>\n",
       "<th width=\"15%\">Runtime</th>\n",
       "<th width=\"10%\">Image</th>\n",
       "</tr>\n",
       "</thead>\n",
       "<tbody>\n",
       "<tr>\n",
       "<td>S51E01</td>\n",
       "<td>\n",
       "<a href=\"/series/nova/episodes/10198466\">\r\n",
       "                                        When Whales Could Walk\r\n",
       "                                    </a>\n",
       "</td>\n",
       "<td>\n",
       "<div>January 31, 2024</div>\n",
       "</td>\n",
       "<td>\r\n",
       "                                                                            56\r\n",
       "                                                                    </td>\n",
       "<td>\n",
       "<i aria-hidden=\"true\" class=\"fa fa-picture-o\"></i>\n",
       "</td>\n",
       "</tr>\n",
       "<tr>\n",
       "<td>S51E02</td>\n",
       "<td>\n",
       "<a href=\"/series/nova/episodes/10198467\">\r\n",
       "                                        Easter Island Origins\r\n",
       "                                    </a>\n",
       "</td>\n",
       "<td>\n",
       "<div>February 7, 2024</div>\n",
       "</td>\n",
       "<td>\r\n",
       "                                                                            56\r\n",
       "                                                                    </td>\n",
       "<td>\n",
       "<i aria-hidden=\"true\" class=\"fa fa-picture-o\"></i>\n",
       "</td>\n",
       "</tr>\n",
       "<tr>\n",
       "<td>S51E03</td>\n",
       "<td>\n",
       "<a href=\"/series/nova/episodes/10232481\">\r\n",
       "                                        Building the Eiffel Tower\r\n",
       "                                    </a>\n",
       "</td>\n",
       "<td>\n",
       "<div>February 14, 2024</div>\n",
       "</td>\n",
       "<td>\r\n",
       "                                                                            56\r\n",
       "                                                                    </td>\n",
       "<td>\n",
       "<i aria-hidden=\"true\" class=\"fa fa-picture-o\"></i>\n",
       "</td>\n",
       "</tr>\n",
       "<tr>\n",
       "<td>S51E04</td>\n",
       "<td>\n",
       "<a href=\"/series/nova/episodes/10232483\">\r\n",
       "                                        Hunt for the Oldest DNA\r\n",
       "                                    </a>\n",
       "</td>\n",
       "<td>\n",
       "<div>February 21, 2024</div>\n",
       "</td>\n",
       "<td>\r\n",
       "                                                                            56\r\n",
       "                                                                    </td>\n",
       "<td>\n",
       "<i aria-hidden=\"true\" class=\"fa fa-picture-o\"></i>\n",
       "</td>\n",
       "</tr>\n",
       "<tr>\n",
       "<td>S51E05</td>\n",
       "<td>\n",
       "<a href=\"/series/nova/episodes/10308926\">\r\n",
       "                                        A.I. Revolution\r\n",
       "                                    </a>\n",
       "</td>\n",
       "<td>\n",
       "<div>March 27, 2024</div>\n",
       "</td>\n",
       "<td>\r\n",
       "                                                                            56\r\n",
       "                                                                    </td>\n",
       "<td>\n",
       "<i aria-hidden=\"true\" class=\"fa fa-picture-o\"></i>\n",
       "</td>\n",
       "</tr>\n",
       "<tr>\n",
       "<td>S51E06</td>\n",
       "<td>\n",
       "<a href=\"/series/nova/episodes/10308927\">\r\n",
       "                                        Great American Eclipse\r\n",
       "                                    </a>\n",
       "</td>\n",
       "<td>\n",
       "<div>April 3, 2024</div>\n",
       "</td>\n",
       "<td>\r\n",
       "                                                                            56\r\n",
       "                                                                    </td>\n",
       "<td>\n",
       "<i aria-hidden=\"true\" class=\"fa fa-picture-o\"></i>\n",
       "</td>\n",
       "</tr>\n",
       "<tr>\n",
       "<td>S51E07</td>\n",
       "<td>\n",
       "<a href=\"/series/nova/episodes/10408412\">\r\n",
       "                                        Secrets in Your Data\r\n",
       "                                    </a>\n",
       "</td>\n",
       "<td>\n",
       "<div>May 15, 2024</div>\n",
       "</td>\n",
       "<td>\r\n",
       "                                                                            56\r\n",
       "                                                                    </td>\n",
       "<td>\n",
       "<i aria-hidden=\"true\" class=\"fa fa-picture-o\"></i>\n",
       "</td>\n",
       "</tr>\n",
       "<tr>\n",
       "<td>S51E08</td>\n",
       "<td>\n",
       "<a href=\"/series/nova/episodes/10408413\">\r\n",
       "                                        Decoding the Universe: Cosmos\r\n",
       "                                    </a>\n",
       "</td>\n",
       "<td>\n",
       "<div>May 22, 2024</div>\n",
       "<div>PBS</div>\n",
       "</td>\n",
       "<td>\r\n",
       "                                                                            56\r\n",
       "                                                                    </td>\n",
       "<td>\n",
       "<i aria-hidden=\"true\" class=\"fa fa-picture-o\"></i>\n",
       "</td>\n",
       "</tr>\n",
       "</tbody>\n",
       "</table>"
      ],
      "text/plain": [
       "<IPython.core.display.HTML object>"
      ]
     },
     "metadata": {},
     "output_type": "display_data"
    }
   ],
   "source": [
    "episode_location = 'https://thetvdb.com/series/nova/seasons/official/51'\n",
    "\n",
    "dvd_episode_soup = bs.getSoup(episode_location)\n",
    "table = dvd_episode_soup.find('table')\n",
    "\n",
    "display(HTML(table.decode()))"
   ]
  },
  {
   "cell_type": "code",
   "execution_count": 4,
   "metadata": {},
   "outputs": [
    {
     "data": {
      "text/plain": [
       "[{'episode': 'S51E01',\n",
       "  'title': 'When Whales Could Walk',\n",
       "  'plot': 'In Egypt’s Sahara Desert, massive skeletons with strange skulls and gigantic teeth jut out from the sandy ground. This fossil graveyard, millions of years old, is known as the “Valley of the Whales.” Now, paleontologists have unearthed a whole new species of ancient whale dating to 43 million years ago, and this predator wasn’t just able to swim – it also had four legs and could walk. Follow scientists as they search for new clues to the winding evolutionary path of mammals that moved from the land into the sea to become the largest animals on Earth.',\n",
       "  'year': '2024'},\n",
       " {'episode': 'S51E02',\n",
       "  'title': 'Easter Island Origins',\n",
       "  'plot': 'How were the giant stone heads of Rapa Nui–also known as Easter Island–carved and raised, and why? Since Europeans arrived on this remote Pacific island over 300 years ago, controversy has swirled around the iconic ancient statues and the history of the people who created them. Now, a new generation of researchers is overturning old theories, revealing the rich history, innovation, and resilience of the Rapanui people, and uncovering intriguing new evidence about where they–and their practice of monumental stone building–came from.',\n",
       "  'year': '2024'},\n",
       " {'episode': 'S51E03',\n",
       "  'title': 'Building the Eiffel Tower',\n",
       "  'plot': 'Explore the revolutionary engineering behind Paris’s iconic landmark. Completed in just over two years for the 1889 World’s Fair, the iron tower smashed the record for the tallest structure on Earth, ushering in a new age of global construction that reached for the skies. How did the engineers do it? Follow the innovations, successes, and failures that made one of the most famous buildings on the planet possible.',\n",
       "  'year': '2024'},\n",
       " {'episode': 'S51E04',\n",
       "  'title': 'Hunt for the Oldest DNA',\n",
       "  'plot': 'For decades, scientists have tried to unlock the secrets of ancient DNA. But life’s genetic blueprint is incredibly fragile, and researchers have struggled to find DNA in fossils that could survive millions of years. Then, one maverick scientist had the controversial idea to look for DNA not in fossils or frozen ancient tissue – but in dirt. Join the hunt as scientists decipher the oldest DNA ever found, and reveal for the first time the genes of long-extinct creatures that once thrived in a warm, lush Arctic.',\n",
       "  'year': '2024'},\n",
       " {'episode': 'S51E05',\n",
       "  'title': 'A.I. Revolution',\n",
       "  'plot': 'A.I. tools like ChatGPT seem to think, speak, and create like humans. But what are they really doing? From cancer cures to Terminator-style takeovers, leading experts explore what A.I. can – and can’t – do today, and what lies ahead.',\n",
       "  'year': '2024'},\n",
       " {'episode': 'S51E06',\n",
       "  'title': 'Great American Eclipse',\n",
       "  'plot': 'Explore the spectacular cosmic phenomenon of a total solar eclipse.',\n",
       "  'year': '2024'},\n",
       " {'episode': 'S51E07',\n",
       "  'title': 'Secrets in Your Data',\n",
       "  'plot': 'Whether you’re on social media or surfing the web, you’re sharing more personal data than you realize.',\n",
       "  'year': '2024'},\n",
       " {'episode': 'S51E08',\n",
       "  'title': 'Decoding the Universe: Cosmos',\n",
       "  'plot': 'How big is the universe? If it began with the Big Bang, will it also have an end? Is there life beyond our planet?',\n",
       "  'year': '2024'}]"
      ]
     },
     "execution_count": 4,
     "metadata": {},
     "output_type": "execute_result"
    }
   ],
   "source": [
    "import songhay.soup.thetvdb.episode as episode\n",
    "\n",
    "episode_data = list(episode.yieldEpisodeData(table))\n",
    "episode_data"
   ]
  },
  {
   "cell_type": "code",
   "execution_count": 5,
   "metadata": {},
   "outputs": [],
   "source": [
    "nfo_location_template = f\"./beautifulsoup-nova/{series_data['title']}\""
   ]
  },
  {
   "cell_type": "code",
   "execution_count": 6,
   "metadata": {},
   "outputs": [],
   "source": [
    "for item in episode_data:\n",
    "    episode = item['episode']\n",
    "    year = item['year']\n",
    "    xml_tree = ET.getEpisodeDetailsXmlTree(item['title'], item['plot'])\n",
    "    ET.writeEpisodeDetailsXml(nfo_location_template, episode, year, xml_tree)\n"
   ]
  },
  {
   "cell_type": "markdown",
   "metadata": {},
   "source": [
    "[Bryan Wilhite is on LinkedIn](https://www.linkedin.com/in/wilhite)🇺🇸💼\n"
   ]
  }
 ],
 "metadata": {
  "kernelspec": {
   "display_name": "Python 3.7.13 ('base')",
   "language": "python",
   "name": "python3"
  },
  "language_info": {
   "codemirror_mode": {
    "name": "ipython",
    "version": 3
   },
   "file_extension": ".py",
   "mimetype": "text/x-python",
   "name": "python",
   "nbconvert_exporter": "python",
   "pygments_lexer": "ipython3",
   "version": "3.8.13"
  },
  "orig_nbformat": 4,
  "vscode": {
   "interpreter": {
    "hash": "2248ed64bdf5fe1d2cc35d4639eff9d9517212412e82087913ac56aa4ab59c78"
   }
  }
 },
 "nbformat": 4,
 "nbformat_minor": 2
}
