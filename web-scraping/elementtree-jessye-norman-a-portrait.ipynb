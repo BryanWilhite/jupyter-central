{
 "cells": [
  {
   "cell_type": "markdown",
   "metadata": {},
   "source": [
    "# Jessye Norman: A Portrait (2008)\n",
    "\n",
    "This title apparently went straight to DVD:\n",
    "\n",
    "<https://www.worldcat.org/title/243610896>\n"
   ]
  },
  {
   "cell_type": "code",
   "execution_count": 1,
   "metadata": {},
   "outputs": [],
   "source": [
    "from IPython.core.display import display, HTML\n",
    "\n",
    "import songhay.utilities.elementtree as ET"
   ]
  },
  {
   "cell_type": "markdown",
   "metadata": {},
   "source": [
    "## generating `movie` data\n"
   ]
  },
  {
   "cell_type": "code",
   "execution_count": 5,
   "metadata": {},
   "outputs": [],
   "source": [
    "movie_data = dict(\n",
    "    uniqueids=[\n",
    "        {\n",
    "            'type': 'worldcat.org',\n",
    "            'uniqueid': '243610896'\n",
    "        },\n",
    "    ],\n",
    "    title='Jessye Norman: A Portrait',\n",
    "    plot=\"\"\"\n",
    "An intimate and in-depth portrait of one of the world’s greatest sopranos, a true primadonna assoluta!\n",
    "\n",
    "Yves Saint Laurent’s garden paradise in Marrakech provides the lush, tropical background for this deep insight into Jessye Norman’s professional and private life. Filmed by German film maker André Heller this DVD gives a deeply personal and emotional portrait of one of opera’s most respected exponents.\n",
    "\n",
    "The film also includes 13 specially staged performances in fantastical settings of her repertoire, of pieces by Mozart, Richard Strauss, Schoenberg, Ravel, Schumann, Mahler, Wagner, Purcell and Schubert and Berg. The performances give a beautiful and unique look at the artistic world of this very special diva.\n",
    "\"\"\",\n",
    "    thumbs=[\n",
    "        {\n",
    "            'aspect': 'poster',\n",
    "            'dim': None,\n",
    "            'season': None, # maps to the top-level movie poster\n",
    "            'src': './poster.jpg'\n",
    "        },\n",
    "    ],\n",
    "    genre='drama',\n",
    "    country='Marrakech',\n",
    "    director='André Heller',\n",
    "    year='2008',\n",
    "    actors=[{\n",
    "        'name': 'Jessye Norman',\n",
    "        'role': 'herself',\n",
    "        'src': 'https://upload.wikimedia.org/wikipedia/commons/thumb/a/a2/Jessye_Norman-_In_Conversation_with_Tom_Hall_%2815977754135%29_%28cropped%29.jpg/1024px-Jessye_Norman-_In_Conversation_with_Tom_Hall_%2815977754135%29_%28cropped%29.jpg'\n",
    "    }]\n",
    ")\n",
    "\n",
    "ET.getMovieXmlTree(movie_data).write(\n",
    "    f'./elementtree-jessye-norman-a-portrait/{movie_data[\"title\"].replace(\":\", \" -\")} ({movie_data[\"year\"]}).nfo',\n",
    "    encoding='utf-8',\n",
    "    xml_declaration=True)"
   ]
  }
 ],
 "metadata": {
  "kernelspec": {
   "display_name": "Python 3.7.13 ('base')",
   "language": "python",
   "name": "python3"
  },
  "language_info": {
   "codemirror_mode": {
    "name": "ipython",
    "version": 3
   },
   "file_extension": ".py",
   "mimetype": "text/x-python",
   "name": "python",
   "nbconvert_exporter": "python",
   "pygments_lexer": "ipython3",
   "version": "3.7.13"
  },
  "orig_nbformat": 4,
  "vscode": {
   "interpreter": {
    "hash": "2248ed64bdf5fe1d2cc35d4639eff9d9517212412e82087913ac56aa4ab59c78"
   }
  }
 },
 "nbformat": 4,
 "nbformat_minor": 2
}
