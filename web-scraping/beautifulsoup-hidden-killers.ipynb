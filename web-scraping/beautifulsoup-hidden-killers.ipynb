{
 "cells": [
  {
   "cell_type": "markdown",
   "metadata": {},
   "source": [
    "# Hidden Killers (2013)\n",
    "\n",
    "<https://thetvdb.com/series/hidden-killers>\n",
    "\n",
    "![Hidden Killers banner](https://artworks.thetvdb.com/banners/graphical/276149-g.jpg)\n"
   ]
  },
  {
   "cell_type": "markdown",
   "metadata": {},
   "source": [
    "These notes preserve my memories of auto-generating [Kodi](https://kodi.tv/) [[GitHub](https://github.com/xbmc)] `tvshow` and `episodedetails` XML files in `*.nfo` formats.\n",
    "\n",
    "This `*.nfo` format is kind of covered in the following documents:\n",
    "\n",
    "- [NFO files](https://kodi.wiki/view/NFO_files)\n",
    "- [NFO files/TV shows](https://kodi.wiki/view/NFO_files/TV_shows)\n",
    "- [NFO files/Episodes](https://kodi.wiki/view/NFO_files/Episodes)\n"
   ]
  },
  {
   "cell_type": "code",
   "execution_count": 1,
   "metadata": {},
   "outputs": [],
   "source": [
    "from IPython.core.display import display, HTML\n",
    "\n",
    "import songhay.utilities.elementtree as ET\n",
    "import songhay.utilities.soup as bs\n",
    "\n",
    "import songhay.soup.thetvdb.series as series"
   ]
  },
  {
   "cell_type": "markdown",
   "metadata": {},
   "source": [
    "## generating `tvshow` data\n"
   ]
  },
  {
   "cell_type": "code",
   "execution_count": 2,
   "metadata": {},
   "outputs": [],
   "source": [
    "series_location = 'https://thetvdb.com/series/hidden-killers'\n",
    "series_soup = bs.getSoup(series_location)\n",
    "\n",
    "series_basic_info = dict(series.yieldSeriesBasicInfo(series_soup))\n",
    "\n",
    "series_data = dict(\n",
    "    uniqueids=[\n",
    "        {\n",
    "            'type': 'tvdb',\n",
    "            'uniqueid': 'series/hidden-killers'\n",
    "        },\n",
    "        {\n",
    "            'type': 'imdb',\n",
    "            'uniqueid': 'tt3495152'\n",
    "        },\n",
    "    ],\n",
    "    title=series.getSeriesTitle(series_soup).replace('New ', ''),\n",
    "    plot=series.getSeriesPlot(series_soup),\n",
    "    thumbs=[\n",
    "        {\n",
    "            'aspect': 'banner',\n",
    "            'dim': None,\n",
    "            'season': None,\n",
    "            'src': 'https://artworks.thetvdb.com/banners/graphical/276149-g.jpg'\n",
    "        },\n",
    "        {\n",
    "            'aspect': 'poster',\n",
    "            'dim': None,\n",
    "            'season': None, # maps to the top-level movie poster\n",
    "            'src': 'https://artworks.thetvdb.com/banners/posters/276149-2.jpg'\n",
    "        },\n",
    "        {\n",
    "            'aspect': 'fanart',\n",
    "            'dim': '1280x720',\n",
    "            'season': 1,\n",
    "            'src': 'https://artworks.thetvdb.com/banners/fanart/original/276149-1.jpg'\n",
    "        },\n",
    "    ],\n",
    "    genres=series_basic_info['Genres'],\n",
    "    actors=list(series.yieldSeriesActors(series_soup))\n",
    ")\n",
    "\n",
    "ET.getTVShowXmlTree(series_data).write(\n",
    "    './beautifulsoup-hidden-killers/tvshow.nfo',\n",
    "    encoding='utf-8',\n",
    "    xml_declaration=True)"
   ]
  },
  {
   "cell_type": "markdown",
   "metadata": {},
   "source": [
    "## generating `episodedetails` data\n"
   ]
  },
  {
   "cell_type": "code",
   "execution_count": 7,
   "metadata": {},
   "outputs": [
    {
     "data": {
      "text/html": [
       "<table class=\"table table-bordered\">\n",
       "<thead>\n",
       "<tr>\n",
       "<th width=\"15%\"></th>\n",
       "<th>Name</th>\n",
       "<th width=\"30%\">First Aired</th>\n",
       "<th width=\"15%\">Runtime</th>\n",
       "<th width=\"10%\">Image</th>\n",
       "</tr>\n",
       "</thead>\n",
       "<tbody>\n",
       "<tr>\n",
       "<td>S01E01</td>\n",
       "<td>\n",
       "<a href=\"/series/hidden-killers/episodes/6891015\">\r\n",
       "                                    The Victorian Home\r\n",
       "                                </a>\n",
       "</td>\n",
       "<td>\n",
       "<div>April 3, 2013</div>\n",
       "<div>BBC Four</div>\n",
       "</td>\n",
       "<td>\r\n",
       "                                                                    60\r\n",
       "                                                            </td>\n",
       "<td>\n",
       "<i aria-hidden=\"true\" class=\"fa fa-picture-o\"></i>\n",
       "</td>\n",
       "</tr>\n",
       "<tr>\n",
       "<td>S01E02</td>\n",
       "<td>\n",
       "<a href=\"/series/hidden-killers/episodes/5937624\">\r\n",
       "                                    New Hidden Killers of the Victorian Home\r\n",
       "                                </a>\n",
       "</td>\n",
       "<td>\n",
       "<div>December 10, 2013</div>\n",
       "<div>BBC Four</div>\n",
       "</td>\n",
       "<td>\r\n",
       "                                                                    60\r\n",
       "                                                            </td>\n",
       "<td>\n",
       "<i aria-hidden=\"true\" class=\"fa fa-picture-o\"></i>\n",
       "</td>\n",
       "</tr>\n",
       "<tr>\n",
       "<td>S01E03</td>\n",
       "<td>\n",
       "<a href=\"/series/hidden-killers/episodes/4917453\">\r\n",
       "                                    The Edwardian Home\r\n",
       "                                </a>\n",
       "<div class=\"small text-muted\">season finale</div>\n",
       "</td>\n",
       "<td>\n",
       "<div>December 17, 2013</div>\n",
       "<div>BBC Four</div>\n",
       "</td>\n",
       "<td>\r\n",
       "                                                                    60\r\n",
       "                                                            </td>\n",
       "<td>\n",
       "<i aria-hidden=\"true\" class=\"fa fa-picture-o\"></i>\n",
       "</td>\n",
       "</tr>\n",
       "</tbody>\n",
       "</table>"
      ],
      "text/plain": [
       "<IPython.core.display.HTML object>"
      ]
     },
     "metadata": {},
     "output_type": "display_data"
    }
   ],
   "source": [
    "episode_location = 'https://thetvdb.com/series/hidden-killers/seasons/official/1'\n",
    "\n",
    "dvd_episode_soup = bs.getSoup(episode_location)\n",
    "table = dvd_episode_soup.find('table')\n",
    "\n",
    "display(HTML(table.decode()))"
   ]
  },
  {
   "cell_type": "code",
   "execution_count": 8,
   "metadata": {},
   "outputs": [
    {
     "data": {
      "text/plain": [
       "[{'episode': 'S01E01',\n",
       "  'title': 'The Victorian Home',\n",
       "  'plot': 'While the Victorians confronted the challenges of ruling an empire, perhaps the most dangerous environment they faced was in their own homes. Householders lapped up the latest products, gadgets and conveniences, but in an era with no health and safety standards they were unwittingly turning their homes into hazardous death traps.\\r\\n\\r\\nIn a genuine horror story, Dr Suzannah Lipscomb reveals the killers that lurked in every room of the Victorian home and shows how they were unmasked. What new innovation killed thousands of babies? And what turned the domestic haven into a ticking time bomb?',\n",
       "  'year': '2013'},\n",
       " {'episode': 'S01E02',\n",
       "  'title': 'New Hidden Killers of the Victorian Home',\n",
       "  'plot': \"Suzannah Lipscomb takes us back to the late Victorian era when cities were expanding and mass consumerism took hold. But from the food they ate to the clothes they wore and the new products that thrilled them, the Victorians were surrounding themselves with killers. What made taking a bath and drinking milk potentially so dangerous? And how did the Victorian woman turn herself into a walking fire hazard?\\r\\n\\r\\nThe domestic horrors of home life in the 19th century and the terrible consequences are laid bare, revealing how the Victorian ideal of 'safe as houses' was far from the reality.\\r\\nIn a genuine horror story, Dr Suzannah Lipscomb reveals the killers that lurked in every room of the Victorian home and shows how they were unmasked. What new innovation killed thousands of babies? And what turned the domestic haven into a ticking time bomb?\",\n",
       "  'year': '2013'},\n",
       " {'episode': 'S01E03',\n",
       "  'title': 'The Edwardian Home',\n",
       "  'plot': \"The dawn of the 20th century and the reign of a new king ushered in an era of fresh inventions and innovations that transformed the way we lived. Electricity, refrigeration and a whole host of different materials promised to make life at home brighter, easier and more convenient. But a lack of understanding of the potential hazards meant that they frequently led to terrible accidents, horrendous injuries and even death.\\r\\n\\r\\nDr Suzannah Lipscomb takes us back to an age when asbestos socks and radioactive toothpaste were welcomed into British homes. She reveals how their lethal qualities were discovered and why some of us are still living with the consequences of our Edwardian forebears' enthusiasm for untried and untested products.\",\n",
       "  'year': '2013'}]"
      ]
     },
     "execution_count": 8,
     "metadata": {},
     "output_type": "execute_result"
    }
   ],
   "source": [
    "import songhay.soup.thetvdb.episode as episode\n",
    "\n",
    "episode_data = list(episode.yieldEpisodeData(table))\n",
    "episode_data"
   ]
  },
  {
   "cell_type": "code",
   "execution_count": 9,
   "metadata": {},
   "outputs": [],
   "source": [
    "nfo_location_template = f\"./beautifulsoup-hidden-killers/{series_data['title']}\""
   ]
  },
  {
   "cell_type": "code",
   "execution_count": 10,
   "metadata": {},
   "outputs": [],
   "source": [
    "for item in episode_data:\n",
    "    episode = item['episode']\n",
    "    year = item['year']\n",
    "    xml_tree = ET.getEpisodeDetailsXmlTree(item['title'], item['plot'])\n",
    "    ET.writeEpisodeDetailsXml(nfo_location_template, episode, year, xml_tree)\n"
   ]
  },
  {
   "cell_type": "markdown",
   "metadata": {},
   "source": [
    "[Bryan Wilhite is on LinkedIn](https://www.linkedin.com/in/wilhite)🇺🇸💼\n"
   ]
  }
 ],
 "metadata": {
  "kernelspec": {
   "display_name": "Python 3.7.13 ('base')",
   "language": "python",
   "name": "python3"
  },
  "language_info": {
   "codemirror_mode": {
    "name": "ipython",
    "version": 3
   },
   "file_extension": ".py",
   "mimetype": "text/x-python",
   "name": "python",
   "nbconvert_exporter": "python",
   "pygments_lexer": "ipython3",
   "version": "3.7.13"
  },
  "orig_nbformat": 4,
  "vscode": {
   "interpreter": {
    "hash": "2248ed64bdf5fe1d2cc35d4639eff9d9517212412e82087913ac56aa4ab59c78"
   }
  }
 },
 "nbformat": 4,
 "nbformat_minor": 2
}
